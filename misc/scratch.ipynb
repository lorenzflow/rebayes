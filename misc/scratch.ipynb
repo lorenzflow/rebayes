{
 "cells": [
  {
   "attachments": {},
   "cell_type": "markdown",
   "id": "f03c2a53",
   "metadata": {},
   "source": [
    "# Setup"
   ]
  },
  {
   "cell_type": "code",
   "execution_count": 1,
   "id": "18dce2ad",
   "metadata": {},
   "outputs": [
    {
     "name": "stdout",
     "output_type": "stream",
     "text": [
      "[CpuDevice(id=0)]\n"
     ]
    },
    {
     "name": "stderr",
     "output_type": "stream",
     "text": [
      "<frozen importlib._bootstrap>:219: RuntimeWarning: scipy._lib.messagestream.MessageStream size changed, may indicate binary incompatibility. Expected 56 from C header, got 64 from PyObject\n",
      "/opt/anaconda3/lib/python3.8/site-packages/flax/struct.py:132: FutureWarning: jax.tree_util.register_keypaths is deprecated, and will be removed in a future release. Please use `register_pytree_with_keys()` instead.\n",
      "  jax.tree_util.register_keypaths(data_clz, keypaths)\n",
      "/opt/anaconda3/lib/python3.8/site-packages/flax/struct.py:132: FutureWarning: jax.tree_util.register_keypaths is deprecated, and will be removed in a future release. Please use `register_pytree_with_keys()` instead.\n",
      "  jax.tree_util.register_keypaths(data_clz, keypaths)\n"
     ]
    }
   ],
   "source": [
    "import jax\n",
    "print(jax.devices())#\n",
    "import chex\n",
    "import optax\n",
    "import jax.numpy as jnp\n",
    "import jax.random as jr\n",
    "from jax import lax, jacfwd, vmap, grad, jit\n",
    "from jax.tree_util import tree_map, tree_reduce\n",
    "from jax.flatten_util import ravel_pytree\n",
    "\n",
    "import flax\n",
    "import flax.linen as nn\n",
    "import haiku as hk\n",
    "\n",
    "from tensorflow_probability.substrates import jax as tfp\n",
    "from tensorflow_probability.substrates.jax.distributions import MultivariateNormalFullCovariance as MVN\n",
    "\n",
    "\n",
    "import matplotlib.pyplot as plt\n",
    "import matplotlib.cm as cm\n",
    "from dataclasses import dataclass\n",
    "from collections import namedtuple\n",
    "from itertools import cycle\n",
    "from typing import Callable, NamedTuple, Union, Tuple, Any\n",
    "from functools import partial\n",
    "#from jaxtyping import Float, Array\n"
   ]
  }
 ],
 "metadata": {
  "kernelspec": {
   "display_name": "Python 3 (ipykernel)",
   "language": "python",
   "name": "python3"
  },
  "language_info": {
   "codemirror_mode": {
    "name": "ipython",
    "version": 3
   },
   "file_extension": ".py",
   "mimetype": "text/x-python",
   "name": "python",
   "nbconvert_exporter": "python",
   "pygments_lexer": "ipython3",
   "version": "3.8.5"
  }
 },
 "nbformat": 4,
 "nbformat_minor": 5
}
