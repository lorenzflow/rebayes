{
 "cells": [
  {
   "cell_type": "markdown",
   "id": "851f8328-6228-435a-9cd8-585ad8ba15dc",
   "metadata": {},
   "source": [
    "# Subspace EKF"
   ]
  },
  {
   "cell_type": "code",
   "execution_count": 132,
   "id": "008e9c4c-7b1d-402f-86f7-27898dc9e8d5",
   "metadata": {},
   "outputs": [],
   "source": [
    "import jax\n",
    "import numpy as np\n",
    "import jax.numpy as jnp\n",
    "import flax.linen as nn\n",
    "import matplotlib.pyplot as plt\n",
    "from tqdm import tqdm\n",
    "from typing import Callable\n",
    "from flax.training.train_state import TrainState\n",
    "from jax.flatten_util import ravel_pytree\n",
    "from rebayes.low_rank_filter import subspace_filter\n",
    "from functools import partial"
   ]
  },
  {
   "cell_type": "code",
   "execution_count": 3,
   "id": "4e3b5a73-41b1-4b23-9342-8d6d1410365c",
   "metadata": {},
   "outputs": [],
   "source": [
    "%load_ext autoreload\n",
    "%autoreload 2\n",
    "%config InlineBackend.figure_format = \"retina\""
   ]
  },
  {
   "cell_type": "code",
   "execution_count": 4,
   "id": "cb706767-4ee0-4606-b376-39ef18df5c4c",
   "metadata": {},
   "outputs": [],
   "source": [
    "import tensorflow_datasets as tfds\n",
    "\n",
    "def process_dataset(Xtr, Ytr, Xval, Yval, Xte, Yte, shuffle=False, oh_train=True, key=0):\n",
    "    if isinstance(key, int):\n",
    "        key = jax.random.PRNGKey(key)\n",
    "        \n",
    "    # Reshape data\n",
    "    Xtr = Xtr.reshape(-1, 1, 28, 28, 1)\n",
    "    if oh_train:\n",
    "        Ytr = jax.nn.one_hot(Ytr, 10) # one-hot encode labels\n",
    "    \n",
    "    # Shuffle data\n",
    "    if shuffle:\n",
    "        idx = jax.random.permutation(key, jnp.arange(len(Xtr)))\n",
    "        Xtr, Ytr = Xtr[idx], Ytr[idx]\n",
    "    \n",
    "    Xtr, Ytr, Xval, Yval, Xte, Yte = (jnp.array(data) for data in [Xtr, Ytr, Xval, Yval, Xte, Yte])\n",
    "    \n",
    "    dataset = {\n",
    "        'train':[jnp.array(d) for d in (Xtr, Ytr)],\n",
    "        'val': [jnp.array(d) for d in (Xval, Yval)],\n",
    "        'test': [jnp.array(d) for d in (Xte, Yte)],\n",
    "    }\n",
    "    \n",
    "    return dataset\n",
    "\n",
    "\n",
    "def load_mnist_dataset(fashion=False, n_train=None, n_val=None, n_test=None):\n",
    "    \"\"\"Load MNIST train and test datasets into memory.\"\"\"\n",
    "    dataset='mnist'\n",
    "    if fashion:\n",
    "        dataset='fashion_mnist'\n",
    "    ds_builder = tfds.builder(dataset)\n",
    "    ds_builder.download_and_prepare()\n",
    "    \n",
    "    train_ds = tfds.as_numpy(ds_builder.as_dataset(split='train[10%:]', batch_size=-1))\n",
    "    val_ds = tfds.as_numpy(ds_builder.as_dataset(split='train[:10%]', batch_size=-1))\n",
    "    test_ds = tfds.as_numpy(ds_builder.as_dataset(split='test', batch_size=-1))\n",
    "    \n",
    "    # Normalize pixel values\n",
    "    for ds in [train_ds, val_ds, test_ds]:\n",
    "        ds['image'] = np.float32(ds['image']) / 255.\n",
    "    \n",
    "    n_train = min(n_train, len(train_ds['image'])) if n_train else len(train_ds['image'])\n",
    "    n_val = min(n_val, len(val_ds['image'])) if n_val else len(val_ds['image'])\n",
    "    n_test = min(n_test, len(test_ds['image'])) if n_test else len(test_ds['image'])\n",
    "    \n",
    "    X_train, y_train = (jnp.array(train_ds[key][:n_train]) for key in ['image', 'label'])\n",
    "    X_val, y_val = (jnp.array(val_ds[key][:n_val]) for key in ['image', 'label'])\n",
    "    X_test, y_test = (jnp.array(test_ds[key][:n_test]) for key in ['image', 'label'])\n",
    "    \n",
    "    dataset = process_dataset(X_train, y_train, X_val, y_val, X_test, y_test, shuffle=True)\n",
    "        \n",
    "    return dataset"
   ]
  },
  {
   "cell_type": "code",
   "execution_count": 5,
   "id": "3fa2bf19-f20c-488a-9bfd-a26ba8873b46",
   "metadata": {},
   "outputs": [
    {
     "name": "stdout",
     "output_type": "stream",
     "text": [
      "The autoreload extension is already loaded. To reload it, use:\n",
      "  %reload_ext autoreload\n"
     ]
    }
   ],
   "source": [
    "%load_ext autoreload\n",
    "%autoreload 2"
   ]
  },
  {
   "cell_type": "markdown",
   "id": "4459d18f-dc4c-41f9-a500-f0268a63df72",
   "metadata": {},
   "source": [
    "## Subspace agent\n",
    "\n",
    "See [this issue](https://github.com/deepmind/optax/discussions/167) for implementation"
   ]
  },
  {
   "cell_type": "code",
   "execution_count": 11,
   "id": "2505869e-c80e-4659-86b5-e3558aedddf4",
   "metadata": {},
   "outputs": [],
   "source": [
    "import optax"
   ]
  },
  {
   "cell_type": "code",
   "execution_count": 12,
   "id": "ccfa413a-4874-400e-9446-d5479cc42dae",
   "metadata": {},
   "outputs": [],
   "source": [
    "def subcify(cls):\n",
    "    class SubspaceModule(nn.Module):\n",
    "        dim_in: int\n",
    "        dim_subspace: int\n",
    "        init_normal: Callable = nn.initializers.normal()\n",
    "        init_proj: Callable = nn.initializers.normal()\n",
    "\n",
    "\n",
    "        def init(self, rngs, *args, **kwargs):\n",
    "            # TODO: Add case \n",
    "            r1, r2 = jax.random.split(rngs, 2)\n",
    "            rngs_dict = {\"params\": r1, \"fixed\": r2}\n",
    "            \n",
    "            return nn.Module.init(self, rngs_dict, *args, **kwargs)\n",
    "\n",
    "        def setup(self):\n",
    "\n",
    "            key_dummy = jax.random.PRNGKey(0)\n",
    "            params = cls().init(key_dummy, jnp.ones((1, self.dim_in)))\n",
    "            params_all, reconstruct_fn = ravel_pytree(params)\n",
    "            \n",
    "            self.dim_full = len(params_all)\n",
    "            self.reconstruct_fn = reconstruct_fn\n",
    "            \n",
    "            self.subspace = self.param(\n",
    "                \"subspace\",\n",
    "                self.init_proj,\n",
    "                (self.dim_subspace,)\n",
    "            )\n",
    "\n",
    "            shape = (self.dim_full, self.dim_subspace)\n",
    "            init_fn = lambda shape: self.init_proj(self.make_rng(\"fixed\"), shape)\n",
    "            self.projection = self.variable(\"fixed\", \"P\", init_fn, shape).value\n",
    "\n",
    "            shape = (self.dim_full,)\n",
    "            init_fn = lambda shape: self.init_proj(self.make_rng(\"fixed\"), shape)\n",
    "            self.bias = self.variable(\"fixed\", \"b\", init_fn, shape).value\n",
    "\n",
    "        @nn.compact\n",
    "        def __call__(self, x):\n",
    "            params = self.projection @ self.subspace  + self.bias\n",
    "            params = self.reconstruct_fn(params)\n",
    "            return cls().apply(params, x)\n",
    "    \n",
    "    return SubspaceModule"
   ]
  },
  {
   "cell_type": "markdown",
   "id": "58755d38-abcd-4a0c-836e-dcbdc8275a4b",
   "metadata": {},
   "source": [
    "## MNSIT dataset"
   ]
  },
  {
   "cell_type": "code",
   "execution_count": 133,
   "id": "12f952cf-4cd8-4179-859f-4b69cf9cc336",
   "metadata": {},
   "outputs": [],
   "source": [
    "from rebayes.sgd_filter import sgd"
   ]
  },
  {
   "cell_type": "code",
   "execution_count": 134,
   "id": "528ae212-97ae-4f3e-ae2a-c3e40489473a",
   "metadata": {},
   "outputs": [],
   "source": [
    "X, y = dataset[\"train\"]\n",
    "Xtest, ytest = dataset[\"test\"]\n",
    "ytest = jax.nn.one_hot(ytest, 10)\n",
    "\n",
    "X = X.reshape(-1, 28 ** 2)\n",
    "Xtest = Xtest.reshape(-1, 28 ** 2)"
   ]
  },
  {
   "cell_type": "code",
   "execution_count": 140,
   "id": "8d271ddd-df5f-44e3-8a42-c39b6b94374d",
   "metadata": {},
   "outputs": [],
   "source": [
    "@subcify\n",
    "class SubNNet(nn.Module):\n",
    "    @nn.compact\n",
    "    def __call__(self, x):\n",
    "        x = nn.Dense(500)(x)\n",
    "        x = nn.elu(x)\n",
    "        x = nn.Dense(300)(x)\n",
    "        x = nn.elu(x)\n",
    "        x = nn.Dense(10)(x)\n",
    "        x = nn.softmax(x)\n",
    "        return x\n",
    "\n",
    "def lossfn(params, X, y, applyfn):\n",
    "    nsamples = len(X)\n",
    "    log_yhat = jnp.log(applyfn(params, X))\n",
    "    loss = -jnp.einsum(\"nk,nk\", y, log_yhat) / nsamples\n",
    "    return loss"
   ]
  },
  {
   "cell_type": "code",
   "execution_count": 141,
   "id": "53d31dfd-b551-4f08-baf7-a24ad78064b3",
   "metadata": {},
   "outputs": [
    {
     "data": {
      "text/plain": [
       "FrozenDict({\n",
       "    fixed: {\n",
       "        P: (545810, 100),\n",
       "        b: (545810,),\n",
       "    },\n",
       "    params: {\n",
       "        subspace: (100,),\n",
       "    },\n",
       "})"
      ]
     },
     "execution_count": 141,
     "metadata": {},
     "output_type": "execute_result"
    }
   ],
   "source": [
    "key = jax.random.PRNGKey(314)\n",
    "dim_in = 28 ** 2\n",
    "Xinit = jnp.ones((1, dim_in))\n",
    "model = SubNNet(dim_in, dim_subspace=100)\n",
    "params_init = model.init(key, Xinit)\n",
    "pfixed, psubspace_init = params_init[\"fixed\"], params_init[\"params\"]\n",
    "# params_init\n",
    "\n",
    "jax.tree_map(jnp.shape, params_init)"
   ]
  },
  {
   "cell_type": "code",
   "execution_count": 142,
   "id": "9712870b-451b-4867-87d1-8798be6c17ba",
   "metadata": {},
   "outputs": [],
   "source": [
    "def applyfn(psubspace, X):\n",
    "    pfull = {\n",
    "        \"fixed\": pfixed,\n",
    "        \"params\": psubspace\n",
    "    }\n",
    "    return model.apply(pfull, X)"
   ]
  },
  {
   "cell_type": "code",
   "execution_count": null,
   "id": "d95eff23-60f7-4691-a74b-b269884cf548",
   "metadata": {},
   "outputs": [],
   "source": [
    "%%time\n",
    "key = jax.random.PRNGKey(314)\n",
    "\n",
    "\n",
    "tx = optax.adam(1e-6)\n",
    "state = TrainState.create(apply_fn=applyfn,\n",
    "                          params=psubspace_init,\n",
    "                          tx=tx)\n",
    "\n",
    "state, losses = sgd.train_full(\n",
    "    key,\n",
    "    5000,\n",
    "    500,\n",
    "    state,\n",
    "    X[:10_000], y[:10_000],\n",
    "    lossfn,\n",
    "    Xtest[:1_000], ytest[:1_000]\n",
    ")\n",
    "losses = jax.tree_map(np.array, losses)"
   ]
  },
  {
   "cell_type": "code",
   "execution_count": null,
   "id": "a764a0e9-4fa3-42c0-8a25-23bab4ff217e",
   "metadata": {},
   "outputs": [],
   "source": [
    "ytest_hat = state.apply_fn(state.params, Xtest)\n",
    "(ytest.argmax(axis=1) == ytest_hat.argmax(axis=1)).mean()"
   ]
  },
  {
   "cell_type": "markdown",
   "id": "11065dbe-7711-4299-b12c-40d6c651e487",
   "metadata": {},
   "source": [
    "## Without subspace"
   ]
  },
  {
   "cell_type": "code",
   "execution_count": 123,
   "id": "bc62f62d-7ad0-420d-bd53-868573d4b56b",
   "metadata": {},
   "outputs": [],
   "source": [
    "class SubNNet(nn.Module):\n",
    "    @nn.compact\n",
    "    def __call__(self, x):\n",
    "        x = nn.Dense(500)(x)\n",
    "        x = nn.elu(x)\n",
    "        x = nn.Dense(300)(x)\n",
    "        x = nn.elu(x)\n",
    "        x = nn.Dense(10)(x)\n",
    "        x = nn.softmax(x)\n",
    "        return x"
   ]
  },
  {
   "cell_type": "code",
   "execution_count": 124,
   "id": "02aaa53a-9e88-48d4-99c7-d199c25effb5",
   "metadata": {},
   "outputs": [
    {
     "data": {
      "text/plain": [
       "FrozenDict({\n",
       "    params: {\n",
       "        Dense_0: {\n",
       "            bias: (500,),\n",
       "            kernel: (784, 500),\n",
       "        },\n",
       "        Dense_1: {\n",
       "            bias: (300,),\n",
       "            kernel: (500, 300),\n",
       "        },\n",
       "        Dense_2: {\n",
       "            bias: (10,),\n",
       "            kernel: (300, 10),\n",
       "        },\n",
       "    },\n",
       "})"
      ]
     },
     "execution_count": 124,
     "metadata": {},
     "output_type": "execute_result"
    }
   ],
   "source": [
    "key = jax.random.PRNGKey(314)\n",
    "dim_in = 28 ** 2\n",
    "Xinit = jnp.ones((1, dim_in))\n",
    "model = SubNNet()\n",
    "params_init = model.init(key, Xinit)\n",
    "\n",
    "jax.tree_map(jnp.shape, params_init)"
   ]
  },
  {
   "cell_type": "code",
   "execution_count": 126,
   "id": "6652ca2f-d7a2-440f-942e-363df5ac896a",
   "metadata": {},
   "outputs": [
    {
     "name": "stdout",
     "output_type": "stream",
     "text": [
      "CPU times: user 1min 11s, sys: 37.6 s, total: 1min 49s\n",
      "Wall time: 1min 46s\n"
     ]
    }
   ],
   "source": [
    "%%time\n",
    "key = jax.random.PRNGKey(314)\n",
    "\n",
    "\n",
    "tx = optax.adam(1e-6)\n",
    "state = TrainState.create(apply_fn=model.apply,\n",
    "                          params=params_init,\n",
    "                          tx=tx)\n",
    "\n",
    "state, losses = sgd.train_full(\n",
    "    key,\n",
    "    5000,\n",
    "    500,\n",
    "    state,\n",
    "    X[:10_000], y[:10_000],\n",
    "    lossfn,\n",
    "    Xtest[:1_000], ytest[:1_000]\n",
    ")\n",
    "losses = jax.tree_map(np.array, losses)"
   ]
  },
  {
   "cell_type": "code",
   "execution_count": 127,
   "id": "b866f479-38c1-4027-9017-6a8938506b03",
   "metadata": {},
   "outputs": [
    {
     "data": {
      "text/plain": [
       "Array(0.942, dtype=float32)"
      ]
     },
     "execution_count": 127,
     "metadata": {},
     "output_type": "execute_result"
    }
   ],
   "source": [
    "ytest_hat = state.apply_fn(state.params, Xtest)\n",
    "(ytest.argmax(axis=1) == ytest_hat.argmax(axis=1)).mean()"
   ]
  },
  {
   "cell_type": "code",
   "execution_count": 130,
   "id": "59f0e176-5521-49be-9d4c-7a9efdb322e6",
   "metadata": {},
   "outputs": [
    {
     "data": {
      "text/plain": [
       "[<matplotlib.lines.Line2D at 0x7f172c121540>]"
      ]
     },
     "execution_count": 130,
     "metadata": {},
     "output_type": "execute_result"
    },
    {
     "data": {
      "image/png": "[encoded data removed]",
      "text/plain": [
       "<Figure size 640x480 with 1 Axes>"
      ]
     },
     "metadata": {
      "image/png": {
       "height": 413,
       "width": 552
      }
     },
     "output_type": "display_data"
    }
   ],
   "source": [
    "plt.plot(losses[\"train\"])"
   ]
  }
 ],
 "metadata": {
  "kernelspec": {
   "display_name": "Python 3 (ipykernel)",
   "language": "python",
   "name": "python3"
  },
  "language_info": {
   "codemirror_mode": {
    "name": "ipython",
    "version": 3
   },
   "file_extension": ".py",
   "mimetype": "text/x-python",
   "name": "python",
   "nbconvert_exporter": "python",
   "pygments_lexer": "ipython3",
   "version": "3.10.12"
  }
 },
 "nbformat": 4,
 "nbformat_minor": 5
}
