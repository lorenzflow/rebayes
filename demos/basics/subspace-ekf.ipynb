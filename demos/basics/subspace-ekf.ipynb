{
 "cells": [
  {
   "cell_type": "markdown",
   "id": "851f8328-6228-435a-9cd8-585ad8ba15dc",
   "metadata": {},
   "source": [
    "# Subspace EKF"
   ]
  },
  {
   "cell_type": "code",
   "execution_count": null,
   "id": "008e9c4c-7b1d-402f-86f7-27898dc9e8d5",
   "metadata": {},
   "outputs": [],
   "source": [
    "import jax\n",
    "import numpy as np\n",
    "import jax.numpy as jnp\n",
    "import flax.linen as nn\n",
    "import matplotlib.pyplot as plt\n",
    "from tqdm import tqdm\n",
    "from flax.training.train_state import TrainState\n",
    "from jax.flatten_util import ravel_pytree\n",
    "from rebayes.low_rank_filter import subspace_filter\n",
    "from functools import partial"
   ]
  },
  {
   "cell_type": "code",
   "execution_count": null,
   "id": "4e3b5a73-41b1-4b23-9342-8d6d1410365c",
   "metadata": {},
   "outputs": [],
   "source": [
    "%load_ext autoreload\n",
    "%autoreload 2\n",
    "%config InlineBackend.figure_format = \"retina\""
   ]
  },
  {
   "cell_type": "code",
   "execution_count": null,
   "id": "cb706767-4ee0-4606-b376-39ef18df5c4c",
   "metadata": {},
   "outputs": [],
   "source": [
    "import tensorflow_datasets as tfds\n",
    "\n",
    "def process_dataset(Xtr, Ytr, Xval, Yval, Xte, Yte, shuffle=False, oh_train=True, key=0):\n",
    "    if isinstance(key, int):\n",
    "        key = jax.random.PRNGKey(key)\n",
    "        \n",
    "    # Reshape data\n",
    "    Xtr = Xtr.reshape(-1, 1, 28, 28, 1)\n",
    "    if oh_train:\n",
    "        Ytr = jax.nn.one_hot(Ytr, 10) # one-hot encode labels\n",
    "    \n",
    "    # Shuffle data\n",
    "    if shuffle:\n",
    "        idx = jax.random.permutation(key, jnp.arange(len(Xtr)))\n",
    "        Xtr, Ytr = Xtr[idx], Ytr[idx]\n",
    "    \n",
    "    Xtr, Ytr, Xval, Yval, Xte, Yte = (jnp.array(data) for data in [Xtr, Ytr, Xval, Yval, Xte, Yte])\n",
    "    \n",
    "    dataset = {\n",
    "        'train':[jnp.array(d) for d in (Xtr, Ytr)],\n",
    "        'val': [jnp.array(d) for d in (Xval, Yval)],\n",
    "        'test': [jnp.array(d) for d in (Xte, Yte)],\n",
    "    }\n",
    "    \n",
    "    return dataset\n",
    "\n",
    "\n",
    "def load_mnist_dataset(fashion=False, n_train=None, n_val=None, n_test=None):\n",
    "    \"\"\"Load MNIST train and test datasets into memory.\"\"\"\n",
    "    dataset='mnist'\n",
    "    if fashion:\n",
    "        dataset='fashion_mnist'\n",
    "    ds_builder = tfds.builder(dataset)\n",
    "    ds_builder.download_and_prepare()\n",
    "    \n",
    "    train_ds = tfds.as_numpy(ds_builder.as_dataset(split='train[10%:]', batch_size=-1))\n",
    "    val_ds = tfds.as_numpy(ds_builder.as_dataset(split='train[:10%]', batch_size=-1))\n",
    "    test_ds = tfds.as_numpy(ds_builder.as_dataset(split='test', batch_size=-1))\n",
    "    \n",
    "    # Normalize pixel values\n",
    "    for ds in [train_ds, val_ds, test_ds]:\n",
    "        ds['image'] = np.float32(ds['image']) / 255.\n",
    "    \n",
    "    n_train = min(n_train, len(train_ds['image'])) if n_train else len(train_ds['image'])\n",
    "    n_val = min(n_val, len(val_ds['image'])) if n_val else len(val_ds['image'])\n",
    "    n_test = min(n_test, len(test_ds['image'])) if n_test else len(test_ds['image'])\n",
    "    \n",
    "    X_train, y_train = (jnp.array(train_ds[key][:n_train]) for key in ['image', 'label'])\n",
    "    X_val, y_val = (jnp.array(val_ds[key][:n_val]) for key in ['image', 'label'])\n",
    "    X_test, y_test = (jnp.array(test_ds[key][:n_test]) for key in ['image', 'label'])\n",
    "    \n",
    "    dataset = process_dataset(X_train, y_train, X_val, y_val, X_test, y_test, shuffle=True)\n",
    "        \n",
    "    return dataset"
   ]
  },
  {
   "cell_type": "code",
   "execution_count": null,
   "id": "3fa2bf19-f20c-488a-9bfd-a26ba8873b46",
   "metadata": {},
   "outputs": [],
   "source": [
    "%load_ext autoreload\n",
    "%autoreload 2"
   ]
  },
  {
   "cell_type": "code",
   "execution_count": null,
   "id": "cf8dde15-952a-4b9b-8227-2f8526f61690",
   "metadata": {},
   "outputs": [],
   "source": [
    "from typing import Callable"
   ]
  },
  {
   "cell_type": "code",
   "execution_count": null,
   "id": "5b73644d-945e-4126-a992-ce0ecc307f64",
   "metadata": {},
   "outputs": [],
   "source": [
    "class NNet(nn.Module):\n",
    "    @nn.compact\n",
    "    def __call__(self, x):\n",
    "        x = nn.Dense(10, name=\"gets_cov\")(x)\n",
    "        x = nn.elu(x)\n",
    "        x = nn.Dense(10)(x)\n",
    "        x = nn.elu(x)\n",
    "        x = nn.Dense(1)(x)\n",
    "        return x"
   ]
  },
  {
   "cell_type": "code",
   "execution_count": null,
   "id": "6adf1935-0721-4717-8460-13ac92af9398",
   "metadata": {},
   "outputs": [],
   "source": [
    "key = jax.random.PRNGKey(314)\n",
    "\n",
    "model = NNet()\n",
    "n_features = 2\n",
    "Xinit = jnp.ones((10, n_features))\n",
    "dim_subspace = 10\n",
    "params_init = model.init(key, Xinit)\n",
    "params_flat, rfn = ravel_pytree(params_init)\n",
    "dim_full = len(params_flat)\n",
    "\n",
    "pmatrix = jax.random.bernoulli(key, p=0.5, shape=(dim_full, dim_subspace))\n",
    "params_latent = jax.random.normal(key, shape=(dim_subspace,))"
   ]
  },
  {
   "cell_type": "code",
   "execution_count": null,
   "id": "d866eed7-61ad-4a82-8135-461e5568b75a",
   "metadata": {},
   "outputs": [],
   "source": [
    "params_latent"
   ]
  },
  {
   "cell_type": "code",
   "execution_count": null,
   "id": "8e428492-fa6c-4ac9-b939-70d0b3899283",
   "metadata": {},
   "outputs": [],
   "source": [
    "NNet().apply(params_init, Xinit).ravel()"
   ]
  },
  {
   "cell_type": "markdown",
   "id": "4459d18f-dc4c-41f9-a500-f0268a63df72",
   "metadata": {},
   "source": [
    "## Subspace agent\n",
    "\n",
    "See [this issue](https://github.com/deepmind/optax/discussions/167) for implementation"
   ]
  },
  {
   "cell_type": "code",
   "execution_count": null,
   "id": "2505869e-c80e-4659-86b5-e3558aedddf4",
   "metadata": {},
   "outputs": [],
   "source": [
    "import optax"
   ]
  },
  {
   "cell_type": "code",
   "execution_count": null,
   "id": "ccfa413a-4874-400e-9446-d5479cc42dae",
   "metadata": {},
   "outputs": [],
   "source": [
    "def subcify(cls):\n",
    "    class SubspaceModule(nn.Module):\n",
    "        dim_in: int\n",
    "        dim_subspace: int\n",
    "        init_normal: Callable = nn.initializers.normal()\n",
    "        init_proj: Callable = nn.initializers.normal()\n",
    "\n",
    "\n",
    "        def init(self, rngs, *args, **kwargs):\n",
    "            # TODO: Add case \n",
    "            r1, r2 = jax.random.split(rngs, 2)\n",
    "            rngs_dict = {\"params\": r1, \"fixed\": r2}\n",
    "            \n",
    "            return nn.Module.init(self, rngs_dict, *args, **kwargs)\n",
    "\n",
    "        def setup(self):\n",
    "\n",
    "            key_dummy = jax.random.PRNGKey(0)\n",
    "            params = cls().init(key_dummy, jnp.ones((1, self.dim_in)))\n",
    "            params_all, reconstruct_fn = ravel_pytree(params)\n",
    "            \n",
    "            self.dim_full = len(params_all)\n",
    "            self.reconstruct_fn = reconstruct_fn\n",
    "            \n",
    "            self.subspace = self.param(\n",
    "                \"subspace\",\n",
    "                self.init_proj,\n",
    "                (self.dim_subspace,)\n",
    "            )\n",
    "\n",
    "            shape = (self.dim_full, self.dim_subspace)\n",
    "            init_fn = lambda shape: self.init_proj(self.make_rng(\"fixed\"), shape)\n",
    "            self.projection = self.variable(\"fixed\", \"P\", init_fn, shape).value\n",
    "\n",
    "            shape = (self.dim_full,)\n",
    "            init_fn = lambda shape: self.init_proj(self.make_rng(\"fixed\"), shape)\n",
    "            self.bias = self.variable(\"fixed\", \"b\", init_fn, shape).value\n",
    "\n",
    "        @nn.compact\n",
    "        def __call__(self, x):\n",
    "            params = self.projection @ self.subspace  + self.bias\n",
    "            params = self.reconstruct_fn(params)\n",
    "            return cls().apply(params, x)\n",
    "    \n",
    "    return SubspaceModule"
   ]
  },
  {
   "cell_type": "code",
   "execution_count": null,
   "id": "8091aa3e-4f0e-4a30-b94a-1fce92806733",
   "metadata": {},
   "outputs": [],
   "source": [
    "@subcify\n",
    "class SubNNet(nn.Module):\n",
    "    @nn.compact\n",
    "    def __call__(self, x):\n",
    "        x = nn.Dense(10)(x)\n",
    "        x = nn.elu(x)\n",
    "        x = nn.Dense(10)(x)\n",
    "        x = nn.elu(x)\n",
    "        x = nn.Dense(1)(x)\n",
    "        return x"
   ]
  },
  {
   "cell_type": "code",
   "execution_count": null,
   "id": "8c3d2005-d620-45d8-832d-d271793e3f31",
   "metadata": {},
   "outputs": [],
   "source": [
    "key = jax.random.PRNGKey(314)\n",
    "dim_in = 2\n",
    "Xinit = jnp.ones((1, dim_in))\n",
    "model = SubNNet(dim_in, dim_subspace=5)\n",
    "params_init = model.init(key, Xinit)\n",
    "# params_init\n",
    "\n",
    "jax.tree_map(jnp.shape, params_init)"
   ]
  },
  {
   "cell_type": "markdown",
   "id": "58755d38-abcd-4a0c-836e-dcbdc8275a4b",
   "metadata": {},
   "source": [
    "## MNSIT dataset"
   ]
  },
  {
   "cell_type": "code",
   "execution_count": null,
   "id": "256e1da3-ddf8-4a1d-89d1-cb1262348ef5",
   "metadata": {},
   "outputs": [],
   "source": [
    "dataset = load_mnist_dataset()"
   ]
  },
  {
   "cell_type": "code",
   "execution_count": null,
   "id": "0d8057f5-35a6-40ee-b13f-02a8ef70eca3",
   "metadata": {},
   "outputs": [],
   "source": [
    "X, y = dataset[\"train\"]"
   ]
  },
  {
   "cell_type": "code",
   "execution_count": null,
   "id": "b32f5110-64e3-49eb-b970-8c425c5e9ddb",
   "metadata": {},
   "outputs": [],
   "source": [
    "X = X.reshape(-1, 28 ** 2)\n",
    "y.shape"
   ]
  },
  {
   "cell_type": "code",
   "execution_count": null,
   "id": "160390da-4297-4d79-9e40-45670e0c01f6",
   "metadata": {},
   "outputs": [],
   "source": [
    "@subcify\n",
    "class SubNNet(nn.Module):\n",
    "    @nn.compact\n",
    "    def __call__(self, x):\n",
    "        x = nn.Dense(500)(x)\n",
    "        x = nn.elu(x)\n",
    "        x = nn.Dense(500)(x)\n",
    "        x = nn.elu(x)\n",
    "        x = nn.Dense(200)(x)\n",
    "        x = nn.elu(x)\n",
    "        x = nn.Dense(10)(x)\n",
    "        x = nn.softmax(x)\n",
    "        return x"
   ]
  },
  {
   "cell_type": "code",
   "execution_count": null,
   "id": "53d31dfd-b551-4f08-baf7-a24ad78064b3",
   "metadata": {},
   "outputs": [],
   "source": [
    "key = jax.random.PRNGKey(314)\n",
    "dim_in = 28 ** 2\n",
    "Xinit = jnp.ones((1, dim_in))\n",
    "model = SubNNet(dim_in, dim_subspace=50)\n",
    "params_init = model.init(key, Xinit)\n",
    "pfixed, psubspace_init = params_init[\"fixed\"], params_init[\"params\"]\n",
    "# params_init\n",
    "\n",
    "jax.tree_map(jnp.shape, params_init)"
   ]
  },
  {
   "cell_type": "code",
   "execution_count": null,
   "id": "9712870b-451b-4867-87d1-8798be6c17ba",
   "metadata": {},
   "outputs": [],
   "source": [
    "def applyfn(psubspace, X):\n",
    "    pfull = {\n",
    "        \"fixed\": pfixed,\n",
    "        \"params\": psubspace\n",
    "    }\n",
    "    return model.apply(pfull, X)"
   ]
  },
  {
   "cell_type": "code",
   "execution_count": null,
   "id": "12f952cf-4cd8-4179-859f-4b69cf9cc336",
   "metadata": {},
   "outputs": [],
   "source": [
    "from rebayes.sgd_filter import sgd"
   ]
  },
  {
   "cell_type": "code",
   "execution_count": null,
   "id": "a978c0c0-3203-482f-a57f-d1ffa92caaf3",
   "metadata": {},
   "outputs": [],
   "source": [
    "def lossfn(params, X, y, applyfn):\n",
    "    nsamples = len(X)\n",
    "    log_yhat = jnp.log(applyfn(params, X))\n",
    "    loss = -jnp.einsum(\"nk,nk\", y, log_yhat) / nsamples\n",
    "    return loss"
   ]
  },
  {
   "cell_type": "code",
   "execution_count": null,
   "id": "d95eff23-60f7-4691-a74b-b269884cf548",
   "metadata": {},
   "outputs": [],
   "source": [
    "%%time\n",
    "key = jax.random.PRNGKey(314)\n",
    "\n",
    "\n",
    "tx = optax.adam(5e-4)\n",
    "state = TrainState.create(apply_fn=applyfn,\n",
    "                          params=psubspace_init,\n",
    "                          tx=tx)\n",
    "\n",
    "state, losses = sgd.train_full(\n",
    "    key,\n",
    "    5000,\n",
    "    400,\n",
    "    state,\n",
    "    X[:10_000], y[:10_000],\n",
    "    lossfn,\n",
    ")\n",
    "losses = jax.tree_map(np.shape, losses)"
   ]
  },
  {
   "cell_type": "code",
   "execution_count": null,
   "id": "07a39c6a-baac-466a-aa77-998f4902ef7d",
   "metadata": {},
   "outputs": [],
   "source": [
    "plt.plot(losses[\"train\"])"
   ]
  },
  {
   "cell_type": "code",
   "execution_count": null,
   "id": "0d7de5e8-ba53-4434-bbe8-9bc1fd6026cf",
   "metadata": {},
   "outputs": [],
   "source": [
    "(applyfn(state.params, X[:400]).argmax(axis=1) == y[:400].argmax(axis=1)).mean()"
   ]
  }
 ],
 "metadata": {
  "kernelspec": {
   "display_name": "Python 3 (ipykernel)",
   "language": "python",
   "name": "python3"
  },
  "language_info": {
   "codemirror_mode": {
    "name": "ipython",
    "version": 3
   },
   "file_extension": ".py",
   "mimetype": "text/x-python",
   "name": "python",
   "nbconvert_exporter": "python",
   "pygments_lexer": "ipython3",
   "version": "3.10.12"
  }
 },
 "nbformat": 4,
 "nbformat_minor": 5
}
