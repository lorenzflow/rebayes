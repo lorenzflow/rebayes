{
 "cells": [
  {
   "cell_type": "markdown",
   "id": "851f8328-6228-435a-9cd8-585ad8ba15dc",
   "metadata": {},
   "source": [
    "# Subspace EKF"
   ]
  },
  {
   "cell_type": "code",
   "execution_count": 9,
   "id": "008e9c4c-7b1d-402f-86f7-27898dc9e8d5",
   "metadata": {},
   "outputs": [
    {
     "name": "stderr",
     "output_type": "stream",
     "text": [
      "2023-08-08 07:12:52.789769: W tensorflow/compiler/tf2tensorrt/utils/py_utils.cc:38] TF-TRT Warning: Could not find TensorRT\n"
     ]
    }
   ],
   "source": [
    "import jax\n",
    "import jax.numpy as jnp\n",
    "import flax.linen as nn\n",
    "from jax.flatten_util import ravel_pytree\n",
    "from rebayes.low_rank_filter import subspace_filter\n",
    "from functools import partial"
   ]
  },
  {
   "cell_type": "code",
   "execution_count": 42,
   "id": "cb706767-4ee0-4606-b376-39ef18df5c4c",
   "metadata": {},
   "outputs": [],
   "source": [
    "import tensorflow_datasets as tfds\n",
    "\n",
    "def process_dataset(Xtr, Ytr, Xval, Yval, Xte, Yte, shuffle=False, oh_train=True, key=0):\n",
    "    if isinstance(key, int):\n",
    "        key = jax.random.PRNGKey(key)\n",
    "        \n",
    "    # Reshape data\n",
    "    Xtr = Xtr.reshape(-1, 1, 28, 28, 1)\n",
    "    if oh_train:\n",
    "        Ytr = jax.nn.one_hot(Ytr, 10) # one-hot encode labels\n",
    "    \n",
    "    # Shuffle data\n",
    "    if shuffle:\n",
    "        idx = jax.random.permutation(key, jnp.arange(len(Xtr)))\n",
    "        Xtr, Ytr = Xtr[idx], Ytr[idx]\n",
    "    \n",
    "    Xtr, Ytr, Xval, Yval, Xte, Yte = (jnp.array(data) for data in [Xtr, Ytr, Xval, Yval, Xte, Yte])\n",
    "    \n",
    "    dataset = {\n",
    "        'train':[jnp.array(d) for d in (Xtr, Ytr)],\n",
    "        'val': [jnp.array(d) for d in (Xval, Yval)],\n",
    "        'test': [jnp.array(d) for d in (Xte, Yte)],\n",
    "    }\n",
    "    \n",
    "    return dataset\n",
    "\n",
    "\n",
    "def load_mnist_dataset(fashion=False, n_train=None, n_val=None, n_test=None):\n",
    "    \"\"\"Load MNIST train and test datasets into memory.\"\"\"\n",
    "    dataset='mnist'\n",
    "    if fashion:\n",
    "        dataset='fashion_mnist'\n",
    "    ds_builder = tfds.builder(dataset)\n",
    "    ds_builder.download_and_prepare()\n",
    "    \n",
    "    train_ds = tfds.as_numpy(ds_builder.as_dataset(split='train[10%:]', batch_size=-1))\n",
    "    val_ds = tfds.as_numpy(ds_builder.as_dataset(split='train[:10%]', batch_size=-1))\n",
    "    test_ds = tfds.as_numpy(ds_builder.as_dataset(split='test', batch_size=-1))\n",
    "    \n",
    "    # Normalize pixel values\n",
    "    for ds in [train_ds, val_ds, test_ds]:\n",
    "        ds['image'] = np.float32(ds['image']) / 255.\n",
    "    \n",
    "    n_train = min(n_train, len(train_ds['image'])) if n_train else len(train_ds['image'])\n",
    "    n_val = min(n_val, len(val_ds['image'])) if n_val else len(val_ds['image'])\n",
    "    n_test = min(n_test, len(test_ds['image'])) if n_test else len(test_ds['image'])\n",
    "    \n",
    "    X_train, y_train = (jnp.array(train_ds[key][:n_train]) for key in ['image', 'label'])\n",
    "    X_val, y_val = (jnp.array(val_ds[key][:n_val]) for key in ['image', 'label'])\n",
    "    X_test, y_test = (jnp.array(test_ds[key][:n_test]) for key in ['image', 'label'])\n",
    "    \n",
    "    dataset = process_dataset(X_train, y_train, X_val, y_val, X_test, y_test, shuffle=True)\n",
    "        \n",
    "    return dataset"
   ]
  },
  {
   "cell_type": "code",
   "execution_count": 28,
   "id": "3fa2bf19-f20c-488a-9bfd-a26ba8873b46",
   "metadata": {},
   "outputs": [
    {
     "name": "stdout",
     "output_type": "stream",
     "text": [
      "The autoreload extension is already loaded. To reload it, use:\n",
      "  %reload_ext autoreload\n"
     ]
    }
   ],
   "source": [
    "%load_ext autoreload\n",
    "%autoreload 2"
   ]
  },
  {
   "cell_type": "code",
   "execution_count": 29,
   "id": "cf8dde15-952a-4b9b-8227-2f8526f61690",
   "metadata": {},
   "outputs": [],
   "source": [
    "from typing import Callable"
   ]
  },
  {
   "cell_type": "code",
   "execution_count": 30,
   "id": "5b73644d-945e-4126-a992-ce0ecc307f64",
   "metadata": {},
   "outputs": [],
   "source": [
    "class NNet(nn.Module):\n",
    "    @nn.compact\n",
    "    def __call__(self, x):\n",
    "        x = nn.Dense(10, name=\"gets_cov\")(x)\n",
    "        x = nn.elu(x)\n",
    "        x = nn.Dense(10)(x)\n",
    "        x = nn.elu(x)\n",
    "        x = nn.Dense(1)(x)\n",
    "        return x"
   ]
  },
  {
   "cell_type": "code",
   "execution_count": 31,
   "id": "6adf1935-0721-4717-8460-13ac92af9398",
   "metadata": {},
   "outputs": [],
   "source": [
    "key = jax.random.PRNGKey(314)\n",
    "\n",
    "model = NNet()\n",
    "n_features = 2\n",
    "Xinit = jnp.ones((10, n_features))\n",
    "dim_subspace = 10\n",
    "params_init = model.init(key, Xinit)\n",
    "params_flat, rfn = ravel_pytree(params_init)\n",
    "dim_full = len(params_flat)\n",
    "\n",
    "pmatrix = jax.random.bernoulli(key, p=0.5, shape=(dim_full, dim_subspace))\n",
    "params_latent = jax.random.normal(key, shape=(dim_subspace,))"
   ]
  },
  {
   "cell_type": "code",
   "execution_count": 32,
   "id": "d866eed7-61ad-4a82-8135-461e5568b75a",
   "metadata": {},
   "outputs": [
    {
     "data": {
      "text/plain": [
       "Array([-1.4314531 , -1.4140283 ,  0.5512039 , -0.33057716, -0.39858606,\n",
       "        0.6754447 , -0.08324226, -0.3476744 ,  0.34246936, -0.03261461],      dtype=float32)"
      ]
     },
     "execution_count": 32,
     "metadata": {},
     "output_type": "execute_result"
    }
   ],
   "source": [
    "params_latent"
   ]
  },
  {
   "cell_type": "code",
   "execution_count": 33,
   "id": "8e428492-fa6c-4ac9-b939-70d0b3899283",
   "metadata": {},
   "outputs": [
    {
     "data": {
      "text/plain": [
       "Array([2.5442393, 2.5442393, 2.5442393, 2.5442393, 2.5442393, 2.5442393,\n",
       "       2.5442393, 2.5442393, 2.5442393, 2.5442393], dtype=float32)"
      ]
     },
     "execution_count": 33,
     "metadata": {},
     "output_type": "execute_result"
    }
   ],
   "source": [
    "NNet().apply(params_init, Xinit).ravel()"
   ]
  },
  {
   "cell_type": "markdown",
   "id": "4459d18f-dc4c-41f9-a500-f0268a63df72",
   "metadata": {},
   "source": [
    "## Subspace agent\n",
    "\n",
    "See [this issue](https://github.com/deepmind/optax/discussions/167) for implementation"
   ]
  },
  {
   "cell_type": "code",
   "execution_count": 34,
   "id": "2505869e-c80e-4659-86b5-e3558aedddf4",
   "metadata": {},
   "outputs": [],
   "source": [
    "import optax"
   ]
  },
  {
   "cell_type": "code",
   "execution_count": 35,
   "id": "ccfa413a-4874-400e-9446-d5479cc42dae",
   "metadata": {},
   "outputs": [],
   "source": [
    "def subcify(cls):\n",
    "    class SubspaceModule(nn.Module):\n",
    "        dim_in: int\n",
    "        dim_subspace: int\n",
    "        init_normal: Callable = nn.initializers.normal()\n",
    "        init_proj: Callable = nn.initializers.normal()\n",
    "\n",
    "\n",
    "        def init(self, rngs, *args, **kwargs):\n",
    "            # TODO: Add case \n",
    "            r1, r2 = jax.random.split(rngs, 2)\n",
    "            rngs_dict = {\"params\": r1, \"fixed\": r2}\n",
    "            \n",
    "            return nn.Module.init(self, rngs_dict, *args, **kwargs)\n",
    "\n",
    "        def setup(self):\n",
    "\n",
    "            key_dummy = jax.random.PRNGKey(0)\n",
    "            params = cls().init(key_dummy, jnp.ones((1, self.dim_in)))\n",
    "            params_all, reconstruct_fn = ravel_pytree(params)\n",
    "            \n",
    "            self.dim_full = len(params_all)\n",
    "            self.reconstruct_fn = reconstruct_fn\n",
    "            \n",
    "            self.subspace = self.param(\n",
    "                \"subspace\",\n",
    "                self.init_proj,\n",
    "                (self.dim_subspace,)\n",
    "            )\n",
    "\n",
    "            shape = (self.dim_full, self.dim_subspace)\n",
    "            init_fn = lambda shape: self.init_proj(self.make_rng(\"fixed\"), shape)\n",
    "            self.projection = self.variable(\"fixed\", \"P\", init_fn, shape).value\n",
    "\n",
    "            shape = (self.dim_full,)\n",
    "            init_fn = lambda shape: self.init_proj(self.make_rng(\"fixed\"), shape)\n",
    "            self.bias = self.variable(\"fixed\", \"b\", init_fn, shape).value\n",
    "\n",
    "        @nn.compact\n",
    "        def __call__(self, x):\n",
    "            params = self.projection @ self.subspace  + self.bias\n",
    "            params = self.reconstruct_fn(params)\n",
    "            return cls().apply(params, x)\n",
    "    \n",
    "    return SubspaceModule"
   ]
  },
  {
   "cell_type": "code",
   "execution_count": 36,
   "id": "8091aa3e-4f0e-4a30-b94a-1fce92806733",
   "metadata": {},
   "outputs": [],
   "source": [
    "@subcify\n",
    "class SubNNet(nn.Module):\n",
    "    @nn.compact\n",
    "    def __call__(self, x):\n",
    "        x = nn.Dense(10)(x)\n",
    "        x = nn.elu(x)\n",
    "        x = nn.Dense(10)(x)\n",
    "        x = nn.elu(x)\n",
    "        x = nn.Dense(1)(x)\n",
    "        return x"
   ]
  },
  {
   "cell_type": "code",
   "execution_count": 37,
   "id": "8c3d2005-d620-45d8-832d-d271793e3f31",
   "metadata": {},
   "outputs": [
    {
     "data": {
      "text/plain": [
       "FrozenDict({\n",
       "    fixed: {\n",
       "        P: (151, 5),\n",
       "        b: (151,),\n",
       "    },\n",
       "    params: {\n",
       "        subspace: (5,),\n",
       "    },\n",
       "})"
      ]
     },
     "execution_count": 37,
     "metadata": {},
     "output_type": "execute_result"
    }
   ],
   "source": [
    "key = jax.random.PRNGKey(314)\n",
    "dim_in = 2\n",
    "Xinit = jnp.ones((1, dim_in))\n",
    "model = SubNNet(dim_in, dim_subspace=5)\n",
    "params_init = model.init(key, Xinit)\n",
    "# params_init\n",
    "\n",
    "jax.tree_map(jnp.shape, params_init)"
   ]
  },
  {
   "cell_type": "code",
   "execution_count": 38,
   "id": "dcbc1122-c1c4-4945-9698-78fc87a24e45",
   "metadata": {},
   "outputs": [],
   "source": [
    "from flax.core import frozen_dict\n",
    "from flax.training.train_state import TrainState"
   ]
  },
  {
   "cell_type": "code",
   "execution_count": 39,
   "id": "6136cbaf-840d-4530-84c3-040395728d5f",
   "metadata": {},
   "outputs": [],
   "source": [
    "# https://github.com/deepmind/optax/discussions/167\n",
    "def create_mask():\n",
    "    # mask = {'params': {'fixed': 'fixed', 'params': 'params'}}\n",
    "    mask = {\"params\": \"params\", \"fixed\": \"fixed\"}\n",
    "    return frozen_dict.freeze(mask)\n",
    "\n",
    "def zero_grads():\n",
    "    def init_fn(_): \n",
    "        return ()\n",
    "    def update_fn(updates, state, params=None):\n",
    "        return jax.tree_map(jnp.zeros_like, updates), ()\n",
    "    return optax.GradientTransformation(init_fn, update_fn)\n",
    "\n",
    "tx = optax.multi_transform({'fixed': zero_grads(), 'params': optax.adam(learning_rate=1.0)},\n",
    "                           create_mask())\n"
   ]
  },
  {
   "cell_type": "code",
   "execution_count": 40,
   "id": "9737ba0b-345b-43b7-9a6e-8ef961efd947",
   "metadata": {},
   "outputs": [],
   "source": [
    "state = TrainState.create(apply_fn=model.apply,\n",
    "                                      params=params_init,\n",
    "                                      tx=tx)"
   ]
  },
  {
   "cell_type": "code",
   "execution_count": 43,
   "id": "256e1da3-ddf8-4a1d-89d1-cb1262348ef5",
   "metadata": {},
   "outputs": [],
   "source": [
    "dataset = load_mnist_dataset()"
   ]
  }
 ],
 "metadata": {
  "kernelspec": {
   "display_name": "Python 3 (ipykernel)",
   "language": "python",
   "name": "python3"
  },
  "language_info": {
   "codemirror_mode": {
    "name": "ipython",
    "version": 3
   },
   "file_extension": ".py",
   "mimetype": "text/x-python",
   "name": "python",
   "nbconvert_exporter": "python",
   "pygments_lexer": "ipython3",
   "version": "3.10.12"
  }
 },
 "nbformat": 4,
 "nbformat_minor": 5
}
