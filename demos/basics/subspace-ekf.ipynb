{
 "cells": [
  {
   "cell_type": "markdown",
   "id": "851f8328-6228-435a-9cd8-585ad8ba15dc",
   "metadata": {},
   "source": [
    "# Subspace EKF"
   ]
  },
  {
   "cell_type": "code",
   "execution_count": 1,
   "id": "008e9c4c-7b1d-402f-86f7-27898dc9e8d5",
   "metadata": {},
   "outputs": [
    {
     "name": "stderr",
     "output_type": "stream",
     "text": [
      "/home/gerardoduran/mambaforge/lib/python3.10/site-packages/tqdm/auto.py:21: TqdmWarning: IProgress not found. Please update jupyter and ipywidgets. See https://ipywidgets.readthedocs.io/en/stable/user_install.html\n",
      "  from .autonotebook import tqdm as notebook_tqdm\n"
     ]
    }
   ],
   "source": [
    "import jax\n",
    "import jax.numpy as jnp\n",
    "import flax.linen as nn\n",
    "from jax.flatten_util import ravel_pytree\n",
    "from rebayes.low_rank_filter import subspace_filter\n",
    "from functools import partial"
   ]
  },
  {
   "cell_type": "code",
   "execution_count": 2,
   "id": "3fa2bf19-f20c-488a-9bfd-a26ba8873b46",
   "metadata": {},
   "outputs": [],
   "source": [
    "%load_ext autoreload\n",
    "%autoreload 2"
   ]
  },
  {
   "cell_type": "code",
   "execution_count": 34,
   "id": "cf8dde15-952a-4b9b-8227-2f8526f61690",
   "metadata": {},
   "outputs": [],
   "source": [
    "from typing import Callable"
   ]
  },
  {
   "cell_type": "code",
   "execution_count": 41,
   "id": "5b73644d-945e-4126-a992-ce0ecc307f64",
   "metadata": {},
   "outputs": [],
   "source": [
    "class NNet(nn.Module):\n",
    "    @nn.compact\n",
    "    def __call__(self, x):\n",
    "        x = nn.Dense(3)(x)\n",
    "        x = nn.elu(x)\n",
    "        x = nn.Dense(3)(x)\n",
    "        x = nn.elu(x)\n",
    "        x = nn.Dense(1)(x)\n",
    "        return x"
   ]
  },
  {
   "cell_type": "code",
   "execution_count": 42,
   "id": "b969d957-0bfc-43e9-8c51-a6d1df9cdec5",
   "metadata": {},
   "outputs": [],
   "source": [
    "key = jax.random.PRNGKey(314)"
   ]
  },
  {
   "cell_type": "code",
   "execution_count": 43,
   "id": "f4668045-8f0f-4fc5-8820-e5e6a64bf4a0",
   "metadata": {},
   "outputs": [],
   "source": [
    "model = NNet()\n",
    "Xinit = jnp.ones((10, 2))\n",
    "dim_subspace = 10\n",
    "params_init = model.init(key, Xinit)\n",
    "params_flat, rfn = ravel_pytree(params_init)\n",
    "dim_full = len(params_flat)\n",
    "\n",
    "pmatrix = jax.random.bernoulli(key, p=0.5, shape=(dim_full, dim_subspace))\n",
    "params_latent = jax.random.normal(key, shape=(dim_subspace,))"
   ]
  },
  {
   "cell_type": "code",
   "execution_count": 44,
   "id": "d866eed7-61ad-4a82-8135-461e5568b75a",
   "metadata": {},
   "outputs": [
    {
     "data": {
      "text/plain": [
       "Array([-1.4314531 , -1.4140283 ,  0.5512039 , -0.33057716, -0.39858606,\n",
       "        0.6754447 , -0.08324226, -0.3476744 ,  0.34246936, -0.03261461],      dtype=float32)"
      ]
     },
     "execution_count": 44,
     "metadata": {},
     "output_type": "execute_result"
    }
   ],
   "source": [
    "params_latent"
   ]
  },
  {
   "cell_type": "code",
   "execution_count": 45,
   "id": "8e428492-fa6c-4ac9-b939-70d0b3899283",
   "metadata": {},
   "outputs": [
    {
     "data": {
      "text/plain": [
       "Array([[0.01260289],\n",
       "       [0.01260289],\n",
       "       [0.01260289],\n",
       "       [0.01260289],\n",
       "       [0.01260289],\n",
       "       [0.01260289],\n",
       "       [0.01260289],\n",
       "       [0.01260289],\n",
       "       [0.01260289],\n",
       "       [0.01260289]], dtype=float32)"
      ]
     },
     "execution_count": 45,
     "metadata": {},
     "output_type": "execute_result"
    }
   ],
   "source": [
    "NNet().apply(params_init, Xinit)"
   ]
  },
  {
   "cell_type": "code",
   "execution_count": 56,
   "id": "805125ce-aec8-48ec-99ab-473eee79a23b",
   "metadata": {},
   "outputs": [],
   "source": [
    "class SubNNet(nn.Module):\n",
    "    # Why do we need Callable? fails if it's not there\n",
    "    init_proj: Callable = nn.initializers.normal()\n",
    "\n",
    "    # How to get the dim_subspace and dim_full?\n",
    "    def setup(self):\n",
    "        self.subspace = self.param(\n",
    "            \"subspace\",\n",
    "            self.init_proj,\n",
    "            (dim_subspace,)\n",
    "        )\n",
    "        self.projection = self.param(\n",
    "            \"projection\",\n",
    "            self.init_proj,\n",
    "            (dim_full, dim_subspace)\n",
    "        )\n",
    "\n",
    "    @nn.compact\n",
    "    def __call__(self, x):\n",
    "        params = self.projection @ self.subspace\n",
    "        params = rfn(params)\n",
    "        return NNet().apply(params, x)\n",
    "\n",
    "model = SubNNet()\n",
    "pinit = model.init(key, Xinit)"
   ]
  },
  {
   "cell_type": "code",
   "execution_count": 61,
   "id": "d36ec3ac-5699-4cb6-bf44-8e065491fc77",
   "metadata": {},
   "outputs": [
    {
     "data": {
      "text/plain": [
       "FrozenDict({\n",
       "    params: {\n",
       "        projection: (25, 10),\n",
       "        subspace: (10,),\n",
       "    },\n",
       "})"
      ]
     },
     "execution_count": 61,
     "metadata": {},
     "output_type": "execute_result"
    }
   ],
   "source": [
    "jax.tree_map(jnp.shape, pinit)"
   ]
  },
  {
   "cell_type": "code",
   "execution_count": 58,
   "id": "91f5b515-d354-4611-8b81-2723eefa4d59",
   "metadata": {},
   "outputs": [
    {
     "data": {
      "text/plain": [
       "FrozenDict({\n",
       "    params: {\n",
       "        subspace: Array([-0.00447499,  0.00400571,  0.00299776,  0.00182526,  0.00267615,\n",
       "               -0.01588027, -0.02566168,  0.00466987, -0.00023074,  0.00239409],      dtype=float32),\n",
       "        projection: Array([[-3.35986656e-03,  8.87939893e-03,  2.63753789e-03,\n",
       "                -9.52443632e-04, -2.63619353e-03,  1.00701936e-02,\n",
       "                 1.81923248e-02, -2.12386553e-03, -7.71253696e-03,\n",
       "                -7.08877854e-03],\n",
       "               [-7.91336969e-03, -3.24458559e-03,  1.06810564e-02,\n",
       "                -1.96658017e-04, -6.87617576e-03,  3.18945415e-04,\n",
       "                -6.20286632e-03,  6.22718781e-03, -1.12819381e-03,\n",
       "                -2.13826890e-03],\n",
       "               [ 1.43241156e-02, -7.11677223e-03,  4.49566497e-03,\n",
       "                -6.44596992e-03, -1.64688937e-03, -1.20240133e-02,\n",
       "                 4.03506635e-03,  1.77159607e-02,  6.19832147e-03,\n",
       "                 1.88459537e-03],\n",
       "               [-8.38529412e-03, -6.91581890e-03,  5.47279092e-03,\n",
       "                -8.78728926e-03, -1.55820530e-02,  1.05316648e-02,\n",
       "                -3.01062525e-03,  8.57238658e-03,  5.31943748e-03,\n",
       "                 1.11194868e-02],\n",
       "               [-5.87798003e-03, -8.59281048e-03,  1.03158969e-02,\n",
       "                 1.11146066e-02,  6.90946029e-03,  6.36144215e-03,\n",
       "                 1.94226075e-02, -5.09471959e-03,  6.24464266e-03,\n",
       "                 6.13758573e-03],\n",
       "               [-5.15997224e-03, -1.54445739e-02, -2.43920647e-02,\n",
       "                 1.84453747e-04, -7.82854203e-03, -1.88031923e-02,\n",
       "                 7.57195940e-03, -2.60492205e-03, -7.93680642e-03,\n",
       "                -5.89058851e-04],\n",
       "               [ 1.02537759e-02, -3.07179871e-04,  1.88219448e-04,\n",
       "                -2.24506687e-02,  8.31871387e-03, -9.06419300e-04,\n",
       "                 4.73835599e-03,  4.12069121e-03, -1.10948214e-03,\n",
       "                -6.55943295e-04],\n",
       "               [ 9.51148453e-04,  7.71054765e-03,  1.05677638e-02,\n",
       "                 2.41028937e-03,  5.51026827e-03,  6.18294114e-03,\n",
       "                -7.98988994e-03,  1.61330048e-02,  6.66384492e-03,\n",
       "                 1.18577993e-02],\n",
       "               [ 6.17587985e-03, -1.41447620e-03,  1.42175946e-02,\n",
       "                 6.50632801e-03,  1.44620212e-02, -1.23873884e-02,\n",
       "                -4.46314365e-03, -2.35926639e-02, -1.58840104e-03,\n",
       "                 1.12709553e-04],\n",
       "               [-8.75950966e-04,  1.76464894e-03, -2.01402651e-03,\n",
       "                -8.95328540e-03, -1.05797900e-02, -2.51350435e-03,\n",
       "                 9.54436976e-03,  1.11930049e-03,  1.82481874e-02,\n",
       "                -2.21449248e-02],\n",
       "               [-4.65575198e-04,  7.18695996e-03,  6.65611355e-03,\n",
       "                 2.66317953e-03, -1.13250464e-02, -3.15150409e-03,\n",
       "                 2.92188046e-03,  2.64422758e-03,  2.42354977e-03,\n",
       "                -8.20848625e-03],\n",
       "               [ 2.69793626e-03,  3.77647625e-03, -6.67790836e-03,\n",
       "                -2.62809498e-03, -4.06155316e-03,  2.66790437e-03,\n",
       "                -1.62236858e-02, -7.98532274e-04, -1.36743225e-02,\n",
       "                 1.18991798e-02],\n",
       "               [-4.28103330e-03, -2.07551029e-02,  1.48139580e-03,\n",
       "                 2.67630606e-03,  4.63308394e-03, -1.18883355e-02,\n",
       "                 4.72455611e-03, -1.36367036e-02,  1.72268879e-02,\n",
       "                -7.92684685e-03],\n",
       "               [ 1.62628368e-02,  4.65634884e-03,  4.92668303e-04,\n",
       "                 1.82073805e-02, -6.53591100e-03, -3.69401858e-03,\n",
       "                 2.24373341e-02,  6.52287388e-03, -2.08661798e-03,\n",
       "                 1.85165778e-02],\n",
       "               [ 5.84659167e-03, -3.46063310e-03, -4.90461825e-04,\n",
       "                -5.35396859e-03, -9.28427838e-03,  1.25679485e-02,\n",
       "                 4.54667024e-03,  1.36443460e-02,  5.65425679e-03,\n",
       "                 3.07305367e-03],\n",
       "               [ 7.01684412e-03,  9.83811799e-04, -1.17309541e-02,\n",
       "                -6.57862809e-04, -1.65783297e-02,  1.04216102e-03,\n",
       "                -6.61913445e-03, -9.15805157e-03, -1.73864316e-03,\n",
       "                -2.14209035e-03],\n",
       "               [-1.98068377e-03,  9.69694648e-03,  1.11432085e-02,\n",
       "                 2.36255582e-04, -1.27957631e-02, -1.97852007e-03,\n",
       "                 1.17608625e-02, -3.83283338e-03, -1.53394947e-02,\n",
       "                 1.10820783e-02],\n",
       "               [ 1.51861329e-02, -9.76601429e-03, -1.30263949e-03,\n",
       "                 1.15687149e-02, -5.90946479e-03, -8.46774317e-04,\n",
       "                 1.34177657e-03, -9.21925995e-03, -2.89269025e-03,\n",
       "                 7.42144883e-03],\n",
       "               [-2.03840137e-02, -7.32695032e-03, -1.06313368e-02,\n",
       "                -1.63516856e-03,  9.02931322e-04, -3.25342687e-03,\n",
       "                 8.31338670e-03, -4.96495515e-03, -6.52005011e-03,\n",
       "                 3.25295352e-03],\n",
       "               [-6.52407343e-03, -1.17930130e-03, -1.20648229e-02,\n",
       "                -1.08670862e-02,  1.32108934e-03,  5.83930314e-03,\n",
       "                -1.84552595e-02,  2.08478179e-02, -1.26829278e-02,\n",
       "                 2.65818322e-03],\n",
       "               [-7.81051954e-03,  6.70307491e-04, -7.34435348e-03,\n",
       "                -4.33633430e-03,  1.35033345e-02, -7.50967348e-03,\n",
       "                 4.76319529e-03,  4.24395269e-03, -9.92501155e-03,\n",
       "                -6.71097497e-03],\n",
       "               [-1.10163558e-02, -4.72418178e-05,  1.41709847e-02,\n",
       "                 2.08359305e-02,  5.27492585e-03,  1.73938517e-02,\n",
       "                -5.89802628e-03,  1.76045150e-02, -7.28097651e-03,\n",
       "                -1.05733667e-02],\n",
       "               [ 1.98745560e-02,  1.21562625e-03,  1.68401282e-03,\n",
       "                 8.67417641e-03,  1.64801031e-02, -1.14608621e-02,\n",
       "                 2.02486515e-02, -8.17593012e-04,  1.97517630e-02,\n",
       "                -3.92088987e-04],\n",
       "               [ 8.24207533e-03,  7.47446949e-03,  7.38433003e-03,\n",
       "                -1.23114595e-02, -7.31060049e-03,  3.50154657e-03,\n",
       "                 9.66211897e-04, -1.03323227e-02,  4.68677375e-03,\n",
       "                 1.54219652e-02],\n",
       "               [-8.09755642e-03,  3.44711379e-03,  4.11987444e-03,\n",
       "                 8.07056436e-04,  1.65103283e-02,  2.63800975e-02,\n",
       "                 2.19945163e-02, -7.78083969e-03, -1.22834717e-05,\n",
       "                 1.27768172e-02]], dtype=float32),\n",
       "    },\n",
       "})"
      ]
     },
     "execution_count": 58,
     "metadata": {},
     "output_type": "execute_result"
    }
   ],
   "source": [
    "pinit"
   ]
  },
  {
   "cell_type": "code",
   "execution_count": 57,
   "id": "ea9731f0-9b94-4235-b3a2-6eb7138b0343",
   "metadata": {},
   "outputs": [
    {
     "data": {
      "text/plain": [
       "Array([[7.723302e-05],\n",
       "       [7.723302e-05],\n",
       "       [7.723302e-05],\n",
       "       [7.723302e-05],\n",
       "       [7.723302e-05],\n",
       "       [7.723302e-05],\n",
       "       [7.723302e-05],\n",
       "       [7.723302e-05],\n",
       "       [7.723302e-05],\n",
       "       [7.723302e-05]], dtype=float32)"
      ]
     },
     "execution_count": 57,
     "metadata": {},
     "output_type": "execute_result"
    }
   ],
   "source": [
    "model.apply(pinit, Xinit)"
   ]
  },
  {
   "cell_type": "code",
   "execution_count": 52,
   "id": "9e016ee6-4176-44a0-bd8f-9e0e18bd8d6c",
   "metadata": {},
   "outputs": [
    {
     "data": {
      "text/plain": [
       "FrozenDict({\n",
       "    params: {\n",
       "        Dense_0: {\n",
       "            bias: (3,),\n",
       "            kernel: (2, 3),\n",
       "        },\n",
       "        Dense_1: {\n",
       "            bias: (3,),\n",
       "            kernel: (3, 3),\n",
       "        },\n",
       "        Dense_2: {\n",
       "            bias: (1,),\n",
       "            kernel: (3, 1),\n",
       "        },\n",
       "    },\n",
       "})"
      ]
     },
     "execution_count": 52,
     "metadata": {},
     "output_type": "execute_result"
    }
   ],
   "source": [
    "jax.tree_map(jnp.shape, params_init)"
   ]
  },
  {
   "cell_type": "markdown",
   "id": "4459d18f-dc4c-41f9-a500-f0268a63df72",
   "metadata": {},
   "source": [
    "## Subspace agent"
   ]
  },
  {
   "cell_type": "code",
   "execution_count": 256,
   "id": "2505869e-c80e-4659-86b5-e3558aedddf4",
   "metadata": {},
   "outputs": [],
   "source": [
    "import optax"
   ]
  },
  {
   "cell_type": "code",
   "execution_count": 22,
   "id": "8091aa3e-4f0e-4a30-b94a-1fce92806733",
   "metadata": {},
   "outputs": [],
   "source": [
    "@subspace_filter.subcify\n",
    "class NNet(nn.Module):\n",
    "    @nn.compact\n",
    "    def __call__(self, x):\n",
    "        x = nn.Dense(3)(x)\n",
    "        x = nn.elu(x)\n",
    "        x = nn.Dense(3)(x)\n",
    "        x = nn.elu(x)\n",
    "        x = nn.Dense(1)(x)\n",
    "        return x"
   ]
  },
  {
   "cell_type": "code",
   "execution_count": 23,
   "id": "8c3d2005-d620-45d8-832d-d271793e3f31",
   "metadata": {},
   "outputs": [
    {
     "data": {
      "text/plain": [
       "FrozenDict({\n",
       "    params: {\n",
       "        Dense_0: {\n",
       "            bias: (3,),\n",
       "            kernel: (2, 3),\n",
       "        },\n",
       "        Dense_1: {\n",
       "            bias: (3,),\n",
       "            kernel: (3, 3),\n",
       "        },\n",
       "        Dense_2: {\n",
       "            bias: (1,),\n",
       "            kernel: (3, 1),\n",
       "        },\n",
       "        projection_matrix: (10, 10),\n",
       "    },\n",
       "})"
      ]
     },
     "execution_count": 23,
     "metadata": {},
     "output_type": "execute_result"
    }
   ],
   "source": [
    "key = jax.random.PRNGKey(314)\n",
    "model = NNet(dim_subspace=10)\n",
    "Xinit = jnp.ones((10, 2))\n",
    "params_init = model.init(key, Xinit, 1)\n",
    "# params_init\n",
    "\n",
    "jax.tree_map(jnp.shape, params_init)"
   ]
  },
  {
   "cell_type": "code",
   "execution_count": 24,
   "id": "43b4c7c7-4fc2-4af4-9bf5-8af9abb371ad",
   "metadata": {},
   "outputs": [
    {
     "data": {
      "text/plain": [
       "1.0"
      ]
     },
     "execution_count": 24,
     "metadata": {},
     "output_type": "execute_result"
    }
   ],
   "source": [
    "model.apply(params_init, Xinit, 1)"
   ]
  },
  {
   "cell_type": "markdown",
   "id": "c67f27f1-b4e3-4a69-bf40-7ddc8dbdee7f",
   "metadata": {},
   "source": [
    "## Random ideas"
   ]
  },
  {
   "cell_type": "code",
   "execution_count": 244,
   "id": "7740b1f5-bd06-4f11-9f07-8e612facdf97",
   "metadata": {},
   "outputs": [],
   "source": [
    "import flax"
   ]
  },
  {
   "cell_type": "code",
   "execution_count": 237,
   "id": "0103bec9-994f-4ce0-a286-9c864cb74f92",
   "metadata": {},
   "outputs": [],
   "source": [
    "class BiasAdderWithRunningMean(nn.Module):\n",
    "  momentum: float = 0.9\n",
    "\n",
    "  @nn.compact\n",
    "  def __call__(self, x):\n",
    "    is_initialized = self.has_variable('batch_stats', 'mean')\n",
    "    mean = self.variable('batch_stats', 'mean', jnp.zeros, x.shape[1:])\n",
    "    bias = self.param('bias', lambda rng, shape: jnp.zeros(shape), x.shape[1:])\n",
    "    if is_initialized:\n",
    "      mean.value = (self.momentum * mean.value +\n",
    "                    (1.0 - self.momentum) * jnp.mean(x, axis=0, keepdims=True))\n",
    "    return mean.value + bias"
   ]
  },
  {
   "cell_type": "code",
   "execution_count": 246,
   "id": "590b776d-7980-47f5-b37e-4956211c0829",
   "metadata": {},
   "outputs": [],
   "source": [
    "model = BiasAdderWithRunningMean()"
   ]
  },
  {
   "cell_type": "code",
   "execution_count": 249,
   "id": "eddb9b51-52ce-4a20-bad6-23a75db7cf5d",
   "metadata": {},
   "outputs": [
    {
     "data": {
      "text/plain": [
       "FrozenDict({\n",
       "    batch_stats: {\n",
       "        mean: Array([0., 0.], dtype=float32),\n",
       "    },\n",
       "    params: {\n",
       "        bias: Array([0., 0.], dtype=float32),\n",
       "    },\n",
       "})"
      ]
     },
     "execution_count": 249,
     "metadata": {},
     "output_type": "execute_result"
    }
   ],
   "source": [
    "variables = model.init(key, Xinit)\n",
    "variables"
   ]
  },
  {
   "cell_type": "code",
   "execution_count": 250,
   "id": "a42801ce-11c4-4901-b3b5-1601888fbac7",
   "metadata": {},
   "outputs": [
    {
     "data": {
      "text/plain": [
       "FrozenDict({\n",
       "    batch_stats: {\n",
       "        mean: Array([0., 0.], dtype=float32),\n",
       "    },\n",
       "})"
      ]
     },
     "execution_count": 250,
     "metadata": {},
     "output_type": "execute_result"
    }
   ],
   "source": [
    "state, params = flax.core.pop(variables, 'params')\n",
    "state"
   ]
  },
  {
   "cell_type": "code",
   "execution_count": 251,
   "id": "faaf582d-e2bd-4af8-900e-fa375936f931",
   "metadata": {},
   "outputs": [
    {
     "data": {
      "text/plain": [
       "FrozenDict({\n",
       "    bias: Array([0., 0.], dtype=float32),\n",
       "})"
      ]
     },
     "execution_count": 251,
     "metadata": {},
     "output_type": "execute_result"
    }
   ],
   "source": [
    "params"
   ]
  }
 ],
 "metadata": {
  "kernelspec": {
   "display_name": "Python 3 (ipykernel)",
   "language": "python",
   "name": "python3"
  },
  "language_info": {
   "codemirror_mode": {
    "name": "ipython",
    "version": 3
   },
   "file_extension": ".py",
   "mimetype": "text/x-python",
   "name": "python",
   "nbconvert_exporter": "python",
   "pygments_lexer": "ipython3",
   "version": "3.10.12"
  }
 },
 "nbformat": 4,
 "nbformat_minor": 5
}
