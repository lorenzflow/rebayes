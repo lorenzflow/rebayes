{
 "cells": [
  {
   "cell_type": "markdown",
   "id": "851f8328-6228-435a-9cd8-585ad8ba15dc",
   "metadata": {},
   "source": [
    "# Subspace EKF"
   ]
  },
  {
   "cell_type": "code",
   "execution_count": 1,
   "id": "008e9c4c-7b1d-402f-86f7-27898dc9e8d5",
   "metadata": {},
   "outputs": [
    {
     "name": "stderr",
     "output_type": "stream",
     "text": [
      "/home/gerardoduran/mambaforge/lib/python3.10/site-packages/tqdm/auto.py:21: TqdmWarning: IProgress not found. Please update jupyter and ipywidgets. See https://ipywidgets.readthedocs.io/en/stable/user_install.html\n",
      "  from .autonotebook import tqdm as notebook_tqdm\n"
     ]
    }
   ],
   "source": [
    "import jax\n",
    "import jax.numpy as jnp\n",
    "import flax.linen as nn\n",
    "from jax.flatten_util import ravel_pytree\n",
    "from rebayes.low_rank_filter import subspace_filter\n",
    "from functools import partial"
   ]
  },
  {
   "cell_type": "code",
   "execution_count": 2,
   "id": "3fa2bf19-f20c-488a-9bfd-a26ba8873b46",
   "metadata": {},
   "outputs": [],
   "source": [
    "%load_ext autoreload\n",
    "%autoreload 2"
   ]
  },
  {
   "cell_type": "code",
   "execution_count": 110,
   "id": "cf8dde15-952a-4b9b-8227-2f8526f61690",
   "metadata": {},
   "outputs": [],
   "source": [
    "from typing import Callable"
   ]
  },
  {
   "cell_type": "code",
   "execution_count": 111,
   "id": "5b73644d-945e-4126-a992-ce0ecc307f64",
   "metadata": {},
   "outputs": [],
   "source": [
    "class NNet(nn.Module):\n",
    "    @nn.compact\n",
    "    def __call__(self, x):\n",
    "        x = nn.Dense(10, name=\"gets_cov\")(x)\n",
    "        x = nn.elu(x)\n",
    "        x = nn.Dense(10)(x)\n",
    "        x = nn.elu(x)\n",
    "        x = nn.Dense(1)(x)\n",
    "        return x"
   ]
  },
  {
   "cell_type": "code",
   "execution_count": 112,
   "id": "6adf1935-0721-4717-8460-13ac92af9398",
   "metadata": {},
   "outputs": [],
   "source": [
    "key = jax.random.PRNGKey(314)\n",
    "\n",
    "model = NNet()\n",
    "n_features = 2\n",
    "Xinit = jnp.ones((10, n_features))\n",
    "dim_subspace = 10\n",
    "params_init = model.init(key, Xinit)\n",
    "params_flat, rfn = ravel_pytree(params_init)\n",
    "dim_full = len(params_flat)\n",
    "\n",
    "pmatrix = jax.random.bernoulli(key, p=0.5, shape=(dim_full, dim_subspace))\n",
    "params_latent = jax.random.normal(key, shape=(dim_subspace,))"
   ]
  },
  {
   "cell_type": "code",
   "execution_count": 114,
   "id": "d866eed7-61ad-4a82-8135-461e5568b75a",
   "metadata": {},
   "outputs": [
    {
     "data": {
      "text/plain": [
       "Array([-1.4314531 , -1.4140283 ,  0.5512039 , -0.33057716, -0.39858606,\n",
       "        0.6754447 , -0.08324226, -0.3476744 ,  0.34246936, -0.03261461],      dtype=float32)"
      ]
     },
     "execution_count": 114,
     "metadata": {},
     "output_type": "execute_result"
    }
   ],
   "source": [
    "params_latent"
   ]
  },
  {
   "cell_type": "code",
   "execution_count": 115,
   "id": "8e428492-fa6c-4ac9-b939-70d0b3899283",
   "metadata": {},
   "outputs": [
    {
     "data": {
      "text/plain": [
       "Array([2.5442393, 2.5442393, 2.5442393, 2.5442393, 2.5442393, 2.5442393,\n",
       "       2.5442393, 2.5442393, 2.5442393, 2.5442393], dtype=float32)"
      ]
     },
     "execution_count": 115,
     "metadata": {},
     "output_type": "execute_result"
    }
   ],
   "source": [
    "NNet().apply(params_init, Xinit).ravel()"
   ]
  },
  {
   "cell_type": "code",
   "execution_count": 52,
   "id": "ecf2c509-3d1e-4ef8-875a-4110a9a9434b",
   "metadata": {},
   "outputs": [],
   "source": [
    "def get_fparams(cls, X):\n",
    "    dummy = cls(None, name=\"d\")\n",
    "    dummy_params = dummy.init(key, X)\n",
    "    dummy_params, _ = ravel_pytree(dummy_params)\n",
    "    return len(dummy_params)"
   ]
  },
  {
   "cell_type": "code",
   "execution_count": null,
   "id": "e1cf0cc4-8e65-4f68-bf46-4c3961000e69",
   "metadata": {},
   "outputs": [],
   "source": [
    "class SubNNet(nn.Module):\n",
    "    # Why do we need Callable? fails if it's not there\n",
    "    init_proj: Callable = nn.initializers.normal()\n",
    "\n",
    "    def init(self, rngs, *args, **kwargs):\n",
    "        n_full = get_fparams(NNet, Xinit)\n",
    "        self.n_full = n_full\n",
    "        res = nn.Module.init(self, rngs, *args, **kwargs) \n",
    "        return res\n",
    "\n",
    "    def setup(self):\n",
    "        self.subspace = self.param(\n",
    "            \"subspace\",\n",
    "            self.init_proj,\n",
    "            (dim_subspace,)\n",
    "        )\n",
    "        self.projection = self.param(\n",
    "            \"projection\",\n",
    "            self.init_proj,\n",
    "            (dim_full, dim_subspace)\n",
    "        )\n",
    "\n",
    "    @nn.compact\n",
    "    def __call__(self, x):\n",
    "        params = self.projection @ self.subspace\n",
    "        params = rfn(params)\n",
    "        self.a = 3\n",
    "        return NNet().apply(params, x)\n",
    "\n",
    "model = SubNNet()\n",
    "pinit = model.init(key, Xinit)"
   ]
  },
  {
   "cell_type": "markdown",
   "id": "4459d18f-dc4c-41f9-a500-f0268a63df72",
   "metadata": {},
   "source": [
    "## Subspace agent"
   ]
  },
  {
   "cell_type": "code",
   "execution_count": 118,
   "id": "2505869e-c80e-4659-86b5-e3558aedddf4",
   "metadata": {},
   "outputs": [],
   "source": [
    "import optax"
   ]
  },
  {
   "cell_type": "code",
   "execution_count": 152,
   "id": "ccfa413a-4874-400e-9446-d5479cc42dae",
   "metadata": {},
   "outputs": [],
   "source": [
    "def subcify(cls):\n",
    "    class SubspaceModule(nn.Module):\n",
    "        dim_in: int\n",
    "        dim_subspace: int\n",
    "        init_normal: Callable = nn.initializers.normal()\n",
    "        init_proj: Callable = nn.initializers.normal()\n",
    "\n",
    "\n",
    "        def init(self, rngs, *args, **kwargs):\n",
    "            # TODO: Add case when\n",
    "            r1, r2 = jax.random.split(rngs, 2)\n",
    "            rngs_dict = {\"params\": r1, \"fixed\": r2}\n",
    "            \n",
    "            return nn.Module.init(self, rngs_dict, *args, **kwargs)\n",
    "\n",
    "        def setup(self):\n",
    "\n",
    "            key_dummy = jax.random.PRNGKey(0)\n",
    "            params = cls().init(key_dummy, jnp.ones((1, self.dim_in)))\n",
    "            params_all, reconstruct_fn = ravel_pytree(params)\n",
    "            \n",
    "            self.dim_full = len(params_all)\n",
    "            self.reconstruct_fn = reconstruct_fn\n",
    "            \n",
    "            self.subspace = self.param(\n",
    "                \"subspace\",\n",
    "                self.init_proj,\n",
    "                (self.dim_subspace,)\n",
    "            )\n",
    "            # self.projection = self.param(\n",
    "            #     \"projection\",\n",
    "            #     self.init_proj,\n",
    "            #     (self.dim_full, self.dim_subspace)\n",
    "            # )\n",
    "\n",
    "            shape = (self.dim_full, self.dim_subspace)\n",
    "            init_fn = lambda shape: self.init_proj(self.make_rng(\"fixed\"), shape)\n",
    "            self.projection = self.variable(\n",
    "                \n",
    "            )\n",
    "            self.projection = self.variable(\"fixed\", \"P\", init_fn, shape).value\n",
    "\n",
    "        @nn.compact\n",
    "        def __call__(self, x):\n",
    "            params = self.projection @ self.subspace\n",
    "            params = self.reconstruct_fn(params)\n",
    "            return cls().apply(params, x)\n",
    "    \n",
    "    return SubspaceModule"
   ]
  },
  {
   "cell_type": "code",
   "execution_count": 153,
   "id": "8091aa3e-4f0e-4a30-b94a-1fce92806733",
   "metadata": {},
   "outputs": [],
   "source": [
    "@subcify\n",
    "class SubNNet(nn.Module):\n",
    "    @nn.compact\n",
    "    def __call__(self, x):\n",
    "        x = nn.Dense(10)(x)\n",
    "        x = nn.elu(x)\n",
    "        x = nn.Dense(10)(x)\n",
    "        x = nn.elu(x)\n",
    "        x = nn.Dense(1)(x)\n",
    "        return x"
   ]
  },
  {
   "cell_type": "code",
   "execution_count": 158,
   "id": "8c3d2005-d620-45d8-832d-d271793e3f31",
   "metadata": {},
   "outputs": [
    {
     "data": {
      "text/plain": [
       "FrozenDict({\n",
       "    fixed: {\n",
       "        P: (151, 5),\n",
       "    },\n",
       "    params: {\n",
       "        subspace: (5,),\n",
       "    },\n",
       "})"
      ]
     },
     "execution_count": 158,
     "metadata": {},
     "output_type": "execute_result"
    }
   ],
   "source": [
    "key = jax.random.PRNGKey(314)\n",
    "dim_in = 2\n",
    "model = SubNNet(dim_in, dim_subspace=5)\n",
    "Xinit = jnp.ones((10, 2))\n",
    "params_init = model.init(key, Xinit)\n",
    "# params_init\n",
    "\n",
    "jax.tree_map(jnp.shape, params_init)"
   ]
  },
  {
   "cell_type": "code",
   "execution_count": 159,
   "id": "5b9886df-baea-4d63-bfcf-9e885f754d38",
   "metadata": {},
   "outputs": [
    {
     "data": {
      "text/plain": [
       "Array([[0.0002768],\n",
       "       [0.0002768],\n",
       "       [0.0002768],\n",
       "       [0.0002768],\n",
       "       [0.0002768],\n",
       "       [0.0002768],\n",
       "       [0.0002768],\n",
       "       [0.0002768],\n",
       "       [0.0002768],\n",
       "       [0.0002768]], dtype=float32)"
      ]
     },
     "execution_count": 159,
     "metadata": {},
     "output_type": "execute_result"
    }
   ],
   "source": [
    "model.apply(params_init, Xinit)"
   ]
  },
  {
   "cell_type": "markdown",
   "id": "58806c95-1104-41e6-9663-ef46899395cd",
   "metadata": {},
   "source": [
    "## Yet another test"
   ]
  },
  {
   "cell_type": "code",
   "execution_count": null,
   "id": "e2fdc84f-7091-427c-aea6-4e37593ad9ab",
   "metadata": {},
   "outputs": [],
   "source": [
    "class SubspaceBiasMLP(nn.Module):\n",
    "    n_hidden: int\n",
    "    n_in: int\n",
    "    n_out: int\n",
    "    dim_subspace: int\n",
    "    b: ArrayDevice\n",
    "    init_normal: Callable = nn.initializers.normal()\n",
    "    init_proj: Callable = nn.initializers.normal()\n",
    "    base_model: nn.Module = FeatureMLP\n",
    "    \n",
    "    def setup(self):\n",
    "        self.mlp = self.base_model(self.n_hidden)\n",
    "        \n",
    "        key_dummy = jax.random.PRNGKey(0)\n",
    "        params = self.mlp.init(key_dummy, jnp.ones((1, self.n_in)))\n",
    "        params_all, reconstruct_fn = ravel_pytree(params)\n",
    "        \n",
    "        self.dim_full = len(params_all)\n",
    "        self.reconstruct_fn = reconstruct_fn\n",
    "        \n",
    "        self.z = self.param(\"z\", self.init_normal, (self.dim_subspace,))\n",
    "        self.last_layer = nn.Dense(self.n_out, name=\"last_layer\")\n",
    "        \n",
    "        shape = (self.dim_full, self.dim_subspace)\n",
    "        init_fn = lambda shape: self.init_proj(self.make_rng(\"fixed\"), shape)\n",
    "        self.projection_matrix = self.variable(\"fixed\", \"P\", init_fn, shape).value\n",
    "\n",
    "        \n",
    "    @nn.compact\n",
    "    def __call__(self, x):\n",
    "        params = self.projection_matrix @ self.z + self.b\n",
    "        params = self.reconstruct_fn(params)\n",
    "        x = self.mlp.apply(params, x)\n",
    "        y = self.last_layer(x)\n",
    "        \n",
    "        return y\n"
   ]
  }
 ],
 "metadata": {
  "kernelspec": {
   "display_name": "Python 3 (ipykernel)",
   "language": "python",
   "name": "python3"
  },
  "language_info": {
   "codemirror_mode": {
    "name": "ipython",
    "version": 3
   },
   "file_extension": ".py",
   "mimetype": "text/x-python",
   "name": "python",
   "nbconvert_exporter": "python",
   "pygments_lexer": "ipython3",
   "version": "3.10.12"
  }
 },
 "nbformat": 4,
 "nbformat_minor": 5
}
