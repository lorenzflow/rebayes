{
 "cells": [
  {
   "cell_type": "markdown",
   "id": "1c573085-c13d-45b8-9abd-b5d03cc744c0",
   "metadata": {},
   "source": [
    "# Regression benchmark "
   ]
  },
  {
   "cell_type": "code",
   "execution_count": 1,
   "id": "ad53d1f1-b9f6-44f9-8b4b-35738c3d7ac2",
   "metadata": {},
   "outputs": [],
   "source": [
    "import os\n",
    "import re\n",
    "import jax\n",
    "import optax\n",
    "import pickle\n",
    "import numpy as np\n",
    "import pandas as pd\n",
    "import seaborn as sns\n",
    "import jax.numpy as jnp\n",
    "import matplotlib.pyplot as plt\n",
    "from time import time\n",
    "from rebayes.sgd_filter import replay_sgd as rsgd"
   ]
  },
  {
   "cell_type": "code",
   "execution_count": 2,
   "id": "8f1e3b0a-3c5f-4eee-8000-1839e3918bee",
   "metadata": {},
   "outputs": [],
   "source": [
    "import flax.linen as nn"
   ]
  },
  {
   "cell_type": "code",
   "execution_count": 3,
   "id": "d208a019-42b2-4cf3-a230-b9d8da66534c",
   "metadata": {},
   "outputs": [],
   "source": [
    "def plot_bounds(data, ax, color, label, rolling=100):\n",
    "    n_obs = len(data)\n",
    "    xrange = np.arange(n_obs)\n",
    "    data.mean(axis=1).rolling(rolling).mean().plot(ax=ax, label=label, color=color)\n",
    "    \n",
    "    sims = data.rolling(rolling).mean().values\n",
    "    mean_sim = sims.mean(axis=1)\n",
    "    std_sim = sims.std(axis=1)\n",
    "    \n",
    "    lbound = mean_sim - 1 * std_sim\n",
    "    ubound = mean_sim + 1 * std_sim\n",
    "    \n",
    "    ax.fill_between(xrange, lbound, ubound, alpha=0.2, color=color)"
   ]
  },
  {
   "cell_type": "code",
   "execution_count": 4,
   "id": "0d7a0769-e65f-4db4-8c33-93d550229c79",
   "metadata": {},
   "outputs": [],
   "source": [
    "from rebayes.utils.utils import tree_to_cpu, get_subtree"
   ]
  },
  {
   "cell_type": "code",
   "execution_count": null,
   "id": "cf69a145-2535-47b2-94a0-4b08da1d656c",
   "metadata": {},
   "outputs": [],
   "source": [
    "%config InlineBackend.figure_format = \"retina\""
   ]
  },
  {
   "cell_type": "code",
   "execution_count": null,
   "id": "accf0a59-6fc7-4e4e-8019-b6c1e425e6ee",
   "metadata": {},
   "outputs": [],
   "source": [
    "def load_output(filename, path):\n",
    "    filename = os.path.join(path, filename)\n",
    "    with open(filename, \"rb\") as f:\n",
    "        res = pickle.load(f) \n",
    "    return res"
   ]
  },
  {
   "cell_type": "code",
   "execution_count": null,
   "id": "5dea3f64-0fd3-4be6-ad77-1619c39cdfd7",
   "metadata": {},
   "outputs": [],
   "source": [
    "def tree_shape(tree):\n",
    "    return jax.tree_map(jnp.shape, tree)"
   ]
  },
  {
   "cell_type": "code",
   "execution_count": 8,
   "id": "758e778c-5534-40ec-84a9-dd562485e066",
   "metadata": {},
   "outputs": [],
   "source": [
    "base_path = \"../output/checkpoints/\"\n",
    "# base_path = \"../outputs/checkpoints/\" # for rank-50"
   ]
  },
  {
   "cell_type": "code",
   "execution_count": 9,
   "id": "e3dd1b95-e230-4cda-8bd3-a6d19f5d609d",
   "metadata": {},
   "outputs": [],
   "source": [
    "datasets = [\n",
    "    \"bostonHousing\", \"concrete\", \"energy\", \"kin8nm\", \"naval-propulsion-plant\",\n",
    "    \"power-plant\", \"wine-quality-red\", \"yacht\"\n",
    "]"
   ]
  },
  {
   "cell_type": "raw",
   "id": "4bba9a80-2232-4b79-8a07-7e9ab4901672",
   "metadata": {},
   "source": [
    "dim_rank = 50\n",
    "dataset_name = \"energy\"\n",
    "dataset_agent_name = f\"{dataset_name}_rank{dim_rank:02}\"\n",
    "\n",
    "filenames_all = os.listdir(base_path)\n",
    "filenames = [file for file in filenames_all if dataset_name in file]"
   ]
  },
  {
   "cell_type": "code",
   "execution_count": 400,
   "id": "1efc6989-4c90-4920-9074-cee13009cefb",
   "metadata": {},
   "outputs": [],
   "source": [
    "# 1, 10, 50, 100\n",
    "npass = 50"
   ]
  },
  {
   "cell_type": "code",
   "execution_count": 20,
   "id": "07b143d9-4ab7-4981-b3b0-1874d4887154",
   "metadata": {},
   "outputs": [],
   "source": [
    "dim_ranks = [1, 2, 5, 10, 20, 50]"
   ]
  },
  {
   "cell_type": "code",
   "execution_count": 948,
   "id": "ec3216d8-5c9b-4753-89f2-09778a9a3fd0",
   "metadata": {
    "tags": []
   },
   "outputs": [],
   "source": [
    "dim_rank = 2\n",
    "\n",
    "dataset_name = \"kin8nm\"\n",
    "dataset_agent_name = f\"{dataset_name}_rank{dim_rank:02}\"\n",
    "\n",
    "filenames_all = os.listdir(base_path)\n",
    "filenames = [file for file in filenames_all if (dataset_agent_name in file) and (\"ekf\" not in file)]\n",
    "\n",
    "filenames_ekf = [\n",
    "    file for file in filenames_all\n",
    "    if (\"ekf_0\" in file) and (dataset_name in file) and (\"rank\" not in file)\n",
    "]\n",
    "\n",
    "filenames = filenames + filenames_ekf"
   ]
  },
  {
   "cell_type": "code",
   "execution_count": 949,
   "id": "88504252-faa6-4957-88e0-07d9b315eebd",
   "metadata": {},
   "outputs": [],
   "source": [
    "regexp = re.compile(rf\"{dataset_name}(?:_rank[0-9]+)?_(\\w+)_[0-9]+\")\n",
    "agents = [regexp.search(filename)[1] for filename in filenames]"
   ]
  },
  {
   "cell_type": "code",
   "execution_count": 950,
   "id": "b20b7896-0a8a-4868-8c3d-b173e251b225",
   "metadata": {},
   "outputs": [
    {
     "data": {
      "text/plain": [
       "['kin8nm_rank02_lofi_orth_1.pkl',\n",
       " 'kin8nm_rank02_lofi_diag_0.pkl',\n",
       " 'kin8nm_rank02_lrvga_1.pkl',\n",
       " 'kin8nm_rank02_lofi_1.pkl',\n",
       " 'kin8nm_fcekf_0.pkl',\n",
       " 'kin8nm_vdekf_0.pkl',\n",
       " 'kin8nm_fdekf_0.pkl']"
      ]
     },
     "execution_count": 950,
     "metadata": {},
     "output_type": "execute_result"
    }
   ],
   "source": [
    "filenames"
   ]
  },
  {
   "cell_type": "code",
   "execution_count": 951,
   "id": "5ce15a71-639c-4244-9e09-d2accc1efdf1",
   "metadata": {},
   "outputs": [],
   "source": [
    "agents_output = {}\n",
    "agents_res = {}\n",
    "for i, filename in enumerate(filenames):\n",
    "    res = load_output(filename, base_path)\n",
    "    agent_name = res[\"method\"]\n",
    "    agent_name = f\"{agent_name}\"\n",
    "    agents_output[agent_name] = res[\"output\"]\n",
    "    agents_res[agent_name] = res"
   ]
  },
  {
   "cell_type": "code",
   "execution_count": 952,
   "id": "efecea23-7106-4dee-9356-21f3760fd09d",
   "metadata": {},
   "outputs": [],
   "source": [
    "# order_cols = [\"fcekf\", \"fdekf\", \"vdekf\", \"lofi\", \"lofi_orth\", \"lofi_diag\", \"lrvga\", \"sgd-rb\"]\n",
    "order_cols = [\"fcekf\", \"fdekf\", \"vdekf\", \"lofi\", \"lofi_diag\", \"lrvga\", \"sgd-rb\"]\n",
    "\n",
    "# void lrvga\n",
    "# order_cols = [\"fcekf\", \"fdekf\", \"vdekf\", \"lofi\", \"lofi_orth\", \"sgd-rb\"]"
   ]
  },
  {
   "cell_type": "code",
   "execution_count": 953,
   "id": "19e4bc68-2e56-40e9-aff4-6b3b10076f1c",
   "metadata": {},
   "outputs": [],
   "source": [
    "colors = plt.cm.tab10(np.linspace(0, 1, len(order_cols) + 1))\n",
    "colors = plt.cm.tab10(np.arange(len(order_cols) + 1))\n",
    "colors = {\n",
    "    name_agent: color\n",
    "    for name_agent, color\n",
    "    in zip(order_cols, colors)\n",
    "}"
   ]
  },
  {
   "cell_type": "code",
   "execution_count": 954,
   "id": "089ab155-3bab-418a-a3e6-c5981723e067",
   "metadata": {},
   "outputs": [
    {
     "data": {
      "text/plain": [
       "{'fcekf': array([0.12156863, 0.46666667, 0.70588235, 1.        ]),\n",
       " 'fdekf': array([1.        , 0.49803922, 0.05490196, 1.        ]),\n",
       " 'vdekf': array([0.17254902, 0.62745098, 0.17254902, 1.        ]),\n",
       " 'lofi': array([0.83921569, 0.15294118, 0.15686275, 1.        ]),\n",
       " 'lofi_diag': array([0.58039216, 0.40392157, 0.74117647, 1.        ]),\n",
       " 'lrvga': array([0.54901961, 0.3372549 , 0.29411765, 1.        ]),\n",
       " 'sgd-rb': array([0.89019608, 0.46666667, 0.76078431, 1.        ])}"
      ]
     },
     "execution_count": 954,
     "metadata": {},
     "output_type": "execute_result"
    }
   ],
   "source": [
    "colors"
   ]
  },
  {
   "cell_type": "code",
   "execution_count": 955,
   "id": "bcc28bdc-ae66-488e-bc84-52c3b3bfbe7e",
   "metadata": {},
   "outputs": [
    {
     "data": {
      "text/html": [
       "<div>\n",
       "<style scoped>\n",
       "    .dataframe tbody tr th:only-of-type {\n",
       "        vertical-align: middle;\n",
       "    }\n",
       "\n",
       "    .dataframe tbody tr th {\n",
       "        vertical-align: top;\n",
       "    }\n",
       "\n",
       "    .dataframe thead th {\n",
       "        text-align: right;\n",
       "    }\n",
       "</style>\n",
       "<table border=\"1\" class=\"dataframe\">\n",
       "  <thead>\n",
       "    <tr style=\"text-align: right;\">\n",
       "      <th></th>\n",
       "      <th>fcekf</th>\n",
       "      <th>fdekf</th>\n",
       "      <th>lofi</th>\n",
       "      <th>lofi_diag</th>\n",
       "      <th>lofi_orth</th>\n",
       "      <th>lrvga</th>\n",
       "      <th>vdekf</th>\n",
       "    </tr>\n",
       "  </thead>\n",
       "  <tbody>\n",
       "    <tr>\n",
       "      <th>7368</th>\n",
       "      <td>0.083778</td>\n",
       "      <td>0.103394</td>\n",
       "      <td>0.291988</td>\n",
       "      <td>0.137994</td>\n",
       "      <td>0.161873</td>\n",
       "      <td>0.139166</td>\n",
       "      <td>0.112584</td>\n",
       "    </tr>\n",
       "    <tr>\n",
       "      <th>7369</th>\n",
       "      <td>0.083785</td>\n",
       "      <td>0.103887</td>\n",
       "      <td>0.278250</td>\n",
       "      <td>0.138161</td>\n",
       "      <td>0.157462</td>\n",
       "      <td>0.139180</td>\n",
       "      <td>0.113323</td>\n",
       "    </tr>\n",
       "    <tr>\n",
       "      <th>7370</th>\n",
       "      <td>0.083798</td>\n",
       "      <td>0.103983</td>\n",
       "      <td>0.244412</td>\n",
       "      <td>0.137905</td>\n",
       "      <td>0.158034</td>\n",
       "      <td>0.139170</td>\n",
       "      <td>0.113378</td>\n",
       "    </tr>\n",
       "    <tr>\n",
       "      <th>7371</th>\n",
       "      <td>0.083809</td>\n",
       "      <td>0.103713</td>\n",
       "      <td>0.248239</td>\n",
       "      <td>0.137914</td>\n",
       "      <td>0.156847</td>\n",
       "      <td>0.139169</td>\n",
       "      <td>0.113194</td>\n",
       "    </tr>\n",
       "    <tr>\n",
       "      <th>7372</th>\n",
       "      <td>0.083824</td>\n",
       "      <td>0.103617</td>\n",
       "      <td>0.242162</td>\n",
       "      <td>0.137896</td>\n",
       "      <td>0.156546</td>\n",
       "      <td>0.139170</td>\n",
       "      <td>0.113146</td>\n",
       "    </tr>\n",
       "  </tbody>\n",
       "</table>\n",
       "</div>"
      ],
      "text/plain": [
       "         fcekf     fdekf      lofi  lofi_diag  lofi_orth     lrvga     vdekf\n",
       "7368  0.083778  0.103394  0.291988   0.137994   0.161873  0.139166  0.112584\n",
       "7369  0.083785  0.103887  0.278250   0.138161   0.157462  0.139180  0.113323\n",
       "7370  0.083798  0.103983  0.244412   0.137905   0.158034  0.139170  0.113378\n",
       "7371  0.083809  0.103713  0.248239   0.137914   0.156847  0.139169  0.113194\n",
       "7372  0.083824  0.103617  0.242162   0.137896   0.156546  0.139170  0.113146"
      ]
     },
     "execution_count": 955,
     "metadata": {},
     "output_type": "execute_result"
    }
   ],
   "source": [
    "data = get_subtree(agents_output, \"test\")\n",
    "data = tree_to_cpu(data)\n",
    "data = pd.DataFrame(data)\n",
    "data.tail()"
   ]
  },
  {
   "cell_type": "code",
   "execution_count": 956,
   "id": "d98f2543-a704-4216-b682-248998ef0c8d",
   "metadata": {},
   "outputs": [],
   "source": [
    "data = data.drop(\"lofi_orth\", axis=1, errors=\"ignore\")"
   ]
  },
  {
   "cell_type": "code",
   "execution_count": 957,
   "id": "5f1677e8-99e6-426a-b861-877bfe3df559",
   "metadata": {},
   "outputs": [
    {
     "data": {
      "image/png": "[encoded data removed]",
      "text/plain": [
       "<Figure size 640x480 with 1 Axes>"
      ]
     },
     "metadata": {
      "image/png": {
       "height": 444,
       "width": 556
      }
     },
     "output_type": "display_data"
    }
   ],
   "source": [
    "fig, ax = plt.subplots()\n",
    "\n",
    "vmin, vmax = data.iloc[-1].min(), data.iloc[-1].max()\n",
    "data.plot(ax=ax, color=colors)\n",
    "ax.set_title(dataset_name)\n",
    "# plt.ylim(vmin * 0.9, vmin * 2.3)\n",
    "plt.grid(alpha=0.3)"
   ]
  },
  {
   "cell_type": "markdown",
   "id": "a7b75a3c-c881-46e1-8dab-a9e8a4e07450",
   "metadata": {},
   "source": [
    "## Agent analysis"
   ]
  },
  {
   "cell_type": "code",
   "execution_count": 958,
   "id": "8ba1b384-d016-45a6-abce-a6ac52788f0d",
   "metadata": {},
   "outputs": [
    {
     "name": "stdout",
     "output_type": "stream",
     "text": [
      "The autoreload extension is already loaded. To reload it, use:\n",
      "  %reload_ext autoreload\n"
     ]
    }
   ],
   "source": [
    "%config InlineBackend.figure_format = \"retina\"\n",
    "%load_ext autoreload\n",
    "%autoreload 2\n",
    "\n",
    "plt.rcParams[\"font.size\"] = 14\n",
    "plt.rcParams[\"axes.labelsize\"] = 14\n",
    "plt.rcParams[\"legend.fontsize\"] = 14\n",
    "plt.rcParams[\"lines.linewidth\"] = 2"
   ]
  },
  {
   "cell_type": "code",
   "execution_count": 959,
   "id": "c9adde86-ae00-43c5-b0a6-bb6698b37acb",
   "metadata": {},
   "outputs": [],
   "source": [
    "import regression_train as benchmark"
   ]
  },
  {
   "cell_type": "code",
   "execution_count": 960,
   "id": "f74b9af2-24aa-4030-961b-2047f116e6a0",
   "metadata": {},
   "outputs": [],
   "source": [
    "from functools import partial\n",
    "from regression_train import MLP\n",
    "from jax.flatten_util import ravel_pytree\n",
    "from rebayes.utils import uci_uncertainty_data\n",
    "\n",
    "from rebayes.extended_kalman_filter import ekf\n",
    "from rebayes.low_rank_filter import lofi, lrvga\n",
    "from rebayes.sgd_filter import sgd"
   ]
  },
  {
   "cell_type": "code",
   "execution_count": 961,
   "id": "ce63cdb8-1bc1-4a25-9b51-12457006f9ce",
   "metadata": {},
   "outputs": [],
   "source": [
    "import hparam_tune_ekf as hp_ekf\n",
    "import hparam_tune_lofi as hp_lofi"
   ]
  },
  {
   "cell_type": "code",
   "execution_count": 962,
   "id": "9035b155-43cf-4307-81f8-cbed02dbf47e",
   "metadata": {},
   "outputs": [],
   "source": [
    "path = (\n",
    "    \"/home/gerardoduran/documents/external\"\n",
    "    \"/DropoutUncertaintyExps/UCI_Datasets/\"\n",
    "    f\"{dataset_name}/\"\n",
    "    \"data\"\n",
    ")"
   ]
  },
  {
   "cell_type": "code",
   "execution_count": 963,
   "id": "b89dbcb8-6ccf-4100-ac3c-1c87fb631509",
   "metadata": {},
   "outputs": [],
   "source": [
    "methods = order_cols.copy()"
   ]
  },
  {
   "cell_type": "code",
   "execution_count": 964,
   "id": "895311a6-e06a-4d7c-b398-e27f2288d03c",
   "metadata": {},
   "outputs": [],
   "source": [
    "train_folds, test_folds, coefs_all = uci_uncertainty_data.load_folds_data(path)\n",
    "_, n_features = train_folds[0][0].shape\n",
    "\n",
    "train_folds = jax.tree_map(jnp.nan_to_num, train_folds)\n",
    "test_folds = jax.tree_map(jnp.nan_to_num, test_folds)\n",
    "\n",
    "X_train, y_train = train_folds\n",
    "X_test, y_test = test_folds"
   ]
  },
  {
   "cell_type": "code",
   "execution_count": 965,
   "id": "e113a0be-a8a5-4f38-906f-c30ab1b0cbe3",
   "metadata": {},
   "outputs": [],
   "source": [
    "key = jax.random.PRNGKey(314)\n",
    "model = MLP(1, activation=nn.relu)\n",
    "\n",
    "params_init = model.init(key, jnp.ones((1, n_features)))\n",
    "params_flat, reconstruct_fn = ravel_pytree(params_init)\n",
    "apply_fn = partial(benchmark.apply_main, model=model, unflatten_fn=reconstruct_fn)"
   ]
  },
  {
   "cell_type": "code",
   "execution_count": 966,
   "id": "b7222773-339d-4214-b7f7-d1b32f976161",
   "metadata": {},
   "outputs": [],
   "source": [
    "params_lofi = lofi.LoFiParams(\n",
    "    memory_size=dim_rank,\n",
    "    sv_threshold=0,\n",
    "    steady_state=True,\n",
    ")\n",
    "\n",
    "method = \"lofi_orth\"\n",
    "method = \"vdekf\"\n",
    "hparams = agents_res[method][\"hparams\"][\"params\"]"
   ]
  },
  {
   "cell_type": "code",
   "execution_count": 967,
   "id": "2ddf7fbc-551d-4bca-9f7d-8983ca807af3",
   "metadata": {},
   "outputs": [],
   "source": [
    "def benchmark_lofi(X_train, y_train, X_test, y_test, coefs, method, hparams, params_lofi):\n",
    "    train = (X_train, y_train)\n",
    "    test = (X_test, y_test)\n",
    "    eval_callback = partial(benchmark.eval_callback_main,\n",
    "                            ymean=coefs[\"ymean\"], ystd=coefs[\"ystd\"])\n",
    "    \n",
    "    bel, output = benchmark.eval_lofi_agent(\n",
    "        train, test, hparams, params_flat, params_lofi, apply_fn, method, eval_callback\n",
    "    )\n",
    "    return output\n",
    "\n",
    "\n",
    "def benchmark_ekf(X_train, y_train, X_test, y_test, coefs, method, hparams, **kwargs):\n",
    "    train = (X_train, y_train)\n",
    "    test = (X_test, y_test)\n",
    "    eval_callback = partial(benchmark.eval_callback_main,\n",
    "                            ymean=coefs[\"ymean\"], ystd=coefs[\"ystd\"])\n",
    "    \n",
    "    bel, output = benchmark.eval_ekf_agent(\n",
    "        train, test, hparams, params_flat, apply_fn, method, eval_callback\n",
    "    )\n",
    "    return output\n",
    "\n",
    "\n",
    "def benchmark_lrvga(X_train, y_train, X_test, y_test, coefs, method, hparams, **kwargs):\n",
    "    train = (X_train, y_train)\n",
    "    test = (X_test, y_test)\n",
    "    \n",
    "    eval_callback = partial(benchmark.eval_callback_main,\n",
    "                            ymean=coefs[\"ymean\"], ystd=coefs[\"ystd\"])\n",
    "    \n",
    "    bel, output = benchmark.eval_lrvga(\n",
    "        train, test, hparams, apply_fn, eval_callback, **kwargs\n",
    "    )\n",
    "    \n",
    "    return output\n",
    "\n",
    "\n",
    "\n",
    "def benchmark_replay_sgd(X_train, y_train, X_test, y_test, coefs, method, hparams, **kwargs):\n",
    "    train = (X_train, y_train)\n",
    "    test = (X_test, y_test)\n",
    "\n",
    "    eval_callback = partial(benchmark.eval_callback_main,\n",
    "                            ymean=coefs[\"ymean\"], ystd=coefs[\"ystd\"])\n",
    "    \n",
    "    bel, output = benchmark.eval_sgd_agent(\n",
    "        train, test, apply_fn_sgd, eval_callback, **kwargs\n",
    "    )\n",
    "    \n",
    "    return output\n",
    "\n",
    "\n",
    "def eval_agent_multiple(train, test, coefs, benchmark_fn, method, hparams, n_cores=5, **kwargs):\n",
    "    X_train, y_train = train\n",
    "    X_test, y_test = test\n",
    "    train_shape = X_train.shape[1:]\n",
    "    test_shape = X_test.shape[1:]\n",
    "    \n",
    "    X_train = X_train.reshape(-1, n_cores, *train_shape)\n",
    "    y_train = y_train.reshape(-1, n_cores, train_shape[0])\n",
    "    \n",
    "    X_test = X_test.reshape(-1, n_cores, *test_shape)\n",
    "    y_test = y_test.reshape(-1, n_cores, test_shape[0])\n",
    "    \n",
    "    coefs = jax.tree_map(lambda x: x.reshape(-1, n_cores), coefs)\n",
    "    \n",
    "    benchmark_fn = partial(benchmark_fn, method=method, hparams=hparams, **kwargs)\n",
    "    \n",
    "    peval = jax.jit(benchmark_fn)\n",
    "    peval = jax.vmap(benchmark_fn, in_axes=0)\n",
    "    peval = jax.pmap(peval, in_axes=1)\n",
    "\n",
    "    res = peval(X_train, y_train, X_test, y_test, coefs)\n",
    "    \n",
    "    res = jax.tree_map(lambda x: x.reshape(-1, *x.shape[2:]), res)\n",
    "    return res"
   ]
  },
  {
   "cell_type": "code",
   "execution_count": 968,
   "id": "a679b563-9651-4206-b730-9641580fc82d",
   "metadata": {},
   "outputs": [],
   "source": [
    "n_cores = 5"
   ]
  },
  {
   "cell_type": "markdown",
   "id": "765c7c17-ab47-4615-9ed2-812245a643ea",
   "metadata": {},
   "source": [
    "# Evaluate results"
   ]
  },
  {
   "cell_type": "code",
   "execution_count": 969,
   "id": "ca25c3d5-f9a2-49ce-b696-5aefb8e6210c",
   "metadata": {},
   "outputs": [],
   "source": [
    "results = {}"
   ]
  },
  {
   "cell_type": "code",
   "execution_count": 970,
   "id": "3cf60d4d-12bb-434f-b517-288907863531",
   "metadata": {},
   "outputs": [
    {
     "data": {
      "text/plain": [
       "'kin8nm_rank02_50pass'"
      ]
     },
     "execution_count": 970,
     "metadata": {},
     "output_type": "execute_result"
    }
   ],
   "source": [
    "dataset_agent_name = f\"{dataset_agent_name}_{npass}pass\"\n",
    "\n",
    "def concatenate_2k(x, k=5):\n",
    "    xc = [x, x[::-1]] * k\n",
    "    xc = jnp.concatenate(xc, axis=1)\n",
    "    return xc\n",
    "\n",
    "\n",
    "def shuffle_and_expand(key, x, ixs, k):\n",
    "    new_ixs = jnp.arange(ixs)\n",
    "    new_ixs = jnp.repeat(new_ixs, k).reshape(-1, k)\n",
    "    new_ixs = jax.random.permutation(key, new_ixs, axis=0, independent=True)\n",
    "    new_ixs = new_ixs.reshape(-1, order=\"F\")\n",
    "    \n",
    "    return x[new_ixs]\n",
    "\n",
    "\n",
    "key = jax.random.PRNGKey(314)\n",
    "def concatenate_random(x, k=10):\n",
    "    folds, ixs, *_ = x.shape\n",
    "    \n",
    "    keys = jax.random.split(key, folds)\n",
    "    x_new = jax.vmap(shuffle_and_expand, (0, 0, None, None))(keys, x, ixs, k)\n",
    "    return x_new\n",
    "\n",
    "\n",
    "partial_concat = partial(concatenate_random, k=npass)\n",
    "train_folds = jax.tree_map(partial_concat, train_folds)\n",
    "dataset_agent_name"
   ]
  },
  {
   "cell_type": "markdown",
   "id": "c474dc46-4a35-44db-9d1e-14ddc86733f0",
   "metadata": {},
   "source": [
    "## EKF"
   ]
  },
  {
   "cell_type": "code",
   "execution_count": 971,
   "id": "10439262-6da6-4f87-9981-e423aaf26191",
   "metadata": {},
   "outputs": [
    {
     "name": "stdout",
     "output_type": "stream",
     "text": [
      "CPU times: user 2.53 s, sys: 200 ms, total: 2.73 s\n",
      "Wall time: 4min 3s\n"
     ]
    }
   ],
   "source": [
    "%%time\n",
    "method = \"fcekf\"\n",
    "time_init = time()\n",
    "hparams = agents_res[method][\"hparams\"][\"params\"]\n",
    "res = eval_agent_multiple(train_folds, test_folds, coefs_all, benchmark_ekf, method, hparams, n_cores)\n",
    "jax.block_until_ready(res)\n",
    "time_end = time()\n",
    "\n",
    "res[\"running_time\"] = time_end - time_init\n",
    "results[method] = tree_to_cpu(res)"
   ]
  },
  {
   "cell_type": "code",
   "execution_count": 972,
   "id": "8db9fadb-b0b8-44f1-bd6f-6bf5563c942b",
   "metadata": {},
   "outputs": [
    {
     "name": "stdout",
     "output_type": "stream",
     "text": [
      "CPU times: user 2.06 s, sys: 233 ms, total: 2.29 s\n",
      "Wall time: 3min 30s\n"
     ]
    }
   ],
   "source": [
    "%%time\n",
    "time_init = time()\n",
    "\n",
    "method = \"fdekf\"\n",
    "hparams = agents_res[method][\"hparams\"][\"params\"]\n",
    "res = eval_agent_multiple(train_folds, test_folds, coefs_all, benchmark_ekf, method, hparams, n_cores)\n",
    "jax.block_until_ready(res)\n",
    "jax.tree_map(jnp.shape, res)\n",
    "\n",
    "time_end = time()\n",
    "\n",
    "res[\"running_time\"] = time_end - time_init\n",
    "results[method] = tree_to_cpu(res)"
   ]
  },
  {
   "cell_type": "code",
   "execution_count": null,
   "id": "34cfc0ad-9c43-4a55-a832-50ad0a75f273",
   "metadata": {},
   "outputs": [],
   "source": [
    "%%time\n",
    "time_init = time()\n",
    "\n",
    "method = \"vdekf\"\n",
    "hparams = agents_res[method][\"hparams\"][\"params\"]\n",
    "res = eval_agent_multiple(train_folds, test_folds, coefs_all, benchmark_ekf, method, hparams, n_cores)\n",
    "jax.block_until_ready(res)\n",
    "jax.tree_map(jnp.shape, res)\n",
    "\n",
    "time_end = time()\n",
    "res[\"running_time\"] = time_end - time_init\n",
    "results[method] = tree_to_cpu(res)"
   ]
  },
  {
   "cell_type": "markdown",
   "id": "88dce9e9-2b7f-44d6-87f9-01ac8ee25dac",
   "metadata": {},
   "source": [
    "## LoFi"
   ]
  },
  {
   "cell_type": "raw",
   "id": "a57493d9-58a4-48a9-93de-76c34c4a0495",
   "metadata": {},
   "source": [
    "%%time\n",
    "time_init = time()\n",
    "\n",
    "method = \"lofi_orth\"\n",
    "hparams = agents_res[method][\"hparams\"][\"params\"]\n",
    "res = eval_agent_multiple(train_folds, test_folds, coefs_all, benchmark_lofi, method, hparams, n_cores)\n",
    "jax.block_until_ready(res)\n",
    "jax.tree_map(jnp.shape, res)\n",
    "\n",
    "time_end = time()\n",
    "\n",
    "res[\"running_time\"] = time_end - time_init\n",
    "results[method] = tree_to_cpu(res)"
   ]
  },
  {
   "cell_type": "code",
   "execution_count": null,
   "id": "1b253fa7-0ec3-4973-b09d-78422fa9559c",
   "metadata": {},
   "outputs": [],
   "source": [
    "%%time\n",
    "time_init = time()\n",
    "\n",
    "params_lofi = lofi.LoFiParams(\n",
    "    memory_size=dim_rank,\n",
    "    sv_threshold=0,\n",
    "    steady_state=True,\n",
    "    diagonal_covariance=False\n",
    ")\n",
    "\n",
    "\n",
    "method = \"lofi\"\n",
    "hparams = agents_res[method][\"hparams\"][\"params\"]\n",
    "partial_benchmark = partial(benchmark_lofi, params_lofi=params_lofi)\n",
    "res = eval_agent_multiple(train_folds, test_folds, coefs_all, partial_benchmark, method, hparams, n_cores)\n",
    "jax.block_until_ready(res)\n",
    "jax.tree_map(jnp.shape, res)\n",
    "\n",
    "time_end = time()\n",
    "\n",
    "res[\"running_time\"] = time_end - time_init\n",
    "results[method] = tree_to_cpu(res)"
   ]
  },
  {
   "cell_type": "code",
   "execution_count": null,
   "id": "c18843ab-0125-4924-bf5e-e3b4e05bb9a6",
   "metadata": {},
   "outputs": [],
   "source": [
    "%%time\n",
    "time_init = time()\n",
    "\n",
    "params_lofi = lofi.LoFiParams(\n",
    "    memory_size=dim_rank,\n",
    "    sv_threshold=0,\n",
    "    steady_state=True,\n",
    "    diagonal_covariance=True\n",
    ")\n",
    "\n",
    "\n",
    "method = \"lofi_diag\"\n",
    "hparams = agents_res[method][\"hparams\"][\"params\"]\n",
    "partial_benchmark = partial(benchmark_lofi, params_lofi=params_lofi)\n",
    "res = eval_agent_multiple(train_folds, test_folds, coefs_all, partial_benchmark, \"lofi\", hparams, n_cores)\n",
    "jax.block_until_ready(res)\n",
    "jax.tree_map(jnp.shape, res)\n",
    "\n",
    "time_end = time()\n",
    "\n",
    "res[\"running_time\"] = time_end - time_init\n",
    "results[method] = tree_to_cpu(res)"
   ]
  },
  {
   "cell_type": "markdown",
   "id": "333c3425-4cda-44f4-b5d0-fee03a751db1",
   "metadata": {},
   "source": [
    "## L-RVGA"
   ]
  },
  {
   "cell_type": "raw",
   "id": "c2cfeaa7-a979-4a9f-ab3c-186bcd0b8d86",
   "metadata": {},
   "source": [
    "fwd_link = partial(benchmark.fwd_link_main, model=model, reconstruct_fn=reconstruct_fn)\n",
    "lrvga_kwargs = {\n",
    "    \"model\": model,\n",
    "    \"fwd_link\": fwd_link,\n",
    "    \"log_prob\": partial(benchmark.log_prob_main, fwd_link=fwd_link),\n",
    "    \"dim_rank\": dim_rank,\n",
    "    \"n_outer\": 6,\n",
    "    \"n_inner\": 4,\n",
    "    \"key\": key,\n",
    "}"
   ]
  },
  {
   "cell_type": "raw",
   "id": "839dd8c3-9cf7-4167-ae08-9af392683e01",
   "metadata": {},
   "source": [
    "%%time\n",
    "time_init = time()\n",
    "\n",
    "method = \"lrvga\"\n",
    "hparams = agents_res[method][\"hparams\"][\"params\"]\n",
    "res = eval_agent_multiple(train_folds, test_folds, coefs_all, benchmark_lrvga, method, hparams, **lrvga_kwargs)\n",
    "jax.block_until_ready(res)\n",
    "jax.tree_map(jnp.shape, res)\n",
    "\n",
    "time_end = time()\n",
    "\n",
    "res[\"running_time\"] = time_end - time_init\n",
    "results[method] = tree_to_cpu(res)"
   ]
  },
  {
   "cell_type": "markdown",
   "id": "b4e34b94-0f86-4748-b34c-a5134eecf84c",
   "metadata": {
    "tags": []
   },
   "source": [
    "## SGD—replay buffer"
   ]
  },
  {
   "cell_type": "code",
   "execution_count": null,
   "id": "f91adaa3-be99-4697-81bc-92d1328e4a09",
   "metadata": {},
   "outputs": [],
   "source": [
    "def apply_fn_sgd(params, x, model):\n",
    "    return model.apply(params, x)\n",
    "\n",
    "apply_fn_sgd = partial(apply_fn_sgd, model=model)"
   ]
  },
  {
   "cell_type": "code",
   "execution_count": null,
   "id": "294ffd64-d24d-4149-a1aa-0b75215d2ca3",
   "metadata": {},
   "outputs": [],
   "source": [
    "%%time\n",
    "\n",
    "time_init = time()\n",
    "\n",
    "method = \"sgd-rb\"\n",
    "learning_rate = 1e-4\n",
    "buffer_size = dim_rank\n",
    "n_inner = 10\n",
    "\n",
    "agent = rsgd.FifoSGD(\n",
    "    benchmark.lossfn_rmse_fifo,\n",
    "    apply_fn=model.apply,\n",
    "    init_params=params_init,\n",
    "    tx=optax.adam(learning_rate),\n",
    "    buffer_size=dim_rank,\n",
    "    dim_features=n_features,\n",
    "    dim_output=1,\n",
    "    n_inner=n_inner\n",
    ")\n",
    "\n",
    "sgd_kwargs = {\n",
    "    \"agent\": agent,\n",
    "}\n",
    "\n",
    "hparams = None\n",
    "res = eval_agent_multiple(\n",
    "    train_folds, test_folds, coefs_all, benchmark_replay_sgd, method, hparams, **sgd_kwargs\n",
    ")\n",
    "\n",
    "time_end = time()\n",
    "\n",
    "res[\"running_time\"] = time_end - time_init\n",
    "results[method] = tree_to_cpu(res)"
   ]
  },
  {
   "cell_type": "markdown",
   "id": "ed422ced-b7fc-48ab-aed3-1508f666d952",
   "metadata": {},
   "source": [
    "## Store result"
   ]
  },
  {
   "cell_type": "code",
   "execution_count": null,
   "id": "6d0b4040-caef-4cd1-90ce-d13677fd4b07",
   "metadata": {},
   "outputs": [],
   "source": [
    "results_df = pd.DataFrame(jax.tree_map(jnp.nanmean, results))\n",
    "results_df = results_df.astype(float)"
   ]
  },
  {
   "cell_type": "code",
   "execution_count": null,
   "id": "ddaaaf23-b55e-405f-aa93-adfe293ce44b",
   "metadata": {},
   "outputs": [],
   "source": [
    "sns.barplot(\n",
    "    x=\"variable\",\n",
    "    y=\"value\",\n",
    "    hue=\"index\",\n",
    "    data=results_df.reset_index().melt(id_vars=\"index\").query(\"index != 'osa-error'\")\n",
    ")"
   ]
  },
  {
   "cell_type": "code",
   "execution_count": null,
   "id": "2166c307-faa1-4694-8806-f9c891827bf2",
   "metadata": {},
   "outputs": [],
   "source": [
    "import pickle\n",
    "\n",
    "path_cval = os.path.join(\"..\", \"output\", \"cross-validation\")\n",
    "path_store = os.path.join(path_cval, f\"{dataset_agent_name}.pkl\")\n",
    "\n",
    "with open(path_store, \"wb\") as f:\n",
    "    pickle.dump(results, f)\n",
    "    \n",
    "path_store"
   ]
  },
  {
   "cell_type": "code",
   "execution_count": null,
   "id": "2c1fba68-a83a-4814-b785-b692c63de9ec",
   "metadata": {},
   "outputs": [],
   "source": [
    "from IPython.lib.display import Audio\n",
    "import numpy as np\n",
    "\n",
    "framerate = 4410\n",
    "play_time_seconds = 1\n",
    "\n",
    "t = np.linspace(0, play_time_seconds, framerate*play_time_seconds)\n",
    "audio_data = np.sin(2*np.pi*300*t) + np.sin(2*np.pi*240*t)\n",
    "Audio(audio_data, rate=framerate, autoplay=True)\n"
   ]
  },
  {
   "cell_type": "code",
   "execution_count": null,
   "id": "5d8e8c5c-96f0-4f65-8122-057ff599c724",
   "metadata": {},
   "outputs": [],
   "source": [
    "# Remove L-RVGA from multiple-pass experiment\n",
    "methods = [method for method in methods if method != \"lrvga\"]\n",
    "order_cols = [method for method in order_cols if method != \"lrvga\"]"
   ]
  },
  {
   "cell_type": "markdown",
   "id": "05f733e3-794e-4b5d-b38b-4a264f2ae2f2",
   "metadata": {},
   "source": [
    "# Plots"
   ]
  },
  {
   "cell_type": "code",
   "execution_count": null,
   "id": "64f851dc-4797-46cb-9527-73bc23ea10e8",
   "metadata": {},
   "outputs": [],
   "source": [
    "test_collection = get_subtree(results, \"test\")\n",
    "osa_collection =  get_subtree(results, \"osa-error\")"
   ]
  },
  {
   "cell_type": "code",
   "execution_count": null,
   "id": "3d2d4141-6f62-4cf8-9f44-9d739387c40c",
   "metadata": {},
   "outputs": [],
   "source": [
    "fig, ax = plt.subplots()\n",
    "for method in order_cols:\n",
    "    color = colors[method]\n",
    "    label = f\"{method}\"\n",
    "    test_res = pd.DataFrame(test_collection[method].T[100:])\n",
    "    plot_bounds(test_res, ax, color, label, rolling=1)\n",
    "plt.legend()\n",
    "plt.ylabel(f\"RMSE test - {dataset_name}\")\n",
    "plt.xlabel(\"num. observations\")\n",
    "plt.grid(alpha=0.4)\n",
    "# plt.savefig(f\"output/images/{dataset_agent_name}-test-set.pdf\")"
   ]
  },
  {
   "cell_type": "code",
   "execution_count": null,
   "id": "e897e38f-0f3b-482c-b9e4-b97235925ad5",
   "metadata": {},
   "outputs": [],
   "source": [
    "fig, ax = plt.subplots()\n",
    "for method in order_cols:\n",
    "    color = colors[method]\n",
    "    label = f\"{method}\"\n",
    "    test_res = pd.DataFrame(osa_collection[method].T[100:])\n",
    "    plot_bounds(test_res, ax, color, label, rolling=100)\n",
    "plt.legend()\n",
    "plt.ylabel(f\"RMSE o.s.a - {dataset_name}\")\n",
    "plt.xlabel(\"num. observations\")\n",
    "plt.grid(alpha=0.4)\n",
    "# plt.savefig(f\"output/images/{dataset_agent_name}-one-step-ahead.pdf\")"
   ]
  },
  {
   "cell_type": "code",
   "execution_count": null,
   "id": "650b710c-3472-4d53-b7ce-9047836dfbd6",
   "metadata": {},
   "outputs": [],
   "source": [
    "last_rmse = jax.tree_map(lambda x: x[:, -1], test_collection)\n",
    "last_rmse = pd.DataFrame(last_rmse).melt(value_name=\"RMSE\", var_name=\"agent\").dropna()\n",
    "sns.boxenplot(last_rmse, x=\"agent\", y=\"RMSE\", palette=colors, order=order_cols)\n",
    "plt.grid(alpha=0.3)\n",
    "# plt.savefig(f\"output/images/{dataset_agent_name}-test-set-last.pdf\")"
   ]
  },
  {
   "cell_type": "code",
   "execution_count": null,
   "id": "ad439191-3463-4055-8530-6a3fa149c7aa",
   "metadata": {},
   "outputs": [],
   "source": [
    "def format_row(row):\n",
    "    mean = row[\"mean\"]\n",
    "    std = row[\"std\"]\n",
    "    label = rf\"${mean:0.2f} \\pm {std:0.2f}$\"\n",
    "    return [label]"
   ]
  },
  {
   "cell_type": "code",
   "execution_count": null,
   "id": "2f0de73c-d108-42a8-b534-6c213e5e8b1d",
   "metadata": {},
   "outputs": [],
   "source": [
    "last_rmse = pd.DataFrame(jax.tree_map(lambda x: x[:, -1], test_collection))\n",
    "last_rmse = last_rmse.agg([\"mean\", \"std\"]).apply(format_row)\n",
    "last_rmse.index = [dataset_name]\n",
    "\n",
    "last_rmse = last_rmse[order_cols]\n",
    "print(last_rmse.style.to_latex())"
   ]
  },
  {
   "cell_type": "code",
   "execution_count": null,
   "id": "441e5806-4afa-40e7-aa2c-6104ccef4d80",
   "metadata": {},
   "outputs": [],
   "source": [
    "last_rmse.T"
   ]
  }
 ],
 "metadata": {
  "kernelspec": {
   "display_name": "Python 3 (ipykernel)",
   "language": "python",
   "name": "python3"
  },
  "language_info": {
   "codemirror_mode": {
    "name": "ipython",
    "version": 3
   },
   "file_extension": ".py",
   "mimetype": "text/x-python",
   "name": "python",
   "nbconvert_exporter": "python",
   "pygments_lexer": "ipython3",
   "version": "3.10.8"
  }
 },
 "nbformat": 4,
 "nbformat_minor": 5
}
