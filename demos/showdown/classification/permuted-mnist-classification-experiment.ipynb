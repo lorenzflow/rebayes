{
  "cells": [
    {
      "cell_type": "markdown",
      "metadata": {
        "id": "2RLIFglg_DR0"
      },
      "source": [
        "# 0. Imports and Dataset Load"
      ]
    },
    {
      "cell_type": "code",
      "source": [
        "# %pip install dynamax\n",
        "# %pip install git+https://github.com/probml/rebayes.git\n",
        "# %pip install jax-dataloader\n",
        "# %pip install jax-tqdm\n",
        "# %pip install flax\n",
        "# %pip install avalanche-lib\n",
        "# %pip install bayesian-optimization"
      ],
      "metadata": {
        "id": "2jzuvb99_Ffw"
      },
      "execution_count": 2,
      "outputs": []
    },
    {
      "cell_type": "code",
      "execution_count": 3,
      "metadata": {
        "id": "CeIEWYSO_DR1"
      },
      "outputs": [],
      "source": [
        "from functools import partial\n",
        "from pathlib import Path\n",
        "import pickle\n",
        "\n",
        "import jax\n",
        "import jax.numpy as jnp\n",
        "import matplotlib.pyplot as plt\n",
        "from tqdm import trange\n",
        "import jax_dataloader.core as jdl\n",
        "import optax\n",
        "\n",
        "from rebayes.low_rank_filter.lofi import LoFiParams\n",
        "from demos.showdown.classification import (\n",
        "    permuted_mnist as core,\n",
        "    classification_train as benchmark,\n",
        "    hparam_tune_clf as hpt,\n",
        ")"
      ]
    },
    {
      "cell_type": "code",
      "execution_count": 5,
      "metadata": {
        "id": "D3gBSHYM_DR2"
      },
      "outputs": [],
      "source": [
        "data_kwargs = {\n",
        "    'n_tasks': 100,\n",
        "    'ntrain_per_task': 600,\n",
        "    'nval_per_task': 1_000,\n",
        "    'ntest_per_task': 1_000,\n",
        "}\n",
        "\n",
        "dataset = benchmark.load_permuted_mnist_dataset(**data_kwargs, fashion=True)"
      ]
    },
    {
      "cell_type": "code",
      "source": [
        "output_path = Path(Path.cwd(), 'output', 'permuted-mnist', 'experiment')\n",
        "output_path.mkdir(parents=True, exist_ok=True)"
      ],
      "metadata": {
        "id": "zTg72y99DDp7"
      },
      "execution_count": 17,
      "outputs": []
    },
    {
      "cell_type": "code",
      "execution_count": 6,
      "metadata": {
        "id": "yDdWU9MT_DR2"
      },
      "outputs": [],
      "source": [
        "features = [400, 400, 10]\n",
        "model_dict = benchmark.init_model(type='mlp', features=features)"
      ]
    },
    {
      "cell_type": "code",
      "execution_count": 7,
      "metadata": {
        "id": "uY-uHhLU_DR2"
      },
      "outputs": [],
      "source": [
        "(Xtr, Ytr), (Xval, Yval), (Xte, Yte) = dataset.values()"
      ]
    },
    {
      "cell_type": "code",
      "execution_count": 8,
      "metadata": {
        "id": "6AsNyNzX_DR2"
      },
      "outputs": [],
      "source": [
        "# Measure in-task performance after 5 tasks\n",
        "val_after = 5\n",
        "X_warmup_tr = Xtr[:val_after*data_kwargs[\"ntrain_per_task\"]]\n",
        "Y_warmup_tr = Ytr[:val_after*data_kwargs[\"ntrain_per_task\"]]\n",
        "warmup_train = (X_warmup_tr, Y_warmup_tr)\n",
        "\n",
        "X_warmup_val = Xval[(val_after-1)*data_kwargs[\"nval_per_task\"]:val_after*data_kwargs[\"nval_per_task\"]]\n",
        "Y_warmup_val = Yval[(val_after-1)*data_kwargs[\"nval_per_task\"]:val_after*data_kwargs[\"nval_per_task\"]]\n",
        "warmup_val = (X_warmup_val, Y_warmup_val)"
      ]
    },
    {
      "cell_type": "code",
      "execution_count": 9,
      "metadata": {
        "id": "WCKryQeK_DR2"
      },
      "outputs": [],
      "source": [
        "ll_calback = partial(benchmark.eval_callback, evaluate_fn=benchmark.mnist_evaluate_ll)"
      ]
    },
    {
      "cell_type": "markdown",
      "metadata": {
        "id": "AS0triiF_DR3"
      },
      "source": [
        "# 1. FDEKF"
      ]
    },
    {
      "cell_type": "markdown",
      "metadata": {
        "id": "ZKPwX3WJ_DR3"
      },
      "source": [
        "## 1.1 Hyperparam Tuning"
      ]
    },
    {
      "cell_type": "code",
      "execution_count": 10,
      "metadata": {
        "id": "wSfv6fGg_DR3"
      },
      "outputs": [],
      "source": [
        "pbounds={\n",
        "    'log_init_cov': (-10, 1),\n",
        "    'log_dynamics_weights': (-50, 0),\n",
        "    'log_dynamics_cov': (-50, 0),\n",
        "    'log_alpha': (-50, 0),\n",
        "}\n",
        "fdekf_model = 'fdekf'"
      ]
    },
    {
      "cell_type": "code",
      "execution_count": null,
      "metadata": {
        "id": "mDjGNtG6_DR3"
      },
      "outputs": [],
      "source": [
        "fdekf_optimizer, apply_fn, n_feats = hpt.create_optimizer(\n",
        "    model_dict[\"model\"], pbounds, 314, warmup_train, warmup_val, \n",
        "    model_dict[\"emission_mean_function\"], model_dict[\"emission_cov_function\"],\n",
        "    ll_calback, 'fdekf',\n",
        ")"
      ]
    },
    {
      "cell_type": "code",
      "execution_count": null,
      "metadata": {
        "id": "xWpOS9Bj_DR3",
        "outputId": "35f5ad95-70f9-4ab6-f71c-35d61249f4f2"
      },
      "outputs": [
        {
          "name": "stdout",
          "output_type": "stream",
          "text": [
            "|   iter    |  target   | log_alpha | log_dy... | log_dy... | log_in... |\n",
            "-------------------------------------------------------------------------\n",
            "| \u001b[0m1        \u001b[0m | \u001b[0m-2.017e+0\u001b[0m | \u001b[0m-4.156   \u001b[0m | \u001b[0m-20.57   \u001b[0m | \u001b[0m-36.75   \u001b[0m | \u001b[0m-1.385   \u001b[0m |\n",
            "| \u001b[0m2        \u001b[0m | \u001b[0m-2.958e+0\u001b[0m | \u001b[0m-4.1     \u001b[0m | \u001b[0m-8.632   \u001b[0m | \u001b[0m-13.6    \u001b[0m | \u001b[0m-7.135   \u001b[0m |\n",
            "| \u001b[0m3        \u001b[0m | \u001b[0m-2.971e+0\u001b[0m | \u001b[0m-4.412   \u001b[0m | \u001b[0m-36.96   \u001b[0m | \u001b[0m-11.68   \u001b[0m | \u001b[0m-7.123   \u001b[0m |\n",
            "| \u001b[95m4        \u001b[0m | \u001b[95m-2.291   \u001b[0m | \u001b[95m-43.89   \u001b[0m | \u001b[95m-30.7    \u001b[0m | \u001b[95m-7.996   \u001b[0m | \u001b[95m-6.94    \u001b[0m |\n",
            "| \u001b[95m5        \u001b[0m | \u001b[95m-0.8011  \u001b[0m | \u001b[95m-46.5    \u001b[0m | \u001b[95m-18.34   \u001b[0m | \u001b[95m-20.76   \u001b[0m | \u001b[95m-3.606   \u001b[0m |\n",
            "| \u001b[0m6        \u001b[0m | \u001b[0m-1.122   \u001b[0m | \u001b[0m-16.14   \u001b[0m | \u001b[0m-15.64   \u001b[0m | \u001b[0m-28.05   \u001b[0m | \u001b[0m-6.47    \u001b[0m |\n",
            "| \u001b[0m7        \u001b[0m | \u001b[0m-2.072   \u001b[0m | \u001b[0m-21.47   \u001b[0m | \u001b[0m-26.01   \u001b[0m | \u001b[0m-6.946   \u001b[0m | \u001b[0m-0.8171  \u001b[0m |\n",
            "| \u001b[0m8        \u001b[0m | \u001b[0m-1.984   \u001b[0m | \u001b[0m-44.71   \u001b[0m | \u001b[0m-46.98   \u001b[0m | \u001b[0m-20.16   \u001b[0m | \u001b[0m-1.284   \u001b[0m |\n",
            "| \u001b[0m9        \u001b[0m | \u001b[0m-1.003   \u001b[0m | \u001b[0m-38.68   \u001b[0m | \u001b[0m-23.24   \u001b[0m | \u001b[0m-43.2    \u001b[0m | \u001b[0m-5.905   \u001b[0m |\n",
            "| \u001b[0m10       \u001b[0m | \u001b[0m-0.9758  \u001b[0m | \u001b[0m-42.4    \u001b[0m | \u001b[0m-28.51   \u001b[0m | \u001b[0m-10.36   \u001b[0m | \u001b[0m-5.523   \u001b[0m |\n",
            "| \u001b[0m11       \u001b[0m | \u001b[0m-976.2   \u001b[0m | \u001b[0m-41.11   \u001b[0m | \u001b[0m-4.537   \u001b[0m | \u001b[0m-22.73   \u001b[0m | \u001b[0m-8.895   \u001b[0m |\n",
            "| \u001b[0m12       \u001b[0m | \u001b[0m-520.1   \u001b[0m | \u001b[0m-14.06   \u001b[0m | \u001b[0m-1.079   \u001b[0m | \u001b[0m-34.51   \u001b[0m | \u001b[0m-7.139   \u001b[0m |\n",
            "| \u001b[0m13       \u001b[0m | \u001b[0m-0.8037  \u001b[0m | \u001b[0m-16.86   \u001b[0m | \u001b[0m-43.01   \u001b[0m | \u001b[0m-45.81   \u001b[0m | \u001b[0m-4.205   \u001b[0m |\n",
            "| \u001b[0m14       \u001b[0m | \u001b[0m-261.3   \u001b[0m | \u001b[0m-19.49   \u001b[0m | \u001b[0m-6.631   \u001b[0m | \u001b[0m-42.55   \u001b[0m | \u001b[0m-0.4953  \u001b[0m |\n",
            "| \u001b[0m15       \u001b[0m | \u001b[0m-0.8818  \u001b[0m | \u001b[0m-27.5    \u001b[0m | \u001b[0m-13.66   \u001b[0m | \u001b[0m-42.25   \u001b[0m | \u001b[0m-5.412   \u001b[0m |\n",
            "| \u001b[0m16       \u001b[0m | \u001b[0m-2.203   \u001b[0m | \u001b[0m-42.88   \u001b[0m | \u001b[0m-33.04   \u001b[0m | \u001b[0m-14.86   \u001b[0m | \u001b[0m-9.152   \u001b[0m |\n",
            "| \u001b[0m17       \u001b[0m | \u001b[0m-149.4   \u001b[0m | \u001b[0m-46.48   \u001b[0m | \u001b[0m-0.9017  \u001b[0m | \u001b[0m-47.92   \u001b[0m | \u001b[0m-8.908   \u001b[0m |\n",
            "| \u001b[0m18       \u001b[0m | \u001b[0m-2.303   \u001b[0m | \u001b[0m-38.98   \u001b[0m | \u001b[0m-17.0    \u001b[0m | \u001b[0m-0.1926  \u001b[0m | \u001b[0m0.6676   \u001b[0m |\n",
            "| \u001b[0m19       \u001b[0m | \u001b[0m-1.168e+0\u001b[0m | \u001b[0m-16.17   \u001b[0m | \u001b[0m-0.07596 \u001b[0m | \u001b[0m-43.94   \u001b[0m | \u001b[0m-5.201   \u001b[0m |\n",
            "| \u001b[0m20       \u001b[0m | \u001b[0m-0.8022  \u001b[0m | \u001b[0m-41.64   \u001b[0m | \u001b[0m-22.63   \u001b[0m | \u001b[0m-11.45   \u001b[0m | \u001b[0m-3.769   \u001b[0m |\n",
            "| \u001b[0m21       \u001b[0m | \u001b[0m-264.3   \u001b[0m | \u001b[0m-29.62   \u001b[0m | \u001b[0m-24.57   \u001b[0m | \u001b[0m-27.18   \u001b[0m | \u001b[0m1.0      \u001b[0m |\n",
            "| \u001b[0m22       \u001b[0m | \u001b[0m-2.248   \u001b[0m | \u001b[0m-38.28   \u001b[0m | \u001b[0m-50.0    \u001b[0m | \u001b[0m-48.26   \u001b[0m | \u001b[0m-9.837   \u001b[0m |\n",
            "| \u001b[0m23       \u001b[0m | \u001b[0m-264.3   \u001b[0m | \u001b[0m-50.0    \u001b[0m | \u001b[0m-37.84   \u001b[0m | \u001b[0m-50.0    \u001b[0m | \u001b[0m1.0      \u001b[0m |\n",
            "| \u001b[0m24       \u001b[0m | \u001b[0m-2.303   \u001b[0m | \u001b[0m-33.72   \u001b[0m | \u001b[0m-46.67   \u001b[0m | \u001b[0m-0.7658  \u001b[0m | \u001b[0m0.6314   \u001b[0m |\n",
            "| \u001b[0m25       \u001b[0m | \u001b[0m-2.303   \u001b[0m | \u001b[0m-50.0    \u001b[0m | \u001b[0m-50.0    \u001b[0m | \u001b[0m0.0      \u001b[0m | \u001b[0m1.0      \u001b[0m |\n",
            "| \u001b[0m26       \u001b[0m | \u001b[0m-2.255   \u001b[0m | \u001b[0m-50.0    \u001b[0m | \u001b[0m-50.0    \u001b[0m | \u001b[0m-33.92   \u001b[0m | \u001b[0m-10.0    \u001b[0m |\n",
            "| \u001b[0m27       \u001b[0m | \u001b[0m-2.255   \u001b[0m | \u001b[0m-29.36   \u001b[0m | \u001b[0m-50.0    \u001b[0m | \u001b[0m-31.75   \u001b[0m | \u001b[0m-10.0    \u001b[0m |\n",
            "| \u001b[0m28       \u001b[0m | \u001b[0m-169.9   \u001b[0m | \u001b[0m-50.0    \u001b[0m | \u001b[0m-14.25   \u001b[0m | \u001b[0m-50.0    \u001b[0m | \u001b[0m1.0      \u001b[0m |\n",
            "| \u001b[0m29       \u001b[0m | \u001b[0m-2.255   \u001b[0m | \u001b[0m-50.0    \u001b[0m | \u001b[0m-30.7    \u001b[0m | \u001b[0m-32.87   \u001b[0m | \u001b[0m-10.0    \u001b[0m |\n",
            "| \u001b[0m30       \u001b[0m | \u001b[0m-264.3   \u001b[0m | \u001b[0m-27.22   \u001b[0m | \u001b[0m-50.0    \u001b[0m | \u001b[0m-50.0    \u001b[0m | \u001b[0m1.0      \u001b[0m |\n",
            "| \u001b[0m31       \u001b[0m | \u001b[0m-2.255   \u001b[0m | \u001b[0m-27.31   \u001b[0m | \u001b[0m-33.25   \u001b[0m | \u001b[0m-50.0    \u001b[0m | \u001b[0m-10.0    \u001b[0m |\n",
            "| \u001b[0m32       \u001b[0m | \u001b[0m-2.303   \u001b[0m | \u001b[0m-30.49   \u001b[0m | \u001b[0m-28.14   \u001b[0m | \u001b[0m0.0      \u001b[0m | \u001b[0m-10.0    \u001b[0m |\n",
            "| \u001b[0m33       \u001b[0m | \u001b[0m-1e+08   \u001b[0m | \u001b[0m0.0      \u001b[0m | \u001b[0m-50.0    \u001b[0m | \u001b[0m-50.0    \u001b[0m | \u001b[0m-10.0    \u001b[0m |\n",
            "| \u001b[0m34       \u001b[0m | \u001b[0m-2.345   \u001b[0m | \u001b[0m-50.0    \u001b[0m | \u001b[0m0.0      \u001b[0m | \u001b[0m0.0      \u001b[0m | \u001b[0m-10.0    \u001b[0m |\n",
            "| \u001b[0m35       \u001b[0m | \u001b[0m-2.345   \u001b[0m | \u001b[0m-21.06   \u001b[0m | \u001b[0m0.0      \u001b[0m | \u001b[0m0.0      \u001b[0m | \u001b[0m-10.0    \u001b[0m |\n",
            "| \u001b[0m36       \u001b[0m | \u001b[0m-2.303   \u001b[0m | \u001b[0m0.0      \u001b[0m | \u001b[0m-50.0    \u001b[0m | \u001b[0m0.0      \u001b[0m | \u001b[0m1.0      \u001b[0m |\n",
            "| \u001b[0m37       \u001b[0m | \u001b[0m-264.3   \u001b[0m | \u001b[0m-22.64   \u001b[0m | \u001b[0m-37.4    \u001b[0m | \u001b[0m-37.96   \u001b[0m | \u001b[0m1.0      \u001b[0m |\n",
            "| \u001b[0m38       \u001b[0m | \u001b[0m-2.482   \u001b[0m | \u001b[0m0.0      \u001b[0m | \u001b[0m0.0      \u001b[0m | \u001b[0m0.0      \u001b[0m | \u001b[0m1.0      \u001b[0m |\n",
            "| \u001b[0m39       \u001b[0m | \u001b[0m-1e+08   \u001b[0m | \u001b[0m0.0      \u001b[0m | \u001b[0m0.0      \u001b[0m | \u001b[0m-50.0    \u001b[0m | \u001b[0m1.0      \u001b[0m |\n",
            "| \u001b[0m40       \u001b[0m | \u001b[0m-1e+08   \u001b[0m | \u001b[0m-0.5944  \u001b[0m | \u001b[0m-23.62   \u001b[0m | \u001b[0m-2.286   \u001b[0m | \u001b[0m0.2932   \u001b[0m |\n",
            "| \u001b[0m41       \u001b[0m | \u001b[0m-2.26    \u001b[0m | \u001b[0m-15.46   \u001b[0m | \u001b[0m-50.0    \u001b[0m | \u001b[0m-11.63   \u001b[0m | \u001b[0m-10.0    \u001b[0m |\n",
            "| \u001b[0m42       \u001b[0m | \u001b[0m-313.9   \u001b[0m | \u001b[0m-27.94   \u001b[0m | \u001b[0m-0.6256  \u001b[0m | \u001b[0m-15.59   \u001b[0m | \u001b[0m0.6507   \u001b[0m |\n",
            "| \u001b[0m43       \u001b[0m | \u001b[0m-2.255   \u001b[0m | \u001b[0m-16.7    \u001b[0m | \u001b[0m-34.52   \u001b[0m | \u001b[0m-22.48   \u001b[0m | \u001b[0m-10.0    \u001b[0m |\n",
            "| \u001b[0m44       \u001b[0m | \u001b[0m-1.352e+0\u001b[0m | \u001b[0m-34.03   \u001b[0m | \u001b[0m0.0      \u001b[0m | \u001b[0m-37.45   \u001b[0m | \u001b[0m1.0      \u001b[0m |\n",
            "| \u001b[0m45       \u001b[0m | \u001b[0m-1e+08   \u001b[0m | \u001b[0m-1.471   \u001b[0m | \u001b[0m-49.15   \u001b[0m | \u001b[0m-16.54   \u001b[0m | \u001b[0m0.1074   \u001b[0m |\n",
            "=========================================================================\n",
            "CPU times: user 18min 23s, sys: 3min 32s, total: 21min 56s\n",
            "Wall time: 14min 10s\n"
          ]
        }
      ],
      "source": [
        "%%time\n",
        "fdekf_optimizer.maximize(\n",
        "    init_points=20,\n",
        "    n_iter=25,\n",
        ")"
      ]
    },
    {
      "cell_type": "markdown",
      "metadata": {
        "id": "E_E8Kr_L_DR4"
      },
      "source": [
        "## 1.2 Test-Set Evaluation"
      ]
    },
    {
      "cell_type": "code",
      "execution_count": 30,
      "metadata": {
        "id": "HL8_n7Iu_DR4"
      },
      "outputs": [],
      "source": [
        "fdekf_model = 'fdekf'\n",
        "fdekf_hparams = {\n",
        "    'initial_covariance': 0.027148086840588965,\n",
        "    'dynamics_weights': 0.9999999990377035,\n",
        "    'dynamics_covariance': 1.0791385346291648e-08,\n",
        "    'dynamics_covariance_inflation_factor': 6.359638985510327e-21\n",
        "}"
      ]
    },
    {
      "cell_type": "code",
      "execution_count": 12,
      "metadata": {
        "id": "-8alr2r6_DR4"
      },
      "outputs": [],
      "source": [
        "# fdekf_hparams = hpt.get_best_params(fdekf_optimizer, method=fdekf_model)\n",
        "fdekf_estimator, _ = hpt.build_estimator(model_dict['flat_params'], model_dict['apply_fn'],\n",
        "                                         fdekf_hparams, model_dict['emission_mean_function'],\n",
        "                                         model_dict['emission_cov_function'], \n",
        "                                         method=fdekf_model)"
      ]
    },
    {
      "cell_type": "code",
      "execution_count": 13,
      "metadata": {
        "id": "mfU0FZDa_DR4"
      },
      "outputs": [],
      "source": [
        "accuracy_fn = lambda logits, label: jnp.mean(logits.argmax(axis=-1) == label)\n",
        "evaluate_accuracy = partial(\n",
        "    benchmark.evaluate_function,\n",
        "    loss_fn=accuracy_fn\n",
        ")"
      ]
    },
    {
      "cell_type": "code",
      "execution_count": 14,
      "metadata": {
        "id": "HBs2VENh_DR4"
      },
      "outputs": [],
      "source": [
        "def test_acc_callback(i, bel_pre_update, bel, batch, **kwargs):\n",
        "    X_test, y_test, apply_fn = kwargs[\"X_test\"], kwargs[\"y_test\"], kwargs[\"apply_fn\"]\n",
        "    ntest_per_batch = kwargs[\"ntest_per_batch\"]\n",
        "    \n",
        "    prev_test_batch, curr_test_batch = i*ntest_per_batch, (i+1)*ntest_per_batch\n",
        "    curr_X_test, curr_y_test = X_test[prev_test_batch:curr_test_batch], y_test[prev_test_batch:curr_test_batch]\n",
        "    cum_X_test, cum_y_test = X_test[:curr_test_batch], y_test[:curr_test_batch]\n",
        "    \n",
        "    overall_accuracy = evaluate_accuracy(bel.mean, apply_fn, cum_X_test, cum_y_test)\n",
        "    current_accuracy = evaluate_accuracy(bel.mean, apply_fn, curr_X_test, curr_y_test)\n",
        "    task1_accuracy = evaluate_accuracy(bel.mean, apply_fn, X_test[:ntest_per_batch], y_test[:ntest_per_batch])\n",
        "    result = {\n",
        "        'overall': overall_accuracy,\n",
        "        'current': current_accuracy,\n",
        "        'task1': task1_accuracy,\n",
        "    }\n",
        "    return result"
      ]
    },
    {
      "cell_type": "code",
      "execution_count": 15,
      "metadata": {
        "id": "-MdWYdID_DR4"
      },
      "outputs": [],
      "source": [
        "def evaluate_model(estimator, n_iter=5, bel=None):\n",
        "    overall_accs, current_accs, task1_accs = [], [], []\n",
        "    for i in trange(n_iter):\n",
        "        # Load dataset with random permutation and random shuffle\n",
        "        dataset = benchmark.load_permuted_mnist_dataset(**data_kwargs, key=i, fashion=True)\n",
        "        (Xtr, Ytr), _, (Xte, Yte) = dataset.values()\n",
        "        train_ds = jdl.ArrayDataset(Xtr, Ytr)\n",
        "        train_loader = jdl.DataLoaderJax(\n",
        "            train_ds, batch_size=data_kwargs[\"ntrain_per_task\"], shuffle=False, drop_last=False\n",
        "        )\n",
        "\n",
        "        test_kwargs = {\n",
        "            'X_test': Xte,\n",
        "            'y_test': Yte,\n",
        "            'ntest_per_batch': data_kwargs[\"ntest_per_task\"],\n",
        "            'apply_fn': model_dict[\"apply_fn\"],\n",
        "        }\n",
        "\n",
        "        _, accs = estimator.scan_dataloader(\n",
        "            train_loader, \n",
        "            callback=test_acc_callback, \n",
        "            bel=bel,\n",
        "            callback_at_end=True,\n",
        "            **test_kwargs\n",
        "        )\n",
        "        overall_accs.append(jnp.array([res['overall'] for res in accs]))\n",
        "        current_accs.append(jnp.array([res['current'] for res in accs]))\n",
        "        task1_accs.append(jnp.array([res['task1'] for res in accs]))\n",
        "    \n",
        "    overall_accs, current_accs, task1_accs = jnp.array(overall_accs), jnp.array(current_accs), jnp.array(task1_accs)\n",
        "    overall_accs, current_accs, task1_accs = \\\n",
        "        overall_accs.reshape((n_iter, -1)), current_accs.reshape((n_iter, -1)), task1_accs.reshape((n_iter, -1))\n",
        "\n",
        "    result = {\n",
        "        'overall': overall_accs.mean(axis=0),\n",
        "        'overall-std': overall_accs.std(axis=0),\n",
        "        'current': current_accs.mean(axis=0),\n",
        "        'current-std': current_accs.std(axis=0),\n",
        "        'task1': task1_accs.mean(axis=0),\n",
        "        'task1-std': task1_accs.std(axis=0),\n",
        "    }\n",
        "    \n",
        "    return result\n"
      ]
    },
    {
      "cell_type": "code",
      "execution_count": 16,
      "metadata": {
        "colab": {
          "base_uri": "https://localhost:8080/"
        },
        "id": "5l44k8cE_DR4",
        "outputId": "b1b38e2b-201b-48d7-c635-ffadd028520d"
      },
      "outputs": [
        {
          "output_type": "stream",
          "name": "stderr",
          "text": [
            "100%|██████████| 5/5 [05:51<00:00, 70.21s/it]\n"
          ]
        }
      ],
      "source": [
        "fdekf_res = evaluate_model(fdekf_estimator)"
      ]
    },
    {
      "cell_type": "code",
      "execution_count": 18,
      "metadata": {
        "id": "gIflUmQC_DR5"
      },
      "outputs": [],
      "source": [
        "filename = f'fdekf_result.pkl'\n",
        "with open(Path(output_path, filename), \"wb\") as f:\n",
        "    pickle.dump(fdekf_res, f)"
      ]
    },
    {
      "cell_type": "markdown",
      "metadata": {
        "id": "MChlUAXE_DR5"
      },
      "source": [
        "# 2. VDEKF"
      ]
    },
    {
      "cell_type": "markdown",
      "metadata": {
        "id": "ZVlOSEKR_DR5"
      },
      "source": [
        "## 2.1 Hyperparam Tuning"
      ]
    },
    {
      "cell_type": "code",
      "execution_count": null,
      "metadata": {
        "id": "BBDJMXhW_DR5"
      },
      "outputs": [],
      "source": [
        "vdekf_model = 'vdekf'"
      ]
    },
    {
      "cell_type": "code",
      "execution_count": null,
      "metadata": {
        "id": "06s01K4y_DR5"
      },
      "outputs": [],
      "source": [
        "vdekf_optimizer, apply_fn, n_feats = hpt.create_optimizer(\n",
        "    model_dict[\"model\"], pbounds, 314, warmup_train, warmup_val, \n",
        "    model_dict[\"emission_mean_function\"], model_dict[\"emission_cov_function\"],\n",
        "    ll_calback, 'vdekf',\n",
        ")"
      ]
    },
    {
      "cell_type": "code",
      "execution_count": null,
      "metadata": {
        "id": "a7Tejbh1_DR5",
        "outputId": "11551596-ac4b-4df1-ed97-27eecca2a5c6"
      },
      "outputs": [
        {
          "name": "stdout",
          "output_type": "stream",
          "text": [
            "|   iter    |  target   | log_alpha | log_dy... | log_dy... | log_in... |\n",
            "-------------------------------------------------------------------------\n",
            "| \u001b[0m1        \u001b[0m | \u001b[0m-212.2   \u001b[0m | \u001b[0m-4.156   \u001b[0m | \u001b[0m-20.57   \u001b[0m | \u001b[0m-36.75   \u001b[0m | \u001b[0m-1.385   \u001b[0m |\n",
            "| \u001b[0m2        \u001b[0m | \u001b[0m-6.491e+0\u001b[0m | \u001b[0m-4.1     \u001b[0m | \u001b[0m-8.632   \u001b[0m | \u001b[0m-13.6    \u001b[0m | \u001b[0m-7.135   \u001b[0m |\n",
            "| \u001b[0m3        \u001b[0m | \u001b[0m-537.5   \u001b[0m | \u001b[0m-4.412   \u001b[0m | \u001b[0m-36.96   \u001b[0m | \u001b[0m-11.68   \u001b[0m | \u001b[0m-7.123   \u001b[0m |\n",
            "| \u001b[95m4        \u001b[0m | \u001b[95m-2.291   \u001b[0m | \u001b[95m-43.89   \u001b[0m | \u001b[95m-30.7    \u001b[0m | \u001b[95m-7.996   \u001b[0m | \u001b[95m-6.94    \u001b[0m |\n",
            "| \u001b[95m5        \u001b[0m | \u001b[95m-0.8618  \u001b[0m | \u001b[95m-46.5    \u001b[0m | \u001b[95m-18.34   \u001b[0m | \u001b[95m-20.76   \u001b[0m | \u001b[95m-3.606   \u001b[0m |\n",
            "| \u001b[0m6        \u001b[0m | \u001b[0m-1.121   \u001b[0m | \u001b[0m-16.14   \u001b[0m | \u001b[0m-15.64   \u001b[0m | \u001b[0m-28.05   \u001b[0m | \u001b[0m-6.47    \u001b[0m |\n",
            "| \u001b[0m7        \u001b[0m | \u001b[0m-2.059   \u001b[0m | \u001b[0m-21.47   \u001b[0m | \u001b[0m-26.01   \u001b[0m | \u001b[0m-6.946   \u001b[0m | \u001b[0m-0.8171  \u001b[0m |\n",
            "| \u001b[0m8        \u001b[0m | \u001b[0m-1.851   \u001b[0m | \u001b[0m-44.71   \u001b[0m | \u001b[0m-46.98   \u001b[0m | \u001b[0m-20.16   \u001b[0m | \u001b[0m-1.284   \u001b[0m |\n",
            "| \u001b[0m9        \u001b[0m | \u001b[0m-0.9915  \u001b[0m | \u001b[0m-38.68   \u001b[0m | \u001b[0m-23.24   \u001b[0m | \u001b[0m-43.2    \u001b[0m | \u001b[0m-5.905   \u001b[0m |\n",
            "| \u001b[0m10       \u001b[0m | \u001b[0m-0.9704  \u001b[0m | \u001b[0m-42.4    \u001b[0m | \u001b[0m-28.51   \u001b[0m | \u001b[0m-10.36   \u001b[0m | \u001b[0m-5.523   \u001b[0m |\n",
            "| \u001b[0m11       \u001b[0m | \u001b[0m-1.447e+0\u001b[0m | \u001b[0m-41.11   \u001b[0m | \u001b[0m-4.537   \u001b[0m | \u001b[0m-22.73   \u001b[0m | \u001b[0m-8.895   \u001b[0m |\n",
            "| \u001b[0m12       \u001b[0m | \u001b[0m-328.0   \u001b[0m | \u001b[0m-14.06   \u001b[0m | \u001b[0m-1.079   \u001b[0m | \u001b[0m-34.51   \u001b[0m | \u001b[0m-7.139   \u001b[0m |\n",
            "| \u001b[95m13       \u001b[0m | \u001b[95m-0.8025  \u001b[0m | \u001b[95m-16.86   \u001b[0m | \u001b[95m-43.01   \u001b[0m | \u001b[95m-45.81   \u001b[0m | \u001b[95m-4.205   \u001b[0m |\n",
            "| \u001b[0m14       \u001b[0m | \u001b[0m-650.2   \u001b[0m | \u001b[0m-19.49   \u001b[0m | \u001b[0m-6.631   \u001b[0m | \u001b[0m-42.55   \u001b[0m | \u001b[0m-0.4953  \u001b[0m |\n",
            "| \u001b[0m15       \u001b[0m | \u001b[0m-0.8557  \u001b[0m | \u001b[0m-27.5    \u001b[0m | \u001b[0m-13.66   \u001b[0m | \u001b[0m-42.25   \u001b[0m | \u001b[0m-5.412   \u001b[0m |\n",
            "| \u001b[0m16       \u001b[0m | \u001b[0m-2.202   \u001b[0m | \u001b[0m-42.88   \u001b[0m | \u001b[0m-33.04   \u001b[0m | \u001b[0m-14.86   \u001b[0m | \u001b[0m-9.152   \u001b[0m |\n",
            "| \u001b[0m17       \u001b[0m | \u001b[0m-272.0   \u001b[0m | \u001b[0m-46.48   \u001b[0m | \u001b[0m-0.9017  \u001b[0m | \u001b[0m-47.92   \u001b[0m | \u001b[0m-8.908   \u001b[0m |\n",
            "| \u001b[0m18       \u001b[0m | \u001b[0m-2.303   \u001b[0m | \u001b[0m-38.98   \u001b[0m | \u001b[0m-17.0    \u001b[0m | \u001b[0m-0.1926  \u001b[0m | \u001b[0m0.6676   \u001b[0m |\n",
            "| \u001b[0m19       \u001b[0m | \u001b[0m-7.524e+0\u001b[0m | \u001b[0m-16.17   \u001b[0m | \u001b[0m-0.07596 \u001b[0m | \u001b[0m-43.94   \u001b[0m | \u001b[0m-5.201   \u001b[0m |\n",
            "| \u001b[0m20       \u001b[0m | \u001b[0m-0.812   \u001b[0m | \u001b[0m-41.64   \u001b[0m | \u001b[0m-22.63   \u001b[0m | \u001b[0m-11.45   \u001b[0m | \u001b[0m-3.769   \u001b[0m |\n",
            "| \u001b[0m21       \u001b[0m | \u001b[0m-1.161   \u001b[0m | \u001b[0m-44.75   \u001b[0m | \u001b[0m-25.48   \u001b[0m | \u001b[0m-16.64   \u001b[0m | \u001b[0m-6.375   \u001b[0m |\n",
            "| \u001b[0m22       \u001b[0m | \u001b[0m-2.256   \u001b[0m | \u001b[0m-48.4    \u001b[0m | \u001b[0m-28.28   \u001b[0m | \u001b[0m-12.18   \u001b[0m | \u001b[0m-10.0    \u001b[0m |\n",
            "| \u001b[0m23       \u001b[0m | \u001b[0m-106.7   \u001b[0m | \u001b[0m-22.75   \u001b[0m | \u001b[0m-12.27   \u001b[0m | \u001b[0m-41.15   \u001b[0m | \u001b[0m1.0      \u001b[0m |\n",
            "| \u001b[0m24       \u001b[0m | \u001b[0m-600.0   \u001b[0m | \u001b[0m-14.2    \u001b[0m | \u001b[0m-6.419   \u001b[0m | \u001b[0m-28.98   \u001b[0m | \u001b[0m-7.311   \u001b[0m |\n",
            "| \u001b[0m25       \u001b[0m | \u001b[0m-1.317   \u001b[0m | \u001b[0m-18.48   \u001b[0m | \u001b[0m-10.97   \u001b[0m | \u001b[0m-34.25   \u001b[0m | \u001b[0m-1.643   \u001b[0m |\n",
            "| \u001b[0m26       \u001b[0m | \u001b[0m-1.031   \u001b[0m | \u001b[0m-48.71   \u001b[0m | \u001b[0m-32.4    \u001b[0m | \u001b[0m-14.13   \u001b[0m | \u001b[0m-2.212   \u001b[0m |\n",
            "| \u001b[0m27       \u001b[0m | \u001b[0m-1.374   \u001b[0m | \u001b[0m-50.0    \u001b[0m | \u001b[0m-23.55   \u001b[0m | \u001b[0m-11.58   \u001b[0m | \u001b[0m-1.642   \u001b[0m |\n",
            "| \u001b[0m28       \u001b[0m | \u001b[0m-4.563e+0\u001b[0m | \u001b[0m-7.782   \u001b[0m | \u001b[0m-0.4121  \u001b[0m | \u001b[0m-29.78   \u001b[0m | \u001b[0m-7.126   \u001b[0m |\n",
            "| \u001b[0m29       \u001b[0m | \u001b[0m-2.154   \u001b[0m | \u001b[0m-47.98   \u001b[0m | \u001b[0m-18.15   \u001b[0m | \u001b[0m-12.78   \u001b[0m | \u001b[0m-8.829   \u001b[0m |\n",
            "| \u001b[0m30       \u001b[0m | \u001b[0m-2.303   \u001b[0m | \u001b[0m-46.24   \u001b[0m | \u001b[0m-20.06   \u001b[0m | \u001b[0m-4.509   \u001b[0m | \u001b[0m-3.228   \u001b[0m |\n",
            "| \u001b[0m31       \u001b[0m | \u001b[0m-110.5   \u001b[0m | \u001b[0m-49.27   \u001b[0m | \u001b[0m-14.82   \u001b[0m | \u001b[0m-12.17   \u001b[0m | \u001b[0m0.1219   \u001b[0m |\n",
            "| \u001b[0m32       \u001b[0m | \u001b[0m-99.9    \u001b[0m | \u001b[0m-40.38   \u001b[0m | \u001b[0m-14.84   \u001b[0m | \u001b[0m-10.07   \u001b[0m | \u001b[0m0.4525   \u001b[0m |\n",
            "| \u001b[0m33       \u001b[0m | \u001b[0m-2.303   \u001b[0m | \u001b[0m-43.3    \u001b[0m | \u001b[0m-11.4    \u001b[0m | \u001b[0m-4.502   \u001b[0m | \u001b[0m-5.64    \u001b[0m |\n",
            "| \u001b[0m34       \u001b[0m | \u001b[0m-0.8644  \u001b[0m | \u001b[0m-40.95   \u001b[0m | \u001b[0m-12.63   \u001b[0m | \u001b[0m-15.16   \u001b[0m | \u001b[0m-7.154   \u001b[0m |\n",
            "| \u001b[0m35       \u001b[0m | \u001b[0m-2.303   \u001b[0m | \u001b[0m-36.7    \u001b[0m | \u001b[0m-19.78   \u001b[0m | \u001b[0m-4.923   \u001b[0m | \u001b[0m-7.475   \u001b[0m |\n",
            "| \u001b[0m36       \u001b[0m | \u001b[0m-1.783   \u001b[0m | \u001b[0m-32.22   \u001b[0m | \u001b[0m-22.2    \u001b[0m | \u001b[0m-6.807   \u001b[0m | \u001b[0m0.8936   \u001b[0m |\n",
            "| \u001b[0m37       \u001b[0m | \u001b[0m-0.8504  \u001b[0m | \u001b[0m-32.46   \u001b[0m | \u001b[0m-18.0    \u001b[0m | \u001b[0m-13.81   \u001b[0m | \u001b[0m-5.107   \u001b[0m |\n",
            "| \u001b[0m38       \u001b[0m | \u001b[0m-1.666   \u001b[0m | \u001b[0m-31.21   \u001b[0m | \u001b[0m-11.47   \u001b[0m | \u001b[0m-6.843   \u001b[0m | \u001b[0m-2.264   \u001b[0m |\n",
            "| \u001b[0m39       \u001b[0m | \u001b[0m-2.303   \u001b[0m | \u001b[0m-26.24   \u001b[0m | \u001b[0m-19.23   \u001b[0m | \u001b[0m-4.978   \u001b[0m | \u001b[0m-5.142   \u001b[0m |\n",
            "| \u001b[0m40       \u001b[0m | \u001b[0m-1.931   \u001b[0m | \u001b[0m-30.62   \u001b[0m | \u001b[0m-27.39   \u001b[0m | \u001b[0m-9.736   \u001b[0m | \u001b[0m-7.094   \u001b[0m |\n",
            "| \u001b[0m41       \u001b[0m | \u001b[0m-180.1   \u001b[0m | \u001b[0m-24.41   \u001b[0m | \u001b[0m-17.83   \u001b[0m | \u001b[0m-12.52   \u001b[0m | \u001b[0m1.0      \u001b[0m |\n",
            "| \u001b[0m42       \u001b[0m | \u001b[0m-2.003   \u001b[0m | \u001b[0m-22.72   \u001b[0m | \u001b[0m-22.43   \u001b[0m | \u001b[0m-14.02   \u001b[0m | \u001b[0m-7.897   \u001b[0m |\n",
            "| \u001b[0m43       \u001b[0m | \u001b[0m-2.303   \u001b[0m | \u001b[0m-38.47   \u001b[0m | \u001b[0m-27.33   \u001b[0m | \u001b[0m-0.9007  \u001b[0m | \u001b[0m-1.861   \u001b[0m |\n",
            "| \u001b[0m44       \u001b[0m | \u001b[0m-95.01   \u001b[0m | \u001b[0m-28.1    \u001b[0m | \u001b[0m-26.67   \u001b[0m | \u001b[0m-15.92   \u001b[0m | \u001b[0m0.2379   \u001b[0m |\n",
            "| \u001b[0m45       \u001b[0m | \u001b[0m-2.042   \u001b[0m | \u001b[0m-34.42   \u001b[0m | \u001b[0m-26.23   \u001b[0m | \u001b[0m-19.31   \u001b[0m | \u001b[0m-8.047   \u001b[0m |\n",
            "=========================================================================\n",
            "CPU times: user 20min 44s, sys: 3min 7s, total: 23min 52s\n",
            "Wall time: 17min 36s\n"
          ]
        }
      ],
      "source": [
        "%%time\n",
        "vdekf_optimizer.maximize(\n",
        "    init_points=20,\n",
        "    n_iter=25,\n",
        ")"
      ]
    },
    {
      "cell_type": "markdown",
      "metadata": {
        "id": "ZB84SOyx_DR5"
      },
      "source": [
        "## 2.2 Test-Set Evaluation"
      ]
    },
    {
      "cell_type": "code",
      "execution_count": 28,
      "metadata": {
        "id": "FrF301yq_DR5"
      },
      "outputs": [],
      "source": [
        "vdekf_model = 'vdekf'\n",
        "vdekf_hparams = {\n",
        "    'initial_covariance': 0.014917355424284394,\n",
        "    'dynamics_weights': 1.0,\n",
        "    'dynamics_covariance': 2.085722038177336e-19,\n",
        "    'dynamics_covariance_inflation_factor': 4.785838684065285e-08\n",
        "}"
      ]
    },
    {
      "cell_type": "code",
      "execution_count": 29,
      "metadata": {
        "id": "MO4_FtSW_DR5"
      },
      "outputs": [],
      "source": [
        "# vdekf_hparams = hpt.get_best_params(vdekf_optimizer, method=vdekf_model)\n",
        "vdekf_estimator, _ = hpt.build_estimator(model_dict['flat_params'], model_dict['apply_fn'],\n",
        "                                         vdekf_hparams, model_dict['emission_mean_function'],\n",
        "                                         model_dict['emission_cov_function'], \n",
        "                                         method=vdekf_model)"
      ]
    },
    {
      "cell_type": "code",
      "execution_count": 31,
      "metadata": {
        "colab": {
          "base_uri": "https://localhost:8080/"
        },
        "id": "YEmbrdcr_DR5",
        "outputId": "0cab458b-b5bf-44a6-d0c9-e8cc97e9b662"
      },
      "outputs": [
        {
          "output_type": "execute_result",
          "data": {
            "text/plain": [
              "{'initial_covariance': 0.014917355424284394,\n",
              " 'dynamics_weights': 1.0,\n",
              " 'dynamics_covariance': 2.085722038177336e-19,\n",
              " 'dynamics_covariance_inflation_factor': 4.785838684065285e-08}"
            ]
          },
          "metadata": {},
          "execution_count": 31
        }
      ],
      "source": [
        "vdekf_hparams"
      ]
    },
    {
      "cell_type": "code",
      "execution_count": 32,
      "metadata": {
        "colab": {
          "base_uri": "https://localhost:8080/"
        },
        "id": "4CopepYD_DR5",
        "outputId": "2a77696d-65ed-433b-eff3-c50b90669e98"
      },
      "outputs": [
        {
          "output_type": "stream",
          "name": "stderr",
          "text": [
            "100%|██████████| 5/5 [07:36<00:00, 91.34s/it]\n"
          ]
        }
      ],
      "source": [
        "vdekf_res = evaluate_model(vdekf_estimator)"
      ]
    },
    {
      "cell_type": "code",
      "execution_count": 33,
      "metadata": {
        "id": "eXBaOpjp_DR5"
      },
      "outputs": [],
      "source": [
        "filename = f'vdekf_result.pkl'\n",
        "with open(Path(output_path, filename), \"wb\") as f:\n",
        "    pickle.dump(vdekf_res, f)"
      ]
    },
    {
      "cell_type": "markdown",
      "metadata": {
        "id": "PMysL9SB_DR5"
      },
      "source": [
        "# 3. LoFi (Rank 1)"
      ]
    },
    {
      "cell_type": "markdown",
      "metadata": {
        "id": "Eu1vVuXj_DR5"
      },
      "source": [
        "## 3.1 Hyperparam Tuning"
      ]
    },
    {
      "cell_type": "code",
      "execution_count": 34,
      "metadata": {
        "id": "q6ntlzfk_DR6"
      },
      "outputs": [],
      "source": [
        "lofi_1_params = LoFiParams(\n",
        "    memory_size=1,\n",
        "    diagonal_covariance=False,\n",
        ")"
      ]
    },
    {
      "cell_type": "code",
      "execution_count": 35,
      "metadata": {
        "id": "aroMjGES_DR6"
      },
      "outputs": [],
      "source": [
        "lofi_1_optimizer, apply_fn, n_feats = hpt.create_optimizer(\n",
        "    model_dict[\"model\"], pbounds, 314, warmup_train, warmup_val, \n",
        "    model_dict[\"emission_mean_function\"], model_dict[\"emission_cov_function\"],\n",
        "    ll_calback, 'lofi', lofi_params=lofi_1_params\n",
        ")"
      ]
    },
    {
      "cell_type": "code",
      "execution_count": 36,
      "metadata": {
        "colab": {
          "base_uri": "https://localhost:8080/"
        },
        "id": "L0iwpI2h_DR6",
        "outputId": "13701cbf-e0c8-439f-c4db-93727625f7f1"
      },
      "outputs": [
        {
          "output_type": "stream",
          "name": "stdout",
          "text": [
            "|   iter    |  target   | log_alpha | log_dy... | log_dy... | log_in... |\n",
            "-------------------------------------------------------------------------\n",
            "| \u001b[0m1        \u001b[0m | \u001b[0m-2.891   \u001b[0m | \u001b[0m-4.156   \u001b[0m | \u001b[0m-20.57   \u001b[0m | \u001b[0m-36.75   \u001b[0m | \u001b[0m-1.385   \u001b[0m |\n",
            "| \u001b[95m2        \u001b[0m | \u001b[95m-2.353   \u001b[0m | \u001b[95m-4.1     \u001b[0m | \u001b[95m-8.632   \u001b[0m | \u001b[95m-13.6    \u001b[0m | \u001b[95m-7.135   \u001b[0m |\n",
            "| \u001b[95m3        \u001b[0m | \u001b[95m-2.225   \u001b[0m | \u001b[95m-4.412   \u001b[0m | \u001b[95m-36.96   \u001b[0m | \u001b[95m-11.68   \u001b[0m | \u001b[95m-7.123   \u001b[0m |\n",
            "| \u001b[0m4        \u001b[0m | \u001b[0m-2.293   \u001b[0m | \u001b[0m-43.89   \u001b[0m | \u001b[0m-30.7    \u001b[0m | \u001b[0m-7.996   \u001b[0m | \u001b[0m-6.94    \u001b[0m |\n",
            "| \u001b[95m5        \u001b[0m | \u001b[95m-0.8079  \u001b[0m | \u001b[95m-46.5    \u001b[0m | \u001b[95m-18.34   \u001b[0m | \u001b[95m-20.76   \u001b[0m | \u001b[95m-3.606   \u001b[0m |\n",
            "| \u001b[0m6        \u001b[0m | \u001b[0m-1.126   \u001b[0m | \u001b[0m-16.14   \u001b[0m | \u001b[0m-15.64   \u001b[0m | \u001b[0m-28.05   \u001b[0m | \u001b[0m-6.47    \u001b[0m |\n",
            "| \u001b[0m7        \u001b[0m | \u001b[0m-1.844   \u001b[0m | \u001b[0m-21.47   \u001b[0m | \u001b[0m-26.01   \u001b[0m | \u001b[0m-6.946   \u001b[0m | \u001b[0m-0.8171  \u001b[0m |\n",
            "| \u001b[0m8        \u001b[0m | \u001b[0m-2.412   \u001b[0m | \u001b[0m-44.71   \u001b[0m | \u001b[0m-46.98   \u001b[0m | \u001b[0m-20.16   \u001b[0m | \u001b[0m-1.284   \u001b[0m |\n",
            "| \u001b[0m9        \u001b[0m | \u001b[0m-1.013   \u001b[0m | \u001b[0m-38.68   \u001b[0m | \u001b[0m-23.24   \u001b[0m | \u001b[0m-43.2    \u001b[0m | \u001b[0m-5.905   \u001b[0m |\n",
            "| \u001b[0m10       \u001b[0m | \u001b[0m-0.9896  \u001b[0m | \u001b[0m-42.4    \u001b[0m | \u001b[0m-28.51   \u001b[0m | \u001b[0m-10.36   \u001b[0m | \u001b[0m-5.523   \u001b[0m |\n",
            "| \u001b[0m11       \u001b[0m | \u001b[0m-296.0   \u001b[0m | \u001b[0m-41.11   \u001b[0m | \u001b[0m-4.537   \u001b[0m | \u001b[0m-22.73   \u001b[0m | \u001b[0m-8.895   \u001b[0m |\n",
            "| \u001b[0m12       \u001b[0m | \u001b[0m-529.2   \u001b[0m | \u001b[0m-14.06   \u001b[0m | \u001b[0m-1.079   \u001b[0m | \u001b[0m-34.51   \u001b[0m | \u001b[0m-7.139   \u001b[0m |\n",
            "| \u001b[0m13       \u001b[0m | \u001b[0m-0.8193  \u001b[0m | \u001b[0m-16.86   \u001b[0m | \u001b[0m-43.01   \u001b[0m | \u001b[0m-45.81   \u001b[0m | \u001b[0m-4.205   \u001b[0m |\n",
            "| \u001b[0m14       \u001b[0m | \u001b[0m-105.7   \u001b[0m | \u001b[0m-19.49   \u001b[0m | \u001b[0m-6.631   \u001b[0m | \u001b[0m-42.55   \u001b[0m | \u001b[0m-0.4953  \u001b[0m |\n",
            "| \u001b[0m15       \u001b[0m | \u001b[0m-0.9188  \u001b[0m | \u001b[0m-27.5    \u001b[0m | \u001b[0m-13.66   \u001b[0m | \u001b[0m-42.25   \u001b[0m | \u001b[0m-5.412   \u001b[0m |\n",
            "| \u001b[0m16       \u001b[0m | \u001b[0m-2.206   \u001b[0m | \u001b[0m-42.88   \u001b[0m | \u001b[0m-33.04   \u001b[0m | \u001b[0m-14.86   \u001b[0m | \u001b[0m-9.152   \u001b[0m |\n",
            "| \u001b[0m17       \u001b[0m | \u001b[0m-149.2   \u001b[0m | \u001b[0m-46.48   \u001b[0m | \u001b[0m-0.9017  \u001b[0m | \u001b[0m-47.92   \u001b[0m | \u001b[0m-8.908   \u001b[0m |\n",
            "| \u001b[0m18       \u001b[0m | \u001b[0m-2.303   \u001b[0m | \u001b[0m-38.98   \u001b[0m | \u001b[0m-17.0    \u001b[0m | \u001b[0m-0.1926  \u001b[0m | \u001b[0m0.6676   \u001b[0m |\n",
            "| \u001b[0m19       \u001b[0m | \u001b[0m-1.05e+04\u001b[0m | \u001b[0m-16.17   \u001b[0m | \u001b[0m-0.07596 \u001b[0m | \u001b[0m-43.94   \u001b[0m | \u001b[0m-5.201   \u001b[0m |\n",
            "| \u001b[0m20       \u001b[0m | \u001b[0m-0.8087  \u001b[0m | \u001b[0m-41.64   \u001b[0m | \u001b[0m-22.63   \u001b[0m | \u001b[0m-11.45   \u001b[0m | \u001b[0m-3.769   \u001b[0m |\n",
            "| \u001b[0m21       \u001b[0m | \u001b[0m-211.9   \u001b[0m | \u001b[0m-22.98   \u001b[0m | \u001b[0m-12.19   \u001b[0m | \u001b[0m-41.47   \u001b[0m | \u001b[0m0.3203   \u001b[0m |\n",
            "| \u001b[0m22       \u001b[0m | \u001b[0m-1.581   \u001b[0m | \u001b[0m-46.02   \u001b[0m | \u001b[0m-25.33   \u001b[0m | \u001b[0m-17.07   \u001b[0m | \u001b[0m-7.101   \u001b[0m |\n",
            "| \u001b[0m23       \u001b[0m | \u001b[0m-2.538   \u001b[0m | \u001b[0m-41.6    \u001b[0m | \u001b[0m-25.08   \u001b[0m | \u001b[0m-18.93   \u001b[0m | \u001b[0m-0.3287  \u001b[0m |\n",
            "| \u001b[0m24       \u001b[0m | \u001b[0m-2.053   \u001b[0m | \u001b[0m-37.42   \u001b[0m | \u001b[0m-25.78   \u001b[0m | \u001b[0m-17.38   \u001b[0m | \u001b[0m-8.069   \u001b[0m |\n",
            "| \u001b[0m25       \u001b[0m | \u001b[0m-0.8746  \u001b[0m | \u001b[0m-38.13   \u001b[0m | \u001b[0m-17.46   \u001b[0m | \u001b[0m-18.29   \u001b[0m | \u001b[0m-4.689   \u001b[0m |\n",
            "| \u001b[0m26       \u001b[0m | \u001b[0m-2.458   \u001b[0m | \u001b[0m-32.96   \u001b[0m | \u001b[0m-23.72   \u001b[0m | \u001b[0m-13.47   \u001b[0m | \u001b[0m-0.897   \u001b[0m |\n",
            "| \u001b[0m27       \u001b[0m | \u001b[0m-2.468   \u001b[0m | \u001b[0m-36.92   \u001b[0m | \u001b[0m-32.7    \u001b[0m | \u001b[0m-14.79   \u001b[0m | \u001b[0m-0.7921  \u001b[0m |\n",
            "| \u001b[0m28       \u001b[0m | \u001b[0m-2.149   \u001b[0m | \u001b[0m-33.06   \u001b[0m | \u001b[0m-29.81   \u001b[0m | \u001b[0m-9.145   \u001b[0m | \u001b[0m-7.226   \u001b[0m |\n",
            "| \u001b[0m29       \u001b[0m | \u001b[0m-2.303   \u001b[0m | \u001b[0m-36.23   \u001b[0m | \u001b[0m-26.18   \u001b[0m | \u001b[0m-4.517   \u001b[0m | \u001b[0m0.1176   \u001b[0m |\n",
            "| \u001b[0m30       \u001b[0m | \u001b[0m-2.303   \u001b[0m | \u001b[0m-33.91   \u001b[0m | \u001b[0m-19.72   \u001b[0m | \u001b[0m-6.45    \u001b[0m | \u001b[0m-6.62    \u001b[0m |\n",
            "| \u001b[0m31       \u001b[0m | \u001b[0m-2.303   \u001b[0m | \u001b[0m-28.69   \u001b[0m | \u001b[0m-19.7    \u001b[0m | \u001b[0m-3.961   \u001b[0m | \u001b[0m1.0      \u001b[0m |\n",
            "| \u001b[0m32       \u001b[0m | \u001b[0m-629.1   \u001b[0m | \u001b[0m-36.45   \u001b[0m | \u001b[0m-15.02   \u001b[0m | \u001b[0m-9.762   \u001b[0m | \u001b[0m1.0      \u001b[0m |\n",
            "| \u001b[0m33       \u001b[0m | \u001b[0m-1.96    \u001b[0m | \u001b[0m-25.96   \u001b[0m | \u001b[0m-22.63   \u001b[0m | \u001b[0m-11.5    \u001b[0m | \u001b[0m-7.656   \u001b[0m |\n",
            "| \u001b[0m34       \u001b[0m | \u001b[0m-1.26    \u001b[0m | \u001b[0m-26.21   \u001b[0m | \u001b[0m-31.07   \u001b[0m | \u001b[0m-14.51   \u001b[0m | \u001b[0m-2.143   \u001b[0m |\n",
            "| \u001b[0m35       \u001b[0m | \u001b[0m-2.303   \u001b[0m | \u001b[0m-27.65   \u001b[0m | \u001b[0m-25.15   \u001b[0m | \u001b[0m-1.831   \u001b[0m | \u001b[0m-7.665   \u001b[0m |\n",
            "| \u001b[0m36       \u001b[0m | \u001b[0m-2.303   \u001b[0m | \u001b[0m-28.63   \u001b[0m | \u001b[0m-32.4    \u001b[0m | \u001b[0m-5.164   \u001b[0m | \u001b[0m0.8899   \u001b[0m |\n",
            "| \u001b[0m37       \u001b[0m | \u001b[0m-2.303   \u001b[0m | \u001b[0m-22.83   \u001b[0m | \u001b[0m-32.8    \u001b[0m | \u001b[0m-7.241   \u001b[0m | \u001b[0m-8.527   \u001b[0m |\n",
            "| \u001b[0m38       \u001b[0m | \u001b[0m-2.303   \u001b[0m | \u001b[0m-39.29   \u001b[0m | \u001b[0m-25.02   \u001b[0m | \u001b[0m0.0      \u001b[0m | \u001b[0m-8.553   \u001b[0m |\n",
            "| \u001b[0m39       \u001b[0m | \u001b[0m-748.7   \u001b[0m | \u001b[0m-9.752   \u001b[0m | \u001b[0m-4.279   \u001b[0m | \u001b[0m-25.92   \u001b[0m | \u001b[0m-7.164   \u001b[0m |\n",
            "| \u001b[0m40       \u001b[0m | \u001b[0m-2.303   \u001b[0m | \u001b[0m-34.32   \u001b[0m | \u001b[0m-33.67   \u001b[0m | \u001b[0m0.0      \u001b[0m | \u001b[0m-5.952   \u001b[0m |\n",
            "| \u001b[0m41       \u001b[0m | \u001b[0m-1.483   \u001b[0m | \u001b[0m-37.49   \u001b[0m | \u001b[0m-39.21   \u001b[0m | \u001b[0m-8.118   \u001b[0m | \u001b[0m-4.699   \u001b[0m |\n",
            "| \u001b[0m42       \u001b[0m | \u001b[0m-2.478   \u001b[0m | \u001b[0m-47.34   \u001b[0m | \u001b[0m-36.47   \u001b[0m | \u001b[0m-14.15   \u001b[0m | \u001b[0m-0.7349  \u001b[0m |\n",
            "| \u001b[0m43       \u001b[0m | \u001b[0m-0.9854  \u001b[0m | \u001b[0m-38.03   \u001b[0m | \u001b[0m-40.92   \u001b[0m | \u001b[0m-18.55   \u001b[0m | \u001b[0m-5.765   \u001b[0m |\n",
            "| \u001b[0m44       \u001b[0m | \u001b[0m-0.9459  \u001b[0m | \u001b[0m-43.81   \u001b[0m | \u001b[0m-34.34   \u001b[0m | \u001b[0m-23.43   \u001b[0m | \u001b[0m-3.058   \u001b[0m |\n",
            "| \u001b[0m45       \u001b[0m | \u001b[0m-2.037   \u001b[0m | \u001b[0m-29.11   \u001b[0m | \u001b[0m-39.13   \u001b[0m | \u001b[0m-13.19   \u001b[0m | \u001b[0m-7.984   \u001b[0m |\n",
            "=========================================================================\n",
            "CPU times: user 8min, sys: 38.3 s, total: 8min 39s\n",
            "Wall time: 7min 6s\n"
          ]
        }
      ],
      "source": [
        "%%time\n",
        "lofi_1_optimizer.maximize(\n",
        "    init_points=20,\n",
        "    n_iter=25,\n",
        ")"
      ]
    },
    {
      "cell_type": "markdown",
      "metadata": {
        "id": "YTFXieZi_DR6"
      },
      "source": [
        "## 3.2 Test-Set Evaluation"
      ]
    },
    {
      "cell_type": "code",
      "execution_count": null,
      "metadata": {
        "id": "GVduvSoa_DR6"
      },
      "outputs": [],
      "source": [
        "lofi_1_hparams = {\n",
        "    'initial_covariance': 0.027148086840588965,\n",
        "    'dynamics_weights': 0.9999999990377035,\n",
        "    'dynamics_covariance': 1.0791385346291648e-08,\n",
        "    'dynamics_covariance_inflation_factor': 6.359638985510327e-21\n",
        "}"
      ]
    },
    {
      "cell_type": "code",
      "execution_count": 37,
      "metadata": {
        "id": "HD4pvyHE_DR6"
      },
      "outputs": [],
      "source": [
        "# lofi_1_hparams = hpt.get_best_params(lofi_1_optimizer, method='lofi')\n",
        "lofi_1_estimator, _ = hpt.build_estimator(model_dict['flat_params'], model_dict['apply_fn'],\n",
        "                                          lofi_1_hparams, model_dict['emission_mean_function'],\n",
        "                                          model_dict['emission_cov_function'], \n",
        "                                          method='lofi', lofi_params=lofi_1_params)"
      ]
    },
    {
      "cell_type": "code",
      "execution_count": 38,
      "metadata": {
        "colab": {
          "base_uri": "https://localhost:8080/"
        },
        "id": "2OjUEjFg_DR6",
        "outputId": "bf0da7da-6a58-433d-e454-5d7cf8b77abb"
      },
      "outputs": [
        {
          "output_type": "execute_result",
          "data": {
            "text/plain": [
              "{'initial_covariance': 0.027148086840588965,\n",
              " 'dynamics_weights': 0.9999999990377035,\n",
              " 'dynamics_covariance': 1.0791385346291648e-08,\n",
              " 'dynamics_covariance_inflation_factor': 6.359638985510327e-21}"
            ]
          },
          "metadata": {},
          "execution_count": 38
        }
      ],
      "source": [
        "lofi_1_hparams"
      ]
    },
    {
      "cell_type": "code",
      "execution_count": 39,
      "metadata": {
        "colab": {
          "base_uri": "https://localhost:8080/"
        },
        "id": "YG9F74zb_DR6",
        "outputId": "b5124044-90bf-4f81-feae-8efc1f218fd9"
      },
      "outputs": [
        {
          "output_type": "stream",
          "name": "stderr",
          "text": [
            "100%|██████████| 5/5 [14:25<00:00, 173.19s/it]\n"
          ]
        }
      ],
      "source": [
        "lofi_1_res = evaluate_model(lofi_1_estimator)"
      ]
    },
    {
      "cell_type": "code",
      "source": [
        "filename = f'lofi_1_result.pkl'\n",
        "with open(Path(output_path, filename), \"wb\") as f:\n",
        "    pickle.dump(lofi_1_res, f)"
      ],
      "metadata": {
        "id": "9iiL-FV0ISl4"
      },
      "execution_count": 40,
      "outputs": []
    },
    {
      "cell_type": "markdown",
      "metadata": {
        "id": "5u0tR_k9_DR6"
      },
      "source": [
        "# 4. LoFi (Rank 5)"
      ]
    },
    {
      "cell_type": "markdown",
      "metadata": {
        "id": "nIYr-l6x_DR6"
      },
      "source": [
        "## 4.1 Hyperparam Tuning"
      ]
    },
    {
      "cell_type": "code",
      "execution_count": 41,
      "metadata": {
        "id": "RO8wH09k_DR6"
      },
      "outputs": [],
      "source": [
        "lofi_5_params = LoFiParams(\n",
        "    memory_size=5,\n",
        "    diagonal_covariance=False,\n",
        ")"
      ]
    },
    {
      "cell_type": "code",
      "execution_count": 42,
      "metadata": {
        "id": "7lZkvenk_DR6"
      },
      "outputs": [],
      "source": [
        "lofi_5_optimizer, apply_fn, n_feats = hpt.create_optimizer(\n",
        "    model_dict[\"model\"], pbounds, 314, warmup_train, warmup_val, \n",
        "    model_dict[\"emission_mean_function\"], model_dict[\"emission_cov_function\"],\n",
        "    ll_calback, 'lofi', lofi_params=lofi_5_params\n",
        ")"
      ]
    },
    {
      "cell_type": "code",
      "execution_count": 43,
      "metadata": {
        "colab": {
          "base_uri": "https://localhost:8080/"
        },
        "id": "plmC9vm7_DR6",
        "outputId": "b52c9e8e-8553-4197-fe89-b3e025ad6455"
      },
      "outputs": [
        {
          "output_type": "stream",
          "name": "stdout",
          "text": [
            "|   iter    |  target   | log_alpha | log_dy... | log_dy... | log_in... |\n",
            "-------------------------------------------------------------------------\n",
            "| \u001b[0m1        \u001b[0m | \u001b[0m-2.399   \u001b[0m | \u001b[0m-4.156   \u001b[0m | \u001b[0m-20.57   \u001b[0m | \u001b[0m-36.75   \u001b[0m | \u001b[0m-1.385   \u001b[0m |\n",
            "| \u001b[0m2        \u001b[0m | \u001b[0m-15.02   \u001b[0m | \u001b[0m-4.1     \u001b[0m | \u001b[0m-8.632   \u001b[0m | \u001b[0m-13.6    \u001b[0m | \u001b[0m-7.135   \u001b[0m |\n",
            "| \u001b[95m3        \u001b[0m | \u001b[95m-2.225   \u001b[0m | \u001b[95m-4.412   \u001b[0m | \u001b[95m-36.96   \u001b[0m | \u001b[95m-11.68   \u001b[0m | \u001b[95m-7.123   \u001b[0m |\n",
            "| \u001b[0m4        \u001b[0m | \u001b[0m-2.294   \u001b[0m | \u001b[0m-43.89   \u001b[0m | \u001b[0m-30.7    \u001b[0m | \u001b[0m-7.996   \u001b[0m | \u001b[0m-6.94    \u001b[0m |\n",
            "| \u001b[95m5        \u001b[0m | \u001b[95m-0.8491  \u001b[0m | \u001b[95m-46.5    \u001b[0m | \u001b[95m-18.34   \u001b[0m | \u001b[95m-20.76   \u001b[0m | \u001b[95m-3.606   \u001b[0m |\n",
            "| \u001b[0m6        \u001b[0m | \u001b[0m-1.113   \u001b[0m | \u001b[0m-16.14   \u001b[0m | \u001b[0m-15.64   \u001b[0m | \u001b[0m-28.05   \u001b[0m | \u001b[0m-6.47    \u001b[0m |\n",
            "| \u001b[0m7        \u001b[0m | \u001b[0m-1.866   \u001b[0m | \u001b[0m-21.47   \u001b[0m | \u001b[0m-26.01   \u001b[0m | \u001b[0m-6.946   \u001b[0m | \u001b[0m-0.8171  \u001b[0m |\n",
            "| \u001b[0m8        \u001b[0m | \u001b[0m-1.964   \u001b[0m | \u001b[0m-44.71   \u001b[0m | \u001b[0m-46.98   \u001b[0m | \u001b[0m-20.16   \u001b[0m | \u001b[0m-1.284   \u001b[0m |\n",
            "| \u001b[0m9        \u001b[0m | \u001b[0m-0.9825  \u001b[0m | \u001b[0m-38.68   \u001b[0m | \u001b[0m-23.24   \u001b[0m | \u001b[0m-43.2    \u001b[0m | \u001b[0m-5.905   \u001b[0m |\n",
            "| \u001b[0m10       \u001b[0m | \u001b[0m-0.9551  \u001b[0m | \u001b[0m-42.4    \u001b[0m | \u001b[0m-28.51   \u001b[0m | \u001b[0m-10.36   \u001b[0m | \u001b[0m-5.523   \u001b[0m |\n",
            "| \u001b[0m11       \u001b[0m | \u001b[0m-2.063e+0\u001b[0m | \u001b[0m-41.11   \u001b[0m | \u001b[0m-4.537   \u001b[0m | \u001b[0m-22.73   \u001b[0m | \u001b[0m-8.895   \u001b[0m |\n",
            "| \u001b[0m12       \u001b[0m | \u001b[0m-116.2   \u001b[0m | \u001b[0m-14.06   \u001b[0m | \u001b[0m-1.079   \u001b[0m | \u001b[0m-34.51   \u001b[0m | \u001b[0m-7.139   \u001b[0m |\n",
            "| \u001b[95m13       \u001b[0m | \u001b[95m-0.8254  \u001b[0m | \u001b[95m-16.86   \u001b[0m | \u001b[95m-43.01   \u001b[0m | \u001b[95m-45.81   \u001b[0m | \u001b[95m-4.205   \u001b[0m |\n",
            "| \u001b[0m14       \u001b[0m | \u001b[0m-1.448e+0\u001b[0m | \u001b[0m-19.49   \u001b[0m | \u001b[0m-6.631   \u001b[0m | \u001b[0m-42.55   \u001b[0m | \u001b[0m-0.4953  \u001b[0m |\n",
            "| \u001b[0m15       \u001b[0m | \u001b[0m-0.8335  \u001b[0m | \u001b[0m-27.5    \u001b[0m | \u001b[0m-13.66   \u001b[0m | \u001b[0m-42.25   \u001b[0m | \u001b[0m-5.412   \u001b[0m |\n",
            "| \u001b[0m16       \u001b[0m | \u001b[0m-2.208   \u001b[0m | \u001b[0m-42.88   \u001b[0m | \u001b[0m-33.04   \u001b[0m | \u001b[0m-14.86   \u001b[0m | \u001b[0m-9.152   \u001b[0m |\n",
            "| \u001b[0m17       \u001b[0m | \u001b[0m-408.9   \u001b[0m | \u001b[0m-46.48   \u001b[0m | \u001b[0m-0.9017  \u001b[0m | \u001b[0m-47.92   \u001b[0m | \u001b[0m-8.908   \u001b[0m |\n",
            "| \u001b[0m18       \u001b[0m | \u001b[0m-2.303   \u001b[0m | \u001b[0m-38.98   \u001b[0m | \u001b[0m-17.0    \u001b[0m | \u001b[0m-0.1926  \u001b[0m | \u001b[0m0.6676   \u001b[0m |\n",
            "| \u001b[0m19       \u001b[0m | \u001b[0m-726.4   \u001b[0m | \u001b[0m-16.17   \u001b[0m | \u001b[0m-0.07596 \u001b[0m | \u001b[0m-43.94   \u001b[0m | \u001b[0m-5.201   \u001b[0m |\n",
            "| \u001b[0m20       \u001b[0m | \u001b[0m-0.8674  \u001b[0m | \u001b[0m-41.64   \u001b[0m | \u001b[0m-22.63   \u001b[0m | \u001b[0m-11.45   \u001b[0m | \u001b[0m-3.769   \u001b[0m |\n",
            "| \u001b[0m21       \u001b[0m | \u001b[0m-2.227   \u001b[0m | \u001b[0m-25.75   \u001b[0m | \u001b[0m-24.89   \u001b[0m | \u001b[0m-38.98   \u001b[0m | \u001b[0m-9.421   \u001b[0m |\n",
            "| \u001b[0m22       \u001b[0m | \u001b[0m-143.5   \u001b[0m | \u001b[0m-50.0    \u001b[0m | \u001b[0m-29.63   \u001b[0m | \u001b[0m-21.94   \u001b[0m | \u001b[0m1.0      \u001b[0m |\n",
            "| \u001b[0m23       \u001b[0m | \u001b[0m-0.8919  \u001b[0m | \u001b[0m-7.66    \u001b[0m | \u001b[0m-23.82   \u001b[0m | \u001b[0m-19.85   \u001b[0m | \u001b[0m-4.133   \u001b[0m |\n",
            "| \u001b[0m24       \u001b[0m | \u001b[0m-2.423   \u001b[0m | \u001b[0m-2.79    \u001b[0m | \u001b[0m-10.32   \u001b[0m | \u001b[0m-28.08   \u001b[0m | \u001b[0m-10.0    \u001b[0m |\n",
            "| \u001b[0m25       \u001b[0m | \u001b[0m-1.487   \u001b[0m | \u001b[0m-11.62   \u001b[0m | \u001b[0m-32.96   \u001b[0m | \u001b[0m-32.04   \u001b[0m | \u001b[0m-6.969   \u001b[0m |\n",
            "| \u001b[0m26       \u001b[0m | \u001b[0m-0.8721  \u001b[0m | \u001b[0m-25.24   \u001b[0m | \u001b[0m-31.07   \u001b[0m | \u001b[0m-22.33   \u001b[0m | \u001b[0m-3.299   \u001b[0m |\n",
            "| \u001b[0m27       \u001b[0m | \u001b[0m-1.106   \u001b[0m | \u001b[0m-30.92   \u001b[0m | \u001b[0m-40.93   \u001b[0m | \u001b[0m-9.816   \u001b[0m | \u001b[0m-1.745   \u001b[0m |\n",
            "| \u001b[0m28       \u001b[0m | \u001b[0m-143.3   \u001b[0m | \u001b[0m-15.33   \u001b[0m | \u001b[0m-41.85   \u001b[0m | \u001b[0m-18.28   \u001b[0m | \u001b[0m1.0      \u001b[0m |\n",
            "| \u001b[95m29       \u001b[0m | \u001b[95m-0.8099  \u001b[0m | \u001b[95m-32.85   \u001b[0m | \u001b[95m-40.87   \u001b[0m | \u001b[95m-33.5    \u001b[0m | \u001b[95m-4.431   \u001b[0m |\n",
            "| \u001b[0m30       \u001b[0m | \u001b[0m-143.5   \u001b[0m | \u001b[0m-28.61   \u001b[0m | \u001b[0m-32.51   \u001b[0m | \u001b[0m-47.81   \u001b[0m | \u001b[0m1.0      \u001b[0m |\n",
            "| \u001b[0m31       \u001b[0m | \u001b[0m-2.256   \u001b[0m | \u001b[0m-31.43   \u001b[0m | \u001b[0m-48.18   \u001b[0m | \u001b[0m-20.95   \u001b[0m | \u001b[0m-10.0    \u001b[0m |\n",
            "| \u001b[0m32       \u001b[0m | \u001b[0m-2.303   \u001b[0m | \u001b[0m-8.01    \u001b[0m | \u001b[0m-22.88   \u001b[0m | \u001b[0m-3.644   \u001b[0m | \u001b[0m-10.0    \u001b[0m |\n",
            "| \u001b[0m33       \u001b[0m | \u001b[0m-2.303   \u001b[0m | \u001b[0m-18.18   \u001b[0m | \u001b[0m-37.47   \u001b[0m | \u001b[0m-1.639   \u001b[0m | \u001b[0m-10.0    \u001b[0m |\n",
            "| \u001b[0m34       \u001b[0m | \u001b[0m-2.303   \u001b[0m | \u001b[0m-31.21   \u001b[0m | \u001b[0m-28.1    \u001b[0m | \u001b[0m0.0      \u001b[0m | \u001b[0m-10.0    \u001b[0m |\n",
            "| \u001b[0m35       \u001b[0m | \u001b[0m-2.303   \u001b[0m | \u001b[0m-41.81   \u001b[0m | \u001b[0m-49.61   \u001b[0m | \u001b[0m-5.705   \u001b[0m | \u001b[0m-10.0    \u001b[0m |\n",
            "| \u001b[0m36       \u001b[0m | \u001b[0m-2.7     \u001b[0m | \u001b[0m0.0      \u001b[0m | \u001b[0m-36.15   \u001b[0m | \u001b[0m-43.42   \u001b[0m | \u001b[0m-2.31    \u001b[0m |\n",
            "| \u001b[0m37       \u001b[0m | \u001b[0m-740.4   \u001b[0m | \u001b[0m-10.81   \u001b[0m | \u001b[0m0.0      \u001b[0m | \u001b[0m-22.07   \u001b[0m | \u001b[0m-10.0    \u001b[0m |\n",
            "| \u001b[0m38       \u001b[0m | \u001b[0m-3.579   \u001b[0m | \u001b[0m0.0      \u001b[0m | \u001b[0m-18.54   \u001b[0m | \u001b[0m-8.805   \u001b[0m | \u001b[0m0.981    \u001b[0m |\n",
            "| \u001b[0m39       \u001b[0m | \u001b[0m-2.305   \u001b[0m | \u001b[0m0.0      \u001b[0m | \u001b[0m-24.97   \u001b[0m | \u001b[0m-29.34   \u001b[0m | \u001b[0m-10.0    \u001b[0m |\n",
            "| \u001b[0m40       \u001b[0m | \u001b[0m-2.303   \u001b[0m | \u001b[0m-7.823   \u001b[0m | \u001b[0m-32.21   \u001b[0m | \u001b[0m0.0      \u001b[0m | \u001b[0m1.0      \u001b[0m |\n",
            "| \u001b[0m41       \u001b[0m | \u001b[0m-2.303   \u001b[0m | \u001b[0m-12.37   \u001b[0m | \u001b[0m-13.92   \u001b[0m | \u001b[0m0.0      \u001b[0m | \u001b[0m1.0      \u001b[0m |\n",
            "| \u001b[0m42       \u001b[0m | \u001b[0m-2.256   \u001b[0m | \u001b[0m-19.64   \u001b[0m | \u001b[0m-48.05   \u001b[0m | \u001b[0m-32.88   \u001b[0m | \u001b[0m-10.0    \u001b[0m |\n",
            "| \u001b[0m43       \u001b[0m | \u001b[0m-2.303   \u001b[0m | \u001b[0m0.0      \u001b[0m | \u001b[0m-9.657   \u001b[0m | \u001b[0m0.0      \u001b[0m | \u001b[0m-8.667   \u001b[0m |\n",
            "| \u001b[0m44       \u001b[0m | \u001b[0m-2.301   \u001b[0m | \u001b[0m-3.999   \u001b[0m | \u001b[0m-47.77   \u001b[0m | \u001b[0m-37.32   \u001b[0m | \u001b[0m-10.0    \u001b[0m |\n",
            "| \u001b[0m45       \u001b[0m | \u001b[0m-3.975   \u001b[0m | \u001b[0m0.0      \u001b[0m | \u001b[0m-36.95   \u001b[0m | \u001b[0m-28.12   \u001b[0m | \u001b[0m1.0      \u001b[0m |\n",
            "=========================================================================\n",
            "CPU times: user 9min 55s, sys: 38.8 s, total: 10min 34s\n",
            "Wall time: 8min 59s\n"
          ]
        }
      ],
      "source": [
        "%%time\n",
        "lofi_5_optimizer.maximize(\n",
        "    init_points=20,\n",
        "    n_iter=25,\n",
        ")"
      ]
    },
    {
      "cell_type": "markdown",
      "metadata": {
        "id": "cqx4zbNY_DR6"
      },
      "source": [
        "## 4.2 Test-Set Evaluation"
      ]
    },
    {
      "cell_type": "code",
      "execution_count": null,
      "metadata": {
        "id": "xqrQ5J0Q_DR6"
      },
      "outputs": [],
      "source": [
        "lofi_5_hparams = {\n",
        "    'initial_covariance': 0.01190844207955588,\n",
        "    'dynamics_weights': 0.9999999999999972,\n",
        "    'dynamics_covariance': 1.785188667700262e-18,\n",
        "    'dynamics_covariance_inflation_factor': 5.4230760952936105e-15\n",
        "}"
      ]
    },
    {
      "cell_type": "code",
      "execution_count": 44,
      "metadata": {
        "id": "MXpKIfyg_DR6"
      },
      "outputs": [],
      "source": [
        "# lofi_5_hparams = hpt.get_best_params(lofi_5_optimizer, method='lofi')\n",
        "lofi_5_estimator, _ = hpt.build_estimator(model_dict['flat_params'], model_dict['apply_fn'],\n",
        "                                          lofi_5_hparams, model_dict['emission_mean_function'],\n",
        "                                          model_dict['emission_cov_function'], \n",
        "                                          method='lofi', lofi_params=lofi_5_params)"
      ]
    },
    {
      "cell_type": "code",
      "execution_count": 45,
      "metadata": {
        "colab": {
          "base_uri": "https://localhost:8080/"
        },
        "id": "RtVXd3xW_DR6",
        "outputId": "3e06b66b-a4ae-4feb-f5a1-948963ba87b7"
      },
      "outputs": [
        {
          "output_type": "execute_result",
          "data": {
            "text/plain": [
              "{'initial_covariance': 0.01190844207955588,\n",
              " 'dynamics_weights': 0.9999999999999972,\n",
              " 'dynamics_covariance': 1.785188667700262e-18,\n",
              " 'dynamics_covariance_inflation_factor': 5.4230760952936105e-15}"
            ]
          },
          "metadata": {},
          "execution_count": 45
        }
      ],
      "source": [
        "lofi_5_hparams"
      ]
    },
    {
      "cell_type": "code",
      "execution_count": 46,
      "metadata": {
        "colab": {
          "base_uri": "https://localhost:8080/"
        },
        "id": "l-cmR3jh_DR6",
        "outputId": "40b30342-86c7-4393-d2ff-6e97b4299963"
      },
      "outputs": [
        {
          "output_type": "stream",
          "name": "stderr",
          "text": [
            "100%|██████████| 5/5 [18:59<00:00, 227.82s/it]\n"
          ]
        }
      ],
      "source": [
        "lofi_5_res = evaluate_model(lofi_5_estimator)"
      ]
    },
    {
      "cell_type": "code",
      "source": [
        "filename = f'lofi_5_result.pkl'\n",
        "with open(Path(output_path, filename), \"wb\") as f:\n",
        "    pickle.dump(lofi_5_res, f)"
      ],
      "metadata": {
        "id": "c_CKxrDkL2qX"
      },
      "execution_count": 47,
      "outputs": []
    },
    {
      "cell_type": "markdown",
      "metadata": {
        "id": "ZrGF1H7V_DR6"
      },
      "source": [
        "# 5. Lofi (Rank 20)"
      ]
    },
    {
      "cell_type": "markdown",
      "metadata": {
        "id": "uQ6Pb3G5_DR6"
      },
      "source": [
        "## 5.1 Hyperparam Tuning"
      ]
    },
    {
      "cell_type": "code",
      "execution_count": 48,
      "metadata": {
        "id": "Y9VUP0hK_DR6"
      },
      "outputs": [],
      "source": [
        "lofi_20_params = LoFiParams(\n",
        "    memory_size=20,\n",
        "    diagonal_covariance=False,\n",
        ")"
      ]
    },
    {
      "cell_type": "code",
      "execution_count": 49,
      "metadata": {
        "id": "7qUggwfd_DR6"
      },
      "outputs": [],
      "source": [
        "lofi_20_optimizer, apply_fn, n_feats = hpt.create_optimizer(\n",
        "    model_dict[\"model\"], pbounds, 314, warmup_train, warmup_val, \n",
        "    model_dict[\"emission_mean_function\"], model_dict[\"emission_cov_function\"],\n",
        "    ll_calback, 'lofi', lofi_params=lofi_20_params\n",
        ")"
      ]
    },
    {
      "cell_type": "code",
      "execution_count": 50,
      "metadata": {
        "colab": {
          "base_uri": "https://localhost:8080/"
        },
        "id": "1WVE1za0_DR7",
        "outputId": "0cd17fdd-80bb-4e2c-fc4f-f4c60128e434"
      },
      "outputs": [
        {
          "output_type": "stream",
          "name": "stdout",
          "text": [
            "|   iter    |  target   | log_alpha | log_dy... | log_dy... | log_in... |\n",
            "-------------------------------------------------------------------------\n",
            "| \u001b[0m1        \u001b[0m | \u001b[0m-3.538   \u001b[0m | \u001b[0m-4.156   \u001b[0m | \u001b[0m-20.57   \u001b[0m | \u001b[0m-36.75   \u001b[0m | \u001b[0m-1.385   \u001b[0m |\n",
            "| \u001b[0m2        \u001b[0m | \u001b[0m-6.239   \u001b[0m | \u001b[0m-4.1     \u001b[0m | \u001b[0m-8.632   \u001b[0m | \u001b[0m-13.6    \u001b[0m | \u001b[0m-7.135   \u001b[0m |\n",
            "| \u001b[95m3        \u001b[0m | \u001b[95m-2.226   \u001b[0m | \u001b[95m-4.412   \u001b[0m | \u001b[95m-36.96   \u001b[0m | \u001b[95m-11.68   \u001b[0m | \u001b[95m-7.123   \u001b[0m |\n",
            "| \u001b[0m4        \u001b[0m | \u001b[0m-2.294   \u001b[0m | \u001b[0m-43.89   \u001b[0m | \u001b[0m-30.7    \u001b[0m | \u001b[0m-7.996   \u001b[0m | \u001b[0m-6.94    \u001b[0m |\n",
            "| \u001b[95m5        \u001b[0m | \u001b[95m-0.8063  \u001b[0m | \u001b[95m-46.5    \u001b[0m | \u001b[95m-18.34   \u001b[0m | \u001b[95m-20.76   \u001b[0m | \u001b[95m-3.606   \u001b[0m |\n",
            "| \u001b[0m6        \u001b[0m | \u001b[0m-1.07    \u001b[0m | \u001b[0m-16.14   \u001b[0m | \u001b[0m-15.64   \u001b[0m | \u001b[0m-28.05   \u001b[0m | \u001b[0m-6.47    \u001b[0m |\n",
            "| \u001b[0m7        \u001b[0m | \u001b[0m-1.873   \u001b[0m | \u001b[0m-21.47   \u001b[0m | \u001b[0m-26.01   \u001b[0m | \u001b[0m-6.946   \u001b[0m | \u001b[0m-0.8171  \u001b[0m |\n",
            "| \u001b[0m8        \u001b[0m | \u001b[0m-2.237   \u001b[0m | \u001b[0m-44.71   \u001b[0m | \u001b[0m-46.98   \u001b[0m | \u001b[0m-20.16   \u001b[0m | \u001b[0m-1.284   \u001b[0m |\n",
            "| \u001b[0m9        \u001b[0m | \u001b[0m-0.9266  \u001b[0m | \u001b[0m-38.68   \u001b[0m | \u001b[0m-23.24   \u001b[0m | \u001b[0m-43.2    \u001b[0m | \u001b[0m-5.905   \u001b[0m |\n",
            "| \u001b[0m10       \u001b[0m | \u001b[0m-0.8987  \u001b[0m | \u001b[0m-42.4    \u001b[0m | \u001b[0m-28.51   \u001b[0m | \u001b[0m-10.36   \u001b[0m | \u001b[0m-5.523   \u001b[0m |\n",
            "| \u001b[0m11       \u001b[0m | \u001b[0m-125.6   \u001b[0m | \u001b[0m-41.11   \u001b[0m | \u001b[0m-4.537   \u001b[0m | \u001b[0m-22.73   \u001b[0m | \u001b[0m-8.895   \u001b[0m |\n",
            "| \u001b[0m12       \u001b[0m | \u001b[0m-157.5   \u001b[0m | \u001b[0m-14.06   \u001b[0m | \u001b[0m-1.079   \u001b[0m | \u001b[0m-34.51   \u001b[0m | \u001b[0m-7.139   \u001b[0m |\n",
            "| \u001b[95m13       \u001b[0m | \u001b[95m-0.7548  \u001b[0m | \u001b[95m-16.86   \u001b[0m | \u001b[95m-43.01   \u001b[0m | \u001b[95m-45.81   \u001b[0m | \u001b[95m-4.205   \u001b[0m |\n",
            "| \u001b[0m14       \u001b[0m | \u001b[0m-99.25   \u001b[0m | \u001b[0m-19.49   \u001b[0m | \u001b[0m-6.631   \u001b[0m | \u001b[0m-42.55   \u001b[0m | \u001b[0m-0.4953  \u001b[0m |\n",
            "| \u001b[95m15       \u001b[0m | \u001b[95m-0.7092  \u001b[0m | \u001b[95m-27.5    \u001b[0m | \u001b[95m-13.66   \u001b[0m | \u001b[95m-42.25   \u001b[0m | \u001b[95m-5.412   \u001b[0m |\n",
            "| \u001b[0m16       \u001b[0m | \u001b[0m-2.209   \u001b[0m | \u001b[0m-42.88   \u001b[0m | \u001b[0m-33.04   \u001b[0m | \u001b[0m-14.86   \u001b[0m | \u001b[0m-9.152   \u001b[0m |\n",
            "| \u001b[0m17       \u001b[0m | \u001b[0m-318.1   \u001b[0m | \u001b[0m-46.48   \u001b[0m | \u001b[0m-0.9017  \u001b[0m | \u001b[0m-47.92   \u001b[0m | \u001b[0m-8.908   \u001b[0m |\n",
            "| \u001b[0m18       \u001b[0m | \u001b[0m-2.303   \u001b[0m | \u001b[0m-38.98   \u001b[0m | \u001b[0m-17.0    \u001b[0m | \u001b[0m-0.1926  \u001b[0m | \u001b[0m0.6676   \u001b[0m |\n",
            "| \u001b[0m19       \u001b[0m | \u001b[0m-552.7   \u001b[0m | \u001b[0m-16.17   \u001b[0m | \u001b[0m-0.07596 \u001b[0m | \u001b[0m-43.94   \u001b[0m | \u001b[0m-5.201   \u001b[0m |\n",
            "| \u001b[0m20       \u001b[0m | \u001b[0m-0.7771  \u001b[0m | \u001b[0m-41.64   \u001b[0m | \u001b[0m-22.63   \u001b[0m | \u001b[0m-11.45   \u001b[0m | \u001b[0m-3.769   \u001b[0m |\n",
            "| \u001b[0m21       \u001b[0m | \u001b[0m-2.621   \u001b[0m | \u001b[0m-18.63   \u001b[0m | \u001b[0m-17.49   \u001b[0m | \u001b[0m-36.93   \u001b[0m | \u001b[0m-0.02285 \u001b[0m |\n",
            "| \u001b[0m22       \u001b[0m | \u001b[0m-0.7217  \u001b[0m | \u001b[0m-29.8    \u001b[0m | \u001b[0m-21.95   \u001b[0m | \u001b[0m-32.84   \u001b[0m | \u001b[0m-4.698   \u001b[0m |\n",
            "| \u001b[0m23       \u001b[0m | \u001b[0m-0.7343  \u001b[0m | \u001b[0m-25.24   \u001b[0m | \u001b[0m-26.96   \u001b[0m | \u001b[0m-44.2    \u001b[0m | \u001b[0m-4.471   \u001b[0m |\n",
            "| \u001b[0m24       \u001b[0m | \u001b[0m-0.7253  \u001b[0m | \u001b[0m-10.61   \u001b[0m | \u001b[0m-23.33   \u001b[0m | \u001b[0m-16.6    \u001b[0m | \u001b[0m-4.618   \u001b[0m |\n",
            "| \u001b[0m25       \u001b[0m | \u001b[0m-0.793   \u001b[0m | \u001b[0m-15.09   \u001b[0m | \u001b[0m-29.46   \u001b[0m | \u001b[0m-31.58   \u001b[0m | \u001b[0m-5.378   \u001b[0m |\n",
            "| \u001b[0m26       \u001b[0m | \u001b[0m-0.8546  \u001b[0m | \u001b[0m-24.81   \u001b[0m | \u001b[0m-26.7    \u001b[0m | \u001b[0m-19.72   \u001b[0m | \u001b[0m-5.665   \u001b[0m |\n",
            "| \u001b[0m27       \u001b[0m | \u001b[0m-702.2   \u001b[0m | \u001b[0m-39.6    \u001b[0m | \u001b[0m-30.41   \u001b[0m | \u001b[0m-25.59   \u001b[0m | \u001b[0m0.1139   \u001b[0m |\n",
            "| \u001b[0m28       \u001b[0m | \u001b[0m-2.253   \u001b[0m | \u001b[0m-19.85   \u001b[0m | \u001b[0m-20.79   \u001b[0m | \u001b[0m-36.31   \u001b[0m | \u001b[0m-9.949   \u001b[0m |\n",
            "| \u001b[0m29       \u001b[0m | \u001b[0m-1.815   \u001b[0m | \u001b[0m-16.44   \u001b[0m | \u001b[0m-33.2    \u001b[0m | \u001b[0m-14.55   \u001b[0m | \u001b[0m-7.473   \u001b[0m |\n",
            "| \u001b[0m30       \u001b[0m | \u001b[0m-1.76    \u001b[0m | \u001b[0m-20.26   \u001b[0m | \u001b[0m-17.93   \u001b[0m | \u001b[0m-13.81   \u001b[0m | \u001b[0m-7.426   \u001b[0m |\n",
            "| \u001b[0m31       \u001b[0m | \u001b[0m-2.254   \u001b[0m | \u001b[0m-50.0    \u001b[0m | \u001b[0m-19.57   \u001b[0m | \u001b[0m-11.83   \u001b[0m | \u001b[0m-10.0    \u001b[0m |\n",
            "| \u001b[0m32       \u001b[0m | \u001b[0m-2.303   \u001b[0m | \u001b[0m-31.48   \u001b[0m | \u001b[0m-24.07   \u001b[0m | \u001b[0m-6.615   \u001b[0m | \u001b[0m-10.0    \u001b[0m |\n",
            "| \u001b[0m33       \u001b[0m | \u001b[0m-105.3   \u001b[0m | \u001b[0m-49.73   \u001b[0m | \u001b[0m-13.27   \u001b[0m | \u001b[0m-10.7    \u001b[0m | \u001b[0m1.0      \u001b[0m |\n",
            "| \u001b[0m34       \u001b[0m | \u001b[0m-1.104   \u001b[0m | \u001b[0m-11.81   \u001b[0m | \u001b[0m-29.77   \u001b[0m | \u001b[0m-44.25   \u001b[0m | \u001b[0m-2.462   \u001b[0m |\n",
            "| \u001b[0m35       \u001b[0m | \u001b[0m-2.303   \u001b[0m | \u001b[0m-11.47   \u001b[0m | \u001b[0m-25.58   \u001b[0m | \u001b[0m-4.748   \u001b[0m | \u001b[0m-10.0    \u001b[0m |\n",
            "| \u001b[0m36       \u001b[0m | \u001b[0m-2.265   \u001b[0m | \u001b[0m-46.25   \u001b[0m | \u001b[0m-45.33   \u001b[0m | \u001b[0m-10.87   \u001b[0m | \u001b[0m-10.0    \u001b[0m |\n",
            "| \u001b[0m37       \u001b[0m | \u001b[0m-2.303   \u001b[0m | \u001b[0m-32.82   \u001b[0m | \u001b[0m-38.41   \u001b[0m | \u001b[0m-7.248   \u001b[0m | \u001b[0m-10.0    \u001b[0m |\n",
            "| \u001b[0m38       \u001b[0m | \u001b[0m-2.303   \u001b[0m | \u001b[0m-3.232   \u001b[0m | \u001b[0m-26.31   \u001b[0m | \u001b[0m-26.52   \u001b[0m | \u001b[0m-10.0    \u001b[0m |\n",
            "| \u001b[0m39       \u001b[0m | \u001b[0m-4.94    \u001b[0m | \u001b[0m-6.291   \u001b[0m | \u001b[0m-34.92   \u001b[0m | \u001b[0m-23.76   \u001b[0m | \u001b[0m-0.7015  \u001b[0m |\n",
            "| \u001b[0m40       \u001b[0m | \u001b[0m-2.25    \u001b[0m | \u001b[0m-4.702   \u001b[0m | \u001b[0m-37.69   \u001b[0m | \u001b[0m-36.89   \u001b[0m | \u001b[0m-7.859   \u001b[0m |\n",
            "| \u001b[0m41       \u001b[0m | \u001b[0m-39.11   \u001b[0m | \u001b[0m-4.743   \u001b[0m | \u001b[0m-13.05   \u001b[0m | \u001b[0m-24.24   \u001b[0m | \u001b[0m0.5783   \u001b[0m |\n",
            "| \u001b[0m42       \u001b[0m | \u001b[0m-2.303   \u001b[0m | \u001b[0m-20.99   \u001b[0m | \u001b[0m-34.81   \u001b[0m | \u001b[0m0.0      \u001b[0m | \u001b[0m-10.0    \u001b[0m |\n",
            "| \u001b[0m43       \u001b[0m | \u001b[0m-2.303   \u001b[0m | \u001b[0m-33.08   \u001b[0m | \u001b[0m-30.5    \u001b[0m | \u001b[0m0.0      \u001b[0m | \u001b[0m0.1747   \u001b[0m |\n",
            "| \u001b[0m44       \u001b[0m | \u001b[0m-2.303   \u001b[0m | \u001b[0m-11.56   \u001b[0m | \u001b[0m-35.73   \u001b[0m | \u001b[0m-2.617   \u001b[0m | \u001b[0m1.0      \u001b[0m |\n",
            "| \u001b[0m45       \u001b[0m | \u001b[0m-2.229   \u001b[0m | \u001b[0m-1.179   \u001b[0m | \u001b[0m-25.72   \u001b[0m | \u001b[0m-7.204   \u001b[0m | \u001b[0m1.0      \u001b[0m |\n",
            "=========================================================================\n",
            "CPU times: user 23min 23s, sys: 37.7 s, total: 24min 1s\n",
            "Wall time: 22min 22s\n"
          ]
        }
      ],
      "source": [
        "%%time\n",
        "lofi_20_optimizer.maximize(\n",
        "    init_points=20,\n",
        "    n_iter=25,\n",
        ")"
      ]
    },
    {
      "cell_type": "markdown",
      "metadata": {
        "id": "usqJT2F__DR7"
      },
      "source": [
        "## 5.2 Test-Set Evaluation"
      ]
    },
    {
      "cell_type": "code",
      "execution_count": null,
      "metadata": {
        "id": "oCdxcs2T_DR7"
      },
      "outputs": [],
      "source": [
        "lofi_20_hparams = {\n",
        "    'initial_covariance': 0.004461548669775887,\n",
        "    'dynamics_weights': 1.0,\n",
        "    'dynamics_covariance': 1.1711220914355552e-06,\n",
        "    'dynamics_covariance_inflation_factor': 1.1350930234602791e-12\n",
        "}"
      ]
    },
    {
      "cell_type": "code",
      "execution_count": 51,
      "metadata": {
        "id": "oLJkzSVK_DR7"
      },
      "outputs": [],
      "source": [
        "# lofi_20_hparams = hpt.get_best_params(lofi_20_optimizer, method='lofi')\n",
        "lofi_20_estimator, _ = hpt.build_estimator(model_dict['flat_params'], model_dict['apply_fn'],\n",
        "                                           lofi_20_hparams, model_dict['emission_mean_function'],\n",
        "                                           model_dict['emission_cov_function'], \n",
        "                                           method='lofi', lofi_params=lofi_20_params)"
      ]
    },
    {
      "cell_type": "code",
      "execution_count": 52,
      "metadata": {
        "colab": {
          "base_uri": "https://localhost:8080/"
        },
        "id": "c-Qaa4jb_DR7",
        "outputId": "a7122532-7ef0-49fe-cc27-4cb8b17db5e2"
      },
      "outputs": [
        {
          "data": {
            "text/plain": [
              "{'initial_covariance': 0.004461548669775887,\n",
              " 'dynamics_weights': 1.0,\n",
              " 'dynamics_covariance': 1.1711220914355552e-06,\n",
              " 'dynamics_covariance_inflation_factor': 1.1350930234602791e-12}"
            ]
          },
          "execution_count": 52,
          "metadata": {},
          "output_type": "execute_result"
        }
      ],
      "source": [
        "lofi_20_hparams"
      ]
    },
    {
      "cell_type": "code",
      "execution_count": null,
      "metadata": {
        "colab": {
          "base_uri": "https://localhost:8080/"
        },
        "id": "fAzWMHLB_DR7",
        "outputId": "4f766387-4041-4bfc-8794-dcd810afd340"
      },
      "outputs": [
        {
          "output_type": "stream",
          "name": "stderr",
          "text": [
            "\r  0%|          | 0/5 [00:00<?, ?it/s]"
          ]
        }
      ],
      "source": [
        "lofi_20_res = evaluate_model(lofi_20_estimator)"
      ]
    },
    {
      "cell_type": "code",
      "source": [
        "filename = f'lofi_20_result.pkl'\n",
        "with open(Path(output_path, filename), \"wb\") as f:\n",
        "    pickle.dump(lofi_20_res, f)"
      ],
      "metadata": {
        "id": "LLj9eyNdPV0k"
      },
      "execution_count": null,
      "outputs": []
    },
    {
      "cell_type": "markdown",
      "source": [
        "# 6. LoFi (Rank 50)"
      ],
      "metadata": {
        "id": "IHWzSn87XFuS"
      }
    },
    {
      "cell_type": "markdown",
      "source": [
        "## 6.1 Hyperparam Tuning"
      ],
      "metadata": {
        "id": "V82zG9ZAXKma"
      }
    },
    {
      "cell_type": "code",
      "source": [
        "lofi_50_params = LoFiParams(\n",
        "    memory_size=50,\n",
        "    diagonal_covariance=False,\n",
        ")"
      ],
      "metadata": {
        "id": "O__l6q9kXKAF"
      },
      "execution_count": null,
      "outputs": []
    },
    {
      "cell_type": "code",
      "source": [
        "lofi_50_optimizer, apply_fn, n_feats = hpt.create_optimizer(\n",
        "    model_dict[\"model\"], pbounds, 314, warmup_train, warmup_val, \n",
        "    model_dict[\"emission_mean_function\"], model_dict[\"emission_cov_function\"],\n",
        "    ll_calback, 'lofi', lofi_params=lofi_50_params\n",
        ")"
      ],
      "metadata": {
        "id": "OILPjGelXRny"
      },
      "execution_count": null,
      "outputs": []
    },
    {
      "cell_type": "code",
      "source": [
        "%%time\n",
        "lofi_50_optimizer.maximize(\n",
        "    init_points=20,\n",
        "    n_iter=25,\n",
        ")"
      ],
      "metadata": {
        "id": "KFoAzNGnXUFf"
      },
      "execution_count": null,
      "outputs": []
    },
    {
      "cell_type": "markdown",
      "source": [
        "## 6.2 Test-Set Evaluation"
      ],
      "metadata": {
        "id": "ZDTTukSCXMJE"
      }
    },
    {
      "cell_type": "code",
      "source": [
        "# lofi_50_hparams = {\n",
        "# }"
      ],
      "metadata": {
        "id": "6DFmLVkOXWvn"
      },
      "execution_count": null,
      "outputs": []
    },
    {
      "cell_type": "code",
      "source": [
        "lofi_50_hparams = hpt.get_best_params(lofi_50_optimizer, method='lofi')\n",
        "lofi_50_estimator, _ = hpt.build_estimator(model_dict['flat_params'], model_dict['apply_fn'],\n",
        "                                           lofi_50_hparams, model_dict['emission_mean_function'],\n",
        "                                           model_dict['emission_cov_function'], \n",
        "                                           method='lofi', lofi_params=lofi_50_params)"
      ],
      "metadata": {
        "id": "qvuvsukSXdiT"
      },
      "execution_count": null,
      "outputs": []
    },
    {
      "cell_type": "code",
      "source": [
        "lofi_50_hparams"
      ],
      "metadata": {
        "id": "u0upYb7LXk2n"
      },
      "execution_count": null,
      "outputs": []
    },
    {
      "cell_type": "code",
      "source": [
        "lofi_50_res = evaluate_model(lofi_50_estimator)"
      ],
      "metadata": {
        "id": "BdksCwzLXmXz"
      },
      "execution_count": null,
      "outputs": []
    },
    {
      "cell_type": "code",
      "source": [
        "filename = f'lofi_50_result.pkl'\n",
        "with open(Path(output_path, filename), \"wb\") as f:\n",
        "    pickle.dump(lofi_50_res, f)"
      ],
      "metadata": {
        "id": "MAHH8dBJXo2U"
      },
      "execution_count": null,
      "outputs": []
    },
    {
      "cell_type": "markdown",
      "metadata": {
        "id": "4qYWz2xm_DR7"
      },
      "source": [
        "# 7. Online Gradient Descent"
      ]
    },
    {
      "cell_type": "markdown",
      "metadata": {
        "id": "dKRR43QY_DR7"
      },
      "source": [
        "## 7.1 Hyperparam Tuning"
      ]
    },
    {
      "cell_type": "code",
      "execution_count": null,
      "metadata": {
        "id": "Q_99zP-H_DR7"
      },
      "outputs": [],
      "source": [
        "rsgd_pbounds = {\n",
        "    'log_lr': (-8.0, 0.0),\n",
        "}"
      ]
    },
    {
      "cell_type": "code",
      "execution_count": null,
      "metadata": {
        "id": "dTWlsOG3_DR7"
      },
      "outputs": [],
      "source": [
        "ogd_params = {\n",
        "    'loss_fn': optax.softmax_cross_entropy,\n",
        "    'buffer_size': 1,\n",
        "    'dim_output': 10\n",
        "}"
      ]
    },
    {
      "cell_type": "code",
      "execution_count": null,
      "metadata": {
        "id": "ljeI_wdO_DR7"
      },
      "outputs": [],
      "source": [
        "ogd_optimizer, apply_fn, n_feats = hpt.create_optimizer(\n",
        "    model_dict[\"model\"], pbounds, 314, warmup_train, warmup_val, \n",
        "    model_dict[\"emission_mean_function\"], model_dict[\"emission_cov_function\"],\n",
        "    ll_calback, 'sgd', **ogd_params\n",
        ")"
      ]
    },
    {
      "cell_type": "code",
      "execution_count": null,
      "metadata": {
        "id": "Dd2mJCCq_DR7"
      },
      "outputs": [],
      "source": [
        "%%time\n",
        "ogd_optimizer.maximize(\n",
        "    init_points=20,\n",
        "    n_iter=25,\n",
        ")"
      ]
    },
    {
      "cell_type": "markdown",
      "metadata": {
        "id": "PRHsz-6L_DR7"
      },
      "source": [
        "## 7.2 Test-Set Evaluation"
      ]
    },
    {
      "cell_type": "code",
      "execution_count": null,
      "metadata": {
        "id": "1YrwwhH0_DR7"
      },
      "outputs": [],
      "source": [
        "# ogd_hparams = {\n",
        "# }"
      ]
    },
    {
      "cell_type": "code",
      "execution_count": null,
      "metadata": {
        "id": "NrqkV31Q_DR7"
      },
      "outputs": [],
      "source": [
        "ogd_hparams = hpt.get_best_params(ogd_optimizer, method='sgd')\n",
        "ogd_estimator, _ = hpt.build_estimator(model_dict['flat_params'], model_dict['apply_fn'],\n",
        "                                       ogd_hparams, model_dict['emission_mean_function'],\n",
        "                                       model_dict['emission_cov_function'], \n",
        "                                       method='sgd', **ogd_params)"
      ]
    },
    {
      "cell_type": "code",
      "execution_count": null,
      "metadata": {
        "id": "nLzdFC5P_DR7"
      },
      "outputs": [],
      "source": [
        "ogd_hparams"
      ]
    },
    {
      "cell_type": "code",
      "execution_count": null,
      "metadata": {
        "id": "vmmgrcir_DR7"
      },
      "outputs": [],
      "source": [
        "ogd_res = evaluate_model(ogd_estimator)"
      ]
    },
    {
      "cell_type": "code",
      "source": [
        "filename = f'ogd_result.pkl'\n",
        "with open(Path(output_path, filename), \"wb\") as f:\n",
        "    pickle.dump(ogd_res, f)"
      ],
      "metadata": {
        "id": "89SyeGf0Pbkm"
      },
      "execution_count": null,
      "outputs": []
    },
    {
      "cell_type": "markdown",
      "metadata": {
        "id": "yma75twB_DR7"
      },
      "source": [
        "# 8. SGD-RB (Rank 20)"
      ]
    },
    {
      "cell_type": "markdown",
      "metadata": {
        "id": "xV_tfuyv_DR7"
      },
      "source": [
        "## 8.1 Hyperparam Tuning"
      ]
    },
    {
      "cell_type": "code",
      "execution_count": null,
      "metadata": {
        "id": "i1H0V2B1_DR7"
      },
      "outputs": [],
      "source": [
        "sgd_rb_params = {\n",
        "    'loss_fn': optax.softmax_cross_entropy,\n",
        "    'buffer_size': 20,\n",
        "    'dim_output': 10\n",
        "}"
      ]
    },
    {
      "cell_type": "code",
      "execution_count": null,
      "metadata": {
        "id": "lyzRIgHE_DR7"
      },
      "outputs": [],
      "source": [
        "sgd_rb_optimizer, apply_fn, n_feats = hpt.create_optimizer(\n",
        "    model_dict[\"model\"], pbounds, 314, warmup_train, warmup_val, \n",
        "    model_dict[\"emission_mean_function\"], model_dict[\"emission_cov_function\"],\n",
        "    ll_calback, 'sgd', **sgd_rb_params\n",
        ")"
      ]
    },
    {
      "cell_type": "code",
      "execution_count": null,
      "metadata": {
        "id": "BMf103i1_DR7"
      },
      "outputs": [],
      "source": [
        "%%time\n",
        "sgd_rb_optimizer.maximize(\n",
        "    init_points=20,\n",
        "    n_iter=25,\n",
        ")"
      ]
    },
    {
      "cell_type": "markdown",
      "metadata": {
        "id": "loczC7aP_DR7"
      },
      "source": [
        "## 8.2 Test-Set Evaluation"
      ]
    },
    {
      "cell_type": "code",
      "execution_count": null,
      "metadata": {
        "id": "xKPrnfKH_DR7"
      },
      "outputs": [],
      "source": [
        "# sgd_rb_hparams = {\n",
        "# }"
      ]
    },
    {
      "cell_type": "code",
      "execution_count": null,
      "metadata": {
        "id": "dxAAKET6_DR7"
      },
      "outputs": [],
      "source": [
        "sgd_rb_hparams = hpt.get_best_params(sgd_rb_optimizer, method='sgd')\n",
        "sgd_rb_estimator, _ = hpt.build_estimator(model_dict['flat_params'], model_dict['apply_fn'],\n",
        "                                       ogd_hparams, model_dict['emission_mean_function'],\n",
        "                                       model_dict['emission_cov_function'], \n",
        "                                       method='sgd', **sgd_rb_params)"
      ]
    },
    {
      "cell_type": "code",
      "execution_count": null,
      "metadata": {
        "id": "iGBXvbc-_DR8"
      },
      "outputs": [],
      "source": [
        "sgd_rb_hparams"
      ]
    },
    {
      "cell_type": "code",
      "execution_count": null,
      "metadata": {
        "id": "1vI0D9WY_DR8"
      },
      "outputs": [],
      "source": [
        "sgd_rb_res = evaluate_model(sgd_rb_estimator)"
      ]
    },
    {
      "cell_type": "code",
      "source": [
        "filename = f'sgd_rb_result.pkl'\n",
        "with open(Path(output_path, filename), \"wb\") as f:\n",
        "    pickle.dump(sgd_rb_res, f)"
      ],
      "metadata": {
        "id": "8MQUCJvjPgQE"
      },
      "execution_count": null,
      "outputs": []
    },
    {
      "cell_type": "markdown",
      "metadata": {
        "id": "QQ7TPyDs_DR8"
      },
      "source": [
        "# 9. Model Comparison"
      ]
    },
    {
      "cell_type": "code",
      "execution_count": 20,
      "metadata": {
        "id": "ZdpQs26l_DR8"
      },
      "outputs": [],
      "source": [
        "results = {\n",
        "    # 'sgd-online': online_sgd_result,\n",
        "    # 'sgd-rb': rsgd_result,\n",
        "    'fdekf': fdekf_res,\n",
        "    # 'vdekf': vdekf_res,\n",
        "    # 'lofi-1': lofi_1_res,\n",
        "    # 'lofi-5': lofi_5_res,\n",
        "    # 'lofi-50': lofi_50_res,\n",
        "}"
      ]
    },
    {
      "cell_type": "code",
      "execution_count": null,
      "metadata": {
        "id": "Gf3ahnzd_DR8"
      },
      "outputs": [],
      "source": [
        "# boundaries = [i for i in range(600, (600*10)+1, 600)]"
      ]
    },
    {
      "cell_type": "code",
      "execution_count": 22,
      "metadata": {
        "colab": {
          "base_uri": "https://localhost:8080/",
          "height": 295
        },
        "id": "9FRbKA_L_DR8",
        "outputId": "1af7de04-fddf-4771-c7a3-2f841c30b7a8"
      },
      "outputs": [
        {
          "output_type": "display_data",
          "data": {
            "text/plain": [
              "<Figure size 432x288 with 1 Axes>"
            ],
            "image/png": "[encoded data removed]"
          },
          "metadata": {
            "needs_background": "light"
          }
        }
      ],
      "source": [
        "fig, ax = plt.subplots()\n",
        "for key, val in results.items():\n",
        "    ax.plot(1.0 - val['current'], label=key, linewidth=0.8)\n",
        "    ax.fill_between(\n",
        "        jnp.arange(val['current'].shape[0]),\n",
        "        1.0 - val['current'] - 0.5*val['current-std'],\n",
        "        1.0 - val['current'] + 0.5*val['current-std'],\n",
        "        alpha=0.3\n",
        "    )\n",
        "# Task boundaries\n",
        "# for b in boundaries:\n",
        "#     ax.axvline(x=b, color='k', linestyle='--', alpha=0.5)\n",
        "ax.set_xlabel('Number of observations')\n",
        "ax.set_ylabel('Test-set average misclassification rate');\n",
        "ax.set_title(f'Current task test-set average misclassification rate')\n",
        "ax.grid(alpha=0.5)\n",
        "ax.legend();"
      ]
    },
    {
      "cell_type": "code",
      "execution_count": 23,
      "metadata": {
        "colab": {
          "base_uri": "https://localhost:8080/",
          "height": 295
        },
        "id": "HjJxX_Jj_DR8",
        "outputId": "d5a1271c-0c7b-4856-9430-debd468c949b"
      },
      "outputs": [
        {
          "output_type": "display_data",
          "data": {
            "text/plain": [
              "<Figure size 432x288 with 1 Axes>"
            ],
            "image/png": "[encoded data removed]"
          },
          "metadata": {
            "needs_background": "light"
          }
        }
      ],
      "source": [
        "fig, ax = plt.subplots()\n",
        "for key, val in results.items():\n",
        "    ax.plot(1.0 - val['overall'], label=key, linewidth=0.8)\n",
        "    ax.fill_between(\n",
        "        jnp.arange(val['overall'].shape[0]),\n",
        "        1.0 - val['overall'] - val['overall-std'],\n",
        "        1.0 - val['overall'] + val['overall-std'],\n",
        "        alpha=0.3\n",
        "    )\n",
        "# Task boundaries\n",
        "# for b in boundaries:\n",
        "#     ax.axvline(x=b, color='k', linestyle='--', alpha=0.5)\n",
        "ax.set_xlabel('Number of observations')\n",
        "ax.set_ylabel('Test-set average misclassification rate');\n",
        "ax.set_title(f'Cumulative tasks test-set average misclassification rate')\n",
        "ax.grid(alpha=0.5)\n",
        "ax.legend();\n",
        "# fig.savefig(f'{output_path}_{name}.pdf', bbox_inches='tight')"
      ]
    },
    {
      "cell_type": "code",
      "execution_count": 25,
      "metadata": {
        "colab": {
          "base_uri": "https://localhost:8080/",
          "height": 295
        },
        "id": "KSJVmcAz_DR8",
        "outputId": "e993dc21-20bd-4d49-c400-534e54b9019a"
      },
      "outputs": [
        {
          "output_type": "display_data",
          "data": {
            "text/plain": [
              "<Figure size 432x288 with 1 Axes>"
            ],
            "image/png": "[encoded data removed]"
          },
          "metadata": {
            "needs_background": "light"
          }
        }
      ],
      "source": [
        "fig, ax = plt.subplots()\n",
        "for key, val in results.items():\n",
        "    ax.plot(1.0 - val['task1'], label=key, linewidth=0.8)\n",
        "    ax.fill_between(\n",
        "        jnp.arange(val['task1'].shape[0]),\n",
        "        1.0 - val['task1'] - val['task1-std'],\n",
        "        1.0 - val['task1'] + val['task1-std'],\n",
        "        alpha=0.3\n",
        "    )\n",
        "# # Task boundaries\n",
        "# for b in boundaries:\n",
        "#     ax.axvline(x=b, color='k', linestyle='--', alpha=0.5)\n",
        "ax.set_xlabel('Number of training examples seen')\n",
        "ax.set_ylabel('Test-set average misclassification rate');\n",
        "ax.set_title(f'First task test-set average misclassification rate')\n",
        "ax.grid(alpha=0.5)\n",
        "ax.legend();"
      ]
    },
    {
      "cell_type": "code",
      "source": [],
      "metadata": {
        "id": "Cy2MXkHTD3kZ"
      },
      "execution_count": null,
      "outputs": []
    }
  ],
  "metadata": {
    "kernelspec": {
      "display_name": ".venv",
      "language": "python",
      "name": "python3"
    },
    "language_info": {
      "codemirror_mode": {
        "name": "ipython",
        "version": 3
      },
      "file_extension": ".py",
      "mimetype": "text/x-python",
      "name": "python",
      "nbconvert_exporter": "python",
      "pygments_lexer": "ipython3",
      "version": "3.10.0"
    },
    "orig_nbformat": 4,
    "vscode": {
      "interpreter": {
        "hash": "a63216e3e6a2ce617ef04b00f48ca414857cfc892c8cff43a5943fdd36fca11d"
      }
    },
    "colab": {
      "provenance": [],
      "machine_shape": "hm"
    },
    "accelerator": "GPU",
    "gpuClass": "premium"
  },
  "nbformat": 4,
  "nbformat_minor": 0
}