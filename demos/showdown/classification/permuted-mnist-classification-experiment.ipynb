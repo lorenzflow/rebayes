{
  "cells": [
    {
      "cell_type": "markdown",
      "metadata": {
        "id": "2RLIFglg_DR0"
      },
      "source": [
        "# 0. Imports and Dataset Load"
      ]
    },
    {
      "cell_type": "code",
      "source": [
        "# %pip install dynamax\n",
        "# %pip install git+https://github.com/probml/rebayes.git\n",
        "# %pip install jax-dataloader\n",
        "# %pip install jax-tqdm\n",
        "# %pip install flax\n",
        "# %pip install avalanche-lib\n",
        "# %pip install bayesian-optimization"
      ],
      "metadata": {
        "id": "2jzuvb99_Ffw"
      },
      "execution_count": 5,
      "outputs": []
    },
    {
      "cell_type": "code",
      "execution_count": 6,
      "metadata": {
        "id": "CeIEWYSO_DR1"
      },
      "outputs": [],
      "source": [
        "from functools import partial\n",
        "from pathlib import Path\n",
        "import pickle\n",
        "\n",
        "import jax\n",
        "import jax.numpy as jnp\n",
        "import matplotlib.pyplot as plt\n",
        "from tqdm import trange\n",
        "import jax_dataloader.core as jdl\n",
        "import optax\n",
        "\n",
        "from rebayes.low_rank_filter.lofi import LoFiParams\n",
        "from demos.showdown.classification import (\n",
        "    permuted_mnist as core,\n",
        "    classification_train as benchmark,\n",
        "    hparam_tune_clf as hpt,\n",
        ")"
      ]
    },
    {
      "cell_type": "code",
      "execution_count": 39,
      "metadata": {
        "id": "D3gBSHYM_DR2"
      },
      "outputs": [],
      "source": [
        "data_kwargs = {\n",
        "    'n_tasks': 100,\n",
        "    'ntrain_per_task': 100,\n",
        "    'nval_per_task': 1_000,\n",
        "    'ntest_per_task': 1_000,\n",
        "}\n",
        "\n",
        "dataset = benchmark.load_permuted_mnist_dataset(**data_kwargs, fashion=True)"
      ]
    },
    {
      "cell_type": "code",
      "source": [
        "output_path = Path(Path.cwd(), 'output', 'permuted-mnist', 'experiment')\n",
        "output_path.mkdir(parents=True, exist_ok=True)"
      ],
      "metadata": {
        "id": "zTg72y99DDp7"
      },
      "execution_count": 40,
      "outputs": []
    },
    {
      "cell_type": "code",
      "execution_count": 41,
      "metadata": {
        "id": "yDdWU9MT_DR2"
      },
      "outputs": [],
      "source": [
        "features = [400, 400, 10]\n",
        "model_dict = benchmark.init_model(type='mlp', features=features)"
      ]
    },
    {
      "cell_type": "code",
      "execution_count": 42,
      "metadata": {
        "id": "uY-uHhLU_DR2"
      },
      "outputs": [],
      "source": [
        "(Xtr, Ytr), (Xval, Yval), (Xte, Yte) = dataset.values()"
      ]
    },
    {
      "cell_type": "code",
      "execution_count": 43,
      "metadata": {
        "id": "6AsNyNzX_DR2"
      },
      "outputs": [],
      "source": [
        "# Measure in-task performance after 20 tasks\n",
        "val_after = 20\n",
        "X_warmup_tr = Xtr[:val_after*data_kwargs[\"ntrain_per_task\"]]\n",
        "Y_warmup_tr = Ytr[:val_after*data_kwargs[\"ntrain_per_task\"]]\n",
        "warmup_train = (X_warmup_tr, Y_warmup_tr)\n",
        "\n",
        "X_warmup_val = Xval[(val_after-1)*data_kwargs[\"nval_per_task\"]:val_after*data_kwargs[\"nval_per_task\"]]\n",
        "Y_warmup_val = Yval[(val_after-1)*data_kwargs[\"nval_per_task\"]:val_after*data_kwargs[\"nval_per_task\"]]\n",
        "warmup_val = (X_warmup_val, Y_warmup_val)"
      ]
    },
    {
      "cell_type": "code",
      "execution_count": 44,
      "metadata": {
        "id": "WCKryQeK_DR2"
      },
      "outputs": [],
      "source": [
        "ll_calback = partial(benchmark.eval_callback, evaluate_fn=benchmark.mnist_evaluate_ll)"
      ]
    },
    {
      "cell_type": "markdown",
      "metadata": {
        "id": "AS0triiF_DR3"
      },
      "source": [
        "# 1. FDEKF"
      ]
    },
    {
      "cell_type": "markdown",
      "metadata": {
        "id": "ZKPwX3WJ_DR3"
      },
      "source": [
        "## 1.1 Hyperparam Tuning"
      ]
    },
    {
      "cell_type": "code",
      "execution_count": 45,
      "metadata": {
        "id": "wSfv6fGg_DR3"
      },
      "outputs": [],
      "source": [
        "pbounds={\n",
        "    'log_init_cov': (-10, 1),\n",
        "    'log_dynamics_weights': (-50, 0),\n",
        "    'log_dynamics_cov': (-50, 0),\n",
        "    'log_alpha': (-50, 0),\n",
        "}\n",
        "fdekf_model = 'fdekf'"
      ]
    },
    {
      "cell_type": "code",
      "execution_count": 46,
      "metadata": {
        "id": "mDjGNtG6_DR3"
      },
      "outputs": [],
      "source": [
        "fdekf_optimizer, apply_fn, n_feats = hpt.create_optimizer(\n",
        "    model_dict[\"model\"], pbounds, 314, warmup_train, warmup_val, \n",
        "    model_dict[\"emission_mean_function\"], model_dict[\"emission_cov_function\"],\n",
        "    ll_calback, 'fdekf',\n",
        ")"
      ]
    },
    {
      "cell_type": "code",
      "execution_count": 47,
      "metadata": {
        "id": "xWpOS9Bj_DR3",
        "outputId": "27a3bc26-6f1f-4b9a-e5f9-a6e438e20f53",
        "colab": {
          "base_uri": "https://localhost:8080/"
        }
      },
      "outputs": [
        {
          "output_type": "stream",
          "name": "stdout",
          "text": [
            "|   iter    |  target   | log_alpha | log_dy... | log_dy... | log_in... |\n",
            "-------------------------------------------------------------------------\n",
            "| \u001b[0m1        \u001b[0m | \u001b[0m-873.3   \u001b[0m | \u001b[0m-4.156   \u001b[0m | \u001b[0m-20.57   \u001b[0m | \u001b[0m-36.75   \u001b[0m | \u001b[0m-1.385   \u001b[0m |\n",
            "| \u001b[95m2        \u001b[0m | \u001b[95m-282.1   \u001b[0m | \u001b[95m-4.1     \u001b[0m | \u001b[95m-8.632   \u001b[0m | \u001b[95m-13.6    \u001b[0m | \u001b[95m-7.135   \u001b[0m |\n",
            "| \u001b[0m3        \u001b[0m | \u001b[0m-814.4   \u001b[0m | \u001b[0m-4.412   \u001b[0m | \u001b[0m-36.96   \u001b[0m | \u001b[0m-11.68   \u001b[0m | \u001b[0m-7.123   \u001b[0m |\n",
            "| \u001b[95m4        \u001b[0m | \u001b[95m-2.284   \u001b[0m | \u001b[95m-43.89   \u001b[0m | \u001b[95m-30.7    \u001b[0m | \u001b[95m-7.996   \u001b[0m | \u001b[95m-6.94    \u001b[0m |\n",
            "| \u001b[95m5        \u001b[0m | \u001b[95m-1.412   \u001b[0m | \u001b[95m-46.5    \u001b[0m | \u001b[95m-18.34   \u001b[0m | \u001b[95m-20.76   \u001b[0m | \u001b[95m-3.606   \u001b[0m |\n",
            "| \u001b[0m6        \u001b[0m | \u001b[0m-1.99    \u001b[0m | \u001b[0m-16.14   \u001b[0m | \u001b[0m-15.64   \u001b[0m | \u001b[0m-28.05   \u001b[0m | \u001b[0m-6.47    \u001b[0m |\n",
            "| \u001b[0m7        \u001b[0m | \u001b[0m-1.719   \u001b[0m | \u001b[0m-21.47   \u001b[0m | \u001b[0m-26.01   \u001b[0m | \u001b[0m-6.946   \u001b[0m | \u001b[0m-0.8171  \u001b[0m |\n",
            "| \u001b[0m8        \u001b[0m | \u001b[0m-1.841   \u001b[0m | \u001b[0m-44.71   \u001b[0m | \u001b[0m-46.98   \u001b[0m | \u001b[0m-20.16   \u001b[0m | \u001b[0m-1.284   \u001b[0m |\n",
            "| \u001b[0m9        \u001b[0m | \u001b[0m-1.745   \u001b[0m | \u001b[0m-38.68   \u001b[0m | \u001b[0m-23.24   \u001b[0m | \u001b[0m-43.2    \u001b[0m | \u001b[0m-5.905   \u001b[0m |\n",
            "| \u001b[0m10       \u001b[0m | \u001b[0m-1.587   \u001b[0m | \u001b[0m-42.4    \u001b[0m | \u001b[0m-28.51   \u001b[0m | \u001b[0m-10.36   \u001b[0m | \u001b[0m-5.523   \u001b[0m |\n",
            "| \u001b[0m11       \u001b[0m | \u001b[0m-104.5   \u001b[0m | \u001b[0m-41.11   \u001b[0m | \u001b[0m-4.537   \u001b[0m | \u001b[0m-22.73   \u001b[0m | \u001b[0m-8.895   \u001b[0m |\n",
            "| \u001b[0m12       \u001b[0m | \u001b[0m-365.4   \u001b[0m | \u001b[0m-14.06   \u001b[0m | \u001b[0m-1.079   \u001b[0m | \u001b[0m-34.51   \u001b[0m | \u001b[0m-7.139   \u001b[0m |\n",
            "| \u001b[95m13       \u001b[0m | \u001b[95m-1.373   \u001b[0m | \u001b[95m-16.86   \u001b[0m | \u001b[95m-43.01   \u001b[0m | \u001b[95m-45.81   \u001b[0m | \u001b[95m-4.205   \u001b[0m |\n",
            "| \u001b[0m14       \u001b[0m | \u001b[0m-483.6   \u001b[0m | \u001b[0m-19.49   \u001b[0m | \u001b[0m-6.631   \u001b[0m | \u001b[0m-42.55   \u001b[0m | \u001b[0m-0.4953  \u001b[0m |\n",
            "| \u001b[0m15       \u001b[0m | \u001b[0m-1.383   \u001b[0m | \u001b[0m-27.5    \u001b[0m | \u001b[0m-13.66   \u001b[0m | \u001b[0m-42.25   \u001b[0m | \u001b[0m-5.412   \u001b[0m |\n",
            "| \u001b[0m16       \u001b[0m | \u001b[0m-2.286   \u001b[0m | \u001b[0m-42.88   \u001b[0m | \u001b[0m-33.04   \u001b[0m | \u001b[0m-14.86   \u001b[0m | \u001b[0m-9.152   \u001b[0m |\n",
            "| \u001b[0m17       \u001b[0m | \u001b[0m-140.6   \u001b[0m | \u001b[0m-46.48   \u001b[0m | \u001b[0m-0.9017  \u001b[0m | \u001b[0m-47.92   \u001b[0m | \u001b[0m-8.908   \u001b[0m |\n",
            "| \u001b[0m18       \u001b[0m | \u001b[0m-2.303   \u001b[0m | \u001b[0m-38.98   \u001b[0m | \u001b[0m-17.0    \u001b[0m | \u001b[0m-0.1926  \u001b[0m | \u001b[0m0.6676   \u001b[0m |\n",
            "| \u001b[0m19       \u001b[0m | \u001b[0m-98.68   \u001b[0m | \u001b[0m-16.17   \u001b[0m | \u001b[0m-0.07596 \u001b[0m | \u001b[0m-43.94   \u001b[0m | \u001b[0m-5.201   \u001b[0m |\n",
            "| \u001b[0m20       \u001b[0m | \u001b[0m-1.456   \u001b[0m | \u001b[0m-41.64   \u001b[0m | \u001b[0m-22.63   \u001b[0m | \u001b[0m-11.45   \u001b[0m | \u001b[0m-3.769   \u001b[0m |\n",
            "| \u001b[0m21       \u001b[0m | \u001b[0m-2.274   \u001b[0m | \u001b[0m-29.28   \u001b[0m | \u001b[0m-20.54   \u001b[0m | \u001b[0m-27.45   \u001b[0m | \u001b[0m-8.808   \u001b[0m |\n",
            "| \u001b[0m22       \u001b[0m | \u001b[0m-166.1   \u001b[0m | \u001b[0m-26.68   \u001b[0m | \u001b[0m-14.73   \u001b[0m | \u001b[0m-15.71   \u001b[0m | \u001b[0m1.0      \u001b[0m |\n",
            "| \u001b[0m23       \u001b[0m | \u001b[0m-165.1   \u001b[0m | \u001b[0m-39.39   \u001b[0m | \u001b[0m-32.95   \u001b[0m | \u001b[0m-29.27   \u001b[0m | \u001b[0m1.0      \u001b[0m |\n",
            "| \u001b[0m24       \u001b[0m | \u001b[0m-2.303   \u001b[0m | \u001b[0m-32.63   \u001b[0m | \u001b[0m-32.0    \u001b[0m | \u001b[0m0.0      \u001b[0m | \u001b[0m1.0      \u001b[0m |\n",
            "| \u001b[0m25       \u001b[0m | \u001b[0m-2.305   \u001b[0m | \u001b[0m-26.63   \u001b[0m | \u001b[0m-28.28   \u001b[0m | \u001b[0m-45.23   \u001b[0m | \u001b[0m-10.0    \u001b[0m |\n",
            "| \u001b[0m26       \u001b[0m | \u001b[0m-2.303   \u001b[0m | \u001b[0m-28.58   \u001b[0m | \u001b[0m-19.34   \u001b[0m | \u001b[0m-0.7403  \u001b[0m | \u001b[0m-9.844   \u001b[0m |\n",
            "| \u001b[0m27       \u001b[0m | \u001b[0m-2.305   \u001b[0m | \u001b[0m-31.46   \u001b[0m | \u001b[0m-46.33   \u001b[0m | \u001b[0m-50.0    \u001b[0m | \u001b[0m-10.0    \u001b[0m |\n",
            "| \u001b[0m28       \u001b[0m | \u001b[0m-2.303   \u001b[0m | \u001b[0m-43.04   \u001b[0m | \u001b[0m-50.0    \u001b[0m | \u001b[0m-3.745   \u001b[0m | \u001b[0m-5.648   \u001b[0m |\n",
            "| \u001b[0m29       \u001b[0m | \u001b[0m-2.305   \u001b[0m | \u001b[0m-29.66   \u001b[0m | \u001b[0m-50.0    \u001b[0m | \u001b[0m-33.45   \u001b[0m | \u001b[0m-10.0    \u001b[0m |\n",
            "| \u001b[0m30       \u001b[0m | \u001b[0m-2.305   \u001b[0m | \u001b[0m-48.11   \u001b[0m | \u001b[0m-50.0    \u001b[0m | \u001b[0m-37.79   \u001b[0m | \u001b[0m-10.0    \u001b[0m |\n",
            "| \u001b[0m31       \u001b[0m | \u001b[0m-2.303   \u001b[0m | \u001b[0m-50.0    \u001b[0m | \u001b[0m-10.76   \u001b[0m | \u001b[0m-1.769   \u001b[0m | \u001b[0m-10.0    \u001b[0m |\n",
            "| \u001b[0m32       \u001b[0m | \u001b[0m-165.1   \u001b[0m | \u001b[0m-36.64   \u001b[0m | \u001b[0m-50.0    \u001b[0m | \u001b[0m-42.98   \u001b[0m | \u001b[0m1.0      \u001b[0m |\n",
            "| \u001b[0m33       \u001b[0m | \u001b[0m-2.305   \u001b[0m | \u001b[0m-33.41   \u001b[0m | \u001b[0m-50.0    \u001b[0m | \u001b[0m-15.79   \u001b[0m | \u001b[0m-10.0    \u001b[0m |\n",
            "| \u001b[0m34       \u001b[0m | \u001b[0m-2.305   \u001b[0m | \u001b[0m-50.0    \u001b[0m | \u001b[0m-36.25   \u001b[0m | \u001b[0m-50.0    \u001b[0m | \u001b[0m-10.0    \u001b[0m |\n",
            "| \u001b[0m35       \u001b[0m | \u001b[0m-2.348   \u001b[0m | \u001b[0m-36.03   \u001b[0m | \u001b[0m0.0      \u001b[0m | \u001b[0m0.0      \u001b[0m | \u001b[0m-10.0    \u001b[0m |\n",
            "| \u001b[0m36       \u001b[0m | \u001b[0m-3.235   \u001b[0m | \u001b[0m-49.42   \u001b[0m | \u001b[0m-0.2876  \u001b[0m | \u001b[0m-3.093   \u001b[0m | \u001b[0m0.1236   \u001b[0m |\n",
            "| \u001b[0m37       \u001b[0m | \u001b[0m-2.167   \u001b[0m | \u001b[0m-34.0    \u001b[0m | \u001b[0m-14.53   \u001b[0m | \u001b[0m-50.0    \u001b[0m | \u001b[0m-10.0    \u001b[0m |\n",
            "| \u001b[0m38       \u001b[0m | \u001b[0m-2.305   \u001b[0m | \u001b[0m-50.0    \u001b[0m | \u001b[0m-50.0    \u001b[0m | \u001b[0m-15.43   \u001b[0m | \u001b[0m-10.0    \u001b[0m |\n",
            "| \u001b[0m39       \u001b[0m | \u001b[0m-517.6   \u001b[0m | \u001b[0m-3.635   \u001b[0m | \u001b[0m-50.0    \u001b[0m | \u001b[0m-50.0    \u001b[0m | \u001b[0m-10.0    \u001b[0m |\n",
            "| \u001b[0m40       \u001b[0m | \u001b[0m-2.303   \u001b[0m | \u001b[0m-50.0    \u001b[0m | \u001b[0m-39.03   \u001b[0m | \u001b[0m0.0      \u001b[0m | \u001b[0m1.0      \u001b[0m |\n",
            "| \u001b[0m41       \u001b[0m | \u001b[0m-2.348   \u001b[0m | \u001b[0m-23.09   \u001b[0m | \u001b[0m0.0      \u001b[0m | \u001b[0m0.0      \u001b[0m | \u001b[0m1.0      \u001b[0m |\n",
            "| \u001b[0m42       \u001b[0m | \u001b[0m-2.305   \u001b[0m | \u001b[0m-50.0    \u001b[0m | \u001b[0m-27.39   \u001b[0m | \u001b[0m-33.16   \u001b[0m | \u001b[0m-10.0    \u001b[0m |\n",
            "| \u001b[0m43       \u001b[0m | \u001b[0m-165.1   \u001b[0m | \u001b[0m-50.0    \u001b[0m | \u001b[0m-20.39   \u001b[0m | \u001b[0m-50.0    \u001b[0m | \u001b[0m1.0      \u001b[0m |\n",
            "| \u001b[0m44       \u001b[0m | \u001b[0m-2.303   \u001b[0m | \u001b[0m-28.72   \u001b[0m | \u001b[0m-50.0    \u001b[0m | \u001b[0m0.0      \u001b[0m | \u001b[0m1.0      \u001b[0m |\n",
            "| \u001b[0m45       \u001b[0m | \u001b[0m-2.303   \u001b[0m | \u001b[0m-50.0    \u001b[0m | \u001b[0m-22.95   \u001b[0m | \u001b[0m0.0      \u001b[0m | \u001b[0m1.0      \u001b[0m |\n",
            "=========================================================================\n",
            "CPU times: user 2min 40s, sys: 39.2 s, total: 3min 19s\n",
            "Wall time: 1min 47s\n"
          ]
        }
      ],
      "source": [
        "%%time\n",
        "fdekf_optimizer.maximize(\n",
        "    init_points=20,\n",
        "    n_iter=25,\n",
        ")"
      ]
    },
    {
      "cell_type": "markdown",
      "metadata": {
        "id": "E_E8Kr_L_DR4"
      },
      "source": [
        "## 1.2 Test-Set Evaluation"
      ]
    },
    {
      "cell_type": "code",
      "execution_count": 48,
      "metadata": {
        "id": "HL8_n7Iu_DR4"
      },
      "outputs": [],
      "source": [
        "fdekf_model = 'fdekf'\n",
        "fdekf_hparams = {\n",
        "    'initial_covariance': 0.027148086840588965,\n",
        "    'dynamics_weights': 0.9999999990377035,\n",
        "    'dynamics_covariance': 1.0791385346291648e-08,\n",
        "    'dynamics_covariance_inflation_factor': 6.359638985510327e-21\n",
        "}"
      ]
    },
    {
      "cell_type": "code",
      "execution_count": 49,
      "metadata": {
        "id": "-8alr2r6_DR4"
      },
      "outputs": [],
      "source": [
        "# fdekf_hparams = hpt.get_best_params(fdekf_optimizer, method=fdekf_model)\n",
        "fdekf_estimator, _ = hpt.build_estimator(model_dict['flat_params'], model_dict['apply_fn'],\n",
        "                                         fdekf_hparams, model_dict['emission_mean_function'],\n",
        "                                         model_dict['emission_cov_function'], \n",
        "                                         method=fdekf_model)"
      ]
    },
    {
      "cell_type": "code",
      "source": [
        "fdekf_hparams"
      ],
      "metadata": {
        "id": "jCowKoDBei7h",
        "outputId": "f24d4d3f-cfcb-4f15-b56c-f885c755807f",
        "colab": {
          "base_uri": "https://localhost:8080/"
        }
      },
      "execution_count": 50,
      "outputs": [
        {
          "output_type": "execute_result",
          "data": {
            "text/plain": [
              "{'initial_covariance': 0.027148086840588965,\n",
              " 'dynamics_weights': 0.9999999990377035,\n",
              " 'dynamics_covariance': 1.0791385346291648e-08,\n",
              " 'dynamics_covariance_inflation_factor': 6.359638985510327e-21}"
            ]
          },
          "metadata": {},
          "execution_count": 50
        }
      ]
    },
    {
      "cell_type": "code",
      "execution_count": 51,
      "metadata": {
        "id": "mfU0FZDa_DR4"
      },
      "outputs": [],
      "source": [
        "accuracy_fn = lambda logits, label: jnp.mean(logits.argmax(axis=-1) == label)\n",
        "evaluate_accuracy = partial(\n",
        "    benchmark.evaluate_function,\n",
        "    loss_fn=accuracy_fn\n",
        ")"
      ]
    },
    {
      "cell_type": "code",
      "execution_count": 52,
      "metadata": {
        "id": "HBs2VENh_DR4"
      },
      "outputs": [],
      "source": [
        "def test_acc_callback(i, bel_pre_update, bel, batch, **kwargs):\n",
        "    X_test, y_test, apply_fn = kwargs[\"X_test\"], kwargs[\"y_test\"], kwargs[\"apply_fn\"]\n",
        "    ntest_per_batch = kwargs[\"ntest_per_batch\"]\n",
        "    \n",
        "    prev_test_batch, curr_test_batch = i*ntest_per_batch, (i+1)*ntest_per_batch\n",
        "    curr_X_test, curr_y_test = X_test[prev_test_batch:curr_test_batch], y_test[prev_test_batch:curr_test_batch]\n",
        "    cum_X_test, cum_y_test = X_test[:curr_test_batch], y_test[:curr_test_batch]\n",
        "    \n",
        "    overall_accuracy = evaluate_accuracy(bel.mean, apply_fn, cum_X_test, cum_y_test)\n",
        "    current_accuracy = evaluate_accuracy(bel.mean, apply_fn, curr_X_test, curr_y_test)\n",
        "    task1_accuracy = evaluate_accuracy(bel.mean, apply_fn, X_test[:ntest_per_batch], y_test[:ntest_per_batch])\n",
        "    result = {\n",
        "        'overall': overall_accuracy,\n",
        "        'current': current_accuracy,\n",
        "        'task1': task1_accuracy,\n",
        "    }\n",
        "    return result"
      ]
    },
    {
      "cell_type": "code",
      "execution_count": 53,
      "metadata": {
        "id": "-MdWYdID_DR4"
      },
      "outputs": [],
      "source": [
        "def evaluate_model(estimator, n_iter=5, bel=None):\n",
        "    overall_accs, current_accs, task1_accs = [], [], []\n",
        "    for i in trange(n_iter):\n",
        "        # Load dataset with random permutation and random shuffle\n",
        "        dataset = benchmark.load_permuted_mnist_dataset(**data_kwargs, key=i, fashion=True)\n",
        "        (Xtr, Ytr), _, (Xte, Yte) = dataset.values()\n",
        "        train_ds = jdl.ArrayDataset(Xtr, Ytr)\n",
        "        train_loader = jdl.DataLoaderJax(\n",
        "            train_ds, batch_size=data_kwargs[\"ntrain_per_task\"], shuffle=False, drop_last=False\n",
        "        )\n",
        "\n",
        "        test_kwargs = {\n",
        "            'X_test': Xte,\n",
        "            'y_test': Yte,\n",
        "            'ntest_per_batch': data_kwargs[\"ntest_per_task\"],\n",
        "            'apply_fn': model_dict[\"apply_fn\"],\n",
        "        }\n",
        "\n",
        "        _, accs = estimator.scan_dataloader(\n",
        "            train_loader, \n",
        "            callback=test_acc_callback, \n",
        "            bel=bel,\n",
        "            callback_at_end=True,\n",
        "            **test_kwargs\n",
        "        )\n",
        "        overall_accs.append(jnp.array([res['overall'] for res in accs]))\n",
        "        current_accs.append(jnp.array([res['current'] for res in accs]))\n",
        "        task1_accs.append(jnp.array([res['task1'] for res in accs]))\n",
        "    \n",
        "    overall_accs, current_accs, task1_accs = jnp.array(overall_accs), jnp.array(current_accs), jnp.array(task1_accs)\n",
        "    overall_accs, current_accs, task1_accs = \\\n",
        "        overall_accs.reshape((n_iter, -1)), current_accs.reshape((n_iter, -1)), task1_accs.reshape((n_iter, -1))\n",
        "\n",
        "    result = {\n",
        "        'overall': overall_accs.mean(axis=0),\n",
        "        'overall-std': overall_accs.std(axis=0),\n",
        "        'current': current_accs.mean(axis=0),\n",
        "        'current-std': current_accs.std(axis=0),\n",
        "        'task1': task1_accs.mean(axis=0),\n",
        "        'task1-std': task1_accs.std(axis=0),\n",
        "    }\n",
        "    \n",
        "    return result\n"
      ]
    },
    {
      "cell_type": "code",
      "execution_count": 54,
      "metadata": {
        "colab": {
          "base_uri": "https://localhost:8080/"
        },
        "id": "5l44k8cE_DR4",
        "outputId": "e02e8dac-b051-4ed3-dc6b-ed233ac22374"
      },
      "outputs": [
        {
          "output_type": "stream",
          "name": "stderr",
          "text": [
            "100%|██████████| 5/5 [01:29<00:00, 17.86s/it]\n"
          ]
        }
      ],
      "source": [
        "fdekf_res = evaluate_model(fdekf_estimator)"
      ]
    },
    {
      "cell_type": "code",
      "execution_count": 55,
      "metadata": {
        "id": "gIflUmQC_DR5"
      },
      "outputs": [],
      "source": [
        "filename = f'fdekf_result.pkl'\n",
        "with open(Path(output_path, filename), \"wb\") as f:\n",
        "    pickle.dump(fdekf_res, f)"
      ]
    },
    {
      "cell_type": "markdown",
      "metadata": {
        "id": "MChlUAXE_DR5"
      },
      "source": [
        "# 2. VDEKF"
      ]
    },
    {
      "cell_type": "markdown",
      "metadata": {
        "id": "ZVlOSEKR_DR5"
      },
      "source": [
        "## 2.1 Hyperparam Tuning"
      ]
    },
    {
      "cell_type": "code",
      "execution_count": 56,
      "metadata": {
        "id": "BBDJMXhW_DR5"
      },
      "outputs": [],
      "source": [
        "vdekf_model = 'vdekf'"
      ]
    },
    {
      "cell_type": "code",
      "execution_count": 57,
      "metadata": {
        "id": "06s01K4y_DR5"
      },
      "outputs": [],
      "source": [
        "vdekf_optimizer, apply_fn, n_feats = hpt.create_optimizer(\n",
        "    model_dict[\"model\"], pbounds, 314, warmup_train, warmup_val, \n",
        "    model_dict[\"emission_mean_function\"], model_dict[\"emission_cov_function\"],\n",
        "    ll_calback, 'vdekf',\n",
        ")"
      ]
    },
    {
      "cell_type": "code",
      "execution_count": 58,
      "metadata": {
        "id": "a7Tejbh1_DR5",
        "outputId": "9b7442a4-e6bb-4ea4-a509-6f200d1a9ac6",
        "colab": {
          "base_uri": "https://localhost:8080/"
        }
      },
      "outputs": [
        {
          "output_type": "stream",
          "name": "stdout",
          "text": [
            "|   iter    |  target   | log_alpha | log_dy... | log_dy... | log_in... |\n",
            "-------------------------------------------------------------------------\n",
            "| \u001b[0m1        \u001b[0m | \u001b[0m-332.6   \u001b[0m | \u001b[0m-4.156   \u001b[0m | \u001b[0m-20.57   \u001b[0m | \u001b[0m-36.75   \u001b[0m | \u001b[0m-1.385   \u001b[0m |\n",
            "| \u001b[0m2        \u001b[0m | \u001b[0m-2.548e+0\u001b[0m | \u001b[0m-4.1     \u001b[0m | \u001b[0m-8.632   \u001b[0m | \u001b[0m-13.6    \u001b[0m | \u001b[0m-7.135   \u001b[0m |\n",
            "| \u001b[0m3        \u001b[0m | \u001b[0m-453.1   \u001b[0m | \u001b[0m-4.412   \u001b[0m | \u001b[0m-36.96   \u001b[0m | \u001b[0m-11.68   \u001b[0m | \u001b[0m-7.123   \u001b[0m |\n",
            "| \u001b[95m4        \u001b[0m | \u001b[95m-2.284   \u001b[0m | \u001b[95m-43.89   \u001b[0m | \u001b[95m-30.7    \u001b[0m | \u001b[95m-7.996   \u001b[0m | \u001b[95m-6.94    \u001b[0m |\n",
            "| \u001b[95m5        \u001b[0m | \u001b[95m-1.418   \u001b[0m | \u001b[95m-46.5    \u001b[0m | \u001b[95m-18.34   \u001b[0m | \u001b[95m-20.76   \u001b[0m | \u001b[95m-3.606   \u001b[0m |\n",
            "| \u001b[0m6        \u001b[0m | \u001b[0m-1.99    \u001b[0m | \u001b[0m-16.14   \u001b[0m | \u001b[0m-15.64   \u001b[0m | \u001b[0m-28.05   \u001b[0m | \u001b[0m-6.47    \u001b[0m |\n",
            "| \u001b[0m7        \u001b[0m | \u001b[0m-1.719   \u001b[0m | \u001b[0m-21.47   \u001b[0m | \u001b[0m-26.01   \u001b[0m | \u001b[0m-6.946   \u001b[0m | \u001b[0m-0.8171  \u001b[0m |\n",
            "| \u001b[0m8        \u001b[0m | \u001b[0m-1.606   \u001b[0m | \u001b[0m-44.71   \u001b[0m | \u001b[0m-46.98   \u001b[0m | \u001b[0m-20.16   \u001b[0m | \u001b[0m-1.284   \u001b[0m |\n",
            "| \u001b[0m9        \u001b[0m | \u001b[0m-1.749   \u001b[0m | \u001b[0m-38.68   \u001b[0m | \u001b[0m-23.24   \u001b[0m | \u001b[0m-43.2    \u001b[0m | \u001b[0m-5.905   \u001b[0m |\n",
            "| \u001b[0m10       \u001b[0m | \u001b[0m-1.586   \u001b[0m | \u001b[0m-42.4    \u001b[0m | \u001b[0m-28.51   \u001b[0m | \u001b[0m-10.36   \u001b[0m | \u001b[0m-5.523   \u001b[0m |\n",
            "| \u001b[0m11       \u001b[0m | \u001b[0m-568.8   \u001b[0m | \u001b[0m-41.11   \u001b[0m | \u001b[0m-4.537   \u001b[0m | \u001b[0m-22.73   \u001b[0m | \u001b[0m-8.895   \u001b[0m |\n",
            "| \u001b[0m12       \u001b[0m | \u001b[0m-323.1   \u001b[0m | \u001b[0m-14.06   \u001b[0m | \u001b[0m-1.079   \u001b[0m | \u001b[0m-34.51   \u001b[0m | \u001b[0m-7.139   \u001b[0m |\n",
            "| \u001b[95m13       \u001b[0m | \u001b[95m-1.382   \u001b[0m | \u001b[95m-16.86   \u001b[0m | \u001b[95m-43.01   \u001b[0m | \u001b[95m-45.81   \u001b[0m | \u001b[95m-4.205   \u001b[0m |\n",
            "| \u001b[0m14       \u001b[0m | \u001b[0m-210.1   \u001b[0m | \u001b[0m-19.49   \u001b[0m | \u001b[0m-6.631   \u001b[0m | \u001b[0m-42.55   \u001b[0m | \u001b[0m-0.4953  \u001b[0m |\n",
            "| \u001b[95m15       \u001b[0m | \u001b[95m-1.375   \u001b[0m | \u001b[95m-27.5    \u001b[0m | \u001b[95m-13.66   \u001b[0m | \u001b[95m-42.25   \u001b[0m | \u001b[95m-5.412   \u001b[0m |\n",
            "| \u001b[0m16       \u001b[0m | \u001b[0m-2.286   \u001b[0m | \u001b[0m-42.88   \u001b[0m | \u001b[0m-33.04   \u001b[0m | \u001b[0m-14.86   \u001b[0m | \u001b[0m-9.152   \u001b[0m |\n",
            "| \u001b[0m17       \u001b[0m | \u001b[0m-6.408e+0\u001b[0m | \u001b[0m-46.48   \u001b[0m | \u001b[0m-0.9017  \u001b[0m | \u001b[0m-47.92   \u001b[0m | \u001b[0m-8.908   \u001b[0m |\n",
            "| \u001b[0m18       \u001b[0m | \u001b[0m-2.303   \u001b[0m | \u001b[0m-38.98   \u001b[0m | \u001b[0m-17.0    \u001b[0m | \u001b[0m-0.1926  \u001b[0m | \u001b[0m0.6676   \u001b[0m |\n",
            "| \u001b[0m19       \u001b[0m | \u001b[0m-96.46   \u001b[0m | \u001b[0m-16.17   \u001b[0m | \u001b[0m-0.07596 \u001b[0m | \u001b[0m-43.94   \u001b[0m | \u001b[0m-5.201   \u001b[0m |\n",
            "| \u001b[0m20       \u001b[0m | \u001b[0m-1.435   \u001b[0m | \u001b[0m-41.64   \u001b[0m | \u001b[0m-22.63   \u001b[0m | \u001b[0m-11.45   \u001b[0m | \u001b[0m-3.769   \u001b[0m |\n",
            "| \u001b[0m21       \u001b[0m | \u001b[0m-2.303   \u001b[0m | \u001b[0m-20.79   \u001b[0m | \u001b[0m-50.0    \u001b[0m | \u001b[0m-0.9589  \u001b[0m | \u001b[0m1.0      \u001b[0m |\n",
            "| \u001b[0m22       \u001b[0m | \u001b[0m-250.9   \u001b[0m | \u001b[0m-23.11   \u001b[0m | \u001b[0m-37.14   \u001b[0m | \u001b[0m-24.85   \u001b[0m | \u001b[0m0.5494   \u001b[0m |\n",
            "| \u001b[0m23       \u001b[0m | \u001b[0m-2.305   \u001b[0m | \u001b[0m-50.0    \u001b[0m | \u001b[0m-50.0    \u001b[0m | \u001b[0m-50.0    \u001b[0m | \u001b[0m-10.0    \u001b[0m |\n",
            "| \u001b[0m24       \u001b[0m | \u001b[0m-1e+08   \u001b[0m | \u001b[0m-0.7039  \u001b[0m | \u001b[0m-48.96   \u001b[0m | \u001b[0m-26.96   \u001b[0m | \u001b[0m-4.256   \u001b[0m |\n",
            "| \u001b[0m25       \u001b[0m | \u001b[0m-2.303   \u001b[0m | \u001b[0m0.0      \u001b[0m | \u001b[0m-27.37   \u001b[0m | \u001b[0m0.0      \u001b[0m | \u001b[0m-10.0    \u001b[0m |\n",
            "| \u001b[0m26       \u001b[0m | \u001b[0m-87.52   \u001b[0m | \u001b[0m-33.13   \u001b[0m | \u001b[0m-42.95   \u001b[0m | \u001b[0m-50.0    \u001b[0m | \u001b[0m1.0      \u001b[0m |\n",
            "| \u001b[0m27       \u001b[0m | \u001b[0m-2.348   \u001b[0m | \u001b[0m-50.0    \u001b[0m | \u001b[0m0.0      \u001b[0m | \u001b[0m0.0      \u001b[0m | \u001b[0m-10.0    \u001b[0m |\n",
            "| \u001b[0m28       \u001b[0m | \u001b[0m-2.326   \u001b[0m | \u001b[0m-26.65   \u001b[0m | \u001b[0m-0.3342  \u001b[0m | \u001b[0m-0.04632 \u001b[0m | \u001b[0m-6.831   \u001b[0m |\n",
            "| \u001b[0m29       \u001b[0m | \u001b[0m-2.303   \u001b[0m | \u001b[0m-50.0    \u001b[0m | \u001b[0m-50.0    \u001b[0m | \u001b[0m0.0      \u001b[0m | \u001b[0m-10.0    \u001b[0m |\n",
            "| \u001b[0m30       \u001b[0m | \u001b[0m-2.305   \u001b[0m | \u001b[0m-16.49   \u001b[0m | \u001b[0m-26.33   \u001b[0m | \u001b[0m-50.0    \u001b[0m | \u001b[0m-10.0    \u001b[0m |\n",
            "| \u001b[0m31       \u001b[0m | \u001b[0m-1e+08   \u001b[0m | \u001b[0m0.0      \u001b[0m | \u001b[0m0.0      \u001b[0m | \u001b[0m-50.0    \u001b[0m | \u001b[0m1.0      \u001b[0m |\n",
            "| \u001b[0m32       \u001b[0m | \u001b[0m-156.5   \u001b[0m | \u001b[0m-26.0    \u001b[0m | \u001b[0m0.0      \u001b[0m | \u001b[0m-20.4    \u001b[0m | \u001b[0m1.0      \u001b[0m |\n",
            "| \u001b[0m33       \u001b[0m | \u001b[0m-2.488   \u001b[0m | \u001b[0m0.0      \u001b[0m | \u001b[0m0.0      \u001b[0m | \u001b[0m0.0      \u001b[0m | \u001b[0m1.0      \u001b[0m |\n",
            "| \u001b[0m34       \u001b[0m | \u001b[0m-121.1   \u001b[0m | \u001b[0m-29.29   \u001b[0m | \u001b[0m0.0      \u001b[0m | \u001b[0m-39.18   \u001b[0m | \u001b[0m-10.0    \u001b[0m |\n",
            "| \u001b[0m35       \u001b[0m | \u001b[0m-87.52   \u001b[0m | \u001b[0m-50.0    \u001b[0m | \u001b[0m-36.35   \u001b[0m | \u001b[0m-36.57   \u001b[0m | \u001b[0m1.0      \u001b[0m |\n",
            "| \u001b[0m36       \u001b[0m | \u001b[0m-2.305   \u001b[0m | \u001b[0m-35.1    \u001b[0m | \u001b[0m-50.0    \u001b[0m | \u001b[0m-35.31   \u001b[0m | \u001b[0m-10.0    \u001b[0m |\n",
            "| \u001b[0m37       \u001b[0m | \u001b[0m-2.303   \u001b[0m | \u001b[0m-16.45   \u001b[0m | \u001b[0m-37.98   \u001b[0m | \u001b[0m0.0      \u001b[0m | \u001b[0m-10.0    \u001b[0m |\n",
            "| \u001b[0m38       \u001b[0m | \u001b[0m-156.5   \u001b[0m | \u001b[0m-50.0    \u001b[0m | \u001b[0m0.0      \u001b[0m | \u001b[0m-32.47   \u001b[0m | \u001b[0m1.0      \u001b[0m |\n",
            "| \u001b[0m39       \u001b[0m | \u001b[0m-2.303   \u001b[0m | \u001b[0m0.0      \u001b[0m | \u001b[0m-39.53   \u001b[0m | \u001b[0m0.0      \u001b[0m | \u001b[0m1.0      \u001b[0m |\n",
            "| \u001b[0m40       \u001b[0m | \u001b[0m-151.9   \u001b[0m | \u001b[0m-50.0    \u001b[0m | \u001b[0m0.0      \u001b[0m | \u001b[0m-12.19   \u001b[0m | \u001b[0m1.0      \u001b[0m |\n",
            "| \u001b[0m41       \u001b[0m | \u001b[0m-2.303   \u001b[0m | \u001b[0m-37.47   \u001b[0m | \u001b[0m-44.14   \u001b[0m | \u001b[0m0.0      \u001b[0m | \u001b[0m1.0      \u001b[0m |\n",
            "| \u001b[0m42       \u001b[0m | \u001b[0m-1e+08   \u001b[0m | \u001b[0m0.0      \u001b[0m | \u001b[0m-22.87   \u001b[0m | \u001b[0m-12.82   \u001b[0m | \u001b[0m1.0      \u001b[0m |\n",
            "| \u001b[0m43       \u001b[0m | \u001b[0m-117.8   \u001b[0m | \u001b[0m-14.33   \u001b[0m | \u001b[0m0.0      \u001b[0m | \u001b[0m-12.32   \u001b[0m | \u001b[0m-10.0    \u001b[0m |\n",
            "| \u001b[0m44       \u001b[0m | \u001b[0m-2.305   \u001b[0m | \u001b[0m-30.54   \u001b[0m | \u001b[0m-28.03   \u001b[0m | \u001b[0m-28.9    \u001b[0m | \u001b[0m-10.0    \u001b[0m |\n",
            "| \u001b[0m45       \u001b[0m | \u001b[0m-2.303   \u001b[0m | \u001b[0m-1.562   \u001b[0m | \u001b[0m-46.75   \u001b[0m | \u001b[0m0.0      \u001b[0m | \u001b[0m-10.0    \u001b[0m |\n",
            "=========================================================================\n",
            "CPU times: user 4min 7s, sys: 38 s, total: 4min 45s\n",
            "Wall time: 3min 14s\n"
          ]
        }
      ],
      "source": [
        "%%time\n",
        "vdekf_optimizer.maximize(\n",
        "    init_points=20,\n",
        "    n_iter=25,\n",
        ")"
      ]
    },
    {
      "cell_type": "markdown",
      "metadata": {
        "id": "ZB84SOyx_DR5"
      },
      "source": [
        "## 2.2 Test-Set Evaluation"
      ]
    },
    {
      "cell_type": "code",
      "execution_count": 59,
      "metadata": {
        "id": "FrF301yq_DR5"
      },
      "outputs": [],
      "source": [
        "vdekf_model = 'vdekf'\n",
        "vdekf_hparams = {\n",
        "    'initial_covariance': 0.004461548669775887,\n",
        "    'dynamics_weights': 1.0,\n",
        "    'dynamics_covariance': 1.1711220914355552e-06,\n",
        "    'dynamics_covariance_inflation_factor': 1.1350930234602791e-12\n",
        "}"
      ]
    },
    {
      "cell_type": "code",
      "execution_count": 60,
      "metadata": {
        "id": "MO4_FtSW_DR5"
      },
      "outputs": [],
      "source": [
        "# vdekf_hparams = hpt.get_best_params(vdekf_optimizer, method=vdekf_model)\n",
        "vdekf_estimator, _ = hpt.build_estimator(model_dict['flat_params'], model_dict['apply_fn'],\n",
        "                                         vdekf_hparams, model_dict['emission_mean_function'],\n",
        "                                         model_dict['emission_cov_function'], \n",
        "                                         method=vdekf_model)"
      ]
    },
    {
      "cell_type": "code",
      "execution_count": 61,
      "metadata": {
        "colab": {
          "base_uri": "https://localhost:8080/"
        },
        "id": "YEmbrdcr_DR5",
        "outputId": "dcfe9c8e-33ce-4a97-d2ea-2a8d2b30c671"
      },
      "outputs": [
        {
          "output_type": "execute_result",
          "data": {
            "text/plain": [
              "{'initial_covariance': 0.004461548669775887,\n",
              " 'dynamics_weights': 1.0,\n",
              " 'dynamics_covariance': 1.1711220914355552e-06,\n",
              " 'dynamics_covariance_inflation_factor': 1.1350930234602791e-12}"
            ]
          },
          "metadata": {},
          "execution_count": 61
        }
      ],
      "source": [
        "vdekf_hparams"
      ]
    },
    {
      "cell_type": "code",
      "execution_count": 62,
      "metadata": {
        "colab": {
          "base_uri": "https://localhost:8080/"
        },
        "id": "4CopepYD_DR5",
        "outputId": "dadfcc66-804e-499a-ecd9-a7288eb44f20"
      },
      "outputs": [
        {
          "output_type": "stream",
          "name": "stderr",
          "text": [
            "100%|██████████| 5/5 [01:39<00:00, 19.92s/it]\n"
          ]
        }
      ],
      "source": [
        "vdekf_res = evaluate_model(vdekf_estimator)"
      ]
    },
    {
      "cell_type": "code",
      "execution_count": 63,
      "metadata": {
        "id": "eXBaOpjp_DR5"
      },
      "outputs": [],
      "source": [
        "filename = f'vdekf_result.pkl'\n",
        "with open(Path(output_path, filename), \"wb\") as f:\n",
        "    pickle.dump(vdekf_res, f)"
      ]
    },
    {
      "cell_type": "markdown",
      "metadata": {
        "id": "PMysL9SB_DR5"
      },
      "source": [
        "# 3. LoFi (Rank 1)"
      ]
    },
    {
      "cell_type": "markdown",
      "metadata": {
        "id": "Eu1vVuXj_DR5"
      },
      "source": [
        "## 3.1 Hyperparam Tuning"
      ]
    },
    {
      "cell_type": "code",
      "execution_count": 64,
      "metadata": {
        "id": "q6ntlzfk_DR6"
      },
      "outputs": [],
      "source": [
        "lofi_1_params = LoFiParams(\n",
        "    memory_size=1,\n",
        "    diagonal_covariance=False,\n",
        ")"
      ]
    },
    {
      "cell_type": "code",
      "execution_count": 65,
      "metadata": {
        "id": "aroMjGES_DR6"
      },
      "outputs": [],
      "source": [
        "lofi_1_optimizer, apply_fn, n_feats = hpt.create_optimizer(\n",
        "    model_dict[\"model\"], pbounds, 314, warmup_train, warmup_val, \n",
        "    model_dict[\"emission_mean_function\"], model_dict[\"emission_cov_function\"],\n",
        "    ll_calback, 'lofi', lofi_params=lofi_1_params\n",
        ")"
      ]
    },
    {
      "cell_type": "code",
      "execution_count": 66,
      "metadata": {
        "colab": {
          "base_uri": "https://localhost:8080/"
        },
        "id": "L0iwpI2h_DR6",
        "outputId": "aec50554-73fb-4741-b7ba-77e2e7fae3d4"
      },
      "outputs": [
        {
          "output_type": "stream",
          "name": "stdout",
          "text": [
            "|   iter    |  target   | log_alpha | log_dy... | log_dy... | log_in... |\n",
            "-------------------------------------------------------------------------\n",
            "| \u001b[0m1        \u001b[0m | \u001b[0m-2.89    \u001b[0m | \u001b[0m-4.156   \u001b[0m | \u001b[0m-20.57   \u001b[0m | \u001b[0m-36.75   \u001b[0m | \u001b[0m-1.385   \u001b[0m |\n",
            "| \u001b[95m2        \u001b[0m | \u001b[95m-2.327   \u001b[0m | \u001b[95m-4.1     \u001b[0m | \u001b[95m-8.632   \u001b[0m | \u001b[95m-13.6    \u001b[0m | \u001b[95m-7.135   \u001b[0m |\n",
            "| \u001b[95m3        \u001b[0m | \u001b[95m-2.264   \u001b[0m | \u001b[95m-4.412   \u001b[0m | \u001b[95m-36.96   \u001b[0m | \u001b[95m-11.68   \u001b[0m | \u001b[95m-7.123   \u001b[0m |\n",
            "| \u001b[0m4        \u001b[0m | \u001b[0m-2.286   \u001b[0m | \u001b[0m-43.89   \u001b[0m | \u001b[0m-30.7    \u001b[0m | \u001b[0m-7.996   \u001b[0m | \u001b[0m-6.94    \u001b[0m |\n",
            "| \u001b[95m5        \u001b[0m | \u001b[95m-1.38    \u001b[0m | \u001b[95m-46.5    \u001b[0m | \u001b[95m-18.34   \u001b[0m | \u001b[95m-20.76   \u001b[0m | \u001b[95m-3.606   \u001b[0m |\n",
            "| \u001b[0m6        \u001b[0m | \u001b[0m-1.982   \u001b[0m | \u001b[0m-16.14   \u001b[0m | \u001b[0m-15.64   \u001b[0m | \u001b[0m-28.05   \u001b[0m | \u001b[0m-6.47    \u001b[0m |\n",
            "| \u001b[0m7        \u001b[0m | \u001b[0m-1.62    \u001b[0m | \u001b[0m-21.47   \u001b[0m | \u001b[0m-26.01   \u001b[0m | \u001b[0m-6.946   \u001b[0m | \u001b[0m-0.8171  \u001b[0m |\n",
            "| \u001b[0m8        \u001b[0m | \u001b[0m-2.356   \u001b[0m | \u001b[0m-44.71   \u001b[0m | \u001b[0m-46.98   \u001b[0m | \u001b[0m-20.16   \u001b[0m | \u001b[0m-1.284   \u001b[0m |\n",
            "| \u001b[0m9        \u001b[0m | \u001b[0m-1.715   \u001b[0m | \u001b[0m-38.68   \u001b[0m | \u001b[0m-23.24   \u001b[0m | \u001b[0m-43.2    \u001b[0m | \u001b[0m-5.905   \u001b[0m |\n",
            "| \u001b[0m10       \u001b[0m | \u001b[0m-1.559   \u001b[0m | \u001b[0m-42.4    \u001b[0m | \u001b[0m-28.51   \u001b[0m | \u001b[0m-10.36   \u001b[0m | \u001b[0m-5.523   \u001b[0m |\n",
            "| \u001b[0m11       \u001b[0m | \u001b[0m-132.1   \u001b[0m | \u001b[0m-41.11   \u001b[0m | \u001b[0m-4.537   \u001b[0m | \u001b[0m-22.73   \u001b[0m | \u001b[0m-8.895   \u001b[0m |\n",
            "| \u001b[0m12       \u001b[0m | \u001b[0m-467.9   \u001b[0m | \u001b[0m-14.06   \u001b[0m | \u001b[0m-1.079   \u001b[0m | \u001b[0m-34.51   \u001b[0m | \u001b[0m-7.139   \u001b[0m |\n",
            "| \u001b[95m13       \u001b[0m | \u001b[95m-1.315   \u001b[0m | \u001b[95m-16.86   \u001b[0m | \u001b[95m-43.01   \u001b[0m | \u001b[95m-45.81   \u001b[0m | \u001b[95m-4.205   \u001b[0m |\n",
            "| \u001b[0m14       \u001b[0m | \u001b[0m-137.9   \u001b[0m | \u001b[0m-19.49   \u001b[0m | \u001b[0m-6.631   \u001b[0m | \u001b[0m-42.55   \u001b[0m | \u001b[0m-0.4953  \u001b[0m |\n",
            "| \u001b[0m15       \u001b[0m | \u001b[0m-1.331   \u001b[0m | \u001b[0m-27.5    \u001b[0m | \u001b[0m-13.66   \u001b[0m | \u001b[0m-42.25   \u001b[0m | \u001b[0m-5.412   \u001b[0m |\n",
            "| \u001b[0m16       \u001b[0m | \u001b[0m-2.286   \u001b[0m | \u001b[0m-42.88   \u001b[0m | \u001b[0m-33.04   \u001b[0m | \u001b[0m-14.86   \u001b[0m | \u001b[0m-9.152   \u001b[0m |\n",
            "| \u001b[0m17       \u001b[0m | \u001b[0m-2.043e+0\u001b[0m | \u001b[0m-46.48   \u001b[0m | \u001b[0m-0.9017  \u001b[0m | \u001b[0m-47.92   \u001b[0m | \u001b[0m-8.908   \u001b[0m |\n",
            "| \u001b[0m18       \u001b[0m | \u001b[0m-2.303   \u001b[0m | \u001b[0m-38.98   \u001b[0m | \u001b[0m-17.0    \u001b[0m | \u001b[0m-0.1926  \u001b[0m | \u001b[0m0.6676   \u001b[0m |\n",
            "| \u001b[0m19       \u001b[0m | \u001b[0m-98.78   \u001b[0m | \u001b[0m-16.17   \u001b[0m | \u001b[0m-0.07596 \u001b[0m | \u001b[0m-43.94   \u001b[0m | \u001b[0m-5.201   \u001b[0m |\n",
            "| \u001b[0m20       \u001b[0m | \u001b[0m-1.364   \u001b[0m | \u001b[0m-41.64   \u001b[0m | \u001b[0m-22.63   \u001b[0m | \u001b[0m-11.45   \u001b[0m | \u001b[0m-3.769   \u001b[0m |\n",
            "| \u001b[0m21       \u001b[0m | \u001b[0m-2.306   \u001b[0m | \u001b[0m-45.61   \u001b[0m | \u001b[0m-50.0    \u001b[0m | \u001b[0m-50.0    \u001b[0m | \u001b[0m-10.0    \u001b[0m |\n",
            "| \u001b[0m22       \u001b[0m | \u001b[0m-246.0   \u001b[0m | \u001b[0m-27.16   \u001b[0m | \u001b[0m-33.03   \u001b[0m | \u001b[0m-31.51   \u001b[0m | \u001b[0m0.9762   \u001b[0m |\n",
            "| \u001b[0m23       \u001b[0m | \u001b[0m-2.306   \u001b[0m | \u001b[0m-16.16   \u001b[0m | \u001b[0m-23.73   \u001b[0m | \u001b[0m-50.0    \u001b[0m | \u001b[0m-10.0    \u001b[0m |\n",
            "| \u001b[0m24       \u001b[0m | \u001b[0m-2.348   \u001b[0m | \u001b[0m-25.01   \u001b[0m | \u001b[0m0.0      \u001b[0m | \u001b[0m0.0      \u001b[0m | \u001b[0m-10.0    \u001b[0m |\n",
            "| \u001b[0m25       \u001b[0m | \u001b[0m-2.303   \u001b[0m | \u001b[0m-25.49   \u001b[0m | \u001b[0m-50.0    \u001b[0m | \u001b[0m0.0      \u001b[0m | \u001b[0m-10.0    \u001b[0m |\n",
            "| \u001b[0m26       \u001b[0m | \u001b[0m-2.348   \u001b[0m | \u001b[0m-50.0    \u001b[0m | \u001b[0m0.0      \u001b[0m | \u001b[0m0.0      \u001b[0m | \u001b[0m-10.0    \u001b[0m |\n",
            "| \u001b[0m27       \u001b[0m | \u001b[0m-2.303   \u001b[0m | \u001b[0m0.0      \u001b[0m | \u001b[0m-20.16   \u001b[0m | \u001b[0m0.0      \u001b[0m | \u001b[0m1.0      \u001b[0m |\n",
            "| \u001b[0m28       \u001b[0m | \u001b[0m-2.327   \u001b[0m | \u001b[0m0.0      \u001b[0m | \u001b[0m-50.0    \u001b[0m | \u001b[0m-34.07   \u001b[0m | \u001b[0m-10.0    \u001b[0m |\n",
            "| \u001b[0m29       \u001b[0m | \u001b[0m-2.348   \u001b[0m | \u001b[0m0.0      \u001b[0m | \u001b[0m0.0      \u001b[0m | \u001b[0m0.0      \u001b[0m | \u001b[0m1.0      \u001b[0m |\n",
            "| \u001b[0m30       \u001b[0m | \u001b[0m-2.303   \u001b[0m | \u001b[0m-50.0    \u001b[0m | \u001b[0m-50.0    \u001b[0m | \u001b[0m0.0      \u001b[0m | \u001b[0m1.0      \u001b[0m |\n",
            "| \u001b[0m31       \u001b[0m | \u001b[0m-2.303   \u001b[0m | \u001b[0m0.0      \u001b[0m | \u001b[0m-50.0    \u001b[0m | \u001b[0m0.0      \u001b[0m | \u001b[0m1.0      \u001b[0m |\n",
            "| \u001b[0m32       \u001b[0m | \u001b[0m-2.327   \u001b[0m | \u001b[0m0.0      \u001b[0m | \u001b[0m-37.62   \u001b[0m | \u001b[0m-50.0    \u001b[0m | \u001b[0m-10.0    \u001b[0m |\n",
            "| \u001b[0m33       \u001b[0m | \u001b[0m-6.3     \u001b[0m | \u001b[0m-0.8193  \u001b[0m | \u001b[0m-5.326   \u001b[0m | \u001b[0m-49.96   \u001b[0m | \u001b[0m-9.082   \u001b[0m |\n",
            "| \u001b[0m34       \u001b[0m | \u001b[0m-381.0   \u001b[0m | \u001b[0m-50.0    \u001b[0m | \u001b[0m-38.66   \u001b[0m | \u001b[0m-40.15   \u001b[0m | \u001b[0m1.0      \u001b[0m |\n",
            "| \u001b[0m35       \u001b[0m | \u001b[0m-2.306   \u001b[0m | \u001b[0m-20.91   \u001b[0m | \u001b[0m-50.0    \u001b[0m | \u001b[0m-21.5    \u001b[0m | \u001b[0m-10.0    \u001b[0m |\n",
            "| \u001b[0m36       \u001b[0m | \u001b[0m-8.835   \u001b[0m | \u001b[0m0.0      \u001b[0m | \u001b[0m-50.0    \u001b[0m | \u001b[0m-50.0    \u001b[0m | \u001b[0m1.0      \u001b[0m |\n",
            "| \u001b[0m37       \u001b[0m | \u001b[0m-2.327   \u001b[0m | \u001b[0m0.0      \u001b[0m | \u001b[0m-26.73   \u001b[0m | \u001b[0m-24.89   \u001b[0m | \u001b[0m-10.0    \u001b[0m |\n",
            "| \u001b[0m38       \u001b[0m | \u001b[0m-2.303   \u001b[0m | \u001b[0m-13.84   \u001b[0m | \u001b[0m-16.39   \u001b[0m | \u001b[0m0.0      \u001b[0m | \u001b[0m-10.0    \u001b[0m |\n",
            "| \u001b[0m39       \u001b[0m | \u001b[0m-8.835   \u001b[0m | \u001b[0m0.0      \u001b[0m | \u001b[0m-50.0    \u001b[0m | \u001b[0m-20.4    \u001b[0m | \u001b[0m1.0      \u001b[0m |\n",
            "| \u001b[0m40       \u001b[0m | \u001b[0m-135.6   \u001b[0m | \u001b[0m-50.0    \u001b[0m | \u001b[0m0.0      \u001b[0m | \u001b[0m-10.57   \u001b[0m | \u001b[0m1.0      \u001b[0m |\n",
            "| \u001b[0m41       \u001b[0m | \u001b[0m-2.305   \u001b[0m | \u001b[0m-31.17   \u001b[0m | \u001b[0m-20.51   \u001b[0m | \u001b[0m-26.13   \u001b[0m | \u001b[0m-10.0    \u001b[0m |\n",
            "| \u001b[0m42       \u001b[0m | \u001b[0m-2.306   \u001b[0m | \u001b[0m-28.6    \u001b[0m | \u001b[0m-50.0    \u001b[0m | \u001b[0m-50.0    \u001b[0m | \u001b[0m-10.0    \u001b[0m |\n",
            "| \u001b[0m43       \u001b[0m | \u001b[0m-2.303   \u001b[0m | \u001b[0m-32.45   \u001b[0m | \u001b[0m-40.71   \u001b[0m | \u001b[0m0.0      \u001b[0m | \u001b[0m1.0      \u001b[0m |\n",
            "| \u001b[0m44       \u001b[0m | \u001b[0m-2.306   \u001b[0m | \u001b[0m-31.57   \u001b[0m | \u001b[0m-32.25   \u001b[0m | \u001b[0m-50.0    \u001b[0m | \u001b[0m-10.0    \u001b[0m |\n",
            "| \u001b[0m45       \u001b[0m | \u001b[0m-649.5   \u001b[0m | \u001b[0m-24.33   \u001b[0m | \u001b[0m-7.521   \u001b[0m | \u001b[0m-10.95   \u001b[0m | \u001b[0m1.0      \u001b[0m |\n",
            "=========================================================================\n",
            "CPU times: user 5min 47s, sys: 37.9 s, total: 6min 25s\n",
            "Wall time: 4min 51s\n"
          ]
        }
      ],
      "source": [
        "%%time\n",
        "lofi_1_optimizer.maximize(\n",
        "    init_points=20,\n",
        "    n_iter=25,\n",
        ")"
      ]
    },
    {
      "cell_type": "markdown",
      "metadata": {
        "id": "YTFXieZi_DR6"
      },
      "source": [
        "## 3.2 Test-Set Evaluation"
      ]
    },
    {
      "cell_type": "code",
      "execution_count": 67,
      "metadata": {
        "id": "GVduvSoa_DR6"
      },
      "outputs": [],
      "source": [
        "# lofi_1_hparams = {\n",
        "#     'initial_covariance': 0.027148086840588965,\n",
        "#     'dynamics_weights': 0.9999999990377035,\n",
        "#     'dynamics_covariance': 1.0791385346291648e-08,\n",
        "#     'dynamics_covariance_inflation_factor': 6.359638985510327e-21\n",
        "# }"
      ]
    },
    {
      "cell_type": "code",
      "execution_count": 68,
      "metadata": {
        "id": "HD4pvyHE_DR6"
      },
      "outputs": [],
      "source": [
        "lofi_1_hparams = hpt.get_best_params(lofi_1_optimizer, method='lofi')\n",
        "lofi_1_estimator, _ = hpt.build_estimator(model_dict['flat_params'], model_dict['apply_fn'],\n",
        "                                          lofi_1_hparams, model_dict['emission_mean_function'],\n",
        "                                          model_dict['emission_cov_function'], \n",
        "                                          method='lofi', lofi_params=lofi_1_params)"
      ]
    },
    {
      "cell_type": "code",
      "execution_count": 69,
      "metadata": {
        "colab": {
          "base_uri": "https://localhost:8080/"
        },
        "id": "2OjUEjFg_DR6",
        "outputId": "7a666bb2-216f-4251-b0ae-41d9526f2504"
      },
      "outputs": [
        {
          "output_type": "execute_result",
          "data": {
            "text/plain": [
              "{'initial_covariance': 0.014917355424284394,\n",
              " 'dynamics_weights': 1.0,\n",
              " 'dynamics_covariance': 2.085722038177336e-19,\n",
              " 'dynamics_covariance_inflation_factor': 4.785838684065285e-08}"
            ]
          },
          "metadata": {},
          "execution_count": 69
        }
      ],
      "source": [
        "lofi_1_hparams"
      ]
    },
    {
      "cell_type": "code",
      "execution_count": 70,
      "metadata": {
        "colab": {
          "base_uri": "https://localhost:8080/"
        },
        "id": "YG9F74zb_DR6",
        "outputId": "de556349-7c37-4c41-fbd6-6e6d51a9e8be"
      },
      "outputs": [
        {
          "output_type": "stream",
          "name": "stderr",
          "text": [
            "100%|██████████| 5/5 [02:49<00:00, 33.91s/it]\n"
          ]
        }
      ],
      "source": [
        "lofi_1_res = evaluate_model(lofi_1_estimator)"
      ]
    },
    {
      "cell_type": "code",
      "source": [
        "filename = f'lofi_1_result.pkl'\n",
        "with open(Path(output_path, filename), \"wb\") as f:\n",
        "    pickle.dump(lofi_1_res, f)"
      ],
      "metadata": {
        "id": "9iiL-FV0ISl4"
      },
      "execution_count": 71,
      "outputs": []
    },
    {
      "cell_type": "markdown",
      "metadata": {
        "id": "5u0tR_k9_DR6"
      },
      "source": [
        "# 4. LoFi (Rank 5)"
      ]
    },
    {
      "cell_type": "markdown",
      "metadata": {
        "id": "nIYr-l6x_DR6"
      },
      "source": [
        "## 4.1 Hyperparam Tuning"
      ]
    },
    {
      "cell_type": "code",
      "execution_count": 72,
      "metadata": {
        "id": "RO8wH09k_DR6"
      },
      "outputs": [],
      "source": [
        "lofi_5_params = LoFiParams(\n",
        "    memory_size=5,\n",
        "    diagonal_covariance=False,\n",
        ")"
      ]
    },
    {
      "cell_type": "code",
      "execution_count": 73,
      "metadata": {
        "id": "7lZkvenk_DR6"
      },
      "outputs": [],
      "source": [
        "lofi_5_optimizer, apply_fn, n_feats = hpt.create_optimizer(\n",
        "    model_dict[\"model\"], pbounds, 314, warmup_train, warmup_val, \n",
        "    model_dict[\"emission_mean_function\"], model_dict[\"emission_cov_function\"],\n",
        "    ll_calback, 'lofi', lofi_params=lofi_5_params\n",
        ")"
      ]
    },
    {
      "cell_type": "code",
      "execution_count": 74,
      "metadata": {
        "colab": {
          "base_uri": "https://localhost:8080/"
        },
        "id": "plmC9vm7_DR6",
        "outputId": "c65be233-96ce-4548-a7a8-faffacc4c9c3"
      },
      "outputs": [
        {
          "output_type": "stream",
          "name": "stdout",
          "text": [
            "|   iter    |  target   | log_alpha | log_dy... | log_dy... | log_in... |\n",
            "-------------------------------------------------------------------------\n",
            "| \u001b[0m1        \u001b[0m | \u001b[0m-2.014   \u001b[0m | \u001b[0m-4.156   \u001b[0m | \u001b[0m-20.57   \u001b[0m | \u001b[0m-36.75   \u001b[0m | \u001b[0m-1.385   \u001b[0m |\n",
            "| \u001b[0m2        \u001b[0m | \u001b[0m-5.887   \u001b[0m | \u001b[0m-4.1     \u001b[0m | \u001b[0m-8.632   \u001b[0m | \u001b[0m-13.6    \u001b[0m | \u001b[0m-7.135   \u001b[0m |\n",
            "| \u001b[0m3        \u001b[0m | \u001b[0m-2.264   \u001b[0m | \u001b[0m-4.412   \u001b[0m | \u001b[0m-36.96   \u001b[0m | \u001b[0m-11.68   \u001b[0m | \u001b[0m-7.123   \u001b[0m |\n",
            "| \u001b[0m4        \u001b[0m | \u001b[0m-2.288   \u001b[0m | \u001b[0m-43.89   \u001b[0m | \u001b[0m-30.7    \u001b[0m | \u001b[0m-7.996   \u001b[0m | \u001b[0m-6.94    \u001b[0m |\n",
            "| \u001b[95m5        \u001b[0m | \u001b[95m-1.389   \u001b[0m | \u001b[95m-46.5    \u001b[0m | \u001b[95m-18.34   \u001b[0m | \u001b[95m-20.76   \u001b[0m | \u001b[95m-3.606   \u001b[0m |\n",
            "| \u001b[0m6        \u001b[0m | \u001b[0m-1.964   \u001b[0m | \u001b[0m-16.14   \u001b[0m | \u001b[0m-15.64   \u001b[0m | \u001b[0m-28.05   \u001b[0m | \u001b[0m-6.47    \u001b[0m |\n",
            "| \u001b[0m7        \u001b[0m | \u001b[0m-1.77    \u001b[0m | \u001b[0m-21.47   \u001b[0m | \u001b[0m-26.01   \u001b[0m | \u001b[0m-6.946   \u001b[0m | \u001b[0m-0.8171  \u001b[0m |\n",
            "| \u001b[0m8        \u001b[0m | \u001b[0m-2.228   \u001b[0m | \u001b[0m-44.71   \u001b[0m | \u001b[0m-46.98   \u001b[0m | \u001b[0m-20.16   \u001b[0m | \u001b[0m-1.284   \u001b[0m |\n",
            "| \u001b[0m9        \u001b[0m | \u001b[0m-1.658   \u001b[0m | \u001b[0m-38.68   \u001b[0m | \u001b[0m-23.24   \u001b[0m | \u001b[0m-43.2    \u001b[0m | \u001b[0m-5.905   \u001b[0m |\n",
            "| \u001b[0m10       \u001b[0m | \u001b[0m-1.481   \u001b[0m | \u001b[0m-42.4    \u001b[0m | \u001b[0m-28.51   \u001b[0m | \u001b[0m-10.36   \u001b[0m | \u001b[0m-5.523   \u001b[0m |\n",
            "| \u001b[0m11       \u001b[0m | \u001b[0m-136.1   \u001b[0m | \u001b[0m-41.11   \u001b[0m | \u001b[0m-4.537   \u001b[0m | \u001b[0m-22.73   \u001b[0m | \u001b[0m-8.895   \u001b[0m |\n",
            "| \u001b[0m12       \u001b[0m | \u001b[0m-115.4   \u001b[0m | \u001b[0m-14.06   \u001b[0m | \u001b[0m-1.079   \u001b[0m | \u001b[0m-34.51   \u001b[0m | \u001b[0m-7.139   \u001b[0m |\n",
            "| \u001b[95m13       \u001b[0m | \u001b[95m-1.227   \u001b[0m | \u001b[95m-16.86   \u001b[0m | \u001b[95m-43.01   \u001b[0m | \u001b[95m-45.81   \u001b[0m | \u001b[95m-4.205   \u001b[0m |\n",
            "| \u001b[0m14       \u001b[0m | \u001b[0m-76.23   \u001b[0m | \u001b[0m-19.49   \u001b[0m | \u001b[0m-6.631   \u001b[0m | \u001b[0m-42.55   \u001b[0m | \u001b[0m-0.4953  \u001b[0m |\n",
            "| \u001b[0m15       \u001b[0m | \u001b[0m-1.227   \u001b[0m | \u001b[0m-27.5    \u001b[0m | \u001b[0m-13.66   \u001b[0m | \u001b[0m-42.25   \u001b[0m | \u001b[0m-5.412   \u001b[0m |\n",
            "| \u001b[0m16       \u001b[0m | \u001b[0m-2.288   \u001b[0m | \u001b[0m-42.88   \u001b[0m | \u001b[0m-33.04   \u001b[0m | \u001b[0m-14.86   \u001b[0m | \u001b[0m-9.152   \u001b[0m |\n",
            "| \u001b[0m17       \u001b[0m | \u001b[0m-2.528e+0\u001b[0m | \u001b[0m-46.48   \u001b[0m | \u001b[0m-0.9017  \u001b[0m | \u001b[0m-47.92   \u001b[0m | \u001b[0m-8.908   \u001b[0m |\n",
            "| \u001b[0m18       \u001b[0m | \u001b[0m-2.303   \u001b[0m | \u001b[0m-38.98   \u001b[0m | \u001b[0m-17.0    \u001b[0m | \u001b[0m-0.1926  \u001b[0m | \u001b[0m0.6676   \u001b[0m |\n",
            "| \u001b[0m19       \u001b[0m | \u001b[0m-1.96e+03\u001b[0m | \u001b[0m-16.17   \u001b[0m | \u001b[0m-0.07596 \u001b[0m | \u001b[0m-43.94   \u001b[0m | \u001b[0m-5.201   \u001b[0m |\n",
            "| \u001b[0m20       \u001b[0m | \u001b[0m-1.291   \u001b[0m | \u001b[0m-41.64   \u001b[0m | \u001b[0m-22.63   \u001b[0m | \u001b[0m-11.45   \u001b[0m | \u001b[0m-3.769   \u001b[0m |\n",
            "| \u001b[0m21       \u001b[0m | \u001b[0m-123.8   \u001b[0m | \u001b[0m-20.06   \u001b[0m | \u001b[0m-13.73   \u001b[0m | \u001b[0m-36.86   \u001b[0m | \u001b[0m0.05873  \u001b[0m |\n",
            "| \u001b[0m22       \u001b[0m | \u001b[0m-226.6   \u001b[0m | \u001b[0m-11.17   \u001b[0m | \u001b[0m-5.906   \u001b[0m | \u001b[0m-25.87   \u001b[0m | \u001b[0m-6.943   \u001b[0m |\n",
            "| \u001b[0m23       \u001b[0m | \u001b[0m-2.303   \u001b[0m | \u001b[0m-32.67   \u001b[0m | \u001b[0m-24.32   \u001b[0m | \u001b[0m-5.214   \u001b[0m | \u001b[0m-2.233   \u001b[0m |\n",
            "| \u001b[0m24       \u001b[0m | \u001b[0m-81.98   \u001b[0m | \u001b[0m-21.48   \u001b[0m | \u001b[0m-14.57   \u001b[0m | \u001b[0m-48.69   \u001b[0m | \u001b[0m0.2424   \u001b[0m |\n",
            "| \u001b[0m25       \u001b[0m | \u001b[0m-1.325   \u001b[0m | \u001b[0m-31.2    \u001b[0m | \u001b[0m-23.26   \u001b[0m | \u001b[0m-17.59   \u001b[0m | \u001b[0m-3.651   \u001b[0m |\n",
            "| \u001b[0m26       \u001b[0m | \u001b[0m-1.365   \u001b[0m | \u001b[0m-30.96   \u001b[0m | \u001b[0m-33.55   \u001b[0m | \u001b[0m-11.75   \u001b[0m | \u001b[0m-5.429   \u001b[0m |\n",
            "| \u001b[0m27       \u001b[0m | \u001b[0m-246.4   \u001b[0m | \u001b[0m-38.74   \u001b[0m | \u001b[0m-32.03   \u001b[0m | \u001b[0m-19.98   \u001b[0m | \u001b[0m1.0      \u001b[0m |\n",
            "| \u001b[0m28       \u001b[0m | \u001b[0m-2.354   \u001b[0m | \u001b[0m-33.61   \u001b[0m | \u001b[0m-13.69   \u001b[0m | \u001b[0m-10.92   \u001b[0m | \u001b[0m-1.192   \u001b[0m |\n",
            "| \u001b[0m29       \u001b[0m | \u001b[0m-2.285   \u001b[0m | \u001b[0m-25.38   \u001b[0m | \u001b[0m-18.91   \u001b[0m | \u001b[0m-10.66   \u001b[0m | \u001b[0m-9.064   \u001b[0m |\n",
            "| \u001b[0m30       \u001b[0m | \u001b[0m-1.494   \u001b[0m | \u001b[0m-17.86   \u001b[0m | \u001b[0m-25.29   \u001b[0m | \u001b[0m-18.45   \u001b[0m | \u001b[0m-5.698   \u001b[0m |\n",
            "| \u001b[0m31       \u001b[0m | \u001b[0m-119.6   \u001b[0m | \u001b[0m-21.22   \u001b[0m | \u001b[0m-15.79   \u001b[0m | \u001b[0m-15.95   \u001b[0m | \u001b[0m1.0      \u001b[0m |\n",
            "| \u001b[0m32       \u001b[0m | \u001b[0m-2.302   \u001b[0m | \u001b[0m-17.8    \u001b[0m | \u001b[0m-33.58   \u001b[0m | \u001b[0m-9.764   \u001b[0m | \u001b[0m-10.0    \u001b[0m |\n",
            "| \u001b[0m33       \u001b[0m | \u001b[0m-2.228   \u001b[0m | \u001b[0m-8.121   \u001b[0m | \u001b[0m-24.41   \u001b[0m | \u001b[0m-10.9    \u001b[0m | \u001b[0m-7.556   \u001b[0m |\n",
            "| \u001b[0m34       \u001b[0m | \u001b[0m-2.067   \u001b[0m | \u001b[0m-5.65    \u001b[0m | \u001b[0m-24.41   \u001b[0m | \u001b[0m-24.27   \u001b[0m | \u001b[0m-5.867   \u001b[0m |\n",
            "| \u001b[0m35       \u001b[0m | \u001b[0m-321.1   \u001b[0m | \u001b[0m-12.46   \u001b[0m | \u001b[0m-33.67   \u001b[0m | \u001b[0m-15.15   \u001b[0m | \u001b[0m1.0      \u001b[0m |\n",
            "| \u001b[0m36       \u001b[0m | \u001b[0m-2.258   \u001b[0m | \u001b[0m-13.77   \u001b[0m | \u001b[0m-26.85   \u001b[0m | \u001b[0m-33.42   \u001b[0m | \u001b[0m-8.362   \u001b[0m |\n",
            "| \u001b[0m37       \u001b[0m | \u001b[0m-2.306   \u001b[0m | \u001b[0m-26.21   \u001b[0m | \u001b[0m-22.9    \u001b[0m | \u001b[0m-28.83   \u001b[0m | \u001b[0m-10.0    \u001b[0m |\n",
            "| \u001b[0m38       \u001b[0m | \u001b[0m-2.193   \u001b[0m | \u001b[0m-26.06   \u001b[0m | \u001b[0m-27.7    \u001b[0m | \u001b[0m-41.46   \u001b[0m | \u001b[0m-7.427   \u001b[0m |\n",
            "| \u001b[0m39       \u001b[0m | \u001b[0m-1.944   \u001b[0m | \u001b[0m-13.05   \u001b[0m | \u001b[0m-30.45   \u001b[0m | \u001b[0m-44.05   \u001b[0m | \u001b[0m-1.438   \u001b[0m |\n",
            "| \u001b[0m40       \u001b[0m | \u001b[0m-1.629   \u001b[0m | \u001b[0m-20.95   \u001b[0m | \u001b[0m-36.56   \u001b[0m | \u001b[0m-34.84   \u001b[0m | \u001b[0m-2.674   \u001b[0m |\n",
            "| \u001b[0m41       \u001b[0m | \u001b[0m-1.422   \u001b[0m | \u001b[0m-7.442   \u001b[0m | \u001b[0m-38.13   \u001b[0m | \u001b[0m-36.16   \u001b[0m | \u001b[0m-5.24    \u001b[0m |\n",
            "| \u001b[0m42       \u001b[0m | \u001b[0m-2.306   \u001b[0m | \u001b[0m-24.45   \u001b[0m | \u001b[0m-34.77   \u001b[0m | \u001b[0m-23.4    \u001b[0m | \u001b[0m-10.0    \u001b[0m |\n",
            "| \u001b[0m43       \u001b[0m | \u001b[0m-2.306   \u001b[0m | \u001b[0m-34.82   \u001b[0m | \u001b[0m-33.03   \u001b[0m | \u001b[0m-33.84   \u001b[0m | \u001b[0m-10.0    \u001b[0m |\n",
            "| \u001b[0m44       \u001b[0m | \u001b[0m-2.306   \u001b[0m | \u001b[0m-39.37   \u001b[0m | \u001b[0m-21.51   \u001b[0m | \u001b[0m-29.45   \u001b[0m | \u001b[0m-10.0    \u001b[0m |\n",
            "| \u001b[0m45       \u001b[0m | \u001b[0m-1.521   \u001b[0m | \u001b[0m-31.21   \u001b[0m | \u001b[0m-38.39   \u001b[0m | \u001b[0m-44.72   \u001b[0m | \u001b[0m-2.197   \u001b[0m |\n",
            "=========================================================================\n",
            "CPU times: user 7min 11s, sys: 38 s, total: 7min 49s\n",
            "Wall time: 6min 15s\n"
          ]
        }
      ],
      "source": [
        "%%time\n",
        "lofi_5_optimizer.maximize(\n",
        "    init_points=20,\n",
        "    n_iter=25,\n",
        ")"
      ]
    },
    {
      "cell_type": "markdown",
      "metadata": {
        "id": "cqx4zbNY_DR6"
      },
      "source": [
        "## 4.2 Test-Set Evaluation"
      ]
    },
    {
      "cell_type": "code",
      "execution_count": 75,
      "metadata": {
        "id": "xqrQ5J0Q_DR6"
      },
      "outputs": [],
      "source": [
        "# lofi_5_hparams = {\n",
        "#     'initial_covariance': 0.01190844207955588,\n",
        "#     'dynamics_weights': 0.9999999999999972,\n",
        "#     'dynamics_covariance': 1.785188667700262e-18,\n",
        "#     'dynamics_covariance_inflation_factor': 5.4230760952936105e-15\n",
        "# }"
      ]
    },
    {
      "cell_type": "code",
      "execution_count": 76,
      "metadata": {
        "id": "MXpKIfyg_DR6"
      },
      "outputs": [],
      "source": [
        "lofi_5_hparams = hpt.get_best_params(lofi_5_optimizer, method='lofi')\n",
        "lofi_5_estimator, _ = hpt.build_estimator(model_dict['flat_params'], model_dict['apply_fn'],\n",
        "                                          lofi_5_hparams, model_dict['emission_mean_function'],\n",
        "                                          model_dict['emission_cov_function'], \n",
        "                                          method='lofi', lofi_params=lofi_5_params)"
      ]
    },
    {
      "cell_type": "code",
      "execution_count": 77,
      "metadata": {
        "colab": {
          "base_uri": "https://localhost:8080/"
        },
        "id": "RtVXd3xW_DR6",
        "outputId": "21f8231f-18ca-432f-9884-01b78516407d"
      },
      "outputs": [
        {
          "output_type": "execute_result",
          "data": {
            "text/plain": [
              "{'initial_covariance': 0.014917355424284394,\n",
              " 'dynamics_weights': 1.0,\n",
              " 'dynamics_covariance': 2.085722038177336e-19,\n",
              " 'dynamics_covariance_inflation_factor': 4.785838684065285e-08}"
            ]
          },
          "metadata": {},
          "execution_count": 77
        }
      ],
      "source": [
        "lofi_5_hparams"
      ]
    },
    {
      "cell_type": "code",
      "execution_count": 78,
      "metadata": {
        "colab": {
          "base_uri": "https://localhost:8080/"
        },
        "id": "l-cmR3jh_DR6",
        "outputId": "43a13376-05ce-4055-e1ec-c29db93e2e99"
      },
      "outputs": [
        {
          "output_type": "stream",
          "name": "stderr",
          "text": [
            "100%|██████████| 5/5 [03:31<00:00, 42.40s/it]\n"
          ]
        }
      ],
      "source": [
        "lofi_5_res = evaluate_model(lofi_5_estimator)"
      ]
    },
    {
      "cell_type": "code",
      "source": [
        "filename = f'lofi_5_result.pkl'\n",
        "with open(Path(output_path, filename), \"wb\") as f:\n",
        "    pickle.dump(lofi_5_res, f)"
      ],
      "metadata": {
        "id": "c_CKxrDkL2qX"
      },
      "execution_count": 79,
      "outputs": []
    },
    {
      "cell_type": "markdown",
      "metadata": {
        "id": "ZrGF1H7V_DR6"
      },
      "source": [
        "# 5. Lofi (Rank 20)"
      ]
    },
    {
      "cell_type": "markdown",
      "metadata": {
        "id": "uQ6Pb3G5_DR6"
      },
      "source": [
        "## 5.1 Hyperparam Tuning"
      ]
    },
    {
      "cell_type": "code",
      "execution_count": 80,
      "metadata": {
        "id": "Y9VUP0hK_DR6"
      },
      "outputs": [],
      "source": [
        "lofi_20_params = LoFiParams(\n",
        "    memory_size=20,\n",
        "    diagonal_covariance=False,\n",
        ")"
      ]
    },
    {
      "cell_type": "code",
      "execution_count": 81,
      "metadata": {
        "id": "7qUggwfd_DR6"
      },
      "outputs": [],
      "source": [
        "lofi_20_optimizer, apply_fn, n_feats = hpt.create_optimizer(\n",
        "    model_dict[\"model\"], pbounds, 314, warmup_train, warmup_val, \n",
        "    model_dict[\"emission_mean_function\"], model_dict[\"emission_cov_function\"],\n",
        "    ll_calback, 'lofi', lofi_params=lofi_20_params\n",
        ")"
      ]
    },
    {
      "cell_type": "code",
      "execution_count": 82,
      "metadata": {
        "colab": {
          "base_uri": "https://localhost:8080/"
        },
        "id": "1WVE1za0_DR7",
        "outputId": "69fee593-8fa2-450b-cf57-3e7f02192d96"
      },
      "outputs": [
        {
          "output_type": "stream",
          "name": "stdout",
          "text": [
            "|   iter    |  target   | log_alpha | log_dy... | log_dy... | log_in... |\n",
            "-------------------------------------------------------------------------\n",
            "| \u001b[0m1        \u001b[0m | \u001b[0m-5.937   \u001b[0m | \u001b[0m-4.156   \u001b[0m | \u001b[0m-20.57   \u001b[0m | \u001b[0m-36.75   \u001b[0m | \u001b[0m-1.385   \u001b[0m |\n",
            "| \u001b[95m2        \u001b[0m | \u001b[95m-5.01    \u001b[0m | \u001b[95m-4.1     \u001b[0m | \u001b[95m-8.632   \u001b[0m | \u001b[95m-13.6    \u001b[0m | \u001b[95m-7.135   \u001b[0m |\n",
            "| \u001b[95m3        \u001b[0m | \u001b[95m-2.265   \u001b[0m | \u001b[95m-4.412   \u001b[0m | \u001b[95m-36.96   \u001b[0m | \u001b[95m-11.68   \u001b[0m | \u001b[95m-7.123   \u001b[0m |\n",
            "| \u001b[0m4        \u001b[0m | \u001b[0m-2.289   \u001b[0m | \u001b[0m-43.89   \u001b[0m | \u001b[0m-30.7    \u001b[0m | \u001b[0m-7.996   \u001b[0m | \u001b[0m-6.94    \u001b[0m |\n",
            "| \u001b[95m5        \u001b[0m | \u001b[95m-1.286   \u001b[0m | \u001b[95m-46.5    \u001b[0m | \u001b[95m-18.34   \u001b[0m | \u001b[95m-20.76   \u001b[0m | \u001b[95m-3.606   \u001b[0m |\n",
            "| \u001b[0m6        \u001b[0m | \u001b[0m-1.944   \u001b[0m | \u001b[0m-16.14   \u001b[0m | \u001b[0m-15.64   \u001b[0m | \u001b[0m-28.05   \u001b[0m | \u001b[0m-6.47    \u001b[0m |\n",
            "| \u001b[0m7        \u001b[0m | \u001b[0m-1.459   \u001b[0m | \u001b[0m-21.47   \u001b[0m | \u001b[0m-26.01   \u001b[0m | \u001b[0m-6.946   \u001b[0m | \u001b[0m-0.8171  \u001b[0m |\n",
            "| \u001b[0m8        \u001b[0m | \u001b[0m-2.268   \u001b[0m | \u001b[0m-44.71   \u001b[0m | \u001b[0m-46.98   \u001b[0m | \u001b[0m-20.16   \u001b[0m | \u001b[0m-1.284   \u001b[0m |\n",
            "| \u001b[0m9        \u001b[0m | \u001b[0m-1.61    \u001b[0m | \u001b[0m-38.68   \u001b[0m | \u001b[0m-23.24   \u001b[0m | \u001b[0m-43.2    \u001b[0m | \u001b[0m-5.905   \u001b[0m |\n",
            "| \u001b[0m10       \u001b[0m | \u001b[0m-1.439   \u001b[0m | \u001b[0m-42.4    \u001b[0m | \u001b[0m-28.51   \u001b[0m | \u001b[0m-10.36   \u001b[0m | \u001b[0m-5.523   \u001b[0m |\n",
            "| \u001b[0m11       \u001b[0m | \u001b[0m-587.9   \u001b[0m | \u001b[0m-41.11   \u001b[0m | \u001b[0m-4.537   \u001b[0m | \u001b[0m-22.73   \u001b[0m | \u001b[0m-8.895   \u001b[0m |\n",
            "| \u001b[0m12       \u001b[0m | \u001b[0m-7.661e+0\u001b[0m | \u001b[0m-14.06   \u001b[0m | \u001b[0m-1.079   \u001b[0m | \u001b[0m-34.51   \u001b[0m | \u001b[0m-7.139   \u001b[0m |\n",
            "| \u001b[95m13       \u001b[0m | \u001b[95m-1.156   \u001b[0m | \u001b[95m-16.86   \u001b[0m | \u001b[95m-43.01   \u001b[0m | \u001b[95m-45.81   \u001b[0m | \u001b[95m-4.205   \u001b[0m |\n",
            "| \u001b[0m14       \u001b[0m | \u001b[0m-103.2   \u001b[0m | \u001b[0m-19.49   \u001b[0m | \u001b[0m-6.631   \u001b[0m | \u001b[0m-42.55   \u001b[0m | \u001b[0m-0.4953  \u001b[0m |\n",
            "| \u001b[0m15       \u001b[0m | \u001b[0m-1.162   \u001b[0m | \u001b[0m-27.5    \u001b[0m | \u001b[0m-13.66   \u001b[0m | \u001b[0m-42.25   \u001b[0m | \u001b[0m-5.412   \u001b[0m |\n",
            "| \u001b[0m16       \u001b[0m | \u001b[0m-2.289   \u001b[0m | \u001b[0m-42.88   \u001b[0m | \u001b[0m-33.04   \u001b[0m | \u001b[0m-14.86   \u001b[0m | \u001b[0m-9.152   \u001b[0m |\n",
            "| \u001b[0m17       \u001b[0m | \u001b[0m-148.9   \u001b[0m | \u001b[0m-46.48   \u001b[0m | \u001b[0m-0.9017  \u001b[0m | \u001b[0m-47.92   \u001b[0m | \u001b[0m-8.908   \u001b[0m |\n",
            "| \u001b[0m18       \u001b[0m | \u001b[0m-2.303   \u001b[0m | \u001b[0m-38.98   \u001b[0m | \u001b[0m-17.0    \u001b[0m | \u001b[0m-0.1926  \u001b[0m | \u001b[0m0.6676   \u001b[0m |\n",
            "| \u001b[0m19       \u001b[0m | \u001b[0m-208.6   \u001b[0m | \u001b[0m-16.17   \u001b[0m | \u001b[0m-0.07596 \u001b[0m | \u001b[0m-43.94   \u001b[0m | \u001b[0m-5.201   \u001b[0m |\n",
            "| \u001b[0m20       \u001b[0m | \u001b[0m-1.242   \u001b[0m | \u001b[0m-41.64   \u001b[0m | \u001b[0m-22.63   \u001b[0m | \u001b[0m-11.45   \u001b[0m | \u001b[0m-3.769   \u001b[0m |\n",
            "| \u001b[0m21       \u001b[0m | \u001b[0m-308.3   \u001b[0m | \u001b[0m-20.38   \u001b[0m | \u001b[0m-0.666   \u001b[0m | \u001b[0m-49.92   \u001b[0m | \u001b[0m-0.7594  \u001b[0m |\n",
            "| \u001b[0m22       \u001b[0m | \u001b[0m-389.2   \u001b[0m | \u001b[0m-16.95   \u001b[0m | \u001b[0m-6.235   \u001b[0m | \u001b[0m-50.0    \u001b[0m | \u001b[0m-7.316   \u001b[0m |\n",
            "| \u001b[0m23       \u001b[0m | \u001b[0m-652.8   \u001b[0m | \u001b[0m-23.31   \u001b[0m | \u001b[0m-12.14   \u001b[0m | \u001b[0m-50.0    \u001b[0m | \u001b[0m0.7755   \u001b[0m |\n",
            "| \u001b[0m24       \u001b[0m | \u001b[0m-2.303   \u001b[0m | \u001b[0m-32.33   \u001b[0m | \u001b[0m-23.68   \u001b[0m | \u001b[0m-4.852   \u001b[0m | \u001b[0m-4.021   \u001b[0m |\n",
            "| \u001b[0m25       \u001b[0m | \u001b[0m-231.9   \u001b[0m | \u001b[0m-10.99   \u001b[0m | \u001b[0m-1.383   \u001b[0m | \u001b[0m-48.9    \u001b[0m | \u001b[0m-1.261   \u001b[0m |\n",
            "| \u001b[0m26       \u001b[0m | \u001b[0m-220.0   \u001b[0m | \u001b[0m-29.22   \u001b[0m | \u001b[0m-4.031   \u001b[0m | \u001b[0m-47.89   \u001b[0m | \u001b[0m-6.898   \u001b[0m |\n",
            "| \u001b[0m27       \u001b[0m | \u001b[0m-1.161   \u001b[0m | \u001b[0m-30.95   \u001b[0m | \u001b[0m-27.92   \u001b[0m | \u001b[0m-15.64   \u001b[0m | \u001b[0m-4.129   \u001b[0m |\n",
            "| \u001b[95m28       \u001b[0m | \u001b[95m-1.14    \u001b[0m | \u001b[95m-20.32   \u001b[0m | \u001b[95m-21.5    \u001b[0m | \u001b[95m-18.8    \u001b[0m | \u001b[95m-4.583   \u001b[0m |\n",
            "| \u001b[0m29       \u001b[0m | \u001b[0m-2.644   \u001b[0m | \u001b[0m-29.73   \u001b[0m | \u001b[0m-17.42   \u001b[0m | \u001b[0m-13.06   \u001b[0m | \u001b[0m0.3925   \u001b[0m |\n",
            "| \u001b[0m30       \u001b[0m | \u001b[0m-2.254   \u001b[0m | \u001b[0m-34.97   \u001b[0m | \u001b[0m-17.93   \u001b[0m | \u001b[0m-19.58   \u001b[0m | \u001b[0m-8.305   \u001b[0m |\n",
            "| \u001b[0m31       \u001b[0m | \u001b[0m-2.303   \u001b[0m | \u001b[0m-25.97   \u001b[0m | \u001b[0m-19.13   \u001b[0m | \u001b[0m-10.7    \u001b[0m | \u001b[0m-10.0    \u001b[0m |\n",
            "| \u001b[0m32       \u001b[0m | \u001b[0m-1.155   \u001b[0m | \u001b[0m-27.05   \u001b[0m | \u001b[0m-21.09   \u001b[0m | \u001b[0m-28.88   \u001b[0m | \u001b[0m-5.03    \u001b[0m |\n",
            "| \u001b[0m33       \u001b[0m | \u001b[0m-1.549   \u001b[0m | \u001b[0m-15.13   \u001b[0m | \u001b[0m-25.76   \u001b[0m | \u001b[0m-30.04   \u001b[0m | \u001b[0m-2.659   \u001b[0m |\n",
            "| \u001b[0m34       \u001b[0m | \u001b[0m-1.635   \u001b[0m | \u001b[0m-36.52   \u001b[0m | \u001b[0m-12.33   \u001b[0m | \u001b[0m-8.518   \u001b[0m | \u001b[0m-7.521   \u001b[0m |\n",
            "| \u001b[0m35       \u001b[0m | \u001b[0m-1.271   \u001b[0m | \u001b[0m-38.92   \u001b[0m | \u001b[0m-27.13   \u001b[0m | \u001b[0m-25.28   \u001b[0m | \u001b[0m-3.537   \u001b[0m |\n",
            "| \u001b[0m36       \u001b[0m | \u001b[0m-1.229   \u001b[0m | \u001b[0m-38.69   \u001b[0m | \u001b[0m-16.32   \u001b[0m | \u001b[0m-31.91   \u001b[0m | \u001b[0m-5.307   \u001b[0m |\n",
            "| \u001b[0m37       \u001b[0m | \u001b[0m-1.688   \u001b[0m | \u001b[0m-7.989   \u001b[0m | \u001b[0m-21.33   \u001b[0m | \u001b[0m-21.35   \u001b[0m | \u001b[0m-5.838   \u001b[0m |\n",
            "| \u001b[0m38       \u001b[0m | \u001b[0m-256.7   \u001b[0m | \u001b[0m-37.05   \u001b[0m | \u001b[0m-12.11   \u001b[0m | \u001b[0m-22.1    \u001b[0m | \u001b[0m1.0      \u001b[0m |\n",
            "| \u001b[0m39       \u001b[0m | \u001b[0m-1.18    \u001b[0m | \u001b[0m-39.7    \u001b[0m | \u001b[0m-10.58   \u001b[0m | \u001b[0m-43.69   \u001b[0m | \u001b[0m-4.539   \u001b[0m |\n",
            "| \u001b[0m40       \u001b[0m | \u001b[0m-1.573   \u001b[0m | \u001b[0m-13.1    \u001b[0m | \u001b[0m-17.06   \u001b[0m | \u001b[0m-9.805   \u001b[0m | \u001b[0m-5.605   \u001b[0m |\n",
            "| \u001b[0m41       \u001b[0m | \u001b[0m-2.296   \u001b[0m | \u001b[0m-14.07   \u001b[0m | \u001b[0m-28.82   \u001b[0m | \u001b[0m-12.7    \u001b[0m | \u001b[0m-9.436   \u001b[0m |\n",
            "| \u001b[0m42       \u001b[0m | \u001b[0m-193.6   \u001b[0m | \u001b[0m-12.51   \u001b[0m | \u001b[0m-30.16   \u001b[0m | \u001b[0m-17.69   \u001b[0m | \u001b[0m1.0      \u001b[0m |\n",
            "| \u001b[0m43       \u001b[0m | \u001b[0m-2.303   \u001b[0m | \u001b[0m-25.28   \u001b[0m | \u001b[0m-13.83   \u001b[0m | \u001b[0m-2.267   \u001b[0m | \u001b[0m-2.326   \u001b[0m |\n",
            "| \u001b[0m44       \u001b[0m | \u001b[0m-1.376   \u001b[0m | \u001b[0m-4.113   \u001b[0m | \u001b[0m-25.13   \u001b[0m | \u001b[0m-10.06   \u001b[0m | \u001b[0m-2.813   \u001b[0m |\n",
            "| \u001b[0m45       \u001b[0m | \u001b[0m-2.307   \u001b[0m | \u001b[0m-21.69   \u001b[0m | \u001b[0m-30.93   \u001b[0m | \u001b[0m-23.61   \u001b[0m | \u001b[0m-10.0    \u001b[0m |\n",
            "=========================================================================\n",
            "CPU times: user 16min 14s, sys: 35.8 s, total: 16min 50s\n",
            "Wall time: 15min 14s\n"
          ]
        }
      ],
      "source": [
        "%%time\n",
        "lofi_20_optimizer.maximize(\n",
        "    init_points=20,\n",
        "    n_iter=25,\n",
        ")"
      ]
    },
    {
      "cell_type": "markdown",
      "metadata": {
        "id": "usqJT2F__DR7"
      },
      "source": [
        "## 5.2 Test-Set Evaluation"
      ]
    },
    {
      "cell_type": "code",
      "execution_count": 83,
      "metadata": {
        "id": "oCdxcs2T_DR7"
      },
      "outputs": [],
      "source": [
        "# lofi_20_hparams = {\n",
        "#     'initial_covariance': 0.004461548669775887,\n",
        "#     'dynamics_weights': 1.0,\n",
        "#     'dynamics_covariance': 1.1711220914355552e-06,\n",
        "#     'dynamics_covariance_inflation_factor': 1.1350930234602791e-12\n",
        "# }"
      ]
    },
    {
      "cell_type": "code",
      "execution_count": 84,
      "metadata": {
        "id": "oLJkzSVK_DR7"
      },
      "outputs": [],
      "source": [
        "lofi_20_hparams = hpt.get_best_params(lofi_20_optimizer, method='lofi')\n",
        "lofi_20_estimator, _ = hpt.build_estimator(model_dict['flat_params'], model_dict['apply_fn'],\n",
        "                                           lofi_20_hparams, model_dict['emission_mean_function'],\n",
        "                                           model_dict['emission_cov_function'], \n",
        "                                           method='lofi', lofi_params=lofi_20_params)"
      ]
    },
    {
      "cell_type": "code",
      "execution_count": 85,
      "metadata": {
        "colab": {
          "base_uri": "https://localhost:8080/"
        },
        "id": "c-Qaa4jb_DR7",
        "outputId": "3f70e0a6-6008-41aa-d6c3-a39030385f59"
      },
      "outputs": [
        {
          "output_type": "execute_result",
          "data": {
            "text/plain": [
              "{'initial_covariance': 0.010226924200664149,\n",
              " 'dynamics_weights': 0.999999993136533,\n",
              " 'dynamics_covariance': 4.597785528231412e-10,\n",
              " 'dynamics_covariance_inflation_factor': 1.5033331350029686e-09}"
            ]
          },
          "metadata": {},
          "execution_count": 85
        }
      ],
      "source": [
        "lofi_20_hparams"
      ]
    },
    {
      "cell_type": "code",
      "execution_count": 86,
      "metadata": {
        "colab": {
          "base_uri": "https://localhost:8080/"
        },
        "id": "fAzWMHLB_DR7",
        "outputId": "33322da6-d671-4854-c014-6ab6fbc06ba6"
      },
      "outputs": [
        {
          "output_type": "stream",
          "name": "stderr",
          "text": [
            "100%|██████████| 5/5 [08:30<00:00, 102.04s/it]\n"
          ]
        }
      ],
      "source": [
        "lofi_20_res = evaluate_model(lofi_20_estimator)"
      ]
    },
    {
      "cell_type": "code",
      "source": [
        "filename = f'lofi_20_result.pkl'\n",
        "with open(Path(output_path, filename), \"wb\") as f:\n",
        "    pickle.dump(lofi_20_res, f)"
      ],
      "metadata": {
        "id": "LLj9eyNdPV0k"
      },
      "execution_count": 87,
      "outputs": []
    },
    {
      "cell_type": "markdown",
      "source": [
        "# 6. LoFi (Rank 50)"
      ],
      "metadata": {
        "id": "IHWzSn87XFuS"
      }
    },
    {
      "cell_type": "markdown",
      "source": [
        "## 6.1 Hyperparam Tuning"
      ],
      "metadata": {
        "id": "V82zG9ZAXKma"
      }
    },
    {
      "cell_type": "code",
      "source": [
        "lofi_50_params = LoFiParams(\n",
        "    memory_size=50,\n",
        "    diagonal_covariance=False,\n",
        ")"
      ],
      "metadata": {
        "id": "O__l6q9kXKAF"
      },
      "execution_count": 105,
      "outputs": []
    },
    {
      "cell_type": "code",
      "source": [
        "lofi_50_optimizer, apply_fn, n_feats = hpt.create_optimizer(\n",
        "    model_dict[\"model\"], pbounds, 314, warmup_train, warmup_val, \n",
        "    model_dict[\"emission_mean_function\"], model_dict[\"emission_cov_function\"],\n",
        "    ll_calback, 'lofi', lofi_params=lofi_50_params\n",
        ")"
      ],
      "metadata": {
        "id": "OILPjGelXRny"
      },
      "execution_count": 106,
      "outputs": []
    },
    {
      "cell_type": "code",
      "source": [
        "%%time\n",
        "lofi_50_optimizer.maximize(\n",
        "    init_points=20,\n",
        "    n_iter=25,\n",
        ")"
      ],
      "metadata": {
        "id": "KFoAzNGnXUFf",
        "outputId": "9afc2fcc-8dc4-4691-8fee-66458b57612c",
        "colab": {
          "base_uri": "https://localhost:8080/",
          "height": 815
        }
      },
      "execution_count": 107,
      "outputs": [
        {
          "output_type": "stream",
          "name": "stdout",
          "text": [
            "|   iter    |  target   | log_alpha | log_dy... | log_dy... | log_in... |\n",
            "-------------------------------------------------------------------------\n",
            "| \u001b[0m1        \u001b[0m | \u001b[0m-3.398   \u001b[0m | \u001b[0m-4.156   \u001b[0m | \u001b[0m-20.57   \u001b[0m | \u001b[0m-36.75   \u001b[0m | \u001b[0m-1.385   \u001b[0m |\n",
            "| \u001b[0m2        \u001b[0m | \u001b[0m-3.604   \u001b[0m | \u001b[0m-4.1     \u001b[0m | \u001b[0m-8.632   \u001b[0m | \u001b[0m-13.6    \u001b[0m | \u001b[0m-7.135   \u001b[0m |\n",
            "| \u001b[95m3        \u001b[0m | \u001b[95m-2.265   \u001b[0m | \u001b[95m-4.412   \u001b[0m | \u001b[95m-36.96   \u001b[0m | \u001b[95m-11.68   \u001b[0m | \u001b[95m-7.123   \u001b[0m |\n",
            "| \u001b[0m4        \u001b[0m | \u001b[0m-2.289   \u001b[0m | \u001b[0m-43.89   \u001b[0m | \u001b[0m-30.7    \u001b[0m | \u001b[0m-7.996   \u001b[0m | \u001b[0m-6.94    \u001b[0m |\n",
            "| \u001b[95m5        \u001b[0m | \u001b[95m-1.217   \u001b[0m | \u001b[95m-46.5    \u001b[0m | \u001b[95m-18.34   \u001b[0m | \u001b[95m-20.76   \u001b[0m | \u001b[95m-3.606   \u001b[0m |\n",
            "| \u001b[0m6        \u001b[0m | \u001b[0m-1.948   \u001b[0m | \u001b[0m-16.14   \u001b[0m | \u001b[0m-15.64   \u001b[0m | \u001b[0m-28.05   \u001b[0m | \u001b[0m-6.47    \u001b[0m |\n",
            "| \u001b[0m7        \u001b[0m | \u001b[0m-1.448   \u001b[0m | \u001b[0m-21.47   \u001b[0m | \u001b[0m-26.01   \u001b[0m | \u001b[0m-6.946   \u001b[0m | \u001b[0m-0.8171  \u001b[0m |\n",
            "| \u001b[0m8        \u001b[0m | \u001b[0m-2.44    \u001b[0m | \u001b[0m-44.71   \u001b[0m | \u001b[0m-46.98   \u001b[0m | \u001b[0m-20.16   \u001b[0m | \u001b[0m-1.284   \u001b[0m |\n",
            "| \u001b[0m9        \u001b[0m | \u001b[0m-1.621   \u001b[0m | \u001b[0m-38.68   \u001b[0m | \u001b[0m-23.24   \u001b[0m | \u001b[0m-43.2    \u001b[0m | \u001b[0m-5.905   \u001b[0m |\n",
            "| \u001b[0m10       \u001b[0m | \u001b[0m-1.462   \u001b[0m | \u001b[0m-42.4    \u001b[0m | \u001b[0m-28.51   \u001b[0m | \u001b[0m-10.36   \u001b[0m | \u001b[0m-5.523   \u001b[0m |\n",
            "| \u001b[0m11       \u001b[0m | \u001b[0m-93.65   \u001b[0m | \u001b[0m-41.11   \u001b[0m | \u001b[0m-4.537   \u001b[0m | \u001b[0m-22.73   \u001b[0m | \u001b[0m-8.895   \u001b[0m |\n",
            "| \u001b[0m12       \u001b[0m | \u001b[0m-204.1   \u001b[0m | \u001b[0m-14.06   \u001b[0m | \u001b[0m-1.079   \u001b[0m | \u001b[0m-34.51   \u001b[0m | \u001b[0m-7.139   \u001b[0m |\n",
            "| \u001b[95m13       \u001b[0m | \u001b[95m-1.13    \u001b[0m | \u001b[95m-16.86   \u001b[0m | \u001b[95m-43.01   \u001b[0m | \u001b[95m-45.81   \u001b[0m | \u001b[95m-4.205   \u001b[0m |\n",
            "| \u001b[0m14       \u001b[0m | \u001b[0m-271.0   \u001b[0m | \u001b[0m-19.49   \u001b[0m | \u001b[0m-6.631   \u001b[0m | \u001b[0m-42.55   \u001b[0m | \u001b[0m-0.4953  \u001b[0m |\n",
            "| \u001b[0m15       \u001b[0m | \u001b[0m-1.192   \u001b[0m | \u001b[0m-27.5    \u001b[0m | \u001b[0m-13.66   \u001b[0m | \u001b[0m-42.25   \u001b[0m | \u001b[0m-5.412   \u001b[0m |\n",
            "| \u001b[0m16       \u001b[0m | \u001b[0m-2.289   \u001b[0m | \u001b[0m-42.88   \u001b[0m | \u001b[0m-33.04   \u001b[0m | \u001b[0m-14.86   \u001b[0m | \u001b[0m-9.152   \u001b[0m |\n",
            "| \u001b[0m17       \u001b[0m | \u001b[0m-149.2   \u001b[0m | \u001b[0m-46.48   \u001b[0m | \u001b[0m-0.9017  \u001b[0m | \u001b[0m-47.92   \u001b[0m | \u001b[0m-8.908   \u001b[0m |\n",
            "| \u001b[0m18       \u001b[0m | \u001b[0m-2.303   \u001b[0m | \u001b[0m-38.98   \u001b[0m | \u001b[0m-17.0    \u001b[0m | \u001b[0m-0.1926  \u001b[0m | \u001b[0m0.6676   \u001b[0m |\n"
          ]
        },
        {
          "output_type": "error",
          "ename": "KeyboardInterrupt",
          "evalue": "ignored",
          "traceback": [
            "\u001b[0;31m---------------------------------------------------------------------------\u001b[0m",
            "\u001b[0;31mKeyboardInterrupt\u001b[0m                         Traceback (most recent call last)",
            "\u001b[0;32m<timed eval>\u001b[0m in \u001b[0;36m<module>\u001b[0;34m\u001b[0m\n",
            "\u001b[0;32m/usr/local/lib/python3.9/dist-packages/bayes_opt/bayesian_optimization.py\u001b[0m in \u001b[0;36mmaximize\u001b[0;34m(self, init_points, n_iter, acquisition_function, acq, kappa, kappa_decay, kappa_decay_delay, xi, **gp_params)\u001b[0m\n\u001b[1;32m    309\u001b[0m                 \u001b[0mx_probe\u001b[0m \u001b[0;34m=\u001b[0m \u001b[0mself\u001b[0m\u001b[0;34m.\u001b[0m\u001b[0msuggest\u001b[0m\u001b[0;34m(\u001b[0m\u001b[0mutil\u001b[0m\u001b[0;34m)\u001b[0m\u001b[0;34m\u001b[0m\u001b[0;34m\u001b[0m\u001b[0m\n\u001b[1;32m    310\u001b[0m                 \u001b[0miteration\u001b[0m \u001b[0;34m+=\u001b[0m \u001b[0;36m1\u001b[0m\u001b[0;34m\u001b[0m\u001b[0;34m\u001b[0m\u001b[0m\n\u001b[0;32m--> 311\u001b[0;31m             \u001b[0mself\u001b[0m\u001b[0;34m.\u001b[0m\u001b[0mprobe\u001b[0m\u001b[0;34m(\u001b[0m\u001b[0mx_probe\u001b[0m\u001b[0;34m,\u001b[0m \u001b[0mlazy\u001b[0m\u001b[0;34m=\u001b[0m\u001b[0;32mFalse\u001b[0m\u001b[0;34m)\u001b[0m\u001b[0;34m\u001b[0m\u001b[0;34m\u001b[0m\u001b[0m\n\u001b[0m\u001b[1;32m    312\u001b[0m \u001b[0;34m\u001b[0m\u001b[0m\n\u001b[1;32m    313\u001b[0m             \u001b[0;32mif\u001b[0m \u001b[0mself\u001b[0m\u001b[0;34m.\u001b[0m\u001b[0m_bounds_transformer\u001b[0m \u001b[0;32mand\u001b[0m \u001b[0miteration\u001b[0m \u001b[0;34m>\u001b[0m \u001b[0;36m0\u001b[0m\u001b[0;34m:\u001b[0m\u001b[0;34m\u001b[0m\u001b[0;34m\u001b[0m\u001b[0m\n",
            "\u001b[0;32m/usr/local/lib/python3.9/dist-packages/bayes_opt/bayesian_optimization.py\u001b[0m in \u001b[0;36mprobe\u001b[0;34m(self, params, lazy)\u001b[0m\n\u001b[1;32m    206\u001b[0m             \u001b[0mself\u001b[0m\u001b[0;34m.\u001b[0m\u001b[0m_queue\u001b[0m\u001b[0;34m.\u001b[0m\u001b[0madd\u001b[0m\u001b[0;34m(\u001b[0m\u001b[0mparams\u001b[0m\u001b[0;34m)\u001b[0m\u001b[0;34m\u001b[0m\u001b[0;34m\u001b[0m\u001b[0m\n\u001b[1;32m    207\u001b[0m         \u001b[0;32melse\u001b[0m\u001b[0;34m:\u001b[0m\u001b[0;34m\u001b[0m\u001b[0;34m\u001b[0m\u001b[0m\n\u001b[0;32m--> 208\u001b[0;31m             \u001b[0mself\u001b[0m\u001b[0;34m.\u001b[0m\u001b[0m_space\u001b[0m\u001b[0;34m.\u001b[0m\u001b[0mprobe\u001b[0m\u001b[0;34m(\u001b[0m\u001b[0mparams\u001b[0m\u001b[0;34m)\u001b[0m\u001b[0;34m\u001b[0m\u001b[0;34m\u001b[0m\u001b[0m\n\u001b[0m\u001b[1;32m    209\u001b[0m             \u001b[0mself\u001b[0m\u001b[0;34m.\u001b[0m\u001b[0mdispatch\u001b[0m\u001b[0;34m(\u001b[0m\u001b[0mEvents\u001b[0m\u001b[0;34m.\u001b[0m\u001b[0mOPTIMIZATION_STEP\u001b[0m\u001b[0;34m)\u001b[0m\u001b[0;34m\u001b[0m\u001b[0;34m\u001b[0m\u001b[0m\n\u001b[1;32m    210\u001b[0m \u001b[0;34m\u001b[0m\u001b[0m\n",
            "\u001b[0;32m/usr/local/lib/python3.9/dist-packages/bayes_opt/target_space.py\u001b[0m in \u001b[0;36mprobe\u001b[0;34m(self, params)\u001b[0m\n\u001b[1;32m    234\u001b[0m         \u001b[0mx\u001b[0m \u001b[0;34m=\u001b[0m \u001b[0mself\u001b[0m\u001b[0;34m.\u001b[0m\u001b[0m_as_array\u001b[0m\u001b[0;34m(\u001b[0m\u001b[0mparams\u001b[0m\u001b[0;34m)\u001b[0m\u001b[0;34m\u001b[0m\u001b[0;34m\u001b[0m\u001b[0m\n\u001b[1;32m    235\u001b[0m         \u001b[0mparams\u001b[0m \u001b[0;34m=\u001b[0m \u001b[0mdict\u001b[0m\u001b[0;34m(\u001b[0m\u001b[0mzip\u001b[0m\u001b[0;34m(\u001b[0m\u001b[0mself\u001b[0m\u001b[0;34m.\u001b[0m\u001b[0m_keys\u001b[0m\u001b[0;34m,\u001b[0m \u001b[0mx\u001b[0m\u001b[0;34m)\u001b[0m\u001b[0;34m)\u001b[0m\u001b[0;34m\u001b[0m\u001b[0;34m\u001b[0m\u001b[0m\n\u001b[0;32m--> 236\u001b[0;31m         \u001b[0mtarget\u001b[0m \u001b[0;34m=\u001b[0m \u001b[0mself\u001b[0m\u001b[0;34m.\u001b[0m\u001b[0mtarget_func\u001b[0m\u001b[0;34m(\u001b[0m\u001b[0;34m**\u001b[0m\u001b[0mparams\u001b[0m\u001b[0;34m)\u001b[0m\u001b[0;34m\u001b[0m\u001b[0;34m\u001b[0m\u001b[0m\n\u001b[0m\u001b[1;32m    237\u001b[0m \u001b[0;34m\u001b[0m\u001b[0m\n\u001b[1;32m    238\u001b[0m         \u001b[0;32mif\u001b[0m \u001b[0mself\u001b[0m\u001b[0;34m.\u001b[0m\u001b[0m_constraint\u001b[0m \u001b[0;32mis\u001b[0m \u001b[0;32mNone\u001b[0m\u001b[0;34m:\u001b[0m\u001b[0;34m\u001b[0m\u001b[0;34m\u001b[0m\u001b[0m\n",
            "\u001b[0;32m/usr/local/lib/python3.9/dist-packages/demos/showdown/classification/hparam_tune_clf.py\u001b[0m in \u001b[0;36mbbf_lofi\u001b[0;34m(log_init_cov, log_dynamics_weights, log_dynamics_cov, log_alpha, emission_mean_fn, emission_cov_fn, train, test, flat_params, callback, apply_fn, lofi_params, method, callback_at_end)\u001b[0m\n\u001b[1;32m     61\u001b[0m \u001b[0;34m\u001b[0m\u001b[0m\n\u001b[1;32m     62\u001b[0m     \u001b[0;32mif\u001b[0m \u001b[0mcallback_at_end\u001b[0m\u001b[0;34m:\u001b[0m\u001b[0;34m\u001b[0m\u001b[0;34m\u001b[0m\u001b[0m\n\u001b[0;32m---> 63\u001b[0;31m         \u001b[0mbel\u001b[0m\u001b[0;34m,\u001b[0m \u001b[0m_\u001b[0m \u001b[0;34m=\u001b[0m \u001b[0mestimator\u001b[0m\u001b[0;34m.\u001b[0m\u001b[0mscan\u001b[0m\u001b[0;34m(\u001b[0m\u001b[0mX_train\u001b[0m\u001b[0;34m,\u001b[0m \u001b[0my_train\u001b[0m\u001b[0;34m,\u001b[0m \u001b[0mprogress_bar\u001b[0m\u001b[0;34m=\u001b[0m\u001b[0;32mFalse\u001b[0m\u001b[0;34m)\u001b[0m\u001b[0;34m\u001b[0m\u001b[0;34m\u001b[0m\u001b[0m\n\u001b[0m\u001b[1;32m     64\u001b[0m         \u001b[0mmetric\u001b[0m \u001b[0;34m=\u001b[0m \u001b[0mcallback\u001b[0m\u001b[0;34m(\u001b[0m\u001b[0mbel\u001b[0m\u001b[0;34m,\u001b[0m \u001b[0;34m**\u001b[0m\u001b[0mtest_callback_kwargs\u001b[0m\u001b[0;34m)\u001b[0m\u001b[0;34m\u001b[0m\u001b[0;34m\u001b[0m\u001b[0m\n\u001b[1;32m     65\u001b[0m     \u001b[0;32melse\u001b[0m\u001b[0;34m:\u001b[0m\u001b[0;34m\u001b[0m\u001b[0;34m\u001b[0m\u001b[0m\n",
            "\u001b[0;32m/usr/local/lib/python3.9/dist-packages/rebayes/base.py\u001b[0m in \u001b[0;36mscan\u001b[0;34m(self, X, Y, callback, bel, progress_bar, **kwargs)\u001b[0m\n\u001b[1;32m    143\u001b[0m         \u001b[0;32mif\u001b[0m \u001b[0mprogress_bar\u001b[0m\u001b[0;34m:\u001b[0m\u001b[0;34m\u001b[0m\u001b[0;34m\u001b[0m\u001b[0m\n\u001b[1;32m    144\u001b[0m             \u001b[0mstep\u001b[0m \u001b[0;34m=\u001b[0m \u001b[0mscan_tqdm\u001b[0m\u001b[0;34m(\u001b[0m\u001b[0mnum_timesteps\u001b[0m\u001b[0;34m)\u001b[0m\u001b[0;34m(\u001b[0m\u001b[0mstep\u001b[0m\u001b[0;34m)\u001b[0m\u001b[0;34m\u001b[0m\u001b[0;34m\u001b[0m\u001b[0m\n\u001b[0;32m--> 145\u001b[0;31m         \u001b[0mbel\u001b[0m\u001b[0;34m,\u001b[0m \u001b[0moutputs\u001b[0m \u001b[0;34m=\u001b[0m \u001b[0mscan\u001b[0m\u001b[0;34m(\u001b[0m\u001b[0mstep\u001b[0m\u001b[0;34m,\u001b[0m \u001b[0mcarry\u001b[0m\u001b[0;34m,\u001b[0m \u001b[0mjnp\u001b[0m\u001b[0;34m.\u001b[0m\u001b[0marange\u001b[0m\u001b[0;34m(\u001b[0m\u001b[0mnum_timesteps\u001b[0m\u001b[0;34m)\u001b[0m\u001b[0;34m)\u001b[0m\u001b[0;34m\u001b[0m\u001b[0;34m\u001b[0m\u001b[0m\n\u001b[0m\u001b[1;32m    146\u001b[0m         \u001b[0;32mreturn\u001b[0m \u001b[0mbel\u001b[0m\u001b[0;34m,\u001b[0m \u001b[0moutputs\u001b[0m\u001b[0;34m\u001b[0m\u001b[0;34m\u001b[0m\u001b[0m\n\u001b[1;32m    147\u001b[0m \u001b[0;34m\u001b[0m\u001b[0m\n",
            "\u001b[0;32m/usr/local/lib/python3.9/dist-packages/jax/_src/traceback_util.py\u001b[0m in \u001b[0;36mreraise_with_filtered_traceback\u001b[0;34m(*args, **kwargs)\u001b[0m\n\u001b[1;32m    161\u001b[0m     \u001b[0m__tracebackhide__\u001b[0m \u001b[0;34m=\u001b[0m \u001b[0;32mTrue\u001b[0m\u001b[0;34m\u001b[0m\u001b[0;34m\u001b[0m\u001b[0m\n\u001b[1;32m    162\u001b[0m     \u001b[0;32mtry\u001b[0m\u001b[0;34m:\u001b[0m\u001b[0;34m\u001b[0m\u001b[0;34m\u001b[0m\u001b[0m\n\u001b[0;32m--> 163\u001b[0;31m       \u001b[0;32mreturn\u001b[0m \u001b[0mfun\u001b[0m\u001b[0;34m(\u001b[0m\u001b[0;34m*\u001b[0m\u001b[0margs\u001b[0m\u001b[0;34m,\u001b[0m \u001b[0;34m**\u001b[0m\u001b[0mkwargs\u001b[0m\u001b[0;34m)\u001b[0m\u001b[0;34m\u001b[0m\u001b[0;34m\u001b[0m\u001b[0m\n\u001b[0m\u001b[1;32m    164\u001b[0m     \u001b[0;32mexcept\u001b[0m \u001b[0mException\u001b[0m \u001b[0;32mas\u001b[0m \u001b[0me\u001b[0m\u001b[0;34m:\u001b[0m\u001b[0;34m\u001b[0m\u001b[0;34m\u001b[0m\u001b[0m\n\u001b[1;32m    165\u001b[0m       \u001b[0mmode\u001b[0m \u001b[0;34m=\u001b[0m \u001b[0mfiltering_mode\u001b[0m\u001b[0;34m(\u001b[0m\u001b[0;34m)\u001b[0m\u001b[0;34m\u001b[0m\u001b[0;34m\u001b[0m\u001b[0m\n",
            "\u001b[0;32m/usr/local/lib/python3.9/dist-packages/jax/_src/lax/control_flow/loops.py\u001b[0m in \u001b[0;36mscan\u001b[0;34m(f, init, xs, length, reverse, unroll)\u001b[0m\n\u001b[1;32m    272\u001b[0m         f'Effects not supported in `scan`: {disallowed_effects}')\n\u001b[1;32m    273\u001b[0m \u001b[0;34m\u001b[0m\u001b[0m\n\u001b[0;32m--> 274\u001b[0;31m   out = scan_p.bind(*consts, *in_flat,\n\u001b[0m\u001b[1;32m    275\u001b[0m                     \u001b[0mreverse\u001b[0m\u001b[0;34m=\u001b[0m\u001b[0mreverse\u001b[0m\u001b[0;34m,\u001b[0m \u001b[0mlength\u001b[0m\u001b[0;34m=\u001b[0m\u001b[0mlength\u001b[0m\u001b[0;34m,\u001b[0m \u001b[0mjaxpr\u001b[0m\u001b[0;34m=\u001b[0m\u001b[0mjaxpr\u001b[0m\u001b[0;34m,\u001b[0m\u001b[0;34m\u001b[0m\u001b[0;34m\u001b[0m\u001b[0m\n\u001b[1;32m    276\u001b[0m                     \u001b[0mnum_consts\u001b[0m\u001b[0;34m=\u001b[0m\u001b[0mlen\u001b[0m\u001b[0;34m(\u001b[0m\u001b[0mconsts\u001b[0m\u001b[0;34m)\u001b[0m\u001b[0;34m,\u001b[0m \u001b[0mnum_carry\u001b[0m\u001b[0;34m=\u001b[0m\u001b[0mlen\u001b[0m\u001b[0;34m(\u001b[0m\u001b[0minit_flat\u001b[0m\u001b[0;34m)\u001b[0m\u001b[0;34m,\u001b[0m\u001b[0;34m\u001b[0m\u001b[0;34m\u001b[0m\u001b[0m\n",
            "\u001b[0;32m/usr/local/lib/python3.9/dist-packages/jax/_src/lax/control_flow/loops.py\u001b[0m in \u001b[0;36mscan_bind\u001b[0;34m(*args, **params)\u001b[0m\n\u001b[1;32m    974\u001b[0m     \u001b[0m_scan_typecheck\u001b[0m\u001b[0;34m(\u001b[0m\u001b[0;32mTrue\u001b[0m\u001b[0;34m,\u001b[0m \u001b[0;34m*\u001b[0m\u001b[0min_atoms\u001b[0m\u001b[0;34m,\u001b[0m \u001b[0;34m**\u001b[0m\u001b[0mparams\u001b[0m\u001b[0;34m)\u001b[0m\u001b[0;34m\u001b[0m\u001b[0;34m\u001b[0m\u001b[0m\n\u001b[1;32m    975\u001b[0m     \u001b[0mcore\u001b[0m\u001b[0;34m.\u001b[0m\u001b[0mcheck_jaxpr\u001b[0m\u001b[0;34m(\u001b[0m\u001b[0mparams\u001b[0m\u001b[0;34m[\u001b[0m\u001b[0;34m'jaxpr'\u001b[0m\u001b[0;34m]\u001b[0m\u001b[0;34m.\u001b[0m\u001b[0mjaxpr\u001b[0m\u001b[0;34m)\u001b[0m\u001b[0;34m\u001b[0m\u001b[0;34m\u001b[0m\u001b[0m\n\u001b[0;32m--> 976\u001b[0;31m   \u001b[0;32mreturn\u001b[0m \u001b[0mcore\u001b[0m\u001b[0;34m.\u001b[0m\u001b[0mAxisPrimitive\u001b[0m\u001b[0;34m.\u001b[0m\u001b[0mbind\u001b[0m\u001b[0;34m(\u001b[0m\u001b[0mscan_p\u001b[0m\u001b[0;34m,\u001b[0m \u001b[0;34m*\u001b[0m\u001b[0margs\u001b[0m\u001b[0;34m,\u001b[0m \u001b[0;34m**\u001b[0m\u001b[0mparams\u001b[0m\u001b[0;34m)\u001b[0m\u001b[0;34m\u001b[0m\u001b[0;34m\u001b[0m\u001b[0m\n\u001b[0m\u001b[1;32m    977\u001b[0m \u001b[0;34m\u001b[0m\u001b[0m\n\u001b[1;32m    978\u001b[0m \u001b[0mscan_p\u001b[0m \u001b[0;34m=\u001b[0m \u001b[0mcore\u001b[0m\u001b[0;34m.\u001b[0m\u001b[0mAxisPrimitive\u001b[0m\u001b[0;34m(\u001b[0m\u001b[0;34m\"scan\"\u001b[0m\u001b[0;34m)\u001b[0m\u001b[0;34m\u001b[0m\u001b[0;34m\u001b[0m\u001b[0m\n",
            "\u001b[0;32m/usr/local/lib/python3.9/dist-packages/jax/_src/core.py\u001b[0m in \u001b[0;36mbind\u001b[0;34m(self, *args, **params)\u001b[0m\n\u001b[1;32m   2557\u001b[0m     top_trace = (top_trace if not axis_main or axis_main.level < top_trace.level\n\u001b[1;32m   2558\u001b[0m                  else axis_main.with_cur_sublevel())\n\u001b[0;32m-> 2559\u001b[0;31m     \u001b[0;32mreturn\u001b[0m \u001b[0mself\u001b[0m\u001b[0;34m.\u001b[0m\u001b[0mbind_with_trace\u001b[0m\u001b[0;34m(\u001b[0m\u001b[0mtop_trace\u001b[0m\u001b[0;34m,\u001b[0m \u001b[0margs\u001b[0m\u001b[0;34m,\u001b[0m \u001b[0mparams\u001b[0m\u001b[0;34m)\u001b[0m\u001b[0;34m\u001b[0m\u001b[0;34m\u001b[0m\u001b[0m\n\u001b[0m\u001b[1;32m   2560\u001b[0m \u001b[0;34m\u001b[0m\u001b[0m\n\u001b[1;32m   2561\u001b[0m \u001b[0;34m\u001b[0m\u001b[0m\n",
            "\u001b[0;32m/usr/local/lib/python3.9/dist-packages/jax/_src/core.py\u001b[0m in \u001b[0;36mbind_with_trace\u001b[0;34m(self, trace, args, params)\u001b[0m\n\u001b[1;32m    344\u001b[0m \u001b[0;34m\u001b[0m\u001b[0m\n\u001b[1;32m    345\u001b[0m   \u001b[0;32mdef\u001b[0m \u001b[0mbind_with_trace\u001b[0m\u001b[0;34m(\u001b[0m\u001b[0mself\u001b[0m\u001b[0;34m,\u001b[0m \u001b[0mtrace\u001b[0m\u001b[0;34m,\u001b[0m \u001b[0margs\u001b[0m\u001b[0;34m,\u001b[0m \u001b[0mparams\u001b[0m\u001b[0;34m)\u001b[0m\u001b[0;34m:\u001b[0m\u001b[0;34m\u001b[0m\u001b[0;34m\u001b[0m\u001b[0m\n\u001b[0;32m--> 346\u001b[0;31m     \u001b[0mout\u001b[0m \u001b[0;34m=\u001b[0m \u001b[0mtrace\u001b[0m\u001b[0;34m.\u001b[0m\u001b[0mprocess_primitive\u001b[0m\u001b[0;34m(\u001b[0m\u001b[0mself\u001b[0m\u001b[0;34m,\u001b[0m \u001b[0mmap\u001b[0m\u001b[0;34m(\u001b[0m\u001b[0mtrace\u001b[0m\u001b[0;34m.\u001b[0m\u001b[0mfull_raise\u001b[0m\u001b[0;34m,\u001b[0m \u001b[0margs\u001b[0m\u001b[0;34m)\u001b[0m\u001b[0;34m,\u001b[0m \u001b[0mparams\u001b[0m\u001b[0;34m)\u001b[0m\u001b[0;34m\u001b[0m\u001b[0;34m\u001b[0m\u001b[0m\n\u001b[0m\u001b[1;32m    347\u001b[0m     \u001b[0;32mreturn\u001b[0m \u001b[0mmap\u001b[0m\u001b[0;34m(\u001b[0m\u001b[0mfull_lower\u001b[0m\u001b[0;34m,\u001b[0m \u001b[0mout\u001b[0m\u001b[0;34m)\u001b[0m \u001b[0;32mif\u001b[0m \u001b[0mself\u001b[0m\u001b[0;34m.\u001b[0m\u001b[0mmultiple_results\u001b[0m \u001b[0;32melse\u001b[0m \u001b[0mfull_lower\u001b[0m\u001b[0;34m(\u001b[0m\u001b[0mout\u001b[0m\u001b[0;34m)\u001b[0m\u001b[0;34m\u001b[0m\u001b[0;34m\u001b[0m\u001b[0m\n\u001b[1;32m    348\u001b[0m \u001b[0;34m\u001b[0m\u001b[0m\n",
            "\u001b[0;32m/usr/local/lib/python3.9/dist-packages/jax/_src/core.py\u001b[0m in \u001b[0;36mprocess_primitive\u001b[0;34m(self, primitive, tracers, params)\u001b[0m\n\u001b[1;32m    787\u001b[0m \u001b[0;34m\u001b[0m\u001b[0m\n\u001b[1;32m    788\u001b[0m   \u001b[0;32mdef\u001b[0m \u001b[0mprocess_primitive\u001b[0m\u001b[0;34m(\u001b[0m\u001b[0mself\u001b[0m\u001b[0;34m,\u001b[0m \u001b[0mprimitive\u001b[0m\u001b[0;34m,\u001b[0m \u001b[0mtracers\u001b[0m\u001b[0;34m,\u001b[0m \u001b[0mparams\u001b[0m\u001b[0;34m)\u001b[0m\u001b[0;34m:\u001b[0m\u001b[0;34m\u001b[0m\u001b[0;34m\u001b[0m\u001b[0m\n\u001b[0;32m--> 789\u001b[0;31m     \u001b[0;32mreturn\u001b[0m \u001b[0mprimitive\u001b[0m\u001b[0;34m.\u001b[0m\u001b[0mimpl\u001b[0m\u001b[0;34m(\u001b[0m\u001b[0;34m*\u001b[0m\u001b[0mtracers\u001b[0m\u001b[0;34m,\u001b[0m \u001b[0;34m**\u001b[0m\u001b[0mparams\u001b[0m\u001b[0;34m)\u001b[0m\u001b[0;34m\u001b[0m\u001b[0;34m\u001b[0m\u001b[0m\n\u001b[0m\u001b[1;32m    790\u001b[0m \u001b[0;34m\u001b[0m\u001b[0m\n\u001b[1;32m    791\u001b[0m   \u001b[0;32mdef\u001b[0m \u001b[0mprocess_call\u001b[0m\u001b[0;34m(\u001b[0m\u001b[0mself\u001b[0m\u001b[0;34m,\u001b[0m \u001b[0mprimitive\u001b[0m\u001b[0;34m,\u001b[0m \u001b[0mf\u001b[0m\u001b[0;34m,\u001b[0m \u001b[0mtracers\u001b[0m\u001b[0;34m,\u001b[0m \u001b[0mparams\u001b[0m\u001b[0;34m)\u001b[0m\u001b[0;34m:\u001b[0m\u001b[0;34m\u001b[0m\u001b[0;34m\u001b[0m\u001b[0m\n",
            "\u001b[0;32m/usr/local/lib/python3.9/dist-packages/jax/_src/dispatch.py\u001b[0m in \u001b[0;36mapply_primitive\u001b[0;34m(prim, *args, **params)\u001b[0m\n\u001b[1;32m    123\u001b[0m   compiled_fun = xla_primitive_callable(prim, *unsafe_map(arg_spec, args),\n\u001b[1;32m    124\u001b[0m                                         **params)\n\u001b[0;32m--> 125\u001b[0;31m   \u001b[0;32mreturn\u001b[0m \u001b[0mcompiled_fun\u001b[0m\u001b[0;34m(\u001b[0m\u001b[0;34m*\u001b[0m\u001b[0margs\u001b[0m\u001b[0;34m)\u001b[0m\u001b[0;34m\u001b[0m\u001b[0;34m\u001b[0m\u001b[0m\n\u001b[0m\u001b[1;32m    126\u001b[0m \u001b[0;34m\u001b[0m\u001b[0m\n\u001b[1;32m    127\u001b[0m \u001b[0;32mdef\u001b[0m \u001b[0msimple_impl\u001b[0m\u001b[0;34m(\u001b[0m\u001b[0mprim\u001b[0m\u001b[0;34m)\u001b[0m\u001b[0;34m:\u001b[0m\u001b[0;34m\u001b[0m\u001b[0;34m\u001b[0m\u001b[0m\n",
            "\u001b[0;32m/usr/local/lib/python3.9/dist-packages/jax/_src/profiler.py\u001b[0m in \u001b[0;36mwrapper\u001b[0;34m(*args, **kwargs)\u001b[0m\n\u001b[1;32m    312\u001b[0m   \u001b[0;32mdef\u001b[0m \u001b[0mwrapper\u001b[0m\u001b[0;34m(\u001b[0m\u001b[0;34m*\u001b[0m\u001b[0margs\u001b[0m\u001b[0;34m,\u001b[0m \u001b[0;34m**\u001b[0m\u001b[0mkwargs\u001b[0m\u001b[0;34m)\u001b[0m\u001b[0;34m:\u001b[0m\u001b[0;34m\u001b[0m\u001b[0;34m\u001b[0m\u001b[0m\n\u001b[1;32m    313\u001b[0m     \u001b[0;32mwith\u001b[0m \u001b[0mTraceAnnotation\u001b[0m\u001b[0;34m(\u001b[0m\u001b[0mname\u001b[0m\u001b[0;34m,\u001b[0m \u001b[0;34m**\u001b[0m\u001b[0mdecorator_kwargs\u001b[0m\u001b[0;34m)\u001b[0m\u001b[0;34m:\u001b[0m\u001b[0;34m\u001b[0m\u001b[0;34m\u001b[0m\u001b[0m\n\u001b[0;32m--> 314\u001b[0;31m       \u001b[0;32mreturn\u001b[0m \u001b[0mfunc\u001b[0m\u001b[0;34m(\u001b[0m\u001b[0;34m*\u001b[0m\u001b[0margs\u001b[0m\u001b[0;34m,\u001b[0m \u001b[0;34m**\u001b[0m\u001b[0mkwargs\u001b[0m\u001b[0;34m)\u001b[0m\u001b[0;34m\u001b[0m\u001b[0;34m\u001b[0m\u001b[0m\n\u001b[0m\u001b[1;32m    315\u001b[0m     \u001b[0;32mreturn\u001b[0m \u001b[0mwrapper\u001b[0m\u001b[0;34m\u001b[0m\u001b[0;34m\u001b[0m\u001b[0m\n\u001b[1;32m    316\u001b[0m   \u001b[0;32mreturn\u001b[0m \u001b[0mwrapper\u001b[0m\u001b[0;34m\u001b[0m\u001b[0;34m\u001b[0m\u001b[0m\n",
            "\u001b[0;32m/usr/local/lib/python3.9/dist-packages/jax/_src/interpreters/pxla.py\u001b[0m in \u001b[0;36m__call__\u001b[0;34m(self, *args)\u001b[0m\n\u001b[1;32m   2106\u001b[0m       \u001b[0mout_bufs\u001b[0m \u001b[0;34m=\u001b[0m \u001b[0mself\u001b[0m\u001b[0;34m.\u001b[0m\u001b[0m_call_with_tokens\u001b[0m\u001b[0;34m(\u001b[0m\u001b[0minput_bufs\u001b[0m\u001b[0;34m)\u001b[0m\u001b[0;34m\u001b[0m\u001b[0;34m\u001b[0m\u001b[0m\n\u001b[1;32m   2107\u001b[0m     \u001b[0;32melse\u001b[0m\u001b[0;34m:\u001b[0m\u001b[0;34m\u001b[0m\u001b[0;34m\u001b[0m\u001b[0m\n\u001b[0;32m-> 2108\u001b[0;31m       out_bufs = self.xla_executable.execute_sharded_on_local_devices(\n\u001b[0m\u001b[1;32m   2109\u001b[0m           input_bufs)\n\u001b[1;32m   2110\u001b[0m     \u001b[0;32mif\u001b[0m \u001b[0mdispatch\u001b[0m\u001b[0;34m.\u001b[0m\u001b[0mneeds_check_special\u001b[0m\u001b[0;34m(\u001b[0m\u001b[0;34m)\u001b[0m\u001b[0;34m:\u001b[0m\u001b[0;34m\u001b[0m\u001b[0;34m\u001b[0m\u001b[0m\n",
            "\u001b[0;31mKeyboardInterrupt\u001b[0m: "
          ]
        }
      ]
    },
    {
      "cell_type": "markdown",
      "source": [
        "## 6.2 Test-Set Evaluation"
      ],
      "metadata": {
        "id": "ZDTTukSCXMJE"
      }
    },
    {
      "cell_type": "code",
      "source": [
        "# lofi_50_hparams = {\n",
        "# }"
      ],
      "metadata": {
        "id": "6DFmLVkOXWvn"
      },
      "execution_count": 108,
      "outputs": []
    },
    {
      "cell_type": "code",
      "source": [
        "lofi_50_hparams = hpt.get_best_params(lofi_50_optimizer, method='lofi')\n",
        "lofi_50_estimator, _ = hpt.build_estimator(model_dict['flat_params'], model_dict['apply_fn'],\n",
        "                                           lofi_50_hparams, model_dict['emission_mean_function'],\n",
        "                                           model_dict['emission_cov_function'], \n",
        "                                           method='lofi', lofi_params=lofi_50_params)"
      ],
      "metadata": {
        "id": "qvuvsukSXdiT"
      },
      "execution_count": 109,
      "outputs": []
    },
    {
      "cell_type": "code",
      "source": [
        "lofi_50_hparams"
      ],
      "metadata": {
        "id": "u0upYb7LXk2n",
        "outputId": "490a476b-6bec-4f65-d746-0ce604fc3d7b",
        "colab": {
          "base_uri": "https://localhost:8080/"
        }
      },
      "execution_count": 110,
      "outputs": [
        {
          "output_type": "execute_result",
          "data": {
            "text/plain": [
              "{'initial_covariance': 0.014917355424284394,\n",
              " 'dynamics_weights': 1.0,\n",
              " 'dynamics_covariance': 2.085722038177336e-19,\n",
              " 'dynamics_covariance_inflation_factor': 4.785838684065285e-08}"
            ]
          },
          "metadata": {},
          "execution_count": 110
        }
      ]
    },
    {
      "cell_type": "code",
      "source": [
        "lofi_50_res = evaluate_model(lofi_50_estimator)"
      ],
      "metadata": {
        "id": "BdksCwzLXmXz",
        "outputId": "4f66b977-4ec5-48bd-b67b-60b96d5254bc",
        "colab": {
          "base_uri": "https://localhost:8080/",
          "height": 346
        }
      },
      "execution_count": 111,
      "outputs": [
        {
          "output_type": "stream",
          "name": "stderr",
          "text": [
            "  0%|          | 0/5 [00:36<?, ?it/s]\n"
          ]
        },
        {
          "output_type": "error",
          "ename": "KeyboardInterrupt",
          "evalue": "ignored",
          "traceback": [
            "\u001b[0;31m---------------------------------------------------------------------------\u001b[0m",
            "\u001b[0;31mKeyboardInterrupt\u001b[0m                         Traceback (most recent call last)",
            "\u001b[0;32m<ipython-input-111-10c5390b9069>\u001b[0m in \u001b[0;36m<module>\u001b[0;34m\u001b[0m\n\u001b[0;32m----> 1\u001b[0;31m \u001b[0mlofi_50_res\u001b[0m \u001b[0;34m=\u001b[0m \u001b[0mevaluate_model\u001b[0m\u001b[0;34m(\u001b[0m\u001b[0mlofi_50_estimator\u001b[0m\u001b[0;34m)\u001b[0m\u001b[0;34m\u001b[0m\u001b[0;34m\u001b[0m\u001b[0m\n\u001b[0m",
            "\u001b[0;32m<ipython-input-53-db4ad4639f57>\u001b[0m in \u001b[0;36mevaluate_model\u001b[0;34m(estimator, n_iter, bel)\u001b[0m\n\u001b[1;32m     17\u001b[0m         }\n\u001b[1;32m     18\u001b[0m \u001b[0;34m\u001b[0m\u001b[0m\n\u001b[0;32m---> 19\u001b[0;31m         _, accs = estimator.scan_dataloader(\n\u001b[0m\u001b[1;32m     20\u001b[0m             \u001b[0mtrain_loader\u001b[0m\u001b[0;34m,\u001b[0m\u001b[0;34m\u001b[0m\u001b[0;34m\u001b[0m\u001b[0m\n\u001b[1;32m     21\u001b[0m             \u001b[0mcallback\u001b[0m\u001b[0;34m=\u001b[0m\u001b[0mtest_acc_callback\u001b[0m\u001b[0;34m,\u001b[0m\u001b[0;34m\u001b[0m\u001b[0;34m\u001b[0m\u001b[0m\n",
            "\u001b[0;32m/usr/local/lib/python3.9/dist-packages/rebayes/base.py\u001b[0m in \u001b[0;36mscan_dataloader\u001b[0;34m(self, data_loader, callback, bel, callback_at_end, progress_bar, **kwargs)\u001b[0m\n\u001b[1;32m    188\u001b[0m             \u001b[0mXtr\u001b[0m\u001b[0;34m,\u001b[0m \u001b[0mYtr\u001b[0m \u001b[0;34m=\u001b[0m \u001b[0mbatch\u001b[0m\u001b[0;34m[\u001b[0m\u001b[0;36m0\u001b[0m\u001b[0;34m]\u001b[0m\u001b[0;34m,\u001b[0m \u001b[0mbatch\u001b[0m\u001b[0;34m[\u001b[0m\u001b[0;36m1\u001b[0m\u001b[0;34m]\u001b[0m\u001b[0;34m\u001b[0m\u001b[0;34m\u001b[0m\u001b[0m\n\u001b[1;32m    189\u001b[0m             \u001b[0;32mif\u001b[0m \u001b[0mcallback_at_end\u001b[0m\u001b[0;34m:\u001b[0m\u001b[0;34m\u001b[0m\u001b[0;34m\u001b[0m\u001b[0m\n\u001b[0;32m--> 190\u001b[0;31m                 \u001b[0mbel\u001b[0m \u001b[0;34m=\u001b[0m \u001b[0mself\u001b[0m\u001b[0;34m.\u001b[0m\u001b[0mupdate_state_batch\u001b[0m\u001b[0;34m(\u001b[0m\u001b[0mbel\u001b[0m\u001b[0;34m,\u001b[0m \u001b[0mXtr\u001b[0m\u001b[0;34m,\u001b[0m \u001b[0mYtr\u001b[0m\u001b[0;34m,\u001b[0m \u001b[0mprogress_bar\u001b[0m\u001b[0;34m)\u001b[0m\u001b[0;34m\u001b[0m\u001b[0;34m\u001b[0m\u001b[0m\n\u001b[0m\u001b[1;32m    191\u001b[0m                 \u001b[0;32mif\u001b[0m \u001b[0mcallback\u001b[0m \u001b[0;32mis\u001b[0m \u001b[0;32mNone\u001b[0m\u001b[0;34m:\u001b[0m\u001b[0;34m\u001b[0m\u001b[0;34m\u001b[0m\u001b[0m\n\u001b[1;32m    192\u001b[0m                     \u001b[0mout\u001b[0m \u001b[0;34m=\u001b[0m \u001b[0;32mNone\u001b[0m\u001b[0;34m\u001b[0m\u001b[0;34m\u001b[0m\u001b[0m\n",
            "\u001b[0;32m/usr/local/lib/python3.9/dist-packages/chex/_src/dataclass.py\u001b[0m in \u001b[0;36m_dataclass_unflatten\u001b[0;34m(dcls, keys, values)\u001b[0m\n\u001b[1;32m    229\u001b[0m \u001b[0;34m\u001b[0m\u001b[0m\n\u001b[1;32m    230\u001b[0m \u001b[0;34m\u001b[0m\u001b[0m\n\u001b[0;32m--> 231\u001b[0;31m \u001b[0;32mdef\u001b[0m \u001b[0m_dataclass_unflatten\u001b[0m\u001b[0;34m(\u001b[0m\u001b[0mdcls\u001b[0m\u001b[0;34m,\u001b[0m \u001b[0mkeys\u001b[0m\u001b[0;34m,\u001b[0m \u001b[0mvalues\u001b[0m\u001b[0;34m)\u001b[0m\u001b[0;34m:\u001b[0m\u001b[0;34m\u001b[0m\u001b[0;34m\u001b[0m\u001b[0m\n\u001b[0m\u001b[1;32m    232\u001b[0m   \u001b[0mdcls_object\u001b[0m \u001b[0;34m=\u001b[0m \u001b[0mdcls\u001b[0m\u001b[0;34m.\u001b[0m\u001b[0m__new__\u001b[0m\u001b[0;34m(\u001b[0m\u001b[0mdcls\u001b[0m\u001b[0;34m)\u001b[0m\u001b[0;34m\u001b[0m\u001b[0;34m\u001b[0m\u001b[0m\n\u001b[1;32m    233\u001b[0m   \u001b[0mattribute_dict\u001b[0m \u001b[0;34m=\u001b[0m \u001b[0mdict\u001b[0m\u001b[0;34m(\u001b[0m\u001b[0mzip\u001b[0m\u001b[0;34m(\u001b[0m\u001b[0mkeys\u001b[0m\u001b[0;34m,\u001b[0m \u001b[0mvalues\u001b[0m\u001b[0;34m)\u001b[0m\u001b[0;34m)\u001b[0m\u001b[0;34m\u001b[0m\u001b[0;34m\u001b[0m\u001b[0m\n",
            "\u001b[0;31mKeyboardInterrupt\u001b[0m: "
          ]
        }
      ]
    },
    {
      "cell_type": "code",
      "source": [
        "filename = f'lofi_50_result.pkl'\n",
        "with open(Path(output_path, filename), \"wb\") as f:\n",
        "    pickle.dump(lofi_50_res, f)"
      ],
      "metadata": {
        "id": "MAHH8dBJXo2U"
      },
      "execution_count": null,
      "outputs": []
    },
    {
      "cell_type": "markdown",
      "metadata": {
        "id": "4qYWz2xm_DR7"
      },
      "source": [
        "# 7. Online Gradient Descent"
      ]
    },
    {
      "cell_type": "markdown",
      "metadata": {
        "id": "dKRR43QY_DR7"
      },
      "source": [
        "## 7.1 Hyperparam Tuning"
      ]
    },
    {
      "cell_type": "code",
      "execution_count": 88,
      "metadata": {
        "id": "Q_99zP-H_DR7"
      },
      "outputs": [],
      "source": [
        "rsgd_pbounds = {\n",
        "    'log_lr': (-8.0, 0.0),\n",
        "}"
      ]
    },
    {
      "cell_type": "code",
      "execution_count": 89,
      "metadata": {
        "id": "dTWlsOG3_DR7"
      },
      "outputs": [],
      "source": [
        "ogd_params = {\n",
        "    'loss_fn': optax.softmax_cross_entropy,\n",
        "    'buffer_size': 1,\n",
        "    'dim_output': 10\n",
        "}"
      ]
    },
    {
      "cell_type": "code",
      "execution_count": 90,
      "metadata": {
        "id": "ljeI_wdO_DR7"
      },
      "outputs": [],
      "source": [
        "ogd_optimizer, apply_fn, n_feats = hpt.create_optimizer(\n",
        "    model_dict[\"model\"], rsgd_pbounds, 314, warmup_train, warmup_val, \n",
        "    model_dict[\"emission_mean_function\"], model_dict[\"emission_cov_function\"],\n",
        "    ll_calback, 'sgd', **ogd_params\n",
        ")"
      ]
    },
    {
      "cell_type": "code",
      "execution_count": 91,
      "metadata": {
        "id": "Dd2mJCCq_DR7",
        "outputId": "377c7675-bdf2-4f3a-893a-5030b861cd54",
        "colab": {
          "base_uri": "https://localhost:8080/"
        }
      },
      "outputs": [
        {
          "output_type": "stream",
          "name": "stdout",
          "text": [
            "|   iter    |  target   |  log_lr   |\n",
            "-------------------------------------\n",
            "| \u001b[0m1        \u001b[0m | \u001b[0m-1e+08   \u001b[0m | \u001b[0m-0.665   \u001b[0m |\n",
            "| \u001b[95m2        \u001b[0m | \u001b[95m-1.579   \u001b[0m | \u001b[95m-3.292   \u001b[0m |\n",
            "| \u001b[0m3        \u001b[0m | \u001b[0m-1.656   \u001b[0m | \u001b[0m-5.88    \u001b[0m |\n",
            "| \u001b[0m4        \u001b[0m | \u001b[0m-2.332   \u001b[0m | \u001b[0m-1.734   \u001b[0m |\n",
            "| \u001b[0m5        \u001b[0m | \u001b[0m-1e+08   \u001b[0m | \u001b[0m-0.656   \u001b[0m |\n",
            "| \u001b[0m6        \u001b[0m | \u001b[0m-1e+08   \u001b[0m | \u001b[0m-1.381   \u001b[0m |\n",
            "| \u001b[0m7        \u001b[0m | \u001b[0m-2.327   \u001b[0m | \u001b[0m-2.176   \u001b[0m |\n",
            "| \u001b[0m8        \u001b[0m | \u001b[0m-1.688   \u001b[0m | \u001b[0m-5.916   \u001b[0m |\n",
            "| \u001b[0m9        \u001b[0m | \u001b[0m-1e+08   \u001b[0m | \u001b[0m-0.7059  \u001b[0m |\n",
            "| \u001b[0m10       \u001b[0m | \u001b[0m-1.68    \u001b[0m | \u001b[0m-5.914   \u001b[0m |\n",
            "| \u001b[0m11       \u001b[0m | \u001b[0m-2.307   \u001b[0m | \u001b[0m-1.869   \u001b[0m |\n",
            "| \u001b[0m12       \u001b[0m | \u001b[0m-1.681   \u001b[0m | \u001b[0m-5.908   \u001b[0m |\n",
            "| \u001b[0m13       \u001b[0m | \u001b[0m-2.14    \u001b[0m | \u001b[0m-7.022   \u001b[0m |\n",
            "| \u001b[95m14       \u001b[0m | \u001b[95m-1.359   \u001b[0m | \u001b[95m-4.912   \u001b[0m |\n",
            "| \u001b[0m15       \u001b[0m | \u001b[0m-1e+08   \u001b[0m | \u001b[0m-1.279   \u001b[0m |\n",
            "| \u001b[0m16       \u001b[0m | \u001b[0m-1.569   \u001b[0m | \u001b[0m-5.775   \u001b[0m |\n",
            "| \u001b[0m17       \u001b[0m | \u001b[0m-2.191   \u001b[0m | \u001b[0m-7.441   \u001b[0m |\n",
            "| \u001b[0m18       \u001b[0m | \u001b[0m-1.659   \u001b[0m | \u001b[0m-2.935   \u001b[0m |\n",
            "| \u001b[0m19       \u001b[0m | \u001b[0m-1.475   \u001b[0m | \u001b[0m-3.322   \u001b[0m |\n",
            "| \u001b[0m20       \u001b[0m | \u001b[0m-1.567   \u001b[0m | \u001b[0m-3.35    \u001b[0m |\n",
            "| \u001b[0m21       \u001b[0m | \u001b[0m-1.396   \u001b[0m | \u001b[0m-4.217   \u001b[0m |\n",
            "| \u001b[0m22       \u001b[0m | \u001b[0m-2.236   \u001b[0m | \u001b[0m-8.0     \u001b[0m |\n",
            "| \u001b[0m23       \u001b[0m | \u001b[0m-2.039   \u001b[0m | \u001b[0m-6.528   \u001b[0m |\n",
            "| \u001b[0m24       \u001b[0m | \u001b[0m-1.377   \u001b[0m | \u001b[0m-5.296   \u001b[0m |\n",
            "| \u001b[0m25       \u001b[0m | \u001b[0m-1.42    \u001b[0m | \u001b[0m-3.845   \u001b[0m |\n",
            "| \u001b[0m26       \u001b[0m | \u001b[0m-1.699   \u001b[0m | \u001b[0m-2.545   \u001b[0m |\n",
            "| \u001b[0m27       \u001b[0m | \u001b[0m-1.387   \u001b[0m | \u001b[0m-4.565   \u001b[0m |\n",
            "| \u001b[0m28       \u001b[0m | \u001b[0m-1e+08   \u001b[0m | \u001b[0m0.0      \u001b[0m |\n",
            "| \u001b[0m29       \u001b[0m | \u001b[0m-2.325   \u001b[0m | \u001b[0m-1.869   \u001b[0m |\n",
            "| \u001b[0m30       \u001b[0m | \u001b[0m-2.218   \u001b[0m | \u001b[0m-7.731   \u001b[0m |\n",
            "| \u001b[0m31       \u001b[0m | \u001b[0m-1.939   \u001b[0m | \u001b[0m-6.273   \u001b[0m |\n",
            "| \u001b[0m32       \u001b[0m | \u001b[0m-2.099   \u001b[0m | \u001b[0m-6.783   \u001b[0m |\n",
            "| \u001b[0m33       \u001b[0m | \u001b[0m-1.431   \u001b[0m | \u001b[0m-5.506   \u001b[0m |\n",
            "| \u001b[0m34       \u001b[0m | \u001b[0m-1.423   \u001b[0m | \u001b[0m-3.638   \u001b[0m |\n",
            "| \u001b[0m35       \u001b[0m | \u001b[0m-2.169   \u001b[0m | \u001b[0m-7.235   \u001b[0m |\n",
            "| \u001b[0m36       \u001b[0m | \u001b[0m-2.32    \u001b[0m | \u001b[0m-2.359   \u001b[0m |\n",
            "| \u001b[95m37       \u001b[0m | \u001b[95m-1.357   \u001b[0m | \u001b[95m-5.096   \u001b[0m |\n",
            "| \u001b[0m38       \u001b[0m | \u001b[0m-1.813   \u001b[0m | \u001b[0m-2.746   \u001b[0m |\n",
            "| \u001b[0m39       \u001b[0m | \u001b[0m-1.426   \u001b[0m | \u001b[0m-4.04    \u001b[0m |\n",
            "| \u001b[95m40       \u001b[0m | \u001b[95m-1.354   \u001b[0m | \u001b[95m-4.73    \u001b[0m |\n",
            "| \u001b[95m41       \u001b[0m | \u001b[95m-1.342   \u001b[0m | \u001b[95m-4.39    \u001b[0m |\n",
            "| \u001b[0m42       \u001b[0m | \u001b[0m-2.228   \u001b[0m | \u001b[0m-7.875   \u001b[0m |\n",
            "| \u001b[0m43       \u001b[0m | \u001b[0m-1.85    \u001b[0m | \u001b[0m-6.123   \u001b[0m |\n",
            "| \u001b[0m44       \u001b[0m | \u001b[0m-1.724   \u001b[0m | \u001b[0m-3.089   \u001b[0m |\n",
            "| \u001b[0m45       \u001b[0m | \u001b[0m-2.204   \u001b[0m | \u001b[0m-7.582   \u001b[0m |\n",
            "=====================================\n",
            "CPU times: user 2min 34s, sys: 54.2 s, total: 3min 29s\n",
            "Wall time: 59.6 s\n"
          ]
        }
      ],
      "source": [
        "%%time\n",
        "ogd_optimizer.maximize(\n",
        "    init_points=20,\n",
        "    n_iter=25,\n",
        ")"
      ]
    },
    {
      "cell_type": "markdown",
      "metadata": {
        "id": "PRHsz-6L_DR7"
      },
      "source": [
        "## 7.2 Test-Set Evaluation"
      ]
    },
    {
      "cell_type": "code",
      "execution_count": 92,
      "metadata": {
        "id": "1YrwwhH0_DR7"
      },
      "outputs": [],
      "source": [
        "# ogd_hparams = {\n",
        "#     'learning_rate': 0.00854625211430859\n",
        "# }"
      ]
    },
    {
      "cell_type": "code",
      "execution_count": 93,
      "metadata": {
        "id": "NrqkV31Q_DR7"
      },
      "outputs": [],
      "source": [
        "ogd_hparams = hpt.get_best_params(ogd_optimizer, method='sgd')\n",
        "ogd_estimator, bel = hpt.build_estimator(model_dict['flat_params'], model_dict['apply_fn'],\n",
        "                                       ogd_hparams, model_dict['emission_mean_function'],\n",
        "                                       model_dict['emission_cov_function'], \n",
        "                                       method='sgd', **ogd_params)"
      ]
    },
    {
      "cell_type": "code",
      "execution_count": 94,
      "metadata": {
        "id": "nLzdFC5P_DR7",
        "outputId": "b2e39ddf-225d-4571-edb9-175a5ac3f1ac",
        "colab": {
          "base_uri": "https://localhost:8080/"
        }
      },
      "outputs": [
        {
          "output_type": "execute_result",
          "data": {
            "text/plain": [
              "{'learning_rate': 0.012400885831038315}"
            ]
          },
          "metadata": {},
          "execution_count": 94
        }
      ],
      "source": [
        "ogd_hparams"
      ]
    },
    {
      "cell_type": "code",
      "execution_count": 95,
      "metadata": {
        "id": "vmmgrcir_DR7",
        "outputId": "d1dd67e2-8d54-4460-b4b4-fcea1d3c9cea",
        "colab": {
          "base_uri": "https://localhost:8080/"
        }
      },
      "outputs": [
        {
          "output_type": "stream",
          "name": "stderr",
          "text": [
            "100%|██████████| 5/5 [00:32<00:00,  6.54s/it]\n"
          ]
        }
      ],
      "source": [
        "ogd_res = evaluate_model(ogd_estimator, bel=bel)"
      ]
    },
    {
      "cell_type": "code",
      "source": [
        "filename = f'ogd_result.pkl'\n",
        "with open(Path(output_path, filename), \"wb\") as f:\n",
        "    pickle.dump(ogd_res, f)"
      ],
      "metadata": {
        "id": "89SyeGf0Pbkm"
      },
      "execution_count": 96,
      "outputs": []
    },
    {
      "cell_type": "markdown",
      "metadata": {
        "id": "yma75twB_DR7"
      },
      "source": [
        "# 8. SGD-RB (Rank 20)"
      ]
    },
    {
      "cell_type": "markdown",
      "metadata": {
        "id": "xV_tfuyv_DR7"
      },
      "source": [
        "## 8.1 Hyperparam Tuning"
      ]
    },
    {
      "cell_type": "code",
      "execution_count": 97,
      "metadata": {
        "id": "i1H0V2B1_DR7"
      },
      "outputs": [],
      "source": [
        "sgd_rb_params = {\n",
        "    'loss_fn': optax.softmax_cross_entropy,\n",
        "    'buffer_size': 20,\n",
        "    'dim_output': 10\n",
        "}"
      ]
    },
    {
      "cell_type": "code",
      "execution_count": 98,
      "metadata": {
        "id": "lyzRIgHE_DR7"
      },
      "outputs": [],
      "source": [
        "sgd_rb_optimizer, apply_fn, n_feats = hpt.create_optimizer(\n",
        "    model_dict[\"model\"], rsgd_pbounds, 314, warmup_train, warmup_val, \n",
        "    model_dict[\"emission_mean_function\"], model_dict[\"emission_cov_function\"],\n",
        "    ll_calback, 'sgd', **sgd_rb_params\n",
        ")"
      ]
    },
    {
      "cell_type": "code",
      "execution_count": 99,
      "metadata": {
        "id": "BMf103i1_DR7",
        "outputId": "c8f2dae7-312f-4151-92f8-9df3534d265b",
        "colab": {
          "base_uri": "https://localhost:8080/"
        }
      },
      "outputs": [
        {
          "output_type": "stream",
          "name": "stdout",
          "text": [
            "|   iter    |  target   |  log_lr   |\n",
            "-------------------------------------\n",
            "| \u001b[0m1        \u001b[0m | \u001b[0m-1e+08   \u001b[0m | \u001b[0m-0.665   \u001b[0m |\n",
            "| \u001b[95m2        \u001b[0m | \u001b[95m-2.443   \u001b[0m | \u001b[95m-3.292   \u001b[0m |\n",
            "| \u001b[95m3        \u001b[0m | \u001b[95m-0.9791  \u001b[0m | \u001b[95m-5.88    \u001b[0m |\n",
            "| \u001b[0m4        \u001b[0m | \u001b[0m-1e+08   \u001b[0m | \u001b[0m-1.734   \u001b[0m |\n",
            "| \u001b[0m5        \u001b[0m | \u001b[0m-1e+08   \u001b[0m | \u001b[0m-0.656   \u001b[0m |\n",
            "| \u001b[0m6        \u001b[0m | \u001b[0m-1e+08   \u001b[0m | \u001b[0m-1.381   \u001b[0m |\n",
            "| \u001b[0m7        \u001b[0m | \u001b[0m-1e+08   \u001b[0m | \u001b[0m-2.176   \u001b[0m |\n",
            "| \u001b[0m8        \u001b[0m | \u001b[0m-0.9883  \u001b[0m | \u001b[0m-5.916   \u001b[0m |\n",
            "| \u001b[0m9        \u001b[0m | \u001b[0m-1e+08   \u001b[0m | \u001b[0m-0.7059  \u001b[0m |\n",
            "| \u001b[0m10       \u001b[0m | \u001b[0m-1.006   \u001b[0m | \u001b[0m-5.914   \u001b[0m |\n",
            "| \u001b[0m11       \u001b[0m | \u001b[0m-1e+08   \u001b[0m | \u001b[0m-1.869   \u001b[0m |\n",
            "| \u001b[0m12       \u001b[0m | \u001b[0m-1.064   \u001b[0m | \u001b[0m-5.908   \u001b[0m |\n",
            "| \u001b[0m13       \u001b[0m | \u001b[0m-1.076   \u001b[0m | \u001b[0m-7.022   \u001b[0m |\n",
            "| \u001b[0m14       \u001b[0m | \u001b[0m-1.052   \u001b[0m | \u001b[0m-4.912   \u001b[0m |\n",
            "| \u001b[0m15       \u001b[0m | \u001b[0m-1e+08   \u001b[0m | \u001b[0m-1.279   \u001b[0m |\n",
            "| \u001b[0m16       \u001b[0m | \u001b[0m-1.041   \u001b[0m | \u001b[0m-5.775   \u001b[0m |\n",
            "| \u001b[0m17       \u001b[0m | \u001b[0m-1.104   \u001b[0m | \u001b[0m-7.441   \u001b[0m |\n",
            "| \u001b[0m18       \u001b[0m | \u001b[0m-1e+08   \u001b[0m | \u001b[0m-2.935   \u001b[0m |\n",
            "| \u001b[0m19       \u001b[0m | \u001b[0m-1e+08   \u001b[0m | \u001b[0m-3.322   \u001b[0m |\n",
            "| \u001b[0m20       \u001b[0m | \u001b[0m-1e+08   \u001b[0m | \u001b[0m-3.35    \u001b[0m |\n",
            "| \u001b[0m21       \u001b[0m | \u001b[0m-1e+08   \u001b[0m | \u001b[0m-3.245   \u001b[0m |\n",
            "| \u001b[0m22       \u001b[0m | \u001b[0m-1.044   \u001b[0m | \u001b[0m-5.821   \u001b[0m |\n",
            "| \u001b[0m23       \u001b[0m | \u001b[0m-1.06    \u001b[0m | \u001b[0m-7.067   \u001b[0m |\n",
            "| \u001b[0m24       \u001b[0m | \u001b[0m-1.088   \u001b[0m | \u001b[0m-7.392   \u001b[0m |\n",
            "| \u001b[0m25       \u001b[0m | \u001b[0m-1.195   \u001b[0m | \u001b[0m-4.962   \u001b[0m |\n",
            "| \u001b[0m26       \u001b[0m | \u001b[0m-0.9875  \u001b[0m | \u001b[0m-5.717   \u001b[0m |\n",
            "| \u001b[0m27       \u001b[0m | \u001b[0m-1e+08   \u001b[0m | \u001b[0m-3.291   \u001b[0m |\n",
            "| \u001b[0m28       \u001b[0m | \u001b[0m-1.065   \u001b[0m | \u001b[0m-7.067   \u001b[0m |\n",
            "| \u001b[0m29       \u001b[0m | \u001b[0m-1e+08   \u001b[0m | \u001b[0m-3.292   \u001b[0m |\n",
            "| \u001b[0m30       \u001b[0m | \u001b[0m-1.109   \u001b[0m | \u001b[0m-5.821   \u001b[0m |\n",
            "| \u001b[0m31       \u001b[0m | \u001b[0m-1.126   \u001b[0m | \u001b[0m-7.393   \u001b[0m |\n",
            "| \u001b[0m32       \u001b[0m | \u001b[0m-0.9949  \u001b[0m | \u001b[0m-5.914   \u001b[0m |\n",
            "| \u001b[0m33       \u001b[0m | \u001b[0m-1.072   \u001b[0m | \u001b[0m-7.441   \u001b[0m |\n",
            "| \u001b[0m34       \u001b[0m | \u001b[0m-1.149   \u001b[0m | \u001b[0m-4.963   \u001b[0m |\n",
            "| \u001b[0m35       \u001b[0m | \u001b[0m-1.074   \u001b[0m | \u001b[0m-7.021   \u001b[0m |\n",
            "| \u001b[0m36       \u001b[0m | \u001b[0m-1.168   \u001b[0m | \u001b[0m-4.912   \u001b[0m |\n",
            "| \u001b[0m37       \u001b[0m | \u001b[0m-0.9952  \u001b[0m | \u001b[0m-5.917   \u001b[0m |\n",
            "| \u001b[0m38       \u001b[0m | \u001b[0m-1.05    \u001b[0m | \u001b[0m-5.717   \u001b[0m |\n",
            "| \u001b[0m39       \u001b[0m | \u001b[0m-0.999   \u001b[0m | \u001b[0m-5.879   \u001b[0m |\n",
            "| \u001b[0m40       \u001b[0m | \u001b[0m-0.9915  \u001b[0m | \u001b[0m-5.774   \u001b[0m |\n",
            "| \u001b[0m41       \u001b[0m | \u001b[0m-0.98    \u001b[0m | \u001b[0m-5.907   \u001b[0m |\n",
            "| \u001b[0m42       \u001b[0m | \u001b[0m-1.03    \u001b[0m | \u001b[0m-5.917   \u001b[0m |\n",
            "| \u001b[0m43       \u001b[0m | \u001b[0m-1.05    \u001b[0m | \u001b[0m-5.916   \u001b[0m |\n",
            "| \u001b[95m44       \u001b[0m | \u001b[95m-0.965   \u001b[0m | \u001b[95m-5.716   \u001b[0m |\n",
            "| \u001b[0m45       \u001b[0m | \u001b[0m-0.9985  \u001b[0m | \u001b[0m-5.915   \u001b[0m |\n",
            "=====================================\n",
            "CPU times: user 3min 10s, sys: 49.5 s, total: 4min\n",
            "Wall time: 1min 34s\n"
          ]
        }
      ],
      "source": [
        "%%time\n",
        "sgd_rb_optimizer.maximize(\n",
        "    init_points=20,\n",
        "    n_iter=25,\n",
        ")"
      ]
    },
    {
      "cell_type": "markdown",
      "metadata": {
        "id": "loczC7aP_DR7"
      },
      "source": [
        "## 8.2 Test-Set Evaluation"
      ]
    },
    {
      "cell_type": "code",
      "execution_count": 100,
      "metadata": {
        "id": "xKPrnfKH_DR7"
      },
      "outputs": [],
      "source": [
        "# sgd_rb_hparams = {\n",
        "#     'learning_rate': 0.0010013570569656284\n",
        "# }"
      ]
    },
    {
      "cell_type": "code",
      "execution_count": 101,
      "metadata": {
        "id": "dxAAKET6_DR7"
      },
      "outputs": [],
      "source": [
        "sgd_rb_hparams = hpt.get_best_params(sgd_rb_optimizer, method='sgd')\n",
        "sgd_rb_estimator, bel = hpt.build_estimator(model_dict['flat_params'], model_dict['apply_fn'],\n",
        "                                       ogd_hparams, model_dict['emission_mean_function'],\n",
        "                                       model_dict['emission_cov_function'], \n",
        "                                       method='sgd', **sgd_rb_params)"
      ]
    },
    {
      "cell_type": "code",
      "execution_count": 102,
      "metadata": {
        "id": "iGBXvbc-_DR8",
        "outputId": "ed127165-b584-4136-f794-04f768c086af",
        "colab": {
          "base_uri": "https://localhost:8080/"
        }
      },
      "outputs": [
        {
          "output_type": "execute_result",
          "data": {
            "text/plain": [
              "{'learning_rate': 0.00329132112556407}"
            ]
          },
          "metadata": {},
          "execution_count": 102
        }
      ],
      "source": [
        "sgd_rb_hparams"
      ]
    },
    {
      "cell_type": "code",
      "execution_count": 103,
      "metadata": {
        "id": "1vI0D9WY_DR8",
        "outputId": "20d4fd38-5caf-4ab5-b970-74851cb44fc6",
        "colab": {
          "base_uri": "https://localhost:8080/"
        }
      },
      "outputs": [
        {
          "output_type": "stream",
          "name": "stderr",
          "text": [
            "100%|██████████| 5/5 [00:38<00:00,  7.75s/it]\n"
          ]
        }
      ],
      "source": [
        "sgd_rb_res = evaluate_model(sgd_rb_estimator, bel=bel)"
      ]
    },
    {
      "cell_type": "code",
      "source": [
        "filename = f'sgd_rb_result.pkl'\n",
        "with open(Path(output_path, filename), \"wb\") as f:\n",
        "    pickle.dump(sgd_rb_res, f)"
      ],
      "metadata": {
        "id": "8MQUCJvjPgQE"
      },
      "execution_count": 104,
      "outputs": []
    },
    {
      "cell_type": "markdown",
      "metadata": {
        "id": "QQ7TPyDs_DR8"
      },
      "source": [
        "# 9. Model Comparison"
      ]
    },
    {
      "cell_type": "code",
      "execution_count": 112,
      "metadata": {
        "id": "ZdpQs26l_DR8"
      },
      "outputs": [],
      "source": [
        "results = {\n",
        "    'sgd-online': ogd_res,\n",
        "    'sgd-rb': sgd_rb_res,\n",
        "    'fdekf': fdekf_res,\n",
        "    'vdekf': vdekf_res,\n",
        "    'lofi-1': lofi_1_res,\n",
        "    'lofi-5': lofi_5_res,\n",
        "    'lofi-20': lofi_20_res,\n",
        "}"
      ]
    },
    {
      "cell_type": "code",
      "execution_count": 113,
      "metadata": {
        "id": "Gf3ahnzd_DR8"
      },
      "outputs": [],
      "source": [
        "# boundaries = [i for i in range(600, (600*10)+1, 600)]"
      ]
    },
    {
      "cell_type": "code",
      "execution_count": 114,
      "metadata": {
        "colab": {
          "base_uri": "https://localhost:8080/",
          "height": 295
        },
        "id": "9FRbKA_L_DR8",
        "outputId": "bb934b0e-f194-4a40-bf44-9a4f1499496b"
      },
      "outputs": [
        {
          "output_type": "display_data",
          "data": {
            "text/plain": [
              "<Figure size 432x288 with 1 Axes>"
            ],
            "image/png": "[encoded data removed]"
          },
          "metadata": {
            "needs_background": "light"
          }
        }
      ],
      "source": [
        "fig, ax = plt.subplots()\n",
        "for key, val in results.items():\n",
        "    ax.plot(1.0 - val['current'], label=key, linewidth=0.8)\n",
        "    ax.fill_between(\n",
        "        jnp.arange(val['current'].shape[0]),\n",
        "        1.0 - val['current'] - 0.5*val['current-std'],\n",
        "        1.0 - val['current'] + 0.5*val['current-std'],\n",
        "        alpha=0.3\n",
        "    )\n",
        "# Task boundaries\n",
        "# for b in boundaries:\n",
        "#     ax.axvline(x=b, color='k', linestyle='--', alpha=0.5)\n",
        "ax.set_xlabel('Number of observations')\n",
        "ax.set_ylabel('Test-set average misclassification rate');\n",
        "ax.set_title(f'Current task test-set average misclassification rate')\n",
        "ax.grid(alpha=0.5)\n",
        "ax.legend();"
      ]
    },
    {
      "cell_type": "code",
      "execution_count": 115,
      "metadata": {
        "colab": {
          "base_uri": "https://localhost:8080/",
          "height": 295
        },
        "id": "HjJxX_Jj_DR8",
        "outputId": "8cefe315-760a-4834-f9fb-e4c429a10852"
      },
      "outputs": [
        {
          "output_type": "display_data",
          "data": {
            "text/plain": [
              "<Figure size 432x288 with 1 Axes>"
            ],
            "image/png": "[encoded data removed]"
          },
          "metadata": {
            "needs_background": "light"
          }
        }
      ],
      "source": [
        "fig, ax = plt.subplots()\n",
        "for key, val in results.items():\n",
        "    ax.plot(1.0 - val['overall'], label=key, linewidth=0.8)\n",
        "    ax.fill_between(\n",
        "        jnp.arange(val['overall'].shape[0]),\n",
        "        1.0 - val['overall'] - val['overall-std'],\n",
        "        1.0 - val['overall'] + val['overall-std'],\n",
        "        alpha=0.3\n",
        "    )\n",
        "# Task boundaries\n",
        "# for b in boundaries:\n",
        "#     ax.axvline(x=b, color='k', linestyle='--', alpha=0.5)\n",
        "ax.set_xlabel('Number of observations')\n",
        "ax.set_ylabel('Test-set average misclassification rate');\n",
        "ax.set_title(f'Cumulative tasks test-set average misclassification rate')\n",
        "ax.grid(alpha=0.5)\n",
        "ax.legend();\n",
        "# fig.savefig(f'{output_path}_{name}.pdf', bbox_inches='tight')"
      ]
    },
    {
      "cell_type": "code",
      "execution_count": 116,
      "metadata": {
        "colab": {
          "base_uri": "https://localhost:8080/",
          "height": 295
        },
        "id": "KSJVmcAz_DR8",
        "outputId": "7019b93d-6677-47a5-e720-64abaad37c49"
      },
      "outputs": [
        {
          "output_type": "display_data",
          "data": {
            "text/plain": [
              "<Figure size 432x288 with 1 Axes>"
            ],
            "image/png": "[encoded data removed]"
          },
          "metadata": {
            "needs_background": "light"
          }
        }
      ],
      "source": [
        "fig, ax = plt.subplots()\n",
        "for key, val in results.items():\n",
        "    ax.plot(1.0 - val['task1'], label=key, linewidth=0.8)\n",
        "    ax.fill_between(\n",
        "        jnp.arange(val['task1'].shape[0]),\n",
        "        1.0 - val['task1'] - val['task1-std'],\n",
        "        1.0 - val['task1'] + val['task1-std'],\n",
        "        alpha=0.3\n",
        "    )\n",
        "# # Task boundaries\n",
        "# for b in boundaries:\n",
        "#     ax.axvline(x=b, color='k', linestyle='--', alpha=0.5)\n",
        "ax.set_xlabel('Number of training examples seen')\n",
        "ax.set_ylabel('Test-set average misclassification rate');\n",
        "ax.set_title(f'First task test-set average misclassification rate')\n",
        "ax.grid(alpha=0.5)\n",
        "ax.legend();"
      ]
    },
    {
      "cell_type": "code",
      "source": [],
      "metadata": {
        "id": "Cy2MXkHTD3kZ"
      },
      "execution_count": null,
      "outputs": []
    }
  ],
  "metadata": {
    "kernelspec": {
      "display_name": ".venv",
      "language": "python",
      "name": "python3"
    },
    "language_info": {
      "codemirror_mode": {
        "name": "ipython",
        "version": 3
      },
      "file_extension": ".py",
      "mimetype": "text/x-python",
      "name": "python",
      "nbconvert_exporter": "python",
      "pygments_lexer": "ipython3",
      "version": "3.10.0"
    },
    "orig_nbformat": 4,
    "vscode": {
      "interpreter": {
        "hash": "a63216e3e6a2ce617ef04b00f48ca414857cfc892c8cff43a5943fdd36fca11d"
      }
    },
    "colab": {
      "provenance": [],
      "machine_shape": "hm"
    },
    "accelerator": "GPU",
    "gpuClass": "premium"
  },
  "nbformat": 4,
  "nbformat_minor": 0
}