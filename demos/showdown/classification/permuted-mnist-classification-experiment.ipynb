{
  "cells": [
    {
      "cell_type": "markdown",
      "metadata": {
        "id": "2RLIFglg_DR0"
      },
      "source": [
        "# 0. Imports and Dataset Load"
      ]
    },
    {
      "cell_type": "code",
      "source": [
        "# %pip install dynamax\n",
        "# %pip install git+https://github.com/probml/rebayes.git\n",
        "# %pip install jax-dataloader\n",
        "# %pip install jax-tqdm\n",
        "# %pip install flax\n",
        "# %pip install avalanche-lib\n",
        "# %pip install bayesian-optimization"
      ],
      "metadata": {
        "id": "2jzuvb99_Ffw"
      },
      "execution_count": 2,
      "outputs": []
    },
    {
      "cell_type": "code",
      "execution_count": 3,
      "metadata": {
        "id": "CeIEWYSO_DR1"
      },
      "outputs": [],
      "source": [
        "from functools import partial\n",
        "from pathlib import Path\n",
        "import pickle\n",
        "\n",
        "import jax\n",
        "import jax.numpy as jnp\n",
        "import matplotlib.pyplot as plt\n",
        "from tqdm import trange\n",
        "import jax_dataloader.core as jdl\n",
        "import optax\n",
        "\n",
        "from rebayes.low_rank_filter.lofi import LoFiParams\n",
        "from demos.showdown.classification import (\n",
        "    permuted_mnist as core,\n",
        "    classification_train as benchmark,\n",
        "    hparam_tune_clf as hpt,\n",
        ")"
      ]
    },
    {
      "cell_type": "code",
      "execution_count": 4,
      "metadata": {
        "id": "D3gBSHYM_DR2"
      },
      "outputs": [],
      "source": [
        "data_kwargs = {\n",
        "    'n_tasks': 100,\n",
        "    'ntrain_per_task': 200,\n",
        "    'nval_per_task': 1_000,\n",
        "    'ntest_per_task': 1_000,\n",
        "}\n",
        "\n",
        "dataset = benchmark.load_permuted_mnist_dataset(**data_kwargs, fashion=True)"
      ]
    },
    {
      "cell_type": "code",
      "source": [
        "output_path = Path(Path.cwd(), 'output', 'permuted-mnist', 'experiment')\n",
        "output_path.mkdir(parents=True, exist_ok=True)"
      ],
      "metadata": {
        "id": "zTg72y99DDp7"
      },
      "execution_count": 5,
      "outputs": []
    },
    {
      "cell_type": "code",
      "execution_count": 6,
      "metadata": {
        "id": "yDdWU9MT_DR2"
      },
      "outputs": [],
      "source": [
        "features = [400, 400, 10]\n",
        "model_dict = benchmark.init_model(type='mlp', features=features)"
      ]
    },
    {
      "cell_type": "code",
      "execution_count": 7,
      "metadata": {
        "id": "uY-uHhLU_DR2"
      },
      "outputs": [],
      "source": [
        "(Xtr, Ytr), (Xval, Yval), (Xte, Yte) = dataset.values()"
      ]
    },
    {
      "cell_type": "code",
      "source": [
        "# Measure average cumulative tasks performance over 50 tasks\n",
        "val_after = 50\n",
        "X_warmup_tr = Xtr[:val_after*data_kwargs[\"ntrain_per_task\"]]\n",
        "Y_warmup_tr = Ytr[:val_after*data_kwargs[\"ntrain_per_task\"]]\n",
        "warmup_train = (X_warmup_tr, Y_warmup_tr)\n",
        "\n",
        "X_warmup_val = Xval[:val_after*data_kwargs[\"nval_per_task\"]]\n",
        "Y_warmup_val = Yval[:val_after*data_kwargs[\"nval_per_task\"]]\n",
        "warmup_val = (X_warmup_val, Y_warmup_val)"
      ],
      "metadata": {
        "id": "D2UgG6tLMUxG"
      },
      "execution_count": 8,
      "outputs": []
    },
    {
      "cell_type": "code",
      "execution_count": 9,
      "metadata": {
        "id": "6AsNyNzX_DR2"
      },
      "outputs": [],
      "source": [
        "# # Measure in-task performance after 20 tasks\n",
        "# val_after = 20\n",
        "# X_warmup_tr = Xtr[:val_after*data_kwargs[\"ntrain_per_task\"]]\n",
        "# Y_warmup_tr = Ytr[:val_after*data_kwargs[\"ntrain_per_task\"]]\n",
        "# warmup_train = (X_warmup_tr, Y_warmup_tr)\n",
        "\n",
        "# X_warmup_val = Xval[(val_after-1)*data_kwargs[\"nval_per_task\"]:val_after*data_kwargs[\"nval_per_task\"]]\n",
        "# Y_warmup_val = Yval[(val_after-1)*data_kwargs[\"nval_per_task\"]:val_after*data_kwargs[\"nval_per_task\"]]\n",
        "# warmup_val = (X_warmup_val, Y_warmup_val)"
      ]
    },
    {
      "cell_type": "code",
      "execution_count": 10,
      "metadata": {
        "id": "WCKryQeK_DR2"
      },
      "outputs": [],
      "source": [
        "ll_calback = partial(benchmark.eval_callback, evaluate_fn=benchmark.mnist_evaluate_ll)"
      ]
    },
    {
      "cell_type": "code",
      "source": [
        "# ll_calback = partial(\n",
        "#     benchmark.osa_eval_callback, \n",
        "#     evaluate_fn=lambda y_pred, y: -1 * optax.softmax_cross_entropy(y_pred, y).mean(),\n",
        "# )"
      ],
      "metadata": {
        "id": "716uvnMWMaF3"
      },
      "execution_count": 11,
      "outputs": []
    },
    {
      "cell_type": "markdown",
      "metadata": {
        "id": "AS0triiF_DR3"
      },
      "source": [
        "# 1. FDEKF"
      ]
    },
    {
      "cell_type": "markdown",
      "metadata": {
        "id": "ZKPwX3WJ_DR3"
      },
      "source": [
        "## 1.1 Hyperparam Tuning"
      ]
    },
    {
      "cell_type": "code",
      "execution_count": 11,
      "metadata": {
        "id": "wSfv6fGg_DR3"
      },
      "outputs": [],
      "source": [
        "pbounds={\n",
        "    'log_init_cov': (-10, 1),\n",
        "    'log_dynamics_weights': (-50, 0),\n",
        "    'log_dynamics_cov': (-50, 0),\n",
        "    'log_alpha': (-50, 0),\n",
        "}\n",
        "fdekf_model = 'fdekf'"
      ]
    },
    {
      "cell_type": "code",
      "execution_count": 122,
      "metadata": {
        "id": "mDjGNtG6_DR3"
      },
      "outputs": [],
      "source": [
        "fdekf_optimizer, apply_fn, n_feats = hpt.create_optimizer(\n",
        "    model_dict[\"model\"], pbounds, 314, warmup_train, warmup_val, \n",
        "    model_dict[\"emission_mean_function\"], model_dict[\"emission_cov_function\"],\n",
        "    ll_calback, 'fdekf'\n",
        ")"
      ]
    },
    {
      "cell_type": "code",
      "source": [
        "%%time\n",
        "fdekf_optimizer.maximize(\n",
        "    init_points=50,\n",
        "    n_iter=50,\n",
        ")"
      ],
      "metadata": {
        "colab": {
          "base_uri": "https://localhost:8080/"
        },
        "id": "7apgbFNxrf2s",
        "outputId": "4b0e210b-8ba6-41a5-8434-fcb20d81b44a"
      },
      "execution_count": 123,
      "outputs": [
        {
          "output_type": "stream",
          "name": "stdout",
          "text": [
            "|   iter    |  target   | log_alpha | log_dy... | log_dy... | log_in... |\n",
            "-------------------------------------------------------------------------\n",
            "| \u001b[0m1        \u001b[0m | \u001b[0m-883.2   \u001b[0m | \u001b[0m-4.156   \u001b[0m | \u001b[0m-20.57   \u001b[0m | \u001b[0m-36.75   \u001b[0m | \u001b[0m-1.385   \u001b[0m |\n",
            "| \u001b[95m2        \u001b[0m | \u001b[95m-298.4   \u001b[0m | \u001b[95m-4.1     \u001b[0m | \u001b[95m-8.632   \u001b[0m | \u001b[95m-13.6    \u001b[0m | \u001b[95m-7.135   \u001b[0m |\n",
            "| \u001b[0m3        \u001b[0m | \u001b[0m-791.7   \u001b[0m | \u001b[0m-4.412   \u001b[0m | \u001b[0m-36.96   \u001b[0m | \u001b[0m-11.68   \u001b[0m | \u001b[0m-7.123   \u001b[0m |\n",
            "| \u001b[95m4        \u001b[0m | \u001b[95m-2.28    \u001b[0m | \u001b[95m-43.89   \u001b[0m | \u001b[95m-30.7    \u001b[0m | \u001b[95m-7.996   \u001b[0m | \u001b[95m-6.94    \u001b[0m |\n",
            "| \u001b[95m5        \u001b[0m | \u001b[95m-1.494   \u001b[0m | \u001b[95m-46.5    \u001b[0m | \u001b[95m-18.34   \u001b[0m | \u001b[95m-20.76   \u001b[0m | \u001b[95m-3.606   \u001b[0m |\n",
            "| \u001b[0m6        \u001b[0m | \u001b[0m-2.039   \u001b[0m | \u001b[0m-16.14   \u001b[0m | \u001b[0m-15.64   \u001b[0m | \u001b[0m-28.05   \u001b[0m | \u001b[0m-6.47    \u001b[0m |\n",
            "| \u001b[0m7        \u001b[0m | \u001b[0m-1.957   \u001b[0m | \u001b[0m-21.47   \u001b[0m | \u001b[0m-26.01   \u001b[0m | \u001b[0m-6.946   \u001b[0m | \u001b[0m-0.8171  \u001b[0m |\n",
            "| \u001b[0m8        \u001b[0m | \u001b[0m-2.179   \u001b[0m | \u001b[0m-44.71   \u001b[0m | \u001b[0m-46.98   \u001b[0m | \u001b[0m-20.16   \u001b[0m | \u001b[0m-1.284   \u001b[0m |\n",
            "| \u001b[0m9        \u001b[0m | \u001b[0m-1.84    \u001b[0m | \u001b[0m-38.68   \u001b[0m | \u001b[0m-23.24   \u001b[0m | \u001b[0m-43.2    \u001b[0m | \u001b[0m-5.905   \u001b[0m |\n",
            "| \u001b[0m10       \u001b[0m | \u001b[0m-1.703   \u001b[0m | \u001b[0m-42.4    \u001b[0m | \u001b[0m-28.51   \u001b[0m | \u001b[0m-10.36   \u001b[0m | \u001b[0m-5.523   \u001b[0m |\n",
            "| \u001b[0m11       \u001b[0m | \u001b[0m-112.8   \u001b[0m | \u001b[0m-41.11   \u001b[0m | \u001b[0m-4.537   \u001b[0m | \u001b[0m-22.73   \u001b[0m | \u001b[0m-8.895   \u001b[0m |\n",
            "| \u001b[0m12       \u001b[0m | \u001b[0m-386.9   \u001b[0m | \u001b[0m-14.06   \u001b[0m | \u001b[0m-1.079   \u001b[0m | \u001b[0m-34.51   \u001b[0m | \u001b[0m-7.139   \u001b[0m |\n",
            "| \u001b[95m13       \u001b[0m | \u001b[95m-1.46    \u001b[0m | \u001b[95m-16.86   \u001b[0m | \u001b[95m-43.01   \u001b[0m | \u001b[95m-45.81   \u001b[0m | \u001b[95m-4.205   \u001b[0m |\n",
            "| \u001b[0m14       \u001b[0m | \u001b[0m-515.4   \u001b[0m | \u001b[0m-19.49   \u001b[0m | \u001b[0m-6.631   \u001b[0m | \u001b[0m-42.55   \u001b[0m | \u001b[0m-0.4953  \u001b[0m |\n",
            "| \u001b[0m15       \u001b[0m | \u001b[0m-1.576   \u001b[0m | \u001b[0m-27.5    \u001b[0m | \u001b[0m-13.66   \u001b[0m | \u001b[0m-42.25   \u001b[0m | \u001b[0m-5.412   \u001b[0m |\n",
            "| \u001b[0m16       \u001b[0m | \u001b[0m-2.277   \u001b[0m | \u001b[0m-42.88   \u001b[0m | \u001b[0m-33.04   \u001b[0m | \u001b[0m-14.86   \u001b[0m | \u001b[0m-9.152   \u001b[0m |\n",
            "| \u001b[0m17       \u001b[0m | \u001b[0m-148.0   \u001b[0m | \u001b[0m-46.48   \u001b[0m | \u001b[0m-0.9017  \u001b[0m | \u001b[0m-47.92   \u001b[0m | \u001b[0m-8.908   \u001b[0m |\n",
            "| \u001b[0m18       \u001b[0m | \u001b[0m-2.303   \u001b[0m | \u001b[0m-38.98   \u001b[0m | \u001b[0m-17.0    \u001b[0m | \u001b[0m-0.1926  \u001b[0m | \u001b[0m0.6676   \u001b[0m |\n",
            "| \u001b[0m19       \u001b[0m | \u001b[0m-103.2   \u001b[0m | \u001b[0m-16.17   \u001b[0m | \u001b[0m-0.07596 \u001b[0m | \u001b[0m-43.94   \u001b[0m | \u001b[0m-5.201   \u001b[0m |\n",
            "| \u001b[0m20       \u001b[0m | \u001b[0m-1.503   \u001b[0m | \u001b[0m-41.64   \u001b[0m | \u001b[0m-22.63   \u001b[0m | \u001b[0m-11.45   \u001b[0m | \u001b[0m-3.769   \u001b[0m |\n",
            "| \u001b[0m21       \u001b[0m | \u001b[0m-3.036   \u001b[0m | \u001b[0m-34.67   \u001b[0m | \u001b[0m-1.11    \u001b[0m | \u001b[0m-5.566   \u001b[0m | \u001b[0m-7.397   \u001b[0m |\n",
            "| \u001b[0m22       \u001b[0m | \u001b[0m-2.303   \u001b[0m | \u001b[0m-15.72   \u001b[0m | \u001b[0m-45.88   \u001b[0m | \u001b[0m-6.592   \u001b[0m | \u001b[0m-6.249   \u001b[0m |\n",
            "| \u001b[0m23       \u001b[0m | \u001b[0m-1.968   \u001b[0m | \u001b[0m-18.42   \u001b[0m | \u001b[0m-31.53   \u001b[0m | \u001b[0m-9.412   \u001b[0m | \u001b[0m-5.758   \u001b[0m |\n",
            "| \u001b[0m24       \u001b[0m | \u001b[0m-2.083   \u001b[0m | \u001b[0m-26.54   \u001b[0m | \u001b[0m-39.36   \u001b[0m | \u001b[0m-39.38   \u001b[0m | \u001b[0m-6.565   \u001b[0m |\n",
            "| \u001b[0m25       \u001b[0m | \u001b[0m-2.155   \u001b[0m | \u001b[0m-23.02   \u001b[0m | \u001b[0m-8.688   \u001b[0m | \u001b[0m-17.14   \u001b[0m | \u001b[0m-5.259   \u001b[0m |\n",
            "| \u001b[0m26       \u001b[0m | \u001b[0m-1.797   \u001b[0m | \u001b[0m-7.855   \u001b[0m | \u001b[0m-44.23   \u001b[0m | \u001b[0m-24.44   \u001b[0m | \u001b[0m-2.042   \u001b[0m |\n",
            "| \u001b[0m27       \u001b[0m | \u001b[0m-2.216   \u001b[0m | \u001b[0m-48.19   \u001b[0m | \u001b[0m-16.09   \u001b[0m | \u001b[0m-36.02   \u001b[0m | \u001b[0m-7.913   \u001b[0m |\n",
            "| \u001b[0m28       \u001b[0m | \u001b[0m-1.497   \u001b[0m | \u001b[0m-30.64   \u001b[0m | \u001b[0m-22.81   \u001b[0m | \u001b[0m-40.53   \u001b[0m | \u001b[0m-3.63    \u001b[0m |\n",
            "| \u001b[0m29       \u001b[0m | \u001b[0m-1.608   \u001b[0m | \u001b[0m-36.26   \u001b[0m | \u001b[0m-17.82   \u001b[0m | \u001b[0m-46.34   \u001b[0m | \u001b[0m-2.843   \u001b[0m |\n",
            "| \u001b[0m30       \u001b[0m | \u001b[0m-7.992e+0\u001b[0m | \u001b[0m-4.487   \u001b[0m | \u001b[0m-18.42   \u001b[0m | \u001b[0m-23.31   \u001b[0m | \u001b[0m-0.2772  \u001b[0m |\n",
            "| \u001b[0m31       \u001b[0m | \u001b[0m-2.293   \u001b[0m | \u001b[0m-18.39   \u001b[0m | \u001b[0m-41.75   \u001b[0m | \u001b[0m-37.0    \u001b[0m | \u001b[0m-9.872   \u001b[0m |\n",
            "| \u001b[0m32       \u001b[0m | \u001b[0m-1e+08   \u001b[0m | \u001b[0m-0.2547  \u001b[0m | \u001b[0m-9.356   \u001b[0m | \u001b[0m-9.541   \u001b[0m | \u001b[0m-0.1753  \u001b[0m |\n",
            "| \u001b[0m33       \u001b[0m | \u001b[0m-2.303   \u001b[0m | \u001b[0m-38.66   \u001b[0m | \u001b[0m-23.34   \u001b[0m | \u001b[0m-2.703   \u001b[0m | \u001b[0m-7.764   \u001b[0m |\n",
            "| \u001b[0m34       \u001b[0m | \u001b[0m-337.5   \u001b[0m | \u001b[0m-6.935   \u001b[0m | \u001b[0m-5.401   \u001b[0m | \u001b[0m-21.26   \u001b[0m | \u001b[0m-9.928   \u001b[0m |\n",
            "| \u001b[0m35       \u001b[0m | \u001b[0m-1.695   \u001b[0m | \u001b[0m-10.92   \u001b[0m | \u001b[0m-10.45   \u001b[0m | \u001b[0m-17.36   \u001b[0m | \u001b[0m-4.406   \u001b[0m |\n",
            "| \u001b[0m36       \u001b[0m | \u001b[0m-1e+08   \u001b[0m | \u001b[0m-2.009   \u001b[0m | \u001b[0m-23.78   \u001b[0m | \u001b[0m-34.37   \u001b[0m | \u001b[0m-6.695   \u001b[0m |\n",
            "| \u001b[0m37       \u001b[0m | \u001b[0m-255.8   \u001b[0m | \u001b[0m-4.614   \u001b[0m | \u001b[0m-9.258   \u001b[0m | \u001b[0m-28.34   \u001b[0m | \u001b[0m-2.847   \u001b[0m |\n",
            "| \u001b[0m38       \u001b[0m | \u001b[0m-1.821   \u001b[0m | \u001b[0m-13.55   \u001b[0m | \u001b[0m-26.52   \u001b[0m | \u001b[0m-16.9    \u001b[0m | \u001b[0m-2.143   \u001b[0m |\n",
            "| \u001b[0m39       \u001b[0m | \u001b[0m-2.251   \u001b[0m | \u001b[0m-24.82   \u001b[0m | \u001b[0m-48.41   \u001b[0m | \u001b[0m-46.95   \u001b[0m | \u001b[0m-8.328   \u001b[0m |\n",
            "| \u001b[0m40       \u001b[0m | \u001b[0m-2.003   \u001b[0m | \u001b[0m-47.07   \u001b[0m | \u001b[0m-13.24   \u001b[0m | \u001b[0m-45.83   \u001b[0m | \u001b[0m-7.977   \u001b[0m |\n",
            "| \u001b[0m41       \u001b[0m | \u001b[0m-2.004   \u001b[0m | \u001b[0m-48.33   \u001b[0m | \u001b[0m-24.66   \u001b[0m | \u001b[0m-27.45   \u001b[0m | \u001b[0m-2.334   \u001b[0m |\n",
            "| \u001b[0m42       \u001b[0m | \u001b[0m-1.889   \u001b[0m | \u001b[0m-18.53   \u001b[0m | \u001b[0m-23.03   \u001b[0m | \u001b[0m-8.059   \u001b[0m | \u001b[0m-1.667   \u001b[0m |\n",
            "| \u001b[0m43       \u001b[0m | \u001b[0m-2.406   \u001b[0m | \u001b[0m-41.57   \u001b[0m | \u001b[0m-11.26   \u001b[0m | \u001b[0m-32.46   \u001b[0m | \u001b[0m-0.3772  \u001b[0m |\n",
            "| \u001b[0m44       \u001b[0m | \u001b[0m-2.282   \u001b[0m | \u001b[0m-11.36   \u001b[0m | \u001b[0m-7.703   \u001b[0m | \u001b[0m-15.62   \u001b[0m | \u001b[0m-3.359   \u001b[0m |\n",
            "| \u001b[0m45       \u001b[0m | \u001b[0m-2.303   \u001b[0m | \u001b[0m-24.37   \u001b[0m | \u001b[0m-42.99   \u001b[0m | \u001b[0m-3.803   \u001b[0m | \u001b[0m-0.3787  \u001b[0m |\n",
            "| \u001b[0m46       \u001b[0m | \u001b[0m-183.5   \u001b[0m | \u001b[0m-38.76   \u001b[0m | \u001b[0m-4.23    \u001b[0m | \u001b[0m-45.82   \u001b[0m | \u001b[0m-7.188   \u001b[0m |\n",
            "| \u001b[0m47       \u001b[0m | \u001b[0m-2.293   \u001b[0m | \u001b[0m-44.53   \u001b[0m | \u001b[0m-33.8    \u001b[0m | \u001b[0m-9.506   \u001b[0m | \u001b[0m-9.975   \u001b[0m |\n",
            "| \u001b[95m48       \u001b[0m | \u001b[95m-1.442   \u001b[0m | \u001b[95m-38.38   \u001b[0m | \u001b[95m-47.77   \u001b[0m | \u001b[95m-32.0    \u001b[0m | \u001b[95m-4.789   \u001b[0m |\n",
            "| \u001b[0m49       \u001b[0m | \u001b[0m-1.792   \u001b[0m | \u001b[0m-14.89   \u001b[0m | \u001b[0m-10.79   \u001b[0m | \u001b[0m-22.92   \u001b[0m | \u001b[0m-9.983   \u001b[0m |\n",
            "| \u001b[0m50       \u001b[0m | \u001b[0m-821.8   \u001b[0m | \u001b[0m-35.91   \u001b[0m | \u001b[0m-4.045   \u001b[0m | \u001b[0m-26.35   \u001b[0m | \u001b[0m-4.155   \u001b[0m |\n",
            "| \u001b[0m51       \u001b[0m | \u001b[0m-336.7   \u001b[0m | \u001b[0m-6.55    \u001b[0m | \u001b[0m-16.9    \u001b[0m | \u001b[0m-39.19   \u001b[0m | \u001b[0m1.0      \u001b[0m |\n",
            "| \u001b[0m52       \u001b[0m | \u001b[0m-291.4   \u001b[0m | \u001b[0m-11.83   \u001b[0m | \u001b[0m-6.72    \u001b[0m | \u001b[0m-25.17   \u001b[0m | \u001b[0m-4.194   \u001b[0m |\n",
            "| \u001b[0m53       \u001b[0m | \u001b[0m-251.8   \u001b[0m | \u001b[0m-9.944   \u001b[0m | \u001b[0m-6.627   \u001b[0m | \u001b[0m-13.96   \u001b[0m | \u001b[0m-10.0    \u001b[0m |\n",
            "| \u001b[0m54       \u001b[0m | \u001b[0m-1.567   \u001b[0m | \u001b[0m-40.61   \u001b[0m | \u001b[0m-14.44   \u001b[0m | \u001b[0m-39.95   \u001b[0m | \u001b[0m-5.372   \u001b[0m |\n",
            "| \u001b[0m55       \u001b[0m | \u001b[0m-2.286   \u001b[0m | \u001b[0m-33.89   \u001b[0m | \u001b[0m-17.43   \u001b[0m | \u001b[0m-41.85   \u001b[0m | \u001b[0m-9.981   \u001b[0m |\n",
            "| \u001b[0m56       \u001b[0m | \u001b[0m-1.942   \u001b[0m | \u001b[0m-33.63   \u001b[0m | \u001b[0m-15.53   \u001b[0m | \u001b[0m-37.27   \u001b[0m | \u001b[0m-1.583   \u001b[0m |\n",
            "| \u001b[0m57       \u001b[0m | \u001b[0m-1.66    \u001b[0m | \u001b[0m-42.6    \u001b[0m | \u001b[0m-20.21   \u001b[0m | \u001b[0m-34.05   \u001b[0m | \u001b[0m-2.212   \u001b[0m |\n",
            "| \u001b[0m58       \u001b[0m | \u001b[0m-2.122   \u001b[0m | \u001b[0m-42.7    \u001b[0m | \u001b[0m-13.87   \u001b[0m | \u001b[0m-27.95   \u001b[0m | \u001b[0m-8.263   \u001b[0m |\n",
            "| \u001b[0m59       \u001b[0m | \u001b[0m-2.261   \u001b[0m | \u001b[0m-36.88   \u001b[0m | \u001b[0m-18.94   \u001b[0m | \u001b[0m-33.61   \u001b[0m | \u001b[0m-8.633   \u001b[0m |\n",
            "| \u001b[0m60       \u001b[0m | \u001b[0m-1.932   \u001b[0m | \u001b[0m-36.32   \u001b[0m | \u001b[0m-9.512   \u001b[0m | \u001b[0m-33.66   \u001b[0m | \u001b[0m-7.761   \u001b[0m |\n",
            "| \u001b[0m61       \u001b[0m | \u001b[0m-1.493   \u001b[0m | \u001b[0m-35.27   \u001b[0m | \u001b[0m-14.32   \u001b[0m | \u001b[0m-27.24   \u001b[0m | \u001b[0m-3.034   \u001b[0m |\n",
            "| \u001b[0m62       \u001b[0m | \u001b[0m-174.7   \u001b[0m | \u001b[0m-44.95   \u001b[0m | \u001b[0m-6.687   \u001b[0m | \u001b[0m-38.58   \u001b[0m | \u001b[0m-7.689   \u001b[0m |\n",
            "| \u001b[0m63       \u001b[0m | \u001b[0m-1.496   \u001b[0m | \u001b[0m-39.75   \u001b[0m | \u001b[0m-22.37   \u001b[0m | \u001b[0m-25.94   \u001b[0m | \u001b[0m-5.024   \u001b[0m |\n",
            "| \u001b[0m64       \u001b[0m | \u001b[0m-2.178   \u001b[0m | \u001b[0m-27.66   \u001b[0m | \u001b[0m-15.48   \u001b[0m | \u001b[0m-32.89   \u001b[0m | \u001b[0m-7.5     \u001b[0m |\n",
            "| \u001b[0m65       \u001b[0m | \u001b[0m-2.279   \u001b[0m | \u001b[0m-19.95   \u001b[0m | \u001b[0m-8.853   \u001b[0m | \u001b[0m-34.02   \u001b[0m | \u001b[0m-5.386   \u001b[0m |\n",
            "| \u001b[0m66       \u001b[0m | \u001b[0m-2.308   \u001b[0m | \u001b[0m-28.2    \u001b[0m | \u001b[0m-6.009   \u001b[0m | \u001b[0m-35.94   \u001b[0m | \u001b[0m-2.281   \u001b[0m |\n",
            "| \u001b[0m67       \u001b[0m | \u001b[0m-1.87    \u001b[0m | \u001b[0m-24.52   \u001b[0m | \u001b[0m-9.829   \u001b[0m | \u001b[0m-26.1    \u001b[0m | \u001b[0m-4.482   \u001b[0m |\n",
            "| \u001b[0m68       \u001b[0m | \u001b[0m-2.489   \u001b[0m | \u001b[0m-37.51   \u001b[0m | \u001b[0m-6.81    \u001b[0m | \u001b[0m-40.19   \u001b[0m | \u001b[0m-0.3362  \u001b[0m |\n",
            "| \u001b[0m69       \u001b[0m | \u001b[0m-1.813   \u001b[0m | \u001b[0m-32.4    \u001b[0m | \u001b[0m-10.11   \u001b[0m | \u001b[0m-23.97   \u001b[0m | \u001b[0m-10.0    \u001b[0m |\n",
            "| \u001b[0m70       \u001b[0m | \u001b[0m-1.611   \u001b[0m | \u001b[0m-38.92   \u001b[0m | \u001b[0m-12.98   \u001b[0m | \u001b[0m-18.69   \u001b[0m | \u001b[0m-5.659   \u001b[0m |\n",
            "| \u001b[95m71       \u001b[0m | \u001b[95m-1.432   \u001b[0m | \u001b[95m-19.41   \u001b[0m | \u001b[95m-17.57   \u001b[0m | \u001b[95m-18.94   \u001b[0m | \u001b[95m-4.571   \u001b[0m |\n",
            "| \u001b[0m72       \u001b[0m | \u001b[0m-144.8   \u001b[0m | \u001b[0m-22.4    \u001b[0m | \u001b[0m-15.47   \u001b[0m | \u001b[0m-33.68   \u001b[0m | \u001b[0m0.949    \u001b[0m |\n",
            "| \u001b[0m73       \u001b[0m | \u001b[0m-1.529   \u001b[0m | \u001b[0m-29.12   \u001b[0m | \u001b[0m-16.87   \u001b[0m | \u001b[0m-20.21   \u001b[0m | \u001b[0m-5.158   \u001b[0m |\n",
            "| \u001b[0m74       \u001b[0m | \u001b[0m-1.965   \u001b[0m | \u001b[0m-30.17   \u001b[0m | \u001b[0m-22.22   \u001b[0m | \u001b[0m-29.99   \u001b[0m | \u001b[0m-1.768   \u001b[0m |\n",
            "| \u001b[0m75       \u001b[0m | \u001b[0m-98.71   \u001b[0m | \u001b[0m-12.43   \u001b[0m | \u001b[0m-7.844   \u001b[0m | \u001b[0m-34.12   \u001b[0m | \u001b[0m0.2399   \u001b[0m |\n",
            "| \u001b[0m76       \u001b[0m | \u001b[0m-2.291   \u001b[0m | \u001b[0m-31.29   \u001b[0m | \u001b[0m-7.783   \u001b[0m | \u001b[0m-20.46   \u001b[0m | \u001b[0m-1.179   \u001b[0m |\n",
            "| \u001b[0m77       \u001b[0m | \u001b[0m-145.4   \u001b[0m | \u001b[0m-20.42   \u001b[0m | \u001b[0m-2.93    \u001b[0m | \u001b[0m-29.23   \u001b[0m | \u001b[0m-0.009087\u001b[0m |\n",
            "| \u001b[0m78       \u001b[0m | \u001b[0m-1.484   \u001b[0m | \u001b[0m-23.58   \u001b[0m | \u001b[0m-26.04   \u001b[0m | \u001b[0m-16.08   \u001b[0m | \u001b[0m-3.933   \u001b[0m |\n",
            "| \u001b[0m79       \u001b[0m | \u001b[0m-2.319   \u001b[0m | \u001b[0m-45.82   \u001b[0m | \u001b[0m-6.95    \u001b[0m | \u001b[0m-45.59   \u001b[0m | \u001b[0m-0.7372  \u001b[0m |\n",
            "| \u001b[0m80       \u001b[0m | \u001b[0m-171.2   \u001b[0m | \u001b[0m-33.57   \u001b[0m | \u001b[0m-5.278   \u001b[0m | \u001b[0m-15.18   \u001b[0m | \u001b[0m-8.606   \u001b[0m |\n",
            "| \u001b[0m81       \u001b[0m | \u001b[0m-1.475   \u001b[0m | \u001b[0m-31.73   \u001b[0m | \u001b[0m-13.12   \u001b[0m | \u001b[0m-11.31   \u001b[0m | \u001b[0m-3.89    \u001b[0m |\n",
            "| \u001b[0m82       \u001b[0m | \u001b[0m-1.487   \u001b[0m | \u001b[0m-31.58   \u001b[0m | \u001b[0m-23.14   \u001b[0m | \u001b[0m-10.21   \u001b[0m | \u001b[0m-4.843   \u001b[0m |\n",
            "| \u001b[0m83       \u001b[0m | \u001b[0m-334.2   \u001b[0m | \u001b[0m-36.01   \u001b[0m | \u001b[0m-20.33   \u001b[0m | \u001b[0m-18.24   \u001b[0m | \u001b[0m0.3904   \u001b[0m |\n",
            "| \u001b[0m84       \u001b[0m | \u001b[0m-2.287   \u001b[0m | \u001b[0m-36.6    \u001b[0m | \u001b[0m-21.92   \u001b[0m | \u001b[0m-17.46   \u001b[0m | \u001b[0m-9.55    \u001b[0m |\n",
            "| \u001b[0m85       \u001b[0m | \u001b[0m-1.529   \u001b[0m | \u001b[0m-33.29   \u001b[0m | \u001b[0m-29.3    \u001b[0m | \u001b[0m-19.82   \u001b[0m | \u001b[0m-3.72    \u001b[0m |\n",
            "| \u001b[0m86       \u001b[0m | \u001b[0m-208.6   \u001b[0m | \u001b[0m-24.1    \u001b[0m | \u001b[0m-15.92   \u001b[0m | \u001b[0m-13.53   \u001b[0m | \u001b[0m0.9697   \u001b[0m |\n",
            "| \u001b[0m87       \u001b[0m | \u001b[0m-2.235   \u001b[0m | \u001b[0m-43.02   \u001b[0m | \u001b[0m-27.76   \u001b[0m | \u001b[0m-19.51   \u001b[0m | \u001b[0m-1.233   \u001b[0m |\n",
            "| \u001b[0m88       \u001b[0m | \u001b[0m-2.294   \u001b[0m | \u001b[0m-33.97   \u001b[0m | \u001b[0m-30.87   \u001b[0m | \u001b[0m-11.31   \u001b[0m | \u001b[0m-10.0    \u001b[0m |\n",
            "| \u001b[0m89       \u001b[0m | \u001b[0m-2.233   \u001b[0m | \u001b[0m-22.0    \u001b[0m | \u001b[0m-17.23   \u001b[0m | \u001b[0m-10.48   \u001b[0m | \u001b[0m-7.846   \u001b[0m |\n",
            "| \u001b[0m90       \u001b[0m | \u001b[0m-173.5   \u001b[0m | \u001b[0m-23.79   \u001b[0m | \u001b[0m-18.23   \u001b[0m | \u001b[0m-24.64   \u001b[0m | \u001b[0m1.0      \u001b[0m |\n",
            "| \u001b[0m91       \u001b[0m | \u001b[0m-2.295   \u001b[0m | \u001b[0m-29.86   \u001b[0m | \u001b[0m-23.73   \u001b[0m | \u001b[0m-25.25   \u001b[0m | \u001b[0m-10.0    \u001b[0m |\n",
            "| \u001b[0m92       \u001b[0m | \u001b[0m-176.6   \u001b[0m | \u001b[0m-18.01   \u001b[0m | \u001b[0m-10.47   \u001b[0m | \u001b[0m-22.41   \u001b[0m | \u001b[0m1.0      \u001b[0m |\n",
            "| \u001b[0m93       \u001b[0m | \u001b[0m-2.271   \u001b[0m | \u001b[0m-38.81   \u001b[0m | \u001b[0m-15.28   \u001b[0m | \u001b[0m-8.955   \u001b[0m | \u001b[0m-10.0    \u001b[0m |\n",
            "| \u001b[0m94       \u001b[0m | \u001b[0m-1.808   \u001b[0m | \u001b[0m-28.21   \u001b[0m | \u001b[0m-33.67   \u001b[0m | \u001b[0m-10.53   \u001b[0m | \u001b[0m-1.969   \u001b[0m |\n",
            "| \u001b[0m95       \u001b[0m | \u001b[0m-2.19    \u001b[0m | \u001b[0m-37.82   \u001b[0m | \u001b[0m-35.96   \u001b[0m | \u001b[0m-13.31   \u001b[0m | \u001b[0m-1.31    \u001b[0m |\n",
            "| \u001b[0m96       \u001b[0m | \u001b[0m-2.295   \u001b[0m | \u001b[0m-46.39   \u001b[0m | \u001b[0m-25.19   \u001b[0m | \u001b[0m-19.97   \u001b[0m | \u001b[0m-10.0    \u001b[0m |\n",
            "| \u001b[0m97       \u001b[0m | \u001b[0m-2.301   \u001b[0m | \u001b[0m-35.26   \u001b[0m | \u001b[0m-29.5    \u001b[0m | \u001b[0m-6.134   \u001b[0m | \u001b[0m0.315    \u001b[0m |\n",
            "| \u001b[0m98       \u001b[0m | \u001b[0m-2.343   \u001b[0m | \u001b[0m-40.2    \u001b[0m | \u001b[0m-7.842   \u001b[0m | \u001b[0m-9.837   \u001b[0m | \u001b[0m-2.944   \u001b[0m |\n",
            "| \u001b[0m99       \u001b[0m | \u001b[0m-1.63    \u001b[0m | \u001b[0m-36.2    \u001b[0m | \u001b[0m-28.67   \u001b[0m | \u001b[0m-33.66   \u001b[0m | \u001b[0m-5.505   \u001b[0m |\n",
            "| \u001b[0m100      \u001b[0m | \u001b[0m-2.303   \u001b[0m | \u001b[0m-27.12   \u001b[0m | \u001b[0m-29.44   \u001b[0m | \u001b[0m-4.786   \u001b[0m | \u001b[0m-8.605   \u001b[0m |\n",
            "=========================================================================\n",
            "CPU times: user 6min 36s, sys: 1min 33s, total: 8min 10s\n",
            "Wall time: 4min 34s\n"
          ]
        }
      ]
    },
    {
      "cell_type": "markdown",
      "metadata": {
        "id": "E_E8Kr_L_DR4"
      },
      "source": [
        "## 1.2 Test-Set Evaluation"
      ]
    },
    {
      "cell_type": "code",
      "execution_count": 124,
      "metadata": {
        "id": "HL8_n7Iu_DR4"
      },
      "outputs": [],
      "source": [
        "fdekf_model = 'fdekf'\n",
        "fdekf_hparams = {\n",
        "    'initial_covariance': 0.010352508097518903,\n",
        "    'dynamics_weights': 0.9999999940218407,\n",
        "    'dynamics_covariance': 2.3315742318898394e-08,\n",
        "    'dynamics_covariance_inflation_factor': 3.701360570376266e-09\n",
        "}"
      ]
    },
    {
      "cell_type": "code",
      "execution_count": 125,
      "metadata": {
        "id": "-8alr2r6_DR4"
      },
      "outputs": [],
      "source": [
        "# fdekf_hparams = hpt.get_best_params(fdekf_optimizer, method=fdekf_model)\n",
        "fdekf_estimator = hpt.build_estimator(model_dict['flat_params'], model_dict['apply_fn'],\n",
        "                                      fdekf_hparams, model_dict['emission_mean_function'],\n",
        "                                      model_dict['emission_cov_function'], \n",
        "                                      method=fdekf_model)"
      ]
    },
    {
      "cell_type": "code",
      "source": [
        "fdekf_hparams"
      ],
      "metadata": {
        "id": "jCowKoDBei7h",
        "outputId": "f2e240cb-ec16-49c6-f8f8-a29808794503",
        "colab": {
          "base_uri": "https://localhost:8080/"
        }
      },
      "execution_count": 126,
      "outputs": [
        {
          "output_type": "execute_result",
          "data": {
            "text/plain": [
              "{'initial_covariance': 0.010352508097518903,\n",
              " 'dynamics_weights': 0.9999999940218407,\n",
              " 'dynamics_covariance': 2.3315742318898394e-08,\n",
              " 'dynamics_covariance_inflation_factor': 3.701360570376266e-09}"
            ]
          },
          "metadata": {},
          "execution_count": 126
        }
      ]
    },
    {
      "cell_type": "code",
      "execution_count": 22,
      "metadata": {
        "id": "mfU0FZDa_DR4"
      },
      "outputs": [],
      "source": [
        "accuracy_fn = lambda logits, label: jnp.mean(logits.argmax(axis=-1) == label)\n",
        "evaluate_accuracy = partial(\n",
        "    benchmark.evaluate_function,\n",
        "    loss_fn=accuracy_fn\n",
        ")"
      ]
    },
    {
      "cell_type": "code",
      "execution_count": 23,
      "metadata": {
        "id": "HBs2VENh_DR4"
      },
      "outputs": [],
      "source": [
        "def test_acc_callback(i, bel_pre_update, bel, batch, **kwargs):\n",
        "    X_test, y_test, apply_fn = kwargs[\"X_test\"], kwargs[\"y_test\"], kwargs[\"apply_fn\"]\n",
        "    ntest_per_batch = kwargs[\"ntest_per_batch\"]\n",
        "    \n",
        "    prev_test_batch, curr_test_batch = i*ntest_per_batch, (i+1)*ntest_per_batch\n",
        "    curr_X_test, curr_y_test = X_test[prev_test_batch:curr_test_batch], y_test[prev_test_batch:curr_test_batch]\n",
        "    cum_X_test, cum_y_test = X_test[:curr_test_batch], y_test[:curr_test_batch]\n",
        "    \n",
        "    overall_accuracy = evaluate_accuracy(bel.mean, apply_fn, cum_X_test, cum_y_test)\n",
        "    current_accuracy = evaluate_accuracy(bel.mean, apply_fn, curr_X_test, curr_y_test)\n",
        "    task1_accuracy = evaluate_accuracy(bel.mean, apply_fn, X_test[:ntest_per_batch], y_test[:ntest_per_batch])\n",
        "    result = {\n",
        "        'overall': overall_accuracy,\n",
        "        'current': current_accuracy,\n",
        "        'task1': task1_accuracy,\n",
        "    }\n",
        "    return result"
      ]
    },
    {
      "cell_type": "code",
      "execution_count": 24,
      "metadata": {
        "id": "-MdWYdID_DR4"
      },
      "outputs": [],
      "source": [
        "def evaluate_model(estimator, n_iter=5, bel=None):\n",
        "    overall_accs, current_accs, task1_accs = [], [], []\n",
        "    for i in trange(n_iter):\n",
        "        # Load dataset with random permutation and random shuffle\n",
        "        dataset = benchmark.load_permuted_mnist_dataset(**data_kwargs, key=i, fashion=True)\n",
        "        (Xtr, Ytr), _, (Xte, Yte) = dataset.values()\n",
        "        train_ds = jdl.ArrayDataset(Xtr, Ytr)\n",
        "        train_loader = jdl.DataLoaderJax(\n",
        "            train_ds, batch_size=data_kwargs[\"ntrain_per_task\"], shuffle=False, drop_last=False\n",
        "        )\n",
        "\n",
        "        test_kwargs = {\n",
        "            'X_test': Xte,\n",
        "            'y_test': Yte,\n",
        "            'ntest_per_batch': data_kwargs[\"ntest_per_task\"],\n",
        "            'apply_fn': model_dict[\"apply_fn\"],\n",
        "        }\n",
        "\n",
        "        _, accs = estimator.scan_dataloader(\n",
        "            train_loader, \n",
        "            callback=test_acc_callback, \n",
        "            bel=bel,\n",
        "            callback_at_end=True,\n",
        "            **test_kwargs\n",
        "        )\n",
        "        overall_accs.append(jnp.array([res['overall'] for res in accs]))\n",
        "        current_accs.append(jnp.array([res['current'] for res in accs]))\n",
        "        task1_accs.append(jnp.array([res['task1'] for res in accs]))\n",
        "    \n",
        "    overall_accs, current_accs, task1_accs = jnp.array(overall_accs), jnp.array(current_accs), jnp.array(task1_accs)\n",
        "    overall_accs, current_accs, task1_accs = \\\n",
        "        overall_accs.reshape((n_iter, -1)), current_accs.reshape((n_iter, -1)), task1_accs.reshape((n_iter, -1))\n",
        "\n",
        "    result = {\n",
        "        'overall': overall_accs.mean(axis=0),\n",
        "        'overall-std': overall_accs.std(axis=0),\n",
        "        'current': current_accs.mean(axis=0),\n",
        "        'current-std': current_accs.std(axis=0),\n",
        "        'task1': task1_accs.mean(axis=0),\n",
        "        'task1-std': task1_accs.std(axis=0),\n",
        "    }\n",
        "    \n",
        "    return result\n"
      ]
    },
    {
      "cell_type": "code",
      "execution_count": 130,
      "metadata": {
        "colab": {
          "base_uri": "https://localhost:8080/"
        },
        "id": "5l44k8cE_DR4",
        "outputId": "76c030d6-ae46-4c7e-d72a-abf168ee34a5"
      },
      "outputs": [
        {
          "output_type": "stream",
          "name": "stderr",
          "text": [
            "100%|██████████| 5/5 [01:28<00:00, 17.76s/it]\n"
          ]
        }
      ],
      "source": [
        "fdekf_res = evaluate_model(fdekf_estimator)"
      ]
    },
    {
      "cell_type": "code",
      "execution_count": 131,
      "metadata": {
        "id": "gIflUmQC_DR5"
      },
      "outputs": [],
      "source": [
        "filename = f'fdekf_result.pkl'\n",
        "with open(Path(output_path, filename), \"wb\") as f:\n",
        "    pickle.dump(fdekf_res, f)"
      ]
    },
    {
      "cell_type": "markdown",
      "metadata": {
        "id": "MChlUAXE_DR5"
      },
      "source": [
        "# 2. VDEKF"
      ]
    },
    {
      "cell_type": "markdown",
      "metadata": {
        "id": "ZVlOSEKR_DR5"
      },
      "source": [
        "## 2.1 Hyperparam Tuning"
      ]
    },
    {
      "cell_type": "code",
      "execution_count": 132,
      "metadata": {
        "id": "BBDJMXhW_DR5"
      },
      "outputs": [],
      "source": [
        "vdekf_model = 'vdekf'"
      ]
    },
    {
      "cell_type": "code",
      "execution_count": 133,
      "metadata": {
        "id": "06s01K4y_DR5"
      },
      "outputs": [],
      "source": [
        "vdekf_optimizer, apply_fn, n_feats = hpt.create_optimizer(\n",
        "    model_dict[\"model\"], pbounds, 314, warmup_train, warmup_val, \n",
        "    model_dict[\"emission_mean_function\"], model_dict[\"emission_cov_function\"],\n",
        "    ll_calback, 'vdekf'\n",
        ")"
      ]
    },
    {
      "cell_type": "code",
      "source": [
        "%%time\n",
        "vdekf_optimizer.maximize(\n",
        "    init_points=50,\n",
        "    n_iter=50,\n",
        ")"
      ],
      "metadata": {
        "id": "K0EUGp1kRawO",
        "outputId": "8bd03c0a-5756-4d38-f2b7-d9159967ea57",
        "colab": {
          "base_uri": "https://localhost:8080/"
        }
      },
      "execution_count": 134,
      "outputs": [
        {
          "output_type": "stream",
          "name": "stdout",
          "text": [
            "|   iter    |  target   | log_alpha | log_dy... | log_dy... | log_in... |\n",
            "-------------------------------------------------------------------------\n",
            "| \u001b[0m1        \u001b[0m | \u001b[0m-339.4   \u001b[0m | \u001b[0m-4.156   \u001b[0m | \u001b[0m-20.57   \u001b[0m | \u001b[0m-36.75   \u001b[0m | \u001b[0m-1.385   \u001b[0m |\n",
            "| \u001b[0m2        \u001b[0m | \u001b[0m-2.633e+0\u001b[0m | \u001b[0m-4.1     \u001b[0m | \u001b[0m-8.632   \u001b[0m | \u001b[0m-13.6    \u001b[0m | \u001b[0m-7.135   \u001b[0m |\n",
            "| \u001b[0m3        \u001b[0m | \u001b[0m-439.3   \u001b[0m | \u001b[0m-4.412   \u001b[0m | \u001b[0m-36.96   \u001b[0m | \u001b[0m-11.68   \u001b[0m | \u001b[0m-7.123   \u001b[0m |\n",
            "| \u001b[95m4        \u001b[0m | \u001b[95m-2.28    \u001b[0m | \u001b[95m-43.89   \u001b[0m | \u001b[95m-30.7    \u001b[0m | \u001b[95m-7.996   \u001b[0m | \u001b[95m-6.94    \u001b[0m |\n",
            "| \u001b[95m5        \u001b[0m | \u001b[95m-1.502   \u001b[0m | \u001b[95m-46.5    \u001b[0m | \u001b[95m-18.34   \u001b[0m | \u001b[95m-20.76   \u001b[0m | \u001b[95m-3.606   \u001b[0m |\n",
            "| \u001b[0m6        \u001b[0m | \u001b[0m-2.04    \u001b[0m | \u001b[0m-16.14   \u001b[0m | \u001b[0m-15.64   \u001b[0m | \u001b[0m-28.05   \u001b[0m | \u001b[0m-6.47    \u001b[0m |\n",
            "| \u001b[0m7        \u001b[0m | \u001b[0m-1.985   \u001b[0m | \u001b[0m-21.47   \u001b[0m | \u001b[0m-26.01   \u001b[0m | \u001b[0m-6.946   \u001b[0m | \u001b[0m-0.8171  \u001b[0m |\n",
            "| \u001b[0m8        \u001b[0m | \u001b[0m-1.878   \u001b[0m | \u001b[0m-44.71   \u001b[0m | \u001b[0m-46.98   \u001b[0m | \u001b[0m-20.16   \u001b[0m | \u001b[0m-1.284   \u001b[0m |\n",
            "| \u001b[0m9        \u001b[0m | \u001b[0m-1.843   \u001b[0m | \u001b[0m-38.68   \u001b[0m | \u001b[0m-23.24   \u001b[0m | \u001b[0m-43.2    \u001b[0m | \u001b[0m-5.905   \u001b[0m |\n",
            "| \u001b[0m10       \u001b[0m | \u001b[0m-1.704   \u001b[0m | \u001b[0m-42.4    \u001b[0m | \u001b[0m-28.51   \u001b[0m | \u001b[0m-10.36   \u001b[0m | \u001b[0m-5.523   \u001b[0m |\n",
            "| \u001b[0m11       \u001b[0m | \u001b[0m-575.4   \u001b[0m | \u001b[0m-41.11   \u001b[0m | \u001b[0m-4.537   \u001b[0m | \u001b[0m-22.73   \u001b[0m | \u001b[0m-8.895   \u001b[0m |\n",
            "| \u001b[0m12       \u001b[0m | \u001b[0m-342.1   \u001b[0m | \u001b[0m-14.06   \u001b[0m | \u001b[0m-1.079   \u001b[0m | \u001b[0m-34.51   \u001b[0m | \u001b[0m-7.139   \u001b[0m |\n",
            "| \u001b[95m13       \u001b[0m | \u001b[95m-1.445   \u001b[0m | \u001b[95m-16.86   \u001b[0m | \u001b[95m-43.01   \u001b[0m | \u001b[95m-45.81   \u001b[0m | \u001b[95m-4.205   \u001b[0m |\n",
            "| \u001b[0m14       \u001b[0m | \u001b[0m-220.2   \u001b[0m | \u001b[0m-19.49   \u001b[0m | \u001b[0m-6.631   \u001b[0m | \u001b[0m-42.55   \u001b[0m | \u001b[0m-0.4953  \u001b[0m |\n",
            "| \u001b[0m15       \u001b[0m | \u001b[0m-1.573   \u001b[0m | \u001b[0m-27.5    \u001b[0m | \u001b[0m-13.66   \u001b[0m | \u001b[0m-42.25   \u001b[0m | \u001b[0m-5.412   \u001b[0m |\n",
            "| \u001b[0m16       \u001b[0m | \u001b[0m-2.277   \u001b[0m | \u001b[0m-42.88   \u001b[0m | \u001b[0m-33.04   \u001b[0m | \u001b[0m-14.86   \u001b[0m | \u001b[0m-9.152   \u001b[0m |\n",
            "| \u001b[0m17       \u001b[0m | \u001b[0m-6.627e+0\u001b[0m | \u001b[0m-46.48   \u001b[0m | \u001b[0m-0.9017  \u001b[0m | \u001b[0m-47.92   \u001b[0m | \u001b[0m-8.908   \u001b[0m |\n",
            "| \u001b[0m18       \u001b[0m | \u001b[0m-2.303   \u001b[0m | \u001b[0m-38.98   \u001b[0m | \u001b[0m-17.0    \u001b[0m | \u001b[0m-0.1926  \u001b[0m | \u001b[0m0.6676   \u001b[0m |\n",
            "| \u001b[0m19       \u001b[0m | \u001b[0m-101.0   \u001b[0m | \u001b[0m-16.17   \u001b[0m | \u001b[0m-0.07596 \u001b[0m | \u001b[0m-43.94   \u001b[0m | \u001b[0m-5.201   \u001b[0m |\n",
            "| \u001b[0m20       \u001b[0m | \u001b[0m-1.499   \u001b[0m | \u001b[0m-41.64   \u001b[0m | \u001b[0m-22.63   \u001b[0m | \u001b[0m-11.45   \u001b[0m | \u001b[0m-3.769   \u001b[0m |\n",
            "| \u001b[0m21       \u001b[0m | \u001b[0m-3.022   \u001b[0m | \u001b[0m-34.67   \u001b[0m | \u001b[0m-1.11    \u001b[0m | \u001b[0m-5.566   \u001b[0m | \u001b[0m-7.397   \u001b[0m |\n",
            "| \u001b[0m22       \u001b[0m | \u001b[0m-2.303   \u001b[0m | \u001b[0m-15.72   \u001b[0m | \u001b[0m-45.88   \u001b[0m | \u001b[0m-6.592   \u001b[0m | \u001b[0m-6.249   \u001b[0m |\n",
            "| \u001b[0m23       \u001b[0m | \u001b[0m-1.968   \u001b[0m | \u001b[0m-18.42   \u001b[0m | \u001b[0m-31.53   \u001b[0m | \u001b[0m-9.412   \u001b[0m | \u001b[0m-5.758   \u001b[0m |\n",
            "| \u001b[0m24       \u001b[0m | \u001b[0m-2.083   \u001b[0m | \u001b[0m-26.54   \u001b[0m | \u001b[0m-39.36   \u001b[0m | \u001b[0m-39.38   \u001b[0m | \u001b[0m-6.565   \u001b[0m |\n",
            "| \u001b[0m25       \u001b[0m | \u001b[0m-2.412   \u001b[0m | \u001b[0m-23.02   \u001b[0m | \u001b[0m-8.688   \u001b[0m | \u001b[0m-17.14   \u001b[0m | \u001b[0m-5.259   \u001b[0m |\n",
            "| \u001b[0m26       \u001b[0m | \u001b[0m-1.747   \u001b[0m | \u001b[0m-7.855   \u001b[0m | \u001b[0m-44.23   \u001b[0m | \u001b[0m-24.44   \u001b[0m | \u001b[0m-2.042   \u001b[0m |\n",
            "| \u001b[0m27       \u001b[0m | \u001b[0m-2.216   \u001b[0m | \u001b[0m-48.19   \u001b[0m | \u001b[0m-16.09   \u001b[0m | \u001b[0m-36.02   \u001b[0m | \u001b[0m-7.913   \u001b[0m |\n",
            "| \u001b[0m28       \u001b[0m | \u001b[0m-1.499   \u001b[0m | \u001b[0m-30.64   \u001b[0m | \u001b[0m-22.81   \u001b[0m | \u001b[0m-40.53   \u001b[0m | \u001b[0m-3.63    \u001b[0m |\n",
            "| \u001b[0m29       \u001b[0m | \u001b[0m-1.588   \u001b[0m | \u001b[0m-36.26   \u001b[0m | \u001b[0m-17.82   \u001b[0m | \u001b[0m-46.34   \u001b[0m | \u001b[0m-2.843   \u001b[0m |\n",
            "| \u001b[0m30       \u001b[0m | \u001b[0m-1.707e+0\u001b[0m | \u001b[0m-4.487   \u001b[0m | \u001b[0m-18.42   \u001b[0m | \u001b[0m-23.31   \u001b[0m | \u001b[0m-0.2772  \u001b[0m |\n",
            "| \u001b[0m31       \u001b[0m | \u001b[0m-2.293   \u001b[0m | \u001b[0m-18.39   \u001b[0m | \u001b[0m-41.75   \u001b[0m | \u001b[0m-37.0    \u001b[0m | \u001b[0m-9.872   \u001b[0m |\n",
            "| \u001b[0m32       \u001b[0m | \u001b[0m-1e+08   \u001b[0m | \u001b[0m-0.2547  \u001b[0m | \u001b[0m-9.356   \u001b[0m | \u001b[0m-9.541   \u001b[0m | \u001b[0m-0.1753  \u001b[0m |\n",
            "| \u001b[0m33       \u001b[0m | \u001b[0m-2.303   \u001b[0m | \u001b[0m-38.66   \u001b[0m | \u001b[0m-23.34   \u001b[0m | \u001b[0m-2.703   \u001b[0m | \u001b[0m-7.764   \u001b[0m |\n",
            "| \u001b[0m34       \u001b[0m | \u001b[0m-148.1   \u001b[0m | \u001b[0m-6.935   \u001b[0m | \u001b[0m-5.401   \u001b[0m | \u001b[0m-21.26   \u001b[0m | \u001b[0m-9.928   \u001b[0m |\n",
            "| \u001b[0m35       \u001b[0m | \u001b[0m-1.656   \u001b[0m | \u001b[0m-10.92   \u001b[0m | \u001b[0m-10.45   \u001b[0m | \u001b[0m-17.36   \u001b[0m | \u001b[0m-4.406   \u001b[0m |\n",
            "| \u001b[0m36       \u001b[0m | \u001b[0m-1e+08   \u001b[0m | \u001b[0m-2.009   \u001b[0m | \u001b[0m-23.78   \u001b[0m | \u001b[0m-34.37   \u001b[0m | \u001b[0m-6.695   \u001b[0m |\n",
            "| \u001b[0m37       \u001b[0m | \u001b[0m-66.65   \u001b[0m | \u001b[0m-4.614   \u001b[0m | \u001b[0m-9.258   \u001b[0m | \u001b[0m-28.34   \u001b[0m | \u001b[0m-2.847   \u001b[0m |\n",
            "| \u001b[0m38       \u001b[0m | \u001b[0m-1.682   \u001b[0m | \u001b[0m-13.55   \u001b[0m | \u001b[0m-26.52   \u001b[0m | \u001b[0m-16.9    \u001b[0m | \u001b[0m-2.143   \u001b[0m |\n",
            "| \u001b[0m39       \u001b[0m | \u001b[0m-2.251   \u001b[0m | \u001b[0m-24.82   \u001b[0m | \u001b[0m-48.41   \u001b[0m | \u001b[0m-46.95   \u001b[0m | \u001b[0m-8.328   \u001b[0m |\n",
            "| \u001b[0m40       \u001b[0m | \u001b[0m-2.002   \u001b[0m | \u001b[0m-47.07   \u001b[0m | \u001b[0m-13.24   \u001b[0m | \u001b[0m-45.83   \u001b[0m | \u001b[0m-7.977   \u001b[0m |\n",
            "| \u001b[0m41       \u001b[0m | \u001b[0m-1.66    \u001b[0m | \u001b[0m-48.33   \u001b[0m | \u001b[0m-24.66   \u001b[0m | \u001b[0m-27.45   \u001b[0m | \u001b[0m-2.334   \u001b[0m |\n",
            "| \u001b[0m42       \u001b[0m | \u001b[0m-1.852   \u001b[0m | \u001b[0m-18.53   \u001b[0m | \u001b[0m-23.03   \u001b[0m | \u001b[0m-8.059   \u001b[0m | \u001b[0m-1.667   \u001b[0m |\n",
            "| \u001b[0m43       \u001b[0m | \u001b[0m-2.385   \u001b[0m | \u001b[0m-41.57   \u001b[0m | \u001b[0m-11.26   \u001b[0m | \u001b[0m-32.46   \u001b[0m | \u001b[0m-0.3772  \u001b[0m |\n",
            "| \u001b[0m44       \u001b[0m | \u001b[0m-2.268   \u001b[0m | \u001b[0m-11.36   \u001b[0m | \u001b[0m-7.703   \u001b[0m | \u001b[0m-15.62   \u001b[0m | \u001b[0m-3.359   \u001b[0m |\n",
            "| \u001b[0m45       \u001b[0m | \u001b[0m-2.303   \u001b[0m | \u001b[0m-24.37   \u001b[0m | \u001b[0m-42.99   \u001b[0m | \u001b[0m-3.803   \u001b[0m | \u001b[0m-0.3787  \u001b[0m |\n",
            "| \u001b[0m46       \u001b[0m | \u001b[0m-97.0    \u001b[0m | \u001b[0m-38.76   \u001b[0m | \u001b[0m-4.23    \u001b[0m | \u001b[0m-45.82   \u001b[0m | \u001b[0m-7.188   \u001b[0m |\n",
            "| \u001b[0m47       \u001b[0m | \u001b[0m-2.293   \u001b[0m | \u001b[0m-44.53   \u001b[0m | \u001b[0m-33.8    \u001b[0m | \u001b[0m-9.506   \u001b[0m | \u001b[0m-9.975   \u001b[0m |\n",
            "| \u001b[0m48       \u001b[0m | \u001b[0m-1.459   \u001b[0m | \u001b[0m-38.38   \u001b[0m | \u001b[0m-47.77   \u001b[0m | \u001b[0m-32.0    \u001b[0m | \u001b[0m-4.789   \u001b[0m |\n",
            "| \u001b[0m49       \u001b[0m | \u001b[0m-1.761   \u001b[0m | \u001b[0m-14.89   \u001b[0m | \u001b[0m-10.79   \u001b[0m | \u001b[0m-22.92   \u001b[0m | \u001b[0m-9.983   \u001b[0m |\n",
            "| \u001b[0m50       \u001b[0m | \u001b[0m-211.3   \u001b[0m | \u001b[0m-35.91   \u001b[0m | \u001b[0m-4.045   \u001b[0m | \u001b[0m-26.35   \u001b[0m | \u001b[0m-4.155   \u001b[0m |\n",
            "| \u001b[0m51       \u001b[0m | \u001b[0m-175.6   \u001b[0m | \u001b[0m-6.606   \u001b[0m | \u001b[0m-16.81   \u001b[0m | \u001b[0m-39.13   \u001b[0m | \u001b[0m1.0      \u001b[0m |\n",
            "| \u001b[0m52       \u001b[0m | \u001b[0m-203.0   \u001b[0m | \u001b[0m-12.09   \u001b[0m | \u001b[0m-6.722   \u001b[0m | \u001b[0m-25.22   \u001b[0m | \u001b[0m-3.872   \u001b[0m |\n",
            "| \u001b[0m53       \u001b[0m | \u001b[0m-1.562   \u001b[0m | \u001b[0m-40.7    \u001b[0m | \u001b[0m-14.54   \u001b[0m | \u001b[0m-39.97   \u001b[0m | \u001b[0m-5.295   \u001b[0m |\n",
            "| \u001b[0m54       \u001b[0m | \u001b[0m-1.938   \u001b[0m | \u001b[0m-17.73   \u001b[0m | \u001b[0m-12.17   \u001b[0m | \u001b[0m-21.8    \u001b[0m | \u001b[0m-1.654   \u001b[0m |\n",
            "| \u001b[0m55       \u001b[0m | \u001b[0m-2.17    \u001b[0m | \u001b[0m-33.79   \u001b[0m | \u001b[0m-15.46   \u001b[0m | \u001b[0m-37.87   \u001b[0m | \u001b[0m-0.6788  \u001b[0m |\n",
            "| \u001b[0m56       \u001b[0m | \u001b[0m-2.284   \u001b[0m | \u001b[0m-33.87   \u001b[0m | \u001b[0m-17.36   \u001b[0m | \u001b[0m-40.77   \u001b[0m | \u001b[0m-9.835   \u001b[0m |\n",
            "| \u001b[0m57       \u001b[0m | \u001b[0m-1.758   \u001b[0m | \u001b[0m-42.6    \u001b[0m | \u001b[0m-20.21   \u001b[0m | \u001b[0m-34.05   \u001b[0m | \u001b[0m-2.212   \u001b[0m |\n",
            "| \u001b[0m58       \u001b[0m | \u001b[0m-2.132   \u001b[0m | \u001b[0m-42.93   \u001b[0m | \u001b[0m-14.86   \u001b[0m | \u001b[0m-28.07   \u001b[0m | \u001b[0m-7.202   \u001b[0m |\n",
            "| \u001b[0m59       \u001b[0m | \u001b[0m-1.676   \u001b[0m | \u001b[0m-35.56   \u001b[0m | \u001b[0m-11.22   \u001b[0m | \u001b[0m-33.01   \u001b[0m | \u001b[0m-7.409   \u001b[0m |\n",
            "| \u001b[0m60       \u001b[0m | \u001b[0m-2.153   \u001b[0m | \u001b[0m-35.29   \u001b[0m | \u001b[0m-20.47   \u001b[0m | \u001b[0m-32.87   \u001b[0m | \u001b[0m-6.992   \u001b[0m |\n",
            "| \u001b[0m61       \u001b[0m | \u001b[0m-1.822   \u001b[0m | \u001b[0m-35.72   \u001b[0m | \u001b[0m-15.24   \u001b[0m | \u001b[0m-26.67   \u001b[0m | \u001b[0m-1.543   \u001b[0m |\n",
            "| \u001b[0m62       \u001b[0m | \u001b[0m-2.346   \u001b[0m | \u001b[0m-44.3    \u001b[0m | \u001b[0m-6.7     \u001b[0m | \u001b[0m-37.83   \u001b[0m | \u001b[0m-7.946   \u001b[0m |\n",
            "| \u001b[95m63       \u001b[0m | \u001b[95m-1.444   \u001b[0m | \u001b[95m-39.71   \u001b[0m | \u001b[95m-23.32   \u001b[0m | \u001b[95m-24.63   \u001b[0m | \u001b[95m-4.784   \u001b[0m |\n",
            "| \u001b[0m64       \u001b[0m | \u001b[0m-1.505   \u001b[0m | \u001b[0m-26.77   \u001b[0m | \u001b[0m-15.6    \u001b[0m | \u001b[0m-32.46   \u001b[0m | \u001b[0m-5.064   \u001b[0m |\n",
            "| \u001b[0m65       \u001b[0m | \u001b[0m-2.208   \u001b[0m | \u001b[0m-20.71   \u001b[0m | \u001b[0m-7.774   \u001b[0m | \u001b[0m-30.54   \u001b[0m | \u001b[0m-4.966   \u001b[0m |\n",
            "| \u001b[0m66       \u001b[0m | \u001b[0m-219.9   \u001b[0m | \u001b[0m-28.2    \u001b[0m | \u001b[0m-6.009   \u001b[0m | \u001b[0m-35.94   \u001b[0m | \u001b[0m-2.281   \u001b[0m |\n",
            "| \u001b[0m67       \u001b[0m | \u001b[0m-2.331   \u001b[0m | \u001b[0m-21.56   \u001b[0m | \u001b[0m-6.311   \u001b[0m | \u001b[0m-39.08   \u001b[0m | \u001b[0m-8.985   \u001b[0m |\n",
            "| \u001b[0m68       \u001b[0m | \u001b[0m-1.858   \u001b[0m | \u001b[0m-28.57   \u001b[0m | \u001b[0m-9.946   \u001b[0m | \u001b[0m-25.12   \u001b[0m | \u001b[0m-6.538   \u001b[0m |\n",
            "| \u001b[0m69       \u001b[0m | \u001b[0m-2.331   \u001b[0m | \u001b[0m-37.19   \u001b[0m | \u001b[0m-5.919   \u001b[0m | \u001b[0m-39.08   \u001b[0m | \u001b[0m-1.001   \u001b[0m |\n",
            "| \u001b[0m70       \u001b[0m | \u001b[0m-2.0     \u001b[0m | \u001b[0m-37.73   \u001b[0m | \u001b[0m-13.48   \u001b[0m | \u001b[0m-19.47   \u001b[0m | \u001b[0m-7.289   \u001b[0m |\n",
            "| \u001b[0m71       \u001b[0m | \u001b[0m-2.01    \u001b[0m | \u001b[0m-13.08   \u001b[0m | \u001b[0m-9.44    \u001b[0m | \u001b[0m-35.13   \u001b[0m | \u001b[0m-2.537   \u001b[0m |\n",
            "| \u001b[0m72       \u001b[0m | \u001b[0m-2.258   \u001b[0m | \u001b[0m-32.74   \u001b[0m | \u001b[0m-7.95    \u001b[0m | \u001b[0m-40.95   \u001b[0m | \u001b[0m-9.714   \u001b[0m |\n",
            "| \u001b[0m73       \u001b[0m | \u001b[0m-2.932   \u001b[0m | \u001b[0m-42.0    \u001b[0m | \u001b[0m-9.206   \u001b[0m | \u001b[0m-21.74   \u001b[0m | \u001b[0m-0.2656  \u001b[0m |\n",
            "| \u001b[0m74       \u001b[0m | \u001b[0m-619.4   \u001b[0m | \u001b[0m-33.58   \u001b[0m | \u001b[0m-5.257   \u001b[0m | \u001b[0m-16.39   \u001b[0m | \u001b[0m-4.624   \u001b[0m |\n",
            "| \u001b[0m75       \u001b[0m | \u001b[0m-817.2   \u001b[0m | \u001b[0m-15.32   \u001b[0m | \u001b[0m-3.35    \u001b[0m | \u001b[0m-16.15   \u001b[0m | \u001b[0m-10.0    \u001b[0m |\n",
            "| \u001b[0m76       \u001b[0m | \u001b[0m-2.176   \u001b[0m | \u001b[0m-18.9    \u001b[0m | \u001b[0m-18.74   \u001b[0m | \u001b[0m-16.88   \u001b[0m | \u001b[0m-7.206   \u001b[0m |\n",
            "| \u001b[0m77       \u001b[0m | \u001b[0m-1.515   \u001b[0m | \u001b[0m-27.89   \u001b[0m | \u001b[0m-17.82   \u001b[0m | \u001b[0m-20.08   \u001b[0m | \u001b[0m-3.476   \u001b[0m |\n",
            "| \u001b[0m78       \u001b[0m | \u001b[0m-1.579   \u001b[0m | \u001b[0m-33.83   \u001b[0m | \u001b[0m-15.03   \u001b[0m | \u001b[0m-10.83   \u001b[0m | \u001b[0m-3.278   \u001b[0m |\n",
            "| \u001b[0m79       \u001b[0m | \u001b[0m-2.25    \u001b[0m | \u001b[0m-34.26   \u001b[0m | \u001b[0m-22.91   \u001b[0m | \u001b[0m-15.86   \u001b[0m | \u001b[0m-8.311   \u001b[0m |\n",
            "| \u001b[0m80       \u001b[0m | \u001b[0m-230.3   \u001b[0m | \u001b[0m-36.77   \u001b[0m | \u001b[0m-18.52   \u001b[0m | \u001b[0m-17.68   \u001b[0m | \u001b[0m0.7672   \u001b[0m |\n",
            "| \u001b[0m81       \u001b[0m | \u001b[0m-2.188   \u001b[0m | \u001b[0m-26.39   \u001b[0m | \u001b[0m-20.87   \u001b[0m | \u001b[0m-10.21   \u001b[0m | \u001b[0m-7.061   \u001b[0m |\n",
            "| \u001b[0m82       \u001b[0m | \u001b[0m-2.278   \u001b[0m | \u001b[0m-33.03   \u001b[0m | \u001b[0m-24.49   \u001b[0m | \u001b[0m-8.076   \u001b[0m | \u001b[0m-0.7166  \u001b[0m |\n",
            "| \u001b[0m83       \u001b[0m | \u001b[0m-1.82    \u001b[0m | \u001b[0m-24.18   \u001b[0m | \u001b[0m-26.79   \u001b[0m | \u001b[0m-16.37   \u001b[0m | \u001b[0m-2.581   \u001b[0m |\n",
            "| \u001b[0m84       \u001b[0m | \u001b[0m-120.4   \u001b[0m | \u001b[0m-24.07   \u001b[0m | \u001b[0m-16.33   \u001b[0m | \u001b[0m-12.56   \u001b[0m | \u001b[0m1.0      \u001b[0m |\n",
            "| \u001b[0m85       \u001b[0m | \u001b[0m-2.285   \u001b[0m | \u001b[0m-32.93   \u001b[0m | \u001b[0m-30.38   \u001b[0m | \u001b[0m-8.874   \u001b[0m | \u001b[0m-8.918   \u001b[0m |\n",
            "| \u001b[0m86       \u001b[0m | \u001b[0m-83.64   \u001b[0m | \u001b[0m-35.96   \u001b[0m | \u001b[0m-28.83   \u001b[0m | \u001b[0m-17.9    \u001b[0m | \u001b[0m0.5354   \u001b[0m |\n",
            "| \u001b[0m87       \u001b[0m | \u001b[0m-2.012   \u001b[0m | \u001b[0m-29.24   \u001b[0m | \u001b[0m-13.1    \u001b[0m | \u001b[0m-15.07   \u001b[0m | \u001b[0m-10.0    \u001b[0m |\n",
            "| \u001b[0m88       \u001b[0m | \u001b[0m-86.88   \u001b[0m | \u001b[0m-46.03   \u001b[0m | \u001b[0m-28.12   \u001b[0m | \u001b[0m-18.54   \u001b[0m | \u001b[0m-0.2787  \u001b[0m |\n",
            "| \u001b[0m89       \u001b[0m | \u001b[0m-2.099   \u001b[0m | \u001b[0m-27.95   \u001b[0m | \u001b[0m-34.28   \u001b[0m | \u001b[0m-10.18   \u001b[0m | \u001b[0m-0.9262  \u001b[0m |\n",
            "| \u001b[0m90       \u001b[0m | \u001b[0m-1.641   \u001b[0m | \u001b[0m-37.85   \u001b[0m | \u001b[0m-36.75   \u001b[0m | \u001b[0m-11.45   \u001b[0m | \u001b[0m-2.013   \u001b[0m |\n",
            "| \u001b[0m91       \u001b[0m | \u001b[0m-2.177   \u001b[0m | \u001b[0m-31.86   \u001b[0m | \u001b[0m-33.33   \u001b[0m | \u001b[0m-18.07   \u001b[0m | \u001b[0m-7.207   \u001b[0m |\n",
            "| \u001b[95m92       \u001b[0m | \u001b[95m-1.434   \u001b[0m | \u001b[95m-29.93   \u001b[0m | \u001b[95m-26.1    \u001b[0m | \u001b[95m-25.45   \u001b[0m | \u001b[95m-4.174   \u001b[0m |\n",
            "| \u001b[0m93       \u001b[0m | \u001b[0m-1.648   \u001b[0m | \u001b[0m-40.51   \u001b[0m | \u001b[0m-36.76   \u001b[0m | \u001b[0m-21.86   \u001b[0m | \u001b[0m-2.611   \u001b[0m |\n",
            "| \u001b[0m94       \u001b[0m | \u001b[0m-134.5   \u001b[0m | \u001b[0m-29.04   \u001b[0m | \u001b[0m-4.432   \u001b[0m | \u001b[0m-45.95   \u001b[0m | \u001b[0m-2.305   \u001b[0m |\n",
            "| \u001b[0m95       \u001b[0m | \u001b[0m-2.292   \u001b[0m | \u001b[0m-31.97   \u001b[0m | \u001b[0m-18.48   \u001b[0m | \u001b[0m-24.9    \u001b[0m | \u001b[0m-10.0    \u001b[0m |\n",
            "| \u001b[0m96       \u001b[0m | \u001b[0m-183.4   \u001b[0m | \u001b[0m-19.58   \u001b[0m | \u001b[0m-21.61   \u001b[0m | \u001b[0m-23.14   \u001b[0m | \u001b[0m0.6406   \u001b[0m |\n",
            "| \u001b[0m97       \u001b[0m | \u001b[0m-1.709   \u001b[0m | \u001b[0m-15.84   \u001b[0m | \u001b[0m-11.62   \u001b[0m | \u001b[0m-11.18   \u001b[0m | \u001b[0m-10.0    \u001b[0m |\n",
            "| \u001b[0m98       \u001b[0m | \u001b[0m-2.013   \u001b[0m | \u001b[0m-25.68   \u001b[0m | \u001b[0m-9.745   \u001b[0m | \u001b[0m-7.145   \u001b[0m | \u001b[0m-5.558   \u001b[0m |\n",
            "| \u001b[0m99       \u001b[0m | \u001b[0m-1.735   \u001b[0m | \u001b[0m-47.62   \u001b[0m | \u001b[0m-37.9    \u001b[0m | \u001b[0m-14.44   \u001b[0m | \u001b[0m-1.571   \u001b[0m |\n",
            "| \u001b[0m100      \u001b[0m | \u001b[0m-2.303   \u001b[0m | \u001b[0m-28.3    \u001b[0m | \u001b[0m-18.03   \u001b[0m | \u001b[0m-3.26    \u001b[0m | \u001b[0m-0.03892 \u001b[0m |\n",
            "=========================================================================\n",
            "CPU times: user 8min 16s, sys: 1min 36s, total: 9min 53s\n",
            "Wall time: 6min 16s\n"
          ]
        }
      ]
    },
    {
      "cell_type": "markdown",
      "metadata": {
        "id": "ZB84SOyx_DR5"
      },
      "source": [
        "## 2.2 Test-Set Evaluation"
      ]
    },
    {
      "cell_type": "code",
      "execution_count": 135,
      "metadata": {
        "id": "FrF301yq_DR5"
      },
      "outputs": [],
      "source": [
        "vdekf_model = 'vdekf'\n",
        "vdekf_hparams = {\n",
        "    'initial_covariance': 0.015392901203046557,\n",
        "    'dynamics_weights': 0.9999999999911767,\n",
        "    'dynamics_covariance': 4.633245792886166e-12,\n",
        "    'dynamics_covariance_inflation_factor': 1.0039872520262076e-13\n",
        "}"
      ]
    },
    {
      "cell_type": "code",
      "execution_count": 136,
      "metadata": {
        "id": "MO4_FtSW_DR5"
      },
      "outputs": [],
      "source": [
        "# vdekf_hparams = hpt.get_best_params(vdekf_optimizer, method=vdekf_model)\n",
        "vdekf_estimator = hpt.build_estimator(model_dict['flat_params'], model_dict['apply_fn'],\n",
        "                                      vdekf_hparams, model_dict['emission_mean_function'],\n",
        "                                      model_dict['emission_cov_function'], \n",
        "                                      method=vdekf_model)"
      ]
    },
    {
      "cell_type": "code",
      "execution_count": 137,
      "metadata": {
        "colab": {
          "base_uri": "https://localhost:8080/"
        },
        "id": "YEmbrdcr_DR5",
        "outputId": "cf545f8d-4982-4d8c-82cc-78c3dc2f9efa"
      },
      "outputs": [
        {
          "output_type": "execute_result",
          "data": {
            "text/plain": [
              "{'initial_covariance': 0.015392901203046557,\n",
              " 'dynamics_weights': 0.9999999999911767,\n",
              " 'dynamics_covariance': 4.633245792886166e-12,\n",
              " 'dynamics_covariance_inflation_factor': 1.0039872520262076e-13}"
            ]
          },
          "metadata": {},
          "execution_count": 137
        }
      ],
      "source": [
        "vdekf_hparams"
      ]
    },
    {
      "cell_type": "code",
      "execution_count": 138,
      "metadata": {
        "colab": {
          "base_uri": "https://localhost:8080/"
        },
        "id": "4CopepYD_DR5",
        "outputId": "9629c264-378d-4be6-f27f-d8351a441cb7"
      },
      "outputs": [
        {
          "output_type": "stream",
          "name": "stderr",
          "text": [
            "100%|██████████| 5/5 [01:39<00:00, 19.95s/it]\n"
          ]
        }
      ],
      "source": [
        "vdekf_res = evaluate_model(vdekf_estimator)"
      ]
    },
    {
      "cell_type": "code",
      "execution_count": 139,
      "metadata": {
        "id": "eXBaOpjp_DR5"
      },
      "outputs": [],
      "source": [
        "filename = f'vdekf_result.pkl'\n",
        "with open(Path(output_path, filename), \"wb\") as f:\n",
        "    pickle.dump(vdekf_res, f)"
      ]
    },
    {
      "cell_type": "markdown",
      "metadata": {
        "id": "PMysL9SB_DR5"
      },
      "source": [
        "# 3. LoFi (Rank 2)"
      ]
    },
    {
      "cell_type": "markdown",
      "metadata": {
        "id": "Eu1vVuXj_DR5"
      },
      "source": [
        "## 3.1 Hyperparam Tuning"
      ]
    },
    {
      "cell_type": "code",
      "execution_count": 41,
      "metadata": {
        "id": "q6ntlzfk_DR6"
      },
      "outputs": [],
      "source": [
        "lofi_2_params = LoFiParams(\n",
        "    memory_size=2,\n",
        "    diagonal_covariance=True,\n",
        ")"
      ]
    },
    {
      "cell_type": "code",
      "source": [
        "pbounds={\n",
        "    'log_init_cov': (-10, 0),\n",
        "    'log_dynamics_weights': (-40, 0),\n",
        "    'log_dynamics_cov': (-40, 0),\n",
        "    'log_alpha': (-40, 0),\n",
        "}"
      ],
      "metadata": {
        "id": "AVO2DbTuUgEX"
      },
      "execution_count": 42,
      "outputs": []
    },
    {
      "cell_type": "code",
      "execution_count": 43,
      "metadata": {
        "id": "aroMjGES_DR6"
      },
      "outputs": [],
      "source": [
        "lofi_2_optimizer, apply_fn, n_feats = hpt.create_optimizer(\n",
        "    model_dict[\"model\"], pbounds, 314, warmup_train, warmup_val, \n",
        "    model_dict[\"emission_mean_function\"], model_dict[\"emission_cov_function\"],\n",
        "    ll_calback, 'lofi', lofi_params=lofi_2_params\n",
        ")"
      ]
    },
    {
      "cell_type": "code",
      "source": [
        "%%time\n",
        "lofi_2_optimizer.maximize(\n",
        "    init_points=20,\n",
        "    n_iter=25,\n",
        ")"
      ],
      "metadata": {
        "id": "Faq0e3MTe532",
        "outputId": "6f55d5c5-2418-4e60-83a3-825e05d12fd6",
        "colab": {
          "base_uri": "https://localhost:8080/"
        }
      },
      "execution_count": null,
      "outputs": [
        {
          "output_type": "stream",
          "name": "stdout",
          "text": [
            "|   iter    |  target   | log_alpha | log_dy... | log_dy... | log_in... |\n",
            "-------------------------------------------------------------------------\n",
            "| \u001b[0m1        \u001b[0m | \u001b[0m-2.376   \u001b[0m | \u001b[0m-3.325   \u001b[0m | \u001b[0m-16.46   \u001b[0m | \u001b[0m-29.4    \u001b[0m | \u001b[0m-2.168   \u001b[0m |\n"
          ]
        }
      ]
    },
    {
      "cell_type": "markdown",
      "metadata": {
        "id": "YTFXieZi_DR6"
      },
      "source": [
        "## 3.2 Test-Set Evaluation"
      ]
    },
    {
      "cell_type": "code",
      "execution_count": 144,
      "metadata": {
        "id": "GVduvSoa_DR6"
      },
      "outputs": [],
      "source": [
        "lofi_2_hparams = {\n",
        "    'initial_covariance': 0.015181455367452369,\n",
        "    'dynamics_weights': 0.999999938814697,\n",
        "    'dynamics_covariance': 4.2311825285784173e-07,\n",
        "    'dynamics_covariance_inflation_factor': 6.96219159113032e-17\n",
        "}"
      ]
    },
    {
      "cell_type": "code",
      "execution_count": 145,
      "metadata": {
        "id": "HD4pvyHE_DR6"
      },
      "outputs": [],
      "source": [
        "# lofi_2_hparams = hpt.get_best_params(lofi_2_optimizer, method='lofi')\n",
        "lofi_2_estimator = hpt.build_estimator(model_dict['flat_params'], model_dict['apply_fn'],\n",
        "                                       lofi_2_hparams, model_dict['emission_mean_function'],\n",
        "                                       model_dict['emission_cov_function'], \n",
        "                                       method='lofi', lofi_params=lofi_2_params)"
      ]
    },
    {
      "cell_type": "code",
      "execution_count": 146,
      "metadata": {
        "id": "2OjUEjFg_DR6",
        "colab": {
          "base_uri": "https://localhost:8080/"
        },
        "outputId": "305e6ba8-5750-49d1-bfd4-e90e473df9cc"
      },
      "outputs": [
        {
          "output_type": "execute_result",
          "data": {
            "text/plain": [
              "{'initial_covariance': 0.015181455367452369,\n",
              " 'dynamics_weights': 0.999999938814697,\n",
              " 'dynamics_covariance': 4.2311825285784173e-07,\n",
              " 'dynamics_covariance_inflation_factor': 6.96219159113032e-17}"
            ]
          },
          "metadata": {},
          "execution_count": 146
        }
      ],
      "source": [
        "lofi_2_hparams"
      ]
    },
    {
      "cell_type": "code",
      "execution_count": 147,
      "metadata": {
        "id": "YG9F74zb_DR6",
        "colab": {
          "base_uri": "https://localhost:8080/"
        },
        "outputId": "673bd971-1886-4051-e561-6024a65fb5af"
      },
      "outputs": [
        {
          "output_type": "stream",
          "name": "stderr",
          "text": [
            "100%|██████████| 5/5 [03:46<00:00, 45.32s/it]\n"
          ]
        }
      ],
      "source": [
        "lofi_2_res = evaluate_model(lofi_2_estimator)"
      ]
    },
    {
      "cell_type": "code",
      "source": [
        "filename = f'lofi_2_result.pkl'\n",
        "with open(Path(output_path, filename), \"wb\") as f:\n",
        "    pickle.dump(lofi_2_res, f)"
      ],
      "metadata": {
        "id": "9iiL-FV0ISl4"
      },
      "execution_count": 148,
      "outputs": []
    },
    {
      "cell_type": "markdown",
      "metadata": {
        "id": "5u0tR_k9_DR6"
      },
      "source": [
        "# 4. LoFi (Rank 5)"
      ]
    },
    {
      "cell_type": "markdown",
      "metadata": {
        "id": "nIYr-l6x_DR6"
      },
      "source": [
        "## 4.1 Hyperparam Tuning"
      ]
    },
    {
      "cell_type": "code",
      "execution_count": 149,
      "metadata": {
        "id": "RO8wH09k_DR6"
      },
      "outputs": [],
      "source": [
        "lofi_5_params = LoFiParams(\n",
        "    memory_size=5,\n",
        "    diagonal_covariance=True,\n",
        ")"
      ]
    },
    {
      "cell_type": "code",
      "execution_count": 150,
      "metadata": {
        "id": "7lZkvenk_DR6"
      },
      "outputs": [],
      "source": [
        "lofi_5_optimizer, apply_fn, n_feats = hpt.create_optimizer(\n",
        "    model_dict[\"model\"], pbounds, 314, warmup_train, warmup_val, \n",
        "    model_dict[\"emission_mean_function\"], model_dict[\"emission_cov_function\"],\n",
        "    ll_calback, 'lofi', lofi_params=lofi_5_params\n",
        ")"
      ]
    },
    {
      "cell_type": "code",
      "source": [
        "%%time\n",
        "lofi_5_optimizer.maximize(\n",
        "    init_points=50,\n",
        "    n_iter=50,\n",
        ")"
      ],
      "metadata": {
        "id": "PZa3RxhqXlbK",
        "colab": {
          "base_uri": "https://localhost:8080/"
        },
        "outputId": "b086f0c0-356c-47e6-d7ed-0b15938cee9f"
      },
      "execution_count": 151,
      "outputs": [
        {
          "output_type": "stream",
          "name": "stdout",
          "text": [
            "|   iter    |  target   | log_alpha | log_dy... | log_dy... | log_in... |\n",
            "-------------------------------------------------------------------------\n",
            "| \u001b[0m1        \u001b[0m | \u001b[0m-2.317   \u001b[0m | \u001b[0m-3.325   \u001b[0m | \u001b[0m-16.46   \u001b[0m | \u001b[0m-29.4    \u001b[0m | \u001b[0m-2.168   \u001b[0m |\n",
            "| \u001b[0m2        \u001b[0m | \u001b[0m-118.1   \u001b[0m | \u001b[0m-3.28    \u001b[0m | \u001b[0m-6.906   \u001b[0m | \u001b[0m-10.88   \u001b[0m | \u001b[0m-7.395   \u001b[0m |\n",
            "| \u001b[95m3        \u001b[0m | \u001b[95m-2.31    \u001b[0m | \u001b[95m-3.529   \u001b[0m | \u001b[95m-29.57   \u001b[0m | \u001b[95m-9.345   \u001b[0m | \u001b[95m-7.385   \u001b[0m |\n",
            "| \u001b[95m4        \u001b[0m | \u001b[95m-2.303   \u001b[0m | \u001b[95m-35.11   \u001b[0m | \u001b[95m-24.56   \u001b[0m | \u001b[95m-6.397   \u001b[0m | \u001b[95m-7.218   \u001b[0m |\n",
            "| \u001b[95m5        \u001b[0m | \u001b[95m-1.256   \u001b[0m | \u001b[95m-37.2    \u001b[0m | \u001b[95m-14.68   \u001b[0m | \u001b[95m-16.61   \u001b[0m | \u001b[95m-4.188   \u001b[0m |\n",
            "| \u001b[0m6        \u001b[0m | \u001b[0m-1.57    \u001b[0m | \u001b[0m-12.91   \u001b[0m | \u001b[0m-12.51   \u001b[0m | \u001b[0m-22.44   \u001b[0m | \u001b[0m-6.791   \u001b[0m |\n",
            "| \u001b[0m7        \u001b[0m | \u001b[0m-2.303   \u001b[0m | \u001b[0m-17.18   \u001b[0m | \u001b[0m-20.81   \u001b[0m | \u001b[0m-5.557   \u001b[0m | \u001b[0m-1.652   \u001b[0m |\n",
            "| \u001b[0m8        \u001b[0m | \u001b[0m-1.403   \u001b[0m | \u001b[0m-35.77   \u001b[0m | \u001b[0m-37.58   \u001b[0m | \u001b[0m-16.12   \u001b[0m | \u001b[0m-2.076   \u001b[0m |\n",
            "| \u001b[0m9        \u001b[0m | \u001b[0m-1.978   \u001b[0m | \u001b[0m-30.95   \u001b[0m | \u001b[0m-18.59   \u001b[0m | \u001b[0m-34.56   \u001b[0m | \u001b[0m-6.278   \u001b[0m |\n",
            "| \u001b[0m10       \u001b[0m | \u001b[0m-2.216   \u001b[0m | \u001b[0m-33.92   \u001b[0m | \u001b[0m-22.81   \u001b[0m | \u001b[0m-8.292   \u001b[0m | \u001b[0m-5.93    \u001b[0m |\n",
            "| \u001b[0m11       \u001b[0m | \u001b[0m-193.2   \u001b[0m | \u001b[0m-32.89   \u001b[0m | \u001b[0m-3.63    \u001b[0m | \u001b[0m-18.19   \u001b[0m | \u001b[0m-8.995   \u001b[0m |\n",
            "| \u001b[0m12       \u001b[0m | \u001b[0m-2.199e+0\u001b[0m | \u001b[0m-11.25   \u001b[0m | \u001b[0m-0.8628  \u001b[0m | \u001b[0m-27.61   \u001b[0m | \u001b[0m-7.399   \u001b[0m |\n",
            "| \u001b[0m13       \u001b[0m | \u001b[0m-1.28    \u001b[0m | \u001b[0m-13.48   \u001b[0m | \u001b[0m-34.41   \u001b[0m | \u001b[0m-36.65   \u001b[0m | \u001b[0m-4.732   \u001b[0m |\n",
            "| \u001b[0m14       \u001b[0m | \u001b[0m-139.6   \u001b[0m | \u001b[0m-15.59   \u001b[0m | \u001b[0m-5.304   \u001b[0m | \u001b[0m-34.04   \u001b[0m | \u001b[0m-1.359   \u001b[0m |\n",
            "| \u001b[0m15       \u001b[0m | \u001b[0m-1.406   \u001b[0m | \u001b[0m-22.0    \u001b[0m | \u001b[0m-10.93   \u001b[0m | \u001b[0m-33.8    \u001b[0m | \u001b[0m-5.829   \u001b[0m |\n",
            "| \u001b[0m16       \u001b[0m | \u001b[0m-2.281   \u001b[0m | \u001b[0m-34.3    \u001b[0m | \u001b[0m-26.43   \u001b[0m | \u001b[0m-11.89   \u001b[0m | \u001b[0m-9.229   \u001b[0m |\n",
            "| \u001b[0m17       \u001b[0m | \u001b[0m-741.6   \u001b[0m | \u001b[0m-37.18   \u001b[0m | \u001b[0m-0.7213  \u001b[0m | \u001b[0m-38.34   \u001b[0m | \u001b[0m-9.007   \u001b[0m |\n",
            "| \u001b[0m18       \u001b[0m | \u001b[0m-2.303   \u001b[0m | \u001b[0m-31.18   \u001b[0m | \u001b[0m-13.6    \u001b[0m | \u001b[0m-0.1541  \u001b[0m | \u001b[0m-0.3022  \u001b[0m |\n",
            "| \u001b[0m19       \u001b[0m | \u001b[0m-6.159e+0\u001b[0m | \u001b[0m-12.94   \u001b[0m | \u001b[0m-0.06077 \u001b[0m | \u001b[0m-35.15   \u001b[0m | \u001b[0m-5.638   \u001b[0m |\n",
            "| \u001b[0m20       \u001b[0m | \u001b[0m-1.303   \u001b[0m | \u001b[0m-33.31   \u001b[0m | \u001b[0m-18.11   \u001b[0m | \u001b[0m-9.157   \u001b[0m | \u001b[0m-4.336   \u001b[0m |\n",
            "| \u001b[0m21       \u001b[0m | \u001b[0m-3.195   \u001b[0m | \u001b[0m-27.74   \u001b[0m | \u001b[0m-0.8882  \u001b[0m | \u001b[0m-4.452   \u001b[0m | \u001b[0m-7.633   \u001b[0m |\n",
            "| \u001b[0m22       \u001b[0m | \u001b[0m-2.303   \u001b[0m | \u001b[0m-12.58   \u001b[0m | \u001b[0m-36.7    \u001b[0m | \u001b[0m-5.273   \u001b[0m | \u001b[0m-6.59    \u001b[0m |\n",
            "| \u001b[0m23       \u001b[0m | \u001b[0m-2.293   \u001b[0m | \u001b[0m-14.74   \u001b[0m | \u001b[0m-25.22   \u001b[0m | \u001b[0m-7.529   \u001b[0m | \u001b[0m-6.144   \u001b[0m |\n",
            "| \u001b[0m24       \u001b[0m | \u001b[0m-2.131   \u001b[0m | \u001b[0m-21.23   \u001b[0m | \u001b[0m-31.49   \u001b[0m | \u001b[0m-31.5    \u001b[0m | \u001b[0m-6.877   \u001b[0m |\n",
            "| \u001b[0m25       \u001b[0m | \u001b[0m-2.658   \u001b[0m | \u001b[0m-18.41   \u001b[0m | \u001b[0m-6.95    \u001b[0m | \u001b[0m-13.72   \u001b[0m | \u001b[0m-5.69    \u001b[0m |\n",
            "| \u001b[0m26       \u001b[0m | \u001b[0m-1.765   \u001b[0m | \u001b[0m-6.284   \u001b[0m | \u001b[0m-35.38   \u001b[0m | \u001b[0m-19.55   \u001b[0m | \u001b[0m-2.765   \u001b[0m |\n",
            "| \u001b[0m27       \u001b[0m | \u001b[0m-1.839   \u001b[0m | \u001b[0m-38.55   \u001b[0m | \u001b[0m-12.87   \u001b[0m | \u001b[0m-28.82   \u001b[0m | \u001b[0m-8.103   \u001b[0m |\n",
            "| \u001b[95m28       \u001b[0m | \u001b[95m-1.231   \u001b[0m | \u001b[95m-24.51   \u001b[0m | \u001b[95m-18.24   \u001b[0m | \u001b[95m-32.42   \u001b[0m | \u001b[95m-4.209   \u001b[0m |\n",
            "| \u001b[0m29       \u001b[0m | \u001b[0m-1.282   \u001b[0m | \u001b[0m-29.01   \u001b[0m | \u001b[0m-14.26   \u001b[0m | \u001b[0m-37.07   \u001b[0m | \u001b[0m-3.494   \u001b[0m |\n",
            "| \u001b[0m30       \u001b[0m | \u001b[0m-2.698   \u001b[0m | \u001b[0m-3.589   \u001b[0m | \u001b[0m-14.74   \u001b[0m | \u001b[0m-18.65   \u001b[0m | \u001b[0m-1.161   \u001b[0m |\n",
            "| \u001b[0m31       \u001b[0m | \u001b[0m-2.294   \u001b[0m | \u001b[0m-14.72   \u001b[0m | \u001b[0m-33.4    \u001b[0m | \u001b[0m-29.6    \u001b[0m | \u001b[0m-9.884   \u001b[0m |\n",
            "| \u001b[0m32       \u001b[0m | \u001b[0m-3.035   \u001b[0m | \u001b[0m-0.2037  \u001b[0m | \u001b[0m-7.485   \u001b[0m | \u001b[0m-7.632   \u001b[0m | \u001b[0m-1.068   \u001b[0m |\n",
            "| \u001b[0m33       \u001b[0m | \u001b[0m-2.303   \u001b[0m | \u001b[0m-30.93   \u001b[0m | \u001b[0m-18.67   \u001b[0m | \u001b[0m-2.163   \u001b[0m | \u001b[0m-7.967   \u001b[0m |\n",
            "| \u001b[0m34       \u001b[0m | \u001b[0m-416.1   \u001b[0m | \u001b[0m-5.548   \u001b[0m | \u001b[0m-4.321   \u001b[0m | \u001b[0m-17.0    \u001b[0m | \u001b[0m-9.934   \u001b[0m |\n",
            "| \u001b[0m35       \u001b[0m | \u001b[0m-2.403   \u001b[0m | \u001b[0m-8.735   \u001b[0m | \u001b[0m-8.361   \u001b[0m | \u001b[0m-13.89   \u001b[0m | \u001b[0m-4.914   \u001b[0m |\n",
            "| \u001b[0m36       \u001b[0m | \u001b[0m-2.314   \u001b[0m | \u001b[0m-1.607   \u001b[0m | \u001b[0m-19.02   \u001b[0m | \u001b[0m-27.5    \u001b[0m | \u001b[0m-6.995   \u001b[0m |\n",
            "| \u001b[0m37       \u001b[0m | \u001b[0m-3.125   \u001b[0m | \u001b[0m-3.691   \u001b[0m | \u001b[0m-7.406   \u001b[0m | \u001b[0m-22.67   \u001b[0m | \u001b[0m-3.497   \u001b[0m |\n",
            "| \u001b[0m38       \u001b[0m | \u001b[0m-1.339   \u001b[0m | \u001b[0m-10.84   \u001b[0m | \u001b[0m-21.21   \u001b[0m | \u001b[0m-13.52   \u001b[0m | \u001b[0m-2.857   \u001b[0m |\n",
            "| \u001b[0m39       \u001b[0m | \u001b[0m-2.258   \u001b[0m | \u001b[0m-19.86   \u001b[0m | \u001b[0m-38.73   \u001b[0m | \u001b[0m-37.56   \u001b[0m | \u001b[0m-8.48    \u001b[0m |\n",
            "| \u001b[0m40       \u001b[0m | \u001b[0m-1.466   \u001b[0m | \u001b[0m-37.66   \u001b[0m | \u001b[0m-10.6    \u001b[0m | \u001b[0m-36.66   \u001b[0m | \u001b[0m-8.16    \u001b[0m |\n",
            "| \u001b[0m41       \u001b[0m | \u001b[0m-1.38    \u001b[0m | \u001b[0m-38.67   \u001b[0m | \u001b[0m-19.73   \u001b[0m | \u001b[0m-21.96   \u001b[0m | \u001b[0m-3.031   \u001b[0m |\n",
            "| \u001b[0m42       \u001b[0m | \u001b[0m-2.3     \u001b[0m | \u001b[0m-14.82   \u001b[0m | \u001b[0m-18.42   \u001b[0m | \u001b[0m-6.447   \u001b[0m | \u001b[0m-2.425   \u001b[0m |\n",
            "| \u001b[0m43       \u001b[0m | \u001b[0m-2.063   \u001b[0m | \u001b[0m-33.26   \u001b[0m | \u001b[0m-9.006   \u001b[0m | \u001b[0m-25.96   \u001b[0m | \u001b[0m-1.252   \u001b[0m |\n",
            "| \u001b[0m44       \u001b[0m | \u001b[0m-26.03   \u001b[0m | \u001b[0m-9.092   \u001b[0m | \u001b[0m-6.162   \u001b[0m | \u001b[0m-12.5    \u001b[0m | \u001b[0m-3.962   \u001b[0m |\n",
            "| \u001b[0m45       \u001b[0m | \u001b[0m-2.303   \u001b[0m | \u001b[0m-19.49   \u001b[0m | \u001b[0m-34.39   \u001b[0m | \u001b[0m-3.042   \u001b[0m | \u001b[0m-1.253   \u001b[0m |\n",
            "| \u001b[0m46       \u001b[0m | \u001b[0m-3.264e+0\u001b[0m | \u001b[0m-31.01   \u001b[0m | \u001b[0m-3.384   \u001b[0m | \u001b[0m-36.65   \u001b[0m | \u001b[0m-7.443   \u001b[0m |\n",
            "| \u001b[0m47       \u001b[0m | \u001b[0m-2.301   \u001b[0m | \u001b[0m-35.62   \u001b[0m | \u001b[0m-27.04   \u001b[0m | \u001b[0m-7.605   \u001b[0m | \u001b[0m-9.977   \u001b[0m |\n",
            "| \u001b[0m48       \u001b[0m | \u001b[0m-1.409   \u001b[0m | \u001b[0m-30.7    \u001b[0m | \u001b[0m-38.22   \u001b[0m | \u001b[0m-25.6    \u001b[0m | \u001b[0m-5.262   \u001b[0m |\n",
            "| \u001b[0m49       \u001b[0m | \u001b[0m-2.317   \u001b[0m | \u001b[0m-11.91   \u001b[0m | \u001b[0m-8.632   \u001b[0m | \u001b[0m-18.34   \u001b[0m | \u001b[0m-9.985   \u001b[0m |\n",
            "| \u001b[0m50       \u001b[0m | \u001b[0m-684.6   \u001b[0m | \u001b[0m-28.73   \u001b[0m | \u001b[0m-3.236   \u001b[0m | \u001b[0m-21.08   \u001b[0m | \u001b[0m-4.687   \u001b[0m |\n",
            "| \u001b[0m51       \u001b[0m | \u001b[0m-2.27    \u001b[0m | \u001b[0m-18.39   \u001b[0m | \u001b[0m-9.756   \u001b[0m | \u001b[0m-33.18   \u001b[0m | \u001b[0m-0.6179  \u001b[0m |\n",
            "| \u001b[0m52       \u001b[0m | \u001b[0m-253.4   \u001b[0m | \u001b[0m-10.86   \u001b[0m | \u001b[0m-1.793   \u001b[0m | \u001b[0m-21.69   \u001b[0m | \u001b[0m-6.814   \u001b[0m |\n",
            "| \u001b[0m53       \u001b[0m | \u001b[0m-182.4   \u001b[0m | \u001b[0m-13.79   \u001b[0m | \u001b[0m-8.41    \u001b[0m | \u001b[0m-27.47   \u001b[0m | \u001b[0m0.0      \u001b[0m |\n",
            "| \u001b[0m54       \u001b[0m | \u001b[0m-1.499   \u001b[0m | \u001b[0m-30.04   \u001b[0m | \u001b[0m-10.2    \u001b[0m | \u001b[0m-30.31   \u001b[0m | \u001b[0m-8.326   \u001b[0m |\n",
            "| \u001b[0m55       \u001b[0m | \u001b[0m-583.8   \u001b[0m | \u001b[0m-4.355   \u001b[0m | \u001b[0m-1.067   \u001b[0m | \u001b[0m-25.89   \u001b[0m | \u001b[0m-9.413   \u001b[0m |\n",
            "| \u001b[0m56       \u001b[0m | \u001b[0m-2.167   \u001b[0m | \u001b[0m-31.13   \u001b[0m | \u001b[0m-16.65   \u001b[0m | \u001b[0m-24.22   \u001b[0m | \u001b[0m-7.225   \u001b[0m |\n",
            "| \u001b[0m57       \u001b[0m | \u001b[0m-1.865   \u001b[0m | \u001b[0m-24.52   \u001b[0m | \u001b[0m-10.6    \u001b[0m | \u001b[0m-26.11   \u001b[0m | \u001b[0m-2.059   \u001b[0m |\n",
            "| \u001b[0m58       \u001b[0m | \u001b[0m-2.764   \u001b[0m | \u001b[0m-8.125   \u001b[0m | \u001b[0m-8.662   \u001b[0m | \u001b[0m-25.33   \u001b[0m | \u001b[0m-9.819   \u001b[0m |\n",
            "| \u001b[0m59       \u001b[0m | \u001b[0m-1.337   \u001b[0m | \u001b[0m-28.88   \u001b[0m | \u001b[0m-11.37   \u001b[0m | \u001b[0m-17.96   \u001b[0m | \u001b[0m-4.587   \u001b[0m |\n",
            "| \u001b[0m60       \u001b[0m | \u001b[0m-181.3   \u001b[0m | \u001b[0m-18.48   \u001b[0m | \u001b[0m-6.277   \u001b[0m | \u001b[0m-22.66   \u001b[0m | \u001b[0m-7.042   \u001b[0m |\n",
            "| \u001b[0m61       \u001b[0m | \u001b[0m-2.264   \u001b[0m | \u001b[0m-31.74   \u001b[0m | \u001b[0m-16.64   \u001b[0m | \u001b[0m-29.09   \u001b[0m | \u001b[0m-0.002184\u001b[0m |\n",
            "| \u001b[0m62       \u001b[0m | \u001b[0m-159.6   \u001b[0m | \u001b[0m-30.69   \u001b[0m | \u001b[0m-18.43   \u001b[0m | \u001b[0m-19.66   \u001b[0m | \u001b[0m0.0      \u001b[0m |\n",
            "| \u001b[0m63       \u001b[0m | \u001b[0m-1.277   \u001b[0m | \u001b[0m-20.22   \u001b[0m | \u001b[0m-14.03   \u001b[0m | \u001b[0m-18.65   \u001b[0m | \u001b[0m-3.239   \u001b[0m |\n",
            "| \u001b[0m64       \u001b[0m | \u001b[0m-2.21    \u001b[0m | \u001b[0m-15.17   \u001b[0m | \u001b[0m-15.36   \u001b[0m | \u001b[0m-13.19   \u001b[0m | \u001b[0m-8.111   \u001b[0m |\n",
            "| \u001b[0m65       \u001b[0m | \u001b[0m-2.177   \u001b[0m | \u001b[0m-22.35   \u001b[0m | \u001b[0m-14.21   \u001b[0m | \u001b[0m-25.34   \u001b[0m | \u001b[0m-9.445   \u001b[0m |\n",
            "| \u001b[0m66       \u001b[0m | \u001b[0m-1.315   \u001b[0m | \u001b[0m-23.75   \u001b[0m | \u001b[0m-16.21   \u001b[0m | \u001b[0m-10.41   \u001b[0m | \u001b[0m-4.843   \u001b[0m |\n",
            "| \u001b[0m67       \u001b[0m | \u001b[0m-2.281   \u001b[0m | \u001b[0m-28.12   \u001b[0m | \u001b[0m-19.17   \u001b[0m | \u001b[0m-15.6    \u001b[0m | \u001b[0m-9.27    \u001b[0m |\n",
            "| \u001b[0m68       \u001b[0m | \u001b[0m-1.272   \u001b[0m | \u001b[0m-23.99   \u001b[0m | \u001b[0m-20.52   \u001b[0m | \u001b[0m-23.57   \u001b[0m | \u001b[0m-3.649   \u001b[0m |\n",
            "| \u001b[0m69       \u001b[0m | \u001b[0m-1.95    \u001b[0m | \u001b[0m-19.22   \u001b[0m | \u001b[0m-22.73   \u001b[0m | \u001b[0m-15.99   \u001b[0m | \u001b[0m-6.203   \u001b[0m |\n",
            "| \u001b[0m70       \u001b[0m | \u001b[0m-2.285   \u001b[0m | \u001b[0m-4.395   \u001b[0m | \u001b[0m-13.72   \u001b[0m | \u001b[0m-18.98   \u001b[0m | \u001b[0m-9.662   \u001b[0m |\n",
            "| \u001b[0m71       \u001b[0m | \u001b[0m-1.547   \u001b[0m | \u001b[0m-22.86   \u001b[0m | \u001b[0m-11.77   \u001b[0m | \u001b[0m-16.51   \u001b[0m | \u001b[0m-10.0    \u001b[0m |\n",
            "| \u001b[0m72       \u001b[0m | \u001b[0m-2.279   \u001b[0m | \u001b[0m-24.94   \u001b[0m | \u001b[0m-24.33   \u001b[0m | \u001b[0m-8.284   \u001b[0m | \u001b[0m-7.435   \u001b[0m |\n",
            "| \u001b[0m73       \u001b[0m | \u001b[0m-1.615   \u001b[0m | \u001b[0m-29.55   \u001b[0m | \u001b[0m-9.84    \u001b[0m | \u001b[0m-9.613   \u001b[0m | \u001b[0m-7.86    \u001b[0m |\n",
            "| \u001b[0m74       \u001b[0m | \u001b[0m-2.21    \u001b[0m | \u001b[0m-25.23   \u001b[0m | \u001b[0m-22.68   \u001b[0m | \u001b[0m-14.02   \u001b[0m | \u001b[0m-0.8332  \u001b[0m |\n",
            "| \u001b[0m75       \u001b[0m | \u001b[0m-1.407   \u001b[0m | \u001b[0m-31.09   \u001b[0m | \u001b[0m-25.41   \u001b[0m | \u001b[0m-19.89   \u001b[0m | \u001b[0m-5.27    \u001b[0m |\n",
            "| \u001b[0m76       \u001b[0m | \u001b[0m-1.387   \u001b[0m | \u001b[0m-8.594   \u001b[0m | \u001b[0m-20.13   \u001b[0m | \u001b[0m-22.22   \u001b[0m | \u001b[0m-4.941   \u001b[0m |\n",
            "| \u001b[0m77       \u001b[0m | \u001b[0m-217.4   \u001b[0m | \u001b[0m-25.47   \u001b[0m | \u001b[0m-2.948   \u001b[0m | \u001b[0m-13.45   \u001b[0m | \u001b[0m-9.082   \u001b[0m |\n",
            "| \u001b[0m78       \u001b[0m | \u001b[0m-4.423   \u001b[0m | \u001b[0m-25.65   \u001b[0m | \u001b[0m-7.098   \u001b[0m | \u001b[0m-11.98   \u001b[0m | \u001b[0m-0.822   \u001b[0m |\n",
            "| \u001b[0m79       \u001b[0m | \u001b[0m-2.303   \u001b[0m | \u001b[0m-27.06   \u001b[0m | \u001b[0m-20.63   \u001b[0m | \u001b[0m-4.71    \u001b[0m | \u001b[0m-0.273   \u001b[0m |\n",
            "| \u001b[0m80       \u001b[0m | \u001b[0m-2.303   \u001b[0m | \u001b[0m-24.26   \u001b[0m | \u001b[0m-10.24   \u001b[0m | \u001b[0m-3.744   \u001b[0m | \u001b[0m-3.824   \u001b[0m |\n",
            "| \u001b[0m81       \u001b[0m | \u001b[0m-2.949   \u001b[0m | \u001b[0m-15.42   \u001b[0m | \u001b[0m-12.5    \u001b[0m | \u001b[0m-12.69   \u001b[0m | \u001b[0m-0.07666 \u001b[0m |\n",
            "| \u001b[0m82       \u001b[0m | \u001b[0m-2.303   \u001b[0m | \u001b[0m-21.1    \u001b[0m | \u001b[0m-17.9    \u001b[0m | \u001b[0m-2.13    \u001b[0m | \u001b[0m-8.561   \u001b[0m |\n",
            "| \u001b[0m83       \u001b[0m | \u001b[0m-1.339   \u001b[0m | \u001b[0m-16.53   \u001b[0m | \u001b[0m-17.51   \u001b[0m | \u001b[0m-27.34   \u001b[0m | \u001b[0m-3.054   \u001b[0m |\n",
            "| \u001b[0m84       \u001b[0m | \u001b[0m-2.302   \u001b[0m | \u001b[0m-16.24   \u001b[0m | \u001b[0m-10.5    \u001b[0m | \u001b[0m-5.984   \u001b[0m | \u001b[0m-6.885   \u001b[0m |\n",
            "| \u001b[0m85       \u001b[0m | \u001b[0m-1.851   \u001b[0m | \u001b[0m-6.119   \u001b[0m | \u001b[0m-14.8    \u001b[0m | \u001b[0m-9.085   \u001b[0m | \u001b[0m-3.156   \u001b[0m |\n",
            "| \u001b[0m86       \u001b[0m | \u001b[0m-2.182   \u001b[0m | \u001b[0m-16.85   \u001b[0m | \u001b[0m-25.27   \u001b[0m | \u001b[0m-25.13   \u001b[0m | \u001b[0m-7.287   \u001b[0m |\n",
            "| \u001b[0m87       \u001b[0m | \u001b[0m-2.141   \u001b[0m | \u001b[0m-15.51   \u001b[0m | \u001b[0m-22.36   \u001b[0m | \u001b[0m-20.79   \u001b[0m | \u001b[0m-0.5034  \u001b[0m |\n",
            "| \u001b[0m88       \u001b[0m | \u001b[0m-3.244   \u001b[0m | \u001b[0m-11.78   \u001b[0m | \u001b[0m-11.63   \u001b[0m | \u001b[0m-34.81   \u001b[0m | \u001b[0m0.0      \u001b[0m |\n",
            "| \u001b[0m89       \u001b[0m | \u001b[0m-185.7   \u001b[0m | \u001b[0m-36.03   \u001b[0m | \u001b[0m-23.73   \u001b[0m | \u001b[0m-14.7    \u001b[0m | \u001b[0m-0.1711  \u001b[0m |\n",
            "| \u001b[0m90       \u001b[0m | \u001b[0m-1.413   \u001b[0m | \u001b[0m-30.06   \u001b[0m | \u001b[0m-29.96   \u001b[0m | \u001b[0m-11.63   \u001b[0m | \u001b[0m-2.357   \u001b[0m |\n",
            "| \u001b[0m91       \u001b[0m | \u001b[0m-1.891   \u001b[0m | \u001b[0m-11.59   \u001b[0m | \u001b[0m-28.35   \u001b[0m | \u001b[0m-17.85   \u001b[0m | \u001b[0m-6.082   \u001b[0m |\n",
            "| \u001b[0m92       \u001b[0m | \u001b[0m-1.286   \u001b[0m | \u001b[0m-22.68   \u001b[0m | \u001b[0m-29.17   \u001b[0m | \u001b[0m-20.33   \u001b[0m | \u001b[0m-3.324   \u001b[0m |\n",
            "| \u001b[0m93       \u001b[0m | \u001b[0m-1.444   \u001b[0m | \u001b[0m-20.1    \u001b[0m | \u001b[0m-29.66   \u001b[0m | \u001b[0m-11.36   \u001b[0m | \u001b[0m-2.174   \u001b[0m |\n",
            "| \u001b[0m94       \u001b[0m | \u001b[0m-1.586   \u001b[0m | \u001b[0m-10.75   \u001b[0m | \u001b[0m-31.29   \u001b[0m | \u001b[0m-10.73   \u001b[0m | \u001b[0m-1.734   \u001b[0m |\n",
            "| \u001b[0m95       \u001b[0m | \u001b[0m-1.421   \u001b[0m | \u001b[0m-14.68   \u001b[0m | \u001b[0m-32.11   \u001b[0m | \u001b[0m-24.54   \u001b[0m | \u001b[0m-2.182   \u001b[0m |\n",
            "| \u001b[0m96       \u001b[0m | \u001b[0m-2.291   \u001b[0m | \u001b[0m-26.47   \u001b[0m | \u001b[0m-29.99   \u001b[0m | \u001b[0m-15.68   \u001b[0m | \u001b[0m-9.683   \u001b[0m |\n",
            "| \u001b[0m97       \u001b[0m | \u001b[0m-2.296   \u001b[0m | \u001b[0m-25.44   \u001b[0m | \u001b[0m-26.34   \u001b[0m | \u001b[0m-25.0    \u001b[0m | \u001b[0m-10.0    \u001b[0m |\n",
            "| \u001b[0m98       \u001b[0m | \u001b[0m-2.287   \u001b[0m | \u001b[0m-19.87   \u001b[0m | \u001b[0m-32.84   \u001b[0m | \u001b[0m-21.7    \u001b[0m | \u001b[0m-9.484   \u001b[0m |\n",
            "| \u001b[0m99       \u001b[0m | \u001b[0m-1.326   \u001b[0m | \u001b[0m-29.95   \u001b[0m | \u001b[0m-24.96   \u001b[0m | \u001b[0m-28.57   \u001b[0m | \u001b[0m-3.173   \u001b[0m |\n",
            "| \u001b[0m100      \u001b[0m | \u001b[0m-2.552   \u001b[0m | \u001b[0m-20.77   \u001b[0m | \u001b[0m-26.09   \u001b[0m | \u001b[0m-28.54   \u001b[0m | \u001b[0m-0.2659  \u001b[0m |\n",
            "=========================================================================\n",
            "CPU times: user 24min 16s, sys: 1min 35s, total: 25min 52s\n",
            "Wall time: 21min 58s\n"
          ]
        }
      ]
    },
    {
      "cell_type": "markdown",
      "metadata": {
        "id": "cqx4zbNY_DR6"
      },
      "source": [
        "## 4.2 Test-Set Evaluation"
      ]
    },
    {
      "cell_type": "code",
      "execution_count": 152,
      "metadata": {
        "id": "xqrQ5J0Q_DR6"
      },
      "outputs": [],
      "source": [
        "lofi_5_hparams = {\n",
        "    'initial_covariance': 0.014853951398978809,\n",
        "    'dynamics_weights': 0.9999999999999917,\n",
        "    'dynamics_covariance': 1.1926240223102626e-08,\n",
        "    'dynamics_covariance_inflation_factor': 2.2713430577311035e-11\n",
        "}"
      ]
    },
    {
      "cell_type": "code",
      "execution_count": 153,
      "metadata": {
        "id": "MXpKIfyg_DR6"
      },
      "outputs": [],
      "source": [
        "# lofi_5_hparams = hpt.get_best_params(lofi_5_optimizer, method='lofi')\n",
        "lofi_5_estimator = hpt.build_estimator(model_dict['flat_params'], model_dict['apply_fn'],\n",
        "                                       lofi_5_hparams, model_dict['emission_mean_function'],\n",
        "                                       model_dict['emission_cov_function'], \n",
        "                                       method='lofi', lofi_params=lofi_5_params)"
      ]
    },
    {
      "cell_type": "code",
      "execution_count": 154,
      "metadata": {
        "id": "RtVXd3xW_DR6",
        "colab": {
          "base_uri": "https://localhost:8080/"
        },
        "outputId": "8c17279b-ca6b-4109-ed7f-0492226b109b"
      },
      "outputs": [
        {
          "output_type": "execute_result",
          "data": {
            "text/plain": [
              "{'initial_covariance': 0.014853951398978809,\n",
              " 'dynamics_weights': 0.9999999999999917,\n",
              " 'dynamics_covariance': 1.1926240223102626e-08,\n",
              " 'dynamics_covariance_inflation_factor': 2.2713430577311035e-11}"
            ]
          },
          "metadata": {},
          "execution_count": 154
        }
      ],
      "source": [
        "lofi_5_hparams"
      ]
    },
    {
      "cell_type": "code",
      "execution_count": 155,
      "metadata": {
        "id": "l-cmR3jh_DR6",
        "colab": {
          "base_uri": "https://localhost:8080/"
        },
        "outputId": "de2b43f4-9f53-4640-ec36-88353a895bcc"
      },
      "outputs": [
        {
          "output_type": "stream",
          "name": "stderr",
          "text": [
            "100%|██████████| 5/5 [05:31<00:00, 66.32s/it]\n"
          ]
        }
      ],
      "source": [
        "lofi_5_res = evaluate_model(lofi_5_estimator)"
      ]
    },
    {
      "cell_type": "code",
      "source": [
        "filename = f'lofi_5_result.pkl'\n",
        "with open(Path(output_path, filename), \"wb\") as f:\n",
        "    pickle.dump(lofi_5_res, f)"
      ],
      "metadata": {
        "id": "c_CKxrDkL2qX"
      },
      "execution_count": 156,
      "outputs": []
    },
    {
      "cell_type": "markdown",
      "metadata": {
        "id": "ZrGF1H7V_DR6"
      },
      "source": [
        "# 5. Lofi (Rank 10)"
      ]
    },
    {
      "cell_type": "markdown",
      "metadata": {
        "id": "uQ6Pb3G5_DR6"
      },
      "source": [
        "## 5.1 Hyperparam Tuning"
      ]
    },
    {
      "cell_type": "code",
      "execution_count": 92,
      "metadata": {
        "id": "Y9VUP0hK_DR6"
      },
      "outputs": [],
      "source": [
        "lofi_10_params = LoFiParams(\n",
        "    memory_size=10,\n",
        "    diagonal_covariance=True,\n",
        ")"
      ]
    },
    {
      "cell_type": "code",
      "execution_count": 93,
      "metadata": {
        "id": "7qUggwfd_DR6"
      },
      "outputs": [],
      "source": [
        "lofi_10_optimizer, apply_fn, n_feats = hpt.create_optimizer(\n",
        "    model_dict[\"model\"], pbounds, 314, warmup_train, warmup_val, \n",
        "    model_dict[\"emission_mean_function\"], model_dict[\"emission_cov_function\"],\n",
        "    ll_calback, 'lofi', lofi_params=lofi_10_params,\n",
        ")"
      ]
    },
    {
      "cell_type": "code",
      "execution_count": null,
      "metadata": {
        "id": "1WVE1za0_DR7",
        "colab": {
          "base_uri": "https://localhost:8080/"
        },
        "outputId": "e29f57ad-d282-4254-940f-36a4f153fd02"
      },
      "outputs": [
        {
          "output_type": "stream",
          "name": "stdout",
          "text": [
            "|   iter    |  target   | log_alpha | log_dy... | log_dy... | log_in... |\n",
            "-------------------------------------------------------------------------\n"
          ]
        }
      ],
      "source": [
        "%%time\n",
        "lofi_10_optimizer.maximize(\n",
        "    init_points=20,\n",
        "    n_iter=25,\n",
        ")"
      ]
    },
    {
      "cell_type": "markdown",
      "metadata": {
        "id": "usqJT2F__DR7"
      },
      "source": [
        "## 5.2 Test-Set Evaluation"
      ]
    },
    {
      "cell_type": "code",
      "execution_count": 160,
      "metadata": {
        "id": "oCdxcs2T_DR7"
      },
      "outputs": [],
      "source": [
        "lofi_10_hparams = {\n",
        "    'initial_covariance': 0.014853951398978809,\n",
        "    'dynamics_weights': 0.9999999999999917,\n",
        "    'dynamics_covariance': 1.1926240223102626e-08,\n",
        "    'dynamics_covariance_inflation_factor': 2.2713430577311035e-11\n",
        "}"
      ]
    },
    {
      "cell_type": "code",
      "execution_count": 161,
      "metadata": {
        "id": "oLJkzSVK_DR7"
      },
      "outputs": [],
      "source": [
        "# lofi_10_hparams = hpt.get_best_params(lofi_10_optimizer, method='lofi')\n",
        "lofi_10_estimator = hpt.build_estimator(model_dict['flat_params'], model_dict['apply_fn'],\n",
        "                                        lofi_10_hparams, model_dict['emission_mean_function'],\n",
        "                                        model_dict['emission_cov_function'], \n",
        "                                        method='lofi', lofi_params=lofi_10_params)"
      ]
    },
    {
      "cell_type": "code",
      "execution_count": 162,
      "metadata": {
        "id": "c-Qaa4jb_DR7",
        "colab": {
          "base_uri": "https://localhost:8080/"
        },
        "outputId": "a31eb6d8-9108-4911-f3c0-1e21d3e9fda8"
      },
      "outputs": [
        {
          "output_type": "execute_result",
          "data": {
            "text/plain": [
              "{'initial_covariance': 0.014853951398978809,\n",
              " 'dynamics_weights': 0.9999999999999917,\n",
              " 'dynamics_covariance': 1.1926240223102626e-08,\n",
              " 'dynamics_covariance_inflation_factor': 2.2713430577311035e-11}"
            ]
          },
          "metadata": {},
          "execution_count": 162
        }
      ],
      "source": [
        "lofi_10_hparams"
      ]
    },
    {
      "cell_type": "code",
      "execution_count": 163,
      "metadata": {
        "id": "fAzWMHLB_DR7",
        "colab": {
          "base_uri": "https://localhost:8080/"
        },
        "outputId": "88e33bde-7f30-400a-f446-ba8254401381"
      },
      "outputs": [
        {
          "output_type": "stream",
          "name": "stderr",
          "text": [
            "100%|██████████| 5/5 [07:38<00:00, 91.69s/it]\n"
          ]
        }
      ],
      "source": [
        "lofi_10_res = evaluate_model(lofi_10_estimator)"
      ]
    },
    {
      "cell_type": "code",
      "source": [
        "filename = f'lofi_10_result.pkl'\n",
        "with open(Path(output_path, filename), \"wb\") as f:\n",
        "    pickle.dump(lofi_10_res, f)"
      ],
      "metadata": {
        "id": "LLj9eyNdPV0k"
      },
      "execution_count": 164,
      "outputs": []
    },
    {
      "cell_type": "markdown",
      "source": [
        "# 6. LoFi (Rank 20)"
      ],
      "metadata": {
        "id": "IHWzSn87XFuS"
      }
    },
    {
      "cell_type": "markdown",
      "source": [
        "## 6.1 Hyperparam Tuning"
      ],
      "metadata": {
        "id": "V82zG9ZAXKma"
      }
    },
    {
      "cell_type": "code",
      "source": [
        "lofi_20_params = LoFiParams(\n",
        "    memory_size=20,\n",
        "    diagonal_covariance=True,\n",
        ")"
      ],
      "metadata": {
        "id": "O__l6q9kXKAF"
      },
      "execution_count": 165,
      "outputs": []
    },
    {
      "cell_type": "code",
      "source": [
        "lofi_20_optimizer, apply_fn, n_feats = hpt.create_optimizer(\n",
        "    model_dict[\"model\"], pbounds, 314, warmup_train, warmup_val, \n",
        "    model_dict[\"emission_mean_function\"], model_dict[\"emission_cov_function\"],\n",
        "    ll_calback, 'lofi', lofi_params=lofi_20_params\n",
        ")"
      ],
      "metadata": {
        "id": "OILPjGelXRny"
      },
      "execution_count": 166,
      "outputs": []
    },
    {
      "cell_type": "code",
      "source": [
        "%%time\n",
        "lofi_20_optimizer.maximize(\n",
        "    init_points=50,\n",
        "    n_iter=50,\n",
        ")"
      ],
      "metadata": {
        "id": "KFoAzNGnXUFf",
        "colab": {
          "base_uri": "https://localhost:8080/"
        },
        "outputId": "12acc809-ff58-4901-abf1-ee151b522a5d"
      },
      "execution_count": 167,
      "outputs": [
        {
          "output_type": "stream",
          "name": "stdout",
          "text": [
            "|   iter    |  target   | log_alpha | log_dy... | log_dy... | log_in... |\n",
            "-------------------------------------------------------------------------\n",
            "| \u001b[0m1        \u001b[0m | \u001b[0m-2.34    \u001b[0m | \u001b[0m-3.325   \u001b[0m | \u001b[0m-16.46   \u001b[0m | \u001b[0m-29.4    \u001b[0m | \u001b[0m-2.168   \u001b[0m |\n",
            "| \u001b[0m2        \u001b[0m | \u001b[0m-48.66   \u001b[0m | \u001b[0m-3.28    \u001b[0m | \u001b[0m-6.906   \u001b[0m | \u001b[0m-10.88   \u001b[0m | \u001b[0m-7.395   \u001b[0m |\n",
            "| \u001b[95m3        \u001b[0m | \u001b[95m-2.31    \u001b[0m | \u001b[95m-3.529   \u001b[0m | \u001b[95m-29.57   \u001b[0m | \u001b[95m-9.345   \u001b[0m | \u001b[95m-7.385   \u001b[0m |\n",
            "| \u001b[95m4        \u001b[0m | \u001b[95m-2.303   \u001b[0m | \u001b[95m-35.11   \u001b[0m | \u001b[95m-24.56   \u001b[0m | \u001b[95m-6.397   \u001b[0m | \u001b[95m-7.218   \u001b[0m |\n",
            "| \u001b[95m5        \u001b[0m | \u001b[95m-1.208   \u001b[0m | \u001b[95m-37.2    \u001b[0m | \u001b[95m-14.68   \u001b[0m | \u001b[95m-16.61   \u001b[0m | \u001b[95m-4.188   \u001b[0m |\n",
            "| \u001b[0m6        \u001b[0m | \u001b[0m-1.523   \u001b[0m | \u001b[0m-12.91   \u001b[0m | \u001b[0m-12.51   \u001b[0m | \u001b[0m-22.44   \u001b[0m | \u001b[0m-6.791   \u001b[0m |\n",
            "| \u001b[0m7        \u001b[0m | \u001b[0m-2.303   \u001b[0m | \u001b[0m-17.18   \u001b[0m | \u001b[0m-20.81   \u001b[0m | \u001b[0m-5.557   \u001b[0m | \u001b[0m-1.652   \u001b[0m |\n",
            "| \u001b[0m8        \u001b[0m | \u001b[0m-1.404   \u001b[0m | \u001b[0m-35.77   \u001b[0m | \u001b[0m-37.58   \u001b[0m | \u001b[0m-16.12   \u001b[0m | \u001b[0m-2.076   \u001b[0m |\n",
            "| \u001b[0m9        \u001b[0m | \u001b[0m-1.958   \u001b[0m | \u001b[0m-30.95   \u001b[0m | \u001b[0m-18.59   \u001b[0m | \u001b[0m-34.56   \u001b[0m | \u001b[0m-6.278   \u001b[0m |\n",
            "| \u001b[0m10       \u001b[0m | \u001b[0m-2.218   \u001b[0m | \u001b[0m-33.92   \u001b[0m | \u001b[0m-22.81   \u001b[0m | \u001b[0m-8.292   \u001b[0m | \u001b[0m-5.93    \u001b[0m |\n",
            "| \u001b[0m11       \u001b[0m | \u001b[0m-255.4   \u001b[0m | \u001b[0m-32.89   \u001b[0m | \u001b[0m-3.63    \u001b[0m | \u001b[0m-18.19   \u001b[0m | \u001b[0m-8.995   \u001b[0m |\n",
            "| \u001b[0m12       \u001b[0m | \u001b[0m-1.569e+0\u001b[0m | \u001b[0m-11.25   \u001b[0m | \u001b[0m-0.8628  \u001b[0m | \u001b[0m-27.61   \u001b[0m | \u001b[0m-7.399   \u001b[0m |\n",
            "| \u001b[0m13       \u001b[0m | \u001b[0m-1.223   \u001b[0m | \u001b[0m-13.48   \u001b[0m | \u001b[0m-34.41   \u001b[0m | \u001b[0m-36.65   \u001b[0m | \u001b[0m-4.732   \u001b[0m |\n",
            "| \u001b[0m14       \u001b[0m | \u001b[0m-127.1   \u001b[0m | \u001b[0m-15.59   \u001b[0m | \u001b[0m-5.304   \u001b[0m | \u001b[0m-34.04   \u001b[0m | \u001b[0m-1.359   \u001b[0m |\n",
            "| \u001b[0m15       \u001b[0m | \u001b[0m-1.42    \u001b[0m | \u001b[0m-22.0    \u001b[0m | \u001b[0m-10.93   \u001b[0m | \u001b[0m-33.8    \u001b[0m | \u001b[0m-5.829   \u001b[0m |\n",
            "| \u001b[0m16       \u001b[0m | \u001b[0m-2.282   \u001b[0m | \u001b[0m-34.3    \u001b[0m | \u001b[0m-26.43   \u001b[0m | \u001b[0m-11.89   \u001b[0m | \u001b[0m-9.229   \u001b[0m |\n",
            "| \u001b[0m17       \u001b[0m | \u001b[0m-4.386e+0\u001b[0m | \u001b[0m-37.18   \u001b[0m | \u001b[0m-0.7213  \u001b[0m | \u001b[0m-38.34   \u001b[0m | \u001b[0m-9.007   \u001b[0m |\n",
            "| \u001b[0m18       \u001b[0m | \u001b[0m-2.303   \u001b[0m | \u001b[0m-31.18   \u001b[0m | \u001b[0m-13.6    \u001b[0m | \u001b[0m-0.1541  \u001b[0m | \u001b[0m-0.3022  \u001b[0m |\n",
            "| \u001b[0m19       \u001b[0m | \u001b[0m-296.3   \u001b[0m | \u001b[0m-12.94   \u001b[0m | \u001b[0m-0.06077 \u001b[0m | \u001b[0m-35.15   \u001b[0m | \u001b[0m-5.638   \u001b[0m |\n",
            "| \u001b[0m20       \u001b[0m | \u001b[0m-1.28    \u001b[0m | \u001b[0m-33.31   \u001b[0m | \u001b[0m-18.11   \u001b[0m | \u001b[0m-9.157   \u001b[0m | \u001b[0m-4.336   \u001b[0m |\n",
            "| \u001b[0m21       \u001b[0m | \u001b[0m-3.025   \u001b[0m | \u001b[0m-27.74   \u001b[0m | \u001b[0m-0.8882  \u001b[0m | \u001b[0m-4.452   \u001b[0m | \u001b[0m-7.633   \u001b[0m |\n",
            "| \u001b[0m22       \u001b[0m | \u001b[0m-2.303   \u001b[0m | \u001b[0m-12.58   \u001b[0m | \u001b[0m-36.7    \u001b[0m | \u001b[0m-5.273   \u001b[0m | \u001b[0m-6.59    \u001b[0m |\n",
            "| \u001b[0m23       \u001b[0m | \u001b[0m-2.293   \u001b[0m | \u001b[0m-14.74   \u001b[0m | \u001b[0m-25.22   \u001b[0m | \u001b[0m-7.529   \u001b[0m | \u001b[0m-6.144   \u001b[0m |\n",
            "| \u001b[0m24       \u001b[0m | \u001b[0m-2.128   \u001b[0m | \u001b[0m-21.23   \u001b[0m | \u001b[0m-31.49   \u001b[0m | \u001b[0m-31.5    \u001b[0m | \u001b[0m-6.877   \u001b[0m |\n",
            "| \u001b[0m25       \u001b[0m | \u001b[0m-4.915   \u001b[0m | \u001b[0m-18.41   \u001b[0m | \u001b[0m-6.95    \u001b[0m | \u001b[0m-13.72   \u001b[0m | \u001b[0m-5.69    \u001b[0m |\n",
            "| \u001b[0m26       \u001b[0m | \u001b[0m-1.727   \u001b[0m | \u001b[0m-6.284   \u001b[0m | \u001b[0m-35.38   \u001b[0m | \u001b[0m-19.55   \u001b[0m | \u001b[0m-2.765   \u001b[0m |\n",
            "| \u001b[0m27       \u001b[0m | \u001b[0m-1.765   \u001b[0m | \u001b[0m-38.55   \u001b[0m | \u001b[0m-12.87   \u001b[0m | \u001b[0m-28.82   \u001b[0m | \u001b[0m-8.103   \u001b[0m |\n",
            "| \u001b[95m28       \u001b[0m | \u001b[95m-1.194   \u001b[0m | \u001b[95m-24.51   \u001b[0m | \u001b[95m-18.24   \u001b[0m | \u001b[95m-32.42   \u001b[0m | \u001b[95m-4.209   \u001b[0m |\n",
            "| \u001b[0m29       \u001b[0m | \u001b[0m-1.237   \u001b[0m | \u001b[0m-29.01   \u001b[0m | \u001b[0m-14.26   \u001b[0m | \u001b[0m-37.07   \u001b[0m | \u001b[0m-3.494   \u001b[0m |\n",
            "| \u001b[0m30       \u001b[0m | \u001b[0m-2.785   \u001b[0m | \u001b[0m-3.589   \u001b[0m | \u001b[0m-14.74   \u001b[0m | \u001b[0m-18.65   \u001b[0m | \u001b[0m-1.161   \u001b[0m |\n",
            "| \u001b[0m31       \u001b[0m | \u001b[0m-2.294   \u001b[0m | \u001b[0m-14.72   \u001b[0m | \u001b[0m-33.4    \u001b[0m | \u001b[0m-29.6    \u001b[0m | \u001b[0m-9.884   \u001b[0m |\n",
            "| \u001b[0m32       \u001b[0m | \u001b[0m-3.094   \u001b[0m | \u001b[0m-0.2037  \u001b[0m | \u001b[0m-7.485   \u001b[0m | \u001b[0m-7.632   \u001b[0m | \u001b[0m-1.068   \u001b[0m |\n",
            "| \u001b[0m33       \u001b[0m | \u001b[0m-2.303   \u001b[0m | \u001b[0m-30.93   \u001b[0m | \u001b[0m-18.67   \u001b[0m | \u001b[0m-2.163   \u001b[0m | \u001b[0m-7.967   \u001b[0m |\n",
            "| \u001b[0m34       \u001b[0m | \u001b[0m-89.43   \u001b[0m | \u001b[0m-5.548   \u001b[0m | \u001b[0m-4.321   \u001b[0m | \u001b[0m-17.0    \u001b[0m | \u001b[0m-9.934   \u001b[0m |\n",
            "| \u001b[0m35       \u001b[0m | \u001b[0m-2.119   \u001b[0m | \u001b[0m-8.735   \u001b[0m | \u001b[0m-8.361   \u001b[0m | \u001b[0m-13.89   \u001b[0m | \u001b[0m-4.914   \u001b[0m |\n",
            "| \u001b[0m36       \u001b[0m | \u001b[0m-2.314   \u001b[0m | \u001b[0m-1.607   \u001b[0m | \u001b[0m-19.02   \u001b[0m | \u001b[0m-27.5    \u001b[0m | \u001b[0m-6.995   \u001b[0m |\n",
            "| \u001b[0m37       \u001b[0m | \u001b[0m-21.2    \u001b[0m | \u001b[0m-3.691   \u001b[0m | \u001b[0m-7.406   \u001b[0m | \u001b[0m-22.67   \u001b[0m | \u001b[0m-3.497   \u001b[0m |\n",
            "| \u001b[0m38       \u001b[0m | \u001b[0m-1.276   \u001b[0m | \u001b[0m-10.84   \u001b[0m | \u001b[0m-21.21   \u001b[0m | \u001b[0m-13.52   \u001b[0m | \u001b[0m-2.857   \u001b[0m |\n",
            "| \u001b[0m39       \u001b[0m | \u001b[0m-2.26    \u001b[0m | \u001b[0m-19.86   \u001b[0m | \u001b[0m-38.73   \u001b[0m | \u001b[0m-37.56   \u001b[0m | \u001b[0m-8.48    \u001b[0m |\n",
            "| \u001b[0m40       \u001b[0m | \u001b[0m-1.515   \u001b[0m | \u001b[0m-37.66   \u001b[0m | \u001b[0m-10.6    \u001b[0m | \u001b[0m-36.66   \u001b[0m | \u001b[0m-8.16    \u001b[0m |\n",
            "| \u001b[0m41       \u001b[0m | \u001b[0m-1.277   \u001b[0m | \u001b[0m-38.67   \u001b[0m | \u001b[0m-19.73   \u001b[0m | \u001b[0m-21.96   \u001b[0m | \u001b[0m-3.031   \u001b[0m |\n",
            "| \u001b[0m42       \u001b[0m | \u001b[0m-2.301   \u001b[0m | \u001b[0m-14.82   \u001b[0m | \u001b[0m-18.42   \u001b[0m | \u001b[0m-6.447   \u001b[0m | \u001b[0m-2.425   \u001b[0m |\n",
            "| \u001b[0m43       \u001b[0m | \u001b[0m-2.559   \u001b[0m | \u001b[0m-33.26   \u001b[0m | \u001b[0m-9.006   \u001b[0m | \u001b[0m-25.96   \u001b[0m | \u001b[0m-1.252   \u001b[0m |\n",
            "| \u001b[0m44       \u001b[0m | \u001b[0m-1.406e+0\u001b[0m | \u001b[0m-9.092   \u001b[0m | \u001b[0m-6.162   \u001b[0m | \u001b[0m-12.5    \u001b[0m | \u001b[0m-3.962   \u001b[0m |\n",
            "| \u001b[0m45       \u001b[0m | \u001b[0m-2.303   \u001b[0m | \u001b[0m-19.49   \u001b[0m | \u001b[0m-34.39   \u001b[0m | \u001b[0m-3.042   \u001b[0m | \u001b[0m-1.253   \u001b[0m |\n",
            "| \u001b[0m46       \u001b[0m | \u001b[0m-1.469e+0\u001b[0m | \u001b[0m-31.01   \u001b[0m | \u001b[0m-3.384   \u001b[0m | \u001b[0m-36.65   \u001b[0m | \u001b[0m-7.443   \u001b[0m |\n",
            "| \u001b[0m47       \u001b[0m | \u001b[0m-2.301   \u001b[0m | \u001b[0m-35.62   \u001b[0m | \u001b[0m-27.04   \u001b[0m | \u001b[0m-7.605   \u001b[0m | \u001b[0m-9.977   \u001b[0m |\n",
            "| \u001b[0m48       \u001b[0m | \u001b[0m-1.351   \u001b[0m | \u001b[0m-30.7    \u001b[0m | \u001b[0m-38.22   \u001b[0m | \u001b[0m-25.6    \u001b[0m | \u001b[0m-5.262   \u001b[0m |\n",
            "| \u001b[0m49       \u001b[0m | \u001b[0m-1.978   \u001b[0m | \u001b[0m-11.91   \u001b[0m | \u001b[0m-8.632   \u001b[0m | \u001b[0m-18.34   \u001b[0m | \u001b[0m-9.985   \u001b[0m |\n",
            "| \u001b[0m50       \u001b[0m | \u001b[0m-1.674e+0\u001b[0m | \u001b[0m-28.73   \u001b[0m | \u001b[0m-3.236   \u001b[0m | \u001b[0m-21.08   \u001b[0m | \u001b[0m-4.687   \u001b[0m |\n",
            "| \u001b[0m51       \u001b[0m | \u001b[0m-2.301   \u001b[0m | \u001b[0m-4.848   \u001b[0m | \u001b[0m-30.46   \u001b[0m | \u001b[0m-9.423   \u001b[0m | \u001b[0m-7.314   \u001b[0m |\n",
            "| \u001b[0m52       \u001b[0m | \u001b[0m-2.0     \u001b[0m | \u001b[0m-7.17    \u001b[0m | \u001b[0m-13.08   \u001b[0m | \u001b[0m-15.13   \u001b[0m | \u001b[0m-7.485   \u001b[0m |\n",
            "| \u001b[0m53       \u001b[0m | \u001b[0m-1.42    \u001b[0m | \u001b[0m-11.96   \u001b[0m | \u001b[0m-12.9    \u001b[0m | \u001b[0m-16.52   \u001b[0m | \u001b[0m-2.379   \u001b[0m |\n",
            "| \u001b[0m54       \u001b[0m | \u001b[0m-1.337   \u001b[0m | \u001b[0m-39.81   \u001b[0m | \u001b[0m-16.87   \u001b[0m | \u001b[0m-36.37   \u001b[0m | \u001b[0m-5.225   \u001b[0m |\n",
            "| \u001b[0m55       \u001b[0m | \u001b[0m-84.79   \u001b[0m | \u001b[0m-34.77   \u001b[0m | \u001b[0m-15.73   \u001b[0m | \u001b[0m-29.89   \u001b[0m | \u001b[0m0.0      \u001b[0m |\n",
            "| \u001b[0m56       \u001b[0m | \u001b[0m-2.229   \u001b[0m | \u001b[0m-17.85   \u001b[0m | \u001b[0m-15.14   \u001b[0m | \u001b[0m-12.8    \u001b[0m | \u001b[0m-8.935   \u001b[0m |\n",
            "| \u001b[0m57       \u001b[0m | \u001b[0m-2.302   \u001b[0m | \u001b[0m-24.51   \u001b[0m | \u001b[0m-12.07   \u001b[0m | \u001b[0m-6.379   \u001b[0m | \u001b[0m-5.579   \u001b[0m |\n",
            "| \u001b[0m58       \u001b[0m | \u001b[0m-3.393   \u001b[0m | \u001b[0m-12.77   \u001b[0m | \u001b[0m-31.66   \u001b[0m | \u001b[0m-11.66   \u001b[0m | \u001b[0m-0.1978  \u001b[0m |\n",
            "| \u001b[0m59       \u001b[0m | \u001b[0m-2.251   \u001b[0m | \u001b[0m-24.39   \u001b[0m | \u001b[0m-22.33   \u001b[0m | \u001b[0m-9.292   \u001b[0m | \u001b[0m-7.658   \u001b[0m |\n",
            "| \u001b[0m60       \u001b[0m | \u001b[0m-2.191   \u001b[0m | \u001b[0m-13.01   \u001b[0m | \u001b[0m-29.12   \u001b[0m | \u001b[0m-18.26   \u001b[0m | \u001b[0m-7.372   \u001b[0m |\n",
            "| \u001b[0m61       \u001b[0m | \u001b[0m-1.212   \u001b[0m | \u001b[0m-10.41   \u001b[0m | \u001b[0m-23.1    \u001b[0m | \u001b[0m-25.35   \u001b[0m | \u001b[0m-3.892   \u001b[0m |\n",
            "| \u001b[0m62       \u001b[0m | \u001b[0m-1.457   \u001b[0m | \u001b[0m-19.77   \u001b[0m | \u001b[0m-23.88   \u001b[0m | \u001b[0m-16.1    \u001b[0m | \u001b[0m-2.099   \u001b[0m |\n",
            "| \u001b[0m63       \u001b[0m | \u001b[0m-1.856   \u001b[0m | \u001b[0m-21.23   \u001b[0m | \u001b[0m-32.38   \u001b[0m | \u001b[0m-11.7    \u001b[0m | \u001b[0m-6.043   \u001b[0m |\n",
            "| \u001b[0m64       \u001b[0m | \u001b[0m-2.376   \u001b[0m | \u001b[0m-15.7    \u001b[0m | \u001b[0m-32.18   \u001b[0m | \u001b[0m-24.5    \u001b[0m | \u001b[0m-0.994   \u001b[0m |\n",
            "| \u001b[0m65       \u001b[0m | \u001b[0m-1.909   \u001b[0m | \u001b[0m-24.46   \u001b[0m | \u001b[0m-30.64   \u001b[0m | \u001b[0m-21.44   \u001b[0m | \u001b[0m-6.176   \u001b[0m |\n",
            "| \u001b[0m66       \u001b[0m | \u001b[0m-2.253   \u001b[0m | \u001b[0m-19.17   \u001b[0m | \u001b[0m-22.83   \u001b[0m | \u001b[0m-24.65   \u001b[0m | \u001b[0m-8.315   \u001b[0m |\n",
            "| \u001b[0m67       \u001b[0m | \u001b[0m-1.632   \u001b[0m | \u001b[0m-28.99   \u001b[0m | \u001b[0m-21.05   \u001b[0m | \u001b[0m-19.53   \u001b[0m | \u001b[0m-5.764   \u001b[0m |\n",
            "| \u001b[0m68       \u001b[0m | \u001b[0m-1.859   \u001b[0m | \u001b[0m-28.43   \u001b[0m | \u001b[0m-28.34   \u001b[0m | \u001b[0m-13.83   \u001b[0m | \u001b[0m-1.318   \u001b[0m |\n",
            "| \u001b[95m69       \u001b[0m | \u001b[95m-1.193   \u001b[0m | \u001b[95m-34.65   \u001b[0m | \u001b[95m-29.47   \u001b[0m | \u001b[95m-21.83   \u001b[0m | \u001b[95m-4.336   \u001b[0m |\n",
            "| \u001b[0m70       \u001b[0m | \u001b[0m-2.077   \u001b[0m | \u001b[0m-26.17   \u001b[0m | \u001b[0m-25.76   \u001b[0m | \u001b[0m-27.0    \u001b[0m | \u001b[0m-0.9581  \u001b[0m |\n",
            "| \u001b[0m71       \u001b[0m | \u001b[0m-1.66    \u001b[0m | \u001b[0m-16.21   \u001b[0m | \u001b[0m-24.87   \u001b[0m | \u001b[0m-32.86   \u001b[0m | \u001b[0m-1.665   \u001b[0m |\n",
            "| \u001b[0m72       \u001b[0m | \u001b[0m-2.303   \u001b[0m | \u001b[0m-26.81   \u001b[0m | \u001b[0m-25.94   \u001b[0m | \u001b[0m-3.244   \u001b[0m | \u001b[0m-0.8882  \u001b[0m |\n",
            "| \u001b[0m73       \u001b[0m | \u001b[0m-2.302   \u001b[0m | \u001b[0m-30.25   \u001b[0m | \u001b[0m-34.4    \u001b[0m | \u001b[0m-6.885   \u001b[0m | \u001b[0m-5.123   \u001b[0m |\n",
            "| \u001b[0m74       \u001b[0m | \u001b[0m-131.7   \u001b[0m | \u001b[0m-25.49   \u001b[0m | \u001b[0m-37.63   \u001b[0m | \u001b[0m-17.59   \u001b[0m | \u001b[0m0.0      \u001b[0m |\n",
            "| \u001b[0m75       \u001b[0m | \u001b[0m-2.296   \u001b[0m | \u001b[0m-30.72   \u001b[0m | \u001b[0m-35.17   \u001b[0m | \u001b[0m-16.08   \u001b[0m | \u001b[0m-10.0    \u001b[0m |\n",
            "| \u001b[0m76       \u001b[0m | \u001b[0m-2.296   \u001b[0m | \u001b[0m-29.89   \u001b[0m | \u001b[0m-26.05   \u001b[0m | \u001b[0m-27.8    \u001b[0m | \u001b[0m-10.0    \u001b[0m |\n",
            "| \u001b[0m77       \u001b[0m | \u001b[0m-1.631   \u001b[0m | \u001b[0m-6.526   \u001b[0m | \u001b[0m-31.17   \u001b[0m | \u001b[0m-29.43   \u001b[0m | \u001b[0m-3.591   \u001b[0m |\n",
            "| \u001b[0m78       \u001b[0m | \u001b[0m-2.303   \u001b[0m | \u001b[0m-23.5    \u001b[0m | \u001b[0m-29.68   \u001b[0m | \u001b[0m-2.441   \u001b[0m | \u001b[0m-9.842   \u001b[0m |\n",
            "| \u001b[0m79       \u001b[0m | \u001b[0m-2.303   \u001b[0m | \u001b[0m-3.459   \u001b[0m | \u001b[0m-26.35   \u001b[0m | \u001b[0m-19.6    \u001b[0m | \u001b[0m-6.548   \u001b[0m |\n",
            "| \u001b[0m80       \u001b[0m | \u001b[0m-2.297   \u001b[0m | \u001b[0m-10.49   \u001b[0m | \u001b[0m-24.48   \u001b[0m | \u001b[0m-33.18   \u001b[0m | \u001b[0m-10.0    \u001b[0m |\n",
            "| \u001b[0m81       \u001b[0m | \u001b[0m-1.995   \u001b[0m | \u001b[0m-34.04   \u001b[0m | \u001b[0m-9.121   \u001b[0m | \u001b[0m-7.441   \u001b[0m | \u001b[0m-10.0    \u001b[0m |\n",
            "| \u001b[0m82       \u001b[0m | \u001b[0m-2.318   \u001b[0m | \u001b[0m0.0      \u001b[0m | \u001b[0m-15.42   \u001b[0m | \u001b[0m-8.365   \u001b[0m | \u001b[0m-4.852   \u001b[0m |\n",
            "| \u001b[0m83       \u001b[0m | \u001b[0m-3.126   \u001b[0m | \u001b[0m-39.12   \u001b[0m | \u001b[0m-27.38   \u001b[0m | \u001b[0m-13.54   \u001b[0m | \u001b[0m-0.2355  \u001b[0m |\n",
            "| \u001b[0m84       \u001b[0m | \u001b[0m-2.303   \u001b[0m | \u001b[0m-6.835   \u001b[0m | \u001b[0m-25.1    \u001b[0m | \u001b[0m-5.067   \u001b[0m | \u001b[0m0.0      \u001b[0m |\n",
            "| \u001b[0m85       \u001b[0m | \u001b[0m-2.296   \u001b[0m | \u001b[0m-20.31   \u001b[0m | \u001b[0m-23.45   \u001b[0m | \u001b[0m-37.13   \u001b[0m | \u001b[0m-10.0    \u001b[0m |\n",
            "| \u001b[0m86       \u001b[0m | \u001b[0m-2.217   \u001b[0m | \u001b[0m-14.75   \u001b[0m | \u001b[0m-16.83   \u001b[0m | \u001b[0m-31.53   \u001b[0m | \u001b[0m-7.777   \u001b[0m |\n",
            "| \u001b[0m87       \u001b[0m | \u001b[0m-2.556   \u001b[0m | \u001b[0m0.0      \u001b[0m | \u001b[0m-9.729   \u001b[0m | \u001b[0m-16.45   \u001b[0m | \u001b[0m-6.146   \u001b[0m |\n",
            "| \u001b[0m88       \u001b[0m | \u001b[0m-1.467   \u001b[0m | \u001b[0m-17.29   \u001b[0m | \u001b[0m-15.49   \u001b[0m | \u001b[0m-39.93   \u001b[0m | \u001b[0m-2.04    \u001b[0m |\n",
            "| \u001b[0m89       \u001b[0m | \u001b[0m-1.452   \u001b[0m | \u001b[0m-7.499   \u001b[0m | \u001b[0m-21.87   \u001b[0m | \u001b[0m-37.41   \u001b[0m | \u001b[0m-1.777   \u001b[0m |\n",
            "| \u001b[0m90       \u001b[0m | \u001b[0m-113.0   \u001b[0m | \u001b[0m-18.47   \u001b[0m | \u001b[0m-17.9    \u001b[0m | \u001b[0m-25.41   \u001b[0m | \u001b[0m0.0      \u001b[0m |\n",
            "| \u001b[0m91       \u001b[0m | \u001b[0m-1.484   \u001b[0m | \u001b[0m-27.54   \u001b[0m | \u001b[0m-26.92   \u001b[0m | \u001b[0m-38.19   \u001b[0m | \u001b[0m-2.001   \u001b[0m |\n",
            "| \u001b[0m92       \u001b[0m | \u001b[0m-2.303   \u001b[0m | \u001b[0m-20.57   \u001b[0m | \u001b[0m-19.25   \u001b[0m | \u001b[0m0.0      \u001b[0m | \u001b[0m-9.32    \u001b[0m |\n",
            "| \u001b[0m93       \u001b[0m | \u001b[0m-1.352   \u001b[0m | \u001b[0m-34.18   \u001b[0m | \u001b[0m-31.82   \u001b[0m | \u001b[0m-32.92   \u001b[0m | \u001b[0m-5.259   \u001b[0m |\n",
            "| \u001b[0m94       \u001b[0m | \u001b[0m-2.109   \u001b[0m | \u001b[0m-27.66   \u001b[0m | \u001b[0m-36.83   \u001b[0m | \u001b[0m-35.24   \u001b[0m | \u001b[0m-0.9467  \u001b[0m |\n",
            "| \u001b[0m95       \u001b[0m | \u001b[0m-2.296   \u001b[0m | \u001b[0m-27.69   \u001b[0m | \u001b[0m-32.43   \u001b[0m | \u001b[0m-39.21   \u001b[0m | \u001b[0m-10.0    \u001b[0m |\n",
            "| \u001b[0m96       \u001b[0m | \u001b[0m-2.12    \u001b[0m | \u001b[0m-14.55   \u001b[0m | \u001b[0m-39.76   \u001b[0m | \u001b[0m-16.0    \u001b[0m | \u001b[0m-6.827   \u001b[0m |\n",
            "| \u001b[0m97       \u001b[0m | \u001b[0m-1.295   \u001b[0m | \u001b[0m-19.55   \u001b[0m | \u001b[0m-40.0    \u001b[0m | \u001b[0m-28.91   \u001b[0m | \u001b[0m-3.084   \u001b[0m |\n",
            "| \u001b[0m98       \u001b[0m | \u001b[0m-1.498   \u001b[0m | \u001b[0m-9.922   \u001b[0m | \u001b[0m-40.0    \u001b[0m | \u001b[0m-26.86   \u001b[0m | \u001b[0m-5.508   \u001b[0m |\n",
            "| \u001b[0m99       \u001b[0m | \u001b[0m-2.296   \u001b[0m | \u001b[0m-28.5    \u001b[0m | \u001b[0m-40.0    \u001b[0m | \u001b[0m-33.11   \u001b[0m | \u001b[0m-10.0    \u001b[0m |\n",
            "| \u001b[0m100      \u001b[0m | \u001b[0m-2.303   \u001b[0m | \u001b[0m-7.116   \u001b[0m | \u001b[0m-21.1    \u001b[0m | \u001b[0m-2.362   \u001b[0m | \u001b[0m-9.237   \u001b[0m |\n",
            "=========================================================================\n",
            "CPU times: user 56min 14s, sys: 1min 40s, total: 57min 55s\n",
            "Wall time: 53min 43s\n"
          ]
        }
      ]
    },
    {
      "cell_type": "markdown",
      "source": [
        "## 6.2 Test-Set Evaluation"
      ],
      "metadata": {
        "id": "ZDTTukSCXMJE"
      }
    },
    {
      "cell_type": "code",
      "source": [
        "lofi_20_hparams = {\n",
        "    'initial_covariance': 0.0130924931006984,\n",
        "    'dynamics_weights': 0.999999999668324,\n",
        "    'dynamics_covariance': 1.5904803018143304e-13,\n",
        "    'dynamics_covariance_inflation_factor': 8.932208879081414e-16\n",
        "}"
      ],
      "metadata": {
        "id": "6DFmLVkOXWvn"
      },
      "execution_count": 168,
      "outputs": []
    },
    {
      "cell_type": "code",
      "source": [
        "# lofi_20_hparams = hpt.get_best_params(lofi_20_optimizer, method='lofi')\n",
        "lofi_20_estimator = hpt.build_estimator(model_dict['flat_params'], model_dict['apply_fn'],\n",
        "                                        lofi_20_hparams, model_dict['emission_mean_function'],\n",
        "                                        model_dict['emission_cov_function'], \n",
        "                                        method='lofi', lofi_params=lofi_20_params)"
      ],
      "metadata": {
        "id": "qvuvsukSXdiT"
      },
      "execution_count": 169,
      "outputs": []
    },
    {
      "cell_type": "code",
      "source": [
        "lofi_20_hparams"
      ],
      "metadata": {
        "id": "u0upYb7LXk2n",
        "colab": {
          "base_uri": "https://localhost:8080/"
        },
        "outputId": "0f9c38d2-d883-4661-f7d8-c5a7883f8a32"
      },
      "execution_count": 170,
      "outputs": [
        {
          "output_type": "execute_result",
          "data": {
            "text/plain": [
              "{'initial_covariance': 0.0130924931006984,\n",
              " 'dynamics_weights': 0.999999999668324,\n",
              " 'dynamics_covariance': 1.5904803018143304e-13,\n",
              " 'dynamics_covariance_inflation_factor': 8.932208879081414e-16}"
            ]
          },
          "metadata": {},
          "execution_count": 170
        }
      ]
    },
    {
      "cell_type": "code",
      "source": [
        "lofi_20_res = evaluate_model(lofi_20_estimator)"
      ],
      "metadata": {
        "id": "BdksCwzLXmXz",
        "colab": {
          "base_uri": "https://localhost:8080/"
        },
        "outputId": "208bfec7-85ae-45df-f113-88f962171745"
      },
      "execution_count": 171,
      "outputs": [
        {
          "output_type": "stream",
          "name": "stderr",
          "text": [
            "100%|██████████| 5/5 [13:24<00:00, 160.82s/it]\n"
          ]
        }
      ]
    },
    {
      "cell_type": "code",
      "source": [
        "filename = f'lofi_20_result.pkl'\n",
        "with open(Path(output_path, filename), \"wb\") as f:\n",
        "    pickle.dump(lofi_20_res, f)"
      ],
      "metadata": {
        "id": "MAHH8dBJXo2U"
      },
      "execution_count": 172,
      "outputs": []
    },
    {
      "cell_type": "markdown",
      "source": [
        "# 7. LoFi (Rank 50)"
      ],
      "metadata": {
        "id": "3VRK1r2jj1rO"
      }
    },
    {
      "cell_type": "markdown",
      "source": [
        "## 7.1 Hyperparam Tuning"
      ],
      "metadata": {
        "id": "qxAkGtEXj4Yg"
      }
    },
    {
      "cell_type": "code",
      "source": [
        "lofi_50_params = LoFiParams(\n",
        "    memory_size=50,\n",
        "    diagonal_covariance=True,\n",
        ")"
      ],
      "metadata": {
        "id": "T21Mi5q6j9n9"
      },
      "execution_count": 41,
      "outputs": []
    },
    {
      "cell_type": "code",
      "source": [
        "lofi_50_optimizer, apply_fn, n_feats = hpt.create_optimizer(\n",
        "    model_dict[\"model\"], pbounds, 314, warmup_train, warmup_val, \n",
        "    model_dict[\"emission_mean_function\"], model_dict[\"emission_cov_function\"],\n",
        "    ll_calback, 'lofi', lofi_params=lofi_50_params\n",
        ")"
      ],
      "metadata": {
        "id": "V-nS84yPkBjc"
      },
      "execution_count": 42,
      "outputs": []
    },
    {
      "cell_type": "code",
      "source": [
        "# %%time\n",
        "# lofi_50_optimizer.maximize(\n",
        "#     init_points=50,\n",
        "#     n_iter=50,\n",
        "# )"
      ],
      "metadata": {
        "id": "aT6IeIuekFiU"
      },
      "execution_count": 43,
      "outputs": []
    },
    {
      "cell_type": "markdown",
      "source": [
        "## 7.2 Test-Set Evaluation"
      ],
      "metadata": {
        "id": "1vtlDWC7j5vO"
      }
    },
    {
      "cell_type": "code",
      "source": [
        "lofi_50_hparams = {\n",
        "    'initial_covariance': 0.014853951398978809,\n",
        "    'dynamics_weights': 0.9999999999999917,\n",
        "    'dynamics_covariance': 1.1926240223102626e-08,\n",
        "    'dynamics_covariance_inflation_factor': 2.2713430577311035e-11\n",
        "}"
      ],
      "metadata": {
        "id": "mjWCpyd8kI5L"
      },
      "execution_count": 44,
      "outputs": []
    },
    {
      "cell_type": "code",
      "source": [
        "# lofi_50_hparams = hpt.get_best_params(lofi_50_optimizer, method='lofi')\n",
        "lofi_50_estimator = hpt.build_estimator(model_dict['flat_params'], model_dict['apply_fn'],\n",
        "                                        lofi_50_hparams, model_dict['emission_mean_function'],\n",
        "                                        model_dict['emission_cov_function'], \n",
        "                                        method='lofi', lofi_params=lofi_50_params)"
      ],
      "metadata": {
        "id": "byhSInxMkMpz"
      },
      "execution_count": 45,
      "outputs": []
    },
    {
      "cell_type": "code",
      "source": [
        "lofi_50_hparams"
      ],
      "metadata": {
        "colab": {
          "base_uri": "https://localhost:8080/"
        },
        "id": "d4V75D2YkTM1",
        "outputId": "ac5fe7a1-64d8-4193-a4f6-9181041d69ab"
      },
      "execution_count": 46,
      "outputs": [
        {
          "output_type": "execute_result",
          "data": {
            "text/plain": [
              "{'initial_covariance': 0.014853951398978809,\n",
              " 'dynamics_weights': 0.9999999999999917,\n",
              " 'dynamics_covariance': 1.1926240223102626e-08,\n",
              " 'dynamics_covariance_inflation_factor': 2.2713430577311035e-11}"
            ]
          },
          "metadata": {},
          "execution_count": 46
        }
      ]
    },
    {
      "cell_type": "code",
      "source": [
        "lofi_50_res = evaluate_model(lofi_50_estimator)"
      ],
      "metadata": {
        "colab": {
          "base_uri": "https://localhost:8080/"
        },
        "id": "mtUAexlVkU0i",
        "outputId": "50990cd2-e132-407d-e1b1-120a6466d3ce"
      },
      "execution_count": 47,
      "outputs": [
        {
          "output_type": "stream",
          "name": "stderr",
          "text": [
            "100%|██████████| 5/5 [2:28:36<00:00, 1783.27s/it]\n"
          ]
        }
      ]
    },
    {
      "cell_type": "code",
      "source": [
        "filename = f'lofi_50_result.pkl'\n",
        "with open(Path(output_path, filename), \"wb\") as f:\n",
        "    pickle.dump(lofi_50_res, f)"
      ],
      "metadata": {
        "id": "z-ktcTJckYBK"
      },
      "execution_count": 48,
      "outputs": []
    },
    {
      "cell_type": "markdown",
      "metadata": {
        "id": "4qYWz2xm_DR7"
      },
      "source": [
        "# 8. Online Gradient Descent"
      ]
    },
    {
      "cell_type": "markdown",
      "metadata": {
        "id": "dKRR43QY_DR7"
      },
      "source": [
        "## 8.1 Hyperparam Tuning"
      ]
    },
    {
      "cell_type": "code",
      "execution_count": 12,
      "metadata": {
        "id": "Q_99zP-H_DR7"
      },
      "outputs": [],
      "source": [
        "rsgd_pbounds = {\n",
        "    'log_lr': (-10.0, 0.0),\n",
        "}"
      ]
    },
    {
      "cell_type": "code",
      "execution_count": 13,
      "metadata": {
        "id": "dTWlsOG3_DR7"
      },
      "outputs": [],
      "source": [
        "ogd_params = {\n",
        "    'loss_fn': optax.softmax_cross_entropy,\n",
        "    'buffer_size': 1,\n",
        "    'dim_output': 10\n",
        "}"
      ]
    },
    {
      "cell_type": "code",
      "execution_count": 14,
      "metadata": {
        "id": "ljeI_wdO_DR7"
      },
      "outputs": [],
      "source": [
        "ogd_optimizer, apply_fn, n_feats = hpt.create_optimizer(\n",
        "    model_dict[\"model\"], rsgd_pbounds, 314, warmup_train, warmup_val, \n",
        "    model_dict[\"emission_mean_function\"], model_dict[\"emission_cov_function\"],\n",
        "    ll_calback, 'sgd', **ogd_params\n",
        ")"
      ]
    },
    {
      "cell_type": "code",
      "source": [
        "%%time\n",
        "ogd_optimizer.maximize(\n",
        "    init_points=10,\n",
        "    n_iter=15,\n",
        ")"
      ],
      "metadata": {
        "id": "WX4QDt3tdWJl",
        "outputId": "1f6e9403-0795-4235-b45c-d92d1727ece7",
        "colab": {
          "base_uri": "https://localhost:8080/"
        }
      },
      "execution_count": 15,
      "outputs": [
        {
          "output_type": "stream",
          "name": "stdout",
          "text": [
            "|   iter    |  target   |  log_lr   |\n",
            "-------------------------------------\n",
            "| \u001b[0m1        \u001b[0m | \u001b[0m-1e+08   \u001b[0m | \u001b[0m-0.8313  \u001b[0m |\n",
            "| \u001b[95m2        \u001b[0m | \u001b[95m-1.734   \u001b[0m | \u001b[95m-4.115   \u001b[0m |\n",
            "| \u001b[0m3        \u001b[0m | \u001b[0m-1.939   \u001b[0m | \u001b[0m-7.35    \u001b[0m |\n",
            "| \u001b[0m4        \u001b[0m | \u001b[0m-2.329   \u001b[0m | \u001b[0m-2.168   \u001b[0m |\n",
            "| \u001b[0m5        \u001b[0m | \u001b[0m-1e+08   \u001b[0m | \u001b[0m-0.82    \u001b[0m |\n",
            "| \u001b[0m6        \u001b[0m | \u001b[0m-2.358   \u001b[0m | \u001b[0m-1.726   \u001b[0m |\n",
            "| \u001b[0m7        \u001b[0m | \u001b[0m-2.294   \u001b[0m | \u001b[0m-2.72    \u001b[0m |\n",
            "| \u001b[0m8        \u001b[0m | \u001b[0m-1.962   \u001b[0m | \u001b[0m-7.395   \u001b[0m |\n",
            "| \u001b[0m9        \u001b[0m | \u001b[0m-1e+08   \u001b[0m | \u001b[0m-0.8824  \u001b[0m |\n",
            "| \u001b[0m10       \u001b[0m | \u001b[0m-1.961   \u001b[0m | \u001b[0m-7.392   \u001b[0m |\n",
            "| \u001b[95m11       \u001b[0m | \u001b[95m-1.394   \u001b[0m | \u001b[95m-5.502   \u001b[0m |\n",
            "| \u001b[0m12       \u001b[0m | \u001b[0m-2.229   \u001b[0m | \u001b[0m-9.035   \u001b[0m |\n",
            "| \u001b[0m13       \u001b[0m | \u001b[0m-2.265   \u001b[0m | \u001b[0m-10.0    \u001b[0m |\n",
            "| \u001b[0m14       \u001b[0m | \u001b[0m-1.421   \u001b[0m | \u001b[0m-6.321   \u001b[0m |\n",
            "| \u001b[0m15       \u001b[0m | \u001b[0m-2.171   \u001b[0m | \u001b[0m-8.304   \u001b[0m |\n",
            "| \u001b[0m16       \u001b[0m | \u001b[0m-1.841   \u001b[0m | \u001b[0m-3.437   \u001b[0m |\n",
            "| \u001b[0m17       \u001b[0m | \u001b[0m-1.536   \u001b[0m | \u001b[0m-4.814   \u001b[0m |\n",
            "| \u001b[0m18       \u001b[0m | \u001b[0m-2.25    \u001b[0m | \u001b[0m-9.537   \u001b[0m |\n",
            "| \u001b[0m19       \u001b[0m | \u001b[0m-1.551   \u001b[0m | \u001b[0m-6.764   \u001b[0m |\n",
            "| \u001b[95m20       \u001b[0m | \u001b[95m-1.382   \u001b[0m | \u001b[95m-5.897   \u001b[0m |\n",
            "| \u001b[0m21       \u001b[0m | \u001b[0m-2.116   \u001b[0m | \u001b[0m-7.915   \u001b[0m |\n",
            "| \u001b[0m22       \u001b[0m | \u001b[0m-1.877   \u001b[0m | \u001b[0m-3.078   \u001b[0m |\n",
            "| \u001b[0m23       \u001b[0m | \u001b[0m-1.672   \u001b[0m | \u001b[0m-4.466   \u001b[0m |\n",
            "| \u001b[0m24       \u001b[0m | \u001b[0m-2.206   \u001b[0m | \u001b[0m-8.679   \u001b[0m |\n",
            "| \u001b[0m25       \u001b[0m | \u001b[0m-2.345   \u001b[0m | \u001b[0m-1.92    \u001b[0m |\n",
            "=====================================\n",
            "CPU times: user 41.8 s, sys: 5.57 s, total: 47.4 s\n",
            "Wall time: 35.3 s\n"
          ]
        }
      ]
    },
    {
      "cell_type": "markdown",
      "metadata": {
        "id": "PRHsz-6L_DR7"
      },
      "source": [
        "## 8.2 Test-Set Evaluation"
      ]
    },
    {
      "cell_type": "code",
      "execution_count": 18,
      "metadata": {
        "id": "1YrwwhH0_DR7"
      },
      "outputs": [],
      "source": [
        "ogd_hparams = {\n",
        "    'learning_rate': 0.0027465551960645573\n",
        "}"
      ]
    },
    {
      "cell_type": "code",
      "execution_count": 19,
      "metadata": {
        "id": "NrqkV31Q_DR7"
      },
      "outputs": [],
      "source": [
        "# ogd_hparams = hpt.get_best_params(ogd_optimizer, method='sgd')\n",
        "ogd_estimator = hpt.build_estimator(model_dict['flat_params'], model_dict['apply_fn'],\n",
        "                                    ogd_hparams, model_dict['emission_mean_function'],\n",
        "                                    model_dict['emission_cov_function'], \n",
        "                                    method='sgd', **ogd_params)"
      ]
    },
    {
      "cell_type": "code",
      "execution_count": 20,
      "metadata": {
        "id": "nLzdFC5P_DR7",
        "colab": {
          "base_uri": "https://localhost:8080/"
        },
        "outputId": "2a5ac12a-2316-485a-f8a0-5500067a176b"
      },
      "outputs": [
        {
          "output_type": "execute_result",
          "data": {
            "text/plain": [
              "{'learning_rate': 0.0027465551960645573}"
            ]
          },
          "metadata": {},
          "execution_count": 20
        }
      ],
      "source": [
        "ogd_hparams"
      ]
    },
    {
      "cell_type": "code",
      "execution_count": 25,
      "metadata": {
        "id": "vmmgrcir_DR7",
        "colab": {
          "base_uri": "https://localhost:8080/"
        },
        "outputId": "3e98c5a2-40c1-44e3-b689-1deb12ff63f5"
      },
      "outputs": [
        {
          "output_type": "stream",
          "name": "stderr",
          "text": [
            "100%|██████████| 5/5 [02:01<00:00, 24.34s/it]\n"
          ]
        }
      ],
      "source": [
        "ogd_res = evaluate_model(ogd_estimator)"
      ]
    },
    {
      "cell_type": "code",
      "source": [
        "filename = f'ogd_result.pkl'\n",
        "with open(Path(output_path, filename), \"wb\") as f:\n",
        "    pickle.dump(ogd_res, f)"
      ],
      "metadata": {
        "id": "89SyeGf0Pbkm"
      },
      "execution_count": 26,
      "outputs": []
    },
    {
      "cell_type": "markdown",
      "metadata": {
        "id": "yma75twB_DR7"
      },
      "source": [
        "# 9. SGD-RB (Rank 10)"
      ]
    },
    {
      "cell_type": "markdown",
      "metadata": {
        "id": "xV_tfuyv_DR7"
      },
      "source": [
        "## 9.1 Hyperparam Tuning"
      ]
    },
    {
      "cell_type": "code",
      "execution_count": 27,
      "metadata": {
        "id": "i1H0V2B1_DR7"
      },
      "outputs": [],
      "source": [
        "sgd_10_params = {\n",
        "    'loss_fn': optax.softmax_cross_entropy,\n",
        "    'buffer_size': 10,\n",
        "    'dim_output': 10\n",
        "}"
      ]
    },
    {
      "cell_type": "code",
      "execution_count": 28,
      "metadata": {
        "id": "lyzRIgHE_DR7"
      },
      "outputs": [],
      "source": [
        "sgd_10_optimizer, apply_fn, n_feats = hpt.create_optimizer(\n",
        "    model_dict[\"model\"], rsgd_pbounds, 314, warmup_train, warmup_val, \n",
        "    model_dict[\"emission_mean_function\"], model_dict[\"emission_cov_function\"],\n",
        "    ll_calback, 'sgd', **sgd_10_params\n",
        ")"
      ]
    },
    {
      "cell_type": "code",
      "source": [
        "%%time\n",
        "sgd_10_optimizer.maximize(\n",
        "    init_points=10,\n",
        "    n_iter=15,\n",
        ")"
      ],
      "metadata": {
        "id": "rSkK6z61Iobe",
        "outputId": "7ac9f23d-8e57-4844-f818-dafc36134f82",
        "colab": {
          "base_uri": "https://localhost:8080/"
        }
      },
      "execution_count": 29,
      "outputs": [
        {
          "output_type": "stream",
          "name": "stdout",
          "text": [
            "|   iter    |  target   |  log_lr   |\n",
            "-------------------------------------\n",
            "| \u001b[0m1        \u001b[0m | \u001b[0m-1e+08   \u001b[0m | \u001b[0m-0.8313  \u001b[0m |\n",
            "| \u001b[95m2        \u001b[0m | \u001b[95m-2.219   \u001b[0m | \u001b[95m-4.115   \u001b[0m |\n",
            "| \u001b[95m3        \u001b[0m | \u001b[95m-1.6     \u001b[0m | \u001b[95m-7.35    \u001b[0m |\n",
            "| \u001b[0m4        \u001b[0m | \u001b[0m-1e+08   \u001b[0m | \u001b[0m-2.168   \u001b[0m |\n",
            "| \u001b[0m5        \u001b[0m | \u001b[0m-1e+08   \u001b[0m | \u001b[0m-0.82    \u001b[0m |\n",
            "| \u001b[0m6        \u001b[0m | \u001b[0m-1e+08   \u001b[0m | \u001b[0m-1.726   \u001b[0m |\n",
            "| \u001b[0m7        \u001b[0m | \u001b[0m-1e+08   \u001b[0m | \u001b[0m-2.72    \u001b[0m |\n",
            "| \u001b[95m8        \u001b[0m | \u001b[95m-1.552   \u001b[0m | \u001b[95m-7.395   \u001b[0m |\n",
            "| \u001b[0m9        \u001b[0m | \u001b[0m-1e+08   \u001b[0m | \u001b[0m-0.8824  \u001b[0m |\n",
            "| \u001b[95m10       \u001b[0m | \u001b[95m-1.53    \u001b[0m | \u001b[95m-7.392   \u001b[0m |\n",
            "| \u001b[0m11       \u001b[0m | \u001b[0m-2.288   \u001b[0m | \u001b[0m-5.382   \u001b[0m |\n",
            "| \u001b[0m12       \u001b[0m | \u001b[0m-2.067   \u001b[0m | \u001b[0m-10.0    \u001b[0m |\n",
            "| \u001b[95m13       \u001b[0m | \u001b[95m-1.519   \u001b[0m | \u001b[95m-8.927   \u001b[0m |\n",
            "| \u001b[0m14       \u001b[0m | \u001b[0m-2.044   \u001b[0m | \u001b[0m-4.703   \u001b[0m |\n",
            "| \u001b[95m15       \u001b[0m | \u001b[95m-1.485   \u001b[0m | \u001b[95m-6.261   \u001b[0m |\n",
            "| \u001b[95m16       \u001b[0m | \u001b[95m-1.469   \u001b[0m | \u001b[95m-8.277   \u001b[0m |\n",
            "| \u001b[0m17       \u001b[0m | \u001b[0m-1.845   \u001b[0m | \u001b[0m-9.525   \u001b[0m |\n",
            "| \u001b[0m18       \u001b[0m | \u001b[0m-1.639   \u001b[0m | \u001b[0m-5.823   \u001b[0m |\n",
            "| \u001b[0m19       \u001b[0m | \u001b[0m-1.561   \u001b[0m | \u001b[0m-6.753   \u001b[0m |\n",
            "| \u001b[0m20       \u001b[0m | \u001b[0m-2.149   \u001b[0m | \u001b[0m-4.369   \u001b[0m |\n",
            "| \u001b[95m21       \u001b[0m | \u001b[95m-1.456   \u001b[0m | \u001b[95m-7.9     \u001b[0m |\n",
            "| \u001b[0m22       \u001b[0m | \u001b[0m-2.264   \u001b[0m | \u001b[0m-5.044   \u001b[0m |\n",
            "| \u001b[0m23       \u001b[0m | \u001b[0m-1.458   \u001b[0m | \u001b[0m-8.618   \u001b[0m |\n",
            "| \u001b[0m24       \u001b[0m | \u001b[0m-1.994   \u001b[0m | \u001b[0m-9.787   \u001b[0m |\n",
            "| \u001b[0m25       \u001b[0m | \u001b[0m-1.644   \u001b[0m | \u001b[0m-9.221   \u001b[0m |\n",
            "=====================================\n",
            "CPU times: user 57.2 s, sys: 5.75 s, total: 1min 2s\n",
            "Wall time: 50.5 s\n"
          ]
        }
      ]
    },
    {
      "cell_type": "markdown",
      "metadata": {
        "id": "loczC7aP_DR7"
      },
      "source": [
        "## 9.2 Test-Set Evaluation"
      ]
    },
    {
      "cell_type": "code",
      "execution_count": 32,
      "metadata": {
        "id": "xKPrnfKH_DR7"
      },
      "outputs": [],
      "source": [
        "sgd_10_hparams = {\n",
        "    'learning_rate': 0.00037073959697035485\n",
        "}"
      ]
    },
    {
      "cell_type": "code",
      "execution_count": 33,
      "metadata": {
        "id": "dxAAKET6_DR7"
      },
      "outputs": [],
      "source": [
        "# sgd_10_hparams = hpt.get_best_params(sgd_10_optimizer, method='sgd')\n",
        "sgd_10_estimator = hpt.build_estimator(model_dict['flat_params'], model_dict['apply_fn'],\n",
        "                                       sgd_10_hparams, model_dict['emission_mean_function'],\n",
        "                                       model_dict['emission_cov_function'], \n",
        "                                       method='sgd', **sgd_10_params)"
      ]
    },
    {
      "cell_type": "code",
      "execution_count": 34,
      "metadata": {
        "id": "iGBXvbc-_DR8",
        "colab": {
          "base_uri": "https://localhost:8080/"
        },
        "outputId": "31a1258d-918e-496a-be6d-fcb5e16fbc5b"
      },
      "outputs": [
        {
          "output_type": "execute_result",
          "data": {
            "text/plain": [
              "{'learning_rate': 0.00037073959697035485}"
            ]
          },
          "metadata": {},
          "execution_count": 34
        }
      ],
      "source": [
        "sgd_10_hparams"
      ]
    },
    {
      "cell_type": "code",
      "execution_count": 35,
      "metadata": {
        "id": "1vI0D9WY_DR8",
        "colab": {
          "base_uri": "https://localhost:8080/"
        },
        "outputId": "66cb3a03-af77-4192-9c25-4fcd0ca3c577"
      },
      "outputs": [
        {
          "output_type": "stream",
          "name": "stderr",
          "text": [
            "100%|██████████| 5/5 [00:54<00:00, 10.99s/it]\n"
          ]
        }
      ],
      "source": [
        "sgd_10_res = evaluate_model(sgd_10_estimator)"
      ]
    },
    {
      "cell_type": "code",
      "source": [
        "filename = f'sgd_10_result.pkl'\n",
        "with open(Path(output_path, filename), \"wb\") as f:\n",
        "    pickle.dump(sgd_10_res, f)"
      ],
      "metadata": {
        "id": "8MQUCJvjPgQE"
      },
      "execution_count": 36,
      "outputs": []
    },
    {
      "cell_type": "markdown",
      "metadata": {
        "id": "QQ7TPyDs_DR8"
      },
      "source": [
        "# 10. Model Comparison"
      ]
    },
    {
      "cell_type": "code",
      "execution_count": 37,
      "metadata": {
        "id": "ZdpQs26l_DR8"
      },
      "outputs": [],
      "source": [
        "results = {\n",
        "    'OGD': ogd_res,\n",
        "    'SGD-10': sgd_10_res,\n",
        "    # 'FDEKF': fdekf_res,\n",
        "    # 'VDEKF': vdekf_res,\n",
        "    # 'LoFi-1': lofi_1_res,\n",
        "    # 'LoFi-5': lofi_5_res,\n",
        "    # 'LoFi-10': lofi_10_res,\n",
        "    # 'LoFi-20': lofi_20_res,\n",
        "    # 'LoFi-50': lofi_50_res,\n",
        "}"
      ]
    },
    {
      "cell_type": "code",
      "execution_count": 38,
      "metadata": {
        "id": "Gf3ahnzd_DR8"
      },
      "outputs": [],
      "source": [
        "# boundaries = [i for i in range(600, (600*10)+1, 600)]"
      ]
    },
    {
      "cell_type": "code",
      "execution_count": 39,
      "metadata": {
        "colab": {
          "base_uri": "https://localhost:8080/",
          "height": 513
        },
        "id": "9FRbKA_L_DR8",
        "outputId": "1db512e0-f0f2-458c-8ae6-ca5fc0e2f457"
      },
      "outputs": [
        {
          "output_type": "display_data",
          "data": {
            "text/plain": [
              "<Figure size 720x576 with 1 Axes>"
            ],
            "image/png": "[encoded data removed]"
          },
          "metadata": {
            "needs_background": "light"
          }
        }
      ],
      "source": [
        "fig, ax = plt.subplots(figsize=(10,8))\n",
        "for key, val in results.items():\n",
        "    ax.plot(1.0 - val['current'], label=key, linewidth=0.8)\n",
        "    ax.fill_between(\n",
        "        jnp.arange(val['current'].shape[0]),\n",
        "        1.0 - val['current'] - val['current-std'] / jnp.sqrt(5),\n",
        "        1.0 - val['current'] + val['current-std'] / jnp.sqrt(5),\n",
        "        alpha=0.3\n",
        "    )\n",
        "# Task boundaries\n",
        "# for b in boundaries:\n",
        "#     ax.axvline(x=b, color='k', linestyle='--', alpha=0.5)\n",
        "ax.set_xlabel('Number of observations')\n",
        "ax.set_ylabel('Test-set average misclassification rate');\n",
        "ax.set_title(f'Current task test-set average misclassification rate')\n",
        "ax.grid(alpha=0.5)\n",
        "ax.legend();"
      ]
    },
    {
      "cell_type": "code",
      "source": [
        "fig, ax = plt.subplots(figsize=(10,8))\n",
        "for key, val in results.items():\n",
        "    ax.plot(1.0 - val['overall'], label=key, linewidth=0.8)\n",
        "    ax.fill_between(\n",
        "        jnp.arange(val['overall'].shape[0]),\n",
        "        1.0 - val['overall'] - val['overall-std']/jnp.sqrt(5),\n",
        "        1.0 - val['overall'] + val['overall-std']/jnp.sqrt(5),\n",
        "        alpha=0.3\n",
        "    )\n",
        "# Task boundaries\n",
        "# for b in boundaries:\n",
        "#     ax.axvline(x=b, color='k', linestyle='--', alpha=0.5)\n",
        "ax.set_xlabel('Number of observations')\n",
        "ax.set_ylabel('Test-set average misclassification rate');\n",
        "ax.set_title(f'Cumulative tasks test-set average misclassification rate')\n",
        "ax.grid(alpha=0.5)\n",
        "ax.legend();\n",
        "# fig.savefig(f'{output_path}_{name}.pdf', bbox_inches='tight')"
      ],
      "metadata": {
        "id": "Z1G5PlvFbbLZ",
        "outputId": "36eb3670-049a-4ee6-a296-d259287c723f",
        "colab": {
          "base_uri": "https://localhost:8080/",
          "height": 513
        }
      },
      "execution_count": 40,
      "outputs": [
        {
          "output_type": "display_data",
          "data": {
            "text/plain": [
              "<Figure size 720x576 with 1 Axes>"
            ],
            "image/png": "[encoded data removed]"
          },
          "metadata": {
            "needs_background": "light"
          }
        }
      ]
    },
    {
      "cell_type": "code",
      "source": [],
      "metadata": {
        "id": "TXb7r4E5cY_4"
      },
      "execution_count": null,
      "outputs": []
    }
  ],
  "metadata": {
    "kernelspec": {
      "display_name": ".venv",
      "language": "python",
      "name": "python3"
    },
    "language_info": {
      "codemirror_mode": {
        "name": "ipython",
        "version": 3
      },
      "file_extension": ".py",
      "mimetype": "text/x-python",
      "name": "python",
      "nbconvert_exporter": "python",
      "pygments_lexer": "ipython3",
      "version": "3.10.0"
    },
    "orig_nbformat": 4,
    "vscode": {
      "interpreter": {
        "hash": "a63216e3e6a2ce617ef04b00f48ca414857cfc892c8cff43a5943fdd36fca11d"
      }
    },
    "colab": {
      "provenance": [],
      "machine_shape": "hm"
    },
    "accelerator": "GPU",
    "gpuClass": "premium"
  },
  "nbformat": 4,
  "nbformat_minor": 0
}