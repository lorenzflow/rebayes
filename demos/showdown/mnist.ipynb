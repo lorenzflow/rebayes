{
  "cells": [
    {
      "cell_type": "markdown",
      "source": [
        "# MNIST Classification Showdown"
      ],
      "metadata": {
        "id": "zWllP3et4Cr9"
      }
    },
    {
      "cell_type": "markdown",
      "metadata": {
        "id": "hYTxK40_hHZy"
      },
      "source": [
        "# 0. Imports and Datasets"
      ]
    },
    {
      "cell_type": "code",
      "source": [
        "# %pip install ml_collections\n",
        "# %pip install flax\n",
        "# %pip install bayesian-optimization\n",
        "# %pip install -qq git+https://github.com/probml/rebayes.git\n",
        "# %pip install jaxtyping\n",
        "# %pip install jax-tqdm\n",
        "# %pip install dynamax"
      ],
      "metadata": {
        "id": "7SFKB1dphPF2"
      },
      "execution_count": 2,
      "outputs": []
    },
    {
      "cell_type": "code",
      "execution_count": 3,
      "metadata": {
        "id": "BZNphrxXhHZz"
      },
      "outputs": [],
      "source": [
        "import gc\n",
        "from functools import partial\n",
        "import time\n",
        "from typing import Callable, Sequence\n",
        "import collections.abc\n",
        "import warnings\n",
        "import copy\n",
        "from collections import deque\n",
        "from tqdm import trange\n",
        "\n",
        "import ml_collections\n",
        "import tensorflow_datasets as tfds\n",
        "from tensorflow_probability.substrates.jax.distributions import MultivariateNormalFullCovariance as MVN\n",
        "from tensorflow_probability.substrates.jax.distributions import MultivariateNormalDiag as MVND\n",
        "from tqdm import tqdm, trange\n",
        "import matplotlib.pyplot as plt\n",
        "from mpl_toolkits.axes_grid1.inset_locator import zoomed_inset_axes\n",
        "from mpl_toolkits.axes_grid1.inset_locator import mark_inset\n",
        "\n",
        "from flax import linen as nn\n",
        "from flax.training import train_state\n",
        "import jax\n",
        "from jax import jit, vmap, lax, jacfwd\n",
        "from jax.flatten_util import ravel_pytree\n",
        "import jax.numpy as jnp\n",
        "import jax.random as jr\n",
        "import optax\n",
        "from sklearn.preprocessing import OneHotEncoder\n",
        "import numpy as np\n",
        "from bayes_opt import BayesianOptimization\n",
        "\n",
        "jax.numpy.set_printoptions(suppress = True, precision=4)\n",
        "from rebayes.base import RebayesParams\n",
        "from rebayes.low_rank_filter.lofi import LoFiParams, RebayesLoFi\n",
        "from rebayes.extended_kalman_filter.ekf import RebayesEKF\n",
        "import demos.showdown.hparam_tune_clf as hp"
      ]
    },
    {
      "cell_type": "code",
      "execution_count": 4,
      "metadata": {
        "id": "qTxjQA4fhHZ0"
      },
      "outputs": [],
      "source": [
        "def get_datasets():\n",
        "    \"\"\"Load MNIST train and test datasets into memory.\"\"\"\n",
        "    ds_builder = tfds.builder('mnist')\n",
        "    ds_builder.download_and_prepare()\n",
        "    train_ds = tfds.as_numpy(ds_builder.as_dataset(split='train', batch_size=-1))\n",
        "    train_tvsplit_ds = tfds.as_numpy(ds_builder.as_dataset(split='train[:80%]', batch_size=-1))\n",
        "    val_tvsplit_ds = tfds.as_numpy(ds_builder.as_dataset(split='train[80%:]', batch_size=-1))\n",
        "    test_ds = tfds.as_numpy(ds_builder.as_dataset(split='test', batch_size=-1))\n",
        "    for ds in [train_ds, train_tvsplit_ds, val_tvsplit_ds, test_ds]:\n",
        "        ds['image'] = jnp.float32(ds['image']) / 255.\n",
        "    return train_ds, test_ds, train_tvsplit_ds, val_tvsplit_ds"
      ]
    },
    {
      "cell_type": "code",
      "execution_count": 5,
      "metadata": {
        "id": "HJ3le55xhHZ1",
        "outputId": "fe6eb7fc-2b2f-44f3-bcf4-ee7e1b390e6c",
        "colab": {
          "base_uri": "https://localhost:8080/",
          "height": 105,
          "referenced_widgets": [
            "f1b808a73d8845a4b2e71bedfff3d3e4",
            "a4d35fc864b6429894b961880d5e1a4b",
            "f3f7b83907104d2b9f0b0bec878986cb",
            "d2f37e6c31fc487aa0533d1ca2a775d3",
            "78a86887deae4d68adff39b653ccb3e1",
            "6ea044a13ef34835af020a38e550f5c7",
            "a8a7b93ecc7344d9843addf1b10856c7",
            "b1c2e92c81c34e2fa1219884a6e144bd",
            "e776a0c783cc49c2a31599d803d5bbb0",
            "5203d3ae380c428093d6d5de18c87ce1",
            "d4c46c8078fe48868e5b23fd7316be49"
          ]
        }
      },
      "outputs": [
        {
          "output_type": "stream",
          "name": "stdout",
          "text": [
            "Downloading and preparing dataset 11.06 MiB (download: 11.06 MiB, generated: 21.00 MiB, total: 32.06 MiB) to /root/tensorflow_datasets/mnist/3.0.1...\n"
          ]
        },
        {
          "output_type": "display_data",
          "data": {
            "text/plain": [
              "Dl Completed...:   0%|          | 0/5 [00:00<?, ? file/s]"
            ],
            "application/vnd.jupyter.widget-view+json": {
              "version_major": 2,
              "version_minor": 0,
              "model_id": "f1b808a73d8845a4b2e71bedfff3d3e4"
            }
          },
          "metadata": {}
        },
        {
          "output_type": "stream",
          "name": "stdout",
          "text": [
            "Dataset mnist downloaded and prepared to /root/tensorflow_datasets/mnist/3.0.1. Subsequent calls will reuse this data.\n"
          ]
        }
      ],
      "source": [
        "train_ds, test_ds, train_tvsplit_ds, val_tvsplit_ds = get_datasets()"
      ]
    },
    {
      "cell_type": "code",
      "execution_count": 6,
      "metadata": {
        "id": "EgIxM3F8hHZ1"
      },
      "outputs": [],
      "source": [
        "X_train, y_train = jnp.array(train_ds['image']), jnp.array(train_ds['label'])\n",
        "X_test, y_test = jnp.array(test_ds['image']), jnp.array(test_ds['label'])"
      ]
    },
    {
      "cell_type": "code",
      "execution_count": 7,
      "metadata": {
        "id": "gWkLaX5KhHZ1"
      },
      "outputs": [],
      "source": [
        "# Reshape data\n",
        "X_train = X_train.reshape(-1, 1, 28, 28, 1)\n",
        "y_train_ohe = jax.nn.one_hot(y_train, 10)"
      ]
    },
    {
      "cell_type": "markdown",
      "metadata": {
        "id": "RkkSYM9whHZ1"
      },
      "source": [
        "# 1. Models"
      ]
    },
    {
      "cell_type": "code",
      "execution_count": 8,
      "metadata": {
        "id": "nw73_cwghHZ2"
      },
      "outputs": [],
      "source": [
        "class CNN(nn.Module):\n",
        "    \"\"\"A simple CNN model.\"\"\"\n",
        "    @nn.compact\n",
        "    def __call__(self, x):\n",
        "        x = nn.Conv(features=32, kernel_size=(3, 3))(x)\n",
        "        x = nn.relu(x)\n",
        "        x = nn.avg_pool(x, window_shape=(2, 2), strides=(2, 2))\n",
        "        x = nn.Conv(features=64, kernel_size=(3, 3))(x)\n",
        "        x = nn.relu(x)\n",
        "        x = nn.avg_pool(x, window_shape=(2, 2), strides=(2, 2))\n",
        "        x = x.reshape((x.shape[0], -1))  # flatten\n",
        "        x = nn.Dense(features=128)(x)\n",
        "        x = nn.relu(x)\n",
        "        x = nn.Dense(features=10)(x)\n",
        "        return x\n",
        "\n",
        "class MLP(nn.Module):\n",
        "    features: Sequence[int]\n",
        "\n",
        "    @nn.compact\n",
        "    def __call__(self, x):\n",
        "        x = x.ravel()\n",
        "        for feat in self.features[:-1]:\n",
        "            x = nn.relu(nn.Dense(feat)(x))\n",
        "        x = nn.Dense(self.features[-1])(x)\n",
        "        return x"
      ]
    },
    {
      "cell_type": "code",
      "execution_count": 9,
      "metadata": {
        "id": "p5laND4QhHZ2",
        "outputId": "43be3c90-b2a9-4a46-ee1a-c818781c8515",
        "colab": {
          "base_uri": "https://localhost:8080/"
        }
      },
      "outputs": [
        {
          "output_type": "stream",
          "name": "stdout",
          "text": [
            "Params size = (421642,)\n"
          ]
        }
      ],
      "source": [
        "cnn = CNN()\n",
        "key = jr.PRNGKey(0)\n",
        "params = cnn.init(key, jnp.ones([1, 28, 28, 1]))['params']\n",
        "flat_params, unflatten_fn = ravel_pytree(params)\n",
        "print(f'Params size = {flat_params.shape}')\n",
        "state_dim = flat_params.shape[0]"
      ]
    },
    {
      "cell_type": "code",
      "execution_count": 10,
      "metadata": {
        "id": "hhxsy-v-hHZ2"
      },
      "outputs": [],
      "source": [
        "apply_fn = lambda w, x: cnn.apply({'params': unflatten_fn(w)}, x).ravel()\n",
        "emission_mean_function=lambda w, x: jax.nn.softmax(apply_fn(w, x))\n",
        "def emission_cov_function(w, x):\n",
        "    ps = emission_mean_function(w, x)\n",
        "    return jnp.diag(ps) - jnp.outer(ps, ps) + 1e-3 * jnp.eye(len(ps)) # Add diagonal to avoid singularity"
      ]
    },
    {
      "cell_type": "code",
      "execution_count": 11,
      "metadata": {
        "id": "tcyfExJ1hHZ2"
      },
      "outputs": [],
      "source": [
        "def evaluate_neg_log_likelihood(flat_params, unflatten_fn, apply_fn, test_set):\n",
        "    \"\"\" Evaluate negative log likelihood for given parameters and test set\n",
        "    \"\"\"\n",
        "    @jit\n",
        "    def evaluate_nll(label, image):\n",
        "        image = image.reshape((1, 28, 28, 1))\n",
        "        logits = apply_fn(flat_params, image)\n",
        "        return optax.softmax_cross_entropy_with_integer_labels(logits=logits, labels=label)\n",
        "    nlls = vmap(evaluate_nll, (0, 0))(test_set['label'], test_set['image'])\n",
        "    return nlls.mean()"
      ]
    },
    {
      "cell_type": "code",
      "execution_count": 12,
      "metadata": {
        "id": "eagI7PVIhHZ2"
      },
      "outputs": [],
      "source": [
        "def get_config(\n",
        "    optimizer='sgd',\n",
        "    learning_rate=0.01, \n",
        "    momentum=2e-1,\n",
        "    init_var=3e-2,\n",
        "    num_iter=1,\n",
        "    batch_size=1, \n",
        "    num_epochs=1,\n",
        "    sample_freq=500,\n",
        "    posterior_predictive_method='mc',\n",
        "    seed=0\n",
        "    ):\n",
        "    \"\"\"Get the default hyperparameter configuration.\"\"\"\n",
        "    config = ml_collections.ConfigDict()\n",
        "    config.optimizer = optimizer\n",
        "    config.learning_rate = learning_rate\n",
        "    config.momentum = momentum\n",
        "    config.init_var = init_var\n",
        "    config.num_iter = num_iter\n",
        "    config.batch_size = batch_size\n",
        "    config.num_epochs = num_epochs\n",
        "    config.sample_freq = sample_freq\n",
        "    config.posterior_predictive_method = posterior_predictive_method\n",
        "    config.seed = seed\n",
        "    return config"
      ]
    },
    {
      "cell_type": "markdown",
      "metadata": {
        "id": "f-OzBgiuhHZ2"
      },
      "source": [
        "# 2. Orth-SVD LoFi"
      ]
    },
    {
      "cell_type": "markdown",
      "metadata": {
        "id": "mmF_DPW_hHZ3"
      },
      "source": [
        "## 2.1 Hyperparam Tuning"
      ]
    },
    {
      "cell_type": "code",
      "source": [
        "def ll_callback(bel, *args, **kwargs):\n",
        "    test_set = kwargs[\"test\"]\n",
        "    unflatten_fn, apply_fn = kwargs[\"unflatten_fn\"], kwargs[\"apply_fn\"]\n",
        "    ll = -evaluate_neg_log_likelihood(bel.mean, unflatten_fn, apply_fn, test_set)\n",
        "    return ll"
      ],
      "metadata": {
        "id": "C8fCVzmAkLLu"
      },
      "execution_count": 14,
      "outputs": []
    },
    {
      "cell_type": "code",
      "execution_count": 35,
      "metadata": {
        "id": "1f-NhiDshHZ3"
      },
      "outputs": [],
      "source": [
        "def lofi_opt_fn(X, y, log_init_cov, log_dynamics_cov, log_alpha, memory_size, method='orth_svd_lofi'):\n",
        "    model_params = RebayesParams(\n",
        "        initial_mean=flat_params,\n",
        "        initial_covariance=jnp.power(10, log_init_cov),\n",
        "        dynamics_weights=1.0,\n",
        "        dynamics_covariance=jnp.power(10, log_dynamics_cov),\n",
        "        emission_mean_function=emission_mean_function,\n",
        "        emission_cov_function=emission_cov_function,\n",
        "        dynamics_covariance_inflation_factor=jnp.power(10, log_alpha)\n",
        "    )\n",
        "    lofi_params = LoFiParams(\n",
        "        memory_size=int(memory_size),\n",
        "    )\n",
        "    estimator = RebayesLoFi(model_params, lofi_params, method=method)\n",
        "\n",
        "    test_kwargs = {'test': test_ds, 'unflatten_fn': unflatten_fn, 'apply_fn': apply_fn}\n",
        "    bel, output = estimator.scan(X, y, callback=ll_callback, progress_bar=False, **test_kwargs)\n",
        "\n",
        "    return output.mean()"
      ]
    },
    {
      "cell_type": "code",
      "execution_count": 49,
      "metadata": {
        "id": "9FcEY-IihHZ3"
      },
      "outputs": [],
      "source": [
        "os_lofi_opt_fn = partial(lofi_opt_fn, X=X_train[:1000], y=y_train_ohe[:1000], \n",
        "                        memory_size=20, method='orth_svd_lofi')\n",
        "os_lofi_optimizer = BayesianOptimization(\n",
        "    f=os_lofi_opt_fn,\n",
        "    pbounds={\n",
        "        'log_init_cov': (-6, -0.1),\n",
        "        'log_dynamics_cov': (-6, -0.1),\n",
        "        'log_alpha': (-7, -0.1),\n",
        "    }\n",
        ")"
      ]
    },
    {
      "cell_type": "code",
      "execution_count": 50,
      "metadata": {
        "id": "xTBhL4uQhHZ3",
        "outputId": "dd6308e2-5aa7-47f6-99a7-e18cdc21e108",
        "colab": {
          "base_uri": "https://localhost:8080/"
        }
      },
      "outputs": [
        {
          "output_type": "stream",
          "name": "stdout",
          "text": [
            "|   iter    |  target   | log_alpha | log_dy... | log_in... |\n",
            "-------------------------------------------------------------\n",
            "| \u001b[0m1        \u001b[0m | \u001b[0m-2.302   \u001b[0m | \u001b[0m-0.815   \u001b[0m | \u001b[0m-4.139   \u001b[0m | \u001b[0m-5.025   \u001b[0m |\n",
            "| \u001b[95m2        \u001b[0m | \u001b[95m-1.866   \u001b[0m | \u001b[95m-3.291   \u001b[0m | \u001b[95m-5.577   \u001b[0m | \u001b[95m-2.577   \u001b[0m |\n",
            "| \u001b[95m3        \u001b[0m | \u001b[95m-1.178   \u001b[0m | \u001b[95m-3.329   \u001b[0m | \u001b[95m-4.791   \u001b[0m | \u001b[95m-2.052   \u001b[0m |\n",
            "| \u001b[0m4        \u001b[0m | \u001b[0m-2.303   \u001b[0m | \u001b[0m-3.788   \u001b[0m | \u001b[0m-3.728   \u001b[0m | \u001b[0m-5.839   \u001b[0m |\n",
            "| \u001b[95m5        \u001b[0m | \u001b[95m-0.9006  \u001b[0m | \u001b[95m-1.951   \u001b[0m | \u001b[95m-2.633   \u001b[0m | \u001b[95m-0.8505  \u001b[0m |\n",
            "| \u001b[0m6        \u001b[0m | \u001b[0m-2.242   \u001b[0m | \u001b[0m-1.883   \u001b[0m | \u001b[0m-4.945   \u001b[0m | \u001b[0m-3.148   \u001b[0m |\n",
            "| \u001b[95m7        \u001b[0m | \u001b[95m-0.8995  \u001b[0m | \u001b[95m-0.9756  \u001b[0m | \u001b[95m-4.73    \u001b[0m | \u001b[95m-1.067   \u001b[0m |\n",
            "| \u001b[0m8        \u001b[0m | \u001b[0m-0.9229  \u001b[0m | \u001b[0m-6.674   \u001b[0m | \u001b[0m-4.059   \u001b[0m | \u001b[0m-1.235   \u001b[0m |\n",
            "| \u001b[0m9        \u001b[0m | \u001b[0m-2.302   \u001b[0m | \u001b[0m-3.963   \u001b[0m | \u001b[0m-1.11    \u001b[0m | \u001b[0m-5.125   \u001b[0m |\n",
            "| \u001b[0m10       \u001b[0m | \u001b[0m-2.297   \u001b[0m | \u001b[0m-6.315   \u001b[0m | \u001b[0m-1.704   \u001b[0m | \u001b[0m-4.142   \u001b[0m |\n",
            "| \u001b[0m11       \u001b[0m | \u001b[0m-2.302   \u001b[0m | \u001b[0m-0.3816  \u001b[0m | \u001b[0m-4.241   \u001b[0m | \u001b[0m-5.497   \u001b[0m |\n",
            "| \u001b[0m12       \u001b[0m | \u001b[0m-2.206   \u001b[0m | \u001b[0m-3.101   \u001b[0m | \u001b[0m-4.308   \u001b[0m | \u001b[0m-2.979   \u001b[0m |\n",
            "| \u001b[0m13       \u001b[0m | \u001b[0m-1.983   \u001b[0m | \u001b[0m-4.727   \u001b[0m | \u001b[0m-1.992   \u001b[0m | \u001b[0m-2.659   \u001b[0m |\n",
            "| \u001b[0m14       \u001b[0m | \u001b[0m-2.302   \u001b[0m | \u001b[0m-4.3     \u001b[0m | \u001b[0m-4.61    \u001b[0m | \u001b[0m-5.411   \u001b[0m |\n",
            "| \u001b[0m15       \u001b[0m | \u001b[0m-2.293   \u001b[0m | \u001b[0m-2.263   \u001b[0m | \u001b[0m-2.351   \u001b[0m | \u001b[0m-3.937   \u001b[0m |\n",
            "| \u001b[0m16       \u001b[0m | \u001b[0m-2.3     \u001b[0m | \u001b[0m-3.015   \u001b[0m | \u001b[0m-2.849   \u001b[0m | \u001b[0m-4.544   \u001b[0m |\n",
            "| \u001b[0m17       \u001b[0m | \u001b[0m-0.9132  \u001b[0m | \u001b[0m-6.739   \u001b[0m | \u001b[0m-1.404   \u001b[0m | \u001b[0m-0.8301  \u001b[0m |\n",
            "| \u001b[0m18       \u001b[0m | \u001b[0m-2.296   \u001b[0m | \u001b[0m-5.073   \u001b[0m | \u001b[0m-4.541   \u001b[0m | \u001b[0m-4.103   \u001b[0m |\n",
            "| \u001b[0m19       \u001b[0m | \u001b[0m-2.303   \u001b[0m | \u001b[0m-6.635   \u001b[0m | \u001b[0m-2.042   \u001b[0m | \u001b[0m-5.855   \u001b[0m |\n",
            "| \u001b[0m20       \u001b[0m | \u001b[0m-2.092   \u001b[0m | \u001b[0m-1.536   \u001b[0m | \u001b[0m-0.3714  \u001b[0m | \u001b[0m-2.757   \u001b[0m |\n",
            "| \u001b[0m21       \u001b[0m | \u001b[0m-2.302   \u001b[0m | \u001b[0m-4.016   \u001b[0m | \u001b[0m-4.271   \u001b[0m | \u001b[0m-4.979   \u001b[0m |\n",
            "| \u001b[0m22       \u001b[0m | \u001b[0m-2.097   \u001b[0m | \u001b[0m-4.87    \u001b[0m | \u001b[0m-3.788   \u001b[0m | \u001b[0m-2.764   \u001b[0m |\n",
            "| \u001b[0m23       \u001b[0m | \u001b[0m-2.283   \u001b[0m | \u001b[0m-5.123   \u001b[0m | \u001b[0m-0.3742  \u001b[0m | \u001b[0m-3.619   \u001b[0m |\n",
            "| \u001b[0m24       \u001b[0m | \u001b[0m-1.999   \u001b[0m | \u001b[0m-6.596   \u001b[0m | \u001b[0m-0.398   \u001b[0m | \u001b[0m-2.672   \u001b[0m |\n",
            "| \u001b[0m25       \u001b[0m | \u001b[0m-1.831   \u001b[0m | \u001b[0m-0.9885  \u001b[0m | \u001b[0m-3.57    \u001b[0m | \u001b[0m-2.557   \u001b[0m |\n",
            "| \u001b[0m26       \u001b[0m | \u001b[0m-1.116   \u001b[0m | \u001b[0m-2.621   \u001b[0m | \u001b[0m-1.384   \u001b[0m | \u001b[0m-0.5745  \u001b[0m |\n",
            "| \u001b[0m27       \u001b[0m | \u001b[0m-2.301   \u001b[0m | \u001b[0m-4.385   \u001b[0m | \u001b[0m-5.606   \u001b[0m | \u001b[0m-4.725   \u001b[0m |\n",
            "| \u001b[0m28       \u001b[0m | \u001b[0m-1.14    \u001b[0m | \u001b[0m-6.172   \u001b[0m | \u001b[0m-3.467   \u001b[0m | \u001b[0m-0.5417  \u001b[0m |\n",
            "| \u001b[0m29       \u001b[0m | \u001b[0m-2.301   \u001b[0m | \u001b[0m-5.258   \u001b[0m | \u001b[0m-5.618   \u001b[0m | \u001b[0m-4.775   \u001b[0m |\n",
            "| \u001b[0m30       \u001b[0m | \u001b[0m-0.9922  \u001b[0m | \u001b[0m-5.808   \u001b[0m | \u001b[0m-4.778   \u001b[0m | \u001b[0m-1.637   \u001b[0m |\n",
            "| \u001b[0m31       \u001b[0m | \u001b[0m-2.49    \u001b[0m | \u001b[0m-3.044   \u001b[0m | \u001b[0m-4.745   \u001b[0m | \u001b[0m-0.1     \u001b[0m |\n",
            "| \u001b[0m32       \u001b[0m | \u001b[0m-1.555   \u001b[0m | \u001b[0m-0.4327  \u001b[0m | \u001b[0m-3.377   \u001b[0m | \u001b[0m-0.385   \u001b[0m |\n",
            "| \u001b[0m33       \u001b[0m | \u001b[0m-0.9208  \u001b[0m | \u001b[0m-6.838   \u001b[0m | \u001b[0m-5.391   \u001b[0m | \u001b[0m-0.741   \u001b[0m |\n",
            "| \u001b[0m34       \u001b[0m | \u001b[0m-2.477   \u001b[0m | \u001b[0m-5.417   \u001b[0m | \u001b[0m-1.165   \u001b[0m | \u001b[0m-0.1     \u001b[0m |\n",
            "| \u001b[0m35       \u001b[0m | \u001b[0m-0.9196  \u001b[0m | \u001b[0m-7.0     \u001b[0m | \u001b[0m-2.419   \u001b[0m | \u001b[0m-1.294   \u001b[0m |\n",
            "| \u001b[0m36       \u001b[0m | \u001b[0m-1.162   \u001b[0m | \u001b[0m-7.0     \u001b[0m | \u001b[0m-5.556   \u001b[0m | \u001b[0m-2.027   \u001b[0m |\n",
            "| \u001b[0m37       \u001b[0m | \u001b[0m-0.9196  \u001b[0m | \u001b[0m-0.1     \u001b[0m | \u001b[0m-5.864   \u001b[0m | \u001b[0m-1.012   \u001b[0m |\n",
            "| \u001b[0m38       \u001b[0m | \u001b[0m-130.3   \u001b[0m | \u001b[0m-1.244   \u001b[0m | \u001b[0m-1.34    \u001b[0m | \u001b[0m-0.1     \u001b[0m |\n",
            "| \u001b[95m39       \u001b[0m | \u001b[95m-0.8867  \u001b[0m | \u001b[95m-3.365   \u001b[0m | \u001b[95m-2.153   \u001b[0m | \u001b[95m-1.127   \u001b[0m |\n",
            "| \u001b[0m40       \u001b[0m | \u001b[0m-0.8902  \u001b[0m | \u001b[0m-3.648   \u001b[0m | \u001b[0m-0.6825  \u001b[0m | \u001b[0m-0.864   \u001b[0m |\n",
            "| \u001b[0m41       \u001b[0m | \u001b[0m-0.9681  \u001b[0m | \u001b[0m-2.324   \u001b[0m | \u001b[0m-3.661   \u001b[0m | \u001b[0m-1.424   \u001b[0m |\n",
            "| \u001b[0m42       \u001b[0m | \u001b[0m-1.408   \u001b[0m | \u001b[0m-2.918   \u001b[0m | \u001b[0m-1.183   \u001b[0m | \u001b[0m-2.276   \u001b[0m |\n",
            "| \u001b[0m43       \u001b[0m | \u001b[0m-2.243   \u001b[0m | \u001b[0m-6.924   \u001b[0m | \u001b[0m-3.586   \u001b[0m | \u001b[0m-3.153   \u001b[0m |\n",
            "| \u001b[0m44       \u001b[0m | \u001b[0m-2.162   \u001b[0m | \u001b[0m-0.1     \u001b[0m | \u001b[0m-5.528   \u001b[0m | \u001b[0m-2.863   \u001b[0m |\n",
            "| \u001b[0m45       \u001b[0m | \u001b[0m-0.9295  \u001b[0m | \u001b[0m-4.726   \u001b[0m | \u001b[0m-5.894   \u001b[0m | \u001b[0m-0.642   \u001b[0m |\n",
            "| \u001b[0m46       \u001b[0m | \u001b[0m-1.893   \u001b[0m | \u001b[0m-5.199   \u001b[0m | \u001b[0m-5.963   \u001b[0m | \u001b[0m-2.597   \u001b[0m |\n",
            "| \u001b[0m47       \u001b[0m | \u001b[0m-2.293   \u001b[0m | \u001b[0m-2.907   \u001b[0m | \u001b[0m-0.1     \u001b[0m | \u001b[0m-3.944   \u001b[0m |\n",
            "| \u001b[0m48       \u001b[0m | \u001b[0m-0.9798  \u001b[0m | \u001b[0m-4.463   \u001b[0m | \u001b[0m-3.847   \u001b[0m | \u001b[0m-0.7338  \u001b[0m |\n",
            "| \u001b[0m49       \u001b[0m | \u001b[0m-2.301   \u001b[0m | \u001b[0m-1.044   \u001b[0m | \u001b[0m-0.7508  \u001b[0m | \u001b[0m-4.709   \u001b[0m |\n",
            "| \u001b[0m50       \u001b[0m | \u001b[0m-0.9021  \u001b[0m | \u001b[0m-2.088   \u001b[0m | \u001b[0m-6.0     \u001b[0m | \u001b[0m-1.236   \u001b[0m |\n",
            "| \u001b[0m51       \u001b[0m | \u001b[0m-2.303   \u001b[0m | \u001b[0m-1.884   \u001b[0m | \u001b[0m-2.374   \u001b[0m | \u001b[0m-5.988   \u001b[0m |\n",
            "| \u001b[0m52       \u001b[0m | \u001b[0m-2.302   \u001b[0m | \u001b[0m-5.036   \u001b[0m | \u001b[0m-2.714   \u001b[0m | \u001b[0m-4.842   \u001b[0m |\n",
            "| \u001b[0m53       \u001b[0m | \u001b[0m-2.302   \u001b[0m | \u001b[0m-6.753   \u001b[0m | \u001b[0m-4.005   \u001b[0m | \u001b[0m-5.255   \u001b[0m |\n",
            "| \u001b[0m54       \u001b[0m | \u001b[0m-2.291   \u001b[0m | \u001b[0m-7.0     \u001b[0m | \u001b[0m-5.542   \u001b[0m | \u001b[0m-3.875   \u001b[0m |\n",
            "| \u001b[0m55       \u001b[0m | \u001b[0m-1.406   \u001b[0m | \u001b[0m-2.262   \u001b[0m | \u001b[0m-2.54    \u001b[0m | \u001b[0m-2.27    \u001b[0m |\n",
            "| \u001b[0m56       \u001b[0m | \u001b[0m-2.297   \u001b[0m | \u001b[0m-0.1     \u001b[0m | \u001b[0m-2.464   \u001b[0m | \u001b[0m-4.17    \u001b[0m |\n",
            "| \u001b[0m57       \u001b[0m | \u001b[0m-2.303   \u001b[0m | \u001b[0m-5.837   \u001b[0m | \u001b[0m-0.128   \u001b[0m | \u001b[0m-5.57    \u001b[0m |\n",
            "| \u001b[0m58       \u001b[0m | \u001b[0m-0.9894  \u001b[0m | \u001b[0m-6.822   \u001b[0m | \u001b[0m-5.375   \u001b[0m | \u001b[0m-0.7145  \u001b[0m |\n",
            "| \u001b[0m59       \u001b[0m | \u001b[0m-2.303   \u001b[0m | \u001b[0m-2.089   \u001b[0m | \u001b[0m-5.814   \u001b[0m | \u001b[0m-5.594   \u001b[0m |\n",
            "| \u001b[0m60       \u001b[0m | \u001b[0m-2.303   \u001b[0m | \u001b[0m-2.426   \u001b[0m | \u001b[0m-0.1     \u001b[0m | \u001b[0m-6.0     \u001b[0m |\n",
            "=============================================================\n"
          ]
        }
      ],
      "source": [
        "os_lofi_optimizer.maximize(\n",
        "    init_points=30,\n",
        "    n_iter=30,\n",
        ")"
      ]
    },
    {
      "cell_type": "code",
      "source": [
        "# 'log_alpha': -3.365269365850155, 'log_dynamics_cov': -2.153208025936515, 'log_init_cov': -1.1271226233108633\n",
        "print(os_lofi_optimizer.max)"
      ],
      "metadata": {
        "id": "TOpL07UticYe",
        "outputId": "fd37b52c-926a-4a4d-c93f-9ea6d9d2bffa",
        "colab": {
          "base_uri": "https://localhost:8080/"
        }
      },
      "execution_count": 60,
      "outputs": [
        {
          "output_type": "stream",
          "name": "stdout",
          "text": [
            "{'target': -0.8867484331130981, 'params': {'log_alpha': -3.365269365850155, 'log_dynamics_cov': -2.153208025936515, 'log_init_cov': -1.1271226233108633}}\n"
          ]
        }
      ]
    },
    {
      "cell_type": "markdown",
      "source": [
        "## 2.2 Test-Set NLL Evaluation"
      ],
      "metadata": {
        "id": "yBRiyBRJiWfd"
      }
    },
    {
      "cell_type": "code",
      "source": [
        "init_cov = jnp.power(10, -1.1271226233108633)\n",
        "dynamics_cov = jnp.power(10, -2.153208025936515)\n",
        "alpha = jnp.power(10, -3.365269365850155)\n",
        "method = 'orth_svd_lofi'\n",
        "\n",
        "model_params = RebayesParams(\n",
        "    initial_mean=flat_params,\n",
        "    initial_covariance=init_cov,\n",
        "    dynamics_weights=1.0,\n",
        "    dynamics_covariance=dynamics_cov,\n",
        "    emission_mean_function=emission_mean_function,\n",
        "    emission_cov_function=emission_cov_function,\n",
        "    dynamics_covariance_inflation_factor=alpha\n",
        ")\n",
        "lofi_params = LoFiParams(\n",
        "    memory_size=20,\n",
        ")\n",
        "os_lofi_estimator = RebayesLoFi(model_params, lofi_params, method=method)\n",
        "\n",
        "\n",
        "test_kwargs = {'test': test_ds, 'unflatten_fn': unflatten_fn, 'apply_fn': apply_fn}\n",
        "_, os_lofi_lls = os_lofi_estimator.scan(X_train[:1000], y_train_ohe[:1000], \n",
        "                                        callback=ll_callback, **test_kwargs)\n",
        "os_lofi_nlls = -1*os_lofi_lls"
      ],
      "metadata": {
        "id": "9X1naGXIiaEU",
        "outputId": "e7d6f93d-6618-4658-eb72-e3f88ce9a925",
        "colab": {
          "base_uri": "https://localhost:8080/",
          "height": 49,
          "referenced_widgets": [
            "79e1e15a5814495a8a80492863e02e32",
            "ce1c9794ca4746279cf0f5186733b70f",
            "5fd53dd4e7954b148b16736fb2195bdc",
            "979fecbb4d3243dc854f62875d7ea28c",
            "678515143ea146399339bd3415365443",
            "ff1f98266cbd44d4a6fb3d84f4a5aa3a",
            "31f943e875ad4973b38b9c9c85ae8806",
            "7269895e5629430a86b99f098c2541e3",
            "3f9051727b1641f4b11235018400e226",
            "b288fbe835d640d9bb8fe7c93d696f7d",
            "44a42ec151054cd08b593fc34605f586"
          ]
        }
      },
      "execution_count": 15,
      "outputs": [
        {
          "output_type": "display_data",
          "data": {
            "text/plain": [
              "  0%|          | 0/1000 [00:00<?, ?it/s]"
            ],
            "application/vnd.jupyter.widget-view+json": {
              "version_major": 2,
              "version_minor": 0,
              "model_id": "79e1e15a5814495a8a80492863e02e32"
            }
          },
          "metadata": {}
        }
      ]
    },
    {
      "cell_type": "code",
      "source": [
        "fig, ax = plt.subplots()\n",
        "ax.plot(os_lofi_nlls)\n",
        "ax.set_xlabel('Number of training examples seen')\n",
        "ax.set_ylabel('Test-set average NLL');"
      ],
      "metadata": {
        "id": "LqM69U4bjwoP",
        "outputId": "78038245-3bd1-43db-ea24-1851b57a9763",
        "colab": {
          "base_uri": "https://localhost:8080/",
          "height": 279
        }
      },
      "execution_count": 16,
      "outputs": [
        {
          "output_type": "display_data",
          "data": {
            "text/plain": [
              "<Figure size 432x288 with 1 Axes>"
            ],
            "image/png": "[encoded data removed]"
          },
          "metadata": {
            "needs_background": "light"
          }
        }
      ]
    },
    {
      "cell_type": "markdown",
      "source": [
        "# 3. Full-SVD LoFi"
      ],
      "metadata": {
        "id": "TxfK25tInVbF"
      }
    },
    {
      "cell_type": "markdown",
      "source": [
        "## 3.1 Hyperparam Tuning"
      ],
      "metadata": {
        "id": "NSh0qulVnXnE"
      }
    },
    {
      "cell_type": "code",
      "source": [
        "fs_lofi_opt_fn = partial(lofi_opt_fn, X=X_train[:1000], y=y_train_ohe[:1000], \n",
        "                        memory_size=20, method='full_svd_lofi')\n",
        "fs_lofi_optimizer = BayesianOptimization(\n",
        "    f=fs_lofi_opt_fn,\n",
        "    pbounds={\n",
        "        'log_init_cov': (-6, -0.1),\n",
        "        'log_dynamics_cov': (-6, -0.1),\n",
        "        'log_alpha': (-7, -0.1),\n",
        "    }\n",
        ")"
      ],
      "metadata": {
        "id": "iyAeoWHikHOF"
      },
      "execution_count": 51,
      "outputs": []
    },
    {
      "cell_type": "code",
      "source": [
        "fs_lofi_optimizer.maximize(\n",
        "    init_points=30,\n",
        "    n_iter=30,\n",
        ")"
      ],
      "metadata": {
        "id": "Hz6Z5FmTndcT",
        "outputId": "2e501588-ded7-4795-a258-a9fd88e83aaa",
        "colab": {
          "base_uri": "https://localhost:8080/"
        }
      },
      "execution_count": 52,
      "outputs": [
        {
          "output_type": "stream",
          "name": "stdout",
          "text": [
            "|   iter    |  target   | log_alpha | log_dy... | log_in... |\n",
            "-------------------------------------------------------------\n",
            "| \u001b[0m1        \u001b[0m | \u001b[0m-2.301   \u001b[0m | \u001b[0m-2.855   \u001b[0m | \u001b[0m-1.157   \u001b[0m | \u001b[0m-4.593   \u001b[0m |\n",
            "| \u001b[95m2        \u001b[0m | \u001b[95m-2.298   \u001b[0m | \u001b[95m-4.523   \u001b[0m | \u001b[95m-0.2542  \u001b[0m | \u001b[95m-4.293   \u001b[0m |\n",
            "| \u001b[0m3        \u001b[0m | \u001b[0m-2.303   \u001b[0m | \u001b[0m-4.402   \u001b[0m | \u001b[0m-5.923   \u001b[0m | \u001b[0m-5.752   \u001b[0m |\n",
            "| \u001b[0m4        \u001b[0m | \u001b[0m-2.303   \u001b[0m | \u001b[0m-2.999   \u001b[0m | \u001b[0m-5.873   \u001b[0m | \u001b[0m-5.693   \u001b[0m |\n",
            "| \u001b[95m5        \u001b[0m | \u001b[95m-0.8154  \u001b[0m | \u001b[95m-5.515   \u001b[0m | \u001b[95m-4.835   \u001b[0m | \u001b[95m-0.582   \u001b[0m |\n",
            "| \u001b[0m6        \u001b[0m | \u001b[0m-1.883   \u001b[0m | \u001b[0m-6.91    \u001b[0m | \u001b[0m-1.753   \u001b[0m | \u001b[0m-2.603   \u001b[0m |\n",
            "| \u001b[0m7        \u001b[0m | \u001b[0m-1.684   \u001b[0m | \u001b[0m-6.095   \u001b[0m | \u001b[0m-0.2073  \u001b[0m | \u001b[0m-2.491   \u001b[0m |\n",
            "| \u001b[0m8        \u001b[0m | \u001b[0m-2.295   \u001b[0m | \u001b[0m-0.3208  \u001b[0m | \u001b[0m-2.903   \u001b[0m | \u001b[0m-4.024   \u001b[0m |\n",
            "| \u001b[0m9        \u001b[0m | \u001b[0m-2.302   \u001b[0m | \u001b[0m-5.729   \u001b[0m | \u001b[0m-0.2959  \u001b[0m | \u001b[0m-5.449   \u001b[0m |\n",
            "| \u001b[0m10       \u001b[0m | \u001b[0m-2.3     \u001b[0m | \u001b[0m-3.493   \u001b[0m | \u001b[0m-1.482   \u001b[0m | \u001b[0m-4.427   \u001b[0m |\n",
            "| \u001b[0m11       \u001b[0m | \u001b[0m-2.303   \u001b[0m | \u001b[0m-4.224   \u001b[0m | \u001b[0m-1.076   \u001b[0m | \u001b[0m-5.701   \u001b[0m |\n",
            "| \u001b[0m12       \u001b[0m | \u001b[0m-2.268   \u001b[0m | \u001b[0m-5.165   \u001b[0m | \u001b[0m-2.582   \u001b[0m | \u001b[0m-3.373   \u001b[0m |\n",
            "| \u001b[0m13       \u001b[0m | \u001b[0m-2.303   \u001b[0m | \u001b[0m-5.466   \u001b[0m | \u001b[0m-5.447   \u001b[0m | \u001b[0m-5.725   \u001b[0m |\n",
            "| \u001b[0m14       \u001b[0m | \u001b[0m-2.303   \u001b[0m | \u001b[0m-6.114   \u001b[0m | \u001b[0m-2.62    \u001b[0m | \u001b[0m-5.875   \u001b[0m |\n",
            "| \u001b[95m15       \u001b[0m | \u001b[95m-0.7326  \u001b[0m | \u001b[95m-5.464   \u001b[0m | \u001b[95m-5.387   \u001b[0m | \u001b[95m-0.635   \u001b[0m |\n",
            "| \u001b[0m16       \u001b[0m | \u001b[0m-2.302   \u001b[0m | \u001b[0m-2.027   \u001b[0m | \u001b[0m-5.255   \u001b[0m | \u001b[0m-5.121   \u001b[0m |\n",
            "| \u001b[0m17       \u001b[0m | \u001b[0m-2.303   \u001b[0m | \u001b[0m-5.748   \u001b[0m | \u001b[0m-2.553   \u001b[0m | \u001b[0m-5.653   \u001b[0m |\n",
            "| \u001b[0m18       \u001b[0m | \u001b[0m-2.299   \u001b[0m | \u001b[0m-2.537   \u001b[0m | \u001b[0m-1.039   \u001b[0m | \u001b[0m-4.346   \u001b[0m |\n",
            "| \u001b[0m19       \u001b[0m | \u001b[0m-2.302   \u001b[0m | \u001b[0m-6.37    \u001b[0m | \u001b[0m-1.344   \u001b[0m | \u001b[0m-5.391   \u001b[0m |\n",
            "| \u001b[0m20       \u001b[0m | \u001b[0m-2.302   \u001b[0m | \u001b[0m-0.5911  \u001b[0m | \u001b[0m-2.817   \u001b[0m | \u001b[0m-5.156   \u001b[0m |\n",
            "| \u001b[0m21       \u001b[0m | \u001b[0m-1.223   \u001b[0m | \u001b[0m-1.467   \u001b[0m | \u001b[0m-3.046   \u001b[0m | \u001b[0m-2.229   \u001b[0m |\n",
            "| \u001b[95m22       \u001b[0m | \u001b[95m-0.6998  \u001b[0m | \u001b[95m-2.116   \u001b[0m | \u001b[95m-5.396   \u001b[0m | \u001b[95m-0.7867  \u001b[0m |\n",
            "| \u001b[0m23       \u001b[0m | \u001b[0m-2.22    \u001b[0m | \u001b[0m-6.918   \u001b[0m | \u001b[0m-4.807   \u001b[0m | \u001b[0m-3.036   \u001b[0m |\n",
            "| \u001b[0m24       \u001b[0m | \u001b[0m-2.302   \u001b[0m | \u001b[0m-0.6537  \u001b[0m | \u001b[0m-1.752   \u001b[0m | \u001b[0m-4.939   \u001b[0m |\n",
            "| \u001b[0m25       \u001b[0m | \u001b[0m-2.286   \u001b[0m | \u001b[0m-0.5931  \u001b[0m | \u001b[0m-5.99    \u001b[0m | \u001b[0m-3.706   \u001b[0m |\n",
            "| \u001b[0m26       \u001b[0m | \u001b[0m-2.299   \u001b[0m | \u001b[0m-1.516   \u001b[0m | \u001b[0m-3.69    \u001b[0m | \u001b[0m-4.315   \u001b[0m |\n",
            "| \u001b[0m27       \u001b[0m | \u001b[0m-2.3     \u001b[0m | \u001b[0m-5.508   \u001b[0m | \u001b[0m-5.546   \u001b[0m | \u001b[0m-4.519   \u001b[0m |\n",
            "| \u001b[95m28       \u001b[0m | \u001b[95m-0.6757  \u001b[0m | \u001b[95m-3.288   \u001b[0m | \u001b[95m-1.874   \u001b[0m | \u001b[95m-0.5354  \u001b[0m |\n",
            "| \u001b[0m29       \u001b[0m | \u001b[0m-15.74   \u001b[0m | \u001b[0m-3.183   \u001b[0m | \u001b[0m-1.453   \u001b[0m | \u001b[0m-0.2444  \u001b[0m |\n",
            "| \u001b[0m30       \u001b[0m | \u001b[0m-0.8505  \u001b[0m | \u001b[0m-1.125   \u001b[0m | \u001b[0m-2.74    \u001b[0m | \u001b[0m-1.456   \u001b[0m |\n",
            "| \u001b[0m31       \u001b[0m | \u001b[0m-2.174   \u001b[0m | \u001b[0m-0.3197  \u001b[0m | \u001b[0m-1.19    \u001b[0m | \u001b[0m-2.888   \u001b[0m |\n",
            "| \u001b[0m32       \u001b[0m | \u001b[0m-1.705   \u001b[0m | \u001b[0m-2.607   \u001b[0m | \u001b[0m-2.502   \u001b[0m | \u001b[0m-2.509   \u001b[0m |\n",
            "| \u001b[0m33       \u001b[0m | \u001b[0m-2.107   \u001b[0m | \u001b[0m-6.328   \u001b[0m | \u001b[0m-1.938   \u001b[0m | \u001b[0m-2.781   \u001b[0m |\n",
            "| \u001b[0m34       \u001b[0m | \u001b[0m-1.051   \u001b[0m | \u001b[0m-5.5     \u001b[0m | \u001b[0m-1.373   \u001b[0m | \u001b[0m-2.041   \u001b[0m |\n",
            "| \u001b[0m35       \u001b[0m | \u001b[0m-0.7021  \u001b[0m | \u001b[0m-5.66    \u001b[0m | \u001b[0m-3.517   \u001b[0m | \u001b[0m-1.15    \u001b[0m |\n",
            "| \u001b[0m36       \u001b[0m | \u001b[0m-0.7014  \u001b[0m | \u001b[0m-2.203   \u001b[0m | \u001b[0m-1.483   \u001b[0m | \u001b[0m-1.059   \u001b[0m |\n",
            "| \u001b[0m37       \u001b[0m | \u001b[0m-2.3     \u001b[0m | \u001b[0m-0.7392  \u001b[0m | \u001b[0m-1.126   \u001b[0m | \u001b[0m-4.436   \u001b[0m |\n",
            "| \u001b[0m38       \u001b[0m | \u001b[0m-2.194   \u001b[0m | \u001b[0m-2.055   \u001b[0m | \u001b[0m-3.583   \u001b[0m | \u001b[0m-2.943   \u001b[0m |\n",
            "| \u001b[0m39       \u001b[0m | \u001b[0m-2.225   \u001b[0m | \u001b[0m-1.455   \u001b[0m | \u001b[0m-3.823   \u001b[0m | \u001b[0m-3.057   \u001b[0m |\n",
            "| \u001b[0m40       \u001b[0m | \u001b[0m-0.9014  \u001b[0m | \u001b[0m-6.167   \u001b[0m | \u001b[0m-3.451   \u001b[0m | \u001b[0m-1.843   \u001b[0m |\n",
            "| \u001b[0m41       \u001b[0m | \u001b[0m-1.188   \u001b[0m | \u001b[0m-0.4217  \u001b[0m | \u001b[0m-4.383   \u001b[0m | \u001b[0m-2.063   \u001b[0m |\n",
            "| \u001b[0m42       \u001b[0m | \u001b[0m-2.191   \u001b[0m | \u001b[0m-6.313   \u001b[0m | \u001b[0m-4.715   \u001b[0m | \u001b[0m-2.934   \u001b[0m |\n",
            "| \u001b[0m43       \u001b[0m | \u001b[0m-2.267   \u001b[0m | \u001b[0m-4.682   \u001b[0m | \u001b[0m-1.906   \u001b[0m | \u001b[0m-3.364   \u001b[0m |\n",
            "| \u001b[0m44       \u001b[0m | \u001b[0m-0.6802  \u001b[0m | \u001b[0m-3.33    \u001b[0m | \u001b[0m-3.683   \u001b[0m | \u001b[0m-0.9966  \u001b[0m |\n",
            "| \u001b[0m45       \u001b[0m | \u001b[0m-0.7126  \u001b[0m | \u001b[0m-2.189   \u001b[0m | \u001b[0m-1.463   \u001b[0m | \u001b[0m-1.13    \u001b[0m |\n",
            "| \u001b[0m46       \u001b[0m | \u001b[0m-0.6836  \u001b[0m | \u001b[0m-5.525   \u001b[0m | \u001b[0m-5.099   \u001b[0m | \u001b[0m-0.7883  \u001b[0m |\n",
            "| \u001b[0m47       \u001b[0m | \u001b[0m-0.6977  \u001b[0m | \u001b[0m-3.315   \u001b[0m | \u001b[0m-2.535   \u001b[0m | \u001b[0m-0.6534  \u001b[0m |\n",
            "| \u001b[0m48       \u001b[0m | \u001b[0m-1.4     \u001b[0m | \u001b[0m-1.463   \u001b[0m | \u001b[0m-2.73    \u001b[0m | \u001b[0m-2.342   \u001b[0m |\n",
            "| \u001b[0m49       \u001b[0m | \u001b[0m-2.302   \u001b[0m | \u001b[0m-3.335   \u001b[0m | \u001b[0m-0.6161  \u001b[0m | \u001b[0m-5.11    \u001b[0m |\n",
            "| \u001b[0m50       \u001b[0m | \u001b[0m-2.302   \u001b[0m | \u001b[0m-3.081   \u001b[0m | \u001b[0m-1.206   \u001b[0m | \u001b[0m-4.877   \u001b[0m |\n",
            "| \u001b[0m51       \u001b[0m | \u001b[0m-0.832   \u001b[0m | \u001b[0m-3.288   \u001b[0m | \u001b[0m-1.798   \u001b[0m | \u001b[0m-0.504   \u001b[0m |\n",
            "| \u001b[0m52       \u001b[0m | \u001b[0m-0.9485  \u001b[0m | \u001b[0m-5.699   \u001b[0m | \u001b[0m-5.167   \u001b[0m | \u001b[0m-0.528   \u001b[0m |\n",
            "| \u001b[0m53       \u001b[0m | \u001b[0m-2.301   \u001b[0m | \u001b[0m-5.729   \u001b[0m | \u001b[0m-0.3725  \u001b[0m | \u001b[0m-4.721   \u001b[0m |\n",
            "| \u001b[0m54       \u001b[0m | \u001b[0m-0.6821  \u001b[0m | \u001b[0m-5.714   \u001b[0m | \u001b[0m-5.363   \u001b[0m | \u001b[0m-0.8708  \u001b[0m |\n",
            "| \u001b[0m55       \u001b[0m | \u001b[0m-0.6874  \u001b[0m | \u001b[0m-5.389   \u001b[0m | \u001b[0m-5.374   \u001b[0m | \u001b[0m-0.9331  \u001b[0m |\n",
            "| \u001b[0m56       \u001b[0m | \u001b[0m-27.7    \u001b[0m | \u001b[0m-5.362   \u001b[0m | \u001b[0m-5.104   \u001b[0m | \u001b[0m-0.3902  \u001b[0m |\n",
            "| \u001b[0m57       \u001b[0m | \u001b[0m-49.02   \u001b[0m | \u001b[0m-4.671   \u001b[0m | \u001b[0m-0.2127  \u001b[0m | \u001b[0m-0.2801  \u001b[0m |\n",
            "| \u001b[0m58       \u001b[0m | \u001b[0m-2.302   \u001b[0m | \u001b[0m-1.081   \u001b[0m | \u001b[0m-4.168   \u001b[0m | \u001b[0m-5.383   \u001b[0m |\n",
            "| \u001b[0m59       \u001b[0m | \u001b[0m-0.6912  \u001b[0m | \u001b[0m-5.808   \u001b[0m | \u001b[0m-4.889   \u001b[0m | \u001b[0m-0.7266  \u001b[0m |\n",
            "| \u001b[0m60       \u001b[0m | \u001b[0m-2.151   \u001b[0m | \u001b[0m-0.3145  \u001b[0m | \u001b[0m-1.195   \u001b[0m | \u001b[0m-2.842   \u001b[0m |\n",
            "=============================================================\n"
          ]
        }
      ]
    },
    {
      "cell_type": "code",
      "source": [
        "# 'log_alpha': -3.288125041277876, 'log_dynamics_cov': -1.8736300845941125, 'log_init_cov': -0.5354483998381978\n",
        "print(fs_lofi_optimizer.max)"
      ],
      "metadata": {
        "id": "OLPe1F3gng06",
        "outputId": "260a928c-a241-4d03-d005-68e341f0465c",
        "colab": {
          "base_uri": "https://localhost:8080/"
        }
      },
      "execution_count": 53,
      "outputs": [
        {
          "output_type": "stream",
          "name": "stdout",
          "text": [
            "{'target': -0.6757003664970398, 'params': {'log_alpha': -3.288125041277876, 'log_dynamics_cov': -1.8736300845941125, 'log_init_cov': -0.5354483998381978}}\n"
          ]
        }
      ]
    },
    {
      "cell_type": "markdown",
      "source": [
        "## 3.2 Test-Set NLL Evaluation"
      ],
      "metadata": {
        "id": "uYsZD1MdnpwP"
      }
    },
    {
      "cell_type": "code",
      "source": [
        "init_cov = jnp.power(10, -0.5354483998381978)\n",
        "dynamics_cov = jnp.power(10, -1.8736300845941125)\n",
        "alpha = jnp.power(10, -3.288125041277876)\n",
        "method = 'full_svd_lofi'\n",
        "\n",
        "model_params = RebayesParams(\n",
        "    initial_mean=flat_params,\n",
        "    initial_covariance=init_cov,\n",
        "    dynamics_weights=1.0,\n",
        "    dynamics_covariance=dynamics_cov,\n",
        "    emission_mean_function=emission_mean_function,\n",
        "    emission_cov_function=emission_cov_function,\n",
        "    dynamics_covariance_inflation_factor=alpha\n",
        ")\n",
        "lofi_params = LoFiParams(\n",
        "    memory_size=20,\n",
        ")\n",
        "fs_lofi_estimator = RebayesLoFi(model_params, lofi_params, method=method)\n",
        "\n",
        "\n",
        "test_kwargs = {'test': test_ds, 'unflatten_fn': unflatten_fn, 'apply_fn': apply_fn}\n",
        "_, fs_lofi_lls = fs_lofi_estimator.scan(X_train[:1000], y_train_ohe[:1000], \n",
        "                                        callback=ll_callback, **test_kwargs)\n",
        "fs_lofi_nlls = -1*fs_lofi_lls"
      ],
      "metadata": {
        "id": "6acrhRABnoWt",
        "outputId": "406bfe94-356e-428d-b9cc-642f428957ed",
        "colab": {
          "base_uri": "https://localhost:8080/",
          "height": 49,
          "referenced_widgets": [
            "3f3e67a8c99b4e079ff0f272e2d13bc7",
            "54c871d9b3194156bc80dd1919c0eeba",
            "2bee770aa2ed469caa7f1b22f51a36d4",
            "434afb0bc1e640af859d0b4141567fd3",
            "86c7860fb5184c8ba8463e929225d9ad",
            "616156ac0f684ac79654486c1d20a4a6",
            "53875333a50a4430a462e69e46721bf9",
            "c55b8a3c41c74204a0c77f561c060ffd",
            "3d00b310e69541c8beceabd065ca6c28",
            "9b58353c1d644e4baa79974efa5b3481",
            "29f33f17bf0349e3837c52737a85d867"
          ]
        }
      },
      "execution_count": 17,
      "outputs": [
        {
          "output_type": "display_data",
          "data": {
            "text/plain": [
              "  0%|          | 0/1000 [00:00<?, ?it/s]"
            ],
            "application/vnd.jupyter.widget-view+json": {
              "version_major": 2,
              "version_minor": 0,
              "model_id": "3f3e67a8c99b4e079ff0f272e2d13bc7"
            }
          },
          "metadata": {}
        }
      ]
    },
    {
      "cell_type": "code",
      "source": [
        "fig, ax = plt.subplots()\n",
        "ax.plot(fs_lofi_nlls)\n",
        "ax.set_xlabel('Number of training examples seen')\n",
        "ax.set_ylabel('Test-set average NLL');"
      ],
      "metadata": {
        "id": "fhe1lhtIuLCv",
        "outputId": "1bddb638-c11b-41a8-fe36-76146c98eb9b",
        "colab": {
          "base_uri": "https://localhost:8080/",
          "height": 279
        }
      },
      "execution_count": 18,
      "outputs": [
        {
          "output_type": "display_data",
          "data": {
            "text/plain": [
              "<Figure size 432x288 with 1 Axes>"
            ],
            "image/png": "[encoded data removed]"
          },
          "metadata": {
            "needs_background": "light"
          }
        }
      ]
    },
    {
      "cell_type": "markdown",
      "source": [
        "# 4. FD-EKF"
      ],
      "metadata": {
        "id": "9uRtW8Ugn2D4"
      }
    },
    {
      "cell_type": "markdown",
      "source": [
        "## 4.1 Hyperparam Tuning"
      ],
      "metadata": {
        "id": "iLqGmr3On9ri"
      }
    },
    {
      "cell_type": "code",
      "source": [
        "def ekf_opt_fn(X, y, log_init_cov, log_dynamics_cov, log_alpha, method='fdekf'):\n",
        "    model_params = RebayesParams(\n",
        "        initial_mean=flat_params,\n",
        "        initial_covariance=jnp.power(10, log_init_cov),\n",
        "        dynamics_weights=1.0,\n",
        "        dynamics_covariance=jnp.power(10, log_dynamics_cov),\n",
        "        emission_mean_function=emission_mean_function,\n",
        "        emission_cov_function=emission_cov_function,\n",
        "        dynamics_covariance_inflation_factor=jnp.power(10, log_alpha)\n",
        "    )\n",
        "    estimator = RebayesEKF(model_params, method=method)\n",
        "\n",
        "    test_kwargs = {'test': test_ds, 'unflatten_fn': unflatten_fn, 'apply_fn': apply_fn}\n",
        "    bel, output = estimator.scan(X, y, callback=ll_callback, progress_bar=False, **test_kwargs)\n",
        "    \n",
        "    result = output.mean()\n",
        "    if jnp.isnan(result):\n",
        "        result = -1e6\n",
        "    return result"
      ],
      "metadata": {
        "id": "UfYfCQS8n8o0"
      },
      "execution_count": 25,
      "outputs": []
    },
    {
      "cell_type": "code",
      "source": [
        "fdekf_opt_fn = partial(ekf_opt_fn, X=X_train[:1000], y=y_train_ohe[:1000], method='fdekf')\n",
        "fdekf_optimizer = BayesianOptimization(\n",
        "    f=fdekf_opt_fn,\n",
        "    pbounds={\n",
        "        'log_init_cov': (-6, -0.1),\n",
        "        'log_dynamics_cov': (-6, -0.1),\n",
        "        'log_alpha': (-7, -0.1),\n",
        "    }\n",
        ")"
      ],
      "metadata": {
        "id": "c2G0BpxQoRsX"
      },
      "execution_count": 26,
      "outputs": []
    },
    {
      "cell_type": "code",
      "source": [
        "fdekf_optimizer.maximize(\n",
        "    init_points=30,\n",
        "    n_iter=30,\n",
        ")"
      ],
      "metadata": {
        "id": "TM0K7QORocUI",
        "outputId": "d689603a-9d63-470b-fd0b-271c933d4980",
        "colab": {
          "base_uri": "https://localhost:8080/"
        }
      },
      "execution_count": 27,
      "outputs": [
        {
          "output_type": "stream",
          "name": "stdout",
          "text": [
            "|   iter    |  target   | log_alpha | log_dy... | log_in... |\n",
            "-------------------------------------------------------------\n",
            "| \u001b[0m1        \u001b[0m | \u001b[0m-2.128   \u001b[0m | \u001b[0m-5.693   \u001b[0m | \u001b[0m-5.443   \u001b[0m | \u001b[0m-3.658   \u001b[0m |\n",
            "| \u001b[0m2        \u001b[0m | \u001b[0m-1e+06   \u001b[0m | \u001b[0m-0.2793  \u001b[0m | \u001b[0m-5.826   \u001b[0m | \u001b[0m-0.9535  \u001b[0m |\n",
            "| \u001b[95m3        \u001b[0m | \u001b[95m-1.812   \u001b[0m | \u001b[95m-2.237   \u001b[0m | \u001b[95m-5.751   \u001b[0m | \u001b[95m-3.614   \u001b[0m |\n",
            "| \u001b[0m4        \u001b[0m | \u001b[0m-2.227e+0\u001b[0m | \u001b[0m-1.287   \u001b[0m | \u001b[0m-0.5065  \u001b[0m | \u001b[0m-3.469   \u001b[0m |\n",
            "| \u001b[0m5        \u001b[0m | \u001b[0m-1e+06   \u001b[0m | \u001b[0m-0.7857  \u001b[0m | \u001b[0m-3.706   \u001b[0m | \u001b[0m-3.316   \u001b[0m |\n",
            "| \u001b[95m6        \u001b[0m | \u001b[95m-1.532   \u001b[0m | \u001b[95m-3.931   \u001b[0m | \u001b[95m-3.181   \u001b[0m | \u001b[95m-4.428   \u001b[0m |\n",
            "| \u001b[0m7        \u001b[0m | \u001b[0m-2.241   \u001b[0m | \u001b[0m-5.453   \u001b[0m | \u001b[0m-5.767   \u001b[0m | \u001b[0m-3.897   \u001b[0m |\n",
            "| \u001b[0m8        \u001b[0m | \u001b[0m-2.647   \u001b[0m | \u001b[0m-4.277   \u001b[0m | \u001b[0m-0.9079  \u001b[0m | \u001b[0m-3.843   \u001b[0m |\n",
            "| \u001b[0m9        \u001b[0m | \u001b[0m-1.858   \u001b[0m | \u001b[0m-4.837   \u001b[0m | \u001b[0m-5.088   \u001b[0m | \u001b[0m-3.656   \u001b[0m |\n",
            "| \u001b[0m10       \u001b[0m | \u001b[0m-1e+06   \u001b[0m | \u001b[0m-0.9458  \u001b[0m | \u001b[0m-5.582   \u001b[0m | \u001b[0m-3.142   \u001b[0m |\n",
            "| \u001b[0m11       \u001b[0m | \u001b[0m-2.556   \u001b[0m | \u001b[0m-2.341   \u001b[0m | \u001b[0m-1.197   \u001b[0m | \u001b[0m-2.369   \u001b[0m |\n",
            "| \u001b[0m12       \u001b[0m | \u001b[0m-2.729   \u001b[0m | \u001b[0m-2.928   \u001b[0m | \u001b[0m-0.7844  \u001b[0m | \u001b[0m-1.149   \u001b[0m |\n",
            "| \u001b[95m13       \u001b[0m | \u001b[95m-1.4     \u001b[0m | \u001b[95m-5.208   \u001b[0m | \u001b[95m-4.417   \u001b[0m | \u001b[95m-3.203   \u001b[0m |\n",
            "| \u001b[0m14       \u001b[0m | \u001b[0m-2.415   \u001b[0m | \u001b[0m-2.368   \u001b[0m | \u001b[0m-1.93    \u001b[0m | \u001b[0m-2.356   \u001b[0m |\n",
            "| \u001b[0m15       \u001b[0m | \u001b[0m-1e+06   \u001b[0m | \u001b[0m-0.631   \u001b[0m | \u001b[0m-2.875   \u001b[0m | \u001b[0m-0.8488  \u001b[0m |\n",
            "| \u001b[0m16       \u001b[0m | \u001b[0m-564.5   \u001b[0m | \u001b[0m-1.158   \u001b[0m | \u001b[0m-1.205   \u001b[0m | \u001b[0m-0.4031  \u001b[0m |\n",
            "| \u001b[0m17       \u001b[0m | \u001b[0m-2.388   \u001b[0m | \u001b[0m-4.34    \u001b[0m | \u001b[0m-2.122   \u001b[0m | \u001b[0m-1.985   \u001b[0m |\n",
            "| \u001b[0m18       \u001b[0m | \u001b[0m-2.581   \u001b[0m | \u001b[0m-1.091   \u001b[0m | \u001b[0m-2.948   \u001b[0m | \u001b[0m-4.717   \u001b[0m |\n",
            "| \u001b[0m19       \u001b[0m | \u001b[0m-2.399   \u001b[0m | \u001b[0m-5.13    \u001b[0m | \u001b[0m-2.07    \u001b[0m | \u001b[0m-1.303   \u001b[0m |\n",
            "| \u001b[0m20       \u001b[0m | \u001b[0m-2.423   \u001b[0m | \u001b[0m-1.615   \u001b[0m | \u001b[0m-2.263   \u001b[0m | \u001b[0m-3.849   \u001b[0m |\n",
            "| \u001b[0m21       \u001b[0m | \u001b[0m-6.354   \u001b[0m | \u001b[0m-2.441   \u001b[0m | \u001b[0m-0.258   \u001b[0m | \u001b[0m-0.5344  \u001b[0m |\n",
            "| \u001b[0m22       \u001b[0m | \u001b[0m-53.74   \u001b[0m | \u001b[0m-4.181   \u001b[0m | \u001b[0m-1.087   \u001b[0m | \u001b[0m-2.184   \u001b[0m |\n",
            "| \u001b[0m23       \u001b[0m | \u001b[0m-1.497   \u001b[0m | \u001b[0m-5.562   \u001b[0m | \u001b[0m-3.057   \u001b[0m | \u001b[0m-0.9138  \u001b[0m |\n",
            "| \u001b[0m24       \u001b[0m | \u001b[0m-56.61   \u001b[0m | \u001b[0m-3.406   \u001b[0m | \u001b[0m-0.375   \u001b[0m | \u001b[0m-2.072   \u001b[0m |\n",
            "| \u001b[0m25       \u001b[0m | \u001b[0m-6.307e+0\u001b[0m | \u001b[0m-1.743   \u001b[0m | \u001b[0m-3.417   \u001b[0m | \u001b[0m-1.237   \u001b[0m |\n",
            "| \u001b[0m26       \u001b[0m | \u001b[0m-1e+06   \u001b[0m | \u001b[0m-0.1113  \u001b[0m | \u001b[0m-1.925   \u001b[0m | \u001b[0m-0.7878  \u001b[0m |\n",
            "| \u001b[0m27       \u001b[0m | \u001b[0m-2.189   \u001b[0m | \u001b[0m-4.673   \u001b[0m | \u001b[0m-5.487   \u001b[0m | \u001b[0m-5.942   \u001b[0m |\n",
            "| \u001b[0m28       \u001b[0m | \u001b[0m-3.04    \u001b[0m | \u001b[0m-6.127   \u001b[0m | \u001b[0m-0.5046  \u001b[0m | \u001b[0m-3.054   \u001b[0m |\n",
            "| \u001b[0m29       \u001b[0m | \u001b[0m-3.342   \u001b[0m | \u001b[0m-4.574   \u001b[0m | \u001b[0m-0.3787  \u001b[0m | \u001b[0m-0.7557  \u001b[0m |\n",
            "| \u001b[95m30       \u001b[0m | \u001b[95m-1.234   \u001b[0m | \u001b[95m-4.84    \u001b[0m | \u001b[95m-3.808   \u001b[0m | \u001b[95m-4.305   \u001b[0m |\n",
            "| \u001b[0m31       \u001b[0m | \u001b[0m-2.332   \u001b[0m | \u001b[0m-3.238   \u001b[0m | \u001b[0m-3.615   \u001b[0m | \u001b[0m-0.1     \u001b[0m |\n",
            "| \u001b[0m32       \u001b[0m | \u001b[0m-434.0   \u001b[0m | \u001b[0m-1.853   \u001b[0m | \u001b[0m-1.441   \u001b[0m | \u001b[0m-6.0     \u001b[0m |\n",
            "| \u001b[0m33       \u001b[0m | \u001b[0m-1.936   \u001b[0m | \u001b[0m-2.082   \u001b[0m | \u001b[0m-5.795   \u001b[0m | \u001b[0m-5.997   \u001b[0m |\n",
            "| \u001b[0m34       \u001b[0m | \u001b[0m-34.76   \u001b[0m | \u001b[0m-7.0     \u001b[0m | \u001b[0m-2.002   \u001b[0m | \u001b[0m-6.0     \u001b[0m |\n",
            "| \u001b[95m35       \u001b[0m | \u001b[95m-1.044   \u001b[0m | \u001b[95m-7.0     \u001b[0m | \u001b[95m-6.0     \u001b[0m | \u001b[95m-0.4659  \u001b[0m |\n",
            "| \u001b[95m36       \u001b[0m | \u001b[95m-1.028   \u001b[0m | \u001b[95m-4.014   \u001b[0m | \u001b[95m-6.0     \u001b[0m | \u001b[95m-1.626   \u001b[0m |\n",
            "| \u001b[0m37       \u001b[0m | \u001b[0m-36.8    \u001b[0m | \u001b[0m-7.0     \u001b[0m | \u001b[0m-0.1     \u001b[0m | \u001b[0m-0.1     \u001b[0m |\n",
            "| \u001b[0m38       \u001b[0m | \u001b[0m-1.478   \u001b[0m | \u001b[0m-6.951   \u001b[0m | \u001b[0m-4.515   \u001b[0m | \u001b[0m-5.994   \u001b[0m |\n",
            "| \u001b[0m39       \u001b[0m | \u001b[0m-1.795   \u001b[0m | \u001b[0m-7.0     \u001b[0m | \u001b[0m-2.843   \u001b[0m | \u001b[0m-3.169   \u001b[0m |\n",
            "| \u001b[0m40       \u001b[0m | \u001b[0m-2.058   \u001b[0m | \u001b[0m-2.48    \u001b[0m | \u001b[0m-3.577   \u001b[0m | \u001b[0m-6.0     \u001b[0m |\n",
            "| \u001b[0m41       \u001b[0m | \u001b[0m-1.177   \u001b[0m | \u001b[0m-3.198   \u001b[0m | \u001b[0m-3.971   \u001b[0m | \u001b[0m-1.922   \u001b[0m |\n",
            "| \u001b[0m42       \u001b[0m | \u001b[0m-591.5   \u001b[0m | \u001b[0m-5.216   \u001b[0m | \u001b[0m-0.2615  \u001b[0m | \u001b[0m-5.967   \u001b[0m |\n",
            "| \u001b[0m43       \u001b[0m | \u001b[0m-1e+06   \u001b[0m | \u001b[0m-0.1     \u001b[0m | \u001b[0m-0.1     \u001b[0m | \u001b[0m-6.0     \u001b[0m |\n",
            "| \u001b[0m44       \u001b[0m | \u001b[0m-2.266   \u001b[0m | \u001b[0m-3.265   \u001b[0m | \u001b[0m-5.965   \u001b[0m | \u001b[0m-4.704   \u001b[0m |\n",
            "| \u001b[0m45       \u001b[0m | \u001b[0m-2.406   \u001b[0m | \u001b[0m-3.942   \u001b[0m | \u001b[0m-1.869   \u001b[0m | \u001b[0m-6.0     \u001b[0m |\n",
            "| \u001b[0m46       \u001b[0m | \u001b[0m-48.65   \u001b[0m | \u001b[0m-7.0     \u001b[0m | \u001b[0m-0.1     \u001b[0m | \u001b[0m-4.972   \u001b[0m |\n",
            "| \u001b[0m47       \u001b[0m | \u001b[0m-1.082   \u001b[0m | \u001b[0m-7.0     \u001b[0m | \u001b[0m-4.458   \u001b[0m | \u001b[0m-1.703   \u001b[0m |\n",
            "| \u001b[0m48       \u001b[0m | \u001b[0m-2.368   \u001b[0m | \u001b[0m-7.0     \u001b[0m | \u001b[0m-2.343   \u001b[0m | \u001b[0m-0.1     \u001b[0m |\n",
            "| \u001b[0m49       \u001b[0m | \u001b[0m-2.373   \u001b[0m | \u001b[0m-2.561   \u001b[0m | \u001b[0m-2.236   \u001b[0m | \u001b[0m-0.3045  \u001b[0m |\n",
            "| \u001b[0m50       \u001b[0m | \u001b[0m-2.453   \u001b[0m | \u001b[0m-2.739   \u001b[0m | \u001b[0m-1.505   \u001b[0m | \u001b[0m-4.701   \u001b[0m |\n",
            "| \u001b[0m51       \u001b[0m | \u001b[0m-2.33    \u001b[0m | \u001b[0m-5.167   \u001b[0m | \u001b[0m-5.583   \u001b[0m | \u001b[0m-0.1346  \u001b[0m |\n",
            "| \u001b[0m52       \u001b[0m | \u001b[0m-2.275   \u001b[0m | \u001b[0m-7.0     \u001b[0m | \u001b[0m-6.0     \u001b[0m | \u001b[0m-6.0     \u001b[0m |\n",
            "| \u001b[0m53       \u001b[0m | \u001b[0m-1.837   \u001b[0m | \u001b[0m-7.0     \u001b[0m | \u001b[0m-6.0     \u001b[0m | \u001b[0m-2.615   \u001b[0m |\n",
            "| \u001b[0m54       \u001b[0m | \u001b[0m-1e+06   \u001b[0m | \u001b[0m-0.7805  \u001b[0m | \u001b[0m-0.1     \u001b[0m | \u001b[0m-0.1     \u001b[0m |\n",
            "| \u001b[0m55       \u001b[0m | \u001b[0m-2.411   \u001b[0m | \u001b[0m-5.79    \u001b[0m | \u001b[0m-1.958   \u001b[0m | \u001b[0m-4.587   \u001b[0m |\n",
            "| \u001b[0m56       \u001b[0m | \u001b[0m-1.279   \u001b[0m | \u001b[0m-5.276   \u001b[0m | \u001b[0m-3.318   \u001b[0m | \u001b[0m-5.991   \u001b[0m |\n",
            "| \u001b[0m57       \u001b[0m | \u001b[0m-2.66    \u001b[0m | \u001b[0m-6.975   \u001b[0m | \u001b[0m-0.9016  \u001b[0m | \u001b[0m-1.526   \u001b[0m |\n",
            "| \u001b[0m58       \u001b[0m | \u001b[0m-1e+06   \u001b[0m | \u001b[0m-0.5306  \u001b[0m | \u001b[0m-3.574   \u001b[0m | \u001b[0m-5.992   \u001b[0m |\n",
            "| \u001b[0m59       \u001b[0m | \u001b[0m-1.466   \u001b[0m | \u001b[0m-6.997   \u001b[0m | \u001b[0m-4.497   \u001b[0m | \u001b[0m-4.31    \u001b[0m |\n",
            "| \u001b[0m60       \u001b[0m | \u001b[0m-2.33    \u001b[0m | \u001b[0m-7.0     \u001b[0m | \u001b[0m-4.232   \u001b[0m | \u001b[0m-0.1     \u001b[0m |\n",
            "=============================================================\n"
          ]
        }
      ]
    },
    {
      "cell_type": "code",
      "source": [
        "# 'log_alpha': -4.014467845436356, 'log_dynamics_cov': -6.0, 'log_init_cov': -1.6262024611381085\n",
        "print(fdekf_optimizer.max)"
      ],
      "metadata": {
        "id": "SCsojczyoe6S",
        "outputId": "d5827422-9564-4534-cc24-f423b80d2c92",
        "colab": {
          "base_uri": "https://localhost:8080/"
        }
      },
      "execution_count": 28,
      "outputs": [
        {
          "output_type": "stream",
          "name": "stdout",
          "text": [
            "{'target': -1.0282009840011597, 'params': {'log_alpha': -4.014467845436356, 'log_dynamics_cov': -6.0, 'log_init_cov': -1.6262024611381085}}\n"
          ]
        }
      ]
    },
    {
      "cell_type": "markdown",
      "source": [
        "## 4.2 Test-Set NLL Evaluation"
      ],
      "metadata": {
        "id": "1YpD2zJUokk3"
      }
    },
    {
      "cell_type": "code",
      "source": [
        "init_cov = jnp.power(10, -1.6262024611381085)\n",
        "dynamics_cov = jnp.power(10, -6.0)\n",
        "alpha = jnp.power(10, -4.014467845436356)\n",
        "method = 'fdekf'\n",
        "\n",
        "model_params = RebayesParams(\n",
        "    initial_mean=flat_params,\n",
        "    initial_covariance=init_cov,\n",
        "    dynamics_weights=1.0,\n",
        "    dynamics_covariance=dynamics_cov,\n",
        "    emission_mean_function=emission_mean_function,\n",
        "    emission_cov_function=emission_cov_function,\n",
        "    dynamics_covariance_inflation_factor=alpha\n",
        ")\n",
        "fdekf_estimator = RebayesEKF(model_params, method=method)\n",
        "\n",
        "test_kwargs = {'test': test_ds, 'unflatten_fn': unflatten_fn, 'apply_fn': apply_fn}\n",
        "_, fdekf_lls = fdekf_estimator.scan(X_train[:1000], y_train_ohe[:1000], \n",
        "                                    callback=ll_callback, **test_kwargs)\n",
        "fdekf_nlls = -1*fdekf_lls"
      ],
      "metadata": {
        "id": "yg7uKULvooox",
        "outputId": "d262a802-f767-4450-b7a7-ce4029ad6cc7",
        "colab": {
          "base_uri": "https://localhost:8080/",
          "height": 49,
          "referenced_widgets": [
            "6ede3f9917bb4de28ea4390278c4122d",
            "aa1695018dcf4ea2b3cbf3983884e347",
            "d2d0871717444cd590f3a1b733bac472",
            "da4eefd996854204aec9f09fe4e2e903",
            "f5fa1d8312e94835a56b263b31e63d74",
            "a9400d05d9cd4590b22df5ea8be93eb1",
            "3a50db6c655f4f1eba231668b872dabd",
            "f26a9f1202944a109e1fec9ba063dd1c",
            "296b5512c16f40198b7ad811d7f8c4fc",
            "730b5cee3449411e8c0370c6199ab1f7",
            "e57471ea784d45b9913209a9c7750ac0"
          ]
        }
      },
      "execution_count": 29,
      "outputs": [
        {
          "output_type": "display_data",
          "data": {
            "text/plain": [
              "  0%|          | 0/1000 [00:00<?, ?it/s]"
            ],
            "application/vnd.jupyter.widget-view+json": {
              "version_major": 2,
              "version_minor": 0,
              "model_id": "6ede3f9917bb4de28ea4390278c4122d"
            }
          },
          "metadata": {}
        }
      ]
    },
    {
      "cell_type": "code",
      "source": [
        "fig, ax = plt.subplots()\n",
        "ax.plot(fdekf_nlls)\n",
        "ax.set_xlabel('Number of training examples seen')\n",
        "ax.set_ylabel('Test-set average NLL');"
      ],
      "metadata": {
        "id": "7dxUwUSq1TQp",
        "outputId": "3c2200d6-fad2-4ebd-8c16-aeb29d8b2ebc",
        "colab": {
          "base_uri": "https://localhost:8080/",
          "height": 279
        }
      },
      "execution_count": 31,
      "outputs": [
        {
          "output_type": "display_data",
          "data": {
            "text/plain": [
              "<Figure size 432x288 with 1 Axes>"
            ],
            "image/png": "[encoded data removed]"
          },
          "metadata": {
            "needs_background": "light"
          }
        }
      ]
    },
    {
      "cell_type": "markdown",
      "source": [
        "# 5. SGD"
      ],
      "metadata": {
        "id": "-X-pXCoSxuSr"
      }
    },
    {
      "cell_type": "markdown",
      "source": [
        "## 5.1 Hyperparam Tuning"
      ],
      "metadata": {
        "id": "Czi8PXKOxvoT"
      }
    },
    {
      "cell_type": "code",
      "source": [
        "@jit\n",
        "def compute_loss_and_updates_sgd(state, batch_images, batch_labels):\n",
        "    def loss_fn(params):\n",
        "        logits = state.apply_fn(params, batch_images)\n",
        "        loss = jnp.mean(optax.softmax_cross_entropy_with_integer_labels(logits=logits, labels=batch_labels))\n",
        "        return loss, logits\n",
        "\n",
        "    grad_fn = jax.value_and_grad(loss_fn, has_aux=True)\n",
        "    (loss, logits), grads = grad_fn(state.params)\n",
        "    return grads"
      ],
      "metadata": {
        "id": "4BeNK0QZ0Csd"
      },
      "execution_count": 32,
      "outputs": []
    },
    {
      "cell_type": "code",
      "source": [
        "def train_and_evaluate_model(state, X_train, y_train):\n",
        "    @jit\n",
        "    def apply_updates(state, updates):\n",
        "        return state.apply_gradients(grads=updates)\n",
        "\n",
        "    def _step(carry, i):\n",
        "        state = carry\n",
        "        curr_image = X_train[i].reshape(1,28,28,1)\n",
        "        curr_label = y_train[i]\n",
        "\n",
        "        updates = compute_loss_and_updates_sgd(state, curr_image, curr_label)\n",
        "        state = apply_updates(state, updates)\n",
        "        nll = evaluate_neg_log_likelihood(state.params, unflatten_fn, apply_fn, test_ds)\n",
        "        \n",
        "        return state, nll\n",
        "    \n",
        "    state, nlls = lax.scan(_step, state, jnp.arange(len(X_train)))\n",
        "    \n",
        "    return state, nlls"
      ],
      "metadata": {
        "id": "C5Cz194Jz7ih"
      },
      "execution_count": 38,
      "outputs": []
    },
    {
      "cell_type": "code",
      "source": [
        "def sgd_opt_fn(log_lr):\n",
        "    tx = optax.sgd(jnp.power(10, log_lr))\n",
        "    opt_state = train_state.TrainState.create(apply_fn=apply_fn, params=flat_params, tx=tx)\n",
        "    _, nlls = train_and_evaluate_model(opt_state, X_train[:1000], y_train[:1000])\n",
        "\n",
        "    result = nlls.mean()\n",
        "    \n",
        "    if jnp.isnan(result):\n",
        "        result = 1e6\n",
        "    return -result"
      ],
      "metadata": {
        "id": "ra1_-FCA1ZPU"
      },
      "execution_count": 42,
      "outputs": []
    },
    {
      "cell_type": "code",
      "source": [
        "sgd_optimizer = BayesianOptimization(\n",
        "    f=sgd_opt_fn,\n",
        "    pbounds={'log_lr': (-6.0, 0.0)}\n",
        ")"
      ],
      "metadata": {
        "id": "9T6kO_YF13xx"
      },
      "execution_count": 43,
      "outputs": []
    },
    {
      "cell_type": "code",
      "source": [
        "sgd_optimizer.maximize(\n",
        "    init_points=20,\n",
        "    n_iter=20,\n",
        ")"
      ],
      "metadata": {
        "id": "z8wjRMbH1_90",
        "outputId": "29d878b8-e714-43b7-bbce-9c920d31c24c",
        "colab": {
          "base_uri": "https://localhost:8080/"
        }
      },
      "execution_count": 44,
      "outputs": [
        {
          "output_type": "stream",
          "name": "stdout",
          "text": [
            "|   iter    |  target   |  log_lr   |\n",
            "-------------------------------------\n",
            "| \u001b[0m1        \u001b[0m | \u001b[0m-2.3     \u001b[0m | \u001b[0m-4.478   \u001b[0m |\n",
            "| \u001b[95m2        \u001b[0m | \u001b[95m-1.148   \u001b[0m | \u001b[95m-1.893   \u001b[0m |\n",
            "| \u001b[0m3        \u001b[0m | \u001b[0m-2.282   \u001b[0m | \u001b[0m-3.611   \u001b[0m |\n",
            "| \u001b[0m4        \u001b[0m | \u001b[0m-2.302   \u001b[0m | \u001b[0m-5.414   \u001b[0m |\n",
            "| \u001b[0m5        \u001b[0m | \u001b[0m-1.294   \u001b[0m | \u001b[0m-2.132   \u001b[0m |\n",
            "| \u001b[0m6        \u001b[0m | \u001b[0m-2.221   \u001b[0m | \u001b[0m-3.041   \u001b[0m |\n",
            "| \u001b[0m7        \u001b[0m | \u001b[0m-2.303   \u001b[0m | \u001b[0m-5.697   \u001b[0m |\n",
            "| \u001b[0m8        \u001b[0m | \u001b[0m-2.464   \u001b[0m | \u001b[0m-0.1558  \u001b[0m |\n",
            "| \u001b[0m9        \u001b[0m | \u001b[0m-1.746   \u001b[0m | \u001b[0m-2.52    \u001b[0m |\n",
            "| \u001b[0m10       \u001b[0m | \u001b[0m-2.179   \u001b[0m | \u001b[0m-2.905   \u001b[0m |\n",
            "| \u001b[0m11       \u001b[0m | \u001b[0m-2.302   \u001b[0m | \u001b[0m-4.866   \u001b[0m |\n",
            "| \u001b[0m12       \u001b[0m | \u001b[0m-1.784   \u001b[0m | \u001b[0m-2.54    \u001b[0m |\n",
            "| \u001b[0m13       \u001b[0m | \u001b[0m-2.438   \u001b[0m | \u001b[0m-0.232   \u001b[0m |\n",
            "| \u001b[0m14       \u001b[0m | \u001b[0m-2.303   \u001b[0m | \u001b[0m-5.87    \u001b[0m |\n",
            "| \u001b[0m15       \u001b[0m | \u001b[0m-1.613   \u001b[0m | \u001b[0m-2.43    \u001b[0m |\n",
            "| \u001b[0m16       \u001b[0m | \u001b[0m-2.301   \u001b[0m | \u001b[0m-4.617   \u001b[0m |\n",
            "| \u001b[0m17       \u001b[0m | \u001b[0m-2.241   \u001b[0m | \u001b[0m-3.144   \u001b[0m |\n",
            "| \u001b[0m18       \u001b[0m | \u001b[0m-2.303   \u001b[0m | \u001b[0m-5.6     \u001b[0m |\n",
            "| \u001b[95m19       \u001b[0m | \u001b[95m-1.089   \u001b[0m | \u001b[95m-1.785   \u001b[0m |\n",
            "| \u001b[0m20       \u001b[0m | \u001b[0m-2.302   \u001b[0m | \u001b[0m-5.411   \u001b[0m |\n",
            "| \u001b[95m21       \u001b[0m | \u001b[95m-0.9781  \u001b[0m | \u001b[95m-1.328   \u001b[0m |\n",
            "| \u001b[0m22       \u001b[0m | \u001b[0m-1.003   \u001b[0m | \u001b[0m-1.489   \u001b[0m |\n",
            "| \u001b[0m23       \u001b[0m | \u001b[0m-1.02    \u001b[0m | \u001b[0m-1.111   \u001b[0m |\n",
            "| \u001b[95m24       \u001b[0m | \u001b[95m-0.9774  \u001b[0m | \u001b[95m-1.23    \u001b[0m |\n",
            "| \u001b[95m25       \u001b[0m | \u001b[95m-0.9769  \u001b[0m | \u001b[95m-1.277   \u001b[0m |\n",
            "| \u001b[95m26       \u001b[0m | \u001b[95m-0.9551  \u001b[0m | \u001b[95m-1.263   \u001b[0m |\n",
            "| \u001b[0m27       \u001b[0m | \u001b[0m-1.55    \u001b[0m | \u001b[0m-0.873   \u001b[0m |\n",
            "| \u001b[0m28       \u001b[0m | \u001b[0m-2.295   \u001b[0m | \u001b[0m-4.043   \u001b[0m |\n",
            "| \u001b[0m29       \u001b[0m | \u001b[0m-1.039   \u001b[0m | \u001b[0m-1.636   \u001b[0m |\n",
            "| \u001b[0m30       \u001b[0m | \u001b[0m-2.365   \u001b[0m | \u001b[0m-0.5984  \u001b[0m |\n",
            "| \u001b[0m31       \u001b[0m | \u001b[0m-1.132   \u001b[0m | \u001b[0m-1.011   \u001b[0m |\n",
            "| \u001b[0m32       \u001b[0m | \u001b[0m-0.9807  \u001b[0m | \u001b[0m-1.411   \u001b[0m |\n",
            "| \u001b[0m33       \u001b[0m | \u001b[0m-1.198   \u001b[0m | \u001b[0m-2.013   \u001b[0m |\n",
            "| \u001b[0m34       \u001b[0m | \u001b[0m-1.032   \u001b[0m | \u001b[0m-1.564   \u001b[0m |\n",
            "| \u001b[0m35       \u001b[0m | \u001b[0m-1.072   \u001b[0m | \u001b[0m-1.708   \u001b[0m |\n",
            "| \u001b[0m36       \u001b[0m | \u001b[0m-1.036   \u001b[0m | \u001b[0m-1.636   \u001b[0m |\n",
            "| \u001b[0m37       \u001b[0m | \u001b[0m-1.406   \u001b[0m | \u001b[0m-2.261   \u001b[0m |\n",
            "| \u001b[0m38       \u001b[0m | \u001b[0m-0.9887  \u001b[0m | \u001b[0m-1.369   \u001b[0m |\n",
            "| \u001b[0m39       \u001b[0m | \u001b[0m-2.302   \u001b[0m | \u001b[0m-5.114   \u001b[0m |\n",
            "| \u001b[0m40       \u001b[0m | \u001b[0m-1.045   \u001b[0m | \u001b[0m-1.069   \u001b[0m |\n",
            "=====================================\n"
          ]
        }
      ]
    },
    {
      "cell_type": "code",
      "source": [
        "# 'log_lr': -1.2630062347890139\n",
        "print(sgd_optimizer.max)"
      ],
      "metadata": {
        "id": "pHHE3_0_3CgN",
        "outputId": "53a001c1-0ac1-4dc4-ef13-61f15eee1b9f",
        "colab": {
          "base_uri": "https://localhost:8080/"
        }
      },
      "execution_count": 46,
      "outputs": [
        {
          "output_type": "stream",
          "name": "stdout",
          "text": [
            "{'target': -0.9550855159759521, 'params': {'log_lr': -1.2630062347890139}}\n"
          ]
        }
      ]
    },
    {
      "cell_type": "markdown",
      "source": [
        "## 5.2 Test-Set NLL Evaluation"
      ],
      "metadata": {
        "id": "zdg7lMen3Ekh"
      }
    },
    {
      "cell_type": "code",
      "source": [
        "log_lr = -1.2630062347890139\n",
        "\n",
        "tx = optax.sgd(jnp.power(10, log_lr))\n",
        "opt_state = train_state.TrainState.create(apply_fn=apply_fn, params=flat_params, tx=tx)\n",
        "_, sgd_nlls = train_and_evaluate_model(opt_state, X_train[:1000], y_train[:1000])"
      ],
      "metadata": {
        "id": "p2akPBuY3EVj"
      },
      "execution_count": 48,
      "outputs": []
    },
    {
      "cell_type": "code",
      "source": [
        "fig, ax = plt.subplots()\n",
        "ax.plot(sgd_nlls)\n",
        "ax.set_xlabel('Number of training examples seen')\n",
        "ax.set_ylabel('Test-set average NLL');"
      ],
      "metadata": {
        "id": "xSM3bmUU3Tll",
        "outputId": "b89c3934-df18-4cae-ab5e-3ea11477b8e6",
        "colab": {
          "base_uri": "https://localhost:8080/",
          "height": 279
        }
      },
      "execution_count": 49,
      "outputs": [
        {
          "output_type": "display_data",
          "data": {
            "text/plain": [
              "<Figure size 432x288 with 1 Axes>"
            ],
            "image/png": "[encoded data removed]"
          },
          "metadata": {
            "needs_background": "light"
          }
        }
      ]
    },
    {
      "cell_type": "markdown",
      "source": [
        "# 6. Model Comparison"
      ],
      "metadata": {
        "id": "yN-fEPybo36j"
      }
    },
    {
      "cell_type": "code",
      "source": [
        "fig, ax = plt.subplots()\n",
        "ax.plot(sgd_nlls, label='sgd')\n",
        "ax.plot(fdekf_nlls, label='fdekf')\n",
        "ax.plot(os_lofi_nlls, label='os_lofi')\n",
        "ax.plot(fs_lofi_nlls, label='fs_lofi')\n",
        "ax.set_xlabel('Number of training examples seen')\n",
        "ax.set_ylabel('Test-set average NLL')\n",
        "ax.legend();"
      ],
      "metadata": {
        "id": "Gn4B89oT3WKi",
        "outputId": "37dc3ba0-f21a-4ec3-ccc8-b95301e6a275",
        "colab": {
          "base_uri": "https://localhost:8080/",
          "height": 279
        }
      },
      "execution_count": 53,
      "outputs": [
        {
          "output_type": "display_data",
          "data": {
            "text/plain": [
              "<Figure size 432x288 with 1 Axes>"
            ],
            "image/png": "[encoded data removed]"
          },
          "metadata": {
            "needs_background": "light"
          }
        }
      ]
    },
    {
      "cell_type": "code",
      "source": [
        "kernel_size = 40\n",
        "kernel = jnp.ones(kernel_size) / kernel_size"
      ],
      "metadata": {
        "id": "GeOgRGEH3ovN"
      },
      "execution_count": 62,
      "outputs": []
    },
    {
      "cell_type": "code",
      "source": [
        "fig, ax = plt.subplots()\n",
        "ax.plot(jnp.convolve(sgd_nlls, kernel, mode='same')[kernel_size:], label='sgd')\n",
        "ax.plot(jnp.convolve(fdekf_nlls, kernel, mode='same')[kernel_size:], label='fdekf')\n",
        "ax.plot(jnp.convolve(os_lofi_nlls, kernel, mode='same')[kernel_size:], label='os_lofi')\n",
        "ax.plot(jnp.convolve(fs_lofi_nlls, kernel, mode='same')[kernel_size:], label='fs_lofi')\n",
        "ax.set_xlabel('Number of training examples seen')\n",
        "ax.set_ylabel('Test-set average NLL')\n",
        "ax.legend();"
      ],
      "metadata": {
        "id": "pqGR_ckd3deE",
        "outputId": "179782ac-44b5-44c2-eece-c908dcc32cb2",
        "colab": {
          "base_uri": "https://localhost:8080/",
          "height": 279
        }
      },
      "execution_count": 63,
      "outputs": [
        {
          "output_type": "display_data",
          "data": {
            "text/plain": [
              "<Figure size 432x288 with 1 Axes>"
            ],
            "image/png": "[encoded data removed]"
          },
          "metadata": {
            "needs_background": "light"
          }
        }
      ]
    },
    {
      "cell_type": "code",
      "source": [],
      "metadata": {
        "id": "YUyxpiag3xE8"
      },
      "execution_count": null,
      "outputs": []
    }
  ],
  "metadata": {
    "kernelspec": {
      "display_name": ".venv",
      "language": "python",
      "name": "python3"
    },
    "language_info": {
      "codemirror_mode": {
        "name": "ipython",
        "version": 3
      },
      "file_extension": ".py",
      "mimetype": "text/x-python",
      "name": "python",
      "nbconvert_exporter": "python",
      "pygments_lexer": "ipython3",
      "version": "3.10.0"
    },
    "orig_nbformat": 4,
    "vscode": {
      "interpreter": {
        "hash": "a63216e3e6a2ce617ef04b00f48ca414857cfc892c8cff43a5943fdd36fca11d"
      }
    },
    "colab": {
      "provenance": [],
      "machine_shape": "hm"
    },
    "accelerator": "GPU",
    "gpuClass": "premium",
    "widgets": {
      "application/vnd.jupyter.widget-state+json": {
        "f1b808a73d8845a4b2e71bedfff3d3e4": {
          "model_module": "@jupyter-widgets/controls",
          "model_name": "HBoxModel",
          "model_module_version": "1.5.0",
          "state": {
            "_dom_classes": [],
            "_model_module": "@jupyter-widgets/controls",
            "_model_module_version": "1.5.0",
            "_model_name": "HBoxModel",
            "_view_count": null,
            "_view_module": "@jupyter-widgets/controls",
            "_view_module_version": "1.5.0",
            "_view_name": "HBoxView",
            "box_style": "",
            "children": [
              "IPY_MODEL_a4d35fc864b6429894b961880d5e1a4b",
              "IPY_MODEL_f3f7b83907104d2b9f0b0bec878986cb",
              "IPY_MODEL_d2f37e6c31fc487aa0533d1ca2a775d3"
            ],
            "layout": "IPY_MODEL_78a86887deae4d68adff39b653ccb3e1"
          }
        },
        "a4d35fc864b6429894b961880d5e1a4b": {
          "model_module": "@jupyter-widgets/controls",
          "model_name": "HTMLModel",
          "model_module_version": "1.5.0",
          "state": {
            "_dom_classes": [],
            "_model_module": "@jupyter-widgets/controls",
            "_model_module_version": "1.5.0",
            "_model_name": "HTMLModel",
            "_view_count": null,
            "_view_module": "@jupyter-widgets/controls",
            "_view_module_version": "1.5.0",
            "_view_name": "HTMLView",
            "description": "",
            "description_tooltip": null,
            "layout": "IPY_MODEL_6ea044a13ef34835af020a38e550f5c7",
            "placeholder": "​",
            "style": "IPY_MODEL_a8a7b93ecc7344d9843addf1b10856c7",
            "value": "Dl Completed...: 100%"
          }
        },
        "f3f7b83907104d2b9f0b0bec878986cb": {
          "model_module": "@jupyter-widgets/controls",
          "model_name": "FloatProgressModel",
          "model_module_version": "1.5.0",
          "state": {
            "_dom_classes": [],
            "_model_module": "@jupyter-widgets/controls",
            "_model_module_version": "1.5.0",
            "_model_name": "FloatProgressModel",
            "_view_count": null,
            "_view_module": "@jupyter-widgets/controls",
            "_view_module_version": "1.5.0",
            "_view_name": "ProgressView",
            "bar_style": "success",
            "description": "",
            "description_tooltip": null,
            "layout": "IPY_MODEL_b1c2e92c81c34e2fa1219884a6e144bd",
            "max": 5,
            "min": 0,
            "orientation": "horizontal",
            "style": "IPY_MODEL_e776a0c783cc49c2a31599d803d5bbb0",
            "value": 5
          }
        },
        "d2f37e6c31fc487aa0533d1ca2a775d3": {
          "model_module": "@jupyter-widgets/controls",
          "model_name": "HTMLModel",
          "model_module_version": "1.5.0",
          "state": {
            "_dom_classes": [],
            "_model_module": "@jupyter-widgets/controls",
            "_model_module_version": "1.5.0",
            "_model_name": "HTMLModel",
            "_view_count": null,
            "_view_module": "@jupyter-widgets/controls",
            "_view_module_version": "1.5.0",
            "_view_name": "HTMLView",
            "description": "",
            "description_tooltip": null,
            "layout": "IPY_MODEL_5203d3ae380c428093d6d5de18c87ce1",
            "placeholder": "​",
            "style": "IPY_MODEL_d4c46c8078fe48868e5b23fd7316be49",
            "value": " 5/5 [00:04&lt;00:00,  1.10s/ file]"
          }
        },
        "78a86887deae4d68adff39b653ccb3e1": {
          "model_module": "@jupyter-widgets/base",
          "model_name": "LayoutModel",
          "model_module_version": "1.2.0",
          "state": {
            "_model_module": "@jupyter-widgets/base",
            "_model_module_version": "1.2.0",
            "_model_name": "LayoutModel",
            "_view_count": null,
            "_view_module": "@jupyter-widgets/base",
            "_view_module_version": "1.2.0",
            "_view_name": "LayoutView",
            "align_content": null,
            "align_items": null,
            "align_self": null,
            "border": null,
            "bottom": null,
            "display": null,
            "flex": null,
            "flex_flow": null,
            "grid_area": null,
            "grid_auto_columns": null,
            "grid_auto_flow": null,
            "grid_auto_rows": null,
            "grid_column": null,
            "grid_gap": null,
            "grid_row": null,
            "grid_template_areas": null,
            "grid_template_columns": null,
            "grid_template_rows": null,
            "height": null,
            "justify_content": null,
            "justify_items": null,
            "left": null,
            "margin": null,
            "max_height": null,
            "max_width": null,
            "min_height": null,
            "min_width": null,
            "object_fit": null,
            "object_position": null,
            "order": null,
            "overflow": null,
            "overflow_x": null,
            "overflow_y": null,
            "padding": null,
            "right": null,
            "top": null,
            "visibility": null,
            "width": null
          }
        },
        "6ea044a13ef34835af020a38e550f5c7": {
          "model_module": "@jupyter-widgets/base",
          "model_name": "LayoutModel",
          "model_module_version": "1.2.0",
          "state": {
            "_model_module": "@jupyter-widgets/base",
            "_model_module_version": "1.2.0",
            "_model_name": "LayoutModel",
            "_view_count": null,
            "_view_module": "@jupyter-widgets/base",
            "_view_module_version": "1.2.0",
            "_view_name": "LayoutView",
            "align_content": null,
            "align_items": null,
            "align_self": null,
            "border": null,
            "bottom": null,
            "display": null,
            "flex": null,
            "flex_flow": null,
            "grid_area": null,
            "grid_auto_columns": null,
            "grid_auto_flow": null,
            "grid_auto_rows": null,
            "grid_column": null,
            "grid_gap": null,
            "grid_row": null,
            "grid_template_areas": null,
            "grid_template_columns": null,
            "grid_template_rows": null,
            "height": null,
            "justify_content": null,
            "justify_items": null,
            "left": null,
            "margin": null,
            "max_height": null,
            "max_width": null,
            "min_height": null,
            "min_width": null,
            "object_fit": null,
            "object_position": null,
            "order": null,
            "overflow": null,
            "overflow_x": null,
            "overflow_y": null,
            "padding": null,
            "right": null,
            "top": null,
            "visibility": null,
            "width": null
          }
        },
        "a8a7b93ecc7344d9843addf1b10856c7": {
          "model_module": "@jupyter-widgets/controls",
          "model_name": "DescriptionStyleModel",
          "model_module_version": "1.5.0",
          "state": {
            "_model_module": "@jupyter-widgets/controls",
            "_model_module_version": "1.5.0",
            "_model_name": "DescriptionStyleModel",
            "_view_count": null,
            "_view_module": "@jupyter-widgets/base",
            "_view_module_version": "1.2.0",
            "_view_name": "StyleView",
            "description_width": ""
          }
        },
        "b1c2e92c81c34e2fa1219884a6e144bd": {
          "model_module": "@jupyter-widgets/base",
          "model_name": "LayoutModel",
          "model_module_version": "1.2.0",
          "state": {
            "_model_module": "@jupyter-widgets/base",
            "_model_module_version": "1.2.0",
            "_model_name": "LayoutModel",
            "_view_count": null,
            "_view_module": "@jupyter-widgets/base",
            "_view_module_version": "1.2.0",
            "_view_name": "LayoutView",
            "align_content": null,
            "align_items": null,
            "align_self": null,
            "border": null,
            "bottom": null,
            "display": null,
            "flex": null,
            "flex_flow": null,
            "grid_area": null,
            "grid_auto_columns": null,
            "grid_auto_flow": null,
            "grid_auto_rows": null,
            "grid_column": null,
            "grid_gap": null,
            "grid_row": null,
            "grid_template_areas": null,
            "grid_template_columns": null,
            "grid_template_rows": null,
            "height": null,
            "justify_content": null,
            "justify_items": null,
            "left": null,
            "margin": null,
            "max_height": null,
            "max_width": null,
            "min_height": null,
            "min_width": null,
            "object_fit": null,
            "object_position": null,
            "order": null,
            "overflow": null,
            "overflow_x": null,
            "overflow_y": null,
            "padding": null,
            "right": null,
            "top": null,
            "visibility": null,
            "width": null
          }
        },
        "e776a0c783cc49c2a31599d803d5bbb0": {
          "model_module": "@jupyter-widgets/controls",
          "model_name": "ProgressStyleModel",
          "model_module_version": "1.5.0",
          "state": {
            "_model_module": "@jupyter-widgets/controls",
            "_model_module_version": "1.5.0",
            "_model_name": "ProgressStyleModel",
            "_view_count": null,
            "_view_module": "@jupyter-widgets/base",
            "_view_module_version": "1.2.0",
            "_view_name": "StyleView",
            "bar_color": null,
            "description_width": ""
          }
        },
        "5203d3ae380c428093d6d5de18c87ce1": {
          "model_module": "@jupyter-widgets/base",
          "model_name": "LayoutModel",
          "model_module_version": "1.2.0",
          "state": {
            "_model_module": "@jupyter-widgets/base",
            "_model_module_version": "1.2.0",
            "_model_name": "LayoutModel",
            "_view_count": null,
            "_view_module": "@jupyter-widgets/base",
            "_view_module_version": "1.2.0",
            "_view_name": "LayoutView",
            "align_content": null,
            "align_items": null,
            "align_self": null,
            "border": null,
            "bottom": null,
            "display": null,
            "flex": null,
            "flex_flow": null,
            "grid_area": null,
            "grid_auto_columns": null,
            "grid_auto_flow": null,
            "grid_auto_rows": null,
            "grid_column": null,
            "grid_gap": null,
            "grid_row": null,
            "grid_template_areas": null,
            "grid_template_columns": null,
            "grid_template_rows": null,
            "height": null,
            "justify_content": null,
            "justify_items": null,
            "left": null,
            "margin": null,
            "max_height": null,
            "max_width": null,
            "min_height": null,
            "min_width": null,
            "object_fit": null,
            "object_position": null,
            "order": null,
            "overflow": null,
            "overflow_x": null,
            "overflow_y": null,
            "padding": null,
            "right": null,
            "top": null,
            "visibility": null,
            "width": null
          }
        },
        "d4c46c8078fe48868e5b23fd7316be49": {
          "model_module": "@jupyter-widgets/controls",
          "model_name": "DescriptionStyleModel",
          "model_module_version": "1.5.0",
          "state": {
            "_model_module": "@jupyter-widgets/controls",
            "_model_module_version": "1.5.0",
            "_model_name": "DescriptionStyleModel",
            "_view_count": null,
            "_view_module": "@jupyter-widgets/base",
            "_view_module_version": "1.2.0",
            "_view_name": "StyleView",
            "description_width": ""
          }
        },
        "79e1e15a5814495a8a80492863e02e32": {
          "model_module": "@jupyter-widgets/controls",
          "model_name": "HBoxModel",
          "model_module_version": "1.5.0",
          "state": {
            "_dom_classes": [],
            "_model_module": "@jupyter-widgets/controls",
            "_model_module_version": "1.5.0",
            "_model_name": "HBoxModel",
            "_view_count": null,
            "_view_module": "@jupyter-widgets/controls",
            "_view_module_version": "1.5.0",
            "_view_name": "HBoxView",
            "box_style": "",
            "children": [
              "IPY_MODEL_ce1c9794ca4746279cf0f5186733b70f",
              "IPY_MODEL_5fd53dd4e7954b148b16736fb2195bdc",
              "IPY_MODEL_979fecbb4d3243dc854f62875d7ea28c"
            ],
            "layout": "IPY_MODEL_678515143ea146399339bd3415365443"
          }
        },
        "ce1c9794ca4746279cf0f5186733b70f": {
          "model_module": "@jupyter-widgets/controls",
          "model_name": "HTMLModel",
          "model_module_version": "1.5.0",
          "state": {
            "_dom_classes": [],
            "_model_module": "@jupyter-widgets/controls",
            "_model_module_version": "1.5.0",
            "_model_name": "HTMLModel",
            "_view_count": null,
            "_view_module": "@jupyter-widgets/controls",
            "_view_module_version": "1.5.0",
            "_view_name": "HTMLView",
            "description": "",
            "description_tooltip": null,
            "layout": "IPY_MODEL_ff1f98266cbd44d4a6fb3d84f4a5aa3a",
            "placeholder": "​",
            "style": "IPY_MODEL_31f943e875ad4973b38b9c9c85ae8806",
            "value": "Running for 1,000 iterations: 100%"
          }
        },
        "5fd53dd4e7954b148b16736fb2195bdc": {
          "model_module": "@jupyter-widgets/controls",
          "model_name": "FloatProgressModel",
          "model_module_version": "1.5.0",
          "state": {
            "_dom_classes": [],
            "_model_module": "@jupyter-widgets/controls",
            "_model_module_version": "1.5.0",
            "_model_name": "FloatProgressModel",
            "_view_count": null,
            "_view_module": "@jupyter-widgets/controls",
            "_view_module_version": "1.5.0",
            "_view_name": "ProgressView",
            "bar_style": "success",
            "description": "",
            "description_tooltip": null,
            "layout": "IPY_MODEL_7269895e5629430a86b99f098c2541e3",
            "max": 1000,
            "min": 0,
            "orientation": "horizontal",
            "style": "IPY_MODEL_3f9051727b1641f4b11235018400e226",
            "value": 1000
          }
        },
        "979fecbb4d3243dc854f62875d7ea28c": {
          "model_module": "@jupyter-widgets/controls",
          "model_name": "HTMLModel",
          "model_module_version": "1.5.0",
          "state": {
            "_dom_classes": [],
            "_model_module": "@jupyter-widgets/controls",
            "_model_module_version": "1.5.0",
            "_model_name": "HTMLModel",
            "_view_count": null,
            "_view_module": "@jupyter-widgets/controls",
            "_view_module_version": "1.5.0",
            "_view_name": "HTMLView",
            "description": "",
            "description_tooltip": null,
            "layout": "IPY_MODEL_b288fbe835d640d9bb8fe7c93d696f7d",
            "placeholder": "​",
            "style": "IPY_MODEL_44a42ec151054cd08b593fc34605f586",
            "value": " 1000/1000 [00:10&lt;00:00, 96.10it/s]"
          }
        },
        "678515143ea146399339bd3415365443": {
          "model_module": "@jupyter-widgets/base",
          "model_name": "LayoutModel",
          "model_module_version": "1.2.0",
          "state": {
            "_model_module": "@jupyter-widgets/base",
            "_model_module_version": "1.2.0",
            "_model_name": "LayoutModel",
            "_view_count": null,
            "_view_module": "@jupyter-widgets/base",
            "_view_module_version": "1.2.0",
            "_view_name": "LayoutView",
            "align_content": null,
            "align_items": null,
            "align_self": null,
            "border": null,
            "bottom": null,
            "display": null,
            "flex": null,
            "flex_flow": null,
            "grid_area": null,
            "grid_auto_columns": null,
            "grid_auto_flow": null,
            "grid_auto_rows": null,
            "grid_column": null,
            "grid_gap": null,
            "grid_row": null,
            "grid_template_areas": null,
            "grid_template_columns": null,
            "grid_template_rows": null,
            "height": null,
            "justify_content": null,
            "justify_items": null,
            "left": null,
            "margin": null,
            "max_height": null,
            "max_width": null,
            "min_height": null,
            "min_width": null,
            "object_fit": null,
            "object_position": null,
            "order": null,
            "overflow": null,
            "overflow_x": null,
            "overflow_y": null,
            "padding": null,
            "right": null,
            "top": null,
            "visibility": null,
            "width": null
          }
        },
        "ff1f98266cbd44d4a6fb3d84f4a5aa3a": {
          "model_module": "@jupyter-widgets/base",
          "model_name": "LayoutModel",
          "model_module_version": "1.2.0",
          "state": {
            "_model_module": "@jupyter-widgets/base",
            "_model_module_version": "1.2.0",
            "_model_name": "LayoutModel",
            "_view_count": null,
            "_view_module": "@jupyter-widgets/base",
            "_view_module_version": "1.2.0",
            "_view_name": "LayoutView",
            "align_content": null,
            "align_items": null,
            "align_self": null,
            "border": null,
            "bottom": null,
            "display": null,
            "flex": null,
            "flex_flow": null,
            "grid_area": null,
            "grid_auto_columns": null,
            "grid_auto_flow": null,
            "grid_auto_rows": null,
            "grid_column": null,
            "grid_gap": null,
            "grid_row": null,
            "grid_template_areas": null,
            "grid_template_columns": null,
            "grid_template_rows": null,
            "height": null,
            "justify_content": null,
            "justify_items": null,
            "left": null,
            "margin": null,
            "max_height": null,
            "max_width": null,
            "min_height": null,
            "min_width": null,
            "object_fit": null,
            "object_position": null,
            "order": null,
            "overflow": null,
            "overflow_x": null,
            "overflow_y": null,
            "padding": null,
            "right": null,
            "top": null,
            "visibility": null,
            "width": null
          }
        },
        "31f943e875ad4973b38b9c9c85ae8806": {
          "model_module": "@jupyter-widgets/controls",
          "model_name": "DescriptionStyleModel",
          "model_module_version": "1.5.0",
          "state": {
            "_model_module": "@jupyter-widgets/controls",
            "_model_module_version": "1.5.0",
            "_model_name": "DescriptionStyleModel",
            "_view_count": null,
            "_view_module": "@jupyter-widgets/base",
            "_view_module_version": "1.2.0",
            "_view_name": "StyleView",
            "description_width": ""
          }
        },
        "7269895e5629430a86b99f098c2541e3": {
          "model_module": "@jupyter-widgets/base",
          "model_name": "LayoutModel",
          "model_module_version": "1.2.0",
          "state": {
            "_model_module": "@jupyter-widgets/base",
            "_model_module_version": "1.2.0",
            "_model_name": "LayoutModel",
            "_view_count": null,
            "_view_module": "@jupyter-widgets/base",
            "_view_module_version": "1.2.0",
            "_view_name": "LayoutView",
            "align_content": null,
            "align_items": null,
            "align_self": null,
            "border": null,
            "bottom": null,
            "display": null,
            "flex": null,
            "flex_flow": null,
            "grid_area": null,
            "grid_auto_columns": null,
            "grid_auto_flow": null,
            "grid_auto_rows": null,
            "grid_column": null,
            "grid_gap": null,
            "grid_row": null,
            "grid_template_areas": null,
            "grid_template_columns": null,
            "grid_template_rows": null,
            "height": null,
            "justify_content": null,
            "justify_items": null,
            "left": null,
            "margin": null,
            "max_height": null,
            "max_width": null,
            "min_height": null,
            "min_width": null,
            "object_fit": null,
            "object_position": null,
            "order": null,
            "overflow": null,
            "overflow_x": null,
            "overflow_y": null,
            "padding": null,
            "right": null,
            "top": null,
            "visibility": null,
            "width": null
          }
        },
        "3f9051727b1641f4b11235018400e226": {
          "model_module": "@jupyter-widgets/controls",
          "model_name": "ProgressStyleModel",
          "model_module_version": "1.5.0",
          "state": {
            "_model_module": "@jupyter-widgets/controls",
            "_model_module_version": "1.5.0",
            "_model_name": "ProgressStyleModel",
            "_view_count": null,
            "_view_module": "@jupyter-widgets/base",
            "_view_module_version": "1.2.0",
            "_view_name": "StyleView",
            "bar_color": null,
            "description_width": ""
          }
        },
        "b288fbe835d640d9bb8fe7c93d696f7d": {
          "model_module": "@jupyter-widgets/base",
          "model_name": "LayoutModel",
          "model_module_version": "1.2.0",
          "state": {
            "_model_module": "@jupyter-widgets/base",
            "_model_module_version": "1.2.0",
            "_model_name": "LayoutModel",
            "_view_count": null,
            "_view_module": "@jupyter-widgets/base",
            "_view_module_version": "1.2.0",
            "_view_name": "LayoutView",
            "align_content": null,
            "align_items": null,
            "align_self": null,
            "border": null,
            "bottom": null,
            "display": null,
            "flex": null,
            "flex_flow": null,
            "grid_area": null,
            "grid_auto_columns": null,
            "grid_auto_flow": null,
            "grid_auto_rows": null,
            "grid_column": null,
            "grid_gap": null,
            "grid_row": null,
            "grid_template_areas": null,
            "grid_template_columns": null,
            "grid_template_rows": null,
            "height": null,
            "justify_content": null,
            "justify_items": null,
            "left": null,
            "margin": null,
            "max_height": null,
            "max_width": null,
            "min_height": null,
            "min_width": null,
            "object_fit": null,
            "object_position": null,
            "order": null,
            "overflow": null,
            "overflow_x": null,
            "overflow_y": null,
            "padding": null,
            "right": null,
            "top": null,
            "visibility": null,
            "width": null
          }
        },
        "44a42ec151054cd08b593fc34605f586": {
          "model_module": "@jupyter-widgets/controls",
          "model_name": "DescriptionStyleModel",
          "model_module_version": "1.5.0",
          "state": {
            "_model_module": "@jupyter-widgets/controls",
            "_model_module_version": "1.5.0",
            "_model_name": "DescriptionStyleModel",
            "_view_count": null,
            "_view_module": "@jupyter-widgets/base",
            "_view_module_version": "1.2.0",
            "_view_name": "StyleView",
            "description_width": ""
          }
        },
        "3f3e67a8c99b4e079ff0f272e2d13bc7": {
          "model_module": "@jupyter-widgets/controls",
          "model_name": "HBoxModel",
          "model_module_version": "1.5.0",
          "state": {
            "_dom_classes": [],
            "_model_module": "@jupyter-widgets/controls",
            "_model_module_version": "1.5.0",
            "_model_name": "HBoxModel",
            "_view_count": null,
            "_view_module": "@jupyter-widgets/controls",
            "_view_module_version": "1.5.0",
            "_view_name": "HBoxView",
            "box_style": "",
            "children": [
              "IPY_MODEL_54c871d9b3194156bc80dd1919c0eeba",
              "IPY_MODEL_2bee770aa2ed469caa7f1b22f51a36d4",
              "IPY_MODEL_434afb0bc1e640af859d0b4141567fd3"
            ],
            "layout": "IPY_MODEL_86c7860fb5184c8ba8463e929225d9ad"
          }
        },
        "54c871d9b3194156bc80dd1919c0eeba": {
          "model_module": "@jupyter-widgets/controls",
          "model_name": "HTMLModel",
          "model_module_version": "1.5.0",
          "state": {
            "_dom_classes": [],
            "_model_module": "@jupyter-widgets/controls",
            "_model_module_version": "1.5.0",
            "_model_name": "HTMLModel",
            "_view_count": null,
            "_view_module": "@jupyter-widgets/controls",
            "_view_module_version": "1.5.0",
            "_view_name": "HTMLView",
            "description": "",
            "description_tooltip": null,
            "layout": "IPY_MODEL_616156ac0f684ac79654486c1d20a4a6",
            "placeholder": "​",
            "style": "IPY_MODEL_53875333a50a4430a462e69e46721bf9",
            "value": "Running for 1,000 iterations: 100%"
          }
        },
        "2bee770aa2ed469caa7f1b22f51a36d4": {
          "model_module": "@jupyter-widgets/controls",
          "model_name": "FloatProgressModel",
          "model_module_version": "1.5.0",
          "state": {
            "_dom_classes": [],
            "_model_module": "@jupyter-widgets/controls",
            "_model_module_version": "1.5.0",
            "_model_name": "FloatProgressModel",
            "_view_count": null,
            "_view_module": "@jupyter-widgets/controls",
            "_view_module_version": "1.5.0",
            "_view_name": "ProgressView",
            "bar_style": "success",
            "description": "",
            "description_tooltip": null,
            "layout": "IPY_MODEL_c55b8a3c41c74204a0c77f561c060ffd",
            "max": 1000,
            "min": 0,
            "orientation": "horizontal",
            "style": "IPY_MODEL_3d00b310e69541c8beceabd065ca6c28",
            "value": 1000
          }
        },
        "434afb0bc1e640af859d0b4141567fd3": {
          "model_module": "@jupyter-widgets/controls",
          "model_name": "HTMLModel",
          "model_module_version": "1.5.0",
          "state": {
            "_dom_classes": [],
            "_model_module": "@jupyter-widgets/controls",
            "_model_module_version": "1.5.0",
            "_model_name": "HTMLModel",
            "_view_count": null,
            "_view_module": "@jupyter-widgets/controls",
            "_view_module_version": "1.5.0",
            "_view_name": "HTMLView",
            "description": "",
            "description_tooltip": null,
            "layout": "IPY_MODEL_9b58353c1d644e4baa79974efa5b3481",
            "placeholder": "​",
            "style": "IPY_MODEL_29f33f17bf0349e3837c52737a85d867",
            "value": " 1000/1000 [00:14&lt;00:00, 71.05it/s]"
          }
        },
        "86c7860fb5184c8ba8463e929225d9ad": {
          "model_module": "@jupyter-widgets/base",
          "model_name": "LayoutModel",
          "model_module_version": "1.2.0",
          "state": {
            "_model_module": "@jupyter-widgets/base",
            "_model_module_version": "1.2.0",
            "_model_name": "LayoutModel",
            "_view_count": null,
            "_view_module": "@jupyter-widgets/base",
            "_view_module_version": "1.2.0",
            "_view_name": "LayoutView",
            "align_content": null,
            "align_items": null,
            "align_self": null,
            "border": null,
            "bottom": null,
            "display": null,
            "flex": null,
            "flex_flow": null,
            "grid_area": null,
            "grid_auto_columns": null,
            "grid_auto_flow": null,
            "grid_auto_rows": null,
            "grid_column": null,
            "grid_gap": null,
            "grid_row": null,
            "grid_template_areas": null,
            "grid_template_columns": null,
            "grid_template_rows": null,
            "height": null,
            "justify_content": null,
            "justify_items": null,
            "left": null,
            "margin": null,
            "max_height": null,
            "max_width": null,
            "min_height": null,
            "min_width": null,
            "object_fit": null,
            "object_position": null,
            "order": null,
            "overflow": null,
            "overflow_x": null,
            "overflow_y": null,
            "padding": null,
            "right": null,
            "top": null,
            "visibility": null,
            "width": null
          }
        },
        "616156ac0f684ac79654486c1d20a4a6": {
          "model_module": "@jupyter-widgets/base",
          "model_name": "LayoutModel",
          "model_module_version": "1.2.0",
          "state": {
            "_model_module": "@jupyter-widgets/base",
            "_model_module_version": "1.2.0",
            "_model_name": "LayoutModel",
            "_view_count": null,
            "_view_module": "@jupyter-widgets/base",
            "_view_module_version": "1.2.0",
            "_view_name": "LayoutView",
            "align_content": null,
            "align_items": null,
            "align_self": null,
            "border": null,
            "bottom": null,
            "display": null,
            "flex": null,
            "flex_flow": null,
            "grid_area": null,
            "grid_auto_columns": null,
            "grid_auto_flow": null,
            "grid_auto_rows": null,
            "grid_column": null,
            "grid_gap": null,
            "grid_row": null,
            "grid_template_areas": null,
            "grid_template_columns": null,
            "grid_template_rows": null,
            "height": null,
            "justify_content": null,
            "justify_items": null,
            "left": null,
            "margin": null,
            "max_height": null,
            "max_width": null,
            "min_height": null,
            "min_width": null,
            "object_fit": null,
            "object_position": null,
            "order": null,
            "overflow": null,
            "overflow_x": null,
            "overflow_y": null,
            "padding": null,
            "right": null,
            "top": null,
            "visibility": null,
            "width": null
          }
        },
        "53875333a50a4430a462e69e46721bf9": {
          "model_module": "@jupyter-widgets/controls",
          "model_name": "DescriptionStyleModel",
          "model_module_version": "1.5.0",
          "state": {
            "_model_module": "@jupyter-widgets/controls",
            "_model_module_version": "1.5.0",
            "_model_name": "DescriptionStyleModel",
            "_view_count": null,
            "_view_module": "@jupyter-widgets/base",
            "_view_module_version": "1.2.0",
            "_view_name": "StyleView",
            "description_width": ""
          }
        },
        "c55b8a3c41c74204a0c77f561c060ffd": {
          "model_module": "@jupyter-widgets/base",
          "model_name": "LayoutModel",
          "model_module_version": "1.2.0",
          "state": {
            "_model_module": "@jupyter-widgets/base",
            "_model_module_version": "1.2.0",
            "_model_name": "LayoutModel",
            "_view_count": null,
            "_view_module": "@jupyter-widgets/base",
            "_view_module_version": "1.2.0",
            "_view_name": "LayoutView",
            "align_content": null,
            "align_items": null,
            "align_self": null,
            "border": null,
            "bottom": null,
            "display": null,
            "flex": null,
            "flex_flow": null,
            "grid_area": null,
            "grid_auto_columns": null,
            "grid_auto_flow": null,
            "grid_auto_rows": null,
            "grid_column": null,
            "grid_gap": null,
            "grid_row": null,
            "grid_template_areas": null,
            "grid_template_columns": null,
            "grid_template_rows": null,
            "height": null,
            "justify_content": null,
            "justify_items": null,
            "left": null,
            "margin": null,
            "max_height": null,
            "max_width": null,
            "min_height": null,
            "min_width": null,
            "object_fit": null,
            "object_position": null,
            "order": null,
            "overflow": null,
            "overflow_x": null,
            "overflow_y": null,
            "padding": null,
            "right": null,
            "top": null,
            "visibility": null,
            "width": null
          }
        },
        "3d00b310e69541c8beceabd065ca6c28": {
          "model_module": "@jupyter-widgets/controls",
          "model_name": "ProgressStyleModel",
          "model_module_version": "1.5.0",
          "state": {
            "_model_module": "@jupyter-widgets/controls",
            "_model_module_version": "1.5.0",
            "_model_name": "ProgressStyleModel",
            "_view_count": null,
            "_view_module": "@jupyter-widgets/base",
            "_view_module_version": "1.2.0",
            "_view_name": "StyleView",
            "bar_color": null,
            "description_width": ""
          }
        },
        "9b58353c1d644e4baa79974efa5b3481": {
          "model_module": "@jupyter-widgets/base",
          "model_name": "LayoutModel",
          "model_module_version": "1.2.0",
          "state": {
            "_model_module": "@jupyter-widgets/base",
            "_model_module_version": "1.2.0",
            "_model_name": "LayoutModel",
            "_view_count": null,
            "_view_module": "@jupyter-widgets/base",
            "_view_module_version": "1.2.0",
            "_view_name": "LayoutView",
            "align_content": null,
            "align_items": null,
            "align_self": null,
            "border": null,
            "bottom": null,
            "display": null,
            "flex": null,
            "flex_flow": null,
            "grid_area": null,
            "grid_auto_columns": null,
            "grid_auto_flow": null,
            "grid_auto_rows": null,
            "grid_column": null,
            "grid_gap": null,
            "grid_row": null,
            "grid_template_areas": null,
            "grid_template_columns": null,
            "grid_template_rows": null,
            "height": null,
            "justify_content": null,
            "justify_items": null,
            "left": null,
            "margin": null,
            "max_height": null,
            "max_width": null,
            "min_height": null,
            "min_width": null,
            "object_fit": null,
            "object_position": null,
            "order": null,
            "overflow": null,
            "overflow_x": null,
            "overflow_y": null,
            "padding": null,
            "right": null,
            "top": null,
            "visibility": null,
            "width": null
          }
        },
        "29f33f17bf0349e3837c52737a85d867": {
          "model_module": "@jupyter-widgets/controls",
          "model_name": "DescriptionStyleModel",
          "model_module_version": "1.5.0",
          "state": {
            "_model_module": "@jupyter-widgets/controls",
            "_model_module_version": "1.5.0",
            "_model_name": "DescriptionStyleModel",
            "_view_count": null,
            "_view_module": "@jupyter-widgets/base",
            "_view_module_version": "1.2.0",
            "_view_name": "StyleView",
            "description_width": ""
          }
        },
        "6ede3f9917bb4de28ea4390278c4122d": {
          "model_module": "@jupyter-widgets/controls",
          "model_name": "HBoxModel",
          "model_module_version": "1.5.0",
          "state": {
            "_dom_classes": [],
            "_model_module": "@jupyter-widgets/controls",
            "_model_module_version": "1.5.0",
            "_model_name": "HBoxModel",
            "_view_count": null,
            "_view_module": "@jupyter-widgets/controls",
            "_view_module_version": "1.5.0",
            "_view_name": "HBoxView",
            "box_style": "",
            "children": [
              "IPY_MODEL_aa1695018dcf4ea2b3cbf3983884e347",
              "IPY_MODEL_d2d0871717444cd590f3a1b733bac472",
              "IPY_MODEL_da4eefd996854204aec9f09fe4e2e903"
            ],
            "layout": "IPY_MODEL_f5fa1d8312e94835a56b263b31e63d74"
          }
        },
        "aa1695018dcf4ea2b3cbf3983884e347": {
          "model_module": "@jupyter-widgets/controls",
          "model_name": "HTMLModel",
          "model_module_version": "1.5.0",
          "state": {
            "_dom_classes": [],
            "_model_module": "@jupyter-widgets/controls",
            "_model_module_version": "1.5.0",
            "_model_name": "HTMLModel",
            "_view_count": null,
            "_view_module": "@jupyter-widgets/controls",
            "_view_module_version": "1.5.0",
            "_view_name": "HTMLView",
            "description": "",
            "description_tooltip": null,
            "layout": "IPY_MODEL_a9400d05d9cd4590b22df5ea8be93eb1",
            "placeholder": "​",
            "style": "IPY_MODEL_3a50db6c655f4f1eba231668b872dabd",
            "value": "Running for 1,000 iterations: 100%"
          }
        },
        "d2d0871717444cd590f3a1b733bac472": {
          "model_module": "@jupyter-widgets/controls",
          "model_name": "FloatProgressModel",
          "model_module_version": "1.5.0",
          "state": {
            "_dom_classes": [],
            "_model_module": "@jupyter-widgets/controls",
            "_model_module_version": "1.5.0",
            "_model_name": "FloatProgressModel",
            "_view_count": null,
            "_view_module": "@jupyter-widgets/controls",
            "_view_module_version": "1.5.0",
            "_view_name": "ProgressView",
            "bar_style": "success",
            "description": "",
            "description_tooltip": null,
            "layout": "IPY_MODEL_f26a9f1202944a109e1fec9ba063dd1c",
            "max": 1000,
            "min": 0,
            "orientation": "horizontal",
            "style": "IPY_MODEL_296b5512c16f40198b7ad811d7f8c4fc",
            "value": 1000
          }
        },
        "da4eefd996854204aec9f09fe4e2e903": {
          "model_module": "@jupyter-widgets/controls",
          "model_name": "HTMLModel",
          "model_module_version": "1.5.0",
          "state": {
            "_dom_classes": [],
            "_model_module": "@jupyter-widgets/controls",
            "_model_module_version": "1.5.0",
            "_model_name": "HTMLModel",
            "_view_count": null,
            "_view_module": "@jupyter-widgets/controls",
            "_view_module_version": "1.5.0",
            "_view_name": "HTMLView",
            "description": "",
            "description_tooltip": null,
            "layout": "IPY_MODEL_730b5cee3449411e8c0370c6199ab1f7",
            "placeholder": "​",
            "style": "IPY_MODEL_e57471ea784d45b9913209a9c7750ac0",
            "value": " 1000/1000 [00:06&lt;00:00, 162.21it/s]"
          }
        },
        "f5fa1d8312e94835a56b263b31e63d74": {
          "model_module": "@jupyter-widgets/base",
          "model_name": "LayoutModel",
          "model_module_version": "1.2.0",
          "state": {
            "_model_module": "@jupyter-widgets/base",
            "_model_module_version": "1.2.0",
            "_model_name": "LayoutModel",
            "_view_count": null,
            "_view_module": "@jupyter-widgets/base",
            "_view_module_version": "1.2.0",
            "_view_name": "LayoutView",
            "align_content": null,
            "align_items": null,
            "align_self": null,
            "border": null,
            "bottom": null,
            "display": null,
            "flex": null,
            "flex_flow": null,
            "grid_area": null,
            "grid_auto_columns": null,
            "grid_auto_flow": null,
            "grid_auto_rows": null,
            "grid_column": null,
            "grid_gap": null,
            "grid_row": null,
            "grid_template_areas": null,
            "grid_template_columns": null,
            "grid_template_rows": null,
            "height": null,
            "justify_content": null,
            "justify_items": null,
            "left": null,
            "margin": null,
            "max_height": null,
            "max_width": null,
            "min_height": null,
            "min_width": null,
            "object_fit": null,
            "object_position": null,
            "order": null,
            "overflow": null,
            "overflow_x": null,
            "overflow_y": null,
            "padding": null,
            "right": null,
            "top": null,
            "visibility": null,
            "width": null
          }
        },
        "a9400d05d9cd4590b22df5ea8be93eb1": {
          "model_module": "@jupyter-widgets/base",
          "model_name": "LayoutModel",
          "model_module_version": "1.2.0",
          "state": {
            "_model_module": "@jupyter-widgets/base",
            "_model_module_version": "1.2.0",
            "_model_name": "LayoutModel",
            "_view_count": null,
            "_view_module": "@jupyter-widgets/base",
            "_view_module_version": "1.2.0",
            "_view_name": "LayoutView",
            "align_content": null,
            "align_items": null,
            "align_self": null,
            "border": null,
            "bottom": null,
            "display": null,
            "flex": null,
            "flex_flow": null,
            "grid_area": null,
            "grid_auto_columns": null,
            "grid_auto_flow": null,
            "grid_auto_rows": null,
            "grid_column": null,
            "grid_gap": null,
            "grid_row": null,
            "grid_template_areas": null,
            "grid_template_columns": null,
            "grid_template_rows": null,
            "height": null,
            "justify_content": null,
            "justify_items": null,
            "left": null,
            "margin": null,
            "max_height": null,
            "max_width": null,
            "min_height": null,
            "min_width": null,
            "object_fit": null,
            "object_position": null,
            "order": null,
            "overflow": null,
            "overflow_x": null,
            "overflow_y": null,
            "padding": null,
            "right": null,
            "top": null,
            "visibility": null,
            "width": null
          }
        },
        "3a50db6c655f4f1eba231668b872dabd": {
          "model_module": "@jupyter-widgets/controls",
          "model_name": "DescriptionStyleModel",
          "model_module_version": "1.5.0",
          "state": {
            "_model_module": "@jupyter-widgets/controls",
            "_model_module_version": "1.5.0",
            "_model_name": "DescriptionStyleModel",
            "_view_count": null,
            "_view_module": "@jupyter-widgets/base",
            "_view_module_version": "1.2.0",
            "_view_name": "StyleView",
            "description_width": ""
          }
        },
        "f26a9f1202944a109e1fec9ba063dd1c": {
          "model_module": "@jupyter-widgets/base",
          "model_name": "LayoutModel",
          "model_module_version": "1.2.0",
          "state": {
            "_model_module": "@jupyter-widgets/base",
            "_model_module_version": "1.2.0",
            "_model_name": "LayoutModel",
            "_view_count": null,
            "_view_module": "@jupyter-widgets/base",
            "_view_module_version": "1.2.0",
            "_view_name": "LayoutView",
            "align_content": null,
            "align_items": null,
            "align_self": null,
            "border": null,
            "bottom": null,
            "display": null,
            "flex": null,
            "flex_flow": null,
            "grid_area": null,
            "grid_auto_columns": null,
            "grid_auto_flow": null,
            "grid_auto_rows": null,
            "grid_column": null,
            "grid_gap": null,
            "grid_row": null,
            "grid_template_areas": null,
            "grid_template_columns": null,
            "grid_template_rows": null,
            "height": null,
            "justify_content": null,
            "justify_items": null,
            "left": null,
            "margin": null,
            "max_height": null,
            "max_width": null,
            "min_height": null,
            "min_width": null,
            "object_fit": null,
            "object_position": null,
            "order": null,
            "overflow": null,
            "overflow_x": null,
            "overflow_y": null,
            "padding": null,
            "right": null,
            "top": null,
            "visibility": null,
            "width": null
          }
        },
        "296b5512c16f40198b7ad811d7f8c4fc": {
          "model_module": "@jupyter-widgets/controls",
          "model_name": "ProgressStyleModel",
          "model_module_version": "1.5.0",
          "state": {
            "_model_module": "@jupyter-widgets/controls",
            "_model_module_version": "1.5.0",
            "_model_name": "ProgressStyleModel",
            "_view_count": null,
            "_view_module": "@jupyter-widgets/base",
            "_view_module_version": "1.2.0",
            "_view_name": "StyleView",
            "bar_color": null,
            "description_width": ""
          }
        },
        "730b5cee3449411e8c0370c6199ab1f7": {
          "model_module": "@jupyter-widgets/base",
          "model_name": "LayoutModel",
          "model_module_version": "1.2.0",
          "state": {
            "_model_module": "@jupyter-widgets/base",
            "_model_module_version": "1.2.0",
            "_model_name": "LayoutModel",
            "_view_count": null,
            "_view_module": "@jupyter-widgets/base",
            "_view_module_version": "1.2.0",
            "_view_name": "LayoutView",
            "align_content": null,
            "align_items": null,
            "align_self": null,
            "border": null,
            "bottom": null,
            "display": null,
            "flex": null,
            "flex_flow": null,
            "grid_area": null,
            "grid_auto_columns": null,
            "grid_auto_flow": null,
            "grid_auto_rows": null,
            "grid_column": null,
            "grid_gap": null,
            "grid_row": null,
            "grid_template_areas": null,
            "grid_template_columns": null,
            "grid_template_rows": null,
            "height": null,
            "justify_content": null,
            "justify_items": null,
            "left": null,
            "margin": null,
            "max_height": null,
            "max_width": null,
            "min_height": null,
            "min_width": null,
            "object_fit": null,
            "object_position": null,
            "order": null,
            "overflow": null,
            "overflow_x": null,
            "overflow_y": null,
            "padding": null,
            "right": null,
            "top": null,
            "visibility": null,
            "width": null
          }
        },
        "e57471ea784d45b9913209a9c7750ac0": {
          "model_module": "@jupyter-widgets/controls",
          "model_name": "DescriptionStyleModel",
          "model_module_version": "1.5.0",
          "state": {
            "_model_module": "@jupyter-widgets/controls",
            "_model_module_version": "1.5.0",
            "_model_name": "DescriptionStyleModel",
            "_view_count": null,
            "_view_module": "@jupyter-widgets/base",
            "_view_module_version": "1.2.0",
            "_view_name": "StyleView",
            "description_width": ""
          }
        }
      }
    }
  },
  "nbformat": 4,
  "nbformat_minor": 0
}