{
  "cells": [
    {
      "cell_type": "markdown",
      "metadata": {
        "id": "kRhsrRNNB0lM"
      },
      "source": [
        "# 0. Imports"
      ]
    },
    {
      "cell_type": "code",
      "source": [
        "# %pip install ml_collections\n",
        "# %pip install flax\n",
        "# %pip install bayesian-optimization\n",
        "# %pip install -qq git+https://github.com/probml/rebayes.git\n",
        "# %pip install jaxtyping\n",
        "# %pip install jax-tqdm\n",
        "# %pip install dynamax\n",
        "# %pip install jax-dataloader\n",
        "# %pip install avalanche-lib"
      ],
      "metadata": {
        "id": "k7ot0XjIB9iA"
      },
      "execution_count": 2,
      "outputs": []
    },
    {
      "cell_type": "code",
      "execution_count": 3,
      "metadata": {
        "id": "_UvjekASB0lN"
      },
      "outputs": [],
      "source": [
        "from jaxtyping import Float, Array\n",
        "from typing import Callable, NamedTuple, Union, Tuple, Any\n",
        "from functools import partial\n",
        "import chex\n",
        "import optax\n",
        "import jax\n",
        "import jax.numpy as jnp\n",
        "import jax.random as jr\n",
        "from jax import lax, jacfwd, vmap, grad, jit\n",
        "from jax.tree_util import tree_map, tree_reduce\n",
        "import flax\n",
        "import flax.linen as nn\n",
        "from flax.training.train_state import TrainState\n",
        "from tensorflow_probability.substrates.jax.distributions import MultivariateNormalFullCovariance as MVN\n",
        "import matplotlib.pyplot as plt\n",
        "import matplotlib.cm as cm\n",
        "from jax.flatten_util import ravel_pytree\n",
        "from dataclasses import dataclass\n",
        "\n",
        "from itertools import cycle\n",
        "\n",
        "import torch\n",
        "import numpy as np\n",
        "from torch.utils.data import TensorDataset, DataLoader\n",
        "from torchvision.transforms import ToTensor\n",
        "from bayes_opt import BayesianOptimization\n",
        "from tqdm import trange\n",
        "\n",
        "import jax_dataloader.core as jdl\n",
        "\n",
        "from rebayes.base import *\n",
        "from rebayes.low_rank_filter.lofi import LoFiParams, RebayesLoFi, LoFiBel\n",
        "from rebayes.extended_kalman_filter.ekf import RebayesEKF\n",
        "from rebayes.utils.utils import *\n",
        "from rebayes.utils.avalanche import *\n",
        "from rebayes.sgd_filter import sgd\n",
        "from demos.showdown.nonstationary import hparam_tune_clf as hpt\n",
        "from avalanche.benchmarks.classic import SplitMNIST"
      ]
    },
    {
      "cell_type": "markdown",
      "metadata": {
        "id": "QcvM4MCFB0lO"
      },
      "source": [
        "# 1. Load Dataset"
      ]
    },
    {
      "cell_type": "code",
      "source": [
        "def load_split_mnist_dataset(n_tasks=5, ntrain_per_task=1_000, ntest_per_task=500, key=0):\n",
        "    dataset = SplitMNIST(n_experiences=n_tasks, seed=0, return_task_id=True,\n",
        "                         class_ids_from_zero_in_each_exp=True, fixed_class_order=range(10))\n",
        "    nval_per_batch = ntest_per_task\n",
        "    Xtr, Ytr, Xte, Yte =  make_avalanche_data(dataset, ntrain_per_task, ntrain_per_task, 2*ntest_per_task, key=key)\n",
        "    Xtr, Xte = Xtr.reshape(-1, 1, 28, 28, 1), Xte.reshape(-1, 1, 28, 28, 1)\n",
        "    Xte_batches, Yte_batches = jnp.split(Xte, n_tasks), jnp.split(Yte, n_tasks)\n",
        "    Xval_sets, Yval_sets = [batch[:nval_per_batch] for batch in Xte_batches], [batch[:nval_per_batch] for batch in Yte_batches]\n",
        "    Xte_sets, Yte_sets = [batch[nval_per_batch:] for batch in Xte_batches], [batch[nval_per_batch:] for batch in Yte_batches]\n",
        "\n",
        "    Xval, Yval = jnp.concatenate(Xval_sets), jnp.concatenate(Yval_sets)\n",
        "    Xte, Yte = jnp.concatenate(Xte_sets), jnp.concatenate(Yte_sets)\n",
        "\n",
        "    Xtr_flat = flatten_batch(Xtr)\n",
        "\n",
        "    return (Xtr, Ytr), (Xval, Yval), (Xte, Yte)"
      ],
      "metadata": {
        "id": "Weyi64ah0XBk"
      },
      "execution_count": 4,
      "outputs": []
    },
    {
      "cell_type": "code",
      "source": [
        "n_experiences = 5\n",
        "ntrain_per_dist, ntrain_per_batch, ntest_per_batch = 1_000, 1_000, 500\n",
        "nval_per_batch = ntest_per_batch\n",
        "\n",
        "(Xtr, Ytr), (Xval, Yval), (Xte, Yte) = load_split_mnist_dataset(\n",
        "    n_experiences, ntrain_per_batch, ntest_per_batch, 100\n",
        ")"
      ],
      "metadata": {
        "id": "0OkSivVa1klW",
        "outputId": "6a32739b-847c-47cc-ee0a-eef3657ebfd7",
        "colab": {
          "base_uri": "https://localhost:8080/",
          "height": 449,
          "referenced_widgets": [
            "524d584d023f484c94d034a6c3f6eee7",
            "8cceede0d5b646b184cd53e63be4d10f",
            "56f5ea66685048beaffcd5dca4fd039c",
            "0a9f99c1002b4173a3f3b0a647012881",
            "11eb4a4b7f63490dad02356aa0f2167c",
            "7dc7d33bb90147d295906377a022c98b",
            "4811b8c8449c48d692189ef875a8dcf3",
            "16f4ab4a234d46e0978328b87cbb9724",
            "aecf9bc059b047bd9796b36412932f58",
            "410dfb2921a0472bbc92c741d06e8554",
            "2bfdfca3232f4f7ab2a2316ad71f3023",
            "4ffdda92fa3445e3a8d0fea8d2ca4af4",
            "91ddaf79e10d4c5999a4137c0808b7f0",
            "9e366c45289b4bbb92e47e4fa38f205d",
            "660a25eefca84c68b649d3b11214aa41",
            "76f8ca5a3c324e99b4c11a363d0b1dde",
            "150a1746b1e34259ace05a7418f72248",
            "6c6d24ae4067493c8dea86f59dd176f9",
            "17020c19a20941b49a3e160afa48dd9f",
            "b52f6c0e7b434310ae3d3ad06c8ef395",
            "8fec728966d24255952202aaa29eed9a",
            "8cbd0cd393474d88ab433797f68ad473",
            "47742ba92db34ad69561cc870707d90f",
            "08ecd674c06e4e3da8f542bf1db1187f",
            "245f9f95fc3a479d937c21666e64369d",
            "ef75b59cacab4818a1d6f4e24267ccaf",
            "b7fca93a57b54f06abbdd690268a6d4b",
            "d10cc31cbaf94dd6a45f298bce9baafb",
            "5f63026c0dac47efa45ca9710dbbfb57",
            "c050ea1dcc014f208cff9794867ba5d3",
            "ced77a6d9060428cb463683f72059150",
            "01da9718d9e54a6989b6d46c036d8872",
            "f8f2c66a7d2d46d7985b5545492c50d0",
            "afea36605d6b4589b57fc1892a47997c",
            "72022f8cc7814caea02df76e9fce1032",
            "519884eebee0482b8a95202cba3930ec",
            "dac9d7235c2d44a29b238f5e600bc92f",
            "df988a3b1a6646e2a2bacbb493172490",
            "4dd06a9e18c54b1d9c33f480817f9141",
            "ef075a4650e342e9867d6830ce888460",
            "c37f7d75423d486ab8910dfa136f0dea",
            "005932f3b9c143a49850f6aa8a7d760d",
            "d44631bc43ee41a2a286f7956dd0cf5c",
            "4d4fa6e118ac4fef9d8e10aff92345c6"
          ]
        }
      },
      "execution_count": 5,
      "outputs": [
        {
          "output_type": "stream",
          "name": "stdout",
          "text": [
            "Downloading http://yann.lecun.com/exdb/mnist/train-images-idx3-ubyte.gz\n",
            "Downloading http://yann.lecun.com/exdb/mnist/train-images-idx3-ubyte.gz to /root/.avalanche/data/mnist/TensorMNIST/raw/train-images-idx3-ubyte.gz\n"
          ]
        },
        {
          "output_type": "display_data",
          "data": {
            "text/plain": [
              "  0%|          | 0/9912422 [00:00<?, ?it/s]"
            ],
            "application/vnd.jupyter.widget-view+json": {
              "version_major": 2,
              "version_minor": 0,
              "model_id": "524d584d023f484c94d034a6c3f6eee7"
            }
          },
          "metadata": {}
        },
        {
          "output_type": "stream",
          "name": "stdout",
          "text": [
            "Extracting /root/.avalanche/data/mnist/TensorMNIST/raw/train-images-idx3-ubyte.gz to /root/.avalanche/data/mnist/TensorMNIST/raw\n",
            "\n",
            "Downloading http://yann.lecun.com/exdb/mnist/train-labels-idx1-ubyte.gz\n",
            "Downloading http://yann.lecun.com/exdb/mnist/train-labels-idx1-ubyte.gz to /root/.avalanche/data/mnist/TensorMNIST/raw/train-labels-idx1-ubyte.gz\n"
          ]
        },
        {
          "output_type": "display_data",
          "data": {
            "text/plain": [
              "  0%|          | 0/28881 [00:00<?, ?it/s]"
            ],
            "application/vnd.jupyter.widget-view+json": {
              "version_major": 2,
              "version_minor": 0,
              "model_id": "4ffdda92fa3445e3a8d0fea8d2ca4af4"
            }
          },
          "metadata": {}
        },
        {
          "output_type": "stream",
          "name": "stdout",
          "text": [
            "Extracting /root/.avalanche/data/mnist/TensorMNIST/raw/train-labels-idx1-ubyte.gz to /root/.avalanche/data/mnist/TensorMNIST/raw\n",
            "\n",
            "Downloading http://yann.lecun.com/exdb/mnist/t10k-images-idx3-ubyte.gz\n",
            "Downloading http://yann.lecun.com/exdb/mnist/t10k-images-idx3-ubyte.gz to /root/.avalanche/data/mnist/TensorMNIST/raw/t10k-images-idx3-ubyte.gz\n"
          ]
        },
        {
          "output_type": "display_data",
          "data": {
            "text/plain": [
              "  0%|          | 0/1648877 [00:00<?, ?it/s]"
            ],
            "application/vnd.jupyter.widget-view+json": {
              "version_major": 2,
              "version_minor": 0,
              "model_id": "47742ba92db34ad69561cc870707d90f"
            }
          },
          "metadata": {}
        },
        {
          "output_type": "stream",
          "name": "stdout",
          "text": [
            "Extracting /root/.avalanche/data/mnist/TensorMNIST/raw/t10k-images-idx3-ubyte.gz to /root/.avalanche/data/mnist/TensorMNIST/raw\n",
            "\n",
            "Downloading http://yann.lecun.com/exdb/mnist/t10k-labels-idx1-ubyte.gz\n",
            "Downloading http://yann.lecun.com/exdb/mnist/t10k-labels-idx1-ubyte.gz to /root/.avalanche/data/mnist/TensorMNIST/raw/t10k-labels-idx1-ubyte.gz\n"
          ]
        },
        {
          "output_type": "display_data",
          "data": {
            "text/plain": [
              "  0%|          | 0/4542 [00:00<?, ?it/s]"
            ],
            "application/vnd.jupyter.widget-view+json": {
              "version_major": 2,
              "version_minor": 0,
              "model_id": "afea36605d6b4589b57fc1892a47997c"
            }
          },
          "metadata": {}
        },
        {
          "output_type": "stream",
          "name": "stdout",
          "text": [
            "Extracting /root/.avalanche/data/mnist/TensorMNIST/raw/t10k-labels-idx1-ubyte.gz to /root/.avalanche/data/mnist/TensorMNIST/raw\n",
            "\n"
          ]
        }
      ]
    },
    {
      "cell_type": "code",
      "execution_count": 6,
      "metadata": {
        "id": "0yuNsCAWB0lO"
      },
      "outputs": [],
      "source": [
        "train, val = (Xtr, Ytr), (Xval, Yval)"
      ]
    },
    {
      "cell_type": "code",
      "execution_count": 7,
      "metadata": {
        "colab": {
          "base_uri": "https://localhost:8080/"
        },
        "id": "TQjyVCUiB0lP",
        "outputId": "6c17e916-be7e-4627-ceb4-961f27213876"
      },
      "outputs": [
        {
          "output_type": "stream",
          "name": "stdout",
          "text": [
            "batch  0 (1000, 1, 28, 28, 1) (1000, 1)\n",
            "test batch  0 (500, 1, 28, 28, 1) (500, 1)\n",
            "batch  1 (1000, 1, 28, 28, 1) (1000, 1)\n",
            "test batch  1 (500, 1, 28, 28, 1) (500, 1)\n",
            "batch  2 (1000, 1, 28, 28, 1) (1000, 1)\n",
            "test batch  2 (500, 1, 28, 28, 1) (500, 1)\n",
            "batch  3 (1000, 1, 28, 28, 1) (1000, 1)\n",
            "test batch  3 (500, 1, 28, 28, 1) (500, 1)\n",
            "batch  4 (1000, 1, 28, 28, 1) (1000, 1)\n",
            "test batch  4 (500, 1, 28, 28, 1) (500, 1)\n"
          ]
        }
      ],
      "source": [
        "train_ds = jdl.Dataset(Xtr, Ytr)\n",
        "train_loader = jdl.DataLoaderJax(train_ds, batch_size=ntrain_per_batch, shuffle=False, drop_last=False)\n",
        "train_iter = iter(train_loader)\n",
        "\n",
        "test_ds = jdl.Dataset(Xte, Yte)\n",
        "test_loader = jdl.DataLoaderJax(test_ds, batch_size=nval_per_batch, shuffle=False, drop_last=False)\n",
        "test_iter = iter(test_loader)\n",
        "\n",
        "for b in range(len(train_iter)): \n",
        "    (Xb,Yb) = next(train_iter)\n",
        "    print('batch ', b, Xb.shape, Yb.shape)\n",
        "    (Xb,Yb) = next(test_iter)\n",
        "    print('test batch ', b, Xb.shape, Yb.shape)"
      ]
    },
    {
      "cell_type": "code",
      "execution_count": 8,
      "metadata": {
        "id": "FAXaCUP4B0lP"
      },
      "outputs": [],
      "source": [
        "def plot_batch(Xb, Yb, ttl=None):\n",
        "    figure = plt.figure(figsize=(8, 8))\n",
        "    cols, rows = 3, 3\n",
        "    for i in range(1, cols * rows + 1):\n",
        "        #sample_idx = torch.randint(len(training_data), size=(1,)).item()\n",
        "        sample_idx = i-1\n",
        "        img = Xb[sample_idx]\n",
        "        label = Yb[sample_idx]\n",
        "        figure.add_subplot(rows, cols, i)\n",
        "        plt.title(label)\n",
        "        plt.axis(\"off\")\n",
        "        plt.imshow(img.squeeze(), cmap=\"gray\")\n",
        "    if ttl is not None: plt.suptitle(ttl)\n",
        "    plt.show()"
      ]
    },
    {
      "cell_type": "code",
      "execution_count": 9,
      "metadata": {
        "id": "z_Q-yjL6B0lP"
      },
      "outputs": [],
      "source": [
        "class RebayesSum(Rebayes):\n",
        "    \"\"\"The belief state is the sum of all the input X_t values.\"\"\"\n",
        "    def __init__(\n",
        "        self,\n",
        "        params: RebayesParams,\n",
        "        shape_in, \n",
        "        shape_out\n",
        "    ):\n",
        "        self.params = params\n",
        "        self.shape_in = shape_in\n",
        "        self.shape_out = shape_out\n",
        "\n",
        "    def init_bel(self) -> Belief:\n",
        "        bel = Belief(dummy = jnp.zeros(self.shape_in))\n",
        "        return bel\n",
        "    \n",
        "    def update_state(\n",
        "        self,\n",
        "        bel: Belief,\n",
        "        X: Float[Array, \"input_dim\"],\n",
        "        Y: Float[Array, \"obs_dim\"]\n",
        "    ) -> Belief:\n",
        "        return Belief(dummy = bel.dummy + X)"
      ]
    },
    {
      "cell_type": "code",
      "source": [
        "train_ds = jdl.Dataset(Xtr, Ytr)\n",
        "train_loader = jdl.DataLoaderJax(train_ds, batch_size=ntrain_per_batch, shuffle=False, drop_last=False)\n",
        "\n",
        "test_ds = jdl.Dataset(Xte, Yte)\n",
        "test_loader = jdl.DataLoaderJax(test_ds, batch_size=nval_per_batch, shuffle=False, drop_last=False)\n",
        "test_iter = iter(test_loader)\n",
        "\n",
        "def callback_dl(b, bel_pre, bel_post, batch, **kwargs):\n",
        "    Xtr, Ytr = batch\n",
        "    jax.debug.print(\"callback on batch {b}\", b=b)\n",
        "    jax.debug.print(\"Xtr shape {x1}, Ytr shape {y1}\", x1=Xtr.shape, y1=Ytr.shape)\n",
        "    Xte, Yte = next(test_iter)\n",
        "    jax.debug.print(\"Xte shape {x1}, Yte shape {y1}\", x1=Xte.shape, y1=Yte.shape)\n",
        "    plot_batch(Xte, Yte, ttl='batch {:d}'.format(b))\n",
        "    return b\n",
        "\n",
        "shape_in = Xtr.shape[1:]\n",
        "shape_out = 1\n",
        "estimator = RebayesSum(make_rebayes_params(), shape_in, shape_out)\n",
        "\n",
        "bel, outputs = estimator.scan_dataloader(train_loader, callback=callback_dl)\n",
        "Xsum = jnp.sum(Xtr, axis=0)\n",
        "# assert(jnp.allclose(Xsum, bel.dummy, atol=1e-1))"
      ],
      "metadata": {
        "id": "udufZGxO2EUy",
        "outputId": "52269fc3-17ae-4c28-ee30-1dcae8f585a7",
        "colab": {
          "base_uri": "https://localhost:8080/",
          "height": 1000
        }
      },
      "execution_count": 10,
      "outputs": [
        {
          "output_type": "stream",
          "name": "stdout",
          "text": [
            "callback on batch 0\n",
            "Xtr shape (1000, 1, 28, 28, 1), Ytr shape (1000, 1)\n",
            "Xte shape (500, 1, 28, 28, 1), Yte shape (500, 1)\n"
          ]
        },
        {
          "output_type": "display_data",
          "data": {
            "text/plain": [
              "<Figure size 576x576 with 9 Axes>"
            ],
            "image/png": "[encoded data removed]"
          },
          "metadata": {
            "needs_background": "light"
          }
        },
        {
          "output_type": "stream",
          "name": "stdout",
          "text": [
            "callback on batch 1\n",
            "Xtr shape (1000, 1, 28, 28, 1), Ytr shape (1000, 1)\n",
            "Xte shape (500, 1, 28, 28, 1), Yte shape (500, 1)\n"
          ]
        },
        {
          "output_type": "display_data",
          "data": {
            "text/plain": [
              "<Figure size 576x576 with 9 Axes>"
            ],
            "image/png": "[encoded data removed]"
          },
          "metadata": {
            "needs_background": "light"
          }
        },
        {
          "output_type": "stream",
          "name": "stdout",
          "text": [
            "callback on batch 2\n",
            "Xtr shape (1000, 1, 28, 28, 1), Ytr shape (1000, 1)\n",
            "Xte shape (500, 1, 28, 28, 1), Yte shape (500, 1)\n"
          ]
        },
        {
          "output_type": "display_data",
          "data": {
            "text/plain": [
              "<Figure size 576x576 with 9 Axes>"
            ],
            "image/png": "[encoded data removed]"
          },
          "metadata": {
            "needs_background": "light"
          }
        },
        {
          "output_type": "stream",
          "name": "stdout",
          "text": [
            "callback on batch 3\n",
            "Xtr shape (1000, 1, 28, 28, 1), Ytr shape (1000, 1)\n",
            "Xte shape (500, 1, 28, 28, 1), Yte shape (500, 1)\n"
          ]
        },
        {
          "output_type": "display_data",
          "data": {
            "text/plain": [
              "<Figure size 576x576 with 9 Axes>"
            ],
            "image/png": "[encoded data removed]"
          },
          "metadata": {
            "needs_background": "light"
          }
        },
        {
          "output_type": "stream",
          "name": "stdout",
          "text": [
            "callback on batch 4\n",
            "Xtr shape (1000, 1, 28, 28, 1), Ytr shape (1000, 1)\n",
            "Xte shape (500, 1, 28, 28, 1), Yte shape (500, 1)\n"
          ]
        },
        {
          "output_type": "display_data",
          "data": {
            "text/plain": [
              "<Figure size 576x576 with 9 Axes>"
            ],
            "image/png": "[encoded data removed]"
          },
          "metadata": {
            "needs_background": "light"
          }
        }
      ]
    },
    {
      "cell_type": "markdown",
      "metadata": {
        "id": "tzOevZfQB0lQ"
      },
      "source": [
        "# 2. Model Setup"
      ]
    },
    {
      "cell_type": "code",
      "source": [
        "class MLP(nn.Module):\n",
        "    features: Sequence[int]\n",
        "\n",
        "    @nn.compact\n",
        "    def __call__(self, x):\n",
        "        x = x.ravel()\n",
        "        for feat in self.features[:-1]:\n",
        "            x = nn.relu(nn.Dense(feat)(x))\n",
        "        x = nn.Dense(self.features[-1])(x)\n",
        "        return x\n",
        "\n",
        "features = [400, 400, 1]\n",
        "model = MLP(features)\n",
        "params = model.init(jr.PRNGKey(0), jnp.ones([1, 28, 28, 1]).ravel())\n",
        "flat_params, unflatten_fn = ravel_pytree(params)\n",
        "\n",
        "# Define apply function\n",
        "def apply(flat_params, x, model, unflatten_fn):\n",
        "    return model.apply(unflatten_fn(flat_params), jnp.atleast_1d(x))\n",
        "\n",
        "apply_fn = partial(apply, model=model, unflatten_fn=unflatten_fn)\n",
        "print(f'flat_params.shape: {flat_params.shape}')"
      ],
      "metadata": {
        "id": "bTh-Qw5Ys6T4",
        "outputId": "859f1a61-4ad8-47ea-94b1-98a55292e660",
        "colab": {
          "base_uri": "https://localhost:8080/"
        }
      },
      "execution_count": 11,
      "outputs": [
        {
          "output_type": "stream",
          "name": "stdout",
          "text": [
            "flat_params.shape: (474801,)\n"
          ]
        }
      ]
    },
    {
      "cell_type": "code",
      "execution_count": 20,
      "metadata": {
        "id": "jQqXdG3-B0lQ"
      },
      "outputs": [],
      "source": [
        "# class CNN(nn.Module):\n",
        "#     \"\"\"A simple CNN model.\"\"\"\n",
        "#     @nn.compact\n",
        "#     def __call__(self, x):\n",
        "#         x = nn.Conv(features=32, kernel_size=(3, 3))(x)\n",
        "#         x = nn.relu(x)\n",
        "#         x = nn.avg_pool(x, window_shape=(2, 2), strides=(2, 2))\n",
        "#         x = nn.Conv(features=64, kernel_size=(3, 3))(x)\n",
        "#         x = nn.relu(x)\n",
        "#         x = nn.avg_pool(x, window_shape=(2, 2), strides=(2, 2))\n",
        "#         x = x.reshape((x.shape[0], -1))  # flatten\n",
        "#         x = nn.Dense(features=128)(x)\n",
        "#         x = nn.relu(x)\n",
        "#         x = nn.Dense(features=1)(x)\n",
        "#         return x\n",
        "\n",
        "# key = jr.PRNGKey(0)\n",
        "# cnn_model = CNN()\n",
        "# cnn_params = cnn_model.init(key, jnp.ones((1, 28, 28, 1)))\n",
        "# flat_params, unflatten_fn = ravel_pytree(cnn_params)\n",
        "# print(f'flat_params.shape: {flat_params.shape}')\n",
        "\n",
        "# # Define apply function\n",
        "# def apply(flat_params, x, model, unflatten_fn):\n",
        "#     return model.apply(unflatten_fn(flat_params), jnp.atleast_1d(x))\n",
        "\n",
        "# apply_fn = partial(apply, model=cnn_model, unflatten_fn=unflatten_fn)"
      ]
    },
    {
      "cell_type": "code",
      "execution_count": 13,
      "metadata": {
        "id": "962P0lo6B0lQ"
      },
      "outputs": [],
      "source": [
        "sigmoid_fn = lambda w, x: jnp.clip(jax.nn.sigmoid(apply_fn(w, x)), 1e-4, 1-1e-4).ravel()\n",
        "emission_mean_function = lambda w, x: sigmoid_fn(w, x)\n",
        "emission_cov_function = lambda w, x: sigmoid_fn(w, x) * (1 - sigmoid_fn(w, x))"
      ]
    },
    {
      "cell_type": "markdown",
      "metadata": {
        "id": "bzHTVsaOB0lQ"
      },
      "source": [
        "# 3. FDEKF"
      ]
    },
    {
      "cell_type": "markdown",
      "metadata": {
        "id": "x6U-4773B0lQ"
      },
      "source": [
        "## 3.1 Hyperparam Tuning"
      ]
    },
    {
      "cell_type": "markdown",
      "metadata": {
        "id": "r0ZQHzQQB0lQ"
      },
      "source": [
        "To tune the hyperparameters, we maximize the average validation accuracy across all 5 tasks after training on the full training set."
      ]
    },
    {
      "cell_type": "code",
      "execution_count": null,
      "metadata": {
        "id": "feuBRvEoB0lQ"
      },
      "outputs": [],
      "source": [
        "pbounds={\n",
        "    'log_init_cov': (-10, 0),\n",
        "    'log_dynamics_weights': (-40, 0),\n",
        "    'log_dynamics_cov': (-40, 0),\n",
        "    'log_alpha': (-40, 0),\n",
        "}\n",
        "fcekf_model = 'fdekf'"
      ]
    },
    {
      "cell_type": "code",
      "execution_count": null,
      "metadata": {
        "id": "WEVEuqyiB0lR"
      },
      "outputs": [],
      "source": [
        "def evaluate_accuracy(flat_params, apply_fn, X, y):\n",
        "    \"\"\" Evaluate accuracy for given parameters and test set\n",
        "    \"\"\"\n",
        "    @jit\n",
        "    def evaluate_acc(image, label):\n",
        "        image = image.reshape((1, 28, 28, 1))\n",
        "        logits = apply_fn(flat_params, image).ravel()\n",
        "        acc = jnp.mean(jnp.round(jax.nn.sigmoid(logits)) == label.ravel())\n",
        "        \n",
        "        return acc\n",
        "    accs = vmap(evaluate_acc, (0, 0))(X, y).mean()\n",
        "    return accs\n",
        "\n",
        "def acc_callback(bel, *args, **kwargs):\n",
        "    X_test, y_test, apply_fn = kwargs[\"X_test\"], kwargs[\"y_test\"], kwargs[\"apply_fn\"]\n",
        "    accuracy = evaluate_accuracy(bel.mean, apply_fn, X_test, y_test)\n",
        "    \n",
        "    result = {\n",
        "        'test': accuracy,\n",
        "    }\n",
        "    \n",
        "    return result\n",
        "\n",
        "def ll_callback(bel, *args, **kwargs):\n",
        "    X_test, y_test = kwargs[\"X_test\"], kwargs[\"y_test\"]\n",
        "    apply_fn = kwargs[\"apply_fn\"]\n",
        "    \n",
        "    logits = vmap(jit(apply_fn), (None, 0))(bel.mean, X_test).ravel()\n",
        "    nll = jnp.mean(jit(optax.sigmoid_binary_cross_entropy)(logits, y_test.ravel()))\n",
        "    if jnp.isnan(nll):\n",
        "        nll = 1e8\n",
        "    result = -nll\n",
        "    \n",
        "    res = {\n",
        "        \"test\": result,\n",
        "    }\n",
        "    return res"
      ]
    },
    {
      "cell_type": "code",
      "execution_count": null,
      "metadata": {
        "id": "6IJi7wevB0lR"
      },
      "outputs": [],
      "source": [
        "fdekf_optimizer, apply_fn, n_feats = hpt.create_optimizer(\n",
        "    model, pbounds, 314, train, val, emission_mean_function, emission_cov_function,\n",
        "    ll_callback, 'fdekf',\n",
        ")"
      ]
    },
    {
      "cell_type": "code",
      "execution_count": null,
      "metadata": {
        "id": "c_lJCpMKB0lR"
      },
      "outputs": [],
      "source": [
        "%%time\n",
        "fdekf_optimizer.maximize(\n",
        "    init_points=50,\n",
        "    n_iter=50,\n",
        ")"
      ]
    },
    {
      "cell_type": "markdown",
      "metadata": {
        "id": "IwVyLyuJB0lR"
      },
      "source": [
        "## 3.2 Test Set Accuracy"
      ]
    },
    {
      "cell_type": "code",
      "source": [
        "fdekf_hparams = {\n",
        "    'initial_covariance': 0.00020758279367541816,\n",
        "    'dynamics_weights': 1.0,\n",
        "    'dynamics_covariance': 1.5181557590113835e-17,\n",
        "    'dynamics_covariance_inflation_factor': 2.3761628691388652e-09\n",
        "}"
      ],
      "metadata": {
        "id": "TyqOIBC5owJf"
      },
      "execution_count": null,
      "outputs": []
    },
    {
      "cell_type": "code",
      "execution_count": null,
      "metadata": {
        "id": "pVMbYHDsB0lR"
      },
      "outputs": [],
      "source": [
        "# fdekf_hparams = hpt.get_best_params(fdekf_optimizer)\n",
        "fdekf_estimator = hpt.build_estimator(flat_params, fdekf_hparams, emission_mean_function,\n",
        "                                      emission_cov_function, method=\"fdekf\")"
      ]
    },
    {
      "cell_type": "code",
      "source": [
        "fdekf_hparams"
      ],
      "metadata": {
        "id": "K5MK_k_wFj3h"
      },
      "execution_count": null,
      "outputs": []
    },
    {
      "cell_type": "code",
      "execution_count": null,
      "metadata": {
        "id": "1R2REZLYB0lR"
      },
      "outputs": [],
      "source": [
        "def test_acc_callback(i, bel_pre, bel_post, batch, **kwargs):\n",
        "    X_test, y_test = kwargs[\"X_test\"], kwargs[\"y_test\"]\n",
        "    ntest_per_batch = kwargs[\"ntest_per_batch\"]\n",
        "    X_test, y_test = X_test[:(i+1)*ntest_per_batch], y_test[:(i+1)*ntest_per_batch]\n",
        "    apply_fn = kwargs[\"apply_fn\"]\n",
        "    \n",
        "    overall_accuracy = evaluate_accuracy(bel_post.mean, apply_fn, X_test, y_test)\n",
        "    task1_accuracy = evaluate_accuracy(bel_post.mean, apply_fn, X_test[:ntest_per_batch], y_test[:ntest_per_batch])\n",
        "    result = {\n",
        "        'overall': overall_accuracy,\n",
        "        'task1': task1_accuracy,\n",
        "    }\n",
        "    return result"
      ]
    },
    {
      "cell_type": "code",
      "source": [
        "def evaluate_model(estimator, n_iter=10):\n",
        "    overall_accs, task1_accs = [], []\n",
        "    for i in trange(n_iter):\n",
        "        (Xtr, Ytr), _, (Xte, Yte) = load_split_mnist_dataset(key=i)\n",
        "        train_ds = jdl.Dataset(Xtr, Ytr)\n",
        "        train_loader = jdl.DataLoaderJax(train_ds, batch_size=ntrain_per_batch, shuffle=False, drop_last=False)\n",
        "        test_ds = jdl.Dataset(Xte, Yte)\n",
        "        test_loader = jdl.DataLoaderJax(test_ds, batch_size=nval_per_batch, shuffle=False, drop_last=False)\n",
        "\n",
        "        test_kwargs = {\n",
        "            'X_test': Xte,\n",
        "            'y_test': Yte,\n",
        "            'ntest_per_batch': ntest_per_batch,\n",
        "            'apply_fn': apply_fn,\n",
        "        }\n",
        "\n",
        "        _, accs = estimator.scan_dataloader(train_loader, callback=test_acc_callback, **test_kwargs)\n",
        "\n",
        "        overall_accs.append(jnp.array([res['overall'] for res in accs]))\n",
        "        task1_accs.append(jnp.array([res['task1'] for res in accs]))\n",
        "    \n",
        "    overall_accs, task1_accs = jnp.array(overall_accs), jnp.array(task1_accs)\n",
        "\n",
        "    result = {\n",
        "        'overall': overall_accs.mean(axis=0),\n",
        "        'overall-std': overall_accs.std(axis=0),\n",
        "        'task1': task1_accs.mean(axis=0),\n",
        "        'task1-std': task1_accs.std(axis=0),\n",
        "    }\n",
        "    \n",
        "    return result\n"
      ],
      "metadata": {
        "id": "osBqbv5xAVQV"
      },
      "execution_count": null,
      "outputs": []
    },
    {
      "cell_type": "code",
      "source": [
        "fdekf_res = evaluate_model(fdekf_estimator)"
      ],
      "metadata": {
        "id": "NK0H8cKZCDXQ"
      },
      "execution_count": null,
      "outputs": []
    },
    {
      "cell_type": "markdown",
      "metadata": {
        "id": "2_yEURSVB0lR"
      },
      "source": [
        "# 4. VDEKF"
      ]
    },
    {
      "cell_type": "markdown",
      "metadata": {
        "id": "Zxs_W3_6B0lR"
      },
      "source": [
        "## 4.1 Hyperparam Tuning"
      ]
    },
    {
      "cell_type": "code",
      "execution_count": 375,
      "metadata": {
        "id": "WyYxM6UaB0lR"
      },
      "outputs": [],
      "source": [
        "vdekf_optimizer, apply_fn, n_feats = hpt.create_optimizer(\n",
        "    model, pbounds, 314, train, val, emission_mean_function, emission_cov_function,\n",
        "    ll_callback, 'vdekf',\n",
        ")"
      ]
    },
    {
      "cell_type": "code",
      "execution_count": 376,
      "metadata": {
        "colab": {
          "base_uri": "https://localhost:8080/"
        },
        "id": "SNXztgAwB0lR",
        "outputId": "c755c678-9a3d-4c5f-91e2-6d37486d5277"
      },
      "outputs": [
        {
          "output_type": "stream",
          "name": "stdout",
          "text": [
            "|   iter    |  target   | log_alpha | log_dy... | log_dy... | log_in... |\n",
            "-------------------------------------------------------------------------\n",
            "| \u001b[0m1        \u001b[0m | \u001b[0m-1e+08   \u001b[0m | \u001b[0m-3.325   \u001b[0m | \u001b[0m-16.46   \u001b[0m | \u001b[0m-29.4    \u001b[0m | \u001b[0m-2.168   \u001b[0m |\n",
            "| \u001b[0m2        \u001b[0m | \u001b[0m-1e+08   \u001b[0m | \u001b[0m-3.28    \u001b[0m | \u001b[0m-6.906   \u001b[0m | \u001b[0m-10.88   \u001b[0m | \u001b[0m-7.395   \u001b[0m |\n",
            "| \u001b[0m3        \u001b[0m | \u001b[0m-1e+08   \u001b[0m | \u001b[0m-3.529   \u001b[0m | \u001b[0m-29.57   \u001b[0m | \u001b[0m-9.345   \u001b[0m | \u001b[0m-7.385   \u001b[0m |\n",
            "| \u001b[95m4        \u001b[0m | \u001b[95m-0.6931  \u001b[0m | \u001b[95m-35.11   \u001b[0m | \u001b[95m-24.56   \u001b[0m | \u001b[95m-6.397   \u001b[0m | \u001b[95m-7.218   \u001b[0m |\n",
            "| \u001b[0m5        \u001b[0m | \u001b[0m-1.345   \u001b[0m | \u001b[0m-37.2    \u001b[0m | \u001b[0m-14.68   \u001b[0m | \u001b[0m-16.61   \u001b[0m | \u001b[0m-4.188   \u001b[0m |\n",
            "| \u001b[0m6        \u001b[0m | \u001b[0m-1.337   \u001b[0m | \u001b[0m-12.91   \u001b[0m | \u001b[0m-12.51   \u001b[0m | \u001b[0m-22.44   \u001b[0m | \u001b[0m-6.791   \u001b[0m |\n",
            "| \u001b[0m7        \u001b[0m | \u001b[0m-0.6931  \u001b[0m | \u001b[0m-17.18   \u001b[0m | \u001b[0m-20.81   \u001b[0m | \u001b[0m-5.557   \u001b[0m | \u001b[0m-1.652   \u001b[0m |\n",
            "| \u001b[0m8        \u001b[0m | \u001b[0m-1.087   \u001b[0m | \u001b[0m-35.77   \u001b[0m | \u001b[0m-37.58   \u001b[0m | \u001b[0m-16.12   \u001b[0m | \u001b[0m-2.076   \u001b[0m |\n",
            "| \u001b[0m9        \u001b[0m | \u001b[0m-0.8433  \u001b[0m | \u001b[0m-30.95   \u001b[0m | \u001b[0m-18.59   \u001b[0m | \u001b[0m-34.56   \u001b[0m | \u001b[0m-6.278   \u001b[0m |\n",
            "| \u001b[95m10       \u001b[0m | \u001b[95m-0.5503  \u001b[0m | \u001b[95m-33.92   \u001b[0m | \u001b[95m-22.81   \u001b[0m | \u001b[95m-8.292   \u001b[0m | \u001b[95m-5.93    \u001b[0m |\n",
            "| \u001b[0m11       \u001b[0m | \u001b[0m-2.608e+0\u001b[0m | \u001b[0m-32.89   \u001b[0m | \u001b[0m-3.63    \u001b[0m | \u001b[0m-18.19   \u001b[0m | \u001b[0m-8.995   \u001b[0m |\n",
            "| \u001b[0m12       \u001b[0m | \u001b[0m-25.72   \u001b[0m | \u001b[0m-11.25   \u001b[0m | \u001b[0m-0.8628  \u001b[0m | \u001b[0m-27.61   \u001b[0m | \u001b[0m-7.399   \u001b[0m |\n",
            "| \u001b[0m13       \u001b[0m | \u001b[0m-1.169   \u001b[0m | \u001b[0m-13.48   \u001b[0m | \u001b[0m-34.41   \u001b[0m | \u001b[0m-36.65   \u001b[0m | \u001b[0m-4.732   \u001b[0m |\n",
            "| \u001b[0m14       \u001b[0m | \u001b[0m-210.7   \u001b[0m | \u001b[0m-15.59   \u001b[0m | \u001b[0m-5.304   \u001b[0m | \u001b[0m-34.04   \u001b[0m | \u001b[0m-1.359   \u001b[0m |\n",
            "| \u001b[0m15       \u001b[0m | \u001b[0m-1.319   \u001b[0m | \u001b[0m-22.0    \u001b[0m | \u001b[0m-10.93   \u001b[0m | \u001b[0m-33.8    \u001b[0m | \u001b[0m-5.829   \u001b[0m |\n",
            "| \u001b[95m16       \u001b[0m | \u001b[95m-0.4929  \u001b[0m | \u001b[95m-34.3    \u001b[0m | \u001b[95m-26.43   \u001b[0m | \u001b[95m-11.89   \u001b[0m | \u001b[95m-9.229   \u001b[0m |\n",
            "| \u001b[0m17       \u001b[0m | \u001b[0m-30.18   \u001b[0m | \u001b[0m-37.18   \u001b[0m | \u001b[0m-0.7213  \u001b[0m | \u001b[0m-38.34   \u001b[0m | \u001b[0m-9.007   \u001b[0m |\n",
            "| \u001b[0m18       \u001b[0m | \u001b[0m-0.6931  \u001b[0m | \u001b[0m-31.18   \u001b[0m | \u001b[0m-13.6    \u001b[0m | \u001b[0m-0.1541  \u001b[0m | \u001b[0m-0.3022  \u001b[0m |\n",
            "| \u001b[0m19       \u001b[0m | \u001b[0m-30.05   \u001b[0m | \u001b[0m-12.94   \u001b[0m | \u001b[0m-0.06077 \u001b[0m | \u001b[0m-35.15   \u001b[0m | \u001b[0m-5.638   \u001b[0m |\n",
            "| \u001b[0m20       \u001b[0m | \u001b[0m-0.9772  \u001b[0m | \u001b[0m-33.31   \u001b[0m | \u001b[0m-18.11   \u001b[0m | \u001b[0m-9.157   \u001b[0m | \u001b[0m-4.336   \u001b[0m |\n",
            "| \u001b[0m21       \u001b[0m | \u001b[0m-0.6951  \u001b[0m | \u001b[0m-27.74   \u001b[0m | \u001b[0m-0.8882  \u001b[0m | \u001b[0m-4.452   \u001b[0m | \u001b[0m-7.633   \u001b[0m |\n",
            "| \u001b[0m22       \u001b[0m | \u001b[0m-0.6931  \u001b[0m | \u001b[0m-12.58   \u001b[0m | \u001b[0m-36.7    \u001b[0m | \u001b[0m-5.273   \u001b[0m | \u001b[0m-6.59    \u001b[0m |\n",
            "| \u001b[0m23       \u001b[0m | \u001b[0m-0.6923  \u001b[0m | \u001b[0m-14.74   \u001b[0m | \u001b[0m-25.22   \u001b[0m | \u001b[0m-7.529   \u001b[0m | \u001b[0m-6.144   \u001b[0m |\n",
            "| \u001b[0m24       \u001b[0m | \u001b[0m-0.6977  \u001b[0m | \u001b[0m-21.23   \u001b[0m | \u001b[0m-31.49   \u001b[0m | \u001b[0m-31.5    \u001b[0m | \u001b[0m-6.877   \u001b[0m |\n",
            "| \u001b[0m25       \u001b[0m | \u001b[0m-45.84   \u001b[0m | \u001b[0m-18.41   \u001b[0m | \u001b[0m-6.95    \u001b[0m | \u001b[0m-13.72   \u001b[0m | \u001b[0m-5.69    \u001b[0m |\n",
            "| \u001b[0m26       \u001b[0m | \u001b[0m-41.98   \u001b[0m | \u001b[0m-6.284   \u001b[0m | \u001b[0m-35.38   \u001b[0m | \u001b[0m-19.55   \u001b[0m | \u001b[0m-2.765   \u001b[0m |\n",
            "| \u001b[0m27       \u001b[0m | \u001b[0m-1.3     \u001b[0m | \u001b[0m-38.55   \u001b[0m | \u001b[0m-12.87   \u001b[0m | \u001b[0m-28.82   \u001b[0m | \u001b[0m-8.103   \u001b[0m |\n",
            "| \u001b[0m28       \u001b[0m | \u001b[0m-1.297   \u001b[0m | \u001b[0m-24.51   \u001b[0m | \u001b[0m-18.24   \u001b[0m | \u001b[0m-32.42   \u001b[0m | \u001b[0m-4.209   \u001b[0m |\n",
            "| \u001b[0m29       \u001b[0m | \u001b[0m-1.478   \u001b[0m | \u001b[0m-29.01   \u001b[0m | \u001b[0m-14.26   \u001b[0m | \u001b[0m-37.07   \u001b[0m | \u001b[0m-3.494   \u001b[0m |\n",
            "| \u001b[0m30       \u001b[0m | \u001b[0m-1e+08   \u001b[0m | \u001b[0m-3.589   \u001b[0m | \u001b[0m-14.74   \u001b[0m | \u001b[0m-18.65   \u001b[0m | \u001b[0m-1.161   \u001b[0m |\n",
            "| \u001b[0m31       \u001b[0m | \u001b[0m-0.5601  \u001b[0m | \u001b[0m-14.72   \u001b[0m | \u001b[0m-33.4    \u001b[0m | \u001b[0m-29.6    \u001b[0m | \u001b[0m-9.884   \u001b[0m |\n",
            "| \u001b[0m32       \u001b[0m | \u001b[0m-1e+08   \u001b[0m | \u001b[0m-0.2037  \u001b[0m | \u001b[0m-7.485   \u001b[0m | \u001b[0m-7.632   \u001b[0m | \u001b[0m-1.068   \u001b[0m |\n",
            "| \u001b[0m33       \u001b[0m | \u001b[0m-0.6931  \u001b[0m | \u001b[0m-30.93   \u001b[0m | \u001b[0m-18.67   \u001b[0m | \u001b[0m-2.163   \u001b[0m | \u001b[0m-7.967   \u001b[0m |\n",
            "| \u001b[0m34       \u001b[0m | \u001b[0m-26.41   \u001b[0m | \u001b[0m-5.548   \u001b[0m | \u001b[0m-4.321   \u001b[0m | \u001b[0m-17.0    \u001b[0m | \u001b[0m-9.934   \u001b[0m |\n",
            "| \u001b[0m35       \u001b[0m | \u001b[0m-56.14   \u001b[0m | \u001b[0m-8.735   \u001b[0m | \u001b[0m-8.361   \u001b[0m | \u001b[0m-13.89   \u001b[0m | \u001b[0m-4.914   \u001b[0m |\n",
            "| \u001b[0m36       \u001b[0m | \u001b[0m-1e+08   \u001b[0m | \u001b[0m-1.607   \u001b[0m | \u001b[0m-19.02   \u001b[0m | \u001b[0m-27.5    \u001b[0m | \u001b[0m-6.995   \u001b[0m |\n",
            "| \u001b[0m37       \u001b[0m | \u001b[0m-1e+08   \u001b[0m | \u001b[0m-3.691   \u001b[0m | \u001b[0m-7.406   \u001b[0m | \u001b[0m-22.67   \u001b[0m | \u001b[0m-3.497   \u001b[0m |\n",
            "| \u001b[0m38       \u001b[0m | \u001b[0m-1.205   \u001b[0m | \u001b[0m-10.84   \u001b[0m | \u001b[0m-21.21   \u001b[0m | \u001b[0m-13.52   \u001b[0m | \u001b[0m-2.857   \u001b[0m |\n",
            "| \u001b[95m39       \u001b[0m | \u001b[95m-0.4214  \u001b[0m | \u001b[95m-19.86   \u001b[0m | \u001b[95m-38.73   \u001b[0m | \u001b[95m-37.56   \u001b[0m | \u001b[95m-8.48    \u001b[0m |\n",
            "| \u001b[0m40       \u001b[0m | \u001b[0m-1.47    \u001b[0m | \u001b[0m-37.66   \u001b[0m | \u001b[0m-10.6    \u001b[0m | \u001b[0m-36.66   \u001b[0m | \u001b[0m-8.16    \u001b[0m |\n",
            "| \u001b[0m41       \u001b[0m | \u001b[0m-1.65    \u001b[0m | \u001b[0m-38.67   \u001b[0m | \u001b[0m-19.73   \u001b[0m | \u001b[0m-21.96   \u001b[0m | \u001b[0m-3.031   \u001b[0m |\n",
            "| \u001b[0m42       \u001b[0m | \u001b[0m-0.6931  \u001b[0m | \u001b[0m-14.82   \u001b[0m | \u001b[0m-18.42   \u001b[0m | \u001b[0m-6.447   \u001b[0m | \u001b[0m-2.425   \u001b[0m |\n",
            "| \u001b[0m43       \u001b[0m | \u001b[0m-42.76   \u001b[0m | \u001b[0m-33.26   \u001b[0m | \u001b[0m-9.006   \u001b[0m | \u001b[0m-25.96   \u001b[0m | \u001b[0m-1.252   \u001b[0m |\n",
            "| \u001b[0m44       \u001b[0m | \u001b[0m-34.32   \u001b[0m | \u001b[0m-9.092   \u001b[0m | \u001b[0m-6.162   \u001b[0m | \u001b[0m-12.5    \u001b[0m | \u001b[0m-3.962   \u001b[0m |\n",
            "| \u001b[0m45       \u001b[0m | \u001b[0m-0.6931  \u001b[0m | \u001b[0m-19.49   \u001b[0m | \u001b[0m-34.39   \u001b[0m | \u001b[0m-3.042   \u001b[0m | \u001b[0m-1.253   \u001b[0m |\n",
            "| \u001b[0m46       \u001b[0m | \u001b[0m-2.261e+0\u001b[0m | \u001b[0m-31.01   \u001b[0m | \u001b[0m-3.384   \u001b[0m | \u001b[0m-36.65   \u001b[0m | \u001b[0m-7.443   \u001b[0m |\n",
            "| \u001b[0m47       \u001b[0m | \u001b[0m-0.6931  \u001b[0m | \u001b[0m-35.62   \u001b[0m | \u001b[0m-27.04   \u001b[0m | \u001b[0m-7.605   \u001b[0m | \u001b[0m-9.977   \u001b[0m |\n",
            "| \u001b[0m48       \u001b[0m | \u001b[0m-1.045   \u001b[0m | \u001b[0m-30.7    \u001b[0m | \u001b[0m-38.22   \u001b[0m | \u001b[0m-25.6    \u001b[0m | \u001b[0m-5.262   \u001b[0m |\n",
            "| \u001b[0m49       \u001b[0m | \u001b[0m-20.4    \u001b[0m | \u001b[0m-11.91   \u001b[0m | \u001b[0m-8.632   \u001b[0m | \u001b[0m-18.34   \u001b[0m | \u001b[0m-9.985   \u001b[0m |\n",
            "| \u001b[0m50       \u001b[0m | \u001b[0m-427.8   \u001b[0m | \u001b[0m-28.73   \u001b[0m | \u001b[0m-3.236   \u001b[0m | \u001b[0m-21.08   \u001b[0m | \u001b[0m-4.687   \u001b[0m |\n",
            "| \u001b[0m51       \u001b[0m | \u001b[0m-52.2    \u001b[0m | \u001b[0m-19.67   \u001b[0m | \u001b[0m-31.81   \u001b[0m | \u001b[0m-18.9    \u001b[0m | \u001b[0m-0.1381  \u001b[0m |\n",
            "| \u001b[0m52       \u001b[0m | \u001b[0m-1.059   \u001b[0m | \u001b[0m-19.27   \u001b[0m | \u001b[0m-17.45   \u001b[0m | \u001b[0m-18.32   \u001b[0m | \u001b[0m-1.55    \u001b[0m |\n",
            "| \u001b[0m53       \u001b[0m | \u001b[0m-0.4562  \u001b[0m | \u001b[0m-20.1    \u001b[0m | \u001b[0m-39.86   \u001b[0m | \u001b[0m-17.56   \u001b[0m | \u001b[0m-9.047   \u001b[0m |\n",
            "| \u001b[0m54       \u001b[0m | \u001b[0m-71.1    \u001b[0m | \u001b[0m-40.0    \u001b[0m | \u001b[0m-33.73   \u001b[0m | \u001b[0m-40.0    \u001b[0m | \u001b[0m0.0      \u001b[0m |\n",
            "| \u001b[0m55       \u001b[0m | \u001b[0m-0.717   \u001b[0m | \u001b[0m-40.0    \u001b[0m | \u001b[0m0.0      \u001b[0m | \u001b[0m0.0      \u001b[0m | \u001b[0m0.0      \u001b[0m |\n",
            "| \u001b[0m56       \u001b[0m | \u001b[0m-32.38   \u001b[0m | \u001b[0m-11.89   \u001b[0m | \u001b[0m0.0      \u001b[0m | \u001b[0m-17.02   \u001b[0m | \u001b[0m-10.0    \u001b[0m |\n",
            "| \u001b[0m57       \u001b[0m | \u001b[0m-0.6931  \u001b[0m | \u001b[0m-27.34   \u001b[0m | \u001b[0m-39.73   \u001b[0m | \u001b[0m-1.711   \u001b[0m | \u001b[0m-9.341   \u001b[0m |\n",
            "| \u001b[0m58       \u001b[0m | \u001b[0m-80.86   \u001b[0m | \u001b[0m-12.05   \u001b[0m | \u001b[0m-40.0    \u001b[0m | \u001b[0m-26.81   \u001b[0m | \u001b[0m0.0      \u001b[0m |\n",
            "| \u001b[0m59       \u001b[0m | \u001b[0m-0.6931  \u001b[0m | \u001b[0m-40.0    \u001b[0m | \u001b[0m-8.681   \u001b[0m | \u001b[0m0.0      \u001b[0m | \u001b[0m-10.0    \u001b[0m |\n",
            "| \u001b[0m60       \u001b[0m | \u001b[0m-0.6931  \u001b[0m | \u001b[0m-40.0    \u001b[0m | \u001b[0m-40.0    \u001b[0m | \u001b[0m0.0      \u001b[0m | \u001b[0m0.0      \u001b[0m |\n",
            "| \u001b[0m61       \u001b[0m | \u001b[0m-0.5735  \u001b[0m | \u001b[0m-40.0    \u001b[0m | \u001b[0m-40.0    \u001b[0m | \u001b[0m-40.0    \u001b[0m | \u001b[0m-10.0    \u001b[0m |\n",
            "| \u001b[0m62       \u001b[0m | \u001b[0m-1e+08   \u001b[0m | \u001b[0m0.0      \u001b[0m | \u001b[0m-40.0    \u001b[0m | \u001b[0m-40.0    \u001b[0m | \u001b[0m0.0      \u001b[0m |\n",
            "| \u001b[0m63       \u001b[0m | \u001b[0m-22.89   \u001b[0m | \u001b[0m-38.85   \u001b[0m | \u001b[0m-0.9785  \u001b[0m | \u001b[0m-13.61   \u001b[0m | \u001b[0m-0.5184  \u001b[0m |\n",
            "| \u001b[0m64       \u001b[0m | \u001b[0m-80.02   \u001b[0m | \u001b[0m-13.73   \u001b[0m | \u001b[0m-40.0    \u001b[0m | \u001b[0m-13.21   \u001b[0m | \u001b[0m0.0      \u001b[0m |\n",
            "| \u001b[0m65       \u001b[0m | \u001b[0m-71.1    \u001b[0m | \u001b[0m-40.0    \u001b[0m | \u001b[0m-40.0    \u001b[0m | \u001b[0m-28.83   \u001b[0m | \u001b[0m0.0      \u001b[0m |\n",
            "| \u001b[0m66       \u001b[0m | \u001b[0m-0.5196  \u001b[0m | \u001b[0m-39.91   \u001b[0m | \u001b[0m-28.6    \u001b[0m | \u001b[0m-30.45   \u001b[0m | \u001b[0m-9.556   \u001b[0m |\n",
            "| \u001b[0m67       \u001b[0m | \u001b[0m-71.1    \u001b[0m | \u001b[0m-28.33   \u001b[0m | \u001b[0m-40.0    \u001b[0m | \u001b[0m-40.0    \u001b[0m | \u001b[0m0.0      \u001b[0m |\n",
            "| \u001b[0m68       \u001b[0m | \u001b[0m-0.5735  \u001b[0m | \u001b[0m-20.43   \u001b[0m | \u001b[0m-24.19   \u001b[0m | \u001b[0m-16.73   \u001b[0m | \u001b[0m-10.0    \u001b[0m |\n",
            "| \u001b[0m69       \u001b[0m | \u001b[0m-32.44   \u001b[0m | \u001b[0m-40.0    \u001b[0m | \u001b[0m0.0      \u001b[0m | \u001b[0m-26.28   \u001b[0m | \u001b[0m-10.0    \u001b[0m |\n",
            "| \u001b[0m70       \u001b[0m | \u001b[0m-38.88   \u001b[0m | \u001b[0m-40.0    \u001b[0m | \u001b[0m0.0      \u001b[0m | \u001b[0m-40.0    \u001b[0m | \u001b[0m0.0      \u001b[0m |\n",
            "| \u001b[0m71       \u001b[0m | \u001b[0m-0.717   \u001b[0m | \u001b[0m-19.61   \u001b[0m | \u001b[0m0.0      \u001b[0m | \u001b[0m0.0      \u001b[0m | \u001b[0m0.0      \u001b[0m |\n",
            "| \u001b[0m72       \u001b[0m | \u001b[0m-71.1    \u001b[0m | \u001b[0m-24.83   \u001b[0m | \u001b[0m-26.98   \u001b[0m | \u001b[0m-40.0    \u001b[0m | \u001b[0m0.0      \u001b[0m |\n",
            "| \u001b[0m73       \u001b[0m | \u001b[0m-34.1    \u001b[0m | \u001b[0m-23.45   \u001b[0m | \u001b[0m-0.07887 \u001b[0m | \u001b[0m-38.82   \u001b[0m | \u001b[0m-0.115   \u001b[0m |\n",
            "| \u001b[0m74       \u001b[0m | \u001b[0m-0.6931  \u001b[0m | \u001b[0m-40.0    \u001b[0m | \u001b[0m-25.65   \u001b[0m | \u001b[0m0.0      \u001b[0m | \u001b[0m0.0      \u001b[0m |\n",
            "| \u001b[0m75       \u001b[0m | \u001b[0m-0.6931  \u001b[0m | \u001b[0m-22.38   \u001b[0m | \u001b[0m-28.55   \u001b[0m | \u001b[0m0.0      \u001b[0m | \u001b[0m-10.0    \u001b[0m |\n",
            "| \u001b[0m76       \u001b[0m | \u001b[0m-0.5198  \u001b[0m | \u001b[0m-39.22   \u001b[0m | \u001b[0m-39.8    \u001b[0m | \u001b[0m-12.5    \u001b[0m | \u001b[0m-9.493   \u001b[0m |\n",
            "| \u001b[0m77       \u001b[0m | \u001b[0m-38.31   \u001b[0m | \u001b[0m-39.51   \u001b[0m | \u001b[0m-17.47   \u001b[0m | \u001b[0m-39.5    \u001b[0m | \u001b[0m-0.3151  \u001b[0m |\n",
            "| \u001b[0m78       \u001b[0m | \u001b[0m-71.1    \u001b[0m | \u001b[0m-33.0    \u001b[0m | \u001b[0m-28.3    \u001b[0m | \u001b[0m-29.1    \u001b[0m | \u001b[0m0.0      \u001b[0m |\n",
            "| \u001b[0m79       \u001b[0m | \u001b[0m-38.88   \u001b[0m | \u001b[0m-19.69   \u001b[0m | \u001b[0m0.0      \u001b[0m | \u001b[0m-25.31   \u001b[0m | \u001b[0m0.0      \u001b[0m |\n",
            "| \u001b[0m80       \u001b[0m | \u001b[0m-0.573   \u001b[0m | \u001b[0m-18.31   \u001b[0m | \u001b[0m-23.02   \u001b[0m | \u001b[0m-40.0    \u001b[0m | \u001b[0m-10.0    \u001b[0m |\n",
            "| \u001b[0m81       \u001b[0m | \u001b[0m-0.6931  \u001b[0m | \u001b[0m-40.0    \u001b[0m | \u001b[0m-40.0    \u001b[0m | \u001b[0m0.0      \u001b[0m | \u001b[0m-10.0    \u001b[0m |\n",
            "| \u001b[0m82       \u001b[0m | \u001b[0m-0.5735  \u001b[0m | \u001b[0m-31.41   \u001b[0m | \u001b[0m-30.32   \u001b[0m | \u001b[0m-40.0    \u001b[0m | \u001b[0m-10.0    \u001b[0m |\n",
            "| \u001b[0m83       \u001b[0m | \u001b[0m-69.18   \u001b[0m | \u001b[0m-40.0    \u001b[0m | \u001b[0m-28.05   \u001b[0m | \u001b[0m-13.01   \u001b[0m | \u001b[0m0.0      \u001b[0m |\n",
            "| \u001b[0m84       \u001b[0m | \u001b[0m-223.2   \u001b[0m | \u001b[0m-14.43   \u001b[0m | \u001b[0m-9.876   \u001b[0m | \u001b[0m-13.36   \u001b[0m | \u001b[0m0.0      \u001b[0m |\n",
            "| \u001b[0m85       \u001b[0m | \u001b[0m-0.6931  \u001b[0m | \u001b[0m-21.31   \u001b[0m | \u001b[0m-10.4    \u001b[0m | \u001b[0m0.0      \u001b[0m | \u001b[0m-10.0    \u001b[0m |\n",
            "| \u001b[0m86       \u001b[0m | \u001b[0m-32.44   \u001b[0m | \u001b[0m-21.7    \u001b[0m | \u001b[0m0.0      \u001b[0m | \u001b[0m-30.03   \u001b[0m | \u001b[0m-10.0    \u001b[0m |\n",
            "| \u001b[0m87       \u001b[0m | \u001b[0m-0.6931  \u001b[0m | \u001b[0m-16.65   \u001b[0m | \u001b[0m-40.0    \u001b[0m | \u001b[0m0.0      \u001b[0m | \u001b[0m-10.0    \u001b[0m |\n",
            "| \u001b[0m88       \u001b[0m | \u001b[0m-1.019   \u001b[0m | \u001b[0m-25.08   \u001b[0m | \u001b[0m-14.1    \u001b[0m | \u001b[0m-22.15   \u001b[0m | \u001b[0m-9.989   \u001b[0m |\n",
            "| \u001b[0m89       \u001b[0m | \u001b[0m-1e+08   \u001b[0m | \u001b[0m0.0      \u001b[0m | \u001b[0m0.0      \u001b[0m | \u001b[0m-40.0    \u001b[0m | \u001b[0m-10.0    \u001b[0m |\n",
            "| \u001b[0m90       \u001b[0m | \u001b[0m-0.6931  \u001b[0m | \u001b[0m-30.69   \u001b[0m | \u001b[0m-31.8    \u001b[0m | \u001b[0m0.0      \u001b[0m | \u001b[0m0.0      \u001b[0m |\n",
            "| \u001b[0m91       \u001b[0m | \u001b[0m-470.2   \u001b[0m | \u001b[0m-40.0    \u001b[0m | \u001b[0m0.0      \u001b[0m | \u001b[0m-8.058   \u001b[0m | \u001b[0m-10.0    \u001b[0m |\n",
            "| \u001b[0m92       \u001b[0m | \u001b[0m-17.86   \u001b[0m | \u001b[0m-27.5    \u001b[0m | \u001b[0m-40.0    \u001b[0m | \u001b[0m-9.409   \u001b[0m | \u001b[0m0.0      \u001b[0m |\n",
            "| \u001b[0m93       \u001b[0m | \u001b[0m-0.693   \u001b[0m | \u001b[0m-40.0    \u001b[0m | \u001b[0m-11.03   \u001b[0m | \u001b[0m-6.001   \u001b[0m | \u001b[0m0.0      \u001b[0m |\n",
            "| \u001b[0m94       \u001b[0m | \u001b[0m-0.6931  \u001b[0m | \u001b[0m-10.1    \u001b[0m | \u001b[0m-40.0    \u001b[0m | \u001b[0m0.0      \u001b[0m | \u001b[0m0.0      \u001b[0m |\n",
            "| \u001b[0m95       \u001b[0m | \u001b[0m-267.6   \u001b[0m | \u001b[0m-39.12   \u001b[0m | \u001b[0m-1.233   \u001b[0m | \u001b[0m-27.89   \u001b[0m | \u001b[0m-0.9011  \u001b[0m |\n",
            "| \u001b[0m96       \u001b[0m | \u001b[0m-0.5473  \u001b[0m | \u001b[0m-9.26    \u001b[0m | \u001b[0m-40.0    \u001b[0m | \u001b[0m-22.1    \u001b[0m | \u001b[0m-10.0    \u001b[0m |\n",
            "| \u001b[0m97       \u001b[0m | \u001b[0m-32.44   \u001b[0m | \u001b[0m-20.91   \u001b[0m | \u001b[0m0.0      \u001b[0m | \u001b[0m-40.0    \u001b[0m | \u001b[0m-10.0    \u001b[0m |\n",
            "| \u001b[0m98       \u001b[0m | \u001b[0m-0.5725  \u001b[0m | \u001b[0m-40.0    \u001b[0m | \u001b[0m-22.37   \u001b[0m | \u001b[0m-40.0    \u001b[0m | \u001b[0m-10.0    \u001b[0m |\n",
            "| \u001b[0m99       \u001b[0m | \u001b[0m-0.5574  \u001b[0m | \u001b[0m-39.87   \u001b[0m | \u001b[0m-39.1    \u001b[0m | \u001b[0m-27.03   \u001b[0m | \u001b[0m-9.86    \u001b[0m |\n",
            "| \u001b[0m100      \u001b[0m | \u001b[0m-71.1    \u001b[0m | \u001b[0m-22.59   \u001b[0m | \u001b[0m-40.0    \u001b[0m | \u001b[0m-29.77   \u001b[0m | \u001b[0m0.0      \u001b[0m |\n",
            "=========================================================================\n",
            "CPU times: user 5min 35s, sys: 1min 40s, total: 7min 15s\n",
            "Wall time: 3min 41s\n"
          ]
        }
      ],
      "source": [
        "%%time\n",
        "vdekf_optimizer.maximize(\n",
        "    init_points=50,\n",
        "    n_iter=50,\n",
        ")"
      ]
    },
    {
      "cell_type": "markdown",
      "metadata": {
        "id": "i3Lb7EYQB0lR"
      },
      "source": [
        "## 4.2 Test Set Accuracy"
      ]
    },
    {
      "cell_type": "code",
      "source": [
        "vdekf_hparams = {\n",
        "    'initial_covariance': 0.00020758279367541816,\n",
        "    'dynamics_weights': 1.0,\n",
        "    'dynamics_covariance': 1.5181557590113835e-17,\n",
        "    'dynamics_covariance_inflation_factor': 2.3761628691388652e-09\n",
        "}"
      ],
      "metadata": {
        "id": "xeRrzbXJo_wT"
      },
      "execution_count": 24,
      "outputs": []
    },
    {
      "cell_type": "code",
      "execution_count": 25,
      "metadata": {
        "id": "_BKbfR8AB0lS"
      },
      "outputs": [],
      "source": [
        "# vdekf_hparams = hpt.get_best_params(vdekf_optimizer)\n",
        "vdekf_estimator = hpt.build_estimator(flat_params, vdekf_hparams, emission_mean_function,\n",
        "                                      emission_cov_function, method=\"vdekf\")"
      ]
    },
    {
      "cell_type": "code",
      "source": [
        "vdekf_hparams"
      ],
      "metadata": {
        "colab": {
          "base_uri": "https://localhost:8080/"
        },
        "id": "F62A5J-7C3c8",
        "outputId": "61a589e0-0d7d-4283-db5d-9098356f39de"
      },
      "execution_count": 26,
      "outputs": [
        {
          "output_type": "execute_result",
          "data": {
            "text/plain": [
              "{'initial_covariance': 0.00020758279367541816,\n",
              " 'dynamics_weights': 1.0,\n",
              " 'dynamics_covariance': 1.5181557590113835e-17,\n",
              " 'dynamics_covariance_inflation_factor': 2.3761628691388652e-09}"
            ]
          },
          "metadata": {},
          "execution_count": 26
        }
      ]
    },
    {
      "cell_type": "code",
      "execution_count": 27,
      "metadata": {
        "colab": {
          "base_uri": "https://localhost:8080/"
        },
        "id": "bWOCErk9B0lS",
        "outputId": "3db554ed-70ee-41c1-ed71-e08ade0faacf"
      },
      "outputs": [
        {
          "output_type": "stream",
          "name": "stderr",
          "text": [
            "100%|██████████| 10/10 [03:01<00:00, 18.16s/it]\n"
          ]
        }
      ],
      "source": [
        "vdekf_res = evaluate_model(vdekf_estimator)"
      ]
    },
    {
      "cell_type": "markdown",
      "metadata": {
        "id": "9UK1A_CGB0lS"
      },
      "source": [
        "# 5. LoFi-Orth"
      ]
    },
    {
      "cell_type": "markdown",
      "metadata": {
        "id": "YMoDiy2QB0lS"
      },
      "source": [
        "## 5.1 Hyperparam Tuning"
      ]
    },
    {
      "cell_type": "code",
      "execution_count": 28,
      "metadata": {
        "id": "okfqA0p7B0lS"
      },
      "outputs": [],
      "source": [
        "lofi_params_spherical = LoFiParams(\n",
        "    memory_size=20,\n",
        "    diagonal_covariance=False,\n",
        ")"
      ]
    },
    {
      "cell_type": "code",
      "execution_count": 382,
      "metadata": {
        "id": "ySieQmkuB0lS"
      },
      "outputs": [],
      "source": [
        "lofi_orth_optimizer, apply_fn, n_feats = hpt.create_optimizer(\n",
        "    model, pbounds, 314, train, val, emission_mean_function, emission_cov_function,\n",
        "    ll_callback, 'lofi_orth', params_lofi=lofi_params_spherical\n",
        ")"
      ]
    },
    {
      "cell_type": "code",
      "execution_count": 383,
      "metadata": {
        "colab": {
          "base_uri": "https://localhost:8080/"
        },
        "id": "iCCZIfOsB0lS",
        "outputId": "ab60375e-8dde-4115-e68e-dbddb51cf427"
      },
      "outputs": [
        {
          "output_type": "stream",
          "name": "stdout",
          "text": [
            "|   iter    |  target   | log_alpha | log_dy... | log_dy... | log_in... |\n",
            "-------------------------------------------------------------------------\n",
            "| \u001b[0m1        \u001b[0m | \u001b[0m-0.8774  \u001b[0m | \u001b[0m-3.325   \u001b[0m | \u001b[0m-16.46   \u001b[0m | \u001b[0m-29.4    \u001b[0m | \u001b[0m-2.168   \u001b[0m |\n",
            "| \u001b[0m2        \u001b[0m | \u001b[0m-271.5   \u001b[0m | \u001b[0m-3.28    \u001b[0m | \u001b[0m-6.906   \u001b[0m | \u001b[0m-10.88   \u001b[0m | \u001b[0m-7.395   \u001b[0m |\n",
            "| \u001b[95m3        \u001b[0m | \u001b[95m-0.7311  \u001b[0m | \u001b[95m-3.529   \u001b[0m | \u001b[95m-29.57   \u001b[0m | \u001b[95m-9.345   \u001b[0m | \u001b[95m-7.385   \u001b[0m |\n",
            "| \u001b[95m4        \u001b[0m | \u001b[95m-0.6931  \u001b[0m | \u001b[95m-35.11   \u001b[0m | \u001b[95m-24.56   \u001b[0m | \u001b[95m-6.397   \u001b[0m | \u001b[95m-7.218   \u001b[0m |\n",
            "| \u001b[0m5        \u001b[0m | \u001b[0m-1.331   \u001b[0m | \u001b[0m-37.2    \u001b[0m | \u001b[0m-14.68   \u001b[0m | \u001b[0m-16.61   \u001b[0m | \u001b[0m-4.188   \u001b[0m |\n",
            "| \u001b[0m6        \u001b[0m | \u001b[0m-1.366   \u001b[0m | \u001b[0m-12.91   \u001b[0m | \u001b[0m-12.51   \u001b[0m | \u001b[0m-22.44   \u001b[0m | \u001b[0m-6.791   \u001b[0m |\n",
            "| \u001b[0m7        \u001b[0m | \u001b[0m-0.6931  \u001b[0m | \u001b[0m-17.18   \u001b[0m | \u001b[0m-20.81   \u001b[0m | \u001b[0m-5.557   \u001b[0m | \u001b[0m-1.652   \u001b[0m |\n",
            "| \u001b[0m8        \u001b[0m | \u001b[0m-95.05   \u001b[0m | \u001b[0m-35.77   \u001b[0m | \u001b[0m-37.58   \u001b[0m | \u001b[0m-16.12   \u001b[0m | \u001b[0m-2.076   \u001b[0m |\n",
            "| \u001b[0m9        \u001b[0m | \u001b[0m-0.845   \u001b[0m | \u001b[0m-30.95   \u001b[0m | \u001b[0m-18.59   \u001b[0m | \u001b[0m-34.56   \u001b[0m | \u001b[0m-6.278   \u001b[0m |\n",
            "| \u001b[95m10       \u001b[0m | \u001b[95m-0.5476  \u001b[0m | \u001b[95m-33.92   \u001b[0m | \u001b[95m-22.81   \u001b[0m | \u001b[95m-8.292   \u001b[0m | \u001b[95m-5.93    \u001b[0m |\n",
            "| \u001b[0m11       \u001b[0m | \u001b[0m-54.12   \u001b[0m | \u001b[0m-32.89   \u001b[0m | \u001b[0m-3.63    \u001b[0m | \u001b[0m-18.19   \u001b[0m | \u001b[0m-8.995   \u001b[0m |\n",
            "| \u001b[0m12       \u001b[0m | \u001b[0m-44.19   \u001b[0m | \u001b[0m-11.25   \u001b[0m | \u001b[0m-0.8628  \u001b[0m | \u001b[0m-27.61   \u001b[0m | \u001b[0m-7.399   \u001b[0m |\n",
            "| \u001b[0m13       \u001b[0m | \u001b[0m-1.238   \u001b[0m | \u001b[0m-13.48   \u001b[0m | \u001b[0m-34.41   \u001b[0m | \u001b[0m-36.65   \u001b[0m | \u001b[0m-4.732   \u001b[0m |\n",
            "| \u001b[0m14       \u001b[0m | \u001b[0m-976.4   \u001b[0m | \u001b[0m-15.59   \u001b[0m | \u001b[0m-5.304   \u001b[0m | \u001b[0m-34.04   \u001b[0m | \u001b[0m-1.359   \u001b[0m |\n",
            "| \u001b[0m15       \u001b[0m | \u001b[0m-1.36    \u001b[0m | \u001b[0m-22.0    \u001b[0m | \u001b[0m-10.93   \u001b[0m | \u001b[0m-33.8    \u001b[0m | \u001b[0m-5.829   \u001b[0m |\n",
            "| \u001b[95m16       \u001b[0m | \u001b[95m-0.4927  \u001b[0m | \u001b[95m-34.3    \u001b[0m | \u001b[95m-26.43   \u001b[0m | \u001b[95m-11.89   \u001b[0m | \u001b[95m-9.229   \u001b[0m |\n",
            "| \u001b[0m17       \u001b[0m | \u001b[0m-53.52   \u001b[0m | \u001b[0m-37.18   \u001b[0m | \u001b[0m-0.7213  \u001b[0m | \u001b[0m-38.34   \u001b[0m | \u001b[0m-9.007   \u001b[0m |\n",
            "| \u001b[0m18       \u001b[0m | \u001b[0m-0.6931  \u001b[0m | \u001b[0m-31.18   \u001b[0m | \u001b[0m-13.6    \u001b[0m | \u001b[0m-0.1541  \u001b[0m | \u001b[0m-0.3022  \u001b[0m |\n",
            "| \u001b[0m19       \u001b[0m | \u001b[0m-1.902e+0\u001b[0m | \u001b[0m-12.94   \u001b[0m | \u001b[0m-0.06077 \u001b[0m | \u001b[0m-35.15   \u001b[0m | \u001b[0m-5.638   \u001b[0m |\n",
            "| \u001b[0m20       \u001b[0m | \u001b[0m-0.9757  \u001b[0m | \u001b[0m-33.31   \u001b[0m | \u001b[0m-18.11   \u001b[0m | \u001b[0m-9.157   \u001b[0m | \u001b[0m-4.336   \u001b[0m |\n",
            "| \u001b[0m21       \u001b[0m | \u001b[0m-4.63    \u001b[0m | \u001b[0m-27.74   \u001b[0m | \u001b[0m-0.8882  \u001b[0m | \u001b[0m-4.452   \u001b[0m | \u001b[0m-7.633   \u001b[0m |\n",
            "| \u001b[0m22       \u001b[0m | \u001b[0m-0.6931  \u001b[0m | \u001b[0m-12.58   \u001b[0m | \u001b[0m-36.7    \u001b[0m | \u001b[0m-5.273   \u001b[0m | \u001b[0m-6.59    \u001b[0m |\n",
            "| \u001b[0m23       \u001b[0m | \u001b[0m-0.6922  \u001b[0m | \u001b[0m-14.74   \u001b[0m | \u001b[0m-25.22   \u001b[0m | \u001b[0m-7.529   \u001b[0m | \u001b[0m-6.144   \u001b[0m |\n",
            "| \u001b[0m24       \u001b[0m | \u001b[0m-0.6952  \u001b[0m | \u001b[0m-21.23   \u001b[0m | \u001b[0m-31.49   \u001b[0m | \u001b[0m-31.5    \u001b[0m | \u001b[0m-6.877   \u001b[0m |\n",
            "| \u001b[0m25       \u001b[0m | \u001b[0m-27.99   \u001b[0m | \u001b[0m-18.41   \u001b[0m | \u001b[0m-6.95    \u001b[0m | \u001b[0m-13.72   \u001b[0m | \u001b[0m-5.69    \u001b[0m |\n",
            "| \u001b[0m26       \u001b[0m | \u001b[0m-1.194   \u001b[0m | \u001b[0m-6.284   \u001b[0m | \u001b[0m-35.38   \u001b[0m | \u001b[0m-19.55   \u001b[0m | \u001b[0m-2.765   \u001b[0m |\n",
            "| \u001b[0m27       \u001b[0m | \u001b[0m-1.292   \u001b[0m | \u001b[0m-38.55   \u001b[0m | \u001b[0m-12.87   \u001b[0m | \u001b[0m-28.82   \u001b[0m | \u001b[0m-8.103   \u001b[0m |\n",
            "| \u001b[0m28       \u001b[0m | \u001b[0m-1.309   \u001b[0m | \u001b[0m-24.51   \u001b[0m | \u001b[0m-18.24   \u001b[0m | \u001b[0m-32.42   \u001b[0m | \u001b[0m-4.209   \u001b[0m |\n",
            "| \u001b[0m29       \u001b[0m | \u001b[0m-1.356   \u001b[0m | \u001b[0m-29.01   \u001b[0m | \u001b[0m-14.26   \u001b[0m | \u001b[0m-37.07   \u001b[0m | \u001b[0m-3.494   \u001b[0m |\n",
            "| \u001b[0m30       \u001b[0m | \u001b[0m-0.9272  \u001b[0m | \u001b[0m-3.589   \u001b[0m | \u001b[0m-14.74   \u001b[0m | \u001b[0m-18.65   \u001b[0m | \u001b[0m-1.161   \u001b[0m |\n",
            "| \u001b[0m31       \u001b[0m | \u001b[0m-0.5601  \u001b[0m | \u001b[0m-14.72   \u001b[0m | \u001b[0m-33.4    \u001b[0m | \u001b[0m-29.6    \u001b[0m | \u001b[0m-9.884   \u001b[0m |\n",
            "| \u001b[0m32       \u001b[0m | \u001b[0m-10.32   \u001b[0m | \u001b[0m-0.2037  \u001b[0m | \u001b[0m-7.485   \u001b[0m | \u001b[0m-7.632   \u001b[0m | \u001b[0m-1.068   \u001b[0m |\n",
            "| \u001b[0m33       \u001b[0m | \u001b[0m-0.6931  \u001b[0m | \u001b[0m-30.93   \u001b[0m | \u001b[0m-18.67   \u001b[0m | \u001b[0m-2.163   \u001b[0m | \u001b[0m-7.967   \u001b[0m |\n",
            "| \u001b[0m34       \u001b[0m | \u001b[0m-2.949e+0\u001b[0m | \u001b[0m-5.548   \u001b[0m | \u001b[0m-4.321   \u001b[0m | \u001b[0m-17.0    \u001b[0m | \u001b[0m-9.934   \u001b[0m |\n",
            "| \u001b[0m35       \u001b[0m | \u001b[0m-30.14   \u001b[0m | \u001b[0m-8.735   \u001b[0m | \u001b[0m-8.361   \u001b[0m | \u001b[0m-13.89   \u001b[0m | \u001b[0m-4.914   \u001b[0m |\n",
            "| \u001b[0m36       \u001b[0m | \u001b[0m-0.7311  \u001b[0m | \u001b[0m-1.607   \u001b[0m | \u001b[0m-19.02   \u001b[0m | \u001b[0m-27.5    \u001b[0m | \u001b[0m-6.995   \u001b[0m |\n",
            "| \u001b[0m37       \u001b[0m | \u001b[0m-682.0   \u001b[0m | \u001b[0m-3.691   \u001b[0m | \u001b[0m-7.406   \u001b[0m | \u001b[0m-22.67   \u001b[0m | \u001b[0m-3.497   \u001b[0m |\n",
            "| \u001b[0m38       \u001b[0m | \u001b[0m-2.01    \u001b[0m | \u001b[0m-10.84   \u001b[0m | \u001b[0m-21.21   \u001b[0m | \u001b[0m-13.52   \u001b[0m | \u001b[0m-2.857   \u001b[0m |\n",
            "| \u001b[95m39       \u001b[0m | \u001b[95m-0.4219  \u001b[0m | \u001b[95m-19.86   \u001b[0m | \u001b[95m-38.73   \u001b[0m | \u001b[95m-37.56   \u001b[0m | \u001b[95m-8.48    \u001b[0m |\n",
            "| \u001b[0m40       \u001b[0m | \u001b[0m-1.172   \u001b[0m | \u001b[0m-37.66   \u001b[0m | \u001b[0m-10.6    \u001b[0m | \u001b[0m-36.66   \u001b[0m | \u001b[0m-8.16    \u001b[0m |\n",
            "| \u001b[0m41       \u001b[0m | \u001b[0m-1.594   \u001b[0m | \u001b[0m-38.67   \u001b[0m | \u001b[0m-19.73   \u001b[0m | \u001b[0m-21.96   \u001b[0m | \u001b[0m-3.031   \u001b[0m |\n",
            "| \u001b[0m42       \u001b[0m | \u001b[0m-0.6931  \u001b[0m | \u001b[0m-14.82   \u001b[0m | \u001b[0m-18.42   \u001b[0m | \u001b[0m-6.447   \u001b[0m | \u001b[0m-2.425   \u001b[0m |\n",
            "| \u001b[0m43       \u001b[0m | \u001b[0m-72.7    \u001b[0m | \u001b[0m-33.26   \u001b[0m | \u001b[0m-9.006   \u001b[0m | \u001b[0m-25.96   \u001b[0m | \u001b[0m-1.252   \u001b[0m |\n",
            "| \u001b[0m44       \u001b[0m | \u001b[0m-548.8   \u001b[0m | \u001b[0m-9.092   \u001b[0m | \u001b[0m-6.162   \u001b[0m | \u001b[0m-12.5    \u001b[0m | \u001b[0m-3.962   \u001b[0m |\n",
            "| \u001b[0m45       \u001b[0m | \u001b[0m-0.6931  \u001b[0m | \u001b[0m-19.49   \u001b[0m | \u001b[0m-34.39   \u001b[0m | \u001b[0m-3.042   \u001b[0m | \u001b[0m-1.253   \u001b[0m |\n",
            "| \u001b[0m46       \u001b[0m | \u001b[0m-86.67   \u001b[0m | \u001b[0m-31.01   \u001b[0m | \u001b[0m-3.384   \u001b[0m | \u001b[0m-36.65   \u001b[0m | \u001b[0m-7.443   \u001b[0m |\n",
            "| \u001b[0m47       \u001b[0m | \u001b[0m-0.6931  \u001b[0m | \u001b[0m-35.62   \u001b[0m | \u001b[0m-27.04   \u001b[0m | \u001b[0m-7.605   \u001b[0m | \u001b[0m-9.977   \u001b[0m |\n",
            "| \u001b[0m48       \u001b[0m | \u001b[0m-1.004   \u001b[0m | \u001b[0m-30.7    \u001b[0m | \u001b[0m-38.22   \u001b[0m | \u001b[0m-25.6    \u001b[0m | \u001b[0m-5.262   \u001b[0m |\n",
            "| \u001b[0m49       \u001b[0m | \u001b[0m-14.21   \u001b[0m | \u001b[0m-11.91   \u001b[0m | \u001b[0m-8.632   \u001b[0m | \u001b[0m-18.34   \u001b[0m | \u001b[0m-9.985   \u001b[0m |\n",
            "| \u001b[0m50       \u001b[0m | \u001b[0m-70.84   \u001b[0m | \u001b[0m-28.73   \u001b[0m | \u001b[0m-3.236   \u001b[0m | \u001b[0m-21.08   \u001b[0m | \u001b[0m-4.687   \u001b[0m |\n",
            "| \u001b[0m51       \u001b[0m | \u001b[0m-0.7219  \u001b[0m | \u001b[0m-4.848   \u001b[0m | \u001b[0m-30.46   \u001b[0m | \u001b[0m-9.423   \u001b[0m | \u001b[0m-7.314   \u001b[0m |\n",
            "| \u001b[0m52       \u001b[0m | \u001b[0m-1.191   \u001b[0m | \u001b[0m-11.86   \u001b[0m | \u001b[0m-13.38   \u001b[0m | \u001b[0m-14.41   \u001b[0m | \u001b[0m-5.907   \u001b[0m |\n",
            "| \u001b[0m53       \u001b[0m | \u001b[0m-1.062   \u001b[0m | \u001b[0m-5.381   \u001b[0m | \u001b[0m-13.63   \u001b[0m | \u001b[0m-10.8    \u001b[0m | \u001b[0m-3.556   \u001b[0m |\n",
            "| \u001b[0m54       \u001b[0m | \u001b[0m-120.0   \u001b[0m | \u001b[0m-18.23   \u001b[0m | \u001b[0m-7.569   \u001b[0m | \u001b[0m-21.47   \u001b[0m | \u001b[0m-8.934   \u001b[0m |\n",
            "| \u001b[0m55       \u001b[0m | \u001b[0m-1.569   \u001b[0m | \u001b[0m-29.25   \u001b[0m | \u001b[0m-11.86   \u001b[0m | \u001b[0m-30.41   \u001b[0m | \u001b[0m-9.255   \u001b[0m |\n",
            "| \u001b[0m56       \u001b[0m | \u001b[0m-1.255   \u001b[0m | \u001b[0m-6.349   \u001b[0m | \u001b[0m-22.75   \u001b[0m | \u001b[0m-22.05   \u001b[0m | \u001b[0m-2.625   \u001b[0m |\n",
            "| \u001b[0m57       \u001b[0m | \u001b[0m-152.0   \u001b[0m | \u001b[0m-12.38   \u001b[0m | \u001b[0m-31.37   \u001b[0m | \u001b[0m-11.77   \u001b[0m | \u001b[0m-1.031   \u001b[0m |\n",
            "| \u001b[0m58       \u001b[0m | \u001b[0m-0.8316  \u001b[0m | \u001b[0m-30.86   \u001b[0m | \u001b[0m-17.67   \u001b[0m | \u001b[0m-24.04   \u001b[0m | \u001b[0m-6.307   \u001b[0m |\n",
            "| \u001b[0m59       \u001b[0m | \u001b[0m-0.9278  \u001b[0m | \u001b[0m-27.2    \u001b[0m | \u001b[0m-10.68   \u001b[0m | \u001b[0m-6.809   \u001b[0m | \u001b[0m-5.599   \u001b[0m |\n",
            "| \u001b[0m60       \u001b[0m | \u001b[0m-0.471   \u001b[0m | \u001b[0m-24.08   \u001b[0m | \u001b[0m-19.57   \u001b[0m | \u001b[0m-9.213   \u001b[0m | \u001b[0m-7.011   \u001b[0m |\n",
            "| \u001b[0m61       \u001b[0m | \u001b[0m-1.197   \u001b[0m | \u001b[0m-28.21   \u001b[0m | \u001b[0m-13.15   \u001b[0m | \u001b[0m-16.61   \u001b[0m | \u001b[0m-6.79    \u001b[0m |\n",
            "| \u001b[0m62       \u001b[0m | \u001b[0m-1.974   \u001b[0m | \u001b[0m-29.91   \u001b[0m | \u001b[0m-21.62   \u001b[0m | \u001b[0m-16.73   \u001b[0m | \u001b[0m-2.373   \u001b[0m |\n",
            "| \u001b[0m63       \u001b[0m | \u001b[0m-203.3   \u001b[0m | \u001b[0m-23.57   \u001b[0m | \u001b[0m-14.99   \u001b[0m | \u001b[0m-12.12   \u001b[0m | \u001b[0m0.0      \u001b[0m |\n",
            "| \u001b[0m64       \u001b[0m | \u001b[0m-0.6931  \u001b[0m | \u001b[0m-25.6    \u001b[0m | \u001b[0m-27.85   \u001b[0m | \u001b[0m-5.751   \u001b[0m | \u001b[0m-5.841   \u001b[0m |\n",
            "| \u001b[0m65       \u001b[0m | \u001b[0m-0.727   \u001b[0m | \u001b[0m-0.8353  \u001b[0m | \u001b[0m-11.09   \u001b[0m | \u001b[0m-4.184   \u001b[0m | \u001b[0m-8.062   \u001b[0m |\n",
            "| \u001b[0m66       \u001b[0m | \u001b[0m-0.6931  \u001b[0m | \u001b[0m-22.6    \u001b[0m | \u001b[0m-16.32   \u001b[0m | \u001b[0m-0.2868  \u001b[0m | \u001b[0m-5.387   \u001b[0m |\n",
            "| \u001b[0m67       \u001b[0m | \u001b[0m-0.6931  \u001b[0m | \u001b[0m-28.68   \u001b[0m | \u001b[0m-23.33   \u001b[0m | \u001b[0m-1.541   \u001b[0m | \u001b[0m-0.3063  \u001b[0m |\n",
            "| \u001b[0m68       \u001b[0m | \u001b[0m-0.9992  \u001b[0m | \u001b[0m-10.38   \u001b[0m | \u001b[0m-25.54   \u001b[0m | \u001b[0m-30.21   \u001b[0m | \u001b[0m-5.338   \u001b[0m |\n",
            "| \u001b[0m69       \u001b[0m | \u001b[0m-66.02   \u001b[0m | \u001b[0m-12.97   \u001b[0m | \u001b[0m-32.99   \u001b[0m | \u001b[0m-27.04   \u001b[0m | \u001b[0m-1.271   \u001b[0m |\n",
            "| \u001b[0m70       \u001b[0m | \u001b[0m-0.5545  \u001b[0m | \u001b[0m-8.828   \u001b[0m | \u001b[0m-28.83   \u001b[0m | \u001b[0m-21.64   \u001b[0m | \u001b[0m-9.367   \u001b[0m |\n",
            "| \u001b[0m71       \u001b[0m | \u001b[0m-0.7392  \u001b[0m | \u001b[0m-16.22   \u001b[0m | \u001b[0m-23.22   \u001b[0m | \u001b[0m-23.14   \u001b[0m | \u001b[0m-6.692   \u001b[0m |\n",
            "| \u001b[0m72       \u001b[0m | \u001b[0m-0.8968  \u001b[0m | \u001b[0m-26.31   \u001b[0m | \u001b[0m-26.81   \u001b[0m | \u001b[0m-24.09   \u001b[0m | \u001b[0m-6.028   \u001b[0m |\n",
            "| \u001b[0m73       \u001b[0m | \u001b[0m-0.4784  \u001b[0m | \u001b[0m-22.5    \u001b[0m | \u001b[0m-26.55   \u001b[0m | \u001b[0m-15.35   \u001b[0m | \u001b[0m-7.861   \u001b[0m |\n",
            "| \u001b[0m74       \u001b[0m | \u001b[0m-0.4305  \u001b[0m | \u001b[0m-21.01   \u001b[0m | \u001b[0m-33.59   \u001b[0m | \u001b[0m-22.58   \u001b[0m | \u001b[0m-8.26    \u001b[0m |\n",
            "| \u001b[0m75       \u001b[0m | \u001b[0m-0.5457  \u001b[0m | \u001b[0m-23.14   \u001b[0m | \u001b[0m-19.04   \u001b[0m | \u001b[0m-20.39   \u001b[0m | \u001b[0m-10.0    \u001b[0m |\n",
            "| \u001b[0m76       \u001b[0m | \u001b[0m-0.6931  \u001b[0m | \u001b[0m-19.76   \u001b[0m | \u001b[0m-25.01   \u001b[0m | \u001b[0m0.0      \u001b[0m | \u001b[0m-8.205   \u001b[0m |\n",
            "| \u001b[0m77       \u001b[0m | \u001b[0m-0.5727  \u001b[0m | \u001b[0m-18.77   \u001b[0m | \u001b[0m-22.85   \u001b[0m | \u001b[0m-31.28   \u001b[0m | \u001b[0m-10.0    \u001b[0m |\n",
            "| \u001b[0m78       \u001b[0m | \u001b[0m-0.5733  \u001b[0m | \u001b[0m-34.27   \u001b[0m | \u001b[0m-24.7    \u001b[0m | \u001b[0m-21.28   \u001b[0m | \u001b[0m-10.0    \u001b[0m |\n",
            "| \u001b[0m79       \u001b[0m | \u001b[0m-0.717   \u001b[0m | \u001b[0m-1.968   \u001b[0m | \u001b[0m-29.56   \u001b[0m | \u001b[0m-26.87   \u001b[0m | \u001b[0m-5.013   \u001b[0m |\n",
            "| \u001b[0m80       \u001b[0m | \u001b[0m-0.7328  \u001b[0m | \u001b[0m-0.2724  \u001b[0m | \u001b[0m-27.66   \u001b[0m | \u001b[0m-18.16   \u001b[0m | \u001b[0m-6.5     \u001b[0m |\n",
            "| \u001b[0m81       \u001b[0m | \u001b[0m-4.166   \u001b[0m | \u001b[0m-2.369   \u001b[0m | \u001b[0m-22.52   \u001b[0m | \u001b[0m-13.25   \u001b[0m | \u001b[0m-0.2723  \u001b[0m |\n",
            "| \u001b[0m82       \u001b[0m | \u001b[0m-0.7267  \u001b[0m | \u001b[0m-5.84    \u001b[0m | \u001b[0m-22.1    \u001b[0m | \u001b[0m-15.14   \u001b[0m | \u001b[0m-10.0    \u001b[0m |\n",
            "| \u001b[0m83       \u001b[0m | \u001b[0m-0.5734  \u001b[0m | \u001b[0m-29.37   \u001b[0m | \u001b[0m-32.85   \u001b[0m | \u001b[0m-18.27   \u001b[0m | \u001b[0m-10.0    \u001b[0m |\n",
            "| \u001b[0m84       \u001b[0m | \u001b[0m-0.5734  \u001b[0m | \u001b[0m-31.17   \u001b[0m | \u001b[0m-30.75   \u001b[0m | \u001b[0m-29.68   \u001b[0m | \u001b[0m-10.0    \u001b[0m |\n",
            "| \u001b[0m85       \u001b[0m | \u001b[0m-1.128   \u001b[0m | \u001b[0m-34.4    \u001b[0m | \u001b[0m-28.86   \u001b[0m | \u001b[0m-26.04   \u001b[0m | \u001b[0m-2.454   \u001b[0m |\n",
            "| \u001b[0m86       \u001b[0m | \u001b[0m-0.6796  \u001b[0m | \u001b[0m-20.56   \u001b[0m | \u001b[0m-34.14   \u001b[0m | \u001b[0m-9.056   \u001b[0m | \u001b[0m-10.0    \u001b[0m |\n",
            "| \u001b[0m87       \u001b[0m | \u001b[0m-0.4409  \u001b[0m | \u001b[0m-37.86   \u001b[0m | \u001b[0m-23.05   \u001b[0m | \u001b[0m-30.47   \u001b[0m | \u001b[0m-8.133   \u001b[0m |\n",
            "| \u001b[0m88       \u001b[0m | \u001b[0m-56.7    \u001b[0m | \u001b[0m-26.84   \u001b[0m | \u001b[0m-31.25   \u001b[0m | \u001b[0m-14.39   \u001b[0m | \u001b[0m-1.315   \u001b[0m |\n",
            "| \u001b[0m89       \u001b[0m | \u001b[0m-0.5986  \u001b[0m | \u001b[0m-23.49   \u001b[0m | \u001b[0m-15.89   \u001b[0m | \u001b[0m-39.48   \u001b[0m | \u001b[0m-9.908   \u001b[0m |\n",
            "| \u001b[0m90       \u001b[0m | \u001b[0m-117.3   \u001b[0m | \u001b[0m-28.85   \u001b[0m | \u001b[0m-27.59   \u001b[0m | \u001b[0m-34.01   \u001b[0m | \u001b[0m-2.128   \u001b[0m |\n",
            "| \u001b[0m91       \u001b[0m | \u001b[0m-0.5659  \u001b[0m | \u001b[0m-38.42   \u001b[0m | \u001b[0m-33.18   \u001b[0m | \u001b[0m-24.03   \u001b[0m | \u001b[0m-9.934   \u001b[0m |\n",
            "| \u001b[0m92       \u001b[0m | \u001b[0m-0.5734  \u001b[0m | \u001b[0m-17.5    \u001b[0m | \u001b[0m-28.33   \u001b[0m | \u001b[0m-39.32   \u001b[0m | \u001b[0m-10.0    \u001b[0m |\n",
            "| \u001b[0m93       \u001b[0m | \u001b[0m-0.6932  \u001b[0m | \u001b[0m-6.689   \u001b[0m | \u001b[0m-21.19   \u001b[0m | \u001b[0m-4.659   \u001b[0m | \u001b[0m-8.354   \u001b[0m |\n",
            "| \u001b[0m94       \u001b[0m | \u001b[0m-0.6931  \u001b[0m | \u001b[0m-10.72   \u001b[0m | \u001b[0m-28.65   \u001b[0m | \u001b[0m0.0      \u001b[0m | \u001b[0m-4.712   \u001b[0m |\n",
            "| \u001b[0m95       \u001b[0m | \u001b[0m-0.7211  \u001b[0m | \u001b[0m-36.09   \u001b[0m | \u001b[0m-9.285   \u001b[0m | \u001b[0m-5.38    \u001b[0m | \u001b[0m-7.267   \u001b[0m |\n",
            "| \u001b[0m96       \u001b[0m | \u001b[0m-0.6931  \u001b[0m | \u001b[0m-20.53   \u001b[0m | \u001b[0m-37.22   \u001b[0m | \u001b[0m-0.1518  \u001b[0m | \u001b[0m-9.454   \u001b[0m |\n",
            "| \u001b[0m97       \u001b[0m | \u001b[0m-0.6931  \u001b[0m | \u001b[0m-14.2    \u001b[0m | \u001b[0m-17.4    \u001b[0m | \u001b[0m-0.8339  \u001b[0m | \u001b[0m-10.0    \u001b[0m |\n",
            "| \u001b[0m98       \u001b[0m | \u001b[0m-3.154e+0\u001b[0m | \u001b[0m-38.27   \u001b[0m | \u001b[0m-17.31   \u001b[0m | \u001b[0m-32.16   \u001b[0m | \u001b[0m-0.2343  \u001b[0m |\n",
            "| \u001b[0m99       \u001b[0m | \u001b[0m-28.99   \u001b[0m | \u001b[0m-38.28   \u001b[0m | \u001b[0m-4.807   \u001b[0m | \u001b[0m-27.54   \u001b[0m | \u001b[0m-9.846   \u001b[0m |\n",
            "| \u001b[0m100      \u001b[0m | \u001b[0m-0.5542  \u001b[0m | \u001b[0m-26.39   \u001b[0m | \u001b[0m-23.5    \u001b[0m | \u001b[0m-35.75   \u001b[0m | \u001b[0m-9.837   \u001b[0m |\n",
            "=========================================================================\n",
            "CPU times: user 15min 42s, sys: 1min 42s, total: 17min 25s\n",
            "Wall time: 13min 27s\n"
          ]
        }
      ],
      "source": [
        "%%time\n",
        "lofi_orth_optimizer.maximize(\n",
        "    init_points=50,\n",
        "    n_iter=50,\n",
        ")"
      ]
    },
    {
      "cell_type": "markdown",
      "metadata": {
        "id": "xzhDvkJtB0lS"
      },
      "source": [
        "## 5.2 Test Set Accuracy"
      ]
    },
    {
      "cell_type": "code",
      "source": [
        "lofi_orth_hparams = {\n",
        "    'initial_covariance': 0.00020758279367541816,\n",
        "    'dynamics_weights': 1.0,\n",
        "    'dynamics_covariance': 1.5181557590113835e-17,\n",
        "    'dynamics_covariance_inflation_factor': 2.3761628691388652e-09\n",
        "}"
      ],
      "metadata": {
        "id": "Z1KOGHuKpKHX"
      },
      "execution_count": 29,
      "outputs": []
    },
    {
      "cell_type": "code",
      "execution_count": 30,
      "metadata": {
        "id": "W0YMG2_yB0lS"
      },
      "outputs": [],
      "source": [
        "# lofi_orth_hparams = hpt.get_best_params(lofi_orth_optimizer)\n",
        "lofi_orth_estimator = hpt.build_estimator(flat_params, lofi_orth_hparams, emission_mean_function,\n",
        "                                          emission_cov_function, method=\"lofi_orth\", \n",
        "                                          lofi_params=lofi_params_spherical)"
      ]
    },
    {
      "cell_type": "code",
      "source": [
        "lofi_orth_hparams"
      ],
      "metadata": {
        "colab": {
          "base_uri": "https://localhost:8080/"
        },
        "id": "hDQ_SJ-5C59r",
        "outputId": "30e5f6f9-da9a-4c7a-edb4-ce361ab20eb3"
      },
      "execution_count": 31,
      "outputs": [
        {
          "output_type": "execute_result",
          "data": {
            "text/plain": [
              "{'initial_covariance': 0.00020758279367541816,\n",
              " 'dynamics_weights': 1.0,\n",
              " 'dynamics_covariance': 1.5181557590113835e-17,\n",
              " 'dynamics_covariance_inflation_factor': 2.3761628691388652e-09}"
            ]
          },
          "metadata": {},
          "execution_count": 31
        }
      ]
    },
    {
      "cell_type": "code",
      "execution_count": 32,
      "metadata": {
        "colab": {
          "base_uri": "https://localhost:8080/"
        },
        "id": "wZ83Pl6dB0lS",
        "outputId": "3208a201-518e-4703-a842-a737fe78f9dc"
      },
      "outputs": [
        {
          "output_type": "stream",
          "name": "stderr",
          "text": [
            "100%|██████████| 10/10 [03:50<00:00, 23.06s/it]\n"
          ]
        }
      ],
      "source": [
        "lofi_orth_res = evaluate_model(lofi_orth_estimator)"
      ]
    },
    {
      "cell_type": "markdown",
      "metadata": {
        "id": "6pBaqlBNB0lS"
      },
      "source": [
        "# 6. LoFi-Spherical"
      ]
    },
    {
      "cell_type": "markdown",
      "metadata": {
        "id": "8j64ay5RB0lS"
      },
      "source": [
        "## 6.1 Hyperparam Tuning"
      ]
    },
    {
      "cell_type": "code",
      "execution_count": 388,
      "metadata": {
        "id": "lsbPkekYB0lS"
      },
      "outputs": [],
      "source": [
        "lofi_sph_optimizer, apply_fn, n_feats = hpt.create_optimizer(\n",
        "    model, pbounds, 314, train, val, emission_mean_function, emission_cov_function,\n",
        "    ll_callback, 'lofi', params_lofi=lofi_params_spherical\n",
        ")"
      ]
    },
    {
      "cell_type": "code",
      "execution_count": 389,
      "metadata": {
        "colab": {
          "base_uri": "https://localhost:8080/"
        },
        "id": "lzLv_fiEB0lS",
        "outputId": "1536fb74-c4dd-4745-bcdd-fc32861cc4bb"
      },
      "outputs": [
        {
          "output_type": "stream",
          "name": "stdout",
          "text": [
            "|   iter    |  target   | log_alpha | log_dy... | log_dy... | log_in... |\n",
            "-------------------------------------------------------------------------\n",
            "| \u001b[0m1        \u001b[0m | \u001b[0m-0.9449  \u001b[0m | \u001b[0m-3.325   \u001b[0m | \u001b[0m-16.46   \u001b[0m | \u001b[0m-29.4    \u001b[0m | \u001b[0m-2.168   \u001b[0m |\n",
            "| \u001b[0m2        \u001b[0m | \u001b[0m-282.0   \u001b[0m | \u001b[0m-3.28    \u001b[0m | \u001b[0m-6.906   \u001b[0m | \u001b[0m-10.88   \u001b[0m | \u001b[0m-7.395   \u001b[0m |\n",
            "| \u001b[95m3        \u001b[0m | \u001b[95m-0.731   \u001b[0m | \u001b[95m-3.529   \u001b[0m | \u001b[95m-29.57   \u001b[0m | \u001b[95m-9.345   \u001b[0m | \u001b[95m-7.385   \u001b[0m |\n",
            "| \u001b[95m4        \u001b[0m | \u001b[95m-0.6931  \u001b[0m | \u001b[95m-35.11   \u001b[0m | \u001b[95m-24.56   \u001b[0m | \u001b[95m-6.397   \u001b[0m | \u001b[95m-7.218   \u001b[0m |\n",
            "| \u001b[0m5        \u001b[0m | \u001b[0m-0.867   \u001b[0m | \u001b[0m-37.2    \u001b[0m | \u001b[0m-14.68   \u001b[0m | \u001b[0m-16.61   \u001b[0m | \u001b[0m-4.188   \u001b[0m |\n",
            "| \u001b[0m6        \u001b[0m | \u001b[0m-0.9773  \u001b[0m | \u001b[0m-12.91   \u001b[0m | \u001b[0m-12.51   \u001b[0m | \u001b[0m-22.44   \u001b[0m | \u001b[0m-6.791   \u001b[0m |\n",
            "| \u001b[0m7        \u001b[0m | \u001b[0m-0.6931  \u001b[0m | \u001b[0m-17.18   \u001b[0m | \u001b[0m-20.81   \u001b[0m | \u001b[0m-5.557   \u001b[0m | \u001b[0m-1.652   \u001b[0m |\n",
            "| \u001b[0m8        \u001b[0m | \u001b[0m-128.9   \u001b[0m | \u001b[0m-35.77   \u001b[0m | \u001b[0m-37.58   \u001b[0m | \u001b[0m-16.12   \u001b[0m | \u001b[0m-2.076   \u001b[0m |\n",
            "| \u001b[95m9        \u001b[0m | \u001b[95m-0.503   \u001b[0m | \u001b[95m-30.95   \u001b[0m | \u001b[95m-18.59   \u001b[0m | \u001b[95m-34.56   \u001b[0m | \u001b[95m-6.278   \u001b[0m |\n",
            "| \u001b[0m10       \u001b[0m | \u001b[0m-0.6246  \u001b[0m | \u001b[0m-33.92   \u001b[0m | \u001b[0m-22.81   \u001b[0m | \u001b[0m-8.292   \u001b[0m | \u001b[0m-5.93    \u001b[0m |\n",
            "| \u001b[0m11       \u001b[0m | \u001b[0m-3.814e+0\u001b[0m | \u001b[0m-32.89   \u001b[0m | \u001b[0m-3.63    \u001b[0m | \u001b[0m-18.19   \u001b[0m | \u001b[0m-8.995   \u001b[0m |\n",
            "| \u001b[0m12       \u001b[0m | \u001b[0m-5.003e+0\u001b[0m | \u001b[0m-11.25   \u001b[0m | \u001b[0m-0.8628  \u001b[0m | \u001b[0m-27.61   \u001b[0m | \u001b[0m-7.399   \u001b[0m |\n",
            "| \u001b[0m13       \u001b[0m | \u001b[0m-0.7968  \u001b[0m | \u001b[0m-13.48   \u001b[0m | \u001b[0m-34.41   \u001b[0m | \u001b[0m-36.65   \u001b[0m | \u001b[0m-4.732   \u001b[0m |\n",
            "| \u001b[0m14       \u001b[0m | \u001b[0m-5.901e+0\u001b[0m | \u001b[0m-15.59   \u001b[0m | \u001b[0m-5.304   \u001b[0m | \u001b[0m-34.04   \u001b[0m | \u001b[0m-1.359   \u001b[0m |\n",
            "| \u001b[0m15       \u001b[0m | \u001b[0m-1.267   \u001b[0m | \u001b[0m-22.0    \u001b[0m | \u001b[0m-10.93   \u001b[0m | \u001b[0m-33.8    \u001b[0m | \u001b[0m-5.829   \u001b[0m |\n",
            "| \u001b[0m16       \u001b[0m | \u001b[0m-0.523   \u001b[0m | \u001b[0m-34.3    \u001b[0m | \u001b[0m-26.43   \u001b[0m | \u001b[0m-11.89   \u001b[0m | \u001b[0m-9.229   \u001b[0m |\n",
            "| \u001b[0m17       \u001b[0m | \u001b[0m-2.214e+0\u001b[0m | \u001b[0m-37.18   \u001b[0m | \u001b[0m-0.7213  \u001b[0m | \u001b[0m-38.34   \u001b[0m | \u001b[0m-9.007   \u001b[0m |\n",
            "| \u001b[0m18       \u001b[0m | \u001b[0m-0.6931  \u001b[0m | \u001b[0m-31.18   \u001b[0m | \u001b[0m-13.6    \u001b[0m | \u001b[0m-0.1541  \u001b[0m | \u001b[0m-0.3022  \u001b[0m |\n",
            "| \u001b[0m19       \u001b[0m | \u001b[0m-1.295e+0\u001b[0m | \u001b[0m-12.94   \u001b[0m | \u001b[0m-0.06077 \u001b[0m | \u001b[0m-35.15   \u001b[0m | \u001b[0m-5.638   \u001b[0m |\n",
            "| \u001b[0m20       \u001b[0m | \u001b[0m-0.7598  \u001b[0m | \u001b[0m-33.31   \u001b[0m | \u001b[0m-18.11   \u001b[0m | \u001b[0m-9.157   \u001b[0m | \u001b[0m-4.336   \u001b[0m |\n",
            "| \u001b[0m21       \u001b[0m | \u001b[0m-0.8816  \u001b[0m | \u001b[0m-27.74   \u001b[0m | \u001b[0m-0.8882  \u001b[0m | \u001b[0m-4.452   \u001b[0m | \u001b[0m-7.633   \u001b[0m |\n",
            "| \u001b[0m22       \u001b[0m | \u001b[0m-0.6931  \u001b[0m | \u001b[0m-12.58   \u001b[0m | \u001b[0m-36.7    \u001b[0m | \u001b[0m-5.273   \u001b[0m | \u001b[0m-6.59    \u001b[0m |\n",
            "| \u001b[0m23       \u001b[0m | \u001b[0m-0.6928  \u001b[0m | \u001b[0m-14.74   \u001b[0m | \u001b[0m-25.22   \u001b[0m | \u001b[0m-7.529   \u001b[0m | \u001b[0m-6.144   \u001b[0m |\n",
            "| \u001b[95m24       \u001b[0m | \u001b[95m-0.4276  \u001b[0m | \u001b[95m-21.23   \u001b[0m | \u001b[95m-31.49   \u001b[0m | \u001b[95m-31.5    \u001b[0m | \u001b[95m-6.877   \u001b[0m |\n",
            "| \u001b[0m25       \u001b[0m | \u001b[0m-805.1   \u001b[0m | \u001b[0m-18.41   \u001b[0m | \u001b[0m-6.95    \u001b[0m | \u001b[0m-13.72   \u001b[0m | \u001b[0m-5.69    \u001b[0m |\n",
            "| \u001b[0m26       \u001b[0m | \u001b[0m-1.123   \u001b[0m | \u001b[0m-6.284   \u001b[0m | \u001b[0m-35.38   \u001b[0m | \u001b[0m-19.55   \u001b[0m | \u001b[0m-2.765   \u001b[0m |\n",
            "| \u001b[0m27       \u001b[0m | \u001b[0m-0.8635  \u001b[0m | \u001b[0m-38.55   \u001b[0m | \u001b[0m-12.87   \u001b[0m | \u001b[0m-28.82   \u001b[0m | \u001b[0m-8.103   \u001b[0m |\n",
            "| \u001b[0m28       \u001b[0m | \u001b[0m-0.9346  \u001b[0m | \u001b[0m-24.51   \u001b[0m | \u001b[0m-18.24   \u001b[0m | \u001b[0m-32.42   \u001b[0m | \u001b[0m-4.209   \u001b[0m |\n",
            "| \u001b[0m29       \u001b[0m | \u001b[0m-1.238   \u001b[0m | \u001b[0m-29.01   \u001b[0m | \u001b[0m-14.26   \u001b[0m | \u001b[0m-37.07   \u001b[0m | \u001b[0m-3.494   \u001b[0m |\n",
            "| \u001b[0m30       \u001b[0m | \u001b[0m-27.02   \u001b[0m | \u001b[0m-3.589   \u001b[0m | \u001b[0m-14.74   \u001b[0m | \u001b[0m-18.65   \u001b[0m | \u001b[0m-1.161   \u001b[0m |\n",
            "| \u001b[0m31       \u001b[0m | \u001b[0m-0.5778  \u001b[0m | \u001b[0m-14.72   \u001b[0m | \u001b[0m-33.4    \u001b[0m | \u001b[0m-29.6    \u001b[0m | \u001b[0m-9.884   \u001b[0m |\n",
            "| \u001b[0m32       \u001b[0m | \u001b[0m-240.7   \u001b[0m | \u001b[0m-0.2037  \u001b[0m | \u001b[0m-7.485   \u001b[0m | \u001b[0m-7.632   \u001b[0m | \u001b[0m-1.068   \u001b[0m |\n",
            "| \u001b[0m33       \u001b[0m | \u001b[0m-0.6931  \u001b[0m | \u001b[0m-30.93   \u001b[0m | \u001b[0m-18.67   \u001b[0m | \u001b[0m-2.163   \u001b[0m | \u001b[0m-7.967   \u001b[0m |\n",
            "| \u001b[0m34       \u001b[0m | \u001b[0m-9.051e+0\u001b[0m | \u001b[0m-5.548   \u001b[0m | \u001b[0m-4.321   \u001b[0m | \u001b[0m-17.0    \u001b[0m | \u001b[0m-9.934   \u001b[0m |\n",
            "| \u001b[0m35       \u001b[0m | \u001b[0m-81.62   \u001b[0m | \u001b[0m-8.735   \u001b[0m | \u001b[0m-8.361   \u001b[0m | \u001b[0m-13.89   \u001b[0m | \u001b[0m-4.914   \u001b[0m |\n",
            "| \u001b[0m36       \u001b[0m | \u001b[0m-0.731   \u001b[0m | \u001b[0m-1.607   \u001b[0m | \u001b[0m-19.02   \u001b[0m | \u001b[0m-27.5    \u001b[0m | \u001b[0m-6.995   \u001b[0m |\n",
            "| \u001b[0m37       \u001b[0m | \u001b[0m-20.71   \u001b[0m | \u001b[0m-3.691   \u001b[0m | \u001b[0m-7.406   \u001b[0m | \u001b[0m-22.67   \u001b[0m | \u001b[0m-3.497   \u001b[0m |\n",
            "| \u001b[0m38       \u001b[0m | \u001b[0m-1.67    \u001b[0m | \u001b[0m-10.84   \u001b[0m | \u001b[0m-21.21   \u001b[0m | \u001b[0m-13.52   \u001b[0m | \u001b[0m-2.857   \u001b[0m |\n",
            "| \u001b[95m39       \u001b[0m | \u001b[95m-0.4175  \u001b[0m | \u001b[95m-19.86   \u001b[0m | \u001b[95m-38.73   \u001b[0m | \u001b[95m-37.56   \u001b[0m | \u001b[95m-8.48    \u001b[0m |\n",
            "| \u001b[0m40       \u001b[0m | \u001b[0m-1.235   \u001b[0m | \u001b[0m-37.66   \u001b[0m | \u001b[0m-10.6    \u001b[0m | \u001b[0m-36.66   \u001b[0m | \u001b[0m-8.16    \u001b[0m |\n",
            "| \u001b[0m41       \u001b[0m | \u001b[0m-1.232   \u001b[0m | \u001b[0m-38.67   \u001b[0m | \u001b[0m-19.73   \u001b[0m | \u001b[0m-21.96   \u001b[0m | \u001b[0m-3.031   \u001b[0m |\n",
            "| \u001b[0m42       \u001b[0m | \u001b[0m-0.6931  \u001b[0m | \u001b[0m-14.82   \u001b[0m | \u001b[0m-18.42   \u001b[0m | \u001b[0m-6.447   \u001b[0m | \u001b[0m-2.425   \u001b[0m |\n",
            "| \u001b[0m43       \u001b[0m | \u001b[0m-252.5   \u001b[0m | \u001b[0m-33.26   \u001b[0m | \u001b[0m-9.006   \u001b[0m | \u001b[0m-25.96   \u001b[0m | \u001b[0m-1.252   \u001b[0m |\n",
            "| \u001b[0m44       \u001b[0m | \u001b[0m-17.94   \u001b[0m | \u001b[0m-9.092   \u001b[0m | \u001b[0m-6.162   \u001b[0m | \u001b[0m-12.5    \u001b[0m | \u001b[0m-3.962   \u001b[0m |\n",
            "| \u001b[0m45       \u001b[0m | \u001b[0m-0.6931  \u001b[0m | \u001b[0m-19.49   \u001b[0m | \u001b[0m-34.39   \u001b[0m | \u001b[0m-3.042   \u001b[0m | \u001b[0m-1.253   \u001b[0m |\n",
            "| \u001b[0m46       \u001b[0m | \u001b[0m-1.049e+0\u001b[0m | \u001b[0m-31.01   \u001b[0m | \u001b[0m-3.384   \u001b[0m | \u001b[0m-36.65   \u001b[0m | \u001b[0m-7.443   \u001b[0m |\n",
            "| \u001b[0m47       \u001b[0m | \u001b[0m-0.6931  \u001b[0m | \u001b[0m-35.62   \u001b[0m | \u001b[0m-27.04   \u001b[0m | \u001b[0m-7.605   \u001b[0m | \u001b[0m-9.977   \u001b[0m |\n",
            "| \u001b[0m48       \u001b[0m | \u001b[0m-0.7379  \u001b[0m | \u001b[0m-30.7    \u001b[0m | \u001b[0m-38.22   \u001b[0m | \u001b[0m-25.6    \u001b[0m | \u001b[0m-5.262   \u001b[0m |\n",
            "| \u001b[0m49       \u001b[0m | \u001b[0m-17.57   \u001b[0m | \u001b[0m-11.91   \u001b[0m | \u001b[0m-8.632   \u001b[0m | \u001b[0m-18.34   \u001b[0m | \u001b[0m-9.985   \u001b[0m |\n",
            "| \u001b[0m50       \u001b[0m | \u001b[0m-23.33   \u001b[0m | \u001b[0m-28.73   \u001b[0m | \u001b[0m-3.236   \u001b[0m | \u001b[0m-21.08   \u001b[0m | \u001b[0m-4.687   \u001b[0m |\n",
            "| \u001b[0m51       \u001b[0m | \u001b[0m-39.31   \u001b[0m | \u001b[0m-23.8    \u001b[0m | \u001b[0m-6.691   \u001b[0m | \u001b[0m-22.55   \u001b[0m | \u001b[0m-1.166   \u001b[0m |\n",
            "| \u001b[0m52       \u001b[0m | \u001b[0m-0.4531  \u001b[0m | \u001b[0m-16.0    \u001b[0m | \u001b[0m-16.52   \u001b[0m | \u001b[0m-15.2    \u001b[0m | \u001b[0m-10.0    \u001b[0m |\n",
            "| \u001b[0m53       \u001b[0m | \u001b[0m-2.075e+0\u001b[0m | \u001b[0m-27.43   \u001b[0m | \u001b[0m-0.3821  \u001b[0m | \u001b[0m-25.79   \u001b[0m | \u001b[0m-0.3919  \u001b[0m |\n",
            "| \u001b[0m54       \u001b[0m | \u001b[0m-0.8384  \u001b[0m | \u001b[0m-12.45   \u001b[0m | \u001b[0m-23.71   \u001b[0m | \u001b[0m-25.27   \u001b[0m | \u001b[0m-4.463   \u001b[0m |\n",
            "| \u001b[0m55       \u001b[0m | \u001b[0m-163.1   \u001b[0m | \u001b[0m-26.4    \u001b[0m | \u001b[0m-20.1    \u001b[0m | \u001b[0m-19.58   \u001b[0m | \u001b[0m-1.516   \u001b[0m |\n",
            "| \u001b[0m56       \u001b[0m | \u001b[0m-0.864   \u001b[0m | \u001b[0m-19.48   \u001b[0m | \u001b[0m-31.94   \u001b[0m | \u001b[0m-17.17   \u001b[0m | \u001b[0m-4.374   \u001b[0m |\n",
            "| \u001b[0m57       \u001b[0m | \u001b[0m-68.76   \u001b[0m | \u001b[0m-27.52   \u001b[0m | \u001b[0m-29.84   \u001b[0m | \u001b[0m-10.53   \u001b[0m | \u001b[0m0.0      \u001b[0m |\n",
            "| \u001b[0m58       \u001b[0m | \u001b[0m-1.395e+0\u001b[0m | \u001b[0m-39.41   \u001b[0m | \u001b[0m-16.99   \u001b[0m | \u001b[0m-35.2    \u001b[0m | \u001b[0m-0.447   \u001b[0m |\n",
            "| \u001b[0m59       \u001b[0m | \u001b[0m-0.5351  \u001b[0m | \u001b[0m-29.04   \u001b[0m | \u001b[0m-27.43   \u001b[0m | \u001b[0m-23.32   \u001b[0m | \u001b[0m-9.471   \u001b[0m |\n",
            "| \u001b[0m60       \u001b[0m | \u001b[0m-0.6931  \u001b[0m | \u001b[0m-24.48   \u001b[0m | \u001b[0m-32.01   \u001b[0m | \u001b[0m-7.72    \u001b[0m | \u001b[0m-10.0    \u001b[0m |\n",
            "| \u001b[0m61       \u001b[0m | \u001b[0m-0.6931  \u001b[0m | \u001b[0m-21.31   \u001b[0m | \u001b[0m-8.449   \u001b[0m | \u001b[0m-0.9415  \u001b[0m | \u001b[0m-7.038   \u001b[0m |\n",
            "| \u001b[0m62       \u001b[0m | \u001b[0m-271.7   \u001b[0m | \u001b[0m-17.74   \u001b[0m | \u001b[0m-39.7    \u001b[0m | \u001b[0m-26.58   \u001b[0m | \u001b[0m-1.017   \u001b[0m |\n",
            "| \u001b[0m63       \u001b[0m | \u001b[0m-0.6931  \u001b[0m | \u001b[0m-9.721   \u001b[0m | \u001b[0m-9.316   \u001b[0m | \u001b[0m-3.116   \u001b[0m | \u001b[0m-9.086   \u001b[0m |\n",
            "| \u001b[0m64       \u001b[0m | \u001b[0m-0.7335  \u001b[0m | \u001b[0m-2.413   \u001b[0m | \u001b[0m-17.74   \u001b[0m | \u001b[0m-7.265   \u001b[0m | \u001b[0m-9.698   \u001b[0m |\n",
            "| \u001b[0m65       \u001b[0m | \u001b[0m-0.7279  \u001b[0m | \u001b[0m-4.821   \u001b[0m | \u001b[0m-17.77   \u001b[0m | \u001b[0m-18.85   \u001b[0m | \u001b[0m-9.939   \u001b[0m |\n",
            "| \u001b[0m66       \u001b[0m | \u001b[0m-0.7328  \u001b[0m | \u001b[0m-18.41   \u001b[0m | \u001b[0m-0.4238  \u001b[0m | \u001b[0m-3.472   \u001b[0m | \u001b[0m-0.01331 \u001b[0m |\n",
            "| \u001b[0m67       \u001b[0m | \u001b[0m-1.436   \u001b[0m | \u001b[0m-24.05   \u001b[0m | \u001b[0m-39.82   \u001b[0m | \u001b[0m-13.22   \u001b[0m | \u001b[0m-2.395   \u001b[0m |\n",
            "| \u001b[0m68       \u001b[0m | \u001b[0m-0.5888  \u001b[0m | \u001b[0m-21.72   \u001b[0m | \u001b[0m-40.0    \u001b[0m | \u001b[0m-21.44   \u001b[0m | \u001b[0m-10.0    \u001b[0m |\n",
            "| \u001b[0m69       \u001b[0m | \u001b[0m-0.6931  \u001b[0m | \u001b[0m-7.44    \u001b[0m | \u001b[0m-27.19   \u001b[0m | \u001b[0m-0.9769  \u001b[0m | \u001b[0m0.0      \u001b[0m |\n",
            "| \u001b[0m70       \u001b[0m | \u001b[0m-0.6931  \u001b[0m | \u001b[0m-32.57   \u001b[0m | \u001b[0m-37.78   \u001b[0m | \u001b[0m-3.791   \u001b[0m | \u001b[0m-4.167   \u001b[0m |\n",
            "| \u001b[0m71       \u001b[0m | \u001b[0m-14.14   \u001b[0m | \u001b[0m-3.869   \u001b[0m | \u001b[0m-29.9    \u001b[0m | \u001b[0m-30.18   \u001b[0m | \u001b[0m-0.9523  \u001b[0m |\n",
            "| \u001b[0m72       \u001b[0m | \u001b[0m-0.6931  \u001b[0m | \u001b[0m-27.8    \u001b[0m | \u001b[0m-25.93   \u001b[0m | \u001b[0m0.0      \u001b[0m | \u001b[0m0.0      \u001b[0m |\n",
            "| \u001b[0m73       \u001b[0m | \u001b[0m-0.4854  \u001b[0m | \u001b[0m-13.01   \u001b[0m | \u001b[0m-22.17   \u001b[0m | \u001b[0m-37.11   \u001b[0m | \u001b[0m-6.448   \u001b[0m |\n",
            "| \u001b[0m74       \u001b[0m | \u001b[0m-0.5958  \u001b[0m | \u001b[0m-10.39   \u001b[0m | \u001b[0m-29.37   \u001b[0m | \u001b[0m-17.78   \u001b[0m | \u001b[0m-10.0    \u001b[0m |\n",
            "| \u001b[0m75       \u001b[0m | \u001b[0m-0.5902  \u001b[0m | \u001b[0m-12.11   \u001b[0m | \u001b[0m-40.0    \u001b[0m | \u001b[0m-15.33   \u001b[0m | \u001b[0m-10.0    \u001b[0m |\n",
            "| \u001b[0m76       \u001b[0m | \u001b[0m-123.7   \u001b[0m | \u001b[0m-31.32   \u001b[0m | \u001b[0m-28.33   \u001b[0m | \u001b[0m-28.14   \u001b[0m | \u001b[0m0.0      \u001b[0m |\n",
            "| \u001b[0m77       \u001b[0m | \u001b[0m-120.0   \u001b[0m | \u001b[0m-40.0    \u001b[0m | \u001b[0m-26.39   \u001b[0m | \u001b[0m-13.47   \u001b[0m | \u001b[0m0.0      \u001b[0m |\n",
            "| \u001b[0m78       \u001b[0m | \u001b[0m-0.7274  \u001b[0m | \u001b[0m-4.78    \u001b[0m | \u001b[0m-40.0    \u001b[0m | \u001b[0m-28.9    \u001b[0m | \u001b[0m-8.734   \u001b[0m |\n",
            "| \u001b[0m79       \u001b[0m | \u001b[0m-0.7337  \u001b[0m | \u001b[0m-3.306   \u001b[0m | \u001b[0m-29.27   \u001b[0m | \u001b[0m-37.89   \u001b[0m | \u001b[0m-9.208   \u001b[0m |\n",
            "| \u001b[0m80       \u001b[0m | \u001b[0m-0.5568  \u001b[0m | \u001b[0m-39.82   \u001b[0m | \u001b[0m-28.51   \u001b[0m | \u001b[0m-30.93   \u001b[0m | \u001b[0m-9.675   \u001b[0m |\n",
            "| \u001b[0m81       \u001b[0m | \u001b[0m-0.5706  \u001b[0m | \u001b[0m-40.0    \u001b[0m | \u001b[0m-19.37   \u001b[0m | \u001b[0m-40.0    \u001b[0m | \u001b[0m-10.0    \u001b[0m |\n",
            "| \u001b[0m82       \u001b[0m | \u001b[0m-0.4429  \u001b[0m | \u001b[0m-32.32   \u001b[0m | \u001b[0m-34.4    \u001b[0m | \u001b[0m-37.0    \u001b[0m | \u001b[0m-8.686   \u001b[0m |\n",
            "| \u001b[0m83       \u001b[0m | \u001b[0m-0.7348  \u001b[0m | \u001b[0m-1.212   \u001b[0m | \u001b[0m-29.79   \u001b[0m | \u001b[0m-22.64   \u001b[0m | \u001b[0m-9.97    \u001b[0m |\n",
            "| \u001b[0m84       \u001b[0m | \u001b[0m-0.6931  \u001b[0m | \u001b[0m-5.238   \u001b[0m | \u001b[0m-15.27   \u001b[0m | \u001b[0m0.0      \u001b[0m | \u001b[0m0.0      \u001b[0m |\n",
            "| \u001b[0m85       \u001b[0m | \u001b[0m-0.6936  \u001b[0m | \u001b[0m-7.702   \u001b[0m | \u001b[0m-2.765   \u001b[0m | \u001b[0m0.0      \u001b[0m | \u001b[0m0.0      \u001b[0m |\n",
            "| \u001b[0m86       \u001b[0m | \u001b[0m-60.31   \u001b[0m | \u001b[0m-24.95   \u001b[0m | \u001b[0m-27.8    \u001b[0m | \u001b[0m-39.36   \u001b[0m | \u001b[0m-0.146   \u001b[0m |\n",
            "| \u001b[0m87       \u001b[0m | \u001b[0m-0.6931  \u001b[0m | \u001b[0m-9.623   \u001b[0m | \u001b[0m-21.82   \u001b[0m | \u001b[0m-0.08859 \u001b[0m | \u001b[0m-9.894   \u001b[0m |\n",
            "| \u001b[0m88       \u001b[0m | \u001b[0m-55.94   \u001b[0m | \u001b[0m-26.85   \u001b[0m | \u001b[0m-39.95   \u001b[0m | \u001b[0m-38.71   \u001b[0m | \u001b[0m-0.1977  \u001b[0m |\n",
            "| \u001b[0m89       \u001b[0m | \u001b[0m-167.8   \u001b[0m | \u001b[0m-39.0    \u001b[0m | \u001b[0m-37.52   \u001b[0m | \u001b[0m-32.38   \u001b[0m | \u001b[0m-0.3345  \u001b[0m |\n",
            "| \u001b[0m90       \u001b[0m | \u001b[0m-0.8812  \u001b[0m | \u001b[0m-3.476   \u001b[0m | \u001b[0m-39.58   \u001b[0m | \u001b[0m-8.167   \u001b[0m | \u001b[0m0.0      \u001b[0m |\n",
            "| \u001b[0m91       \u001b[0m | \u001b[0m-48.53   \u001b[0m | \u001b[0m-2.714   \u001b[0m | \u001b[0m-22.41   \u001b[0m | \u001b[0m-40.0    \u001b[0m | \u001b[0m0.0      \u001b[0m |\n",
            "| \u001b[0m92       \u001b[0m | \u001b[0m-0.7347  \u001b[0m | \u001b[0m-0.8514  \u001b[0m | \u001b[0m-39.75   \u001b[0m | \u001b[0m-12.73   \u001b[0m | \u001b[0m-9.567   \u001b[0m |\n",
            "| \u001b[0m93       \u001b[0m | \u001b[0m-0.6931  \u001b[0m | \u001b[0m-1.206   \u001b[0m | \u001b[0m-36.46   \u001b[0m | \u001b[0m0.0      \u001b[0m | \u001b[0m-8.488   \u001b[0m |\n",
            "| \u001b[0m94       \u001b[0m | \u001b[0m-1.206   \u001b[0m | \u001b[0m-1.837   \u001b[0m | \u001b[0m-38.24   \u001b[0m | \u001b[0m-39.24   \u001b[0m | \u001b[0m-0.8795  \u001b[0m |\n",
            "| \u001b[0m95       \u001b[0m | \u001b[0m-123.7   \u001b[0m | \u001b[0m-36.95   \u001b[0m | \u001b[0m-29.29   \u001b[0m | \u001b[0m-40.0    \u001b[0m | \u001b[0m0.0      \u001b[0m |\n",
            "| \u001b[0m96       \u001b[0m | \u001b[0m-10.19   \u001b[0m | \u001b[0m-0.3904  \u001b[0m | \u001b[0m-25.13   \u001b[0m | \u001b[0m-19.45   \u001b[0m | \u001b[0m-0.7294  \u001b[0m |\n",
            "| \u001b[0m97       \u001b[0m | \u001b[0m-0.717   \u001b[0m | \u001b[0m-30.09   \u001b[0m | \u001b[0m0.0      \u001b[0m | \u001b[0m0.0      \u001b[0m | \u001b[0m0.0      \u001b[0m |\n",
            "| \u001b[0m98       \u001b[0m | \u001b[0m-0.6932  \u001b[0m | \u001b[0m0.0      \u001b[0m | \u001b[0m-5.219   \u001b[0m | \u001b[0m0.0      \u001b[0m | \u001b[0m-10.0    \u001b[0m |\n",
            "| \u001b[0m99       \u001b[0m | \u001b[0m-0.5797  \u001b[0m | \u001b[0m-20.23   \u001b[0m | \u001b[0m-20.1    \u001b[0m | \u001b[0m-24.97   \u001b[0m | \u001b[0m-10.0    \u001b[0m |\n",
            "| \u001b[0m100      \u001b[0m | \u001b[0m-0.6931  \u001b[0m | \u001b[0m-39.75   \u001b[0m | \u001b[0m-31.82   \u001b[0m | \u001b[0m-0.7391  \u001b[0m | \u001b[0m-0.7827  \u001b[0m |\n",
            "=========================================================================\n",
            "CPU times: user 48min 26s, sys: 1min 40s, total: 50min 6s\n",
            "Wall time: 46min 8s\n"
          ]
        }
      ],
      "source": [
        "%%time\n",
        "lofi_sph_optimizer.maximize(\n",
        "    init_points=50,\n",
        "    n_iter=50,\n",
        ")"
      ]
    },
    {
      "cell_type": "markdown",
      "metadata": {
        "id": "1Kbdc31jB0lS"
      },
      "source": [
        "## 6.2 Test Set Accuracy"
      ]
    },
    {
      "cell_type": "code",
      "source": [
        "lofi_sph_hparams = {\n",
        "    'initial_covariance': 0.00020758279367541816,\n",
        "    'dynamics_weights': 1.0,\n",
        "    'dynamics_covariance': 1.5181557590113835e-17,\n",
        "    'dynamics_covariance_inflation_factor': 2.3761628691388652e-09\n",
        "}"
      ],
      "metadata": {
        "id": "9Z6e-KH6pV2S"
      },
      "execution_count": 33,
      "outputs": []
    },
    {
      "cell_type": "code",
      "execution_count": 34,
      "metadata": {
        "id": "1ZE-kWfDB0lS"
      },
      "outputs": [],
      "source": [
        "# lofi_sph_hparams = hpt.get_best_params(lofi_sph_optimizer)\n",
        "lofi_sph_estimator = hpt.build_estimator(flat_params, lofi_sph_hparams, emission_mean_function,\n",
        "                                         emission_cov_function, method=\"lofi\", \n",
        "                                         lofi_params=lofi_params_spherical)"
      ]
    },
    {
      "cell_type": "code",
      "source": [
        "lofi_sph_hparams"
      ],
      "metadata": {
        "colab": {
          "base_uri": "https://localhost:8080/"
        },
        "id": "XL-1U502C8ck",
        "outputId": "ad8d091b-c544-4536-dae9-11bb02d731bf"
      },
      "execution_count": 35,
      "outputs": [
        {
          "output_type": "execute_result",
          "data": {
            "text/plain": [
              "{'initial_covariance': 0.00020758279367541816,\n",
              " 'dynamics_weights': 1.0,\n",
              " 'dynamics_covariance': 1.5181557590113835e-17,\n",
              " 'dynamics_covariance_inflation_factor': 2.3761628691388652e-09}"
            ]
          },
          "metadata": {},
          "execution_count": 35
        }
      ]
    },
    {
      "cell_type": "code",
      "execution_count": 36,
      "metadata": {
        "colab": {
          "base_uri": "https://localhost:8080/"
        },
        "id": "UKeIQ4cJB0lS",
        "outputId": "a871fdba-4d29-483f-e709-27c298cab93a"
      },
      "outputs": [
        {
          "output_type": "stream",
          "name": "stderr",
          "text": [
            "100%|██████████| 10/10 [07:19<00:00, 43.99s/it]\n"
          ]
        }
      ],
      "source": [
        "lofi_sph_res = evaluate_model(lofi_sph_estimator)"
      ]
    },
    {
      "cell_type": "markdown",
      "metadata": {
        "id": "U-24yJMPB0lS"
      },
      "source": [
        "# 7. LoFi-Diag"
      ]
    },
    {
      "cell_type": "markdown",
      "metadata": {
        "id": "X9m2-mBEB0lT"
      },
      "source": [
        "## 7.1 Hyperparam Tuning"
      ]
    },
    {
      "cell_type": "code",
      "execution_count": 37,
      "metadata": {
        "id": "W_i5PnHtB0lT"
      },
      "outputs": [],
      "source": [
        "lofi_params_diagonal = LoFiParams(\n",
        "    memory_size=20,\n",
        "    diagonal_covariance=True,\n",
        ")"
      ]
    },
    {
      "cell_type": "code",
      "execution_count": 403,
      "metadata": {
        "id": "8Fu_1QAdB0lT"
      },
      "outputs": [],
      "source": [
        "lofi_diag_optimizer, apply_fn, n_feats = hpt.create_optimizer(\n",
        "    model, pbounds, 314, train, val, emission_mean_function, emission_cov_function,\n",
        "    ll_callback, 'lofi', params_lofi=lofi_params_diagonal\n",
        ")"
      ]
    },
    {
      "cell_type": "code",
      "execution_count": 397,
      "metadata": {
        "colab": {
          "base_uri": "https://localhost:8080/"
        },
        "id": "TXhSB7ZGB0lT",
        "outputId": "f4a6207e-5f4a-4c4e-95c8-4cb978d77aa8"
      },
      "outputs": [
        {
          "output_type": "stream",
          "name": "stdout",
          "text": [
            "|   iter    |  target   | log_alpha | log_dy... | log_dy... | log_in... |\n",
            "-------------------------------------------------------------------------\n",
            "| \u001b[0m1        \u001b[0m | \u001b[0m0.5168   \u001b[0m | \u001b[0m-3.325   \u001b[0m | \u001b[0m-16.46   \u001b[0m | \u001b[0m-29.4    \u001b[0m | \u001b[0m-2.168   \u001b[0m |\n",
            "| \u001b[0m2        \u001b[0m | \u001b[0m0.51     \u001b[0m | \u001b[0m-3.28    \u001b[0m | \u001b[0m-6.906   \u001b[0m | \u001b[0m-10.88   \u001b[0m | \u001b[0m-7.395   \u001b[0m |\n",
            "| \u001b[0m3        \u001b[0m | \u001b[0m0.4028   \u001b[0m | \u001b[0m-3.529   \u001b[0m | \u001b[0m-29.57   \u001b[0m | \u001b[0m-9.345   \u001b[0m | \u001b[0m-7.385   \u001b[0m |\n",
            "| \u001b[0m4        \u001b[0m | \u001b[0m0.51     \u001b[0m | \u001b[0m-35.11   \u001b[0m | \u001b[0m-24.56   \u001b[0m | \u001b[0m-6.397   \u001b[0m | \u001b[0m-7.218   \u001b[0m |\n",
            "| \u001b[95m5        \u001b[0m | \u001b[95m0.6608   \u001b[0m | \u001b[95m-37.2    \u001b[0m | \u001b[95m-14.68   \u001b[0m | \u001b[95m-16.61   \u001b[0m | \u001b[95m-4.188   \u001b[0m |\n",
            "| \u001b[0m6        \u001b[0m | \u001b[0m0.6148   \u001b[0m | \u001b[0m-12.91   \u001b[0m | \u001b[0m-12.51   \u001b[0m | \u001b[0m-22.44   \u001b[0m | \u001b[0m-6.791   \u001b[0m |\n",
            "| \u001b[0m7        \u001b[0m | \u001b[0m0.51     \u001b[0m | \u001b[0m-17.18   \u001b[0m | \u001b[0m-20.81   \u001b[0m | \u001b[0m-5.557   \u001b[0m | \u001b[0m-1.652   \u001b[0m |\n",
            "| \u001b[0m8        \u001b[0m | \u001b[0m0.6408   \u001b[0m | \u001b[0m-35.77   \u001b[0m | \u001b[0m-37.58   \u001b[0m | \u001b[0m-16.12   \u001b[0m | \u001b[0m-2.076   \u001b[0m |\n",
            "| \u001b[95m9        \u001b[0m | \u001b[95m0.7652   \u001b[0m | \u001b[95m-30.95   \u001b[0m | \u001b[95m-18.59   \u001b[0m | \u001b[95m-34.56   \u001b[0m | \u001b[95m-6.278   \u001b[0m |\n",
            "| \u001b[95m10       \u001b[0m | \u001b[95m0.8048   \u001b[0m | \u001b[95m-33.92   \u001b[0m | \u001b[95m-22.81   \u001b[0m | \u001b[95m-8.292   \u001b[0m | \u001b[95m-5.93    \u001b[0m |\n",
            "| \u001b[0m11       \u001b[0m | \u001b[0m0.51     \u001b[0m | \u001b[0m-32.89   \u001b[0m | \u001b[0m-3.63    \u001b[0m | \u001b[0m-18.19   \u001b[0m | \u001b[0m-8.995   \u001b[0m |\n",
            "| \u001b[0m12       \u001b[0m | \u001b[0m0.51     \u001b[0m | \u001b[0m-11.25   \u001b[0m | \u001b[0m-0.8628  \u001b[0m | \u001b[0m-27.61   \u001b[0m | \u001b[0m-7.399   \u001b[0m |\n",
            "| \u001b[0m13       \u001b[0m | \u001b[0m0.708    \u001b[0m | \u001b[0m-13.48   \u001b[0m | \u001b[0m-34.41   \u001b[0m | \u001b[0m-36.65   \u001b[0m | \u001b[0m-4.732   \u001b[0m |\n",
            "| \u001b[0m14       \u001b[0m | \u001b[0m0.51     \u001b[0m | \u001b[0m-15.59   \u001b[0m | \u001b[0m-5.304   \u001b[0m | \u001b[0m-34.04   \u001b[0m | \u001b[0m-1.359   \u001b[0m |\n",
            "| \u001b[0m15       \u001b[0m | \u001b[0m0.6116   \u001b[0m | \u001b[0m-22.0    \u001b[0m | \u001b[0m-10.93   \u001b[0m | \u001b[0m-33.8    \u001b[0m | \u001b[0m-5.829   \u001b[0m |\n",
            "| \u001b[0m16       \u001b[0m | \u001b[0m0.798    \u001b[0m | \u001b[0m-34.3    \u001b[0m | \u001b[0m-26.43   \u001b[0m | \u001b[0m-11.89   \u001b[0m | \u001b[0m-9.229   \u001b[0m |\n",
            "| \u001b[0m17       \u001b[0m | \u001b[0m0.51     \u001b[0m | \u001b[0m-37.18   \u001b[0m | \u001b[0m-0.7213  \u001b[0m | \u001b[0m-38.34   \u001b[0m | \u001b[0m-9.007   \u001b[0m |\n",
            "| \u001b[0m18       \u001b[0m | \u001b[0m0.49     \u001b[0m | \u001b[0m-31.18   \u001b[0m | \u001b[0m-13.6    \u001b[0m | \u001b[0m-0.1541  \u001b[0m | \u001b[0m-0.3022  \u001b[0m |\n",
            "| \u001b[0m19       \u001b[0m | \u001b[0m0.51     \u001b[0m | \u001b[0m-12.94   \u001b[0m | \u001b[0m-0.06077 \u001b[0m | \u001b[0m-35.15   \u001b[0m | \u001b[0m-5.638   \u001b[0m |\n",
            "| \u001b[0m20       \u001b[0m | \u001b[0m0.6584   \u001b[0m | \u001b[0m-33.31   \u001b[0m | \u001b[0m-18.11   \u001b[0m | \u001b[0m-9.157   \u001b[0m | \u001b[0m-4.336   \u001b[0m |\n",
            "| \u001b[0m21       \u001b[0m | \u001b[0m0.5072   \u001b[0m | \u001b[0m-27.74   \u001b[0m | \u001b[0m-0.8882  \u001b[0m | \u001b[0m-4.452   \u001b[0m | \u001b[0m-7.633   \u001b[0m |\n",
            "| \u001b[0m22       \u001b[0m | \u001b[0m0.49     \u001b[0m | \u001b[0m-12.58   \u001b[0m | \u001b[0m-36.7    \u001b[0m | \u001b[0m-5.273   \u001b[0m | \u001b[0m-6.59    \u001b[0m |\n",
            "| \u001b[0m23       \u001b[0m | \u001b[0m0.7108   \u001b[0m | \u001b[0m-14.74   \u001b[0m | \u001b[0m-25.22   \u001b[0m | \u001b[0m-7.529   \u001b[0m | \u001b[0m-6.144   \u001b[0m |\n",
            "| \u001b[0m24       \u001b[0m | \u001b[0m0.798    \u001b[0m | \u001b[0m-21.23   \u001b[0m | \u001b[0m-31.49   \u001b[0m | \u001b[0m-31.5    \u001b[0m | \u001b[0m-6.877   \u001b[0m |\n",
            "| \u001b[0m25       \u001b[0m | \u001b[0m0.49     \u001b[0m | \u001b[0m-18.41   \u001b[0m | \u001b[0m-6.95    \u001b[0m | \u001b[0m-13.72   \u001b[0m | \u001b[0m-5.69    \u001b[0m |\n",
            "| \u001b[0m26       \u001b[0m | \u001b[0m0.5648   \u001b[0m | \u001b[0m-6.284   \u001b[0m | \u001b[0m-35.38   \u001b[0m | \u001b[0m-19.55   \u001b[0m | \u001b[0m-2.765   \u001b[0m |\n",
            "| \u001b[0m27       \u001b[0m | \u001b[0m0.6488   \u001b[0m | \u001b[0m-38.55   \u001b[0m | \u001b[0m-12.87   \u001b[0m | \u001b[0m-28.82   \u001b[0m | \u001b[0m-8.103   \u001b[0m |\n",
            "| \u001b[0m28       \u001b[0m | \u001b[0m0.6892   \u001b[0m | \u001b[0m-24.51   \u001b[0m | \u001b[0m-18.24   \u001b[0m | \u001b[0m-32.42   \u001b[0m | \u001b[0m-4.209   \u001b[0m |\n",
            "| \u001b[0m29       \u001b[0m | \u001b[0m0.616    \u001b[0m | \u001b[0m-29.01   \u001b[0m | \u001b[0m-14.26   \u001b[0m | \u001b[0m-37.07   \u001b[0m | \u001b[0m-3.494   \u001b[0m |\n",
            "| \u001b[0m30       \u001b[0m | \u001b[0m0.518    \u001b[0m | \u001b[0m-3.589   \u001b[0m | \u001b[0m-14.74   \u001b[0m | \u001b[0m-18.65   \u001b[0m | \u001b[0m-1.161   \u001b[0m |\n",
            "| \u001b[0m31       \u001b[0m | \u001b[0m0.7624   \u001b[0m | \u001b[0m-14.72   \u001b[0m | \u001b[0m-33.4    \u001b[0m | \u001b[0m-29.6    \u001b[0m | \u001b[0m-9.884   \u001b[0m |\n",
            "| \u001b[0m32       \u001b[0m | \u001b[0m0.51     \u001b[0m | \u001b[0m-0.2037  \u001b[0m | \u001b[0m-7.485   \u001b[0m | \u001b[0m-7.632   \u001b[0m | \u001b[0m-1.068   \u001b[0m |\n",
            "| \u001b[0m33       \u001b[0m | \u001b[0m0.49     \u001b[0m | \u001b[0m-30.93   \u001b[0m | \u001b[0m-18.67   \u001b[0m | \u001b[0m-2.163   \u001b[0m | \u001b[0m-7.967   \u001b[0m |\n",
            "| \u001b[0m34       \u001b[0m | \u001b[0m0.51     \u001b[0m | \u001b[0m-5.548   \u001b[0m | \u001b[0m-4.321   \u001b[0m | \u001b[0m-17.0    \u001b[0m | \u001b[0m-9.934   \u001b[0m |\n",
            "| \u001b[0m35       \u001b[0m | \u001b[0m0.51     \u001b[0m | \u001b[0m-8.735   \u001b[0m | \u001b[0m-8.361   \u001b[0m | \u001b[0m-13.89   \u001b[0m | \u001b[0m-4.914   \u001b[0m |\n",
            "| \u001b[0m36       \u001b[0m | \u001b[0m0.4048   \u001b[0m | \u001b[0m-1.607   \u001b[0m | \u001b[0m-19.02   \u001b[0m | \u001b[0m-27.5    \u001b[0m | \u001b[0m-6.995   \u001b[0m |\n",
            "| \u001b[0m37       \u001b[0m | \u001b[0m0.51     \u001b[0m | \u001b[0m-3.691   \u001b[0m | \u001b[0m-7.406   \u001b[0m | \u001b[0m-22.67   \u001b[0m | \u001b[0m-3.497   \u001b[0m |\n",
            "| \u001b[0m38       \u001b[0m | \u001b[0m0.634    \u001b[0m | \u001b[0m-10.84   \u001b[0m | \u001b[0m-21.21   \u001b[0m | \u001b[0m-13.52   \u001b[0m | \u001b[0m-2.857   \u001b[0m |\n",
            "| \u001b[95m39       \u001b[0m | \u001b[95m0.8596   \u001b[0m | \u001b[95m-19.86   \u001b[0m | \u001b[95m-38.73   \u001b[0m | \u001b[95m-37.56   \u001b[0m | \u001b[95m-8.48    \u001b[0m |\n",
            "| \u001b[0m40       \u001b[0m | \u001b[0m0.5852   \u001b[0m | \u001b[0m-37.66   \u001b[0m | \u001b[0m-10.6    \u001b[0m | \u001b[0m-36.66   \u001b[0m | \u001b[0m-8.16    \u001b[0m |\n",
            "| \u001b[0m41       \u001b[0m | \u001b[0m0.632    \u001b[0m | \u001b[0m-38.67   \u001b[0m | \u001b[0m-19.73   \u001b[0m | \u001b[0m-21.96   \u001b[0m | \u001b[0m-3.031   \u001b[0m |\n",
            "| \u001b[0m42       \u001b[0m | \u001b[0m0.49     \u001b[0m | \u001b[0m-14.82   \u001b[0m | \u001b[0m-18.42   \u001b[0m | \u001b[0m-6.447   \u001b[0m | \u001b[0m-2.425   \u001b[0m |\n",
            "| \u001b[0m43       \u001b[0m | \u001b[0m0.49     \u001b[0m | \u001b[0m-33.26   \u001b[0m | \u001b[0m-9.006   \u001b[0m | \u001b[0m-25.96   \u001b[0m | \u001b[0m-1.252   \u001b[0m |\n",
            "| \u001b[0m44       \u001b[0m | \u001b[0m0.51     \u001b[0m | \u001b[0m-9.092   \u001b[0m | \u001b[0m-6.162   \u001b[0m | \u001b[0m-12.5    \u001b[0m | \u001b[0m-3.962   \u001b[0m |\n",
            "| \u001b[0m45       \u001b[0m | \u001b[0m0.49     \u001b[0m | \u001b[0m-19.49   \u001b[0m | \u001b[0m-34.39   \u001b[0m | \u001b[0m-3.042   \u001b[0m | \u001b[0m-1.253   \u001b[0m |\n",
            "| \u001b[0m46       \u001b[0m | \u001b[0m0.51     \u001b[0m | \u001b[0m-31.01   \u001b[0m | \u001b[0m-3.384   \u001b[0m | \u001b[0m-36.65   \u001b[0m | \u001b[0m-7.443   \u001b[0m |\n",
            "| \u001b[0m47       \u001b[0m | \u001b[0m0.5252   \u001b[0m | \u001b[0m-35.62   \u001b[0m | \u001b[0m-27.04   \u001b[0m | \u001b[0m-7.605   \u001b[0m | \u001b[0m-9.977   \u001b[0m |\n",
            "| \u001b[0m48       \u001b[0m | \u001b[0m0.6988   \u001b[0m | \u001b[0m-30.7    \u001b[0m | \u001b[0m-38.22   \u001b[0m | \u001b[0m-25.6    \u001b[0m | \u001b[0m-5.262   \u001b[0m |\n",
            "| \u001b[0m49       \u001b[0m | \u001b[0m0.6344   \u001b[0m | \u001b[0m-11.91   \u001b[0m | \u001b[0m-8.632   \u001b[0m | \u001b[0m-18.34   \u001b[0m | \u001b[0m-9.985   \u001b[0m |\n",
            "| \u001b[0m50       \u001b[0m | \u001b[0m0.49     \u001b[0m | \u001b[0m-28.73   \u001b[0m | \u001b[0m-3.236   \u001b[0m | \u001b[0m-21.08   \u001b[0m | \u001b[0m-4.687   \u001b[0m |\n",
            "| \u001b[0m51       \u001b[0m | \u001b[0m0.8092   \u001b[0m | \u001b[0m-34.74   \u001b[0m | \u001b[0m-26.08   \u001b[0m | \u001b[0m-11.53   \u001b[0m | \u001b[0m-9.049   \u001b[0m |\n",
            "| \u001b[0m52       \u001b[0m | \u001b[0m0.7104   \u001b[0m | \u001b[0m-33.79   \u001b[0m | \u001b[0m-23.33   \u001b[0m | \u001b[0m-12.6    \u001b[0m | \u001b[0m-5.621   \u001b[0m |\n",
            "| \u001b[95m53       \u001b[0m | \u001b[95m0.8724   \u001b[0m | \u001b[95m-19.11   \u001b[0m | \u001b[95m-35.77   \u001b[0m | \u001b[95m-34.54   \u001b[0m | \u001b[95m-8.141   \u001b[0m |\n",
            "| \u001b[0m54       \u001b[0m | \u001b[0m0.7568   \u001b[0m | \u001b[0m-21.88   \u001b[0m | \u001b[0m-35.99   \u001b[0m | \u001b[0m-36.27   \u001b[0m | \u001b[0m-6.239   \u001b[0m |\n",
            "| \u001b[0m55       \u001b[0m | \u001b[0m0.8356   \u001b[0m | \u001b[0m-17.34   \u001b[0m | \u001b[0m-39.16   \u001b[0m | \u001b[0m-34.21   \u001b[0m | \u001b[0m-8.811   \u001b[0m |\n",
            "| \u001b[0m56       \u001b[0m | \u001b[0m0.754    \u001b[0m | \u001b[0m-17.08   \u001b[0m | \u001b[0m-36.02   \u001b[0m | \u001b[0m-37.3    \u001b[0m | \u001b[0m-10.0    \u001b[0m |\n",
            "| \u001b[0m57       \u001b[0m | \u001b[0m0.754    \u001b[0m | \u001b[0m-21.36   \u001b[0m | \u001b[0m-37.9    \u001b[0m | \u001b[0m-33.02   \u001b[0m | \u001b[0m-10.0    \u001b[0m |\n",
            "| \u001b[0m58       \u001b[0m | \u001b[0m0.7168   \u001b[0m | \u001b[0m-17.79   \u001b[0m | \u001b[0m-35.8    \u001b[0m | \u001b[0m-31.48   \u001b[0m | \u001b[0m-5.626   \u001b[0m |\n",
            "| \u001b[0m59       \u001b[0m | \u001b[0m0.7196   \u001b[0m | \u001b[0m-17.76   \u001b[0m | \u001b[0m-39.59   \u001b[0m | \u001b[0m-37.0    \u001b[0m | \u001b[0m-5.708   \u001b[0m |\n",
            "| \u001b[0m60       \u001b[0m | \u001b[0m0.754    \u001b[0m | \u001b[0m-18.65   \u001b[0m | \u001b[0m-32.01   \u001b[0m | \u001b[0m-33.3    \u001b[0m | \u001b[0m-10.0    \u001b[0m |\n",
            "| \u001b[0m61       \u001b[0m | \u001b[0m0.7436   \u001b[0m | \u001b[0m-33.61   \u001b[0m | \u001b[0m-22.04   \u001b[0m | \u001b[0m-11.25   \u001b[0m | \u001b[0m-10.0    \u001b[0m |\n",
            "| \u001b[0m62       \u001b[0m | \u001b[0m0.754    \u001b[0m | \u001b[0m-22.68   \u001b[0m | \u001b[0m-40.0    \u001b[0m | \u001b[0m-39.6    \u001b[0m | \u001b[0m-10.0    \u001b[0m |\n",
            "| \u001b[0m63       \u001b[0m | \u001b[0m0.7532   \u001b[0m | \u001b[0m-38.04   \u001b[0m | \u001b[0m-25.4    \u001b[0m | \u001b[0m-14.27   \u001b[0m | \u001b[0m-10.0    \u001b[0m |\n",
            "| \u001b[0m64       \u001b[0m | \u001b[0m0.7928   \u001b[0m | \u001b[0m-25.47   \u001b[0m | \u001b[0m-26.7    \u001b[0m | \u001b[0m-32.5    \u001b[0m | \u001b[0m-6.741   \u001b[0m |\n",
            "| \u001b[0m65       \u001b[0m | \u001b[0m0.7024   \u001b[0m | \u001b[0m-20.72   \u001b[0m | \u001b[0m-27.27   \u001b[0m | \u001b[0m-34.28   \u001b[0m | \u001b[0m-4.474   \u001b[0m |\n",
            "| \u001b[95m66       \u001b[0m | \u001b[95m0.8752   \u001b[0m | \u001b[95m-30.25   \u001b[0m | \u001b[95m-23.49   \u001b[0m | \u001b[95m-31.48   \u001b[0m | \u001b[95m-8.05    \u001b[0m |\n",
            "| \u001b[0m67       \u001b[0m | \u001b[0m0.6956   \u001b[0m | \u001b[0m-31.42   \u001b[0m | \u001b[0m-25.02   \u001b[0m | \u001b[0m-33.02   \u001b[0m | \u001b[0m-4.513   \u001b[0m |\n",
            "| \u001b[0m68       \u001b[0m | \u001b[0m0.7548   \u001b[0m | \u001b[0m-27.22   \u001b[0m | \u001b[0m-21.7    \u001b[0m | \u001b[0m-31.01   \u001b[0m | \u001b[0m-10.0    \u001b[0m |\n",
            "| \u001b[0m69       \u001b[0m | \u001b[0m0.754    \u001b[0m | \u001b[0m-30.05   \u001b[0m | \u001b[0m-27.07   \u001b[0m | \u001b[0m-29.46   \u001b[0m | \u001b[0m-10.0    \u001b[0m |\n",
            "| \u001b[0m70       \u001b[0m | \u001b[0m0.7548   \u001b[0m | \u001b[0m-33.53   \u001b[0m | \u001b[0m-21.62   \u001b[0m | \u001b[0m-31.64   \u001b[0m | \u001b[0m-10.0    \u001b[0m |\n",
            "| \u001b[0m71       \u001b[0m | \u001b[0m0.7548   \u001b[0m | \u001b[0m-29.76   \u001b[0m | \u001b[0m-22.25   \u001b[0m | \u001b[0m-28.18   \u001b[0m | \u001b[0m-6.222   \u001b[0m |\n",
            "| \u001b[0m72       \u001b[0m | \u001b[0m0.7724   \u001b[0m | \u001b[0m-29.39   \u001b[0m | \u001b[0m-24.22   \u001b[0m | \u001b[0m-35.54   \u001b[0m | \u001b[0m-9.794   \u001b[0m |\n",
            "| \u001b[0m73       \u001b[0m | \u001b[0m0.868    \u001b[0m | \u001b[0m-22.35   \u001b[0m | \u001b[0m-28.17   \u001b[0m | \u001b[0m-26.71   \u001b[0m | \u001b[0m-7.603   \u001b[0m |\n",
            "| \u001b[0m74       \u001b[0m | \u001b[0m0.6796   \u001b[0m | \u001b[0m-24.72   \u001b[0m | \u001b[0m-29.85   \u001b[0m | \u001b[0m-26.36   \u001b[0m | \u001b[0m-4.22    \u001b[0m |\n",
            "| \u001b[0m75       \u001b[0m | \u001b[0m0.754    \u001b[0m | \u001b[0m-18.66   \u001b[0m | \u001b[0m-27.29   \u001b[0m | \u001b[0m-26.69   \u001b[0m | \u001b[0m-10.0    \u001b[0m |\n",
            "| \u001b[0m76       \u001b[0m | \u001b[0m0.754    \u001b[0m | \u001b[0m-23.67   \u001b[0m | \u001b[0m-29.9    \u001b[0m | \u001b[0m-28.34   \u001b[0m | \u001b[0m-10.0    \u001b[0m |\n",
            "| \u001b[0m77       \u001b[0m | \u001b[0m0.758    \u001b[0m | \u001b[0m-21.87   \u001b[0m | \u001b[0m-24.42   \u001b[0m | \u001b[0m-27.56   \u001b[0m | \u001b[0m-6.264   \u001b[0m |\n",
            "| \u001b[0m78       \u001b[0m | \u001b[0m0.8436   \u001b[0m | \u001b[0m-22.23   \u001b[0m | \u001b[0m-27.67   \u001b[0m | \u001b[0m-22.07   \u001b[0m | \u001b[0m-8.713   \u001b[0m |\n",
            "| \u001b[0m79       \u001b[0m | \u001b[0m0.804    \u001b[0m | \u001b[0m-19.23   \u001b[0m | \u001b[0m-30.72   \u001b[0m | \u001b[0m-23.42   \u001b[0m | \u001b[0m-6.952   \u001b[0m |\n",
            "| \u001b[0m80       \u001b[0m | \u001b[0m0.8392   \u001b[0m | \u001b[0m-18.91   \u001b[0m | \u001b[0m-27.04   \u001b[0m | \u001b[0m-16.88   \u001b[0m | \u001b[0m-8.773   \u001b[0m |\n",
            "| \u001b[0m81       \u001b[0m | \u001b[0m0.7536   \u001b[0m | \u001b[0m-21.83   \u001b[0m | \u001b[0m-31.42   \u001b[0m | \u001b[0m-17.22   \u001b[0m | \u001b[0m-10.0    \u001b[0m |\n",
            "| \u001b[0m82       \u001b[0m | \u001b[0m0.6896   \u001b[0m | \u001b[0m-19.63   \u001b[0m | \u001b[0m-25.97   \u001b[0m | \u001b[0m-19.37   \u001b[0m | \u001b[0m-4.381   \u001b[0m |\n",
            "| \u001b[0m83       \u001b[0m | \u001b[0m0.7512   \u001b[0m | \u001b[0m-20.93   \u001b[0m | \u001b[0m-24.94   \u001b[0m | \u001b[0m-12.69   \u001b[0m | \u001b[0m-10.0    \u001b[0m |\n",
            "| \u001b[0m84       \u001b[0m | \u001b[0m0.7532   \u001b[0m | \u001b[0m-14.54   \u001b[0m | \u001b[0m-26.78   \u001b[0m | \u001b[0m-15.3    \u001b[0m | \u001b[0m-10.0    \u001b[0m |\n",
            "| \u001b[0m85       \u001b[0m | \u001b[0m0.754    \u001b[0m | \u001b[0m-19.76   \u001b[0m | \u001b[0m-23.12   \u001b[0m | \u001b[0m-19.39   \u001b[0m | \u001b[0m-10.0    \u001b[0m |\n",
            "| \u001b[0m86       \u001b[0m | \u001b[0m0.754    \u001b[0m | \u001b[0m-17.14   \u001b[0m | \u001b[0m-29.25   \u001b[0m | \u001b[0m-20.28   \u001b[0m | \u001b[0m-10.0    \u001b[0m |\n",
            "| \u001b[0m87       \u001b[0m | \u001b[0m0.7508   \u001b[0m | \u001b[0m-10.2    \u001b[0m | \u001b[0m-40.0    \u001b[0m | \u001b[0m-30.86   \u001b[0m | \u001b[0m-10.0    \u001b[0m |\n",
            "| \u001b[0m88       \u001b[0m | \u001b[0m0.754    \u001b[0m | \u001b[0m-25.62   \u001b[0m | \u001b[0m-26.13   \u001b[0m | \u001b[0m-18.35   \u001b[0m | \u001b[0m-10.0    \u001b[0m |\n",
            "| \u001b[0m89       \u001b[0m | \u001b[0m0.41     \u001b[0m | \u001b[0m-2.511   \u001b[0m | \u001b[0m-36.97   \u001b[0m | \u001b[0m-34.76   \u001b[0m | \u001b[0m-6.9     \u001b[0m |\n",
            "| \u001b[0m90       \u001b[0m | \u001b[0m0.7832   \u001b[0m | \u001b[0m-13.61   \u001b[0m | \u001b[0m-37.76   \u001b[0m | \u001b[0m-25.05   \u001b[0m | \u001b[0m-9.538   \u001b[0m |\n",
            "| \u001b[0m91       \u001b[0m | \u001b[0m0.754    \u001b[0m | \u001b[0m-19.55   \u001b[0m | \u001b[0m-40.0    \u001b[0m | \u001b[0m-21.74   \u001b[0m | \u001b[0m-10.0    \u001b[0m |\n",
            "| \u001b[0m92       \u001b[0m | \u001b[0m0.754    \u001b[0m | \u001b[0m-27.62   \u001b[0m | \u001b[0m-40.0    \u001b[0m | \u001b[0m-18.3    \u001b[0m | \u001b[0m-10.0    \u001b[0m |\n",
            "| \u001b[0m93       \u001b[0m | \u001b[0m0.4928   \u001b[0m | \u001b[0m-23.77   \u001b[0m | \u001b[0m-39.64   \u001b[0m | \u001b[0m-18.14   \u001b[0m | \u001b[0m-1.651   \u001b[0m |\n",
            "| \u001b[0m94       \u001b[0m | \u001b[0m0.8612   \u001b[0m | \u001b[0m-39.78   \u001b[0m | \u001b[0m-38.28   \u001b[0m | \u001b[0m-24.2    \u001b[0m | \u001b[0m-8.428   \u001b[0m |\n",
            "| \u001b[0m95       \u001b[0m | \u001b[0m0.754    \u001b[0m | \u001b[0m-39.85   \u001b[0m | \u001b[0m-40.0    \u001b[0m | \u001b[0m-29.06   \u001b[0m | \u001b[0m-10.0    \u001b[0m |\n",
            "| \u001b[0m96       \u001b[0m | \u001b[0m0.754    \u001b[0m | \u001b[0m-36.17   \u001b[0m | \u001b[0m-40.0    \u001b[0m | \u001b[0m-21.25   \u001b[0m | \u001b[0m-10.0    \u001b[0m |\n",
            "| \u001b[0m97       \u001b[0m | \u001b[0m0.8392   \u001b[0m | \u001b[0m-39.92   \u001b[0m | \u001b[0m-33.53   \u001b[0m | \u001b[0m-22.49   \u001b[0m | \u001b[0m-7.19    \u001b[0m |\n",
            "| \u001b[0m98       \u001b[0m | \u001b[0m0.6204   \u001b[0m | \u001b[0m-40.0    \u001b[0m | \u001b[0m-36.79   \u001b[0m | \u001b[0m-26.08   \u001b[0m | \u001b[0m-3.423   \u001b[0m |\n",
            "| \u001b[0m99       \u001b[0m | \u001b[0m0.7708   \u001b[0m | \u001b[0m-38.93   \u001b[0m | \u001b[0m-34.64   \u001b[0m | \u001b[0m-16.12   \u001b[0m | \u001b[0m-9.811   \u001b[0m |\n",
            "| \u001b[0m100      \u001b[0m | \u001b[0m0.754    \u001b[0m | \u001b[0m-37.42   \u001b[0m | \u001b[0m-34.42   \u001b[0m | \u001b[0m-24.74   \u001b[0m | \u001b[0m-10.0    \u001b[0m |\n",
            "=========================================================================\n",
            "CPU times: user 1h 34min, sys: 1min 42s, total: 1h 35min 43s\n",
            "Wall time: 1h 31min 16s\n"
          ]
        }
      ],
      "source": [
        "%%time\n",
        "lofi_diag_optimizer.maximize(\n",
        "    init_points=50,\n",
        "    n_iter=50,\n",
        ")"
      ]
    },
    {
      "cell_type": "markdown",
      "metadata": {
        "id": "dBP-nXgQB0lT"
      },
      "source": [
        "## 7.2 Test Set Accuracy"
      ]
    },
    {
      "cell_type": "code",
      "source": [
        "lofi_diag_hparams = {\n",
        "    'initial_covariance': 0.0003191588918078341,\n",
        "    'dynamics_weights': 0.9999999999999786,\n",
        "    'dynamics_covariance': 6.308890416494091e-11,\n",
        "    'dynamics_covariance_inflation_factor': 7.284599643419104e-14\n",
        "}"
      ],
      "metadata": {
        "id": "DH3jgA3YpcEV"
      },
      "execution_count": 38,
      "outputs": []
    },
    {
      "cell_type": "code",
      "execution_count": 39,
      "metadata": {
        "id": "zV0LpDrGB0lT"
      },
      "outputs": [],
      "source": [
        "# lofi_diag_hparams = hpt.get_best_params(lofi_diag_optimizer)\n",
        "lofi_diag_estimator = hpt.build_estimator(flat_params, lofi_diag_hparams, emission_mean_function,\n",
        "                                          emission_cov_function, method=\"lofi\", \n",
        "                                          lofi_params=lofi_params_diagonal)"
      ]
    },
    {
      "cell_type": "code",
      "source": [
        "lofi_diag_hparams"
      ],
      "metadata": {
        "colab": {
          "base_uri": "https://localhost:8080/"
        },
        "id": "1yOblqRuC-Pi",
        "outputId": "986be4f8-d24c-4a9b-d0ad-fe51cf2717f8"
      },
      "execution_count": 40,
      "outputs": [
        {
          "output_type": "execute_result",
          "data": {
            "text/plain": [
              "{'initial_covariance': 0.0003191588918078341,\n",
              " 'dynamics_weights': 0.9999999999999786,\n",
              " 'dynamics_covariance': 6.308890416494091e-11,\n",
              " 'dynamics_covariance_inflation_factor': 7.284599643419104e-14}"
            ]
          },
          "metadata": {},
          "execution_count": 40
        }
      ]
    },
    {
      "cell_type": "code",
      "execution_count": 41,
      "metadata": {
        "colab": {
          "base_uri": "https://localhost:8080/"
        },
        "id": "YaLff-1FB0lT",
        "outputId": "f50ba84b-c419-4604-f83e-b6b374e024e6"
      },
      "outputs": [
        {
          "output_type": "stream",
          "name": "stderr",
          "text": [
            "100%|██████████| 10/10 [11:48<00:00, 70.90s/it]\n"
          ]
        }
      ],
      "source": [
        "lofi_diag_res = evaluate_model(lofi_diag_estimator)"
      ]
    },
    {
      "cell_type": "markdown",
      "source": [
        "# 8. Online SGD"
      ],
      "metadata": {
        "id": "BmIziiUU-DRn"
      }
    },
    {
      "cell_type": "markdown",
      "source": [
        "## 8.1 Hyperparam Tuning"
      ],
      "metadata": {
        "id": "1I36wzgs-iCX"
      }
    },
    {
      "cell_type": "code",
      "source": [
        "@jit\n",
        "def compute_loss_and_updates_sgd(state, batch_images, batch_labels):\n",
        "    def loss_fn(params):\n",
        "        logits = vmap(state.apply_fn, (None, 0))(params, batch_images).ravel()\n",
        "        loss = jnp.mean(optax.sigmoid_binary_cross_entropy(logits, batch_labels.ravel()))\n",
        "        return loss, logits\n",
        "\n",
        "    grad_fn = jax.value_and_grad(loss_fn, has_aux=True)\n",
        "    (loss, logits), grads = grad_fn(state.params)\n",
        "    return grads"
      ],
      "metadata": {
        "id": "zfXLHvvZvieM"
      },
      "execution_count": 14,
      "outputs": []
    },
    {
      "cell_type": "code",
      "source": [
        "def train_model(state, X_train, y_train):\n",
        "    @jit\n",
        "    def apply_updates(state, updates):\n",
        "        return state.apply_gradients(grads=updates)\n",
        "\n",
        "    def _step(carry, i):\n",
        "        state = carry\n",
        "        curr_image = X_train[i].reshape(1,28,28,1)\n",
        "        curr_label = y_train[i]\n",
        "\n",
        "        updates = compute_loss_and_updates_sgd(state, curr_image, curr_label)\n",
        "        state = apply_updates(state, updates)\n",
        "    \n",
        "        return state, state\n",
        "    \n",
        "    state, _ = lax.scan(_step, state, jnp.arange(len(X_train)))\n",
        "    \n",
        "    return state"
      ],
      "metadata": {
        "id": "xXIijeDBvTww"
      },
      "execution_count": 15,
      "outputs": []
    },
    {
      "cell_type": "code",
      "source": [
        "def sgd_opt_fn(log_lr):\n",
        "    tx = optax.sgd(jnp.exp(log_lr))\n",
        "    opt_state = TrainState.create(apply_fn=apply_fn, params=flat_params, tx=tx)\n",
        "    opt_state = train_model(opt_state, Xtr, Ytr)\n",
        "\n",
        "    result = evaluate_accuracy(opt_state.params, apply_fn, Xte, Yte)\n",
        "    if jnp.isnan(result):\n",
        "        result = 0.0\n",
        "\n",
        "    return result"
      ],
      "metadata": {
        "id": "wjsXy9Jf-bOr"
      },
      "execution_count": 23,
      "outputs": []
    },
    {
      "cell_type": "code",
      "source": [
        "sgd_optimizer = BayesianOptimization(\n",
        "    f=sgd_opt_fn,\n",
        "    pbounds={'log_lr': (-15.0, 0.0)}\n",
        ")"
      ],
      "metadata": {
        "id": "zgvXaxINwmz6"
      },
      "execution_count": 26,
      "outputs": []
    },
    {
      "cell_type": "code",
      "source": [
        "sgd_optimizer.maximize(\n",
        "    init_points=20,\n",
        "    n_iter=25,\n",
        ")"
      ],
      "metadata": {
        "id": "7ERXOklfwwuj",
        "outputId": "fab2591b-eb37-4f8e-82c0-551da74ed391",
        "colab": {
          "base_uri": "https://localhost:8080/"
        }
      },
      "execution_count": 27,
      "outputs": [
        {
          "output_type": "stream",
          "name": "stdout",
          "text": [
            "|   iter    |  target   |  log_lr   |\n",
            "-------------------------------------\n",
            "| \u001b[0m1        \u001b[0m | \u001b[0m0.8076   \u001b[0m | \u001b[0m-8.423   \u001b[0m |\n",
            "| \u001b[0m2        \u001b[0m | \u001b[0m0.4668   \u001b[0m | \u001b[0m-14.33   \u001b[0m |\n",
            "| \u001b[95m3        \u001b[0m | \u001b[95m0.8092   \u001b[0m | \u001b[95m-8.482   \u001b[0m |\n",
            "| \u001b[0m4        \u001b[0m | \u001b[0m0.6032   \u001b[0m | \u001b[0m-4.041   \u001b[0m |\n",
            "| \u001b[0m5        \u001b[0m | \u001b[0m0.5524   \u001b[0m | \u001b[0m-3.24    \u001b[0m |\n",
            "| \u001b[0m6        \u001b[0m | \u001b[0m0.6872   \u001b[0m | \u001b[0m-6.448   \u001b[0m |\n",
            "| \u001b[95m7        \u001b[0m | \u001b[95m0.8212   \u001b[0m | \u001b[95m-8.739   \u001b[0m |\n",
            "| \u001b[0m8        \u001b[0m | \u001b[0m0.5608   \u001b[0m | \u001b[0m-11.32   \u001b[0m |\n",
            "| \u001b[0m9        \u001b[0m | \u001b[0m0.778    \u001b[0m | \u001b[0m-7.999   \u001b[0m |\n",
            "| \u001b[0m10       \u001b[0m | \u001b[0m0.76     \u001b[0m | \u001b[0m-10.28   \u001b[0m |\n",
            "| \u001b[0m11       \u001b[0m | \u001b[0m0.6452   \u001b[0m | \u001b[0m-5.347   \u001b[0m |\n",
            "| \u001b[0m12       \u001b[0m | \u001b[0m0.7992   \u001b[0m | \u001b[0m-9.811   \u001b[0m |\n",
            "| \u001b[0m13       \u001b[0m | \u001b[0m0.7416   \u001b[0m | \u001b[0m-7.537   \u001b[0m |\n",
            "| \u001b[0m14       \u001b[0m | \u001b[0m0.69     \u001b[0m | \u001b[0m-6.614   \u001b[0m |\n",
            "| \u001b[0m15       \u001b[0m | \u001b[0m0.6364   \u001b[0m | \u001b[0m-5.133   \u001b[0m |\n",
            "| \u001b[0m16       \u001b[0m | \u001b[0m0.6048   \u001b[0m | \u001b[0m-11.1    \u001b[0m |\n",
            "| \u001b[0m17       \u001b[0m | \u001b[0m0.5972   \u001b[0m | \u001b[0m-3.839   \u001b[0m |\n",
            "| \u001b[0m18       \u001b[0m | \u001b[0m0.6104   \u001b[0m | \u001b[0m-4.165   \u001b[0m |\n",
            "| \u001b[0m19       \u001b[0m | \u001b[0m0.6988   \u001b[0m | \u001b[0m-6.878   \u001b[0m |\n",
            "| \u001b[0m20       \u001b[0m | \u001b[0m0.668    \u001b[0m | \u001b[0m-5.88    \u001b[0m |\n",
            "| \u001b[0m21       \u001b[0m | \u001b[0m0.0      \u001b[0m | \u001b[0m0.0      \u001b[0m |\n",
            "| \u001b[0m22       \u001b[0m | \u001b[0m0.8204   \u001b[0m | \u001b[0m-9.211   \u001b[0m |\n",
            "| \u001b[95m23       \u001b[0m | \u001b[95m0.824    \u001b[0m | \u001b[95m-8.971   \u001b[0m |\n",
            "| \u001b[0m24       \u001b[0m | \u001b[0m0.8228   \u001b[0m | \u001b[0m-8.885   \u001b[0m |\n",
            "| \u001b[0m25       \u001b[0m | \u001b[0m0.8224   \u001b[0m | \u001b[0m-9.057   \u001b[0m |\n",
            "| \u001b[0m26       \u001b[0m | \u001b[0m0.8168   \u001b[0m | \u001b[0m-9.445   \u001b[0m |\n",
            "| \u001b[0m27       \u001b[0m | \u001b[0m0.8236   \u001b[0m | \u001b[0m-8.964   \u001b[0m |\n",
            "| \u001b[0m28       \u001b[0m | \u001b[0m0.8236   \u001b[0m | \u001b[0m-8.964   \u001b[0m |\n",
            "| \u001b[0m29       \u001b[0m | \u001b[0m0.8236   \u001b[0m | \u001b[0m-8.964   \u001b[0m |\n",
            "| \u001b[0m30       \u001b[0m | \u001b[0m0.8236   \u001b[0m | \u001b[0m-8.964   \u001b[0m |\n",
            "| \u001b[0m31       \u001b[0m | \u001b[0m0.8236   \u001b[0m | \u001b[0m-8.964   \u001b[0m |\n",
            "| \u001b[0m32       \u001b[0m | \u001b[0m0.8236   \u001b[0m | \u001b[0m-8.965   \u001b[0m |\n",
            "| \u001b[0m33       \u001b[0m | \u001b[0m0.8236   \u001b[0m | \u001b[0m-8.965   \u001b[0m |\n",
            "| \u001b[0m34       \u001b[0m | \u001b[0m0.8236   \u001b[0m | \u001b[0m-8.965   \u001b[0m |\n",
            "| \u001b[0m35       \u001b[0m | \u001b[0m0.824    \u001b[0m | \u001b[0m-8.967   \u001b[0m |\n",
            "| \u001b[0m36       \u001b[0m | \u001b[0m0.824    \u001b[0m | \u001b[0m-8.973   \u001b[0m |\n",
            "| \u001b[95m37       \u001b[0m | \u001b[95m0.8244   \u001b[0m | \u001b[95m-8.978   \u001b[0m |\n",
            "| \u001b[0m38       \u001b[0m | \u001b[0m0.8232   \u001b[0m | \u001b[0m-8.987   \u001b[0m |\n",
            "| \u001b[0m39       \u001b[0m | \u001b[0m0.824    \u001b[0m | \u001b[0m-8.972   \u001b[0m |\n",
            "| \u001b[0m40       \u001b[0m | \u001b[0m0.8244   \u001b[0m | \u001b[0m-8.976   \u001b[0m |\n",
            "| \u001b[0m41       \u001b[0m | \u001b[0m0.824    \u001b[0m | \u001b[0m-8.982   \u001b[0m |\n",
            "| \u001b[0m42       \u001b[0m | \u001b[0m0.8236   \u001b[0m | \u001b[0m-8.984   \u001b[0m |\n",
            "| \u001b[0m43       \u001b[0m | \u001b[0m0.8236   \u001b[0m | \u001b[0m-8.981   \u001b[0m |\n",
            "| \u001b[0m44       \u001b[0m | \u001b[0m0.824    \u001b[0m | \u001b[0m-8.978   \u001b[0m |\n",
            "| \u001b[0m45       \u001b[0m | \u001b[0m0.8236   \u001b[0m | \u001b[0m-8.98    \u001b[0m |\n",
            "=====================================\n"
          ]
        }
      ]
    },
    {
      "cell_type": "code",
      "source": [
        "# 'log_lr': -8.978492212327534\n",
        "print(sgd_optimizer.max)"
      ],
      "metadata": {
        "id": "StQMT5iXx7tX",
        "outputId": "ab4ebc33-c906-4502-a10f-bf6c327d529e",
        "colab": {
          "base_uri": "https://localhost:8080/"
        }
      },
      "execution_count": 28,
      "outputs": [
        {
          "output_type": "stream",
          "name": "stdout",
          "text": [
            "{'target': 0.824400007724762, 'params': {'log_lr': -8.978492212327534}}\n"
          ]
        }
      ]
    },
    {
      "cell_type": "markdown",
      "source": [
        "## 8.2 Test Set Accuracy"
      ],
      "metadata": {
        "id": "KDoIufRa-mQJ"
      }
    },
    {
      "cell_type": "code",
      "source": [
        "log_lr = -8.978492212327534\n",
        "\n",
        "tx = optax.sgd(jnp.exp(log_lr))\n",
        "opt_state = TrainState.create(apply_fn=apply_fn, params=flat_params, tx=tx)"
      ],
      "metadata": {
        "id": "tqTpwCy9yxon"
      },
      "execution_count": 16,
      "outputs": []
    },
    {
      "cell_type": "code",
      "source": [
        "def evaluate_model_sgd(state, ntrain_per_batch=ntrain_per_batch, ntest_per_batch=ntest_per_batch, n_iter=10):\n",
        "    overall_accs, task1_accs = [], []\n",
        "    \n",
        "    for i in trange(n_iter):\n",
        "        (Xtr, Ytr), _, (Xte, Yte) = load_split_mnist_dataset(key=i)\n",
        "        first_Xte, first_Yte = Xte[:ntest_per_batch], Yte[:ntest_per_batch]\n",
        "        trained_state = state\n",
        "        oa_accs, t1_accs = [], []\n",
        "        for i in range(Xtr.shape[0] // ntrain_per_batch):\n",
        "            curr_Xtr = Xtr[i*ntrain_per_batch:(i+1)*ntrain_per_batch]\n",
        "            curr_Ytr = Ytr[i*ntrain_per_batch:(i+1)*ntrain_per_batch]\n",
        "            curr_Xte = Xte[:(i+1)*ntest_per_batch]\n",
        "            curr_Yte = Yte[:(i+1)*ntest_per_batch]\n",
        "            \n",
        "            trained_state = train_model(trained_state, curr_Xtr, curr_Ytr)\n",
        "            accs = evaluate_accuracy(trained_state.params, apply_fn, curr_Xte, curr_Yte)\n",
        "            oa_accs.append(accs)\n",
        "\n",
        "            accs = evaluate_accuracy(trained_state.params, apply_fn, first_Xte, first_Yte)\n",
        "            t1_accs.append(accs)\n",
        "        \n",
        "        overall_accs.append(oa_accs)\n",
        "        task1_accs.append(task1_accs)\n",
        "    \n",
        "    overall_accs, task1_accs = jnp.array(overall_accs), jnp.array(task1_accs)\n",
        "    \n",
        "    result = {\n",
        "        'overall': overall_accs.mean(axis=0),\n",
        "        'overall-std': overall_accs.std(axis=0),\n",
        "        'task1': task1_accs.mean(axis=0),\n",
        "        'task1-std': task1_accs.std(axis=0) \n",
        "    }\n",
        "\n",
        "    return result"
      ],
      "metadata": {
        "id": "ePCGXlms-qlh"
      },
      "execution_count": 17,
      "outputs": []
    },
    {
      "cell_type": "code",
      "source": [
        "online_sgd_res = evaluate_model_sgd(opt_state, n_iter=10)"
      ],
      "metadata": {
        "id": "OwdQ8RRi7NQj",
        "outputId": "6ed2ab65-175e-4154-e86f-5978907b6d7e",
        "colab": {
          "base_uri": "https://localhost:8080/",
          "height": 346
        }
      },
      "execution_count": 18,
      "outputs": [
        {
          "output_type": "stream",
          "name": "stderr",
          "text": [
            "  0%|          | 0/10 [00:14<?, ?it/s]\n"
          ]
        },
        {
          "output_type": "error",
          "ename": "NameError",
          "evalue": "ignored",
          "traceback": [
            "\u001b[0;31m---------------------------------------------------------------------------\u001b[0m",
            "\u001b[0;31mNameError\u001b[0m                                 Traceback (most recent call last)",
            "\u001b[0;32m<ipython-input-18-dd85990fae1d>\u001b[0m in \u001b[0;36m<module>\u001b[0;34m\u001b[0m\n\u001b[0;32m----> 1\u001b[0;31m \u001b[0monline_sgd_res\u001b[0m \u001b[0;34m=\u001b[0m \u001b[0mevaluate_model_sgd\u001b[0m\u001b[0;34m(\u001b[0m\u001b[0mopt_state\u001b[0m\u001b[0;34m,\u001b[0m \u001b[0mn_iter\u001b[0m\u001b[0;34m=\u001b[0m\u001b[0;36m10\u001b[0m\u001b[0;34m)\u001b[0m\u001b[0;34m\u001b[0m\u001b[0;34m\u001b[0m\u001b[0m\n\u001b[0m",
            "\u001b[0;32m<ipython-input-17-511a31643824>\u001b[0m in \u001b[0;36mevaluate_model_sgd\u001b[0;34m(state, ntrain_per_batch, ntest_per_batch, n_iter)\u001b[0m\n\u001b[1;32m     14\u001b[0m \u001b[0;34m\u001b[0m\u001b[0m\n\u001b[1;32m     15\u001b[0m             \u001b[0mtrained_state\u001b[0m \u001b[0;34m=\u001b[0m \u001b[0mtrain_model\u001b[0m\u001b[0;34m(\u001b[0m\u001b[0mtrained_state\u001b[0m\u001b[0;34m,\u001b[0m \u001b[0mcurr_Xtr\u001b[0m\u001b[0;34m,\u001b[0m \u001b[0mcurr_Ytr\u001b[0m\u001b[0;34m)\u001b[0m\u001b[0;34m\u001b[0m\u001b[0;34m\u001b[0m\u001b[0m\n\u001b[0;32m---> 16\u001b[0;31m             \u001b[0maccs\u001b[0m \u001b[0;34m=\u001b[0m \u001b[0mevaluate_accuracy\u001b[0m\u001b[0;34m(\u001b[0m\u001b[0mtrained_state\u001b[0m\u001b[0;34m.\u001b[0m\u001b[0mparams\u001b[0m\u001b[0;34m,\u001b[0m \u001b[0mapply_fn\u001b[0m\u001b[0;34m,\u001b[0m \u001b[0mcurr_Xte\u001b[0m\u001b[0;34m,\u001b[0m \u001b[0mcurr_Yte\u001b[0m\u001b[0;34m)\u001b[0m\u001b[0;34m\u001b[0m\u001b[0;34m\u001b[0m\u001b[0m\n\u001b[0m\u001b[1;32m     17\u001b[0m             \u001b[0moa_accs\u001b[0m\u001b[0;34m.\u001b[0m\u001b[0mappend\u001b[0m\u001b[0;34m(\u001b[0m\u001b[0maccs\u001b[0m\u001b[0;34m)\u001b[0m\u001b[0;34m\u001b[0m\u001b[0;34m\u001b[0m\u001b[0m\n\u001b[1;32m     18\u001b[0m \u001b[0;34m\u001b[0m\u001b[0m\n",
            "\u001b[0;31mNameError\u001b[0m: name 'evaluate_accuracy' is not defined"
          ]
        }
      ]
    },
    {
      "cell_type": "markdown",
      "source": [
        "# 9. Offline SGD (baseline)"
      ],
      "metadata": {
        "id": "Xx2ft2j0iJbd"
      }
    },
    {
      "cell_type": "code",
      "source": [
        "num_epochs, batch_size, key = 20_000, 32, jr.PRNGKey(0)\n",
        "\n",
        "sgd_state = TrainState.create(\n",
        "    apply_fn=apply_fn,\n",
        "    params=flat_params,\n",
        "    tx=optax.sgd(learning_rate=1e-2)\n",
        ")"
      ],
      "metadata": {
        "id": "P8Mhe_CZiPTv"
      },
      "execution_count": null,
      "outputs": []
    },
    {
      "cell_type": "code",
      "source": [
        "@partial(jit, static_argnums=(3,))\n",
        "def sgd_loss_fn(params, X_batch, y_batch, apply_fn):\n",
        "    logits = vmap(apply_fn, (None, 0))(params, X_batch).ravel()\n",
        "    nll = jnp.mean(optax.sigmoid_binary_cross_entropy(logits, y_batch.ravel()))\n",
        "\n",
        "    return nll"
      ],
      "metadata": {
        "id": "QuM7qQCxkMI9"
      },
      "execution_count": null,
      "outputs": []
    },
    {
      "cell_type": "code",
      "source": [
        "sgd_state, losses = sgd.train_full(\n",
        "    key, num_epochs, batch_size, sgd_state, Xtr, Ytr, sgd_loss_fn, Xte, Yte\n",
        ")"
      ],
      "metadata": {
        "id": "4DJbvbzmkD7F"
      },
      "execution_count": null,
      "outputs": []
    },
    {
      "cell_type": "code",
      "source": [
        "offline_sgd_overall_acc = evaluate_accuracy(sgd_state.params, apply_fn, Xte, Yte)\n",
        "offline_sgd_task1_accuracy = evaluate_accuracy(sgd_state.params, apply_fn, Xte[:ntest_per_batch], Yte[:ntest_per_batch])"
      ],
      "metadata": {
        "id": "ODiHrOIqq0Oc"
      },
      "execution_count": null,
      "outputs": []
    },
    {
      "cell_type": "code",
      "source": [
        "offline_sgd_overall_acc"
      ],
      "metadata": {
        "id": "G6wnPklyrCQx"
      },
      "execution_count": null,
      "outputs": []
    },
    {
      "cell_type": "code",
      "source": [
        "offline_sgd_task1_accuracy"
      ],
      "metadata": {
        "id": "DKJNb3_NrMqy"
      },
      "execution_count": null,
      "outputs": []
    },
    {
      "cell_type": "markdown",
      "metadata": {
        "id": "vuOwb_lJB0lT"
      },
      "source": [
        "# 9. Model Comparison"
      ]
    },
    {
      "cell_type": "code",
      "source": [
        "results = {\n",
        "    'sgd': online_sgd_res,\n",
        "    'fdekf': fdekf_res,\n",
        "    'vdekf': vdekf_res,\n",
        "    'lofi-orth': lofi_orth_res,\n",
        "    'lofi_sph': lofi_sph_res,\n",
        "    'lofi_diag': lofi_diag_res,\n",
        "}"
      ],
      "metadata": {
        "colab": {
          "base_uri": "https://localhost:8080/",
          "height": 239
        },
        "id": "CxClKof2psl7",
        "outputId": "98cd099e-b34f-4938-c30c-5d6317a2abe0"
      },
      "execution_count": 1,
      "outputs": [
        {
          "output_type": "error",
          "ename": "NameError",
          "evalue": "ignored",
          "traceback": [
            "\u001b[0;31m---------------------------------------------------------------------------\u001b[0m",
            "\u001b[0;31mNameError\u001b[0m                                 Traceback (most recent call last)",
            "\u001b[0;32m<ipython-input-1-166db72e50b1>\u001b[0m in \u001b[0;36m<module>\u001b[0;34m\u001b[0m\n\u001b[1;32m      1\u001b[0m results = {\n\u001b[0;32m----> 2\u001b[0;31m     \u001b[0;34m'sgd'\u001b[0m\u001b[0;34m:\u001b[0m \u001b[0monline_sgd_res\u001b[0m\u001b[0;34m,\u001b[0m\u001b[0;34m\u001b[0m\u001b[0;34m\u001b[0m\u001b[0m\n\u001b[0m\u001b[1;32m      3\u001b[0m     \u001b[0;34m'fdekf'\u001b[0m\u001b[0;34m:\u001b[0m \u001b[0mfdekf_res\u001b[0m\u001b[0;34m,\u001b[0m\u001b[0;34m\u001b[0m\u001b[0;34m\u001b[0m\u001b[0m\n\u001b[1;32m      4\u001b[0m     \u001b[0;34m'vdekf'\u001b[0m\u001b[0;34m:\u001b[0m \u001b[0mvdekf_res\u001b[0m\u001b[0;34m,\u001b[0m\u001b[0;34m\u001b[0m\u001b[0;34m\u001b[0m\u001b[0m\n\u001b[1;32m      5\u001b[0m     \u001b[0;34m'lofi-orth'\u001b[0m\u001b[0;34m:\u001b[0m \u001b[0mlofi_orth_res\u001b[0m\u001b[0;34m,\u001b[0m\u001b[0;34m\u001b[0m\u001b[0;34m\u001b[0m\u001b[0m\n",
            "\u001b[0;31mNameError\u001b[0m: name 'online_sgd_res' is not defined"
          ]
        }
      ]
    },
    {
      "cell_type": "code",
      "source": [
        "fig, ax = plt.subplots()\n",
        "for key, val in results.items():\n",
        "    ax.plot(jnp.arange(1, 6), val['overall'], linestyle='--', marker='o', label=key);\n",
        "    ax.errorbar(jnp.arange(1, 6), val['overall'], yerr=val['overall-std'], fmt='o')\n",
        "ax.plot(jnp.arange(1, 6), [offline_sgd_overall_acc] * 5, 'k--', label='offline-sgd')\n",
        "ax.set_xlabel('Number of tasks')\n",
        "ax.set_ylabel('Average test accuracy')\n",
        "ax.set_xticks(jnp.arange(1, 6))\n",
        "ax.grid()\n",
        "ax.set_title('Average test accuracy over examples seen so far')\n",
        "ax.legend();"
      ],
      "metadata": {
        "colab": {
          "base_uri": "https://localhost:8080/",
          "height": 295
        },
        "id": "l8ZlgJurDdhf",
        "outputId": "ec495cb8-8551-4bbf-bccd-a9d45e4f5de1"
      },
      "execution_count": 88,
      "outputs": [
        {
          "output_type": "display_data",
          "data": {
            "text/plain": [
              "<Figure size 432x288 with 1 Axes>"
            ],
            "image/png": "[encoded data removed]"
          },
          "metadata": {
            "needs_background": "light"
          }
        }
      ]
    },
    {
      "cell_type": "code",
      "source": [
        "fig, ax = plt.subplots()\n",
        "for key, val in results.items():\n",
        "    ax.plot(jnp.arange(1, 6), val['task1'], linestyle='--', marker='o', label=key);\n",
        "    ax.errorbar(jnp.arange(1, 6), val['task1'], yerr=val['task1-std'], fmt='o')\n",
        "ax.plot(jnp.arange(1, 6), [offline_sgd_task1_accuracy] * 5, 'k--', label='offline-sgd')\n",
        "ax.set_xlabel('Number of tasks')\n",
        "ax.set_ylabel('Average test accuracy')\n",
        "ax.set_xticks(jnp.arange(1, 6))\n",
        "ax.grid()\n",
        "ax.set_title('Average test accuracy for first task')\n",
        "ax.legend();"
      ],
      "metadata": {
        "colab": {
          "base_uri": "https://localhost:8080/",
          "height": 295
        },
        "id": "8G4ZUDk0rLJ0",
        "outputId": "ad932635-2f8a-43cb-c5da-07085733d0b2"
      },
      "execution_count": 89,
      "outputs": [
        {
          "output_type": "display_data",
          "data": {
            "text/plain": [
              "<Figure size 432x288 with 1 Axes>"
            ],
            "image/png": "[encoded data removed]"
          },
          "metadata": {
            "needs_background": "light"
          }
        }
      ]
    },
    {
      "cell_type": "code",
      "source": [],
      "metadata": {
        "id": "nl-nTItqsK2O"
      },
      "execution_count": 57,
      "outputs": []
    }
  ],
  "metadata": {
    "kernelspec": {
      "display_name": ".venv",
      "language": "python",
      "name": "python3"
    },
    "language_info": {
      "codemirror_mode": {
        "name": "ipython",
        "version": 3
      },
      "file_extension": ".py",
      "mimetype": "text/x-python",
      "name": "python",
      "nbconvert_exporter": "python",
      "pygments_lexer": "ipython3",
      "version": "3.10.0"
    },
    "orig_nbformat": 4,
    "vscode": {
      "interpreter": {
        "hash": "a63216e3e6a2ce617ef04b00f48ca414857cfc892c8cff43a5943fdd36fca11d"
      }
    },
    "colab": {
      "provenance": [],
      "machine_shape": "hm"
    },
    "accelerator": "GPU",
    "gpuClass": "premium",
    "widgets": {
      "application/vnd.jupyter.widget-state+json": {
        "524d584d023f484c94d034a6c3f6eee7": {
          "model_module": "@jupyter-widgets/controls",
          "model_name": "HBoxModel",
          "model_module_version": "1.5.0",
          "state": {
            "_dom_classes": [],
            "_model_module": "@jupyter-widgets/controls",
            "_model_module_version": "1.5.0",
            "_model_name": "HBoxModel",
            "_view_count": null,
            "_view_module": "@jupyter-widgets/controls",
            "_view_module_version": "1.5.0",
            "_view_name": "HBoxView",
            "box_style": "",
            "children": [
              "IPY_MODEL_8cceede0d5b646b184cd53e63be4d10f",
              "IPY_MODEL_56f5ea66685048beaffcd5dca4fd039c",
              "IPY_MODEL_0a9f99c1002b4173a3f3b0a647012881"
            ],
            "layout": "IPY_MODEL_11eb4a4b7f63490dad02356aa0f2167c"
          }
        },
        "8cceede0d5b646b184cd53e63be4d10f": {
          "model_module": "@jupyter-widgets/controls",
          "model_name": "HTMLModel",
          "model_module_version": "1.5.0",
          "state": {
            "_dom_classes": [],
            "_model_module": "@jupyter-widgets/controls",
            "_model_module_version": "1.5.0",
            "_model_name": "HTMLModel",
            "_view_count": null,
            "_view_module": "@jupyter-widgets/controls",
            "_view_module_version": "1.5.0",
            "_view_name": "HTMLView",
            "description": "",
            "description_tooltip": null,
            "layout": "IPY_MODEL_7dc7d33bb90147d295906377a022c98b",
            "placeholder": "​",
            "style": "IPY_MODEL_4811b8c8449c48d692189ef875a8dcf3",
            "value": "100%"
          }
        },
        "56f5ea66685048beaffcd5dca4fd039c": {
          "model_module": "@jupyter-widgets/controls",
          "model_name": "FloatProgressModel",
          "model_module_version": "1.5.0",
          "state": {
            "_dom_classes": [],
            "_model_module": "@jupyter-widgets/controls",
            "_model_module_version": "1.5.0",
            "_model_name": "FloatProgressModel",
            "_view_count": null,
            "_view_module": "@jupyter-widgets/controls",
            "_view_module_version": "1.5.0",
            "_view_name": "ProgressView",
            "bar_style": "success",
            "description": "",
            "description_tooltip": null,
            "layout": "IPY_MODEL_16f4ab4a234d46e0978328b87cbb9724",
            "max": 9912422,
            "min": 0,
            "orientation": "horizontal",
            "style": "IPY_MODEL_aecf9bc059b047bd9796b36412932f58",
            "value": 9912422
          }
        },
        "0a9f99c1002b4173a3f3b0a647012881": {
          "model_module": "@jupyter-widgets/controls",
          "model_name": "HTMLModel",
          "model_module_version": "1.5.0",
          "state": {
            "_dom_classes": [],
            "_model_module": "@jupyter-widgets/controls",
            "_model_module_version": "1.5.0",
            "_model_name": "HTMLModel",
            "_view_count": null,
            "_view_module": "@jupyter-widgets/controls",
            "_view_module_version": "1.5.0",
            "_view_name": "HTMLView",
            "description": "",
            "description_tooltip": null,
            "layout": "IPY_MODEL_410dfb2921a0472bbc92c741d06e8554",
            "placeholder": "​",
            "style": "IPY_MODEL_2bfdfca3232f4f7ab2a2316ad71f3023",
            "value": " 9912422/9912422 [00:00&lt;00:00, 46194443.57it/s]"
          }
        },
        "11eb4a4b7f63490dad02356aa0f2167c": {
          "model_module": "@jupyter-widgets/base",
          "model_name": "LayoutModel",
          "model_module_version": "1.2.0",
          "state": {
            "_model_module": "@jupyter-widgets/base",
            "_model_module_version": "1.2.0",
            "_model_name": "LayoutModel",
            "_view_count": null,
            "_view_module": "@jupyter-widgets/base",
            "_view_module_version": "1.2.0",
            "_view_name": "LayoutView",
            "align_content": null,
            "align_items": null,
            "align_self": null,
            "border": null,
            "bottom": null,
            "display": null,
            "flex": null,
            "flex_flow": null,
            "grid_area": null,
            "grid_auto_columns": null,
            "grid_auto_flow": null,
            "grid_auto_rows": null,
            "grid_column": null,
            "grid_gap": null,
            "grid_row": null,
            "grid_template_areas": null,
            "grid_template_columns": null,
            "grid_template_rows": null,
            "height": null,
            "justify_content": null,
            "justify_items": null,
            "left": null,
            "margin": null,
            "max_height": null,
            "max_width": null,
            "min_height": null,
            "min_width": null,
            "object_fit": null,
            "object_position": null,
            "order": null,
            "overflow": null,
            "overflow_x": null,
            "overflow_y": null,
            "padding": null,
            "right": null,
            "top": null,
            "visibility": null,
            "width": null
          }
        },
        "7dc7d33bb90147d295906377a022c98b": {
          "model_module": "@jupyter-widgets/base",
          "model_name": "LayoutModel",
          "model_module_version": "1.2.0",
          "state": {
            "_model_module": "@jupyter-widgets/base",
            "_model_module_version": "1.2.0",
            "_model_name": "LayoutModel",
            "_view_count": null,
            "_view_module": "@jupyter-widgets/base",
            "_view_module_version": "1.2.0",
            "_view_name": "LayoutView",
            "align_content": null,
            "align_items": null,
            "align_self": null,
            "border": null,
            "bottom": null,
            "display": null,
            "flex": null,
            "flex_flow": null,
            "grid_area": null,
            "grid_auto_columns": null,
            "grid_auto_flow": null,
            "grid_auto_rows": null,
            "grid_column": null,
            "grid_gap": null,
            "grid_row": null,
            "grid_template_areas": null,
            "grid_template_columns": null,
            "grid_template_rows": null,
            "height": null,
            "justify_content": null,
            "justify_items": null,
            "left": null,
            "margin": null,
            "max_height": null,
            "max_width": null,
            "min_height": null,
            "min_width": null,
            "object_fit": null,
            "object_position": null,
            "order": null,
            "overflow": null,
            "overflow_x": null,
            "overflow_y": null,
            "padding": null,
            "right": null,
            "top": null,
            "visibility": null,
            "width": null
          }
        },
        "4811b8c8449c48d692189ef875a8dcf3": {
          "model_module": "@jupyter-widgets/controls",
          "model_name": "DescriptionStyleModel",
          "model_module_version": "1.5.0",
          "state": {
            "_model_module": "@jupyter-widgets/controls",
            "_model_module_version": "1.5.0",
            "_model_name": "DescriptionStyleModel",
            "_view_count": null,
            "_view_module": "@jupyter-widgets/base",
            "_view_module_version": "1.2.0",
            "_view_name": "StyleView",
            "description_width": ""
          }
        },
        "16f4ab4a234d46e0978328b87cbb9724": {
          "model_module": "@jupyter-widgets/base",
          "model_name": "LayoutModel",
          "model_module_version": "1.2.0",
          "state": {
            "_model_module": "@jupyter-widgets/base",
            "_model_module_version": "1.2.0",
            "_model_name": "LayoutModel",
            "_view_count": null,
            "_view_module": "@jupyter-widgets/base",
            "_view_module_version": "1.2.0",
            "_view_name": "LayoutView",
            "align_content": null,
            "align_items": null,
            "align_self": null,
            "border": null,
            "bottom": null,
            "display": null,
            "flex": null,
            "flex_flow": null,
            "grid_area": null,
            "grid_auto_columns": null,
            "grid_auto_flow": null,
            "grid_auto_rows": null,
            "grid_column": null,
            "grid_gap": null,
            "grid_row": null,
            "grid_template_areas": null,
            "grid_template_columns": null,
            "grid_template_rows": null,
            "height": null,
            "justify_content": null,
            "justify_items": null,
            "left": null,
            "margin": null,
            "max_height": null,
            "max_width": null,
            "min_height": null,
            "min_width": null,
            "object_fit": null,
            "object_position": null,
            "order": null,
            "overflow": null,
            "overflow_x": null,
            "overflow_y": null,
            "padding": null,
            "right": null,
            "top": null,
            "visibility": null,
            "width": null
          }
        },
        "aecf9bc059b047bd9796b36412932f58": {
          "model_module": "@jupyter-widgets/controls",
          "model_name": "ProgressStyleModel",
          "model_module_version": "1.5.0",
          "state": {
            "_model_module": "@jupyter-widgets/controls",
            "_model_module_version": "1.5.0",
            "_model_name": "ProgressStyleModel",
            "_view_count": null,
            "_view_module": "@jupyter-widgets/base",
            "_view_module_version": "1.2.0",
            "_view_name": "StyleView",
            "bar_color": null,
            "description_width": ""
          }
        },
        "410dfb2921a0472bbc92c741d06e8554": {
          "model_module": "@jupyter-widgets/base",
          "model_name": "LayoutModel",
          "model_module_version": "1.2.0",
          "state": {
            "_model_module": "@jupyter-widgets/base",
            "_model_module_version": "1.2.0",
            "_model_name": "LayoutModel",
            "_view_count": null,
            "_view_module": "@jupyter-widgets/base",
            "_view_module_version": "1.2.0",
            "_view_name": "LayoutView",
            "align_content": null,
            "align_items": null,
            "align_self": null,
            "border": null,
            "bottom": null,
            "display": null,
            "flex": null,
            "flex_flow": null,
            "grid_area": null,
            "grid_auto_columns": null,
            "grid_auto_flow": null,
            "grid_auto_rows": null,
            "grid_column": null,
            "grid_gap": null,
            "grid_row": null,
            "grid_template_areas": null,
            "grid_template_columns": null,
            "grid_template_rows": null,
            "height": null,
            "justify_content": null,
            "justify_items": null,
            "left": null,
            "margin": null,
            "max_height": null,
            "max_width": null,
            "min_height": null,
            "min_width": null,
            "object_fit": null,
            "object_position": null,
            "order": null,
            "overflow": null,
            "overflow_x": null,
            "overflow_y": null,
            "padding": null,
            "right": null,
            "top": null,
            "visibility": null,
            "width": null
          }
        },
        "2bfdfca3232f4f7ab2a2316ad71f3023": {
          "model_module": "@jupyter-widgets/controls",
          "model_name": "DescriptionStyleModel",
          "model_module_version": "1.5.0",
          "state": {
            "_model_module": "@jupyter-widgets/controls",
            "_model_module_version": "1.5.0",
            "_model_name": "DescriptionStyleModel",
            "_view_count": null,
            "_view_module": "@jupyter-widgets/base",
            "_view_module_version": "1.2.0",
            "_view_name": "StyleView",
            "description_width": ""
          }
        },
        "4ffdda92fa3445e3a8d0fea8d2ca4af4": {
          "model_module": "@jupyter-widgets/controls",
          "model_name": "HBoxModel",
          "model_module_version": "1.5.0",
          "state": {
            "_dom_classes": [],
            "_model_module": "@jupyter-widgets/controls",
            "_model_module_version": "1.5.0",
            "_model_name": "HBoxModel",
            "_view_count": null,
            "_view_module": "@jupyter-widgets/controls",
            "_view_module_version": "1.5.0",
            "_view_name": "HBoxView",
            "box_style": "",
            "children": [
              "IPY_MODEL_91ddaf79e10d4c5999a4137c0808b7f0",
              "IPY_MODEL_9e366c45289b4bbb92e47e4fa38f205d",
              "IPY_MODEL_660a25eefca84c68b649d3b11214aa41"
            ],
            "layout": "IPY_MODEL_76f8ca5a3c324e99b4c11a363d0b1dde"
          }
        },
        "91ddaf79e10d4c5999a4137c0808b7f0": {
          "model_module": "@jupyter-widgets/controls",
          "model_name": "HTMLModel",
          "model_module_version": "1.5.0",
          "state": {
            "_dom_classes": [],
            "_model_module": "@jupyter-widgets/controls",
            "_model_module_version": "1.5.0",
            "_model_name": "HTMLModel",
            "_view_count": null,
            "_view_module": "@jupyter-widgets/controls",
            "_view_module_version": "1.5.0",
            "_view_name": "HTMLView",
            "description": "",
            "description_tooltip": null,
            "layout": "IPY_MODEL_150a1746b1e34259ace05a7418f72248",
            "placeholder": "​",
            "style": "IPY_MODEL_6c6d24ae4067493c8dea86f59dd176f9",
            "value": "100%"
          }
        },
        "9e366c45289b4bbb92e47e4fa38f205d": {
          "model_module": "@jupyter-widgets/controls",
          "model_name": "FloatProgressModel",
          "model_module_version": "1.5.0",
          "state": {
            "_dom_classes": [],
            "_model_module": "@jupyter-widgets/controls",
            "_model_module_version": "1.5.0",
            "_model_name": "FloatProgressModel",
            "_view_count": null,
            "_view_module": "@jupyter-widgets/controls",
            "_view_module_version": "1.5.0",
            "_view_name": "ProgressView",
            "bar_style": "success",
            "description": "",
            "description_tooltip": null,
            "layout": "IPY_MODEL_17020c19a20941b49a3e160afa48dd9f",
            "max": 28881,
            "min": 0,
            "orientation": "horizontal",
            "style": "IPY_MODEL_b52f6c0e7b434310ae3d3ad06c8ef395",
            "value": 28881
          }
        },
        "660a25eefca84c68b649d3b11214aa41": {
          "model_module": "@jupyter-widgets/controls",
          "model_name": "HTMLModel",
          "model_module_version": "1.5.0",
          "state": {
            "_dom_classes": [],
            "_model_module": "@jupyter-widgets/controls",
            "_model_module_version": "1.5.0",
            "_model_name": "HTMLModel",
            "_view_count": null,
            "_view_module": "@jupyter-widgets/controls",
            "_view_module_version": "1.5.0",
            "_view_name": "HTMLView",
            "description": "",
            "description_tooltip": null,
            "layout": "IPY_MODEL_8fec728966d24255952202aaa29eed9a",
            "placeholder": "​",
            "style": "IPY_MODEL_8cbd0cd393474d88ab433797f68ad473",
            "value": " 28881/28881 [00:00&lt;00:00, 1081269.41it/s]"
          }
        },
        "76f8ca5a3c324e99b4c11a363d0b1dde": {
          "model_module": "@jupyter-widgets/base",
          "model_name": "LayoutModel",
          "model_module_version": "1.2.0",
          "state": {
            "_model_module": "@jupyter-widgets/base",
            "_model_module_version": "1.2.0",
            "_model_name": "LayoutModel",
            "_view_count": null,
            "_view_module": "@jupyter-widgets/base",
            "_view_module_version": "1.2.0",
            "_view_name": "LayoutView",
            "align_content": null,
            "align_items": null,
            "align_self": null,
            "border": null,
            "bottom": null,
            "display": null,
            "flex": null,
            "flex_flow": null,
            "grid_area": null,
            "grid_auto_columns": null,
            "grid_auto_flow": null,
            "grid_auto_rows": null,
            "grid_column": null,
            "grid_gap": null,
            "grid_row": null,
            "grid_template_areas": null,
            "grid_template_columns": null,
            "grid_template_rows": null,
            "height": null,
            "justify_content": null,
            "justify_items": null,
            "left": null,
            "margin": null,
            "max_height": null,
            "max_width": null,
            "min_height": null,
            "min_width": null,
            "object_fit": null,
            "object_position": null,
            "order": null,
            "overflow": null,
            "overflow_x": null,
            "overflow_y": null,
            "padding": null,
            "right": null,
            "top": null,
            "visibility": null,
            "width": null
          }
        },
        "150a1746b1e34259ace05a7418f72248": {
          "model_module": "@jupyter-widgets/base",
          "model_name": "LayoutModel",
          "model_module_version": "1.2.0",
          "state": {
            "_model_module": "@jupyter-widgets/base",
            "_model_module_version": "1.2.0",
            "_model_name": "LayoutModel",
            "_view_count": null,
            "_view_module": "@jupyter-widgets/base",
            "_view_module_version": "1.2.0",
            "_view_name": "LayoutView",
            "align_content": null,
            "align_items": null,
            "align_self": null,
            "border": null,
            "bottom": null,
            "display": null,
            "flex": null,
            "flex_flow": null,
            "grid_area": null,
            "grid_auto_columns": null,
            "grid_auto_flow": null,
            "grid_auto_rows": null,
            "grid_column": null,
            "grid_gap": null,
            "grid_row": null,
            "grid_template_areas": null,
            "grid_template_columns": null,
            "grid_template_rows": null,
            "height": null,
            "justify_content": null,
            "justify_items": null,
            "left": null,
            "margin": null,
            "max_height": null,
            "max_width": null,
            "min_height": null,
            "min_width": null,
            "object_fit": null,
            "object_position": null,
            "order": null,
            "overflow": null,
            "overflow_x": null,
            "overflow_y": null,
            "padding": null,
            "right": null,
            "top": null,
            "visibility": null,
            "width": null
          }
        },
        "6c6d24ae4067493c8dea86f59dd176f9": {
          "model_module": "@jupyter-widgets/controls",
          "model_name": "DescriptionStyleModel",
          "model_module_version": "1.5.0",
          "state": {
            "_model_module": "@jupyter-widgets/controls",
            "_model_module_version": "1.5.0",
            "_model_name": "DescriptionStyleModel",
            "_view_count": null,
            "_view_module": "@jupyter-widgets/base",
            "_view_module_version": "1.2.0",
            "_view_name": "StyleView",
            "description_width": ""
          }
        },
        "17020c19a20941b49a3e160afa48dd9f": {
          "model_module": "@jupyter-widgets/base",
          "model_name": "LayoutModel",
          "model_module_version": "1.2.0",
          "state": {
            "_model_module": "@jupyter-widgets/base",
            "_model_module_version": "1.2.0",
            "_model_name": "LayoutModel",
            "_view_count": null,
            "_view_module": "@jupyter-widgets/base",
            "_view_module_version": "1.2.0",
            "_view_name": "LayoutView",
            "align_content": null,
            "align_items": null,
            "align_self": null,
            "border": null,
            "bottom": null,
            "display": null,
            "flex": null,
            "flex_flow": null,
            "grid_area": null,
            "grid_auto_columns": null,
            "grid_auto_flow": null,
            "grid_auto_rows": null,
            "grid_column": null,
            "grid_gap": null,
            "grid_row": null,
            "grid_template_areas": null,
            "grid_template_columns": null,
            "grid_template_rows": null,
            "height": null,
            "justify_content": null,
            "justify_items": null,
            "left": null,
            "margin": null,
            "max_height": null,
            "max_width": null,
            "min_height": null,
            "min_width": null,
            "object_fit": null,
            "object_position": null,
            "order": null,
            "overflow": null,
            "overflow_x": null,
            "overflow_y": null,
            "padding": null,
            "right": null,
            "top": null,
            "visibility": null,
            "width": null
          }
        },
        "b52f6c0e7b434310ae3d3ad06c8ef395": {
          "model_module": "@jupyter-widgets/controls",
          "model_name": "ProgressStyleModel",
          "model_module_version": "1.5.0",
          "state": {
            "_model_module": "@jupyter-widgets/controls",
            "_model_module_version": "1.5.0",
            "_model_name": "ProgressStyleModel",
            "_view_count": null,
            "_view_module": "@jupyter-widgets/base",
            "_view_module_version": "1.2.0",
            "_view_name": "StyleView",
            "bar_color": null,
            "description_width": ""
          }
        },
        "8fec728966d24255952202aaa29eed9a": {
          "model_module": "@jupyter-widgets/base",
          "model_name": "LayoutModel",
          "model_module_version": "1.2.0",
          "state": {
            "_model_module": "@jupyter-widgets/base",
            "_model_module_version": "1.2.0",
            "_model_name": "LayoutModel",
            "_view_count": null,
            "_view_module": "@jupyter-widgets/base",
            "_view_module_version": "1.2.0",
            "_view_name": "LayoutView",
            "align_content": null,
            "align_items": null,
            "align_self": null,
            "border": null,
            "bottom": null,
            "display": null,
            "flex": null,
            "flex_flow": null,
            "grid_area": null,
            "grid_auto_columns": null,
            "grid_auto_flow": null,
            "grid_auto_rows": null,
            "grid_column": null,
            "grid_gap": null,
            "grid_row": null,
            "grid_template_areas": null,
            "grid_template_columns": null,
            "grid_template_rows": null,
            "height": null,
            "justify_content": null,
            "justify_items": null,
            "left": null,
            "margin": null,
            "max_height": null,
            "max_width": null,
            "min_height": null,
            "min_width": null,
            "object_fit": null,
            "object_position": null,
            "order": null,
            "overflow": null,
            "overflow_x": null,
            "overflow_y": null,
            "padding": null,
            "right": null,
            "top": null,
            "visibility": null,
            "width": null
          }
        },
        "8cbd0cd393474d88ab433797f68ad473": {
          "model_module": "@jupyter-widgets/controls",
          "model_name": "DescriptionStyleModel",
          "model_module_version": "1.5.0",
          "state": {
            "_model_module": "@jupyter-widgets/controls",
            "_model_module_version": "1.5.0",
            "_model_name": "DescriptionStyleModel",
            "_view_count": null,
            "_view_module": "@jupyter-widgets/base",
            "_view_module_version": "1.2.0",
            "_view_name": "StyleView",
            "description_width": ""
          }
        },
        "47742ba92db34ad69561cc870707d90f": {
          "model_module": "@jupyter-widgets/controls",
          "model_name": "HBoxModel",
          "model_module_version": "1.5.0",
          "state": {
            "_dom_classes": [],
            "_model_module": "@jupyter-widgets/controls",
            "_model_module_version": "1.5.0",
            "_model_name": "HBoxModel",
            "_view_count": null,
            "_view_module": "@jupyter-widgets/controls",
            "_view_module_version": "1.5.0",
            "_view_name": "HBoxView",
            "box_style": "",
            "children": [
              "IPY_MODEL_08ecd674c06e4e3da8f542bf1db1187f",
              "IPY_MODEL_245f9f95fc3a479d937c21666e64369d",
              "IPY_MODEL_ef75b59cacab4818a1d6f4e24267ccaf"
            ],
            "layout": "IPY_MODEL_b7fca93a57b54f06abbdd690268a6d4b"
          }
        },
        "08ecd674c06e4e3da8f542bf1db1187f": {
          "model_module": "@jupyter-widgets/controls",
          "model_name": "HTMLModel",
          "model_module_version": "1.5.0",
          "state": {
            "_dom_classes": [],
            "_model_module": "@jupyter-widgets/controls",
            "_model_module_version": "1.5.0",
            "_model_name": "HTMLModel",
            "_view_count": null,
            "_view_module": "@jupyter-widgets/controls",
            "_view_module_version": "1.5.0",
            "_view_name": "HTMLView",
            "description": "",
            "description_tooltip": null,
            "layout": "IPY_MODEL_d10cc31cbaf94dd6a45f298bce9baafb",
            "placeholder": "​",
            "style": "IPY_MODEL_5f63026c0dac47efa45ca9710dbbfb57",
            "value": "100%"
          }
        },
        "245f9f95fc3a479d937c21666e64369d": {
          "model_module": "@jupyter-widgets/controls",
          "model_name": "FloatProgressModel",
          "model_module_version": "1.5.0",
          "state": {
            "_dom_classes": [],
            "_model_module": "@jupyter-widgets/controls",
            "_model_module_version": "1.5.0",
            "_model_name": "FloatProgressModel",
            "_view_count": null,
            "_view_module": "@jupyter-widgets/controls",
            "_view_module_version": "1.5.0",
            "_view_name": "ProgressView",
            "bar_style": "success",
            "description": "",
            "description_tooltip": null,
            "layout": "IPY_MODEL_c050ea1dcc014f208cff9794867ba5d3",
            "max": 1648877,
            "min": 0,
            "orientation": "horizontal",
            "style": "IPY_MODEL_ced77a6d9060428cb463683f72059150",
            "value": 1648877
          }
        },
        "ef75b59cacab4818a1d6f4e24267ccaf": {
          "model_module": "@jupyter-widgets/controls",
          "model_name": "HTMLModel",
          "model_module_version": "1.5.0",
          "state": {
            "_dom_classes": [],
            "_model_module": "@jupyter-widgets/controls",
            "_model_module_version": "1.5.0",
            "_model_name": "HTMLModel",
            "_view_count": null,
            "_view_module": "@jupyter-widgets/controls",
            "_view_module_version": "1.5.0",
            "_view_name": "HTMLView",
            "description": "",
            "description_tooltip": null,
            "layout": "IPY_MODEL_01da9718d9e54a6989b6d46c036d8872",
            "placeholder": "​",
            "style": "IPY_MODEL_f8f2c66a7d2d46d7985b5545492c50d0",
            "value": " 1648877/1648877 [00:00&lt;00:00, 21662254.58it/s]"
          }
        },
        "b7fca93a57b54f06abbdd690268a6d4b": {
          "model_module": "@jupyter-widgets/base",
          "model_name": "LayoutModel",
          "model_module_version": "1.2.0",
          "state": {
            "_model_module": "@jupyter-widgets/base",
            "_model_module_version": "1.2.0",
            "_model_name": "LayoutModel",
            "_view_count": null,
            "_view_module": "@jupyter-widgets/base",
            "_view_module_version": "1.2.0",
            "_view_name": "LayoutView",
            "align_content": null,
            "align_items": null,
            "align_self": null,
            "border": null,
            "bottom": null,
            "display": null,
            "flex": null,
            "flex_flow": null,
            "grid_area": null,
            "grid_auto_columns": null,
            "grid_auto_flow": null,
            "grid_auto_rows": null,
            "grid_column": null,
            "grid_gap": null,
            "grid_row": null,
            "grid_template_areas": null,
            "grid_template_columns": null,
            "grid_template_rows": null,
            "height": null,
            "justify_content": null,
            "justify_items": null,
            "left": null,
            "margin": null,
            "max_height": null,
            "max_width": null,
            "min_height": null,
            "min_width": null,
            "object_fit": null,
            "object_position": null,
            "order": null,
            "overflow": null,
            "overflow_x": null,
            "overflow_y": null,
            "padding": null,
            "right": null,
            "top": null,
            "visibility": null,
            "width": null
          }
        },
        "d10cc31cbaf94dd6a45f298bce9baafb": {
          "model_module": "@jupyter-widgets/base",
          "model_name": "LayoutModel",
          "model_module_version": "1.2.0",
          "state": {
            "_model_module": "@jupyter-widgets/base",
            "_model_module_version": "1.2.0",
            "_model_name": "LayoutModel",
            "_view_count": null,
            "_view_module": "@jupyter-widgets/base",
            "_view_module_version": "1.2.0",
            "_view_name": "LayoutView",
            "align_content": null,
            "align_items": null,
            "align_self": null,
            "border": null,
            "bottom": null,
            "display": null,
            "flex": null,
            "flex_flow": null,
            "grid_area": null,
            "grid_auto_columns": null,
            "grid_auto_flow": null,
            "grid_auto_rows": null,
            "grid_column": null,
            "grid_gap": null,
            "grid_row": null,
            "grid_template_areas": null,
            "grid_template_columns": null,
            "grid_template_rows": null,
            "height": null,
            "justify_content": null,
            "justify_items": null,
            "left": null,
            "margin": null,
            "max_height": null,
            "max_width": null,
            "min_height": null,
            "min_width": null,
            "object_fit": null,
            "object_position": null,
            "order": null,
            "overflow": null,
            "overflow_x": null,
            "overflow_y": null,
            "padding": null,
            "right": null,
            "top": null,
            "visibility": null,
            "width": null
          }
        },
        "5f63026c0dac47efa45ca9710dbbfb57": {
          "model_module": "@jupyter-widgets/controls",
          "model_name": "DescriptionStyleModel",
          "model_module_version": "1.5.0",
          "state": {
            "_model_module": "@jupyter-widgets/controls",
            "_model_module_version": "1.5.0",
            "_model_name": "DescriptionStyleModel",
            "_view_count": null,
            "_view_module": "@jupyter-widgets/base",
            "_view_module_version": "1.2.0",
            "_view_name": "StyleView",
            "description_width": ""
          }
        },
        "c050ea1dcc014f208cff9794867ba5d3": {
          "model_module": "@jupyter-widgets/base",
          "model_name": "LayoutModel",
          "model_module_version": "1.2.0",
          "state": {
            "_model_module": "@jupyter-widgets/base",
            "_model_module_version": "1.2.0",
            "_model_name": "LayoutModel",
            "_view_count": null,
            "_view_module": "@jupyter-widgets/base",
            "_view_module_version": "1.2.0",
            "_view_name": "LayoutView",
            "align_content": null,
            "align_items": null,
            "align_self": null,
            "border": null,
            "bottom": null,
            "display": null,
            "flex": null,
            "flex_flow": null,
            "grid_area": null,
            "grid_auto_columns": null,
            "grid_auto_flow": null,
            "grid_auto_rows": null,
            "grid_column": null,
            "grid_gap": null,
            "grid_row": null,
            "grid_template_areas": null,
            "grid_template_columns": null,
            "grid_template_rows": null,
            "height": null,
            "justify_content": null,
            "justify_items": null,
            "left": null,
            "margin": null,
            "max_height": null,
            "max_width": null,
            "min_height": null,
            "min_width": null,
            "object_fit": null,
            "object_position": null,
            "order": null,
            "overflow": null,
            "overflow_x": null,
            "overflow_y": null,
            "padding": null,
            "right": null,
            "top": null,
            "visibility": null,
            "width": null
          }
        },
        "ced77a6d9060428cb463683f72059150": {
          "model_module": "@jupyter-widgets/controls",
          "model_name": "ProgressStyleModel",
          "model_module_version": "1.5.0",
          "state": {
            "_model_module": "@jupyter-widgets/controls",
            "_model_module_version": "1.5.0",
            "_model_name": "ProgressStyleModel",
            "_view_count": null,
            "_view_module": "@jupyter-widgets/base",
            "_view_module_version": "1.2.0",
            "_view_name": "StyleView",
            "bar_color": null,
            "description_width": ""
          }
        },
        "01da9718d9e54a6989b6d46c036d8872": {
          "model_module": "@jupyter-widgets/base",
          "model_name": "LayoutModel",
          "model_module_version": "1.2.0",
          "state": {
            "_model_module": "@jupyter-widgets/base",
            "_model_module_version": "1.2.0",
            "_model_name": "LayoutModel",
            "_view_count": null,
            "_view_module": "@jupyter-widgets/base",
            "_view_module_version": "1.2.0",
            "_view_name": "LayoutView",
            "align_content": null,
            "align_items": null,
            "align_self": null,
            "border": null,
            "bottom": null,
            "display": null,
            "flex": null,
            "flex_flow": null,
            "grid_area": null,
            "grid_auto_columns": null,
            "grid_auto_flow": null,
            "grid_auto_rows": null,
            "grid_column": null,
            "grid_gap": null,
            "grid_row": null,
            "grid_template_areas": null,
            "grid_template_columns": null,
            "grid_template_rows": null,
            "height": null,
            "justify_content": null,
            "justify_items": null,
            "left": null,
            "margin": null,
            "max_height": null,
            "max_width": null,
            "min_height": null,
            "min_width": null,
            "object_fit": null,
            "object_position": null,
            "order": null,
            "overflow": null,
            "overflow_x": null,
            "overflow_y": null,
            "padding": null,
            "right": null,
            "top": null,
            "visibility": null,
            "width": null
          }
        },
        "f8f2c66a7d2d46d7985b5545492c50d0": {
          "model_module": "@jupyter-widgets/controls",
          "model_name": "DescriptionStyleModel",
          "model_module_version": "1.5.0",
          "state": {
            "_model_module": "@jupyter-widgets/controls",
            "_model_module_version": "1.5.0",
            "_model_name": "DescriptionStyleModel",
            "_view_count": null,
            "_view_module": "@jupyter-widgets/base",
            "_view_module_version": "1.2.0",
            "_view_name": "StyleView",
            "description_width": ""
          }
        },
        "afea36605d6b4589b57fc1892a47997c": {
          "model_module": "@jupyter-widgets/controls",
          "model_name": "HBoxModel",
          "model_module_version": "1.5.0",
          "state": {
            "_dom_classes": [],
            "_model_module": "@jupyter-widgets/controls",
            "_model_module_version": "1.5.0",
            "_model_name": "HBoxModel",
            "_view_count": null,
            "_view_module": "@jupyter-widgets/controls",
            "_view_module_version": "1.5.0",
            "_view_name": "HBoxView",
            "box_style": "",
            "children": [
              "IPY_MODEL_72022f8cc7814caea02df76e9fce1032",
              "IPY_MODEL_519884eebee0482b8a95202cba3930ec",
              "IPY_MODEL_dac9d7235c2d44a29b238f5e600bc92f"
            ],
            "layout": "IPY_MODEL_df988a3b1a6646e2a2bacbb493172490"
          }
        },
        "72022f8cc7814caea02df76e9fce1032": {
          "model_module": "@jupyter-widgets/controls",
          "model_name": "HTMLModel",
          "model_module_version": "1.5.0",
          "state": {
            "_dom_classes": [],
            "_model_module": "@jupyter-widgets/controls",
            "_model_module_version": "1.5.0",
            "_model_name": "HTMLModel",
            "_view_count": null,
            "_view_module": "@jupyter-widgets/controls",
            "_view_module_version": "1.5.0",
            "_view_name": "HTMLView",
            "description": "",
            "description_tooltip": null,
            "layout": "IPY_MODEL_4dd06a9e18c54b1d9c33f480817f9141",
            "placeholder": "​",
            "style": "IPY_MODEL_ef075a4650e342e9867d6830ce888460",
            "value": "100%"
          }
        },
        "519884eebee0482b8a95202cba3930ec": {
          "model_module": "@jupyter-widgets/controls",
          "model_name": "FloatProgressModel",
          "model_module_version": "1.5.0",
          "state": {
            "_dom_classes": [],
            "_model_module": "@jupyter-widgets/controls",
            "_model_module_version": "1.5.0",
            "_model_name": "FloatProgressModel",
            "_view_count": null,
            "_view_module": "@jupyter-widgets/controls",
            "_view_module_version": "1.5.0",
            "_view_name": "ProgressView",
            "bar_style": "success",
            "description": "",
            "description_tooltip": null,
            "layout": "IPY_MODEL_c37f7d75423d486ab8910dfa136f0dea",
            "max": 4542,
            "min": 0,
            "orientation": "horizontal",
            "style": "IPY_MODEL_005932f3b9c143a49850f6aa8a7d760d",
            "value": 4542
          }
        },
        "dac9d7235c2d44a29b238f5e600bc92f": {
          "model_module": "@jupyter-widgets/controls",
          "model_name": "HTMLModel",
          "model_module_version": "1.5.0",
          "state": {
            "_dom_classes": [],
            "_model_module": "@jupyter-widgets/controls",
            "_model_module_version": "1.5.0",
            "_model_name": "HTMLModel",
            "_view_count": null,
            "_view_module": "@jupyter-widgets/controls",
            "_view_module_version": "1.5.0",
            "_view_name": "HTMLView",
            "description": "",
            "description_tooltip": null,
            "layout": "IPY_MODEL_d44631bc43ee41a2a286f7956dd0cf5c",
            "placeholder": "​",
            "style": "IPY_MODEL_4d4fa6e118ac4fef9d8e10aff92345c6",
            "value": " 4542/4542 [00:00&lt;00:00, 311430.72it/s]"
          }
        },
        "df988a3b1a6646e2a2bacbb493172490": {
          "model_module": "@jupyter-widgets/base",
          "model_name": "LayoutModel",
          "model_module_version": "1.2.0",
          "state": {
            "_model_module": "@jupyter-widgets/base",
            "_model_module_version": "1.2.0",
            "_model_name": "LayoutModel",
            "_view_count": null,
            "_view_module": "@jupyter-widgets/base",
            "_view_module_version": "1.2.0",
            "_view_name": "LayoutView",
            "align_content": null,
            "align_items": null,
            "align_self": null,
            "border": null,
            "bottom": null,
            "display": null,
            "flex": null,
            "flex_flow": null,
            "grid_area": null,
            "grid_auto_columns": null,
            "grid_auto_flow": null,
            "grid_auto_rows": null,
            "grid_column": null,
            "grid_gap": null,
            "grid_row": null,
            "grid_template_areas": null,
            "grid_template_columns": null,
            "grid_template_rows": null,
            "height": null,
            "justify_content": null,
            "justify_items": null,
            "left": null,
            "margin": null,
            "max_height": null,
            "max_width": null,
            "min_height": null,
            "min_width": null,
            "object_fit": null,
            "object_position": null,
            "order": null,
            "overflow": null,
            "overflow_x": null,
            "overflow_y": null,
            "padding": null,
            "right": null,
            "top": null,
            "visibility": null,
            "width": null
          }
        },
        "4dd06a9e18c54b1d9c33f480817f9141": {
          "model_module": "@jupyter-widgets/base",
          "model_name": "LayoutModel",
          "model_module_version": "1.2.0",
          "state": {
            "_model_module": "@jupyter-widgets/base",
            "_model_module_version": "1.2.0",
            "_model_name": "LayoutModel",
            "_view_count": null,
            "_view_module": "@jupyter-widgets/base",
            "_view_module_version": "1.2.0",
            "_view_name": "LayoutView",
            "align_content": null,
            "align_items": null,
            "align_self": null,
            "border": null,
            "bottom": null,
            "display": null,
            "flex": null,
            "flex_flow": null,
            "grid_area": null,
            "grid_auto_columns": null,
            "grid_auto_flow": null,
            "grid_auto_rows": null,
            "grid_column": null,
            "grid_gap": null,
            "grid_row": null,
            "grid_template_areas": null,
            "grid_template_columns": null,
            "grid_template_rows": null,
            "height": null,
            "justify_content": null,
            "justify_items": null,
            "left": null,
            "margin": null,
            "max_height": null,
            "max_width": null,
            "min_height": null,
            "min_width": null,
            "object_fit": null,
            "object_position": null,
            "order": null,
            "overflow": null,
            "overflow_x": null,
            "overflow_y": null,
            "padding": null,
            "right": null,
            "top": null,
            "visibility": null,
            "width": null
          }
        },
        "ef075a4650e342e9867d6830ce888460": {
          "model_module": "@jupyter-widgets/controls",
          "model_name": "DescriptionStyleModel",
          "model_module_version": "1.5.0",
          "state": {
            "_model_module": "@jupyter-widgets/controls",
            "_model_module_version": "1.5.0",
            "_model_name": "DescriptionStyleModel",
            "_view_count": null,
            "_view_module": "@jupyter-widgets/base",
            "_view_module_version": "1.2.0",
            "_view_name": "StyleView",
            "description_width": ""
          }
        },
        "c37f7d75423d486ab8910dfa136f0dea": {
          "model_module": "@jupyter-widgets/base",
          "model_name": "LayoutModel",
          "model_module_version": "1.2.0",
          "state": {
            "_model_module": "@jupyter-widgets/base",
            "_model_module_version": "1.2.0",
            "_model_name": "LayoutModel",
            "_view_count": null,
            "_view_module": "@jupyter-widgets/base",
            "_view_module_version": "1.2.0",
            "_view_name": "LayoutView",
            "align_content": null,
            "align_items": null,
            "align_self": null,
            "border": null,
            "bottom": null,
            "display": null,
            "flex": null,
            "flex_flow": null,
            "grid_area": null,
            "grid_auto_columns": null,
            "grid_auto_flow": null,
            "grid_auto_rows": null,
            "grid_column": null,
            "grid_gap": null,
            "grid_row": null,
            "grid_template_areas": null,
            "grid_template_columns": null,
            "grid_template_rows": null,
            "height": null,
            "justify_content": null,
            "justify_items": null,
            "left": null,
            "margin": null,
            "max_height": null,
            "max_width": null,
            "min_height": null,
            "min_width": null,
            "object_fit": null,
            "object_position": null,
            "order": null,
            "overflow": null,
            "overflow_x": null,
            "overflow_y": null,
            "padding": null,
            "right": null,
            "top": null,
            "visibility": null,
            "width": null
          }
        },
        "005932f3b9c143a49850f6aa8a7d760d": {
          "model_module": "@jupyter-widgets/controls",
          "model_name": "ProgressStyleModel",
          "model_module_version": "1.5.0",
          "state": {
            "_model_module": "@jupyter-widgets/controls",
            "_model_module_version": "1.5.0",
            "_model_name": "ProgressStyleModel",
            "_view_count": null,
            "_view_module": "@jupyter-widgets/base",
            "_view_module_version": "1.2.0",
            "_view_name": "StyleView",
            "bar_color": null,
            "description_width": ""
          }
        },
        "d44631bc43ee41a2a286f7956dd0cf5c": {
          "model_module": "@jupyter-widgets/base",
          "model_name": "LayoutModel",
          "model_module_version": "1.2.0",
          "state": {
            "_model_module": "@jupyter-widgets/base",
            "_model_module_version": "1.2.0",
            "_model_name": "LayoutModel",
            "_view_count": null,
            "_view_module": "@jupyter-widgets/base",
            "_view_module_version": "1.2.0",
            "_view_name": "LayoutView",
            "align_content": null,
            "align_items": null,
            "align_self": null,
            "border": null,
            "bottom": null,
            "display": null,
            "flex": null,
            "flex_flow": null,
            "grid_area": null,
            "grid_auto_columns": null,
            "grid_auto_flow": null,
            "grid_auto_rows": null,
            "grid_column": null,
            "grid_gap": null,
            "grid_row": null,
            "grid_template_areas": null,
            "grid_template_columns": null,
            "grid_template_rows": null,
            "height": null,
            "justify_content": null,
            "justify_items": null,
            "left": null,
            "margin": null,
            "max_height": null,
            "max_width": null,
            "min_height": null,
            "min_width": null,
            "object_fit": null,
            "object_position": null,
            "order": null,
            "overflow": null,
            "overflow_x": null,
            "overflow_y": null,
            "padding": null,
            "right": null,
            "top": null,
            "visibility": null,
            "width": null
          }
        },
        "4d4fa6e118ac4fef9d8e10aff92345c6": {
          "model_module": "@jupyter-widgets/controls",
          "model_name": "DescriptionStyleModel",
          "model_module_version": "1.5.0",
          "state": {
            "_model_module": "@jupyter-widgets/controls",
            "_model_module_version": "1.5.0",
            "_model_name": "DescriptionStyleModel",
            "_view_count": null,
            "_view_module": "@jupyter-widgets/base",
            "_view_module_version": "1.2.0",
            "_view_name": "StyleView",
            "description_width": ""
          }
        }
      }
    }
  },
  "nbformat": 4,
  "nbformat_minor": 0
}