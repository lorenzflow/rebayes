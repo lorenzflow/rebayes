{
 "cells": [
  {
   "cell_type": "markdown",
   "metadata": {
    "id": "kRhsrRNNB0lM"
   },
   "source": [
    "# 0. Imports"
   ]
  },
  {
   "cell_type": "code",
   "execution_count": 2,
   "metadata": {
    "id": "k7ot0XjIB9iA"
   },
   "outputs": [],
   "source": [
    "# %pip install ml_collections\n",
    "# %pip install flax\n",
    "# %pip install bayesian-optimization\n",
    "# %pip install -qq git+https://github.com/probml/rebayes.git\n",
    "# %pip install jaxtyping\n",
    "# %pip install jax-tqdm\n",
    "# %pip install dynamax\n",
    "# %pip install jax-dataloader\n",
    "# %pip install avalanche-lib"
   ]
  },
  {
   "cell_type": "code",
   "execution_count": 78,
   "metadata": {
    "id": "_UvjekASB0lN"
   },
   "outputs": [],
   "source": [
    "import pickle\n",
    "\n",
    "from jaxtyping import Float, Array\n",
    "from typing import Callable, NamedTuple, Union, Tuple, Any\n",
    "from functools import partial\n",
    "import chex\n",
    "import optax\n",
    "import jax\n",
    "import jax.numpy as jnp\n",
    "import jax.random as jr\n",
    "from jax import lax, jacfwd, vmap, grad, jit\n",
    "from jax.tree_util import tree_map, tree_reduce\n",
    "import flax\n",
    "import flax.linen as nn\n",
    "from flax.training.train_state import TrainState\n",
    "from tensorflow_probability.substrates.jax.distributions import MultivariateNormalFullCovariance as MVN\n",
    "import matplotlib.pyplot as plt\n",
    "import matplotlib.cm as cm\n",
    "from jax.flatten_util import ravel_pytree\n",
    "from dataclasses import dataclass\n",
    "\n",
    "from itertools import cycle\n",
    "\n",
    "import torch\n",
    "import numpy as np\n",
    "from torch.utils.data import TensorDataset, DataLoader\n",
    "from torchvision.transforms import ToTensor\n",
    "from bayes_opt import BayesianOptimization\n",
    "from tqdm import trange\n",
    "\n",
    "import jax_dataloader.core as jdl\n",
    "\n",
    "from rebayes.base import *\n",
    "from rebayes.low_rank_filter.lofi import LoFiParams, RebayesLoFi, LoFiBel\n",
    "from rebayes.extended_kalman_filter.ekf import RebayesEKF\n",
    "from rebayes.utils.utils import *\n",
    "from rebayes.utils.avalanche import *\n",
    "from rebayes.sgd_filter import sgd\n",
    "from rebayes.sgd_filter import replay_sgd as rsgd\n",
    "from demos.showdown.nonstationary import hparam_tune_clf as hpt\n",
    "from avalanche.benchmarks.classic import SplitMNIST"
   ]
  },
  {
   "cell_type": "markdown",
   "metadata": {
    "id": "QcvM4MCFB0lO"
   },
   "source": [
    "# 1. Load Dataset"
   ]
  },
  {
   "cell_type": "code",
   "execution_count": 2,
   "metadata": {
    "id": "Weyi64ah0XBk"
   },
   "outputs": [],
   "source": [
    "def load_split_mnist_dataset(n_tasks=5, ntrain_per_task=200, nval_per_batch=500, ntest_per_task=1_000, key=0):\n",
    "    dataset = SplitMNIST(n_experiences=n_tasks, seed=0, return_task_id=True,\n",
    "                         class_ids_from_zero_in_each_exp=True, fixed_class_order=range(10))\n",
    "    nvaltest_per_task = nval_per_batch + ntest_per_task\n",
    "    Xtr, Ytr, Xte, Yte =  make_avalanche_data(dataset, ntrain_per_task, ntrain_per_task, nvaltest_per_task, key=key)\n",
    "    Xtr, Xte = Xtr.reshape(-1, 1, 28, 28, 1), Xte.reshape(-1, 1, 28, 28, 1)\n",
    "    Xte_batches, Yte_batches = jnp.split(Xte, n_tasks), jnp.split(Yte, n_tasks)\n",
    "    Xval_sets, Yval_sets = [batch[:nval_per_batch] for batch in Xte_batches], [batch[:nval_per_batch] for batch in Yte_batches]\n",
    "    Xte_sets, Yte_sets = [batch[nval_per_batch:] for batch in Xte_batches], [batch[nval_per_batch:] for batch in Yte_batches]\n",
    "\n",
    "    Xval, Yval = jnp.concatenate(Xval_sets), jnp.concatenate(Yval_sets)\n",
    "    Xte, Yte = jnp.concatenate(Xte_sets), jnp.concatenate(Yte_sets)\n",
    "\n",
    "    Xtr_flat = flatten_batch(Xtr)\n",
    "\n",
    "    return (Xtr, Ytr), (Xval, Yval), (Xte, Yte)"
   ]
  },
  {
   "cell_type": "code",
   "execution_count": 137,
   "metadata": {
    "colab": {
     "base_uri": "https://localhost:8080/",
     "height": 449,
     "referenced_widgets": [
      "524d584d023f484c94d034a6c3f6eee7",
      "8cceede0d5b646b184cd53e63be4d10f",
      "56f5ea66685048beaffcd5dca4fd039c",
      "0a9f99c1002b4173a3f3b0a647012881",
      "11eb4a4b7f63490dad02356aa0f2167c",
      "7dc7d33bb90147d295906377a022c98b",
      "4811b8c8449c48d692189ef875a8dcf3",
      "16f4ab4a234d46e0978328b87cbb9724",
      "aecf9bc059b047bd9796b36412932f58",
      "410dfb2921a0472bbc92c741d06e8554",
      "2bfdfca3232f4f7ab2a2316ad71f3023",
      "4ffdda92fa3445e3a8d0fea8d2ca4af4",
      "91ddaf79e10d4c5999a4137c0808b7f0",
      "9e366c45289b4bbb92e47e4fa38f205d",
      "660a25eefca84c68b649d3b11214aa41",
      "76f8ca5a3c324e99b4c11a363d0b1dde",
      "150a1746b1e34259ace05a7418f72248",
      "6c6d24ae4067493c8dea86f59dd176f9",
      "17020c19a20941b49a3e160afa48dd9f",
      "b52f6c0e7b434310ae3d3ad06c8ef395",
      "8fec728966d24255952202aaa29eed9a",
      "8cbd0cd393474d88ab433797f68ad473",
      "47742ba92db34ad69561cc870707d90f",
      "08ecd674c06e4e3da8f542bf1db1187f",
      "245f9f95fc3a479d937c21666e64369d",
      "ef75b59cacab4818a1d6f4e24267ccaf",
      "b7fca93a57b54f06abbdd690268a6d4b",
      "d10cc31cbaf94dd6a45f298bce9baafb",
      "5f63026c0dac47efa45ca9710dbbfb57",
      "c050ea1dcc014f208cff9794867ba5d3",
      "ced77a6d9060428cb463683f72059150",
      "01da9718d9e54a6989b6d46c036d8872",
      "f8f2c66a7d2d46d7985b5545492c50d0",
      "afea36605d6b4589b57fc1892a47997c",
      "72022f8cc7814caea02df76e9fce1032",
      "519884eebee0482b8a95202cba3930ec",
      "dac9d7235c2d44a29b238f5e600bc92f",
      "df988a3b1a6646e2a2bacbb493172490",
      "4dd06a9e18c54b1d9c33f480817f9141",
      "ef075a4650e342e9867d6830ce888460",
      "c37f7d75423d486ab8910dfa136f0dea",
      "005932f3b9c143a49850f6aa8a7d760d",
      "d44631bc43ee41a2a286f7956dd0cf5c",
      "4d4fa6e118ac4fef9d8e10aff92345c6"
     ]
    },
    "id": "0OkSivVa1klW",
    "outputId": "6a32739b-847c-47cc-ee0a-eef3657ebfd7"
   },
   "outputs": [],
   "source": [
    "n_experiences = 5\n",
    "ntrain_per_dist, ntrain_per_batch, nval_per_batch, ntest_per_batch = 200, 200, 500, 1_000\n",
    "\n",
    "(Xtr, Ytr), (Xval, Yval), (Xte, Yte) = load_split_mnist_dataset(\n",
    "    n_experiences, ntrain_per_batch, nval_per_batch, ntest_per_batch, 100\n",
    ")"
   ]
  },
  {
   "cell_type": "code",
   "execution_count": 138,
   "metadata": {
    "id": "0yuNsCAWB0lO"
   },
   "outputs": [],
   "source": [
    "train, val = (Xtr, Ytr), (Xval, Yval)"
   ]
  },
  {
   "cell_type": "code",
   "execution_count": 5,
   "metadata": {
    "colab": {
     "base_uri": "https://localhost:8080/"
    },
    "id": "TQjyVCUiB0lP",
    "outputId": "6c17e916-be7e-4627-ceb4-961f27213876"
   },
   "outputs": [
    {
     "name": "stdout",
     "output_type": "stream",
     "text": [
      "batch  0 (200, 1, 28, 28, 1) (200, 1)\n",
      "test batch  0 (500, 1, 28, 28, 1) (500, 1)\n",
      "batch  1 (200, 1, 28, 28, 1) (200, 1)\n",
      "test batch  1 (500, 1, 28, 28, 1) (500, 1)\n",
      "batch  2 (200, 1, 28, 28, 1) (200, 1)\n",
      "test batch  2 (500, 1, 28, 28, 1) (500, 1)\n",
      "batch  3 (200, 1, 28, 28, 1) (200, 1)\n",
      "test batch  3 (500, 1, 28, 28, 1) (500, 1)\n",
      "batch  4 (200, 1, 28, 28, 1) (200, 1)\n",
      "test batch  4 (500, 1, 28, 28, 1) (500, 1)\n"
     ]
    }
   ],
   "source": [
    "train_ds = jdl.Dataset(Xtr, Ytr)\n",
    "train_loader = jdl.DataLoaderJax(train_ds, batch_size=ntrain_per_batch, shuffle=False, drop_last=False)\n",
    "train_iter = iter(train_loader)\n",
    "\n",
    "test_ds = jdl.Dataset(Xte, Yte)\n",
    "test_loader = jdl.DataLoaderJax(test_ds, batch_size=nval_per_batch, shuffle=False, drop_last=False)\n",
    "test_iter = iter(test_loader)\n",
    "\n",
    "for b in range(len(train_iter)): \n",
    "    (Xb,Yb) = next(train_iter)\n",
    "    print('batch ', b, Xb.shape, Yb.shape)\n",
    "    (Xb,Yb) = next(test_iter)\n",
    "    print('test batch ', b, Xb.shape, Yb.shape)"
   ]
  },
  {
   "cell_type": "code",
   "execution_count": 6,
   "metadata": {
    "id": "FAXaCUP4B0lP"
   },
   "outputs": [],
   "source": [
    "def plot_batch(Xb, Yb, ttl=None):\n",
    "    figure = plt.figure(figsize=(8, 8))\n",
    "    cols, rows = 3, 3\n",
    "    for i in range(1, cols * rows + 1):\n",
    "        #sample_idx = torch.randint(len(training_data), size=(1,)).item()\n",
    "        sample_idx = i-1\n",
    "        img = Xb[sample_idx]\n",
    "        label = Yb[sample_idx]\n",
    "        figure.add_subplot(rows, cols, i)\n",
    "        plt.title(label)\n",
    "        plt.axis(\"off\")\n",
    "        plt.imshow(img.squeeze(), cmap=\"gray\")\n",
    "    if ttl is not None: plt.suptitle(ttl)\n",
    "    plt.show()"
   ]
  },
  {
   "cell_type": "code",
   "execution_count": 7,
   "metadata": {
    "id": "z_Q-yjL6B0lP"
   },
   "outputs": [],
   "source": [
    "class RebayesSum(Rebayes):\n",
    "    \"\"\"The belief state is the sum of all the input X_t values.\"\"\"\n",
    "    def __init__(\n",
    "        self,\n",
    "        params: RebayesParams,\n",
    "        shape_in, \n",
    "        shape_out\n",
    "    ):\n",
    "        self.params = params\n",
    "        self.shape_in = shape_in\n",
    "        self.shape_out = shape_out\n",
    "\n",
    "    def init_bel(self) -> Belief:\n",
    "        bel = Belief(dummy = jnp.zeros(self.shape_in))\n",
    "        return bel\n",
    "    \n",
    "    def update_state(\n",
    "        self,\n",
    "        bel: Belief,\n",
    "        X: Float[Array, \"input_dim\"],\n",
    "        Y: Float[Array, \"obs_dim\"]\n",
    "    ) -> Belief:\n",
    "        return Belief(dummy = bel.dummy + X)"
   ]
  },
  {
   "cell_type": "code",
   "execution_count": 8,
   "metadata": {
    "colab": {
     "base_uri": "https://localhost:8080/",
     "height": 1000
    },
    "id": "udufZGxO2EUy",
    "outputId": "52269fc3-17ae-4c28-ee30-1dcae8f585a7"
   },
   "outputs": [],
   "source": [
    "# train_ds = jdl.Dataset(Xtr, Ytr)\n",
    "# train_loader = jdl.DataLoaderJax(train_ds, batch_size=ntrain_per_batch, shuffle=False, drop_last=False)\n",
    "\n",
    "# test_ds = jdl.Dataset(Xte, Yte)\n",
    "# test_loader = jdl.DataLoaderJax(test_ds, batch_size=nval_per_batch, shuffle=False, drop_last=False)\n",
    "# test_iter = iter(test_loader)\n",
    "\n",
    "# def callback_dl(b, bel_pre, bel_post, batch, **kwargs):\n",
    "#     Xtr, Ytr = batch\n",
    "#     jax.debug.print(\"callback on batch {b}\", b=b)\n",
    "#     jax.debug.print(\"Xtr shape {x1}, Ytr shape {y1}\", x1=Xtr.shape, y1=Ytr.shape)\n",
    "#     Xte, Yte = next(test_iter)\n",
    "#     jax.debug.print(\"Xte shape {x1}, Yte shape {y1}\", x1=Xte.shape, y1=Yte.shape)\n",
    "#     plot_batch(Xte, Yte, ttl='batch {:d}'.format(b))\n",
    "#     return b\n",
    "\n",
    "# shape_in = Xtr.shape[1:]\n",
    "# shape_out = 1\n",
    "# estimator = RebayesSum(make_rebayes_params(), shape_in, shape_out)\n",
    "\n",
    "# bel, outputs = estimator.scan_dataloader(train_loader, callback=callback_dl)\n",
    "# Xsum = jnp.sum(Xtr, axis=0)\n",
    "# # assert(jnp.allclose(Xsum, bel.dummy, atol=1e-1))"
   ]
  },
  {
   "cell_type": "markdown",
   "metadata": {
    "id": "tzOevZfQB0lQ"
   },
   "source": [
    "# 2. Model Setup"
   ]
  },
  {
   "cell_type": "code",
   "execution_count": 9,
   "metadata": {
    "colab": {
     "base_uri": "https://localhost:8080/"
    },
    "id": "bTh-Qw5Ys6T4",
    "outputId": "859f1a61-4ad8-47ea-94b1-98a55292e660"
   },
   "outputs": [
    {
     "name": "stdout",
     "output_type": "stream",
     "text": [
      "flat_params.shape: (474801,)\n"
     ]
    }
   ],
   "source": [
    "class MLP(nn.Module):\n",
    "    features: Sequence[int]\n",
    "\n",
    "    @nn.compact\n",
    "    def __call__(self, x):\n",
    "        x = x.ravel()\n",
    "        for feat in self.features[:-1]:\n",
    "            x = nn.relu(nn.Dense(feat)(x))\n",
    "        x = nn.Dense(self.features[-1])(x)\n",
    "        return x\n",
    "\n",
    "features = [400, 400, 1]\n",
    "model = MLP(features)\n",
    "params = model.init(jr.PRNGKey(0), jnp.ones([1, 28, 28, 1]).ravel())\n",
    "flat_params, unflatten_fn = ravel_pytree(params)\n",
    "\n",
    "# Define apply function\n",
    "def apply(flat_params, x, model, unflatten_fn):\n",
    "    return model.apply(unflatten_fn(flat_params), jnp.atleast_1d(x))\n",
    "\n",
    "apply_fn = partial(apply, model=model, unflatten_fn=unflatten_fn)\n",
    "print(f'flat_params.shape: {flat_params.shape}')"
   ]
  },
  {
   "cell_type": "code",
   "execution_count": 10,
   "metadata": {
    "id": "jQqXdG3-B0lQ"
   },
   "outputs": [],
   "source": [
    "# class CNN(nn.Module):\n",
    "#     \"\"\"A simple CNN model.\"\"\"\n",
    "#     @nn.compact\n",
    "#     def __call__(self, x):\n",
    "#         x = nn.Conv(features=32, kernel_size=(3, 3))(x)\n",
    "#         x = nn.relu(x)\n",
    "#         x = nn.avg_pool(x, window_shape=(2, 2), strides=(2, 2))\n",
    "#         x = nn.Conv(features=64, kernel_size=(3, 3))(x)\n",
    "#         x = nn.relu(x)\n",
    "#         x = nn.avg_pool(x, window_shape=(2, 2), strides=(2, 2))\n",
    "#         x = x.reshape((x.shape[0], -1))  # flatten\n",
    "#         x = nn.Dense(features=128)(x)\n",
    "#         x = nn.relu(x)\n",
    "#         x = nn.Dense(features=1)(x)\n",
    "#         return x\n",
    "\n",
    "# key = jr.PRNGKey(0)\n",
    "# cnn_model = CNN()\n",
    "# cnn_params = cnn_model.init(key, jnp.ones((1, 28, 28, 1)))\n",
    "# flat_params, unflatten_fn = ravel_pytree(cnn_params)\n",
    "# print(f'flat_params.shape: {flat_params.shape}')\n",
    "\n",
    "# # Define apply function\n",
    "# def apply(flat_params, x, model, unflatten_fn):\n",
    "#     return model.apply(unflatten_fn(flat_params), jnp.atleast_1d(x))\n",
    "\n",
    "# apply_fn = partial(apply, model=cnn_model, unflatten_fn=unflatten_fn)"
   ]
  },
  {
   "cell_type": "code",
   "execution_count": 11,
   "metadata": {
    "id": "962P0lo6B0lQ"
   },
   "outputs": [],
   "source": [
    "sigmoid_fn = lambda w, x: jnp.clip(jax.nn.sigmoid(apply_fn(w, x)), 1e-4, 1-1e-4).ravel()\n",
    "emission_mean_function = lambda w, x: sigmoid_fn(w, x)\n",
    "emission_cov_function = lambda w, x: sigmoid_fn(w, x) * (1 - sigmoid_fn(w, x))"
   ]
  },
  {
   "cell_type": "markdown",
   "metadata": {
    "id": "bzHTVsaOB0lQ"
   },
   "source": [
    "# 3. FDEKF"
   ]
  },
  {
   "cell_type": "markdown",
   "metadata": {
    "id": "x6U-4773B0lQ"
   },
   "source": [
    "## 3.1 Hyperparam Tuning"
   ]
  },
  {
   "cell_type": "markdown",
   "metadata": {
    "id": "r0ZQHzQQB0lQ"
   },
   "source": [
    "To tune the hyperparameters, we maximize the average validation accuracy across all 5 tasks after training on the full training set."
   ]
  },
  {
   "cell_type": "code",
   "execution_count": 12,
   "metadata": {
    "id": "feuBRvEoB0lQ"
   },
   "outputs": [],
   "source": [
    "pbounds={\n",
    "    'log_init_cov': (-10, 0),\n",
    "    'log_dynamics_weights': (-40, 0),\n",
    "    'log_dynamics_cov': (-40, 0),\n",
    "    'log_alpha': (-40, 0),\n",
    "}\n",
    "fcekf_model = 'fdekf'"
   ]
  },
  {
   "cell_type": "code",
   "execution_count": 13,
   "metadata": {
    "id": "WEVEuqyiB0lR"
   },
   "outputs": [],
   "source": [
    "def evaluate_accuracy(flat_params, apply_fn, X, y):\n",
    "    \"\"\" Evaluate accuracy for given parameters and test set\n",
    "    \"\"\"\n",
    "    @jit\n",
    "    def evaluate_acc(image, label):\n",
    "        image = image.reshape((1, 28, 28, 1))\n",
    "        logits = apply_fn(flat_params, image).ravel()\n",
    "        acc = jnp.mean(jnp.round(jax.nn.sigmoid(logits)) == label.ravel())\n",
    "        \n",
    "        return acc\n",
    "    accs = vmap(evaluate_acc, (0, 0))(X, y).mean()\n",
    "    return accs\n",
    "\n",
    "def acc_callback(bel, *args, **kwargs):\n",
    "    X_test, y_test, apply_fn = kwargs[\"X_test\"], kwargs[\"y_test\"], kwargs[\"apply_fn\"]\n",
    "    accuracy = evaluate_accuracy(bel.mean, apply_fn, X_test, y_test)\n",
    "    \n",
    "    result = {\n",
    "        'test': accuracy,\n",
    "    }\n",
    "    \n",
    "    return result\n",
    "\n",
    "def ll_callback(bel, *args, **kwargs):\n",
    "    X_test, y_test = kwargs[\"X_test\"], kwargs[\"y_test\"]\n",
    "    apply_fn = kwargs[\"apply_fn\"]\n",
    "    \n",
    "    logits = vmap(jit(apply_fn), (None, 0))(bel.mean, X_test).ravel()\n",
    "    nll = jnp.mean(jit(optax.sigmoid_binary_cross_entropy)(logits, y_test.ravel()))\n",
    "    if jnp.isnan(nll):\n",
    "        nll = 1e8\n",
    "    result = -nll\n",
    "    \n",
    "    res = {\n",
    "        \"test\": result,\n",
    "    }\n",
    "    return res"
   ]
  },
  {
   "cell_type": "code",
   "execution_count": 14,
   "metadata": {
    "id": "6IJi7wevB0lR"
   },
   "outputs": [],
   "source": [
    "fdekf_optimizer, apply_fn, n_feats = hpt.create_optimizer(\n",
    "    model, pbounds, 314, train, val, emission_mean_function, emission_cov_function,\n",
    "    ll_callback, 'fdekf',\n",
    ")"
   ]
  },
  {
   "cell_type": "code",
   "execution_count": null,
   "metadata": {
    "id": "c_lJCpMKB0lR"
   },
   "outputs": [
    {
     "name": "stdout",
     "output_type": "stream",
     "text": [
      "|   iter    |  target   | log_alpha | log_dy... | log_dy... | log_in... |\n",
      "-------------------------------------------------------------------------\n",
      "| \u001b[0m1        \u001b[0m | \u001b[0m-210.3   \u001b[0m | \u001b[0m-3.325   \u001b[0m | \u001b[0m-16.46   \u001b[0m | \u001b[0m-29.4    \u001b[0m | \u001b[0m-2.168   \u001b[0m |\n",
      "| \u001b[0m2        \u001b[0m | \u001b[0m-224.1   \u001b[0m | \u001b[0m-3.28    \u001b[0m | \u001b[0m-6.906   \u001b[0m | \u001b[0m-10.88   \u001b[0m | \u001b[0m-7.395   \u001b[0m |\n",
      "| \u001b[95m3        \u001b[0m | \u001b[95m-166.8   \u001b[0m | \u001b[95m-3.529   \u001b[0m | \u001b[95m-29.57   \u001b[0m | \u001b[95m-9.345   \u001b[0m | \u001b[95m-7.385   \u001b[0m |\n",
      "| \u001b[95m4        \u001b[0m | \u001b[95m-0.692   \u001b[0m | \u001b[95m-35.11   \u001b[0m | \u001b[95m-24.56   \u001b[0m | \u001b[95m-6.397   \u001b[0m | \u001b[95m-7.218   \u001b[0m |\n",
      "| \u001b[0m5        \u001b[0m | \u001b[0m-1.281   \u001b[0m | \u001b[0m-37.2    \u001b[0m | \u001b[0m-14.68   \u001b[0m | \u001b[0m-16.61   \u001b[0m | \u001b[0m-4.188   \u001b[0m |\n",
      "| \u001b[0m6        \u001b[0m | \u001b[0m-0.7912  \u001b[0m | \u001b[0m-12.91   \u001b[0m | \u001b[0m-12.51   \u001b[0m | \u001b[0m-22.44   \u001b[0m | \u001b[0m-6.791   \u001b[0m |\n",
      "| \u001b[0m7        \u001b[0m | \u001b[0m-0.6921  \u001b[0m | \u001b[0m-17.18   \u001b[0m | \u001b[0m-20.81   \u001b[0m | \u001b[0m-5.557   \u001b[0m | \u001b[0m-1.652   \u001b[0m |\n",
      "| \u001b[0m8        \u001b[0m | \u001b[0m-1.075   \u001b[0m | \u001b[0m-35.77   \u001b[0m | \u001b[0m-37.58   \u001b[0m | \u001b[0m-16.12   \u001b[0m | \u001b[0m-2.076   \u001b[0m |\n",
      "| \u001b[95m9        \u001b[0m | \u001b[95m-0.5135  \u001b[0m | \u001b[95m-30.95   \u001b[0m | \u001b[95m-18.59   \u001b[0m | \u001b[95m-34.56   \u001b[0m | \u001b[95m-6.278   \u001b[0m |\n",
      "| \u001b[95m10       \u001b[0m | \u001b[95m-0.4738  \u001b[0m | \u001b[95m-33.92   \u001b[0m | \u001b[95m-22.81   \u001b[0m | \u001b[95m-8.292   \u001b[0m | \u001b[95m-5.93    \u001b[0m |\n",
      "| \u001b[0m11       \u001b[0m | \u001b[0m-9.449e+0\u001b[0m | \u001b[0m-32.89   \u001b[0m | \u001b[0m-3.63    \u001b[0m | \u001b[0m-18.19   \u001b[0m | \u001b[0m-8.995   \u001b[0m |\n",
      "| \u001b[0m12       \u001b[0m | \u001b[0m-1.315e+0\u001b[0m | \u001b[0m-11.25   \u001b[0m | \u001b[0m-0.8628  \u001b[0m | \u001b[0m-27.61   \u001b[0m | \u001b[0m-7.399   \u001b[0m |\n",
      "| \u001b[0m13       \u001b[0m | \u001b[0m-0.9872  \u001b[0m | \u001b[0m-13.48   \u001b[0m | \u001b[0m-34.41   \u001b[0m | \u001b[0m-36.65   \u001b[0m | \u001b[0m-4.732   \u001b[0m |\n",
      "| \u001b[0m14       \u001b[0m | \u001b[0m-516.3   \u001b[0m | \u001b[0m-15.59   \u001b[0m | \u001b[0m-5.304   \u001b[0m | \u001b[0m-34.04   \u001b[0m | \u001b[0m-1.359   \u001b[0m |\n",
      "| \u001b[0m15       \u001b[0m | \u001b[0m-1.523   \u001b[0m | \u001b[0m-22.0    \u001b[0m | \u001b[0m-10.93   \u001b[0m | \u001b[0m-33.8    \u001b[0m | \u001b[0m-5.829   \u001b[0m |\n",
      "| \u001b[0m16       \u001b[0m | \u001b[0m-0.6442  \u001b[0m | \u001b[0m-34.3    \u001b[0m | \u001b[0m-26.43   \u001b[0m | \u001b[0m-11.89   \u001b[0m | \u001b[0m-9.229   \u001b[0m |\n",
      "| \u001b[0m17       \u001b[0m | \u001b[0m-1.724e+0\u001b[0m | \u001b[0m-37.18   \u001b[0m | \u001b[0m-0.7213  \u001b[0m | \u001b[0m-38.34   \u001b[0m | \u001b[0m-9.007   \u001b[0m |\n",
      "| \u001b[0m18       \u001b[0m | \u001b[0m-0.6931  \u001b[0m | \u001b[0m-31.18   \u001b[0m | \u001b[0m-13.6    \u001b[0m | \u001b[0m-0.1541  \u001b[0m | \u001b[0m-0.3022  \u001b[0m |\n",
      "| \u001b[0m19       \u001b[0m | \u001b[0m-118.7   \u001b[0m | \u001b[0m-12.94   \u001b[0m | \u001b[0m-0.06077 \u001b[0m | \u001b[0m-35.15   \u001b[0m | \u001b[0m-5.638   \u001b[0m |\n",
      "| \u001b[0m20       \u001b[0m | \u001b[0m-1.018   \u001b[0m | \u001b[0m-33.31   \u001b[0m | \u001b[0m-18.11   \u001b[0m | \u001b[0m-9.157   \u001b[0m | \u001b[0m-4.336   \u001b[0m |\n",
      "| \u001b[0m21       \u001b[0m | \u001b[0m-1.0     \u001b[0m | \u001b[0m-27.74   \u001b[0m | \u001b[0m-0.8882  \u001b[0m | \u001b[0m-4.452   \u001b[0m | \u001b[0m-7.633   \u001b[0m |\n",
      "| \u001b[0m22       \u001b[0m | \u001b[0m-0.6931  \u001b[0m | \u001b[0m-12.58   \u001b[0m | \u001b[0m-36.7    \u001b[0m | \u001b[0m-5.273   \u001b[0m | \u001b[0m-6.59    \u001b[0m |\n",
      "| \u001b[0m23       \u001b[0m | \u001b[0m-0.5103  \u001b[0m | \u001b[0m-14.74   \u001b[0m | \u001b[0m-25.22   \u001b[0m | \u001b[0m-7.529   \u001b[0m | \u001b[0m-6.144   \u001b[0m |\n",
      "| \u001b[95m24       \u001b[0m | \u001b[95m-0.4381  \u001b[0m | \u001b[95m-21.23   \u001b[0m | \u001b[95m-31.49   \u001b[0m | \u001b[95m-31.5    \u001b[0m | \u001b[95m-6.877   \u001b[0m |\n",
      "| \u001b[0m25       \u001b[0m | \u001b[0m-41.8    \u001b[0m | \u001b[0m-18.41   \u001b[0m | \u001b[0m-6.95    \u001b[0m | \u001b[0m-13.72   \u001b[0m | \u001b[0m-5.69    \u001b[0m |\n",
      "| \u001b[0m26       \u001b[0m | \u001b[0m-26.32   \u001b[0m | \u001b[0m-6.284   \u001b[0m | \u001b[0m-35.38   \u001b[0m | \u001b[0m-19.55   \u001b[0m | \u001b[0m-2.765   \u001b[0m |\n",
      "| \u001b[0m27       \u001b[0m | \u001b[0m-0.6162  \u001b[0m | \u001b[0m-38.55   \u001b[0m | \u001b[0m-12.87   \u001b[0m | \u001b[0m-28.82   \u001b[0m | \u001b[0m-8.103   \u001b[0m |\n",
      "| \u001b[0m28       \u001b[0m | \u001b[0m-1.223   \u001b[0m | \u001b[0m-24.51   \u001b[0m | \u001b[0m-18.24   \u001b[0m | \u001b[0m-32.42   \u001b[0m | \u001b[0m-4.209   \u001b[0m |\n",
      "| \u001b[0m29       \u001b[0m | \u001b[0m-1.597   \u001b[0m | \u001b[0m-29.01   \u001b[0m | \u001b[0m-14.26   \u001b[0m | \u001b[0m-37.07   \u001b[0m | \u001b[0m-3.494   \u001b[0m |\n",
      "| \u001b[0m30       \u001b[0m | \u001b[0m-114.8   \u001b[0m | \u001b[0m-3.589   \u001b[0m | \u001b[0m-14.74   \u001b[0m | \u001b[0m-18.65   \u001b[0m | \u001b[0m-1.161   \u001b[0m |\n",
      "| \u001b[0m31       \u001b[0m | \u001b[0m-0.6836  \u001b[0m | \u001b[0m-14.72   \u001b[0m | \u001b[0m-33.4    \u001b[0m | \u001b[0m-29.6    \u001b[0m | \u001b[0m-9.884   \u001b[0m |\n",
      "| \u001b[0m32       \u001b[0m | \u001b[0m-1e+08   \u001b[0m | \u001b[0m-0.2037  \u001b[0m | \u001b[0m-7.485   \u001b[0m | \u001b[0m-7.632   \u001b[0m | \u001b[0m-1.068   \u001b[0m |\n",
      "| \u001b[0m33       \u001b[0m | \u001b[0m-0.6931  \u001b[0m | \u001b[0m-30.93   \u001b[0m | \u001b[0m-18.67   \u001b[0m | \u001b[0m-2.163   \u001b[0m | \u001b[0m-7.967   \u001b[0m |\n",
      "| \u001b[0m34       \u001b[0m | \u001b[0m-4.951e+0\u001b[0m | \u001b[0m-5.548   \u001b[0m | \u001b[0m-4.321   \u001b[0m | \u001b[0m-17.0    \u001b[0m | \u001b[0m-9.934   \u001b[0m |\n",
      "| \u001b[0m35       \u001b[0m | \u001b[0m-17.01   \u001b[0m | \u001b[0m-8.735   \u001b[0m | \u001b[0m-8.361   \u001b[0m | \u001b[0m-13.89   \u001b[0m | \u001b[0m-4.914   \u001b[0m |\n",
      "| \u001b[0m36       \u001b[0m | \u001b[0m-1e+08   \u001b[0m | \u001b[0m-1.607   \u001b[0m | \u001b[0m-19.02   \u001b[0m | \u001b[0m-27.5    \u001b[0m | \u001b[0m-6.995   \u001b[0m |\n",
      "| \u001b[0m37       \u001b[0m | \u001b[0m-6.241e+0\u001b[0m | \u001b[0m-3.691   \u001b[0m | \u001b[0m-7.406   \u001b[0m | \u001b[0m-22.67   \u001b[0m | \u001b[0m-3.497   \u001b[0m |\n",
      "| \u001b[0m38       \u001b[0m | \u001b[0m-1.623   \u001b[0m | \u001b[0m-10.84   \u001b[0m | \u001b[0m-21.21   \u001b[0m | \u001b[0m-13.52   \u001b[0m | \u001b[0m-2.857   \u001b[0m |\n",
      "| \u001b[0m39       \u001b[0m | \u001b[0m-0.571   \u001b[0m | \u001b[0m-19.86   \u001b[0m | \u001b[0m-38.73   \u001b[0m | \u001b[0m-37.56   \u001b[0m | \u001b[0m-8.48    \u001b[0m |\n",
      "| \u001b[0m40       \u001b[0m | \u001b[0m-1.611   \u001b[0m | \u001b[0m-37.66   \u001b[0m | \u001b[0m-10.6    \u001b[0m | \u001b[0m-36.66   \u001b[0m | \u001b[0m-8.16    \u001b[0m |\n",
      "| \u001b[0m41       \u001b[0m | \u001b[0m-1.54    \u001b[0m | \u001b[0m-38.67   \u001b[0m | \u001b[0m-19.73   \u001b[0m | \u001b[0m-21.96   \u001b[0m | \u001b[0m-3.031   \u001b[0m |\n",
      "| \u001b[0m42       \u001b[0m | \u001b[0m-0.6007  \u001b[0m | \u001b[0m-14.82   \u001b[0m | \u001b[0m-18.42   \u001b[0m | \u001b[0m-6.447   \u001b[0m | \u001b[0m-2.425   \u001b[0m |\n",
      "| \u001b[0m43       \u001b[0m | \u001b[0m-45.1    \u001b[0m | \u001b[0m-33.26   \u001b[0m | \u001b[0m-9.006   \u001b[0m | \u001b[0m-25.96   \u001b[0m | \u001b[0m-1.252   \u001b[0m |\n",
      "| \u001b[0m44       \u001b[0m | \u001b[0m-65.08   \u001b[0m | \u001b[0m-9.092   \u001b[0m | \u001b[0m-6.162   \u001b[0m | \u001b[0m-12.5    \u001b[0m | \u001b[0m-3.962   \u001b[0m |\n",
      "| \u001b[0m45       \u001b[0m | \u001b[0m-0.6931  \u001b[0m | \u001b[0m-19.49   \u001b[0m | \u001b[0m-34.39   \u001b[0m | \u001b[0m-3.042   \u001b[0m | \u001b[0m-1.253   \u001b[0m |\n",
      "| \u001b[0m46       \u001b[0m | \u001b[0m-1.482e+0\u001b[0m | \u001b[0m-31.01   \u001b[0m | \u001b[0m-3.384   \u001b[0m | \u001b[0m-36.65   \u001b[0m | \u001b[0m-7.443   \u001b[0m |\n",
      "| \u001b[0m47       \u001b[0m | \u001b[0m-0.6946  \u001b[0m | \u001b[0m-35.62   \u001b[0m | \u001b[0m-27.04   \u001b[0m | \u001b[0m-7.605   \u001b[0m | \u001b[0m-9.977   \u001b[0m |\n",
      "| \u001b[0m48       \u001b[0m | \u001b[0m-0.8157  \u001b[0m | \u001b[0m-30.7    \u001b[0m | \u001b[0m-38.22   \u001b[0m | \u001b[0m-25.6    \u001b[0m | \u001b[0m-5.262   \u001b[0m |\n",
      "| \u001b[0m49       \u001b[0m | \u001b[0m-24.31   \u001b[0m | \u001b[0m-11.91   \u001b[0m | \u001b[0m-8.632   \u001b[0m | \u001b[0m-18.34   \u001b[0m | \u001b[0m-9.985   \u001b[0m |\n",
      "| \u001b[0m50       \u001b[0m | \u001b[0m-2.24e+04\u001b[0m | \u001b[0m-28.73   \u001b[0m | \u001b[0m-3.236   \u001b[0m | \u001b[0m-21.08   \u001b[0m | \u001b[0m-4.687   \u001b[0m |\n",
      "| \u001b[0m51       \u001b[0m | \u001b[0m-1.675e+0\u001b[0m | \u001b[0m-5.529   \u001b[0m | \u001b[0m-13.03   \u001b[0m | \u001b[0m-31.21   \u001b[0m | \u001b[0m0.0      \u001b[0m |\n",
      "| \u001b[0m52       \u001b[0m | \u001b[0m-1.615   \u001b[0m | \u001b[0m-30.76   \u001b[0m | \u001b[0m-10.6    \u001b[0m | \u001b[0m-30.55   \u001b[0m | \u001b[0m-6.563   \u001b[0m |\n",
      "| \u001b[0m53       \u001b[0m | \u001b[0m-651.0   \u001b[0m | \u001b[0m-10.88   \u001b[0m | \u001b[0m-4.944   \u001b[0m | \u001b[0m-20.58   \u001b[0m | \u001b[0m-4.051   \u001b[0m |\n",
      "| \u001b[0m54       \u001b[0m | \u001b[0m-5.029e+0\u001b[0m | \u001b[0m-8.272   \u001b[0m | \u001b[0m-2.63    \u001b[0m | \u001b[0m-10.62   \u001b[0m | \u001b[0m-9.61    \u001b[0m |\n",
      "| \u001b[0m55       \u001b[0m | \u001b[0m-1.412   \u001b[0m | \u001b[0m-33.04   \u001b[0m | \u001b[0m-16.7    \u001b[0m | \u001b[0m-27.44   \u001b[0m | \u001b[0m-3.365   \u001b[0m |\n",
      "| \u001b[0m56       \u001b[0m | \u001b[0m-0.9628  \u001b[0m | \u001b[0m-33.28   \u001b[0m | \u001b[0m-11.97   \u001b[0m | \u001b[0m-22.01   \u001b[0m | \u001b[0m-7.289   \u001b[0m |\n",
      "| \u001b[0m57       \u001b[0m | \u001b[0m-29.14   \u001b[0m | \u001b[0m-35.93   \u001b[0m | \u001b[0m-12.53   \u001b[0m | \u001b[0m-33.25   \u001b[0m | \u001b[0m-1.44    \u001b[0m |\n",
      "| \u001b[0m58       \u001b[0m | \u001b[0m-1.744   \u001b[0m | \u001b[0m-8.592   \u001b[0m | \u001b[0m-10.04   \u001b[0m | \u001b[0m-9.919   \u001b[0m | \u001b[0m-10.0    \u001b[0m |\n",
      "| \u001b[0m59       \u001b[0m | \u001b[0m-537.1   \u001b[0m | \u001b[0m-36.85   \u001b[0m | \u001b[0m-5.038   \u001b[0m | \u001b[0m-30.98   \u001b[0m | \u001b[0m-5.769   \u001b[0m |\n",
      "| \u001b[0m60       \u001b[0m | \u001b[0m-0.5962  \u001b[0m | \u001b[0m-15.0    \u001b[0m | \u001b[0m-14.62   \u001b[0m | \u001b[0m-14.18   \u001b[0m | \u001b[0m-6.087   \u001b[0m |\n",
      "| \u001b[0m61       \u001b[0m | \u001b[0m-24.13   \u001b[0m | \u001b[0m-17.39   \u001b[0m | \u001b[0m-6.668   \u001b[0m | \u001b[0m-26.74   \u001b[0m | \u001b[0m-5.617   \u001b[0m |\n",
      "| \u001b[0m62       \u001b[0m | \u001b[0m-1.491   \u001b[0m | \u001b[0m-24.92   \u001b[0m | \u001b[0m-11.45   \u001b[0m | \u001b[0m-25.23   \u001b[0m | \u001b[0m-4.004   \u001b[0m |\n",
      "| \u001b[0m63       \u001b[0m | \u001b[0m-32.37   \u001b[0m | \u001b[0m-17.73   \u001b[0m | \u001b[0m-10.05   \u001b[0m | \u001b[0m-19.93   \u001b[0m | \u001b[0m-1.404   \u001b[0m |\n",
      "| \u001b[0m64       \u001b[0m | \u001b[0m-1.697   \u001b[0m | \u001b[0m-20.51   \u001b[0m | \u001b[0m-10.07   \u001b[0m | \u001b[0m-20.27   \u001b[0m | \u001b[0m-9.303   \u001b[0m |\n",
      "| \u001b[0m65       \u001b[0m | \u001b[0m-1.846   \u001b[0m | \u001b[0m-27.03   \u001b[0m | \u001b[0m-10.33   \u001b[0m | \u001b[0m-16.6    \u001b[0m | \u001b[0m-4.604   \u001b[0m |\n",
      "| \u001b[0m66       \u001b[0m | \u001b[0m-9.666e+0\u001b[0m | \u001b[0m-18.28   \u001b[0m | \u001b[0m-1.556   \u001b[0m | \u001b[0m-20.49   \u001b[0m | \u001b[0m-6.855   \u001b[0m |\n",
      "| \u001b[0m67       \u001b[0m | \u001b[0m-3.5e+03 \u001b[0m | \u001b[0m-25.58   \u001b[0m | \u001b[0m-4.097   \u001b[0m | \u001b[0m-29.69   \u001b[0m | \u001b[0m-3.968   \u001b[0m |\n",
      "| \u001b[0m68       \u001b[0m | \u001b[0m-428.0   \u001b[0m | \u001b[0m-9.265   \u001b[0m | \u001b[0m-11.96   \u001b[0m | \u001b[0m-23.78   \u001b[0m | \u001b[0m0.0      \u001b[0m |\n",
      "| \u001b[0m69       \u001b[0m | \u001b[0m-1.314   \u001b[0m | \u001b[0m-30.03   \u001b[0m | \u001b[0m-18.63   \u001b[0m | \u001b[0m-18.73   \u001b[0m | \u001b[0m-4.011   \u001b[0m |\n",
      "| \u001b[0m70       \u001b[0m | \u001b[0m-1.012   \u001b[0m | \u001b[0m-21.22   \u001b[0m | \u001b[0m-17.3    \u001b[0m | \u001b[0m-19.54   \u001b[0m | \u001b[0m-4.632   \u001b[0m |\n",
      "| \u001b[0m71       \u001b[0m | \u001b[0m-27.28   \u001b[0m | \u001b[0m-17.51   \u001b[0m | \u001b[0m-14.17   \u001b[0m | \u001b[0m-28.0    \u001b[0m | \u001b[0m-1.474   \u001b[0m |\n",
      "| \u001b[0m72       \u001b[0m | \u001b[0m-0.9635  \u001b[0m | \u001b[0m-23.5    \u001b[0m | \u001b[0m-16.76   \u001b[0m | \u001b[0m-10.88   \u001b[0m | \u001b[0m-4.747   \u001b[0m |\n",
      "| \u001b[0m73       \u001b[0m | \u001b[0m-10.22   \u001b[0m | \u001b[0m-19.0    \u001b[0m | \u001b[0m-22.87   \u001b[0m | \u001b[0m-13.65   \u001b[0m | \u001b[0m-2.288   \u001b[0m |\n",
      "| \u001b[0m74       \u001b[0m | \u001b[0m-648.4   \u001b[0m | \u001b[0m-30.37   \u001b[0m | \u001b[0m-6.625   \u001b[0m | \u001b[0m-34.56   \u001b[0m | \u001b[0m0.0      \u001b[0m |\n",
      "| \u001b[0m75       \u001b[0m | \u001b[0m-0.6553  \u001b[0m | \u001b[0m-27.0    \u001b[0m | \u001b[0m-17.45   \u001b[0m | \u001b[0m-25.51   \u001b[0m | \u001b[0m-9.554   \u001b[0m |\n",
      "| \u001b[0m76       \u001b[0m | \u001b[0m-0.5561  \u001b[0m | \u001b[0m-25.06   \u001b[0m | \u001b[0m-24.36   \u001b[0m | \u001b[0m-7.344   \u001b[0m | \u001b[0m-6.173   \u001b[0m |\n",
      "| \u001b[0m77       \u001b[0m | \u001b[0m-0.837   \u001b[0m | \u001b[0m-28.78   \u001b[0m | \u001b[0m-10.64   \u001b[0m | \u001b[0m-6.815   \u001b[0m | \u001b[0m-5.594   \u001b[0m |\n",
      "| \u001b[0m78       \u001b[0m | \u001b[0m-0.6931  \u001b[0m | \u001b[0m-26.75   \u001b[0m | \u001b[0m-18.92   \u001b[0m | \u001b[0m-4.744   \u001b[0m | \u001b[0m-0.5289  \u001b[0m |\n",
      "| \u001b[0m79       \u001b[0m | \u001b[0m-0.6195  \u001b[0m | \u001b[0m-30.09   \u001b[0m | \u001b[0m-15.43   \u001b[0m | \u001b[0m-13.73   \u001b[0m | \u001b[0m-10.0    \u001b[0m |\n",
      "| \u001b[0m80       \u001b[0m | \u001b[0m-0.6931  \u001b[0m | \u001b[0m-22.36   \u001b[0m | \u001b[0m-16.59   \u001b[0m | \u001b[0m-2.978   \u001b[0m | \u001b[0m-7.387   \u001b[0m |\n",
      "| \u001b[0m81       \u001b[0m | \u001b[0m-0.6896  \u001b[0m | \u001b[0m-18.55   \u001b[0m | \u001b[0m-20.02   \u001b[0m | \u001b[0m-10.26   \u001b[0m | \u001b[0m-10.0    \u001b[0m |\n",
      "| \u001b[0m82       \u001b[0m | \u001b[0m-0.6388  \u001b[0m | \u001b[0m-25.46   \u001b[0m | \u001b[0m-22.77   \u001b[0m | \u001b[0m-15.43   \u001b[0m | \u001b[0m-9.178   \u001b[0m |\n",
      "| \u001b[0m83       \u001b[0m | \u001b[0m-165.4   \u001b[0m | \u001b[0m-27.87   \u001b[0m | \u001b[0m-23.26   \u001b[0m | \u001b[0m-12.82   \u001b[0m | \u001b[0m-0.445   \u001b[0m |\n",
      "| \u001b[0m84       \u001b[0m | \u001b[0m-7.485e+0\u001b[0m | \u001b[0m-25.85   \u001b[0m | \u001b[0m-2.592   \u001b[0m | \u001b[0m-13.12   \u001b[0m | \u001b[0m-6.393   \u001b[0m |\n",
      "| \u001b[0m85       \u001b[0m | \u001b[0m-82.59   \u001b[0m | \u001b[0m-33.94   \u001b[0m | \u001b[0m-7.315   \u001b[0m | \u001b[0m-12.7    \u001b[0m | \u001b[0m-3.611   \u001b[0m |\n",
      "| \u001b[0m86       \u001b[0m | \u001b[0m-1.505   \u001b[0m | \u001b[0m-22.77   \u001b[0m | \u001b[0m-10.76   \u001b[0m | \u001b[0m-10.37   \u001b[0m | \u001b[0m-10.0    \u001b[0m |\n",
      "| \u001b[0m87       \u001b[0m | \u001b[0m-0.9016  \u001b[0m | \u001b[0m-20.56   \u001b[0m | \u001b[0m-10.59   \u001b[0m | \u001b[0m-6.474   \u001b[0m | \u001b[0m-1.907   \u001b[0m |\n",
      "| \u001b[0m88       \u001b[0m | \u001b[0m-0.6734  \u001b[0m | \u001b[0m-35.62   \u001b[0m | \u001b[0m-21.2    \u001b[0m | \u001b[0m-18.73   \u001b[0m | \u001b[0m-9.694   \u001b[0m |\n",
      "| \u001b[0m89       \u001b[0m | \u001b[0m-9.993e+0\u001b[0m | \u001b[0m-31.02   \u001b[0m | \u001b[0m-3.612   \u001b[0m | \u001b[0m-26.96   \u001b[0m | \u001b[0m-10.0    \u001b[0m |\n",
      "| \u001b[0m90       \u001b[0m | \u001b[0m-1.256   \u001b[0m | \u001b[0m-25.47   \u001b[0m | \u001b[0m-24.0    \u001b[0m | \u001b[0m-24.58   \u001b[0m | \u001b[0m-4.045   \u001b[0m |\n",
      "| \u001b[0m91       \u001b[0m | \u001b[0m-1.528   \u001b[0m | \u001b[0m-34.38   \u001b[0m | \u001b[0m-27.35   \u001b[0m | \u001b[0m-17.81   \u001b[0m | \u001b[0m-3.544   \u001b[0m |\n",
      "| \u001b[0m92       \u001b[0m | \u001b[0m-0.4492  \u001b[0m | \u001b[0m-33.14   \u001b[0m | \u001b[0m-24.28   \u001b[0m | \u001b[0m-25.99   \u001b[0m | \u001b[0m-7.395   \u001b[0m |\n",
      "| \u001b[0m93       \u001b[0m | \u001b[0m-0.5663  \u001b[0m | \u001b[0m-19.32   \u001b[0m | \u001b[0m-14.73   \u001b[0m | \u001b[0m-27.62   \u001b[0m | \u001b[0m-9.789   \u001b[0m |\n",
      "| \u001b[0m94       \u001b[0m | \u001b[0m-677.7   \u001b[0m | \u001b[0m-6.084   \u001b[0m | \u001b[0m-18.61   \u001b[0m | \u001b[0m-34.52   \u001b[0m | \u001b[0m-0.142   \u001b[0m |\n",
      "| \u001b[0m95       \u001b[0m | \u001b[0m-1.122   \u001b[0m | \u001b[0m-26.05   \u001b[0m | \u001b[0m-29.96   \u001b[0m | \u001b[0m-17.3    \u001b[0m | \u001b[0m-4.409   \u001b[0m |\n",
      "| \u001b[0m96       \u001b[0m | \u001b[0m-1.392   \u001b[0m | \u001b[0m-30.89   \u001b[0m | \u001b[0m-31.07   \u001b[0m | \u001b[0m-9.98    \u001b[0m | \u001b[0m-3.04    \u001b[0m |\n",
      "| \u001b[0m97       \u001b[0m | \u001b[0m-1.04    \u001b[0m | \u001b[0m-20.44   \u001b[0m | \u001b[0m-31.96   \u001b[0m | \u001b[0m-11.4    \u001b[0m | \u001b[0m-4.554   \u001b[0m |\n",
      "| \u001b[0m98       \u001b[0m | \u001b[0m-1.227   \u001b[0m | \u001b[0m-11.22   \u001b[0m | \u001b[0m-31.25   \u001b[0m | \u001b[0m-12.4    \u001b[0m | \u001b[0m-3.684   \u001b[0m |\n",
      "| \u001b[0m99       \u001b[0m | \u001b[0m-0.5343  \u001b[0m | \u001b[0m-18.5    \u001b[0m | \u001b[0m-26.48   \u001b[0m | \u001b[0m-19.19   \u001b[0m | \u001b[0m-8.171   \u001b[0m |\n",
      "| \u001b[0m100      \u001b[0m | \u001b[0m-0.6442  \u001b[0m | \u001b[0m-26.87   \u001b[0m | \u001b[0m-30.7    \u001b[0m | \u001b[0m-24.47   \u001b[0m | \u001b[0m-9.248   \u001b[0m |\n",
      "=========================================================================\n",
      "CPU times: user 15min 19s, sys: 8min 39s, total: 23min 58s\n",
      "Wall time: 4min 30s\n"
     ]
    }
   ],
   "source": [
    "%%time\n",
    "fdekf_optimizer.maximize(\n",
    "    init_points=50,\n",
    "    n_iter=50,\n",
    ")"
   ]
  },
  {
   "cell_type": "markdown",
   "metadata": {
    "id": "IwVyLyuJB0lR"
   },
   "source": [
    "## 3.2 Test Set Accuracy"
   ]
  },
  {
   "cell_type": "code",
   "execution_count": 14,
   "metadata": {
    "id": "TyqOIBC5owJf"
   },
   "outputs": [],
   "source": [
    "fdekf_hparams = {\n",
    "    'initial_covariance': 0.0010313810518482653,\n",
    "    'dynamics_weights': 0.9999999999999791,\n",
    "    'dynamics_covariance': 2.1137513659049582e-14,\n",
    "    'dynamics_covariance_inflation_factor': 6.010309295351233e-10\n",
    "}"
   ]
  },
  {
   "cell_type": "code",
   "execution_count": 15,
   "metadata": {
    "id": "pVMbYHDsB0lR"
   },
   "outputs": [],
   "source": [
    "# fdekf_hparams = hpt.get_best_params(fdekf_optimizer)\n",
    "fdekf_estimator = hpt.build_estimator(flat_params, fdekf_hparams, emission_mean_function,\n",
    "                                      emission_cov_function, method=\"fdekf\")"
   ]
  },
  {
   "cell_type": "code",
   "execution_count": 16,
   "metadata": {
    "id": "K5MK_k_wFj3h"
   },
   "outputs": [
    {
     "data": {
      "text/plain": [
       "{'initial_covariance': 0.0010313810518482653,\n",
       " 'dynamics_weights': 0.9999999999999791,\n",
       " 'dynamics_covariance': 2.1137513659049582e-14,\n",
       " 'dynamics_covariance_inflation_factor': 6.010309295351233e-10}"
      ]
     },
     "execution_count": 16,
     "metadata": {},
     "output_type": "execute_result"
    }
   ],
   "source": [
    "fdekf_hparams"
   ]
  },
  {
   "cell_type": "code",
   "execution_count": 17,
   "metadata": {},
   "outputs": [],
   "source": [
    "def test_acc_callback(bel, pred_obs, t, x, y, bel_pred, i, **kwargs):\n",
    "    X_test, y_test = kwargs[\"X_test\"], kwargs[\"y_test\"]\n",
    "    ntrain_per_batch, ntest_per_batch = kwargs[\"ntrain_per_batch\"], kwargs[\"ntest_per_batch\"]\n",
    "    prev_test_batch, curr_test_batch = i*ntest_per_batch, (i+1)*ntest_per_batch\n",
    "    curr_X_test, curr_y_test = X_test[prev_test_batch:curr_test_batch], y_test[prev_test_batch:curr_test_batch]\n",
    "    cum_X_test, cum_y_test = X_test[:curr_test_batch], y_test[:curr_test_batch]\n",
    "    apply_fn = kwargs[\"apply_fn\"]\n",
    "    \n",
    "    overall_accuracy = evaluate_accuracy(bel.mean, apply_fn, cum_X_test, cum_y_test)\n",
    "    current_accuracy = evaluate_accuracy(bel.mean, apply_fn, curr_X_test, curr_y_test)\n",
    "    task1_accuracy = evaluate_accuracy(bel.mean, apply_fn, X_test[:ntest_per_batch], y_test[:ntest_per_batch])\n",
    "    result = {\n",
    "        'overall': overall_accuracy,\n",
    "        'current': current_accuracy,\n",
    "        'task1': task1_accuracy,\n",
    "    }\n",
    "    return result"
   ]
  },
  {
   "cell_type": "code",
   "execution_count": 44,
   "metadata": {
    "id": "osBqbv5xAVQV"
   },
   "outputs": [],
   "source": [
    "def evaluate_model(estimator, n_iter=10, bel=None):\n",
    "    overall_accs, current_accs, task1_accs = [], [], []\n",
    "    for i in trange(n_iter):\n",
    "        (Xtr, Ytr), _, (Xte, Yte) = load_split_mnist_dataset(key=i)\n",
    "        train_ds = jdl.Dataset(Xtr, Ytr)\n",
    "        train_loader = jdl.DataLoaderJax(train_ds, batch_size=ntrain_per_batch, shuffle=False, drop_last=False)\n",
    "\n",
    "        test_kwargs = {\n",
    "            'X_test': Xte,\n",
    "            'y_test': Yte,\n",
    "            'ntrain_per_batch': ntrain_per_batch,\n",
    "            'ntest_per_batch': ntest_per_batch,\n",
    "            'apply_fn': apply_fn,\n",
    "        }\n",
    "\n",
    "        _, accs = estimator.scan_dataloader(train_loader, callback=test_acc_callback, bel=bel, **test_kwargs)\n",
    "        overall_accs.append(jnp.array([res['overall'] for res in accs]))\n",
    "        current_accs.append(jnp.array([res['current'] for res in accs]))\n",
    "        task1_accs.append(jnp.array([res['task1'] for res in accs]))\n",
    "    \n",
    "    overall_accs, current_accs, task1_accs = jnp.array(overall_accs), jnp.array(current_accs), jnp.array(task1_accs)\n",
    "    overall_accs, current_accs, task1_accs = \\\n",
    "        overall_accs.reshape((n_iter, -1)), current_accs.reshape((n_iter, -1)), task1_accs.reshape((n_iter, -1))\n",
    "\n",
    "    result = {\n",
    "        'overall': overall_accs.mean(axis=0),\n",
    "        'overall-std': overall_accs.std(axis=0),\n",
    "        'current': current_accs.mean(axis=0),\n",
    "        'current-std': current_accs.std(axis=0),\n",
    "        'task1': task1_accs.mean(axis=0),\n",
    "        'task1-std': task1_accs.std(axis=0),\n",
    "    }\n",
    "    \n",
    "    return result\n"
   ]
  },
  {
   "cell_type": "code",
   "execution_count": 19,
   "metadata": {
    "id": "NK0H8cKZCDXQ"
   },
   "outputs": [
    {
     "name": "stderr",
     "output_type": "stream",
     "text": [
      "100%|██████████| 10/10 [04:54<00:00, 29.46s/it]\n"
     ]
    }
   ],
   "source": [
    "fdekf_res = evaluate_model(fdekf_estimator)"
   ]
  },
  {
   "cell_type": "markdown",
   "metadata": {
    "id": "2_yEURSVB0lR"
   },
   "source": [
    "# 4. VDEKF"
   ]
  },
  {
   "cell_type": "markdown",
   "metadata": {
    "id": "Zxs_W3_6B0lR"
   },
   "source": [
    "## 4.1 Hyperparam Tuning"
   ]
  },
  {
   "cell_type": "code",
   "execution_count": 24,
   "metadata": {
    "id": "WyYxM6UaB0lR"
   },
   "outputs": [],
   "source": [
    "vdekf_optimizer, apply_fn, n_feats = hpt.create_optimizer(\n",
    "    model, pbounds, 314, train, val, emission_mean_function, emission_cov_function,\n",
    "    ll_callback, 'vdekf',\n",
    ")"
   ]
  },
  {
   "cell_type": "code",
   "execution_count": 25,
   "metadata": {
    "colab": {
     "base_uri": "https://localhost:8080/"
    },
    "id": "SNXztgAwB0lR",
    "outputId": "c755c678-9a3d-4c5f-91e2-6d37486d5277"
   },
   "outputs": [
    {
     "name": "stdout",
     "output_type": "stream",
     "text": [
      "|   iter    |  target   | log_alpha | log_dy... | log_dy... | log_in... |\n",
      "-------------------------------------------------------------------------\n",
      "| \u001b[0m1        \u001b[0m | \u001b[0m-51.89   \u001b[0m | \u001b[0m-3.325   \u001b[0m | \u001b[0m-16.46   \u001b[0m | \u001b[0m-29.4    \u001b[0m | \u001b[0m-2.168   \u001b[0m |\n",
      "| \u001b[0m2        \u001b[0m | \u001b[0m-3.727e+0\u001b[0m | \u001b[0m-3.28    \u001b[0m | \u001b[0m-6.906   \u001b[0m | \u001b[0m-10.88   \u001b[0m | \u001b[0m-7.395   \u001b[0m |\n",
      "| \u001b[0m3        \u001b[0m | \u001b[0m-504.2   \u001b[0m | \u001b[0m-3.529   \u001b[0m | \u001b[0m-29.57   \u001b[0m | \u001b[0m-9.345   \u001b[0m | \u001b[0m-7.385   \u001b[0m |\n",
      "| \u001b[95m4        \u001b[0m | \u001b[95m-0.692   \u001b[0m | \u001b[95m-35.11   \u001b[0m | \u001b[95m-24.56   \u001b[0m | \u001b[95m-6.397   \u001b[0m | \u001b[95m-7.218   \u001b[0m |\n",
      "| \u001b[0m5        \u001b[0m | \u001b[0m-1.226   \u001b[0m | \u001b[0m-37.2    \u001b[0m | \u001b[0m-14.68   \u001b[0m | \u001b[0m-16.61   \u001b[0m | \u001b[0m-4.188   \u001b[0m |\n",
      "| \u001b[0m6        \u001b[0m | \u001b[0m-0.7865  \u001b[0m | \u001b[0m-12.91   \u001b[0m | \u001b[0m-12.51   \u001b[0m | \u001b[0m-22.44   \u001b[0m | \u001b[0m-6.791   \u001b[0m |\n",
      "| \u001b[0m7        \u001b[0m | \u001b[0m-0.6922  \u001b[0m | \u001b[0m-17.18   \u001b[0m | \u001b[0m-20.81   \u001b[0m | \u001b[0m-5.557   \u001b[0m | \u001b[0m-1.652   \u001b[0m |\n",
      "| \u001b[95m8        \u001b[0m | \u001b[95m-0.5697  \u001b[0m | \u001b[95m-35.77   \u001b[0m | \u001b[95m-37.58   \u001b[0m | \u001b[95m-16.12   \u001b[0m | \u001b[95m-2.076   \u001b[0m |\n",
      "| \u001b[95m9        \u001b[0m | \u001b[95m-0.5132  \u001b[0m | \u001b[95m-30.95   \u001b[0m | \u001b[95m-18.59   \u001b[0m | \u001b[95m-34.56   \u001b[0m | \u001b[95m-6.278   \u001b[0m |\n",
      "| \u001b[95m10       \u001b[0m | \u001b[95m-0.4736  \u001b[0m | \u001b[95m-33.92   \u001b[0m | \u001b[95m-22.81   \u001b[0m | \u001b[95m-8.292   \u001b[0m | \u001b[95m-5.93    \u001b[0m |\n",
      "| \u001b[0m11       \u001b[0m | \u001b[0m-5.002e+0\u001b[0m | \u001b[0m-32.89   \u001b[0m | \u001b[0m-3.63    \u001b[0m | \u001b[0m-18.19   \u001b[0m | \u001b[0m-8.995   \u001b[0m |\n",
      "| \u001b[0m12       \u001b[0m | \u001b[0m-5.426e+0\u001b[0m | \u001b[0m-11.25   \u001b[0m | \u001b[0m-0.8628  \u001b[0m | \u001b[0m-27.61   \u001b[0m | \u001b[0m-7.399   \u001b[0m |\n",
      "| \u001b[0m13       \u001b[0m | \u001b[0m-0.9699  \u001b[0m | \u001b[0m-13.48   \u001b[0m | \u001b[0m-34.41   \u001b[0m | \u001b[0m-36.65   \u001b[0m | \u001b[0m-4.732   \u001b[0m |\n",
      "| \u001b[0m14       \u001b[0m | \u001b[0m-372.8   \u001b[0m | \u001b[0m-15.59   \u001b[0m | \u001b[0m-5.304   \u001b[0m | \u001b[0m-34.04   \u001b[0m | \u001b[0m-1.359   \u001b[0m |\n",
      "| \u001b[0m15       \u001b[0m | \u001b[0m-1.506   \u001b[0m | \u001b[0m-22.0    \u001b[0m | \u001b[0m-10.93   \u001b[0m | \u001b[0m-33.8    \u001b[0m | \u001b[0m-5.829   \u001b[0m |\n",
      "| \u001b[0m16       \u001b[0m | \u001b[0m-0.6442  \u001b[0m | \u001b[0m-34.3    \u001b[0m | \u001b[0m-26.43   \u001b[0m | \u001b[0m-11.89   \u001b[0m | \u001b[0m-9.229   \u001b[0m |\n",
      "| \u001b[0m17       \u001b[0m | \u001b[0m-3.032e+0\u001b[0m | \u001b[0m-37.18   \u001b[0m | \u001b[0m-0.7213  \u001b[0m | \u001b[0m-38.34   \u001b[0m | \u001b[0m-9.007   \u001b[0m |\n",
      "| \u001b[0m18       \u001b[0m | \u001b[0m-0.6931  \u001b[0m | \u001b[0m-31.18   \u001b[0m | \u001b[0m-13.6    \u001b[0m | \u001b[0m-0.1541  \u001b[0m | \u001b[0m-0.3022  \u001b[0m |\n",
      "| \u001b[0m19       \u001b[0m | \u001b[0m-3.85e+04\u001b[0m | \u001b[0m-12.94   \u001b[0m | \u001b[0m-0.06077 \u001b[0m | \u001b[0m-35.15   \u001b[0m | \u001b[0m-5.638   \u001b[0m |\n",
      "| \u001b[0m20       \u001b[0m | \u001b[0m-1.006   \u001b[0m | \u001b[0m-33.31   \u001b[0m | \u001b[0m-18.11   \u001b[0m | \u001b[0m-9.157   \u001b[0m | \u001b[0m-4.336   \u001b[0m |\n",
      "| \u001b[0m21       \u001b[0m | \u001b[0m-0.8154  \u001b[0m | \u001b[0m-27.74   \u001b[0m | \u001b[0m-0.8882  \u001b[0m | \u001b[0m-4.452   \u001b[0m | \u001b[0m-7.633   \u001b[0m |\n",
      "| \u001b[0m22       \u001b[0m | \u001b[0m-0.6931  \u001b[0m | \u001b[0m-12.58   \u001b[0m | \u001b[0m-36.7    \u001b[0m | \u001b[0m-5.273   \u001b[0m | \u001b[0m-6.59    \u001b[0m |\n",
      "| \u001b[0m23       \u001b[0m | \u001b[0m-0.5104  \u001b[0m | \u001b[0m-14.74   \u001b[0m | \u001b[0m-25.22   \u001b[0m | \u001b[0m-7.529   \u001b[0m | \u001b[0m-6.144   \u001b[0m |\n",
      "| \u001b[95m24       \u001b[0m | \u001b[95m-0.4379  \u001b[0m | \u001b[95m-21.23   \u001b[0m | \u001b[95m-31.49   \u001b[0m | \u001b[95m-31.5    \u001b[0m | \u001b[95m-6.877   \u001b[0m |\n",
      "| \u001b[0m25       \u001b[0m | \u001b[0m-285.6   \u001b[0m | \u001b[0m-18.41   \u001b[0m | \u001b[0m-6.95    \u001b[0m | \u001b[0m-13.72   \u001b[0m | \u001b[0m-5.69    \u001b[0m |\n",
      "| \u001b[0m26       \u001b[0m | \u001b[0m-31.38   \u001b[0m | \u001b[0m-6.284   \u001b[0m | \u001b[0m-35.38   \u001b[0m | \u001b[0m-19.55   \u001b[0m | \u001b[0m-2.765   \u001b[0m |\n",
      "| \u001b[0m27       \u001b[0m | \u001b[0m-0.6144  \u001b[0m | \u001b[0m-38.55   \u001b[0m | \u001b[0m-12.87   \u001b[0m | \u001b[0m-28.82   \u001b[0m | \u001b[0m-8.103   \u001b[0m |\n",
      "| \u001b[0m28       \u001b[0m | \u001b[0m-1.174   \u001b[0m | \u001b[0m-24.51   \u001b[0m | \u001b[0m-18.24   \u001b[0m | \u001b[0m-32.42   \u001b[0m | \u001b[0m-4.209   \u001b[0m |\n",
      "| \u001b[0m29       \u001b[0m | \u001b[0m-1.424   \u001b[0m | \u001b[0m-29.01   \u001b[0m | \u001b[0m-14.26   \u001b[0m | \u001b[0m-37.07   \u001b[0m | \u001b[0m-3.494   \u001b[0m |\n",
      "| \u001b[0m30       \u001b[0m | \u001b[0m-8.324e+0\u001b[0m | \u001b[0m-3.589   \u001b[0m | \u001b[0m-14.74   \u001b[0m | \u001b[0m-18.65   \u001b[0m | \u001b[0m-1.161   \u001b[0m |\n",
      "| \u001b[0m31       \u001b[0m | \u001b[0m-0.6836  \u001b[0m | \u001b[0m-14.72   \u001b[0m | \u001b[0m-33.4    \u001b[0m | \u001b[0m-29.6    \u001b[0m | \u001b[0m-9.884   \u001b[0m |\n",
      "| \u001b[0m32       \u001b[0m | \u001b[0m-1e+08   \u001b[0m | \u001b[0m-0.2037  \u001b[0m | \u001b[0m-7.485   \u001b[0m | \u001b[0m-7.632   \u001b[0m | \u001b[0m-1.068   \u001b[0m |\n",
      "| \u001b[0m33       \u001b[0m | \u001b[0m-0.6931  \u001b[0m | \u001b[0m-30.93   \u001b[0m | \u001b[0m-18.67   \u001b[0m | \u001b[0m-2.163   \u001b[0m | \u001b[0m-7.967   \u001b[0m |\n",
      "| \u001b[0m34       \u001b[0m | \u001b[0m-2.643e+0\u001b[0m | \u001b[0m-5.548   \u001b[0m | \u001b[0m-4.321   \u001b[0m | \u001b[0m-17.0    \u001b[0m | \u001b[0m-9.934   \u001b[0m |\n",
      "| \u001b[0m35       \u001b[0m | \u001b[0m-18.04   \u001b[0m | \u001b[0m-8.735   \u001b[0m | \u001b[0m-8.361   \u001b[0m | \u001b[0m-13.89   \u001b[0m | \u001b[0m-4.914   \u001b[0m |\n",
      "| \u001b[0m36       \u001b[0m | \u001b[0m-1e+08   \u001b[0m | \u001b[0m-1.607   \u001b[0m | \u001b[0m-19.02   \u001b[0m | \u001b[0m-27.5    \u001b[0m | \u001b[0m-6.995   \u001b[0m |\n",
      "| \u001b[0m37       \u001b[0m | \u001b[0m-3.661e+0\u001b[0m | \u001b[0m-3.691   \u001b[0m | \u001b[0m-7.406   \u001b[0m | \u001b[0m-22.67   \u001b[0m | \u001b[0m-3.497   \u001b[0m |\n",
      "| \u001b[0m38       \u001b[0m | \u001b[0m-1.321   \u001b[0m | \u001b[0m-10.84   \u001b[0m | \u001b[0m-21.21   \u001b[0m | \u001b[0m-13.52   \u001b[0m | \u001b[0m-2.857   \u001b[0m |\n",
      "| \u001b[0m39       \u001b[0m | \u001b[0m-0.571   \u001b[0m | \u001b[0m-19.86   \u001b[0m | \u001b[0m-38.73   \u001b[0m | \u001b[0m-37.56   \u001b[0m | \u001b[0m-8.48    \u001b[0m |\n",
      "| \u001b[0m40       \u001b[0m | \u001b[0m-1.595   \u001b[0m | \u001b[0m-37.66   \u001b[0m | \u001b[0m-10.6    \u001b[0m | \u001b[0m-36.66   \u001b[0m | \u001b[0m-8.16    \u001b[0m |\n",
      "| \u001b[0m41       \u001b[0m | \u001b[0m-1.425   \u001b[0m | \u001b[0m-38.67   \u001b[0m | \u001b[0m-19.73   \u001b[0m | \u001b[0m-21.96   \u001b[0m | \u001b[0m-3.031   \u001b[0m |\n",
      "| \u001b[0m42       \u001b[0m | \u001b[0m-0.5928  \u001b[0m | \u001b[0m-14.82   \u001b[0m | \u001b[0m-18.42   \u001b[0m | \u001b[0m-6.447   \u001b[0m | \u001b[0m-2.425   \u001b[0m |\n",
      "| \u001b[0m43       \u001b[0m | \u001b[0m-31.24   \u001b[0m | \u001b[0m-33.26   \u001b[0m | \u001b[0m-9.006   \u001b[0m | \u001b[0m-25.96   \u001b[0m | \u001b[0m-1.252   \u001b[0m |\n",
      "| \u001b[0m44       \u001b[0m | \u001b[0m-58.31   \u001b[0m | \u001b[0m-9.092   \u001b[0m | \u001b[0m-6.162   \u001b[0m | \u001b[0m-12.5    \u001b[0m | \u001b[0m-3.962   \u001b[0m |\n",
      "| \u001b[0m45       \u001b[0m | \u001b[0m-0.6931  \u001b[0m | \u001b[0m-19.49   \u001b[0m | \u001b[0m-34.39   \u001b[0m | \u001b[0m-3.042   \u001b[0m | \u001b[0m-1.253   \u001b[0m |\n",
      "| \u001b[0m46       \u001b[0m | \u001b[0m-7.167e+0\u001b[0m | \u001b[0m-31.01   \u001b[0m | \u001b[0m-3.384   \u001b[0m | \u001b[0m-36.65   \u001b[0m | \u001b[0m-7.443   \u001b[0m |\n",
      "| \u001b[0m47       \u001b[0m | \u001b[0m-0.6946  \u001b[0m | \u001b[0m-35.62   \u001b[0m | \u001b[0m-27.04   \u001b[0m | \u001b[0m-7.605   \u001b[0m | \u001b[0m-9.977   \u001b[0m |\n",
      "| \u001b[0m48       \u001b[0m | \u001b[0m-0.805   \u001b[0m | \u001b[0m-30.7    \u001b[0m | \u001b[0m-38.22   \u001b[0m | \u001b[0m-25.6    \u001b[0m | \u001b[0m-5.262   \u001b[0m |\n",
      "| \u001b[0m49       \u001b[0m | \u001b[0m-2.514   \u001b[0m | \u001b[0m-11.91   \u001b[0m | \u001b[0m-8.632   \u001b[0m | \u001b[0m-18.34   \u001b[0m | \u001b[0m-9.985   \u001b[0m |\n",
      "| \u001b[0m50       \u001b[0m | \u001b[0m-1.03e+04\u001b[0m | \u001b[0m-28.73   \u001b[0m | \u001b[0m-3.236   \u001b[0m | \u001b[0m-21.08   \u001b[0m | \u001b[0m-4.687   \u001b[0m |\n",
      "| \u001b[0m51       \u001b[0m | \u001b[0m-522.6   \u001b[0m | \u001b[0m-5.53    \u001b[0m | \u001b[0m-13.03   \u001b[0m | \u001b[0m-31.21   \u001b[0m | \u001b[0m0.0      \u001b[0m |\n",
      "| \u001b[0m52       \u001b[0m | \u001b[0m-1.612   \u001b[0m | \u001b[0m-30.76   \u001b[0m | \u001b[0m-10.6    \u001b[0m | \u001b[0m-30.55   \u001b[0m | \u001b[0m-6.563   \u001b[0m |\n",
      "| \u001b[0m53       \u001b[0m | \u001b[0m-499.6   \u001b[0m | \u001b[0m-10.87   \u001b[0m | \u001b[0m-4.916   \u001b[0m | \u001b[0m-20.6    \u001b[0m | \u001b[0m-4.07    \u001b[0m |\n",
      "| \u001b[0m54       \u001b[0m | \u001b[0m-3.012e+0\u001b[0m | \u001b[0m-8.272   \u001b[0m | \u001b[0m-2.63    \u001b[0m | \u001b[0m-10.62   \u001b[0m | \u001b[0m-9.61    \u001b[0m |\n",
      "| \u001b[0m55       \u001b[0m | \u001b[0m-1.481   \u001b[0m | \u001b[0m-33.02   \u001b[0m | \u001b[0m-16.7    \u001b[0m | \u001b[0m-27.42   \u001b[0m | \u001b[0m-3.367   \u001b[0m |\n",
      "| \u001b[0m56       \u001b[0m | \u001b[0m-0.9686  \u001b[0m | \u001b[0m-33.28   \u001b[0m | \u001b[0m-11.97   \u001b[0m | \u001b[0m-22.01   \u001b[0m | \u001b[0m-7.289   \u001b[0m |\n",
      "| \u001b[0m57       \u001b[0m | \u001b[0m-21.7    \u001b[0m | \u001b[0m-35.93   \u001b[0m | \u001b[0m-12.55   \u001b[0m | \u001b[0m-33.25   \u001b[0m | \u001b[0m-1.432   \u001b[0m |\n",
      "| \u001b[0m58       \u001b[0m | \u001b[0m-1.754   \u001b[0m | \u001b[0m-8.632   \u001b[0m | \u001b[0m-10.03   \u001b[0m | \u001b[0m-9.901   \u001b[0m | \u001b[0m-10.0    \u001b[0m |\n",
      "| \u001b[0m59       \u001b[0m | \u001b[0m-407.2   \u001b[0m | \u001b[0m-36.86   \u001b[0m | \u001b[0m-5.019   \u001b[0m | \u001b[0m-31.02   \u001b[0m | \u001b[0m-5.764   \u001b[0m |\n",
      "| \u001b[0m60       \u001b[0m | \u001b[0m-0.5894  \u001b[0m | \u001b[0m-15.0    \u001b[0m | \u001b[0m-14.63   \u001b[0m | \u001b[0m-14.17   \u001b[0m | \u001b[0m-6.11    \u001b[0m |\n",
      "| \u001b[0m61       \u001b[0m | \u001b[0m-23.02   \u001b[0m | \u001b[0m-17.37   \u001b[0m | \u001b[0m-6.644   \u001b[0m | \u001b[0m-26.75   \u001b[0m | \u001b[0m-5.655   \u001b[0m |\n",
      "| \u001b[0m62       \u001b[0m | \u001b[0m-1.33    \u001b[0m | \u001b[0m-24.91   \u001b[0m | \u001b[0m-11.41   \u001b[0m | \u001b[0m-25.21   \u001b[0m | \u001b[0m-4.022   \u001b[0m |\n",
      "| \u001b[0m63       \u001b[0m | \u001b[0m-23.65   \u001b[0m | \u001b[0m-17.72   \u001b[0m | \u001b[0m-10.03   \u001b[0m | \u001b[0m-19.94   \u001b[0m | \u001b[0m-1.4     \u001b[0m |\n",
      "| \u001b[0m64       \u001b[0m | \u001b[0m-1.825   \u001b[0m | \u001b[0m-20.5    \u001b[0m | \u001b[0m-10.06   \u001b[0m | \u001b[0m-20.26   \u001b[0m | \u001b[0m-9.318   \u001b[0m |\n",
      "| \u001b[0m65       \u001b[0m | \u001b[0m-1.652   \u001b[0m | \u001b[0m-27.04   \u001b[0m | \u001b[0m-10.31   \u001b[0m | \u001b[0m-16.58   \u001b[0m | \u001b[0m-4.626   \u001b[0m |\n",
      "| \u001b[0m66       \u001b[0m | \u001b[0m-3.451e+0\u001b[0m | \u001b[0m-18.28   \u001b[0m | \u001b[0m-1.556   \u001b[0m | \u001b[0m-20.49   \u001b[0m | \u001b[0m-6.855   \u001b[0m |\n",
      "| \u001b[0m67       \u001b[0m | \u001b[0m-2.098e+0\u001b[0m | \u001b[0m-25.56   \u001b[0m | \u001b[0m-4.069   \u001b[0m | \u001b[0m-29.68   \u001b[0m | \u001b[0m-3.998   \u001b[0m |\n",
      "| \u001b[0m68       \u001b[0m | \u001b[0m-3.913e+0\u001b[0m | \u001b[0m-22.1    \u001b[0m | \u001b[0m-3.998   \u001b[0m | \u001b[0m-23.05   \u001b[0m | \u001b[0m0.0      \u001b[0m |\n",
      "| \u001b[0m69       \u001b[0m | \u001b[0m-264.5   \u001b[0m | \u001b[0m-30.35   \u001b[0m | \u001b[0m-6.674   \u001b[0m | \u001b[0m-34.46   \u001b[0m | \u001b[0m0.0      \u001b[0m |\n",
      "| \u001b[0m70       \u001b[0m | \u001b[0m-5.445e+0\u001b[0m | \u001b[0m-24.91   \u001b[0m | \u001b[0m-3.615   \u001b[0m | \u001b[0m-15.19   \u001b[0m | \u001b[0m-9.86    \u001b[0m |\n",
      "| \u001b[0m71       \u001b[0m | \u001b[0m-1.462   \u001b[0m | \u001b[0m-10.66   \u001b[0m | \u001b[0m-31.27   \u001b[0m | \u001b[0m-11.88   \u001b[0m | \u001b[0m-3.41    \u001b[0m |\n",
      "| \u001b[0m72       \u001b[0m | \u001b[0m-1.18    \u001b[0m | \u001b[0m-30.12   \u001b[0m | \u001b[0m-18.81   \u001b[0m | \u001b[0m-18.62   \u001b[0m | \u001b[0m-4.288   \u001b[0m |\n",
      "| \u001b[0m73       \u001b[0m | \u001b[0m-0.9929  \u001b[0m | \u001b[0m-21.3    \u001b[0m | \u001b[0m-17.31   \u001b[0m | \u001b[0m-19.44   \u001b[0m | \u001b[0m-4.631   \u001b[0m |\n",
      "| \u001b[0m74       \u001b[0m | \u001b[0m-0.9009  \u001b[0m | \u001b[0m-23.53   \u001b[0m | \u001b[0m-16.74   \u001b[0m | \u001b[0m-10.81   \u001b[0m | \u001b[0m-4.885   \u001b[0m |\n",
      "| \u001b[0m75       \u001b[0m | \u001b[0m-0.6503  \u001b[0m | \u001b[0m-27.11   \u001b[0m | \u001b[0m-17.4    \u001b[0m | \u001b[0m-25.48   \u001b[0m | \u001b[0m-9.479   \u001b[0m |\n",
      "| \u001b[0m76       \u001b[0m | \u001b[0m-0.6015  \u001b[0m | \u001b[0m-30.32   \u001b[0m | \u001b[0m-15.14   \u001b[0m | \u001b[0m-13.87   \u001b[0m | \u001b[0m-10.0    \u001b[0m |\n",
      "| \u001b[0m77       \u001b[0m | \u001b[0m-1.2     \u001b[0m | \u001b[0m-28.79   \u001b[0m | \u001b[0m-10.38   \u001b[0m | \u001b[0m-7.418   \u001b[0m | \u001b[0m-6.005   \u001b[0m |\n",
      "| \u001b[0m78       \u001b[0m | \u001b[0m-1.323   \u001b[0m | \u001b[0m-22.8    \u001b[0m | \u001b[0m-11.17   \u001b[0m | \u001b[0m-11.62   \u001b[0m | \u001b[0m-10.0    \u001b[0m |\n",
      "| \u001b[0m79       \u001b[0m | \u001b[0m-1.039e+0\u001b[0m | \u001b[0m-29.31   \u001b[0m | \u001b[0m-3.187   \u001b[0m | \u001b[0m-11.93   \u001b[0m | \u001b[0m-3.328   \u001b[0m |\n",
      "| \u001b[0m80       \u001b[0m | \u001b[0m-1.414   \u001b[0m | \u001b[0m-18.65   \u001b[0m | \u001b[0m-23.7    \u001b[0m | \u001b[0m-14.18   \u001b[0m | \u001b[0m-3.292   \u001b[0m |\n",
      "| \u001b[0m81       \u001b[0m | \u001b[0m-0.6922  \u001b[0m | \u001b[0m-26.59   \u001b[0m | \u001b[0m-22.5    \u001b[0m | \u001b[0m-9.191   \u001b[0m | \u001b[0m-10.0    \u001b[0m |\n",
      "| \u001b[0m82       \u001b[0m | \u001b[0m-10.51   \u001b[0m | \u001b[0m-27.21   \u001b[0m | \u001b[0m-24.25   \u001b[0m | \u001b[0m-12.44   \u001b[0m | \u001b[0m-2.182   \u001b[0m |\n",
      "| \u001b[0m83       \u001b[0m | \u001b[0m-0.6931  \u001b[0m | \u001b[0m-26.69   \u001b[0m | \u001b[0m-20.45   \u001b[0m | \u001b[0m-4.52    \u001b[0m | \u001b[0m-1.376   \u001b[0m |\n",
      "| \u001b[0m84       \u001b[0m | \u001b[0m-0.6669  \u001b[0m | \u001b[0m-22.89   \u001b[0m | \u001b[0m-27.73   \u001b[0m | \u001b[0m-6.386   \u001b[0m | \u001b[0m-4.684   \u001b[0m |\n",
      "| \u001b[0m85       \u001b[0m | \u001b[0m-16.68   \u001b[0m | \u001b[0m-35.36   \u001b[0m | \u001b[0m-8.484   \u001b[0m | \u001b[0m-11.92   \u001b[0m | \u001b[0m-7.41    \u001b[0m |\n",
      "| \u001b[0m86       \u001b[0m | \u001b[0m-0.6931  \u001b[0m | \u001b[0m-20.86   \u001b[0m | \u001b[0m-17.88   \u001b[0m | \u001b[0m-3.681   \u001b[0m | \u001b[0m-8.391   \u001b[0m |\n",
      "| \u001b[0m87       \u001b[0m | \u001b[0m-160.6   \u001b[0m | \u001b[0m-9.348   \u001b[0m | \u001b[0m-12.0    \u001b[0m | \u001b[0m-23.88   \u001b[0m | \u001b[0m0.0      \u001b[0m |\n",
      "| \u001b[0m88       \u001b[0m | \u001b[0m-0.6932  \u001b[0m | \u001b[0m-20.61   \u001b[0m | \u001b[0m-11.11   \u001b[0m | \u001b[0m-4.983   \u001b[0m | \u001b[0m-2.539   \u001b[0m |\n",
      "| \u001b[0m89       \u001b[0m | \u001b[0m-1.756   \u001b[0m | \u001b[0m-18.18   \u001b[0m | \u001b[0m-14.61   \u001b[0m | \u001b[0m-27.83   \u001b[0m | \u001b[0m-2.882   \u001b[0m |\n",
      "| \u001b[0m90       \u001b[0m | \u001b[0m-4.838e+0\u001b[0m | \u001b[0m-15.39   \u001b[0m | \u001b[0m0.0      \u001b[0m | \u001b[0m-27.12   \u001b[0m | \u001b[0m-0.02398 \u001b[0m |\n",
      "| \u001b[0m91       \u001b[0m | \u001b[0m-69.26   \u001b[0m | \u001b[0m-35.62   \u001b[0m | \u001b[0m-7.04    \u001b[0m | \u001b[0m-18.21   \u001b[0m | \u001b[0m-1.116   \u001b[0m |\n",
      "| \u001b[0m92       \u001b[0m | \u001b[0m-0.689   \u001b[0m | \u001b[0m-24.9    \u001b[0m | \u001b[0m-22.69   \u001b[0m | \u001b[0m-17.55   \u001b[0m | \u001b[0m-10.0    \u001b[0m |\n",
      "| \u001b[0m93       \u001b[0m | \u001b[0m-1.203   \u001b[0m | \u001b[0m-26.09   \u001b[0m | \u001b[0m-24.31   \u001b[0m | \u001b[0m-25.67   \u001b[0m | \u001b[0m-4.255   \u001b[0m |\n",
      "| \u001b[0m94       \u001b[0m | \u001b[0m-260.3   \u001b[0m | \u001b[0m-6.084   \u001b[0m | \u001b[0m-18.61   \u001b[0m | \u001b[0m-34.52   \u001b[0m | \u001b[0m-0.142   \u001b[0m |\n",
      "| \u001b[0m95       \u001b[0m | \u001b[0m-0.6889  \u001b[0m | \u001b[0m-33.84   \u001b[0m | \u001b[0m-22.13   \u001b[0m | \u001b[0m-22.11   \u001b[0m | \u001b[0m-10.0    \u001b[0m |\n",
      "| \u001b[0m96       \u001b[0m | \u001b[0m-0.879   \u001b[0m | \u001b[0m-30.87   \u001b[0m | \u001b[0m-28.52   \u001b[0m | \u001b[0m-19.26   \u001b[0m | \u001b[0m-4.992   \u001b[0m |\n",
      "| \u001b[0m97       \u001b[0m | \u001b[0m-151.1   \u001b[0m | \u001b[0m-31.92   \u001b[0m | \u001b[0m-11.55   \u001b[0m | \u001b[0m-11.83   \u001b[0m | \u001b[0m0.0      \u001b[0m |\n",
      "| \u001b[0m98       \u001b[0m | \u001b[0m-0.4826  \u001b[0m | \u001b[0m-24.31   \u001b[0m | \u001b[0m-30.42   \u001b[0m | \u001b[0m-13.99   \u001b[0m | \u001b[0m-7.738   \u001b[0m |\n",
      "| \u001b[0m99       \u001b[0m | \u001b[0m-1.236   \u001b[0m | \u001b[0m-30.99   \u001b[0m | \u001b[0m-31.79   \u001b[0m | \u001b[0m-9.907   \u001b[0m | \u001b[0m-3.698   \u001b[0m |\n",
      "| \u001b[0m100      \u001b[0m | \u001b[0m-0.6414  \u001b[0m | \u001b[0m-24.21   \u001b[0m | \u001b[0m-31.58   \u001b[0m | \u001b[0m-23.09   \u001b[0m | \u001b[0m-9.211   \u001b[0m |\n",
      "=========================================================================\n",
      "CPU times: user 16min 29s, sys: 8min 43s, total: 25min 12s\n",
      "Wall time: 5min 6s\n"
     ]
    }
   ],
   "source": [
    "%%time\n",
    "vdekf_optimizer.maximize(\n",
    "    init_points=50,\n",
    "    n_iter=50,\n",
    ")"
   ]
  },
  {
   "cell_type": "markdown",
   "metadata": {
    "id": "i3Lb7EYQB0lR"
   },
   "source": [
    "## 4.2 Test Set Accuracy"
   ]
  },
  {
   "cell_type": "code",
   "execution_count": 20,
   "metadata": {
    "id": "xeRrzbXJo_wT"
   },
   "outputs": [],
   "source": [
    "vdekf_hparams = {\n",
    "    'initial_covariance': 0.0010313810518482653,\n",
    "    'dynamics_weights': 0.9999999999999791,\n",
    "    'dynamics_covariance': 2.1137513659049582e-14,\n",
    "    'dynamics_covariance_inflation_factor': 6.010309295351233e-10\n",
    "}"
   ]
  },
  {
   "cell_type": "code",
   "execution_count": 21,
   "metadata": {
    "id": "_BKbfR8AB0lS"
   },
   "outputs": [],
   "source": [
    "# vdekf_hparams = hpt.get_best_params(vdekf_optimizer)\n",
    "vdekf_estimator = hpt.build_estimator(flat_params, vdekf_hparams, emission_mean_function,\n",
    "                                      emission_cov_function, method=\"vdekf\")"
   ]
  },
  {
   "cell_type": "code",
   "execution_count": 22,
   "metadata": {
    "colab": {
     "base_uri": "https://localhost:8080/"
    },
    "id": "F62A5J-7C3c8",
    "outputId": "61a589e0-0d7d-4283-db5d-9098356f39de"
   },
   "outputs": [
    {
     "data": {
      "text/plain": [
       "{'initial_covariance': 0.0010313810518482653,\n",
       " 'dynamics_weights': 0.9999999999999791,\n",
       " 'dynamics_covariance': 2.1137513659049582e-14,\n",
       " 'dynamics_covariance_inflation_factor': 6.010309295351233e-10}"
      ]
     },
     "execution_count": 22,
     "metadata": {},
     "output_type": "execute_result"
    }
   ],
   "source": [
    "vdekf_hparams"
   ]
  },
  {
   "cell_type": "code",
   "execution_count": 23,
   "metadata": {
    "colab": {
     "base_uri": "https://localhost:8080/"
    },
    "id": "bWOCErk9B0lS",
    "outputId": "3db554ed-70ee-41c1-ed71-e08ade0faacf"
   },
   "outputs": [
    {
     "name": "stderr",
     "output_type": "stream",
     "text": [
      "100%|██████████| 10/10 [05:07<00:00, 30.77s/it]\n"
     ]
    }
   ],
   "source": [
    "vdekf_res = evaluate_model(vdekf_estimator)"
   ]
  },
  {
   "cell_type": "markdown",
   "metadata": {
    "id": "9UK1A_CGB0lS"
   },
   "source": [
    "# 5. LoFi (Rank 1)"
   ]
  },
  {
   "cell_type": "markdown",
   "metadata": {
    "id": "YMoDiy2QB0lS"
   },
   "source": [
    "## 5.1 Hyperparam Tuning"
   ]
  },
  {
   "cell_type": "code",
   "execution_count": 140,
   "metadata": {
    "id": "okfqA0p7B0lS"
   },
   "outputs": [],
   "source": [
    "lofi_1_params = LoFiParams(\n",
    "    memory_size=1,\n",
    "    diagonal_covariance=False,\n",
    ")"
   ]
  },
  {
   "cell_type": "code",
   "execution_count": 141,
   "metadata": {
    "id": "ySieQmkuB0lS"
   },
   "outputs": [],
   "source": [
    "lofi_1_optimizer, apply_fn, n_feats = hpt.create_optimizer(\n",
    "    model, pbounds, 314, train, val, emission_mean_function, emission_cov_function,\n",
    "    ll_callback, 'lofi', params_lofi=lofi_1_params\n",
    ")"
   ]
  },
  {
   "cell_type": "code",
   "execution_count": 142,
   "metadata": {
    "colab": {
     "base_uri": "https://localhost:8080/"
    },
    "id": "iCCZIfOsB0lS",
    "outputId": "ab60375e-8dde-4115-e68e-dbddb51cf427"
   },
   "outputs": [
    {
     "name": "stdout",
     "output_type": "stream",
     "text": [
      "|   iter    |  target   | log_alpha | log_dy... | log_dy... | log_in... |\n",
      "-------------------------------------------------------------------------\n",
      "| \u001b[0m1        \u001b[0m | \u001b[0m-0.8143  \u001b[0m | \u001b[0m-3.325   \u001b[0m | \u001b[0m-16.46   \u001b[0m | \u001b[0m-29.4    \u001b[0m | \u001b[0m-2.168   \u001b[0m |\n",
      "| \u001b[0m2        \u001b[0m | \u001b[0m-0.8525  \u001b[0m | \u001b[0m-3.28    \u001b[0m | \u001b[0m-6.906   \u001b[0m | \u001b[0m-10.88   \u001b[0m | \u001b[0m-7.395   \u001b[0m |\n",
      "| \u001b[95m3        \u001b[0m | \u001b[95m-0.7306  \u001b[0m | \u001b[95m-3.529   \u001b[0m | \u001b[95m-29.57   \u001b[0m | \u001b[95m-9.345   \u001b[0m | \u001b[95m-7.385   \u001b[0m |\n",
      "| \u001b[95m4        \u001b[0m | \u001b[95m-0.6921  \u001b[0m | \u001b[95m-35.11   \u001b[0m | \u001b[95m-24.56   \u001b[0m | \u001b[95m-6.397   \u001b[0m | \u001b[95m-7.218   \u001b[0m |\n",
      "| \u001b[0m5        \u001b[0m | \u001b[0m-0.9718  \u001b[0m | \u001b[0m-37.2    \u001b[0m | \u001b[0m-14.68   \u001b[0m | \u001b[0m-16.61   \u001b[0m | \u001b[0m-4.188   \u001b[0m |\n",
      "| \u001b[95m6        \u001b[0m | \u001b[95m-0.678   \u001b[0m | \u001b[95m-12.91   \u001b[0m | \u001b[95m-12.51   \u001b[0m | \u001b[95m-22.44   \u001b[0m | \u001b[95m-6.791   \u001b[0m |\n",
      "| \u001b[0m7        \u001b[0m | \u001b[0m-0.692   \u001b[0m | \u001b[0m-17.18   \u001b[0m | \u001b[0m-20.81   \u001b[0m | \u001b[0m-5.557   \u001b[0m | \u001b[0m-1.652   \u001b[0m |\n",
      "| \u001b[0m8        \u001b[0m | \u001b[0m-2.009   \u001b[0m | \u001b[0m-35.77   \u001b[0m | \u001b[0m-37.58   \u001b[0m | \u001b[0m-16.12   \u001b[0m | \u001b[0m-2.076   \u001b[0m |\n",
      "| \u001b[95m9        \u001b[0m | \u001b[95m-0.4866  \u001b[0m | \u001b[95m-30.95   \u001b[0m | \u001b[95m-18.59   \u001b[0m | \u001b[95m-34.56   \u001b[0m | \u001b[95m-6.278   \u001b[0m |\n",
      "| \u001b[95m10       \u001b[0m | \u001b[95m-0.4604  \u001b[0m | \u001b[95m-33.92   \u001b[0m | \u001b[95m-22.81   \u001b[0m | \u001b[95m-8.292   \u001b[0m | \u001b[95m-5.93    \u001b[0m |\n",
      "| \u001b[0m11       \u001b[0m | \u001b[0m-3.02e+03\u001b[0m | \u001b[0m-32.89   \u001b[0m | \u001b[0m-3.63    \u001b[0m | \u001b[0m-18.19   \u001b[0m | \u001b[0m-8.995   \u001b[0m |\n",
      "| \u001b[0m12       \u001b[0m | \u001b[0m-55.63   \u001b[0m | \u001b[0m-11.25   \u001b[0m | \u001b[0m-0.8628  \u001b[0m | \u001b[0m-27.61   \u001b[0m | \u001b[0m-7.399   \u001b[0m |\n",
      "| \u001b[0m13       \u001b[0m | \u001b[0m-0.8116  \u001b[0m | \u001b[0m-13.48   \u001b[0m | \u001b[0m-34.41   \u001b[0m | \u001b[0m-36.65   \u001b[0m | \u001b[0m-4.732   \u001b[0m |\n",
      "| \u001b[0m14       \u001b[0m | \u001b[0m-251.3   \u001b[0m | \u001b[0m-15.59   \u001b[0m | \u001b[0m-5.304   \u001b[0m | \u001b[0m-34.04   \u001b[0m | \u001b[0m-1.359   \u001b[0m |\n",
      "| \u001b[0m15       \u001b[0m | \u001b[0m-1.028   \u001b[0m | \u001b[0m-22.0    \u001b[0m | \u001b[0m-10.93   \u001b[0m | \u001b[0m-33.8    \u001b[0m | \u001b[0m-5.829   \u001b[0m |\n",
      "| \u001b[0m16       \u001b[0m | \u001b[0m-0.6442  \u001b[0m | \u001b[0m-34.3    \u001b[0m | \u001b[0m-26.43   \u001b[0m | \u001b[0m-11.89   \u001b[0m | \u001b[0m-9.229   \u001b[0m |\n",
      "| \u001b[0m17       \u001b[0m | \u001b[0m-61.17   \u001b[0m | \u001b[0m-37.18   \u001b[0m | \u001b[0m-0.7213  \u001b[0m | \u001b[0m-38.34   \u001b[0m | \u001b[0m-9.007   \u001b[0m |\n",
      "| \u001b[0m18       \u001b[0m | \u001b[0m-0.6931  \u001b[0m | \u001b[0m-31.18   \u001b[0m | \u001b[0m-13.6    \u001b[0m | \u001b[0m-0.1541  \u001b[0m | \u001b[0m-0.3022  \u001b[0m |\n",
      "| \u001b[0m19       \u001b[0m | \u001b[0m-96.3    \u001b[0m | \u001b[0m-12.94   \u001b[0m | \u001b[0m-0.06077 \u001b[0m | \u001b[0m-35.15   \u001b[0m | \u001b[0m-5.638   \u001b[0m |\n",
      "| \u001b[0m20       \u001b[0m | \u001b[0m-0.8422  \u001b[0m | \u001b[0m-33.31   \u001b[0m | \u001b[0m-18.11   \u001b[0m | \u001b[0m-9.157   \u001b[0m | \u001b[0m-4.336   \u001b[0m |\n",
      "| \u001b[0m21       \u001b[0m | \u001b[0m-4.288   \u001b[0m | \u001b[0m-27.74   \u001b[0m | \u001b[0m-0.8882  \u001b[0m | \u001b[0m-4.452   \u001b[0m | \u001b[0m-7.633   \u001b[0m |\n",
      "| \u001b[0m22       \u001b[0m | \u001b[0m-0.6931  \u001b[0m | \u001b[0m-12.58   \u001b[0m | \u001b[0m-36.7    \u001b[0m | \u001b[0m-5.273   \u001b[0m | \u001b[0m-6.59    \u001b[0m |\n",
      "| \u001b[0m23       \u001b[0m | \u001b[0m-0.503   \u001b[0m | \u001b[0m-14.74   \u001b[0m | \u001b[0m-25.22   \u001b[0m | \u001b[0m-7.529   \u001b[0m | \u001b[0m-6.144   \u001b[0m |\n",
      "| \u001b[95m24       \u001b[0m | \u001b[95m-0.4288  \u001b[0m | \u001b[95m-21.23   \u001b[0m | \u001b[95m-31.49   \u001b[0m | \u001b[95m-31.5    \u001b[0m | \u001b[95m-6.877   \u001b[0m |\n",
      "| \u001b[0m25       \u001b[0m | \u001b[0m-10.81   \u001b[0m | \u001b[0m-18.41   \u001b[0m | \u001b[0m-6.95    \u001b[0m | \u001b[0m-13.72   \u001b[0m | \u001b[0m-5.69    \u001b[0m |\n",
      "| \u001b[0m26       \u001b[0m | \u001b[0m-1.219   \u001b[0m | \u001b[0m-6.284   \u001b[0m | \u001b[0m-35.38   \u001b[0m | \u001b[0m-19.55   \u001b[0m | \u001b[0m-2.765   \u001b[0m |\n",
      "| \u001b[0m27       \u001b[0m | \u001b[0m-0.5852  \u001b[0m | \u001b[0m-38.55   \u001b[0m | \u001b[0m-12.87   \u001b[0m | \u001b[0m-28.82   \u001b[0m | \u001b[0m-8.103   \u001b[0m |\n",
      "| \u001b[0m28       \u001b[0m | \u001b[0m-0.9601  \u001b[0m | \u001b[0m-24.51   \u001b[0m | \u001b[0m-18.24   \u001b[0m | \u001b[0m-32.42   \u001b[0m | \u001b[0m-4.209   \u001b[0m |\n",
      "| \u001b[0m29       \u001b[0m | \u001b[0m-1.179   \u001b[0m | \u001b[0m-29.01   \u001b[0m | \u001b[0m-14.26   \u001b[0m | \u001b[0m-37.07   \u001b[0m | \u001b[0m-3.494   \u001b[0m |\n",
      "| \u001b[0m30       \u001b[0m | \u001b[0m-0.8885  \u001b[0m | \u001b[0m-3.589   \u001b[0m | \u001b[0m-14.74   \u001b[0m | \u001b[0m-18.65   \u001b[0m | \u001b[0m-1.161   \u001b[0m |\n",
      "| \u001b[0m31       \u001b[0m | \u001b[0m-0.6837  \u001b[0m | \u001b[0m-14.72   \u001b[0m | \u001b[0m-33.4    \u001b[0m | \u001b[0m-29.6    \u001b[0m | \u001b[0m-9.884   \u001b[0m |\n",
      "| \u001b[0m32       \u001b[0m | \u001b[0m-2.3     \u001b[0m | \u001b[0m-0.2037  \u001b[0m | \u001b[0m-7.485   \u001b[0m | \u001b[0m-7.632   \u001b[0m | \u001b[0m-1.068   \u001b[0m |\n",
      "| \u001b[0m33       \u001b[0m | \u001b[0m-0.6931  \u001b[0m | \u001b[0m-30.93   \u001b[0m | \u001b[0m-18.67   \u001b[0m | \u001b[0m-2.163   \u001b[0m | \u001b[0m-7.967   \u001b[0m |\n",
      "| \u001b[0m34       \u001b[0m | \u001b[0m-127.4   \u001b[0m | \u001b[0m-5.548   \u001b[0m | \u001b[0m-4.321   \u001b[0m | \u001b[0m-17.0    \u001b[0m | \u001b[0m-9.934   \u001b[0m |\n",
      "| \u001b[0m35       \u001b[0m | \u001b[0m-1.903   \u001b[0m | \u001b[0m-8.735   \u001b[0m | \u001b[0m-8.361   \u001b[0m | \u001b[0m-13.89   \u001b[0m | \u001b[0m-4.914   \u001b[0m |\n",
      "| \u001b[0m36       \u001b[0m | \u001b[0m-0.7356  \u001b[0m | \u001b[0m-1.607   \u001b[0m | \u001b[0m-19.02   \u001b[0m | \u001b[0m-27.5    \u001b[0m | \u001b[0m-6.995   \u001b[0m |\n",
      "| \u001b[0m37       \u001b[0m | \u001b[0m-0.8891  \u001b[0m | \u001b[0m-3.691   \u001b[0m | \u001b[0m-7.406   \u001b[0m | \u001b[0m-22.67   \u001b[0m | \u001b[0m-3.497   \u001b[0m |\n",
      "| \u001b[0m38       \u001b[0m | \u001b[0m-1.791   \u001b[0m | \u001b[0m-10.84   \u001b[0m | \u001b[0m-21.21   \u001b[0m | \u001b[0m-13.52   \u001b[0m | \u001b[0m-2.857   \u001b[0m |\n",
      "| \u001b[0m39       \u001b[0m | \u001b[0m-0.5704  \u001b[0m | \u001b[0m-19.86   \u001b[0m | \u001b[0m-38.73   \u001b[0m | \u001b[0m-37.56   \u001b[0m | \u001b[0m-8.48    \u001b[0m |\n",
      "| \u001b[0m40       \u001b[0m | \u001b[0m-1.102   \u001b[0m | \u001b[0m-37.66   \u001b[0m | \u001b[0m-10.6    \u001b[0m | \u001b[0m-36.66   \u001b[0m | \u001b[0m-8.16    \u001b[0m |\n",
      "| \u001b[0m41       \u001b[0m | \u001b[0m-0.9511  \u001b[0m | \u001b[0m-38.67   \u001b[0m | \u001b[0m-19.73   \u001b[0m | \u001b[0m-21.96   \u001b[0m | \u001b[0m-3.031   \u001b[0m |\n",
      "| \u001b[0m42       \u001b[0m | \u001b[0m-0.6023  \u001b[0m | \u001b[0m-14.82   \u001b[0m | \u001b[0m-18.42   \u001b[0m | \u001b[0m-6.447   \u001b[0m | \u001b[0m-2.425   \u001b[0m |\n",
      "| \u001b[0m43       \u001b[0m | \u001b[0m-89.56   \u001b[0m | \u001b[0m-33.26   \u001b[0m | \u001b[0m-9.006   \u001b[0m | \u001b[0m-25.96   \u001b[0m | \u001b[0m-1.252   \u001b[0m |\n",
      "| \u001b[0m44       \u001b[0m | \u001b[0m-23.5    \u001b[0m | \u001b[0m-9.092   \u001b[0m | \u001b[0m-6.162   \u001b[0m | \u001b[0m-12.5    \u001b[0m | \u001b[0m-3.962   \u001b[0m |\n",
      "| \u001b[0m45       \u001b[0m | \u001b[0m-0.6931  \u001b[0m | \u001b[0m-19.49   \u001b[0m | \u001b[0m-34.39   \u001b[0m | \u001b[0m-3.042   \u001b[0m | \u001b[0m-1.253   \u001b[0m |\n",
      "| \u001b[0m46       \u001b[0m | \u001b[0m-4.553e+0\u001b[0m | \u001b[0m-31.01   \u001b[0m | \u001b[0m-3.384   \u001b[0m | \u001b[0m-36.65   \u001b[0m | \u001b[0m-7.443   \u001b[0m |\n",
      "| \u001b[0m47       \u001b[0m | \u001b[0m-0.6946  \u001b[0m | \u001b[0m-35.62   \u001b[0m | \u001b[0m-27.04   \u001b[0m | \u001b[0m-7.605   \u001b[0m | \u001b[0m-9.977   \u001b[0m |\n",
      "| \u001b[0m48       \u001b[0m | \u001b[0m-0.6793  \u001b[0m | \u001b[0m-30.7    \u001b[0m | \u001b[0m-38.22   \u001b[0m | \u001b[0m-25.6    \u001b[0m | \u001b[0m-5.262   \u001b[0m |\n",
      "| \u001b[0m49       \u001b[0m | \u001b[0m-1.901   \u001b[0m | \u001b[0m-11.91   \u001b[0m | \u001b[0m-8.632   \u001b[0m | \u001b[0m-18.34   \u001b[0m | \u001b[0m-9.985   \u001b[0m |\n",
      "| \u001b[0m50       \u001b[0m | \u001b[0m-4.751e+0\u001b[0m | \u001b[0m-28.73   \u001b[0m | \u001b[0m-3.236   \u001b[0m | \u001b[0m-21.08   \u001b[0m | \u001b[0m-4.687   \u001b[0m |\n",
      "| \u001b[0m51       \u001b[0m | \u001b[0m-101.1   \u001b[0m | \u001b[0m-40.0    \u001b[0m | \u001b[0m-14.09   \u001b[0m | \u001b[0m-32.1    \u001b[0m | \u001b[0m0.0      \u001b[0m |\n",
      "| \u001b[0m52       \u001b[0m | \u001b[0m-0.543   \u001b[0m | \u001b[0m-13.75   \u001b[0m | \u001b[0m-16.43   \u001b[0m | \u001b[0m-36.66   \u001b[0m | \u001b[0m-8.377   \u001b[0m |\n",
      "| \u001b[0m53       \u001b[0m | \u001b[0m-0.6931  \u001b[0m | \u001b[0m-17.54   \u001b[0m | \u001b[0m-7.022   \u001b[0m | \u001b[0m-1.458   \u001b[0m | \u001b[0m-8.26    \u001b[0m |\n",
      "| \u001b[0m54       \u001b[0m | \u001b[0m-0.619   \u001b[0m | \u001b[0m-20.63   \u001b[0m | \u001b[0m-35.27   \u001b[0m | \u001b[0m-16.19   \u001b[0m | \u001b[0m-5.555   \u001b[0m |\n",
      "| \u001b[0m55       \u001b[0m | \u001b[0m-59.25   \u001b[0m | \u001b[0m-13.73   \u001b[0m | \u001b[0m-25.85   \u001b[0m | \u001b[0m-25.28   \u001b[0m | \u001b[0m-0.9851  \u001b[0m |\n",
      "| \u001b[0m56       \u001b[0m | \u001b[0m-250.2   \u001b[0m | \u001b[0m-27.6    \u001b[0m | \u001b[0m-27.12   \u001b[0m | \u001b[0m-19.2    \u001b[0m | \u001b[0m-0.3217  \u001b[0m |\n",
      "| \u001b[0m57       \u001b[0m | \u001b[0m-0.6938  \u001b[0m | \u001b[0m-28.26   \u001b[0m | \u001b[0m-39.66   \u001b[0m | \u001b[0m-6.847   \u001b[0m | \u001b[0m-10.0    \u001b[0m |\n",
      "| \u001b[0m58       \u001b[0m | \u001b[0m-0.6863  \u001b[0m | \u001b[0m-40.0    \u001b[0m | \u001b[0m-18.88   \u001b[0m | \u001b[0m-40.0    \u001b[0m | \u001b[0m-10.0    \u001b[0m |\n",
      "| \u001b[0m59       \u001b[0m | \u001b[0m-0.7958  \u001b[0m | \u001b[0m-2.256   \u001b[0m | \u001b[0m-6.841   \u001b[0m | \u001b[0m-35.19   \u001b[0m | \u001b[0m-10.0    \u001b[0m |\n",
      "| \u001b[0m60       \u001b[0m | \u001b[0m-1.294e+0\u001b[0m | \u001b[0m-17.44   \u001b[0m | \u001b[0m-40.0    \u001b[0m | \u001b[0m-26.71   \u001b[0m | \u001b[0m0.0      \u001b[0m |\n",
      "| \u001b[0m61       \u001b[0m | \u001b[0m-0.735   \u001b[0m | \u001b[0m-4.676   \u001b[0m | \u001b[0m-27.44   \u001b[0m | \u001b[0m-36.9    \u001b[0m | \u001b[0m-10.0    \u001b[0m |\n",
      "| \u001b[0m62       \u001b[0m | \u001b[0m-0.7034  \u001b[0m | \u001b[0m-6.946   \u001b[0m | \u001b[0m-25.98   \u001b[0m | \u001b[0m-20.91   \u001b[0m | \u001b[0m-9.863   \u001b[0m |\n",
      "| \u001b[0m63       \u001b[0m | \u001b[0m-0.7295  \u001b[0m | \u001b[0m-0.3595  \u001b[0m | \u001b[0m-18.36   \u001b[0m | \u001b[0m-3.707   \u001b[0m | \u001b[0m-7.032   \u001b[0m |\n",
      "| \u001b[0m64       \u001b[0m | \u001b[0m-3.406e+0\u001b[0m | \u001b[0m-16.95   \u001b[0m | \u001b[0m-21.76   \u001b[0m | \u001b[0m-39.77   \u001b[0m | \u001b[0m-0.4073  \u001b[0m |\n",
      "| \u001b[0m65       \u001b[0m | \u001b[0m-0.689   \u001b[0m | \u001b[0m-19.69   \u001b[0m | \u001b[0m-23.19   \u001b[0m | \u001b[0m-22.34   \u001b[0m | \u001b[0m-10.0    \u001b[0m |\n",
      "| \u001b[0m66       \u001b[0m | \u001b[0m-0.9423  \u001b[0m | \u001b[0m-11.41   \u001b[0m | \u001b[0m-11.21   \u001b[0m | \u001b[0m-31.12   \u001b[0m | \u001b[0m-9.996   \u001b[0m |\n",
      "| \u001b[0m67       \u001b[0m | \u001b[0m-0.7248  \u001b[0m | \u001b[0m-5.789   \u001b[0m | \u001b[0m-40.0    \u001b[0m | \u001b[0m-39.3    \u001b[0m | \u001b[0m-10.0    \u001b[0m |\n",
      "| \u001b[0m68       \u001b[0m | \u001b[0m-0.7382  \u001b[0m | \u001b[0m0.0      \u001b[0m | \u001b[0m-34.68   \u001b[0m | \u001b[0m-28.32   \u001b[0m | \u001b[0m-9.772   \u001b[0m |\n",
      "| \u001b[0m69       \u001b[0m | \u001b[0m-3.636   \u001b[0m | \u001b[0m0.0      \u001b[0m | \u001b[0m-26.56   \u001b[0m | \u001b[0m-20.49   \u001b[0m | \u001b[0m0.0      \u001b[0m |\n",
      "| \u001b[0m70       \u001b[0m | \u001b[0m-0.6931  \u001b[0m | \u001b[0m-24.37   \u001b[0m | \u001b[0m-29.16   \u001b[0m | \u001b[0m0.0      \u001b[0m | \u001b[0m-10.0    \u001b[0m |\n",
      "| \u001b[0m71       \u001b[0m | \u001b[0m-122.7   \u001b[0m | \u001b[0m-32.73   \u001b[0m | \u001b[0m-16.23   \u001b[0m | \u001b[0m-26.93   \u001b[0m | \u001b[0m-0.8647  \u001b[0m |\n",
      "| \u001b[0m72       \u001b[0m | \u001b[0m-0.6931  \u001b[0m | \u001b[0m-32.39   \u001b[0m | \u001b[0m-34.07   \u001b[0m | \u001b[0m-3.588   \u001b[0m | \u001b[0m0.0      \u001b[0m |\n",
      "| \u001b[0m73       \u001b[0m | \u001b[0m-0.6672  \u001b[0m | \u001b[0m-20.56   \u001b[0m | \u001b[0m-16.3    \u001b[0m | \u001b[0m-9.4     \u001b[0m | \u001b[0m-10.0    \u001b[0m |\n",
      "| \u001b[0m74       \u001b[0m | \u001b[0m-0.6931  \u001b[0m | \u001b[0m-6.8     \u001b[0m | \u001b[0m-27.45   \u001b[0m | \u001b[0m0.0      \u001b[0m | \u001b[0m0.0      \u001b[0m |\n",
      "| \u001b[0m75       \u001b[0m | \u001b[0m-0.6891  \u001b[0m | \u001b[0m-40.0    \u001b[0m | \u001b[0m-31.64   \u001b[0m | \u001b[0m-24.37   \u001b[0m | \u001b[0m-10.0    \u001b[0m |\n",
      "| \u001b[0m76       \u001b[0m | \u001b[0m-0.6891  \u001b[0m | \u001b[0m-33.57   \u001b[0m | \u001b[0m-34.23   \u001b[0m | \u001b[0m-35.71   \u001b[0m | \u001b[0m-10.0    \u001b[0m |\n",
      "| \u001b[0m77       \u001b[0m | \u001b[0m-0.7936  \u001b[0m | \u001b[0m-1.101   \u001b[0m | \u001b[0m-39.12   \u001b[0m | \u001b[0m-7.716   \u001b[0m | \u001b[0m0.0      \u001b[0m |\n",
      "| \u001b[0m78       \u001b[0m | \u001b[0m-53.98   \u001b[0m | \u001b[0m-40.0    \u001b[0m | \u001b[0m-36.4    \u001b[0m | \u001b[0m-30.87   \u001b[0m | \u001b[0m0.0      \u001b[0m |\n",
      "| \u001b[0m79       \u001b[0m | \u001b[0m-0.6931  \u001b[0m | \u001b[0m-8.386   \u001b[0m | \u001b[0m-10.52   \u001b[0m | \u001b[0m0.0      \u001b[0m | \u001b[0m0.0      \u001b[0m |\n",
      "| \u001b[0m80       \u001b[0m | \u001b[0m-0.6931  \u001b[0m | \u001b[0m-40.0    \u001b[0m | \u001b[0m-40.0    \u001b[0m | \u001b[0m-5.256   \u001b[0m | \u001b[0m-8.273   \u001b[0m |\n",
      "| \u001b[0m81       \u001b[0m | \u001b[0m-0.693   \u001b[0m | \u001b[0m-4.849   \u001b[0m | \u001b[0m-2.476   \u001b[0m | \u001b[0m0.0      \u001b[0m | \u001b[0m-10.0    \u001b[0m |\n",
      "| \u001b[0m82       \u001b[0m | \u001b[0m-1.022e+0\u001b[0m | \u001b[0m-0.5156  \u001b[0m | \u001b[0m0.0      \u001b[0m | \u001b[0m-32.7    \u001b[0m | \u001b[0m0.0      \u001b[0m |\n",
      "| \u001b[0m83       \u001b[0m | \u001b[0m-0.6931  \u001b[0m | \u001b[0m-40.0    \u001b[0m | \u001b[0m-6.866   \u001b[0m | \u001b[0m0.0      \u001b[0m | \u001b[0m-10.0    \u001b[0m |\n",
      "| \u001b[0m84       \u001b[0m | \u001b[0m-0.7097  \u001b[0m | \u001b[0m-40.0    \u001b[0m | \u001b[0m0.0      \u001b[0m | \u001b[0m0.0      \u001b[0m | \u001b[0m0.0      \u001b[0m |\n",
      "| \u001b[0m85       \u001b[0m | \u001b[0m-0.6931  \u001b[0m | \u001b[0m0.0      \u001b[0m | \u001b[0m-40.0    \u001b[0m | \u001b[0m0.0      \u001b[0m | \u001b[0m-10.0    \u001b[0m |\n",
      "| \u001b[0m86       \u001b[0m | \u001b[0m-0.7377  \u001b[0m | \u001b[0m-0.206   \u001b[0m | \u001b[0m-15.79   \u001b[0m | \u001b[0m-40.0    \u001b[0m | \u001b[0m-10.0    \u001b[0m |\n",
      "| \u001b[0m87       \u001b[0m | \u001b[0m-3.636   \u001b[0m | \u001b[0m0.0      \u001b[0m | \u001b[0m-36.92   \u001b[0m | \u001b[0m-40.0    \u001b[0m | \u001b[0m0.0      \u001b[0m |\n",
      "| \u001b[0m88       \u001b[0m | \u001b[0m-0.7383  \u001b[0m | \u001b[0m0.0      \u001b[0m | \u001b[0m-40.0    \u001b[0m | \u001b[0m-15.05   \u001b[0m | \u001b[0m-10.0    \u001b[0m |\n",
      "| \u001b[0m89       \u001b[0m | \u001b[0m-0.7097  \u001b[0m | \u001b[0m0.0      \u001b[0m | \u001b[0m0.0      \u001b[0m | \u001b[0m0.0      \u001b[0m | \u001b[0m0.0      \u001b[0m |\n",
      "| \u001b[0m90       \u001b[0m | \u001b[0m-155.6   \u001b[0m | \u001b[0m-15.9    \u001b[0m | \u001b[0m-1.139   \u001b[0m | \u001b[0m-5.053   \u001b[0m | \u001b[0m-0.2465  \u001b[0m |\n",
      "| \u001b[0m91       \u001b[0m | \u001b[0m-3.636   \u001b[0m | \u001b[0m0.0      \u001b[0m | \u001b[0m-40.0    \u001b[0m | \u001b[0m-28.03   \u001b[0m | \u001b[0m0.0      \u001b[0m |\n",
      "| \u001b[0m92       \u001b[0m | \u001b[0m-0.6931  \u001b[0m | \u001b[0m-40.0    \u001b[0m | \u001b[0m-21.9    \u001b[0m | \u001b[0m0.0      \u001b[0m | \u001b[0m0.0      \u001b[0m |\n",
      "| \u001b[0m93       \u001b[0m | \u001b[0m-13.56   \u001b[0m | \u001b[0m-11.82   \u001b[0m | \u001b[0m-7.125   \u001b[0m | \u001b[0m-40.0    \u001b[0m | \u001b[0m-10.0    \u001b[0m |\n",
      "| \u001b[0m94       \u001b[0m | \u001b[0m-53.98   \u001b[0m | \u001b[0m-40.0    \u001b[0m | \u001b[0m-27.76   \u001b[0m | \u001b[0m-40.0    \u001b[0m | \u001b[0m0.0      \u001b[0m |\n",
      "| \u001b[0m95       \u001b[0m | \u001b[0m-0.6891  \u001b[0m | \u001b[0m-40.0    \u001b[0m | \u001b[0m-40.0    \u001b[0m | \u001b[0m-40.0    \u001b[0m | \u001b[0m-10.0    \u001b[0m |\n",
      "| \u001b[0m96       \u001b[0m | \u001b[0m-3.636   \u001b[0m | \u001b[0m0.0      \u001b[0m | \u001b[0m-27.92   \u001b[0m | \u001b[0m-32.33   \u001b[0m | \u001b[0m0.0      \u001b[0m |\n",
      "| \u001b[0m97       \u001b[0m | \u001b[0m-0.6891  \u001b[0m | \u001b[0m-40.0    \u001b[0m | \u001b[0m-40.0    \u001b[0m | \u001b[0m-17.75   \u001b[0m | \u001b[0m-10.0    \u001b[0m |\n",
      "| \u001b[0m98       \u001b[0m | \u001b[0m-102.4   \u001b[0m | \u001b[0m-40.0    \u001b[0m | \u001b[0m0.0      \u001b[0m | \u001b[0m-40.0    \u001b[0m | \u001b[0m0.0      \u001b[0m |\n",
      "| \u001b[0m99       \u001b[0m | \u001b[0m-53.98   \u001b[0m | \u001b[0m-31.43   \u001b[0m | \u001b[0m-40.0    \u001b[0m | \u001b[0m-40.0    \u001b[0m | \u001b[0m0.0      \u001b[0m |\n",
      "| \u001b[0m100      \u001b[0m | \u001b[0m-0.6931  \u001b[0m | \u001b[0m-10.99   \u001b[0m | \u001b[0m-18.65   \u001b[0m | \u001b[0m0.0      \u001b[0m | \u001b[0m-10.0    \u001b[0m |\n",
      "=========================================================================\n",
      "CPU times: user 38min 14s, sys: 9min 5s, total: 47min 19s\n",
      "Wall time: 11min 42s\n"
     ]
    }
   ],
   "source": [
    "%%time\n",
    "lofi_1_optimizer.maximize(\n",
    "    init_points=50,\n",
    "    n_iter=50,\n",
    ")"
   ]
  },
  {
   "cell_type": "markdown",
   "metadata": {
    "id": "xzhDvkJtB0lS"
   },
   "source": [
    "## 5.2 Test Set Accuracy"
   ]
  },
  {
   "cell_type": "code",
   "execution_count": 25,
   "metadata": {
    "id": "Z1KOGHuKpKHX"
   },
   "outputs": [],
   "source": [
    "lofi_1_hparams = {\n",
    "    'initial_covariance': 0.0010313810518482653,\n",
    "    'dynamics_weights': 0.9999999999999791,\n",
    "    'dynamics_covariance': 2.1137513659049582e-14,\n",
    "    'dynamics_covariance_inflation_factor': 6.010309295351233e-10\n",
    "}"
   ]
  },
  {
   "cell_type": "code",
   "execution_count": 143,
   "metadata": {
    "id": "W0YMG2_yB0lS"
   },
   "outputs": [],
   "source": [
    "# lofi_1_hparams = hpt.get_best_params(lofi_1_optimizer)\n",
    "lofi_1_estimator = hpt.build_estimator(flat_params, lofi_1_hparams, emission_mean_function,\n",
    "                                       emission_cov_function, method=\"lofi\", \n",
    "                                       lofi_params=lofi_1_params)"
   ]
  },
  {
   "cell_type": "code",
   "execution_count": 144,
   "metadata": {
    "colab": {
     "base_uri": "https://localhost:8080/"
    },
    "id": "hDQ_SJ-5C59r",
    "outputId": "30e5f6f9-da9a-4c7a-edb4-ce361ab20eb3"
   },
   "outputs": [
    {
     "data": {
      "text/plain": [
       "{'initial_covariance': 0.0010313810518482653,\n",
       " 'dynamics_weights': 0.9999999999999791,\n",
       " 'dynamics_covariance': 2.1137513659049582e-14,\n",
       " 'dynamics_covariance_inflation_factor': 6.010309295351233e-10}"
      ]
     },
     "execution_count": 144,
     "metadata": {},
     "output_type": "execute_result"
    }
   ],
   "source": [
    "lofi_1_hparams"
   ]
  },
  {
   "cell_type": "code",
   "execution_count": 145,
   "metadata": {
    "colab": {
     "base_uri": "https://localhost:8080/"
    },
    "id": "wZ83Pl6dB0lS",
    "outputId": "3208a201-518e-4703-a842-a737fe78f9dc"
   },
   "outputs": [
    {
     "name": "stderr",
     "output_type": "stream",
     "text": [
      "100%|██████████| 10/10 [06:41<00:00, 40.12s/it]\n"
     ]
    }
   ],
   "source": [
    "lofi_1_res = evaluate_model(lofi_1_estimator)"
   ]
  },
  {
   "cell_type": "markdown",
   "metadata": {},
   "source": [
    "# 6. LoFi (Rank 5)"
   ]
  },
  {
   "cell_type": "markdown",
   "metadata": {},
   "source": [
    "## 6.1 Hyperparam Tuning"
   ]
  },
  {
   "cell_type": "code",
   "execution_count": 146,
   "metadata": {},
   "outputs": [],
   "source": [
    "lofi_5_params = LoFiParams(\n",
    "    memory_size=5,\n",
    "    diagonal_covariance=False,\n",
    ")"
   ]
  },
  {
   "cell_type": "code",
   "execution_count": 147,
   "metadata": {},
   "outputs": [],
   "source": [
    "lofi_5_optimizer, apply_fn, n_feats = hpt.create_optimizer(\n",
    "    model, pbounds, 314, train, val, emission_mean_function, emission_cov_function,\n",
    "    ll_callback, 'lofi', params_lofi=lofi_5_params\n",
    ")"
   ]
  },
  {
   "cell_type": "code",
   "execution_count": 148,
   "metadata": {},
   "outputs": [
    {
     "name": "stdout",
     "output_type": "stream",
     "text": [
      "|   iter    |  target   | log_alpha | log_dy... | log_dy... | log_in... |\n",
      "-------------------------------------------------------------------------\n",
      "| \u001b[0m1        \u001b[0m | \u001b[0m-0.9     \u001b[0m | \u001b[0m-3.325   \u001b[0m | \u001b[0m-16.46   \u001b[0m | \u001b[0m-29.4    \u001b[0m | \u001b[0m-2.168   \u001b[0m |\n",
      "| \u001b[0m2        \u001b[0m | \u001b[0m-0.9008  \u001b[0m | \u001b[0m-3.28    \u001b[0m | \u001b[0m-6.906   \u001b[0m | \u001b[0m-10.88   \u001b[0m | \u001b[0m-7.395   \u001b[0m |\n",
      "| \u001b[95m3        \u001b[0m | \u001b[95m-0.7305  \u001b[0m | \u001b[95m-3.529   \u001b[0m | \u001b[95m-29.57   \u001b[0m | \u001b[95m-9.345   \u001b[0m | \u001b[95m-7.385   \u001b[0m |\n",
      "| \u001b[95m4        \u001b[0m | \u001b[95m-0.6922  \u001b[0m | \u001b[95m-35.11   \u001b[0m | \u001b[95m-24.56   \u001b[0m | \u001b[95m-6.397   \u001b[0m | \u001b[95m-7.218   \u001b[0m |\n",
      "| \u001b[0m5        \u001b[0m | \u001b[0m-0.8191  \u001b[0m | \u001b[0m-37.2    \u001b[0m | \u001b[0m-14.68   \u001b[0m | \u001b[0m-16.61   \u001b[0m | \u001b[0m-4.188   \u001b[0m |\n",
      "| \u001b[95m6        \u001b[0m | \u001b[95m-0.4343  \u001b[0m | \u001b[95m-12.91   \u001b[0m | \u001b[95m-12.51   \u001b[0m | \u001b[95m-22.44   \u001b[0m | \u001b[95m-6.791   \u001b[0m |\n",
      "| \u001b[0m7        \u001b[0m | \u001b[0m-0.6924  \u001b[0m | \u001b[0m-17.18   \u001b[0m | \u001b[0m-20.81   \u001b[0m | \u001b[0m-5.557   \u001b[0m | \u001b[0m-1.652   \u001b[0m |\n",
      "| \u001b[0m8        \u001b[0m | \u001b[0m-7.77    \u001b[0m | \u001b[0m-35.77   \u001b[0m | \u001b[0m-37.58   \u001b[0m | \u001b[0m-16.12   \u001b[0m | \u001b[0m-2.076   \u001b[0m |\n",
      "| \u001b[95m9        \u001b[0m | \u001b[95m-0.4301  \u001b[0m | \u001b[95m-30.95   \u001b[0m | \u001b[95m-18.59   \u001b[0m | \u001b[95m-34.56   \u001b[0m | \u001b[95m-6.278   \u001b[0m |\n",
      "| \u001b[0m10       \u001b[0m | \u001b[0m-0.4427  \u001b[0m | \u001b[0m-33.92   \u001b[0m | \u001b[0m-22.81   \u001b[0m | \u001b[0m-8.292   \u001b[0m | \u001b[0m-5.93    \u001b[0m |\n",
      "| \u001b[0m11       \u001b[0m | \u001b[0m-431.4   \u001b[0m | \u001b[0m-32.89   \u001b[0m | \u001b[0m-3.63    \u001b[0m | \u001b[0m-18.19   \u001b[0m | \u001b[0m-8.995   \u001b[0m |\n",
      "| \u001b[0m12       \u001b[0m | \u001b[0m-2.144e+0\u001b[0m | \u001b[0m-11.25   \u001b[0m | \u001b[0m-0.8628  \u001b[0m | \u001b[0m-27.61   \u001b[0m | \u001b[0m-7.399   \u001b[0m |\n",
      "| \u001b[0m13       \u001b[0m | \u001b[0m-0.6721  \u001b[0m | \u001b[0m-13.48   \u001b[0m | \u001b[0m-34.41   \u001b[0m | \u001b[0m-36.65   \u001b[0m | \u001b[0m-4.732   \u001b[0m |\n",
      "| \u001b[0m14       \u001b[0m | \u001b[0m-28.84   \u001b[0m | \u001b[0m-15.59   \u001b[0m | \u001b[0m-5.304   \u001b[0m | \u001b[0m-34.04   \u001b[0m | \u001b[0m-1.359   \u001b[0m |\n",
      "| \u001b[0m15       \u001b[0m | \u001b[0m-0.7082  \u001b[0m | \u001b[0m-22.0    \u001b[0m | \u001b[0m-10.93   \u001b[0m | \u001b[0m-33.8    \u001b[0m | \u001b[0m-5.829   \u001b[0m |\n",
      "| \u001b[0m16       \u001b[0m | \u001b[0m-0.646   \u001b[0m | \u001b[0m-34.3    \u001b[0m | \u001b[0m-26.43   \u001b[0m | \u001b[0m-11.89   \u001b[0m | \u001b[0m-9.229   \u001b[0m |\n",
      "| \u001b[0m17       \u001b[0m | \u001b[0m-7.5e+03 \u001b[0m | \u001b[0m-37.18   \u001b[0m | \u001b[0m-0.7213  \u001b[0m | \u001b[0m-38.34   \u001b[0m | \u001b[0m-9.007   \u001b[0m |\n",
      "| \u001b[0m18       \u001b[0m | \u001b[0m-0.6931  \u001b[0m | \u001b[0m-31.18   \u001b[0m | \u001b[0m-13.6    \u001b[0m | \u001b[0m-0.1541  \u001b[0m | \u001b[0m-0.3022  \u001b[0m |\n",
      "| \u001b[0m19       \u001b[0m | \u001b[0m-7.762e+0\u001b[0m | \u001b[0m-12.94   \u001b[0m | \u001b[0m-0.06077 \u001b[0m | \u001b[0m-35.15   \u001b[0m | \u001b[0m-5.638   \u001b[0m |\n",
      "| \u001b[0m20       \u001b[0m | \u001b[0m-0.6928  \u001b[0m | \u001b[0m-33.31   \u001b[0m | \u001b[0m-18.11   \u001b[0m | \u001b[0m-9.157   \u001b[0m | \u001b[0m-4.336   \u001b[0m |\n",
      "| \u001b[0m21       \u001b[0m | \u001b[0m-22.52   \u001b[0m | \u001b[0m-27.74   \u001b[0m | \u001b[0m-0.8882  \u001b[0m | \u001b[0m-4.452   \u001b[0m | \u001b[0m-7.633   \u001b[0m |\n",
      "| \u001b[0m22       \u001b[0m | \u001b[0m-0.6931  \u001b[0m | \u001b[0m-12.58   \u001b[0m | \u001b[0m-36.7    \u001b[0m | \u001b[0m-5.273   \u001b[0m | \u001b[0m-6.59    \u001b[0m |\n",
      "| \u001b[0m23       \u001b[0m | \u001b[0m-0.5217  \u001b[0m | \u001b[0m-14.74   \u001b[0m | \u001b[0m-25.22   \u001b[0m | \u001b[0m-7.529   \u001b[0m | \u001b[0m-6.144   \u001b[0m |\n",
      "| \u001b[95m24       \u001b[0m | \u001b[95m-0.4092  \u001b[0m | \u001b[95m-21.23   \u001b[0m | \u001b[95m-31.49   \u001b[0m | \u001b[95m-31.5    \u001b[0m | \u001b[95m-6.877   \u001b[0m |\n",
      "| \u001b[0m25       \u001b[0m | \u001b[0m-123.2   \u001b[0m | \u001b[0m-18.41   \u001b[0m | \u001b[0m-6.95    \u001b[0m | \u001b[0m-13.72   \u001b[0m | \u001b[0m-5.69    \u001b[0m |\n",
      "| \u001b[0m26       \u001b[0m | \u001b[0m-0.9812  \u001b[0m | \u001b[0m-6.284   \u001b[0m | \u001b[0m-35.38   \u001b[0m | \u001b[0m-19.55   \u001b[0m | \u001b[0m-2.765   \u001b[0m |\n",
      "| \u001b[0m27       \u001b[0m | \u001b[0m-0.4407  \u001b[0m | \u001b[0m-38.55   \u001b[0m | \u001b[0m-12.87   \u001b[0m | \u001b[0m-28.82   \u001b[0m | \u001b[0m-8.103   \u001b[0m |\n",
      "| \u001b[0m28       \u001b[0m | \u001b[0m-0.7987  \u001b[0m | \u001b[0m-24.51   \u001b[0m | \u001b[0m-18.24   \u001b[0m | \u001b[0m-32.42   \u001b[0m | \u001b[0m-4.209   \u001b[0m |\n",
      "| \u001b[0m29       \u001b[0m | \u001b[0m-1.068   \u001b[0m | \u001b[0m-29.01   \u001b[0m | \u001b[0m-14.26   \u001b[0m | \u001b[0m-37.07   \u001b[0m | \u001b[0m-3.494   \u001b[0m |\n",
      "| \u001b[0m30       \u001b[0m | \u001b[0m-0.9223  \u001b[0m | \u001b[0m-3.589   \u001b[0m | \u001b[0m-14.74   \u001b[0m | \u001b[0m-18.65   \u001b[0m | \u001b[0m-1.161   \u001b[0m |\n",
      "| \u001b[0m31       \u001b[0m | \u001b[0m-0.6844  \u001b[0m | \u001b[0m-14.72   \u001b[0m | \u001b[0m-33.4    \u001b[0m | \u001b[0m-29.6    \u001b[0m | \u001b[0m-9.884   \u001b[0m |\n",
      "| \u001b[0m32       \u001b[0m | \u001b[0m-6.459   \u001b[0m | \u001b[0m-0.2037  \u001b[0m | \u001b[0m-7.485   \u001b[0m | \u001b[0m-7.632   \u001b[0m | \u001b[0m-1.068   \u001b[0m |\n",
      "| \u001b[0m33       \u001b[0m | \u001b[0m-0.6931  \u001b[0m | \u001b[0m-30.93   \u001b[0m | \u001b[0m-18.67   \u001b[0m | \u001b[0m-2.163   \u001b[0m | \u001b[0m-7.967   \u001b[0m |\n",
      "| \u001b[0m34       \u001b[0m | \u001b[0m-89.49   \u001b[0m | \u001b[0m-5.548   \u001b[0m | \u001b[0m-4.321   \u001b[0m | \u001b[0m-17.0    \u001b[0m | \u001b[0m-9.934   \u001b[0m |\n",
      "| \u001b[0m35       \u001b[0m | \u001b[0m-1.209   \u001b[0m | \u001b[0m-8.735   \u001b[0m | \u001b[0m-8.361   \u001b[0m | \u001b[0m-13.89   \u001b[0m | \u001b[0m-4.914   \u001b[0m |\n",
      "| \u001b[0m36       \u001b[0m | \u001b[0m-0.7356  \u001b[0m | \u001b[0m-1.607   \u001b[0m | \u001b[0m-19.02   \u001b[0m | \u001b[0m-27.5    \u001b[0m | \u001b[0m-6.995   \u001b[0m |\n",
      "| \u001b[0m37       \u001b[0m | \u001b[0m-0.9352  \u001b[0m | \u001b[0m-3.691   \u001b[0m | \u001b[0m-7.406   \u001b[0m | \u001b[0m-22.67   \u001b[0m | \u001b[0m-3.497   \u001b[0m |\n",
      "| \u001b[0m38       \u001b[0m | \u001b[0m-1.468   \u001b[0m | \u001b[0m-10.84   \u001b[0m | \u001b[0m-21.21   \u001b[0m | \u001b[0m-13.52   \u001b[0m | \u001b[0m-2.857   \u001b[0m |\n",
      "| \u001b[0m39       \u001b[0m | \u001b[0m-0.5751  \u001b[0m | \u001b[0m-19.86   \u001b[0m | \u001b[0m-38.73   \u001b[0m | \u001b[0m-37.56   \u001b[0m | \u001b[0m-8.48    \u001b[0m |\n",
      "| \u001b[0m40       \u001b[0m | \u001b[0m-0.7934  \u001b[0m | \u001b[0m-37.66   \u001b[0m | \u001b[0m-10.6    \u001b[0m | \u001b[0m-36.66   \u001b[0m | \u001b[0m-8.16    \u001b[0m |\n",
      "| \u001b[0m41       \u001b[0m | \u001b[0m-1.323   \u001b[0m | \u001b[0m-38.67   \u001b[0m | \u001b[0m-19.73   \u001b[0m | \u001b[0m-21.96   \u001b[0m | \u001b[0m-3.031   \u001b[0m |\n",
      "| \u001b[0m42       \u001b[0m | \u001b[0m-0.6351  \u001b[0m | \u001b[0m-14.82   \u001b[0m | \u001b[0m-18.42   \u001b[0m | \u001b[0m-6.447   \u001b[0m | \u001b[0m-2.425   \u001b[0m |\n",
      "| \u001b[0m43       \u001b[0m | \u001b[0m-51.93   \u001b[0m | \u001b[0m-33.26   \u001b[0m | \u001b[0m-9.006   \u001b[0m | \u001b[0m-25.96   \u001b[0m | \u001b[0m-1.252   \u001b[0m |\n",
      "| \u001b[0m44       \u001b[0m | \u001b[0m-21.49   \u001b[0m | \u001b[0m-9.092   \u001b[0m | \u001b[0m-6.162   \u001b[0m | \u001b[0m-12.5    \u001b[0m | \u001b[0m-3.962   \u001b[0m |\n",
      "| \u001b[0m45       \u001b[0m | \u001b[0m-0.6931  \u001b[0m | \u001b[0m-19.49   \u001b[0m | \u001b[0m-34.39   \u001b[0m | \u001b[0m-3.042   \u001b[0m | \u001b[0m-1.253   \u001b[0m |\n",
      "| \u001b[0m46       \u001b[0m | \u001b[0m-627.0   \u001b[0m | \u001b[0m-31.01   \u001b[0m | \u001b[0m-3.384   \u001b[0m | \u001b[0m-36.65   \u001b[0m | \u001b[0m-7.443   \u001b[0m |\n",
      "| \u001b[0m47       \u001b[0m | \u001b[0m-0.6947  \u001b[0m | \u001b[0m-35.62   \u001b[0m | \u001b[0m-27.04   \u001b[0m | \u001b[0m-7.605   \u001b[0m | \u001b[0m-9.977   \u001b[0m |\n",
      "| \u001b[0m48       \u001b[0m | \u001b[0m-0.5634  \u001b[0m | \u001b[0m-30.7    \u001b[0m | \u001b[0m-38.22   \u001b[0m | \u001b[0m-25.6    \u001b[0m | \u001b[0m-5.262   \u001b[0m |\n",
      "| \u001b[0m49       \u001b[0m | \u001b[0m-1.575   \u001b[0m | \u001b[0m-11.91   \u001b[0m | \u001b[0m-8.632   \u001b[0m | \u001b[0m-18.34   \u001b[0m | \u001b[0m-9.985   \u001b[0m |\n",
      "| \u001b[0m50       \u001b[0m | \u001b[0m-820.9   \u001b[0m | \u001b[0m-28.73   \u001b[0m | \u001b[0m-3.236   \u001b[0m | \u001b[0m-21.08   \u001b[0m | \u001b[0m-4.687   \u001b[0m |\n",
      "| \u001b[0m51       \u001b[0m | \u001b[0m-387.8   \u001b[0m | \u001b[0m-16.06   \u001b[0m | \u001b[0m-11.39   \u001b[0m | \u001b[0m-31.96   \u001b[0m | \u001b[0m0.0      \u001b[0m |\n",
      "| \u001b[0m52       \u001b[0m | \u001b[0m-32.5    \u001b[0m | \u001b[0m-25.11   \u001b[0m | \u001b[0m-6.337   \u001b[0m | \u001b[0m-33.37   \u001b[0m | \u001b[0m-0.4526  \u001b[0m |\n",
      "| \u001b[0m53       \u001b[0m | \u001b[0m-0.7037  \u001b[0m | \u001b[0m-29.15   \u001b[0m | \u001b[0m-11.04   \u001b[0m | \u001b[0m-32.13   \u001b[0m | \u001b[0m-9.482   \u001b[0m |\n",
      "| \u001b[0m54       \u001b[0m | \u001b[0m-1.272   \u001b[0m | \u001b[0m-39.68   \u001b[0m | \u001b[0m-17.91   \u001b[0m | \u001b[0m-36.13   \u001b[0m | \u001b[0m-2.188   \u001b[0m |\n",
      "| \u001b[0m55       \u001b[0m | \u001b[0m-10.22   \u001b[0m | \u001b[0m-11.35   \u001b[0m | \u001b[0m-31.69   \u001b[0m | \u001b[0m-11.27   \u001b[0m | \u001b[0m0.0      \u001b[0m |\n",
      "| \u001b[0m56       \u001b[0m | \u001b[0m-0.6458  \u001b[0m | \u001b[0m-9.546   \u001b[0m | \u001b[0m-25.34   \u001b[0m | \u001b[0m-23.5    \u001b[0m | \u001b[0m-4.842   \u001b[0m |\n",
      "| \u001b[0m57       \u001b[0m | \u001b[0m-0.6638  \u001b[0m | \u001b[0m-12.27   \u001b[0m | \u001b[0m-31.18   \u001b[0m | \u001b[0m-15.87   \u001b[0m | \u001b[0m-9.506   \u001b[0m |\n",
      "| \u001b[0m58       \u001b[0m | \u001b[0m-0.7218  \u001b[0m | \u001b[0m-5.836   \u001b[0m | \u001b[0m-18.28   \u001b[0m | \u001b[0m-17.82   \u001b[0m | \u001b[0m-10.0    \u001b[0m |\n",
      "| \u001b[0m59       \u001b[0m | \u001b[0m-0.7979  \u001b[0m | \u001b[0m-22.53   \u001b[0m | \u001b[0m-30.66   \u001b[0m | \u001b[0m-12.98   \u001b[0m | \u001b[0m-4.267   \u001b[0m |\n",
      "| \u001b[0m60       \u001b[0m | \u001b[0m-2.105   \u001b[0m | \u001b[0m-17.09   \u001b[0m | \u001b[0m-33.27   \u001b[0m | \u001b[0m-22.11   \u001b[0m | \u001b[0m-2.108   \u001b[0m |\n",
      "| \u001b[0m61       \u001b[0m | \u001b[0m-0.4222  \u001b[0m | \u001b[0m-19.06   \u001b[0m | \u001b[0m-22.67   \u001b[0m | \u001b[0m-19.18   \u001b[0m | \u001b[0m-7.135   \u001b[0m |\n",
      "| \u001b[0m62       \u001b[0m | \u001b[0m-0.7322  \u001b[0m | \u001b[0m-28.71   \u001b[0m | \u001b[0m-27.53   \u001b[0m | \u001b[0m-22.27   \u001b[0m | \u001b[0m-4.348   \u001b[0m |\n",
      "| \u001b[0m63       \u001b[0m | \u001b[0m-0.457   \u001b[0m | \u001b[0m-29.32   \u001b[0m | \u001b[0m-17.72   \u001b[0m | \u001b[0m-22.71   \u001b[0m | \u001b[0m-7.512   \u001b[0m |\n",
      "| \u001b[0m64       \u001b[0m | \u001b[0m-0.5494  \u001b[0m | \u001b[0m-23.15   \u001b[0m | \u001b[0m-19.99   \u001b[0m | \u001b[0m-10.11   \u001b[0m | \u001b[0m-8.113   \u001b[0m |\n",
      "| \u001b[0m65       \u001b[0m | \u001b[0m-10.85   \u001b[0m | \u001b[0m-25.75   \u001b[0m | \u001b[0m-21.95   \u001b[0m | \u001b[0m-15.66   \u001b[0m | \u001b[0m-0.01644 \u001b[0m |\n",
      "| \u001b[0m66       \u001b[0m | \u001b[0m-0.6931  \u001b[0m | \u001b[0m-25.76   \u001b[0m | \u001b[0m-27.23   \u001b[0m | \u001b[0m-2.584   \u001b[0m | \u001b[0m-4.196   \u001b[0m |\n",
      "| \u001b[0m67       \u001b[0m | \u001b[0m-0.9518  \u001b[0m | \u001b[0m-1.263   \u001b[0m | \u001b[0m-26.33   \u001b[0m | \u001b[0m-16.75   \u001b[0m | \u001b[0m-1.054   \u001b[0m |\n",
      "| \u001b[0m68       \u001b[0m | \u001b[0m-0.7382  \u001b[0m | \u001b[0m-1.725   \u001b[0m | \u001b[0m-28.97   \u001b[0m | \u001b[0m-20.44   \u001b[0m | \u001b[0m-10.0    \u001b[0m |\n",
      "| \u001b[0m69       \u001b[0m | \u001b[0m-393.7   \u001b[0m | \u001b[0m-19.62   \u001b[0m | \u001b[0m-9.129   \u001b[0m | \u001b[0m-40.0    \u001b[0m | \u001b[0m0.0      \u001b[0m |\n",
      "| \u001b[0m70       \u001b[0m | \u001b[0m-0.6525  \u001b[0m | \u001b[0m-22.97   \u001b[0m | \u001b[0m-35.12   \u001b[0m | \u001b[0m-21.42   \u001b[0m | \u001b[0m-9.337   \u001b[0m |\n",
      "| \u001b[0m71       \u001b[0m | \u001b[0m-0.7336  \u001b[0m | \u001b[0m-2.001   \u001b[0m | \u001b[0m-18.17   \u001b[0m | \u001b[0m-8.507   \u001b[0m | \u001b[0m-4.973   \u001b[0m |\n",
      "| \u001b[0m72       \u001b[0m | \u001b[0m-0.6867  \u001b[0m | \u001b[0m-39.85   \u001b[0m | \u001b[0m-19.2    \u001b[0m | \u001b[0m-37.41   \u001b[0m | \u001b[0m-9.978   \u001b[0m |\n",
      "| \u001b[0m73       \u001b[0m | \u001b[0m-0.6931  \u001b[0m | \u001b[0m-22.87   \u001b[0m | \u001b[0m-11.37   \u001b[0m | \u001b[0m-3.38    \u001b[0m | \u001b[0m-5.623   \u001b[0m |\n",
      "| \u001b[0m74       \u001b[0m | \u001b[0m-1.171e+0\u001b[0m | \u001b[0m-31.52   \u001b[0m | \u001b[0m-31.15   \u001b[0m | \u001b[0m-9.479   \u001b[0m | \u001b[0m0.0      \u001b[0m |\n",
      "| \u001b[0m75       \u001b[0m | \u001b[0m-0.6896  \u001b[0m | \u001b[0m-35.88   \u001b[0m | \u001b[0m-24.82   \u001b[0m | \u001b[0m-27.63   \u001b[0m | \u001b[0m-10.0    \u001b[0m |\n",
      "| \u001b[0m76       \u001b[0m | \u001b[0m-12.35   \u001b[0m | \u001b[0m-32.08   \u001b[0m | \u001b[0m-19.16   \u001b[0m | \u001b[0m-27.85   \u001b[0m | \u001b[0m0.0      \u001b[0m |\n",
      "| \u001b[0m77       \u001b[0m | \u001b[0m-0.6931  \u001b[0m | \u001b[0m-6.925   \u001b[0m | \u001b[0m-25.42   \u001b[0m | \u001b[0m-3.532   \u001b[0m | \u001b[0m0.0      \u001b[0m |\n",
      "| \u001b[0m78       \u001b[0m | \u001b[0m-0.6597  \u001b[0m | \u001b[0m-16.7    \u001b[0m | \u001b[0m-39.89   \u001b[0m | \u001b[0m-14.28   \u001b[0m | \u001b[0m-4.811   \u001b[0m |\n",
      "| \u001b[0m79       \u001b[0m | \u001b[0m-1.015   \u001b[0m | \u001b[0m-20.16   \u001b[0m | \u001b[0m-40.0    \u001b[0m | \u001b[0m-29.05   \u001b[0m | \u001b[0m-2.564   \u001b[0m |\n",
      "| \u001b[0m80       \u001b[0m | \u001b[0m-1.082   \u001b[0m | \u001b[0m-31.51   \u001b[0m | \u001b[0m-29.61   \u001b[0m | \u001b[0m-32.43   \u001b[0m | \u001b[0m-2.423   \u001b[0m |\n",
      "| \u001b[95m81       \u001b[0m | \u001b[95m-0.4075  \u001b[0m | \u001b[95m-39.11   \u001b[0m | \u001b[95m-31.51   \u001b[0m | \u001b[95m-21.73   \u001b[0m | \u001b[95m-6.775   \u001b[0m |\n",
      "| \u001b[0m82       \u001b[0m | \u001b[0m-0.678   \u001b[0m | \u001b[0m-10.61   \u001b[0m | \u001b[0m-13.42   \u001b[0m | \u001b[0m-6.968   \u001b[0m | \u001b[0m-10.0    \u001b[0m |\n",
      "| \u001b[0m83       \u001b[0m | \u001b[0m-0.7351  \u001b[0m | \u001b[0m-4.201   \u001b[0m | \u001b[0m-31.7    \u001b[0m | \u001b[0m-29.88   \u001b[0m | \u001b[0m-4.76    \u001b[0m |\n",
      "| \u001b[0m84       \u001b[0m | \u001b[0m-1.076   \u001b[0m | \u001b[0m-9.955   \u001b[0m | \u001b[0m-40.0    \u001b[0m | \u001b[0m-28.17   \u001b[0m | \u001b[0m-3.475   \u001b[0m |\n",
      "| \u001b[0m85       \u001b[0m | \u001b[0m-0.6932  \u001b[0m | \u001b[0m-20.93   \u001b[0m | \u001b[0m-32.94   \u001b[0m | \u001b[0m-6.0     \u001b[0m | \u001b[0m-10.0    \u001b[0m |\n",
      "| \u001b[0m86       \u001b[0m | \u001b[0m-0.6931  \u001b[0m | \u001b[0m-7.167   \u001b[0m | \u001b[0m-22.48   \u001b[0m | \u001b[0m-1.323   \u001b[0m | \u001b[0m-10.0    \u001b[0m |\n",
      "| \u001b[0m87       \u001b[0m | \u001b[0m-0.6931  \u001b[0m | \u001b[0m-20.47   \u001b[0m | \u001b[0m-22.67   \u001b[0m | \u001b[0m-0.7885  \u001b[0m | \u001b[0m-9.44    \u001b[0m |\n",
      "| \u001b[0m88       \u001b[0m | \u001b[0m-0.6931  \u001b[0m | \u001b[0m-6.578   \u001b[0m | \u001b[0m-13.66   \u001b[0m | \u001b[0m-0.3294  \u001b[0m | \u001b[0m-2.38    \u001b[0m |\n",
      "| \u001b[0m89       \u001b[0m | \u001b[0m-0.6063  \u001b[0m | \u001b[0m-10.33   \u001b[0m | \u001b[0m-24.16   \u001b[0m | \u001b[0m-33.51   \u001b[0m | \u001b[0m-8.764   \u001b[0m |\n",
      "| \u001b[0m90       \u001b[0m | \u001b[0m-336.8   \u001b[0m | \u001b[0m-12.87   \u001b[0m | \u001b[0m-27.03   \u001b[0m | \u001b[0m-31.69   \u001b[0m | \u001b[0m-0.1493  \u001b[0m |\n",
      "| \u001b[0m91       \u001b[0m | \u001b[0m-0.6931  \u001b[0m | \u001b[0m-13.49   \u001b[0m | \u001b[0m-5.683   \u001b[0m | \u001b[0m-1.833   \u001b[0m | \u001b[0m-4.856   \u001b[0m |\n",
      "| \u001b[0m92       \u001b[0m | \u001b[0m-0.7175  \u001b[0m | \u001b[0m-6.266   \u001b[0m | \u001b[0m-39.77   \u001b[0m | \u001b[0m-13.19   \u001b[0m | \u001b[0m-10.0    \u001b[0m |\n",
      "| \u001b[0m93       \u001b[0m | \u001b[0m-0.9043  \u001b[0m | \u001b[0m-3.076   \u001b[0m | \u001b[0m-38.01   \u001b[0m | \u001b[0m-8.919   \u001b[0m | \u001b[0m-0.6883  \u001b[0m |\n",
      "| \u001b[0m94       \u001b[0m | \u001b[0m-12.31   \u001b[0m | \u001b[0m-40.0    \u001b[0m | \u001b[0m-27.25   \u001b[0m | \u001b[0m-28.69   \u001b[0m | \u001b[0m0.0      \u001b[0m |\n",
      "| \u001b[0m95       \u001b[0m | \u001b[0m-0.7381  \u001b[0m | \u001b[0m-2.525   \u001b[0m | \u001b[0m-39.44   \u001b[0m | \u001b[0m-24.3    \u001b[0m | \u001b[0m-10.0    \u001b[0m |\n",
      "| \u001b[0m96       \u001b[0m | \u001b[0m-0.6896  \u001b[0m | \u001b[0m-23.75   \u001b[0m | \u001b[0m-23.99   \u001b[0m | \u001b[0m-27.48   \u001b[0m | \u001b[0m-10.0    \u001b[0m |\n",
      "| \u001b[0m97       \u001b[0m | \u001b[0m-0.7021  \u001b[0m | \u001b[0m-0.3372  \u001b[0m | \u001b[0m-11.5    \u001b[0m | \u001b[0m-1.613   \u001b[0m | \u001b[0m-10.0    \u001b[0m |\n",
      "| \u001b[0m98       \u001b[0m | \u001b[0m-0.6931  \u001b[0m | \u001b[0m-3.695   \u001b[0m | \u001b[0m-2.379   \u001b[0m | \u001b[0m-0.3633  \u001b[0m | \u001b[0m-5.93    \u001b[0m |\n",
      "| \u001b[0m99       \u001b[0m | \u001b[0m-0.5604  \u001b[0m | \u001b[0m-38.83   \u001b[0m | \u001b[0m-34.54   \u001b[0m | \u001b[0m-32.01   \u001b[0m | \u001b[0m-8.349   \u001b[0m |\n",
      "| \u001b[0m100      \u001b[0m | \u001b[0m-12.31   \u001b[0m | \u001b[0m-39.81   \u001b[0m | \u001b[0m-38.3    \u001b[0m | \u001b[0m-25.88   \u001b[0m | \u001b[0m0.0      \u001b[0m |\n",
      "=========================================================================\n",
      "CPU times: user 36min 58s, sys: 9min 8s, total: 46min 7s\n",
      "Wall time: 13min 58s\n"
     ]
    }
   ],
   "source": [
    "%%time\n",
    "lofi_5_optimizer.maximize(\n",
    "    init_points=50,\n",
    "    n_iter=50,\n",
    ")"
   ]
  },
  {
   "cell_type": "markdown",
   "metadata": {},
   "source": [
    "## 6.2 Test Set Accuracy"
   ]
  },
  {
   "cell_type": "code",
   "execution_count": null,
   "metadata": {},
   "outputs": [],
   "source": [
    "lofi_5_hparams = {\n",
    "    'initial_covariance': 0.0011425070620711454,\n",
    "    'dynamics_weights': 0.9999999996363873,\n",
    "    'dynamics_covariance': 2.0595895599886687e-14,\n",
    "    'dynamics_covariance_inflation_factor': 1.0392563807615285e-17\n",
    "}"
   ]
  },
  {
   "cell_type": "code",
   "execution_count": 149,
   "metadata": {},
   "outputs": [],
   "source": [
    "lofi_5_hparams = hpt.get_best_params(lofi_5_optimizer)\n",
    "lofi_5_estimator = hpt.build_estimator(flat_params, lofi_5_hparams, emission_mean_function,\n",
    "                                       emission_cov_function, method=\"lofi\", \n",
    "                                       lofi_params=lofi_5_params)"
   ]
  },
  {
   "cell_type": "code",
   "execution_count": 150,
   "metadata": {},
   "outputs": [
    {
     "data": {
      "text/plain": [
       "{'initial_covariance': 0.0011425070620711454,\n",
       " 'dynamics_weights': 0.9999999996363873,\n",
       " 'dynamics_covariance': 2.0595895599886687e-14,\n",
       " 'dynamics_covariance_inflation_factor': 1.0392563807615285e-17}"
      ]
     },
     "execution_count": 150,
     "metadata": {},
     "output_type": "execute_result"
    }
   ],
   "source": [
    "lofi_5_hparams"
   ]
  },
  {
   "cell_type": "code",
   "execution_count": 151,
   "metadata": {},
   "outputs": [
    {
     "name": "stderr",
     "output_type": "stream",
     "text": [
      "100%|██████████| 10/10 [06:15<00:00, 37.54s/it]\n"
     ]
    }
   ],
   "source": [
    "lofi_5_res = evaluate_model(lofi_5_estimator)"
   ]
  },
  {
   "cell_type": "markdown",
   "metadata": {
    "id": "6pBaqlBNB0lS"
   },
   "source": [
    "# 7. LoFi (Rank 50)"
   ]
  },
  {
   "cell_type": "markdown",
   "metadata": {
    "id": "8j64ay5RB0lS"
   },
   "source": [
    "## 7.1 Hyperparam Tuning"
   ]
  },
  {
   "cell_type": "code",
   "execution_count": 169,
   "metadata": {},
   "outputs": [],
   "source": [
    "lofi_50_params = LoFiParams(\n",
    "    memory_size=50,\n",
    "    diagonal_covariance=False,\n",
    ")"
   ]
  },
  {
   "cell_type": "code",
   "execution_count": 18,
   "metadata": {
    "id": "lsbPkekYB0lS"
   },
   "outputs": [],
   "source": [
    "lofi_50_optimizer, apply_fn, n_feats = hpt.create_optimizer(\n",
    "    model, pbounds, 314, train, val, emission_mean_function, emission_cov_function,\n",
    "    ll_callback, 'lofi', params_lofi=lofi_50_params\n",
    ")"
   ]
  },
  {
   "cell_type": "code",
   "execution_count": 19,
   "metadata": {
    "colab": {
     "base_uri": "https://localhost:8080/"
    },
    "id": "lzLv_fiEB0lS",
    "outputId": "1536fb74-c4dd-4745-bcdd-fc32861cc4bb"
   },
   "outputs": [
    {
     "name": "stdout",
     "output_type": "stream",
     "text": [
      "|   iter    |  target   | log_alpha | log_dy... | log_dy... | log_in... |\n",
      "-------------------------------------------------------------------------\n",
      "| \u001b[0m1        \u001b[0m | \u001b[0m-0.9947  \u001b[0m | \u001b[0m-3.325   \u001b[0m | \u001b[0m-16.46   \u001b[0m | \u001b[0m-29.4    \u001b[0m | \u001b[0m-2.168   \u001b[0m |\n",
      "| \u001b[0m2        \u001b[0m | \u001b[0m-1.227   \u001b[0m | \u001b[0m-3.28    \u001b[0m | \u001b[0m-6.906   \u001b[0m | \u001b[0m-10.88   \u001b[0m | \u001b[0m-7.395   \u001b[0m |\n",
      "| \u001b[95m3        \u001b[0m | \u001b[95m-0.7304  \u001b[0m | \u001b[95m-3.529   \u001b[0m | \u001b[95m-29.57   \u001b[0m | \u001b[95m-9.345   \u001b[0m | \u001b[95m-7.385   \u001b[0m |\n",
      "| \u001b[95m4        \u001b[0m | \u001b[95m-0.6923  \u001b[0m | \u001b[95m-35.11   \u001b[0m | \u001b[95m-24.56   \u001b[0m | \u001b[95m-6.397   \u001b[0m | \u001b[95m-7.218   \u001b[0m |\n",
      "| \u001b[95m5        \u001b[0m | \u001b[95m-0.4849  \u001b[0m | \u001b[95m-37.2    \u001b[0m | \u001b[95m-14.68   \u001b[0m | \u001b[95m-16.61   \u001b[0m | \u001b[95m-4.188   \u001b[0m |\n",
      "| \u001b[95m6        \u001b[0m | \u001b[95m-0.4298  \u001b[0m | \u001b[95m-12.91   \u001b[0m | \u001b[95m-12.51   \u001b[0m | \u001b[95m-22.44   \u001b[0m | \u001b[95m-6.791   \u001b[0m |\n",
      "| \u001b[0m7        \u001b[0m | \u001b[0m-0.693   \u001b[0m | \u001b[0m-17.18   \u001b[0m | \u001b[0m-20.81   \u001b[0m | \u001b[0m-5.557   \u001b[0m | \u001b[0m-1.652   \u001b[0m |\n",
      "| \u001b[0m8        \u001b[0m | \u001b[0m-13.62   \u001b[0m | \u001b[0m-35.77   \u001b[0m | \u001b[0m-37.58   \u001b[0m | \u001b[0m-16.12   \u001b[0m | \u001b[0m-2.076   \u001b[0m |\n",
      "| \u001b[95m9        \u001b[0m | \u001b[95m-0.3664  \u001b[0m | \u001b[95m-30.95   \u001b[0m | \u001b[95m-18.59   \u001b[0m | \u001b[95m-34.56   \u001b[0m | \u001b[95m-6.278   \u001b[0m |\n",
      "| \u001b[0m10       \u001b[0m | \u001b[0m-0.4306  \u001b[0m | \u001b[0m-33.92   \u001b[0m | \u001b[0m-22.81   \u001b[0m | \u001b[0m-8.292   \u001b[0m | \u001b[0m-5.93    \u001b[0m |\n",
      "| \u001b[0m11       \u001b[0m | \u001b[0m-25.96   \u001b[0m | \u001b[0m-32.89   \u001b[0m | \u001b[0m-3.63    \u001b[0m | \u001b[0m-18.19   \u001b[0m | \u001b[0m-8.995   \u001b[0m |\n",
      "| \u001b[0m12       \u001b[0m | \u001b[0m-215.3   \u001b[0m | \u001b[0m-11.25   \u001b[0m | \u001b[0m-0.8628  \u001b[0m | \u001b[0m-27.61   \u001b[0m | \u001b[0m-7.399   \u001b[0m |\n",
      "| \u001b[0m13       \u001b[0m | \u001b[0m-0.4137  \u001b[0m | \u001b[0m-13.48   \u001b[0m | \u001b[0m-34.41   \u001b[0m | \u001b[0m-36.65   \u001b[0m | \u001b[0m-4.732   \u001b[0m |\n",
      "| \u001b[0m14       \u001b[0m | \u001b[0m-94.09   \u001b[0m | \u001b[0m-15.59   \u001b[0m | \u001b[0m-5.304   \u001b[0m | \u001b[0m-34.04   \u001b[0m | \u001b[0m-1.359   \u001b[0m |\n",
      "| \u001b[0m15       \u001b[0m | \u001b[0m-0.5415  \u001b[0m | \u001b[0m-22.0    \u001b[0m | \u001b[0m-10.93   \u001b[0m | \u001b[0m-33.8    \u001b[0m | \u001b[0m-5.829   \u001b[0m |\n",
      "| \u001b[0m16       \u001b[0m | \u001b[0m-0.6499  \u001b[0m | \u001b[0m-34.3    \u001b[0m | \u001b[0m-26.43   \u001b[0m | \u001b[0m-11.89   \u001b[0m | \u001b[0m-9.229   \u001b[0m |\n",
      "| \u001b[0m17       \u001b[0m | \u001b[0m-253.2   \u001b[0m | \u001b[0m-37.18   \u001b[0m | \u001b[0m-0.7213  \u001b[0m | \u001b[0m-38.34   \u001b[0m | \u001b[0m-9.007   \u001b[0m |\n",
      "| \u001b[0m18       \u001b[0m | \u001b[0m-0.6931  \u001b[0m | \u001b[0m-31.18   \u001b[0m | \u001b[0m-13.6    \u001b[0m | \u001b[0m-0.1541  \u001b[0m | \u001b[0m-0.3022  \u001b[0m |\n",
      "| \u001b[0m19       \u001b[0m | \u001b[0m-346.9   \u001b[0m | \u001b[0m-12.94   \u001b[0m | \u001b[0m-0.06077 \u001b[0m | \u001b[0m-35.15   \u001b[0m | \u001b[0m-5.638   \u001b[0m |\n",
      "| \u001b[0m20       \u001b[0m | \u001b[0m-0.4566  \u001b[0m | \u001b[0m-33.31   \u001b[0m | \u001b[0m-18.11   \u001b[0m | \u001b[0m-9.157   \u001b[0m | \u001b[0m-4.336   \u001b[0m |\n",
      "| \u001b[0m21       \u001b[0m | \u001b[0m-0.8118  \u001b[0m | \u001b[0m-27.74   \u001b[0m | \u001b[0m-0.8882  \u001b[0m | \u001b[0m-4.452   \u001b[0m | \u001b[0m-7.633   \u001b[0m |\n",
      "| \u001b[0m22       \u001b[0m | \u001b[0m-0.6931  \u001b[0m | \u001b[0m-12.58   \u001b[0m | \u001b[0m-36.7    \u001b[0m | \u001b[0m-5.273   \u001b[0m | \u001b[0m-6.59    \u001b[0m |\n",
      "| \u001b[0m23       \u001b[0m | \u001b[0m-0.5617  \u001b[0m | \u001b[0m-14.74   \u001b[0m | \u001b[0m-25.22   \u001b[0m | \u001b[0m-7.529   \u001b[0m | \u001b[0m-6.144   \u001b[0m |\n",
      "| \u001b[0m24       \u001b[0m | \u001b[0m-0.4128  \u001b[0m | \u001b[0m-21.23   \u001b[0m | \u001b[0m-31.49   \u001b[0m | \u001b[0m-31.5    \u001b[0m | \u001b[0m-6.877   \u001b[0m |\n",
      "| \u001b[0m25       \u001b[0m | \u001b[0m-18.94   \u001b[0m | \u001b[0m-18.41   \u001b[0m | \u001b[0m-6.95    \u001b[0m | \u001b[0m-13.72   \u001b[0m | \u001b[0m-5.69    \u001b[0m |\n",
      "| \u001b[0m26       \u001b[0m | \u001b[0m-0.6     \u001b[0m | \u001b[0m-6.284   \u001b[0m | \u001b[0m-35.38   \u001b[0m | \u001b[0m-19.55   \u001b[0m | \u001b[0m-2.765   \u001b[0m |\n",
      "| \u001b[0m27       \u001b[0m | \u001b[0m-0.4461  \u001b[0m | \u001b[0m-38.55   \u001b[0m | \u001b[0m-12.87   \u001b[0m | \u001b[0m-28.82   \u001b[0m | \u001b[0m-8.103   \u001b[0m |\n",
      "| \u001b[0m28       \u001b[0m | \u001b[0m-0.4668  \u001b[0m | \u001b[0m-24.51   \u001b[0m | \u001b[0m-18.24   \u001b[0m | \u001b[0m-32.42   \u001b[0m | \u001b[0m-4.209   \u001b[0m |\n",
      "| \u001b[0m29       \u001b[0m | \u001b[0m-0.5916  \u001b[0m | \u001b[0m-29.01   \u001b[0m | \u001b[0m-14.26   \u001b[0m | \u001b[0m-37.07   \u001b[0m | \u001b[0m-3.494   \u001b[0m |\n",
      "| \u001b[0m30       \u001b[0m | \u001b[0m-1.17    \u001b[0m | \u001b[0m-3.589   \u001b[0m | \u001b[0m-14.74   \u001b[0m | \u001b[0m-18.65   \u001b[0m | \u001b[0m-1.161   \u001b[0m |\n",
      "| \u001b[0m31       \u001b[0m | \u001b[0m-0.6858  \u001b[0m | \u001b[0m-14.72   \u001b[0m | \u001b[0m-33.4    \u001b[0m | \u001b[0m-29.6    \u001b[0m | \u001b[0m-9.884   \u001b[0m |\n",
      "| \u001b[0m32       \u001b[0m | \u001b[0m-2.296   \u001b[0m | \u001b[0m-0.2037  \u001b[0m | \u001b[0m-7.485   \u001b[0m | \u001b[0m-7.632   \u001b[0m | \u001b[0m-1.068   \u001b[0m |\n",
      "| \u001b[0m33       \u001b[0m | \u001b[0m-0.6931  \u001b[0m | \u001b[0m-30.93   \u001b[0m | \u001b[0m-18.67   \u001b[0m | \u001b[0m-2.163   \u001b[0m | \u001b[0m-7.967   \u001b[0m |\n",
      "| \u001b[0m34       \u001b[0m | \u001b[0m-29.37   \u001b[0m | \u001b[0m-5.548   \u001b[0m | \u001b[0m-4.321   \u001b[0m | \u001b[0m-17.0    \u001b[0m | \u001b[0m-9.934   \u001b[0m |\n",
      "| \u001b[0m35       \u001b[0m | \u001b[0m-1.079   \u001b[0m | \u001b[0m-8.735   \u001b[0m | \u001b[0m-8.361   \u001b[0m | \u001b[0m-13.89   \u001b[0m | \u001b[0m-4.914   \u001b[0m |\n",
      "| \u001b[0m36       \u001b[0m | \u001b[0m-0.7356  \u001b[0m | \u001b[0m-1.607   \u001b[0m | \u001b[0m-19.02   \u001b[0m | \u001b[0m-27.5    \u001b[0m | \u001b[0m-6.995   \u001b[0m |\n",
      "| \u001b[0m37       \u001b[0m | \u001b[0m-1.19    \u001b[0m | \u001b[0m-3.691   \u001b[0m | \u001b[0m-7.406   \u001b[0m | \u001b[0m-22.67   \u001b[0m | \u001b[0m-3.497   \u001b[0m |\n",
      "| \u001b[0m38       \u001b[0m | \u001b[0m-0.7774  \u001b[0m | \u001b[0m-10.84   \u001b[0m | \u001b[0m-21.21   \u001b[0m | \u001b[0m-13.52   \u001b[0m | \u001b[0m-2.857   \u001b[0m |\n",
      "| \u001b[0m39       \u001b[0m | \u001b[0m-0.5863  \u001b[0m | \u001b[0m-19.86   \u001b[0m | \u001b[0m-38.73   \u001b[0m | \u001b[0m-37.56   \u001b[0m | \u001b[0m-8.48    \u001b[0m |\n",
      "| \u001b[0m40       \u001b[0m | \u001b[0m-0.5868  \u001b[0m | \u001b[0m-37.66   \u001b[0m | \u001b[0m-10.6    \u001b[0m | \u001b[0m-36.66   \u001b[0m | \u001b[0m-8.16    \u001b[0m |\n",
      "| \u001b[0m41       \u001b[0m | \u001b[0m-0.7362  \u001b[0m | \u001b[0m-38.67   \u001b[0m | \u001b[0m-19.73   \u001b[0m | \u001b[0m-21.96   \u001b[0m | \u001b[0m-3.031   \u001b[0m |\n",
      "| \u001b[0m42       \u001b[0m | \u001b[0m-0.6048  \u001b[0m | \u001b[0m-14.82   \u001b[0m | \u001b[0m-18.42   \u001b[0m | \u001b[0m-6.447   \u001b[0m | \u001b[0m-2.425   \u001b[0m |\n",
      "| \u001b[0m43       \u001b[0m | \u001b[0m-220.3   \u001b[0m | \u001b[0m-33.26   \u001b[0m | \u001b[0m-9.006   \u001b[0m | \u001b[0m-25.96   \u001b[0m | \u001b[0m-1.252   \u001b[0m |\n",
      "| \u001b[0m44       \u001b[0m | \u001b[0m-16.76   \u001b[0m | \u001b[0m-9.092   \u001b[0m | \u001b[0m-6.162   \u001b[0m | \u001b[0m-12.5    \u001b[0m | \u001b[0m-3.962   \u001b[0m |\n",
      "| \u001b[0m45       \u001b[0m | \u001b[0m-0.6931  \u001b[0m | \u001b[0m-19.49   \u001b[0m | \u001b[0m-34.39   \u001b[0m | \u001b[0m-3.042   \u001b[0m | \u001b[0m-1.253   \u001b[0m |\n",
      "| \u001b[0m46       \u001b[0m | \u001b[0m-34.85   \u001b[0m | \u001b[0m-31.01   \u001b[0m | \u001b[0m-3.384   \u001b[0m | \u001b[0m-36.65   \u001b[0m | \u001b[0m-7.443   \u001b[0m |\n",
      "| \u001b[0m47       \u001b[0m | \u001b[0m-0.6947  \u001b[0m | \u001b[0m-35.62   \u001b[0m | \u001b[0m-27.04   \u001b[0m | \u001b[0m-7.605   \u001b[0m | \u001b[0m-9.977   \u001b[0m |\n",
      "| \u001b[0m48       \u001b[0m | \u001b[0m-0.3683  \u001b[0m | \u001b[0m-30.7    \u001b[0m | \u001b[0m-38.22   \u001b[0m | \u001b[0m-25.6    \u001b[0m | \u001b[0m-5.262   \u001b[0m |\n",
      "| \u001b[0m49       \u001b[0m | \u001b[0m-1.042   \u001b[0m | \u001b[0m-11.91   \u001b[0m | \u001b[0m-8.632   \u001b[0m | \u001b[0m-18.34   \u001b[0m | \u001b[0m-9.985   \u001b[0m |\n",
      "| \u001b[0m50       \u001b[0m | \u001b[0m-42.92   \u001b[0m | \u001b[0m-28.73   \u001b[0m | \u001b[0m-3.236   \u001b[0m | \u001b[0m-21.08   \u001b[0m | \u001b[0m-4.687   \u001b[0m |\n",
      "| \u001b[0m51       \u001b[0m | \u001b[0m-0.6891  \u001b[0m | \u001b[0m-39.9    \u001b[0m | \u001b[0m-22.22   \u001b[0m | \u001b[0m-28.63   \u001b[0m | \u001b[0m-9.962   \u001b[0m |\n",
      "| \u001b[0m52       \u001b[0m | \u001b[0m-106.9   \u001b[0m | \u001b[0m-20.28   \u001b[0m | \u001b[0m-33.37   \u001b[0m | \u001b[0m-17.99   \u001b[0m | \u001b[0m0.0      \u001b[0m |\n",
      "| \u001b[0m53       \u001b[0m | \u001b[0m-106.7   \u001b[0m | \u001b[0m-15.67   \u001b[0m | \u001b[0m-19.92   \u001b[0m | \u001b[0m-40.0    \u001b[0m | \u001b[0m0.0      \u001b[0m |\n",
      "| \u001b[0m54       \u001b[0m | \u001b[0m-0.6894  \u001b[0m | \u001b[0m-40.0    \u001b[0m | \u001b[0m-19.52   \u001b[0m | \u001b[0m-40.0    \u001b[0m | \u001b[0m-10.0    \u001b[0m |\n",
      "| \u001b[0m55       \u001b[0m | \u001b[0m-0.6939  \u001b[0m | \u001b[0m-2.874   \u001b[0m | \u001b[0m-17.48   \u001b[0m | \u001b[0m-2.126   \u001b[0m | \u001b[0m-10.0    \u001b[0m |\n",
      "| \u001b[0m56       \u001b[0m | \u001b[0m-0.8568  \u001b[0m | \u001b[0m-39.35   \u001b[0m | \u001b[0m-8.026   \u001b[0m | \u001b[0m-6.851   \u001b[0m | \u001b[0m-9.291   \u001b[0m |\n",
      "| \u001b[0m57       \u001b[0m | \u001b[0m-0.6931  \u001b[0m | \u001b[0m-6.956   \u001b[0m | \u001b[0m-27.5    \u001b[0m | \u001b[0m0.0      \u001b[0m | \u001b[0m0.0      \u001b[0m |\n",
      "| \u001b[0m58       \u001b[0m | \u001b[0m-0.7381  \u001b[0m | \u001b[0m0.0      \u001b[0m | \u001b[0m-36.14   \u001b[0m | \u001b[0m-29.72   \u001b[0m | \u001b[0m-9.335   \u001b[0m |\n",
      "| \u001b[0m59       \u001b[0m | \u001b[0m-0.661   \u001b[0m | \u001b[0m-37.03   \u001b[0m | \u001b[0m-37.44   \u001b[0m | \u001b[0m-36.4    \u001b[0m | \u001b[0m-9.418   \u001b[0m |\n",
      "| \u001b[0m60       \u001b[0m | \u001b[0m-0.6931  \u001b[0m | \u001b[0m-18.89   \u001b[0m | \u001b[0m-11.27   \u001b[0m | \u001b[0m0.0      \u001b[0m | \u001b[0m-10.0    \u001b[0m |\n",
      "| \u001b[0m61       \u001b[0m | \u001b[0m-0.7383  \u001b[0m | \u001b[0m0.0      \u001b[0m | \u001b[0m-40.0    \u001b[0m | \u001b[0m-15.53   \u001b[0m | \u001b[0m-10.0    \u001b[0m |\n",
      "| \u001b[0m62       \u001b[0m | \u001b[0m-0.736   \u001b[0m | \u001b[0m0.0      \u001b[0m | \u001b[0m-40.0    \u001b[0m | \u001b[0m-4.913   \u001b[0m | \u001b[0m0.0      \u001b[0m |\n",
      "| \u001b[0m63       \u001b[0m | \u001b[0m-106.8   \u001b[0m | \u001b[0m-40.0    \u001b[0m | \u001b[0m-32.62   \u001b[0m | \u001b[0m-29.81   \u001b[0m | \u001b[0m0.0      \u001b[0m |\n",
      "| \u001b[0m64       \u001b[0m | \u001b[0m-0.6931  \u001b[0m | \u001b[0m-28.24   \u001b[0m | \u001b[0m-37.72   \u001b[0m | \u001b[0m0.0      \u001b[0m | \u001b[0m-10.0    \u001b[0m |\n",
      "| \u001b[0m65       \u001b[0m | \u001b[0m-0.6891  \u001b[0m | \u001b[0m-40.0    \u001b[0m | \u001b[0m-19.36   \u001b[0m | \u001b[0m-16.08   \u001b[0m | \u001b[0m-10.0    \u001b[0m |\n",
      "| \u001b[0m66       \u001b[0m | \u001b[0m-0.6931  \u001b[0m | \u001b[0m-37.79   \u001b[0m | \u001b[0m-36.04   \u001b[0m | \u001b[0m0.0      \u001b[0m | \u001b[0m0.0      \u001b[0m |\n",
      "| \u001b[0m67       \u001b[0m | \u001b[0m-0.6931  \u001b[0m | \u001b[0m-21.74   \u001b[0m | \u001b[0m-26.96   \u001b[0m | \u001b[0m0.0      \u001b[0m | \u001b[0m-10.0    \u001b[0m |\n",
      "| \u001b[0m68       \u001b[0m | \u001b[0m-0.7382  \u001b[0m | \u001b[0m0.0      \u001b[0m | \u001b[0m-18.3    \u001b[0m | \u001b[0m-14.42   \u001b[0m | \u001b[0m-10.0    \u001b[0m |\n",
      "| \u001b[0m69       \u001b[0m | \u001b[0m-0.4863  \u001b[0m | \u001b[0m-27.96   \u001b[0m | \u001b[0m-11.88   \u001b[0m | \u001b[0m-40.0    \u001b[0m | \u001b[0m-10.0    \u001b[0m |\n",
      "| \u001b[0m70       \u001b[0m | \u001b[0m-0.7097  \u001b[0m | \u001b[0m-39.09   \u001b[0m | \u001b[0m0.0      \u001b[0m | \u001b[0m0.0      \u001b[0m | \u001b[0m0.0      \u001b[0m |\n",
      "| \u001b[0m71       \u001b[0m | \u001b[0m-0.6931  \u001b[0m | \u001b[0m0.0      \u001b[0m | \u001b[0m-36.75   \u001b[0m | \u001b[0m0.0      \u001b[0m | \u001b[0m-10.0    \u001b[0m |\n",
      "| \u001b[0m72       \u001b[0m | \u001b[0m-1.744   \u001b[0m | \u001b[0m0.0      \u001b[0m | \u001b[0m-28.63   \u001b[0m | \u001b[0m-25.89   \u001b[0m | \u001b[0m0.0      \u001b[0m |\n",
      "| \u001b[0m73       \u001b[0m | \u001b[0m-0.7338  \u001b[0m | \u001b[0m-4.895   \u001b[0m | \u001b[0m-40.0    \u001b[0m | \u001b[0m-40.0    \u001b[0m | \u001b[0m-10.0    \u001b[0m |\n",
      "| \u001b[0m74       \u001b[0m | \u001b[0m-0.6855  \u001b[0m | \u001b[0m-21.6    \u001b[0m | \u001b[0m-18.17   \u001b[0m | \u001b[0m-14.97   \u001b[0m | \u001b[0m-10.0    \u001b[0m |\n",
      "| \u001b[0m75       \u001b[0m | \u001b[0m-36.59   \u001b[0m | \u001b[0m-4.333   \u001b[0m | \u001b[0m-40.0    \u001b[0m | \u001b[0m-32.11   \u001b[0m | \u001b[0m0.0      \u001b[0m |\n",
      "| \u001b[0m76       \u001b[0m | \u001b[0m-0.7098  \u001b[0m | \u001b[0m-6.791   \u001b[0m | \u001b[0m-26.79   \u001b[0m | \u001b[0m-21.4    \u001b[0m | \u001b[0m-10.0    \u001b[0m |\n",
      "| \u001b[0m77       \u001b[0m | \u001b[0m-0.6931  \u001b[0m | \u001b[0m-28.83   \u001b[0m | \u001b[0m-27.51   \u001b[0m | \u001b[0m0.0      \u001b[0m | \u001b[0m0.0      \u001b[0m |\n",
      "| \u001b[0m78       \u001b[0m | \u001b[0m-0.7097  \u001b[0m | \u001b[0m-18.7    \u001b[0m | \u001b[0m0.0      \u001b[0m | \u001b[0m0.0      \u001b[0m | \u001b[0m0.0      \u001b[0m |\n",
      "| \u001b[0m79       \u001b[0m | \u001b[0m-0.6933  \u001b[0m | \u001b[0m-40.0    \u001b[0m | \u001b[0m-40.0    \u001b[0m | \u001b[0m-6.422   \u001b[0m | \u001b[0m-10.0    \u001b[0m |\n",
      "| \u001b[0m80       \u001b[0m | \u001b[0m-0.7383  \u001b[0m | \u001b[0m0.0      \u001b[0m | \u001b[0m-27.78   \u001b[0m | \u001b[0m-40.0    \u001b[0m | \u001b[0m-10.0    \u001b[0m |\n",
      "| \u001b[0m81       \u001b[0m | \u001b[0m-0.6976  \u001b[0m | \u001b[0m-1.928   \u001b[0m | \u001b[0m-0.7401  \u001b[0m | \u001b[0m-0.06605 \u001b[0m | \u001b[0m-7.592   \u001b[0m |\n",
      "| \u001b[0m82       \u001b[0m | \u001b[0m-0.6931  \u001b[0m | \u001b[0m-7.87    \u001b[0m | \u001b[0m-10.7    \u001b[0m | \u001b[0m-0.01481 \u001b[0m | \u001b[0m-0.405   \u001b[0m |\n",
      "| \u001b[0m83       \u001b[0m | \u001b[0m-0.6908  \u001b[0m | \u001b[0m-28.67   \u001b[0m | \u001b[0m-30.24   \u001b[0m | \u001b[0m-40.0    \u001b[0m | \u001b[0m-10.0    \u001b[0m |\n",
      "| \u001b[0m84       \u001b[0m | \u001b[0m-106.8   \u001b[0m | \u001b[0m-27.55   \u001b[0m | \u001b[0m-40.0    \u001b[0m | \u001b[0m-40.0    \u001b[0m | \u001b[0m0.0      \u001b[0m |\n",
      "| \u001b[0m85       \u001b[0m | \u001b[0m-0.6908  \u001b[0m | \u001b[0m-28.31   \u001b[0m | \u001b[0m-24.69   \u001b[0m | \u001b[0m-24.99   \u001b[0m | \u001b[0m-10.0    \u001b[0m |\n",
      "| \u001b[0m86       \u001b[0m | \u001b[0m-1.192   \u001b[0m | \u001b[0m-0.342   \u001b[0m | \u001b[0m-21.95   \u001b[0m | \u001b[0m-7.122   \u001b[0m | \u001b[0m-0.8539  \u001b[0m |\n",
      "| \u001b[0m87       \u001b[0m | \u001b[0m-0.7097  \u001b[0m | \u001b[0m-13.78   \u001b[0m | \u001b[0m0.0      \u001b[0m | \u001b[0m0.0      \u001b[0m | \u001b[0m-10.0    \u001b[0m |\n",
      "| \u001b[0m88       \u001b[0m | \u001b[0m-0.6931  \u001b[0m | \u001b[0m-40.0    \u001b[0m | \u001b[0m-20.63   \u001b[0m | \u001b[0m0.0      \u001b[0m | \u001b[0m0.0      \u001b[0m |\n",
      "| \u001b[0m89       \u001b[0m | \u001b[0m-0.6909  \u001b[0m | \u001b[0m-29.08   \u001b[0m | \u001b[0m-40.0    \u001b[0m | \u001b[0m-12.31   \u001b[0m | \u001b[0m-10.0    \u001b[0m |\n",
      "| \u001b[0m90       \u001b[0m | \u001b[0m-0.7097  \u001b[0m | \u001b[0m-40.0    \u001b[0m | \u001b[0m0.0      \u001b[0m | \u001b[0m0.0      \u001b[0m | \u001b[0m-10.0    \u001b[0m |\n",
      "| \u001b[0m91       \u001b[0m | \u001b[0m-0.6465  \u001b[0m | \u001b[0m-10.44   \u001b[0m | \u001b[0m-15.79   \u001b[0m | \u001b[0m-11.05   \u001b[0m | \u001b[0m-10.0    \u001b[0m |\n",
      "| \u001b[0m92       \u001b[0m | \u001b[0m-135.7   \u001b[0m | \u001b[0m-40.0    \u001b[0m | \u001b[0m-24.39   \u001b[0m | \u001b[0m-12.41   \u001b[0m | \u001b[0m0.0      \u001b[0m |\n",
      "| \u001b[0m93       \u001b[0m | \u001b[0m-0.6905  \u001b[0m | \u001b[0m-16.96   \u001b[0m | \u001b[0m-21.06   \u001b[0m | \u001b[0m-27.33   \u001b[0m | \u001b[0m-10.0    \u001b[0m |\n",
      "| \u001b[0m94       \u001b[0m | \u001b[0m-0.6931  \u001b[0m | \u001b[0m-20.46   \u001b[0m | \u001b[0m-10.95   \u001b[0m | \u001b[0m0.0      \u001b[0m | \u001b[0m0.0      \u001b[0m |\n",
      "| \u001b[0m95       \u001b[0m | \u001b[0m-0.536   \u001b[0m | \u001b[0m-28.86   \u001b[0m | \u001b[0m-11.2    \u001b[0m | \u001b[0m-9.825   \u001b[0m | \u001b[0m-10.0    \u001b[0m |\n",
      "| \u001b[0m96       \u001b[0m | \u001b[0m-2.706   \u001b[0m | \u001b[0m-0.5368  \u001b[0m | \u001b[0m-28.64   \u001b[0m | \u001b[0m-15.73   \u001b[0m | \u001b[0m-0.1615  \u001b[0m |\n",
      "| \u001b[0m97       \u001b[0m | \u001b[0m-0.6931  \u001b[0m | \u001b[0m-8.315   \u001b[0m | \u001b[0m-25.96   \u001b[0m | \u001b[0m-0.2755  \u001b[0m | \u001b[0m-9.605   \u001b[0m |\n",
      "| \u001b[0m98       \u001b[0m | \u001b[0m-0.6783  \u001b[0m | \u001b[0m-38.47   \u001b[0m | \u001b[0m-39.88   \u001b[0m | \u001b[0m-19.53   \u001b[0m | \u001b[0m-9.728   \u001b[0m |\n",
      "| \u001b[0m99       \u001b[0m | \u001b[0m-182.9   \u001b[0m | \u001b[0m-32.6    \u001b[0m | \u001b[0m0.0      \u001b[0m | \u001b[0m-9.254   \u001b[0m | \u001b[0m0.0      \u001b[0m |\n",
      "| \u001b[0m100      \u001b[0m | \u001b[0m-0.6931  \u001b[0m | \u001b[0m-39.87   \u001b[0m | \u001b[0m-13.92   \u001b[0m | \u001b[0m-0.866   \u001b[0m | \u001b[0m-9.302   \u001b[0m |\n",
      "=========================================================================\n",
      "CPU times: user 53min 43s, sys: 9min 51s, total: 1h 3min 34s\n",
      "Wall time: 1h 53min 59s\n"
     ]
    }
   ],
   "source": [
    "%%time\n",
    "lofi_50_optimizer.maximize(\n",
    "    init_points=50,\n",
    "    n_iter=50,\n",
    ")"
   ]
  },
  {
   "cell_type": "markdown",
   "metadata": {
    "id": "1Kbdc31jB0lS"
   },
   "source": [
    "## 7.2 Test Set Accuracy"
   ]
  },
  {
   "cell_type": "code",
   "execution_count": 170,
   "metadata": {},
   "outputs": [],
   "source": [
    "lofi_50_hparams = {\n",
    "    'initial_covariance': 0.0018779857408277372,\n",
    "    'dynamics_weights': 0.999999999999999,\n",
    "    'dynamics_covariance': 8.425795301903653e-09,\n",
    "    'dynamics_covariance_inflation_factor': 3.634315308333528e-14\n",
    "}"
   ]
  },
  {
   "cell_type": "code",
   "execution_count": 171,
   "metadata": {},
   "outputs": [],
   "source": [
    "# lofi_50_hparams = hpt.get_best_params(lofi_50_optimizer)\n",
    "lofi_50_estimator = hpt.build_estimator(flat_params, lofi_50_hparams, emission_mean_function,\n",
    "                                         emission_cov_function, method=\"lofi\", \n",
    "                                         lofi_params=lofi_50_params)"
   ]
  },
  {
   "cell_type": "code",
   "execution_count": 172,
   "metadata": {},
   "outputs": [
    {
     "data": {
      "text/plain": [
       "{'initial_covariance': 0.0018779857408277372,\n",
       " 'dynamics_weights': 0.999999999999999,\n",
       " 'dynamics_covariance': 8.425795301903653e-09,\n",
       " 'dynamics_covariance_inflation_factor': 3.634315308333528e-14}"
      ]
     },
     "execution_count": 172,
     "metadata": {},
     "output_type": "execute_result"
    }
   ],
   "source": [
    "lofi_50_hparams"
   ]
  },
  {
   "cell_type": "code",
   "execution_count": 173,
   "metadata": {},
   "outputs": [
    {
     "name": "stderr",
     "output_type": "stream",
     "text": [
      "  0%|          | 0/10 [00:00<?, ?it/s]"
     ]
    }
   ],
   "source": [
    "lofi_50_res = evaluate_model(lofi_50_estimator)"
   ]
  },
  {
   "cell_type": "code",
   "execution_count": null,
   "metadata": {},
   "outputs": [],
   "source": [
    "lofi_50_res"
   ]
  },
  {
   "cell_type": "markdown",
   "metadata": {
    "id": "BmIziiUU-DRn"
   },
   "source": [
    "# 8. Online SGD"
   ]
  },
  {
   "cell_type": "markdown",
   "metadata": {
    "id": "1I36wzgs-iCX"
   },
   "source": [
    "## 8.1 Hyperparam Tuning"
   ]
  },
  {
   "cell_type": "code",
   "execution_count": 18,
   "metadata": {
    "id": "zfXLHvvZvieM"
   },
   "outputs": [],
   "source": [
    "@jit\n",
    "def compute_loss_and_updates_sgd(state, batch_images, batch_labels):\n",
    "    def loss_fn(params):\n",
    "        logits = vmap(state.apply_fn, (None, 0))(params, batch_images).ravel()\n",
    "        loss = jnp.mean(optax.sigmoid_binary_cross_entropy(logits, batch_labels.ravel()))\n",
    "        return loss, logits\n",
    "\n",
    "    grad_fn = jax.value_and_grad(loss_fn, has_aux=True)\n",
    "    (loss, logits), grads = grad_fn(state.params)\n",
    "    return grads"
   ]
  },
  {
   "cell_type": "code",
   "execution_count": 19,
   "metadata": {
    "id": "xXIijeDBvTww"
   },
   "outputs": [],
   "source": [
    "def train_model(state, X_train, y_train):\n",
    "    @jit\n",
    "    def apply_updates(state, updates):\n",
    "        return state.apply_gradients(grads=updates)\n",
    "\n",
    "    def _step(carry, i):\n",
    "        state = carry\n",
    "        curr_image = X_train[i].reshape(1,28,28,1)\n",
    "        curr_label = y_train[i]\n",
    "\n",
    "        updates = compute_loss_and_updates_sgd(state, curr_image, curr_label)\n",
    "        state = apply_updates(state, updates)\n",
    "    \n",
    "        return state, state\n",
    "    \n",
    "    state, _ = lax.scan(_step, state, jnp.arange(len(X_train)))\n",
    "    \n",
    "    return state"
   ]
  },
  {
   "cell_type": "code",
   "execution_count": 20,
   "metadata": {
    "id": "wjsXy9Jf-bOr"
   },
   "outputs": [],
   "source": [
    "def sgd_opt_fn(log_lr):\n",
    "    tx = optax.sgd(jnp.exp(log_lr))\n",
    "    opt_state = TrainState.create(apply_fn=apply_fn, params=flat_params, tx=tx)\n",
    "    opt_state = train_model(opt_state, Xtr, Ytr)\n",
    "\n",
    "    result = evaluate_accuracy(opt_state.params, apply_fn, Xte, Yte)\n",
    "    if jnp.isnan(result):\n",
    "        result = 0.0\n",
    "\n",
    "    return result"
   ]
  },
  {
   "cell_type": "code",
   "execution_count": 21,
   "metadata": {
    "id": "zgvXaxINwmz6"
   },
   "outputs": [],
   "source": [
    "sgd_optimizer = BayesianOptimization(\n",
    "    f=sgd_opt_fn,\n",
    "    pbounds={'log_lr': (-15.0, 0.0)}\n",
    ")"
   ]
  },
  {
   "cell_type": "code",
   "execution_count": 22,
   "metadata": {
    "colab": {
     "base_uri": "https://localhost:8080/"
    },
    "id": "7ERXOklfwwuj",
    "outputId": "fab2591b-eb37-4f8e-82c0-551da74ed391"
   },
   "outputs": [
    {
     "name": "stdout",
     "output_type": "stream",
     "text": [
      "|   iter    |  target   |  log_lr   |\n",
      "-------------------------------------\n",
      "| \u001b[0m1        \u001b[0m | \u001b[0m0.4724   \u001b[0m | \u001b[0m-14.78   \u001b[0m |\n",
      "| \u001b[0m2        \u001b[0m | \u001b[0m0.4708   \u001b[0m | \u001b[0m-13.34   \u001b[0m |\n",
      "| \u001b[95m3        \u001b[0m | \u001b[95m0.6284   \u001b[0m | \u001b[95m-2.783   \u001b[0m |\n",
      "| \u001b[95m4        \u001b[0m | \u001b[95m0.7968   \u001b[0m | \u001b[95m-5.923   \u001b[0m |\n",
      "| \u001b[0m5        \u001b[0m | \u001b[0m0.664    \u001b[0m | \u001b[0m-4.532   \u001b[0m |\n",
      "| \u001b[0m6        \u001b[0m | \u001b[0m0.6672   \u001b[0m | \u001b[0m-4.547   \u001b[0m |\n",
      "| \u001b[95m7        \u001b[0m | \u001b[95m0.8228   \u001b[0m | \u001b[95m-6.607   \u001b[0m |\n",
      "| \u001b[0m8        \u001b[0m | \u001b[0m0.47     \u001b[0m | \u001b[0m-10.17   \u001b[0m |\n",
      "| \u001b[0m9        \u001b[0m | \u001b[0m0.6712   \u001b[0m | \u001b[0m-8.714   \u001b[0m |\n",
      "| \u001b[0m10       \u001b[0m | \u001b[0m0.712    \u001b[0m | \u001b[0m-5.098   \u001b[0m |\n",
      "| \u001b[0m11       \u001b[0m | \u001b[0m0.6072   \u001b[0m | \u001b[0m-9.075   \u001b[0m |\n",
      "| \u001b[0m12       \u001b[0m | \u001b[0m0.472    \u001b[0m | \u001b[0m-14.45   \u001b[0m |\n",
      "| \u001b[0m13       \u001b[0m | \u001b[0m0.4568   \u001b[0m | \u001b[0m-10.95   \u001b[0m |\n",
      "| \u001b[0m14       \u001b[0m | \u001b[0m0.5884   \u001b[0m | \u001b[0m-9.2     \u001b[0m |\n",
      "| \u001b[0m15       \u001b[0m | \u001b[0m0.6428   \u001b[0m | \u001b[0m-3.92    \u001b[0m |\n",
      "| \u001b[0m16       \u001b[0m | \u001b[0m0.0      \u001b[0m | \u001b[0m-1.1     \u001b[0m |\n",
      "| \u001b[0m17       \u001b[0m | \u001b[0m0.6012   \u001b[0m | \u001b[0m-9.106   \u001b[0m |\n",
      "| \u001b[0m18       \u001b[0m | \u001b[0m0.7092   \u001b[0m | \u001b[0m-8.504   \u001b[0m |\n",
      "| \u001b[0m19       \u001b[0m | \u001b[0m0.4528   \u001b[0m | \u001b[0m-10.65   \u001b[0m |\n",
      "| \u001b[0m20       \u001b[0m | \u001b[0m0.6712   \u001b[0m | \u001b[0m-8.718   \u001b[0m |\n",
      "| \u001b[0m21       \u001b[0m | \u001b[0m0.8088   \u001b[0m | \u001b[0m-7.476   \u001b[0m |\n",
      "| \u001b[95m22       \u001b[0m | \u001b[95m0.824    \u001b[0m | \u001b[95m-7.031   \u001b[0m |\n",
      "| \u001b[0m23       \u001b[0m | \u001b[0m0.8152   \u001b[0m | \u001b[0m-6.275   \u001b[0m |\n",
      "| \u001b[0m24       \u001b[0m | \u001b[0m0.7864   \u001b[0m | \u001b[0m-7.881   \u001b[0m |\n",
      "| \u001b[95m25       \u001b[0m | \u001b[95m0.8252   \u001b[0m | \u001b[95m-6.829   \u001b[0m |\n",
      "| \u001b[0m26       \u001b[0m | \u001b[0m0.8156   \u001b[0m | \u001b[0m-7.212   \u001b[0m |\n",
      "| \u001b[0m27       \u001b[0m | \u001b[0m0.8252   \u001b[0m | \u001b[0m-6.924   \u001b[0m |\n",
      "| \u001b[0m28       \u001b[0m | \u001b[0m0.8232   \u001b[0m | \u001b[0m-6.73    \u001b[0m |\n",
      "| \u001b[0m29       \u001b[0m | \u001b[0m0.8204   \u001b[0m | \u001b[0m-6.464   \u001b[0m |\n",
      "| \u001b[0m30       \u001b[0m | \u001b[0m0.8244   \u001b[0m | \u001b[0m-6.878   \u001b[0m |\n",
      "| \u001b[0m31       \u001b[0m | \u001b[0m0.8252   \u001b[0m | \u001b[0m-6.965   \u001b[0m |\n",
      "| \u001b[0m32       \u001b[0m | \u001b[0m0.8248   \u001b[0m | \u001b[0m-6.964   \u001b[0m |\n",
      "| \u001b[0m33       \u001b[0m | \u001b[0m0.8252   \u001b[0m | \u001b[0m-6.943   \u001b[0m |\n",
      "| \u001b[0m34       \u001b[0m | \u001b[0m0.8252   \u001b[0m | \u001b[0m-6.946   \u001b[0m |\n",
      "| \u001b[95m35       \u001b[0m | \u001b[95m0.8256   \u001b[0m | \u001b[95m-6.949   \u001b[0m |\n",
      "| \u001b[0m36       \u001b[0m | \u001b[0m0.8252   \u001b[0m | \u001b[0m-6.953   \u001b[0m |\n",
      "| \u001b[0m37       \u001b[0m | \u001b[0m0.8252   \u001b[0m | \u001b[0m-6.94    \u001b[0m |\n",
      "| \u001b[0m38       \u001b[0m | \u001b[0m0.8248   \u001b[0m | \u001b[0m-6.959   \u001b[0m |\n",
      "| \u001b[0m39       \u001b[0m | \u001b[0m0.8256   \u001b[0m | \u001b[0m-6.93    \u001b[0m |\n",
      "| \u001b[0m40       \u001b[0m | \u001b[0m0.8252   \u001b[0m | \u001b[0m-6.926   \u001b[0m |\n",
      "| \u001b[95m41       \u001b[0m | \u001b[95m0.826    \u001b[0m | \u001b[95m-6.928   \u001b[0m |\n",
      "| \u001b[0m42       \u001b[0m | \u001b[0m0.8252   \u001b[0m | \u001b[0m-6.923   \u001b[0m |\n",
      "| \u001b[0m43       \u001b[0m | \u001b[0m0.8252   \u001b[0m | \u001b[0m-6.925   \u001b[0m |\n",
      "| \u001b[0m44       \u001b[0m | \u001b[0m0.826    \u001b[0m | \u001b[0m-6.928   \u001b[0m |\n",
      "| \u001b[0m45       \u001b[0m | \u001b[0m0.466    \u001b[0m | \u001b[0m-12.21   \u001b[0m |\n",
      "=====================================\n"
     ]
    }
   ],
   "source": [
    "sgd_optimizer.maximize(\n",
    "    init_points=20,\n",
    "    n_iter=25,\n",
    ")"
   ]
  },
  {
   "cell_type": "code",
   "execution_count": 62,
   "metadata": {
    "colab": {
     "base_uri": "https://localhost:8080/"
    },
    "id": "StQMT5iXx7tX",
    "outputId": "ab4ebc33-c906-4502-a10f-bf6c327d529e"
   },
   "outputs": [
    {
     "name": "stdout",
     "output_type": "stream",
     "text": [
      "{'target': 0.8283999562263489, 'params': {'log_lr': -8.002226880539872}}\n"
     ]
    }
   ],
   "source": [
    "# 'log_lr': -8.002226880539872\n",
    "print(sgd_optimizer.max)"
   ]
  },
  {
   "cell_type": "markdown",
   "metadata": {
    "id": "KDoIufRa-mQJ"
   },
   "source": [
    "## 8.2 Test Set Accuracy"
   ]
  },
  {
   "cell_type": "code",
   "execution_count": 96,
   "metadata": {
    "id": "tqTpwCy9yxon"
   },
   "outputs": [],
   "source": [
    "log_lr = -8.002226880539872\n",
    "\n",
    "tx = optax.sgd(jnp.exp(log_lr))\n",
    "opt_state = TrainState.create(apply_fn=apply_fn, params=flat_params, tx=tx)"
   ]
  },
  {
   "cell_type": "code",
   "execution_count": 64,
   "metadata": {
    "id": "ePCGXlms-qlh"
   },
   "outputs": [],
   "source": [
    "def evaluate_model_sgd(state, ntrain_per_batch=ntrain_per_batch, ntest_per_batch=ntest_per_batch, n_iter=10):\n",
    "    overall_accs, task1_accs = [], []\n",
    "    \n",
    "    for i in trange(n_iter):\n",
    "        (Xtr, Ytr), _, (Xte, Yte) = load_split_mnist_dataset(key=i)\n",
    "        first_Xte, first_Yte = Xte[:ntest_per_batch], Yte[:ntest_per_batch]\n",
    "        trained_state = state\n",
    "        oa_accs, t1_accs = [], []\n",
    "        for i in range(Xtr.shape[0] // ntrain_per_batch):\n",
    "            curr_Xtr = Xtr[i*ntrain_per_batch:(i+1)*ntrain_per_batch]\n",
    "            curr_Ytr = Ytr[i*ntrain_per_batch:(i+1)*ntrain_per_batch]\n",
    "            curr_Xte = Xte[:(i+1)*ntest_per_batch]\n",
    "            curr_Yte = Yte[:(i+1)*ntest_per_batch]\n",
    "            \n",
    "            trained_state = train_model(trained_state, curr_Xtr, curr_Ytr)\n",
    "            accs = evaluate_accuracy(trained_state.params, apply_fn, curr_Xte, curr_Yte)\n",
    "            oa_accs.append(accs)\n",
    "\n",
    "            accs = evaluate_accuracy(trained_state.params, apply_fn, first_Xte, first_Yte)\n",
    "            t1_accs.append(accs)\n",
    "        \n",
    "        overall_accs.append(oa_accs)\n",
    "        task1_accs.append(t1_accs)\n",
    "    \n",
    "    overall_accs, task1_accs = jnp.array(overall_accs), jnp.array(task1_accs)\n",
    "    \n",
    "    result = {\n",
    "        'overall': overall_accs.mean(axis=0),\n",
    "        'overall-std': overall_accs.std(axis=0),\n",
    "        'task1': task1_accs.mean(axis=0),\n",
    "        'task1-std': task1_accs.std(axis=0) \n",
    "    }\n",
    "\n",
    "    return result"
   ]
  },
  {
   "cell_type": "code",
   "execution_count": 65,
   "metadata": {
    "colab": {
     "base_uri": "https://localhost:8080/",
     "height": 346
    },
    "id": "OwdQ8RRi7NQj",
    "outputId": "6ed2ab65-175e-4154-e86f-5978907b6d7e"
   },
   "outputs": [
    {
     "name": "stderr",
     "output_type": "stream",
     "text": [
      "100%|██████████| 10/10 [03:38<00:00, 21.84s/it]\n"
     ]
    }
   ],
   "source": [
    "online_sgd_res = evaluate_model_sgd(opt_state, n_iter=10)"
   ]
  },
  {
   "cell_type": "code",
   "execution_count": 66,
   "metadata": {},
   "outputs": [
    {
     "data": {
      "text/plain": [
       "{'overall': Array([0.98600006, 0.8778    , 0.8404667 , 0.84580004, 0.81076   ],      dtype=float32),\n",
       " 'overall-std': Array([0.00536657, 0.02223421, 0.01416742, 0.0197626 , 0.01345505],      dtype=float32),\n",
       " 'task1': Array([0.98600006, 0.9748001 , 0.93139994, 0.92280006, 0.93      ],      dtype=float32),\n",
       " 'task1-std': Array([0.00536657, 0.0123677 , 0.02156016, 0.0185731 , 0.00903327],      dtype=float32)}"
      ]
     },
     "execution_count": 66,
     "metadata": {},
     "output_type": "execute_result"
    }
   ],
   "source": [
    "online_sgd_res"
   ]
  },
  {
   "cell_type": "markdown",
   "metadata": {},
   "source": [
    "# 8. Replay-Buffer SGD"
   ]
  },
  {
   "cell_type": "markdown",
   "metadata": {},
   "source": [
    "## 8.1 Hyperparameter Tuning"
   ]
  },
  {
   "cell_type": "code",
   "execution_count": 58,
   "metadata": {},
   "outputs": [],
   "source": [
    "@partial(jit, static_argnames=(\"applyfn\",))\n",
    "def lossfn_fifo(params, counter, X, y, applyfn):\n",
    "    logits = vmap(applyfn, (None, 0))(params, X).ravel()\n",
    "    nll = optax.sigmoid_binary_cross_entropy(logits=logits, labels=y.ravel())\n",
    "    nll = nll.sum(axis=-1)\n",
    "    loss = (nll * counter).sum() / counter.sum()\n",
    "    return loss"
   ]
  },
  {
   "cell_type": "code",
   "execution_count": 59,
   "metadata": {},
   "outputs": [],
   "source": [
    "def rsgd_opt_fn(log_lr, n_inner, buffer_size=50):\n",
    "    tx = optax.sgd(jnp.power(10, log_lr))\n",
    "    rsgd_state = rsgd.FifoTrainState.create(\n",
    "        apply_fn=apply_fn,\n",
    "        params=flat_params,\n",
    "        tx=tx,\n",
    "        buffer_size=buffer_size,\n",
    "        dim_features=[1, 28, 28, 1],\n",
    "        dim_output=1,\n",
    "    )\n",
    "    estimator = rsgd.FifoSGD(lossfn_fifo, n_inner=int(n_inner))\n",
    "    \n",
    "    bel, _ = estimator.scan(Xtr, Ytr, bel=rsgd_state)\n",
    "    result = ll_callback(bel, X_test=Xte, y_test=Yte, apply_fn=apply_fn)['test']\n",
    "    \n",
    "    return result\n",
    "    "
   ]
  },
  {
   "cell_type": "code",
   "execution_count": 60,
   "metadata": {},
   "outputs": [],
   "source": [
    "rsgd_pbounds = {\n",
    "    'log_lr': (-8.0, 0.0),\n",
    "    'n_inner': (1, 100),\n",
    "}\n",
    "\n",
    "rsgd_optimizer = BayesianOptimization(\n",
    "    f=partial(rsgd_opt_fn, buffer_size=50),\n",
    "    pbounds=rsgd_pbounds,\n",
    ")"
   ]
  },
  {
   "cell_type": "code",
   "execution_count": 61,
   "metadata": {},
   "outputs": [
    {
     "name": "stdout",
     "output_type": "stream",
     "text": [
      "|   iter    |  target   |  log_lr   |  n_inner  |\n",
      "-------------------------------------------------\n",
      "| \u001b[0m1        \u001b[0m | \u001b[0m-0.6958  \u001b[0m | \u001b[0m-7.929   \u001b[0m | \u001b[0m70.07    \u001b[0m |\n",
      "| \u001b[0m2        \u001b[0m | \u001b[0m-1e+08   \u001b[0m | \u001b[0m-1.798   \u001b[0m | \u001b[0m98.53    \u001b[0m |\n",
      "| \u001b[95m3        \u001b[0m | \u001b[95m-0.6856  \u001b[0m | \u001b[95m-7.687   \u001b[0m | \u001b[95m47.32    \u001b[0m |\n",
      "| \u001b[0m4        \u001b[0m | \u001b[0m-1e+08   \u001b[0m | \u001b[0m-1.393   \u001b[0m | \u001b[0m29.51    \u001b[0m |\n",
      "| \u001b[0m5        \u001b[0m | \u001b[0m-0.8126  \u001b[0m | \u001b[0m-5.917   \u001b[0m | \u001b[0m87.71    \u001b[0m |\n",
      "| \u001b[0m6        \u001b[0m | \u001b[0m-1.58    \u001b[0m | \u001b[0m-5.231   \u001b[0m | \u001b[0m89.06    \u001b[0m |\n",
      "| \u001b[95m7        \u001b[0m | \u001b[95m-0.6597  \u001b[0m | \u001b[95m-7.763   \u001b[0m | \u001b[95m83.63    \u001b[0m |\n",
      "| \u001b[0m8        \u001b[0m | \u001b[0m-1e+08   \u001b[0m | \u001b[0m-1.485   \u001b[0m | \u001b[0m94.13    \u001b[0m |\n",
      "| \u001b[95m9        \u001b[0m | \u001b[95m-0.6502  \u001b[0m | \u001b[95m-7.375   \u001b[0m | \u001b[95m38.12    \u001b[0m |\n",
      "| \u001b[0m10       \u001b[0m | \u001b[0m-1.966   \u001b[0m | \u001b[0m-3.892   \u001b[0m | \u001b[0m9.38     \u001b[0m |\n",
      "| \u001b[0m11       \u001b[0m | \u001b[0m-1e+08   \u001b[0m | \u001b[0m-0.1586  \u001b[0m | \u001b[0m26.8     \u001b[0m |\n",
      "| \u001b[0m12       \u001b[0m | \u001b[0m-3.772   \u001b[0m | \u001b[0m-2.321   \u001b[0m | \u001b[0m76.0     \u001b[0m |\n",
      "| \u001b[0m13       \u001b[0m | \u001b[0m-1e+08   \u001b[0m | \u001b[0m-0.4651  \u001b[0m | \u001b[0m66.31    \u001b[0m |\n",
      "| \u001b[0m14       \u001b[0m | \u001b[0m-3.478   \u001b[0m | \u001b[0m-2.491   \u001b[0m | \u001b[0m32.46    \u001b[0m |\n",
      "| \u001b[0m15       \u001b[0m | \u001b[0m-1.523   \u001b[0m | \u001b[0m-5.318   \u001b[0m | \u001b[0m96.35    \u001b[0m |\n",
      "| \u001b[0m16       \u001b[0m | \u001b[0m-1e+08   \u001b[0m | \u001b[0m-2.086   \u001b[0m | \u001b[0m33.33    \u001b[0m |\n",
      "| \u001b[0m17       \u001b[0m | \u001b[0m-1e+08   \u001b[0m | \u001b[0m-0.0409  \u001b[0m | \u001b[0m18.1     \u001b[0m |\n",
      "| \u001b[0m18       \u001b[0m | \u001b[0m-3.533   \u001b[0m | \u001b[0m-3.505   \u001b[0m | \u001b[0m66.27    \u001b[0m |\n",
      "| \u001b[0m19       \u001b[0m | \u001b[0m-2.671   \u001b[0m | \u001b[0m-4.242   \u001b[0m | \u001b[0m69.49    \u001b[0m |\n",
      "| \u001b[0m20       \u001b[0m | \u001b[0m-2.706   \u001b[0m | \u001b[0m-2.244   \u001b[0m | \u001b[0m41.6     \u001b[0m |\n",
      "| \u001b[0m21       \u001b[0m | \u001b[0m-0.7184  \u001b[0m | \u001b[0m-7.728   \u001b[0m | \u001b[0m28.36    \u001b[0m |\n",
      "| \u001b[0m22       \u001b[0m | \u001b[0m-4.6     \u001b[0m | \u001b[0m-2.814   \u001b[0m | \u001b[0m20.74    \u001b[0m |\n",
      "| \u001b[0m23       \u001b[0m | \u001b[0m-2.478   \u001b[0m | \u001b[0m-4.044   \u001b[0m | \u001b[0m33.4     \u001b[0m |\n",
      "| \u001b[95m24       \u001b[0m | \u001b[95m-0.6304  \u001b[0m | \u001b[95m-6.108   \u001b[0m | \u001b[95m81.38    \u001b[0m |\n",
      "| \u001b[0m25       \u001b[0m | \u001b[0m-4.563   \u001b[0m | \u001b[0m-2.858   \u001b[0m | \u001b[0m20.75    \u001b[0m |\n",
      "| \u001b[0m26       \u001b[0m | \u001b[0m-3.216   \u001b[0m | \u001b[0m-3.427   \u001b[0m | \u001b[0m32.23    \u001b[0m |\n",
      "| \u001b[95m27       \u001b[0m | \u001b[95m-0.4125  \u001b[0m | \u001b[95m-6.763   \u001b[0m | \u001b[95m82.57    \u001b[0m |\n",
      "| \u001b[0m28       \u001b[0m | \u001b[0m-2.928   \u001b[0m | \u001b[0m-4.02    \u001b[0m | \u001b[0m67.94    \u001b[0m |\n",
      "| \u001b[0m29       \u001b[0m | \u001b[0m-0.5961  \u001b[0m | \u001b[0m-6.086   \u001b[0m | \u001b[0m69.39    \u001b[0m |\n",
      "| \u001b[0m30       \u001b[0m | \u001b[0m-0.9954  \u001b[0m | \u001b[0m-5.624   \u001b[0m | \u001b[0m67.76    \u001b[0m |\n",
      "| \u001b[0m31       \u001b[0m | \u001b[0m-0.6253  \u001b[0m | \u001b[0m-7.501   \u001b[0m | \u001b[0m68.33    \u001b[0m |\n",
      "| \u001b[0m32       \u001b[0m | \u001b[0m-1.391   \u001b[0m | \u001b[0m-5.262   \u001b[0m | \u001b[0m65.98    \u001b[0m |\n",
      "| \u001b[0m33       \u001b[0m | \u001b[0m-0.6936  \u001b[0m | \u001b[0m-7.974   \u001b[0m | \u001b[0m81.32    \u001b[0m |\n",
      "| \u001b[0m34       \u001b[0m | \u001b[0m-0.5623  \u001b[0m | \u001b[0m-5.816   \u001b[0m | \u001b[0m33.38    \u001b[0m |\n",
      "| \u001b[0m35       \u001b[0m | \u001b[0m-0.9917  \u001b[0m | \u001b[0m-5.345   \u001b[0m | \u001b[0m35.24    \u001b[0m |\n",
      "| \u001b[0m36       \u001b[0m | \u001b[0m-0.6392  \u001b[0m | \u001b[0m-7.293   \u001b[0m | \u001b[0m36.01    \u001b[0m |\n",
      "| \u001b[0m37       \u001b[0m | \u001b[0m-0.7918  \u001b[0m | \u001b[0m-5.568   \u001b[0m | \u001b[0m37.33    \u001b[0m |\n",
      "| \u001b[0m38       \u001b[0m | \u001b[0m-0.5928  \u001b[0m | \u001b[0m-6.182   \u001b[0m | \u001b[0m85.32    \u001b[0m |\n",
      "| \u001b[0m39       \u001b[0m | \u001b[0m-0.6939  \u001b[0m | \u001b[0m-8.0     \u001b[0m | \u001b[0m86.28    \u001b[0m |\n",
      "| \u001b[0m40       \u001b[0m | \u001b[0m-0.6389  \u001b[0m | \u001b[0m-7.677   \u001b[0m | \u001b[0m88.83    \u001b[0m |\n",
      "| \u001b[95m41       \u001b[0m | \u001b[95m-0.4088  \u001b[0m | \u001b[95m-6.655   \u001b[0m | \u001b[95m90.79    \u001b[0m |\n",
      "| \u001b[0m42       \u001b[0m | \u001b[0m-2.685   \u001b[0m | \u001b[0m-3.957   \u001b[0m | \u001b[0m39.88    \u001b[0m |\n",
      "| \u001b[0m43       \u001b[0m | \u001b[0m-0.4165  \u001b[0m | \u001b[0m-6.233   \u001b[0m | \u001b[0m39.77    \u001b[0m |\n",
      "| \u001b[0m44       \u001b[0m | \u001b[0m-1.846   \u001b[0m | \u001b[0m-4.669   \u001b[0m | \u001b[0m41.95    \u001b[0m |\n",
      "| \u001b[0m45       \u001b[0m | \u001b[0m-3.75    \u001b[0m | \u001b[0m-3.052   \u001b[0m | \u001b[0m43.54    \u001b[0m |\n",
      "=================================================\n"
     ]
    }
   ],
   "source": [
    "rsgd_optimizer.maximize(\n",
    "    init_points=20,\n",
    "    n_iter=25,\n",
    ")"
   ]
  },
  {
   "cell_type": "code",
   "execution_count": 63,
   "metadata": {},
   "outputs": [
    {
     "name": "stdout",
     "output_type": "stream",
     "text": [
      "{'target': -0.4087880551815033, 'params': {'log_lr': -6.655448096562242, 'n_inner': 90.79464733748961}}\n"
     ]
    }
   ],
   "source": [
    "# 'log_lr': -6.655448096562242, 'n_inner': 90.79464733748961\n",
    "print(rsgd_optimizer.max)"
   ]
  },
  {
   "cell_type": "markdown",
   "metadata": {},
   "source": [
    "## 8.2 Test-Set Accuracy"
   ]
  },
  {
   "cell_type": "code",
   "execution_count": 64,
   "metadata": {},
   "outputs": [],
   "source": [
    "log_lr=-6.655448096562242\n",
    "n_inner=90.79464733748961\n",
    "\n",
    "tx = optax.sgd(jnp.power(10, log_lr))\n",
    "rsgd_state = rsgd.FifoTrainState.create(\n",
    "    apply_fn=apply_fn,\n",
    "    params=flat_params,\n",
    "    tx=tx,\n",
    "    buffer_size=50,\n",
    "    dim_features=[1, 28, 28, 1],\n",
    "    dim_output=1,\n",
    ")\n",
    "rsgd_estimator = rsgd.FifoSGD(lossfn_fifo, n_inner=int(n_inner))"
   ]
  },
  {
   "cell_type": "code",
   "execution_count": 65,
   "metadata": {},
   "outputs": [
    {
     "name": "stderr",
     "output_type": "stream",
     "text": [
      "100%|██████████| 10/10 [05:06<00:00, 30.63s/it]\n"
     ]
    }
   ],
   "source": [
    "rsgd_result = evaluate_model(rsgd_estimator, n_iter=10, bel=rsgd_state)"
   ]
  },
  {
   "cell_type": "markdown",
   "metadata": {},
   "source": [
    "# 9. Online SGD"
   ]
  },
  {
   "cell_type": "markdown",
   "metadata": {},
   "source": [
    "## 9.1 Hyperparam Tuning"
   ]
  },
  {
   "cell_type": "code",
   "execution_count": null,
   "metadata": {},
   "outputs": [],
   "source": [
    "rsgd_pbounds = {\n",
    "    'log_lr': (-8.0, 0.0),\n",
    "}\n",
    "\n",
    "rsgd_optimizer = BayesianOptimization(\n",
    "    f=partial(rsgd_opt_fn, n_inner=1, buffer_size=1),\n",
    "    pbounds=rsgd_pbounds,\n",
    ")"
   ]
  },
  {
   "cell_type": "markdown",
   "metadata": {},
   "source": [
    "## 9.2 Test Set Accuracy"
   ]
  },
  {
   "cell_type": "code",
   "execution_count": 99,
   "metadata": {},
   "outputs": [],
   "source": [
    "log_lr = -8.002226880539872\n",
    "n_inner=1\n",
    "\n",
    "tx = optax.sgd(jnp.exp(log_lr))\n",
    "online_sgd_state = rsgd.FifoTrainState.create(\n",
    "    apply_fn=apply_fn,\n",
    "    params=flat_params,\n",
    "    tx=tx,\n",
    "    buffer_size=1,\n",
    "    dim_features=[1, 28, 28, 1],\n",
    "    dim_output=1,\n",
    ")\n",
    "online_sgd_estimator = rsgd.FifoSGD(lossfn_fifo, n_inner=int(n_inner))"
   ]
  },
  {
   "cell_type": "code",
   "execution_count": 100,
   "metadata": {},
   "outputs": [
    {
     "name": "stderr",
     "output_type": "stream",
     "text": [
      "100%|██████████| 10/10 [04:33<00:00, 27.35s/it]\n"
     ]
    }
   ],
   "source": [
    "online_sgd_result = evaluate_model(online_sgd_estimator, n_iter=10, bel=online_sgd_state)"
   ]
  },
  {
   "cell_type": "markdown",
   "metadata": {
    "id": "Xx2ft2j0iJbd"
   },
   "source": [
    "# 10. Offline SGD (baseline)"
   ]
  },
  {
   "cell_type": "code",
   "execution_count": 21,
   "metadata": {
    "id": "P8Mhe_CZiPTv"
   },
   "outputs": [],
   "source": [
    "num_epochs, batch_size, key = 20_000, 32, jr.PRNGKey(0)\n",
    "\n",
    "sgd_state = TrainState.create(\n",
    "    apply_fn=apply_fn,\n",
    "    params=flat_params,\n",
    "    tx=optax.sgd(learning_rate=1e-2)\n",
    ")"
   ]
  },
  {
   "cell_type": "code",
   "execution_count": 22,
   "metadata": {
    "id": "QuM7qQCxkMI9"
   },
   "outputs": [],
   "source": [
    "@partial(jit, static_argnums=(3,))\n",
    "def sgd_loss_fn(params, X_batch, y_batch, apply_fn):\n",
    "    logits = vmap(apply_fn, (None, 0))(params, X_batch).ravel()\n",
    "    nll = jnp.mean(optax.sigmoid_binary_cross_entropy(logits, y_batch.ravel()))\n",
    "\n",
    "    return nll"
   ]
  },
  {
   "cell_type": "code",
   "execution_count": 23,
   "metadata": {
    "id": "4DJbvbzmkD7F"
   },
   "outputs": [],
   "source": [
    "sgd_state, losses = sgd.train_full(\n",
    "    key, num_epochs, batch_size, sgd_state, Xtr, Ytr, sgd_loss_fn, Xte, Yte\n",
    ")"
   ]
  },
  {
   "cell_type": "code",
   "execution_count": 24,
   "metadata": {
    "id": "ODiHrOIqq0Oc"
   },
   "outputs": [],
   "source": [
    "offline_sgd_overall_acc = evaluate_accuracy(sgd_state.params, apply_fn, Xte, Yte)\n",
    "offline_sgd_task1_accuracy = evaluate_accuracy(sgd_state.params, apply_fn, Xte[:ntest_per_batch], Yte[:ntest_per_batch])"
   ]
  },
  {
   "cell_type": "code",
   "execution_count": 25,
   "metadata": {
    "id": "G6wnPklyrCQx"
   },
   "outputs": [
    {
     "data": {
      "text/plain": [
       "Array(0.932, dtype=float32)"
      ]
     },
     "execution_count": 25,
     "metadata": {},
     "output_type": "execute_result"
    }
   ],
   "source": [
    "offline_sgd_overall_acc"
   ]
  },
  {
   "cell_type": "code",
   "execution_count": 26,
   "metadata": {
    "id": "DKJNb3_NrMqy"
   },
   "outputs": [
    {
     "data": {
      "text/plain": [
       "Array(0.966, dtype=float32)"
      ]
     },
     "execution_count": 26,
     "metadata": {},
     "output_type": "execute_result"
    }
   ],
   "source": [
    "offline_sgd_task1_accuracy"
   ]
  },
  {
   "cell_type": "markdown",
   "metadata": {
    "id": "vuOwb_lJB0lT"
   },
   "source": [
    "# 11. Model Comparison"
   ]
  },
  {
   "cell_type": "code",
   "execution_count": 152,
   "metadata": {},
   "outputs": [],
   "source": [
    "results = {\n",
    "    'sgd-online': online_sgd_result,\n",
    "    'sgd-rb': rsgd_result,\n",
    "    'fdekf': fdekf_res,\n",
    "    'vdekf': vdekf_res,\n",
    "    'lofi-1': lofi_1_res,\n",
    "    'lofi-5': lofi_5_res,\n",
    "    'lofi-50': lofi_50_res,\n",
    "}"
   ]
  },
  {
   "cell_type": "code",
   "execution_count": 161,
   "metadata": {},
   "outputs": [],
   "source": [
    "from pathlib import Path\n",
    "\n",
    "output_path = Path(Path.cwd(), 'results', 'smnist')\n",
    "output_path.mkdir(parents=True, exist_ok=True)\n",
    "name = 'miscl_results'\n",
    "filename = f'{output_path}_{name}.pkl'\n",
    "with open(filename, \"wb\") as f:\n",
    "    pickle.dump(results, f)"
   ]
  },
  {
   "cell_type": "code",
   "execution_count": 162,
   "metadata": {},
   "outputs": [],
   "source": [
    "boundaries = [i for i in range(200, 1001, 200)]"
   ]
  },
  {
   "cell_type": "markdown",
   "metadata": {},
   "source": [
    "## 11.1 Cumulative Tasks"
   ]
  },
  {
   "cell_type": "code",
   "execution_count": 165,
   "metadata": {},
   "outputs": [
    {
     "data": {
      "image/png": "[encoded data removed]",
      "text/plain": [
       "<Figure size 640x480 with 1 Axes>"
      ]
     },
     "metadata": {},
     "output_type": "display_data"
    }
   ],
   "source": [
    "fig, ax = plt.subplots()\n",
    "for key, val in results.items():\n",
    "    ax.plot(1.0 - val['overall'], label=key)\n",
    "    ax.fill_between(\n",
    "        jnp.arange(val['overall'].shape[0]),\n",
    "        1.0 - val['overall'] - val['overall-std'],\n",
    "        1.0 - val['overall'] + val['overall-std'],\n",
    "        alpha=0.3\n",
    "    )\n",
    "# Task boundaries\n",
    "for b in boundaries:\n",
    "    ax.axvline(x=b, color='k', linestyle='--', alpha=0.5)\n",
    "ax.set_xlabel('Number of observations')\n",
    "ax.set_ylabel('Test-set average misclassification rate');\n",
    "# ax.set_title(f'Cumulative tasks test-set average misclassification rate')\n",
    "ax.grid(alpha=0.5)\n",
    "ax.legend();\n",
    "fig.savefig(f'{output_path}_{name}.pdf', bbox_inches='tight')"
   ]
  },
  {
   "cell_type": "markdown",
   "metadata": {},
   "source": [
    "## 11.2 Current Task"
   ]
  },
  {
   "cell_type": "code",
   "execution_count": 164,
   "metadata": {
    "colab": {
     "base_uri": "https://localhost:8080/",
     "height": 295
    },
    "id": "8G4ZUDk0rLJ0",
    "outputId": "ad932635-2f8a-43cb-c5da-07085733d0b2"
   },
   "outputs": [
    {
     "data": {
      "image/png": "[encoded data removed]",
      "text/plain": [
       "<Figure size 640x480 with 1 Axes>"
      ]
     },
     "metadata": {},
     "output_type": "display_data"
    }
   ],
   "source": [
    "fig, ax = plt.subplots()\n",
    "for key, val in results.items():\n",
    "    ax.plot(1.0 - val['current'], label=key)\n",
    "    ax.fill_between(\n",
    "        jnp.arange(val['current'].shape[0]),\n",
    "        1.0 - val['current'] - val['current-std'],\n",
    "        1.0 - val['current'] + val['current-std'],\n",
    "        alpha=0.3\n",
    "    )\n",
    "# Task boundaries\n",
    "for b in boundaries:\n",
    "    ax.axvline(x=b, color='k', linestyle='--', alpha=0.5)\n",
    "ax.set_xlabel('Number of observations')\n",
    "ax.set_ylabel('Test-set average misclassification rate');\n",
    "ax.set_title(f'Current task test-set average misclassification rate')\n",
    "ax.grid(alpha=0.5)\n",
    "ax.legend();"
   ]
  },
  {
   "cell_type": "markdown",
   "metadata": {},
   "source": [
    "## 11.3 Task 1"
   ]
  },
  {
   "cell_type": "code",
   "execution_count": 157,
   "metadata": {
    "id": "nl-nTItqsK2O"
   },
   "outputs": [
    {
     "data": {
      "image/png": "[encoded data removed]",
      "text/plain": [
       "<Figure size 640x480 with 1 Axes>"
      ]
     },
     "metadata": {},
     "output_type": "display_data"
    }
   ],
   "source": [
    "fig, ax = plt.subplots()\n",
    "for key, val in results.items():\n",
    "    ax.plot(1.0 - val['task1'], label=key)\n",
    "    ax.fill_between(\n",
    "        jnp.arange(val['task1'].shape[0]),\n",
    "        1.0 - val['task1'] - val['task1-std'],\n",
    "        1.0 - val['task1'] + val['task1-std'],\n",
    "        alpha=0.3\n",
    "    )\n",
    "# Task boundaries\n",
    "for b in boundaries:\n",
    "    ax.axvline(x=b, color='k', linestyle='--', alpha=0.5)\n",
    "ax.set_xlabel('Number of training examples seen')\n",
    "ax.set_ylabel('Test-set average misclassification rate');\n",
    "ax.set_title(f'First task test-set average misclassification rate')\n",
    "ax.legend();"
   ]
  },
  {
   "cell_type": "code",
   "execution_count": null,
   "metadata": {},
   "outputs": [],
   "source": []
  }
 ],
 "metadata": {
  "accelerator": "GPU",
  "colab": {
   "machine_shape": "hm",
   "provenance": []
  },
  "gpuClass": "premium",
  "kernelspec": {
   "display_name": "Python 3 (ipykernel)",
   "language": "python",
   "name": "python3"
  },
  "language_info": {
   "codemirror_mode": {
    "name": "ipython",
    "version": 3
   },
   "file_extension": ".py",
   "mimetype": "text/x-python",
   "name": "python",
   "nbconvert_exporter": "python",
   "pygments_lexer": "ipython3",
   "version": "3.10.8"
  },
  "vscode": {
   "interpreter": {
    "hash": "a63216e3e6a2ce617ef04b00f48ca414857cfc892c8cff43a5943fdd36fca11d"
   }
  },
  "widgets": {
   "application/vnd.jupyter.widget-state+json": {
    "005932f3b9c143a49850f6aa8a7d760d": {
     "model_module": "@jupyter-widgets/controls",
     "model_module_version": "1.5.0",
     "model_name": "ProgressStyleModel",
     "state": {
      "_model_module": "@jupyter-widgets/controls",
      "_model_module_version": "1.5.0",
      "_model_name": "ProgressStyleModel",
      "_view_count": null,
      "_view_module": "@jupyter-widgets/base",
      "_view_module_version": "1.2.0",
      "_view_name": "StyleView",
      "bar_color": null,
      "description_width": ""
     }
    },
    "01da9718d9e54a6989b6d46c036d8872": {
     "model_module": "@jupyter-widgets/base",
     "model_module_version": "1.2.0",
     "model_name": "LayoutModel",
     "state": {
      "_model_module": "@jupyter-widgets/base",
      "_model_module_version": "1.2.0",
      "_model_name": "LayoutModel",
      "_view_count": null,
      "_view_module": "@jupyter-widgets/base",
      "_view_module_version": "1.2.0",
      "_view_name": "LayoutView",
      "align_content": null,
      "align_items": null,
      "align_self": null,
      "border": null,
      "bottom": null,
      "display": null,
      "flex": null,
      "flex_flow": null,
      "grid_area": null,
      "grid_auto_columns": null,
      "grid_auto_flow": null,
      "grid_auto_rows": null,
      "grid_column": null,
      "grid_gap": null,
      "grid_row": null,
      "grid_template_areas": null,
      "grid_template_columns": null,
      "grid_template_rows": null,
      "height": null,
      "justify_content": null,
      "justify_items": null,
      "left": null,
      "margin": null,
      "max_height": null,
      "max_width": null,
      "min_height": null,
      "min_width": null,
      "object_fit": null,
      "object_position": null,
      "order": null,
      "overflow": null,
      "overflow_x": null,
      "overflow_y": null,
      "padding": null,
      "right": null,
      "top": null,
      "visibility": null,
      "width": null
     }
    },
    "08ecd674c06e4e3da8f542bf1db1187f": {
     "model_module": "@jupyter-widgets/controls",
     "model_module_version": "1.5.0",
     "model_name": "HTMLModel",
     "state": {
      "_dom_classes": [],
      "_model_module": "@jupyter-widgets/controls",
      "_model_module_version": "1.5.0",
      "_model_name": "HTMLModel",
      "_view_count": null,
      "_view_module": "@jupyter-widgets/controls",
      "_view_module_version": "1.5.0",
      "_view_name": "HTMLView",
      "description": "",
      "description_tooltip": null,
      "layout": "IPY_MODEL_d10cc31cbaf94dd6a45f298bce9baafb",
      "placeholder": "​",
      "style": "IPY_MODEL_5f63026c0dac47efa45ca9710dbbfb57",
      "value": "100%"
     }
    },
    "0a9f99c1002b4173a3f3b0a647012881": {
     "model_module": "@jupyter-widgets/controls",
     "model_module_version": "1.5.0",
     "model_name": "HTMLModel",
     "state": {
      "_dom_classes": [],
      "_model_module": "@jupyter-widgets/controls",
      "_model_module_version": "1.5.0",
      "_model_name": "HTMLModel",
      "_view_count": null,
      "_view_module": "@jupyter-widgets/controls",
      "_view_module_version": "1.5.0",
      "_view_name": "HTMLView",
      "description": "",
      "description_tooltip": null,
      "layout": "IPY_MODEL_410dfb2921a0472bbc92c741d06e8554",
      "placeholder": "​",
      "style": "IPY_MODEL_2bfdfca3232f4f7ab2a2316ad71f3023",
      "value": " 9912422/9912422 [00:00&lt;00:00, 46194443.57it/s]"
     }
    },
    "11eb4a4b7f63490dad02356aa0f2167c": {
     "model_module": "@jupyter-widgets/base",
     "model_module_version": "1.2.0",
     "model_name": "LayoutModel",
     "state": {
      "_model_module": "@jupyter-widgets/base",
      "_model_module_version": "1.2.0",
      "_model_name": "LayoutModel",
      "_view_count": null,
      "_view_module": "@jupyter-widgets/base",
      "_view_module_version": "1.2.0",
      "_view_name": "LayoutView",
      "align_content": null,
      "align_items": null,
      "align_self": null,
      "border": null,
      "bottom": null,
      "display": null,
      "flex": null,
      "flex_flow": null,
      "grid_area": null,
      "grid_auto_columns": null,
      "grid_auto_flow": null,
      "grid_auto_rows": null,
      "grid_column": null,
      "grid_gap": null,
      "grid_row": null,
      "grid_template_areas": null,
      "grid_template_columns": null,
      "grid_template_rows": null,
      "height": null,
      "justify_content": null,
      "justify_items": null,
      "left": null,
      "margin": null,
      "max_height": null,
      "max_width": null,
      "min_height": null,
      "min_width": null,
      "object_fit": null,
      "object_position": null,
      "order": null,
      "overflow": null,
      "overflow_x": null,
      "overflow_y": null,
      "padding": null,
      "right": null,
      "top": null,
      "visibility": null,
      "width": null
     }
    },
    "150a1746b1e34259ace05a7418f72248": {
     "model_module": "@jupyter-widgets/base",
     "model_module_version": "1.2.0",
     "model_name": "LayoutModel",
     "state": {
      "_model_module": "@jupyter-widgets/base",
      "_model_module_version": "1.2.0",
      "_model_name": "LayoutModel",
      "_view_count": null,
      "_view_module": "@jupyter-widgets/base",
      "_view_module_version": "1.2.0",
      "_view_name": "LayoutView",
      "align_content": null,
      "align_items": null,
      "align_self": null,
      "border": null,
      "bottom": null,
      "display": null,
      "flex": null,
      "flex_flow": null,
      "grid_area": null,
      "grid_auto_columns": null,
      "grid_auto_flow": null,
      "grid_auto_rows": null,
      "grid_column": null,
      "grid_gap": null,
      "grid_row": null,
      "grid_template_areas": null,
      "grid_template_columns": null,
      "grid_template_rows": null,
      "height": null,
      "justify_content": null,
      "justify_items": null,
      "left": null,
      "margin": null,
      "max_height": null,
      "max_width": null,
      "min_height": null,
      "min_width": null,
      "object_fit": null,
      "object_position": null,
      "order": null,
      "overflow": null,
      "overflow_x": null,
      "overflow_y": null,
      "padding": null,
      "right": null,
      "top": null,
      "visibility": null,
      "width": null
     }
    },
    "16f4ab4a234d46e0978328b87cbb9724": {
     "model_module": "@jupyter-widgets/base",
     "model_module_version": "1.2.0",
     "model_name": "LayoutModel",
     "state": {
      "_model_module": "@jupyter-widgets/base",
      "_model_module_version": "1.2.0",
      "_model_name": "LayoutModel",
      "_view_count": null,
      "_view_module": "@jupyter-widgets/base",
      "_view_module_version": "1.2.0",
      "_view_name": "LayoutView",
      "align_content": null,
      "align_items": null,
      "align_self": null,
      "border": null,
      "bottom": null,
      "display": null,
      "flex": null,
      "flex_flow": null,
      "grid_area": null,
      "grid_auto_columns": null,
      "grid_auto_flow": null,
      "grid_auto_rows": null,
      "grid_column": null,
      "grid_gap": null,
      "grid_row": null,
      "grid_template_areas": null,
      "grid_template_columns": null,
      "grid_template_rows": null,
      "height": null,
      "justify_content": null,
      "justify_items": null,
      "left": null,
      "margin": null,
      "max_height": null,
      "max_width": null,
      "min_height": null,
      "min_width": null,
      "object_fit": null,
      "object_position": null,
      "order": null,
      "overflow": null,
      "overflow_x": null,
      "overflow_y": null,
      "padding": null,
      "right": null,
      "top": null,
      "visibility": null,
      "width": null
     }
    },
    "17020c19a20941b49a3e160afa48dd9f": {
     "model_module": "@jupyter-widgets/base",
     "model_module_version": "1.2.0",
     "model_name": "LayoutModel",
     "state": {
      "_model_module": "@jupyter-widgets/base",
      "_model_module_version": "1.2.0",
      "_model_name": "LayoutModel",
      "_view_count": null,
      "_view_module": "@jupyter-widgets/base",
      "_view_module_version": "1.2.0",
      "_view_name": "LayoutView",
      "align_content": null,
      "align_items": null,
      "align_self": null,
      "border": null,
      "bottom": null,
      "display": null,
      "flex": null,
      "flex_flow": null,
      "grid_area": null,
      "grid_auto_columns": null,
      "grid_auto_flow": null,
      "grid_auto_rows": null,
      "grid_column": null,
      "grid_gap": null,
      "grid_row": null,
      "grid_template_areas": null,
      "grid_template_columns": null,
      "grid_template_rows": null,
      "height": null,
      "justify_content": null,
      "justify_items": null,
      "left": null,
      "margin": null,
      "max_height": null,
      "max_width": null,
      "min_height": null,
      "min_width": null,
      "object_fit": null,
      "object_position": null,
      "order": null,
      "overflow": null,
      "overflow_x": null,
      "overflow_y": null,
      "padding": null,
      "right": null,
      "top": null,
      "visibility": null,
      "width": null
     }
    },
    "245f9f95fc3a479d937c21666e64369d": {
     "model_module": "@jupyter-widgets/controls",
     "model_module_version": "1.5.0",
     "model_name": "FloatProgressModel",
     "state": {
      "_dom_classes": [],
      "_model_module": "@jupyter-widgets/controls",
      "_model_module_version": "1.5.0",
      "_model_name": "FloatProgressModel",
      "_view_count": null,
      "_view_module": "@jupyter-widgets/controls",
      "_view_module_version": "1.5.0",
      "_view_name": "ProgressView",
      "bar_style": "success",
      "description": "",
      "description_tooltip": null,
      "layout": "IPY_MODEL_c050ea1dcc014f208cff9794867ba5d3",
      "max": 1648877,
      "min": 0,
      "orientation": "horizontal",
      "style": "IPY_MODEL_ced77a6d9060428cb463683f72059150",
      "value": 1648877
     }
    },
    "2bfdfca3232f4f7ab2a2316ad71f3023": {
     "model_module": "@jupyter-widgets/controls",
     "model_module_version": "1.5.0",
     "model_name": "DescriptionStyleModel",
     "state": {
      "_model_module": "@jupyter-widgets/controls",
      "_model_module_version": "1.5.0",
      "_model_name": "DescriptionStyleModel",
      "_view_count": null,
      "_view_module": "@jupyter-widgets/base",
      "_view_module_version": "1.2.0",
      "_view_name": "StyleView",
      "description_width": ""
     }
    },
    "410dfb2921a0472bbc92c741d06e8554": {
     "model_module": "@jupyter-widgets/base",
     "model_module_version": "1.2.0",
     "model_name": "LayoutModel",
     "state": {
      "_model_module": "@jupyter-widgets/base",
      "_model_module_version": "1.2.0",
      "_model_name": "LayoutModel",
      "_view_count": null,
      "_view_module": "@jupyter-widgets/base",
      "_view_module_version": "1.2.0",
      "_view_name": "LayoutView",
      "align_content": null,
      "align_items": null,
      "align_self": null,
      "border": null,
      "bottom": null,
      "display": null,
      "flex": null,
      "flex_flow": null,
      "grid_area": null,
      "grid_auto_columns": null,
      "grid_auto_flow": null,
      "grid_auto_rows": null,
      "grid_column": null,
      "grid_gap": null,
      "grid_row": null,
      "grid_template_areas": null,
      "grid_template_columns": null,
      "grid_template_rows": null,
      "height": null,
      "justify_content": null,
      "justify_items": null,
      "left": null,
      "margin": null,
      "max_height": null,
      "max_width": null,
      "min_height": null,
      "min_width": null,
      "object_fit": null,
      "object_position": null,
      "order": null,
      "overflow": null,
      "overflow_x": null,
      "overflow_y": null,
      "padding": null,
      "right": null,
      "top": null,
      "visibility": null,
      "width": null
     }
    },
    "47742ba92db34ad69561cc870707d90f": {
     "model_module": "@jupyter-widgets/controls",
     "model_module_version": "1.5.0",
     "model_name": "HBoxModel",
     "state": {
      "_dom_classes": [],
      "_model_module": "@jupyter-widgets/controls",
      "_model_module_version": "1.5.0",
      "_model_name": "HBoxModel",
      "_view_count": null,
      "_view_module": "@jupyter-widgets/controls",
      "_view_module_version": "1.5.0",
      "_view_name": "HBoxView",
      "box_style": "",
      "children": [
       "IPY_MODEL_08ecd674c06e4e3da8f542bf1db1187f",
       "IPY_MODEL_245f9f95fc3a479d937c21666e64369d",
       "IPY_MODEL_ef75b59cacab4818a1d6f4e24267ccaf"
      ],
      "layout": "IPY_MODEL_b7fca93a57b54f06abbdd690268a6d4b"
     }
    },
    "4811b8c8449c48d692189ef875a8dcf3": {
     "model_module": "@jupyter-widgets/controls",
     "model_module_version": "1.5.0",
     "model_name": "DescriptionStyleModel",
     "state": {
      "_model_module": "@jupyter-widgets/controls",
      "_model_module_version": "1.5.0",
      "_model_name": "DescriptionStyleModel",
      "_view_count": null,
      "_view_module": "@jupyter-widgets/base",
      "_view_module_version": "1.2.0",
      "_view_name": "StyleView",
      "description_width": ""
     }
    },
    "4d4fa6e118ac4fef9d8e10aff92345c6": {
     "model_module": "@jupyter-widgets/controls",
     "model_module_version": "1.5.0",
     "model_name": "DescriptionStyleModel",
     "state": {
      "_model_module": "@jupyter-widgets/controls",
      "_model_module_version": "1.5.0",
      "_model_name": "DescriptionStyleModel",
      "_view_count": null,
      "_view_module": "@jupyter-widgets/base",
      "_view_module_version": "1.2.0",
      "_view_name": "StyleView",
      "description_width": ""
     }
    },
    "4dd06a9e18c54b1d9c33f480817f9141": {
     "model_module": "@jupyter-widgets/base",
     "model_module_version": "1.2.0",
     "model_name": "LayoutModel",
     "state": {
      "_model_module": "@jupyter-widgets/base",
      "_model_module_version": "1.2.0",
      "_model_name": "LayoutModel",
      "_view_count": null,
      "_view_module": "@jupyter-widgets/base",
      "_view_module_version": "1.2.0",
      "_view_name": "LayoutView",
      "align_content": null,
      "align_items": null,
      "align_self": null,
      "border": null,
      "bottom": null,
      "display": null,
      "flex": null,
      "flex_flow": null,
      "grid_area": null,
      "grid_auto_columns": null,
      "grid_auto_flow": null,
      "grid_auto_rows": null,
      "grid_column": null,
      "grid_gap": null,
      "grid_row": null,
      "grid_template_areas": null,
      "grid_template_columns": null,
      "grid_template_rows": null,
      "height": null,
      "justify_content": null,
      "justify_items": null,
      "left": null,
      "margin": null,
      "max_height": null,
      "max_width": null,
      "min_height": null,
      "min_width": null,
      "object_fit": null,
      "object_position": null,
      "order": null,
      "overflow": null,
      "overflow_x": null,
      "overflow_y": null,
      "padding": null,
      "right": null,
      "top": null,
      "visibility": null,
      "width": null
     }
    },
    "4ffdda92fa3445e3a8d0fea8d2ca4af4": {
     "model_module": "@jupyter-widgets/controls",
     "model_module_version": "1.5.0",
     "model_name": "HBoxModel",
     "state": {
      "_dom_classes": [],
      "_model_module": "@jupyter-widgets/controls",
      "_model_module_version": "1.5.0",
      "_model_name": "HBoxModel",
      "_view_count": null,
      "_view_module": "@jupyter-widgets/controls",
      "_view_module_version": "1.5.0",
      "_view_name": "HBoxView",
      "box_style": "",
      "children": [
       "IPY_MODEL_91ddaf79e10d4c5999a4137c0808b7f0",
       "IPY_MODEL_9e366c45289b4bbb92e47e4fa38f205d",
       "IPY_MODEL_660a25eefca84c68b649d3b11214aa41"
      ],
      "layout": "IPY_MODEL_76f8ca5a3c324e99b4c11a363d0b1dde"
     }
    },
    "519884eebee0482b8a95202cba3930ec": {
     "model_module": "@jupyter-widgets/controls",
     "model_module_version": "1.5.0",
     "model_name": "FloatProgressModel",
     "state": {
      "_dom_classes": [],
      "_model_module": "@jupyter-widgets/controls",
      "_model_module_version": "1.5.0",
      "_model_name": "FloatProgressModel",
      "_view_count": null,
      "_view_module": "@jupyter-widgets/controls",
      "_view_module_version": "1.5.0",
      "_view_name": "ProgressView",
      "bar_style": "success",
      "description": "",
      "description_tooltip": null,
      "layout": "IPY_MODEL_c37f7d75423d486ab8910dfa136f0dea",
      "max": 4542,
      "min": 0,
      "orientation": "horizontal",
      "style": "IPY_MODEL_005932f3b9c143a49850f6aa8a7d760d",
      "value": 4542
     }
    },
    "524d584d023f484c94d034a6c3f6eee7": {
     "model_module": "@jupyter-widgets/controls",
     "model_module_version": "1.5.0",
     "model_name": "HBoxModel",
     "state": {
      "_dom_classes": [],
      "_model_module": "@jupyter-widgets/controls",
      "_model_module_version": "1.5.0",
      "_model_name": "HBoxModel",
      "_view_count": null,
      "_view_module": "@jupyter-widgets/controls",
      "_view_module_version": "1.5.0",
      "_view_name": "HBoxView",
      "box_style": "",
      "children": [
       "IPY_MODEL_8cceede0d5b646b184cd53e63be4d10f",
       "IPY_MODEL_56f5ea66685048beaffcd5dca4fd039c",
       "IPY_MODEL_0a9f99c1002b4173a3f3b0a647012881"
      ],
      "layout": "IPY_MODEL_11eb4a4b7f63490dad02356aa0f2167c"
     }
    },
    "56f5ea66685048beaffcd5dca4fd039c": {
     "model_module": "@jupyter-widgets/controls",
     "model_module_version": "1.5.0",
     "model_name": "FloatProgressModel",
     "state": {
      "_dom_classes": [],
      "_model_module": "@jupyter-widgets/controls",
      "_model_module_version": "1.5.0",
      "_model_name": "FloatProgressModel",
      "_view_count": null,
      "_view_module": "@jupyter-widgets/controls",
      "_view_module_version": "1.5.0",
      "_view_name": "ProgressView",
      "bar_style": "success",
      "description": "",
      "description_tooltip": null,
      "layout": "IPY_MODEL_16f4ab4a234d46e0978328b87cbb9724",
      "max": 9912422,
      "min": 0,
      "orientation": "horizontal",
      "style": "IPY_MODEL_aecf9bc059b047bd9796b36412932f58",
      "value": 9912422
     }
    },
    "5f63026c0dac47efa45ca9710dbbfb57": {
     "model_module": "@jupyter-widgets/controls",
     "model_module_version": "1.5.0",
     "model_name": "DescriptionStyleModel",
     "state": {
      "_model_module": "@jupyter-widgets/controls",
      "_model_module_version": "1.5.0",
      "_model_name": "DescriptionStyleModel",
      "_view_count": null,
      "_view_module": "@jupyter-widgets/base",
      "_view_module_version": "1.2.0",
      "_view_name": "StyleView",
      "description_width": ""
     }
    },
    "660a25eefca84c68b649d3b11214aa41": {
     "model_module": "@jupyter-widgets/controls",
     "model_module_version": "1.5.0",
     "model_name": "HTMLModel",
     "state": {
      "_dom_classes": [],
      "_model_module": "@jupyter-widgets/controls",
      "_model_module_version": "1.5.0",
      "_model_name": "HTMLModel",
      "_view_count": null,
      "_view_module": "@jupyter-widgets/controls",
      "_view_module_version": "1.5.0",
      "_view_name": "HTMLView",
      "description": "",
      "description_tooltip": null,
      "layout": "IPY_MODEL_8fec728966d24255952202aaa29eed9a",
      "placeholder": "​",
      "style": "IPY_MODEL_8cbd0cd393474d88ab433797f68ad473",
      "value": " 28881/28881 [00:00&lt;00:00, 1081269.41it/s]"
     }
    },
    "6c6d24ae4067493c8dea86f59dd176f9": {
     "model_module": "@jupyter-widgets/controls",
     "model_module_version": "1.5.0",
     "model_name": "DescriptionStyleModel",
     "state": {
      "_model_module": "@jupyter-widgets/controls",
      "_model_module_version": "1.5.0",
      "_model_name": "DescriptionStyleModel",
      "_view_count": null,
      "_view_module": "@jupyter-widgets/base",
      "_view_module_version": "1.2.0",
      "_view_name": "StyleView",
      "description_width": ""
     }
    },
    "72022f8cc7814caea02df76e9fce1032": {
     "model_module": "@jupyter-widgets/controls",
     "model_module_version": "1.5.0",
     "model_name": "HTMLModel",
     "state": {
      "_dom_classes": [],
      "_model_module": "@jupyter-widgets/controls",
      "_model_module_version": "1.5.0",
      "_model_name": "HTMLModel",
      "_view_count": null,
      "_view_module": "@jupyter-widgets/controls",
      "_view_module_version": "1.5.0",
      "_view_name": "HTMLView",
      "description": "",
      "description_tooltip": null,
      "layout": "IPY_MODEL_4dd06a9e18c54b1d9c33f480817f9141",
      "placeholder": "​",
      "style": "IPY_MODEL_ef075a4650e342e9867d6830ce888460",
      "value": "100%"
     }
    },
    "76f8ca5a3c324e99b4c11a363d0b1dde": {
     "model_module": "@jupyter-widgets/base",
     "model_module_version": "1.2.0",
     "model_name": "LayoutModel",
     "state": {
      "_model_module": "@jupyter-widgets/base",
      "_model_module_version": "1.2.0",
      "_model_name": "LayoutModel",
      "_view_count": null,
      "_view_module": "@jupyter-widgets/base",
      "_view_module_version": "1.2.0",
      "_view_name": "LayoutView",
      "align_content": null,
      "align_items": null,
      "align_self": null,
      "border": null,
      "bottom": null,
      "display": null,
      "flex": null,
      "flex_flow": null,
      "grid_area": null,
      "grid_auto_columns": null,
      "grid_auto_flow": null,
      "grid_auto_rows": null,
      "grid_column": null,
      "grid_gap": null,
      "grid_row": null,
      "grid_template_areas": null,
      "grid_template_columns": null,
      "grid_template_rows": null,
      "height": null,
      "justify_content": null,
      "justify_items": null,
      "left": null,
      "margin": null,
      "max_height": null,
      "max_width": null,
      "min_height": null,
      "min_width": null,
      "object_fit": null,
      "object_position": null,
      "order": null,
      "overflow": null,
      "overflow_x": null,
      "overflow_y": null,
      "padding": null,
      "right": null,
      "top": null,
      "visibility": null,
      "width": null
     }
    },
    "7dc7d33bb90147d295906377a022c98b": {
     "model_module": "@jupyter-widgets/base",
     "model_module_version": "1.2.0",
     "model_name": "LayoutModel",
     "state": {
      "_model_module": "@jupyter-widgets/base",
      "_model_module_version": "1.2.0",
      "_model_name": "LayoutModel",
      "_view_count": null,
      "_view_module": "@jupyter-widgets/base",
      "_view_module_version": "1.2.0",
      "_view_name": "LayoutView",
      "align_content": null,
      "align_items": null,
      "align_self": null,
      "border": null,
      "bottom": null,
      "display": null,
      "flex": null,
      "flex_flow": null,
      "grid_area": null,
      "grid_auto_columns": null,
      "grid_auto_flow": null,
      "grid_auto_rows": null,
      "grid_column": null,
      "grid_gap": null,
      "grid_row": null,
      "grid_template_areas": null,
      "grid_template_columns": null,
      "grid_template_rows": null,
      "height": null,
      "justify_content": null,
      "justify_items": null,
      "left": null,
      "margin": null,
      "max_height": null,
      "max_width": null,
      "min_height": null,
      "min_width": null,
      "object_fit": null,
      "object_position": null,
      "order": null,
      "overflow": null,
      "overflow_x": null,
      "overflow_y": null,
      "padding": null,
      "right": null,
      "top": null,
      "visibility": null,
      "width": null
     }
    },
    "8cbd0cd393474d88ab433797f68ad473": {
     "model_module": "@jupyter-widgets/controls",
     "model_module_version": "1.5.0",
     "model_name": "DescriptionStyleModel",
     "state": {
      "_model_module": "@jupyter-widgets/controls",
      "_model_module_version": "1.5.0",
      "_model_name": "DescriptionStyleModel",
      "_view_count": null,
      "_view_module": "@jupyter-widgets/base",
      "_view_module_version": "1.2.0",
      "_view_name": "StyleView",
      "description_width": ""
     }
    },
    "8cceede0d5b646b184cd53e63be4d10f": {
     "model_module": "@jupyter-widgets/controls",
     "model_module_version": "1.5.0",
     "model_name": "HTMLModel",
     "state": {
      "_dom_classes": [],
      "_model_module": "@jupyter-widgets/controls",
      "_model_module_version": "1.5.0",
      "_model_name": "HTMLModel",
      "_view_count": null,
      "_view_module": "@jupyter-widgets/controls",
      "_view_module_version": "1.5.0",
      "_view_name": "HTMLView",
      "description": "",
      "description_tooltip": null,
      "layout": "IPY_MODEL_7dc7d33bb90147d295906377a022c98b",
      "placeholder": "​",
      "style": "IPY_MODEL_4811b8c8449c48d692189ef875a8dcf3",
      "value": "100%"
     }
    },
    "8fec728966d24255952202aaa29eed9a": {
     "model_module": "@jupyter-widgets/base",
     "model_module_version": "1.2.0",
     "model_name": "LayoutModel",
     "state": {
      "_model_module": "@jupyter-widgets/base",
      "_model_module_version": "1.2.0",
      "_model_name": "LayoutModel",
      "_view_count": null,
      "_view_module": "@jupyter-widgets/base",
      "_view_module_version": "1.2.0",
      "_view_name": "LayoutView",
      "align_content": null,
      "align_items": null,
      "align_self": null,
      "border": null,
      "bottom": null,
      "display": null,
      "flex": null,
      "flex_flow": null,
      "grid_area": null,
      "grid_auto_columns": null,
      "grid_auto_flow": null,
      "grid_auto_rows": null,
      "grid_column": null,
      "grid_gap": null,
      "grid_row": null,
      "grid_template_areas": null,
      "grid_template_columns": null,
      "grid_template_rows": null,
      "height": null,
      "justify_content": null,
      "justify_items": null,
      "left": null,
      "margin": null,
      "max_height": null,
      "max_width": null,
      "min_height": null,
      "min_width": null,
      "object_fit": null,
      "object_position": null,
      "order": null,
      "overflow": null,
      "overflow_x": null,
      "overflow_y": null,
      "padding": null,
      "right": null,
      "top": null,
      "visibility": null,
      "width": null
     }
    },
    "91ddaf79e10d4c5999a4137c0808b7f0": {
     "model_module": "@jupyter-widgets/controls",
     "model_module_version": "1.5.0",
     "model_name": "HTMLModel",
     "state": {
      "_dom_classes": [],
      "_model_module": "@jupyter-widgets/controls",
      "_model_module_version": "1.5.0",
      "_model_name": "HTMLModel",
      "_view_count": null,
      "_view_module": "@jupyter-widgets/controls",
      "_view_module_version": "1.5.0",
      "_view_name": "HTMLView",
      "description": "",
      "description_tooltip": null,
      "layout": "IPY_MODEL_150a1746b1e34259ace05a7418f72248",
      "placeholder": "​",
      "style": "IPY_MODEL_6c6d24ae4067493c8dea86f59dd176f9",
      "value": "100%"
     }
    },
    "9e366c45289b4bbb92e47e4fa38f205d": {
     "model_module": "@jupyter-widgets/controls",
     "model_module_version": "1.5.0",
     "model_name": "FloatProgressModel",
     "state": {
      "_dom_classes": [],
      "_model_module": "@jupyter-widgets/controls",
      "_model_module_version": "1.5.0",
      "_model_name": "FloatProgressModel",
      "_view_count": null,
      "_view_module": "@jupyter-widgets/controls",
      "_view_module_version": "1.5.0",
      "_view_name": "ProgressView",
      "bar_style": "success",
      "description": "",
      "description_tooltip": null,
      "layout": "IPY_MODEL_17020c19a20941b49a3e160afa48dd9f",
      "max": 28881,
      "min": 0,
      "orientation": "horizontal",
      "style": "IPY_MODEL_b52f6c0e7b434310ae3d3ad06c8ef395",
      "value": 28881
     }
    },
    "aecf9bc059b047bd9796b36412932f58": {
     "model_module": "@jupyter-widgets/controls",
     "model_module_version": "1.5.0",
     "model_name": "ProgressStyleModel",
     "state": {
      "_model_module": "@jupyter-widgets/controls",
      "_model_module_version": "1.5.0",
      "_model_name": "ProgressStyleModel",
      "_view_count": null,
      "_view_module": "@jupyter-widgets/base",
      "_view_module_version": "1.2.0",
      "_view_name": "StyleView",
      "bar_color": null,
      "description_width": ""
     }
    },
    "afea36605d6b4589b57fc1892a47997c": {
     "model_module": "@jupyter-widgets/controls",
     "model_module_version": "1.5.0",
     "model_name": "HBoxModel",
     "state": {
      "_dom_classes": [],
      "_model_module": "@jupyter-widgets/controls",
      "_model_module_version": "1.5.0",
      "_model_name": "HBoxModel",
      "_view_count": null,
      "_view_module": "@jupyter-widgets/controls",
      "_view_module_version": "1.5.0",
      "_view_name": "HBoxView",
      "box_style": "",
      "children": [
       "IPY_MODEL_72022f8cc7814caea02df76e9fce1032",
       "IPY_MODEL_519884eebee0482b8a95202cba3930ec",
       "IPY_MODEL_dac9d7235c2d44a29b238f5e600bc92f"
      ],
      "layout": "IPY_MODEL_df988a3b1a6646e2a2bacbb493172490"
     }
    },
    "b52f6c0e7b434310ae3d3ad06c8ef395": {
     "model_module": "@jupyter-widgets/controls",
     "model_module_version": "1.5.0",
     "model_name": "ProgressStyleModel",
     "state": {
      "_model_module": "@jupyter-widgets/controls",
      "_model_module_version": "1.5.0",
      "_model_name": "ProgressStyleModel",
      "_view_count": null,
      "_view_module": "@jupyter-widgets/base",
      "_view_module_version": "1.2.0",
      "_view_name": "StyleView",
      "bar_color": null,
      "description_width": ""
     }
    },
    "b7fca93a57b54f06abbdd690268a6d4b": {
     "model_module": "@jupyter-widgets/base",
     "model_module_version": "1.2.0",
     "model_name": "LayoutModel",
     "state": {
      "_model_module": "@jupyter-widgets/base",
      "_model_module_version": "1.2.0",
      "_model_name": "LayoutModel",
      "_view_count": null,
      "_view_module": "@jupyter-widgets/base",
      "_view_module_version": "1.2.0",
      "_view_name": "LayoutView",
      "align_content": null,
      "align_items": null,
      "align_self": null,
      "border": null,
      "bottom": null,
      "display": null,
      "flex": null,
      "flex_flow": null,
      "grid_area": null,
      "grid_auto_columns": null,
      "grid_auto_flow": null,
      "grid_auto_rows": null,
      "grid_column": null,
      "grid_gap": null,
      "grid_row": null,
      "grid_template_areas": null,
      "grid_template_columns": null,
      "grid_template_rows": null,
      "height": null,
      "justify_content": null,
      "justify_items": null,
      "left": null,
      "margin": null,
      "max_height": null,
      "max_width": null,
      "min_height": null,
      "min_width": null,
      "object_fit": null,
      "object_position": null,
      "order": null,
      "overflow": null,
      "overflow_x": null,
      "overflow_y": null,
      "padding": null,
      "right": null,
      "top": null,
      "visibility": null,
      "width": null
     }
    },
    "c050ea1dcc014f208cff9794867ba5d3": {
     "model_module": "@jupyter-widgets/base",
     "model_module_version": "1.2.0",
     "model_name": "LayoutModel",
     "state": {
      "_model_module": "@jupyter-widgets/base",
      "_model_module_version": "1.2.0",
      "_model_name": "LayoutModel",
      "_view_count": null,
      "_view_module": "@jupyter-widgets/base",
      "_view_module_version": "1.2.0",
      "_view_name": "LayoutView",
      "align_content": null,
      "align_items": null,
      "align_self": null,
      "border": null,
      "bottom": null,
      "display": null,
      "flex": null,
      "flex_flow": null,
      "grid_area": null,
      "grid_auto_columns": null,
      "grid_auto_flow": null,
      "grid_auto_rows": null,
      "grid_column": null,
      "grid_gap": null,
      "grid_row": null,
      "grid_template_areas": null,
      "grid_template_columns": null,
      "grid_template_rows": null,
      "height": null,
      "justify_content": null,
      "justify_items": null,
      "left": null,
      "margin": null,
      "max_height": null,
      "max_width": null,
      "min_height": null,
      "min_width": null,
      "object_fit": null,
      "object_position": null,
      "order": null,
      "overflow": null,
      "overflow_x": null,
      "overflow_y": null,
      "padding": null,
      "right": null,
      "top": null,
      "visibility": null,
      "width": null
     }
    },
    "c37f7d75423d486ab8910dfa136f0dea": {
     "model_module": "@jupyter-widgets/base",
     "model_module_version": "1.2.0",
     "model_name": "LayoutModel",
     "state": {
      "_model_module": "@jupyter-widgets/base",
      "_model_module_version": "1.2.0",
      "_model_name": "LayoutModel",
      "_view_count": null,
      "_view_module": "@jupyter-widgets/base",
      "_view_module_version": "1.2.0",
      "_view_name": "LayoutView",
      "align_content": null,
      "align_items": null,
      "align_self": null,
      "border": null,
      "bottom": null,
      "display": null,
      "flex": null,
      "flex_flow": null,
      "grid_area": null,
      "grid_auto_columns": null,
      "grid_auto_flow": null,
      "grid_auto_rows": null,
      "grid_column": null,
      "grid_gap": null,
      "grid_row": null,
      "grid_template_areas": null,
      "grid_template_columns": null,
      "grid_template_rows": null,
      "height": null,
      "justify_content": null,
      "justify_items": null,
      "left": null,
      "margin": null,
      "max_height": null,
      "max_width": null,
      "min_height": null,
      "min_width": null,
      "object_fit": null,
      "object_position": null,
      "order": null,
      "overflow": null,
      "overflow_x": null,
      "overflow_y": null,
      "padding": null,
      "right": null,
      "top": null,
      "visibility": null,
      "width": null
     }
    },
    "ced77a6d9060428cb463683f72059150": {
     "model_module": "@jupyter-widgets/controls",
     "model_module_version": "1.5.0",
     "model_name": "ProgressStyleModel",
     "state": {
      "_model_module": "@jupyter-widgets/controls",
      "_model_module_version": "1.5.0",
      "_model_name": "ProgressStyleModel",
      "_view_count": null,
      "_view_module": "@jupyter-widgets/base",
      "_view_module_version": "1.2.0",
      "_view_name": "StyleView",
      "bar_color": null,
      "description_width": ""
     }
    },
    "d10cc31cbaf94dd6a45f298bce9baafb": {
     "model_module": "@jupyter-widgets/base",
     "model_module_version": "1.2.0",
     "model_name": "LayoutModel",
     "state": {
      "_model_module": "@jupyter-widgets/base",
      "_model_module_version": "1.2.0",
      "_model_name": "LayoutModel",
      "_view_count": null,
      "_view_module": "@jupyter-widgets/base",
      "_view_module_version": "1.2.0",
      "_view_name": "LayoutView",
      "align_content": null,
      "align_items": null,
      "align_self": null,
      "border": null,
      "bottom": null,
      "display": null,
      "flex": null,
      "flex_flow": null,
      "grid_area": null,
      "grid_auto_columns": null,
      "grid_auto_flow": null,
      "grid_auto_rows": null,
      "grid_column": null,
      "grid_gap": null,
      "grid_row": null,
      "grid_template_areas": null,
      "grid_template_columns": null,
      "grid_template_rows": null,
      "height": null,
      "justify_content": null,
      "justify_items": null,
      "left": null,
      "margin": null,
      "max_height": null,
      "max_width": null,
      "min_height": null,
      "min_width": null,
      "object_fit": null,
      "object_position": null,
      "order": null,
      "overflow": null,
      "overflow_x": null,
      "overflow_y": null,
      "padding": null,
      "right": null,
      "top": null,
      "visibility": null,
      "width": null
     }
    },
    "d44631bc43ee41a2a286f7956dd0cf5c": {
     "model_module": "@jupyter-widgets/base",
     "model_module_version": "1.2.0",
     "model_name": "LayoutModel",
     "state": {
      "_model_module": "@jupyter-widgets/base",
      "_model_module_version": "1.2.0",
      "_model_name": "LayoutModel",
      "_view_count": null,
      "_view_module": "@jupyter-widgets/base",
      "_view_module_version": "1.2.0",
      "_view_name": "LayoutView",
      "align_content": null,
      "align_items": null,
      "align_self": null,
      "border": null,
      "bottom": null,
      "display": null,
      "flex": null,
      "flex_flow": null,
      "grid_area": null,
      "grid_auto_columns": null,
      "grid_auto_flow": null,
      "grid_auto_rows": null,
      "grid_column": null,
      "grid_gap": null,
      "grid_row": null,
      "grid_template_areas": null,
      "grid_template_columns": null,
      "grid_template_rows": null,
      "height": null,
      "justify_content": null,
      "justify_items": null,
      "left": null,
      "margin": null,
      "max_height": null,
      "max_width": null,
      "min_height": null,
      "min_width": null,
      "object_fit": null,
      "object_position": null,
      "order": null,
      "overflow": null,
      "overflow_x": null,
      "overflow_y": null,
      "padding": null,
      "right": null,
      "top": null,
      "visibility": null,
      "width": null
     }
    },
    "dac9d7235c2d44a29b238f5e600bc92f": {
     "model_module": "@jupyter-widgets/controls",
     "model_module_version": "1.5.0",
     "model_name": "HTMLModel",
     "state": {
      "_dom_classes": [],
      "_model_module": "@jupyter-widgets/controls",
      "_model_module_version": "1.5.0",
      "_model_name": "HTMLModel",
      "_view_count": null,
      "_view_module": "@jupyter-widgets/controls",
      "_view_module_version": "1.5.0",
      "_view_name": "HTMLView",
      "description": "",
      "description_tooltip": null,
      "layout": "IPY_MODEL_d44631bc43ee41a2a286f7956dd0cf5c",
      "placeholder": "​",
      "style": "IPY_MODEL_4d4fa6e118ac4fef9d8e10aff92345c6",
      "value": " 4542/4542 [00:00&lt;00:00, 311430.72it/s]"
     }
    },
    "df988a3b1a6646e2a2bacbb493172490": {
     "model_module": "@jupyter-widgets/base",
     "model_module_version": "1.2.0",
     "model_name": "LayoutModel",
     "state": {
      "_model_module": "@jupyter-widgets/base",
      "_model_module_version": "1.2.0",
      "_model_name": "LayoutModel",
      "_view_count": null,
      "_view_module": "@jupyter-widgets/base",
      "_view_module_version": "1.2.0",
      "_view_name": "LayoutView",
      "align_content": null,
      "align_items": null,
      "align_self": null,
      "border": null,
      "bottom": null,
      "display": null,
      "flex": null,
      "flex_flow": null,
      "grid_area": null,
      "grid_auto_columns": null,
      "grid_auto_flow": null,
      "grid_auto_rows": null,
      "grid_column": null,
      "grid_gap": null,
      "grid_row": null,
      "grid_template_areas": null,
      "grid_template_columns": null,
      "grid_template_rows": null,
      "height": null,
      "justify_content": null,
      "justify_items": null,
      "left": null,
      "margin": null,
      "max_height": null,
      "max_width": null,
      "min_height": null,
      "min_width": null,
      "object_fit": null,
      "object_position": null,
      "order": null,
      "overflow": null,
      "overflow_x": null,
      "overflow_y": null,
      "padding": null,
      "right": null,
      "top": null,
      "visibility": null,
      "width": null
     }
    },
    "ef075a4650e342e9867d6830ce888460": {
     "model_module": "@jupyter-widgets/controls",
     "model_module_version": "1.5.0",
     "model_name": "DescriptionStyleModel",
     "state": {
      "_model_module": "@jupyter-widgets/controls",
      "_model_module_version": "1.5.0",
      "_model_name": "DescriptionStyleModel",
      "_view_count": null,
      "_view_module": "@jupyter-widgets/base",
      "_view_module_version": "1.2.0",
      "_view_name": "StyleView",
      "description_width": ""
     }
    },
    "ef75b59cacab4818a1d6f4e24267ccaf": {
     "model_module": "@jupyter-widgets/controls",
     "model_module_version": "1.5.0",
     "model_name": "HTMLModel",
     "state": {
      "_dom_classes": [],
      "_model_module": "@jupyter-widgets/controls",
      "_model_module_version": "1.5.0",
      "_model_name": "HTMLModel",
      "_view_count": null,
      "_view_module": "@jupyter-widgets/controls",
      "_view_module_version": "1.5.0",
      "_view_name": "HTMLView",
      "description": "",
      "description_tooltip": null,
      "layout": "IPY_MODEL_01da9718d9e54a6989b6d46c036d8872",
      "placeholder": "​",
      "style": "IPY_MODEL_f8f2c66a7d2d46d7985b5545492c50d0",
      "value": " 1648877/1648877 [00:00&lt;00:00, 21662254.58it/s]"
     }
    },
    "f8f2c66a7d2d46d7985b5545492c50d0": {
     "model_module": "@jupyter-widgets/controls",
     "model_module_version": "1.5.0",
     "model_name": "DescriptionStyleModel",
     "state": {
      "_model_module": "@jupyter-widgets/controls",
      "_model_module_version": "1.5.0",
      "_model_name": "DescriptionStyleModel",
      "_view_count": null,
      "_view_module": "@jupyter-widgets/base",
      "_view_module_version": "1.2.0",
      "_view_name": "StyleView",
      "description_width": ""
     }
    }
   }
  }
 },
 "nbformat": 4,
 "nbformat_minor": 4
}
