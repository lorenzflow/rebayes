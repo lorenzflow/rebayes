{
  "cells": [
    {
      "cell_type": "markdown",
      "metadata": {
        "id": "kRhsrRNNB0lM"
      },
      "source": [
        "# 0. Imports"
      ]
    },
    {
      "cell_type": "code",
      "source": [
        "# %pip install ml_collections\n",
        "# %pip install flax\n",
        "# %pip install bayesian-optimization\n",
        "# %pip install -qq git+https://github.com/probml/rebayes.git\n",
        "# %pip install jaxtyping\n",
        "# %pip install jax-tqdm\n",
        "# %pip install dynamax\n",
        "# %pip install jax-dataloader\n",
        "# %pip install avalanche-lib"
      ],
      "metadata": {
        "id": "k7ot0XjIB9iA"
      },
      "execution_count": 2,
      "outputs": []
    },
    {
      "cell_type": "code",
      "execution_count": 3,
      "metadata": {
        "id": "_UvjekASB0lN"
      },
      "outputs": [],
      "source": [
        "from jaxtyping import Float, Array\n",
        "from typing import Callable, NamedTuple, Union, Tuple, Any\n",
        "from functools import partial\n",
        "import chex\n",
        "import optax\n",
        "import jax\n",
        "import jax.numpy as jnp\n",
        "import jax.random as jr\n",
        "from jax import lax, jacfwd, vmap, grad, jit\n",
        "from jax.tree_util import tree_map, tree_reduce\n",
        "import flax\n",
        "import flax.linen as nn\n",
        "from tensorflow_probability.substrates.jax.distributions import MultivariateNormalFullCovariance as MVN\n",
        "import matplotlib.pyplot as plt\n",
        "import matplotlib.cm as cm\n",
        "from jax.flatten_util import ravel_pytree\n",
        "from dataclasses import dataclass\n",
        "\n",
        "from itertools import cycle\n",
        "\n",
        "import torch\n",
        "import numpy as np\n",
        "from torch.utils.data import TensorDataset, DataLoader\n",
        "from torchvision.transforms import ToTensor\n",
        "\n",
        "import jax_dataloader.core as jdl\n",
        "\n",
        "from rebayes.base import *\n",
        "from rebayes.low_rank_filter.lofi import LoFiParams, RebayesLoFi, LoFiBel\n",
        "from rebayes.extended_kalman_filter.ekf import RebayesEKF\n",
        "from rebayes.utils.utils import *\n",
        "from rebayes.utils.avalanche import *\n",
        "from demos.showdown.nonstationary import hparam_tune_clf as hpt"
      ]
    },
    {
      "cell_type": "markdown",
      "metadata": {
        "id": "QcvM4MCFB0lO"
      },
      "source": [
        "# 1. Load Dataset"
      ]
    },
    {
      "cell_type": "code",
      "execution_count": 7,
      "metadata": {
        "id": "-TcAbWwFB0lO"
      },
      "outputs": [],
      "source": [
        "from avalanche.benchmarks.classic import SplitMNIST\n",
        "\n",
        "n_experiences = 5\n",
        "dataset = SplitMNIST(n_experiences=n_experiences, seed=1, return_task_id=True,\n",
        "                         class_ids_from_zero_in_each_exp=True, fixed_class_order=range(10))\n",
        "\n",
        "ntrain_per_dist, ntrain_per_batch, ntest_per_batch = 500, 500, 1000\n",
        "nval_per_batch = 500\n",
        "\n",
        "Xtr, Ytr, Xte, Yte =  make_avalanche_data(dataset, ntrain_per_dist, ntrain_per_batch, ntest_per_batch)\n",
        "ntest_per_batch = ntest_per_batch - nval_per_batch\n",
        "Xtr, Xte = Xtr.reshape(-1, 1, 28, 28, 1), Xte.reshape(-1, 1, 28, 28, 1)\n",
        "Xte_batches, Yte_batches = jnp.split(Xte, n_experiences), jnp.split(Yte, n_experiences)\n",
        "Xval_sets, Yval_sets = [batch[:nval_per_batch] for batch in Xte_batches], [batch[:nval_per_batch] for batch in Yte_batches]\n",
        "Xte_sets, Yte_sets = [batch[nval_per_batch:] for batch in Xte_batches], [batch[nval_per_batch:] for batch in Yte_batches]\n",
        "\n",
        "Xval, Yval = jnp.concatenate(Xval_sets), jnp.concatenate(Yval_sets)\n",
        "Xte, Yte = jnp.concatenate(Xte_sets), jnp.concatenate(Yte_sets)\n",
        "\n",
        "Xtr_flat = flatten_batch(Xtr)"
      ]
    },
    {
      "cell_type": "code",
      "execution_count": 8,
      "metadata": {
        "id": "0yuNsCAWB0lO"
      },
      "outputs": [],
      "source": [
        "train, val = (Xtr, Ytr), (Xval, Yval)"
      ]
    },
    {
      "cell_type": "code",
      "execution_count": 9,
      "metadata": {
        "id": "TQjyVCUiB0lP",
        "outputId": "3b38c2ed-59ce-4822-a582-f3fa440bd850",
        "colab": {
          "base_uri": "https://localhost:8080/"
        }
      },
      "outputs": [
        {
          "output_type": "stream",
          "name": "stdout",
          "text": [
            "batch  0 (500, 1, 28, 28, 1) (500, 1)\n",
            "test batch  0 (500, 1, 28, 28, 1) (500, 1)\n",
            "batch  1 (500, 1, 28, 28, 1) (500, 1)\n",
            "test batch  1 (500, 1, 28, 28, 1) (500, 1)\n",
            "batch  2 (500, 1, 28, 28, 1) (500, 1)\n",
            "test batch  2 (500, 1, 28, 28, 1) (500, 1)\n",
            "batch  3 (500, 1, 28, 28, 1) (500, 1)\n",
            "test batch  3 (500, 1, 28, 28, 1) (500, 1)\n",
            "batch  4 (500, 1, 28, 28, 1) (500, 1)\n",
            "test batch  4 (500, 1, 28, 28, 1) (500, 1)\n"
          ]
        }
      ],
      "source": [
        "train_ds = jdl.Dataset(Xtr, Ytr)\n",
        "train_loader = jdl.DataLoaderJax(train_ds, batch_size=ntrain_per_batch, shuffle=False, drop_last=False)\n",
        "train_iter = iter(train_loader)\n",
        "\n",
        "test_ds = jdl.Dataset(Xte, Yte)\n",
        "test_loader = jdl.DataLoaderJax(test_ds, batch_size=nval_per_batch, shuffle=False, drop_last=False)\n",
        "test_iter = iter(test_loader)\n",
        "\n",
        "for b in range(len(train_iter)): \n",
        "    (Xb,Yb) = next(train_iter)\n",
        "    print('batch ', b, Xb.shape, Yb.shape)\n",
        "    (Xb,Yb) = next(test_iter)\n",
        "    print('test batch ', b, Xb.shape, Yb.shape)"
      ]
    },
    {
      "cell_type": "code",
      "execution_count": 10,
      "metadata": {
        "id": "FAXaCUP4B0lP"
      },
      "outputs": [],
      "source": [
        "def plot_batch(Xb, Yb, ttl=None):\n",
        "    figure = plt.figure(figsize=(8, 8))\n",
        "    cols, rows = 3, 3\n",
        "    for i in range(1, cols * rows + 1):\n",
        "        #sample_idx = torch.randint(len(training_data), size=(1,)).item()\n",
        "        sample_idx = i-1\n",
        "        img = Xb[sample_idx]\n",
        "        label = Yb[sample_idx]\n",
        "        figure.add_subplot(rows, cols, i)\n",
        "        plt.title(label)\n",
        "        plt.axis(\"off\")\n",
        "        plt.imshow(img.squeeze(), cmap=\"gray\")\n",
        "    if ttl is not None: plt.suptitle(ttl)\n",
        "    plt.show()"
      ]
    },
    {
      "cell_type": "code",
      "execution_count": 11,
      "metadata": {
        "id": "z_Q-yjL6B0lP"
      },
      "outputs": [],
      "source": [
        "class RebayesSum(Rebayes):\n",
        "    \"\"\"The belief state is the sum of all the input X_t values.\"\"\"\n",
        "    def __init__(\n",
        "        self,\n",
        "        params: RebayesParams,\n",
        "        shape_in, \n",
        "        shape_out\n",
        "    ):\n",
        "        self.params = params\n",
        "        self.shape_in = shape_in\n",
        "        self.shape_out = shape_out\n",
        "\n",
        "    def init_bel(self) -> Belief:\n",
        "        bel = Belief(dummy = jnp.zeros(self.shape_in))\n",
        "        return bel\n",
        "    \n",
        "    def update_state(\n",
        "        self,\n",
        "        bel: Belief,\n",
        "        X: Float[Array, \"input_dim\"],\n",
        "        Y: Float[Array, \"obs_dim\"]\n",
        "    ) -> Belief:\n",
        "        return Belief(dummy = bel.dummy + X)"
      ]
    },
    {
      "cell_type": "code",
      "execution_count": 12,
      "metadata": {
        "id": "M9-322sIB0lQ",
        "outputId": "fdaeeb5f-0518-4c6d-fe81-4551663ce265",
        "colab": {
          "base_uri": "https://localhost:8080/",
          "height": 1000
        }
      },
      "outputs": [
        {
          "output_type": "stream",
          "name": "stdout",
          "text": [
            "callback on batch 0\n",
            "Xtr shape (500, 1, 28, 28, 1), Ytr shape (500, 1)\n",
            "Xte shape (500, 1, 28, 28, 1), Yte shape (500, 1)\n"
          ]
        },
        {
          "output_type": "display_data",
          "data": {
            "text/plain": [
              "<Figure size 576x576 with 9 Axes>"
            ],
            "image/png": "[encoded data removed]"
          },
          "metadata": {
            "needs_background": "light"
          }
        },
        {
          "output_type": "stream",
          "name": "stdout",
          "text": [
            "callback on batch 1\n",
            "Xtr shape (500, 1, 28, 28, 1), Ytr shape (500, 1)\n",
            "Xte shape (500, 1, 28, 28, 1), Yte shape (500, 1)\n"
          ]
        },
        {
          "output_type": "display_data",
          "data": {
            "text/plain": [
              "<Figure size 576x576 with 9 Axes>"
            ],
            "image/png": "[encoded data removed]"
          },
          "metadata": {
            "needs_background": "light"
          }
        },
        {
          "output_type": "stream",
          "name": "stdout",
          "text": [
            "callback on batch 2\n",
            "Xtr shape (500, 1, 28, 28, 1), Ytr shape (500, 1)\n",
            "Xte shape (500, 1, 28, 28, 1), Yte shape (500, 1)\n"
          ]
        },
        {
          "output_type": "display_data",
          "data": {
            "text/plain": [
              "<Figure size 576x576 with 9 Axes>"
            ],
            "image/png": "[encoded data removed]"
          },
          "metadata": {
            "needs_background": "light"
          }
        },
        {
          "output_type": "stream",
          "name": "stdout",
          "text": [
            "callback on batch 3\n",
            "Xtr shape (500, 1, 28, 28, 1), Ytr shape (500, 1)\n",
            "Xte shape (500, 1, 28, 28, 1), Yte shape (500, 1)\n"
          ]
        },
        {
          "output_type": "display_data",
          "data": {
            "text/plain": [
              "<Figure size 576x576 with 9 Axes>"
            ],
            "image/png": "[encoded data removed]"
          },
          "metadata": {
            "needs_background": "light"
          }
        },
        {
          "output_type": "stream",
          "name": "stdout",
          "text": [
            "callback on batch 4\n",
            "Xtr shape (500, 1, 28, 28, 1), Ytr shape (500, 1)\n",
            "Xte shape (500, 1, 28, 28, 1), Yte shape (500, 1)\n"
          ]
        },
        {
          "output_type": "display_data",
          "data": {
            "text/plain": [
              "<Figure size 576x576 with 9 Axes>"
            ],
            "image/png": "[encoded data removed]"
          },
          "metadata": {
            "needs_background": "light"
          }
        }
      ],
      "source": [
        "train_ds = jdl.Dataset(Xtr, Ytr)\n",
        "train_loader = jdl.DataLoaderJax(train_ds, batch_size=ntrain_per_batch, shuffle=False, drop_last=False)\n",
        "\n",
        "test_ds = jdl.Dataset(Xte, Yte)\n",
        "test_loader = jdl.DataLoaderJax(test_ds, batch_size=nval_per_batch, shuffle=False, drop_last=False)\n",
        "test_iter = iter(test_loader)\n",
        "\n",
        "def callback_dl(b, bel_pre, bel_post, batch, **kwargs):\n",
        "    Xtr, Ytr = batch\n",
        "    jax.debug.print(\"callback on batch {b}\", b=b)\n",
        "    jax.debug.print(\"Xtr shape {x1}, Ytr shape {y1}\", x1=Xtr.shape, y1=Ytr.shape)\n",
        "    Xte, Yte = next(test_iter)\n",
        "    jax.debug.print(\"Xte shape {x1}, Yte shape {y1}\", x1=Xte.shape, y1=Yte.shape)\n",
        "    plot_batch(Xte, Yte, ttl='batch {:d}'.format(b))\n",
        "    return b\n",
        "\n",
        "shape_in = Xtr.shape[1:]\n",
        "shape_out = 1\n",
        "estimator = RebayesSum(make_rebayes_params(), shape_in, shape_out)\n",
        "\n",
        "bel, outputs = estimator.scan_dataloader(train_loader, callback=callback_dl)\n",
        "Xsum = jnp.sum(Xtr, axis=0)\n",
        "# assert(jnp.allclose(Xsum, bel.dummy, atol=1e-1))"
      ]
    },
    {
      "cell_type": "markdown",
      "metadata": {
        "id": "tzOevZfQB0lQ"
      },
      "source": [
        "# 2. Model Setup"
      ]
    },
    {
      "cell_type": "code",
      "execution_count": 13,
      "metadata": {
        "id": "jQqXdG3-B0lQ",
        "outputId": "8aa4bf98-b555-4b13-f49c-53f70f208958",
        "colab": {
          "base_uri": "https://localhost:8080/"
        }
      },
      "outputs": [
        {
          "output_type": "stream",
          "name": "stdout",
          "text": [
            "flat_params.shape: (420481,)\n"
          ]
        }
      ],
      "source": [
        "class CNN(nn.Module):\n",
        "    \"\"\"A simple CNN model.\"\"\"\n",
        "    @nn.compact\n",
        "    def __call__(self, x):\n",
        "        x = nn.Conv(features=32, kernel_size=(3, 3))(x)\n",
        "        x = nn.relu(x)\n",
        "        x = nn.avg_pool(x, window_shape=(2, 2), strides=(2, 2))\n",
        "        x = nn.Conv(features=64, kernel_size=(3, 3))(x)\n",
        "        x = nn.relu(x)\n",
        "        x = nn.avg_pool(x, window_shape=(2, 2), strides=(2, 2))\n",
        "        x = x.reshape((x.shape[0], -1))  # flatten\n",
        "        x = nn.Dense(features=128)(x)\n",
        "        x = nn.relu(x)\n",
        "        x = nn.Dense(features=1)(x)\n",
        "        return x\n",
        "\n",
        "key = jr.PRNGKey(0)\n",
        "cnn_model = CNN()\n",
        "cnn_params = cnn_model.init(key, jnp.ones((1, 28, 28, 1)))\n",
        "flat_params, unflatten_fn = ravel_pytree(cnn_params)\n",
        "print(f'flat_params.shape: {flat_params.shape}')\n",
        "\n",
        "# Define apply function\n",
        "def apply(flat_params, x, model, unflatten_fn):\n",
        "    return model.apply(unflatten_fn(flat_params), jnp.atleast_1d(x))\n",
        "\n",
        "apply_fn = partial(apply, model=cnn_model, unflatten_fn=unflatten_fn)"
      ]
    },
    {
      "cell_type": "code",
      "execution_count": 14,
      "metadata": {
        "id": "962P0lo6B0lQ"
      },
      "outputs": [],
      "source": [
        "sigmoid_fn = lambda w, x: jnp.clip(jax.nn.sigmoid(apply_fn(w, x)), 1e-4, 1-1e-4).ravel()\n",
        "emission_mean_function = lambda w, x: sigmoid_fn(w, x)\n",
        "emission_cov_function = lambda w, x: sigmoid_fn(w, x) * (1 - sigmoid_fn(w, x))"
      ]
    },
    {
      "cell_type": "markdown",
      "metadata": {
        "id": "bzHTVsaOB0lQ"
      },
      "source": [
        "# 3. FDEKF"
      ]
    },
    {
      "cell_type": "markdown",
      "metadata": {
        "id": "x6U-4773B0lQ"
      },
      "source": [
        "## 3.1 Hyperparam Tuning"
      ]
    },
    {
      "cell_type": "markdown",
      "metadata": {
        "id": "r0ZQHzQQB0lQ"
      },
      "source": [
        "To tune the hyperparameters, we maximize the average validation accuracy across all 5 tasks after training on the full training set."
      ]
    },
    {
      "cell_type": "code",
      "execution_count": 19,
      "metadata": {
        "id": "feuBRvEoB0lQ"
      },
      "outputs": [],
      "source": [
        "pbounds={\n",
        "    'log_init_cov': (-12, 0),\n",
        "    'log_dynamics_weights': (-12, -3),\n",
        "    'log_dynamics_cov': (-12, 0),\n",
        "    'log_alpha': (-12, 0),\n",
        "}\n",
        "fcekf_model = 'fcekf'"
      ]
    },
    {
      "cell_type": "code",
      "execution_count": 20,
      "metadata": {
        "id": "WEVEuqyiB0lR"
      },
      "outputs": [],
      "source": [
        "def evaluate_accuracy(flat_params, apply_fn, X, y):\n",
        "    \"\"\" Evaluate accuracy for given parameters and test set\n",
        "    \"\"\"\n",
        "    @jit\n",
        "    def evaluate_acc(image, label):\n",
        "        image = image.reshape((1, 28, 28, 1))\n",
        "        logits = apply_fn(flat_params, image).ravel()\n",
        "        acc = jnp.mean(jnp.round(jax.nn.sigmoid(logits)) == label)\n",
        "        \n",
        "        return acc\n",
        "    accs = vmap(evaluate_acc, (0, 0))(X, y).mean()\n",
        "    return accs\n",
        "\n",
        "def acc_callback(bel, *args, **kwargs):\n",
        "    X_test, y_test, apply_fn = kwargs[\"X_test\"], kwargs[\"y_test\"], kwargs[\"apply_fn\"]\n",
        "    accuracy = evaluate_accuracy(bel.mean, apply_fn, X_test, y_test)\n",
        "    \n",
        "    result = {\n",
        "        'test': accuracy,\n",
        "    }\n",
        "    \n",
        "    return result\n",
        "\n",
        "def ll_callback(bel, *args, **kwargs):\n",
        "    X_test, y_test = kwargs[\"X_test\"], kwargs[\"y_test\"]\n",
        "    apply_fn = kwargs[\"apply_fn\"]\n",
        "    \n",
        "    logits = vmap(jit(apply_fn), (None, 0))(bel.mean, X_test).squeeze()\n",
        "    nll = jnp.mean(jit(optax.sigmoid_binary_cross_entropy)(logits, y_test))\n",
        "    if jnp.isnan(nll):\n",
        "        nll = 1e8\n",
        "    result = -nll\n",
        "    \n",
        "    res = {\n",
        "        \"test\": result,\n",
        "    }\n",
        "    return res"
      ]
    },
    {
      "cell_type": "code",
      "execution_count": 35,
      "metadata": {
        "id": "6IJi7wevB0lR"
      },
      "outputs": [],
      "source": [
        "fdekf_optimizer, apply_fn, n_feats = hpt.create_optimizer(\n",
        "    cnn_model, pbounds, 314, train, val, emission_mean_function, emission_cov_function,\n",
        "    acc_callback, 'fdekf',\n",
        ")"
      ]
    },
    {
      "cell_type": "code",
      "execution_count": 36,
      "metadata": {
        "id": "c_lJCpMKB0lR",
        "outputId": "db9282ff-56c1-418c-bf30-649d1d8259ae",
        "colab": {
          "base_uri": "https://localhost:8080/"
        }
      },
      "outputs": [
        {
          "output_type": "stream",
          "name": "stdout",
          "text": [
            "|   iter    |  target   | log_alpha | log_dy... | log_dy... | log_in... |\n",
            "-------------------------------------------------------------------------\n",
            "| \u001b[0m1        \u001b[0m | \u001b[0m0.0      \u001b[0m | \u001b[0m-0.9975  \u001b[0m | \u001b[0m-4.937   \u001b[0m | \u001b[0m-9.615   \u001b[0m | \u001b[0m-2.602   \u001b[0m |\n",
            "| \u001b[0m2        \u001b[0m | \u001b[0m0.0      \u001b[0m | \u001b[0m-0.984   \u001b[0m | \u001b[0m-2.072   \u001b[0m | \u001b[0m-5.448   \u001b[0m | \u001b[0m-8.874   \u001b[0m |\n",
            "| \u001b[0m3        \u001b[0m | \u001b[0m0.0      \u001b[0m | \u001b[0m-1.059   \u001b[0m | \u001b[0m-8.871   \u001b[0m | \u001b[0m-5.103   \u001b[0m | \u001b[0m-8.862   \u001b[0m |\n",
            "| \u001b[95m4        \u001b[0m | \u001b[95m0.49     \u001b[0m | \u001b[95m-10.53   \u001b[0m | \u001b[95m-7.368   \u001b[0m | \u001b[95m-4.439   \u001b[0m | \u001b[95m-8.662   \u001b[0m |\n",
            "| \u001b[0m5        \u001b[0m | \u001b[0m0.49     \u001b[0m | \u001b[0m-11.16   \u001b[0m | \u001b[0m-4.403   \u001b[0m | \u001b[0m-6.737   \u001b[0m | \u001b[0m-5.025   \u001b[0m |\n",
            "| \u001b[0m6        \u001b[0m | \u001b[0m0.49     \u001b[0m | \u001b[0m-3.874   \u001b[0m | \u001b[0m-3.754   \u001b[0m | \u001b[0m-8.05    \u001b[0m | \u001b[0m-8.149   \u001b[0m |\n",
            "| \u001b[95m7        \u001b[0m | \u001b[95m0.5044   \u001b[0m | \u001b[95m-5.153   \u001b[0m | \u001b[95m-6.242   \u001b[0m | \u001b[95m-4.25    \u001b[0m | \u001b[95m-1.982   \u001b[0m |\n",
            "| \u001b[95m8        \u001b[0m | \u001b[95m0.5852   \u001b[0m | \u001b[95m-10.73   \u001b[0m | \u001b[95m-11.28   \u001b[0m | \u001b[95m-6.628   \u001b[0m | \u001b[95m-2.491   \u001b[0m |\n",
            "| \u001b[0m9        \u001b[0m | \u001b[0m0.49     \u001b[0m | \u001b[0m-9.284   \u001b[0m | \u001b[0m-5.578   \u001b[0m | \u001b[0m-10.78   \u001b[0m | \u001b[0m-7.533   \u001b[0m |\n",
            "| \u001b[0m10       \u001b[0m | \u001b[0m0.5544   \u001b[0m | \u001b[0m-10.18   \u001b[0m | \u001b[0m-6.842   \u001b[0m | \u001b[0m-4.866   \u001b[0m | \u001b[0m-7.117   \u001b[0m |\n",
            "| \u001b[0m11       \u001b[0m | \u001b[0m0.51     \u001b[0m | \u001b[0m-9.866   \u001b[0m | \u001b[0m-1.089   \u001b[0m | \u001b[0m-7.092   \u001b[0m | \u001b[0m-10.79   \u001b[0m |\n",
            "| \u001b[0m12       \u001b[0m | \u001b[0m0.51     \u001b[0m | \u001b[0m-3.375   \u001b[0m | \u001b[0m-0.2588  \u001b[0m | \u001b[0m-9.212   \u001b[0m | \u001b[0m-8.878   \u001b[0m |\n",
            "| \u001b[0m13       \u001b[0m | \u001b[0m0.49     \u001b[0m | \u001b[0m-4.045   \u001b[0m | \u001b[0m-10.32   \u001b[0m | \u001b[0m-11.25   \u001b[0m | \u001b[0m-5.678   \u001b[0m |\n",
            "| \u001b[0m14       \u001b[0m | \u001b[0m0.51     \u001b[0m | \u001b[0m-4.677   \u001b[0m | \u001b[0m-1.591   \u001b[0m | \u001b[0m-10.66   \u001b[0m | \u001b[0m-1.631   \u001b[0m |\n",
            "| \u001b[0m15       \u001b[0m | \u001b[0m0.51     \u001b[0m | \u001b[0m-6.601   \u001b[0m | \u001b[0m-3.278   \u001b[0m | \u001b[0m-10.6    \u001b[0m | \u001b[0m-6.995   \u001b[0m |\n",
            "| \u001b[0m16       \u001b[0m | \u001b[0m0.5612   \u001b[0m | \u001b[0m-10.29   \u001b[0m | \u001b[0m-7.929   \u001b[0m | \u001b[0m-5.675   \u001b[0m | \u001b[0m-11.08   \u001b[0m |\n",
            "| \u001b[0m17       \u001b[0m | \u001b[0m0.51     \u001b[0m | \u001b[0m-11.15   \u001b[0m | \u001b[0m-0.2164  \u001b[0m | \u001b[0m-11.63   \u001b[0m | \u001b[0m-10.81   \u001b[0m |\n",
            "| \u001b[0m18       \u001b[0m | \u001b[0m0.49     \u001b[0m | \u001b[0m-9.354   \u001b[0m | \u001b[0m-4.08    \u001b[0m | \u001b[0m-3.035   \u001b[0m | \u001b[0m-0.3627  \u001b[0m |\n",
            "| \u001b[0m19       \u001b[0m | \u001b[0m0.51     \u001b[0m | \u001b[0m-3.881   \u001b[0m | \u001b[0m-0.01823 \u001b[0m | \u001b[0m-10.91   \u001b[0m | \u001b[0m-6.765   \u001b[0m |\n",
            "| \u001b[0m20       \u001b[0m | \u001b[0m0.49     \u001b[0m | \u001b[0m-9.992   \u001b[0m | \u001b[0m-5.432   \u001b[0m | \u001b[0m-5.06    \u001b[0m | \u001b[0m-5.203   \u001b[0m |\n",
            "| \u001b[95m21       \u001b[0m | \u001b[95m0.6132   \u001b[0m | \u001b[95m-10.46   \u001b[0m | \u001b[95m-11.92   \u001b[0m | \u001b[95m-8.902   \u001b[0m | \u001b[95m-7.675   \u001b[0m |\n",
            "| \u001b[0m22       \u001b[0m | \u001b[0m0.49     \u001b[0m | \u001b[0m-10.11   \u001b[0m | \u001b[0m-12.0    \u001b[0m | \u001b[0m-12.0    \u001b[0m | \u001b[0m-3.136   \u001b[0m |\n",
            "| \u001b[95m23       \u001b[0m | \u001b[95m0.654    \u001b[0m | \u001b[95m-12.0    \u001b[0m | \u001b[95m-10.23   \u001b[0m | \u001b[95m-10.58   \u001b[0m | \u001b[95m-12.0    \u001b[0m |\n",
            "| \u001b[0m24       \u001b[0m | \u001b[0m0.6276   \u001b[0m | \u001b[0m-7.667   \u001b[0m | \u001b[0m-12.0    \u001b[0m | \u001b[0m-12.0    \u001b[0m | \u001b[0m-12.0    \u001b[0m |\n",
            "| \u001b[0m25       \u001b[0m | \u001b[0m0.49     \u001b[0m | \u001b[0m-7.03    \u001b[0m | \u001b[0m-6.918   \u001b[0m | \u001b[0m-10.88   \u001b[0m | \u001b[0m-12.0    \u001b[0m |\n",
            "| \u001b[0m26       \u001b[0m | \u001b[0m0.51     \u001b[0m | \u001b[0m-9.989   \u001b[0m | \u001b[0m0.0      \u001b[0m | \u001b[0m-12.0    \u001b[0m | \u001b[0m0.0      \u001b[0m |\n",
            "| \u001b[0m27       \u001b[0m | \u001b[0m0.49     \u001b[0m | \u001b[0m-7.371   \u001b[0m | \u001b[0m-12.0    \u001b[0m | \u001b[0m-3.0     \u001b[0m | \u001b[0m0.0      \u001b[0m |\n",
            "| \u001b[0m28       \u001b[0m | \u001b[0m0.5992   \u001b[0m | \u001b[0m-10.03   \u001b[0m | \u001b[0m-12.0    \u001b[0m | \u001b[0m-7.569   \u001b[0m | \u001b[0m-12.0    \u001b[0m |\n",
            "| \u001b[0m29       \u001b[0m | \u001b[0m0.6328   \u001b[0m | \u001b[0m-12.0    \u001b[0m | \u001b[0m-12.0    \u001b[0m | \u001b[0m-12.0    \u001b[0m | \u001b[0m-9.459   \u001b[0m |\n",
            "| \u001b[0m30       \u001b[0m | \u001b[0m0.49     \u001b[0m | \u001b[0m-12.0    \u001b[0m | \u001b[0m-12.0    \u001b[0m | \u001b[0m-3.0     \u001b[0m | \u001b[0m-5.208   \u001b[0m |\n",
            "| \u001b[0m31       \u001b[0m | \u001b[0m0.51     \u001b[0m | \u001b[0m-12.0    \u001b[0m | \u001b[0m-7.036   \u001b[0m | \u001b[0m-9.82    \u001b[0m | \u001b[0m0.0      \u001b[0m |\n",
            "| \u001b[0m32       \u001b[0m | \u001b[0m0.51     \u001b[0m | \u001b[0m-6.992   \u001b[0m | \u001b[0m0.0      \u001b[0m | \u001b[0m-6.52    \u001b[0m | \u001b[0m0.0      \u001b[0m |\n",
            "| \u001b[0m33       \u001b[0m | \u001b[0m0.51     \u001b[0m | \u001b[0m-5.184   \u001b[0m | \u001b[0m0.0      \u001b[0m | \u001b[0m-12.0    \u001b[0m | \u001b[0m-12.0    \u001b[0m |\n",
            "| \u001b[0m34       \u001b[0m | \u001b[0m0.49     \u001b[0m | \u001b[0m-12.0    \u001b[0m | \u001b[0m-8.772   \u001b[0m | \u001b[0m-8.803   \u001b[0m | \u001b[0m-8.834   \u001b[0m |\n",
            "| \u001b[0m35       \u001b[0m | \u001b[0m0.6372   \u001b[0m | \u001b[0m-8.38    \u001b[0m | \u001b[0m-11.29   \u001b[0m | \u001b[0m-11.92   \u001b[0m | \u001b[0m-7.936   \u001b[0m |\n",
            "| \u001b[0m36       \u001b[0m | \u001b[0m0.59     \u001b[0m | \u001b[0m-7.397   \u001b[0m | \u001b[0m-12.0    \u001b[0m | \u001b[0m-7.086   \u001b[0m | \u001b[0m-5.363   \u001b[0m |\n",
            "| \u001b[0m37       \u001b[0m | \u001b[0m0.6308   \u001b[0m | \u001b[0m-10.86   \u001b[0m | \u001b[0m-12.0    \u001b[0m | \u001b[0m-12.0    \u001b[0m | \u001b[0m-12.0    \u001b[0m |\n",
            "| \u001b[0m38       \u001b[0m | \u001b[0m0.6212   \u001b[0m | \u001b[0m-6.904   \u001b[0m | \u001b[0m-12.0    \u001b[0m | \u001b[0m-9.336   \u001b[0m | \u001b[0m-9.465   \u001b[0m |\n",
            "| \u001b[0m39       \u001b[0m | \u001b[0m0.49     \u001b[0m | \u001b[0m-12.0    \u001b[0m | \u001b[0m0.0      \u001b[0m | \u001b[0m-3.0     \u001b[0m | \u001b[0m-12.0    \u001b[0m |\n",
            "| \u001b[0m40       \u001b[0m | \u001b[0m0.51     \u001b[0m | \u001b[0m-12.0    \u001b[0m | \u001b[0m0.0      \u001b[0m | \u001b[0m-12.0    \u001b[0m | \u001b[0m-5.153   \u001b[0m |\n",
            "| \u001b[0m41       \u001b[0m | \u001b[0m0.49     \u001b[0m | \u001b[0m-6.565   \u001b[0m | \u001b[0m-12.0    \u001b[0m | \u001b[0m-8.844   \u001b[0m | \u001b[0m0.0      \u001b[0m |\n",
            "| \u001b[0m42       \u001b[0m | \u001b[0m0.0      \u001b[0m | \u001b[0m-2.57    \u001b[0m | \u001b[0m-12.0    \u001b[0m | \u001b[0m-12.0    \u001b[0m | \u001b[0m-12.0    \u001b[0m |\n",
            "| \u001b[0m43       \u001b[0m | \u001b[0m0.49     \u001b[0m | \u001b[0m-12.0    \u001b[0m | \u001b[0m-9.198   \u001b[0m | \u001b[0m-3.0     \u001b[0m | \u001b[0m0.0      \u001b[0m |\n",
            "| \u001b[0m44       \u001b[0m | \u001b[0m0.49     \u001b[0m | \u001b[0m-12.0    \u001b[0m | \u001b[0m0.0      \u001b[0m | \u001b[0m-3.0     \u001b[0m | \u001b[0m-4.398   \u001b[0m |\n",
            "| \u001b[0m45       \u001b[0m | \u001b[0m0.6228   \u001b[0m | \u001b[0m-9.107   \u001b[0m | \u001b[0m-10.64   \u001b[0m | \u001b[0m-10.18   \u001b[0m | \u001b[0m-10.82   \u001b[0m |\n",
            "=========================================================================\n",
            "CPU times: user 2min 48s, sys: 38.3 s, total: 3min 26s\n",
            "Wall time: 1min 47s\n"
          ]
        }
      ],
      "source": [
        "%%time\n",
        "fdekf_optimizer.maximize(\n",
        "    init_points=20,\n",
        "    n_iter=25,\n",
        ")"
      ]
    },
    {
      "cell_type": "markdown",
      "metadata": {
        "id": "IwVyLyuJB0lR"
      },
      "source": [
        "## 3.2 Test Set Accuracy"
      ]
    },
    {
      "cell_type": "code",
      "source": [
        "fdekf_hparams = {\n",
        "    'initial_covariance': 6.14421235332821e-06,\n",
        "    'dynamics_weights': 0.9999744634636286,\n",
        "    'dynamics_covariance': 3.62308554758596e-05,\n",
        "    'dynamics_covariance_inflation_factor': 6.14421235332821e-06\n",
        "}"
      ],
      "metadata": {
        "id": "TyqOIBC5owJf"
      },
      "execution_count": 56,
      "outputs": []
    },
    {
      "cell_type": "code",
      "execution_count": 57,
      "metadata": {
        "id": "pVMbYHDsB0lR"
      },
      "outputs": [],
      "source": [
        "# fdekf_hparams = hpt.get_best_params(fdekf_optimizer)\n",
        "fdekf_estimator = hpt.build_estimator(flat_params, fdekf_hparams, emission_mean_function,\n",
        "                                      emission_cov_function, method=\"fdekf\")"
      ]
    },
    {
      "cell_type": "code",
      "source": [
        "fdekf_hparams"
      ],
      "metadata": {
        "id": "K5MK_k_wFj3h",
        "outputId": "ef9aaa04-041e-4487-e45c-d3b1d07f4ee9",
        "colab": {
          "base_uri": "https://localhost:8080/"
        }
      },
      "execution_count": 58,
      "outputs": [
        {
          "output_type": "execute_result",
          "data": {
            "text/plain": [
              "{'initial_covariance': 6.14421235332821e-06,\n",
              " 'dynamics_weights': 0.9999744634636286,\n",
              " 'dynamics_covariance': 3.62308554758596e-05,\n",
              " 'dynamics_covariance_inflation_factor': 6.14421235332821e-06}"
            ]
          },
          "metadata": {},
          "execution_count": 58
        }
      ]
    },
    {
      "cell_type": "code",
      "execution_count": 59,
      "metadata": {
        "id": "1R2REZLYB0lR"
      },
      "outputs": [],
      "source": [
        "def test_acc_callback(i, bel_pre, bel_post, batch, **kwargs):\n",
        "    X_test, y_test = kwargs[\"X_test\"], kwargs[\"y_test\"]\n",
        "    ntest_per_batch = kwargs[\"ntest_per_batch\"]\n",
        "    X_test, y_test = X_test[:(i+1)*ntest_per_batch], y_test[:(i+1)*ntest_per_batch]\n",
        "    apply_fn = kwargs[\"apply_fn\"]\n",
        "    \n",
        "    overall_accuracy = evaluate_accuracy(bel_post.mean, apply_fn, X_test, y_test)\n",
        "    task1_accuracy = evaluate_accuracy(bel_post.mean, apply_fn, X_test[:ntest_per_batch], y_test[:ntest_per_batch])\n",
        "    result = {\n",
        "        'overall': overall_accuracy,\n",
        "        'task1': task1_accuracy,\n",
        "    }\n",
        "    return result"
      ]
    },
    {
      "cell_type": "code",
      "execution_count": 60,
      "metadata": {
        "id": "GdGdAXFVB0lR"
      },
      "outputs": [],
      "source": [
        "test_kwargs = {\n",
        "    'X_test': Xte,\n",
        "    'y_test': Yte,\n",
        "    'ntest_per_batch': ntest_per_batch,\n",
        "    'apply_fn': apply_fn,\n",
        "}\n",
        "_, fdekf_accs = fdekf_estimator.scan_dataloader(train_loader, callback=test_acc_callback, **test_kwargs)"
      ]
    },
    {
      "cell_type": "code",
      "execution_count": 61,
      "metadata": {
        "id": "CxTtctioB0lR",
        "outputId": "add62e21-94e7-4ed5-c5e0-b1a756e3cead",
        "colab": {
          "base_uri": "https://localhost:8080/"
        }
      },
      "outputs": [
        {
          "output_type": "execute_result",
          "data": {
            "text/plain": [
              "{'overall': Array([0.99600005, 0.89500004, 0.6806667 , 0.6965    , 0.624     ],      dtype=float32),\n",
              " 'task1': Array([0.99600005, 0.84200007, 0.39000002, 0.45600003, 0.386     ],      dtype=float32)}"
            ]
          },
          "metadata": {},
          "execution_count": 61
        }
      ],
      "source": [
        "fdekf_res = {\n",
        "    'overall': jnp.array([res['overall'] for res in fdekf_accs]),\n",
        "    'task1': jnp.array([res['task1'] for res in fdekf_accs]),\n",
        "}\n",
        "\n",
        "fdekf_res"
      ]
    },
    {
      "cell_type": "markdown",
      "metadata": {
        "id": "2_yEURSVB0lR"
      },
      "source": [
        "# 4. VDEKF"
      ]
    },
    {
      "cell_type": "markdown",
      "metadata": {
        "id": "Zxs_W3_6B0lR"
      },
      "source": [
        "## 4.1 Hyperparam Tuning"
      ]
    },
    {
      "cell_type": "code",
      "execution_count": 21,
      "metadata": {
        "id": "WyYxM6UaB0lR"
      },
      "outputs": [],
      "source": [
        "vdekf_optimizer, apply_fn, n_feats = hpt.create_optimizer(\n",
        "    cnn_model, pbounds, 314, train, val, emission_mean_function, emission_cov_function,\n",
        "    acc_callback, 'vdekf',\n",
        ")"
      ]
    },
    {
      "cell_type": "code",
      "execution_count": 22,
      "metadata": {
        "id": "SNXztgAwB0lR",
        "outputId": "a2a47cdb-b78b-4d72-d6fb-ea2dc021a1f6",
        "colab": {
          "base_uri": "https://localhost:8080/"
        }
      },
      "outputs": [
        {
          "output_type": "stream",
          "name": "stdout",
          "text": [
            "|   iter    |  target   | log_alpha | log_dy... | log_dy... | log_in... |\n",
            "-------------------------------------------------------------------------\n",
            "| \u001b[0m1        \u001b[0m | \u001b[0m0.0      \u001b[0m | \u001b[0m-0.9975  \u001b[0m | \u001b[0m-4.937   \u001b[0m | \u001b[0m-9.615   \u001b[0m | \u001b[0m-2.602   \u001b[0m |\n",
            "| \u001b[0m2        \u001b[0m | \u001b[0m0.0      \u001b[0m | \u001b[0m-0.984   \u001b[0m | \u001b[0m-2.072   \u001b[0m | \u001b[0m-5.448   \u001b[0m | \u001b[0m-8.874   \u001b[0m |\n",
            "| \u001b[0m3        \u001b[0m | \u001b[0m0.0      \u001b[0m | \u001b[0m-1.059   \u001b[0m | \u001b[0m-8.871   \u001b[0m | \u001b[0m-5.103   \u001b[0m | \u001b[0m-8.862   \u001b[0m |\n",
            "| \u001b[95m4        \u001b[0m | \u001b[95m0.49     \u001b[0m | \u001b[95m-10.53   \u001b[0m | \u001b[95m-7.368   \u001b[0m | \u001b[95m-4.439   \u001b[0m | \u001b[95m-8.662   \u001b[0m |\n",
            "| \u001b[0m5        \u001b[0m | \u001b[0m0.49     \u001b[0m | \u001b[0m-11.16   \u001b[0m | \u001b[0m-4.403   \u001b[0m | \u001b[0m-6.737   \u001b[0m | \u001b[0m-5.025   \u001b[0m |\n",
            "| \u001b[0m6        \u001b[0m | \u001b[0m0.49     \u001b[0m | \u001b[0m-3.874   \u001b[0m | \u001b[0m-3.754   \u001b[0m | \u001b[0m-8.05    \u001b[0m | \u001b[0m-8.149   \u001b[0m |\n",
            "| \u001b[95m7        \u001b[0m | \u001b[95m0.5044   \u001b[0m | \u001b[95m-5.153   \u001b[0m | \u001b[95m-6.242   \u001b[0m | \u001b[95m-4.25    \u001b[0m | \u001b[95m-1.982   \u001b[0m |\n",
            "| \u001b[95m8        \u001b[0m | \u001b[95m0.5848   \u001b[0m | \u001b[95m-10.73   \u001b[0m | \u001b[95m-11.28   \u001b[0m | \u001b[95m-6.628   \u001b[0m | \u001b[95m-2.491   \u001b[0m |\n",
            "| \u001b[0m9        \u001b[0m | \u001b[0m0.49     \u001b[0m | \u001b[0m-9.284   \u001b[0m | \u001b[0m-5.578   \u001b[0m | \u001b[0m-10.78   \u001b[0m | \u001b[0m-7.533   \u001b[0m |\n",
            "| \u001b[0m10       \u001b[0m | \u001b[0m0.5544   \u001b[0m | \u001b[0m-10.18   \u001b[0m | \u001b[0m-6.842   \u001b[0m | \u001b[0m-4.866   \u001b[0m | \u001b[0m-7.117   \u001b[0m |\n",
            "| \u001b[0m11       \u001b[0m | \u001b[0m0.51     \u001b[0m | \u001b[0m-9.866   \u001b[0m | \u001b[0m-1.089   \u001b[0m | \u001b[0m-7.092   \u001b[0m | \u001b[0m-10.79   \u001b[0m |\n",
            "| \u001b[0m12       \u001b[0m | \u001b[0m0.51     \u001b[0m | \u001b[0m-3.375   \u001b[0m | \u001b[0m-0.2588  \u001b[0m | \u001b[0m-9.212   \u001b[0m | \u001b[0m-8.878   \u001b[0m |\n",
            "| \u001b[0m13       \u001b[0m | \u001b[0m0.49     \u001b[0m | \u001b[0m-4.045   \u001b[0m | \u001b[0m-10.32   \u001b[0m | \u001b[0m-11.25   \u001b[0m | \u001b[0m-5.678   \u001b[0m |\n",
            "| \u001b[0m14       \u001b[0m | \u001b[0m0.51     \u001b[0m | \u001b[0m-4.677   \u001b[0m | \u001b[0m-1.591   \u001b[0m | \u001b[0m-10.66   \u001b[0m | \u001b[0m-1.631   \u001b[0m |\n",
            "| \u001b[0m15       \u001b[0m | \u001b[0m0.51     \u001b[0m | \u001b[0m-6.601   \u001b[0m | \u001b[0m-3.278   \u001b[0m | \u001b[0m-10.6    \u001b[0m | \u001b[0m-6.995   \u001b[0m |\n",
            "| \u001b[0m16       \u001b[0m | \u001b[0m0.5596   \u001b[0m | \u001b[0m-10.29   \u001b[0m | \u001b[0m-7.929   \u001b[0m | \u001b[0m-5.675   \u001b[0m | \u001b[0m-11.08   \u001b[0m |\n",
            "| \u001b[0m17       \u001b[0m | \u001b[0m0.51     \u001b[0m | \u001b[0m-11.15   \u001b[0m | \u001b[0m-0.2164  \u001b[0m | \u001b[0m-11.63   \u001b[0m | \u001b[0m-10.81   \u001b[0m |\n",
            "| \u001b[0m18       \u001b[0m | \u001b[0m0.49     \u001b[0m | \u001b[0m-9.354   \u001b[0m | \u001b[0m-4.08    \u001b[0m | \u001b[0m-3.035   \u001b[0m | \u001b[0m-0.3627  \u001b[0m |\n",
            "| \u001b[0m19       \u001b[0m | \u001b[0m0.51     \u001b[0m | \u001b[0m-3.881   \u001b[0m | \u001b[0m-0.01823 \u001b[0m | \u001b[0m-10.91   \u001b[0m | \u001b[0m-6.765   \u001b[0m |\n",
            "| \u001b[0m20       \u001b[0m | \u001b[0m0.49     \u001b[0m | \u001b[0m-9.992   \u001b[0m | \u001b[0m-5.432   \u001b[0m | \u001b[0m-5.06    \u001b[0m | \u001b[0m-5.203   \u001b[0m |\n",
            "| \u001b[95m21       \u001b[0m | \u001b[95m0.6156   \u001b[0m | \u001b[95m-10.45   \u001b[0m | \u001b[95m-11.93   \u001b[0m | \u001b[95m-8.918   \u001b[0m | \u001b[95m-7.661   \u001b[0m |\n",
            "| \u001b[0m22       \u001b[0m | \u001b[0m0.49     \u001b[0m | \u001b[0m-10.12   \u001b[0m | \u001b[0m-12.0    \u001b[0m | \u001b[0m-12.0    \u001b[0m | \u001b[0m-3.165   \u001b[0m |\n",
            "| \u001b[0m23       \u001b[0m | \u001b[0m0.614    \u001b[0m | \u001b[0m-12.0    \u001b[0m | \u001b[0m-10.32   \u001b[0m | \u001b[0m-10.6    \u001b[0m | \u001b[0m-12.0    \u001b[0m |\n",
            "| \u001b[95m24       \u001b[0m | \u001b[95m0.6312   \u001b[0m | \u001b[95m-7.27    \u001b[0m | \u001b[95m-12.0    \u001b[0m | \u001b[95m-12.0    \u001b[0m | \u001b[95m-12.0    \u001b[0m |\n",
            "| \u001b[0m25       \u001b[0m | \u001b[0m0.49     \u001b[0m | \u001b[0m-6.046   \u001b[0m | \u001b[0m-6.436   \u001b[0m | \u001b[0m-12.0    \u001b[0m | \u001b[0m-12.0    \u001b[0m |\n",
            "| \u001b[0m26       \u001b[0m | \u001b[0m0.51     \u001b[0m | \u001b[0m-9.936   \u001b[0m | \u001b[0m0.0      \u001b[0m | \u001b[0m-12.0    \u001b[0m | \u001b[0m0.0      \u001b[0m |\n",
            "| \u001b[0m27       \u001b[0m | \u001b[0m0.49     \u001b[0m | \u001b[0m-7.372   \u001b[0m | \u001b[0m-12.0    \u001b[0m | \u001b[0m-3.0     \u001b[0m | \u001b[0m0.0      \u001b[0m |\n",
            "| \u001b[0m28       \u001b[0m | \u001b[0m0.5972   \u001b[0m | \u001b[0m-8.958   \u001b[0m | \u001b[0m-12.0    \u001b[0m | \u001b[0m-7.693   \u001b[0m | \u001b[0m-12.0    \u001b[0m |\n",
            "| \u001b[0m29       \u001b[0m | \u001b[0m0.49     \u001b[0m | \u001b[0m-12.0    \u001b[0m | \u001b[0m-12.0    \u001b[0m | \u001b[0m-3.0     \u001b[0m | \u001b[0m-5.348   \u001b[0m |\n",
            "| \u001b[0m30       \u001b[0m | \u001b[0m0.51     \u001b[0m | \u001b[0m-12.0    \u001b[0m | \u001b[0m-7.062   \u001b[0m | \u001b[0m-9.693   \u001b[0m | \u001b[0m0.0      \u001b[0m |\n",
            "| \u001b[0m31       \u001b[0m | \u001b[0m0.49     \u001b[0m | \u001b[0m-7.065   \u001b[0m | \u001b[0m0.0      \u001b[0m | \u001b[0m-6.604   \u001b[0m | \u001b[0m0.0      \u001b[0m |\n",
            "| \u001b[0m32       \u001b[0m | \u001b[0m0.51     \u001b[0m | \u001b[0m-5.331   \u001b[0m | \u001b[0m0.0      \u001b[0m | \u001b[0m-12.0    \u001b[0m | \u001b[0m-12.0    \u001b[0m |\n",
            "| \u001b[95m33       \u001b[0m | \u001b[95m0.634    \u001b[0m | \u001b[95m-8.303   \u001b[0m | \u001b[95m-12.0    \u001b[0m | \u001b[95m-12.0    \u001b[0m | \u001b[95m-8.585   \u001b[0m |\n",
            "| \u001b[95m34       \u001b[0m | \u001b[95m0.6412   \u001b[0m | \u001b[95m-8.104   \u001b[0m | \u001b[95m-9.653   \u001b[0m | \u001b[95m-7.402   \u001b[0m | \u001b[95m-5.892   \u001b[0m |\n",
            "| \u001b[0m35       \u001b[0m | \u001b[0m0.6292   \u001b[0m | \u001b[0m-8.306   \u001b[0m | \u001b[0m-9.409   \u001b[0m | \u001b[0m-9.214   \u001b[0m | \u001b[0m-9.788   \u001b[0m |\n",
            "| \u001b[0m36       \u001b[0m | \u001b[0m0.0      \u001b[0m | \u001b[0m-2.339   \u001b[0m | \u001b[0m-12.0    \u001b[0m | \u001b[0m-12.0    \u001b[0m | \u001b[0m-12.0    \u001b[0m |\n",
            "| \u001b[0m37       \u001b[0m | \u001b[0m0.49     \u001b[0m | \u001b[0m-5.993   \u001b[0m | \u001b[0m-12.0    \u001b[0m | \u001b[0m-9.2     \u001b[0m | \u001b[0m0.0      \u001b[0m |\n",
            "| \u001b[0m38       \u001b[0m | \u001b[0m0.49     \u001b[0m | \u001b[0m-11.9    \u001b[0m | \u001b[0m-4.994   \u001b[0m | \u001b[0m-9.211   \u001b[0m | \u001b[0m-11.91   \u001b[0m |\n",
            "| \u001b[0m39       \u001b[0m | \u001b[0m0.6316   \u001b[0m | \u001b[0m-12.0    \u001b[0m | \u001b[0m-12.0    \u001b[0m | \u001b[0m-12.0    \u001b[0m | \u001b[0m-9.789   \u001b[0m |\n",
            "| \u001b[0m40       \u001b[0m | \u001b[0m0.49     \u001b[0m | \u001b[0m-12.0    \u001b[0m | \u001b[0m0.0      \u001b[0m | \u001b[0m-3.0     \u001b[0m | \u001b[0m-12.0    \u001b[0m |\n",
            "| \u001b[0m41       \u001b[0m | \u001b[0m0.63     \u001b[0m | \u001b[0m-9.553   \u001b[0m | \u001b[0m-11.57   \u001b[0m | \u001b[0m-11.44   \u001b[0m | \u001b[0m-11.94   \u001b[0m |\n",
            "| \u001b[0m42       \u001b[0m | \u001b[0m0.6176   \u001b[0m | \u001b[0m-12.0    \u001b[0m | \u001b[0m-8.939   \u001b[0m | \u001b[0m-8.226   \u001b[0m | \u001b[0m-6.028   \u001b[0m |\n",
            "| \u001b[0m43       \u001b[0m | \u001b[0m0.49     \u001b[0m | \u001b[0m-12.0    \u001b[0m | \u001b[0m0.0      \u001b[0m | \u001b[0m-3.0     \u001b[0m | \u001b[0m-4.344   \u001b[0m |\n",
            "| \u001b[0m44       \u001b[0m | \u001b[0m0.49     \u001b[0m | \u001b[0m-12.0    \u001b[0m | \u001b[0m-12.0    \u001b[0m | \u001b[0m-3.0     \u001b[0m | \u001b[0m-12.0    \u001b[0m |\n",
            "| \u001b[0m45       \u001b[0m | \u001b[0m0.0      \u001b[0m | \u001b[0m0.0      \u001b[0m | \u001b[0m-12.0    \u001b[0m | \u001b[0m-3.0     \u001b[0m | \u001b[0m0.0      \u001b[0m |\n",
            "=========================================================================\n",
            "CPU times: user 3min 4s, sys: 39.1 s, total: 3min 43s\n",
            "Wall time: 2min 2s\n"
          ]
        }
      ],
      "source": [
        "%%time\n",
        "vdekf_optimizer.maximize(\n",
        "    init_points=20,\n",
        "    n_iter=25,\n",
        ")"
      ]
    },
    {
      "cell_type": "markdown",
      "metadata": {
        "id": "i3Lb7EYQB0lR"
      },
      "source": [
        "## 4.2 Test Set Accuracy"
      ]
    },
    {
      "cell_type": "code",
      "source": [
        "vdekf_hparams = {\n",
        "    'initial_covariance': 0.0027612259761103323,\n",
        "    'dynamics_weights': 0.999389739424057,\n",
        "    'dynamics_covariance': 6.422488437637889e-05,\n",
        "    'dynamics_covariance_inflation_factor': 0.00030221125980187\n",
        "}"
      ],
      "metadata": {
        "id": "xeRrzbXJo_wT"
      },
      "execution_count": 22,
      "outputs": []
    },
    {
      "cell_type": "code",
      "execution_count": 23,
      "metadata": {
        "id": "_BKbfR8AB0lS"
      },
      "outputs": [],
      "source": [
        "# vdekf_hparams = hpt.get_best_params(vdekf_optimizer)\n",
        "vdekf_estimator = hpt.build_estimator(flat_params, vdekf_hparams, emission_mean_function,\n",
        "                                      emission_cov_function, method=\"vdekf\")"
      ]
    },
    {
      "cell_type": "code",
      "source": [
        "vdekf_hparams"
      ],
      "metadata": {
        "id": "F62A5J-7C3c8",
        "outputId": "ed03f549-5988-401b-9820-6456074d1e0f",
        "colab": {
          "base_uri": "https://localhost:8080/"
        }
      },
      "execution_count": 24,
      "outputs": [
        {
          "output_type": "execute_result",
          "data": {
            "text/plain": [
              "{'initial_covariance': 0.0027612259761103323,\n",
              " 'dynamics_weights': 0.999389739424057,\n",
              " 'dynamics_covariance': 6.422488437637889e-05,\n",
              " 'dynamics_covariance_inflation_factor': 0.00030221125980187}"
            ]
          },
          "metadata": {},
          "execution_count": 24
        }
      ]
    },
    {
      "cell_type": "code",
      "execution_count": 25,
      "metadata": {
        "id": "bWOCErk9B0lS"
      },
      "outputs": [],
      "source": [
        "_, vdekf_accs = vdekf_estimator.scan_dataloader(train_loader, callback=test_acc_callback, **test_kwargs)"
      ]
    },
    {
      "cell_type": "code",
      "execution_count": 50,
      "metadata": {
        "id": "ci5IzR0aB0lS",
        "outputId": "30c07a7a-0109-4fd8-9b21-070e443e0122",
        "colab": {
          "base_uri": "https://localhost:8080/"
        }
      },
      "outputs": [
        {
          "output_type": "execute_result",
          "data": {
            "text/plain": [
              "{'overall': Array([0.994     , 0.896     , 0.66466665, 0.77050006, 0.6464    ],      dtype=float32),\n",
              " 'task1': Array([0.994     , 0.84800005, 0.386     , 0.55200005, 0.48400003],      dtype=float32)}"
            ]
          },
          "metadata": {},
          "execution_count": 50
        }
      ],
      "source": [
        "vdekf_res = {\n",
        "    'overall': jnp.array([res['overall'] for res in vdekf_accs]),\n",
        "    'task1': jnp.array([res['task1'] for res in vdekf_accs]),\n",
        "}\n",
        "\n",
        "vdekf_res"
      ]
    },
    {
      "cell_type": "markdown",
      "metadata": {
        "id": "9UK1A_CGB0lS"
      },
      "source": [
        "# 5. LoFi-Orth"
      ]
    },
    {
      "cell_type": "markdown",
      "metadata": {
        "id": "YMoDiy2QB0lS"
      },
      "source": [
        "## 5.1 Hyperparam Tuning"
      ]
    },
    {
      "cell_type": "code",
      "execution_count": 28,
      "metadata": {
        "id": "okfqA0p7B0lS"
      },
      "outputs": [],
      "source": [
        "lofi_params_spherical = LoFiParams(\n",
        "    memory_size=20,\n",
        "    diagonal_covariance=False,\n",
        ")"
      ]
    },
    {
      "cell_type": "code",
      "execution_count": 28,
      "metadata": {
        "id": "ySieQmkuB0lS"
      },
      "outputs": [],
      "source": [
        "lofi_orth_optimizer, apply_fn, n_feats = hpt.create_optimizer(\n",
        "    cnn_model, pbounds, 314, train, val, emission_mean_function, emission_cov_function,\n",
        "    acc_callback, 'lofi_orth', params_lofi=lofi_params_spherical\n",
        ")"
      ]
    },
    {
      "cell_type": "code",
      "execution_count": 29,
      "metadata": {
        "id": "iCCZIfOsB0lS",
        "outputId": "069d6d0c-e585-42ea-bc06-415038521649",
        "colab": {
          "base_uri": "https://localhost:8080/"
        }
      },
      "outputs": [
        {
          "output_type": "stream",
          "name": "stdout",
          "text": [
            "|   iter    |  target   | log_alpha | log_dy... | log_dy... | log_in... |\n",
            "-------------------------------------------------------------------------\n",
            "| \u001b[0m1        \u001b[0m | \u001b[0m0.51     \u001b[0m | \u001b[0m-0.9975  \u001b[0m | \u001b[0m-4.937   \u001b[0m | \u001b[0m-9.615   \u001b[0m | \u001b[0m-2.602   \u001b[0m |\n",
            "| \u001b[0m2        \u001b[0m | \u001b[0m0.49     \u001b[0m | \u001b[0m-0.984   \u001b[0m | \u001b[0m-2.072   \u001b[0m | \u001b[0m-5.448   \u001b[0m | \u001b[0m-8.874   \u001b[0m |\n",
            "| \u001b[0m3        \u001b[0m | \u001b[0m0.49     \u001b[0m | \u001b[0m-1.059   \u001b[0m | \u001b[0m-8.871   \u001b[0m | \u001b[0m-5.103   \u001b[0m | \u001b[0m-8.862   \u001b[0m |\n",
            "| \u001b[0m4        \u001b[0m | \u001b[0m0.49     \u001b[0m | \u001b[0m-10.53   \u001b[0m | \u001b[0m-7.368   \u001b[0m | \u001b[0m-4.439   \u001b[0m | \u001b[0m-8.662   \u001b[0m |\n",
            "| \u001b[0m5        \u001b[0m | \u001b[0m0.51     \u001b[0m | \u001b[0m-11.16   \u001b[0m | \u001b[0m-4.403   \u001b[0m | \u001b[0m-6.737   \u001b[0m | \u001b[0m-5.025   \u001b[0m |\n",
            "| \u001b[0m6        \u001b[0m | \u001b[0m0.49     \u001b[0m | \u001b[0m-3.874   \u001b[0m | \u001b[0m-3.754   \u001b[0m | \u001b[0m-8.05    \u001b[0m | \u001b[0m-8.149   \u001b[0m |\n",
            "| \u001b[0m7        \u001b[0m | \u001b[0m0.4904   \u001b[0m | \u001b[0m-5.153   \u001b[0m | \u001b[0m-6.242   \u001b[0m | \u001b[0m-4.25    \u001b[0m | \u001b[0m-1.982   \u001b[0m |\n",
            "| \u001b[95m8        \u001b[0m | \u001b[95m0.5856   \u001b[0m | \u001b[95m-10.73   \u001b[0m | \u001b[95m-11.28   \u001b[0m | \u001b[95m-6.628   \u001b[0m | \u001b[95m-2.491   \u001b[0m |\n",
            "| \u001b[0m9        \u001b[0m | \u001b[0m0.49     \u001b[0m | \u001b[0m-9.284   \u001b[0m | \u001b[0m-5.578   \u001b[0m | \u001b[0m-10.78   \u001b[0m | \u001b[0m-7.533   \u001b[0m |\n",
            "| \u001b[0m10       \u001b[0m | \u001b[0m0.5556   \u001b[0m | \u001b[0m-10.18   \u001b[0m | \u001b[0m-6.842   \u001b[0m | \u001b[0m-4.866   \u001b[0m | \u001b[0m-7.117   \u001b[0m |\n",
            "| \u001b[0m11       \u001b[0m | \u001b[0m0.51     \u001b[0m | \u001b[0m-9.866   \u001b[0m | \u001b[0m-1.089   \u001b[0m | \u001b[0m-7.092   \u001b[0m | \u001b[0m-10.79   \u001b[0m |\n",
            "| \u001b[0m12       \u001b[0m | \u001b[0m0.51     \u001b[0m | \u001b[0m-3.375   \u001b[0m | \u001b[0m-0.2588  \u001b[0m | \u001b[0m-9.212   \u001b[0m | \u001b[0m-8.878   \u001b[0m |\n",
            "| \u001b[0m13       \u001b[0m | \u001b[0m0.5848   \u001b[0m | \u001b[0m-4.045   \u001b[0m | \u001b[0m-10.32   \u001b[0m | \u001b[0m-11.25   \u001b[0m | \u001b[0m-5.678   \u001b[0m |\n",
            "| \u001b[0m14       \u001b[0m | \u001b[0m0.49     \u001b[0m | \u001b[0m-4.677   \u001b[0m | \u001b[0m-1.591   \u001b[0m | \u001b[0m-10.66   \u001b[0m | \u001b[0m-1.631   \u001b[0m |\n",
            "| \u001b[0m15       \u001b[0m | \u001b[0m0.51     \u001b[0m | \u001b[0m-6.601   \u001b[0m | \u001b[0m-3.278   \u001b[0m | \u001b[0m-10.6    \u001b[0m | \u001b[0m-6.995   \u001b[0m |\n",
            "| \u001b[0m16       \u001b[0m | \u001b[0m0.5756   \u001b[0m | \u001b[0m-10.29   \u001b[0m | \u001b[0m-7.929   \u001b[0m | \u001b[0m-5.675   \u001b[0m | \u001b[0m-11.08   \u001b[0m |\n",
            "| \u001b[0m17       \u001b[0m | \u001b[0m0.51     \u001b[0m | \u001b[0m-11.15   \u001b[0m | \u001b[0m-0.2164  \u001b[0m | \u001b[0m-11.63   \u001b[0m | \u001b[0m-10.81   \u001b[0m |\n",
            "| \u001b[0m18       \u001b[0m | \u001b[0m0.49     \u001b[0m | \u001b[0m-9.354   \u001b[0m | \u001b[0m-4.08    \u001b[0m | \u001b[0m-3.035   \u001b[0m | \u001b[0m-0.3627  \u001b[0m |\n",
            "| \u001b[0m19       \u001b[0m | \u001b[0m0.51     \u001b[0m | \u001b[0m-3.881   \u001b[0m | \u001b[0m-0.01823 \u001b[0m | \u001b[0m-10.91   \u001b[0m | \u001b[0m-6.765   \u001b[0m |\n",
            "| \u001b[0m20       \u001b[0m | \u001b[0m0.49     \u001b[0m | \u001b[0m-9.992   \u001b[0m | \u001b[0m-5.432   \u001b[0m | \u001b[0m-5.06    \u001b[0m | \u001b[0m-5.203   \u001b[0m |\n",
            "| \u001b[0m21       \u001b[0m | \u001b[0m0.49     \u001b[0m | \u001b[0m-1.454   \u001b[0m | \u001b[0m-9.137   \u001b[0m | \u001b[0m-5.12    \u001b[0m | \u001b[0m-8.776   \u001b[0m |\n",
            "| \u001b[95m22       \u001b[0m | \u001b[95m0.5892   \u001b[0m | \u001b[95m-10.43   \u001b[0m | \u001b[95m-11.43   \u001b[0m | \u001b[95m-6.54    \u001b[0m | \u001b[95m-1.957   \u001b[0m |\n",
            "| \u001b[0m23       \u001b[0m | \u001b[0m0.51     \u001b[0m | \u001b[0m-10.09   \u001b[0m | \u001b[0m-11.5    \u001b[0m | \u001b[0m-5.804   \u001b[0m | \u001b[0m-2.555   \u001b[0m |\n",
            "| \u001b[95m24       \u001b[0m | \u001b[95m0.5908   \u001b[0m | \u001b[95m-10.83   \u001b[0m | \u001b[95m-11.29   \u001b[0m | \u001b[95m-7.029   \u001b[0m | \u001b[95m-1.945   \u001b[0m |\n",
            "| \u001b[0m25       \u001b[0m | \u001b[0m0.5892   \u001b[0m | \u001b[0m-3.934   \u001b[0m | \u001b[0m-10.98   \u001b[0m | \u001b[0m-11.68   \u001b[0m | \u001b[0m-5.3     \u001b[0m |\n",
            "| \u001b[0m26       \u001b[0m | \u001b[0m0.5856   \u001b[0m | \u001b[0m-4.639   \u001b[0m | \u001b[0m-11.25   \u001b[0m | \u001b[0m-11.14   \u001b[0m | \u001b[0m-5.783   \u001b[0m |\n",
            "| \u001b[0m27       \u001b[0m | \u001b[0m0.5344   \u001b[0m | \u001b[0m-3.518   \u001b[0m | \u001b[0m-11.11   \u001b[0m | \u001b[0m-11.4    \u001b[0m | \u001b[0m-6.521   \u001b[0m |\n",
            "| \u001b[95m28       \u001b[0m | \u001b[95m0.5912   \u001b[0m | \u001b[95m-4.806   \u001b[0m | \u001b[95m-10.62   \u001b[0m | \u001b[95m-11.3    \u001b[0m | \u001b[95m-4.803   \u001b[0m |\n",
            "| \u001b[0m29       \u001b[0m | \u001b[0m0.576    \u001b[0m | \u001b[0m-3.996   \u001b[0m | \u001b[0m-11.04   \u001b[0m | \u001b[0m-10.49   \u001b[0m | \u001b[0m-4.791   \u001b[0m |\n",
            "| \u001b[95m30       \u001b[0m | \u001b[95m0.61     \u001b[0m | \u001b[95m-9.8     \u001b[0m | \u001b[95m-11.37   \u001b[0m | \u001b[95m-7.665   \u001b[0m | \u001b[95m-2.256   \u001b[0m |\n",
            "| \u001b[0m31       \u001b[0m | \u001b[0m0.5992   \u001b[0m | \u001b[0m-9.758   \u001b[0m | \u001b[0m-10.24   \u001b[0m | \u001b[0m-7.429   \u001b[0m | \u001b[0m-1.88    \u001b[0m |\n",
            "| \u001b[95m32       \u001b[0m | \u001b[95m0.618    \u001b[0m | \u001b[95m-10.09   \u001b[0m | \u001b[95m-10.49   \u001b[0m | \u001b[95m-8.328   \u001b[0m | \u001b[95m-3.166   \u001b[0m |\n",
            "| \u001b[0m33       \u001b[0m | \u001b[0m0.6132   \u001b[0m | \u001b[0m-9.001   \u001b[0m | \u001b[0m-10.66   \u001b[0m | \u001b[0m-9.093   \u001b[0m | \u001b[0m-2.522   \u001b[0m |\n",
            "| \u001b[95m34       \u001b[0m | \u001b[95m0.6404   \u001b[0m | \u001b[95m-9.716   \u001b[0m | \u001b[95m-11.82   \u001b[0m | \u001b[95m-9.261   \u001b[0m | \u001b[95m-3.604   \u001b[0m |\n",
            "| \u001b[0m35       \u001b[0m | \u001b[0m0.6404   \u001b[0m | \u001b[0m-10.56   \u001b[0m | \u001b[0m-11.34   \u001b[0m | \u001b[0m-10.21   \u001b[0m | \u001b[0m-3.028   \u001b[0m |\n",
            "| \u001b[95m36       \u001b[0m | \u001b[95m0.6576   \u001b[0m | \u001b[95m-9.735   \u001b[0m | \u001b[95m-10.88   \u001b[0m | \u001b[95m-10.51   \u001b[0m | \u001b[95m-4.439   \u001b[0m |\n",
            "| \u001b[95m37       \u001b[0m | \u001b[95m0.6708   \u001b[0m | \u001b[95m-9.105   \u001b[0m | \u001b[95m-12.0    \u001b[0m | \u001b[95m-11.42   \u001b[0m | \u001b[95m-3.792   \u001b[0m |\n",
            "| \u001b[0m38       \u001b[0m | \u001b[0m0.65     \u001b[0m | \u001b[0m-10.55   \u001b[0m | \u001b[0m-12.0    \u001b[0m | \u001b[0m-11.88   \u001b[0m | \u001b[0m-4.775   \u001b[0m |\n",
            "| \u001b[0m39       \u001b[0m | \u001b[0m0.6484   \u001b[0m | \u001b[0m-8.515   \u001b[0m | \u001b[0m-12.0    \u001b[0m | \u001b[0m-11.38   \u001b[0m | \u001b[0m-5.682   \u001b[0m |\n",
            "| \u001b[95m40       \u001b[0m | \u001b[95m0.6864   \u001b[0m | \u001b[95m-8.522   \u001b[0m | \u001b[95m-9.868   \u001b[0m | \u001b[95m-11.86   \u001b[0m | \u001b[95m-4.188   \u001b[0m |\n",
            "| \u001b[0m41       \u001b[0m | \u001b[0m0.616    \u001b[0m | \u001b[0m-9.238   \u001b[0m | \u001b[0m-9.876   \u001b[0m | \u001b[0m-12.0    \u001b[0m | \u001b[0m-5.755   \u001b[0m |\n",
            "| \u001b[0m42       \u001b[0m | \u001b[0m0.49     \u001b[0m | \u001b[0m-9.251   \u001b[0m | \u001b[0m-9.874   \u001b[0m | \u001b[0m-12.0    \u001b[0m | \u001b[0m-2.514   \u001b[0m |\n",
            "| \u001b[0m43       \u001b[0m | \u001b[0m0.6024   \u001b[0m | \u001b[0m-7.476   \u001b[0m | \u001b[0m-10.32   \u001b[0m | \u001b[0m-11.19   \u001b[0m | \u001b[0m-5.157   \u001b[0m |\n",
            "| \u001b[0m44       \u001b[0m | \u001b[0m0.6252   \u001b[0m | \u001b[0m-7.327   \u001b[0m | \u001b[0m-12.0    \u001b[0m | \u001b[0m-12.0    \u001b[0m | \u001b[0m-4.339   \u001b[0m |\n",
            "| \u001b[0m45       \u001b[0m | \u001b[0m0.6228   \u001b[0m | \u001b[0m-9.072   \u001b[0m | \u001b[0m-10.61   \u001b[0m | \u001b[0m-11.62   \u001b[0m | \u001b[0m-4.578   \u001b[0m |\n",
            "=========================================================================\n",
            "CPU times: user 5min 33s, sys: 39.1 s, total: 6min 12s\n",
            "Wall time: 4min 19s\n"
          ]
        }
      ],
      "source": [
        "%%time\n",
        "lofi_orth_optimizer.maximize(\n",
        "    init_points=20,\n",
        "    n_iter=25,\n",
        ")"
      ]
    },
    {
      "cell_type": "markdown",
      "metadata": {
        "id": "xzhDvkJtB0lS"
      },
      "source": [
        "## 5.2 Test Set Accuracy"
      ]
    },
    {
      "cell_type": "code",
      "source": [
        "lofi_orth_hparams = {\n",
        "    'initial_covariance': 0.015181382796972617,\n",
        "    'dynamics_weights': 0.9999929474655552,\n",
        "    'dynamics_covariance': 5.179486606771215e-05,\n",
        "    'dynamics_covariance_inflation_factor': 0.00019898132501803284\n",
        "}"
      ],
      "metadata": {
        "id": "Z1KOGHuKpKHX"
      },
      "execution_count": 26,
      "outputs": []
    },
    {
      "cell_type": "code",
      "execution_count": 29,
      "metadata": {
        "id": "W0YMG2_yB0lS"
      },
      "outputs": [],
      "source": [
        "# lofi_orth_hparams = hpt.get_best_params(lofi_orth_optimizer)\n",
        "lofi_orth_estimator = hpt.build_estimator(flat_params, lofi_orth_hparams, emission_mean_function,\n",
        "                                          emission_cov_function, method=\"lofi_orth\", \n",
        "                                          lofi_params=lofi_params_spherical)"
      ]
    },
    {
      "cell_type": "code",
      "source": [
        "lofi_orth_hparams"
      ],
      "metadata": {
        "id": "hDQ_SJ-5C59r",
        "outputId": "4ca9345f-e4f3-4cd6-e011-e76cfa7a591c",
        "colab": {
          "base_uri": "https://localhost:8080/"
        }
      },
      "execution_count": 30,
      "outputs": [
        {
          "output_type": "execute_result",
          "data": {
            "text/plain": [
              "{'initial_covariance': 0.015181382796972617,\n",
              " 'dynamics_weights': 0.9999929474655552,\n",
              " 'dynamics_covariance': 5.179486606771215e-05,\n",
              " 'dynamics_covariance_inflation_factor': 0.00019898132501803284}"
            ]
          },
          "metadata": {},
          "execution_count": 30
        }
      ]
    },
    {
      "cell_type": "code",
      "execution_count": 31,
      "metadata": {
        "id": "wZ83Pl6dB0lS"
      },
      "outputs": [],
      "source": [
        "_, lofi_orth_accs = lofi_orth_estimator.scan_dataloader(train_loader, callback=test_acc_callback, **test_kwargs)"
      ]
    },
    {
      "cell_type": "code",
      "execution_count": 49,
      "metadata": {
        "id": "mX9f3qPYB0lS",
        "outputId": "28951fbc-46a0-42ee-ed0d-521951c589ce",
        "colab": {
          "base_uri": "https://localhost:8080/"
        }
      },
      "outputs": [
        {
          "output_type": "execute_result",
          "data": {
            "text/plain": [
              "{'overall': Array([0.99600005, 0.88400006, 0.59466666, 0.76650006, 0.6428    ],      dtype=float32),\n",
              " 'task1': Array([0.99600005, 0.808     , 0.10600001, 0.87200004, 0.64000005],      dtype=float32)}"
            ]
          },
          "metadata": {},
          "execution_count": 49
        }
      ],
      "source": [
        "lofi_orth_res = {\n",
        "    'overall': jnp.array([res['overall'] for res in lofi_orth_accs]),\n",
        "    'task1': jnp.array([res['task1'] for res in lofi_orth_accs]),\n",
        "}\n",
        "\n",
        "lofi_orth_res"
      ]
    },
    {
      "cell_type": "markdown",
      "metadata": {
        "id": "6pBaqlBNB0lS"
      },
      "source": [
        "# 6. LoFi-Spherical"
      ]
    },
    {
      "cell_type": "markdown",
      "metadata": {
        "id": "8j64ay5RB0lS"
      },
      "source": [
        "## 6.1 Hyperparam Tuning"
      ]
    },
    {
      "cell_type": "code",
      "execution_count": 34,
      "metadata": {
        "id": "lsbPkekYB0lS"
      },
      "outputs": [],
      "source": [
        "lofi_sph_optimizer, apply_fn, n_feats = hpt.create_optimizer(\n",
        "    cnn_model, pbounds, 314, train, val, emission_mean_function, emission_cov_function,\n",
        "    acc_callback, 'lofi', params_lofi=lofi_params_spherical\n",
        ")"
      ]
    },
    {
      "cell_type": "code",
      "execution_count": 35,
      "metadata": {
        "id": "lzLv_fiEB0lS",
        "outputId": "2d13e901-5ecd-4d95-9ba1-afc7448327c9",
        "colab": {
          "base_uri": "https://localhost:8080/"
        }
      },
      "outputs": [
        {
          "output_type": "stream",
          "name": "stdout",
          "text": [
            "|   iter    |  target   | log_alpha | log_dy... | log_dy... | log_in... |\n",
            "-------------------------------------------------------------------------\n",
            "| \u001b[0m1        \u001b[0m | \u001b[0m0.51     \u001b[0m | \u001b[0m-0.9975  \u001b[0m | \u001b[0m-4.937   \u001b[0m | \u001b[0m-9.615   \u001b[0m | \u001b[0m-2.602   \u001b[0m |\n",
            "| \u001b[0m2        \u001b[0m | \u001b[0m0.49     \u001b[0m | \u001b[0m-0.984   \u001b[0m | \u001b[0m-2.072   \u001b[0m | \u001b[0m-5.448   \u001b[0m | \u001b[0m-8.874   \u001b[0m |\n",
            "| \u001b[0m3        \u001b[0m | \u001b[0m0.49     \u001b[0m | \u001b[0m-1.059   \u001b[0m | \u001b[0m-8.871   \u001b[0m | \u001b[0m-5.103   \u001b[0m | \u001b[0m-8.862   \u001b[0m |\n",
            "| \u001b[0m4        \u001b[0m | \u001b[0m0.49     \u001b[0m | \u001b[0m-10.53   \u001b[0m | \u001b[0m-7.368   \u001b[0m | \u001b[0m-4.439   \u001b[0m | \u001b[0m-8.662   \u001b[0m |\n",
            "| \u001b[95m5        \u001b[0m | \u001b[95m0.5124   \u001b[0m | \u001b[95m-11.16   \u001b[0m | \u001b[95m-4.403   \u001b[0m | \u001b[95m-6.737   \u001b[0m | \u001b[95m-5.025   \u001b[0m |\n",
            "| \u001b[0m6        \u001b[0m | \u001b[0m0.49     \u001b[0m | \u001b[0m-3.874   \u001b[0m | \u001b[0m-3.754   \u001b[0m | \u001b[0m-8.05    \u001b[0m | \u001b[0m-8.149   \u001b[0m |\n",
            "| \u001b[95m7        \u001b[0m | \u001b[95m0.5372   \u001b[0m | \u001b[95m-5.153   \u001b[0m | \u001b[95m-6.242   \u001b[0m | \u001b[95m-4.25    \u001b[0m | \u001b[95m-1.982   \u001b[0m |\n",
            "| \u001b[95m8        \u001b[0m | \u001b[95m0.6184   \u001b[0m | \u001b[95m-10.73   \u001b[0m | \u001b[95m-11.28   \u001b[0m | \u001b[95m-6.628   \u001b[0m | \u001b[95m-2.491   \u001b[0m |\n",
            "| \u001b[0m9        \u001b[0m | \u001b[0m0.49     \u001b[0m | \u001b[0m-9.284   \u001b[0m | \u001b[0m-5.578   \u001b[0m | \u001b[0m-10.78   \u001b[0m | \u001b[0m-7.533   \u001b[0m |\n",
            "| \u001b[0m10       \u001b[0m | \u001b[0m0.5692   \u001b[0m | \u001b[0m-10.18   \u001b[0m | \u001b[0m-6.842   \u001b[0m | \u001b[0m-4.866   \u001b[0m | \u001b[0m-7.117   \u001b[0m |\n",
            "| \u001b[0m11       \u001b[0m | \u001b[0m0.49     \u001b[0m | \u001b[0m-9.866   \u001b[0m | \u001b[0m-1.089   \u001b[0m | \u001b[0m-7.092   \u001b[0m | \u001b[0m-10.79   \u001b[0m |\n",
            "| \u001b[0m12       \u001b[0m | \u001b[0m0.49     \u001b[0m | \u001b[0m-3.375   \u001b[0m | \u001b[0m-0.2588  \u001b[0m | \u001b[0m-9.212   \u001b[0m | \u001b[0m-8.878   \u001b[0m |\n",
            "| \u001b[0m13       \u001b[0m | \u001b[0m0.6076   \u001b[0m | \u001b[0m-4.045   \u001b[0m | \u001b[0m-10.32   \u001b[0m | \u001b[0m-11.25   \u001b[0m | \u001b[0m-5.678   \u001b[0m |\n",
            "| \u001b[0m14       \u001b[0m | \u001b[0m0.49     \u001b[0m | \u001b[0m-4.677   \u001b[0m | \u001b[0m-1.591   \u001b[0m | \u001b[0m-10.66   \u001b[0m | \u001b[0m-1.631   \u001b[0m |\n",
            "| \u001b[0m15       \u001b[0m | \u001b[0m0.49     \u001b[0m | \u001b[0m-6.601   \u001b[0m | \u001b[0m-3.278   \u001b[0m | \u001b[0m-10.6    \u001b[0m | \u001b[0m-6.995   \u001b[0m |\n",
            "| \u001b[0m16       \u001b[0m | \u001b[0m0.5712   \u001b[0m | \u001b[0m-10.29   \u001b[0m | \u001b[0m-7.929   \u001b[0m | \u001b[0m-5.675   \u001b[0m | \u001b[0m-11.08   \u001b[0m |\n",
            "| \u001b[0m17       \u001b[0m | \u001b[0m0.51     \u001b[0m | \u001b[0m-11.15   \u001b[0m | \u001b[0m-0.2164  \u001b[0m | \u001b[0m-11.63   \u001b[0m | \u001b[0m-10.81   \u001b[0m |\n",
            "| \u001b[0m18       \u001b[0m | \u001b[0m0.49     \u001b[0m | \u001b[0m-9.354   \u001b[0m | \u001b[0m-4.08    \u001b[0m | \u001b[0m-3.035   \u001b[0m | \u001b[0m-0.3627  \u001b[0m |\n",
            "| \u001b[0m19       \u001b[0m | \u001b[0m0.51     \u001b[0m | \u001b[0m-3.881   \u001b[0m | \u001b[0m-0.01823 \u001b[0m | \u001b[0m-10.91   \u001b[0m | \u001b[0m-6.765   \u001b[0m |\n",
            "| \u001b[0m20       \u001b[0m | \u001b[0m0.5708   \u001b[0m | \u001b[0m-9.992   \u001b[0m | \u001b[0m-5.432   \u001b[0m | \u001b[0m-5.06    \u001b[0m | \u001b[0m-5.203   \u001b[0m |\n",
            "| \u001b[0m21       \u001b[0m | \u001b[0m0.49     \u001b[0m | \u001b[0m-1.454   \u001b[0m | \u001b[0m-9.137   \u001b[0m | \u001b[0m-5.12    \u001b[0m | \u001b[0m-8.776   \u001b[0m |\n",
            "| \u001b[0m22       \u001b[0m | \u001b[0m0.5832   \u001b[0m | \u001b[0m-10.56   \u001b[0m | \u001b[0m-10.43   \u001b[0m | \u001b[0m-6.338   \u001b[0m | \u001b[0m-3.118   \u001b[0m |\n",
            "| \u001b[0m23       \u001b[0m | \u001b[0m0.5836   \u001b[0m | \u001b[0m-9.839   \u001b[0m | \u001b[0m-11.74   \u001b[0m | \u001b[0m-7.384   \u001b[0m | \u001b[0m-2.47    \u001b[0m |\n",
            "| \u001b[95m24       \u001b[0m | \u001b[95m0.6676   \u001b[0m | \u001b[95m-11.85   \u001b[0m | \u001b[95m-12.0    \u001b[0m | \u001b[95m-6.885   \u001b[0m | \u001b[95m-2.792   \u001b[0m |\n",
            "| \u001b[0m25       \u001b[0m | \u001b[0m0.5776   \u001b[0m | \u001b[0m-12.0    \u001b[0m | \u001b[0m-12.0    \u001b[0m | \u001b[0m-7.263   \u001b[0m | \u001b[0m-1.416   \u001b[0m |\n",
            "| \u001b[0m26       \u001b[0m | \u001b[0m0.51     \u001b[0m | \u001b[0m-12.0    \u001b[0m | \u001b[0m-12.0    \u001b[0m | \u001b[0m-6.117   \u001b[0m | \u001b[0m-3.772   \u001b[0m |\n",
            "| \u001b[0m27       \u001b[0m | \u001b[0m0.586    \u001b[0m | \u001b[0m-11.46   \u001b[0m | \u001b[0m-11.76   \u001b[0m | \u001b[0m-7.413   \u001b[0m | \u001b[0m-2.711   \u001b[0m |\n",
            "| \u001b[0m28       \u001b[0m | \u001b[0m0.51     \u001b[0m | \u001b[0m-10.56   \u001b[0m | \u001b[0m-11.96   \u001b[0m | \u001b[0m-6.21    \u001b[0m | \u001b[0m-2.623   \u001b[0m |\n",
            "| \u001b[0m29       \u001b[0m | \u001b[0m0.49     \u001b[0m | \u001b[0m-3.372   \u001b[0m | \u001b[0m-3.162   \u001b[0m | \u001b[0m-3.176   \u001b[0m | \u001b[0m-8.536   \u001b[0m |\n",
            "| \u001b[0m30       \u001b[0m | \u001b[0m0.5808   \u001b[0m | \u001b[0m-10.37   \u001b[0m | \u001b[0m-10.99   \u001b[0m | \u001b[0m-6.903   \u001b[0m | \u001b[0m-3.207   \u001b[0m |\n",
            "| \u001b[0m31       \u001b[0m | \u001b[0m0.6652   \u001b[0m | \u001b[0m-11.85   \u001b[0m | \u001b[0m-11.53   \u001b[0m | \u001b[0m-6.506   \u001b[0m | \u001b[0m-2.238   \u001b[0m |\n",
            "| \u001b[0m32       \u001b[0m | \u001b[0m0.6108   \u001b[0m | \u001b[0m-12.0    \u001b[0m | \u001b[0m-11.44   \u001b[0m | \u001b[0m-6.771   \u001b[0m | \u001b[0m-2.712   \u001b[0m |\n",
            "| \u001b[0m33       \u001b[0m | \u001b[0m0.594    \u001b[0m | \u001b[0m-10.92   \u001b[0m | \u001b[0m-10.88   \u001b[0m | \u001b[0m-7.479   \u001b[0m | \u001b[0m-2.101   \u001b[0m |\n",
            "| \u001b[95m34       \u001b[0m | \u001b[95m0.7284   \u001b[0m | \u001b[95m-11.94   \u001b[0m | \u001b[95m-12.0    \u001b[0m | \u001b[95m-6.679   \u001b[0m | \u001b[95m-2.275   \u001b[0m |\n",
            "| \u001b[0m35       \u001b[0m | \u001b[0m0.51     \u001b[0m | \u001b[0m-12.0    \u001b[0m | \u001b[0m-12.0    \u001b[0m | \u001b[0m-6.267   \u001b[0m | \u001b[0m-2.309   \u001b[0m |\n",
            "| \u001b[0m36       \u001b[0m | \u001b[0m0.6096   \u001b[0m | \u001b[0m-7.995   \u001b[0m | \u001b[0m-11.51   \u001b[0m | \u001b[0m-8.191   \u001b[0m | \u001b[0m-6.528   \u001b[0m |\n",
            "| \u001b[0m37       \u001b[0m | \u001b[0m0.6048   \u001b[0m | \u001b[0m-11.16   \u001b[0m | \u001b[0m-11.59   \u001b[0m | \u001b[0m-6.871   \u001b[0m | \u001b[0m-2.581   \u001b[0m |\n",
            "| \u001b[0m38       \u001b[0m | \u001b[0m0.6224   \u001b[0m | \u001b[0m-9.282   \u001b[0m | \u001b[0m-3.128   \u001b[0m | \u001b[0m-9.04    \u001b[0m | \u001b[0m-0.4919  \u001b[0m |\n",
            "| \u001b[0m39       \u001b[0m | \u001b[0m0.49     \u001b[0m | \u001b[0m-8.711   \u001b[0m | \u001b[0m-7.483   \u001b[0m | \u001b[0m-8.939   \u001b[0m | \u001b[0m-8.24    \u001b[0m |\n",
            "| \u001b[0m40       \u001b[0m | \u001b[0m0.5748   \u001b[0m | \u001b[0m-11.44   \u001b[0m | \u001b[0m-11.15   \u001b[0m | \u001b[0m-6.952   \u001b[0m | \u001b[0m-1.847   \u001b[0m |\n",
            "| \u001b[0m41       \u001b[0m | \u001b[0m0.51     \u001b[0m | \u001b[0m-11.26   \u001b[0m | \u001b[0m-11.93   \u001b[0m | \u001b[0m-6.459   \u001b[0m | \u001b[0m-2.223   \u001b[0m |\n",
            "| \u001b[0m42       \u001b[0m | \u001b[0m0.5912   \u001b[0m | \u001b[0m-11.48   \u001b[0m | \u001b[0m-11.61   \u001b[0m | \u001b[0m-6.98    \u001b[0m | \u001b[0m-2.968   \u001b[0m |\n",
            "| \u001b[0m43       \u001b[0m | \u001b[0m0.5836   \u001b[0m | \u001b[0m-9.245   \u001b[0m | \u001b[0m-8.753   \u001b[0m | \u001b[0m-6.834   \u001b[0m | \u001b[0m-10.7    \u001b[0m |\n",
            "| \u001b[0m44       \u001b[0m | \u001b[0m0.49     \u001b[0m | \u001b[0m-6.279   \u001b[0m | \u001b[0m-5.143   \u001b[0m | \u001b[0m-8.902   \u001b[0m | \u001b[0m-1.877   \u001b[0m |\n",
            "| \u001b[0m45       \u001b[0m | \u001b[0m0.49     \u001b[0m | \u001b[0m-1.157   \u001b[0m | \u001b[0m-11.63   \u001b[0m | \u001b[0m-8.475   \u001b[0m | \u001b[0m-2.334   \u001b[0m |\n",
            "=========================================================================\n",
            "CPU times: user 11min 52s, sys: 37.2 s, total: 12min 29s\n",
            "Wall time: 10min 43s\n"
          ]
        }
      ],
      "source": [
        "%%time\n",
        "lofi_sph_optimizer.maximize(\n",
        "    init_points=20,\n",
        "    n_iter=25,\n",
        ")"
      ]
    },
    {
      "cell_type": "markdown",
      "metadata": {
        "id": "1Kbdc31jB0lS"
      },
      "source": [
        "## 6.2 Test Set Accuracy"
      ]
    },
    {
      "cell_type": "code",
      "source": [
        "lofi_sph_hparams = {\n",
        "    'initial_covariance': 0.10281664064678625,\n",
        "    'dynamics_weights': 0.9987429193744252,\n",
        "    'dynamics_covariance': 6.14421235332821e-06,\n",
        "    'dynamics_covariance_inflation_factor': 6.5117571561185025e-06\n",
        "}"
      ],
      "metadata": {
        "id": "9Z6e-KH6pV2S"
      },
      "execution_count": 32,
      "outputs": []
    },
    {
      "cell_type": "code",
      "execution_count": 33,
      "metadata": {
        "id": "1ZE-kWfDB0lS"
      },
      "outputs": [],
      "source": [
        "# lofi_sph_hparams = hpt.get_best_params(lofi_sph_optimizer)\n",
        "lofi_sph_estimator = hpt.build_estimator(flat_params, lofi_sph_hparams, emission_mean_function,\n",
        "                                         emission_cov_function, method=\"lofi\", \n",
        "                                         lofi_params=lofi_params_spherical)"
      ]
    },
    {
      "cell_type": "code",
      "source": [
        "lofi_sph_hparams"
      ],
      "metadata": {
        "id": "XL-1U502C8ck",
        "outputId": "e7d97a53-03d2-4cc7-95f7-cf59a87d7054",
        "colab": {
          "base_uri": "https://localhost:8080/"
        }
      },
      "execution_count": 34,
      "outputs": [
        {
          "output_type": "execute_result",
          "data": {
            "text/plain": [
              "{'initial_covariance': 0.10281664064678625,\n",
              " 'dynamics_weights': 0.9987429193744252,\n",
              " 'dynamics_covariance': 6.14421235332821e-06,\n",
              " 'dynamics_covariance_inflation_factor': 6.5117571561185025e-06}"
            ]
          },
          "metadata": {},
          "execution_count": 34
        }
      ]
    },
    {
      "cell_type": "code",
      "execution_count": 35,
      "metadata": {
        "id": "UKeIQ4cJB0lS"
      },
      "outputs": [],
      "source": [
        "_, lofi_sph_accs = lofi_sph_estimator.scan_dataloader(train_loader, callback=test_acc_callback, **test_kwargs)"
      ]
    },
    {
      "cell_type": "code",
      "execution_count": 48,
      "metadata": {
        "id": "6UQNT85OB0lS",
        "outputId": "d9120f56-2912-4aee-bd49-058eaa95bc49",
        "colab": {
          "base_uri": "https://localhost:8080/"
        }
      },
      "outputs": [
        {
          "output_type": "execute_result",
          "data": {
            "text/plain": [
              "{'overall': Array([0.998     , 0.87200004, 0.704     , 0.77300006, 0.74039996],      dtype=float32),\n",
              " 'task1': Array([0.998     , 0.794     , 0.462     , 0.46400002, 0.60400003],      dtype=float32)}"
            ]
          },
          "metadata": {},
          "execution_count": 48
        }
      ],
      "source": [
        "lofi_sph_res = {\n",
        "    'overall': jnp.array([res['overall'] for res in lofi_sph_accs]),\n",
        "    'task1': jnp.array([res['task1'] for res in lofi_sph_accs]),\n",
        "}\n",
        "\n",
        "lofi_sph_res"
      ]
    },
    {
      "cell_type": "markdown",
      "metadata": {
        "id": "U-24yJMPB0lS"
      },
      "source": [
        "# 7. LoFi-Diag"
      ]
    },
    {
      "cell_type": "markdown",
      "metadata": {
        "id": "X9m2-mBEB0lT"
      },
      "source": [
        "## 7.1 Hyperparam Tuning"
      ]
    },
    {
      "cell_type": "code",
      "execution_count": 38,
      "metadata": {
        "id": "W_i5PnHtB0lT"
      },
      "outputs": [],
      "source": [
        "lofi_params_diagonal = LoFiParams(\n",
        "    memory_size=20,\n",
        "    diagonal_covariance=True,\n",
        ")"
      ]
    },
    {
      "cell_type": "code",
      "execution_count": 41,
      "metadata": {
        "id": "8Fu_1QAdB0lT"
      },
      "outputs": [],
      "source": [
        "lofi_diag_optimizer, apply_fn, n_feats = hpt.create_optimizer(\n",
        "    cnn_model, pbounds, 314, train, val, emission_mean_function, emission_cov_function,\n",
        "    acc_callback, 'lofi', params_lofi=lofi_params_diagonal\n",
        ")"
      ]
    },
    {
      "cell_type": "code",
      "execution_count": 42,
      "metadata": {
        "id": "TXhSB7ZGB0lT",
        "outputId": "00a8ff25-60e9-4791-db3c-622626108adf",
        "colab": {
          "base_uri": "https://localhost:8080/"
        }
      },
      "outputs": [
        {
          "output_type": "stream",
          "name": "stdout",
          "text": [
            "|   iter    |  target   | log_alpha | log_dy... | log_dy... | log_in... |\n",
            "-------------------------------------------------------------------------\n",
            "| \u001b[0m1        \u001b[0m | \u001b[0m0.51     \u001b[0m | \u001b[0m-0.9975  \u001b[0m | \u001b[0m-4.937   \u001b[0m | \u001b[0m-9.615   \u001b[0m | \u001b[0m-2.602   \u001b[0m |\n",
            "| \u001b[0m2        \u001b[0m | \u001b[0m0.51     \u001b[0m | \u001b[0m-0.984   \u001b[0m | \u001b[0m-2.072   \u001b[0m | \u001b[0m-5.448   \u001b[0m | \u001b[0m-8.874   \u001b[0m |\n",
            "| \u001b[0m3        \u001b[0m | \u001b[0m0.49     \u001b[0m | \u001b[0m-1.059   \u001b[0m | \u001b[0m-8.871   \u001b[0m | \u001b[0m-5.103   \u001b[0m | \u001b[0m-8.862   \u001b[0m |\n",
            "| \u001b[0m4        \u001b[0m | \u001b[0m0.49     \u001b[0m | \u001b[0m-10.53   \u001b[0m | \u001b[0m-7.368   \u001b[0m | \u001b[0m-4.439   \u001b[0m | \u001b[0m-8.662   \u001b[0m |\n",
            "| \u001b[0m5        \u001b[0m | \u001b[0m0.4876   \u001b[0m | \u001b[0m-11.16   \u001b[0m | \u001b[0m-4.403   \u001b[0m | \u001b[0m-6.737   \u001b[0m | \u001b[0m-5.025   \u001b[0m |\n",
            "| \u001b[0m6        \u001b[0m | \u001b[0m0.51     \u001b[0m | \u001b[0m-3.874   \u001b[0m | \u001b[0m-3.754   \u001b[0m | \u001b[0m-8.05    \u001b[0m | \u001b[0m-8.149   \u001b[0m |\n",
            "| \u001b[95m7        \u001b[0m | \u001b[95m0.5372   \u001b[0m | \u001b[95m-5.153   \u001b[0m | \u001b[95m-6.242   \u001b[0m | \u001b[95m-4.25    \u001b[0m | \u001b[95m-1.982   \u001b[0m |\n",
            "| \u001b[95m8        \u001b[0m | \u001b[95m0.6176   \u001b[0m | \u001b[95m-10.73   \u001b[0m | \u001b[95m-11.28   \u001b[0m | \u001b[95m-6.628   \u001b[0m | \u001b[95m-2.491   \u001b[0m |\n",
            "| \u001b[0m9        \u001b[0m | \u001b[0m0.49     \u001b[0m | \u001b[0m-9.284   \u001b[0m | \u001b[0m-5.578   \u001b[0m | \u001b[0m-10.78   \u001b[0m | \u001b[0m-7.533   \u001b[0m |\n",
            "| \u001b[0m10       \u001b[0m | \u001b[0m0.5692   \u001b[0m | \u001b[0m-10.18   \u001b[0m | \u001b[0m-6.842   \u001b[0m | \u001b[0m-4.866   \u001b[0m | \u001b[0m-7.117   \u001b[0m |\n",
            "| \u001b[0m11       \u001b[0m | \u001b[0m0.49     \u001b[0m | \u001b[0m-9.866   \u001b[0m | \u001b[0m-1.089   \u001b[0m | \u001b[0m-7.092   \u001b[0m | \u001b[0m-10.79   \u001b[0m |\n",
            "| \u001b[0m12       \u001b[0m | \u001b[0m0.5072   \u001b[0m | \u001b[0m-3.375   \u001b[0m | \u001b[0m-0.2588  \u001b[0m | \u001b[0m-9.212   \u001b[0m | \u001b[0m-8.878   \u001b[0m |\n",
            "| \u001b[0m13       \u001b[0m | \u001b[0m0.6112   \u001b[0m | \u001b[0m-4.045   \u001b[0m | \u001b[0m-10.32   \u001b[0m | \u001b[0m-11.25   \u001b[0m | \u001b[0m-5.678   \u001b[0m |\n",
            "| \u001b[0m14       \u001b[0m | \u001b[0m0.51     \u001b[0m | \u001b[0m-4.677   \u001b[0m | \u001b[0m-1.591   \u001b[0m | \u001b[0m-10.66   \u001b[0m | \u001b[0m-1.631   \u001b[0m |\n",
            "| \u001b[0m15       \u001b[0m | \u001b[0m0.49     \u001b[0m | \u001b[0m-6.601   \u001b[0m | \u001b[0m-3.278   \u001b[0m | \u001b[0m-10.6    \u001b[0m | \u001b[0m-6.995   \u001b[0m |\n",
            "| \u001b[0m16       \u001b[0m | \u001b[0m0.5712   \u001b[0m | \u001b[0m-10.29   \u001b[0m | \u001b[0m-7.929   \u001b[0m | \u001b[0m-5.675   \u001b[0m | \u001b[0m-11.08   \u001b[0m |\n",
            "| \u001b[0m17       \u001b[0m | \u001b[0m0.51     \u001b[0m | \u001b[0m-11.15   \u001b[0m | \u001b[0m-0.2164  \u001b[0m | \u001b[0m-11.63   \u001b[0m | \u001b[0m-10.81   \u001b[0m |\n",
            "| \u001b[0m18       \u001b[0m | \u001b[0m0.49     \u001b[0m | \u001b[0m-9.354   \u001b[0m | \u001b[0m-4.08    \u001b[0m | \u001b[0m-3.035   \u001b[0m | \u001b[0m-0.3627  \u001b[0m |\n",
            "| \u001b[0m19       \u001b[0m | \u001b[0m0.49     \u001b[0m | \u001b[0m-3.881   \u001b[0m | \u001b[0m-0.01823 \u001b[0m | \u001b[0m-10.91   \u001b[0m | \u001b[0m-6.765   \u001b[0m |\n",
            "| \u001b[0m20       \u001b[0m | \u001b[0m0.5716   \u001b[0m | \u001b[0m-9.992   \u001b[0m | \u001b[0m-5.432   \u001b[0m | \u001b[0m-5.06    \u001b[0m | \u001b[0m-5.203   \u001b[0m |\n",
            "| \u001b[0m21       \u001b[0m | \u001b[0m0.49     \u001b[0m | \u001b[0m-1.454   \u001b[0m | \u001b[0m-9.137   \u001b[0m | \u001b[0m-5.12    \u001b[0m | \u001b[0m-8.776   \u001b[0m |\n",
            "| \u001b[0m22       \u001b[0m | \u001b[0m0.5884   \u001b[0m | \u001b[0m-10.62   \u001b[0m | \u001b[0m-10.63   \u001b[0m | \u001b[0m-6.391   \u001b[0m | \u001b[0m-2.964   \u001b[0m |\n",
            "| \u001b[0m23       \u001b[0m | \u001b[0m0.5788   \u001b[0m | \u001b[0m-9.887   \u001b[0m | \u001b[0m-11.67   \u001b[0m | \u001b[0m-7.178   \u001b[0m | \u001b[0m-2.52    \u001b[0m |\n",
            "| \u001b[0m24       \u001b[0m | \u001b[0m0.582    \u001b[0m | \u001b[0m-11.73   \u001b[0m | \u001b[0m-11.46   \u001b[0m | \u001b[0m-7.189   \u001b[0m | \u001b[0m-2.513   \u001b[0m |\n",
            "| \u001b[0m25       \u001b[0m | \u001b[0m0.51     \u001b[0m | \u001b[0m-10.05   \u001b[0m | \u001b[0m-11.24   \u001b[0m | \u001b[0m-5.917   \u001b[0m | \u001b[0m-1.7     \u001b[0m |\n",
            "| \u001b[95m26       \u001b[0m | \u001b[95m0.6668   \u001b[0m | \u001b[95m-10.85   \u001b[0m | \u001b[95m-11.68   \u001b[0m | \u001b[95m-6.74    \u001b[0m | \u001b[95m-3.231   \u001b[0m |\n",
            "| \u001b[0m27       \u001b[0m | \u001b[0m0.592    \u001b[0m | \u001b[0m-10.8    \u001b[0m | \u001b[0m-11.58   \u001b[0m | \u001b[0m-7.244   \u001b[0m | \u001b[0m-3.815   \u001b[0m |\n",
            "| \u001b[0m28       \u001b[0m | \u001b[0m0.51     \u001b[0m | \u001b[0m-11.07   \u001b[0m | \u001b[0m-12.0    \u001b[0m | \u001b[0m-6.169   \u001b[0m | \u001b[0m-3.181   \u001b[0m |\n",
            "| \u001b[0m29       \u001b[0m | \u001b[0m0.49     \u001b[0m | \u001b[0m-3.372   \u001b[0m | \u001b[0m-3.162   \u001b[0m | \u001b[0m-3.176   \u001b[0m | \u001b[0m-8.536   \u001b[0m |\n",
            "| \u001b[0m30       \u001b[0m | \u001b[0m0.5804   \u001b[0m | \u001b[0m-10.37   \u001b[0m | \u001b[0m-10.99   \u001b[0m | \u001b[0m-6.903   \u001b[0m | \u001b[0m-3.207   \u001b[0m |\n",
            "| \u001b[0m31       \u001b[0m | \u001b[0m0.5904   \u001b[0m | \u001b[0m-10.86   \u001b[0m | \u001b[0m-11.86   \u001b[0m | \u001b[0m-7.907   \u001b[0m | \u001b[0m-2.816   \u001b[0m |\n",
            "| \u001b[0m32       \u001b[0m | \u001b[0m0.4972   \u001b[0m | \u001b[0m-1.475   \u001b[0m | \u001b[0m-10.94   \u001b[0m | \u001b[0m-5.066   \u001b[0m | \u001b[0m-2.811   \u001b[0m |\n",
            "| \u001b[0m33       \u001b[0m | \u001b[0m0.5864   \u001b[0m | \u001b[0m-10.81   \u001b[0m | \u001b[0m-11.52   \u001b[0m | \u001b[0m-7.101   \u001b[0m | \u001b[0m-3.055   \u001b[0m |\n",
            "| \u001b[95m34       \u001b[0m | \u001b[95m0.6836   \u001b[0m | \u001b[95m-10.88   \u001b[0m | \u001b[95m-11.87   \u001b[0m | \u001b[95m-6.814   \u001b[0m | \u001b[95m-3.498   \u001b[0m |\n",
            "| \u001b[95m35       \u001b[0m | \u001b[95m0.702    \u001b[0m | \u001b[95m-10.55   \u001b[0m | \u001b[95m-11.78   \u001b[0m | \u001b[95m-6.734   \u001b[0m | \u001b[95m-3.482   \u001b[0m |\n",
            "| \u001b[0m36       \u001b[0m | \u001b[0m0.6116   \u001b[0m | \u001b[0m-7.995   \u001b[0m | \u001b[0m-11.51   \u001b[0m | \u001b[0m-8.191   \u001b[0m | \u001b[0m-6.528   \u001b[0m |\n",
            "| \u001b[0m37       \u001b[0m | \u001b[0m0.5344   \u001b[0m | \u001b[0m-9.707   \u001b[0m | \u001b[0m-11.88   \u001b[0m | \u001b[0m-6.575   \u001b[0m | \u001b[0m-2.875   \u001b[0m |\n",
            "| \u001b[0m38       \u001b[0m | \u001b[0m0.5888   \u001b[0m | \u001b[0m-10.47   \u001b[0m | \u001b[0m-11.45   \u001b[0m | \u001b[0m-6.934   \u001b[0m | \u001b[0m-3.131   \u001b[0m |\n",
            "| \u001b[0m39       \u001b[0m | \u001b[0m0.6144   \u001b[0m | \u001b[0m-10.15   \u001b[0m | \u001b[0m-11.36   \u001b[0m | \u001b[0m-6.71    \u001b[0m | \u001b[0m-4.109   \u001b[0m |\n",
            "| \u001b[0m40       \u001b[0m | \u001b[0m0.5972   \u001b[0m | \u001b[0m-10.27   \u001b[0m | \u001b[0m-11.72   \u001b[0m | \u001b[0m-7.044   \u001b[0m | \u001b[0m-3.85    \u001b[0m |\n",
            "| \u001b[0m41       \u001b[0m | \u001b[0m0.51     \u001b[0m | \u001b[0m-10.2    \u001b[0m | \u001b[0m-10.99   \u001b[0m | \u001b[0m-6.012   \u001b[0m | \u001b[0m-3.966   \u001b[0m |\n",
            "| \u001b[95m42       \u001b[0m | \u001b[95m0.75     \u001b[0m | \u001b[95m-10.73   \u001b[0m | \u001b[95m-11.61   \u001b[0m | \u001b[95m-6.61    \u001b[0m | \u001b[95m-3.662   \u001b[0m |\n",
            "| \u001b[0m43       \u001b[0m | \u001b[0m0.6536   \u001b[0m | \u001b[0m-10.9    \u001b[0m | \u001b[0m-11.65   \u001b[0m | \u001b[0m-6.746   \u001b[0m | \u001b[0m-3.006   \u001b[0m |\n",
            "| \u001b[0m44       \u001b[0m | \u001b[0m0.49     \u001b[0m | \u001b[0m-6.279   \u001b[0m | \u001b[0m-5.143   \u001b[0m | \u001b[0m-8.902   \u001b[0m | \u001b[0m-1.877   \u001b[0m |\n",
            "| \u001b[0m45       \u001b[0m | \u001b[0m0.49     \u001b[0m | \u001b[0m-1.157   \u001b[0m | \u001b[0m-11.63   \u001b[0m | \u001b[0m-8.475   \u001b[0m | \u001b[0m-2.334   \u001b[0m |\n",
            "=========================================================================\n",
            "CPU times: user 21min 22s, sys: 38.1 s, total: 22min\n",
            "Wall time: 20min 8s\n"
          ]
        }
      ],
      "source": [
        "%%time\n",
        "lofi_diag_optimizer.maximize(\n",
        "    init_points=20,\n",
        "    n_iter=25,\n",
        ")"
      ]
    },
    {
      "cell_type": "markdown",
      "metadata": {
        "id": "dBP-nXgQB0lT"
      },
      "source": [
        "## 7.2 Test Set Accuracy"
      ]
    },
    {
      "cell_type": "code",
      "source": [
        "lofi_diag_hparams = {\n",
        "    'initial_covariance': 0.025688517085495775,\n",
        "    'dynamics_weights': 0.9986529352177651,\n",
        "    'dynamics_covariance': 9.071190789860358e-06,\n",
        "    'dynamics_covariance_inflation_factor': 2.1916867251809993e-05\n",
        "}"
      ],
      "metadata": {
        "id": "DH3jgA3YpcEV"
      },
      "execution_count": 36,
      "outputs": []
    },
    {
      "cell_type": "code",
      "execution_count": 39,
      "metadata": {
        "id": "zV0LpDrGB0lT"
      },
      "outputs": [],
      "source": [
        "# lofi_diag_hparams = hpt.get_best_params(lofi_diag_optimizer)\n",
        "lofi_diag_estimator = hpt.build_estimator(flat_params, lofi_diag_hparams, emission_mean_function,\n",
        "                                          emission_cov_function, method=\"lofi\", \n",
        "                                          lofi_params=lofi_params_diagonal)"
      ]
    },
    {
      "cell_type": "code",
      "source": [
        "lofi_diag_hparams"
      ],
      "metadata": {
        "id": "1yOblqRuC-Pi",
        "outputId": "a2e3be9d-aac3-41d7-f690-037ee336448e",
        "colab": {
          "base_uri": "https://localhost:8080/"
        }
      },
      "execution_count": 40,
      "outputs": [
        {
          "output_type": "execute_result",
          "data": {
            "text/plain": [
              "{'initial_covariance': 0.025688517085495775,\n",
              " 'dynamics_weights': 0.9986529352177651,\n",
              " 'dynamics_covariance': 9.071190789860358e-06,\n",
              " 'dynamics_covariance_inflation_factor': 2.1916867251809993e-05}"
            ]
          },
          "metadata": {},
          "execution_count": 40
        }
      ]
    },
    {
      "cell_type": "code",
      "execution_count": 46,
      "metadata": {
        "id": "YaLff-1FB0lT"
      },
      "outputs": [],
      "source": [
        "_, lofi_diag_accs = lofi_diag_estimator.scan_dataloader(train_loader, callback=test_acc_callback, **test_kwargs)"
      ]
    },
    {
      "cell_type": "code",
      "execution_count": 47,
      "metadata": {
        "id": "txNk928QB0lT",
        "outputId": "bc3d065e-377d-4b92-ac43-e54362f65948",
        "colab": {
          "base_uri": "https://localhost:8080/"
        }
      },
      "outputs": [
        {
          "output_type": "execute_result",
          "data": {
            "text/plain": [
              "{'overall': Array([0.99600005, 0.86700004, 0.71133333, 0.77400005, 0.75079995],      dtype=float32),\n",
              " 'task1': Array([0.99600005, 0.814     , 0.46400002, 0.45400003, 0.67      ],      dtype=float32)}"
            ]
          },
          "metadata": {},
          "execution_count": 47
        }
      ],
      "source": [
        "lofi_diag_res = {\n",
        "    'overall': jnp.array([res['overall'] for res in lofi_diag_accs]),\n",
        "    'task1': jnp.array([res['task1'] for res in lofi_diag_accs]),\n",
        "}\n",
        "\n",
        "lofi_diag_res"
      ]
    },
    {
      "cell_type": "markdown",
      "metadata": {
        "id": "vuOwb_lJB0lT"
      },
      "source": [
        "# 8. Model Comparison"
      ]
    },
    {
      "cell_type": "code",
      "source": [
        "results = {\n",
        "    'fdekf': fdekf_res,\n",
        "    'vdekf': vdekf_res,\n",
        "    'lofi-orth': lofi_orth_res,\n",
        "    'lofi_sph': lofi_sph_res,\n",
        "    'lofi_diag': lofi_diag_res,\n",
        "}"
      ],
      "metadata": {
        "id": "CxClKof2psl7"
      },
      "execution_count": 62,
      "outputs": []
    },
    {
      "cell_type": "code",
      "source": [
        "fig, ax = plt.subplots()\n",
        "for key, val in results.items():\n",
        "    ax.plot(val['overall'], linestyle='--', marker='o', label=key);\n",
        "ax.set_xlabel('Number of tasks')\n",
        "ax.set_ylabel('Average test accuracy')\n",
        "ax.grid()\n",
        "ax.set_title('Average test accuracy over examples seen so far')\n",
        "ax.legend();"
      ],
      "metadata": {
        "id": "l8ZlgJurDdhf",
        "outputId": "f66ada00-cea7-471d-95ce-59ab202128e4",
        "colab": {
          "base_uri": "https://localhost:8080/",
          "height": 295
        }
      },
      "execution_count": 69,
      "outputs": [
        {
          "output_type": "display_data",
          "data": {
            "text/plain": [
              "<Figure size 432x288 with 1 Axes>"
            ],
            "image/png": "[encoded data removed]"
          },
          "metadata": {
            "needs_background": "light"
          }
        }
      ]
    },
    {
      "cell_type": "code",
      "source": [
        "fig, ax = plt.subplots()\n",
        "for key, val in results.items():\n",
        "    ax.plot(val['task1'], linestyle='--', marker='o', label=key);\n",
        "ax.set_xlabel('Number of tasks')\n",
        "ax.set_ylabel('Average test accuracy')\n",
        "ax.grid()\n",
        "ax.set_title('Average test accuracy for first task')\n",
        "ax.legend();"
      ],
      "metadata": {
        "id": "8G4ZUDk0rLJ0",
        "outputId": "72123175-77aa-4be2-c4b3-356c42181efb",
        "colab": {
          "base_uri": "https://localhost:8080/",
          "height": 295
        }
      },
      "execution_count": 70,
      "outputs": [
        {
          "output_type": "display_data",
          "data": {
            "text/plain": [
              "<Figure size 432x288 with 1 Axes>"
            ],
            "image/png": "[encoded data removed]"
          },
          "metadata": {
            "needs_background": "light"
          }
        }
      ]
    },
    {
      "cell_type": "code",
      "source": [],
      "metadata": {
        "id": "nl-nTItqsK2O"
      },
      "execution_count": null,
      "outputs": []
    }
  ],
  "metadata": {
    "kernelspec": {
      "display_name": ".venv",
      "language": "python",
      "name": "python3"
    },
    "language_info": {
      "codemirror_mode": {
        "name": "ipython",
        "version": 3
      },
      "file_extension": ".py",
      "mimetype": "text/x-python",
      "name": "python",
      "nbconvert_exporter": "python",
      "pygments_lexer": "ipython3",
      "version": "3.10.0"
    },
    "orig_nbformat": 4,
    "vscode": {
      "interpreter": {
        "hash": "a63216e3e6a2ce617ef04b00f48ca414857cfc892c8cff43a5943fdd36fca11d"
      }
    },
    "colab": {
      "provenance": [],
      "machine_shape": "hm"
    },
    "accelerator": "GPU",
    "gpuClass": "premium"
  },
  "nbformat": 4,
  "nbformat_minor": 0
}