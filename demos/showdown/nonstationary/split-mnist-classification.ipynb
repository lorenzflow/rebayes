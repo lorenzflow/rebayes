{
 "cells": [
  {
   "attachments": {},
   "cell_type": "markdown",
   "metadata": {},
   "source": [
    "# 0. Imports"
   ]
  },
  {
   "cell_type": "code",
   "execution_count": 2,
   "metadata": {},
   "outputs": [],
   "source": [
    "from jaxtyping import Float, Array\n",
    "from typing import Callable, NamedTuple, Union, Tuple, Any\n",
    "from functools import partial\n",
    "import chex\n",
    "import optax\n",
    "import jax\n",
    "import jax.numpy as jnp\n",
    "import jax.random as jr\n",
    "from jax import lax, jacfwd, vmap, grad, jit\n",
    "from jax.tree_util import tree_map, tree_reduce\n",
    "import flax\n",
    "import flax.linen as nn\n",
    "from tensorflow_probability.substrates.jax.distributions import MultivariateNormalFullCovariance as MVN\n",
    "import matplotlib.pyplot as plt\n",
    "import matplotlib.cm as cm\n",
    "from jax.flatten_util import ravel_pytree\n",
    "from dataclasses import dataclass\n",
    "\n",
    "from itertools import cycle\n",
    "\n",
    "import torch\n",
    "import numpy as np\n",
    "from torch.utils.data import TensorDataset, DataLoader\n",
    "from torchvision.transforms import ToTensor\n",
    "\n",
    "import jax_dataloader.core as jdl\n",
    "\n",
    "from rebayes.base import *\n",
    "from rebayes.low_rank_filter.lofi import LoFiParams, RebayesLoFi, LoFiBel\n",
    "from rebayes.extended_kalman_filter.ekf import RebayesEKF\n",
    "from rebayes.utils.utils import *\n",
    "from rebayes.utils.avalanche import *\n",
    "from demos.showdown.nonstationary import hparam_tune_clf as hpt"
   ]
  },
  {
   "attachments": {},
   "cell_type": "markdown",
   "metadata": {},
   "source": [
    "# 1. Load Dataset"
   ]
  },
  {
   "cell_type": "code",
   "execution_count": 3,
   "metadata": {},
   "outputs": [],
   "source": [
    "from avalanche.benchmarks.classic import SplitMNIST\n",
    "\n",
    "n_experiences = 5\n",
    "dataset = SplitMNIST(n_experiences=n_experiences, seed=1, return_task_id=True,\n",
    "                         class_ids_from_zero_in_each_exp=True, fixed_class_order=range(10))\n",
    "\n",
    "ntrain_per_dist, ntrain_per_batch, ntest_per_batch = 1000, 1000, 1000\n",
    "nval_per_batch = 500\n",
    "\n",
    "Xtr, Ytr, Xte, Yte =  make_avalanche_data(dataset, ntrain_per_dist, ntrain_per_batch, ntest_per_batch)\n",
    "ntest_per_batch = ntest_per_batch - nval_per_batch\n",
    "Xtr, Xte = Xtr.reshape(-1, 1, 28, 28, 1), Xte.reshape(-1, 1, 28, 28, 1)\n",
    "Xte_batches, Yte_batches = jnp.split(Xte, n_experiences), jnp.split(Yte, n_experiences)\n",
    "Xval_sets, Yval_sets = [batch[:nval_per_batch] for batch in Xte_batches], [batch[:nval_per_batch] for batch in Yte_batches]\n",
    "Xte_sets, Yte_sets = [batch[nval_per_batch:] for batch in Xte_batches], [batch[nval_per_batch:] for batch in Yte_batches]\n",
    "\n",
    "Xval, Yval = jnp.concatenate(Xval_sets), jnp.concatenate(Yval_sets)\n",
    "Xte, Yte = jnp.concatenate(Xte_sets), jnp.concatenate(Yte_sets)\n",
    "\n",
    "Xtr_flat = flatten_batch(Xtr)"
   ]
  },
  {
   "cell_type": "code",
   "execution_count": 4,
   "metadata": {},
   "outputs": [],
   "source": [
    "train, val = (Xtr, Ytr), (Xval, Yval)"
   ]
  },
  {
   "cell_type": "code",
   "execution_count": 5,
   "metadata": {},
   "outputs": [
    {
     "name": "stdout",
     "output_type": "stream",
     "text": [
      "batch  0 (1000, 1, 28, 28, 1) (1000, 1)\n",
      "test batch  0 (500, 1, 28, 28, 1) (500, 1)\n",
      "batch  1 (1000, 1, 28, 28, 1) (1000, 1)\n",
      "test batch  1 (500, 1, 28, 28, 1) (500, 1)\n",
      "batch  2 (1000, 1, 28, 28, 1) (1000, 1)\n",
      "test batch  2 (500, 1, 28, 28, 1) (500, 1)\n",
      "batch  3 (1000, 1, 28, 28, 1) (1000, 1)\n",
      "test batch  3 (500, 1, 28, 28, 1) (500, 1)\n",
      "batch  4 (1000, 1, 28, 28, 1) (1000, 1)\n",
      "test batch  4 (500, 1, 28, 28, 1) (500, 1)\n"
     ]
    }
   ],
   "source": [
    "train_ds = jdl.Dataset(Xtr, Ytr)\n",
    "train_loader = jdl.DataLoaderJax(train_ds, batch_size=ntrain_per_batch, shuffle=False, drop_last=False)\n",
    "train_iter = iter(train_loader)\n",
    "\n",
    "test_ds = jdl.Dataset(Xte, Yte)\n",
    "test_loader = jdl.DataLoaderJax(test_ds, batch_size=nval_per_batch, shuffle=False, drop_last=False)\n",
    "test_iter = iter(test_loader)\n",
    "\n",
    "for b in range(len(train_iter)): \n",
    "    (Xb,Yb) = next(train_iter)\n",
    "    print('batch ', b, Xb.shape, Yb.shape)\n",
    "    (Xb,Yb) = next(test_iter)\n",
    "    print('test batch ', b, Xb.shape, Yb.shape)"
   ]
  },
  {
   "cell_type": "code",
   "execution_count": 6,
   "metadata": {},
   "outputs": [],
   "source": [
    "def plot_batch(Xb, Yb, ttl=None):\n",
    "    figure = plt.figure(figsize=(8, 8))\n",
    "    cols, rows = 3, 3\n",
    "    for i in range(1, cols * rows + 1):\n",
    "        #sample_idx = torch.randint(len(training_data), size=(1,)).item()\n",
    "        sample_idx = i-1\n",
    "        img = Xb[sample_idx]\n",
    "        label = Yb[sample_idx]\n",
    "        figure.add_subplot(rows, cols, i)\n",
    "        plt.title(label)\n",
    "        plt.axis(\"off\")\n",
    "        plt.imshow(img.squeeze(), cmap=\"gray\")\n",
    "    if ttl is not None: plt.suptitle(ttl)\n",
    "    plt.show()"
   ]
  },
  {
   "cell_type": "code",
   "execution_count": 7,
   "metadata": {},
   "outputs": [],
   "source": [
    "class RebayesSum(Rebayes):\n",
    "    \"\"\"The belief state is the sum of all the input X_t values.\"\"\"\n",
    "    def __init__(\n",
    "        self,\n",
    "        params: RebayesParams,\n",
    "        shape_in, \n",
    "        shape_out\n",
    "    ):\n",
    "        self.params = params\n",
    "        self.shape_in = shape_in\n",
    "        self.shape_out = shape_out\n",
    "\n",
    "    def init_bel(self) -> Belief:\n",
    "        bel = Belief(dummy = jnp.zeros(self.shape_in))\n",
    "        return bel\n",
    "    \n",
    "    def update_state(\n",
    "        self,\n",
    "        bel: Belief,\n",
    "        X: Float[Array, \"input_dim\"],\n",
    "        Y: Float[Array, \"obs_dim\"]\n",
    "    ) -> Belief:\n",
    "        return Belief(dummy = bel.dummy + X)"
   ]
  },
  {
   "cell_type": "code",
   "execution_count": 9,
   "metadata": {},
   "outputs": [
    {
     "name": "stdout",
     "output_type": "stream",
     "text": [
      "callback on batch 0\n",
      "Xtr shape (1000, 1, 28, 28, 1), Ytr shape (1000, 1)\n",
      "Xte shape (500, 1, 28, 28, 1), Yte shape (500, 1)\n"
     ]
    },
    {
     "data": {
      "image/png": "[encoded data removed]",
      "text/plain": [
       "<Figure size 800x800 with 9 Axes>"
      ]
     },
     "metadata": {},
     "output_type": "display_data"
    },
    {
     "name": "stdout",
     "output_type": "stream",
     "text": [
      "callback on batch 1\n",
      "Xtr shape (1000, 1, 28, 28, 1), Ytr shape (1000, 1)\n",
      "Xte shape (500, 1, 28, 28, 1), Yte shape (500, 1)\n"
     ]
    },
    {
     "data": {
      "image/png": "[encoded data removed]",
      "text/plain": [
       "<Figure size 800x800 with 9 Axes>"
      ]
     },
     "metadata": {},
     "output_type": "display_data"
    },
    {
     "name": "stdout",
     "output_type": "stream",
     "text": [
      "callback on batch 2\n",
      "Xtr shape (1000, 1, 28, 28, 1), Ytr shape (1000, 1)\n",
      "Xte shape (500, 1, 28, 28, 1), Yte shape (500, 1)\n"
     ]
    },
    {
     "data": {
      "image/png": "[encoded data removed]",
      "text/plain": [
       "<Figure size 800x800 with 9 Axes>"
      ]
     },
     "metadata": {},
     "output_type": "display_data"
    },
    {
     "name": "stdout",
     "output_type": "stream",
     "text": [
      "callback on batch 3\n",
      "Xtr shape (1000, 1, 28, 28, 1), Ytr shape (1000, 1)\n",
      "Xte shape (500, 1, 28, 28, 1), Yte shape (500, 1)\n"
     ]
    },
    {
     "data": {
      "image/png": "[encoded data removed]",
      "text/plain": [
       "<Figure size 800x800 with 9 Axes>"
      ]
     },
     "metadata": {},
     "output_type": "display_data"
    },
    {
     "name": "stdout",
     "output_type": "stream",
     "text": [
      "callback on batch 4\n",
      "Xtr shape (1000, 1, 28, 28, 1), Ytr shape (1000, 1)\n",
      "Xte shape (500, 1, 28, 28, 1), Yte shape (500, 1)\n"
     ]
    },
    {
     "data": {
      "image/png": "[encoded data removed]",
      "text/plain": [
       "<Figure size 800x800 with 9 Axes>"
      ]
     },
     "metadata": {},
     "output_type": "display_data"
    }
   ],
   "source": [
    "train_ds = jdl.Dataset(Xtr, Ytr)\n",
    "train_loader = jdl.DataLoaderJax(train_ds, batch_size=ntrain_per_batch, shuffle=False, drop_last=False)\n",
    "\n",
    "test_ds = jdl.Dataset(Xte, Yte)\n",
    "test_loader = jdl.DataLoaderJax(test_ds, batch_size=nval_per_batch, shuffle=False, drop_last=False)\n",
    "test_iter = iter(test_loader)\n",
    "\n",
    "def callback_dl(b, bel_pre, bel_post, batch, **kwargs):\n",
    "    Xtr, Ytr = batch\n",
    "    jax.debug.print(\"callback on batch {b}\", b=b)\n",
    "    jax.debug.print(\"Xtr shape {x1}, Ytr shape {y1}\", x1=Xtr.shape, y1=Ytr.shape)\n",
    "    Xte, Yte = next(test_iter)\n",
    "    jax.debug.print(\"Xte shape {x1}, Yte shape {y1}\", x1=Xte.shape, y1=Yte.shape)\n",
    "    plot_batch(Xte, Yte, ttl='batch {:d}'.format(b))\n",
    "    return b\n",
    "\n",
    "shape_in = Xtr.shape[1:]\n",
    "shape_out = 1\n",
    "estimator = RebayesSum(make_rebayes_params(), shape_in, shape_out)\n",
    "\n",
    "bel, outputs = estimator.scan_dataloader(train_loader, callback=callback_dl)\n",
    "Xsum = jnp.sum(Xtr, axis=0)\n",
    "# assert(jnp.allclose(Xsum, bel.dummy, atol=1e-1))"
   ]
  },
  {
   "attachments": {},
   "cell_type": "markdown",
   "metadata": {},
   "source": [
    "# 2. Model Setup"
   ]
  },
  {
   "cell_type": "code",
   "execution_count": 10,
   "metadata": {},
   "outputs": [
    {
     "name": "stdout",
     "output_type": "stream",
     "text": [
      "flat_params.shape: (420481,)\n"
     ]
    }
   ],
   "source": [
    "class CNN(nn.Module):\n",
    "    \"\"\"A simple CNN model.\"\"\"\n",
    "    @nn.compact\n",
    "    def __call__(self, x):\n",
    "        x = nn.Conv(features=32, kernel_size=(3, 3))(x)\n",
    "        x = nn.relu(x)\n",
    "        x = nn.avg_pool(x, window_shape=(2, 2), strides=(2, 2))\n",
    "        x = nn.Conv(features=64, kernel_size=(3, 3))(x)\n",
    "        x = nn.relu(x)\n",
    "        x = nn.avg_pool(x, window_shape=(2, 2), strides=(2, 2))\n",
    "        x = x.reshape((x.shape[0], -1))  # flatten\n",
    "        x = nn.Dense(features=128)(x)\n",
    "        x = nn.relu(x)\n",
    "        x = nn.Dense(features=1)(x)\n",
    "        return x\n",
    "\n",
    "key = jr.PRNGKey(0)\n",
    "cnn_model = CNN()\n",
    "cnn_params = cnn_model.init(key, jnp.ones((1, 28, 28, 1)))\n",
    "flat_params, unflatten_fn = ravel_pytree(cnn_params)\n",
    "print(f'flat_params.shape: {flat_params.shape}')\n",
    "\n",
    "# Define apply function\n",
    "def apply(flat_params, x, model, unflatten_fn):\n",
    "    return model.apply(unflatten_fn(flat_params), jnp.atleast_1d(x))\n",
    "\n",
    "apply_fn = partial(apply, model=cnn_model, unflatten_fn=unflatten_fn)"
   ]
  },
  {
   "cell_type": "code",
   "execution_count": 11,
   "metadata": {},
   "outputs": [],
   "source": [
    "sigmoid_fn = lambda w, x: jnp.clip(jax.nn.sigmoid(apply_fn(w, x)), 1e-4, 1-1e-4).ravel()\n",
    "emission_mean_function = lambda w, x: sigmoid_fn(w, x)\n",
    "emission_cov_function = lambda w, x: sigmoid_fn(w, x) * (1 - sigmoid_fn(w, x))"
   ]
  },
  {
   "attachments": {},
   "cell_type": "markdown",
   "metadata": {},
   "source": [
    "# 3. FDEKF"
   ]
  },
  {
   "attachments": {},
   "cell_type": "markdown",
   "metadata": {},
   "source": [
    "## 3.1 Hyperparam Tuning"
   ]
  },
  {
   "attachments": {},
   "cell_type": "markdown",
   "metadata": {},
   "source": [
    "To tune the hyperparameters, we maximize the average validation accuracy across all 5 tasks after training on the full training set."
   ]
  },
  {
   "cell_type": "code",
   "execution_count": 12,
   "metadata": {},
   "outputs": [],
   "source": [
    "pbounds={\n",
    "    'log_init_cov': (-12, 0),\n",
    "    'log_dynamics_weights': (-12, -3),\n",
    "    'log_dynamics_cov': (-12, 0),\n",
    "    'log_alpha': (-12, 0),\n",
    "}\n",
    "fcekf_model = 'fcekf'"
   ]
  },
  {
   "cell_type": "code",
   "execution_count": 13,
   "metadata": {},
   "outputs": [],
   "source": [
    "def evaluate_accuracy(flat_params, apply_fn, X, y):\n",
    "    \"\"\" Evaluate accuracy for given parameters and test set\n",
    "    \"\"\"\n",
    "    @jit\n",
    "    def evaluate_acc(image, label):\n",
    "        image = image.reshape((1, 28, 28, 1))\n",
    "        logits = apply_fn(flat_params, image).ravel()\n",
    "        acc = jnp.mean(jnp.round(jax.nn.sigmoid(logits)) == label)\n",
    "        \n",
    "        return acc\n",
    "    accs = vmap(evaluate_acc, (0, 0))(X, y).mean()\n",
    "    return accs\n",
    "\n",
    "def acc_callback(bel, *args, **kwargs):\n",
    "    X_test, y_test, apply_fn = kwargs[\"X_test\"], kwargs[\"y_test\"], kwargs[\"apply_fn\"]\n",
    "    accuracy = evaluate_accuracy(bel.mean, apply_fn, X_test, y_test)\n",
    "    \n",
    "    result = {\n",
    "        'test': accuracy,\n",
    "    }\n",
    "    \n",
    "    return result\n",
    "\n",
    "def ll_callback(bel, *args, **kwargs):\n",
    "    X_test, y_test = kwargs[\"X_test\"], kwargs[\"y_test\"]\n",
    "    apply_fn = kwargs[\"apply_fn\"]\n",
    "    \n",
    "    logits = vmap(jit(apply_fn), (None, 0))(bel.mean, X_test).squeeze()\n",
    "    nll = jnp.mean(jit(optax.sigmoid_binary_cross_entropy)(logits, y_test))\n",
    "    if jnp.isnan(nll):\n",
    "        nll = 1e8\n",
    "    result = -nll\n",
    "    \n",
    "    res = {\n",
    "        \"test\": result,\n",
    "    }\n",
    "    return res"
   ]
  },
  {
   "cell_type": "code",
   "execution_count": 14,
   "metadata": {},
   "outputs": [],
   "source": [
    "fdekf_optimizer, apply_fn, n_feats = hpt.create_optimizer(\n",
    "    cnn_model, pbounds, 314, train, val, emission_mean_function, emission_cov_function,\n",
    "    acc_callback, 'fdekf',\n",
    ")"
   ]
  },
  {
   "cell_type": "code",
   "execution_count": 15,
   "metadata": {},
   "outputs": [
    {
     "name": "stdout",
     "output_type": "stream",
     "text": [
      "|   iter    |  target   | log_alpha | log_dy... | log_dy... | log_in... |\n",
      "-------------------------------------------------------------------------\n",
      "| \u001b[0m1        \u001b[0m | \u001b[0m0.0      \u001b[0m | \u001b[0m-0.9975  \u001b[0m | \u001b[0m-4.937   \u001b[0m | \u001b[0m-9.615   \u001b[0m | \u001b[0m-2.602   \u001b[0m |\n",
      "| \u001b[0m2        \u001b[0m | \u001b[0m0.0      \u001b[0m | \u001b[0m-0.984   \u001b[0m | \u001b[0m-2.072   \u001b[0m | \u001b[0m-5.448   \u001b[0m | \u001b[0m-8.874   \u001b[0m |\n",
      "| \u001b[0m3        \u001b[0m | \u001b[0m0.0      \u001b[0m | \u001b[0m-1.059   \u001b[0m | \u001b[0m-8.871   \u001b[0m | \u001b[0m-5.103   \u001b[0m | \u001b[0m-8.862   \u001b[0m |\n",
      "| \u001b[95m4        \u001b[0m | \u001b[95m0.51     \u001b[0m | \u001b[95m-10.53   \u001b[0m | \u001b[95m-7.368   \u001b[0m | \u001b[95m-4.439   \u001b[0m | \u001b[95m-8.662   \u001b[0m |\n"
     ]
    }
   ],
   "source": [
    "%%time\n",
    "fdekf_optimizer.maximize(\n",
    "    init_points=20,\n",
    "    n_iter=25,\n",
    ")"
   ]
  },
  {
   "attachments": {},
   "cell_type": "markdown",
   "metadata": {},
   "source": [
    "## 3.2 Test Set Accuracy"
   ]
  },
  {
   "cell_type": "code",
   "execution_count": null,
   "metadata": {},
   "outputs": [],
   "source": [
    "fdekf_hparams = hpt.get_best_params(fdekf_optimizer)\n",
    "fdekf_estimator = hpt.build_estimator(flat_params, fdekf_hparams, emission_mean_function,\n",
    "                                      emission_cov_function, method=\"fdekf\")"
   ]
  },
  {
   "cell_type": "code",
   "execution_count": null,
   "metadata": {},
   "outputs": [],
   "source": [
    "def test_acc_callback(i, bel_pre, bel_post, batch, **kwargs):\n",
    "    X_test, y_test = kwargs[\"X_test\"], kwargs[\"y_test\"]\n",
    "    ntest_per_batch = kwargs[\"ntest_per_batch\"]\n",
    "    X_test, y_test = X_test[:(i+1)*ntest_per_batch], y_test[:(i+1)*ntest_per_batch]\n",
    "    apply_fn = kwargs[\"apply_fn\"]\n",
    "    \n",
    "    overall_accuracy = evaluate_accuracy(bel_post.mean, apply_fn, X_test, y_test)\n",
    "    task1_accuracy = evaluate_accuracy(bel_post.mean, apply_fn, X_test[:ntest_per_batch], y_test[:ntest_per_batch])\n",
    "    result = {\n",
    "        'overall': overall_accuracy,\n",
    "        'task1': task1_accuracy,\n",
    "    }\n",
    "    return result"
   ]
  },
  {
   "cell_type": "code",
   "execution_count": null,
   "metadata": {},
   "outputs": [],
   "source": [
    "test_kwargs = {\n",
    "    'X_test': Xte,\n",
    "    'y_test': Yte,\n",
    "    'ntest_per_batch': ntest_per_batch,\n",
    "    'apply_fn': apply_fn,\n",
    "}\n",
    "_, fdekf_accs = fdekf_estimator.scan_dataloader(train_loader, callback=test_acc_callback, **test_kwargs)"
   ]
  },
  {
   "cell_type": "code",
   "execution_count": null,
   "metadata": {},
   "outputs": [
    {
     "data": {
      "text/plain": [
       "[{'overall': Array(0.998, dtype=float32),\n",
       "  'task1': Array(0.998, dtype=float32)},\n",
       " {'overall': Array(0.892, dtype=float32),\n",
       "  'task1': Array(0.836, dtype=float32)},\n",
       " {'overall': Array(0.6853333, dtype=float32),\n",
       "  'task1': Array(0.388, dtype=float32)},\n",
       " {'overall': Array(0.7695, dtype=float32),\n",
       "  'task1': Array(0.71400005, dtype=float32)},\n",
       " {'overall': Array(0.4888, dtype=float32),\n",
       "  'task1': Array(0.46800002, dtype=float32)}]"
      ]
     },
     "execution_count": 102,
     "metadata": {},
     "output_type": "execute_result"
    }
   ],
   "source": [
    "fdekf_accs"
   ]
  },
  {
   "attachments": {},
   "cell_type": "markdown",
   "metadata": {},
   "source": [
    "# 4. VDEKF"
   ]
  },
  {
   "attachments": {},
   "cell_type": "markdown",
   "metadata": {},
   "source": [
    "## 4.1 Hyperparam Tuning"
   ]
  },
  {
   "cell_type": "code",
   "execution_count": null,
   "metadata": {},
   "outputs": [],
   "source": [
    "vdekf_optimizer, apply_fn, n_feats = hpt.create_optimizer(\n",
    "    cnn_model, pbounds, 314, train, val, emission_mean_function, emission_cov_function,\n",
    "    acc_callback, 'vdekf',\n",
    ")"
   ]
  },
  {
   "cell_type": "code",
   "execution_count": null,
   "metadata": {},
   "outputs": [],
   "source": [
    "%%time\n",
    "vdekf_optimizer.maximize(\n",
    "    init_points=20,\n",
    "    n_iter=25,\n",
    ")"
   ]
  },
  {
   "attachments": {},
   "cell_type": "markdown",
   "metadata": {},
   "source": [
    "## 4.2 Test Set Accuracy"
   ]
  },
  {
   "cell_type": "code",
   "execution_count": null,
   "metadata": {},
   "outputs": [],
   "source": [
    "vdekf_hparams = hpt.get_best_params(vdekf_optimizer)\n",
    "vdekf_estimator = hpt.build_estimator(flat_params, vdekf_hparams, emission_mean_function,\n",
    "                                      emission_cov_function, method=\"vdekf\")"
   ]
  },
  {
   "cell_type": "code",
   "execution_count": null,
   "metadata": {},
   "outputs": [],
   "source": [
    "_, vdekf_accs = vdekf_estimator.scan_dataloader(train_loader, callback=test_acc_callback, **test_kwargs)"
   ]
  },
  {
   "cell_type": "code",
   "execution_count": null,
   "metadata": {},
   "outputs": [],
   "source": [
    "vdekf_accs"
   ]
  },
  {
   "attachments": {},
   "cell_type": "markdown",
   "metadata": {},
   "source": [
    "# 5. LoFi-Orth"
   ]
  },
  {
   "attachments": {},
   "cell_type": "markdown",
   "metadata": {},
   "source": [
    "## 5.1 Hyperparam Tuning"
   ]
  },
  {
   "cell_type": "code",
   "execution_count": null,
   "metadata": {},
   "outputs": [],
   "source": [
    "lofi_params_spherical = LoFiParams(\n",
    "    memory_size=20,\n",
    "    diagonal_covariance=False,\n",
    ")"
   ]
  },
  {
   "cell_type": "code",
   "execution_count": null,
   "metadata": {},
   "outputs": [],
   "source": [
    "lofi_orth_optimizer, apply_fn, n_feats = hpt.create_optimizer(\n",
    "    cnn_model, pbounds, 314, train, val, emission_mean_function, emission_cov_function,\n",
    "    acc_callback, 'lofi_orth', params_lofi=lofi_params_spherical\n",
    ")"
   ]
  },
  {
   "cell_type": "code",
   "execution_count": null,
   "metadata": {},
   "outputs": [
    {
     "name": "stdout",
     "output_type": "stream",
     "text": [
      "|   iter    |  target   | log_alpha | log_dy... | log_dy... | log_in... |\n",
      "-------------------------------------------------------------------------\n",
      "| \u001b[0m1        \u001b[0m | \u001b[0m0.5448   \u001b[0m | \u001b[0m-0.9975  \u001b[0m | \u001b[0m-4.937   \u001b[0m | \u001b[0m-9.615   \u001b[0m | \u001b[0m-2.602   \u001b[0m |\n",
      "| \u001b[0m2        \u001b[0m | \u001b[0m0.49     \u001b[0m | \u001b[0m-0.984   \u001b[0m | \u001b[0m-2.072   \u001b[0m | \u001b[0m-5.448   \u001b[0m | \u001b[0m-8.874   \u001b[0m |\n",
      "| \u001b[0m3        \u001b[0m | \u001b[0m0.49     \u001b[0m | \u001b[0m-1.059   \u001b[0m | \u001b[0m-8.871   \u001b[0m | \u001b[0m-5.103   \u001b[0m | \u001b[0m-8.862   \u001b[0m |\n",
      "| \u001b[0m4        \u001b[0m | \u001b[0m0.49     \u001b[0m | \u001b[0m-10.53   \u001b[0m | \u001b[0m-7.368   \u001b[0m | \u001b[0m-4.439   \u001b[0m | \u001b[0m-8.662   \u001b[0m |\n",
      "| \u001b[0m5        \u001b[0m | \u001b[0m0.51     \u001b[0m | \u001b[0m-11.16   \u001b[0m | \u001b[0m-4.403   \u001b[0m | \u001b[0m-6.737   \u001b[0m | \u001b[0m-5.025   \u001b[0m |\n",
      "| \u001b[0m6        \u001b[0m | \u001b[0m0.49     \u001b[0m | \u001b[0m-3.874   \u001b[0m | \u001b[0m-3.754   \u001b[0m | \u001b[0m-8.05    \u001b[0m | \u001b[0m-8.149   \u001b[0m |\n",
      "| \u001b[0m7        \u001b[0m | \u001b[0m0.4904   \u001b[0m | \u001b[0m-5.153   \u001b[0m | \u001b[0m-6.242   \u001b[0m | \u001b[0m-4.25    \u001b[0m | \u001b[0m-1.982   \u001b[0m |\n",
      "| \u001b[95m8        \u001b[0m | \u001b[95m0.5856   \u001b[0m | \u001b[95m-10.73   \u001b[0m | \u001b[95m-11.28   \u001b[0m | \u001b[95m-6.628   \u001b[0m | \u001b[95m-2.491   \u001b[0m |\n",
      "| \u001b[0m9        \u001b[0m | \u001b[0m0.49     \u001b[0m | \u001b[0m-9.284   \u001b[0m | \u001b[0m-5.578   \u001b[0m | \u001b[0m-10.78   \u001b[0m | \u001b[0m-7.533   \u001b[0m |\n",
      "| \u001b[0m10       \u001b[0m | \u001b[0m0.5488   \u001b[0m | \u001b[0m-10.18   \u001b[0m | \u001b[0m-6.842   \u001b[0m | \u001b[0m-4.866   \u001b[0m | \u001b[0m-7.117   \u001b[0m |\n",
      "| \u001b[0m11       \u001b[0m | \u001b[0m0.49     \u001b[0m | \u001b[0m-9.866   \u001b[0m | \u001b[0m-1.089   \u001b[0m | \u001b[0m-7.092   \u001b[0m | \u001b[0m-10.79   \u001b[0m |\n",
      "| \u001b[0m12       \u001b[0m | \u001b[0m0.51     \u001b[0m | \u001b[0m-3.375   \u001b[0m | \u001b[0m-0.2588  \u001b[0m | \u001b[0m-9.212   \u001b[0m | \u001b[0m-8.878   \u001b[0m |\n",
      "| \u001b[0m13       \u001b[0m | \u001b[0m0.5856   \u001b[0m | \u001b[0m-4.045   \u001b[0m | \u001b[0m-10.32   \u001b[0m | \u001b[0m-11.25   \u001b[0m | \u001b[0m-5.678   \u001b[0m |\n",
      "| \u001b[0m14       \u001b[0m | \u001b[0m0.49     \u001b[0m | \u001b[0m-4.677   \u001b[0m | \u001b[0m-1.591   \u001b[0m | \u001b[0m-10.66   \u001b[0m | \u001b[0m-1.631   \u001b[0m |\n",
      "| \u001b[0m15       \u001b[0m | \u001b[0m0.51     \u001b[0m | \u001b[0m-6.601   \u001b[0m | \u001b[0m-3.278   \u001b[0m | \u001b[0m-10.6    \u001b[0m | \u001b[0m-6.995   \u001b[0m |\n",
      "| \u001b[0m16       \u001b[0m | \u001b[0m0.5768   \u001b[0m | \u001b[0m-10.29   \u001b[0m | \u001b[0m-7.929   \u001b[0m | \u001b[0m-5.675   \u001b[0m | \u001b[0m-11.08   \u001b[0m |\n",
      "| \u001b[0m17       \u001b[0m | \u001b[0m0.51     \u001b[0m | \u001b[0m-11.15   \u001b[0m | \u001b[0m-0.2164  \u001b[0m | \u001b[0m-11.63   \u001b[0m | \u001b[0m-10.81   \u001b[0m |\n",
      "| \u001b[0m18       \u001b[0m | \u001b[0m0.49     \u001b[0m | \u001b[0m-9.354   \u001b[0m | \u001b[0m-4.08    \u001b[0m | \u001b[0m-3.035   \u001b[0m | \u001b[0m-0.3627  \u001b[0m |\n",
      "| \u001b[0m19       \u001b[0m | \u001b[0m0.51     \u001b[0m | \u001b[0m-3.881   \u001b[0m | \u001b[0m-0.01823 \u001b[0m | \u001b[0m-10.91   \u001b[0m | \u001b[0m-6.765   \u001b[0m |\n",
      "| \u001b[0m20       \u001b[0m | \u001b[0m0.49     \u001b[0m | \u001b[0m-9.992   \u001b[0m | \u001b[0m-5.432   \u001b[0m | \u001b[0m-5.06    \u001b[0m | \u001b[0m-5.203   \u001b[0m |\n",
      "| \u001b[0m21       \u001b[0m | \u001b[0m0.49     \u001b[0m | \u001b[0m-1.454   \u001b[0m | \u001b[0m-9.137   \u001b[0m | \u001b[0m-5.12    \u001b[0m | \u001b[0m-8.776   \u001b[0m |\n",
      "| \u001b[0m22       \u001b[0m | \u001b[0m0.5736   \u001b[0m | \u001b[0m-3.543   \u001b[0m | \u001b[0m-9.995   \u001b[0m | \u001b[0m-10.94   \u001b[0m | \u001b[0m-5.897   \u001b[0m |\n",
      "| \u001b[95m23       \u001b[0m | \u001b[95m0.5928   \u001b[0m | \u001b[95m-3.957   \u001b[0m | \u001b[95m-9.769   \u001b[0m | \u001b[95m-11.36   \u001b[0m | \u001b[95m-4.829   \u001b[0m |\n",
      "| \u001b[0m24       \u001b[0m | \u001b[0m0.58     \u001b[0m | \u001b[0m-4.177   \u001b[0m | \u001b[0m-10.64   \u001b[0m | \u001b[0m-10.44   \u001b[0m | \u001b[0m-4.479   \u001b[0m |\n",
      "| \u001b[0m25       \u001b[0m | \u001b[0m0.4924   \u001b[0m | \u001b[0m-3.233   \u001b[0m | \u001b[0m-10.97   \u001b[0m | \u001b[0m-12.0    \u001b[0m | \u001b[0m-4.498   \u001b[0m |\n",
      "| \u001b[0m26       \u001b[0m | \u001b[0m0.5828   \u001b[0m | \u001b[0m-4.67    \u001b[0m | \u001b[0m-9.648   \u001b[0m | \u001b[0m-10.63   \u001b[0m | \u001b[0m-5.177   \u001b[0m |\n",
      "| \u001b[95m27       \u001b[0m | \u001b[95m0.6036   \u001b[0m | \u001b[95m-5.26    \u001b[0m | \u001b[95m-9.448   \u001b[0m | \u001b[95m-11.72   \u001b[0m | \u001b[95m-4.777   \u001b[0m |\n",
      "| \u001b[0m28       \u001b[0m | \u001b[0m0.5996   \u001b[0m | \u001b[0m-4.979   \u001b[0m | \u001b[0m-9.198   \u001b[0m | \u001b[0m-11.23   \u001b[0m | \u001b[0m-3.572   \u001b[0m |\n",
      "| \u001b[0m29       \u001b[0m | \u001b[0m0.6016   \u001b[0m | \u001b[0m-6.094   \u001b[0m | \u001b[0m-10.41   \u001b[0m | \u001b[0m-11.24   \u001b[0m | \u001b[0m-3.834   \u001b[0m |\n",
      "| \u001b[95m30       \u001b[0m | \u001b[95m0.6132   \u001b[0m | \u001b[95m-6.783   \u001b[0m | \u001b[95m-8.963   \u001b[0m | \u001b[95m-12.0    \u001b[0m | \u001b[95m-3.479   \u001b[0m |\n",
      "| \u001b[0m31       \u001b[0m | \u001b[0m0.566    \u001b[0m | \u001b[0m-7.317   \u001b[0m | \u001b[0m-9.303   \u001b[0m | \u001b[0m-10.47   \u001b[0m | \u001b[0m-2.499   \u001b[0m |\n",
      "| \u001b[0m32       \u001b[0m | \u001b[0m0.6028   \u001b[0m | \u001b[0m-7.701   \u001b[0m | \u001b[0m-9.872   \u001b[0m | \u001b[0m-12.0    \u001b[0m | \u001b[0m-4.845   \u001b[0m |\n",
      "| \u001b[95m33       \u001b[0m | \u001b[95m0.6592   \u001b[0m | \u001b[95m-8.211   \u001b[0m | \u001b[95m-11.13   \u001b[0m | \u001b[95m-12.0    \u001b[0m | \u001b[95m-3.178   \u001b[0m |\n",
      "| \u001b[0m34       \u001b[0m | \u001b[0m0.626    \u001b[0m | \u001b[0m-9.594   \u001b[0m | \u001b[0m-12.0    \u001b[0m | \u001b[0m-12.0    \u001b[0m | \u001b[0m-3.343   \u001b[0m |\n",
      "| \u001b[0m35       \u001b[0m | \u001b[0m0.5824   \u001b[0m | \u001b[0m-8.048   \u001b[0m | \u001b[0m-12.0    \u001b[0m | \u001b[0m-12.0    \u001b[0m | \u001b[0m-1.696   \u001b[0m |\n",
      "| \u001b[0m36       \u001b[0m | \u001b[0m0.6364   \u001b[0m | \u001b[0m-7.967   \u001b[0m | \u001b[0m-12.0    \u001b[0m | \u001b[0m-12.0    \u001b[0m | \u001b[0m-4.308   \u001b[0m |\n",
      "| \u001b[0m37       \u001b[0m | \u001b[0m0.49     \u001b[0m | \u001b[0m-9.633   \u001b[0m | \u001b[0m-9.935   \u001b[0m | \u001b[0m-12.0    \u001b[0m | \u001b[0m-3.13    \u001b[0m |\n",
      "| \u001b[0m38       \u001b[0m | \u001b[0m0.654    \u001b[0m | \u001b[0m-8.262   \u001b[0m | \u001b[0m-11.86   \u001b[0m | \u001b[0m-10.85   \u001b[0m | \u001b[0m-3.424   \u001b[0m |\n",
      "| \u001b[0m39       \u001b[0m | \u001b[0m0.644    \u001b[0m | \u001b[0m-9.174   \u001b[0m | \u001b[0m-12.0    \u001b[0m | \u001b[0m-10.21   \u001b[0m | \u001b[0m-4.784   \u001b[0m |\n",
      "| \u001b[0m40       \u001b[0m | \u001b[0m0.616    \u001b[0m | \u001b[0m-8.422   \u001b[0m | \u001b[0m-12.0    \u001b[0m | \u001b[0m-8.506   \u001b[0m | \u001b[0m-4.146   \u001b[0m |\n",
      "| \u001b[0m41       \u001b[0m | \u001b[0m0.6224   \u001b[0m | \u001b[0m-7.742   \u001b[0m | \u001b[0m-12.0    \u001b[0m | \u001b[0m-9.704   \u001b[0m | \u001b[0m-6.182   \u001b[0m |\n",
      "| \u001b[0m42       \u001b[0m | \u001b[0m0.6104   \u001b[0m | \u001b[0m-10.07   \u001b[0m | \u001b[0m-12.0    \u001b[0m | \u001b[0m-8.533   \u001b[0m | \u001b[0m-6.349   \u001b[0m |\n",
      "| \u001b[0m43       \u001b[0m | \u001b[0m0.6316   \u001b[0m | \u001b[0m-9.703   \u001b[0m | \u001b[0m-12.0    \u001b[0m | \u001b[0m-11.17   \u001b[0m | \u001b[0m-7.146   \u001b[0m |\n",
      "| \u001b[0m44       \u001b[0m | \u001b[0m0.6232   \u001b[0m | \u001b[0m-8.851   \u001b[0m | \u001b[0m-12.0    \u001b[0m | \u001b[0m-9.813   \u001b[0m | \u001b[0m-9.15    \u001b[0m |\n",
      "| \u001b[0m45       \u001b[0m | \u001b[0m0.6192   \u001b[0m | \u001b[0m-7.507   \u001b[0m | \u001b[0m-12.0    \u001b[0m | \u001b[0m-12.0    \u001b[0m | \u001b[0m-8.593   \u001b[0m |\n",
      "=========================================================================\n",
      "CPU times: user 21min 5s, sys: 3min 40s, total: 24min 45s\n",
      "Wall time: 12min 4s\n"
     ]
    }
   ],
   "source": [
    "%%time\n",
    "lofi_orth_optimizer.maximize(\n",
    "    init_points=20,\n",
    "    n_iter=25,\n",
    ")"
   ]
  },
  {
   "attachments": {},
   "cell_type": "markdown",
   "metadata": {},
   "source": [
    "## 5.2 Test Set Accuracy"
   ]
  },
  {
   "cell_type": "code",
   "execution_count": null,
   "metadata": {},
   "outputs": [],
   "source": [
    "lofi_orth_hparams = hpt.get_best_params(lofi_orth_optimizer)\n",
    "lofi_orth_estimator = hpt.build_estimator(flat_params, lofi_orth_hparams, emission_mean_function,\n",
    "                                          emission_cov_function, method=\"lofi_orth\", \n",
    "                                          lofi_params=lofi_params_spherical)"
   ]
  },
  {
   "cell_type": "code",
   "execution_count": null,
   "metadata": {},
   "outputs": [],
   "source": [
    "_, lofi_orth_accs = lofi_orth_estimator.scan_dataloader(train_loader, callback=test_acc_callback, **test_kwargs)"
   ]
  },
  {
   "cell_type": "code",
   "execution_count": null,
   "metadata": {},
   "outputs": [],
   "source": [
    "lofi_orth_accs"
   ]
  },
  {
   "attachments": {},
   "cell_type": "markdown",
   "metadata": {},
   "source": [
    "# 6. LoFi-Spherical"
   ]
  },
  {
   "attachments": {},
   "cell_type": "markdown",
   "metadata": {},
   "source": [
    "## 6.1 Hyperparam Tuning"
   ]
  },
  {
   "cell_type": "code",
   "execution_count": null,
   "metadata": {},
   "outputs": [],
   "source": [
    "lofi_sph_optimizer, apply_fn, n_feats = hpt.create_optimizer(\n",
    "    cnn_model, pbounds, 314, train, val, emission_mean_function, emission_cov_function,\n",
    "    acc_callback, 'lofi', params_lofi=lofi_params_spherical\n",
    ")"
   ]
  },
  {
   "cell_type": "code",
   "execution_count": null,
   "metadata": {},
   "outputs": [],
   "source": [
    "%%time\n",
    "lofi_sph_optimizer.maximize(\n",
    "    init_points=20,\n",
    "    n_iter=25,\n",
    ")"
   ]
  },
  {
   "attachments": {},
   "cell_type": "markdown",
   "metadata": {},
   "source": [
    "## 6.2 Test Set Accuracy"
   ]
  },
  {
   "cell_type": "code",
   "execution_count": null,
   "metadata": {},
   "outputs": [],
   "source": [
    "lofi_sph_hparams = hpt.get_best_params(lofi_sph_optimizer)\n",
    "lofi_sph_estimator = hpt.build_estimator(flat_params, lofi_sph_hparams, emission_mean_function,\n",
    "                                         emission_cov_function, method=\"lofi\", \n",
    "                                         lofi_params=lofi_params_spherical)"
   ]
  },
  {
   "cell_type": "code",
   "execution_count": null,
   "metadata": {},
   "outputs": [],
   "source": [
    "_, lofi_sph_accs = lofi_sph_estimator.scan_dataloader(train_loader, callback=test_acc_callback, **test_kwargs)"
   ]
  },
  {
   "cell_type": "code",
   "execution_count": null,
   "metadata": {},
   "outputs": [],
   "source": [
    "lofi_sph_accs"
   ]
  },
  {
   "attachments": {},
   "cell_type": "markdown",
   "metadata": {},
   "source": [
    "# 7. LoFi-Diag"
   ]
  },
  {
   "attachments": {},
   "cell_type": "markdown",
   "metadata": {},
   "source": [
    "## 7.1 Hyperparam Tuning"
   ]
  },
  {
   "cell_type": "code",
   "execution_count": null,
   "metadata": {},
   "outputs": [],
   "source": [
    "lofi_params_diagonal = LoFiParams(\n",
    "    memory_size=20,\n",
    "    diagonal_covariance=True,\n",
    ")"
   ]
  },
  {
   "cell_type": "code",
   "execution_count": null,
   "metadata": {},
   "outputs": [],
   "source": [
    "lofi_diag_optimizer, apply_fn, n_feats = hpt.create_optimizer(\n",
    "    cnn_model, pbounds, 314, train, val, emission_mean_function, emission_cov_function,\n",
    "    acc_callback, 'lofi', params_lofi=lofi_params_diagonal\n",
    ")"
   ]
  },
  {
   "cell_type": "code",
   "execution_count": null,
   "metadata": {},
   "outputs": [],
   "source": [
    "%%time\n",
    "lofi_diag_optimizer.maximize(\n",
    "    init_points=20,\n",
    "    n_iter=25,\n",
    ")"
   ]
  },
  {
   "attachments": {},
   "cell_type": "markdown",
   "metadata": {},
   "source": [
    "## 7.2 Test Set Accuracy"
   ]
  },
  {
   "cell_type": "code",
   "execution_count": null,
   "metadata": {},
   "outputs": [],
   "source": [
    "lofi_diag_hparams = hpt.get_best_params(lofi_diag_optimizer)\n",
    "lofi_diag_estimator = hpt.build_estimator(flat_params, lofi_diag_hparams, emission_mean_function,\n",
    "                                          emission_cov_function, method=\"lofi\", \n",
    "                                          lofi_params=lofi_params_diagonal)"
   ]
  },
  {
   "cell_type": "code",
   "execution_count": null,
   "metadata": {},
   "outputs": [],
   "source": [
    "_, lofi_diag_accs = lofi_diag_estimator.scan_dataloader(train_loader, callback=test_acc_callback, **test_kwargs)"
   ]
  },
  {
   "cell_type": "code",
   "execution_count": null,
   "metadata": {},
   "outputs": [],
   "source": [
    "lofi_diag_accs"
   ]
  },
  {
   "attachments": {},
   "cell_type": "markdown",
   "metadata": {},
   "source": [
    "# 8. Model Comparison"
   ]
  }
 ],
 "metadata": {
  "kernelspec": {
   "display_name": ".venv",
   "language": "python",
   "name": "python3"
  },
  "language_info": {
   "codemirror_mode": {
    "name": "ipython",
    "version": 3
   },
   "file_extension": ".py",
   "mimetype": "text/x-python",
   "name": "python",
   "nbconvert_exporter": "python",
   "pygments_lexer": "ipython3",
   "version": "3.10.0"
  },
  "orig_nbformat": 4,
  "vscode": {
   "interpreter": {
    "hash": "a63216e3e6a2ce617ef04b00f48ca414857cfc892c8cff43a5943fdd36fca11d"
   }
  }
 },
 "nbformat": 4,
 "nbformat_minor": 2
}
