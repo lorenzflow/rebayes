{
 "cells": [
  {
   "attachments": {},
   "cell_type": "markdown",
   "metadata": {},
   "source": [
    "# 0. Imports"
   ]
  },
  {
   "cell_type": "code",
   "execution_count": 1,
   "metadata": {},
   "outputs": [
    {
     "name": "stderr",
     "output_type": "stream",
     "text": [
      "2023-05-30 17:14:27.036417: W tensorflow/compiler/xla/stream_executor/platform/default/dso_loader.cc:64] Could not load dynamic library 'libnvinfer.so.7'; dlerror: libnvinfer.so.7: cannot open shared object file: No such file or directory; LD_LIBRARY_PATH: :/usr/local/lib\n",
      "2023-05-30 17:14:27.036569: W tensorflow/compiler/xla/stream_executor/platform/default/dso_loader.cc:64] Could not load dynamic library 'libnvinfer_plugin.so.7'; dlerror: libnvinfer_plugin.so.7: cannot open shared object file: No such file or directory; LD_LIBRARY_PATH: :/usr/local/lib\n",
      "2023-05-30 17:14:27.036580: W tensorflow/compiler/tf2tensorrt/utils/py_utils.cc:38] TF-TRT Warning: Cannot dlopen some TensorRT libraries. If you would like to use Nvidia GPU with TensorRT, please make sure the missing libraries mentioned above are installed properly.\n"
     ]
    }
   ],
   "source": [
    "from functools import partial\n",
    "import os\n",
    "from pathlib import Path\n",
    "\n",
    "from IPython.display import HTML\n",
    "import jax\n",
    "import jax.numpy as jnp\n",
    "import jax.random as jr\n",
    "from jax.scipy import stats\n",
    "import matplotlib.pyplot as plt\n",
    "from matplotlib import animation, rc\n",
    "import numpy as np\n",
    "from tqdm import tqdm\n",
    "from time import time\n",
    "import optax\n",
    "\n",
    "from demos.showdown.classification import (\n",
    "    classification_train as benchmark,\n",
    "    hparam_tune_clf as hpt\n",
    ")\n",
    "from rebayes.datasets import classification_data as data_utils\n",
    "from rebayes.datasets import rotating_permuted_mnist_data as rmnist_data"
   ]
  },
  {
   "cell_type": "code",
   "execution_count": 2,
   "metadata": {},
   "outputs": [],
   "source": [
    "%load_ext autoreload\n",
    "%autoreload 2"
   ]
  },
  {
   "cell_type": "code",
   "execution_count": 3,
   "metadata": {},
   "outputs": [],
   "source": [
    "# Initialize model\n",
    "mlp_st_init_fn = lambda key, bwc_ratio: \\\n",
    "    benchmark.init_model(type='mlp', features=(100, 100, 10), key=key, rescale=False)"
   ]
  },
  {
   "cell_type": "code",
   "execution_count": 4,
   "metadata": {},
   "outputs": [
    {
     "name": "stderr",
     "output_type": "stream",
     "text": [
      "2023-05-30 17:14:31.291995: W tensorflow/compiler/xla/stream_executor/platform/default/dso_loader.cc:64] Could not load dynamic library 'libcuda.so.1'; dlerror: libcuda.so.1: cannot open shared object file: No such file or directory; LD_LIBRARY_PATH: :/usr/local/lib\n",
      "2023-05-30 17:14:31.292036: W tensorflow/compiler/xla/stream_executor/cuda/cuda_driver.cc:265] failed call to cuInit: UNKNOWN ERROR (303)\n"
     ]
    }
   ],
   "source": [
    "dataset_st = data_utils.load_mnist_dataset(fashion=False) # load data\n",
    "model_dict_st = benchmark.init_model(type='mlp', features=(100, 100, 10), key=0, rescale=False)"
   ]
  },
  {
   "cell_type": "code",
   "execution_count": 5,
   "metadata": {},
   "outputs": [],
   "source": [
    "# Select 9 random images (different digits) from the test set\n",
    "X_st_test, y_st_test = dataset_st['test']\n",
    "# Select 9 different digits from test set\n",
    "test_st_images = X_st_test[jnp.array([jr.choice(jr.PRNGKey(i), jnp.where(y_st_test == i)[0]) for i in range(10)])]\n",
    "\n",
    "# Introduce a randomly permuted image as an OOD sample\n",
    "ood_st_img = jr.choice(jr.PRNGKey(0), test_st_images)\n",
    "ood_st_img = jr.permutation(jr.PRNGKey(0), ood_st_img.ravel()).reshape(ood_st_img.shape)"
   ]
  },
  {
   "cell_type": "code",
   "execution_count": 6,
   "metadata": {},
   "outputs": [],
   "source": [
    "all_test_st_images = jnp.concatenate([test_st_images, ood_st_img[None, ...]], axis=0)\n",
    "all_test_st_labels = jnp.concatenate([jnp.arange(10), jnp.array([0])])"
   ]
  },
  {
   "attachments": {},
   "cell_type": "markdown",
   "metadata": {},
   "source": [
    "# 1. Stationary MNIST"
   ]
  },
  {
   "attachments": {},
   "cell_type": "markdown",
   "metadata": {},
   "source": [
    "## 1.1 LOFI-10"
   ]
  },
  {
   "attachments": {},
   "cell_type": "markdown",
   "metadata": {},
   "source": [
    "### 1.1.1 NLL"
   ]
  },
  {
   "cell_type": "code",
   "execution_count": null,
   "metadata": {},
   "outputs": [],
   "source": [
    "X_st_train, y_st_train = dataset_st['train']\n",
    "train_st = (X_st_train[:500], y_st_train[:500])\n",
    "kwargs = {\n",
    "    'memory_size': 10,\n",
    "    'inflation': \"hybrid\",\n",
    "    'lofi_method': \"diagonal\",\n",
    "}\n",
    "pbounds={\n",
    "    'log_init_cov': (-10.0, 0.0),\n",
    "    'log_bwc_ratio': (-40.0, -40.0),\n",
    "    'log_dynamics_weights': (-90, -90),\n",
    "    'log_dynamics_cov': (-90, -90),\n",
    "    'log_alpha': (-40, -40),\n",
    "    'log_temperature': (-40.0, -40.0)\n",
    "}\n",
    "agent_type = 'lofi'\n",
    "init_points, n_iter = 5, 10\n",
    "\n",
    "ll_callback = partial(benchmark.eval_callback, evaluate_fn=benchmark.mnist_evaluate_ll)\n",
    "# ll_callback=benchmark.eval_lpd_mc_callback\n",
    "optimizer_st = hpt.create_optimizer(\n",
    "    mlp_st_init_fn, pbounds, train_st, dataset_st['val'], callback=ll_callback, \n",
    "    method=agent_type, verbose=2, n_seeds=2, callback_at_end=False, **kwargs\n",
    ")\n",
    "\n",
    "optimizer_st.maximize(\n",
    "    init_points=init_points,\n",
    "    n_iter=n_iter,\n",
    ")\n",
    "best_hparams = hpt.get_best_params(optimizer_st, method=agent_type)\n",
    "print(f\"Best target: {optimizer_st.max['target']}\")"
   ]
  },
  {
   "cell_type": "code",
   "execution_count": null,
   "metadata": {},
   "outputs": [],
   "source": [
    "estimator_st, init_mean_st, init_cov_st, *_, apply_fn_st = hpt.build_estimator(\n",
    "    mlp_st_init_fn,\n",
    "    best_hparams,\n",
    "    method=agent_type,\n",
    "    **kwargs,\n",
    ")"
   ]
  },
  {
   "cell_type": "code",
   "execution_count": null,
   "metadata": {},
   "outputs": [],
   "source": [
    "# Train\n",
    "def map_callback(bel, *args, **kwargs):\n",
    "    return bel\n",
    "\n",
    "_, outputs = estimator_st.scan(init_mean_st, init_cov_st, X_st_train[:500], y_st_train[:500], map_callback)"
   ]
  },
  {
   "cell_type": "code",
   "execution_count": null,
   "metadata": {},
   "outputs": [],
   "source": [
    "# 11x10 grid\n",
    "frames = jnp.arange(0, 500, 50)\n",
    "n_test_images = 11\n",
    "fig, axs = plt.subplots(n_test_images, len(frames), figsize=(20, 20))\n",
    "\n",
    "for i, frame in enumerate(frames):\n",
    "    for j in range(n_test_images):\n",
    "        if j < 10:\n",
    "            curr_img = test_st_images[j]\n",
    "        else:\n",
    "            curr_img = ood_st_img\n",
    "        ax = axs[j][i]\n",
    "        ax.imshow(curr_img, cmap='gray', extent=[0, 10, 0, 1], aspect='auto', alpha=0.3)\n",
    "        ax.set_xticks(list(range(10)) + [10])\n",
    "        ax.set_xticklabels(list(map(str, range(10))) + ['nll'])\n",
    "        ax.set_ylim(0, 1)\n",
    "        ax.set_yticks([])\n",
    "\n",
    "        ax2 = ax.twinx()\n",
    "        ax2.set_ylim(0, 3.0)\n",
    "        ax2.set_yticks([])\n",
    "\n",
    "        logits = model_dict_st['apply_fn'](outputs.mean[frame], curr_img.reshape(1, 28, 28, 1))\n",
    "        preds = jax.nn.softmax(logits).ravel()\n",
    "        nll = optax.softmax_cross_entropy_with_integer_labels(logits, jnp.array(j))\n",
    "        \n",
    "        ax.bar(range(10), preds, color='blue')\n",
    "        ax2.bar(10, nll, color='red')\n",
    "        \n",
    "        ax.set_title(f\"Prediction: {preds.argmax()}\")\n",
    "    \n",
    "    fig.text(0.5 / len(frames) + i / len(frames), 0.04, f'n_obs: {frame}', ha='center')\n",
    "\n",
    "plt.tight_layout()\n",
    "plt.subplots_adjust(top=0.95, bottom=0.07)  # Make room for the column titles\n",
    "plt.show()\n"
   ]
  },
  {
   "attachments": {},
   "cell_type": "markdown",
   "metadata": {},
   "source": [
    "### 1.1.2 NLPD (Hot Posterior)"
   ]
  },
  {
   "cell_type": "code",
   "execution_count": null,
   "metadata": {},
   "outputs": [],
   "source": [
    "X_st_train, y_st_train = dataset_st['train']\n",
    "train_st = (X_st_train[:500], y_st_train[:500])\n",
    "kwargs = {\n",
    "    'memory_size': 10,\n",
    "    'inflation': \"hybrid\",\n",
    "    'lofi_method': \"diagonal\",\n",
    "}\n",
    "pbounds={\n",
    "    'log_init_cov': (-10.0, 0.0),\n",
    "    'log_bwc_ratio': (-40.0, -40.0),\n",
    "    'log_dynamics_weights': (-90, -90),\n",
    "    'log_dynamics_cov': (-90, -90),\n",
    "    'log_alpha': (-40, -40),\n",
    "    'log_temperature': (0.0, 0.0)\n",
    "}\n",
    "agent_type = 'lofi'\n",
    "init_points, n_iter = 5, 10\n",
    "\n",
    "ll_callback=partial(benchmark.eval_lpd_mc_callback, n_samples=500)\n",
    "optimizer_st_nlpd = hpt.create_optimizer(\n",
    "    mlp_st_init_fn, pbounds, train_st, dataset_st['val'], callback=ll_callback, \n",
    "    method=agent_type, verbose=2, n_seeds=2, callback_at_end=False, **kwargs\n",
    ")\n",
    "\n",
    "optimizer_st_nlpd.maximize(\n",
    "    init_points=init_points,\n",
    "    n_iter=n_iter,\n",
    ")\n",
    "best_hparams_st_nlpd = hpt.get_best_params(optimizer_st_nlpd, method=agent_type)\n",
    "print(f\"Best target: {optimizer_st_nlpd.max['target']}\")"
   ]
  },
  {
   "cell_type": "code",
   "execution_count": null,
   "metadata": {},
   "outputs": [],
   "source": [
    "estimator_st_nlpd, init_mean_st_nlpd, init_cov_st_nlpd, _, tmp, apply_fn_st_nlpd = \\\n",
    "    hpt.build_estimator(\n",
    "    mlp_st_init_fn,\n",
    "    best_hparams_st_nlpd,\n",
    "    method=agent_type,\n",
    "    **kwargs,\n",
    ")"
   ]
  },
  {
   "cell_type": "code",
   "execution_count": null,
   "metadata": {},
   "outputs": [],
   "source": [
    "# Train\n",
    "def mc_callback(bel, pred_obs, t, xt, yt, bel_pred, **kwargs):\n",
    "    key = jr.fold_in(kwargs[\"key\"], t)\n",
    "    agent, images = kwargs[\"agent\"], kwargs[\"images\"]\n",
    "    def mc_prediction(img, key):\n",
    "        img = img.reshape(1, 28, 28, 1)\n",
    "        y_samples = agent.pred_obs_mc(bel_pred, key, img, 500)\n",
    "        \n",
    "        return y_samples\n",
    "    keys = jr.split(key, len(images))\n",
    "    preds = jax.vmap(mc_prediction)(images, keys)\n",
    "\n",
    "    return preds, bel\n",
    "\n",
    "test_kwargs = {\n",
    "    \"agent\": estimator_st_nlpd,\n",
    "    \"key\": jr.PRNGKey(0),\n",
    "    \"images\": all_test_st_images\n",
    "}\n",
    "_, mc_outputs = estimator_st_nlpd.scan(init_mean_st_nlpd, init_cov_st_nlpd,\n",
    "                                       X_st_train[:500], y_st_train[:500], mc_callback, **test_kwargs)"
   ]
  },
  {
   "cell_type": "code",
   "execution_count": null,
   "metadata": {},
   "outputs": [],
   "source": [
    "mc_preds, mc_bels = mc_outputs"
   ]
  },
  {
   "cell_type": "code",
   "execution_count": null,
   "metadata": {},
   "outputs": [],
   "source": [
    "# 11x10 grid\n",
    "frames = jnp.arange(0, 500, 50)\n",
    "n_test_images = 11\n",
    "fig, axs = plt.subplots(n_test_images, len(frames), figsize=(20, 20))\n",
    "\n",
    "for i, frame in enumerate(frames):\n",
    "    for j in range(n_test_images):\n",
    "        key = jr.fold_in(jr.PRNGKey(i), j)\n",
    "        if j < 10:\n",
    "            curr_img = test_st_images[j]\n",
    "        else:\n",
    "            curr_img = ood_st_img\n",
    "        ax = axs[j][i]\n",
    "        ax.imshow(curr_img, cmap='gray', extent=[0, 10, 0, 1], aspect='auto', alpha=0.3)\n",
    "        ax.set_xticks(list(range(10)) + [10])\n",
    "        ax.set_xticklabels(list(map(str, range(10))) + ['nlpd'])\n",
    "        ax.set_ylim(0, 1)\n",
    "        ax.set_yticks([])\n",
    "\n",
    "        ax2 = ax.twinx()\n",
    "        ax2.set_ylim(0, 3.0)\n",
    "        ax2.set_yticks([])\n",
    "        \n",
    "        preds = mc_preds[frame, j].argmax(axis=-1)\n",
    "        pred_obs = jax.nn.one_hot(preds, 10).mean(axis=0)\n",
    "        \n",
    "        curr_bel = jax.tree_util.tree_map(lambda x: x[frame], mc_bels)\n",
    "        nlpd = estimator_st_nlpd.nlpd_mc(curr_bel, key, curr_img.reshape(1, 28, 28, 1), \n",
    "                                         all_test_st_labels[j], temperature=tmp)\n",
    "        \n",
    "        ax.bar(range(10), pred_obs, color='blue')\n",
    "        ax2.bar(10, nlpd, color='red')\n",
    "        \n",
    "        ax.set_title(f\"Prediction: {pred_obs.argmax()}\")\n",
    "    \n",
    "    fig.text(0.5 / len(frames) + i / len(frames), 0.04, f'n_obs: {frame}', ha='center')\n",
    "\n",
    "plt.tight_layout()\n",
    "plt.subplots_adjust(top=0.95, bottom=0.07)  # Make room for the column titles\n",
    "plt.show()\n"
   ]
  },
  {
   "attachments": {},
   "cell_type": "markdown",
   "metadata": {},
   "source": [
    "## 1.2 RSGD-10"
   ]
  },
  {
   "attachments": {},
   "cell_type": "markdown",
   "metadata": {},
   "source": [
    "### 1.2.1 NLL"
   ]
  },
  {
   "attachments": {},
   "cell_type": "markdown",
   "metadata": {},
   "source": [
    "### 1.2.2 NLPD"
   ]
  },
  {
   "attachments": {},
   "cell_type": "markdown",
   "metadata": {},
   "source": [
    "# 2. Nonstationary PMNIST"
   ]
  },
  {
   "attachments": {},
   "cell_type": "markdown",
   "metadata": {},
   "source": [
    "## 2.1 LOFI-10"
   ]
  },
  {
   "cell_type": "code",
   "execution_count": 20,
   "metadata": {},
   "outputs": [],
   "source": [
    "n_tasks, ntest_per_task = 5, 20\n",
    "data_kwargs = {\n",
    "    'n_tasks': n_tasks,\n",
    "    'ntrain_per_task': 300,\n",
    "    'nval_per_task': 1,\n",
    "    'ntest_per_task': ntest_per_task,\n",
    "}\n",
    "\n",
    "dataset_nst = data_utils.load_permuted_mnist_dataset(**data_kwargs, fashion=True) # load data\n",
    "dataset_nst_load_fn = partial(data_utils.load_permuted_mnist_dataset, **data_kwargs, fashion=True)"
   ]
  },
  {
   "cell_type": "code",
   "execution_count": 49,
   "metadata": {},
   "outputs": [],
   "source": [
    "# Select 9 random images (different digits) from the test set\n",
    "X_nst_test, y_nst_test = dataset_nst['test']\n",
    "# Select 9 different digits from test set\n",
    "test_idx = jnp.arange(ntest_per_task//3, n_tasks*ntest_per_task, ntest_per_task)\n",
    "test_nst_images, test_nst_labels = X_nst_test[test_idx], y_nst_test[test_idx]\n",
    "\n",
    "# Introduce an MNIST image as an OOD sample\n",
    "dataset_st = data_utils.load_mnist_dataset(fashion=False) # load data\n",
    "X_st_test, y_st_test = dataset_st['test']\n",
    "del dataset_st\n",
    "\n",
    "ood_idx = jr.choice(jr.PRNGKey(0), X_st_test.shape[0])\n",
    "ood_nst_img, ood_nst_label = X_st_test[ood_idx], y_st_test[ood_idx]"
   ]
  },
  {
   "cell_type": "code",
   "execution_count": 50,
   "metadata": {},
   "outputs": [],
   "source": [
    "all_test_nst_images = jnp.concatenate([test_nst_images, ood_nst_img[None, ...]], axis=0)\n",
    "all_test_nst_labels = jnp.concatenate([test_nst_labels, jnp.array([ood_nst_label])], axis=0)"
   ]
  },
  {
   "attachments": {},
   "cell_type": "markdown",
   "metadata": {},
   "source": [
    "### 2.1.1 NLL"
   ]
  },
  {
   "cell_type": "code",
   "execution_count": 23,
   "metadata": {},
   "outputs": [
    {
     "name": "stdout",
     "output_type": "stream",
     "text": [
      "|   iter    |  target   | log_alpha | log_bw... | log_dy... | log_dy... | log_in... | log_te... |\n",
      "-------------------------------------------------------------------------------------------------\n",
      "| \u001b[0m1        \u001b[0m | \u001b[0m-2.093   \u001b[0m | \u001b[0m-40.0    \u001b[0m | \u001b[0m-40.0    \u001b[0m | \u001b[0m-7.945   \u001b[0m | \u001b[0m-90.0    \u001b[0m | \u001b[0m-5.763   \u001b[0m | \u001b[0m-40.0    \u001b[0m |\n",
      "| \u001b[0m2        \u001b[0m | \u001b[0m-2.354   \u001b[0m | \u001b[0m-40.0    \u001b[0m | \u001b[0m-40.0    \u001b[0m | \u001b[0m-0.7267  \u001b[0m | \u001b[0m-90.0    \u001b[0m | \u001b[0m-2.083   \u001b[0m | \u001b[0m-40.0    \u001b[0m |\n",
      "| \u001b[0m3        \u001b[0m | \u001b[0m-2.302   \u001b[0m | \u001b[0m-40.0    \u001b[0m | \u001b[0m-40.0    \u001b[0m | \u001b[0m-18.58   \u001b[0m | \u001b[0m-90.0    \u001b[0m | \u001b[0m-9.798   \u001b[0m | \u001b[0m-40.0    \u001b[0m |\n",
      "| \u001b[0m4        \u001b[0m | \u001b[0m-2.364   \u001b[0m | \u001b[0m-40.0    \u001b[0m | \u001b[0m-40.0    \u001b[0m | \u001b[0m-0.4276  \u001b[0m | \u001b[0m-90.0    \u001b[0m | \u001b[0m-5.385   \u001b[0m | \u001b[0m-40.0    \u001b[0m |\n",
      "| \u001b[95m5        \u001b[0m | \u001b[95m-2.093   \u001b[0m | \u001b[95m-40.0    \u001b[0m | \u001b[95m-40.0    \u001b[0m | \u001b[95m-17.13   \u001b[0m | \u001b[95m-90.0    \u001b[0m | \u001b[95m-4.782   \u001b[0m | \u001b[95m-40.0    \u001b[0m |\n",
      "| \u001b[95m6        \u001b[0m | \u001b[95m-2.059   \u001b[0m | \u001b[95m-40.0    \u001b[0m | \u001b[95m-40.0    \u001b[0m | \u001b[95m-12.44   \u001b[0m | \u001b[95m-90.0    \u001b[0m | \u001b[95m-4.796   \u001b[0m | \u001b[95m-40.0    \u001b[0m |\n",
      "| \u001b[0m7        \u001b[0m | \u001b[0m-2.354   \u001b[0m | \u001b[0m-40.0    \u001b[0m | \u001b[0m-40.0    \u001b[0m | \u001b[0m-14.56   \u001b[0m | \u001b[0m-90.0    \u001b[0m | \u001b[0m0.0      \u001b[0m | \u001b[0m-40.0    \u001b[0m |\n",
      "| \u001b[0m8        \u001b[0m | \u001b[0m-2.118   \u001b[0m | \u001b[0m-40.0    \u001b[0m | \u001b[0m-40.0    \u001b[0m | \u001b[0m-11.24   \u001b[0m | \u001b[0m-90.0    \u001b[0m | \u001b[0m-7.84    \u001b[0m | \u001b[0m-40.0    \u001b[0m |\n",
      "| \u001b[95m9        \u001b[0m | \u001b[95m-2.026   \u001b[0m | \u001b[95m-40.0    \u001b[0m | \u001b[95m-40.0    \u001b[0m | \u001b[95m-9.211   \u001b[0m | \u001b[95m-90.0    \u001b[0m | \u001b[95m-2.696   \u001b[0m | \u001b[95m-40.0    \u001b[0m |\n",
      "| \u001b[0m10       \u001b[0m | \u001b[0m-2.353   \u001b[0m | \u001b[0m-40.0    \u001b[0m | \u001b[0m-40.0    \u001b[0m | \u001b[0m-7.051   \u001b[0m | \u001b[0m-90.0    \u001b[0m | \u001b[0m0.0      \u001b[0m | \u001b[0m-40.0    \u001b[0m |\n",
      "| \u001b[95m11       \u001b[0m | \u001b[95m-2.005   \u001b[0m | \u001b[95m-40.0    \u001b[0m | \u001b[95m-40.0    \u001b[0m | \u001b[95m-10.14   \u001b[0m | \u001b[95m-90.0    \u001b[0m | \u001b[95m-4.557   \u001b[0m | \u001b[95m-40.0    \u001b[0m |\n",
      "| \u001b[0m12       \u001b[0m | \u001b[0m-2.012   \u001b[0m | \u001b[0m-40.0    \u001b[0m | \u001b[0m-40.0    \u001b[0m | \u001b[0m-20.0    \u001b[0m | \u001b[0m-90.0    \u001b[0m | \u001b[0m-2.568   \u001b[0m | \u001b[0m-40.0    \u001b[0m |\n",
      "| \u001b[0m13       \u001b[0m | \u001b[0m-2.369   \u001b[0m | \u001b[0m-40.0    \u001b[0m | \u001b[0m-40.0    \u001b[0m | \u001b[0m-20.0    \u001b[0m | \u001b[0m-90.0    \u001b[0m | \u001b[0m0.0      \u001b[0m | \u001b[0m-40.0    \u001b[0m |\n",
      "| \u001b[0m14       \u001b[0m | \u001b[0m-2.096   \u001b[0m | \u001b[0m-40.0    \u001b[0m | \u001b[0m-40.0    \u001b[0m | \u001b[0m-19.96   \u001b[0m | \u001b[0m-90.0    \u001b[0m | \u001b[0m-4.835   \u001b[0m | \u001b[0m-40.0    \u001b[0m |\n",
      "| \u001b[95m15       \u001b[0m | \u001b[95m-1.991   \u001b[0m | \u001b[95m-40.0    \u001b[0m | \u001b[95m-40.0    \u001b[0m | \u001b[95m-11.25   \u001b[0m | \u001b[95m-90.0    \u001b[0m | \u001b[95m-2.667   \u001b[0m | \u001b[95m-40.0    \u001b[0m |\n",
      "=================================================================================================\n",
      "Best target: -1.991395354270935\n"
     ]
    }
   ],
   "source": [
    "X_nst_train, y_nst_train = dataset_nst['train']\n",
    "train_nst = (X_nst_train, y_nst_train)\n",
    "kwargs = {\n",
    "    'memory_size': 10,\n",
    "    'inflation': \"hybrid\",\n",
    "    'lofi_method': \"diagonal\",\n",
    "}\n",
    "pbounds={\n",
    "    'log_init_cov': (-10.0, 0.0),\n",
    "    'log_bwc_ratio': (-40.0, -40.0),\n",
    "    'log_dynamics_weights': (-90, -90),\n",
    "    'log_dynamics_cov': (-20, 0.0),\n",
    "    'log_alpha': (-40, -40),\n",
    "    'log_temperature': (-40.0, -40.0)\n",
    "}\n",
    "agent_type = 'lofi'\n",
    "init_points, n_iter = 5, 10\n",
    "\n",
    "ll_callback = partial(\n",
    "    benchmark.osa_eval_callback, \n",
    "    evaluate_fn=lambda y_pred, y: -optax.softmax_cross_entropy(y_pred, y).mean(),\n",
    ")\n",
    "optimizer_nst = hpt.create_optimizer(\n",
    "    mlp_st_init_fn, pbounds, train_nst, dataset_nst['val'], callback=ll_callback, \n",
    "    method=agent_type, verbose=2, n_seeds=1, callback_at_end=False, **kwargs\n",
    ")\n",
    "\n",
    "optimizer_nst.maximize(\n",
    "    init_points=init_points,\n",
    "    n_iter=n_iter,\n",
    ")\n",
    "best_hparams = hpt.get_best_params(optimizer_nst, method=agent_type)\n",
    "print(f\"Best target: {optimizer_nst.max['target']}\")"
   ]
  },
  {
   "cell_type": "code",
   "execution_count": 25,
   "metadata": {},
   "outputs": [],
   "source": [
    "# best_hparams\n",
    "best_hparams = {\n",
    "    'initial_covariance': 0.06942788518519619,\n",
    "    'dynamics_covariance': 1.3068233514466364e-05,\n",
    "    'dynamics_covariance_inflation_factor': 4.248354255291589e-18,\n",
    "    'dynamics_weights': 1.0,\n",
    "    'temperature': 4.248354255291589e-18,\n",
    "    'bias_weight_cov_ratio': 4.248354255291589e-18\n",
    "}"
   ]
  },
  {
   "cell_type": "code",
   "execution_count": 26,
   "metadata": {},
   "outputs": [],
   "source": [
    "estimator_nst, init_mean_nst, init_cov_nst, *_, apply_fn_nst = hpt.build_estimator(\n",
    "    mlp_st_init_fn,\n",
    "    best_hparams,\n",
    "    method=agent_type,\n",
    "    **kwargs,\n",
    ")"
   ]
  },
  {
   "cell_type": "code",
   "execution_count": 51,
   "metadata": {},
   "outputs": [],
   "source": [
    "# Train\n",
    "def map_nst_callback(bel, *args, **kwargs):\n",
    "    test_imgs = kwargs['test_imgs']\n",
    "    def compute_logits(img):\n",
    "        logits = model_dict_st[\"apply_fn\"](bel.mean, img.reshape(1, 28, 28, 1))\n",
    "        return logits\n",
    "    \n",
    "    logits = jax.vmap(compute_logits)(test_imgs)\n",
    "    \n",
    "    return logits\n",
    "\n",
    "test_kwargs = {\n",
    "    \"test_imgs\": all_test_nst_images\n",
    "}\n",
    "\n",
    "_, outputs_nst = estimator_nst.scan(init_mean_nst, init_cov_nst, X_nst_train, y_nst_train, \n",
    "                                    map_nst_callback, **test_kwargs)"
   ]
  },
  {
   "cell_type": "code",
   "execution_count": 52,
   "metadata": {},
   "outputs": [
    {
     "data": {
      "image/png": "[encoded data removed]",
      "text/plain": [
       "<Figure size 1000x1500 with 60 Axes>"
      ]
     },
     "metadata": {},
     "output_type": "display_data"
    }
   ],
   "source": [
    "# 11x10 grid\n",
    "frames = jnp.arange(200, 1_500, 300)\n",
    "n_test_images = 6\n",
    "fig, axs = plt.subplots(n_test_images, len(frames), figsize=(10, 15))\n",
    "\n",
    "for i, frame in enumerate(frames):\n",
    "    for j in range(n_test_images):\n",
    "        curr_img = all_test_nst_images[j]\n",
    "        ax = axs[j][i]\n",
    "        ax.imshow(curr_img, cmap='gray', extent=[0, 10, 0, 1], aspect='auto', alpha=0.3)\n",
    "        ax.set_xticks(list(range(10)) + [10])\n",
    "        ax.set_xticklabels(list(map(str, range(10))) + ['nll'])\n",
    "        ax.set_ylim(0, 1)\n",
    "        ax.set_yticks([])\n",
    "\n",
    "        ax2 = ax.twinx()\n",
    "        ax2.set_ylim(0, 3.0)\n",
    "        ax2.set_yticks([])\n",
    "\n",
    "        logits = outputs_nst[frame, j]\n",
    "        preds = jax.nn.softmax(logits).ravel()\n",
    "        nll = optax.softmax_cross_entropy_with_integer_labels(logits, all_test_nst_labels[j])\n",
    "        \n",
    "        ax.bar(range(10), preds, color='blue')\n",
    "        ax2.bar(10, nll, color='red')\n",
    "        \n",
    "        ax.set_title(f\"Pred: {preds.argmax()}, True: {all_test_nst_labels[j]}\")\n",
    "        \n",
    "        # Indicate current task\n",
    "        if i  == j:\n",
    "            ax.set_facecolor('lightgreen')\n",
    "        elif i < j:\n",
    "            ax.set_facecolor('wheat')\n",
    "    \n",
    "    fig.text(0.5 / len(frames) + i / len(frames), 0.04, f'n_obs: {frame}', ha='center')\n",
    "\n",
    "plt.tight_layout()\n",
    "plt.subplots_adjust(top=0.95, bottom=0.07)  # Make room for the column titles\n",
    "plt.savefig(\"permuted_fmnist_clf_probe.pdf\")\n",
    "plt.show()\n"
   ]
  },
  {
   "attachments": {},
   "cell_type": "markdown",
   "metadata": {},
   "source": [
    "## 2.2 RSGD-10"
   ]
  },
  {
   "cell_type": "code",
   "execution_count": null,
   "metadata": {},
   "outputs": [],
   "source": [
    "X_nst_train, y_nst_train = dataset_nst['train']\n",
    "train_nst = (X_nst_train, y_nst_train)\n",
    "kwargs = {\n",
    "    'loss_fn': optax.softmax_cross_entropy,\n",
    "    'buffer_size': 10,\n",
    "    'dim_output': 10,\n",
    "    \"optimizer\": \"sgd\",\n",
    "}\n",
    "pbounds = {\n",
    "    'log_learning_rate': (-10, 0.0),\n",
    "    'log_bwc_ratio': (-40.0, -40.0),\n",
    "}\n",
    "agent_type = 'sgd'\n",
    "init_points, n_iter = 5, 5\n",
    "\n",
    "ll_callback = partial(\n",
    "    benchmark.osa_eval_callback, \n",
    "    evaluate_fn=lambda y_pred, y: -optax.softmax_cross_entropy(y_pred, y).mean(),\n",
    ")\n",
    "optimizer_nst = hpt.create_optimizer(\n",
    "    mlp_st_init_fn, pbounds, train_nst, dataset_nst['val'], callback=ll_callback, \n",
    "    method=agent_type, verbose=2, n_seeds=1, callback_at_end=False, **kwargs\n",
    ")\n",
    "\n",
    "optimizer_nst.maximize(\n",
    "    init_points=init_points,\n",
    "    n_iter=n_iter,\n",
    ")\n",
    "best_hparams = hpt.get_best_params(optimizer_nst, method=agent_type)\n",
    "print(f\"Best target: {optimizer_nst.max['target']}\")"
   ]
  },
  {
   "cell_type": "code",
   "execution_count": null,
   "metadata": {},
   "outputs": [],
   "source": [
    "estimator_nst_rsgd, init_mean_nst_rsgd, init_cov_nst_rsgd, *_, apply_fn_nst_rsgd = hpt.build_estimator(\n",
    "    mlp_st_init_fn,\n",
    "    best_hparams,\n",
    "    method=agent_type,\n",
    "    **kwargs,\n",
    ")"
   ]
  },
  {
   "cell_type": "code",
   "execution_count": null,
   "metadata": {},
   "outputs": [],
   "source": [
    "_, outputs_nst_rsgd = estimator_nst_rsgd.scan(init_mean_nst_rsgd, init_cov_nst_rsgd, \n",
    "                                              X_nst_train, y_nst_train, \n",
    "                                              map_nst_callback, **test_kwargs)"
   ]
  },
  {
   "cell_type": "code",
   "execution_count": null,
   "metadata": {},
   "outputs": [],
   "source": [
    "# 6x10 grid\n",
    "frames = jnp.arange(50, 5_000, 500)\n",
    "n_test_images = 6\n",
    "fig, axs = plt.subplots(n_test_images, len(frames), figsize=(20, 15))\n",
    "\n",
    "for i, frame in enumerate(frames):\n",
    "    for j in range(n_test_images):\n",
    "        curr_img = all_test_nst_images[j]\n",
    "        ax = axs[j][i]\n",
    "        ax.imshow(curr_img, cmap='gray', extent=[0, 10, 0, 1], aspect='auto', alpha=0.3)\n",
    "        ax.set_xticks(list(range(10)) + [10])\n",
    "        ax.set_xticklabels(list(map(str, range(10))) + ['nll'])\n",
    "        ax.set_ylim(0, 1)\n",
    "        ax.set_yticks([])\n",
    "\n",
    "        ax2 = ax.twinx()\n",
    "        ax2.set_ylim(0, 3.0)\n",
    "        ax2.set_yticks([])\n",
    "\n",
    "        logits = outputs_nst_rsgd[frame, j]\n",
    "        preds = jax.nn.softmax(logits).ravel()\n",
    "        nll = optax.softmax_cross_entropy_with_integer_labels(logits, all_test_nst_labels[j])\n",
    "        \n",
    "        ax.bar(range(10), preds, color='blue')\n",
    "        ax2.bar(10, nll, color='red')\n",
    "        \n",
    "        ax.set_title(f\"Pred.: {preds.argmax()}, True: {all_test_nst_labels[j]}\")\n",
    "        \n",
    "        # Indicate current task\n",
    "        if i // 2 == j:\n",
    "            ax.set_facecolor('lightgreen')\n",
    "        elif i // 2 < j:\n",
    "            ax.set_facecolor('wheat')\n",
    "    \n",
    "    fig.text(0.5 / len(frames) + i / len(frames), 0.04, f'n_obs: {frame}', ha='center')\n",
    "\n",
    "plt.tight_layout()\n",
    "plt.subplots_adjust(top=0.95, bottom=0.07)  # Make room for the column titles\n",
    "plt.show()\n"
   ]
  },
  {
   "attachments": {},
   "cell_type": "markdown",
   "metadata": {},
   "source": [
    "# 3. Nonstationary RMNIST Classification"
   ]
  },
  {
   "cell_type": "code",
   "execution_count": null,
   "metadata": {},
   "outputs": [],
   "source": [
    "# Load MNIST dataset\n",
    "mnist_dataset = data_utils.load_mnist_dataset(fashion=False)\n",
    "n_train = 2_000\n",
    "X_rot_train, y_rot_train = mnist_dataset['train']\n",
    "X_rot_train, y_rot_train = X_rot_train[:n_train], y_rot_train[:n_train]\n",
    "X_rot_test, y_rot_test = mnist_dataset['test']\n",
    "\n",
    "# Generate discrete rotation angles\n",
    "def generate_angle_fn(n_angles, min_angle, max_angle, increment=45.0):\n",
    "    n_tasks = int((max_angle - min_angle) // increment + 1)\n",
    "    n_angles_per_task = int(n_angles // n_tasks)\n",
    "    result, curr_angle = [], min_angle\n",
    "    for i in range(n_tasks):\n",
    "        if i == n_tasks - 1:\n",
    "            n_angles_per_task = n_angles\n",
    "        result += [curr_angle] * n_angles_per_task\n",
    "        n_angles -= n_angles_per_task\n",
    "        curr_angle += increment\n",
    "    result = jnp.array(result)\n",
    "    \n",
    "    return result, n_tasks, n_angles_per_task\n",
    "\n",
    "min_angles, max_angles, increment = 0.0, 180.0, 45.0\n",
    "angles_train, n_tasks_rot, _ = generate_angle_fn(len(X_rot_train), min_angles, max_angles, increment)\n",
    "angles_test, _, ntest_per_task_rot = generate_angle_fn(len(X_rot_test), min_angles, max_angles, increment)\n",
    "\n",
    "# Generate rotated MNIST dataset\n",
    "X_rot_train = rmnist_data.rotate_mnist_dataset(X_rot_train, angles_train)\n",
    "X_rot_test = rmnist_data.rotate_mnist_dataset(X_rot_test, angles_test)"
   ]
  },
  {
   "attachments": {},
   "cell_type": "markdown",
   "metadata": {},
   "source": [
    "## 3.1 LOFI-10"
   ]
  },
  {
   "cell_type": "code",
   "execution_count": null,
   "metadata": {},
   "outputs": [],
   "source": [
    "train_rot = (X_rot_train, y_rot_train)\n",
    "kwargs = {\n",
    "    'memory_size': 10,\n",
    "    'inflation': \"hybrid\",\n",
    "    'lofi_method': \"diagonal\",\n",
    "}\n",
    "pbounds={\n",
    "    'log_init_cov': (-10.0, 0.0),\n",
    "    'log_bwc_ratio': (-40.0, -40.0),\n",
    "    'log_dynamics_weights': (-90, -90),\n",
    "    'log_dynamics_cov': (-20, 0.0),\n",
    "    'log_alpha': (-40, -40),\n",
    "    'log_temperature': (-40.0, -40.0)\n",
    "}\n",
    "agent_type = 'lofi'\n",
    "init_points, n_iter = 5, 10\n",
    "\n",
    "ll_callback = partial(\n",
    "    benchmark.osa_eval_callback, \n",
    "    evaluate_fn=lambda y_pred, y: -optax.softmax_cross_entropy(y_pred, y).mean(),\n",
    ")\n",
    "optimizer_nst = hpt.create_optimizer(\n",
    "    mlp_st_init_fn, pbounds, train_rot, train_rot, callback=ll_callback, \n",
    "    method=agent_type, verbose=2, n_seeds=1, callback_at_end=False, **kwargs\n",
    ")\n",
    "\n",
    "optimizer_nst.maximize(\n",
    "    init_points=init_points,\n",
    "    n_iter=n_iter,\n",
    ")\n",
    "best_hparams = hpt.get_best_params(optimizer_nst, method=agent_type)\n",
    "print(f\"Best target: {optimizer_nst.max['target']}\")"
   ]
  },
  {
   "cell_type": "code",
   "execution_count": null,
   "metadata": {},
   "outputs": [],
   "source": [
    "# best_hparams\n",
    "best_hparams = {\n",
    "    'initial_covariance': 0.05363468552651192,\n",
    "    'dynamics_covariance': 5.3157380267683186e-05,\n",
    "    'dynamics_covariance_inflation_factor': 4.248354255291589e-18,\n",
    "    'dynamics_weights': 1.0,\n",
    "    'temperature': 4.248354255291589e-18,\n",
    "    'bias_weight_cov_ratio': 4.248354255291589e-18\n",
    "}"
   ]
  },
  {
   "cell_type": "code",
   "execution_count": null,
   "metadata": {},
   "outputs": [],
   "source": [
    "estimator_rot, init_mean_rot, init_cov_rot, *_, apply_fn_rot = hpt.build_estimator(\n",
    "    mlp_st_init_fn,\n",
    "    best_hparams,\n",
    "    method=agent_type,\n",
    "    **kwargs,\n",
    ")"
   ]
  },
  {
   "attachments": {},
   "cell_type": "markdown",
   "metadata": {},
   "source": [
    "### 3.1.1 Random Target Digits"
   ]
  },
  {
   "cell_type": "code",
   "execution_count": null,
   "metadata": {},
   "outputs": [],
   "source": [
    "# Select 5 random images (different digits) from test set\n",
    "test_idx = jnp.arange(ntest_per_task_rot//4, n_tasks_rot*ntest_per_task_rot, ntest_per_task_rot)\n",
    "test_rot_images, test_rot_labels = X_rot_test[test_idx], y_rot_test[test_idx]\n",
    "\n",
    "# Introduce a fashion MNIST image as an OOD sample\n",
    "fashion_mnist_dataset = data_utils.load_mnist_dataset(fashion=True)\n",
    "X_fashion, y_fashion = fashion_mnist_dataset['test']\n",
    "\n",
    "ood_idx = jr.choice(jr.PRNGKey(0), len(X_fashion))\n",
    "ood_rot_img, ood_rot_label = X_fashion[ood_idx], y_fashion[ood_idx]\n",
    "\n",
    "all_test_rot_images = jnp.concatenate([test_rot_images, ood_rot_img[None, ...]], axis=0)\n",
    "all_test_rot_labels = jnp.concatenate([test_rot_labels, jnp.array([ood_rot_label])], axis=0)"
   ]
  },
  {
   "cell_type": "code",
   "execution_count": null,
   "metadata": {},
   "outputs": [],
   "source": [
    "# Train\n",
    "test_random_kwargs = {\n",
    "    \"test_imgs\": all_test_rot_images\n",
    "}\n",
    "\n",
    "_, outputs_rot = estimator_rot.scan(init_mean_rot, init_cov_rot, X_rot_train, y_rot_train, \n",
    "                                    map_nst_callback, **test_random_kwargs)"
   ]
  },
  {
   "cell_type": "code",
   "execution_count": null,
   "metadata": {},
   "outputs": [],
   "source": [
    "# 6x10 grid\n",
    "frame_inc = n_train // 10\n",
    "frames = jnp.arange(50, n_train, frame_inc)\n",
    "n_test_images = n_tasks_rot + 1\n",
    "fig, axs = plt.subplots(n_test_images, len(frames), figsize=(20, 15))\n",
    "\n",
    "for i, frame in enumerate(frames):\n",
    "    for j in range(n_test_images):\n",
    "        curr_img = all_test_rot_images[j]\n",
    "        ax = axs[j][i]\n",
    "        ax.imshow(curr_img, cmap='gray', extent=[0, 10, 0, 1], aspect='auto', alpha=0.3)\n",
    "        ax.set_xticks(list(range(10)) + [10])\n",
    "        ax.set_xticklabels(list(map(str, range(10))) + ['nll'])\n",
    "        ax.set_ylim(0, 1)\n",
    "        ax.set_yticks([])\n",
    "\n",
    "        ax2 = ax.twinx()\n",
    "        ax2.set_ylim(0, 3.0)\n",
    "        ax2.set_yticks([])\n",
    "\n",
    "        logits = outputs_rot[frame, j]\n",
    "        preds = jax.nn.softmax(logits).ravel()\n",
    "        nll = optax.softmax_cross_entropy_with_integer_labels(logits, all_test_rot_labels[j])\n",
    "        \n",
    "        ax.bar(range(10), preds, color='blue')\n",
    "        ax2.bar(10, nll, color='red')\n",
    "        \n",
    "        ax.set_title(f\"Pred.: {preds.argmax()}\")\n",
    "        \n",
    "        # Indicate current task\n",
    "        if i // 2 == j:\n",
    "            ax.set_facecolor('lightgreen')\n",
    "        elif i // 2 < j:\n",
    "            ax.set_facecolor('wheat')\n",
    "    \n",
    "    fig.text(0.5 / len(frames) + i / len(frames), 0.04, f'n_obs: {frame}', ha='center')\n",
    "\n",
    "plt.tight_layout()\n",
    "plt.subplots_adjust(top=0.95, bottom=0.07)  # Make room for the column titles\n",
    "plt.show()\n"
   ]
  },
  {
   "attachments": {},
   "cell_type": "markdown",
   "metadata": {},
   "source": [
    "### 3.1.2 Target Digit = 3"
   ]
  },
  {
   "cell_type": "code",
   "execution_count": null,
   "metadata": {},
   "outputs": [],
   "source": [
    "# Select 5 rotations of digit 3 from test set\n",
    "X_rot_test, y_rot_test = mnist_dataset['test']\n",
    "X_rot_test, y_rot_test = X_rot_test[y_rot_test == 3], y_rot_test[y_rot_test == 3]\n",
    "angles_test, _, ntest_per_task_rot = generate_angle_fn(len(X_rot_test), min_angles, max_angles, increment)\n",
    "X_rot_test = rmnist_data.rotate_mnist_dataset(X_rot_test, angles_test)\n",
    "\n",
    "test_idx = jnp.arange(ntest_per_task_rot//4, n_tasks_rot*ntest_per_task_rot, ntest_per_task_rot)\n",
    "test_rot_images, test_rot_labels = X_rot_test[test_idx], y_rot_test[test_idx]\n",
    "\n",
    "# Introduce a fashion MNIST image as an OOD sample\n",
    "fashion_mnist_dataset = data_utils.load_mnist_dataset(fashion=True)\n",
    "X_fashion, y_fashion = fashion_mnist_dataset['test']\n",
    "\n",
    "ood_idx = jr.choice(jr.PRNGKey(0), len(X_fashion))\n",
    "ood_rot_img, ood_rot_label = X_fashion[ood_idx], y_fashion[ood_idx]\n",
    "\n",
    "all_test_rot_images = jnp.concatenate([test_rot_images, ood_rot_img[None, ...]], axis=0)\n",
    "all_test_rot_labels = jnp.concatenate([test_rot_labels, jnp.array([ood_rot_label])], axis=0)"
   ]
  },
  {
   "cell_type": "code",
   "execution_count": null,
   "metadata": {},
   "outputs": [],
   "source": [
    "# Train\n",
    "test_3_kwargs = {\n",
    "    \"test_imgs\": all_test_rot_images\n",
    "}\n",
    "\n",
    "_, outputs_rot = estimator_rot.scan(init_mean_rot, init_cov_rot, X_rot_train, y_rot_train, \n",
    "                                    map_nst_callback, **test_3_kwargs)"
   ]
  },
  {
   "cell_type": "code",
   "execution_count": null,
   "metadata": {},
   "outputs": [],
   "source": [
    "# 6x10 grid\n",
    "frame_inc = n_train // 10\n",
    "frames = jnp.arange(50, n_train, frame_inc)\n",
    "n_test_images = n_tasks_rot + 1\n",
    "fig, axs = plt.subplots(n_test_images, len(frames), figsize=(20, 15))\n",
    "\n",
    "for i, frame in enumerate(frames):\n",
    "    for j in range(n_test_images):\n",
    "        curr_img = all_test_rot_images[j]\n",
    "        ax = axs[j][i]\n",
    "        ax.imshow(curr_img, cmap='gray', extent=[0, 10, 0, 1], aspect='auto', alpha=0.3)\n",
    "        ax.set_xticks(list(range(10)) + [10])\n",
    "        ax.set_xticklabels(list(map(str, range(10))) + ['nll'])\n",
    "        ax.set_ylim(0, 1)\n",
    "        ax.set_yticks([])\n",
    "\n",
    "        ax2 = ax.twinx()\n",
    "        ax2.set_ylim(0, 3.0)\n",
    "        ax2.set_yticks([])\n",
    "\n",
    "        logits = outputs_rot[frame, j]\n",
    "        preds = jax.nn.softmax(logits).ravel()\n",
    "        nll = optax.softmax_cross_entropy_with_integer_labels(logits, all_test_rot_labels[j])\n",
    "        \n",
    "        ax.bar(range(10), preds, color='blue')\n",
    "        ax2.bar(10, nll, color='red')\n",
    "        \n",
    "        ax.set_title(f\"Pred.: {preds.argmax()}\")\n",
    "        \n",
    "        # Indicate current task\n",
    "        if i // 2 == j:\n",
    "            ax.set_facecolor('lightgreen')\n",
    "        elif i // 2 < j:\n",
    "            ax.set_facecolor('wheat')\n",
    "    \n",
    "    fig.text(0.5 / len(frames) + i / len(frames), 0.04, f'n_obs: {frame}', ha='center')\n",
    "\n",
    "plt.tight_layout()\n",
    "plt.subplots_adjust(top=0.95, bottom=0.07)  # Make room for the column titles\n",
    "plt.show()\n"
   ]
  },
  {
   "attachments": {},
   "cell_type": "markdown",
   "metadata": {},
   "source": [
    "### 3.1.3 Target Digit = 8"
   ]
  },
  {
   "cell_type": "code",
   "execution_count": null,
   "metadata": {},
   "outputs": [],
   "source": [
    "# Select 9 rotations of digit 3 from test set\n",
    "X_rot_test, y_rot_test = mnist_dataset['test']\n",
    "X_rot_test, y_rot_test = X_rot_test[y_rot_test == 8], y_rot_test[y_rot_test == 8]\n",
    "angles_test, _, ntest_per_task_rot = generate_angle_fn(len(X_rot_test), min_angles, max_angles, increment)\n",
    "X_rot_test = rmnist_data.rotate_mnist_dataset(X_rot_test, angles_test)\n",
    "\n",
    "test_idx = jnp.arange(ntest_per_task_rot//4, n_tasks_rot*ntest_per_task_rot, ntest_per_task_rot)\n",
    "test_rot_images, test_rot_labels = X_rot_test[test_idx], y_rot_test[test_idx]\n",
    "\n",
    "# Introduce a fashion MNIST image as an OOD sample\n",
    "fashion_mnist_dataset = data_utils.load_mnist_dataset(fashion=True)\n",
    "X_fashion, y_fashion = fashion_mnist_dataset['test']\n",
    "\n",
    "ood_idx = jr.choice(jr.PRNGKey(0), len(X_fashion))\n",
    "ood_rot_img, ood_rot_label = X_fashion[ood_idx], y_fashion[ood_idx]\n",
    "\n",
    "all_test_rot_images = jnp.concatenate([test_rot_images, ood_rot_img[None, ...]], axis=0)\n",
    "all_test_rot_labels = jnp.concatenate([test_rot_labels, jnp.array([ood_rot_label])], axis=0)"
   ]
  },
  {
   "cell_type": "code",
   "execution_count": null,
   "metadata": {},
   "outputs": [],
   "source": [
    "# Train\n",
    "test_8_kwargs = {\n",
    "    \"test_imgs\": all_test_rot_images\n",
    "}\n",
    "\n",
    "_, outputs_rot = estimator_rot.scan(init_mean_rot, init_cov_rot, X_rot_train, y_rot_train, \n",
    "                                    map_nst_callback, **test_8_kwargs)"
   ]
  },
  {
   "cell_type": "code",
   "execution_count": null,
   "metadata": {},
   "outputs": [],
   "source": [
    "# 6x10 grid\n",
    "frame_inc = n_train // 10\n",
    "frames = jnp.arange(50, n_train, frame_inc)\n",
    "n_test_images = n_tasks_rot + 1\n",
    "fig, axs = plt.subplots(n_test_images, len(frames), figsize=(20, 15))\n",
    "\n",
    "for i, frame in enumerate(frames):\n",
    "    for j in range(n_test_images):\n",
    "        curr_img = all_test_rot_images[j]\n",
    "        ax = axs[j][i]\n",
    "        ax.imshow(curr_img, cmap='gray', extent=[0, 10, 0, 1], aspect='auto', alpha=0.3)\n",
    "        ax.set_xticks(list(range(10)) + [10])\n",
    "        ax.set_xticklabels(list(map(str, range(10))) + ['nll'])\n",
    "        ax.set_ylim(0, 1)\n",
    "        ax.set_yticks([])\n",
    "\n",
    "        ax2 = ax.twinx()\n",
    "        ax2.set_ylim(0, 3.0)\n",
    "        ax2.set_yticks([])\n",
    "\n",
    "        logits = outputs_rot[frame, j]\n",
    "        preds = jax.nn.softmax(logits).ravel()\n",
    "        nll = optax.softmax_cross_entropy_with_integer_labels(logits, all_test_rot_labels[j])\n",
    "        \n",
    "        ax.bar(range(10), preds, color='blue')\n",
    "        ax2.bar(10, nll, color='red')\n",
    "        \n",
    "        ax.set_title(f\"Pred.: {preds.argmax()}\")\n",
    "        \n",
    "        # Indicate current task\n",
    "        if i // 2 == j:\n",
    "            ax.set_facecolor('lightgreen')\n",
    "        elif i // 2 < j:\n",
    "            ax.set_facecolor('wheat')\n",
    "    \n",
    "    fig.text(0.5 / len(frames) + i / len(frames), 0.04, f'n_obs: {frame}', ha='center')\n",
    "\n",
    "plt.tight_layout()\n",
    "plt.subplots_adjust(top=0.95, bottom=0.07)  # Make room for the column titles\n",
    "plt.show()\n"
   ]
  },
  {
   "attachments": {},
   "cell_type": "markdown",
   "metadata": {},
   "source": [
    "# 3.2 RSGD-10"
   ]
  },
  {
   "cell_type": "code",
   "execution_count": null,
   "metadata": {},
   "outputs": [],
   "source": [
    "train_rot = (X_rot_train, y_rot_train)\n",
    "\n",
    "kwargs = {\n",
    "    'loss_fn': optax.softmax_cross_entropy,\n",
    "    'buffer_size': 10,\n",
    "    'dim_output': 10,\n",
    "    \"optimizer\": \"sgd\",\n",
    "}\n",
    "pbounds = {\n",
    "    'log_learning_rate': (-10, 0.0),\n",
    "    'log_bwc_ratio': (-40.0, -40.0),\n",
    "}\n",
    "agent_type = 'sgd'\n",
    "init_points, n_iter = 5, 5\n",
    "\n",
    "ll_callback = partial(\n",
    "    benchmark.osa_eval_callback, \n",
    "    evaluate_fn=lambda y_pred, y: -optax.softmax_cross_entropy(y_pred, y).mean(),\n",
    ")\n",
    "optimizer_nst = hpt.create_optimizer(\n",
    "    mlp_st_init_fn, pbounds, train_rot, train_rot, callback=ll_callback, \n",
    "    method=agent_type, verbose=2, n_seeds=1, callback_at_end=False, **kwargs\n",
    ")\n",
    "\n",
    "optimizer_nst.maximize(\n",
    "    init_points=init_points,\n",
    "    n_iter=n_iter,\n",
    ")\n",
    "best_hparams = hpt.get_best_params(optimizer_nst, method=agent_type)\n",
    "print(f\"Best target: {optimizer_nst.max['target']}\")"
   ]
  },
  {
   "cell_type": "code",
   "execution_count": null,
   "metadata": {},
   "outputs": [],
   "source": [
    "# best_hparams\n",
    "best_hparams = {\n",
    "    'learning_rate': 0.010554865002632141,\n",
    "    'bias_weight_cov_ratio': 4.248354255291589e-18\n",
    "}"
   ]
  },
  {
   "cell_type": "code",
   "execution_count": null,
   "metadata": {},
   "outputs": [],
   "source": [
    "estimator_rot_rsgd, init_mean_rot_rsgd, init_cov_rot_rsgd, *_, apply_fn_rot_rsgd = hpt.build_estimator(\n",
    "    mlp_st_init_fn,\n",
    "    best_hparams,\n",
    "    method=agent_type,\n",
    "    **kwargs,\n",
    ")"
   ]
  },
  {
   "attachments": {},
   "cell_type": "markdown",
   "metadata": {},
   "source": [
    "### 3.2.1 Random Target Digits"
   ]
  },
  {
   "cell_type": "code",
   "execution_count": null,
   "metadata": {},
   "outputs": [],
   "source": [
    "X_rot_test, y_rot_test = mnist_dataset['test']\n",
    "min_angles, max_angles, increment = 0.0, 180.0, 45.0\n",
    "angles_test, _, ntest_per_task_rot = generate_angle_fn(len(X_rot_test), min_angles, max_angles, increment)\n",
    "X_rot_test = rmnist_data.rotate_mnist_dataset(X_rot_test, angles_test)\n",
    "\n",
    "# Select 5 random images (different digits) from test set\n",
    "test_idx = jnp.arange(ntest_per_task_rot//4, n_tasks_rot*ntest_per_task_rot, ntest_per_task_rot)\n",
    "test_rot_images, test_rot_labels = X_rot_test[test_idx], y_rot_test[test_idx]\n",
    "\n",
    "# Introduce a fashion MNIST image as an OOD sample\n",
    "fashion_mnist_dataset = data_utils.load_mnist_dataset(fashion=True)\n",
    "X_fashion, y_fashion = fashion_mnist_dataset['test']\n",
    "\n",
    "ood_idx = jr.choice(jr.PRNGKey(0), len(X_fashion))\n",
    "ood_rot_img, ood_rot_label = X_fashion[ood_idx], y_fashion[ood_idx]\n",
    "\n",
    "all_test_rot_images = jnp.concatenate([test_rot_images, ood_rot_img[None, ...]], axis=0)\n",
    "all_test_rot_labels = jnp.concatenate([test_rot_labels, jnp.array([ood_rot_label])], axis=0)"
   ]
  },
  {
   "cell_type": "code",
   "execution_count": null,
   "metadata": {},
   "outputs": [],
   "source": [
    "# Train\n",
    "test_random_kwargs = {\n",
    "    \"test_imgs\": all_test_rot_images\n",
    "}\n",
    "\n",
    "_, outputs_rot_rsgd = estimator_rot_rsgd.scan(init_mean_rot_rsgd, init_cov_rot_rsgd, \n",
    "                                              X_rot_train, y_rot_train, \n",
    "                                              map_nst_callback, **test_random_kwargs)"
   ]
  },
  {
   "cell_type": "code",
   "execution_count": null,
   "metadata": {},
   "outputs": [],
   "source": [
    "# 6x10 grid\n",
    "frame_inc = n_train // 10\n",
    "frames = jnp.arange(50, n_train, frame_inc)\n",
    "n_test_images = n_tasks_rot + 1\n",
    "fig, axs = plt.subplots(n_test_images, len(frames), figsize=(20, 15))\n",
    "\n",
    "for i, frame in enumerate(frames):\n",
    "    for j in range(n_test_images):\n",
    "        curr_img = all_test_rot_images[j]\n",
    "        ax = axs[j][i]\n",
    "        ax.imshow(curr_img, cmap='gray', extent=[0, 10, 0, 1], aspect='auto', alpha=0.3)\n",
    "        ax.set_xticks(list(range(10)) + [10])\n",
    "        ax.set_xticklabels(list(map(str, range(10))) + ['nll'])\n",
    "        ax.set_ylim(0, 1)\n",
    "        ax.set_yticks([])\n",
    "\n",
    "        ax2 = ax.twinx()\n",
    "        ax2.set_ylim(0, 3.0)\n",
    "        ax2.set_yticks([])\n",
    "\n",
    "        logits = outputs_rot_rsgd[frame, j]\n",
    "        preds = jax.nn.softmax(logits).ravel()\n",
    "        nll = optax.softmax_cross_entropy_with_integer_labels(logits, all_test_rot_labels[j])\n",
    "        \n",
    "        ax.bar(range(10), preds, color='blue')\n",
    "        ax2.bar(10, nll, color='red')\n",
    "        \n",
    "        ax.set_title(f\"Pred.: {preds.argmax()}\")\n",
    "        \n",
    "        # Indicate current task\n",
    "        if i // 2 == j:\n",
    "            ax.set_facecolor('lightgreen')\n",
    "        elif i // 2 < j:\n",
    "            ax.set_facecolor('wheat')\n",
    "    \n",
    "    fig.text(0.5 / len(frames) + i / len(frames), 0.04, f'n_obs: {frame}', ha='center')\n",
    "\n",
    "plt.tight_layout()\n",
    "plt.subplots_adjust(top=0.95, bottom=0.07)  # Make room for the column titles\n",
    "plt.show()\n"
   ]
  },
  {
   "attachments": {},
   "cell_type": "markdown",
   "metadata": {},
   "source": [
    "### 3.2.2 Target Digit = 3"
   ]
  },
  {
   "cell_type": "code",
   "execution_count": null,
   "metadata": {},
   "outputs": [],
   "source": [
    "# Select 5 rotations of digit 3 from test set\n",
    "X_rot_test, y_rot_test = mnist_dataset['test']\n",
    "X_rot_test, y_rot_test = X_rot_test[y_rot_test == 3], y_rot_test[y_rot_test == 3]\n",
    "angles_test, _, ntest_per_task_rot = generate_angle_fn(len(X_rot_test), min_angles, max_angles, increment)\n",
    "X_rot_test = rmnist_data.rotate_mnist_dataset(X_rot_test, angles_test)\n",
    "\n",
    "test_idx = jnp.arange(ntest_per_task_rot//4, n_tasks_rot*ntest_per_task_rot, ntest_per_task_rot)\n",
    "test_rot_images, test_rot_labels = X_rot_test[test_idx], y_rot_test[test_idx]\n",
    "\n",
    "# Introduce a fashion MNIST image as an OOD sample\n",
    "fashion_mnist_dataset = data_utils.load_mnist_dataset(fashion=True)\n",
    "X_fashion, y_fashion = fashion_mnist_dataset['test']\n",
    "\n",
    "ood_idx = jr.choice(jr.PRNGKey(0), len(X_fashion))\n",
    "ood_rot_img, ood_rot_label = X_fashion[ood_idx], y_fashion[ood_idx]\n",
    "\n",
    "all_test_rot_images = jnp.concatenate([test_rot_images, ood_rot_img[None, ...]], axis=0)\n",
    "all_test_rot_labels = jnp.concatenate([test_rot_labels, jnp.array([ood_rot_label])], axis=0)"
   ]
  },
  {
   "cell_type": "code",
   "execution_count": null,
   "metadata": {},
   "outputs": [],
   "source": [
    "# Train\n",
    "test_3_kwargs = {\n",
    "    \"test_imgs\": all_test_rot_images\n",
    "}\n",
    "\n",
    "_, outputs_rot_rsgd = estimator_rot_rsgd.scan(init_mean_rot_rsgd, init_cov_rot_rsgd, \n",
    "                                              X_rot_train, y_rot_train, \n",
    "                                              map_nst_callback, **test_3_kwargs)"
   ]
  },
  {
   "cell_type": "code",
   "execution_count": null,
   "metadata": {},
   "outputs": [],
   "source": [
    "# 6x10 grid\n",
    "frame_inc = n_train // 10\n",
    "frames = jnp.arange(50, n_train, frame_inc)\n",
    "n_test_images = n_tasks_rot + 1\n",
    "fig, axs = plt.subplots(n_test_images, len(frames), figsize=(20, 15))\n",
    "\n",
    "for i, frame in enumerate(frames):\n",
    "    for j in range(n_test_images):\n",
    "        curr_img = all_test_rot_images[j]\n",
    "        ax = axs[j][i]\n",
    "        ax.imshow(curr_img, cmap='gray', extent=[0, 10, 0, 1], aspect='auto', alpha=0.3)\n",
    "        ax.set_xticks(list(range(10)) + [10])\n",
    "        ax.set_xticklabels(list(map(str, range(10))) + ['nll'])\n",
    "        ax.set_ylim(0, 1)\n",
    "        ax.set_yticks([])\n",
    "\n",
    "        ax2 = ax.twinx()\n",
    "        ax2.set_ylim(0, 3.0)\n",
    "        ax2.set_yticks([])\n",
    "\n",
    "        logits = outputs_rot_rsgd[frame, j]\n",
    "        preds = jax.nn.softmax(logits).ravel()\n",
    "        nll = optax.softmax_cross_entropy_with_integer_labels(logits, all_test_rot_labels[j])\n",
    "        \n",
    "        ax.bar(range(10), preds, color='blue')\n",
    "        ax2.bar(10, nll, color='red')\n",
    "        \n",
    "        ax.set_title(f\"Pred.: {preds.argmax()}\")\n",
    "        \n",
    "        # Indicate current task\n",
    "        if i // 2 == j:\n",
    "            ax.set_facecolor('lightgreen')\n",
    "        elif i // 2 < j:\n",
    "            ax.set_facecolor('wheat')\n",
    "    \n",
    "    fig.text(0.5 / len(frames) + i / len(frames), 0.04, f'n_obs: {frame}', ha='center')\n",
    "\n",
    "plt.tight_layout()\n",
    "plt.subplots_adjust(top=0.95, bottom=0.07)  # Make room for the column titles\n",
    "plt.show()\n"
   ]
  },
  {
   "attachments": {},
   "cell_type": "markdown",
   "metadata": {},
   "source": [
    "### 3.2.3 Target Digit = 8"
   ]
  },
  {
   "cell_type": "code",
   "execution_count": null,
   "metadata": {},
   "outputs": [],
   "source": [
    "# Select 9 rotations of digit 3 from test set\n",
    "X_rot_test, y_rot_test = mnist_dataset['test']\n",
    "X_rot_test, y_rot_test = X_rot_test[y_rot_test == 8], y_rot_test[y_rot_test == 8]\n",
    "angles_test, _, ntest_per_task_rot = generate_angle_fn(len(X_rot_test), min_angles, max_angles, increment)\n",
    "X_rot_test = rmnist_data.rotate_mnist_dataset(X_rot_test, angles_test)\n",
    "\n",
    "test_idx = jnp.arange(ntest_per_task_rot//4, n_tasks_rot*ntest_per_task_rot, ntest_per_task_rot)\n",
    "test_rot_images, test_rot_labels = X_rot_test[test_idx], y_rot_test[test_idx]\n",
    "\n",
    "# Introduce a fashion MNIST image as an OOD sample\n",
    "fashion_mnist_dataset = data_utils.load_mnist_dataset(fashion=True)\n",
    "X_fashion, y_fashion = fashion_mnist_dataset['test']\n",
    "\n",
    "ood_idx = jr.choice(jr.PRNGKey(0), len(X_fashion))\n",
    "ood_rot_img, ood_rot_label = X_fashion[ood_idx], y_fashion[ood_idx]\n",
    "\n",
    "all_test_rot_images = jnp.concatenate([test_rot_images, ood_rot_img[None, ...]], axis=0)\n",
    "all_test_rot_labels = jnp.concatenate([test_rot_labels, jnp.array([ood_rot_label])], axis=0)"
   ]
  },
  {
   "cell_type": "code",
   "execution_count": null,
   "metadata": {},
   "outputs": [],
   "source": [
    "# Train\n",
    "test_8_kwargs = {\n",
    "    \"test_imgs\": all_test_rot_images\n",
    "}\n",
    "\n",
    "_, outputs_rot_rsgd = estimator_rot_rsgd.scan(init_mean_rot_rsgd, init_cov_rot_rsgd, \n",
    "                                              X_rot_train, y_rot_train, \n",
    "                                              map_nst_callback, **test_8_kwargs)"
   ]
  },
  {
   "cell_type": "code",
   "execution_count": null,
   "metadata": {},
   "outputs": [],
   "source": [
    "# 6x10 grid\n",
    "frame_inc = n_train // 10\n",
    "frames = jnp.arange(50, n_train, frame_inc)\n",
    "n_test_images = n_tasks_rot + 1\n",
    "fig, axs = plt.subplots(n_test_images, len(frames), figsize=(20, 15))\n",
    "\n",
    "for i, frame in enumerate(frames):\n",
    "    for j in range(n_test_images):\n",
    "        curr_img = all_test_rot_images[j]\n",
    "        ax = axs[j][i]\n",
    "        ax.imshow(curr_img, cmap='gray', extent=[0, 10, 0, 1], aspect='auto', alpha=0.3)\n",
    "        ax.set_xticks(list(range(10)) + [10])\n",
    "        ax.set_xticklabels(list(map(str, range(10))) + ['nll'])\n",
    "        ax.set_ylim(0, 1)\n",
    "        ax.set_yticks([])\n",
    "\n",
    "        ax2 = ax.twinx()\n",
    "        ax2.set_ylim(0, 3.0)\n",
    "        ax2.set_yticks([])\n",
    "\n",
    "        logits = outputs_rot_rsgd[frame, j]\n",
    "        preds = jax.nn.softmax(logits).ravel()\n",
    "        nll = optax.softmax_cross_entropy_with_integer_labels(logits, all_test_rot_labels[j])\n",
    "        \n",
    "        ax.bar(range(10), preds, color='blue')\n",
    "        ax2.bar(10, nll, color='red')\n",
    "        \n",
    "        ax.set_title(f\"Pred.: {preds.argmax()}\")\n",
    "        \n",
    "        # Indicate current task\n",
    "        if i // 2 == j:\n",
    "            ax.set_facecolor('lightgreen')\n",
    "        elif i // 2 < j:\n",
    "            ax.set_facecolor('wheat')\n",
    "    \n",
    "    fig.text(0.5 / len(frames) + i / len(frames), 0.04, f'n_obs: {frame}', ha='center')\n",
    "\n",
    "plt.tight_layout()\n",
    "plt.subplots_adjust(top=0.95, bottom=0.07)  # Make room for the column titles\n",
    "plt.show()\n"
   ]
  },
  {
   "cell_type": "code",
   "execution_count": null,
   "metadata": {},
   "outputs": [],
   "source": []
  }
 ],
 "metadata": {
  "kernelspec": {
   "display_name": ".venv",
   "language": "python",
   "name": "python3"
  },
  "language_info": {
   "codemirror_mode": {
    "name": "ipython",
    "version": 3
   },
   "file_extension": ".py",
   "mimetype": "text/x-python",
   "name": "python",
   "nbconvert_exporter": "python",
   "pygments_lexer": "ipython3",
   "version": "3.10.0"
  },
  "orig_nbformat": 4
 },
 "nbformat": 4,
 "nbformat_minor": 2
}
