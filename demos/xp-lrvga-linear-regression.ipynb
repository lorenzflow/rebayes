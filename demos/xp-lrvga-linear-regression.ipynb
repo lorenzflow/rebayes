{
 "cells": [
  {
   "cell_type": "markdown",
   "id": "34062ead-570f-4b4e-a8b1-a70d8ea58222",
   "metadata": {},
   "source": [
    "# L-RVGA comparisson\n",
    "\n",
    "In this notebook, we make use of the [XP_LRVGA_LinearRegression.py](https://github.com/marc-h-lambert/L-RVGA/blob/main/XP_LRVGA_LinearRegression.py) script to benchmark L-RVGA and LoFi."
   ]
  },
  {
   "cell_type": "code",
   "execution_count": 155,
   "id": "b42e0081-1df3-4694-a2af-5a2e643ffc2a",
   "metadata": {},
   "outputs": [],
   "source": [
    "import jax\n",
    "import pickle\n",
    "import jax.numpy as jnp\n",
    "import matplotlib.pyplot as plt\n",
    "from rebayes.base import RebayesParams\n",
    "from rebayes.extended_kalman_filter import ekf\n",
    "from rebayes.low_rank_filter import lofi"
   ]
  },
  {
   "cell_type": "code",
   "execution_count": 2,
   "id": "02d1c6dd-65cd-4f72-a6d7-2e073698848b",
   "metadata": {},
   "outputs": [],
   "source": [
    "%config InlineBackend.figure_format = \"retina\""
   ]
  },
  {
   "cell_type": "code",
   "execution_count": 3,
   "id": "b78c9178-c787-4b6f-89d7-bd35c9d5d6e0",
   "metadata": {},
   "outputs": [],
   "source": [
    "from tensorflow_probability.substrates import jax as tfp\n",
    "tfd = tfp.distributions"
   ]
  },
  {
   "cell_type": "markdown",
   "id": "3e6935c0-3443-4d3c-bb56-94b33e861701",
   "metadata": {},
   "source": [
    "## Load data"
   ]
  },
  {
   "cell_type": "code",
   "execution_count": 125,
   "id": "e8a67b13-7562-44fd-ab8c-10dcb15828b4",
   "metadata": {},
   "outputs": [
    {
     "data": {
      "text/plain": [
       "{'X': (10000, 100),\n",
       " 'cov_inputs': (100, 100),\n",
       " 'ekf-divergence': {'full-kf': (9999, 1),\n",
       "  'p-1': (9999, 1),\n",
       "  'p-10': (9999, 1),\n",
       "  'p-20': (9999, 1),\n",
       "  'p-50': (9999, 1)},\n",
       " 'kf-posterior-cov': (100, 100),\n",
       " 'kf-posterior-mean': (100, 1),\n",
       " 'params_true': (100,),\n",
       " 'y': (10000,)}"
      ]
     },
     "execution_count": 125,
     "metadata": {},
     "output_type": "execute_result"
    }
   ],
   "source": [
    "file = \"./LRVGA_data.pkl\"\n",
    "with open(file, \"rb\") as f:\n",
    "    data = pickle.load(f)\n",
    "\n",
    "# To TPU\n",
    "data = jax.tree_map(jnp.array, data)\n",
    "jax.tree_map(jnp.shape, data)"
   ]
  },
  {
   "cell_type": "markdown",
   "id": "76b58e07-3b7f-4c6b-8330-a323d2cec9c2",
   "metadata": {},
   "source": [
    "### Compute posterior parameters"
   ]
  },
  {
   "cell_type": "code",
   "execution_count": 126,
   "id": "acd22a13-d82a-4a7e-8404-17dcb052a582",
   "metadata": {},
   "outputs": [
    {
     "data": {
      "text/plain": [
       "Array([-0.07593763,  0.07551365, -0.21698704, -0.0991157 , -0.01259064,\n",
       "       -0.11307983, -0.03931633, -0.11768132, -0.10648939,  0.15115066,\n",
       "       -0.07699431,  0.05590115, -0.14091402,  0.09793267, -0.09178373,\n",
       "        0.03494594,  0.03910957, -0.05001892, -0.12288477, -0.0622802 ,\n",
       "        0.08046452,  0.24642323, -0.03683778,  0.07052112,  0.17914024,\n",
       "       -0.08074487, -0.14449932, -0.18425196, -0.32614398,  0.17468472,\n",
       "       -0.289999  , -0.08916317,  0.1920068 ,  0.15662487,  0.09499688,\n",
       "       -0.12293211, -0.07790798,  0.1616318 , -0.11961924,  0.01648374,\n",
       "        0.19186142,  0.3323409 , -0.07580585,  0.08877128, -0.14139813,\n",
       "       -0.06472306,  0.10954423, -0.07487828, -0.01036672, -0.20541541,\n",
       "       -0.15287209,  0.02947515, -0.12976387, -0.12037625,  0.05510682,\n",
       "       -0.18595915, -0.11347461, -0.14687619,  0.18869624,  0.12619051,\n",
       "       -0.207182  ,  0.06547429,  0.0519746 ,  0.04276841, -0.08339051,\n",
       "       -0.04257631, -0.00528572, -0.0593337 ,  0.242778  ,  0.08879331,\n",
       "        0.3423054 , -0.2564929 , -0.08217485, -0.01612549,  0.04391474,\n",
       "       -0.10562366,  0.03280053, -0.19130309,  0.18239301,  0.06924386,\n",
       "       -0.00493595,  0.16646439, -0.00329296, -0.07617213, -0.15508941,\n",
       "        0.00308553,  0.1689498 ,  0.17670125,  0.07444827,  0.0295318 ,\n",
       "       -0.00904584,  0.13751289, -0.06492171, -0.00060408, -0.13201725,\n",
       "       -0.13217095,  0.21674249, -0.01159936, -0.1087187 ,  0.18681209],      dtype=float32)"
      ]
     },
     "execution_count": 126,
     "metadata": {},
     "output_type": "execute_result"
    }
   ],
   "source": [
    "# Explicit solution\n",
    "pcov = jnp.linalg.inv(data[\"X\"].T @ data[\"X\"] + jnp.eye(num_features))\n",
    "pmean = pcov @ data[\"X\"].T @ data[\"y\"]\n",
    "pmean"
   ]
  },
  {
   "cell_type": "code",
   "execution_count": 127,
   "id": "4fad5299-a940-4c13-afe6-075366a410df",
   "metadata": {},
   "outputs": [],
   "source": [
    "# From KF result\n",
    "pcov = data[\"kf-posterior-cov\"]\n",
    "pmean = data[\"kf-posterior-mean\"].ravel()"
   ]
  },
  {
   "cell_type": "markdown",
   "id": "35251ecd-ab37-4425-b447-e78e82cbc193",
   "metadata": {},
   "source": [
    "## Initialise Rebayes"
   ]
  },
  {
   "cell_type": "code",
   "execution_count": 187,
   "id": "c6f5e04c-47aa-4b45-bcca-03a13c1c4ea5",
   "metadata": {},
   "outputs": [],
   "source": [
    "def callback(bel, pred_obs, *args, **kwargs):\n",
    "    dist_true = tfd.MultivariateNormalFullCovariance(pmean, pcov)\n",
    "    dist_ekf = tfd.MultivariateNormalFullCovariance(bel.mean, bel.cov)\n",
    "    \n",
    "    kld = tfd.kl_divergence(dist_ekf, dist_true)\n",
    "    return {\n",
    "        \"kl\": kld\n",
    "    }"
   ]
  },
  {
   "cell_type": "code",
   "execution_count": 136,
   "id": "283581cc-f476-40dc-ae8a-419c12aec1e9",
   "metadata": {},
   "outputs": [],
   "source": [
    "num_samples, num_features = data[\"X\"].shape"
   ]
  },
  {
   "cell_type": "code",
   "execution_count": 137,
   "id": "ea49c9a7-622b-4ef6-ac00-e43d1006fb31",
   "metadata": {},
   "outputs": [],
   "source": [
    "initial_mean = jnp.zeros(num_features)\n",
    "dynamics_covariance = 1.0\n",
    "initial_covariance = 1.0 \n",
    "dynamics_weights = 1.0\n",
    "\n",
    "def emission_cov_fn(w, x): return 1.0\n",
    "def emission_mean_fn(w, x): return jnp.einsum(\"m,...m->\", w, x) + 0"
   ]
  },
  {
   "cell_type": "code",
   "execution_count": 158,
   "id": "da19d0d3-ec9e-4643-a7ee-fa0eb8b82073",
   "metadata": {},
   "outputs": [],
   "source": [
    "params = RebayesParams(\n",
    "    initial_mean,\n",
    "    initial_covariance,\n",
    "    dynamics_weights,\n",
    "    dynamics_covariance,\n",
    "    emission_mean_fn,\n",
    "    emission_cov_fn\n",
    ")\n",
    "\n",
    "\n",
    "params_lofi = lofi.LoFiParams(memory_size=50, adaptive_variance=False)"
   ]
  },
  {
   "cell_type": "code",
   "execution_count": 160,
   "id": "2610143a-7458-4f51-9eba-f92b4d85ba58",
   "metadata": {},
   "outputs": [],
   "source": [
    "estimator = ekf.RebayesEKF(params, method=\"fcekf\", adaptive_variance=False)\n",
    "estimator_lofi = lofi.RebayesLoFi(params, params_lofi, \"full_svd_lofi\")"
   ]
  },
  {
   "cell_type": "code",
   "execution_count": 188,
   "id": "f139f5cd-5048-4535-9eab-cadda2c92aca",
   "metadata": {},
   "outputs": [
    {
     "data": {
      "application/vnd.jupyter.widget-view+json": {
       "model_id": "c203f26d39dd4b5c8c5749742afd7169",
       "version_major": 2,
       "version_minor": 0
      },
      "text/plain": [
       "  0%|          | 0/10000 [00:00<?, ?it/s]"
      ]
     },
     "metadata": {},
     "output_type": "display_data"
    }
   ],
   "source": [
    "output_lofi, hist_lofi = estimator_lofi.scan(data[\"X\"], data[\"y\"], callback=None)"
   ]
  },
  {
   "cell_type": "code",
   "execution_count": 233,
   "id": "58f0c304-4a20-4a0d-a372-11fe287f7c02",
   "metadata": {},
   "outputs": [],
   "source": [
    "D = jnp.diag(output_lofi.sigma ** 2 / (estimator_lofi.eta * (estimator_lofi.eta + output_lofi.sigma ** 2)))\n",
    "\n",
    "lofi_pcov = jnp.eye(num_features) / estimator_lofi.eta - output_lofi.basis @ D @ output_lofi.basis.T\n",
    "lofi_pmean = output_lofi.mean"
   ]
  },
  {
   "cell_type": "code",
   "execution_count": 234,
   "id": "dec0c71f-a3ed-4f79-b8df-36b6bf92f384",
   "metadata": {},
   "outputs": [
    {
     "data": {
      "text/plain": [
       "Array([0.42179114, 0.50370395, 0.36403894, 0.43274653, 0.40928072,\n",
       "       0.64292586, 0.41380495, 0.5079031 , 0.48109376, 0.47703862,\n",
       "       0.52248204, 0.4713604 , 0.49200797, 0.40672684, 0.60088   ,\n",
       "       0.54502904, 0.41136765, 0.5066961 , 0.5276694 , 0.50138664,\n",
       "       0.56437755, 0.46450847, 0.45608884, 0.53089166, 0.5106515 ,\n",
       "       0.5634448 , 0.59026444, 0.5514882 , 0.52888846, 0.59138334,\n",
       "       0.56528145, 0.5101754 , 0.5427402 , 0.57823074, 0.4901632 ,\n",
       "       0.51274574, 0.44982266, 0.5601808 , 0.43005186, 0.5035062 ,\n",
       "       0.56151605, 0.4943502 , 0.55915684, 0.5343729 , 0.4560076 ,\n",
       "       0.59650916, 0.44409168, 0.4294266 , 0.5020838 , 0.4840225 ,\n",
       "       0.50498915, 0.5073381 , 0.48181963, 0.39510953, 0.45722628,\n",
       "       0.52185404, 0.51318896, 0.5113543 , 0.6048349 , 0.44246507,\n",
       "       0.5395985 , 0.6501224 , 0.44106668, 0.40231842, 0.5500705 ,\n",
       "       0.5527297 , 0.44560522, 0.5259033 , 0.45742756, 0.39756083,\n",
       "       0.3945914 , 0.60915756, 0.66419876, 0.5056218 , 0.57497597,\n",
       "       0.50515443, 0.49788934, 0.5724204 , 0.52059686, 0.44856548,\n",
       "       0.4548868 , 0.48601365, 0.56771314, 0.5800019 , 0.4538743 ,\n",
       "       0.56154335, 0.34256983, 0.61745536, 0.5319321 , 0.44346738,\n",
       "       0.49620342, 0.5925023 , 0.42047733, 0.4144035 , 0.45198745,\n",
       "       0.44489312, 0.48752844, 0.61170244, 0.47481787, 0.38951647],      dtype=float32)"
      ]
     },
     "execution_count": 234,
     "metadata": {},
     "output_type": "execute_result"
    }
   ],
   "source": [
    "jnp.diag(lofi_pcov)"
   ]
  },
  {
   "cell_type": "code",
   "execution_count": 229,
   "id": "eb90d8b2-6993-4340-953c-5fdc2af72f40",
   "metadata": {},
   "outputs": [
    {
     "data": {
      "text/plain": [
       "Array([0.0069285 , 0.00805555, 0.00690459, 0.00753858, 0.00733606,\n",
       "       0.0091333 , 0.00754993, 0.00857556, 0.00828748, 0.00853649,\n",
       "       0.00815378, 0.00874383, 0.00818755, 0.00753362, 0.00934926,\n",
       "       0.00907352, 0.00734156, 0.0081605 , 0.00888539, 0.0080612 ,\n",
       "       0.00848087, 0.00771933, 0.00874522, 0.00864562, 0.00839848,\n",
       "       0.00886192, 0.00844505, 0.00839738, 0.00887291, 0.00928182,\n",
       "       0.00832496, 0.00872276, 0.00846957, 0.00909196, 0.00852753,\n",
       "       0.00790848, 0.00785959, 0.00836585, 0.00771482, 0.00867394,\n",
       "       0.00923347, 0.00788703, 0.00870411, 0.00793357, 0.00735514,\n",
       "       0.00854967, 0.00850172, 0.00740341, 0.00823199, 0.0074548 ,\n",
       "       0.00776576, 0.00796984, 0.00768711, 0.00810031, 0.00757045,\n",
       "       0.00789739, 0.00874749, 0.00858621, 0.00913604, 0.00775291,\n",
       "       0.00848813, 0.00997776, 0.00720627, 0.00826369, 0.00867209,\n",
       "       0.00861795, 0.00824092, 0.00914117, 0.00813179, 0.0075528 ,\n",
       "       0.00712942, 0.00907024, 0.00907374, 0.00894418, 0.00828179,\n",
       "       0.0076738 , 0.00850502, 0.00912643, 0.00844226, 0.00850113,\n",
       "       0.00765532, 0.00749628, 0.00905485, 0.00865088, 0.00774796,\n",
       "       0.00899974, 0.00740458, 0.00912599, 0.00835511, 0.00735451,\n",
       "       0.0082175 , 0.00905611, 0.00780058, 0.00706517, 0.00855703,\n",
       "       0.00743738, 0.00764977, 0.00915483, 0.00844936, 0.00736032],      dtype=float32)"
      ]
     },
     "execution_count": 229,
     "metadata": {},
     "output_type": "execute_result"
    }
   ],
   "source": [
    "jnp.diag(pcov)"
   ]
  },
  {
   "cell_type": "code",
   "execution_count": 171,
   "id": "5ae70ec6-e3f6-4a17-9d86-316ee0877506",
   "metadata": {},
   "outputs": [
    {
     "data": {
      "text/plain": [
       "(50,)"
      ]
     },
     "execution_count": 171,
     "metadata": {},
     "output_type": "execute_result"
    }
   ],
   "source": [
    "output_lofi.sigma.shape"
   ]
  },
  {
   "cell_type": "code",
   "execution_count": 166,
   "id": "a2600f8c-078f-4f25-93e1-a9dd6e2a945a",
   "metadata": {},
   "outputs": [
    {
     "data": {
      "text/plain": [
       "(100, 50)"
      ]
     },
     "execution_count": 166,
     "metadata": {},
     "output_type": "execute_result"
    }
   ],
   "source": [
    "output_lofi.basis @ output_lofi.basis + "
   ]
  },
  {
   "cell_type": "code",
   "execution_count": null,
   "id": "53775f37-6719-414a-b4d4-54b9ccf342af",
   "metadata": {},
   "outputs": [],
   "source": [
    "output, hist = estimator_lofi.scan(data[\"X\"], data[\"y\"], callback=callback)"
   ]
  },
  {
   "cell_type": "code",
   "execution_count": 156,
   "id": "6930e8af-7ac0-40bf-87aa-3f488d8c3d5a",
   "metadata": {},
   "outputs": [
    {
     "data": {
      "text/plain": [
       "Text(0, 0.5, 'Number observations')"
      ]
     },
     "execution_count": 156,
     "metadata": {},
     "output_type": "execute_result"
    },
    {
     "data": {
      "image/png": "[encoded data removed]",
      "text/plain": [
       "<Figure size 640x480 with 1 Axes>"
      ]
     },
     "metadata": {
      "image/png": {
       "height": 413,
       "width": 577
      }
     },
     "output_type": "display_data"
    }
   ],
   "source": [
    "plt.plot(hist[\"kl\"], label=\"KF-rebayes\")\n",
    "plt.plot(data[\"ekf-divergence\"][\"full-kf\"].ravel(), label=\"kf-lambert+\")\n",
    "plt.plot(data[\"ekf-divergence\"][\"p-50\"].ravel(), label=\"L-RVGA (p=50)\")\n",
    "plt.legend()\n",
    "plt.yscale(\"log\")\n",
    "plt.ylabel(\"KL(q||p)\")\n",
    "plt.grid(alpha=0.3)\n",
    "plt.ylabel(\"Number observations\")"
   ]
  },
  {
   "cell_type": "code",
   "execution_count": 149,
   "id": "75ff1132-eb1c-484e-aae5-99b6742839d0",
   "metadata": {},
   "outputs": [
    {
     "data": {
      "text/plain": [
       "Array(7.632261e-06, dtype=float32)"
      ]
     },
     "execution_count": 149,
     "metadata": {},
     "output_type": "execute_result"
    }
   ],
   "source": [
    "dist_true = tfd.MultivariateNormalFullCovariance(pmean, pcov)\n",
    "dist_ekf = tfd.MultivariateNormalFullCovariance(output.mean, output.cov)\n",
    "\n",
    "tfd.kl_divergence(dist_ekf, dist_true)"
   ]
  },
  {
   "cell_type": "code",
   "execution_count": 224,
   "id": "d6fabdea-de71-4719-930f-c09fed757ac4",
   "metadata": {},
   "outputs": [
    {
     "data": {
      "text/plain": [
       "Array(2808.9365, dtype=float32)"
      ]
     },
     "execution_count": 224,
     "metadata": {},
     "output_type": "execute_result"
    }
   ],
   "source": [
    "dist_lofi = tfd.MultivariateNormalFullCovariance(lofi_pmean, lofi_pcov)\n",
    "tfd.kl_divergence(dist_lofi, dist_true)"
   ]
  }
 ],
 "metadata": {
  "kernelspec": {
   "display_name": "Python 3 (ipykernel)",
   "language": "python",
   "name": "python3"
  },
  "language_info": {
   "codemirror_mode": {
    "name": "ipython",
    "version": 3
   },
   "file_extension": ".py",
   "mimetype": "text/x-python",
   "name": "python",
   "nbconvert_exporter": "python",
   "pygments_lexer": "ipython3",
   "version": "3.10.8"
  }
 },
 "nbformat": 4,
 "nbformat_minor": 5
}
