{
 "cells": [
  {
   "cell_type": "markdown",
   "id": "f2a8d5f7-a654-4430-883f-1dddc4801d0b",
   "metadata": {},
   "source": [
    "# LoFi v.s. subspaceEKF"
   ]
  },
  {
   "cell_type": "code",
   "execution_count": 1,
   "id": "164b7c86-177b-41e8-8b59-81b36800c9d3",
   "metadata": {
    "tags": []
   },
   "outputs": [
    {
     "name": "stderr",
     "output_type": "stream",
     "text": [
      "2023-08-25 18:14:10.696943: W tensorflow/compiler/tf2tensorrt/utils/py_utils.cc:38] TF-TRT Warning: Could not find TensorRT\n",
      "/home/gerardoduran/mambaforge/envs/research/lib/python3.10/site-packages/tqdm/auto.py:21: TqdmWarning: IProgress not found. Please update jupyter and ipywidgets. See https://ipywidgets.readthedocs.io/en/stable/user_install.html\n",
      "  from .autonotebook import tqdm as notebook_tqdm\n"
     ]
    }
   ],
   "source": [
    "import jax\n",
    "import einops\n",
    "import numpy as np\n",
    "import jax.numpy as jnp\n",
    "import flax.linen as nn\n",
    "import matplotlib.pyplot as plt\n",
    "from typing import Callable\n",
    "from jax.flatten_util import ravel_pytree\n",
    "from rebayes.extended_kalman_filter import ekf\n",
    "from rebayes.low_rank_filter.subspace_filter import subcify\n",
    "from rebayes.low_rank_filter import lofi\n",
    "from rebayes.sgd_filter import replay_sgd\n",
    "from rebayes.datasets.datasets import load_mnist"
   ]
  },
  {
   "cell_type": "code",
   "execution_count": 2,
   "id": "49397944-1e7c-4864-94dc-504cb72cd06a",
   "metadata": {
    "tags": []
   },
   "outputs": [],
   "source": [
    "%load_ext autoreload\n",
    "%autoreload 2\n",
    "%config InlineBackend.figure_format = \"retina\""
   ]
  },
  {
   "cell_type": "code",
   "execution_count": 3,
   "id": "896cc42f-c70b-4c88-a243-5865556c95ca",
   "metadata": {
    "tags": []
   },
   "outputs": [],
   "source": [
    "import sys\n",
    "sys.path.append(\"../collas/datasets/\")"
   ]
  },
  {
   "cell_type": "code",
   "execution_count": 255,
   "id": "659f0047-1a70-406f-a603-8d9f3deaf9f3",
   "metadata": {
    "tags": []
   },
   "outputs": [],
   "source": [
    "import dataloaders\n",
    "\n",
    "num_obs = 60_000\n",
    "loader = dataloaders.generate_rotated_experiment(\n",
    "    num_obs, dataloaders.generate_random_walk_angles\n",
    ")\n",
    "\n",
    "data = loader[\"load_fn\"](include_labels=True)"
   ]
  },
  {
   "cell_type": "code",
   "execution_count": 256,
   "id": "5b531ef5-7cba-49df-b1bd-0bbc648df527",
   "metadata": {
    "tags": []
   },
   "outputs": [],
   "source": [
    "X_train, angles_train, y_train = data[\"train\"]\n",
    "X_test, _, y_test = data[\"test\"]"
   ]
  },
  {
   "cell_type": "code",
   "execution_count": 257,
   "id": "79df8b0e-e792-4d62-9792-81077ba74c4a",
   "metadata": {
    "tags": []
   },
   "outputs": [],
   "source": [
    "X_train = einops.rearrange(X_train, \"obs width height ...-> obs (width height ...)\")\n",
    "X_test = einops.rearrange(X_test, \"obs width height ... -> obs (width height ...)\")\n",
    "\n",
    "y_train_ohe = jax.nn.one_hot(y_train, 10)\n",
    "y_test_ohe = jax.nn.one_hot(y_test, 10)"
   ]
  },
  {
   "cell_type": "code",
   "execution_count": 258,
   "id": "797c1efa-07da-4ab2-a55c-32d82e0c86a3",
   "metadata": {
    "tags": []
   },
   "outputs": [],
   "source": [
    "class NNet(nn.Module):\n",
    "    activation: Callable = nn.elu\n",
    "    \n",
    "    @nn.compact\n",
    "    def __call__(self, x):\n",
    "        x = nn.Dense(500)(x)\n",
    "        x = self.activation(x)\n",
    "        x = nn.Dense(300)(x)\n",
    "        x = self.activation(x)\n",
    "        x = nn.Dense(300)(x)\n",
    "        x = self.activation(x)\n",
    "        x = nn.Dense(100)(x)\n",
    "        x = self.activation(x)\n",
    "        x = nn.Dense(10)(x)\n",
    "        x = nn.softmax(x)\n",
    "        return x"
   ]
  },
  {
   "cell_type": "code",
   "execution_count": 259,
   "id": "230e8098-11ae-487a-bbc7-9b6b1f1ac82a",
   "metadata": {},
   "outputs": [],
   "source": [
    "key = jax.random.PRNGKey(314)\n",
    "model = NNet()\n",
    "params_init = model.init(key, X_train[:10])\n",
    "params_init_flat, _ = ravel_pytree(params_init)"
   ]
  },
  {
   "cell_type": "code",
   "execution_count": 260,
   "id": "7add2b43-2c1b-49b4-bfd3-6d3a93587bab",
   "metadata": {
    "tags": []
   },
   "outputs": [],
   "source": [
    "def callback(bel, pred_obs, t, Xt, Yt, bel_pred, **kwargs):    \n",
    "    # eval on all tasks test set\n",
    "    yhat = agent.emission_mean_function(bel.mean, X_test).argmax(axis=1)\n",
    "    acc = jnp.mean(yhat == y_test)\n",
    "    \n",
    "    yhat_single = pred_obs.argmax()\n",
    "    yt = Yt.argmax()\n",
    "    qpred = yhat_single == yt\n",
    "    \n",
    "    \n",
    "    out = {\n",
    "        \"acc\": acc,\n",
    "        \"inst-regret\": 1 - qpred\n",
    "    }\n",
    "    \n",
    "    return out"
   ]
  },
  {
   "cell_type": "code",
   "execution_count": 261,
   "id": "1feb37c2-9356-42fe-a80b-77c07070015c",
   "metadata": {
    "tags": []
   },
   "outputs": [],
   "source": [
    "dynamics_covariance = 1e-7"
   ]
  },
  {
   "cell_type": "markdown",
   "id": "7bb12233-6f57-437d-b3d0-458a1eb7de69",
   "metadata": {},
   "source": [
    "## LoFi agent $Q_t=0$"
   ]
  },
  {
   "cell_type": "code",
   "execution_count": 262,
   "id": "bd6ce2bc-f466-4986-aaf8-c6ed1331a2ef",
   "metadata": {
    "tags": []
   },
   "outputs": [],
   "source": [
    "agent, recfn = lofi.init_classification_agent(\n",
    "    model,\n",
    "    X_train[:10],\n",
    "    dynamics_weights=1.0,\n",
    "    dynamics_covariance=0.0,\n",
    "    memory_size=20,\n",
    ")"
   ]
  },
  {
   "cell_type": "code",
   "execution_count": null,
   "id": "ef00bdd7-375b-48a2-8740-9841480abe37",
   "metadata": {
    "tags": []
   },
   "outputs": [],
   "source": [
    "%%time\n",
    "bel, outputs = agent.scan(\n",
    "    initial_mean=params_init_flat,\n",
    "    initial_covariance=1e-4,#1e-2,\n",
    "    X=X_train[:num_obs],\n",
    "    Y=y_train_ohe[:num_obs],\n",
    "    progress_bar=False,\n",
    "    callback=callback,\n",
    ")\n",
    "\n",
    "bel = jax.block_until_ready(bel)\n",
    "outputs = jax.tree_map(np.array, outputs)\n",
    "acc_lofi_0 = outputs[\"acc\"]\n",
    "regret_lofi_0 = outputs[\"inst-regret\"].cumsum()"
   ]
  },
  {
   "cell_type": "code",
   "execution_count": null,
   "id": "a40791d5-2acc-482d-acf2-e81c30ed27ff",
   "metadata": {},
   "outputs": [],
   "source": [
    "plt.plot(regret_lofi_0)"
   ]
  },
  {
   "cell_type": "code",
   "execution_count": null,
   "id": "386323b3-6b13-4aac-9b46-aa18a506030b",
   "metadata": {
    "tags": []
   },
   "outputs": [],
   "source": [
    "plt.plot(acc_lofi_0)\n",
    "plt.grid(alpha=0.3)"
   ]
  },
  {
   "cell_type": "markdown",
   "id": "749107bd-5ac9-4e3a-8391-248aac877bf7",
   "metadata": {},
   "source": [
    "## LoFi agent $Q_t>0$"
   ]
  },
  {
   "cell_type": "code",
   "execution_count": null,
   "id": "27099e7e-5de5-47bf-ab9b-c82b2a9f35b5",
   "metadata": {
    "tags": []
   },
   "outputs": [],
   "source": [
    "agent, recfn = lofi.init_classification_agent(\n",
    "    model,\n",
    "    X_train[:10],\n",
    "    dynamics_weights=1.0,\n",
    "    dynamics_covariance=dynamics_covariance,\n",
    "    memory_size=20,\n",
    ")"
   ]
  },
  {
   "cell_type": "code",
   "execution_count": null,
   "id": "a4cb7036-2d94-4b8d-832e-69c6f34800e2",
   "metadata": {
    "tags": []
   },
   "outputs": [],
   "source": [
    "%%time\n",
    "bel, outputs = agent.scan(\n",
    "    initial_mean=params_init_flat,\n",
    "    initial_covariance=1e-4,#1e-2,\n",
    "    X=X_train[:num_obs],\n",
    "    Y=y_train_ohe[:num_obs],\n",
    "    progress_bar=False,\n",
    "    callback=callback,\n",
    ")\n",
    "\n",
    "bel = jax.block_until_ready(bel)\n",
    "outputs = jax.tree_map(np.array, outputs)\n",
    "acc_lofi_eps = outputs[\"acc\"]\n",
    "regret_lofi_eps = outputs[\"inst-regret\"].cumsum()"
   ]
  },
  {
   "cell_type": "code",
   "execution_count": null,
   "id": "d50af3b8-6cb8-4e2d-bb5f-b546279b07f7",
   "metadata": {
    "tags": []
   },
   "outputs": [],
   "source": [
    "plt.plot(acc_lofi_eps)\n",
    "plt.grid(alpha=0.3)"
   ]
  },
  {
   "cell_type": "markdown",
   "id": "67548f1d-a656-4685-a97c-09cc4160be78",
   "metadata": {},
   "source": [
    "## Subspace agent $Q_t=0$"
   ]
  },
  {
   "cell_type": "code",
   "execution_count": null,
   "id": "a62b80c8-40f0-4427-9421-251cecb1faf4",
   "metadata": {
    "tags": []
   },
   "outputs": [],
   "source": [
    "SubNNet = subcify(NNet)\n",
    "dim_in = 28 ** 2\n",
    "dim_subspace = 20\n",
    "\n",
    "model_sub = SubNNet(dim_in, dim_subspace=dim_subspace)\n",
    "\n",
    "params_init = model_sub.init(key, X_train[:10])\n",
    "params_init_flat, _ = ravel_pytree(params_init)"
   ]
  },
  {
   "cell_type": "code",
   "execution_count": null,
   "id": "23faf4e2-5027-4c14-8bdb-872de9a154c1",
   "metadata": {
    "tags": []
   },
   "outputs": [],
   "source": [
    "P = params_init[\"fixed\"][\"P\"]\n",
    "P = P / jnp.linalg.norm(P, axis=0) * 10\n",
    "\n",
    "params_init[\"fixed\"][\"P\"] = P"
   ]
  },
  {
   "cell_type": "code",
   "execution_count": null,
   "id": "a2aa367c-6e48-4483-8ad6-67811ca294a4",
   "metadata": {
    "tags": []
   },
   "outputs": [],
   "source": [
    "pfixed, psubspace_init = params_init[\"fixed\"], params_init[\"params\"]\n",
    "psubspace_init_flat, recfn = ravel_pytree(psubspace_init)"
   ]
  },
  {
   "cell_type": "code",
   "execution_count": null,
   "id": "2dda1262-d803-428d-b08e-feb6bb0be7a8",
   "metadata": {
    "tags": []
   },
   "outputs": [],
   "source": [
    "def applyfn(psubspace, X):\n",
    "    pfull = {\n",
    "        \"fixed\": pfixed,\n",
    "        \"params\": psubspace\n",
    "    }\n",
    "    return model_sub.apply(pfull, X)"
   ]
  },
  {
   "cell_type": "code",
   "execution_count": null,
   "id": "d63d6b73-6323-4643-9118-f45d04a7c5d1",
   "metadata": {
    "tags": []
   },
   "outputs": [],
   "source": [
    "dynamics_weights=1.0\n",
    "method=\"fcekf\"\n",
    "\n",
    "def apply_fn(flat_params, x):\n",
    "    return applyfn(recfn(flat_params), x)\n",
    "\n",
    "def emission_cov_fn(flat_params, x, eps=1e-6):\n",
    "    p = apply_fn(flat_params, x).ravel()\n",
    "    return jnp.diag(p) - jnp.outer(p, p) + eps * jnp.eye(len(p))\n",
    "\n",
    "agent = ekf.RebayesEKF(\n",
    "    dynamics_weights_or_function=dynamics_weights,\n",
    "    dynamics_covariance=0.0,\n",
    "    emission_mean_function=apply_fn,\n",
    "    emission_cov_function=emission_cov_fn,\n",
    "    adaptive_emission_cov=False,\n",
    "    emission_dist=lambda mean, cov: tfd.Categorical(probs=mean),\n",
    "    method=method,\n",
    ")"
   ]
  },
  {
   "cell_type": "code",
   "execution_count": null,
   "id": "19f8323c-4a37-4ff9-ac65-a96766ed0d3b",
   "metadata": {
    "tags": []
   },
   "outputs": [],
   "source": [
    "key_new = jax.random.PRNGKey(271)\n",
    "# psubspace_init_flat = jax.random.normal(key, ) * 2\n",
    "psubspace_init_flat = jax.random.uniform(key_new, (dim_subspace,), minval=-2, maxval=2)"
   ]
  },
  {
   "cell_type": "code",
   "execution_count": null,
   "id": "6d2ea6a8-baac-419f-9279-beb4e97e35e9",
   "metadata": {
    "tags": []
   },
   "outputs": [],
   "source": [
    "%%time\n",
    "bel, outputs = agent.scan(\n",
    "    initial_mean=psubspace_init_flat,\n",
    "    initial_covariance=1e-1,\n",
    "    X=X_train[:num_obs],\n",
    "    Y=y_train_ohe[:num_obs],\n",
    "    progress_bar=False,\n",
    "    callback=callback\n",
    ")\n",
    "\n",
    "bel = jax.block_until_ready(bel)\n",
    "outputs = jax.tree_map(np.array, outputs)\n",
    "acc_subekf_0 = outputs[\"acc\"]\n",
    "regret_subekf_0 = outputs[\"inst-regret\"].cumsum()"
   ]
  },
  {
   "cell_type": "code",
   "execution_count": null,
   "id": "98f5abe8-2581-4cad-94b4-f9440061eae4",
   "metadata": {
    "tags": []
   },
   "outputs": [],
   "source": [
    "plt.plot(regret_subekf_0)"
   ]
  },
  {
   "cell_type": "code",
   "execution_count": null,
   "id": "998b3510-735b-4e1d-bc6a-1252f72309a0",
   "metadata": {
    "tags": []
   },
   "outputs": [],
   "source": [
    "plt.plot(acc_subekf_0)\n",
    "plt.grid(alpha=0.3)\n",
    "\n",
    "yhat_test = apply_fn(bel.mean, X_test).argmax(axis=1)\n",
    "(yhat_test == y_test).mean()"
   ]
  },
  {
   "cell_type": "markdown",
   "id": "d85c5302-b67f-4a53-8827-07a1eb65045a",
   "metadata": {},
   "source": [
    "## Subspace agent $Q_t>0$"
   ]
  },
  {
   "cell_type": "code",
   "execution_count": null,
   "id": "d12546eb-0004-400b-9d90-f808fa9719da",
   "metadata": {
    "tags": []
   },
   "outputs": [],
   "source": [
    "SubNNet = subcify(NNet)\n",
    "dim_in = 28 ** 2\n",
    "dim_subspace = 20\n",
    "\n",
    "model_sub = SubNNet(dim_in, dim_subspace=dim_subspace)\n",
    "\n",
    "params_init = model_sub.init(key, X_train[:10])\n",
    "params_init_flat, _ = ravel_pytree(params_init)"
   ]
  },
  {
   "cell_type": "code",
   "execution_count": null,
   "id": "bceae44b-f6cd-4d3e-9404-2510694b6651",
   "metadata": {
    "tags": []
   },
   "outputs": [],
   "source": [
    "P = params_init[\"fixed\"][\"P\"]\n",
    "P = P / jnp.linalg.norm(P, axis=0) * 10\n",
    "\n",
    "params_init[\"fixed\"][\"P\"] = P"
   ]
  },
  {
   "cell_type": "code",
   "execution_count": null,
   "id": "6523087c-88bd-4b69-9bb3-5ebd1acebd43",
   "metadata": {
    "tags": []
   },
   "outputs": [],
   "source": [
    "pfixed, psubspace_init = params_init[\"fixed\"], params_init[\"params\"]\n",
    "psubspace_init_flat, recfn = ravel_pytree(psubspace_init)"
   ]
  },
  {
   "cell_type": "code",
   "execution_count": null,
   "id": "264702ba-3b28-4a52-9ac8-1d08cca40854",
   "metadata": {
    "tags": []
   },
   "outputs": [],
   "source": [
    "def applyfn(psubspace, X):\n",
    "    pfull = {\n",
    "        \"fixed\": pfixed,\n",
    "        \"params\": psubspace\n",
    "    }\n",
    "    return model_sub.apply(pfull, X)"
   ]
  },
  {
   "cell_type": "code",
   "execution_count": null,
   "id": "e5ab307f-a34a-45df-b67a-ab4b997d6204",
   "metadata": {
    "tags": []
   },
   "outputs": [],
   "source": [
    "dynamics_weights=1.0\n",
    "method=\"fcekf\"\n",
    "\n",
    "def apply_fn(flat_params, x):\n",
    "    return applyfn(recfn(flat_params), x)\n",
    "\n",
    "def emission_cov_fn(flat_params, x, eps=1e-6):\n",
    "    p = apply_fn(flat_params, x).ravel()\n",
    "    return jnp.diag(p) - jnp.outer(p, p) + eps * jnp.eye(len(p))\n",
    "\n",
    "agent = ekf.RebayesEKF(\n",
    "    dynamics_weights_or_function=dynamics_weights,\n",
    "    dynamics_covariance=dynamics_covariance,\n",
    "    emission_mean_function=apply_fn,\n",
    "    emission_cov_function=emission_cov_fn,\n",
    "    adaptive_emission_cov=False,\n",
    "    emission_dist=lambda mean, cov: tfd.Categorical(probs=mean),\n",
    "    method=method,\n",
    ")"
   ]
  },
  {
   "cell_type": "code",
   "execution_count": null,
   "id": "60205599-fe9c-4008-9a1d-9527a8a374bb",
   "metadata": {
    "tags": []
   },
   "outputs": [],
   "source": [
    "key_new = jax.random.PRNGKey(271)\n",
    "# psubspace_init_flat = jax.random.normal(key, ) * 2\n",
    "psubspace_init_flat = jax.random.uniform(key_new, (dim_subspace,), minval=-2, maxval=2)"
   ]
  },
  {
   "cell_type": "code",
   "execution_count": null,
   "id": "04b7b462-8ccf-495b-8285-9d4c9b1cc685",
   "metadata": {
    "tags": []
   },
   "outputs": [],
   "source": [
    "%%time\n",
    "bel, outputs = agent.scan(\n",
    "    initial_mean=psubspace_init_flat,\n",
    "    initial_covariance=1e-1,\n",
    "    X=X_train[:num_obs],\n",
    "    Y=y_train_ohe[:num_obs],\n",
    "    progress_bar=False,\n",
    "    callback=callback\n",
    ")\n",
    "\n",
    "bel = jax.block_until_ready(bel)\n",
    "outputs = jax.tree_map(np.array, outputs)\n",
    "acc_subekf_eps = outputs[\"acc\"]\n",
    "regret_subekf_eps = outputs[\"inst-regret\"].cumsum()"
   ]
  },
  {
   "cell_type": "code",
   "execution_count": null,
   "id": "0fe3a892-cdee-4af0-8037-ebe1ed9765ac",
   "metadata": {
    "tags": []
   },
   "outputs": [],
   "source": [
    "plt.plot(acc_subekf_eps)\n",
    "plt.grid(alpha=0.3)\n",
    "\n",
    "yhat_test = apply_fn(bel.mean, X_test).argmax(axis=1)\n",
    "(yhat_test == y_test).mean()"
   ]
  },
  {
   "cell_type": "markdown",
   "id": "23e299b5-da34-4ea8-82e8-e456d49f2215",
   "metadata": {},
   "source": [
    "## PULSE: Subspace + last layer ($Q_t=0$)"
   ]
  },
  {
   "cell_type": "code",
   "execution_count": null,
   "id": "c987c473-6ae1-4aac-877a-5a44f23fd873",
   "metadata": {
    "tags": []
   },
   "outputs": [],
   "source": [
    "@subcify\n",
    "class NNetFT(nn.Module):\n",
    "    activation: Callable = nn.elu\n",
    "    \n",
    "    @nn.compact\n",
    "    def __call__(self, x):\n",
    "        x = nn.Dense(500)(x)\n",
    "        x = self.activation(x)\n",
    "        x = nn.Dense(300)(x)\n",
    "        x = self.activation(x)\n",
    "        x = nn.Dense(300)(x)\n",
    "        x = self.activation(x)\n",
    "        x = nn.Dense(100)(x)\n",
    "        x = self.activation(x)\n",
    "        return x\n",
    "\n",
    "    \n",
    "class PULSE(nn.Module):\n",
    "    dim_int: int\n",
    "    dim_subspace: int\n",
    "    \n",
    "    @nn.compact\n",
    "    def __call__(self, x):\n",
    "        x = NNetFT(dim_in, dim_subspace)(x)\n",
    "        x = nn.Dense(10)(x)\n",
    "        x = nn.softmax(x)\n",
    "        return x"
   ]
  },
  {
   "cell_type": "code",
   "execution_count": null,
   "id": "05d67799-7397-484c-8a6c-a54efd3b50e7",
   "metadata": {
    "tags": []
   },
   "outputs": [],
   "source": [
    "dim_in = 28 ** 2\n",
    "dim_subspace = 20\n",
    "\n",
    "key_init, key_sub, key_train = jax.random.split(key, 3)\n",
    "model_ll = PULSE(dim_in, dim_subspace)\n",
    "params_init = model_ll.init({\"params\": key, \"fixed\": key}, X_train[:10])"
   ]
  },
  {
   "cell_type": "code",
   "execution_count": null,
   "id": "15ba33b6-f70b-477e-8eb7-1c4b40d5d350",
   "metadata": {
    "tags": []
   },
   "outputs": [],
   "source": [
    "params_init_flat, _ = ravel_pytree(params_init)"
   ]
  },
  {
   "cell_type": "code",
   "execution_count": null,
   "id": "97d66fc3-7e42-45ac-be94-4e715f294a08",
   "metadata": {
    "tags": []
   },
   "outputs": [],
   "source": [
    "jax.tree_map(jnp.shape, params_init)"
   ]
  },
  {
   "cell_type": "code",
   "execution_count": null,
   "id": "ffc05b7a-a72f-4b83-9afc-e9e764fd5f5b",
   "metadata": {
    "tags": []
   },
   "outputs": [],
   "source": [
    "pfixed, psubspace_init = params_init[\"fixed\"], params_init[\"params\"]"
   ]
  },
  {
   "cell_type": "code",
   "execution_count": null,
   "id": "e0e6e255-03d1-41da-b1f0-daff526b15cb",
   "metadata": {
    "tags": []
   },
   "outputs": [],
   "source": [
    "ps_flat = jax.random.uniform(key_sub, (dim_subspace,), minval=-2, maxval=2)\n",
    "psubspace_init[\"SubspaceModule_0\"][\"subspace\"] = ps_flat\n",
    "psubspace_init_flat, recfn = ravel_pytree(psubspace_init)"
   ]
  },
  {
   "cell_type": "code",
   "execution_count": null,
   "id": "2351408d-331c-4bd6-9473-6af76e09540e",
   "metadata": {
    "tags": []
   },
   "outputs": [],
   "source": [
    "def applyfn(params, X):\n",
    "    pfull = {\n",
    "        \"fixed\": pfixed,\n",
    "        \"params\": params\n",
    "    }\n",
    "    return model_ll.apply(pfull, X)"
   ]
  },
  {
   "cell_type": "code",
   "execution_count": null,
   "id": "8237e7ed-68b9-40fd-ae4d-9dcfe5fa8488",
   "metadata": {
    "tags": []
   },
   "outputs": [],
   "source": [
    "dynamics_weights=1.0\n",
    "method=\"fcekf\"\n",
    "\n",
    "def apply_fn(flat_params, x):\n",
    "    return applyfn(recfn(flat_params), x)\n",
    "\n",
    "def emission_cov_fn(flat_params, x, eps=0.0):\n",
    "    p = apply_fn(flat_params, x).ravel()\n",
    "    return jnp.diag(p) - jnp.outer(p, p) + eps * jnp.eye(len(p))\n",
    "\n",
    "agent = ekf.RebayesEKF(\n",
    "    dynamics_weights_or_function=dynamics_weights,\n",
    "    dynamics_covariance=0.0,\n",
    "    emission_mean_function=apply_fn,\n",
    "    emission_cov_function=emission_cov_fn,\n",
    "    adaptive_emission_cov=False,\n",
    "    emission_dist=lambda mean, cov: tfd.Categorical(probs=mean),\n",
    "    method=method,\n",
    ")"
   ]
  },
  {
   "cell_type": "code",
   "execution_count": null,
   "id": "9d0d6852-aea0-432d-9e3f-42325b4cc9cc",
   "metadata": {
    "tags": []
   },
   "outputs": [],
   "source": [
    "%%time\n",
    "bel, outputs = agent.scan(\n",
    "    initial_mean=psubspace_init_flat,\n",
    "    initial_covariance=1e-2,\n",
    "    X=X_train[:num_obs],\n",
    "    Y=y_train_ohe[:num_obs],\n",
    "    progress_bar=False,\n",
    "    callback=callback\n",
    ")\n",
    "\n",
    "bel = jax.block_until_ready(bel)\n",
    "outputs = jax.tree_map(np.array, outputs)\n",
    "# acc_pulse_eps = outputs[\"acc\"]\n",
    "acc_pulse_0 = outputs[\"acc\"]\n",
    "regret_pulse_0 = outputs[\"inst-regret\"].cumsum()"
   ]
  },
  {
   "cell_type": "code",
   "execution_count": null,
   "id": "155abfd3-e9b7-40ff-a2d8-f7f3d26977d7",
   "metadata": {
    "tags": []
   },
   "outputs": [],
   "source": [
    "# plt.plot(acc_puse_eps)\n",
    "plt.plot(acc_pulse_0)\n",
    "plt.grid(alpha=0.3)\n",
    "\n",
    "yhat_test = apply_fn(bel.mean, X_test).argmax(axis=1)\n",
    "(yhat_test == y_test).mean()"
   ]
  },
  {
   "cell_type": "markdown",
   "id": "8d4ce52d-feb1-46b8-93c0-6eb27d0ae0a1",
   "metadata": {},
   "source": [
    "## PULSE: Subspace + last layer ($Q_t>0$)"
   ]
  },
  {
   "cell_type": "code",
   "execution_count": null,
   "id": "64f9eb1a-4a63-4a44-a828-30346319fbf8",
   "metadata": {
    "tags": []
   },
   "outputs": [],
   "source": [
    "@subcify\n",
    "class NNetFT(nn.Module):\n",
    "    activation: Callable = nn.elu\n",
    "    \n",
    "    @nn.compact\n",
    "    def __call__(self, x):\n",
    "        x = nn.Dense(500)(x)\n",
    "        x = self.activation(x)\n",
    "        x = nn.Dense(300)(x)\n",
    "        x = self.activation(x)\n",
    "        x = nn.Dense(300)(x)\n",
    "        x = self.activation(x)\n",
    "        x = nn.Dense(100)(x)\n",
    "        x = self.activation(x)\n",
    "        return x\n",
    "\n",
    "    \n",
    "class PULSE(nn.Module):\n",
    "    dim_int: int\n",
    "    dim_subspace: int\n",
    "    \n",
    "    @nn.compact\n",
    "    def __call__(self, x):\n",
    "        x = NNetFT(dim_in, dim_subspace)(x)\n",
    "        x = nn.Dense(10)(x)\n",
    "        x = nn.softmax(x)\n",
    "        return x"
   ]
  },
  {
   "cell_type": "code",
   "execution_count": null,
   "id": "62a79776-177e-4a7a-bf19-ed6a37501706",
   "metadata": {
    "tags": []
   },
   "outputs": [],
   "source": [
    "dim_in = 28 ** 2\n",
    "dim_subspace = 20\n",
    "\n",
    "key_init, key_sub, key_train = jax.random.split(key, 3)\n",
    "model_ll = PULSE(dim_in, dim_subspace)\n",
    "params_init = model_ll.init({\"params\": key, \"fixed\": key}, X_train[:10])"
   ]
  },
  {
   "cell_type": "code",
   "execution_count": null,
   "id": "31e398a9-5457-4609-ad2c-75e816f94294",
   "metadata": {
    "tags": []
   },
   "outputs": [],
   "source": [
    "params_init_flat, _ = ravel_pytree(params_init)"
   ]
  },
  {
   "cell_type": "code",
   "execution_count": null,
   "id": "9acf0e60-ef30-4594-9494-c09c19795f97",
   "metadata": {
    "tags": []
   },
   "outputs": [],
   "source": [
    "jax.tree_map(jnp.shape, params_init)"
   ]
  },
  {
   "cell_type": "code",
   "execution_count": null,
   "id": "263dc52f-d4d8-4db7-bbdd-4102e740e65d",
   "metadata": {
    "tags": []
   },
   "outputs": [],
   "source": [
    "pfixed, psubspace_init = params_init[\"fixed\"], params_init[\"params\"]"
   ]
  },
  {
   "cell_type": "code",
   "execution_count": null,
   "id": "85664d5c-979b-445f-adc2-b81d8cfe9951",
   "metadata": {
    "tags": []
   },
   "outputs": [],
   "source": [
    "ps_flat = jax.random.uniform(key_sub, (dim_subspace,), minval=-2, maxval=2)\n",
    "psubspace_init[\"SubspaceModule_0\"][\"subspace\"] = ps_flat\n",
    "psubspace_init_flat, recfn = ravel_pytree(psubspace_init)"
   ]
  },
  {
   "cell_type": "code",
   "execution_count": null,
   "id": "2abc77cc-9d1c-4405-9f60-99564f973488",
   "metadata": {
    "tags": []
   },
   "outputs": [],
   "source": [
    "def applyfn(params, X):\n",
    "    pfull = {\n",
    "        \"fixed\": pfixed,\n",
    "        \"params\": params\n",
    "    }\n",
    "    return model_ll.apply(pfull, X)"
   ]
  },
  {
   "cell_type": "code",
   "execution_count": null,
   "id": "50a179fe-dd60-4f69-8510-d66272d19b0e",
   "metadata": {
    "tags": []
   },
   "outputs": [],
   "source": [
    "dynamics_weights=1.0\n",
    "method=\"fcekf\"\n",
    "\n",
    "def apply_fn(flat_params, x):\n",
    "    return applyfn(recfn(flat_params), x)\n",
    "\n",
    "def emission_cov_fn(flat_params, x, eps=0.0):\n",
    "    p = apply_fn(flat_params, x).ravel()\n",
    "    return jnp.diag(p) - jnp.outer(p, p) + eps * jnp.eye(len(p))\n",
    "\n",
    "agent = ekf.RebayesEKF(\n",
    "    dynamics_weights_or_function=dynamics_weights,\n",
    "    dynamics_covariance=dynamics_covariance,\n",
    "    emission_mean_function=apply_fn,\n",
    "    emission_cov_function=emission_cov_fn,\n",
    "    adaptive_emission_cov=False,\n",
    "    emission_dist=lambda mean, cov: tfd.Categorical(probs=mean),\n",
    "    method=method,\n",
    ")"
   ]
  },
  {
   "cell_type": "code",
   "execution_count": null,
   "id": "7fddb031-9811-4d78-9dcd-507d8c407959",
   "metadata": {
    "tags": []
   },
   "outputs": [],
   "source": [
    "%%time\n",
    "bel, outputs = agent.scan(\n",
    "    initial_mean=psubspace_init_flat,\n",
    "    initial_covariance=1e-2,\n",
    "    X=X_train[:num_obs],\n",
    "    Y=y_train_ohe[:num_obs],\n",
    "    progress_bar=False,\n",
    "    callback=callback\n",
    ")\n",
    "\n",
    "bel = jax.block_until_ready(bel)\n",
    "outputs = jax.tree_map(np.array, outputs)\n",
    "acc_pulse_eps = outputs[\"acc\"]\n",
    "regret_pulse_eps = outputs[\"inst-regret\"].cumsum()"
   ]
  },
  {
   "cell_type": "code",
   "execution_count": null,
   "id": "a5f4b2d4-fcb8-4d91-8c45-aff1c1c85b53",
   "metadata": {
    "tags": []
   },
   "outputs": [],
   "source": [
    "plt.plot(acc_pulse_eps)\n",
    "plt.grid(alpha=0.3)\n",
    "\n",
    "yhat_test = apply_fn(bel.mean, X_test).argmax(axis=1)\n",
    "(yhat_test == y_test).mean()"
   ]
  },
  {
   "cell_type": "markdown",
   "id": "0d6ebafd-46cf-4c72-8ce5-b1bcb50408af",
   "metadata": {},
   "source": [
    "## Replay buffer SGD"
   ]
  },
  {
   "cell_type": "code",
   "execution_count": null,
   "id": "ca3df307-0bce-4996-acc1-82acbccf39b7",
   "metadata": {
    "tags": []
   },
   "outputs": [],
   "source": [
    "import optax"
   ]
  },
  {
   "cell_type": "code",
   "execution_count": null,
   "id": "bedbea6b-d70f-4e8b-8d9f-08b682056442",
   "metadata": {
    "tags": []
   },
   "outputs": [],
   "source": [
    "def callback(bel, pred_obs, t, Xt, Yt, bel_pred, **kwargs):    \n",
    "    # eval on all tasks test set\n",
    "    yhat = agent.apply_fn(bel.mean, X_test).argmax(axis=1)\n",
    "    acc = jnp.mean(yhat == y_test)\n",
    "    \n",
    "    yhat_single = pred_obs.argmax()\n",
    "    yt = Yt.argmax()\n",
    "    qpred = yhat_single == yt\n",
    "    \n",
    "    \n",
    "    out = {\n",
    "        \"acc\": acc,\n",
    "        \"inst-regret\": 1 - qpred\n",
    "    }\n",
    "    \n",
    "    return out"
   ]
  },
  {
   "cell_type": "code",
   "execution_count": null,
   "id": "e9ee0418-e56b-4ef5-b3c4-c4b2a46df134",
   "metadata": {
    "tags": []
   },
   "outputs": [],
   "source": [
    "model = NNet()\n",
    "params_init = model.init(key, X_train[:10])"
   ]
  },
  {
   "cell_type": "code",
   "execution_count": null,
   "id": "d34e2478-c246-40c0-92e1-e1e4a186a9d0",
   "metadata": {
    "tags": []
   },
   "outputs": [],
   "source": [
    "tx = optax.adam(1e-6)"
   ]
  },
  {
   "cell_type": "code",
   "execution_count": null,
   "id": "65771ec4-e893-4358-8de7-e989bf988354",
   "metadata": {
    "tags": []
   },
   "outputs": [],
   "source": [
    "_, dim_features = X_train.shape\n",
    "_, dim_output = y_train_ohe.shape"
   ]
  },
  {
   "cell_type": "code",
   "execution_count": null,
   "id": "8a64f552-dd1d-488e-857b-73542efe482b",
   "metadata": {
    "tags": []
   },
   "outputs": [],
   "source": [
    "agent = replay_sgd.FifoSGD(\n",
    "    lossfn=replay_sgd.lossfn_xentropy,\n",
    "    apply_fn=model.apply,\n",
    "    tx=tx,\n",
    "    buffer_size=20,\n",
    "    dim_features=dim_features,\n",
    "    dim_output=dim_output,\n",
    "    n_inner=5,\n",
    ")"
   ]
  },
  {
   "cell_type": "code",
   "execution_count": null,
   "id": "1b070a1c-2499-4b46-9906-90a6071a9651",
   "metadata": {
    "tags": []
   },
   "outputs": [],
   "source": [
    "%%time\n",
    "bel, outputs = agent.scan(\n",
    "    initial_mean=params_init,\n",
    "    initial_covariance=1e-2,\n",
    "    X=X_train[:num_obs],\n",
    "    Y=y_train_ohe[:num_obs],\n",
    "    progress_bar=False,\n",
    "    callback=callback\n",
    ")\n",
    "\n",
    "bel = jax.block_until_ready(bel)\n",
    "outputs = jax.tree_map(np.array, outputs)\n",
    "acc_replaysgd = outputs[\"acc\"]\n",
    "regret_replaysgd = outputs[\"inst-regret\"].cumsum()"
   ]
  },
  {
   "cell_type": "code",
   "execution_count": null,
   "id": "4bea7665-9955-41f8-9c40-7098ad195bbd",
   "metadata": {
    "tags": []
   },
   "outputs": [],
   "source": [
    "linestyle = (0, (5, 10)) # Loosely dashed\n",
    "fig, ax = plt.subplots(figsize=(8, 4.8))\n",
    "plt.plot(acc_lofi_0, label=\"LoFi $Q_t=0$\", c=\"tab:blue\")\n",
    "plt.plot(acc_lofi_eps, label=\"LoFi $Q_t>0$\", c=\"tab:blue\", linestyle=linestyle)\n",
    "plt.plot(acc_subekf_0, label=\"SubEKF $Q_t=0$\", c=\"tab:orange\")\n",
    "plt.plot(acc_subekf_eps, label=\"SubEKF $Q_t>0$\", c=\"tab:orange\", linestyle=linestyle)\n",
    "plt.plot(acc_pulse_0, label=\"PULSE $Q_t=0$\", c=\"tab:green\")\n",
    "plt.plot(acc_pulse_eps, label=\"PULSE $Q_t>0$\", c=\"tab:green\", linestyle=linestyle)\n",
    "plt.plot(acc_replaysgd, label=\"replay SGD\", c=\"tab:red\")\n",
    "plt.legend(loc=\"lower right\")\n",
    "plt.xlabel(\"Num. Obs\")\n",
    "plt.ylabel(\"Test Accuracy\")\n",
    "plt.title(\"OU-Rotating MNIST\")\n",
    "plt.grid(alpha=0.3)"
   ]
  },
  {
   "cell_type": "code",
   "execution_count": null,
   "id": "689b1c7d-105e-462d-989e-abeb3f62f42c",
   "metadata": {
    "tags": []
   },
   "outputs": [],
   "source": [
    "linestyle = (0, (5, 10)) # Loosely dashed\n",
    "fig, ax = plt.subplots(figsize=(8, 4.8))\n",
    "plt.plot(regret_lofi_0, label=\"LoFi $Q_t=0$\", c=\"tab:blue\")\n",
    "plt.plot(regret_lofi_eps, label=\"LoFi $Q_t>0$\", c=\"tab:blue\", linestyle=linestyle)\n",
    "plt.plot(regret_subekf_0, label=\"SubEKF $Q_t=0$\", c=\"tab:orange\")\n",
    "plt.plot(regret_subekf_eps, label=\"SubEKF $Q_t>0$\", c=\"tab:orange\", linestyle=linestyle)\n",
    "plt.plot(regret_pulse_0, label=\"PULSE $Q_t=0$\", c=\"tab:green\")\n",
    "plt.plot(regret_pulse_eps, label=\"PULSE $Q_t>0$\", c=\"tab:green\", linestyle=linestyle)\n",
    "plt.plot(regret_replaysgd, label=\"replay SGD\", c=\"tab:red\")\n",
    "plt.legend(loc=\"upper left\")\n",
    "plt.xlabel(\"Num. Obs\")\n",
    "plt.ylabel(\"Regret\")\n",
    "plt.title(\"OU-Rotating MNIST\")\n",
    "plt.grid(alpha=0.3)"
   ]
  },
  {
   "cell_type": "code",
   "execution_count": null,
   "id": "cbee9115-965a-4eed-b241-c18fdacaac83",
   "metadata": {
    "tags": []
   },
   "outputs": [],
   "source": [
    "fig, ax = plt.subplots(figsize=(8, 4.8))\n",
    "plt.plot(angles_train)\n",
    "plt.grid(alpha=0.3)\n",
    "plt.title(\"Train angle of rotation\")\n",
    "plt.ylabel(\"Angle\")\n",
    "plt.xlabel(\"Observation num.\")"
   ]
  },
  {
   "cell_type": "code",
   "execution_count": null,
   "id": "eb749a61-f6df-4e20-b09b-6e849c213c87",
   "metadata": {
    "tags": []
   },
   "outputs": [],
   "source": [
    "1"
   ]
  }
 ],
 "metadata": {
  "kernelspec": {
   "display_name": "research",
   "language": "python",
   "name": "research"
  },
  "language_info": {
   "codemirror_mode": {
    "name": "ipython",
    "version": 3
   },
   "file_extension": ".py",
   "mimetype": "text/x-python",
   "name": "python",
   "nbconvert_exporter": "python",
   "pygments_lexer": "ipython3",
   "version": "3.10.12"
  }
 },
 "nbformat": 4,
 "nbformat_minor": 5
}
