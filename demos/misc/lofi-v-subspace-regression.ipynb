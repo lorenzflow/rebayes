{
 "cells": [
  {
   "cell_type": "markdown",
   "id": "f2a8d5f7-a654-4430-883f-1dddc4801d0b",
   "metadata": {},
   "source": [
    "# LoFi v.s. subspaceEKF"
   ]
  },
  {
   "cell_type": "code",
   "execution_count": 115,
   "id": "164b7c86-177b-41e8-8b59-81b36800c9d3",
   "metadata": {
    "tags": []
   },
   "outputs": [],
   "source": [
    "import jax\n",
    "import einops\n",
    "import jax.numpy as jnp\n",
    "import flax.linen as nn\n",
    "from typing import Callable\n",
    "from rebayes.extended_kalman_filter import ekf\n",
    "from rebayes.low_rank_filter.subspace_filter import subcify\n",
    "from rebayes.low_rank_filter import lofi\n",
    "from rebayes.datasets.datasets import load_mnist"
   ]
  },
  {
   "cell_type": "code",
   "execution_count": 28,
   "id": "49397944-1e7c-4864-94dc-504cb72cd06a",
   "metadata": {
    "tags": []
   },
   "outputs": [
    {
     "name": "stdout",
     "output_type": "stream",
     "text": [
      "The autoreload extension is already loaded. To reload it, use:\n",
      "  %reload_ext autoreload\n"
     ]
    }
   ],
   "source": [
    "%load_ext autoreload\n",
    "%autoreload 2\n",
    "%config InlineBackend.figure_format = \"retina\""
   ]
  },
  {
   "cell_type": "code",
   "execution_count": 47,
   "id": "79df8b0e-e792-4d62-9792-81077ba74c4a",
   "metadata": {
    "tags": []
   },
   "outputs": [],
   "source": [
    "res = load_mnist()\n",
    "res = jax.tree_map(jnp.array, res)\n",
    "(X_train, y_train), (X_test, y_test) = res\n",
    "X_train = einops.rearrange(X_train, \"obs width height -> obs (width height)\")\n",
    "X_test = einops.rearrange(X_test, \"obs width height -> obs (width height)\")\n",
    "\n",
    "y_train_ohe = jax.nn.one_hot(y_train, 10)\n",
    "y_test_ohe = jax.nn.one_hot(y_test, 10)"
   ]
  },
  {
   "cell_type": "code",
   "execution_count": 86,
   "id": "797c1efa-07da-4ab2-a55c-32d82e0c86a3",
   "metadata": {
    "tags": []
   },
   "outputs": [],
   "source": [
    "class NNet(nn.Module):\n",
    "    activation: Callable = nn.elu\n",
    "    \n",
    "    @nn.compact\n",
    "    def __call__(self, x):\n",
    "        x = nn.Dense(300)(x)\n",
    "        x = self.activation(x)\n",
    "        x = nn.Dense(300)(x)\n",
    "        x = self.activation(x)\n",
    "        x = nn.Dense(100)(x)\n",
    "        x = self.activation(x)\n",
    "        x = nn.Dense(10)(x)\n",
    "        x = nn.softmax(x)\n",
    "        return x"
   ]
  },
  {
   "cell_type": "code",
   "execution_count": 87,
   "id": "230e8098-11ae-487a-bbc7-9b6b1f1ac82a",
   "metadata": {},
   "outputs": [],
   "source": [
    "key = jax.random.PRNGKey(314)\n",
    "model = NNet()\n",
    "params_init = model.init(key, X_train[:10])\n",
    "params_init_flat, _ = ravel_pytree(params_init)"
   ]
  },
  {
   "cell_type": "markdown",
   "id": "7bb12233-6f57-437d-b3d0-458a1eb7de69",
   "metadata": {},
   "source": [
    "## LoFi agent"
   ]
  },
  {
   "cell_type": "code",
   "execution_count": 107,
   "id": "bd6ce2bc-f466-4986-aaf8-c6ed1331a2ef",
   "metadata": {
    "tags": []
   },
   "outputs": [],
   "source": [
    "agent, recfn = lofi.init_classification_agent(\n",
    "    model,\n",
    "    X_train[:10],\n",
    "    dynamics_weights=1.0,\n",
    "    dynamics_covariance=1e-7,\n",
    "    memory_size=20,\n",
    ")"
   ]
  },
  {
   "cell_type": "code",
   "execution_count": 108,
   "id": "ef00bdd7-375b-48a2-8740-9841480abe37",
   "metadata": {
    "tags": []
   },
   "outputs": [],
   "source": [
    "bel, outputs = agent.scan(\n",
    "    initial_mean=params_init_flat,\n",
    "    initial_covariance=0.05,\n",
    "    X=X_train[:5000],\n",
    "    Y=y_train[:5000],\n",
    "    progress_bar=False,\n",
    ")\n",
    "\n",
    "bel = jax.block_until_ready(bel)"
   ]
  },
  {
   "cell_type": "code",
   "execution_count": 109,
   "id": "dc8cc796-482f-4a56-be91-65f1f152f346",
   "metadata": {
    "tags": []
   },
   "outputs": [
    {
     "data": {
      "text/plain": [
       "Array(0.098, dtype=float32)"
      ]
     },
     "execution_count": 109,
     "metadata": {},
     "output_type": "execute_result"
    }
   ],
   "source": [
    "yhat_test = agent.predict_obs(bel, X_test).argmax(axis=1)\n",
    "(yhat_test == y_test).mean()"
   ]
  },
  {
   "cell_type": "markdown",
   "id": "67548f1d-a656-4685-a97c-09cc4160be78",
   "metadata": {},
   "source": [
    "## Subspace agent"
   ]
  },
  {
   "cell_type": "code",
   "execution_count": 127,
   "id": "a62b80c8-40f0-4427-9421-251cecb1faf4",
   "metadata": {
    "tags": []
   },
   "outputs": [],
   "source": [
    "SubNNet = subcify(NNet)\n",
    "dim_in = 28 ** 2\n",
    "\n",
    "model_sub = SubNNet(dim_in, dim_subspace=20)\n",
    "\n",
    "params_init = model_sub.init(key, X_train[:10])\n",
    "params_init_flat, _ = ravel_pytree(params_init)"
   ]
  },
  {
   "cell_type": "code",
   "execution_count": 131,
   "id": "cd9aaec1-a35c-4e6e-bb2e-bb71a2fa99c0",
   "metadata": {
    "tags": []
   },
   "outputs": [],
   "source": [
    "pfixed, psubspace_init = params_init[\"fixed\"], params_init[\"params\"]\n",
    "psubspace_init_flat, recfn = ravel_pytree(psubspace_init)"
   ]
  },
  {
   "cell_type": "code",
   "execution_count": 129,
   "id": "2dda1262-d803-428d-b08e-feb6bb0be7a8",
   "metadata": {
    "tags": []
   },
   "outputs": [],
   "source": [
    "def applyfn(psubspace, X):\n",
    "    pfull = {\n",
    "        \"fixed\": pfixed,\n",
    "        \"params\": psubspace\n",
    "    }\n",
    "    return model.apply(pfull, X)"
   ]
  },
  {
   "cell_type": "code",
   "execution_count": 136,
   "id": "c0d54f13-ed88-4189-af1a-79929d791053",
   "metadata": {
    "tags": []
   },
   "outputs": [],
   "source": [
    "dynamics_weights=1.0,\n",
    "dynamics_covariance=1e-7,\n",
    "method=\"fcekf\"\n"
   ]
  },
  {
   "cell_type": "code",
   "execution_count": 137,
   "id": "75f9f591-64a5-4067-af50-08c24d633e27",
   "metadata": {
    "tags": []
   },
   "outputs": [],
   "source": [
    "def apply_fn(flat_params, x):\n",
    "    return apply_fn(recfn(flat_params), x)\n",
    "\n",
    "def emission_cov_fn(flat_params, x):\n",
    "    p = apply_fn(flat_params, x)\n",
    "    return jnp.diag(p) - jnp.outer(p, p) + eps * jnp.eye(len(p))\n",
    "\n",
    "agent = ekf.RebayesEKF(\n",
    "    dynamics_weights_or_function=dynamics_weights,\n",
    "    dynamics_covariance=dynamics_covariance,\n",
    "    emission_mean_function=apply_fn,\n",
    "    emission_cov_function=emission_cov_fn,\n",
    "    adaptive_emission_cov=False,\n",
    "    dynamics_covariance_inflation_factor=0.0,\n",
    "    emission_dist=lambda mean, cov: tfd.Normal(loc=mean, scale=jnp.sqrt(cov)),\n",
    "    method=method,\n",
    ")"
   ]
  },
  {
   "cell_type": "code",
   "execution_count": 140,
   "id": "d2c89eba-8493-4fe6-9efe-1c4bffa360be",
   "metadata": {
    "tags": []
   },
   "outputs": [
    {
     "ename": "AttributeError",
     "evalue": "'tuple' object has no attribute 'ndim'",
     "output_type": "error",
     "traceback": [
      "\u001b[0;31m---------------------------------------------------------------------------\u001b[0m",
      "\u001b[0;31mAttributeError\u001b[0m                            Traceback (most recent call last)",
      "Cell \u001b[0;32mIn[140], line 1\u001b[0m\n\u001b[0;32m----> 1\u001b[0m bel, outputs \u001b[38;5;241m=\u001b[39m \u001b[43magent\u001b[49m\u001b[38;5;241;43m.\u001b[39;49m\u001b[43mscan\u001b[49m\u001b[43m(\u001b[49m\n\u001b[1;32m      2\u001b[0m \u001b[43m    \u001b[49m\u001b[43minitial_mean\u001b[49m\u001b[38;5;241;43m=\u001b[39;49m\u001b[43mpsubspace_init_flat\u001b[49m\u001b[43m,\u001b[49m\n\u001b[1;32m      3\u001b[0m \u001b[43m    \u001b[49m\u001b[43minitial_covariance\u001b[49m\u001b[38;5;241;43m=\u001b[39;49m\u001b[38;5;241;43m0.05\u001b[39;49m\u001b[43m,\u001b[49m\n\u001b[1;32m      4\u001b[0m \u001b[43m    \u001b[49m\u001b[43mX\u001b[49m\u001b[38;5;241;43m=\u001b[39;49m\u001b[43mX_train\u001b[49m\u001b[43m[\u001b[49m\u001b[43m:\u001b[49m\u001b[38;5;241;43m5000\u001b[39;49m\u001b[43m]\u001b[49m\u001b[43m,\u001b[49m\n\u001b[1;32m      5\u001b[0m \u001b[43m    \u001b[49m\u001b[43mY\u001b[49m\u001b[38;5;241;43m=\u001b[39;49m\u001b[43my_train\u001b[49m\u001b[43m[\u001b[49m\u001b[43m:\u001b[49m\u001b[38;5;241;43m5000\u001b[39;49m\u001b[43m]\u001b[49m\u001b[43m,\u001b[49m\n\u001b[1;32m      6\u001b[0m \u001b[43m    \u001b[49m\u001b[43mprogress_bar\u001b[49m\u001b[38;5;241;43m=\u001b[39;49m\u001b[38;5;28;43;01mFalse\u001b[39;49;00m\u001b[43m,\u001b[49m\n\u001b[1;32m      7\u001b[0m \u001b[43m)\u001b[49m\n\u001b[1;32m      9\u001b[0m bel \u001b[38;5;241m=\u001b[39m jax\u001b[38;5;241m.\u001b[39mblock_until_ready(bel)\n",
      "File \u001b[0;32m~/documents/rebayes/rebayes/base.py:222\u001b[0m, in \u001b[0;36mRebayes.scan\u001b[0;34m(self, initial_mean, initial_covariance, X, Y, callback, bel, progress_bar, debug, Xinit, Yinit, **kwargs)\u001b[0m\n\u001b[1;32m    220\u001b[0m     outputs \u001b[38;5;241m=\u001b[39m jnp\u001b[38;5;241m.\u001b[39mstack(outputs)\n\u001b[1;32m    221\u001b[0m \u001b[38;5;28;01melse\u001b[39;00m:\n\u001b[0;32m--> 222\u001b[0m     bel, outputs \u001b[38;5;241m=\u001b[39m \u001b[43mscan\u001b[49m\u001b[43m(\u001b[49m\u001b[43mstep\u001b[49m\u001b[43m,\u001b[49m\u001b[43m \u001b[49m\u001b[43mcarry\u001b[49m\u001b[43m,\u001b[49m\u001b[43m \u001b[49m\u001b[43mjnp\u001b[49m\u001b[38;5;241;43m.\u001b[39;49m\u001b[43marange\u001b[49m\u001b[43m(\u001b[49m\u001b[43mnum_timesteps\u001b[49m\u001b[43m)\u001b[49m\u001b[43m)\u001b[49m\n\u001b[1;32m    223\u001b[0m \u001b[38;5;28;01mreturn\u001b[39;00m bel, outputs\n",
      "    \u001b[0;31m[... skipping hidden 9 frame]\u001b[0m\n",
      "File \u001b[0;32m~/documents/rebayes/rebayes/base.py:200\u001b[0m, in \u001b[0;36mRebayes.scan.<locals>.step\u001b[0;34m(bel, t)\u001b[0m\n\u001b[1;32m    199\u001b[0m \u001b[38;5;28;01mdef\u001b[39;00m \u001b[38;5;21mstep\u001b[39m(bel, t):\n\u001b[0;32m--> 200\u001b[0m     bel_pred \u001b[38;5;241m=\u001b[39m \u001b[38;5;28;43mself\u001b[39;49m\u001b[38;5;241;43m.\u001b[39;49m\u001b[43mpredict_state\u001b[49m\u001b[43m(\u001b[49m\u001b[43mbel\u001b[49m\u001b[43m)\u001b[49m\n\u001b[1;32m    201\u001b[0m     pred_obs \u001b[38;5;241m=\u001b[39m \u001b[38;5;28mself\u001b[39m\u001b[38;5;241m.\u001b[39mpredict_obs(bel, X[t])\n\u001b[1;32m    202\u001b[0m     bel \u001b[38;5;241m=\u001b[39m \u001b[38;5;28mself\u001b[39m\u001b[38;5;241m.\u001b[39mupdate_state(bel_pred, X[t], Y[t])\n",
      "    \u001b[0;31m[... skipping hidden 12 frame]\u001b[0m\n",
      "File \u001b[0;32m~/documents/rebayes/rebayes/extended_kalman_filter/ekf.py:156\u001b[0m, in \u001b[0;36mRebayesEKF.predict_state\u001b[0;34m(self, bel)\u001b[0m\n\u001b[1;32m    150\u001b[0m \u001b[38;5;129m@partial\u001b[39m(jit, static_argnums\u001b[38;5;241m=\u001b[39m(\u001b[38;5;241m0\u001b[39m,))\n\u001b[1;32m    151\u001b[0m \u001b[38;5;28;01mdef\u001b[39;00m \u001b[38;5;21mpredict_state\u001b[39m(\n\u001b[1;32m    152\u001b[0m     \u001b[38;5;28mself\u001b[39m, \n\u001b[1;32m    153\u001b[0m     bel: EKFBel,\n\u001b[1;32m    154\u001b[0m ) \u001b[38;5;241m-\u001b[39m\u001b[38;5;241m>\u001b[39m EKFBel:\n\u001b[1;32m    155\u001b[0m     m, P \u001b[38;5;241m=\u001b[39m bel\u001b[38;5;241m.\u001b[39mmean, bel\u001b[38;5;241m.\u001b[39mcov\n\u001b[0;32m--> 156\u001b[0m     dynamics_covariance \u001b[38;5;241m=\u001b[39m \u001b[43m_process_ekf_cov\u001b[49m\u001b[43m(\u001b[49m\u001b[38;5;28;43mself\u001b[39;49m\u001b[38;5;241;43m.\u001b[39;49m\u001b[43mdynamics_covariance\u001b[49m\u001b[43m,\u001b[49m\u001b[43m \u001b[49m\u001b[43mm\u001b[49m\u001b[38;5;241;43m.\u001b[39;49m\u001b[43mshape\u001b[49m\u001b[43m[\u001b[49m\u001b[38;5;241;43m0\u001b[39;49m\u001b[43m]\u001b[49m\u001b[43m,\u001b[49m\u001b[43m \u001b[49m\u001b[38;5;28;43mself\u001b[39;49m\u001b[38;5;241;43m.\u001b[39;49m\u001b[43mmethod\u001b[49m\u001b[43m)\u001b[49m\n\u001b[1;32m    157\u001b[0m     m_pred, P_pred \u001b[38;5;241m=\u001b[39m \u001b[38;5;28mself\u001b[39m\u001b[38;5;241m.\u001b[39mpred_fn(m, P, \u001b[38;5;28mself\u001b[39m\u001b[38;5;241m.\u001b[39mdynamics_weights, dynamics_covariance, \n\u001b[1;32m    158\u001b[0m                                   \u001b[38;5;28mself\u001b[39m\u001b[38;5;241m.\u001b[39mdynamics_covariance_inflation_factor)\n\u001b[1;32m    159\u001b[0m     bel_pred \u001b[38;5;241m=\u001b[39m bel\u001b[38;5;241m.\u001b[39mreplace(\n\u001b[1;32m    160\u001b[0m         mean \u001b[38;5;241m=\u001b[39m m_pred,\n\u001b[1;32m    161\u001b[0m         cov \u001b[38;5;241m=\u001b[39m P_pred,\n\u001b[1;32m    162\u001b[0m     )\n",
      "File \u001b[0;32m~/documents/rebayes/rebayes/extended_kalman_filter/ekf.py:48\u001b[0m, in \u001b[0;36m_process_ekf_cov\u001b[0;34m(cov, P, method)\u001b[0m\n\u001b[1;32m     46\u001b[0m     \u001b[38;5;28;01mif\u001b[39;00m \u001b[38;5;28misinstance\u001b[39m(cov, \u001b[38;5;28mfloat\u001b[39m):\n\u001b[1;32m     47\u001b[0m         cov \u001b[38;5;241m=\u001b[39m cov \u001b[38;5;241m*\u001b[39m jnp\u001b[38;5;241m.\u001b[39meye(P)\n\u001b[0;32m---> 48\u001b[0m     \u001b[38;5;28;01melif\u001b[39;00m \u001b[43mcov\u001b[49m\u001b[38;5;241;43m.\u001b[39;49m\u001b[43mndim\u001b[49m \u001b[38;5;241m==\u001b[39m \u001b[38;5;241m1\u001b[39m:\n\u001b[1;32m     49\u001b[0m         cov \u001b[38;5;241m=\u001b[39m jnp\u001b[38;5;241m.\u001b[39mdiag(cov)\n\u001b[1;32m     50\u001b[0m \u001b[38;5;28;01melse\u001b[39;00m:\n",
      "\u001b[0;31mAttributeError\u001b[0m: 'tuple' object has no attribute 'ndim'"
     ]
    }
   ],
   "source": [
    "bel, outputs = agent.scan(\n",
    "    initial_mean=psubspace_init_flat,\n",
    "    initial_covariance=0.05,\n",
    "    X=X_train[:5000],\n",
    "    Y=y_train[:5000],\n",
    "    progress_bar=False,\n",
    ")\n",
    "\n",
    "bel = jax.block_until_ready(bel)"
   ]
  },
  {
   "cell_type": "code",
   "execution_count": 109,
   "id": "c526ca4c-642f-40c0-8bbc-37aad64c6720",
   "metadata": {
    "tags": []
   },
   "outputs": [
    {
     "data": {
      "text/plain": [
       "Array(0.098, dtype=float32)"
      ]
     },
     "execution_count": 109,
     "metadata": {},
     "output_type": "execute_result"
    }
   ],
   "source": [
    "yhat_test = agent.predict_obs(bel, X_test).argmax(axis=1)\n",
    "(yhat_test == y_test).mean()"
   ]
  }
 ],
 "metadata": {
  "kernelspec": {
   "display_name": "research",
   "language": "python",
   "name": "research"
  },
  "language_info": {
   "codemirror_mode": {
    "name": "ipython",
    "version": 3
   },
   "file_extension": ".py",
   "mimetype": "text/x-python",
   "name": "python",
   "nbconvert_exporter": "python",
   "pygments_lexer": "ipython3",
   "version": "3.10.12"
  }
 },
 "nbformat": 4,
 "nbformat_minor": 5
}
