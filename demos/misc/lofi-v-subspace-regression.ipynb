{
 "cells": [
  {
   "cell_type": "markdown",
   "id": "f2a8d5f7-a654-4430-883f-1dddc4801d0b",
   "metadata": {},
   "source": [
    "# LoFi v.s. subspaceEKF"
   ]
  },
  {
   "cell_type": "code",
   "execution_count": 115,
   "id": "164b7c86-177b-41e8-8b59-81b36800c9d3",
   "metadata": {
    "tags": []
   },
   "outputs": [],
   "source": [
    "import jax\n",
    "import einops\n",
    "import jax.numpy as jnp\n",
    "import flax.linen as nn\n",
    "from typing import Callable\n",
    "from rebayes.extended_kalman_filter import ekf\n",
    "from rebayes.low_rank_filter.subspace_filter import subcify\n",
    "from rebayes.low_rank_filter import lofi\n",
    "from rebayes.datasets.datasets import load_mnist"
   ]
  },
  {
   "cell_type": "code",
   "execution_count": 28,
   "id": "49397944-1e7c-4864-94dc-504cb72cd06a",
   "metadata": {
    "tags": []
   },
   "outputs": [
    {
     "name": "stdout",
     "output_type": "stream",
     "text": [
      "The autoreload extension is already loaded. To reload it, use:\n",
      "  %reload_ext autoreload\n"
     ]
    }
   ],
   "source": [
    "%load_ext autoreload\n",
    "%autoreload 2\n",
    "%config InlineBackend.figure_format = \"retina\""
   ]
  },
  {
   "cell_type": "code",
   "execution_count": 146,
   "id": "79df8b0e-e792-4d62-9792-81077ba74c4a",
   "metadata": {
    "tags": []
   },
   "outputs": [],
   "source": [
    "res = load_mnist()\n",
    "res = jax.tree_map(jnp.array, res)\n",
    "(X_train, y_train), (X_test, y_test) = res\n",
    "X_train = einops.rearrange(X_train, \"obs width height -> obs (width height)\")\n",
    "X_test = einops.rearrange(X_test, \"obs width height -> obs (width height)\")\n",
    "\n",
    "y_train_ohe = jax.nn.one_hot(y_train, 10)\n",
    "y_test_ohe = jax.nn.one_hot(y_test, 10)"
   ]
  },
  {
   "cell_type": "code",
   "execution_count": 147,
   "id": "797c1efa-07da-4ab2-a55c-32d82e0c86a3",
   "metadata": {
    "tags": []
   },
   "outputs": [],
   "source": [
    "class NNet(nn.Module):\n",
    "    activation: Callable = nn.elu\n",
    "    \n",
    "    @nn.compact\n",
    "    def __call__(self, x):\n",
    "        x = nn.Dense(300)(x)\n",
    "        x = self.activation(x)\n",
    "        x = nn.Dense(300)(x)\n",
    "        x = self.activation(x)\n",
    "        x = nn.Dense(100)(x)\n",
    "        x = self.activation(x)\n",
    "        x = nn.Dense(10)(x)\n",
    "        x = nn.softmax(x)\n",
    "        return x"
   ]
  },
  {
   "cell_type": "code",
   "execution_count": 148,
   "id": "230e8098-11ae-487a-bbc7-9b6b1f1ac82a",
   "metadata": {},
   "outputs": [],
   "source": [
    "key = jax.random.PRNGKey(314)\n",
    "model = NNet()\n",
    "params_init = model.init(key, X_train[:10])\n",
    "params_init_flat, _ = ravel_pytree(params_init)"
   ]
  },
  {
   "cell_type": "markdown",
   "id": "7bb12233-6f57-437d-b3d0-458a1eb7de69",
   "metadata": {},
   "source": [
    "## LoFi agent"
   ]
  },
  {
   "cell_type": "code",
   "execution_count": 150,
   "id": "bd6ce2bc-f466-4986-aaf8-c6ed1331a2ef",
   "metadata": {
    "tags": []
   },
   "outputs": [],
   "source": [
    "agent, recfn = lofi.init_classification_agent(\n",
    "    model,\n",
    "    X_train[:10],\n",
    "    dynamics_weights=1.0,\n",
    "    dynamics_covariance=1e-7,\n",
    "    memory_size=20,\n",
    ")"
   ]
  },
  {
   "cell_type": "code",
   "execution_count": 151,
   "id": "ef00bdd7-375b-48a2-8740-9841480abe37",
   "metadata": {
    "tags": []
   },
   "outputs": [],
   "source": [
    "bel, outputs = agent.scan(\n",
    "    initial_mean=params_init_flat,\n",
    "    initial_covariance=0.05,\n",
    "    X=X_train[:5000],\n",
    "    Y=y_train[:5000],\n",
    "    progress_bar=False,\n",
    ")\n",
    "\n",
    "bel = jax.block_until_ready(bel)"
   ]
  },
  {
   "cell_type": "code",
   "execution_count": 152,
   "id": "dc8cc796-482f-4a56-be91-65f1f152f346",
   "metadata": {
    "tags": []
   },
   "outputs": [
    {
     "data": {
      "text/plain": [
       "Array(0.1265, dtype=float32)"
      ]
     },
     "execution_count": 152,
     "metadata": {},
     "output_type": "execute_result"
    }
   ],
   "source": [
    "yhat_test = agent.predict_obs(bel, X_test).argmax(axis=1)\n",
    "(yhat_test == y_test).mean()"
   ]
  },
  {
   "cell_type": "markdown",
   "id": "67548f1d-a656-4685-a97c-09cc4160be78",
   "metadata": {},
   "source": [
    "## Subspace agent"
   ]
  },
  {
   "cell_type": "code",
   "execution_count": 227,
   "id": "a62b80c8-40f0-4427-9421-251cecb1faf4",
   "metadata": {
    "tags": []
   },
   "outputs": [],
   "source": [
    "SubNNet = subcify(NNet)\n",
    "dim_in = 28 ** 2\n",
    "\n",
    "model_sub = SubNNet(dim_in, dim_subspace=20)\n",
    "\n",
    "params_init = model_sub.init(key, X_train[:10])\n",
    "params_init_flat, _ = ravel_pytree(params_init)"
   ]
  },
  {
   "cell_type": "code",
   "execution_count": 228,
   "id": "cd9aaec1-a35c-4e6e-bb2e-bb71a2fa99c0",
   "metadata": {
    "tags": []
   },
   "outputs": [],
   "source": [
    "pfixed, psubspace_init = params_init[\"fixed\"], params_init[\"params\"]\n",
    "psubspace_init_flat, recfn = ravel_pytree(psubspace_init)"
   ]
  },
  {
   "cell_type": "code",
   "execution_count": 229,
   "id": "2dda1262-d803-428d-b08e-feb6bb0be7a8",
   "metadata": {
    "tags": []
   },
   "outputs": [],
   "source": [
    "def applyfn(psubspace, X):\n",
    "    pfull = {\n",
    "        \"fixed\": pfixed,\n",
    "        \"params\": psubspace\n",
    "    }\n",
    "    return model_sub.apply(pfull, X)"
   ]
  },
  {
   "cell_type": "code",
   "execution_count": 233,
   "id": "c0d54f13-ed88-4189-af1a-79929d791053",
   "metadata": {
    "tags": []
   },
   "outputs": [],
   "source": [
    "dynamics_weights=1.0\n",
    "dynamics_covariance=1e-7\n",
    "method=\"fcekf\"\n"
   ]
  },
  {
   "cell_type": "code",
   "execution_count": 246,
   "id": "75f9f591-64a5-4067-af50-08c24d633e27",
   "metadata": {
    "tags": []
   },
   "outputs": [],
   "source": [
    "def apply_fn(flat_params, x):\n",
    "    return applyfn(recfn(flat_params), x)\n",
    "\n",
    "def emission_cov_fn(flat_params, x, eps=1e-6):\n",
    "    p = apply_fn(flat_params, x)\n",
    "    return jnp.diag(p) - jnp.outer(p, p) + eps * jnp.eye(len(p))\n",
    "\n",
    "agent = ekf.RebayesEKF(\n",
    "    dynamics_weights_or_function=dynamics_weights,\n",
    "    dynamics_covariance=dynamics_covariance,\n",
    "    emission_mean_function=apply_fn,\n",
    "    emission_cov_function=emission_cov_fn,\n",
    "    adaptive_emission_cov=False,\n",
    "    emission_dist=lambda mean, cov: tfd.Normal(loc=mean, scale=jnp.sqrt(cov)),\n",
    "    method=method,\n",
    ")"
   ]
  },
  {
   "cell_type": "code",
   "execution_count": 251,
   "id": "d2c89eba-8493-4fe6-9efe-1c4bffa360be",
   "metadata": {
    "tags": []
   },
   "outputs": [],
   "source": [
    "bel, outputs = agent.scan(\n",
    "    initial_mean=psubspace_init_flat,\n",
    "    initial_covariance=0.05,\n",
    "    X=X_train[:5000],\n",
    "    Y=y_train[:5000],\n",
    "    progress_bar=False,\n",
    ")\n",
    "\n",
    "bel = jax.block_until_ready(bel)"
   ]
  },
  {
   "cell_type": "code",
   "execution_count": 252,
   "id": "48d71eb7-8814-4ea1-8062-a30ef9c8b86b",
   "metadata": {
    "tags": []
   },
   "outputs": [
    {
     "data": {
      "text/plain": [
       "Array(0.0971, dtype=float32)"
      ]
     },
     "execution_count": 252,
     "metadata": {},
     "output_type": "execute_result"
    }
   ],
   "source": [
    "yhat_test = apply_fn(bel.mean, X_test).argmax(axis=1)\n",
    "(yhat_test == y_test).mean()"
   ]
  }
 ],
 "metadata": {
  "kernelspec": {
   "display_name": "research",
   "language": "python",
   "name": "research"
  },
  "language_info": {
   "codemirror_mode": {
    "name": "ipython",
    "version": 3
   },
   "file_extension": ".py",
   "mimetype": "text/x-python",
   "name": "python",
   "nbconvert_exporter": "python",
   "pygments_lexer": "ipython3",
   "version": "3.10.12"
  }
 },
 "nbformat": 4,
 "nbformat_minor": 5
}
