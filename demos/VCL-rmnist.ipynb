{
 "cells": [
  {
   "cell_type": "markdown",
   "id": "b39e71b1-69e0-4ea3-88c6-2add37f02651",
   "metadata": {},
   "source": [
    "# (Coreset) Variational Continual Learning\n",
    "## Rotating MNIST"
   ]
  },
  {
   "cell_type": "code",
   "execution_count": 100,
   "id": "07bcb1ec-f434-40ff-a171-1763e8c3dcd0",
   "metadata": {},
   "outputs": [],
   "source": [
    "import jax\n",
    "import numpy as np\n",
    "import jax.numpy as jnp\n",
    "import flax.linen as nn\n",
    "import matplotlib.pyplot as plt\n",
    "from typing import Callable\n",
    "\n",
    "from dynamax.utils import datasets"
   ]
  },
  {
   "cell_type": "code",
   "execution_count": 5,
   "id": "3d8aa0a2-8049-422b-8f75-ece577c342a4",
   "metadata": {},
   "outputs": [],
   "source": [
    "from rebayes import variational_continual_learning as vcl"
   ]
  },
  {
   "cell_type": "code",
   "execution_count": 2,
   "id": "0f7880a7-c07f-4eb5-a086-7b1dbfe8306e",
   "metadata": {},
   "outputs": [],
   "source": [
    "%load_ext autoreload\n",
    "%autoreload 2\n",
    "\n",
    "%config InlineBackend.figure_format = \"retina\""
   ]
  },
  {
   "cell_type": "markdown",
   "id": "3bab29ed-915b-4b59-a388-c13b514a0939",
   "metadata": {},
   "source": [
    "## Load dataset"
   ]
  },
  {
   "cell_type": "code",
   "execution_count": 101,
   "id": "f2b912a7-52f3-4d5c-a428-0b2f46542097",
   "metadata": {},
   "outputs": [],
   "source": [
    "np.random.seed(314)\n",
    "num_train = 10_000\n",
    "\n",
    "train, test = datasets.load_rotated_mnist(target_digit=2)\n",
    "X_train, y_train = train\n",
    "X_test, y_test = test\n",
    "\n",
    "X_train = jnp.array(X_train)\n",
    "y_train = jnp.array(y_train)\n",
    "\n",
    "X = jnp.array(X_train)[:num_train]\n",
    "y = jnp.array(y_train)[:num_train]\n",
    "\n",
    "ix_sort = jnp.argsort(y)\n",
    "X = X[ix_sort]\n",
    "y = y[ix_sort]"
   ]
  },
  {
   "cell_type": "markdown",
   "id": "c7b40d2e-3a88-4748-8797-d97d13955a2f",
   "metadata": {},
   "source": [
    "## Setup"
   ]
  },
  {
   "cell_type": "code",
   "execution_count": 86,
   "id": "8ca806bd-3212-45d8-a440-3d35e53d4896",
   "metadata": {},
   "outputs": [],
   "source": [
    "class bMLP(nn.Module):\n",
    "    n_out: int = 2\n",
    "    activation = nn.relu\n",
    "    @nn.compact\n",
    "    def __call__(self, x):\n",
    "        # μ(i) and ρ(i) params\n",
    "        x = einops.repeat(x, \"... -> c ...\", c=2)\n",
    "        x = vcl.BatchDense(100)(x)\n",
    "        x = nn.relu(x)\n",
    "        x = vcl.BatchDense(10)(x)\n",
    "        x = nn.relu(x)\n",
    "        x = vcl.BatchDense(self.n_out)(x)\n",
    "        return x"
   ]
  },
  {
   "cell_type": "code",
   "execution_count": 93,
   "id": "dc580abc-e1c8-4ba0-83ee-4f3f5df2013e",
   "metadata": {},
   "outputs": [
    {
     "data": {
      "text/plain": [
       "FrozenDict({\n",
       "    params: {\n",
       "        VmapDense_0: {\n",
       "            bias: (2, 100),\n",
       "            kernel: (2, 784, 100),\n",
       "        },\n",
       "        VmapDense_1: {\n",
       "            bias: (2, 10),\n",
       "            kernel: (2, 100, 10),\n",
       "        },\n",
       "        VmapDense_2: {\n",
       "            bias: (2, 2),\n",
       "            kernel: (2, 10, 2),\n",
       "        },\n",
       "    },\n",
       "})"
      ]
     },
     "execution_count": 93,
     "metadata": {},
     "output_type": "execute_result"
    }
   ],
   "source": [
    "model = bMLP()\n",
    "key = jax.random.PRNGKey(314)\n",
    "batch = jnp.ones((1, dim_features))\n",
    "params_init = model.init(key, batch)\n",
    "\n",
    "jax.tree_map(jnp.shape, params_init)"
   ]
  },
  {
   "cell_type": "code",
   "execution_count": 96,
   "id": "bcd03ad5-9fdc-43e6-93cf-8b57d46c468f",
   "metadata": {},
   "outputs": [],
   "source": [
    "dim_features = 28 ** 2\n",
    "dim_output = 1\n",
    "buffer_size = 100\n",
    "learning_rate = 1e-3\n",
    "\n",
    "\n",
    "state_init = vcl.VCLState.create(\n",
    "    apply_fn=model.apply,\n",
    "    params=params_init,\n",
    "    tx=optax.adam(learning_rate),\n",
    "    buffer_size=buffer_size,\n",
    "    dim_features=dim_features,\n",
    "    dim_output=dim_output,\n",
    "    prior_mean=0.0,\n",
    "    prior_std=1/2,\n",
    ")"
   ]
  },
  {
   "cell_type": "code",
   "execution_count": 103,
   "id": "c0d41845-a5ff-429b-990b-e08da28d8804",
   "metadata": {},
   "outputs": [],
   "source": [
    "def cost_fn(params, state, X, y):\n",
    "    \"\"\"\n",
    "    TODO:\n",
    "    Add more general way to compute observation-model log-probability\n",
    "    \"\"\"\n",
    "    scale_obs = 1.0\n",
    "    scale_prior = state.prior_std\n",
    "    reconstruct_fn = state.reconstruct_fn\n",
    "    \n",
    "    # Sampled params\n",
    "    params = state.sample_params(key, state, reconstruct_fn)\n",
    "    params_flat = vcl.get_leaves(params)\n",
    "    \n",
    "    # Prior log probability (use initialised vals for mean?)\n",
    "    logp_prior = distrax.Normal(loc=0.0, scale=scale_prior).log_prob(params_flat).sum()\n",
    "    \n",
    "    # Observation log-probability\n",
    "    mu_obs = state.apply_fn(params, X).ravel()\n",
    "    logp_obs = distrax.Normal(loc=mu_obs, scale=scale_obs).log_prob(y).sum()\n",
    "\n",
    "    # Variational log-probability\n",
    "    logp_variational = jax.tree_map(\n",
    "        lambda mean, logvar, x: distrax.Normal(loc=mean, scale=jnp.exp(logvar / 2)).log_prob(x),\n",
    "        state.mean, state.logvar, params\n",
    "    )\n",
    "    logp_variational = bbb.get_leaves(logp_variational).sum()\n",
    "    \n",
    "    return logp_variational - logp_prior - logp_obs"
   ]
  },
  {
   "cell_type": "code",
   "execution_count": null,
   "id": "d0c187d0-b699-4111-9000-0108a2054782",
   "metadata": {},
   "outputs": [],
   "source": [
    "cost_fn(state_init.params, state_init, X_test, y_test)"
   ]
  }
 ],
 "metadata": {
  "kernelspec": {
   "display_name": "Python 3 (ipykernel)",
   "language": "python",
   "name": "python3"
  },
  "language_info": {
   "codemirror_mode": {
    "name": "ipython",
    "version": 3
   },
   "file_extension": ".py",
   "mimetype": "text/x-python",
   "name": "python",
   "nbconvert_exporter": "python",
   "pygments_lexer": "ipython3",
   "version": "3.10.8"
  }
 },
 "nbformat": 4,
 "nbformat_minor": 5
}
