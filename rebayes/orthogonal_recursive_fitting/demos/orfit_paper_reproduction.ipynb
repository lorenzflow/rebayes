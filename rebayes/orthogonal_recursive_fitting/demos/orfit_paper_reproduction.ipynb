{
 "cells": [
  {
   "cell_type": "code",
   "execution_count": null,
   "metadata": {},
   "outputs": [],
   "source": []
  }
 ],
 "metadata": {
  "kernelspec": {
   "display_name": ".venv",
   "language": "python",
   "name": "python3"
  },
  "language_info": {
   "name": "python",
   "version": "3.10.6"
  },
  "orig_nbformat": 4,
  "vscode": {
   "interpreter": {
    "hash": "ddc36338f20b41c2a5b03e291bb75a05f8064568088d79f203dd5e4796c7ff0e"
   }
  }
 },
 "nbformat": 4,
 "nbformat_minor": 2
}
