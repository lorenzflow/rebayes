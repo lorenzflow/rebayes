{
 "cells": [
  {
   "attachments": {},
   "cell_type": "markdown",
   "metadata": {},
   "source": [
    "# Rotating MNIST with Mixed Digits"
   ]
  },
  {
   "attachments": {},
   "cell_type": "markdown",
   "metadata": {},
   "source": [
    "# 0. Imports"
   ]
  },
  {
   "cell_type": "code",
   "execution_count": 1,
   "metadata": {},
   "outputs": [
    {
     "name": "stderr",
     "output_type": "stream",
     "text": [
      "2023-02-12 12:26:34.710177: W tensorflow/compiler/xla/stream_executor/platform/default/dso_loader.cc:64] Could not load dynamic library 'libcudart.so.11.0'; dlerror: libcudart.so.11.0: cannot open shared object file: No such file or directory; LD_LIBRARY_PATH: :/usr/local/lib\n",
      "2023-02-12 12:26:35.380020: W tensorflow/compiler/xla/stream_executor/platform/default/dso_loader.cc:64] Could not load dynamic library 'libnvinfer.so.7'; dlerror: libnvinfer.so.7: cannot open shared object file: No such file or directory; LD_LIBRARY_PATH: :/usr/local/lib\n",
      "2023-02-12 12:26:35.380134: W tensorflow/compiler/xla/stream_executor/platform/default/dso_loader.cc:64] Could not load dynamic library 'libnvinfer_plugin.so.7'; dlerror: libnvinfer_plugin.so.7: cannot open shared object file: No such file or directory; LD_LIBRARY_PATH: :/usr/local/lib\n",
      "2023-02-12 12:26:35.380144: W tensorflow/compiler/tf2tensorrt/utils/py_utils.cc:38] TF-TRT Warning: Cannot dlopen some TensorRT libraries. If you would like to use Nvidia GPU with TensorRT, please make sure the missing libraries mentioned above are installed properly.\n",
      "/home/peter0414/rebayes/.rebayes_venv/lib/python3.8/site-packages/tqdm/auto.py:22: TqdmWarning: IProgress not found. Please update jupyter and ipywidgets. See https://ipywidgets.readthedocs.io/en/stable/user_install.html\n",
      "  from .autonotebook import tqdm as notebook_tqdm\n"
     ]
    }
   ],
   "source": [
    "from typing import Sequence\n",
    "from functools import partial\n",
    "\n",
    "import numpy as np\n",
    "import matplotlib.pyplot as plt\n",
    "import jax\n",
    "import jax.numpy as jnp\n",
    "import jax.random as jr\n",
    "from jax import jacrev, vmap, jit\n",
    "from jax.lax import scan, cond\n",
    "from jax.flatten_util import ravel_pytree\n",
    "import flax.linen as nn\n",
    "from flax.training import train_state\n",
    "from tqdm import trange\n",
    "import optax\n",
    "from bayes_opt import BayesianOptimization\n",
    "\n",
    "from rebayes.utils.utils import MLP, get_mlp_flattened_params\n",
    "from rebayes.utils import datasets\n",
    "from dynamax.generalized_gaussian_ssm.models import ParamsGGSSM\n",
    "from dynamax.generalized_gaussian_ssm.inference import EKFIntegrals, conditional_moments_gaussian_filter\n",
    "from rebayes.orthogonal_recursive_filter.orfit import RebayesORFit\n",
    "from rebayes.orthogonal_recursive_filter.orfit_inference import ORFitParams\n",
    "from rebayes.base import RebayesParams"
   ]
  },
  {
   "cell_type": "code",
   "execution_count": 42,
   "metadata": {},
   "outputs": [],
   "source": [
    "def plot_results(ax, result_dict, title, legend_loc=None):\n",
    "    for key, val in result_dict.items():\n",
    "        ax.plot(val['rmse'], color=val['color'], ls=val['ls'], label=key)\n",
    "        ax.fill_between(\n",
    "            jnp.arange(val['rmse'].shape[0]),\n",
    "            val['rmse'] - 10*val['rmse_std'],\n",
    "            val['rmse'] + 10*val['rmse_std'],\n",
    "            alpha=0.1, color=val['color']\n",
    "        )\n",
    "\n",
    "    if legend_loc is not None:\n",
    "        ax.legend(loc=legend_loc)\n",
    "    ax.grid()\n",
    "    ax.set_xlim(0, 2000)\n",
    "    ax.set_ylim(0, 150)\n",
    "    ax.set_xlabel('Training Steps (samples)')\n",
    "    ax.set_ylabel('RMSE (deg)')\n",
    "    ax.set_title(title)\n",
    "\n",
    "    return ax"
   ]
  },
  {
   "cell_type": "code",
   "execution_count": 33,
   "metadata": {},
   "outputs": [],
   "source": [
    "@partial(jit, static_argnums=(0,))\n",
    "def compute_orfit_ppd_moments(apply_fn, x_to_pred, post_mean, post_basis):\n",
    "    apply = lambda w: apply_fn(w, x_to_pred)\n",
    "\n",
    "    # Compute posterior predictive mean\n",
    "    pred_mean = apply(post_mean)\n",
    "\n",
    "    # Compute posterior predictive covariance\n",
    "    F = jacrev(apply)(post_mean)\n",
    "    FU = F @ post_basis\n",
    "    pred_cov = F @ F.T - FU @ FU.T\n",
    "\n",
    "    return pred_mean, pred_cov"
   ]
  },
  {
   "attachments": {},
   "cell_type": "markdown",
   "metadata": {},
   "source": [
    "# 1. Load Dataset"
   ]
  },
  {
   "cell_type": "code",
   "execution_count": 4,
   "metadata": {},
   "outputs": [],
   "source": [
    "# Load rotated MNIST dataset\n",
    "np.random.seed(314)\n",
    "num_train = 2_000\n",
    "num_test = 2_000\n",
    "\n",
    "train, test = datasets.load_rotated_mnist()\n",
    "X_train, y_train = train\n",
    "X_test, y_test = test\n",
    "\n",
    "X_train = jnp.array(X_train)\n",
    "y_train = jnp.array(y_train)\n",
    "\n",
    "idx = jr.choice(jr.PRNGKey(0), X_train.shape[0], shape=(num_train,), replace=False)\n",
    "# X_train = jnp.array(X_train)[:num_train]\n",
    "# y_train = jnp.array(y_train)[:num_train]\n",
    "X_train = jnp.array(X_train)[idx]\n",
    "y_train = jnp.array(y_train)[idx]\n",
    "\n",
    "test_idx = jr.choice(jr.PRNGKey(0), X_test.shape[0], shape=(num_test,), replace=False)\n",
    "X_test = jnp.array(X_test)[test_idx]\n",
    "y_test = jnp.array(y_test)[test_idx]\n",
    "\n",
    "ix_sort = jnp.argsort(y_train)\n",
    "X_train_inc = X_train[ix_sort]\n",
    "y_train_inc = y_train[ix_sort]\n",
    "\n",
    "X_train = (X_train - X_train.mean()) / X_train.std()\n",
    "X_test = (X_test - X_test.mean()) / X_test.std()\n",
    "\n",
    "X_train_inc = (X_train_inc - X_train_inc.mean()) / X_train_inc.std()"
   ]
  },
  {
   "attachments": {},
   "cell_type": "markdown",
   "metadata": {},
   "source": [
    "# 2. LoFi Helper Functions"
   ]
  },
  {
   "cell_type": "code",
   "execution_count": 18,
   "metadata": {},
   "outputs": [],
   "source": [
    "def orfit_experiment(model_dims, key, memory_size, init_cov=None, dynamics_weights=None, emission_cov=None, method='orfit'):\n",
    "    # Random initialization\n",
    "    _, params, _, apply_fn = get_mlp_flattened_params(model_dims, key=key)\n",
    "    model_params = RebayesParams(\n",
    "        initial_mean=params,\n",
    "        initial_covariance=init_cov,\n",
    "        dynamics_weights=dynamics_weights,\n",
    "        dynamics_covariance=None,\n",
    "        emission_mean_function=apply_fn,\n",
    "        emission_cov_function=lambda w, x: emission_cov,\n",
    "    )\n",
    "    orfit_params = ORFitParams(\n",
    "        memory_size=memory_size,\n",
    "        sv_threshold=0.0\n",
    "    )\n",
    "    estimator = RebayesORFit(model_params, orfit_params, method=method)\n",
    "\n",
    "    train_rmses, test_rmses = [], []\n",
    "\n",
    "    bel = estimator.init_bel()\n",
    "    for i in trange(X_train_inc.shape[0]):\n",
    "        # Update params\n",
    "        bel = estimator.predict_state(bel)\n",
    "        bel = estimator.update_state(bel, X_train_inc[i], y_train_inc[i])\n",
    "\n",
    "        # Train RMSE\n",
    "        y_train_pred = vmap(jit(apply_fn), (None, 0))(bel.mean, X_train_inc).squeeze()\n",
    "        train_rmse = jnp.sqrt(((y_train_pred - y_train_inc)**2).mean())\n",
    "        train_rmses.append(train_rmse)\n",
    "\n",
    "        # Test RMSE\n",
    "        y_test_pred = vmap(jit(apply_fn), (None, 0))(bel.mean, X_test).squeeze()\n",
    "        test_rmse = jnp.sqrt(((y_test_pred - y_test)**2).mean())\n",
    "        test_rmses.append(test_rmse)\n",
    "    \n",
    "    return jnp.array(train_rmses), jnp.array(test_rmses)"
   ]
  },
  {
   "attachments": {},
   "cell_type": "markdown",
   "metadata": {},
   "source": [
    "# 3. Experiments"
   ]
  },
  {
   "attachments": {},
   "cell_type": "markdown",
   "metadata": {},
   "source": [
    "## 3.1 ORFit-Linear (Memory Size 50)"
   ]
  },
  {
   "cell_type": "code",
   "execution_count": 21,
   "metadata": {},
   "outputs": [
    {
     "name": "stderr",
     "output_type": "stream",
     "text": [
      "100%|██████████| 2000/2000 [00:20<00:00, 97.24it/s] \n"
     ]
    }
   ],
   "source": [
    "# Define Linear Regression as single layer perceptron\n",
    "input_dim, hidden_dims, output_dim = 784, [], 1\n",
    "model_dims_lr = [input_dim, *hidden_dims, output_dim]\n",
    "\n",
    "# Run 10 Iterations\n",
    "keys = jr.split(jr.PRNGKey(0), 10)\n",
    "curr_experiment = lambda key: orfit_experiment(model_dims_lr, key, 50)\n",
    "orfit_train_rmses, orfit_test_rmses = vmap(curr_experiment)(keys)\n",
    "\n",
    "# Compute mean and std over 10 iterations\n",
    "orfit_train_rmse, orfit_train_std = orfit_train_rmses.mean(axis=0), orfit_train_rmses.std(axis=0)\n",
    "orfit_test_rmse, orfit_test_std = orfit_test_rmses.mean(axis=0), orfit_test_rmses.std(axis=0)"
   ]
  },
  {
   "cell_type": "code",
   "execution_count": 34,
   "metadata": {},
   "outputs": [
    {
     "data": {
      "image/png": "[encoded data removed]",
      "text/plain": [
       "<Figure size 640x480 with 1 Axes>"
      ]
     },
     "metadata": {},
     "output_type": "display_data"
    }
   ],
   "source": [
    "fig, ax = plt.subplots()\n",
    "orfit_result_dict = {\n",
    "    'ORFit Train': {\n",
    "        'rmse': orfit_train_rmse,\n",
    "        'rmse_std': orfit_train_std,\n",
    "        'color': 'r',\n",
    "        'ls': '--',\n",
    "    },\n",
    "    'ORFit Test': {\n",
    "        'rmse': orfit_test_rmse,\n",
    "        'rmse_std': orfit_test_std,\n",
    "        'color': 'r',\n",
    "        'ls': '-',\n",
    "    }\n",
    "}\n",
    "ax = plot_results(ax, orfit_result_dict, 'ORFit Train/Test Error', legend_loc=1)"
   ]
  },
  {
   "attachments": {},
   "cell_type": "markdown",
   "metadata": {},
   "source": [
    "## 3.2 ORFit-Non Linear"
   ]
  },
  {
   "cell_type": "code",
   "execution_count": 23,
   "metadata": {},
   "outputs": [
    {
     "name": "stderr",
     "output_type": "stream",
     "text": [
      "100%|██████████| 2000/2000 [00:27<00:00, 72.07it/s] \n"
     ]
    }
   ],
   "source": [
    "# Define Non Linear Model\n",
    "model_dims_nl = [784, 100, 100, 1]\n",
    "\n",
    "# Run 10 Iterations\n",
    "keys = jr.split(jr.PRNGKey(0), 10)\n",
    "curr_experiment = lambda key: orfit_experiment(model_dims_nl, key, 50)\n",
    "nl_orfit_train_rmses, nl_orfit_test_rmses = vmap(curr_experiment)(keys)\n",
    "\n",
    "# Compute mean and std over 10 iterations\n",
    "nl_orfit_train_rmse, nl_orfit_train_std = nl_orfit_train_rmses.mean(axis=0), nl_orfit_train_rmses.std(axis=0)\n",
    "nl_orfit_test_rmse, nl_orfit_test_std = nl_orfit_test_rmses.mean(axis=0), nl_orfit_test_rmses.std(axis=0)"
   ]
  },
  {
   "cell_type": "code",
   "execution_count": 35,
   "metadata": {},
   "outputs": [
    {
     "data": {
      "image/png": "[encoded data removed]",
      "text/plain": [
       "<Figure size 640x480 with 1 Axes>"
      ]
     },
     "metadata": {},
     "output_type": "display_data"
    }
   ],
   "source": [
    "fig, ax = plt.subplots()\n",
    "nl_orfit_result_dict = {\n",
    "    'ORFit-NL Train': {\n",
    "        'rmse': nl_orfit_train_rmse,\n",
    "        'rmse_std': nl_orfit_train_std,\n",
    "        'color': 'b',\n",
    "        'ls': '--',\n",
    "    },\n",
    "    'ORFit-NL Test': {\n",
    "        'rmse': nl_orfit_test_rmse,\n",
    "        'rmse_std': nl_orfit_test_std,\n",
    "        'color': 'b',\n",
    "        'ls': '-',\n",
    "    }\n",
    "}\n",
    "ax = plot_results(ax, nl_orfit_result_dict, 'ORFit-NL Train/Test Error', legend_loc=1)"
   ]
  },
  {
   "attachments": {},
   "cell_type": "markdown",
   "metadata": {},
   "source": [
    "## 3.3 LoFi"
   ]
  },
  {
   "attachments": {},
   "cell_type": "markdown",
   "metadata": {},
   "source": [
    "### 3.3.1 Hyperparameter Tuning"
   ]
  },
  {
   "cell_type": "code",
   "execution_count": 25,
   "metadata": {},
   "outputs": [],
   "source": [
    "model_dims_nl = [784, 100, 100, 1]\n",
    "_, flat_params, _, apply_fn_rmnist = get_mlp_flattened_params(model_dims_nl)\n",
    "apply_fn_rmnist = jit(apply_fn_rmnist)\n",
    "\n",
    "def bayesian_orfit_opt_fn(log_init_cov, dynamics_weights, log_emission_cov, memory_size, method='generalized_orfit'):\n",
    "    model_params_linear = RebayesParams(\n",
    "        initial_mean=flat_params,\n",
    "        initial_covariance=jnp.power(10, log_init_cov).item(),\n",
    "        dynamics_weights=dynamics_weights,\n",
    "        dynamics_covariance=None,\n",
    "        emission_mean_function=apply_fn_rmnist,\n",
    "        emission_cov_function=lambda w, x: jnp.power(10, log_emission_cov),\n",
    "    )\n",
    "    orfit_params_linear = ORFitParams(\n",
    "        memory_size=memory_size,\n",
    "        sv_threshold=0.0\n",
    "    )\n",
    "    estimator = RebayesORFit(model_params_linear, orfit_params_linear, method=method)\n",
    "\n",
    "    bel = estimator.init_bel()\n",
    "    bel, _ = estimator.scan(X_train_inc, y_train_inc)\n",
    "\n",
    "    # Test RMSE\n",
    "    y_test_pred = vmap(apply_fn_rmnist, (None, 0))(bel.mean, X_test).squeeze()\n",
    "    test_rmse = jnp.sqrt(((y_test_pred - y_test)**2).mean())\n",
    "    if jnp.isnan(test_rmse):\n",
    "        return -1e3\n",
    "\n",
    "    return max(-test_rmse, -1e3)"
   ]
  },
  {
   "cell_type": "code",
   "execution_count": 48,
   "metadata": {},
   "outputs": [],
   "source": [
    "bayesian_orfit_optimizer = BayesianOptimization(\n",
    "    f=partial(bayesian_orfit_opt_fn, memory_size=50),\n",
    "    pbounds={\n",
    "        'log_init_cov': (-7.0, 0.0),\n",
    "        'dynamics_weights': (0.1, 1.0),\n",
    "        'log_emission_cov': (-7.0, 0.0),\n",
    "    },\n",
    "    verbose=0,\n",
    ")"
   ]
  },
  {
   "cell_type": "code",
   "execution_count": 50,
   "metadata": {},
   "outputs": [],
   "source": [
    "# bayesian_orfit_optimizer.maximize(\n",
    "#     init_points=150,\n",
    "#     n_iter=150,\n",
    "# )"
   ]
  },
  {
   "cell_type": "code",
   "execution_count": 28,
   "metadata": {},
   "outputs": [
    {
     "name": "stdout",
     "output_type": "stream",
     "text": [
      "{'target': -57.52256393432617, 'params': {'dynamics_weights': 0.8702147709259291, 'log_emission_cov': -3.4351845654179356, 'log_init_cov': -2.4164538621498117}}\n"
     ]
    }
   ],
   "source": [
    "# 'dynamics_weights': 0.8702147709259291, 'log_emission_cov': -3.4351845654179356, 'log_init_cov': -2.4164538621498117\n",
    "print(bayesian_orfit_optimizer.max)"
   ]
  },
  {
   "attachments": {},
   "cell_type": "markdown",
   "metadata": {},
   "source": [
    "### 3.3.2 Results"
   ]
  },
  {
   "cell_type": "code",
   "execution_count": 29,
   "metadata": {},
   "outputs": [
    {
     "name": "stderr",
     "output_type": "stream",
     "text": [
      "100%|██████████| 2000/2000 [00:39<00:00, 50.41it/s]\n"
     ]
    }
   ],
   "source": [
    "model_dims_nl = [784, 100, 100, 1]\n",
    "tuned_params = {\n",
    "    'init_cov': jnp.power(10, -2.4164538621498117).item(),\n",
    "    'dynamics_weights': 0.8702147709259291,\n",
    "    'emission_cov': jnp.power(10, -3.4351845654179356)\n",
    "}\n",
    "\n",
    "# Run 10 Iterations\n",
    "keys = jr.split(jr.PRNGKey(0), 10)\n",
    "curr_experiment = lambda key: orfit_experiment(model_dims_nl, key, memory_size=50, **tuned_params, method='generalized_orfit')\n",
    "lofi_train_rmses, lofi_test_rmses = vmap(curr_experiment)(keys)\n",
    "\n",
    "# Compute mean and std over 10 iterations\n",
    "lofi_train_rmse, lofi_train_std = lofi_train_rmses.mean(axis=0), lofi_train_rmses.std(axis=0)\n",
    "lofi_test_rmse, lofi_test_std = lofi_test_rmses.mean(axis=0), lofi_test_rmses.std(axis=0)"
   ]
  },
  {
   "cell_type": "code",
   "execution_count": 37,
   "metadata": {},
   "outputs": [
    {
     "data": {
      "image/png": "[encoded data removed]",
      "text/plain": [
       "<Figure size 640x480 with 1 Axes>"
      ]
     },
     "metadata": {},
     "output_type": "display_data"
    }
   ],
   "source": [
    "fig, ax = plt.subplots()\n",
    "lofi_result_dict = {\n",
    "    'LoFi Train': {\n",
    "        'rmse': lofi_train_rmse,\n",
    "        'rmse_std': lofi_train_std,\n",
    "        'color': 'c',\n",
    "        'ls': '--',\n",
    "    },\n",
    "    'LoFi Test': {\n",
    "        'rmse': lofi_test_rmse,\n",
    "        'rmse_std': lofi_test_std,\n",
    "        'color': 'c',\n",
    "        'ls': '-',\n",
    "    }\n",
    "}\n",
    "ax = plot_results(ax, lofi_result_dict, 'LoFi Train/Test Error', legend_loc=1)"
   ]
  },
  {
   "attachments": {},
   "cell_type": "markdown",
   "metadata": {},
   "source": [
    "## 3.4 AOV LoFi"
   ]
  },
  {
   "attachments": {},
   "cell_type": "markdown",
   "metadata": {},
   "source": [
    "### 3.4.1 Hyperparameter Optimization"
   ]
  },
  {
   "cell_type": "code",
   "execution_count": 40,
   "metadata": {},
   "outputs": [],
   "source": [
    "aov_lofi_optimizer = BayesianOptimization(\n",
    "    f=partial(bayesian_orfit_opt_fn, memory_size=50, log_emission_cov=None, method='generalized_orfit_adaptive_obs_var'),\n",
    "    pbounds={\n",
    "        'log_init_cov': (-7.0, 0.0),\n",
    "        'dynamics_weights': (0.1, 1.0),\n",
    "    }\n",
    ")"
   ]
  },
  {
   "cell_type": "code",
   "execution_count": 41,
   "metadata": {},
   "outputs": [
    {
     "name": "stdout",
     "output_type": "stream",
     "text": [
      "|   iter    |  target   | dynami... | log_in... |\n",
      "-------------------------------------------------\n"
     ]
    },
    {
     "name": "stderr",
     "output_type": "stream",
     "text": [
      "Running for 2,000 iterations: 100%|██████████| 2000/2000 [00:04<00:00, 463.24it/s]\n"
     ]
    },
    {
     "name": "stdout",
     "output_type": "stream",
     "text": [
      "| \u001b[0m1        \u001b[0m | \u001b[0m-59.69   \u001b[0m | \u001b[0m0.7918   \u001b[0m | \u001b[0m-2.888   \u001b[0m |\n"
     ]
    },
    {
     "name": "stderr",
     "output_type": "stream",
     "text": [
      "Running for 2,000 iterations: 100%|██████████| 2000/2000 [00:04<00:00, 461.11it/s]\n"
     ]
    },
    {
     "name": "stdout",
     "output_type": "stream",
     "text": [
      "| \u001b[95m2        \u001b[0m | \u001b[95m-59.36   \u001b[0m | \u001b[95m0.7303   \u001b[0m | \u001b[95m-1.111   \u001b[0m |\n"
     ]
    },
    {
     "name": "stderr",
     "output_type": "stream",
     "text": [
      "Running for 2,000 iterations: 100%|██████████| 2000/2000 [00:04<00:00, 467.09it/s]\n"
     ]
    },
    {
     "name": "stdout",
     "output_type": "stream",
     "text": [
      "| \u001b[0m3        \u001b[0m | \u001b[0m-62.59   \u001b[0m | \u001b[0m0.5396   \u001b[0m | \u001b[0m-0.1456  \u001b[0m |\n"
     ]
    },
    {
     "name": "stderr",
     "output_type": "stream",
     "text": [
      "Running for 2,000 iterations: 100%|██████████| 2000/2000 [00:04<00:00, 462.91it/s]\n"
     ]
    },
    {
     "name": "stdout",
     "output_type": "stream",
     "text": [
      "| \u001b[95m4        \u001b[0m | \u001b[95m-59.11   \u001b[0m | \u001b[95m0.7544   \u001b[0m | \u001b[95m-0.002956\u001b[0m |\n"
     ]
    },
    {
     "name": "stderr",
     "output_type": "stream",
     "text": [
      "Running for 2,000 iterations: 100%|██████████| 2000/2000 [00:04<00:00, 492.07it/s]\n"
     ]
    },
    {
     "name": "stdout",
     "output_type": "stream",
     "text": [
      "| \u001b[0m5        \u001b[0m | \u001b[0m-104.0   \u001b[0m | \u001b[0m0.7535   \u001b[0m | \u001b[0m-5.585   \u001b[0m |\n"
     ]
    },
    {
     "name": "stderr",
     "output_type": "stream",
     "text": [
      "Running for 2,000 iterations: 100%|██████████| 2000/2000 [00:04<00:00, 493.63it/s]\n"
     ]
    },
    {
     "name": "stdout",
     "output_type": "stream",
     "text": [
      "| \u001b[0m6        \u001b[0m | \u001b[0m-104.0   \u001b[0m | \u001b[0m0.2903   \u001b[0m | \u001b[0m-4.85    \u001b[0m |\n"
     ]
    },
    {
     "name": "stderr",
     "output_type": "stream",
     "text": [
      "Running for 2,000 iterations: 100%|██████████| 2000/2000 [00:04<00:00, 448.02it/s]\n"
     ]
    },
    {
     "name": "stdout",
     "output_type": "stream",
     "text": [
      "| \u001b[0m7        \u001b[0m | \u001b[0m-67.16   \u001b[0m | \u001b[0m0.9211   \u001b[0m | \u001b[0m-1.668   \u001b[0m |\n"
     ]
    },
    {
     "name": "stderr",
     "output_type": "stream",
     "text": [
      "Running for 2,000 iterations: 100%|██████████| 2000/2000 [00:03<00:00, 502.97it/s]\n"
     ]
    },
    {
     "name": "stdout",
     "output_type": "stream",
     "text": [
      "| \u001b[0m8        \u001b[0m | \u001b[0m-104.0   \u001b[0m | \u001b[0m0.2329   \u001b[0m | \u001b[0m-6.092   \u001b[0m |\n"
     ]
    },
    {
     "name": "stderr",
     "output_type": "stream",
     "text": [
      "Running for 2,000 iterations: 100%|██████████| 2000/2000 [00:04<00:00, 479.63it/s]\n"
     ]
    },
    {
     "name": "stdout",
     "output_type": "stream",
     "text": [
      "| \u001b[0m9        \u001b[0m | \u001b[0m-103.9   \u001b[0m | \u001b[0m0.803    \u001b[0m | \u001b[0m-3.997   \u001b[0m |\n"
     ]
    },
    {
     "name": "stderr",
     "output_type": "stream",
     "text": [
      "Running for 2,000 iterations: 100%|██████████| 2000/2000 [00:04<00:00, 467.03it/s]\n"
     ]
    },
    {
     "name": "stdout",
     "output_type": "stream",
     "text": [
      "| \u001b[0m10       \u001b[0m | \u001b[0m-449.7   \u001b[0m | \u001b[0m0.2621   \u001b[0m | \u001b[0m-1.606   \u001b[0m |\n"
     ]
    },
    {
     "name": "stderr",
     "output_type": "stream",
     "text": [
      "Running for 2,000 iterations: 100%|██████████| 2000/2000 [00:04<00:00, 472.98it/s]\n"
     ]
    },
    {
     "name": "stdout",
     "output_type": "stream",
     "text": [
      "| \u001b[0m11       \u001b[0m | \u001b[0m-103.3   \u001b[0m | \u001b[0m0.391    \u001b[0m | \u001b[0m-2.489   \u001b[0m |\n"
     ]
    },
    {
     "name": "stderr",
     "output_type": "stream",
     "text": [
      "Running for 2,000 iterations: 100%|██████████| 2000/2000 [00:04<00:00, 459.23it/s]\n"
     ]
    },
    {
     "name": "stdout",
     "output_type": "stream",
     "text": [
      "| \u001b[0m12       \u001b[0m | \u001b[0m-63.73   \u001b[0m | \u001b[0m0.8858   \u001b[0m | \u001b[0m-0.6782  \u001b[0m |\n"
     ]
    },
    {
     "name": "stderr",
     "output_type": "stream",
     "text": [
      "Running for 2,000 iterations: 100%|██████████| 2000/2000 [00:04<00:00, 494.29it/s]\n"
     ]
    },
    {
     "name": "stdout",
     "output_type": "stream",
     "text": [
      "| \u001b[0m13       \u001b[0m | \u001b[0m-104.0   \u001b[0m | \u001b[0m0.7168   \u001b[0m | \u001b[0m-6.308   \u001b[0m |\n"
     ]
    },
    {
     "name": "stderr",
     "output_type": "stream",
     "text": [
      "Running for 2,000 iterations: 100%|██████████| 2000/2000 [00:04<00:00, 486.61it/s]\n"
     ]
    },
    {
     "name": "stdout",
     "output_type": "stream",
     "text": [
      "| \u001b[0m14       \u001b[0m | \u001b[0m-104.0   \u001b[0m | \u001b[0m0.4144   \u001b[0m | \u001b[0m-5.064   \u001b[0m |\n"
     ]
    },
    {
     "name": "stderr",
     "output_type": "stream",
     "text": [
      "Running for 2,000 iterations: 100%|██████████| 2000/2000 [00:04<00:00, 469.29it/s]\n"
     ]
    },
    {
     "name": "stdout",
     "output_type": "stream",
     "text": [
      "| \u001b[0m15       \u001b[0m | \u001b[0m-65.2    \u001b[0m | \u001b[0m0.3751   \u001b[0m | \u001b[0m-0.6729  \u001b[0m |\n"
     ]
    },
    {
     "name": "stderr",
     "output_type": "stream",
     "text": [
      "Running for 2,000 iterations: 100%|██████████| 2000/2000 [00:04<00:00, 495.09it/s]\n"
     ]
    },
    {
     "name": "stdout",
     "output_type": "stream",
     "text": [
      "| \u001b[0m16       \u001b[0m | \u001b[0m-104.0   \u001b[0m | \u001b[0m0.648    \u001b[0m | \u001b[0m-6.299   \u001b[0m |\n"
     ]
    },
    {
     "name": "stderr",
     "output_type": "stream",
     "text": [
      "Running for 2,000 iterations: 100%|██████████| 2000/2000 [00:04<00:00, 468.88it/s]\n"
     ]
    },
    {
     "name": "stdout",
     "output_type": "stream",
     "text": [
      "| \u001b[0m17       \u001b[0m | \u001b[0m-794.2   \u001b[0m | \u001b[0m0.2817   \u001b[0m | \u001b[0m-1.121   \u001b[0m |\n"
     ]
    },
    {
     "name": "stderr",
     "output_type": "stream",
     "text": [
      "Running for 2,000 iterations: 100%|██████████| 2000/2000 [00:04<00:00, 480.85it/s]\n"
     ]
    },
    {
     "name": "stdout",
     "output_type": "stream",
     "text": [
      "| \u001b[0m18       \u001b[0m | \u001b[0m-103.8   \u001b[0m | \u001b[0m0.8272   \u001b[0m | \u001b[0m-3.772   \u001b[0m |\n"
     ]
    },
    {
     "name": "stderr",
     "output_type": "stream",
     "text": [
      "Running for 2,000 iterations: 100%|██████████| 2000/2000 [00:04<00:00, 459.95it/s]\n"
     ]
    },
    {
     "name": "stdout",
     "output_type": "stream",
     "text": [
      "| \u001b[0m19       \u001b[0m | \u001b[0m-59.41   \u001b[0m | \u001b[0m0.7733   \u001b[0m | \u001b[0m-2.366   \u001b[0m |\n"
     ]
    },
    {
     "name": "stderr",
     "output_type": "stream",
     "text": [
      "Running for 2,000 iterations: 100%|██████████| 2000/2000 [00:04<00:00, 461.44it/s]\n"
     ]
    },
    {
     "name": "stdout",
     "output_type": "stream",
     "text": [
      "| \u001b[0m20       \u001b[0m | \u001b[0m-73.25   \u001b[0m | \u001b[0m0.9622   \u001b[0m | \u001b[0m-3.109   \u001b[0m |\n"
     ]
    },
    {
     "name": "stderr",
     "output_type": "stream",
     "text": [
      "Running for 2,000 iterations: 100%|██████████| 2000/2000 [00:03<00:00, 500.95it/s]\n"
     ]
    },
    {
     "name": "stdout",
     "output_type": "stream",
     "text": [
      "| \u001b[0m21       \u001b[0m | \u001b[0m-104.0   \u001b[0m | \u001b[0m0.611    \u001b[0m | \u001b[0m-6.933   \u001b[0m |\n"
     ]
    },
    {
     "name": "stderr",
     "output_type": "stream",
     "text": [
      "Running for 2,000 iterations: 100%|██████████| 2000/2000 [00:04<00:00, 487.85it/s]\n"
     ]
    },
    {
     "name": "stdout",
     "output_type": "stream",
     "text": [
      "| \u001b[0m22       \u001b[0m | \u001b[0m-104.0   \u001b[0m | \u001b[0m0.3125   \u001b[0m | \u001b[0m-4.536   \u001b[0m |\n"
     ]
    },
    {
     "name": "stderr",
     "output_type": "stream",
     "text": [
      "Running for 2,000 iterations: 100%|██████████| 2000/2000 [00:04<00:00, 491.94it/s]\n"
     ]
    },
    {
     "name": "stdout",
     "output_type": "stream",
     "text": [
      "| \u001b[0m23       \u001b[0m | \u001b[0m-104.0   \u001b[0m | \u001b[0m0.5414   \u001b[0m | \u001b[0m-6.135   \u001b[0m |\n"
     ]
    },
    {
     "name": "stderr",
     "output_type": "stream",
     "text": [
      "Running for 2,000 iterations: 100%|██████████| 2000/2000 [00:04<00:00, 468.04it/s]\n"
     ]
    },
    {
     "name": "stdout",
     "output_type": "stream",
     "text": [
      "| \u001b[0m24       \u001b[0m | \u001b[0m-64.66   \u001b[0m | \u001b[0m0.4399   \u001b[0m | \u001b[0m-1.113   \u001b[0m |\n"
     ]
    },
    {
     "name": "stderr",
     "output_type": "stream",
     "text": [
      "Running for 2,000 iterations: 100%|██████████| 2000/2000 [00:04<00:00, 491.14it/s]\n"
     ]
    },
    {
     "name": "stdout",
     "output_type": "stream",
     "text": [
      "| \u001b[0m25       \u001b[0m | \u001b[0m-104.0   \u001b[0m | \u001b[0m0.5382   \u001b[0m | \u001b[0m-5.101   \u001b[0m |\n"
     ]
    },
    {
     "name": "stderr",
     "output_type": "stream",
     "text": [
      "Running for 2,000 iterations: 100%|██████████| 2000/2000 [00:04<00:00, 446.81it/s]\n"
     ]
    },
    {
     "name": "stdout",
     "output_type": "stream",
     "text": [
      "| \u001b[0m26       \u001b[0m | \u001b[0m-71.39   \u001b[0m | \u001b[0m0.9499   \u001b[0m | \u001b[0m-0.7455  \u001b[0m |\n"
     ]
    },
    {
     "name": "stderr",
     "output_type": "stream",
     "text": [
      "Running for 2,000 iterations: 100%|██████████| 2000/2000 [00:04<00:00, 467.02it/s]\n"
     ]
    },
    {
     "name": "stdout",
     "output_type": "stream",
     "text": [
      "| \u001b[0m27       \u001b[0m | \u001b[0m-64.78   \u001b[0m | \u001b[0m0.4268   \u001b[0m | \u001b[0m-1.269   \u001b[0m |\n"
     ]
    },
    {
     "name": "stderr",
     "output_type": "stream",
     "text": [
      "Running for 2,000 iterations: 100%|██████████| 2000/2000 [00:04<00:00, 494.56it/s]\n"
     ]
    },
    {
     "name": "stdout",
     "output_type": "stream",
     "text": [
      "| \u001b[0m28       \u001b[0m | \u001b[0m-104.0   \u001b[0m | \u001b[0m0.1635   \u001b[0m | \u001b[0m-4.519   \u001b[0m |\n"
     ]
    },
    {
     "name": "stderr",
     "output_type": "stream",
     "text": [
      "Running for 2,000 iterations: 100%|██████████| 2000/2000 [00:04<00:00, 494.83it/s]\n"
     ]
    },
    {
     "name": "stdout",
     "output_type": "stream",
     "text": [
      "| \u001b[0m29       \u001b[0m | \u001b[0m-104.0   \u001b[0m | \u001b[0m0.6521   \u001b[0m | \u001b[0m-6.305   \u001b[0m |\n"
     ]
    },
    {
     "name": "stderr",
     "output_type": "stream",
     "text": [
      "Running for 2,000 iterations: 100%|██████████| 2000/2000 [00:04<00:00, 492.65it/s]\n"
     ]
    },
    {
     "name": "stdout",
     "output_type": "stream",
     "text": [
      "| \u001b[0m30       \u001b[0m | \u001b[0m-104.0   \u001b[0m | \u001b[0m0.2486   \u001b[0m | \u001b[0m-4.76    \u001b[0m |\n"
     ]
    },
    {
     "name": "stderr",
     "output_type": "stream",
     "text": [
      "Running for 2,000 iterations: 100%|██████████| 2000/2000 [00:04<00:00, 491.94it/s]\n"
     ]
    },
    {
     "name": "stdout",
     "output_type": "stream",
     "text": [
      "| \u001b[0m31       \u001b[0m | \u001b[0m-104.0   \u001b[0m | \u001b[0m0.7236   \u001b[0m | \u001b[0m-5.394   \u001b[0m |\n"
     ]
    },
    {
     "name": "stderr",
     "output_type": "stream",
     "text": [
      "Running for 2,000 iterations: 100%|██████████| 2000/2000 [00:04<00:00, 461.56it/s]\n"
     ]
    },
    {
     "name": "stdout",
     "output_type": "stream",
     "text": [
      "| \u001b[0m32       \u001b[0m | \u001b[0m-59.52   \u001b[0m | \u001b[0m0.7001   \u001b[0m | \u001b[0m-0.7469  \u001b[0m |\n"
     ]
    },
    {
     "name": "stderr",
     "output_type": "stream",
     "text": [
      "Running for 2,000 iterations: 100%|██████████| 2000/2000 [00:03<00:00, 504.16it/s]\n"
     ]
    },
    {
     "name": "stdout",
     "output_type": "stream",
     "text": [
      "| \u001b[0m33       \u001b[0m | \u001b[0m-104.0   \u001b[0m | \u001b[0m0.2523   \u001b[0m | \u001b[0m-6.177   \u001b[0m |\n"
     ]
    },
    {
     "name": "stderr",
     "output_type": "stream",
     "text": [
      "Running for 2,000 iterations: 100%|██████████| 2000/2000 [00:04<00:00, 491.94it/s]\n"
     ]
    },
    {
     "name": "stdout",
     "output_type": "stream",
     "text": [
      "| \u001b[0m34       \u001b[0m | \u001b[0m-104.0   \u001b[0m | \u001b[0m0.5808   \u001b[0m | \u001b[0m-5.632   \u001b[0m |\n"
     ]
    },
    {
     "name": "stderr",
     "output_type": "stream",
     "text": [
      "Running for 2,000 iterations: 100%|██████████| 2000/2000 [00:03<00:00, 503.50it/s]\n"
     ]
    },
    {
     "name": "stdout",
     "output_type": "stream",
     "text": [
      "| \u001b[0m35       \u001b[0m | \u001b[0m-104.0   \u001b[0m | \u001b[0m0.3631   \u001b[0m | \u001b[0m-6.654   \u001b[0m |\n"
     ]
    },
    {
     "name": "stderr",
     "output_type": "stream",
     "text": [
      "Running for 2,000 iterations: 100%|██████████| 2000/2000 [00:04<00:00, 482.58it/s]\n"
     ]
    },
    {
     "name": "stdout",
     "output_type": "stream",
     "text": [
      "| \u001b[0m36       \u001b[0m | \u001b[0m-103.8   \u001b[0m | \u001b[0m0.8759   \u001b[0m | \u001b[0m-3.903   \u001b[0m |\n"
     ]
    },
    {
     "name": "stderr",
     "output_type": "stream",
     "text": [
      "Running for 2,000 iterations: 100%|██████████| 2000/2000 [00:04<00:00, 491.53it/s]\n"
     ]
    },
    {
     "name": "stdout",
     "output_type": "stream",
     "text": [
      "| \u001b[0m37       \u001b[0m | \u001b[0m-104.0   \u001b[0m | \u001b[0m0.7833   \u001b[0m | \u001b[0m-5.761   \u001b[0m |\n"
     ]
    },
    {
     "name": "stderr",
     "output_type": "stream",
     "text": [
      "Running for 2,000 iterations: 100%|██████████| 2000/2000 [00:04<00:00, 466.95it/s]\n"
     ]
    },
    {
     "name": "stdout",
     "output_type": "stream",
     "text": [
      "| \u001b[0m38       \u001b[0m | \u001b[0m-61.29   \u001b[0m | \u001b[0m0.5771   \u001b[0m | \u001b[0m-2.368   \u001b[0m |\n"
     ]
    },
    {
     "name": "stderr",
     "output_type": "stream",
     "text": [
      "Running for 2,000 iterations: 100%|██████████| 2000/2000 [00:04<00:00, 489.89it/s]\n"
     ]
    },
    {
     "name": "stdout",
     "output_type": "stream",
     "text": [
      "| \u001b[0m39       \u001b[0m | \u001b[0m-104.0   \u001b[0m | \u001b[0m0.6491   \u001b[0m | \u001b[0m-4.734   \u001b[0m |\n"
     ]
    },
    {
     "name": "stderr",
     "output_type": "stream",
     "text": [
      "Running for 2,000 iterations: 100%|██████████| 2000/2000 [00:03<00:00, 509.57it/s]\n"
     ]
    },
    {
     "name": "stdout",
     "output_type": "stream",
     "text": [
      "| \u001b[0m40       \u001b[0m | \u001b[0m-104.0   \u001b[0m | \u001b[0m0.5408   \u001b[0m | \u001b[0m-6.981   \u001b[0m |\n"
     ]
    },
    {
     "name": "stderr",
     "output_type": "stream",
     "text": [
      "Running for 2,000 iterations: 100%|██████████| 2000/2000 [00:04<00:00, 486.23it/s]\n"
     ]
    },
    {
     "name": "stdout",
     "output_type": "stream",
     "text": [
      "| \u001b[0m41       \u001b[0m | \u001b[0m-103.9   \u001b[0m | \u001b[0m0.1035   \u001b[0m | \u001b[0m-3.537   \u001b[0m |\n"
     ]
    },
    {
     "name": "stderr",
     "output_type": "stream",
     "text": [
      "Running for 2,000 iterations: 100%|██████████| 2000/2000 [00:04<00:00, 470.26it/s]\n"
     ]
    },
    {
     "name": "stdout",
     "output_type": "stream",
     "text": [
      "| \u001b[0m42       \u001b[0m | \u001b[0m-65.04   \u001b[0m | \u001b[0m0.399    \u001b[0m | \u001b[0m-0.5754  \u001b[0m |\n"
     ]
    },
    {
     "name": "stderr",
     "output_type": "stream",
     "text": [
      "Running for 2,000 iterations: 100%|██████████| 2000/2000 [00:04<00:00, 493.72it/s]\n"
     ]
    },
    {
     "name": "stdout",
     "output_type": "stream",
     "text": [
      "| \u001b[0m43       \u001b[0m | \u001b[0m-104.0   \u001b[0m | \u001b[0m0.7523   \u001b[0m | \u001b[0m-6.974   \u001b[0m |\n"
     ]
    },
    {
     "name": "stderr",
     "output_type": "stream",
     "text": [
      "Running for 2,000 iterations: 100%|██████████| 2000/2000 [00:04<00:00, 467.57it/s]\n"
     ]
    },
    {
     "name": "stdout",
     "output_type": "stream",
     "text": [
      "| \u001b[0m44       \u001b[0m | \u001b[0m-59.63   \u001b[0m | \u001b[0m0.7806   \u001b[0m | \u001b[0m-2.626   \u001b[0m |\n"
     ]
    },
    {
     "name": "stderr",
     "output_type": "stream",
     "text": [
      "Running for 2,000 iterations: 100%|██████████| 2000/2000 [00:04<00:00, 478.62it/s]\n"
     ]
    },
    {
     "name": "stdout",
     "output_type": "stream",
     "text": [
      "| \u001b[0m45       \u001b[0m | \u001b[0m-103.8   \u001b[0m | \u001b[0m0.3743   \u001b[0m | \u001b[0m-3.2     \u001b[0m |\n"
     ]
    },
    {
     "name": "stderr",
     "output_type": "stream",
     "text": [
      "Running for 2,000 iterations: 100%|██████████| 2000/2000 [00:04<00:00, 487.12it/s]\n"
     ]
    },
    {
     "name": "stdout",
     "output_type": "stream",
     "text": [
      "| \u001b[0m46       \u001b[0m | \u001b[0m-104.0   \u001b[0m | \u001b[0m0.7636   \u001b[0m | \u001b[0m-4.626   \u001b[0m |\n"
     ]
    },
    {
     "name": "stderr",
     "output_type": "stream",
     "text": [
      "Running for 2,000 iterations: 100%|██████████| 2000/2000 [00:04<00:00, 469.41it/s]\n"
     ]
    },
    {
     "name": "stdout",
     "output_type": "stream",
     "text": [
      "| \u001b[0m47       \u001b[0m | \u001b[0m-103.4   \u001b[0m | \u001b[0m0.4758   \u001b[0m | \u001b[0m-2.672   \u001b[0m |\n"
     ]
    },
    {
     "name": "stderr",
     "output_type": "stream",
     "text": [
      "Running for 2,000 iterations: 100%|██████████| 2000/2000 [00:04<00:00, 485.48it/s]\n"
     ]
    },
    {
     "name": "stdout",
     "output_type": "stream",
     "text": [
      "| \u001b[0m48       \u001b[0m | \u001b[0m-104.0   \u001b[0m | \u001b[0m0.3994   \u001b[0m | \u001b[0m-4.054   \u001b[0m |\n"
     ]
    },
    {
     "name": "stderr",
     "output_type": "stream",
     "text": [
      "Running for 2,000 iterations: 100%|██████████| 2000/2000 [00:04<00:00, 472.22it/s]\n"
     ]
    },
    {
     "name": "stdout",
     "output_type": "stream",
     "text": [
      "| \u001b[0m49       \u001b[0m | \u001b[0m-103.5   \u001b[0m | \u001b[0m0.5062   \u001b[0m | \u001b[0m-2.757   \u001b[0m |\n"
     ]
    },
    {
     "name": "stderr",
     "output_type": "stream",
     "text": [
      "Running for 2,000 iterations: 100%|██████████| 2000/2000 [00:04<00:00, 490.83it/s]\n"
     ]
    },
    {
     "name": "stdout",
     "output_type": "stream",
     "text": [
      "| \u001b[0m50       \u001b[0m | \u001b[0m-104.0   \u001b[0m | \u001b[0m0.6303   \u001b[0m | \u001b[0m-5.482   \u001b[0m |\n"
     ]
    },
    {
     "name": "stderr",
     "output_type": "stream",
     "text": [
      "Running for 2,000 iterations: 100%|██████████| 2000/2000 [00:04<00:00, 467.99it/s]\n"
     ]
    },
    {
     "name": "stdout",
     "output_type": "stream",
     "text": [
      "| \u001b[0m51       \u001b[0m | \u001b[0m-65.97   \u001b[0m | \u001b[0m0.4638   \u001b[0m | \u001b[0m-1.839   \u001b[0m |\n"
     ]
    },
    {
     "name": "stderr",
     "output_type": "stream",
     "text": [
      "Running for 2,000 iterations: 100%|██████████| 2000/2000 [00:04<00:00, 451.46it/s]\n"
     ]
    },
    {
     "name": "stdout",
     "output_type": "stream",
     "text": [
      "| \u001b[0m52       \u001b[0m | \u001b[0m-65.01   \u001b[0m | \u001b[0m0.9021   \u001b[0m | \u001b[0m-2.17    \u001b[0m |\n"
     ]
    },
    {
     "name": "stderr",
     "output_type": "stream",
     "text": [
      "Running for 2,000 iterations: 100%|██████████| 2000/2000 [00:04<00:00, 497.70it/s]\n"
     ]
    },
    {
     "name": "stdout",
     "output_type": "stream",
     "text": [
      "| \u001b[0m53       \u001b[0m | \u001b[0m-104.0   \u001b[0m | \u001b[0m0.4037   \u001b[0m | \u001b[0m-6.007   \u001b[0m |\n"
     ]
    },
    {
     "name": "stderr",
     "output_type": "stream",
     "text": [
      "Running for 2,000 iterations: 100%|██████████| 2000/2000 [00:04<00:00, 493.79it/s]\n"
     ]
    },
    {
     "name": "stdout",
     "output_type": "stream",
     "text": [
      "| \u001b[0m54       \u001b[0m | \u001b[0m-104.0   \u001b[0m | \u001b[0m0.3167   \u001b[0m | \u001b[0m-4.914   \u001b[0m |\n"
     ]
    },
    {
     "name": "stderr",
     "output_type": "stream",
     "text": [
      "Running for 2,000 iterations: 100%|██████████| 2000/2000 [00:04<00:00, 488.23it/s]\n"
     ]
    },
    {
     "name": "stdout",
     "output_type": "stream",
     "text": [
      "| \u001b[0m55       \u001b[0m | \u001b[0m-104.0   \u001b[0m | \u001b[0m0.4146   \u001b[0m | \u001b[0m-4.722   \u001b[0m |\n"
     ]
    },
    {
     "name": "stderr",
     "output_type": "stream",
     "text": [
      "Running for 2,000 iterations: 100%|██████████| 2000/2000 [00:04<00:00, 480.50it/s]\n"
     ]
    },
    {
     "name": "stdout",
     "output_type": "stream",
     "text": [
      "| \u001b[0m56       \u001b[0m | \u001b[0m-103.9   \u001b[0m | \u001b[0m0.4519   \u001b[0m | \u001b[0m-4.045   \u001b[0m |\n"
     ]
    },
    {
     "name": "stderr",
     "output_type": "stream",
     "text": [
      "Running for 2,000 iterations: 100%|██████████| 2000/2000 [00:04<00:00, 490.44it/s]\n"
     ]
    },
    {
     "name": "stdout",
     "output_type": "stream",
     "text": [
      "| \u001b[0m57       \u001b[0m | \u001b[0m-104.0   \u001b[0m | \u001b[0m0.3117   \u001b[0m | \u001b[0m-5.022   \u001b[0m |\n"
     ]
    },
    {
     "name": "stderr",
     "output_type": "stream",
     "text": [
      "Running for 2,000 iterations: 100%|██████████| 2000/2000 [00:04<00:00, 461.98it/s]\n"
     ]
    },
    {
     "name": "stdout",
     "output_type": "stream",
     "text": [
      "| \u001b[0m58       \u001b[0m | \u001b[0m-59.53   \u001b[0m | \u001b[0m0.6848   \u001b[0m | \u001b[0m-2.109   \u001b[0m |\n"
     ]
    },
    {
     "name": "stderr",
     "output_type": "stream",
     "text": [
      "Running for 2,000 iterations: 100%|██████████| 2000/2000 [00:04<00:00, 467.24it/s]\n"
     ]
    },
    {
     "name": "stdout",
     "output_type": "stream",
     "text": [
      "| \u001b[0m59       \u001b[0m | \u001b[0m-64.8    \u001b[0m | \u001b[0m0.4398   \u001b[0m | \u001b[0m-1.201   \u001b[0m |\n"
     ]
    },
    {
     "name": "stderr",
     "output_type": "stream",
     "text": [
      "Running for 2,000 iterations: 100%|██████████| 2000/2000 [00:04<00:00, 484.03it/s]\n"
     ]
    },
    {
     "name": "stdout",
     "output_type": "stream",
     "text": [
      "| \u001b[0m60       \u001b[0m | \u001b[0m-104.0   \u001b[0m | \u001b[0m0.61     \u001b[0m | \u001b[0m-4.934   \u001b[0m |\n"
     ]
    },
    {
     "name": "stderr",
     "output_type": "stream",
     "text": [
      "Running for 2,000 iterations: 100%|██████████| 2000/2000 [00:04<00:00, 456.66it/s]\n"
     ]
    },
    {
     "name": "stdout",
     "output_type": "stream",
     "text": [
      "| \u001b[0m61       \u001b[0m | \u001b[0m-59.95   \u001b[0m | \u001b[0m0.8062   \u001b[0m | \u001b[0m-0.9641  \u001b[0m |\n"
     ]
    },
    {
     "name": "stderr",
     "output_type": "stream",
     "text": [
      "Running for 2,000 iterations: 100%|██████████| 2000/2000 [00:04<00:00, 485.55it/s]\n"
     ]
    },
    {
     "name": "stdout",
     "output_type": "stream",
     "text": [
      "| \u001b[0m62       \u001b[0m | \u001b[0m-104.0   \u001b[0m | \u001b[0m0.2692   \u001b[0m | \u001b[0m-4.361   \u001b[0m |\n"
     ]
    },
    {
     "name": "stderr",
     "output_type": "stream",
     "text": [
      "Running for 2,000 iterations: 100%|██████████| 2000/2000 [00:03<00:00, 502.97it/s]\n"
     ]
    },
    {
     "name": "stdout",
     "output_type": "stream",
     "text": [
      "| \u001b[0m63       \u001b[0m | \u001b[0m-104.0   \u001b[0m | \u001b[0m0.2427   \u001b[0m | \u001b[0m-5.66    \u001b[0m |\n"
     ]
    },
    {
     "name": "stderr",
     "output_type": "stream",
     "text": [
      "Running for 2,000 iterations: 100%|██████████| 2000/2000 [00:04<00:00, 494.63it/s]\n"
     ]
    },
    {
     "name": "stdout",
     "output_type": "stream",
     "text": [
      "| \u001b[0m64       \u001b[0m | \u001b[0m-104.0   \u001b[0m | \u001b[0m0.4775   \u001b[0m | \u001b[0m-6.624   \u001b[0m |\n"
     ]
    },
    {
     "name": "stderr",
     "output_type": "stream",
     "text": [
      "Running for 2,000 iterations: 100%|██████████| 2000/2000 [00:04<00:00, 495.11it/s]\n"
     ]
    },
    {
     "name": "stdout",
     "output_type": "stream",
     "text": [
      "| \u001b[0m65       \u001b[0m | \u001b[0m-104.0   \u001b[0m | \u001b[0m0.367    \u001b[0m | \u001b[0m-5.687   \u001b[0m |\n"
     ]
    },
    {
     "name": "stderr",
     "output_type": "stream",
     "text": [
      "Running for 2,000 iterations: 100%|██████████| 2000/2000 [00:04<00:00, 454.70it/s]\n"
     ]
    },
    {
     "name": "stdout",
     "output_type": "stream",
     "text": [
      "| \u001b[0m66       \u001b[0m | \u001b[0m-65.14   \u001b[0m | \u001b[0m0.9109   \u001b[0m | \u001b[0m-2.415   \u001b[0m |\n"
     ]
    },
    {
     "name": "stderr",
     "output_type": "stream",
     "text": [
      "Running for 2,000 iterations: 100%|██████████| 2000/2000 [00:04<00:00, 492.75it/s]\n"
     ]
    },
    {
     "name": "stdout",
     "output_type": "stream",
     "text": [
      "| \u001b[0m67       \u001b[0m | \u001b[0m-104.0   \u001b[0m | \u001b[0m0.4241   \u001b[0m | \u001b[0m-5.2     \u001b[0m |\n"
     ]
    },
    {
     "name": "stderr",
     "output_type": "stream",
     "text": [
      "Running for 2,000 iterations: 100%|██████████| 2000/2000 [00:04<00:00, 463.89it/s]\n"
     ]
    },
    {
     "name": "stdout",
     "output_type": "stream",
     "text": [
      "| \u001b[0m68       \u001b[0m | \u001b[0m-102.0   \u001b[0m | \u001b[0m0.3343   \u001b[0m | \u001b[0m-2.032   \u001b[0m |\n"
     ]
    },
    {
     "name": "stderr",
     "output_type": "stream",
     "text": [
      "Running for 2,000 iterations: 100%|██████████| 2000/2000 [00:04<00:00, 495.10it/s]\n"
     ]
    },
    {
     "name": "stdout",
     "output_type": "stream",
     "text": [
      "| \u001b[0m69       \u001b[0m | \u001b[0m-104.0   \u001b[0m | \u001b[0m0.2896   \u001b[0m | \u001b[0m-5.786   \u001b[0m |\n"
     ]
    },
    {
     "name": "stderr",
     "output_type": "stream",
     "text": [
      "Running for 2,000 iterations: 100%|██████████| 2000/2000 [00:04<00:00, 472.87it/s]\n"
     ]
    },
    {
     "name": "stdout",
     "output_type": "stream",
     "text": [
      "| \u001b[0m70       \u001b[0m | \u001b[0m-103.6   \u001b[0m | \u001b[0m0.3413   \u001b[0m | \u001b[0m-2.807   \u001b[0m |\n"
     ]
    },
    {
     "name": "stderr",
     "output_type": "stream",
     "text": [
      "Running for 2,000 iterations: 100%|██████████| 2000/2000 [00:04<00:00, 480.96it/s]\n"
     ]
    },
    {
     "name": "stdout",
     "output_type": "stream",
     "text": [
      "| \u001b[0m71       \u001b[0m | \u001b[0m-104.0   \u001b[0m | \u001b[0m0.8143   \u001b[0m | \u001b[0m-4.734   \u001b[0m |\n"
     ]
    },
    {
     "name": "stderr",
     "output_type": "stream",
     "text": [
      "Running for 2,000 iterations: 100%|██████████| 2000/2000 [00:04<00:00, 462.32it/s]\n"
     ]
    },
    {
     "name": "stdout",
     "output_type": "stream",
     "text": [
      "| \u001b[0m72       \u001b[0m | \u001b[0m-60.66   \u001b[0m | \u001b[0m0.6074   \u001b[0m | \u001b[0m-1.527   \u001b[0m |\n"
     ]
    },
    {
     "name": "stderr",
     "output_type": "stream",
     "text": [
      "Running for 2,000 iterations: 100%|██████████| 2000/2000 [00:04<00:00, 482.21it/s]\n"
     ]
    },
    {
     "name": "stdout",
     "output_type": "stream",
     "text": [
      "| \u001b[0m73       \u001b[0m | \u001b[0m-103.9   \u001b[0m | \u001b[0m0.421    \u001b[0m | \u001b[0m-3.72    \u001b[0m |\n"
     ]
    },
    {
     "name": "stderr",
     "output_type": "stream",
     "text": [
      "Running for 2,000 iterations: 100%|██████████| 2000/2000 [00:04<00:00, 488.91it/s]\n"
     ]
    },
    {
     "name": "stdout",
     "output_type": "stream",
     "text": [
      "| \u001b[0m74       \u001b[0m | \u001b[0m-104.0   \u001b[0m | \u001b[0m0.4386   \u001b[0m | \u001b[0m-4.254   \u001b[0m |\n"
     ]
    },
    {
     "name": "stderr",
     "output_type": "stream",
     "text": [
      "Running for 2,000 iterations: 100%|██████████| 2000/2000 [00:04<00:00, 467.68it/s]\n"
     ]
    },
    {
     "name": "stdout",
     "output_type": "stream",
     "text": [
      "| \u001b[0m75       \u001b[0m | \u001b[0m-69.59   \u001b[0m | \u001b[0m0.2005   \u001b[0m | \u001b[0m-1.242   \u001b[0m |\n"
     ]
    },
    {
     "name": "stderr",
     "output_type": "stream",
     "text": [
      "Running for 2,000 iterations: 100%|██████████| 2000/2000 [00:04<00:00, 492.93it/s]\n"
     ]
    },
    {
     "name": "stdout",
     "output_type": "stream",
     "text": [
      "| \u001b[0m76       \u001b[0m | \u001b[0m-104.0   \u001b[0m | \u001b[0m0.6868   \u001b[0m | \u001b[0m-6.259   \u001b[0m |\n"
     ]
    },
    {
     "name": "stderr",
     "output_type": "stream",
     "text": [
      "Running for 2,000 iterations: 100%|██████████| 2000/2000 [00:04<00:00, 479.07it/s]\n"
     ]
    },
    {
     "name": "stdout",
     "output_type": "stream",
     "text": [
      "| \u001b[0m77       \u001b[0m | \u001b[0m-103.9   \u001b[0m | \u001b[0m0.6524   \u001b[0m | \u001b[0m-4.147   \u001b[0m |\n"
     ]
    },
    {
     "name": "stderr",
     "output_type": "stream",
     "text": [
      "Running for 2,000 iterations: 100%|██████████| 2000/2000 [00:04<00:00, 482.60it/s]\n"
     ]
    },
    {
     "name": "stdout",
     "output_type": "stream",
     "text": [
      "| \u001b[0m78       \u001b[0m | \u001b[0m-103.9   \u001b[0m | \u001b[0m0.1056   \u001b[0m | \u001b[0m-3.272   \u001b[0m |\n"
     ]
    },
    {
     "name": "stderr",
     "output_type": "stream",
     "text": [
      "Running for 2,000 iterations: 100%|██████████| 2000/2000 [00:04<00:00, 440.68it/s]\n"
     ]
    },
    {
     "name": "stdout",
     "output_type": "stream",
     "text": [
      "| \u001b[0m79       \u001b[0m | \u001b[0m-78.72   \u001b[0m | \u001b[0m0.9783   \u001b[0m | \u001b[0m-3.118   \u001b[0m |\n"
     ]
    },
    {
     "name": "stderr",
     "output_type": "stream",
     "text": [
      "Running for 2,000 iterations: 100%|██████████| 2000/2000 [00:04<00:00, 496.60it/s]\n"
     ]
    },
    {
     "name": "stdout",
     "output_type": "stream",
     "text": [
      "| \u001b[0m80       \u001b[0m | \u001b[0m-104.0   \u001b[0m | \u001b[0m0.3591   \u001b[0m | \u001b[0m-5.16    \u001b[0m |\n"
     ]
    },
    {
     "name": "stderr",
     "output_type": "stream",
     "text": [
      "Running for 2,000 iterations: 100%|██████████| 2000/2000 [00:04<00:00, 481.31it/s]\n"
     ]
    },
    {
     "name": "stdout",
     "output_type": "stream",
     "text": [
      "| \u001b[0m81       \u001b[0m | \u001b[0m-103.9   \u001b[0m | \u001b[0m0.7425   \u001b[0m | \u001b[0m-4.076   \u001b[0m |\n"
     ]
    },
    {
     "name": "stderr",
     "output_type": "stream",
     "text": [
      "Running for 2,000 iterations: 100%|██████████| 2000/2000 [00:04<00:00, 476.93it/s]\n"
     ]
    },
    {
     "name": "stdout",
     "output_type": "stream",
     "text": [
      "| \u001b[0m82       \u001b[0m | \u001b[0m-103.6   \u001b[0m | \u001b[0m0.4091   \u001b[0m | \u001b[0m-2.72    \u001b[0m |\n"
     ]
    },
    {
     "name": "stderr",
     "output_type": "stream",
     "text": [
      "Running for 2,000 iterations: 100%|██████████| 2000/2000 [00:04<00:00, 481.04it/s]\n"
     ]
    },
    {
     "name": "stdout",
     "output_type": "stream",
     "text": [
      "| \u001b[0m83       \u001b[0m | \u001b[0m-103.9   \u001b[0m | \u001b[0m0.5583   \u001b[0m | \u001b[0m-3.79    \u001b[0m |\n"
     ]
    },
    {
     "name": "stderr",
     "output_type": "stream",
     "text": [
      "Running for 2,000 iterations: 100%|██████████| 2000/2000 [00:04<00:00, 499.21it/s]\n"
     ]
    },
    {
     "name": "stdout",
     "output_type": "stream",
     "text": [
      "| \u001b[0m84       \u001b[0m | \u001b[0m-104.0   \u001b[0m | \u001b[0m0.3748   \u001b[0m | \u001b[0m-5.949   \u001b[0m |\n"
     ]
    },
    {
     "name": "stderr",
     "output_type": "stream",
     "text": [
      "Running for 2,000 iterations: 100%|██████████| 2000/2000 [00:04<00:00, 487.88it/s]\n"
     ]
    },
    {
     "name": "stdout",
     "output_type": "stream",
     "text": [
      "| \u001b[0m85       \u001b[0m | \u001b[0m-104.0   \u001b[0m | \u001b[0m0.4473   \u001b[0m | \u001b[0m-4.49    \u001b[0m |\n"
     ]
    },
    {
     "name": "stderr",
     "output_type": "stream",
     "text": [
      "Running for 2,000 iterations: 100%|██████████| 2000/2000 [00:04<00:00, 461.58it/s]\n"
     ]
    },
    {
     "name": "stdout",
     "output_type": "stream",
     "text": [
      "| \u001b[0m86       \u001b[0m | \u001b[0m-59.64   \u001b[0m | \u001b[0m0.6799   \u001b[0m | \u001b[0m-1.309   \u001b[0m |\n"
     ]
    },
    {
     "name": "stderr",
     "output_type": "stream",
     "text": [
      "Running for 2,000 iterations: 100%|██████████| 2000/2000 [00:04<00:00, 485.69it/s]\n"
     ]
    },
    {
     "name": "stdout",
     "output_type": "stream",
     "text": [
      "| \u001b[0m87       \u001b[0m | \u001b[0m-103.9   \u001b[0m | \u001b[0m0.7423   \u001b[0m | \u001b[0m-4.034   \u001b[0m |\n"
     ]
    },
    {
     "name": "stderr",
     "output_type": "stream",
     "text": [
      "Running for 2,000 iterations: 100%|██████████| 2000/2000 [00:04<00:00, 487.38it/s]\n"
     ]
    },
    {
     "name": "stdout",
     "output_type": "stream",
     "text": [
      "| \u001b[0m88       \u001b[0m | \u001b[0m-104.0   \u001b[0m | \u001b[0m0.7239   \u001b[0m | \u001b[0m-4.735   \u001b[0m |\n"
     ]
    },
    {
     "name": "stderr",
     "output_type": "stream",
     "text": [
      "Running for 2,000 iterations: 100%|██████████| 2000/2000 [00:04<00:00, 487.27it/s]\n"
     ]
    },
    {
     "name": "stdout",
     "output_type": "stream",
     "text": [
      "| \u001b[0m89       \u001b[0m | \u001b[0m-104.0   \u001b[0m | \u001b[0m0.5018   \u001b[0m | \u001b[0m-4.659   \u001b[0m |\n"
     ]
    },
    {
     "name": "stderr",
     "output_type": "stream",
     "text": [
      "Running for 2,000 iterations: 100%|██████████| 2000/2000 [00:04<00:00, 470.14it/s]\n"
     ]
    },
    {
     "name": "stdout",
     "output_type": "stream",
     "text": [
      "| \u001b[0m90       \u001b[0m | \u001b[0m-472.9   \u001b[0m | \u001b[0m0.3145   \u001b[0m | \u001b[0m-0.3706  \u001b[0m |\n"
     ]
    },
    {
     "name": "stderr",
     "output_type": "stream",
     "text": [
      "Running for 2,000 iterations: 100%|██████████| 2000/2000 [00:04<00:00, 474.05it/s]\n"
     ]
    },
    {
     "name": "stdout",
     "output_type": "stream",
     "text": [
      "| \u001b[0m91       \u001b[0m | \u001b[0m-103.5   \u001b[0m | \u001b[0m0.8729   \u001b[0m | \u001b[0m-3.42    \u001b[0m |\n"
     ]
    },
    {
     "name": "stderr",
     "output_type": "stream",
     "text": [
      "Running for 2,000 iterations: 100%|██████████| 2000/2000 [00:04<00:00, 494.73it/s]\n"
     ]
    },
    {
     "name": "stdout",
     "output_type": "stream",
     "text": [
      "| \u001b[0m92       \u001b[0m | \u001b[0m-104.0   \u001b[0m | \u001b[0m0.5561   \u001b[0m | \u001b[0m-5.65    \u001b[0m |\n"
     ]
    },
    {
     "name": "stderr",
     "output_type": "stream",
     "text": [
      "Running for 2,000 iterations: 100%|██████████| 2000/2000 [00:04<00:00, 462.30it/s]\n"
     ]
    },
    {
     "name": "stdout",
     "output_type": "stream",
     "text": [
      "| \u001b[0m93       \u001b[0m | \u001b[0m-59.88   \u001b[0m | \u001b[0m0.6593   \u001b[0m | \u001b[0m-0.3332  \u001b[0m |\n"
     ]
    },
    {
     "name": "stderr",
     "output_type": "stream",
     "text": [
      "Running for 2,000 iterations: 100%|██████████| 2000/2000 [00:04<00:00, 496.03it/s]\n"
     ]
    },
    {
     "name": "stdout",
     "output_type": "stream",
     "text": [
      "| \u001b[0m94       \u001b[0m | \u001b[0m-104.0   \u001b[0m | \u001b[0m0.7074   \u001b[0m | \u001b[0m-6.907   \u001b[0m |\n"
     ]
    },
    {
     "name": "stderr",
     "output_type": "stream",
     "text": [
      "Running for 2,000 iterations: 100%|██████████| 2000/2000 [00:04<00:00, 476.33it/s]\n"
     ]
    },
    {
     "name": "stdout",
     "output_type": "stream",
     "text": [
      "| \u001b[0m95       \u001b[0m | \u001b[0m-103.8   \u001b[0m | \u001b[0m0.8741   \u001b[0m | \u001b[0m-3.693   \u001b[0m |\n"
     ]
    },
    {
     "name": "stderr",
     "output_type": "stream",
     "text": [
      "Running for 2,000 iterations: 100%|██████████| 2000/2000 [00:04<00:00, 481.52it/s]\n"
     ]
    },
    {
     "name": "stdout",
     "output_type": "stream",
     "text": [
      "| \u001b[0m96       \u001b[0m | \u001b[0m-72.46   \u001b[0m | \u001b[0m0.9562   \u001b[0m | \u001b[0m-3.214   \u001b[0m |\n"
     ]
    },
    {
     "name": "stderr",
     "output_type": "stream",
     "text": [
      "Running for 2,000 iterations: 100%|██████████| 2000/2000 [00:03<00:00, 510.25it/s]\n"
     ]
    },
    {
     "name": "stdout",
     "output_type": "stream",
     "text": [
      "| \u001b[0m97       \u001b[0m | \u001b[0m-103.9   \u001b[0m | \u001b[0m0.9478   \u001b[0m | \u001b[0m-4.932   \u001b[0m |\n"
     ]
    },
    {
     "name": "stderr",
     "output_type": "stream",
     "text": [
      "Running for 2,000 iterations: 100%|██████████| 2000/2000 [00:04<00:00, 458.39it/s]\n"
     ]
    },
    {
     "name": "stdout",
     "output_type": "stream",
     "text": [
      "| \u001b[0m98       \u001b[0m | \u001b[0m-66.37   \u001b[0m | \u001b[0m0.9142   \u001b[0m | \u001b[0m-0.06407 \u001b[0m |\n"
     ]
    },
    {
     "name": "stderr",
     "output_type": "stream",
     "text": [
      "Running for 2,000 iterations: 100%|██████████| 2000/2000 [00:04<00:00, 453.79it/s]\n"
     ]
    },
    {
     "name": "stdout",
     "output_type": "stream",
     "text": [
      "| \u001b[0m99       \u001b[0m | \u001b[0m-64.74   \u001b[0m | \u001b[0m0.8992   \u001b[0m | \u001b[0m-1.428   \u001b[0m |\n"
     ]
    },
    {
     "name": "stderr",
     "output_type": "stream",
     "text": [
      "Running for 2,000 iterations: 100%|██████████| 2000/2000 [00:04<00:00, 462.40it/s]\n"
     ]
    },
    {
     "name": "stdout",
     "output_type": "stream",
     "text": [
      "| \u001b[0m100      \u001b[0m | \u001b[0m-59.89   \u001b[0m | \u001b[0m0.8164   \u001b[0m | \u001b[0m-0.1583  \u001b[0m |\n"
     ]
    },
    {
     "name": "stderr",
     "output_type": "stream",
     "text": [
      "Running for 2,000 iterations: 100%|██████████| 2000/2000 [00:03<00:00, 502.42it/s]\n"
     ]
    },
    {
     "name": "stdout",
     "output_type": "stream",
     "text": [
      "| \u001b[0m101      \u001b[0m | \u001b[0m-104.0   \u001b[0m | \u001b[0m0.1106   \u001b[0m | \u001b[0m-4.689   \u001b[0m |\n"
     ]
    },
    {
     "name": "stderr",
     "output_type": "stream",
     "text": [
      "Running for 2,000 iterations: 100%|██████████| 2000/2000 [00:04<00:00, 482.29it/s]\n"
     ]
    },
    {
     "name": "stdout",
     "output_type": "stream",
     "text": [
      "| \u001b[0m102      \u001b[0m | \u001b[0m-103.9   \u001b[0m | \u001b[0m0.1722   \u001b[0m | \u001b[0m-3.396   \u001b[0m |\n"
     ]
    },
    {
     "name": "stderr",
     "output_type": "stream",
     "text": [
      "Running for 2,000 iterations: 100%|██████████| 2000/2000 [00:04<00:00, 458.18it/s]\n"
     ]
    },
    {
     "name": "stdout",
     "output_type": "stream",
     "text": [
      "| \u001b[0m103      \u001b[0m | \u001b[0m-60.01   \u001b[0m | \u001b[0m0.8084   \u001b[0m | \u001b[0m-2.747   \u001b[0m |\n"
     ]
    },
    {
     "name": "stderr",
     "output_type": "stream",
     "text": [
      "Running for 2,000 iterations: 100%|██████████| 2000/2000 [00:04<00:00, 480.04it/s]\n"
     ]
    },
    {
     "name": "stdout",
     "output_type": "stream",
     "text": [
      "| \u001b[0m104      \u001b[0m | \u001b[0m-103.8   \u001b[0m | \u001b[0m0.1026   \u001b[0m | \u001b[0m-2.944   \u001b[0m |\n"
     ]
    },
    {
     "name": "stderr",
     "output_type": "stream",
     "text": [
      "Running for 2,000 iterations: 100%|██████████| 2000/2000 [00:04<00:00, 470.31it/s]\n"
     ]
    },
    {
     "name": "stdout",
     "output_type": "stream",
     "text": [
      "| \u001b[0m105      \u001b[0m | \u001b[0m-68.99   \u001b[0m | \u001b[0m0.1099   \u001b[0m | \u001b[0m-0.5865  \u001b[0m |\n"
     ]
    },
    {
     "name": "stderr",
     "output_type": "stream",
     "text": [
      "Running for 2,000 iterations: 100%|██████████| 2000/2000 [00:04<00:00, 487.26it/s]\n"
     ]
    },
    {
     "name": "stdout",
     "output_type": "stream",
     "text": [
      "| \u001b[0m106      \u001b[0m | \u001b[0m-104.0   \u001b[0m | \u001b[0m0.2188   \u001b[0m | \u001b[0m-4.026   \u001b[0m |\n"
     ]
    },
    {
     "name": "stderr",
     "output_type": "stream",
     "text": [
      "Running for 2,000 iterations: 100%|██████████| 2000/2000 [00:04<00:00, 479.80it/s]\n"
     ]
    },
    {
     "name": "stdout",
     "output_type": "stream",
     "text": [
      "| \u001b[0m107      \u001b[0m | \u001b[0m-103.9   \u001b[0m | \u001b[0m0.5193   \u001b[0m | \u001b[0m-3.414   \u001b[0m |\n"
     ]
    },
    {
     "name": "stderr",
     "output_type": "stream",
     "text": [
      "Running for 2,000 iterations: 100%|██████████| 2000/2000 [00:03<00:00, 502.31it/s]\n"
     ]
    },
    {
     "name": "stdout",
     "output_type": "stream",
     "text": [
      "| \u001b[0m108      \u001b[0m | \u001b[0m-104.0   \u001b[0m | \u001b[0m0.2209   \u001b[0m | \u001b[0m-5.632   \u001b[0m |\n"
     ]
    },
    {
     "name": "stderr",
     "output_type": "stream",
     "text": [
      "Running for 2,000 iterations: 100%|██████████| 2000/2000 [00:04<00:00, 485.29it/s]\n"
     ]
    },
    {
     "name": "stdout",
     "output_type": "stream",
     "text": [
      "| \u001b[0m109      \u001b[0m | \u001b[0m-104.0   \u001b[0m | \u001b[0m0.5675   \u001b[0m | \u001b[0m-5.046   \u001b[0m |\n"
     ]
    },
    {
     "name": "stderr",
     "output_type": "stream",
     "text": [
      "Running for 2,000 iterations: 100%|██████████| 2000/2000 [00:04<00:00, 448.53it/s]\n"
     ]
    },
    {
     "name": "stdout",
     "output_type": "stream",
     "text": [
      "| \u001b[0m110      \u001b[0m | \u001b[0m-64.69   \u001b[0m | \u001b[0m0.8979   \u001b[0m | \u001b[0m-2.433   \u001b[0m |\n"
     ]
    },
    {
     "name": "stderr",
     "output_type": "stream",
     "text": [
      "Running for 2,000 iterations: 100%|██████████| 2000/2000 [00:04<00:00, 462.17it/s]\n"
     ]
    },
    {
     "name": "stdout",
     "output_type": "stream",
     "text": [
      "| \u001b[0m111      \u001b[0m | \u001b[0m-59.4    \u001b[0m | \u001b[0m0.6985   \u001b[0m | \u001b[0m-0.05022 \u001b[0m |\n"
     ]
    },
    {
     "name": "stderr",
     "output_type": "stream",
     "text": [
      "Running for 2,000 iterations: 100%|██████████| 2000/2000 [00:04<00:00, 412.52it/s]\n"
     ]
    },
    {
     "name": "stdout",
     "output_type": "stream",
     "text": [
      "| \u001b[0m112      \u001b[0m | \u001b[0m-107.7   \u001b[0m | \u001b[0m0.9994   \u001b[0m | \u001b[0m-2.509   \u001b[0m |\n"
     ]
    },
    {
     "name": "stderr",
     "output_type": "stream",
     "text": [
      "Running for 2,000 iterations: 100%|██████████| 2000/2000 [00:04<00:00, 460.92it/s]\n"
     ]
    },
    {
     "name": "stdout",
     "output_type": "stream",
     "text": [
      "| \u001b[0m113      \u001b[0m | \u001b[0m-60.29   \u001b[0m | \u001b[0m0.6311   \u001b[0m | \u001b[0m-1.314   \u001b[0m |\n"
     ]
    },
    {
     "name": "stderr",
     "output_type": "stream",
     "text": [
      "Running for 2,000 iterations: 100%|██████████| 2000/2000 [00:04<00:00, 451.66it/s]\n"
     ]
    },
    {
     "name": "stdout",
     "output_type": "stream",
     "text": [
      "| \u001b[0m114      \u001b[0m | \u001b[0m-64.77   \u001b[0m | \u001b[0m0.899    \u001b[0m | \u001b[0m-1.776   \u001b[0m |\n"
     ]
    },
    {
     "name": "stderr",
     "output_type": "stream",
     "text": [
      "Running for 2,000 iterations: 100%|██████████| 2000/2000 [00:04<00:00, 466.72it/s]\n"
     ]
    },
    {
     "name": "stdout",
     "output_type": "stream",
     "text": [
      "| \u001b[0m115      \u001b[0m | \u001b[0m-98.97   \u001b[0m | \u001b[0m0.1183   \u001b[0m | \u001b[0m-1.525   \u001b[0m |\n"
     ]
    },
    {
     "name": "stderr",
     "output_type": "stream",
     "text": [
      "Running for 2,000 iterations: 100%|██████████| 2000/2000 [00:04<00:00, 437.76it/s]\n"
     ]
    },
    {
     "name": "stdout",
     "output_type": "stream",
     "text": [
      "| \u001b[0m116      \u001b[0m | \u001b[0m-75.19   \u001b[0m | \u001b[0m0.9672   \u001b[0m | \u001b[0m-1.379   \u001b[0m |\n"
     ]
    },
    {
     "name": "stderr",
     "output_type": "stream",
     "text": [
      "Running for 2,000 iterations: 100%|██████████| 2000/2000 [00:03<00:00, 502.35it/s]\n"
     ]
    },
    {
     "name": "stdout",
     "output_type": "stream",
     "text": [
      "| \u001b[0m117      \u001b[0m | \u001b[0m-104.0   \u001b[0m | \u001b[0m0.1014   \u001b[0m | \u001b[0m-5.043   \u001b[0m |\n"
     ]
    },
    {
     "name": "stderr",
     "output_type": "stream",
     "text": [
      "Running for 2,000 iterations: 100%|██████████| 2000/2000 [00:04<00:00, 497.06it/s]\n"
     ]
    },
    {
     "name": "stdout",
     "output_type": "stream",
     "text": [
      "| \u001b[0m118      \u001b[0m | \u001b[0m-104.0   \u001b[0m | \u001b[0m0.4989   \u001b[0m | \u001b[0m-5.248   \u001b[0m |\n"
     ]
    },
    {
     "name": "stderr",
     "output_type": "stream",
     "text": [
      "Running for 2,000 iterations: 100%|██████████| 2000/2000 [00:04<00:00, 482.02it/s]\n"
     ]
    },
    {
     "name": "stdout",
     "output_type": "stream",
     "text": [
      "| \u001b[0m119      \u001b[0m | \u001b[0m-104.0   \u001b[0m | \u001b[0m0.6492   \u001b[0m | \u001b[0m-4.321   \u001b[0m |\n"
     ]
    },
    {
     "name": "stderr",
     "output_type": "stream",
     "text": [
      "Running for 2,000 iterations: 100%|██████████| 2000/2000 [00:04<00:00, 493.38it/s]\n"
     ]
    },
    {
     "name": "stdout",
     "output_type": "stream",
     "text": [
      "| \u001b[0m120      \u001b[0m | \u001b[0m-104.0   \u001b[0m | \u001b[0m0.6888   \u001b[0m | \u001b[0m-6.314   \u001b[0m |\n"
     ]
    },
    {
     "name": "stderr",
     "output_type": "stream",
     "text": [
      "Running for 2,000 iterations: 100%|██████████| 2000/2000 [00:04<00:00, 460.74it/s]\n"
     ]
    },
    {
     "name": "stdout",
     "output_type": "stream",
     "text": [
      "| \u001b[0m121      \u001b[0m | \u001b[0m-59.77   \u001b[0m | \u001b[0m0.7978   \u001b[0m | \u001b[0m-0.4724  \u001b[0m |\n"
     ]
    },
    {
     "name": "stderr",
     "output_type": "stream",
     "text": [
      "Running for 2,000 iterations: 100%|██████████| 2000/2000 [00:04<00:00, 479.81it/s]\n"
     ]
    },
    {
     "name": "stdout",
     "output_type": "stream",
     "text": [
      "| \u001b[0m122      \u001b[0m | \u001b[0m-103.9   \u001b[0m | \u001b[0m0.5827   \u001b[0m | \u001b[0m-3.619   \u001b[0m |\n"
     ]
    },
    {
     "name": "stderr",
     "output_type": "stream",
     "text": [
      "Running for 2,000 iterations: 100%|██████████| 2000/2000 [00:04<00:00, 490.04it/s]\n"
     ]
    },
    {
     "name": "stdout",
     "output_type": "stream",
     "text": [
      "| \u001b[0m123      \u001b[0m | \u001b[0m-104.0   \u001b[0m | \u001b[0m0.783    \u001b[0m | \u001b[0m-5.602   \u001b[0m |\n"
     ]
    },
    {
     "name": "stderr",
     "output_type": "stream",
     "text": [
      "Running for 2,000 iterations: 100%|██████████| 2000/2000 [00:04<00:00, 463.21it/s]\n"
     ]
    },
    {
     "name": "stdout",
     "output_type": "stream",
     "text": [
      "| \u001b[0m124      \u001b[0m | \u001b[0m-62.88   \u001b[0m | \u001b[0m0.5347   \u001b[0m | \u001b[0m-1.962   \u001b[0m |\n"
     ]
    },
    {
     "name": "stderr",
     "output_type": "stream",
     "text": [
      "Running for 2,000 iterations: 100%|██████████| 2000/2000 [00:04<00:00, 474.42it/s]\n"
     ]
    },
    {
     "name": "stdout",
     "output_type": "stream",
     "text": [
      "| \u001b[0m125      \u001b[0m | \u001b[0m-103.7   \u001b[0m | \u001b[0m0.7787   \u001b[0m | \u001b[0m-3.346   \u001b[0m |\n"
     ]
    },
    {
     "name": "stderr",
     "output_type": "stream",
     "text": [
      "Running for 2,000 iterations: 100%|██████████| 2000/2000 [00:04<00:00, 493.82it/s]\n"
     ]
    },
    {
     "name": "stdout",
     "output_type": "stream",
     "text": [
      "| \u001b[0m126      \u001b[0m | \u001b[0m-104.0   \u001b[0m | \u001b[0m0.887    \u001b[0m | \u001b[0m-6.6     \u001b[0m |\n"
     ]
    },
    {
     "name": "stderr",
     "output_type": "stream",
     "text": [
      "Running for 2,000 iterations: 100%|██████████| 2000/2000 [00:04<00:00, 473.80it/s]\n"
     ]
    },
    {
     "name": "stdout",
     "output_type": "stream",
     "text": [
      "| \u001b[0m127      \u001b[0m | \u001b[0m-75.84   \u001b[0m | \u001b[0m0.3698   \u001b[0m | \u001b[0m-2.052   \u001b[0m |\n"
     ]
    },
    {
     "name": "stderr",
     "output_type": "stream",
     "text": [
      "Running for 2,000 iterations: 100%|██████████| 2000/2000 [00:04<00:00, 499.37it/s]\n"
     ]
    },
    {
     "name": "stdout",
     "output_type": "stream",
     "text": [
      "| \u001b[0m128      \u001b[0m | \u001b[0m-104.0   \u001b[0m | \u001b[0m0.1873   \u001b[0m | \u001b[0m-4.937   \u001b[0m |\n"
     ]
    },
    {
     "name": "stderr",
     "output_type": "stream",
     "text": [
      "Running for 2,000 iterations: 100%|██████████| 2000/2000 [00:04<00:00, 497.12it/s]\n"
     ]
    },
    {
     "name": "stdout",
     "output_type": "stream",
     "text": [
      "| \u001b[0m129      \u001b[0m | \u001b[0m-104.0   \u001b[0m | \u001b[0m0.7067   \u001b[0m | \u001b[0m-6.728   \u001b[0m |\n"
     ]
    },
    {
     "name": "stderr",
     "output_type": "stream",
     "text": [
      "Running for 2,000 iterations: 100%|██████████| 2000/2000 [00:04<00:00, 468.24it/s]\n"
     ]
    },
    {
     "name": "stdout",
     "output_type": "stream",
     "text": [
      "| \u001b[0m130      \u001b[0m | \u001b[0m-65.59   \u001b[0m | \u001b[0m0.3586   \u001b[0m | \u001b[0m-1.262   \u001b[0m |\n"
     ]
    },
    {
     "name": "stderr",
     "output_type": "stream",
     "text": [
      "Running for 2,000 iterations: 100%|██████████| 2000/2000 [00:04<00:00, 481.44it/s]\n"
     ]
    },
    {
     "name": "stdout",
     "output_type": "stream",
     "text": [
      "| \u001b[0m131      \u001b[0m | \u001b[0m-103.9   \u001b[0m | \u001b[0m0.8499   \u001b[0m | \u001b[0m-3.992   \u001b[0m |\n"
     ]
    },
    {
     "name": "stderr",
     "output_type": "stream",
     "text": [
      "Running for 2,000 iterations: 100%|██████████| 2000/2000 [00:04<00:00, 470.54it/s]\n"
     ]
    },
    {
     "name": "stdout",
     "output_type": "stream",
     "text": [
      "| \u001b[0m132      \u001b[0m | \u001b[0m-381.0   \u001b[0m | \u001b[0m0.335    \u001b[0m | \u001b[0m-0.3722  \u001b[0m |\n"
     ]
    },
    {
     "name": "stderr",
     "output_type": "stream",
     "text": [
      "Running for 2,000 iterations: 100%|██████████| 2000/2000 [00:04<00:00, 487.62it/s]\n"
     ]
    },
    {
     "name": "stdout",
     "output_type": "stream",
     "text": [
      "| \u001b[0m133      \u001b[0m | \u001b[0m-104.0   \u001b[0m | \u001b[0m0.6948   \u001b[0m | \u001b[0m-5.049   \u001b[0m |\n"
     ]
    },
    {
     "name": "stderr",
     "output_type": "stream",
     "text": [
      "Running for 2,000 iterations: 100%|██████████| 2000/2000 [00:04<00:00, 474.88it/s]\n"
     ]
    },
    {
     "name": "stdout",
     "output_type": "stream",
     "text": [
      "| \u001b[0m134      \u001b[0m | \u001b[0m-103.7   \u001b[0m | \u001b[0m0.4348   \u001b[0m | \u001b[0m-3.049   \u001b[0m |\n"
     ]
    },
    {
     "name": "stderr",
     "output_type": "stream",
     "text": [
      "Running for 2,000 iterations: 100%|██████████| 2000/2000 [00:04<00:00, 487.37it/s]\n"
     ]
    },
    {
     "name": "stdout",
     "output_type": "stream",
     "text": [
      "| \u001b[0m135      \u001b[0m | \u001b[0m-104.0   \u001b[0m | \u001b[0m0.7678   \u001b[0m | \u001b[0m-4.839   \u001b[0m |\n"
     ]
    },
    {
     "name": "stderr",
     "output_type": "stream",
     "text": [
      "Running for 2,000 iterations: 100%|██████████| 2000/2000 [00:04<00:00, 458.86it/s]\n"
     ]
    },
    {
     "name": "stdout",
     "output_type": "stream",
     "text": [
      "| \u001b[0m136      \u001b[0m | \u001b[0m-59.64   \u001b[0m | \u001b[0m0.7918   \u001b[0m | \u001b[0m-1.746   \u001b[0m |\n"
     ]
    },
    {
     "name": "stderr",
     "output_type": "stream",
     "text": [
      "Running for 2,000 iterations: 100%|██████████| 2000/2000 [00:04<00:00, 467.25it/s]\n"
     ]
    },
    {
     "name": "stdout",
     "output_type": "stream",
     "text": [
      "| \u001b[0m137      \u001b[0m | \u001b[0m-61.8    \u001b[0m | \u001b[0m0.5669   \u001b[0m | \u001b[0m-0.1585  \u001b[0m |\n"
     ]
    },
    {
     "name": "stderr",
     "output_type": "stream",
     "text": [
      "Running for 2,000 iterations: 100%|██████████| 2000/2000 [00:04<00:00, 476.09it/s]\n"
     ]
    },
    {
     "name": "stdout",
     "output_type": "stream",
     "text": [
      "| \u001b[0m138      \u001b[0m | \u001b[0m-103.7   \u001b[0m | \u001b[0m0.2349   \u001b[0m | \u001b[0m-2.888   \u001b[0m |\n"
     ]
    },
    {
     "name": "stderr",
     "output_type": "stream",
     "text": [
      "Running for 2,000 iterations: 100%|██████████| 2000/2000 [00:04<00:00, 456.61it/s]\n"
     ]
    },
    {
     "name": "stdout",
     "output_type": "stream",
     "text": [
      "| \u001b[0m139      \u001b[0m | \u001b[0m-61.42   \u001b[0m | \u001b[0m0.8601   \u001b[0m | \u001b[0m-2.877   \u001b[0m |\n"
     ]
    },
    {
     "name": "stderr",
     "output_type": "stream",
     "text": [
      "Running for 2,000 iterations: 100%|██████████| 2000/2000 [00:04<00:00, 490.49it/s]\n"
     ]
    },
    {
     "name": "stdout",
     "output_type": "stream",
     "text": [
      "| \u001b[0m140      \u001b[0m | \u001b[0m-104.0   \u001b[0m | \u001b[0m0.3345   \u001b[0m | \u001b[0m-4.622   \u001b[0m |\n"
     ]
    },
    {
     "name": "stderr",
     "output_type": "stream",
     "text": [
      "Running for 2,000 iterations: 100%|██████████| 2000/2000 [00:04<00:00, 480.09it/s]\n"
     ]
    },
    {
     "name": "stdout",
     "output_type": "stream",
     "text": [
      "| \u001b[0m141      \u001b[0m | \u001b[0m-103.6   \u001b[0m | \u001b[0m0.1368   \u001b[0m | \u001b[0m-2.723   \u001b[0m |\n"
     ]
    },
    {
     "name": "stderr",
     "output_type": "stream",
     "text": [
      "Running for 2,000 iterations: 100%|██████████| 2000/2000 [00:04<00:00, 477.16it/s]\n"
     ]
    },
    {
     "name": "stdout",
     "output_type": "stream",
     "text": [
      "| \u001b[0m142      \u001b[0m | \u001b[0m-103.8   \u001b[0m | \u001b[0m0.7903   \u001b[0m | \u001b[0m-3.636   \u001b[0m |\n"
     ]
    },
    {
     "name": "stderr",
     "output_type": "stream",
     "text": [
      "Running for 2,000 iterations: 100%|██████████| 2000/2000 [00:04<00:00, 470.74it/s]\n"
     ]
    },
    {
     "name": "stdout",
     "output_type": "stream",
     "text": [
      "| \u001b[0m143      \u001b[0m | \u001b[0m-90.53   \u001b[0m | \u001b[0m0.1309   \u001b[0m | \u001b[0m-0.5229  \u001b[0m |\n"
     ]
    },
    {
     "name": "stderr",
     "output_type": "stream",
     "text": [
      "Running for 2,000 iterations: 100%|██████████| 2000/2000 [00:04<00:00, 466.67it/s]\n"
     ]
    },
    {
     "name": "stdout",
     "output_type": "stream",
     "text": [
      "| \u001b[0m144      \u001b[0m | \u001b[0m-62.38   \u001b[0m | \u001b[0m0.5432   \u001b[0m | \u001b[0m-0.4835  \u001b[0m |\n"
     ]
    },
    {
     "name": "stderr",
     "output_type": "stream",
     "text": [
      "Running for 2,000 iterations: 100%|██████████| 2000/2000 [00:04<00:00, 493.96it/s]\n"
     ]
    },
    {
     "name": "stdout",
     "output_type": "stream",
     "text": [
      "| \u001b[0m145      \u001b[0m | \u001b[0m-104.0   \u001b[0m | \u001b[0m0.2105   \u001b[0m | \u001b[0m-5.114   \u001b[0m |\n"
     ]
    },
    {
     "name": "stderr",
     "output_type": "stream",
     "text": [
      "Running for 2,000 iterations: 100%|██████████| 2000/2000 [00:04<00:00, 493.69it/s]\n"
     ]
    },
    {
     "name": "stdout",
     "output_type": "stream",
     "text": [
      "| \u001b[0m146      \u001b[0m | \u001b[0m-104.0   \u001b[0m | \u001b[0m0.247    \u001b[0m | \u001b[0m-4.572   \u001b[0m |\n"
     ]
    },
    {
     "name": "stderr",
     "output_type": "stream",
     "text": [
      "Running for 2,000 iterations: 100%|██████████| 2000/2000 [00:03<00:00, 502.47it/s]\n"
     ]
    },
    {
     "name": "stdout",
     "output_type": "stream",
     "text": [
      "| \u001b[0m147      \u001b[0m | \u001b[0m-104.0   \u001b[0m | \u001b[0m0.31     \u001b[0m | \u001b[0m-6.754   \u001b[0m |\n"
     ]
    },
    {
     "name": "stderr",
     "output_type": "stream",
     "text": [
      "Running for 2,000 iterations: 100%|██████████| 2000/2000 [00:04<00:00, 443.26it/s]\n"
     ]
    },
    {
     "name": "stdout",
     "output_type": "stream",
     "text": [
      "| \u001b[0m148      \u001b[0m | \u001b[0m-71.39   \u001b[0m | \u001b[0m0.9504   \u001b[0m | \u001b[0m-2.583   \u001b[0m |\n"
     ]
    },
    {
     "name": "stderr",
     "output_type": "stream",
     "text": [
      "Running for 2,000 iterations: 100%|██████████| 2000/2000 [00:04<00:00, 469.86it/s]\n"
     ]
    },
    {
     "name": "stdout",
     "output_type": "stream",
     "text": [
      "| \u001b[0m149      \u001b[0m | \u001b[0m-100.9   \u001b[0m | \u001b[0m0.1468   \u001b[0m | \u001b[0m-0.477   \u001b[0m |\n"
     ]
    },
    {
     "name": "stderr",
     "output_type": "stream",
     "text": [
      "Running for 2,000 iterations: 100%|██████████| 2000/2000 [00:04<00:00, 465.99it/s]\n"
     ]
    },
    {
     "name": "stdout",
     "output_type": "stream",
     "text": [
      "| \u001b[0m150      \u001b[0m | \u001b[0m-98.05   \u001b[0m | \u001b[0m0.1151   \u001b[0m | \u001b[0m-1.448   \u001b[0m |\n"
     ]
    },
    {
     "name": "stderr",
     "output_type": "stream",
     "text": [
      "Running for 2,000 iterations: 100%|██████████| 2000/2000 [00:04<00:00, 463.71it/s]\n"
     ]
    },
    {
     "name": "stdout",
     "output_type": "stream",
     "text": [
      "| \u001b[0m151      \u001b[0m | \u001b[0m-62.04   \u001b[0m | \u001b[0m0.5568   \u001b[0m | \u001b[0m-1.132   \u001b[0m |\n"
     ]
    },
    {
     "name": "stderr",
     "output_type": "stream",
     "text": [
      "Running for 2,000 iterations: 100%|██████████| 2000/2000 [00:04<00:00, 467.54it/s]\n"
     ]
    },
    {
     "name": "stdout",
     "output_type": "stream",
     "text": [
      "| \u001b[0m152      \u001b[0m | \u001b[0m-90.27   \u001b[0m | \u001b[0m0.185    \u001b[0m | \u001b[0m-1.328   \u001b[0m |\n"
     ]
    },
    {
     "name": "stderr",
     "output_type": "stream",
     "text": [
      "Running for 2,000 iterations: 100%|██████████| 2000/2000 [00:04<00:00, 461.13it/s]\n"
     ]
    },
    {
     "name": "stdout",
     "output_type": "stream",
     "text": [
      "| \u001b[0m153      \u001b[0m | \u001b[0m-59.37   \u001b[0m | \u001b[0m0.7188   \u001b[0m | \u001b[0m-0.5946  \u001b[0m |\n"
     ]
    },
    {
     "name": "stderr",
     "output_type": "stream",
     "text": [
      "Running for 2,000 iterations: 100%|██████████| 2000/2000 [00:04<00:00, 460.08it/s]\n"
     ]
    },
    {
     "name": "stdout",
     "output_type": "stream",
     "text": [
      "| \u001b[0m154      \u001b[0m | \u001b[0m-59.98   \u001b[0m | \u001b[0m0.8108   \u001b[0m | \u001b[0m-2.745   \u001b[0m |\n"
     ]
    },
    {
     "name": "stderr",
     "output_type": "stream",
     "text": [
      "Running for 2,000 iterations: 100%|██████████| 2000/2000 [00:04<00:00, 470.06it/s]\n"
     ]
    },
    {
     "name": "stdout",
     "output_type": "stream",
     "text": [
      "| \u001b[0m155      \u001b[0m | \u001b[0m-1e+03   \u001b[0m | \u001b[0m0.1792   \u001b[0m | \u001b[0m-0.3664  \u001b[0m |\n"
     ]
    },
    {
     "name": "stderr",
     "output_type": "stream",
     "text": [
      "Running for 2,000 iterations: 100%|██████████| 2000/2000 [00:04<00:00, 464.87it/s]\n"
     ]
    },
    {
     "name": "stdout",
     "output_type": "stream",
     "text": [
      "| \u001b[0m156      \u001b[0m | \u001b[0m-62.24   \u001b[0m | \u001b[0m0.549    \u001b[0m | \u001b[0m-0.6568  \u001b[0m |\n"
     ]
    },
    {
     "name": "stderr",
     "output_type": "stream",
     "text": [
      "Running for 2,000 iterations: 100%|██████████| 2000/2000 [00:04<00:00, 468.70it/s]\n"
     ]
    },
    {
     "name": "stdout",
     "output_type": "stream",
     "text": [
      "| \u001b[0m157      \u001b[0m | \u001b[0m-103.7   \u001b[0m | \u001b[0m0.2698   \u001b[0m | \u001b[0m-2.837   \u001b[0m |\n"
     ]
    },
    {
     "name": "stderr",
     "output_type": "stream",
     "text": [
      "Running for 2,000 iterations: 100%|██████████| 2000/2000 [00:04<00:00, 469.49it/s]\n"
     ]
    },
    {
     "name": "stdout",
     "output_type": "stream",
     "text": [
      "| \u001b[0m158      \u001b[0m | \u001b[0m-68.71   \u001b[0m | \u001b[0m0.1244   \u001b[0m | \u001b[0m-0.7751  \u001b[0m |\n"
     ]
    },
    {
     "name": "stderr",
     "output_type": "stream",
     "text": [
      "Running for 2,000 iterations: 100%|██████████| 2000/2000 [00:04<00:00, 457.60it/s]\n"
     ]
    },
    {
     "name": "stdout",
     "output_type": "stream",
     "text": [
      "| \u001b[0m159      \u001b[0m | \u001b[0m-65.86   \u001b[0m | \u001b[0m0.9144   \u001b[0m | \u001b[0m-0.06319 \u001b[0m |\n"
     ]
    },
    {
     "name": "stderr",
     "output_type": "stream",
     "text": [
      "Running for 2,000 iterations: 100%|██████████| 2000/2000 [00:04<00:00, 471.64it/s]\n"
     ]
    },
    {
     "name": "stdout",
     "output_type": "stream",
     "text": [
      "| \u001b[0m160      \u001b[0m | \u001b[0m-68.73   \u001b[0m | \u001b[0m0.1245   \u001b[0m | \u001b[0m-0.7748  \u001b[0m |\n"
     ]
    },
    {
     "name": "stderr",
     "output_type": "stream",
     "text": [
      "Running for 2,000 iterations: 100%|██████████| 2000/2000 [00:04<00:00, 476.46it/s]\n"
     ]
    },
    {
     "name": "stdout",
     "output_type": "stream",
     "text": [
      "| \u001b[0m161      \u001b[0m | \u001b[0m-63.93   \u001b[0m | \u001b[0m0.52     \u001b[0m | \u001b[0m-2.191   \u001b[0m |\n"
     ]
    },
    {
     "name": "stderr",
     "output_type": "stream",
     "text": [
      "Running for 2,000 iterations: 100%|██████████| 2000/2000 [00:04<00:00, 463.70it/s]\n"
     ]
    },
    {
     "name": "stdout",
     "output_type": "stream",
     "text": [
      "| \u001b[0m162      \u001b[0m | \u001b[0m-61.03   \u001b[0m | \u001b[0m0.5948   \u001b[0m | \u001b[0m-0.9472  \u001b[0m |\n"
     ]
    },
    {
     "name": "stderr",
     "output_type": "stream",
     "text": [
      "Running for 2,000 iterations: 100%|██████████| 2000/2000 [00:04<00:00, 460.39it/s]\n"
     ]
    },
    {
     "name": "stdout",
     "output_type": "stream",
     "text": [
      "| \u001b[0m163      \u001b[0m | \u001b[0m-59.48   \u001b[0m | \u001b[0m0.7657   \u001b[0m | \u001b[0m-1.563   \u001b[0m |\n"
     ]
    },
    {
     "name": "stderr",
     "output_type": "stream",
     "text": [
      "Running for 2,000 iterations: 100%|██████████| 2000/2000 [00:04<00:00, 461.09it/s]\n"
     ]
    },
    {
     "name": "stdout",
     "output_type": "stream",
     "text": [
      "| \u001b[0m164      \u001b[0m | \u001b[0m-59.42   \u001b[0m | \u001b[0m0.7219   \u001b[0m | \u001b[0m-1.932   \u001b[0m |\n"
     ]
    },
    {
     "name": "stderr",
     "output_type": "stream",
     "text": [
      "Running for 2,000 iterations: 100%|██████████| 2000/2000 [00:04<00:00, 462.08it/s]\n"
     ]
    },
    {
     "name": "stdout",
     "output_type": "stream",
     "text": [
      "| \u001b[0m165      \u001b[0m | \u001b[0m-60.37   \u001b[0m | \u001b[0m0.6225   \u001b[0m | \u001b[0m-1.724   \u001b[0m |\n"
     ]
    },
    {
     "name": "stderr",
     "output_type": "stream",
     "text": [
      "Running for 2,000 iterations: 100%|██████████| 2000/2000 [00:04<00:00, 451.17it/s]\n"
     ]
    },
    {
     "name": "stdout",
     "output_type": "stream",
     "text": [
      "| \u001b[0m166      \u001b[0m | \u001b[0m-63.66   \u001b[0m | \u001b[0m0.8903   \u001b[0m | \u001b[0m-1.986   \u001b[0m |\n"
     ]
    },
    {
     "name": "stderr",
     "output_type": "stream",
     "text": [
      "Running for 2,000 iterations: 100%|██████████| 2000/2000 [00:04<00:00, 468.17it/s]\n"
     ]
    },
    {
     "name": "stdout",
     "output_type": "stream",
     "text": [
      "| \u001b[0m167      \u001b[0m | \u001b[0m-59.7    \u001b[0m | \u001b[0m0.6697   \u001b[0m | \u001b[0m-2.499   \u001b[0m |\n"
     ]
    },
    {
     "name": "stderr",
     "output_type": "stream",
     "text": [
      "Running for 2,000 iterations: 100%|██████████| 2000/2000 [00:04<00:00, 457.74it/s]\n"
     ]
    },
    {
     "name": "stdout",
     "output_type": "stream",
     "text": [
      "| \u001b[0m168      \u001b[0m | \u001b[0m-62.48   \u001b[0m | \u001b[0m0.8721   \u001b[0m | \u001b[0m-1.196   \u001b[0m |\n"
     ]
    },
    {
     "name": "stderr",
     "output_type": "stream",
     "text": [
      "Running for 2,000 iterations: 100%|██████████| 2000/2000 [00:04<00:00, 460.43it/s]\n"
     ]
    },
    {
     "name": "stdout",
     "output_type": "stream",
     "text": [
      "| \u001b[0m169      \u001b[0m | \u001b[0m-61.87   \u001b[0m | \u001b[0m0.862    \u001b[0m | \u001b[0m-0.3121  \u001b[0m |\n"
     ]
    },
    {
     "name": "stderr",
     "output_type": "stream",
     "text": [
      "Running for 2,000 iterations: 100%|██████████| 2000/2000 [00:04<00:00, 442.25it/s]\n"
     ]
    },
    {
     "name": "stdout",
     "output_type": "stream",
     "text": [
      "| \u001b[0m170      \u001b[0m | \u001b[0m-74.3    \u001b[0m | \u001b[0m0.9625   \u001b[0m | \u001b[0m-1.049   \u001b[0m |\n"
     ]
    },
    {
     "name": "stderr",
     "output_type": "stream",
     "text": [
      "Running for 2,000 iterations: 100%|██████████| 2000/2000 [00:04<00:00, 440.97it/s]\n"
     ]
    },
    {
     "name": "stdout",
     "output_type": "stream",
     "text": [
      "| \u001b[0m171      \u001b[0m | \u001b[0m-77.43   \u001b[0m | \u001b[0m0.9803   \u001b[0m | \u001b[0m-0.5015  \u001b[0m |\n"
     ]
    },
    {
     "name": "stderr",
     "output_type": "stream",
     "text": [
      "Running for 2,000 iterations: 100%|██████████| 2000/2000 [00:04<00:00, 466.80it/s]\n"
     ]
    },
    {
     "name": "stdout",
     "output_type": "stream",
     "text": [
      "| \u001b[0m172      \u001b[0m | \u001b[0m-103.5   \u001b[0m | \u001b[0m0.7701   \u001b[0m | \u001b[0m-3.075   \u001b[0m |\n"
     ]
    },
    {
     "name": "stderr",
     "output_type": "stream",
     "text": [
      "Running for 2,000 iterations: 100%|██████████| 2000/2000 [00:04<00:00, 465.13it/s]\n"
     ]
    },
    {
     "name": "stdout",
     "output_type": "stream",
     "text": [
      "| \u001b[0m173      \u001b[0m | \u001b[0m-63.83   \u001b[0m | \u001b[0m0.5006   \u001b[0m | \u001b[0m-0.8013  \u001b[0m |\n"
     ]
    },
    {
     "name": "stderr",
     "output_type": "stream",
     "text": [
      "Running for 2,000 iterations: 100%|██████████| 2000/2000 [00:04<00:00, 469.10it/s]\n"
     ]
    },
    {
     "name": "stdout",
     "output_type": "stream",
     "text": [
      "| \u001b[0m174      \u001b[0m | \u001b[0m-102.6   \u001b[0m | \u001b[0m0.3598   \u001b[0m | \u001b[0m-2.24    \u001b[0m |\n"
     ]
    },
    {
     "name": "stderr",
     "output_type": "stream",
     "text": [
      "Running for 2,000 iterations: 100%|██████████| 2000/2000 [00:04<00:00, 462.67it/s]\n"
     ]
    },
    {
     "name": "stdout",
     "output_type": "stream",
     "text": [
      "| \u001b[0m175      \u001b[0m | \u001b[0m-59.48   \u001b[0m | \u001b[0m0.6944   \u001b[0m | \u001b[0m-2.253   \u001b[0m |\n"
     ]
    },
    {
     "name": "stderr",
     "output_type": "stream",
     "text": [
      "Running for 2,000 iterations: 100%|██████████| 2000/2000 [00:04<00:00, 413.53it/s]\n"
     ]
    },
    {
     "name": "stdout",
     "output_type": "stream",
     "text": [
      "| \u001b[0m176      \u001b[0m | \u001b[0m-104.9   \u001b[0m | \u001b[0m0.9987   \u001b[0m | \u001b[0m-2.779   \u001b[0m |\n"
     ]
    },
    {
     "name": "stderr",
     "output_type": "stream",
     "text": [
      "Running for 2,000 iterations: 100%|██████████| 2000/2000 [00:04<00:00, 480.93it/s]\n"
     ]
    },
    {
     "name": "stdout",
     "output_type": "stream",
     "text": [
      "| \u001b[0m177      \u001b[0m | \u001b[0m-103.9   \u001b[0m | \u001b[0m0.4754   \u001b[0m | \u001b[0m-3.797   \u001b[0m |\n"
     ]
    },
    {
     "name": "stderr",
     "output_type": "stream",
     "text": [
      "Running for 2,000 iterations: 100%|██████████| 2000/2000 [00:04<00:00, 460.17it/s]\n"
     ]
    },
    {
     "name": "stdout",
     "output_type": "stream",
     "text": [
      "| \u001b[0m178      \u001b[0m | \u001b[0m-59.42   \u001b[0m | \u001b[0m0.7297   \u001b[0m | \u001b[0m-1.443   \u001b[0m |\n"
     ]
    },
    {
     "name": "stderr",
     "output_type": "stream",
     "text": [
      "Running for 2,000 iterations: 100%|██████████| 2000/2000 [00:04<00:00, 469.43it/s]\n"
     ]
    },
    {
     "name": "stdout",
     "output_type": "stream",
     "text": [
      "| \u001b[0m179      \u001b[0m | \u001b[0m-61.84   \u001b[0m | \u001b[0m0.5594   \u001b[0m | \u001b[0m-0.003509\u001b[0m |\n"
     ]
    },
    {
     "name": "stderr",
     "output_type": "stream",
     "text": [
      "Running for 2,000 iterations: 100%|██████████| 2000/2000 [00:04<00:00, 459.50it/s]\n"
     ]
    },
    {
     "name": "stdout",
     "output_type": "stream",
     "text": [
      "| \u001b[0m180      \u001b[0m | \u001b[0m-60.79   \u001b[0m | \u001b[0m0.8367   \u001b[0m | \u001b[0m-0.8151  \u001b[0m |\n"
     ]
    },
    {
     "name": "stderr",
     "output_type": "stream",
     "text": [
      "Running for 2,000 iterations: 100%|██████████| 2000/2000 [00:04<00:00, 470.53it/s]\n"
     ]
    },
    {
     "name": "stdout",
     "output_type": "stream",
     "text": [
      "| \u001b[0m181      \u001b[0m | \u001b[0m-65.11   \u001b[0m | \u001b[0m0.3823   \u001b[0m | \u001b[0m-0.01177 \u001b[0m |\n"
     ]
    },
    {
     "name": "stderr",
     "output_type": "stream",
     "text": [
      "Running for 2,000 iterations: 100%|██████████| 2000/2000 [00:03<00:00, 504.83it/s]\n"
     ]
    },
    {
     "name": "stdout",
     "output_type": "stream",
     "text": [
      "| \u001b[0m182      \u001b[0m | \u001b[0m-103.8   \u001b[0m | \u001b[0m0.9993   \u001b[0m | \u001b[0m-6.062   \u001b[0m |\n"
     ]
    },
    {
     "name": "stderr",
     "output_type": "stream",
     "text": [
      "Running for 2,000 iterations: 100%|██████████| 2000/2000 [00:03<00:00, 510.02it/s]\n"
     ]
    },
    {
     "name": "stdout",
     "output_type": "stream",
     "text": [
      "| \u001b[0m183      \u001b[0m | \u001b[0m-104.0   \u001b[0m | \u001b[0m0.1      \u001b[0m | \u001b[0m-7.0     \u001b[0m |\n"
     ]
    },
    {
     "name": "stderr",
     "output_type": "stream",
     "text": [
      "Running for 2,000 iterations: 100%|██████████| 2000/2000 [00:04<00:00, 431.26it/s]\n"
     ]
    },
    {
     "name": "stdout",
     "output_type": "stream",
     "text": [
      "| \u001b[0m184      \u001b[0m | \u001b[0m-90.9    \u001b[0m | \u001b[0m0.9959   \u001b[0m | \u001b[0m-4.332   \u001b[0m |\n"
     ]
    },
    {
     "name": "stderr",
     "output_type": "stream",
     "text": [
      "Running for 2,000 iterations: 100%|██████████| 2000/2000 [00:03<00:00, 510.03it/s]\n"
     ]
    },
    {
     "name": "stdout",
     "output_type": "stream",
     "text": [
      "| \u001b[0m185      \u001b[0m | \u001b[0m-104.0   \u001b[0m | \u001b[0m0.1      \u001b[0m | \u001b[0m-6.471   \u001b[0m |\n"
     ]
    },
    {
     "name": "stderr",
     "output_type": "stream",
     "text": [
      "Running for 2,000 iterations: 100%|██████████| 2000/2000 [00:03<00:00, 509.76it/s]\n"
     ]
    },
    {
     "name": "stdout",
     "output_type": "stream",
     "text": [
      "| \u001b[0m186      \u001b[0m | \u001b[0m-103.9   \u001b[0m | \u001b[0m0.9878   \u001b[0m | \u001b[0m-5.231   \u001b[0m |\n"
     ]
    },
    {
     "name": "stderr",
     "output_type": "stream",
     "text": [
      "Running for 2,000 iterations: 100%|██████████| 2000/2000 [00:04<00:00, 461.94it/s]\n"
     ]
    },
    {
     "name": "stdout",
     "output_type": "stream",
     "text": [
      "| \u001b[0m187      \u001b[0m | \u001b[0m-59.33   \u001b[0m | \u001b[0m0.7665   \u001b[0m | \u001b[0m-0.3812  \u001b[0m |\n"
     ]
    },
    {
     "name": "stderr",
     "output_type": "stream",
     "text": [
      "Running for 2,000 iterations: 100%|██████████| 2000/2000 [00:03<00:00, 504.17it/s]\n"
     ]
    },
    {
     "name": "stdout",
     "output_type": "stream",
     "text": [
      "| \u001b[0m188      \u001b[0m | \u001b[0m-104.0   \u001b[0m | \u001b[0m0.1      \u001b[0m | \u001b[0m-5.37    \u001b[0m |\n"
     ]
    },
    {
     "name": "stderr",
     "output_type": "stream",
     "text": [
      "Running for 2,000 iterations: 100%|██████████| 2000/2000 [00:03<00:00, 511.07it/s]\n"
     ]
    },
    {
     "name": "stdout",
     "output_type": "stream",
     "text": [
      "| \u001b[0m189      \u001b[0m | \u001b[0m-104.0   \u001b[0m | \u001b[0m0.9973   \u001b[0m | \u001b[0m-6.868   \u001b[0m |\n"
     ]
    },
    {
     "name": "stderr",
     "output_type": "stream",
     "text": [
      "Running for 2,000 iterations: 100%|██████████| 2000/2000 [00:04<00:00, 479.98it/s]\n"
     ]
    },
    {
     "name": "stdout",
     "output_type": "stream",
     "text": [
      "| \u001b[0m190      \u001b[0m | \u001b[0m-103.4   \u001b[0m | \u001b[0m0.1044   \u001b[0m | \u001b[0m-2.467   \u001b[0m |\n"
     ]
    },
    {
     "name": "stderr",
     "output_type": "stream",
     "text": [
      "Running for 2,000 iterations: 100%|██████████| 2000/2000 [00:04<00:00, 440.36it/s]\n"
     ]
    },
    {
     "name": "stdout",
     "output_type": "stream",
     "text": [
      "| \u001b[0m191      \u001b[0m | \u001b[0m-76.48   \u001b[0m | \u001b[0m0.9733   \u001b[0m | \u001b[0m-0.8998  \u001b[0m |\n"
     ]
    },
    {
     "name": "stderr",
     "output_type": "stream",
     "text": [
      "Running for 2,000 iterations: 100%|██████████| 2000/2000 [00:04<00:00, 465.24it/s]\n"
     ]
    },
    {
     "name": "stdout",
     "output_type": "stream",
     "text": [
      "| \u001b[0m192      \u001b[0m | \u001b[0m-64.92   \u001b[0m | \u001b[0m0.4886   \u001b[0m | \u001b[0m-1.79    \u001b[0m |\n"
     ]
    },
    {
     "name": "stderr",
     "output_type": "stream",
     "text": [
      "Running for 2,000 iterations: 100%|██████████| 2000/2000 [00:03<00:00, 510.26it/s]\n"
     ]
    },
    {
     "name": "stdout",
     "output_type": "stream",
     "text": [
      "| \u001b[0m193      \u001b[0m | \u001b[0m-104.0   \u001b[0m | \u001b[0m0.9976   \u001b[0m | \u001b[0m-6.369   \u001b[0m |\n"
     ]
    },
    {
     "name": "stderr",
     "output_type": "stream",
     "text": [
      "Running for 2,000 iterations: 100%|██████████| 2000/2000 [00:04<00:00, 488.14it/s]\n"
     ]
    },
    {
     "name": "stdout",
     "output_type": "stream",
     "text": [
      "| \u001b[0m194      \u001b[0m | \u001b[0m-103.9   \u001b[0m | \u001b[0m0.1062   \u001b[0m | \u001b[0m-3.792   \u001b[0m |\n"
     ]
    },
    {
     "name": "stderr",
     "output_type": "stream",
     "text": [
      "Running for 2,000 iterations: 100%|██████████| 2000/2000 [00:03<00:00, 506.83it/s]\n"
     ]
    },
    {
     "name": "stdout",
     "output_type": "stream",
     "text": [
      "| \u001b[0m195      \u001b[0m | \u001b[0m-103.6   \u001b[0m | \u001b[0m0.9893   \u001b[0m | \u001b[0m-4.529   \u001b[0m |\n"
     ]
    },
    {
     "name": "stderr",
     "output_type": "stream",
     "text": [
      "Running for 2,000 iterations: 100%|██████████| 2000/2000 [00:04<00:00, 492.74it/s]\n"
     ]
    },
    {
     "name": "stdout",
     "output_type": "stream",
     "text": [
      "| \u001b[0m196      \u001b[0m | \u001b[0m-104.0   \u001b[0m | \u001b[0m0.6814   \u001b[0m | \u001b[0m-6.396   \u001b[0m |\n"
     ]
    },
    {
     "name": "stderr",
     "output_type": "stream",
     "text": [
      "Running for 2,000 iterations: 100%|██████████| 2000/2000 [00:04<00:00, 424.12it/s]\n"
     ]
    },
    {
     "name": "stdout",
     "output_type": "stream",
     "text": [
      "| \u001b[0m197      \u001b[0m | \u001b[0m-95.49   \u001b[0m | \u001b[0m0.9963   \u001b[0m | \u001b[0m-1.536   \u001b[0m |\n"
     ]
    },
    {
     "name": "stderr",
     "output_type": "stream",
     "text": [
      "Running for 2,000 iterations: 100%|██████████| 2000/2000 [00:04<00:00, 493.43it/s]\n"
     ]
    },
    {
     "name": "stdout",
     "output_type": "stream",
     "text": [
      "| \u001b[0m198      \u001b[0m | \u001b[0m-104.0   \u001b[0m | \u001b[0m0.4557   \u001b[0m | \u001b[0m-5.253   \u001b[0m |\n"
     ]
    },
    {
     "name": "stderr",
     "output_type": "stream",
     "text": [
      "Running for 2,000 iterations: 100%|██████████| 2000/2000 [00:03<00:00, 505.39it/s]\n"
     ]
    },
    {
     "name": "stdout",
     "output_type": "stream",
     "text": [
      "| \u001b[0m199      \u001b[0m | \u001b[0m-104.0   \u001b[0m | \u001b[0m0.3784   \u001b[0m | \u001b[0m-6.386   \u001b[0m |\n"
     ]
    },
    {
     "name": "stderr",
     "output_type": "stream",
     "text": [
      "Running for 2,000 iterations: 100%|██████████| 2000/2000 [00:04<00:00, 438.89it/s]\n"
     ]
    },
    {
     "name": "stdout",
     "output_type": "stream",
     "text": [
      "| \u001b[0m200      \u001b[0m | \u001b[0m-114.0   \u001b[0m | \u001b[0m0.9999   \u001b[0m | \u001b[0m-5.466   \u001b[0m |\n"
     ]
    },
    {
     "name": "stderr",
     "output_type": "stream",
     "text": [
      "Running for 2,000 iterations: 100%|██████████| 2000/2000 [00:04<00:00, 463.16it/s]\n"
     ]
    },
    {
     "name": "stdout",
     "output_type": "stream",
     "text": [
      "| \u001b[0m201      \u001b[0m | \u001b[0m-60.39   \u001b[0m | \u001b[0m0.6203   \u001b[0m | \u001b[0m-1.85    \u001b[0m |\n"
     ]
    },
    {
     "name": "stderr",
     "output_type": "stream",
     "text": [
      "Running for 2,000 iterations: 100%|██████████| 2000/2000 [00:04<00:00, 494.68it/s]\n"
     ]
    },
    {
     "name": "stdout",
     "output_type": "stream",
     "text": [
      "| \u001b[0m202      \u001b[0m | \u001b[0m-104.0   \u001b[0m | \u001b[0m0.7502   \u001b[0m | \u001b[0m-5.999   \u001b[0m |\n"
     ]
    },
    {
     "name": "stderr",
     "output_type": "stream",
     "text": [
      "Running for 2,000 iterations: 100%|██████████| 2000/2000 [00:04<00:00, 428.34it/s]\n"
     ]
    },
    {
     "name": "stdout",
     "output_type": "stream",
     "text": [
      "| \u001b[0m203      \u001b[0m | \u001b[0m-104.8   \u001b[0m | \u001b[0m0.9992   \u001b[0m | \u001b[0m-0.3221  \u001b[0m |\n"
     ]
    },
    {
     "name": "stderr",
     "output_type": "stream",
     "text": [
      "Running for 2,000 iterations: 100%|██████████| 2000/2000 [00:03<00:00, 510.42it/s]\n"
     ]
    },
    {
     "name": "stdout",
     "output_type": "stream",
     "text": [
      "| \u001b[0m204      \u001b[0m | \u001b[0m-104.0   \u001b[0m | \u001b[0m0.9892   \u001b[0m | \u001b[0m-5.795   \u001b[0m |\n"
     ]
    },
    {
     "name": "stderr",
     "output_type": "stream",
     "text": [
      "Running for 2,000 iterations: 100%|██████████| 2000/2000 [00:04<00:00, 419.86it/s]\n"
     ]
    },
    {
     "name": "stdout",
     "output_type": "stream",
     "text": [
      "| \u001b[0m205      \u001b[0m | \u001b[0m-98.89   \u001b[0m | \u001b[0m0.9975   \u001b[0m | \u001b[0m-1.892   \u001b[0m |\n"
     ]
    },
    {
     "name": "stderr",
     "output_type": "stream",
     "text": [
      "Running for 2,000 iterations: 100%|██████████| 2000/2000 [00:04<00:00, 475.67it/s]\n"
     ]
    },
    {
     "name": "stdout",
     "output_type": "stream",
     "text": [
      "| \u001b[0m206      \u001b[0m | \u001b[0m-102.9   \u001b[0m | \u001b[0m0.1043   \u001b[0m | \u001b[0m-2.202   \u001b[0m |\n"
     ]
    },
    {
     "name": "stderr",
     "output_type": "stream",
     "text": [
      "Running for 2,000 iterations: 100%|██████████| 2000/2000 [00:04<00:00, 493.63it/s]\n"
     ]
    },
    {
     "name": "stdout",
     "output_type": "stream",
     "text": [
      "| \u001b[0m207      \u001b[0m | \u001b[0m-104.0   \u001b[0m | \u001b[0m0.1038   \u001b[0m | \u001b[0m-4.212   \u001b[0m |\n"
     ]
    },
    {
     "name": "stderr",
     "output_type": "stream",
     "text": [
      "Running for 2,000 iterations: 100%|██████████| 2000/2000 [00:03<00:00, 510.93it/s]\n"
     ]
    },
    {
     "name": "stdout",
     "output_type": "stream",
     "text": [
      "| \u001b[0m208      \u001b[0m | \u001b[0m-104.0   \u001b[0m | \u001b[0m0.1      \u001b[0m | \u001b[0m-6.724   \u001b[0m |\n"
     ]
    },
    {
     "name": "stderr",
     "output_type": "stream",
     "text": [
      "Running for 2,000 iterations: 100%|██████████| 2000/2000 [00:03<00:00, 508.93it/s]\n"
     ]
    },
    {
     "name": "stdout",
     "output_type": "stream",
     "text": [
      "| \u001b[0m209      \u001b[0m | \u001b[0m-104.0   \u001b[0m | \u001b[0m0.1011   \u001b[0m | \u001b[0m-5.89    \u001b[0m |\n"
     ]
    },
    {
     "name": "stderr",
     "output_type": "stream",
     "text": [
      "Running for 2,000 iterations: 100%|██████████| 2000/2000 [00:04<00:00, 477.80it/s]\n"
     ]
    },
    {
     "name": "stdout",
     "output_type": "stream",
     "text": [
      "| \u001b[0m210      \u001b[0m | \u001b[0m-103.9   \u001b[0m | \u001b[0m0.5965   \u001b[0m | \u001b[0m-3.604   \u001b[0m |\n"
     ]
    },
    {
     "name": "stderr",
     "output_type": "stream",
     "text": [
      "Running for 2,000 iterations: 100%|██████████| 2000/2000 [00:04<00:00, 415.73it/s]\n"
     ]
    },
    {
     "name": "stdout",
     "output_type": "stream",
     "text": [
      "| \u001b[0m211      \u001b[0m | \u001b[0m-112.6   \u001b[0m | \u001b[0m1.0      \u001b[0m | \u001b[0m-4.138   \u001b[0m |\n"
     ]
    },
    {
     "name": "stderr",
     "output_type": "stream",
     "text": [
      "Running for 2,000 iterations: 100%|██████████| 2000/2000 [00:04<00:00, 463.57it/s]\n"
     ]
    },
    {
     "name": "stdout",
     "output_type": "stream",
     "text": [
      "| \u001b[0m212      \u001b[0m | \u001b[0m-59.36   \u001b[0m | \u001b[0m0.7194   \u001b[0m | \u001b[0m-0.2172  \u001b[0m |\n"
     ]
    },
    {
     "name": "stderr",
     "output_type": "stream",
     "text": [
      "Running for 2,000 iterations: 100%|██████████| 2000/2000 [00:04<00:00, 480.98it/s]\n"
     ]
    },
    {
     "name": "stdout",
     "output_type": "stream",
     "text": [
      "| \u001b[0m213      \u001b[0m | \u001b[0m-103.5   \u001b[0m | \u001b[0m0.6208   \u001b[0m | \u001b[0m-2.922   \u001b[0m |\n"
     ]
    },
    {
     "name": "stderr",
     "output_type": "stream",
     "text": [
      "Running for 2,000 iterations: 100%|██████████| 2000/2000 [00:04<00:00, 413.20it/s]\n"
     ]
    },
    {
     "name": "stdout",
     "output_type": "stream",
     "text": [
      "| \u001b[0m214      \u001b[0m | \u001b[0m-109.9   \u001b[0m | \u001b[0m0.9998   \u001b[0m | \u001b[0m-2.069   \u001b[0m |\n"
     ]
    },
    {
     "name": "stderr",
     "output_type": "stream",
     "text": [
      "Running for 2,000 iterations: 100%|██████████| 2000/2000 [00:04<00:00, 468.12it/s]\n"
     ]
    },
    {
     "name": "stdout",
     "output_type": "stream",
     "text": [
      "| \u001b[0m215      \u001b[0m | \u001b[0m-586.7   \u001b[0m | \u001b[0m0.1012   \u001b[0m | \u001b[0m-1.247   \u001b[0m |\n"
     ]
    },
    {
     "name": "stderr",
     "output_type": "stream",
     "text": [
      "Running for 2,000 iterations: 100%|██████████| 2000/2000 [00:04<00:00, 499.21it/s]\n"
     ]
    },
    {
     "name": "stdout",
     "output_type": "stream",
     "text": [
      "| \u001b[0m216      \u001b[0m | \u001b[0m-104.0   \u001b[0m | \u001b[0m0.711    \u001b[0m | \u001b[0m-6.264   \u001b[0m |\n"
     ]
    },
    {
     "name": "stderr",
     "output_type": "stream",
     "text": [
      "Running for 2,000 iterations: 100%|██████████| 2000/2000 [00:04<00:00, 468.12it/s]\n"
     ]
    },
    {
     "name": "stdout",
     "output_type": "stream",
     "text": [
      "| \u001b[0m217      \u001b[0m | \u001b[0m-1e+03   \u001b[0m | \u001b[0m0.2663   \u001b[0m | \u001b[0m-1.308   \u001b[0m |\n"
     ]
    },
    {
     "name": "stderr",
     "output_type": "stream",
     "text": [
      "Running for 2,000 iterations: 100%|██████████| 2000/2000 [00:04<00:00, 462.03it/s]\n"
     ]
    },
    {
     "name": "stdout",
     "output_type": "stream",
     "text": [
      "| \u001b[0m218      \u001b[0m | \u001b[0m-59.68   \u001b[0m | \u001b[0m0.6758   \u001b[0m | \u001b[0m-2.387   \u001b[0m |\n"
     ]
    },
    {
     "name": "stderr",
     "output_type": "stream",
     "text": [
      "Running for 2,000 iterations: 100%|██████████| 2000/2000 [00:04<00:00, 462.15it/s]\n"
     ]
    },
    {
     "name": "stdout",
     "output_type": "stream",
     "text": [
      "| \u001b[0m219      \u001b[0m | \u001b[0m-59.36   \u001b[0m | \u001b[0m0.7682   \u001b[0m | \u001b[0m-0.2863  \u001b[0m |\n"
     ]
    },
    {
     "name": "stderr",
     "output_type": "stream",
     "text": [
      "Running for 2,000 iterations: 100%|██████████| 2000/2000 [00:04<00:00, 463.04it/s]\n"
     ]
    },
    {
     "name": "stdout",
     "output_type": "stream",
     "text": [
      "| \u001b[0m220      \u001b[0m | \u001b[0m-59.41   \u001b[0m | \u001b[0m0.7155   \u001b[0m | \u001b[0m-1.818   \u001b[0m |\n"
     ]
    },
    {
     "name": "stderr",
     "output_type": "stream",
     "text": [
      "Running for 2,000 iterations: 100%|██████████| 2000/2000 [00:04<00:00, 462.04it/s]\n"
     ]
    },
    {
     "name": "stdout",
     "output_type": "stream",
     "text": [
      "| \u001b[0m221      \u001b[0m | \u001b[0m-59.56   \u001b[0m | \u001b[0m0.7799   \u001b[0m | \u001b[0m-0.6857  \u001b[0m |\n"
     ]
    },
    {
     "name": "stderr",
     "output_type": "stream",
     "text": [
      "Running for 2,000 iterations: 100%|██████████| 2000/2000 [00:04<00:00, 458.47it/s]\n"
     ]
    },
    {
     "name": "stdout",
     "output_type": "stream",
     "text": [
      "| \u001b[0m222      \u001b[0m | \u001b[0m-59.95   \u001b[0m | \u001b[0m0.8077   \u001b[0m | \u001b[0m-1.863   \u001b[0m |\n"
     ]
    },
    {
     "name": "stderr",
     "output_type": "stream",
     "text": [
      "Running for 2,000 iterations: 100%|██████████| 2000/2000 [00:04<00:00, 463.78it/s]\n"
     ]
    },
    {
     "name": "stdout",
     "output_type": "stream",
     "text": [
      "| \u001b[0m223      \u001b[0m | \u001b[0m-59.99   \u001b[0m | \u001b[0m0.6482   \u001b[0m | \u001b[0m-0.6613  \u001b[0m |\n"
     ]
    },
    {
     "name": "stderr",
     "output_type": "stream",
     "text": [
      "Running for 2,000 iterations: 100%|██████████| 2000/2000 [00:04<00:00, 464.01it/s]\n"
     ]
    },
    {
     "name": "stdout",
     "output_type": "stream",
     "text": [
      "| \u001b[0m224      \u001b[0m | \u001b[0m-61.06   \u001b[0m | \u001b[0m0.5939   \u001b[0m | \u001b[0m-0.7534  \u001b[0m |\n"
     ]
    },
    {
     "name": "stderr",
     "output_type": "stream",
     "text": [
      "Running for 2,000 iterations: 100%|██████████| 2000/2000 [00:04<00:00, 460.45it/s]\n"
     ]
    },
    {
     "name": "stdout",
     "output_type": "stream",
     "text": [
      "| \u001b[0m225      \u001b[0m | \u001b[0m-60.72   \u001b[0m | \u001b[0m0.8339   \u001b[0m | \u001b[0m-1.078   \u001b[0m |\n"
     ]
    },
    {
     "name": "stderr",
     "output_type": "stream",
     "text": [
      "Running for 2,000 iterations: 100%|██████████| 2000/2000 [00:04<00:00, 461.11it/s]\n"
     ]
    },
    {
     "name": "stdout",
     "output_type": "stream",
     "text": [
      "| \u001b[0m226      \u001b[0m | \u001b[0m-59.34   \u001b[0m | \u001b[0m0.7668   \u001b[0m | \u001b[0m-2.469   \u001b[0m |\n"
     ]
    },
    {
     "name": "stderr",
     "output_type": "stream",
     "text": [
      "Running for 2,000 iterations: 100%|██████████| 2000/2000 [00:04<00:00, 463.29it/s]\n"
     ]
    },
    {
     "name": "stdout",
     "output_type": "stream",
     "text": [
      "| \u001b[0m227      \u001b[0m | \u001b[0m-59.46   \u001b[0m | \u001b[0m0.6943   \u001b[0m | \u001b[0m-0.4592  \u001b[0m |\n"
     ]
    },
    {
     "name": "stderr",
     "output_type": "stream",
     "text": [
      "Running for 2,000 iterations: 100%|██████████| 2000/2000 [00:04<00:00, 463.93it/s]\n"
     ]
    },
    {
     "name": "stdout",
     "output_type": "stream",
     "text": [
      "| \u001b[0m228      \u001b[0m | \u001b[0m-60.61   \u001b[0m | \u001b[0m0.6133   \u001b[0m | \u001b[0m-0.5548  \u001b[0m |\n"
     ]
    },
    {
     "name": "stderr",
     "output_type": "stream",
     "text": [
      "Running for 2,000 iterations: 100%|██████████| 2000/2000 [00:04<00:00, 461.22it/s]\n"
     ]
    },
    {
     "name": "stdout",
     "output_type": "stream",
     "text": [
      "| \u001b[0m229      \u001b[0m | \u001b[0m-59.57   \u001b[0m | \u001b[0m0.6971   \u001b[0m | \u001b[0m-0.9962  \u001b[0m |\n"
     ]
    },
    {
     "name": "stderr",
     "output_type": "stream",
     "text": [
      "Running for 2,000 iterations: 100%|██████████| 2000/2000 [00:04<00:00, 461.21it/s]\n"
     ]
    },
    {
     "name": "stdout",
     "output_type": "stream",
     "text": [
      "| \u001b[0m230      \u001b[0m | \u001b[0m-59.43   \u001b[0m | \u001b[0m0.7187   \u001b[0m | \u001b[0m-0.885   \u001b[0m |\n"
     ]
    },
    {
     "name": "stderr",
     "output_type": "stream",
     "text": [
      "Running for 2,000 iterations: 100%|██████████| 2000/2000 [00:04<00:00, 466.27it/s]\n"
     ]
    },
    {
     "name": "stdout",
     "output_type": "stream",
     "text": [
      "| \u001b[0m231      \u001b[0m | \u001b[0m-61.2    \u001b[0m | \u001b[0m0.5869   \u001b[0m | \u001b[0m-2.261   \u001b[0m |\n"
     ]
    },
    {
     "name": "stderr",
     "output_type": "stream",
     "text": [
      "Running for 2,000 iterations: 100%|██████████| 2000/2000 [00:04<00:00, 462.21it/s]\n"
     ]
    },
    {
     "name": "stdout",
     "output_type": "stream",
     "text": [
      "| \u001b[0m232      \u001b[0m | \u001b[0m-60.42   \u001b[0m | \u001b[0m0.6213   \u001b[0m | \u001b[0m-0.862   \u001b[0m |\n"
     ]
    },
    {
     "name": "stderr",
     "output_type": "stream",
     "text": [
      "Running for 2,000 iterations: 100%|██████████| 2000/2000 [00:04<00:00, 462.70it/s]\n"
     ]
    },
    {
     "name": "stdout",
     "output_type": "stream",
     "text": [
      "| \u001b[0m233      \u001b[0m | \u001b[0m-59.71   \u001b[0m | \u001b[0m0.6807   \u001b[0m | \u001b[0m-1.622   \u001b[0m |\n"
     ]
    },
    {
     "name": "stderr",
     "output_type": "stream",
     "text": [
      "Running for 2,000 iterations: 100%|██████████| 2000/2000 [00:04<00:00, 463.73it/s]\n"
     ]
    },
    {
     "name": "stdout",
     "output_type": "stream",
     "text": [
      "| \u001b[0m234      \u001b[0m | \u001b[0m-60.49   \u001b[0m | \u001b[0m0.6146   \u001b[0m | \u001b[0m-2.169   \u001b[0m |\n"
     ]
    },
    {
     "name": "stderr",
     "output_type": "stream",
     "text": [
      "Running for 2,000 iterations: 100%|██████████| 2000/2000 [00:04<00:00, 482.27it/s]\n"
     ]
    },
    {
     "name": "stdout",
     "output_type": "stream",
     "text": [
      "| \u001b[0m235      \u001b[0m | \u001b[0m-104.0   \u001b[0m | \u001b[0m0.6888   \u001b[0m | \u001b[0m-4.425   \u001b[0m |\n"
     ]
    },
    {
     "name": "stderr",
     "output_type": "stream",
     "text": [
      "Running for 2,000 iterations: 100%|██████████| 2000/2000 [00:04<00:00, 461.67it/s]\n"
     ]
    },
    {
     "name": "stdout",
     "output_type": "stream",
     "text": [
      "| \u001b[0m236      \u001b[0m | \u001b[0m-60.33   \u001b[0m | \u001b[0m0.6301   \u001b[0m | \u001b[0m-1.42    \u001b[0m |\n"
     ]
    },
    {
     "name": "stderr",
     "output_type": "stream",
     "text": [
      "Running for 2,000 iterations: 100%|██████████| 2000/2000 [00:04<00:00, 462.10it/s]\n"
     ]
    },
    {
     "name": "stdout",
     "output_type": "stream",
     "text": [
      "| \u001b[0m237      \u001b[0m | \u001b[0m-60.24   \u001b[0m | \u001b[0m0.6337   \u001b[0m | \u001b[0m-1.996   \u001b[0m |\n"
     ]
    },
    {
     "name": "stderr",
     "output_type": "stream",
     "text": [
      "Running for 2,000 iterations: 100%|██████████| 2000/2000 [00:04<00:00, 467.63it/s]\n"
     ]
    },
    {
     "name": "stdout",
     "output_type": "stream",
     "text": [
      "| \u001b[0m238      \u001b[0m | \u001b[0m-62.37   \u001b[0m | \u001b[0m0.5486   \u001b[0m | \u001b[0m-2.076   \u001b[0m |\n"
     ]
    },
    {
     "name": "stderr",
     "output_type": "stream",
     "text": [
      "Running for 2,000 iterations: 100%|██████████| 2000/2000 [00:04<00:00, 457.75it/s]\n"
     ]
    },
    {
     "name": "stdout",
     "output_type": "stream",
     "text": [
      "| \u001b[0m239      \u001b[0m | \u001b[0m-60.12   \u001b[0m | \u001b[0m0.8169   \u001b[0m | \u001b[0m-1.641   \u001b[0m |\n"
     ]
    },
    {
     "name": "stderr",
     "output_type": "stream",
     "text": [
      "Running for 2,000 iterations: 100%|██████████| 2000/2000 [00:04<00:00, 460.47it/s]\n"
     ]
    },
    {
     "name": "stdout",
     "output_type": "stream",
     "text": [
      "| \u001b[0m240      \u001b[0m | \u001b[0m-60.49   \u001b[0m | \u001b[0m0.827    \u001b[0m | \u001b[0m-0.5813  \u001b[0m |\n"
     ]
    },
    {
     "name": "stderr",
     "output_type": "stream",
     "text": [
      "Running for 2,000 iterations: 100%|██████████| 2000/2000 [00:04<00:00, 458.92it/s]\n"
     ]
    },
    {
     "name": "stdout",
     "output_type": "stream",
     "text": [
      "| \u001b[0m241      \u001b[0m | \u001b[0m-59.54   \u001b[0m | \u001b[0m0.7751   \u001b[0m | \u001b[0m-2.028   \u001b[0m |\n"
     ]
    },
    {
     "name": "stderr",
     "output_type": "stream",
     "text": [
      "Running for 2,000 iterations: 100%|██████████| 2000/2000 [00:04<00:00, 423.93it/s]\n"
     ]
    },
    {
     "name": "stdout",
     "output_type": "stream",
     "text": [
      "| \u001b[0m242      \u001b[0m | \u001b[0m-82.3    \u001b[0m | \u001b[0m0.9878   \u001b[0m | \u001b[0m-3.331   \u001b[0m |\n"
     ]
    },
    {
     "name": "stderr",
     "output_type": "stream",
     "text": [
      "Running for 2,000 iterations: 100%|██████████| 2000/2000 [00:04<00:00, 460.46it/s]\n"
     ]
    },
    {
     "name": "stdout",
     "output_type": "stream",
     "text": [
      "| \u001b[0m243      \u001b[0m | \u001b[0m-59.6    \u001b[0m | \u001b[0m0.787    \u001b[0m | \u001b[0m-2.165   \u001b[0m |\n"
     ]
    },
    {
     "name": "stderr",
     "output_type": "stream",
     "text": [
      "Running for 2,000 iterations: 100%|██████████| 2000/2000 [00:04<00:00, 455.99it/s]\n"
     ]
    },
    {
     "name": "stdout",
     "output_type": "stream",
     "text": [
      "| \u001b[0m244      \u001b[0m | \u001b[0m-60.56   \u001b[0m | \u001b[0m0.8313   \u001b[0m | \u001b[0m-2.265   \u001b[0m |\n"
     ]
    },
    {
     "name": "stderr",
     "output_type": "stream",
     "text": [
      "Running for 2,000 iterations: 100%|██████████| 2000/2000 [00:04<00:00, 462.29it/s]\n"
     ]
    },
    {
     "name": "stdout",
     "output_type": "stream",
     "text": [
      "| \u001b[0m245      \u001b[0m | \u001b[0m-59.9    \u001b[0m | \u001b[0m0.6579   \u001b[0m | \u001b[0m-1.191   \u001b[0m |\n"
     ]
    },
    {
     "name": "stderr",
     "output_type": "stream",
     "text": [
      "Running for 2,000 iterations: 100%|██████████| 2000/2000 [00:04<00:00, 424.46it/s]\n"
     ]
    },
    {
     "name": "stdout",
     "output_type": "stream",
     "text": [
      "| \u001b[0m246      \u001b[0m | \u001b[0m-81.72   \u001b[0m | \u001b[0m0.9872   \u001b[0m | \u001b[0m-3.331   \u001b[0m |\n"
     ]
    },
    {
     "name": "stderr",
     "output_type": "stream",
     "text": [
      "Running for 2,000 iterations: 100%|██████████| 2000/2000 [00:04<00:00, 458.94it/s]\n"
     ]
    },
    {
     "name": "stdout",
     "output_type": "stream",
     "text": [
      "| \u001b[0m247      \u001b[0m | \u001b[0m-59.43   \u001b[0m | \u001b[0m0.7658   \u001b[0m | \u001b[0m-1.211   \u001b[0m |\n"
     ]
    },
    {
     "name": "stderr",
     "output_type": "stream",
     "text": [
      "Running for 2,000 iterations: 100%|██████████| 2000/2000 [00:04<00:00, 459.50it/s]\n"
     ]
    },
    {
     "name": "stdout",
     "output_type": "stream",
     "text": [
      "| \u001b[0m248      \u001b[0m | \u001b[0m-59.82   \u001b[0m | \u001b[0m0.8004   \u001b[0m | \u001b[0m-1.338   \u001b[0m |\n"
     ]
    },
    {
     "name": "stderr",
     "output_type": "stream",
     "text": [
      "Running for 2,000 iterations: 100%|██████████| 2000/2000 [00:04<00:00, 498.25it/s]\n"
     ]
    },
    {
     "name": "stdout",
     "output_type": "stream",
     "text": [
      "| \u001b[0m249      \u001b[0m | \u001b[0m-104.0   \u001b[0m | \u001b[0m0.6124   \u001b[0m | \u001b[0m-6.748   \u001b[0m |\n"
     ]
    },
    {
     "name": "stderr",
     "output_type": "stream",
     "text": [
      "Running for 2,000 iterations: 100%|██████████| 2000/2000 [00:04<00:00, 466.13it/s]\n"
     ]
    },
    {
     "name": "stdout",
     "output_type": "stream",
     "text": [
      "| \u001b[0m250      \u001b[0m | \u001b[0m-63.51   \u001b[0m | \u001b[0m0.5141   \u001b[0m | \u001b[0m-1.046   \u001b[0m |\n"
     ]
    },
    {
     "name": "stderr",
     "output_type": "stream",
     "text": [
      "Running for 2,000 iterations: 100%|██████████| 2000/2000 [00:04<00:00, 463.54it/s]\n"
     ]
    },
    {
     "name": "stdout",
     "output_type": "stream",
     "text": [
      "| \u001b[0m251      \u001b[0m | \u001b[0m-60.56   \u001b[0m | \u001b[0m0.6165   \u001b[0m | \u001b[0m-1.058   \u001b[0m |\n"
     ]
    },
    {
     "name": "stderr",
     "output_type": "stream",
     "text": [
      "Running for 2,000 iterations: 100%|██████████| 2000/2000 [00:04<00:00, 452.87it/s]\n"
     ]
    },
    {
     "name": "stdout",
     "output_type": "stream",
     "text": [
      "| \u001b[0m252      \u001b[0m | \u001b[0m-61.26   \u001b[0m | \u001b[0m0.8511   \u001b[0m | \u001b[0m-2.537   \u001b[0m |\n"
     ]
    },
    {
     "name": "stderr",
     "output_type": "stream",
     "text": [
      "Running for 2,000 iterations: 100%|██████████| 2000/2000 [00:04<00:00, 453.69it/s]\n"
     ]
    },
    {
     "name": "stdout",
     "output_type": "stream",
     "text": [
      "| \u001b[0m253      \u001b[0m | \u001b[0m-62.53   \u001b[0m | \u001b[0m0.8719   \u001b[0m | \u001b[0m-1.549   \u001b[0m |\n"
     ]
    },
    {
     "name": "stderr",
     "output_type": "stream",
     "text": [
      "Running for 2,000 iterations: 100%|██████████| 2000/2000 [00:04<00:00, 463.80it/s]\n"
     ]
    },
    {
     "name": "stdout",
     "output_type": "stream",
     "text": [
      "| \u001b[0m254      \u001b[0m | \u001b[0m-62.03   \u001b[0m | \u001b[0m0.558    \u001b[0m | \u001b[0m-1.629   \u001b[0m |\n"
     ]
    },
    {
     "name": "stderr",
     "output_type": "stream",
     "text": [
      "Running for 2,000 iterations: 100%|██████████| 2000/2000 [00:04<00:00, 459.90it/s]\n"
     ]
    },
    {
     "name": "stdout",
     "output_type": "stream",
     "text": [
      "| \u001b[0m255      \u001b[0m | \u001b[0m-63.08   \u001b[0m | \u001b[0m0.8777   \u001b[0m | \u001b[0m-0.412   \u001b[0m |\n"
     ]
    },
    {
     "name": "stderr",
     "output_type": "stream",
     "text": [
      "Running for 2,000 iterations: 100%|██████████| 2000/2000 [00:04<00:00, 475.76it/s]\n"
     ]
    },
    {
     "name": "stdout",
     "output_type": "stream",
     "text": [
      "| \u001b[0m256      \u001b[0m | \u001b[0m-103.4   \u001b[0m | \u001b[0m0.1683   \u001b[0m | \u001b[0m-2.539   \u001b[0m |\n"
     ]
    },
    {
     "name": "stderr",
     "output_type": "stream",
     "text": [
      "Running for 2,000 iterations: 100%|██████████| 2000/2000 [00:04<00:00, 455.11it/s]\n"
     ]
    },
    {
     "name": "stdout",
     "output_type": "stream",
     "text": [
      "| \u001b[0m257      \u001b[0m | \u001b[0m-61.59   \u001b[0m | \u001b[0m0.857    \u001b[0m | \u001b[0m-2.083   \u001b[0m |\n"
     ]
    },
    {
     "name": "stderr",
     "output_type": "stream",
     "text": [
      "Running for 2,000 iterations: 100%|██████████| 2000/2000 [00:04<00:00, 467.49it/s]\n"
     ]
    },
    {
     "name": "stdout",
     "output_type": "stream",
     "text": [
      "| \u001b[0m258      \u001b[0m | \u001b[0m-63.87   \u001b[0m | \u001b[0m0.4988   \u001b[0m | \u001b[0m-0.5732  \u001b[0m |\n"
     ]
    },
    {
     "name": "stderr",
     "output_type": "stream",
     "text": [
      "Running for 2,000 iterations: 100%|██████████| 2000/2000 [00:04<00:00, 464.62it/s]\n"
     ]
    },
    {
     "name": "stdout",
     "output_type": "stream",
     "text": [
      "| \u001b[0m259      \u001b[0m | \u001b[0m-63.77   \u001b[0m | \u001b[0m0.504    \u001b[0m | \u001b[0m-0.9097  \u001b[0m |\n"
     ]
    },
    {
     "name": "stderr",
     "output_type": "stream",
     "text": [
      "Running for 2,000 iterations: 100%|██████████| 2000/2000 [00:04<00:00, 453.07it/s]\n"
     ]
    },
    {
     "name": "stdout",
     "output_type": "stream",
     "text": [
      "| \u001b[0m260      \u001b[0m | \u001b[0m-65.83   \u001b[0m | \u001b[0m0.9077   \u001b[0m | \u001b[0m-1.292   \u001b[0m |\n"
     ]
    },
    {
     "name": "stderr",
     "output_type": "stream",
     "text": [
      "Running for 2,000 iterations: 100%|██████████| 2000/2000 [00:04<00:00, 466.84it/s]\n"
     ]
    },
    {
     "name": "stdout",
     "output_type": "stream",
     "text": [
      "| \u001b[0m261      \u001b[0m | \u001b[0m-59.64   \u001b[0m | \u001b[0m0.6635   \u001b[0m | \u001b[0m-2.62    \u001b[0m |\n"
     ]
    },
    {
     "name": "stderr",
     "output_type": "stream",
     "text": [
      "Running for 2,000 iterations: 100%|██████████| 2000/2000 [00:04<00:00, 467.08it/s]\n"
     ]
    },
    {
     "name": "stdout",
     "output_type": "stream",
     "text": [
      "| \u001b[0m262      \u001b[0m | \u001b[0m-59.19   \u001b[0m | \u001b[0m0.7019   \u001b[0m | \u001b[0m-2.712   \u001b[0m |\n"
     ]
    },
    {
     "name": "stderr",
     "output_type": "stream",
     "text": [
      "Running for 2,000 iterations: 100%|██████████| 2000/2000 [00:04<00:00, 472.73it/s]\n"
     ]
    },
    {
     "name": "stdout",
     "output_type": "stream",
     "text": [
      "| \u001b[0m263      \u001b[0m | \u001b[0m-61.18   \u001b[0m | \u001b[0m0.5714   \u001b[0m | \u001b[0m-2.482   \u001b[0m |\n"
     ]
    },
    {
     "name": "stderr",
     "output_type": "stream",
     "text": [
      "Running for 2,000 iterations: 100%|██████████| 2000/2000 [00:04<00:00, 466.39it/s]\n"
     ]
    },
    {
     "name": "stdout",
     "output_type": "stream",
     "text": [
      "| \u001b[0m264      \u001b[0m | \u001b[0m-61.74   \u001b[0m | \u001b[0m0.5618   \u001b[0m | \u001b[0m-0.268   \u001b[0m |\n"
     ]
    },
    {
     "name": "stderr",
     "output_type": "stream",
     "text": [
      "Running for 2,000 iterations: 100%|██████████| 2000/2000 [00:04<00:00, 467.57it/s]\n"
     ]
    },
    {
     "name": "stdout",
     "output_type": "stream",
     "text": [
      "| \u001b[0m265      \u001b[0m | \u001b[0m-61.57   \u001b[0m | \u001b[0m0.5702   \u001b[0m | \u001b[0m-0.3815  \u001b[0m |\n"
     ]
    },
    {
     "name": "stderr",
     "output_type": "stream",
     "text": [
      "Running for 2,000 iterations: 100%|██████████| 2000/2000 [00:04<00:00, 469.30it/s]\n"
     ]
    },
    {
     "name": "stdout",
     "output_type": "stream",
     "text": [
      "| \u001b[0m266      \u001b[0m | \u001b[0m-63.4    \u001b[0m | \u001b[0m0.4632   \u001b[0m | \u001b[0m-0.05986 \u001b[0m |\n"
     ]
    },
    {
     "name": "stderr",
     "output_type": "stream",
     "text": [
      "Running for 2,000 iterations: 100%|██████████| 2000/2000 [00:04<00:00, 499.05it/s]\n"
     ]
    },
    {
     "name": "stdout",
     "output_type": "stream",
     "text": [
      "| \u001b[0m267      \u001b[0m | \u001b[0m-104.0   \u001b[0m | \u001b[0m0.2126   \u001b[0m | \u001b[0m-5.274   \u001b[0m |\n"
     ]
    },
    {
     "name": "stderr",
     "output_type": "stream",
     "text": [
      "Running for 2,000 iterations: 100%|██████████| 2000/2000 [00:04<00:00, 443.71it/s]\n"
     ]
    },
    {
     "name": "stdout",
     "output_type": "stream",
     "text": [
      "| \u001b[0m268      \u001b[0m | \u001b[0m-69.68   \u001b[0m | \u001b[0m0.9419   \u001b[0m | \u001b[0m-2.279   \u001b[0m |\n"
     ]
    },
    {
     "name": "stderr",
     "output_type": "stream",
     "text": [
      "Running for 2,000 iterations: 100%|██████████| 2000/2000 [00:04<00:00, 432.23it/s]\n"
     ]
    },
    {
     "name": "stdout",
     "output_type": "stream",
     "text": [
      "| \u001b[0m269      \u001b[0m | \u001b[0m-82.48   \u001b[0m | \u001b[0m0.9869   \u001b[0m | \u001b[0m-1.202   \u001b[0m |\n"
     ]
    },
    {
     "name": "stderr",
     "output_type": "stream",
     "text": [
      "Running for 2,000 iterations: 100%|██████████| 2000/2000 [00:04<00:00, 467.55it/s]\n"
     ]
    },
    {
     "name": "stdout",
     "output_type": "stream",
     "text": [
      "| \u001b[0m270      \u001b[0m | \u001b[0m-64.45   \u001b[0m | \u001b[0m0.47     \u001b[0m | \u001b[0m-0.6967  \u001b[0m |\n"
     ]
    },
    {
     "name": "stderr",
     "output_type": "stream",
     "text": [
      "Running for 2,000 iterations: 100%|██████████| 2000/2000 [00:04<00:00, 465.05it/s]\n"
     ]
    },
    {
     "name": "stdout",
     "output_type": "stream",
     "text": [
      "| \u001b[0m271      \u001b[0m | \u001b[0m-67.53   \u001b[0m | \u001b[0m0.4849   \u001b[0m | \u001b[0m-2.306   \u001b[0m |\n"
     ]
    },
    {
     "name": "stderr",
     "output_type": "stream",
     "text": [
      "Running for 2,000 iterations: 100%|██████████| 2000/2000 [00:04<00:00, 468.06it/s]\n"
     ]
    },
    {
     "name": "stdout",
     "output_type": "stream",
     "text": [
      "| \u001b[0m272      \u001b[0m | \u001b[0m-65.19   \u001b[0m | \u001b[0m0.3814   \u001b[0m | \u001b[0m-0.7859  \u001b[0m |\n"
     ]
    },
    {
     "name": "stderr",
     "output_type": "stream",
     "text": [
      "Running for 2,000 iterations: 100%|██████████| 2000/2000 [00:04<00:00, 468.47it/s]\n"
     ]
    },
    {
     "name": "stdout",
     "output_type": "stream",
     "text": [
      "| \u001b[0m273      \u001b[0m | \u001b[0m-859.4   \u001b[0m | \u001b[0m0.2711   \u001b[0m | \u001b[0m-0.7406  \u001b[0m |\n"
     ]
    },
    {
     "name": "stderr",
     "output_type": "stream",
     "text": [
      "Running for 2,000 iterations: 100%|██████████| 2000/2000 [00:04<00:00, 467.98it/s]\n"
     ]
    },
    {
     "name": "stdout",
     "output_type": "stream",
     "text": [
      "| \u001b[0m274      \u001b[0m | \u001b[0m-64.57   \u001b[0m | \u001b[0m0.423    \u001b[0m | \u001b[0m-0.8611  \u001b[0m |\n"
     ]
    },
    {
     "name": "stderr",
     "output_type": "stream",
     "text": [
      "Running for 2,000 iterations: 100%|██████████| 2000/2000 [00:04<00:00, 435.30it/s]\n"
     ]
    },
    {
     "name": "stdout",
     "output_type": "stream",
     "text": [
      "| \u001b[0m275      \u001b[0m | \u001b[0m-74.87   \u001b[0m | \u001b[0m0.9654   \u001b[0m | \u001b[0m-2.664   \u001b[0m |\n"
     ]
    },
    {
     "name": "stderr",
     "output_type": "stream",
     "text": [
      "Running for 2,000 iterations: 100%|██████████| 2000/2000 [00:04<00:00, 425.63it/s]\n"
     ]
    },
    {
     "name": "stdout",
     "output_type": "stream",
     "text": [
      "| \u001b[0m276      \u001b[0m | \u001b[0m-106.3   \u001b[0m | \u001b[0m0.9992   \u001b[0m | \u001b[0m-0.631   \u001b[0m |\n"
     ]
    },
    {
     "name": "stderr",
     "output_type": "stream",
     "text": [
      "Running for 2,000 iterations: 100%|██████████| 2000/2000 [00:04<00:00, 454.97it/s]\n"
     ]
    },
    {
     "name": "stdout",
     "output_type": "stream",
     "text": [
      "| \u001b[0m277      \u001b[0m | \u001b[0m-64.07   \u001b[0m | \u001b[0m0.9057   \u001b[0m | \u001b[0m-2.972   \u001b[0m |\n"
     ]
    },
    {
     "name": "stderr",
     "output_type": "stream",
     "text": [
      "Running for 2,000 iterations: 100%|██████████| 2000/2000 [00:04<00:00, 464.79it/s]\n"
     ]
    },
    {
     "name": "stdout",
     "output_type": "stream",
     "text": [
      "| \u001b[0m278      \u001b[0m | \u001b[0m-63.98   \u001b[0m | \u001b[0m0.5056   \u001b[0m | \u001b[0m-1.472   \u001b[0m |\n"
     ]
    },
    {
     "name": "stderr",
     "output_type": "stream",
     "text": [
      "Running for 2,000 iterations: 100%|██████████| 2000/2000 [00:04<00:00, 463.78it/s]\n"
     ]
    },
    {
     "name": "stdout",
     "output_type": "stream",
     "text": [
      "| \u001b[0m279      \u001b[0m | \u001b[0m-63.36   \u001b[0m | \u001b[0m0.5185   \u001b[0m | \u001b[0m-1.358   \u001b[0m |\n"
     ]
    },
    {
     "name": "stderr",
     "output_type": "stream",
     "text": [
      "Running for 2,000 iterations: 100%|██████████| 2000/2000 [00:04<00:00, 462.82it/s]\n"
     ]
    },
    {
     "name": "stdout",
     "output_type": "stream",
     "text": [
      "| \u001b[0m280      \u001b[0m | \u001b[0m-61.88   \u001b[0m | \u001b[0m0.5611   \u001b[0m | \u001b[0m-1.243   \u001b[0m |\n"
     ]
    },
    {
     "name": "stderr",
     "output_type": "stream",
     "text": [
      "Running for 2,000 iterations: 100%|██████████| 2000/2000 [00:03<00:00, 509.43it/s]\n"
     ]
    },
    {
     "name": "stdout",
     "output_type": "stream",
     "text": [
      "| \u001b[0m281      \u001b[0m | \u001b[0m-103.9   \u001b[0m | \u001b[0m0.9628   \u001b[0m | \u001b[0m-4.537   \u001b[0m |\n"
     ]
    },
    {
     "name": "stderr",
     "output_type": "stream",
     "text": [
      "Running for 2,000 iterations: 100%|██████████| 2000/2000 [00:04<00:00, 470.64it/s]\n"
     ]
    },
    {
     "name": "stdout",
     "output_type": "stream",
     "text": [
      "| \u001b[0m282      \u001b[0m | \u001b[0m-64.84   \u001b[0m | \u001b[0m0.3649   \u001b[0m | \u001b[0m-0.131   \u001b[0m |\n"
     ]
    },
    {
     "name": "stderr",
     "output_type": "stream",
     "text": [
      "Running for 2,000 iterations: 100%|██████████| 2000/2000 [00:04<00:00, 470.88it/s]\n"
     ]
    },
    {
     "name": "stdout",
     "output_type": "stream",
     "text": [
      "| \u001b[0m283      \u001b[0m | \u001b[0m-770.6   \u001b[0m | \u001b[0m0.2717   \u001b[0m | \u001b[0m-0.05574 \u001b[0m |\n"
     ]
    },
    {
     "name": "stderr",
     "output_type": "stream",
     "text": [
      "Running for 2,000 iterations: 100%|██████████| 2000/2000 [00:04<00:00, 470.60it/s]\n"
     ]
    },
    {
     "name": "stdout",
     "output_type": "stream",
     "text": [
      "| \u001b[0m284      \u001b[0m | \u001b[0m-64.14   \u001b[0m | \u001b[0m0.434    \u001b[0m | \u001b[0m-0.1796  \u001b[0m |\n"
     ]
    },
    {
     "name": "stderr",
     "output_type": "stream",
     "text": [
      "Running for 2,000 iterations: 100%|██████████| 2000/2000 [00:04<00:00, 468.56it/s]\n"
     ]
    },
    {
     "name": "stdout",
     "output_type": "stream",
     "text": [
      "| \u001b[0m285      \u001b[0m | \u001b[0m-103.2   \u001b[0m | \u001b[0m0.6934   \u001b[0m | \u001b[0m-2.817   \u001b[0m |\n"
     ]
    },
    {
     "name": "stderr",
     "output_type": "stream",
     "text": [
      "Running for 2,000 iterations: 100%|██████████| 2000/2000 [00:04<00:00, 465.39it/s]\n"
     ]
    },
    {
     "name": "stdout",
     "output_type": "stream",
     "text": [
      "| \u001b[0m286      \u001b[0m | \u001b[0m-67.45   \u001b[0m | \u001b[0m0.4348   \u001b[0m | \u001b[0m-1.955   \u001b[0m |\n"
     ]
    },
    {
     "name": "stderr",
     "output_type": "stream",
     "text": [
      "Running for 2,000 iterations: 100%|██████████| 2000/2000 [00:04<00:00, 411.13it/s]\n"
     ]
    },
    {
     "name": "stdout",
     "output_type": "stream",
     "text": [
      "| \u001b[0m287      \u001b[0m | \u001b[0m-105.7   \u001b[0m | \u001b[0m1.0      \u001b[0m | \u001b[0m0.0      \u001b[0m |\n"
     ]
    },
    {
     "name": "stderr",
     "output_type": "stream",
     "text": [
      "Running for 2,000 iterations: 100%|██████████| 2000/2000 [00:04<00:00, 477.39it/s]\n"
     ]
    },
    {
     "name": "stdout",
     "output_type": "stream",
     "text": [
      "| \u001b[0m288      \u001b[0m | \u001b[0m-103.7   \u001b[0m | \u001b[0m0.8074   \u001b[0m | \u001b[0m-3.103   \u001b[0m |\n"
     ]
    },
    {
     "name": "stderr",
     "output_type": "stream",
     "text": [
      "Running for 2,000 iterations: 100%|██████████| 2000/2000 [00:04<00:00, 471.88it/s]\n"
     ]
    },
    {
     "name": "stdout",
     "output_type": "stream",
     "text": [
      "| \u001b[0m289      \u001b[0m | \u001b[0m-73.71   \u001b[0m | \u001b[0m0.1354   \u001b[0m | \u001b[0m-0.7367  \u001b[0m |\n"
     ]
    },
    {
     "name": "stderr",
     "output_type": "stream",
     "text": [
      "Running for 2,000 iterations: 100%|██████████| 2000/2000 [00:04<00:00, 466.63it/s]\n"
     ]
    },
    {
     "name": "stdout",
     "output_type": "stream",
     "text": [
      "| \u001b[0m290      \u001b[0m | \u001b[0m-68.5    \u001b[0m | \u001b[0m0.3407   \u001b[0m | \u001b[0m-1.861   \u001b[0m |\n"
     ]
    },
    {
     "name": "stderr",
     "output_type": "stream",
     "text": [
      "Running for 2,000 iterations: 100%|██████████| 2000/2000 [00:04<00:00, 458.83it/s]\n"
     ]
    },
    {
     "name": "stdout",
     "output_type": "stream",
     "text": [
      "| \u001b[0m291      \u001b[0m | \u001b[0m-65.96   \u001b[0m | \u001b[0m0.908    \u001b[0m | \u001b[0m-0.2193  \u001b[0m |\n"
     ]
    },
    {
     "name": "stderr",
     "output_type": "stream",
     "text": [
      "Running for 2,000 iterations: 100%|██████████| 2000/2000 [00:04<00:00, 418.73it/s]\n"
     ]
    },
    {
     "name": "stdout",
     "output_type": "stream",
     "text": [
      "| \u001b[0m292      \u001b[0m | \u001b[0m-88.01   \u001b[0m | \u001b[0m0.9936   \u001b[0m | \u001b[0m-2.929   \u001b[0m |\n"
     ]
    },
    {
     "name": "stderr",
     "output_type": "stream",
     "text": [
      "Running for 2,000 iterations: 100%|██████████| 2000/2000 [00:04<00:00, 466.59it/s]\n"
     ]
    },
    {
     "name": "stdout",
     "output_type": "stream",
     "text": [
      "| \u001b[0m293      \u001b[0m | \u001b[0m-101.5   \u001b[0m | \u001b[0m0.2031   \u001b[0m | \u001b[0m-1.877   \u001b[0m |\n"
     ]
    },
    {
     "name": "stderr",
     "output_type": "stream",
     "text": [
      "Running for 2,000 iterations: 100%|██████████| 2000/2000 [00:04<00:00, 472.79it/s]\n"
     ]
    },
    {
     "name": "stdout",
     "output_type": "stream",
     "text": [
      "| \u001b[0m294      \u001b[0m | \u001b[0m-103.2   \u001b[0m | \u001b[0m0.5686   \u001b[0m | \u001b[0m-2.588   \u001b[0m |\n"
     ]
    },
    {
     "name": "stderr",
     "output_type": "stream",
     "text": [
      "Running for 2,000 iterations: 100%|██████████| 2000/2000 [00:04<00:00, 468.84it/s]\n"
     ]
    },
    {
     "name": "stdout",
     "output_type": "stream",
     "text": [
      "| \u001b[0m295      \u001b[0m | \u001b[0m-67.62   \u001b[0m | \u001b[0m0.4603   \u001b[0m | \u001b[0m-2.102   \u001b[0m |\n"
     ]
    },
    {
     "name": "stderr",
     "output_type": "stream",
     "text": [
      "Running for 2,000 iterations: 100%|██████████| 2000/2000 [00:04<00:00, 464.69it/s]\n"
     ]
    },
    {
     "name": "stdout",
     "output_type": "stream",
     "text": [
      "| \u001b[0m296      \u001b[0m | \u001b[0m-65.38   \u001b[0m | \u001b[0m0.4664   \u001b[0m | \u001b[0m-1.682   \u001b[0m |\n"
     ]
    },
    {
     "name": "stderr",
     "output_type": "stream",
     "text": [
      "Running for 2,000 iterations: 100%|██████████| 2000/2000 [00:04<00:00, 470.98it/s]\n"
     ]
    },
    {
     "name": "stdout",
     "output_type": "stream",
     "text": [
      "| \u001b[0m297      \u001b[0m | \u001b[0m-103.1   \u001b[0m | \u001b[0m0.4849   \u001b[0m | \u001b[0m-2.417   \u001b[0m |\n"
     ]
    },
    {
     "name": "stderr",
     "output_type": "stream",
     "text": [
      "Running for 2,000 iterations: 100%|██████████| 2000/2000 [00:04<00:00, 471.42it/s]\n"
     ]
    },
    {
     "name": "stdout",
     "output_type": "stream",
     "text": [
      "| \u001b[0m298      \u001b[0m | \u001b[0m-103.8   \u001b[0m | \u001b[0m0.8738   \u001b[0m | \u001b[0m-3.274   \u001b[0m |\n"
     ]
    },
    {
     "name": "stderr",
     "output_type": "stream",
     "text": [
      "Running for 2,000 iterations: 100%|██████████| 2000/2000 [00:04<00:00, 414.27it/s]\n"
     ]
    },
    {
     "name": "stdout",
     "output_type": "stream",
     "text": [
      "| \u001b[0m299      \u001b[0m | \u001b[0m-110.4   \u001b[0m | \u001b[0m1.0      \u001b[0m | \u001b[0m-3.489   \u001b[0m |\n"
     ]
    },
    {
     "name": "stderr",
     "output_type": "stream",
     "text": [
      "Running for 2,000 iterations: 100%|██████████| 2000/2000 [00:04<00:00, 465.08it/s]"
     ]
    },
    {
     "name": "stdout",
     "output_type": "stream",
     "text": [
      "| \u001b[0m300      \u001b[0m | \u001b[0m-64.76   \u001b[0m | \u001b[0m0.4826   \u001b[0m | \u001b[0m-1.563   \u001b[0m |\n",
      "=================================================\n"
     ]
    },
    {
     "name": "stderr",
     "output_type": "stream",
     "text": [
      "\n"
     ]
    }
   ],
   "source": [
    "aov_lofi_optimizer.maximize(\n",
    "    init_points=150,\n",
    "    n_iter=150,\n",
    ")"
   ]
  },
  {
   "cell_type": "code",
   "execution_count": 43,
   "metadata": {},
   "outputs": [
    {
     "name": "stdout",
     "output_type": "stream",
     "text": [
      "{'target': -59.11098861694336, 'params': {'dynamics_weights': 0.7543918061606835, 'log_init_cov': -0.002955875086337656}}\n"
     ]
    }
   ],
   "source": [
    "print(aov_lofi_optimizer.max)"
   ]
  },
  {
   "attachments": {},
   "cell_type": "markdown",
   "metadata": {},
   "source": [
    "### 3.4.2 Results"
   ]
  },
  {
   "cell_type": "code",
   "execution_count": 44,
   "metadata": {},
   "outputs": [
    {
     "name": "stderr",
     "output_type": "stream",
     "text": [
      "100%|██████████| 2000/2000 [00:55<00:00, 35.78it/s]\n"
     ]
    }
   ],
   "source": [
    "model_dims_nl = [784, 100, 100, 1]\n",
    "tuned_params = {\n",
    "    'init_cov': jnp.power(10, -0.002955875086337656).item(),\n",
    "    'dynamics_weights': 0.7543918061606835,\n",
    "}\n",
    "\n",
    "# Run 10 Iterations\n",
    "keys = jr.split(jr.PRNGKey(0), 10)\n",
    "curr_experiment = lambda key: orfit_experiment(model_dims_nl, key, memory_size=50, **tuned_params, method='generalized_orfit_adaptive_obs_var')\n",
    "aov_lofi_train_rmses, aov_lofi_test_rmses = vmap(curr_experiment)(keys)\n",
    "\n",
    "# Compute mean and std over 10 iterations\n",
    "aov_lofi_train_rmse, aov_lofi_train_std = aov_lofi_train_rmses.mean(axis=0), aov_lofi_train_rmses.std(axis=0)\n",
    "aov_lofi_test_rmse, aov_lofi_test_std = aov_lofi_test_rmses.mean(axis=0), aov_lofi_test_rmses.std(axis=0)"
   ]
  },
  {
   "cell_type": "code",
   "execution_count": 45,
   "metadata": {},
   "outputs": [
    {
     "data": {
      "image/png": "[encoded data removed]",
      "text/plain": [
       "<Figure size 640x480 with 1 Axes>"
      ]
     },
     "metadata": {},
     "output_type": "display_data"
    }
   ],
   "source": [
    "fig, ax = plt.subplots()\n",
    "aov_lofi_result_dict = {\n",
    "    'AOV LoFi Train': {\n",
    "        'rmse': aov_lofi_train_rmse,\n",
    "        'rmse_std': aov_lofi_train_std,\n",
    "        'color': 'g',\n",
    "        'ls': '--',\n",
    "    },\n",
    "    'AOV LoFi Test': {\n",
    "        'rmse': aov_lofi_test_rmse,\n",
    "        'rmse_std': aov_lofi_test_std,\n",
    "        'color': 'g',\n",
    "        'ls': '-',\n",
    "    }\n",
    "}\n",
    "ax = plot_results(ax, aov_lofi_result_dict, 'AOV LoFi Train/Test Error', legend_loc=1)"
   ]
  },
  {
   "attachments": {},
   "cell_type": "markdown",
   "metadata": {},
   "source": [
    "## 3.5 Model Comparison"
   ]
  },
  {
   "cell_type": "code",
   "execution_count": 46,
   "metadata": {},
   "outputs": [],
   "source": [
    "model_comparison_dict = {\n",
    "    **orfit_result_dict,\n",
    "    **nl_orfit_result_dict,\n",
    "    **lofi_result_dict,\n",
    "    **aov_lofi_result_dict,\n",
    "}"
   ]
  },
  {
   "cell_type": "code",
   "execution_count": 47,
   "metadata": {},
   "outputs": [
    {
     "data": {
      "image/png": "[encoded data removed]",
      "text/plain": [
       "<Figure size 640x480 with 1 Axes>"
      ]
     },
     "metadata": {},
     "output_type": "display_data"
    }
   ],
   "source": [
    "fig, ax = plt.subplots()\n",
    "ax = plot_results(ax, model_comparison_dict, 'Train/Test Error', legend_loc=1)"
   ]
  }
 ],
 "metadata": {
  "kernelspec": {
   "display_name": ".rebayes_venv",
   "language": "python",
   "name": "python3"
  },
  "language_info": {
   "codemirror_mode": {
    "name": "ipython",
    "version": 3
   },
   "file_extension": ".py",
   "mimetype": "text/x-python",
   "name": "python",
   "nbconvert_exporter": "python",
   "pygments_lexer": "ipython3",
   "version": "3.8.10"
  },
  "orig_nbformat": 4,
  "vscode": {
   "interpreter": {
    "hash": "ad35740b3185e22b4753a1ebb4c1560c487609a6f8817b9dcdae27806a92006d"
   }
  }
 },
 "nbformat": 4,
 "nbformat_minor": 2
}
