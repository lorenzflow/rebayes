{
 "cells": [
  {
   "cell_type": "code",
   "execution_count": 1,
   "metadata": {},
   "outputs": [
    {
     "name": "stderr",
     "output_type": "stream",
     "text": [
      "/home/peter0414/rebayes/.venv/lib/python3.10/site-packages/tqdm/auto.py:22: TqdmWarning: IProgress not found. Please update jupyter and ipywidgets. See https://ipywidgets.readthedocs.io/en/stable/user_install.html\n",
      "  from .autonotebook import tqdm as notebook_tqdm\n",
      "2023-03-30 03:47:06.604073: W tensorflow/compiler/xla/stream_executor/platform/default/dso_loader.cc:64] Could not load dynamic library 'libnvinfer.so.7'; dlerror: libnvinfer.so.7: cannot open shared object file: No such file or directory; LD_LIBRARY_PATH: :/usr/local/lib\n",
      "2023-03-30 03:47:06.604206: W tensorflow/compiler/xla/stream_executor/platform/default/dso_loader.cc:64] Could not load dynamic library 'libnvinfer_plugin.so.7'; dlerror: libnvinfer_plugin.so.7: cannot open shared object file: No such file or directory; LD_LIBRARY_PATH: :/usr/local/lib\n",
      "2023-03-30 03:47:06.604216: W tensorflow/compiler/tf2tensorrt/utils/py_utils.cc:38] TF-TRT Warning: Cannot dlopen some TensorRT libraries. If you would like to use Nvidia GPU with TensorRT, please make sure the missing libraries mentioned above are installed properly.\n"
     ]
    }
   ],
   "source": [
    "from jax import value_and_grad\n",
    "import jax.numpy as jnp\n",
    "import numpy as np\n",
    "import optax\n",
    "from torch.utils.data import Dataset, DataLoader\n",
    "\n",
    "\n",
    "from rebayes.extended_kalman_filter.dual_ekf import (\n",
    "    make_dual_ekf_estimator,\n",
    "    EKFParams,\n",
    ")\n",
    "from rebayes.dual_base import (\n",
    "    DualRebayesParams, \n",
    "    ObsModel, \n",
    "    dual_rebayes_optimize_scan,\n",
    "    form_tril_matrix,\n",
    ")\n",
    "from rebayes.utils import datasets, utils"
   ]
  },
  {
   "cell_type": "code",
   "execution_count": 2,
   "metadata": {},
   "outputs": [],
   "source": [
    "train, test = datasets.load_1d_synthetic_dataset(500, 200)\n",
    "val, _ = datasets.load_1d_synthetic_dataset(1_000, key=1)\n",
    "\n",
    "X_train, y_train = train\n",
    "X_val, y_val = val\n",
    "X_test, y_test = test"
   ]
  },
  {
   "cell_type": "code",
   "execution_count": 3,
   "metadata": {},
   "outputs": [],
   "source": [
    "class ToyDataset(Dataset):\n",
    "    def __init__(self, X, y):\n",
    "        self.X = X\n",
    "        self.y = y\n",
    "    \n",
    "    def __len__(self):\n",
    "        return self.X.shape[0]\n",
    "    \n",
    "    def __getitem__(self, idx):\n",
    "        return self.X[idx], self.y[idx]\n",
    "\n",
    "dataset = ToyDataset(np.array(X_val), np.array(y_val))\n",
    "dataloader = DataLoader(dataset, batch_size=64, shuffle=True)"
   ]
  },
  {
   "cell_type": "code",
   "execution_count": 4,
   "metadata": {},
   "outputs": [],
   "source": [
    "model_dims = [1, 20, 20, 1,]\n",
    "model, flat_params, _, apply_fn = utils.get_mlp_flattened_params(model_dims)"
   ]
  },
  {
   "cell_type": "code",
   "execution_count": 5,
   "metadata": {},
   "outputs": [],
   "source": [
    "params = DualRebayesParams(\n",
    "    mu0 = flat_params,\n",
    "    eta0 = 1.0,\n",
    ")\n",
    "obs = ObsModel(\n",
    "    emission_mean_function = apply_fn,\n",
    "    emission_cov_function = None,\n",
    ")\n",
    "ekf_params = EKFParams(\n",
    "    method = \"fdekf\",\n",
    "    obs_noise_estimator = \"post\"\n",
    ")\n",
    "estimator = make_dual_ekf_estimator(params, obs, ekf_params)\n",
    "    "
   ]
  },
  {
   "cell_type": "code",
   "execution_count": 6,
   "metadata": {},
   "outputs": [],
   "source": [
    "tx = optax.adam(1e-4)\n",
    "def grad_callback(params, bel, pred_obs, t, x, y, pred_bel, params_bel, update_fn, predict_fn):\n",
    "    C = jnp.atleast_1d(y).shape[0]\n",
    "    \n",
    "    def loss_fn(theta, x, y):\n",
    "        L = form_tril_matrix(theta, C)\n",
    "        R = L @ L.T\n",
    "        new_params = params.replace(obs_noise = R)\n",
    "        new_bel = update_fn(new_params, pred_bel, x, y)\n",
    "        y_pred = predict_fn(new_params, new_bel, x)\n",
    "        \n",
    "        return jnp.sum((y_pred - y)**2)\n",
    "    \n",
    "    theta = params_bel.params\n",
    "    \n",
    "    return value_and_grad(loss_fn)(theta, x, y)\n",
    "    "
   ]
  },
  {
   "cell_type": "code",
   "execution_count": 7,
   "metadata": {},
   "outputs": [],
   "source": [
    "dual_rebayes_optimize_scan(\n",
    "    estimator,\n",
    "    dataloader,\n",
    "    num_epochs=5,\n",
    "    tx=tx,\n",
    "    grad_callback=grad_callback,\n",
    ")"
   ]
  },
  {
   "cell_type": "code",
   "execution_count": null,
   "metadata": {},
   "outputs": [],
   "source": []
  }
 ],
 "metadata": {
  "kernelspec": {
   "display_name": ".venv",
   "language": "python",
   "name": "python3"
  },
  "language_info": {
   "codemirror_mode": {
    "name": "ipython",
    "version": 3
   },
   "file_extension": ".py",
   "mimetype": "text/x-python",
   "name": "python",
   "nbconvert_exporter": "python",
   "pygments_lexer": "ipython3",
   "version": "3.10.0"
  },
  "orig_nbformat": 4
 },
 "nbformat": 4,
 "nbformat_minor": 2
}
